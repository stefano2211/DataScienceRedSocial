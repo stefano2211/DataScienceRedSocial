{
  "nbformat": 4,
  "nbformat_minor": 0,
  "metadata": {
    "colab": {
      "provenance": [],
      "authorship_tag": "ABX9TyMOgcVfzvpgb7govW2sHbpg",
      "include_colab_link": true
    },
    "kernelspec": {
      "name": "python3",
      "display_name": "Python 3"
    },
    "language_info": {
      "name": "python"
    }
  },
  "cells": [
    {
      "cell_type": "markdown",
      "metadata": {
        "id": "view-in-github",
        "colab_type": "text"
      },
      "source": [
        "<a href=\"https://colab.research.google.com/github/stefano2211/DataScienceRedSocial/blob/main/HandDigitalScore.ipynb\" target=\"_parent\"><img src=\"https://colab.research.google.com/assets/colab-badge.svg\" alt=\"Open In Colab\"/></a>"
      ]
    },
    {
      "cell_type": "markdown",
      "source": [
        "#Import Package"
      ],
      "metadata": {
        "id": "lrUx7BDjsIVN"
      }
    },
    {
      "cell_type": "code",
      "execution_count": null,
      "metadata": {
        "id": "6PW3Ynnkr31L"
      },
      "outputs": [],
      "source": [
        "import pandas as pd\n",
        "import numpy as np\n",
        "import matplotlib.pyplot as plt\n",
        "import seaborn as sns\n",
        "import plotly.express as px "
      ]
    },
    {
      "cell_type": "markdown",
      "source": [
        "#Loading Data"
      ],
      "metadata": {
        "id": "DD1cdhV8sN_1"
      }
    },
    {
      "cell_type": "code",
      "source": [
        "data = pd.read_csv('https://docs.google.com/spreadsheets/d/e/2PACX-1vQAsN3C7Y6y2VsRJUN97GBCiTRl4LUSIdQWlQO8yi8TMgyaqPaZyFNAMe7nWCC_A8zRPMLx03E__zYm/pub?output=csv')\n",
        "data2 = pd.read_csv('https://docs.google.com/spreadsheets/d/e/2PACX-1vSwzYWXsP22HLxVCIsJPlBvoIEnUIQH_Z9ZADIveKfQUO0XMzRM9IurGettvbndDnPWc61wR7-Pr77V/pub?gid=1694831772&single=true&output=csv')"
      ],
      "metadata": {
        "id": "NRFdkfZAv6Iq"
      },
      "execution_count": null,
      "outputs": []
    },
    {
      "cell_type": "markdown",
      "source": [
        "#Data Exploratory"
      ],
      "metadata": {
        "id": "HBUSImgusY_0"
      }
    },
    {
      "cell_type": "code",
      "source": [
        "data.head()"
      ],
      "metadata": {
        "colab": {
          "base_uri": "https://localhost:8080/",
          "height": 300
        },
        "id": "1_VaSLhJKPAZ",
        "outputId": "722072ee-a9bd-431d-e47c-ee69de1514fc"
      },
      "execution_count": null,
      "outputs": [
        {
          "output_type": "execute_result",
          "data": {
            "text/plain": [
              "          ID active ad_source  age   age__years_  aircall_last_call_at  \\\n",
              "0  105885551    NaN  Facebook  NaN  1.133107e+12  2023-02-13T22:26:38Z   \n",
              "1  131353154    NaN  Facebook  NaN  2.209901e+12  2023-02-27T20:04:34Z   \n",
              "2  134486201    NaN  Facebook  NaN  1.396311e+12                   NaN   \n",
              "3  133194801    NaN       NaN  NaN  3.692851e+08                   NaN   \n",
              "4    5621401    NaN  Facebook  NaN           NaN                   NaN   \n",
              "\n",
              "  appointment_time are_you_available_full_time__40_hours_per_week__  \\\n",
              "0              NaN                                              NaN   \n",
              "1              NaN                                              NaN   \n",
              "2              NaN                                              NaN   \n",
              "3              NaN                                              NaN   \n",
              "4              NaN                                              NaN   \n",
              "\n",
              "  are_you_willing_to_put_aside_any_conflicting_beliefs_if_they_don_t_align_with_dr__pompa_s_teachings  \\\n",
              "0                                                NaN                                                    \n",
              "1                                                NaN                                                    \n",
              "2                                                NaN                                                    \n",
              "3                                                NaN                                                    \n",
              "4                                                NaN                                                    \n",
              "\n",
              "  are_you_willing_to_take_a_stipend__training_pay__while_undergoing_training_until_you_begin_to_build  \\\n",
              "0                                                NaN                                                    \n",
              "1                                                NaN                                                    \n",
              "2                                                NaN                                                    \n",
              "3                                                NaN                                                    \n",
              "4                                                NaN                                                    \n",
              "\n",
              "   ...  calendly_answer_10  hs_lifecyclestage_other_date  website  \\\n",
              "0  ...                 NaN                           NaN      NaN   \n",
              "1  ...                 NaN                           NaN      NaN   \n",
              "2  ...                 NaN                           NaN      NaN   \n",
              "3  ...                 NaN                           NaN      NaN   \n",
              "4  ...                 NaN                           NaN      NaN   \n",
              "\n",
              "  numemployees annualrevenue industry associatedcompanyid  \\\n",
              "0          NaN           NaN      NaN                 NaN   \n",
              "1          NaN           NaN      NaN                 NaN   \n",
              "2          NaN           NaN      NaN                 NaN   \n",
              "3          NaN           NaN      NaN                 NaN   \n",
              "4          NaN           NaN      NaN                 NaN   \n",
              "\n",
              "  associatedcompanylastupdated hs_predictivecontactscorebucket  \\\n",
              "0                          NaN                             NaN   \n",
              "1                          NaN                             NaN   \n",
              "2                          NaN                             NaN   \n",
              "3                          NaN                             NaN   \n",
              "4                          NaN                             NaN   \n",
              "\n",
              "   hs_predictivecontactscore  \n",
              "0                        NaN  \n",
              "1                        NaN  \n",
              "2                        NaN  \n",
              "3                        NaN  \n",
              "4                        NaN  \n",
              "\n",
              "[5 rows x 465 columns]"
            ],
            "text/html": [
              "\n",
              "  <div id=\"df-89605898-3997-45d9-9cdc-02cd65e6ccee\">\n",
              "    <div class=\"colab-df-container\">\n",
              "      <div>\n",
              "<style scoped>\n",
              "    .dataframe tbody tr th:only-of-type {\n",
              "        vertical-align: middle;\n",
              "    }\n",
              "\n",
              "    .dataframe tbody tr th {\n",
              "        vertical-align: top;\n",
              "    }\n",
              "\n",
              "    .dataframe thead th {\n",
              "        text-align: right;\n",
              "    }\n",
              "</style>\n",
              "<table border=\"1\" class=\"dataframe\">\n",
              "  <thead>\n",
              "    <tr style=\"text-align: right;\">\n",
              "      <th></th>\n",
              "      <th>ID</th>\n",
              "      <th>active</th>\n",
              "      <th>ad_source</th>\n",
              "      <th>age</th>\n",
              "      <th>age__years_</th>\n",
              "      <th>aircall_last_call_at</th>\n",
              "      <th>appointment_time</th>\n",
              "      <th>are_you_available_full_time__40_hours_per_week__</th>\n",
              "      <th>are_you_willing_to_put_aside_any_conflicting_beliefs_if_they_don_t_align_with_dr__pompa_s_teachings</th>\n",
              "      <th>are_you_willing_to_take_a_stipend__training_pay__while_undergoing_training_until_you_begin_to_build</th>\n",
              "      <th>...</th>\n",
              "      <th>calendly_answer_10</th>\n",
              "      <th>hs_lifecyclestage_other_date</th>\n",
              "      <th>website</th>\n",
              "      <th>numemployees</th>\n",
              "      <th>annualrevenue</th>\n",
              "      <th>industry</th>\n",
              "      <th>associatedcompanyid</th>\n",
              "      <th>associatedcompanylastupdated</th>\n",
              "      <th>hs_predictivecontactscorebucket</th>\n",
              "      <th>hs_predictivecontactscore</th>\n",
              "    </tr>\n",
              "  </thead>\n",
              "  <tbody>\n",
              "    <tr>\n",
              "      <th>0</th>\n",
              "      <td>105885551</td>\n",
              "      <td>NaN</td>\n",
              "      <td>Facebook</td>\n",
              "      <td>NaN</td>\n",
              "      <td>1.133107e+12</td>\n",
              "      <td>2023-02-13T22:26:38Z</td>\n",
              "      <td>NaN</td>\n",
              "      <td>NaN</td>\n",
              "      <td>NaN</td>\n",
              "      <td>NaN</td>\n",
              "      <td>...</td>\n",
              "      <td>NaN</td>\n",
              "      <td>NaN</td>\n",
              "      <td>NaN</td>\n",
              "      <td>NaN</td>\n",
              "      <td>NaN</td>\n",
              "      <td>NaN</td>\n",
              "      <td>NaN</td>\n",
              "      <td>NaN</td>\n",
              "      <td>NaN</td>\n",
              "      <td>NaN</td>\n",
              "    </tr>\n",
              "    <tr>\n",
              "      <th>1</th>\n",
              "      <td>131353154</td>\n",
              "      <td>NaN</td>\n",
              "      <td>Facebook</td>\n",
              "      <td>NaN</td>\n",
              "      <td>2.209901e+12</td>\n",
              "      <td>2023-02-27T20:04:34Z</td>\n",
              "      <td>NaN</td>\n",
              "      <td>NaN</td>\n",
              "      <td>NaN</td>\n",
              "      <td>NaN</td>\n",
              "      <td>...</td>\n",
              "      <td>NaN</td>\n",
              "      <td>NaN</td>\n",
              "      <td>NaN</td>\n",
              "      <td>NaN</td>\n",
              "      <td>NaN</td>\n",
              "      <td>NaN</td>\n",
              "      <td>NaN</td>\n",
              "      <td>NaN</td>\n",
              "      <td>NaN</td>\n",
              "      <td>NaN</td>\n",
              "    </tr>\n",
              "    <tr>\n",
              "      <th>2</th>\n",
              "      <td>134486201</td>\n",
              "      <td>NaN</td>\n",
              "      <td>Facebook</td>\n",
              "      <td>NaN</td>\n",
              "      <td>1.396311e+12</td>\n",
              "      <td>NaN</td>\n",
              "      <td>NaN</td>\n",
              "      <td>NaN</td>\n",
              "      <td>NaN</td>\n",
              "      <td>NaN</td>\n",
              "      <td>...</td>\n",
              "      <td>NaN</td>\n",
              "      <td>NaN</td>\n",
              "      <td>NaN</td>\n",
              "      <td>NaN</td>\n",
              "      <td>NaN</td>\n",
              "      <td>NaN</td>\n",
              "      <td>NaN</td>\n",
              "      <td>NaN</td>\n",
              "      <td>NaN</td>\n",
              "      <td>NaN</td>\n",
              "    </tr>\n",
              "    <tr>\n",
              "      <th>3</th>\n",
              "      <td>133194801</td>\n",
              "      <td>NaN</td>\n",
              "      <td>NaN</td>\n",
              "      <td>NaN</td>\n",
              "      <td>3.692851e+08</td>\n",
              "      <td>NaN</td>\n",
              "      <td>NaN</td>\n",
              "      <td>NaN</td>\n",
              "      <td>NaN</td>\n",
              "      <td>NaN</td>\n",
              "      <td>...</td>\n",
              "      <td>NaN</td>\n",
              "      <td>NaN</td>\n",
              "      <td>NaN</td>\n",
              "      <td>NaN</td>\n",
              "      <td>NaN</td>\n",
              "      <td>NaN</td>\n",
              "      <td>NaN</td>\n",
              "      <td>NaN</td>\n",
              "      <td>NaN</td>\n",
              "      <td>NaN</td>\n",
              "    </tr>\n",
              "    <tr>\n",
              "      <th>4</th>\n",
              "      <td>5621401</td>\n",
              "      <td>NaN</td>\n",
              "      <td>Facebook</td>\n",
              "      <td>NaN</td>\n",
              "      <td>NaN</td>\n",
              "      <td>NaN</td>\n",
              "      <td>NaN</td>\n",
              "      <td>NaN</td>\n",
              "      <td>NaN</td>\n",
              "      <td>NaN</td>\n",
              "      <td>...</td>\n",
              "      <td>NaN</td>\n",
              "      <td>NaN</td>\n",
              "      <td>NaN</td>\n",
              "      <td>NaN</td>\n",
              "      <td>NaN</td>\n",
              "      <td>NaN</td>\n",
              "      <td>NaN</td>\n",
              "      <td>NaN</td>\n",
              "      <td>NaN</td>\n",
              "      <td>NaN</td>\n",
              "    </tr>\n",
              "  </tbody>\n",
              "</table>\n",
              "<p>5 rows × 465 columns</p>\n",
              "</div>\n",
              "      <button class=\"colab-df-convert\" onclick=\"convertToInteractive('df-89605898-3997-45d9-9cdc-02cd65e6ccee')\"\n",
              "              title=\"Convert this dataframe to an interactive table.\"\n",
              "              style=\"display:none;\">\n",
              "        \n",
              "  <svg xmlns=\"http://www.w3.org/2000/svg\" height=\"24px\"viewBox=\"0 0 24 24\"\n",
              "       width=\"24px\">\n",
              "    <path d=\"M0 0h24v24H0V0z\" fill=\"none\"/>\n",
              "    <path d=\"M18.56 5.44l.94 2.06.94-2.06 2.06-.94-2.06-.94-.94-2.06-.94 2.06-2.06.94zm-11 1L8.5 8.5l.94-2.06 2.06-.94-2.06-.94L8.5 2.5l-.94 2.06-2.06.94zm10 10l.94 2.06.94-2.06 2.06-.94-2.06-.94-.94-2.06-.94 2.06-2.06.94z\"/><path d=\"M17.41 7.96l-1.37-1.37c-.4-.4-.92-.59-1.43-.59-.52 0-1.04.2-1.43.59L10.3 9.45l-7.72 7.72c-.78.78-.78 2.05 0 2.83L4 21.41c.39.39.9.59 1.41.59.51 0 1.02-.2 1.41-.59l7.78-7.78 2.81-2.81c.8-.78.8-2.07 0-2.86zM5.41 20L4 18.59l7.72-7.72 1.47 1.35L5.41 20z\"/>\n",
              "  </svg>\n",
              "      </button>\n",
              "      \n",
              "  <style>\n",
              "    .colab-df-container {\n",
              "      display:flex;\n",
              "      flex-wrap:wrap;\n",
              "      gap: 12px;\n",
              "    }\n",
              "\n",
              "    .colab-df-convert {\n",
              "      background-color: #E8F0FE;\n",
              "      border: none;\n",
              "      border-radius: 50%;\n",
              "      cursor: pointer;\n",
              "      display: none;\n",
              "      fill: #1967D2;\n",
              "      height: 32px;\n",
              "      padding: 0 0 0 0;\n",
              "      width: 32px;\n",
              "    }\n",
              "\n",
              "    .colab-df-convert:hover {\n",
              "      background-color: #E2EBFA;\n",
              "      box-shadow: 0px 1px 2px rgba(60, 64, 67, 0.3), 0px 1px 3px 1px rgba(60, 64, 67, 0.15);\n",
              "      fill: #174EA6;\n",
              "    }\n",
              "\n",
              "    [theme=dark] .colab-df-convert {\n",
              "      background-color: #3B4455;\n",
              "      fill: #D2E3FC;\n",
              "    }\n",
              "\n",
              "    [theme=dark] .colab-df-convert:hover {\n",
              "      background-color: #434B5C;\n",
              "      box-shadow: 0px 1px 3px 1px rgba(0, 0, 0, 0.15);\n",
              "      filter: drop-shadow(0px 1px 2px rgba(0, 0, 0, 0.3));\n",
              "      fill: #FFFFFF;\n",
              "    }\n",
              "  </style>\n",
              "\n",
              "      <script>\n",
              "        const buttonEl =\n",
              "          document.querySelector('#df-89605898-3997-45d9-9cdc-02cd65e6ccee button.colab-df-convert');\n",
              "        buttonEl.style.display =\n",
              "          google.colab.kernel.accessAllowed ? 'block' : 'none';\n",
              "\n",
              "        async function convertToInteractive(key) {\n",
              "          const element = document.querySelector('#df-89605898-3997-45d9-9cdc-02cd65e6ccee');\n",
              "          const dataTable =\n",
              "            await google.colab.kernel.invokeFunction('convertToInteractive',\n",
              "                                                     [key], {});\n",
              "          if (!dataTable) return;\n",
              "\n",
              "          const docLinkHtml = 'Like what you see? Visit the ' +\n",
              "            '<a target=\"_blank\" href=https://colab.research.google.com/notebooks/data_table.ipynb>data table notebook</a>'\n",
              "            + ' to learn more about interactive tables.';\n",
              "          element.innerHTML = '';\n",
              "          dataTable['output_type'] = 'display_data';\n",
              "          await google.colab.output.renderOutput(dataTable, element);\n",
              "          const docLink = document.createElement('div');\n",
              "          docLink.innerHTML = docLinkHtml;\n",
              "          element.appendChild(docLink);\n",
              "        }\n",
              "      </script>\n",
              "    </div>\n",
              "  </div>\n",
              "  "
            ]
          },
          "metadata": {},
          "execution_count": 1410
        }
      ]
    },
    {
      "cell_type": "code",
      "source": [
        "data.info()"
      ],
      "metadata": {
        "colab": {
          "base_uri": "https://localhost:8080/"
        },
        "id": "bdZ74QgcL_lH",
        "outputId": "cfe63584-c2b0-4ed7-acc5-db7c05287fa9"
      },
      "execution_count": null,
      "outputs": [
        {
          "output_type": "stream",
          "name": "stdout",
          "text": [
            "<class 'pandas.core.frame.DataFrame'>\n",
            "RangeIndex: 1347 entries, 0 to 1346\n",
            "Columns: 465 entries, ID to hs_predictivecontactscore\n",
            "dtypes: float64(256), object(209)\n",
            "memory usage: 4.8+ MB\n"
          ]
        }
      ]
    },
    {
      "cell_type": "code",
      "source": [
        "data.describe()"
      ],
      "metadata": {
        "colab": {
          "base_uri": "https://localhost:8080/",
          "height": 394
        },
        "id": "XZwW5VMfMWTJ",
        "outputId": "5af645ae-4f30-409b-a28e-24e1b0789df6"
      },
      "execution_count": null,
      "outputs": [
        {
          "output_type": "execute_result",
          "data": {
            "text/plain": [
              "                age   age__years_  assigned_coach  assigned_setter  \\\n",
              "count  5.800000e+01  3.940000e+02    4.700000e+01     1.153000e+03   \n",
              "mean   1.406344e+12  1.615352e+12    2.556125e+08     3.020842e+08   \n",
              "std    6.968617e+11  5.868262e+11    6.212174e+07     2.864515e+07   \n",
              "min    4.961609e+07  4.805590e+06    9.812180e+07     9.814226e+07   \n",
              "25%    1.182435e+12  1.392465e+12    2.463768e+08     2.941362e+08   \n",
              "50%    1.667663e+12  1.741531e+12    2.463768e+08     2.941380e+08   \n",
              "75%    1.942974e+12  2.022499e+12    3.104474e+08     3.172030e+08   \n",
              "max    2.201359e+12  2.622855e+12    3.107326e+08     3.429206e+08   \n",
              "\n",
              "       call_count  client_success_rep  collected_commission  \\\n",
              "count         0.0        7.100000e+01             74.000000   \n",
              "mean          NaN        2.645171e+08            394.025578   \n",
              "std           NaN        4.862124e+07            232.301988   \n",
              "min           NaN        1.780092e+08             40.000000   \n",
              "25%           NaN        2.300329e+08            120.000000   \n",
              "50%           NaN        2.885758e+08            516.620400   \n",
              "75%           NaN        3.051937e+08            569.988000   \n",
              "max           NaN        3.276770e+08            921.988000   \n",
              "\n",
              "       collected_payments__cash_  company_size  \\\n",
              "count                  74.000000           0.0   \n",
              "mean                 4925.319730           NaN   \n",
              "std                  2903.774844           NaN   \n",
              "min                   500.000000           NaN   \n",
              "25%                  1500.000000           NaN   \n",
              "50%                  6457.755000           NaN   \n",
              "75%                  7124.850000           NaN   \n",
              "max                 11524.850000           NaN   \n",
              "\n",
              "       cpl__fixed_rate___external_traffic_  ...  calendly_answer_10  \\\n",
              "count                                  0.0  ...                 0.0   \n",
              "mean                                   NaN  ...                 NaN   \n",
              "std                                    NaN  ...                 NaN   \n",
              "min                                    NaN  ...                 NaN   \n",
              "25%                                    NaN  ...                 NaN   \n",
              "50%                                    NaN  ...                 NaN   \n",
              "75%                                    NaN  ...                 NaN   \n",
              "max                                    NaN  ...                 NaN   \n",
              "\n",
              "       hs_lifecyclestage_other_date  website  numemployees  annualrevenue  \\\n",
              "count                           0.0      0.0           0.0            0.0   \n",
              "mean                            NaN      NaN           NaN            NaN   \n",
              "std                             NaN      NaN           NaN            NaN   \n",
              "min                             NaN      NaN           NaN            NaN   \n",
              "25%                             NaN      NaN           NaN            NaN   \n",
              "50%                             NaN      NaN           NaN            NaN   \n",
              "75%                             NaN      NaN           NaN            NaN   \n",
              "max                             NaN      NaN           NaN            NaN   \n",
              "\n",
              "       industry  associatedcompanyid  associatedcompanylastupdated  \\\n",
              "count       0.0                  0.0                           0.0   \n",
              "mean        NaN                  NaN                           NaN   \n",
              "std         NaN                  NaN                           NaN   \n",
              "min         NaN                  NaN                           NaN   \n",
              "25%         NaN                  NaN                           NaN   \n",
              "50%         NaN                  NaN                           NaN   \n",
              "75%         NaN                  NaN                           NaN   \n",
              "max         NaN                  NaN                           NaN   \n",
              "\n",
              "       hs_predictivecontactscorebucket  hs_predictivecontactscore  \n",
              "count                              0.0                        0.0  \n",
              "mean                               NaN                        NaN  \n",
              "std                                NaN                        NaN  \n",
              "min                                NaN                        NaN  \n",
              "25%                                NaN                        NaN  \n",
              "50%                                NaN                        NaN  \n",
              "75%                                NaN                        NaN  \n",
              "max                                NaN                        NaN  \n",
              "\n",
              "[8 rows x 256 columns]"
            ],
            "text/html": [
              "\n",
              "  <div id=\"df-bd86ede1-086f-4ce5-a963-4311b8e029c5\">\n",
              "    <div class=\"colab-df-container\">\n",
              "      <div>\n",
              "<style scoped>\n",
              "    .dataframe tbody tr th:only-of-type {\n",
              "        vertical-align: middle;\n",
              "    }\n",
              "\n",
              "    .dataframe tbody tr th {\n",
              "        vertical-align: top;\n",
              "    }\n",
              "\n",
              "    .dataframe thead th {\n",
              "        text-align: right;\n",
              "    }\n",
              "</style>\n",
              "<table border=\"1\" class=\"dataframe\">\n",
              "  <thead>\n",
              "    <tr style=\"text-align: right;\">\n",
              "      <th></th>\n",
              "      <th>age</th>\n",
              "      <th>age__years_</th>\n",
              "      <th>assigned_coach</th>\n",
              "      <th>assigned_setter</th>\n",
              "      <th>call_count</th>\n",
              "      <th>client_success_rep</th>\n",
              "      <th>collected_commission</th>\n",
              "      <th>collected_payments__cash_</th>\n",
              "      <th>company_size</th>\n",
              "      <th>cpl__fixed_rate___external_traffic_</th>\n",
              "      <th>...</th>\n",
              "      <th>calendly_answer_10</th>\n",
              "      <th>hs_lifecyclestage_other_date</th>\n",
              "      <th>website</th>\n",
              "      <th>numemployees</th>\n",
              "      <th>annualrevenue</th>\n",
              "      <th>industry</th>\n",
              "      <th>associatedcompanyid</th>\n",
              "      <th>associatedcompanylastupdated</th>\n",
              "      <th>hs_predictivecontactscorebucket</th>\n",
              "      <th>hs_predictivecontactscore</th>\n",
              "    </tr>\n",
              "  </thead>\n",
              "  <tbody>\n",
              "    <tr>\n",
              "      <th>count</th>\n",
              "      <td>5.800000e+01</td>\n",
              "      <td>3.940000e+02</td>\n",
              "      <td>4.700000e+01</td>\n",
              "      <td>1.153000e+03</td>\n",
              "      <td>0.0</td>\n",
              "      <td>7.100000e+01</td>\n",
              "      <td>74.000000</td>\n",
              "      <td>74.000000</td>\n",
              "      <td>0.0</td>\n",
              "      <td>0.0</td>\n",
              "      <td>...</td>\n",
              "      <td>0.0</td>\n",
              "      <td>0.0</td>\n",
              "      <td>0.0</td>\n",
              "      <td>0.0</td>\n",
              "      <td>0.0</td>\n",
              "      <td>0.0</td>\n",
              "      <td>0.0</td>\n",
              "      <td>0.0</td>\n",
              "      <td>0.0</td>\n",
              "      <td>0.0</td>\n",
              "    </tr>\n",
              "    <tr>\n",
              "      <th>mean</th>\n",
              "      <td>1.406344e+12</td>\n",
              "      <td>1.615352e+12</td>\n",
              "      <td>2.556125e+08</td>\n",
              "      <td>3.020842e+08</td>\n",
              "      <td>NaN</td>\n",
              "      <td>2.645171e+08</td>\n",
              "      <td>394.025578</td>\n",
              "      <td>4925.319730</td>\n",
              "      <td>NaN</td>\n",
              "      <td>NaN</td>\n",
              "      <td>...</td>\n",
              "      <td>NaN</td>\n",
              "      <td>NaN</td>\n",
              "      <td>NaN</td>\n",
              "      <td>NaN</td>\n",
              "      <td>NaN</td>\n",
              "      <td>NaN</td>\n",
              "      <td>NaN</td>\n",
              "      <td>NaN</td>\n",
              "      <td>NaN</td>\n",
              "      <td>NaN</td>\n",
              "    </tr>\n",
              "    <tr>\n",
              "      <th>std</th>\n",
              "      <td>6.968617e+11</td>\n",
              "      <td>5.868262e+11</td>\n",
              "      <td>6.212174e+07</td>\n",
              "      <td>2.864515e+07</td>\n",
              "      <td>NaN</td>\n",
              "      <td>4.862124e+07</td>\n",
              "      <td>232.301988</td>\n",
              "      <td>2903.774844</td>\n",
              "      <td>NaN</td>\n",
              "      <td>NaN</td>\n",
              "      <td>...</td>\n",
              "      <td>NaN</td>\n",
              "      <td>NaN</td>\n",
              "      <td>NaN</td>\n",
              "      <td>NaN</td>\n",
              "      <td>NaN</td>\n",
              "      <td>NaN</td>\n",
              "      <td>NaN</td>\n",
              "      <td>NaN</td>\n",
              "      <td>NaN</td>\n",
              "      <td>NaN</td>\n",
              "    </tr>\n",
              "    <tr>\n",
              "      <th>min</th>\n",
              "      <td>4.961609e+07</td>\n",
              "      <td>4.805590e+06</td>\n",
              "      <td>9.812180e+07</td>\n",
              "      <td>9.814226e+07</td>\n",
              "      <td>NaN</td>\n",
              "      <td>1.780092e+08</td>\n",
              "      <td>40.000000</td>\n",
              "      <td>500.000000</td>\n",
              "      <td>NaN</td>\n",
              "      <td>NaN</td>\n",
              "      <td>...</td>\n",
              "      <td>NaN</td>\n",
              "      <td>NaN</td>\n",
              "      <td>NaN</td>\n",
              "      <td>NaN</td>\n",
              "      <td>NaN</td>\n",
              "      <td>NaN</td>\n",
              "      <td>NaN</td>\n",
              "      <td>NaN</td>\n",
              "      <td>NaN</td>\n",
              "      <td>NaN</td>\n",
              "    </tr>\n",
              "    <tr>\n",
              "      <th>25%</th>\n",
              "      <td>1.182435e+12</td>\n",
              "      <td>1.392465e+12</td>\n",
              "      <td>2.463768e+08</td>\n",
              "      <td>2.941362e+08</td>\n",
              "      <td>NaN</td>\n",
              "      <td>2.300329e+08</td>\n",
              "      <td>120.000000</td>\n",
              "      <td>1500.000000</td>\n",
              "      <td>NaN</td>\n",
              "      <td>NaN</td>\n",
              "      <td>...</td>\n",
              "      <td>NaN</td>\n",
              "      <td>NaN</td>\n",
              "      <td>NaN</td>\n",
              "      <td>NaN</td>\n",
              "      <td>NaN</td>\n",
              "      <td>NaN</td>\n",
              "      <td>NaN</td>\n",
              "      <td>NaN</td>\n",
              "      <td>NaN</td>\n",
              "      <td>NaN</td>\n",
              "    </tr>\n",
              "    <tr>\n",
              "      <th>50%</th>\n",
              "      <td>1.667663e+12</td>\n",
              "      <td>1.741531e+12</td>\n",
              "      <td>2.463768e+08</td>\n",
              "      <td>2.941380e+08</td>\n",
              "      <td>NaN</td>\n",
              "      <td>2.885758e+08</td>\n",
              "      <td>516.620400</td>\n",
              "      <td>6457.755000</td>\n",
              "      <td>NaN</td>\n",
              "      <td>NaN</td>\n",
              "      <td>...</td>\n",
              "      <td>NaN</td>\n",
              "      <td>NaN</td>\n",
              "      <td>NaN</td>\n",
              "      <td>NaN</td>\n",
              "      <td>NaN</td>\n",
              "      <td>NaN</td>\n",
              "      <td>NaN</td>\n",
              "      <td>NaN</td>\n",
              "      <td>NaN</td>\n",
              "      <td>NaN</td>\n",
              "    </tr>\n",
              "    <tr>\n",
              "      <th>75%</th>\n",
              "      <td>1.942974e+12</td>\n",
              "      <td>2.022499e+12</td>\n",
              "      <td>3.104474e+08</td>\n",
              "      <td>3.172030e+08</td>\n",
              "      <td>NaN</td>\n",
              "      <td>3.051937e+08</td>\n",
              "      <td>569.988000</td>\n",
              "      <td>7124.850000</td>\n",
              "      <td>NaN</td>\n",
              "      <td>NaN</td>\n",
              "      <td>...</td>\n",
              "      <td>NaN</td>\n",
              "      <td>NaN</td>\n",
              "      <td>NaN</td>\n",
              "      <td>NaN</td>\n",
              "      <td>NaN</td>\n",
              "      <td>NaN</td>\n",
              "      <td>NaN</td>\n",
              "      <td>NaN</td>\n",
              "      <td>NaN</td>\n",
              "      <td>NaN</td>\n",
              "    </tr>\n",
              "    <tr>\n",
              "      <th>max</th>\n",
              "      <td>2.201359e+12</td>\n",
              "      <td>2.622855e+12</td>\n",
              "      <td>3.107326e+08</td>\n",
              "      <td>3.429206e+08</td>\n",
              "      <td>NaN</td>\n",
              "      <td>3.276770e+08</td>\n",
              "      <td>921.988000</td>\n",
              "      <td>11524.850000</td>\n",
              "      <td>NaN</td>\n",
              "      <td>NaN</td>\n",
              "      <td>...</td>\n",
              "      <td>NaN</td>\n",
              "      <td>NaN</td>\n",
              "      <td>NaN</td>\n",
              "      <td>NaN</td>\n",
              "      <td>NaN</td>\n",
              "      <td>NaN</td>\n",
              "      <td>NaN</td>\n",
              "      <td>NaN</td>\n",
              "      <td>NaN</td>\n",
              "      <td>NaN</td>\n",
              "    </tr>\n",
              "  </tbody>\n",
              "</table>\n",
              "<p>8 rows × 256 columns</p>\n",
              "</div>\n",
              "      <button class=\"colab-df-convert\" onclick=\"convertToInteractive('df-bd86ede1-086f-4ce5-a963-4311b8e029c5')\"\n",
              "              title=\"Convert this dataframe to an interactive table.\"\n",
              "              style=\"display:none;\">\n",
              "        \n",
              "  <svg xmlns=\"http://www.w3.org/2000/svg\" height=\"24px\"viewBox=\"0 0 24 24\"\n",
              "       width=\"24px\">\n",
              "    <path d=\"M0 0h24v24H0V0z\" fill=\"none\"/>\n",
              "    <path d=\"M18.56 5.44l.94 2.06.94-2.06 2.06-.94-2.06-.94-.94-2.06-.94 2.06-2.06.94zm-11 1L8.5 8.5l.94-2.06 2.06-.94-2.06-.94L8.5 2.5l-.94 2.06-2.06.94zm10 10l.94 2.06.94-2.06 2.06-.94-2.06-.94-.94-2.06-.94 2.06-2.06.94z\"/><path d=\"M17.41 7.96l-1.37-1.37c-.4-.4-.92-.59-1.43-.59-.52 0-1.04.2-1.43.59L10.3 9.45l-7.72 7.72c-.78.78-.78 2.05 0 2.83L4 21.41c.39.39.9.59 1.41.59.51 0 1.02-.2 1.41-.59l7.78-7.78 2.81-2.81c.8-.78.8-2.07 0-2.86zM5.41 20L4 18.59l7.72-7.72 1.47 1.35L5.41 20z\"/>\n",
              "  </svg>\n",
              "      </button>\n",
              "      \n",
              "  <style>\n",
              "    .colab-df-container {\n",
              "      display:flex;\n",
              "      flex-wrap:wrap;\n",
              "      gap: 12px;\n",
              "    }\n",
              "\n",
              "    .colab-df-convert {\n",
              "      background-color: #E8F0FE;\n",
              "      border: none;\n",
              "      border-radius: 50%;\n",
              "      cursor: pointer;\n",
              "      display: none;\n",
              "      fill: #1967D2;\n",
              "      height: 32px;\n",
              "      padding: 0 0 0 0;\n",
              "      width: 32px;\n",
              "    }\n",
              "\n",
              "    .colab-df-convert:hover {\n",
              "      background-color: #E2EBFA;\n",
              "      box-shadow: 0px 1px 2px rgba(60, 64, 67, 0.3), 0px 1px 3px 1px rgba(60, 64, 67, 0.15);\n",
              "      fill: #174EA6;\n",
              "    }\n",
              "\n",
              "    [theme=dark] .colab-df-convert {\n",
              "      background-color: #3B4455;\n",
              "      fill: #D2E3FC;\n",
              "    }\n",
              "\n",
              "    [theme=dark] .colab-df-convert:hover {\n",
              "      background-color: #434B5C;\n",
              "      box-shadow: 0px 1px 3px 1px rgba(0, 0, 0, 0.15);\n",
              "      filter: drop-shadow(0px 1px 2px rgba(0, 0, 0, 0.3));\n",
              "      fill: #FFFFFF;\n",
              "    }\n",
              "  </style>\n",
              "\n",
              "      <script>\n",
              "        const buttonEl =\n",
              "          document.querySelector('#df-bd86ede1-086f-4ce5-a963-4311b8e029c5 button.colab-df-convert');\n",
              "        buttonEl.style.display =\n",
              "          google.colab.kernel.accessAllowed ? 'block' : 'none';\n",
              "\n",
              "        async function convertToInteractive(key) {\n",
              "          const element = document.querySelector('#df-bd86ede1-086f-4ce5-a963-4311b8e029c5');\n",
              "          const dataTable =\n",
              "            await google.colab.kernel.invokeFunction('convertToInteractive',\n",
              "                                                     [key], {});\n",
              "          if (!dataTable) return;\n",
              "\n",
              "          const docLinkHtml = 'Like what you see? Visit the ' +\n",
              "            '<a target=\"_blank\" href=https://colab.research.google.com/notebooks/data_table.ipynb>data table notebook</a>'\n",
              "            + ' to learn more about interactive tables.';\n",
              "          element.innerHTML = '';\n",
              "          dataTable['output_type'] = 'display_data';\n",
              "          await google.colab.output.renderOutput(dataTable, element);\n",
              "          const docLink = document.createElement('div');\n",
              "          docLink.innerHTML = docLinkHtml;\n",
              "          element.appendChild(docLink);\n",
              "        }\n",
              "      </script>\n",
              "    </div>\n",
              "  </div>\n",
              "  "
            ]
          },
          "metadata": {},
          "execution_count": 1412
        }
      ]
    },
    {
      "cell_type": "code",
      "source": [
        "data.shape"
      ],
      "metadata": {
        "colab": {
          "base_uri": "https://localhost:8080/"
        },
        "id": "WYy0938WwjPg",
        "outputId": "bab8d3d4-1c94-4e29-9a8c-2696ce87aa18"
      },
      "execution_count": null,
      "outputs": [
        {
          "output_type": "execute_result",
          "data": {
            "text/plain": [
              "(1347, 465)"
            ]
          },
          "metadata": {},
          "execution_count": 1413
        }
      ]
    },
    {
      "cell_type": "code",
      "source": [
        "round(100*(data.isnull().sum()/len(data.index)), 2)"
      ],
      "metadata": {
        "colab": {
          "base_uri": "https://localhost:8080/"
        },
        "id": "wq9EGiRReBNC",
        "outputId": "8aec2579-e883-4c59-ad7c-e14abda40805"
      },
      "execution_count": null,
      "outputs": [
        {
          "output_type": "execute_result",
          "data": {
            "text/plain": [
              "ID                                   3.79\n",
              "active                              99.85\n",
              "ad_source                           22.87\n",
              "age                                 95.69\n",
              "age__years_                         70.75\n",
              "                                    ...  \n",
              "industry                           100.00\n",
              "associatedcompanyid                100.00\n",
              "associatedcompanylastupdated       100.00\n",
              "hs_predictivecontactscorebucket    100.00\n",
              "hs_predictivecontactscore          100.00\n",
              "Length: 465, dtype: float64"
            ]
          },
          "metadata": {},
          "execution_count": 1414
        }
      ]
    },
    {
      "cell_type": "code",
      "source": [
        "data['closedate'].describe()"
      ],
      "metadata": {
        "colab": {
          "base_uri": "https://localhost:8080/"
        },
        "id": "lekF5s0ffqXh",
        "outputId": "b92231b6-2ea0-48ac-fc10-e7e449b9b845"
      },
      "execution_count": null,
      "outputs": [
        {
          "output_type": "execute_result",
          "data": {
            "text/plain": [
              "count                           93\n",
              "unique                          90\n",
              "top       2022-05-24T18:43:37.033Z\n",
              "freq                             4\n",
              "Name: closedate, dtype: object"
            ]
          },
          "metadata": {},
          "execution_count": 1415
        }
      ]
    },
    {
      "cell_type": "code",
      "source": [
        "data['closedate'] = data['closedate'].replace(np.nan, 0)"
      ],
      "metadata": {
        "id": "ys7_JGzM_wMj"
      },
      "execution_count": null,
      "outputs": []
    },
    {
      "cell_type": "code",
      "source": [
        "def analysis(score):\n",
        "  if score != 0:\n",
        "    return 1\n",
        "  elif score == 0:\n",
        "    return 0\n",
        "\n",
        "\n",
        "data['converted'] = data['closedate'].apply(analysis)"
      ],
      "metadata": {
        "id": "XLnhA7LouW4G"
      },
      "execution_count": null,
      "outputs": []
    },
    {
      "cell_type": "code",
      "source": [
        "data.drop(['closedate'], 1)"
      ],
      "metadata": {
        "colab": {
          "base_uri": "https://localhost:8080/",
          "height": 557
        },
        "id": "4qNCyO4c7N3z",
        "outputId": "2eee75cc-e6a5-4d52-e976-3f9ffa988a2b"
      },
      "execution_count": null,
      "outputs": [
        {
          "output_type": "stream",
          "name": "stderr",
          "text": [
            "<ipython-input-1418-f31c2b8db545>:1: FutureWarning:\n",
            "\n",
            "In a future version of pandas all arguments of DataFrame.drop except for the argument 'labels' will be keyword-only\n",
            "\n"
          ]
        },
        {
          "output_type": "execute_result",
          "data": {
            "text/plain": [
              "             ID active ad_source  age   age__years_  aircall_last_call_at  \\\n",
              "0     105885551    NaN  Facebook  NaN  1.133107e+12  2023-02-13T22:26:38Z   \n",
              "1     131353154    NaN  Facebook  NaN  2.209901e+12  2023-02-27T20:04:34Z   \n",
              "2     134486201    NaN  Facebook  NaN  1.396311e+12                   NaN   \n",
              "3     133194801    NaN       NaN  NaN  3.692851e+08                   NaN   \n",
              "4       5621401    NaN  Facebook  NaN           NaN                   NaN   \n",
              "...         ...    ...       ...  ...           ...                   ...   \n",
              "1342  118498752    NaN  Facebook  NaN           NaN                   NaN   \n",
              "1343   71137351    NaN  Facebook  NaN           NaN                   NaN   \n",
              "1344   93504051    NaN  Facebook  NaN           NaN                   NaN   \n",
              "1345   38814001    NaN       NaN  NaN           NaN                   NaN   \n",
              "1346  112151501    NaN  Facebook  NaN           NaN                   NaN   \n",
              "\n",
              "     appointment_time are_you_available_full_time__40_hours_per_week__  \\\n",
              "0                 NaN                                              NaN   \n",
              "1                 NaN                                              NaN   \n",
              "2                 NaN                                              NaN   \n",
              "3                 NaN                                              NaN   \n",
              "4                 NaN                                              NaN   \n",
              "...               ...                                              ...   \n",
              "1342         03:30 PM                                              NaN   \n",
              "1343         04:00 PM                                              NaN   \n",
              "1344         01:00 PM                                              NaN   \n",
              "1345         09:00 AM                                              NaN   \n",
              "1346         05:30 PM                                              NaN   \n",
              "\n",
              "     are_you_willing_to_put_aside_any_conflicting_beliefs_if_they_don_t_align_with_dr__pompa_s_teachings  \\\n",
              "0                                                   NaN                                                    \n",
              "1                                                   NaN                                                    \n",
              "2                                                   NaN                                                    \n",
              "3                                                   NaN                                                    \n",
              "4                                                   NaN                                                    \n",
              "...                                                 ...                                                    \n",
              "1342                                                NaN                                                    \n",
              "1343                                                NaN                                                    \n",
              "1344                                                NaN                                                    \n",
              "1345                                                NaN                                                    \n",
              "1346                                                NaN                                                    \n",
              "\n",
              "     are_you_willing_to_take_a_stipend__training_pay__while_undergoing_training_until_you_begin_to_build  \\\n",
              "0                                                   NaN                                                    \n",
              "1                                                   NaN                                                    \n",
              "2                                                   NaN                                                    \n",
              "3                                                   NaN                                                    \n",
              "4                                                   NaN                                                    \n",
              "...                                                 ...                                                    \n",
              "1342                                                NaN                                                    \n",
              "1343                                                NaN                                                    \n",
              "1344                                                NaN                                                    \n",
              "1345                                                NaN                                                    \n",
              "1346                                                NaN                                                    \n",
              "\n",
              "      ...  hs_lifecyclestage_other_date  website  numemployees annualrevenue  \\\n",
              "0     ...                           NaN      NaN           NaN           NaN   \n",
              "1     ...                           NaN      NaN           NaN           NaN   \n",
              "2     ...                           NaN      NaN           NaN           NaN   \n",
              "3     ...                           NaN      NaN           NaN           NaN   \n",
              "4     ...                           NaN      NaN           NaN           NaN   \n",
              "...   ...                           ...      ...           ...           ...   \n",
              "1342  ...                           NaN      NaN           NaN           NaN   \n",
              "1343  ...                           NaN      NaN           NaN           NaN   \n",
              "1344  ...                           NaN      NaN           NaN           NaN   \n",
              "1345  ...                           NaN      NaN           NaN           NaN   \n",
              "1346  ...                           NaN      NaN           NaN           NaN   \n",
              "\n",
              "     industry associatedcompanyid associatedcompanylastupdated  \\\n",
              "0         NaN                 NaN                          NaN   \n",
              "1         NaN                 NaN                          NaN   \n",
              "2         NaN                 NaN                          NaN   \n",
              "3         NaN                 NaN                          NaN   \n",
              "4         NaN                 NaN                          NaN   \n",
              "...       ...                 ...                          ...   \n",
              "1342      NaN                 NaN                          NaN   \n",
              "1343      NaN                 NaN                          NaN   \n",
              "1344      NaN                 NaN                          NaN   \n",
              "1345      NaN                 NaN                          NaN   \n",
              "1346      NaN                 NaN                          NaN   \n",
              "\n",
              "     hs_predictivecontactscorebucket hs_predictivecontactscore  converted  \n",
              "0                                NaN                       NaN          0  \n",
              "1                                NaN                       NaN          0  \n",
              "2                                NaN                       NaN          0  \n",
              "3                                NaN                       NaN          0  \n",
              "4                                NaN                       NaN          0  \n",
              "...                              ...                       ...        ...  \n",
              "1342                             NaN                       NaN          0  \n",
              "1343                             NaN                       NaN          0  \n",
              "1344                             NaN                       NaN          0  \n",
              "1345                             NaN                       NaN          1  \n",
              "1346                             NaN                       NaN          0  \n",
              "\n",
              "[1347 rows x 465 columns]"
            ],
            "text/html": [
              "\n",
              "  <div id=\"df-ebd462f1-92d5-40db-aecb-f471bd1554f1\">\n",
              "    <div class=\"colab-df-container\">\n",
              "      <div>\n",
              "<style scoped>\n",
              "    .dataframe tbody tr th:only-of-type {\n",
              "        vertical-align: middle;\n",
              "    }\n",
              "\n",
              "    .dataframe tbody tr th {\n",
              "        vertical-align: top;\n",
              "    }\n",
              "\n",
              "    .dataframe thead th {\n",
              "        text-align: right;\n",
              "    }\n",
              "</style>\n",
              "<table border=\"1\" class=\"dataframe\">\n",
              "  <thead>\n",
              "    <tr style=\"text-align: right;\">\n",
              "      <th></th>\n",
              "      <th>ID</th>\n",
              "      <th>active</th>\n",
              "      <th>ad_source</th>\n",
              "      <th>age</th>\n",
              "      <th>age__years_</th>\n",
              "      <th>aircall_last_call_at</th>\n",
              "      <th>appointment_time</th>\n",
              "      <th>are_you_available_full_time__40_hours_per_week__</th>\n",
              "      <th>are_you_willing_to_put_aside_any_conflicting_beliefs_if_they_don_t_align_with_dr__pompa_s_teachings</th>\n",
              "      <th>are_you_willing_to_take_a_stipend__training_pay__while_undergoing_training_until_you_begin_to_build</th>\n",
              "      <th>...</th>\n",
              "      <th>hs_lifecyclestage_other_date</th>\n",
              "      <th>website</th>\n",
              "      <th>numemployees</th>\n",
              "      <th>annualrevenue</th>\n",
              "      <th>industry</th>\n",
              "      <th>associatedcompanyid</th>\n",
              "      <th>associatedcompanylastupdated</th>\n",
              "      <th>hs_predictivecontactscorebucket</th>\n",
              "      <th>hs_predictivecontactscore</th>\n",
              "      <th>converted</th>\n",
              "    </tr>\n",
              "  </thead>\n",
              "  <tbody>\n",
              "    <tr>\n",
              "      <th>0</th>\n",
              "      <td>105885551</td>\n",
              "      <td>NaN</td>\n",
              "      <td>Facebook</td>\n",
              "      <td>NaN</td>\n",
              "      <td>1.133107e+12</td>\n",
              "      <td>2023-02-13T22:26:38Z</td>\n",
              "      <td>NaN</td>\n",
              "      <td>NaN</td>\n",
              "      <td>NaN</td>\n",
              "      <td>NaN</td>\n",
              "      <td>...</td>\n",
              "      <td>NaN</td>\n",
              "      <td>NaN</td>\n",
              "      <td>NaN</td>\n",
              "      <td>NaN</td>\n",
              "      <td>NaN</td>\n",
              "      <td>NaN</td>\n",
              "      <td>NaN</td>\n",
              "      <td>NaN</td>\n",
              "      <td>NaN</td>\n",
              "      <td>0</td>\n",
              "    </tr>\n",
              "    <tr>\n",
              "      <th>1</th>\n",
              "      <td>131353154</td>\n",
              "      <td>NaN</td>\n",
              "      <td>Facebook</td>\n",
              "      <td>NaN</td>\n",
              "      <td>2.209901e+12</td>\n",
              "      <td>2023-02-27T20:04:34Z</td>\n",
              "      <td>NaN</td>\n",
              "      <td>NaN</td>\n",
              "      <td>NaN</td>\n",
              "      <td>NaN</td>\n",
              "      <td>...</td>\n",
              "      <td>NaN</td>\n",
              "      <td>NaN</td>\n",
              "      <td>NaN</td>\n",
              "      <td>NaN</td>\n",
              "      <td>NaN</td>\n",
              "      <td>NaN</td>\n",
              "      <td>NaN</td>\n",
              "      <td>NaN</td>\n",
              "      <td>NaN</td>\n",
              "      <td>0</td>\n",
              "    </tr>\n",
              "    <tr>\n",
              "      <th>2</th>\n",
              "      <td>134486201</td>\n",
              "      <td>NaN</td>\n",
              "      <td>Facebook</td>\n",
              "      <td>NaN</td>\n",
              "      <td>1.396311e+12</td>\n",
              "      <td>NaN</td>\n",
              "      <td>NaN</td>\n",
              "      <td>NaN</td>\n",
              "      <td>NaN</td>\n",
              "      <td>NaN</td>\n",
              "      <td>...</td>\n",
              "      <td>NaN</td>\n",
              "      <td>NaN</td>\n",
              "      <td>NaN</td>\n",
              "      <td>NaN</td>\n",
              "      <td>NaN</td>\n",
              "      <td>NaN</td>\n",
              "      <td>NaN</td>\n",
              "      <td>NaN</td>\n",
              "      <td>NaN</td>\n",
              "      <td>0</td>\n",
              "    </tr>\n",
              "    <tr>\n",
              "      <th>3</th>\n",
              "      <td>133194801</td>\n",
              "      <td>NaN</td>\n",
              "      <td>NaN</td>\n",
              "      <td>NaN</td>\n",
              "      <td>3.692851e+08</td>\n",
              "      <td>NaN</td>\n",
              "      <td>NaN</td>\n",
              "      <td>NaN</td>\n",
              "      <td>NaN</td>\n",
              "      <td>NaN</td>\n",
              "      <td>...</td>\n",
              "      <td>NaN</td>\n",
              "      <td>NaN</td>\n",
              "      <td>NaN</td>\n",
              "      <td>NaN</td>\n",
              "      <td>NaN</td>\n",
              "      <td>NaN</td>\n",
              "      <td>NaN</td>\n",
              "      <td>NaN</td>\n",
              "      <td>NaN</td>\n",
              "      <td>0</td>\n",
              "    </tr>\n",
              "    <tr>\n",
              "      <th>4</th>\n",
              "      <td>5621401</td>\n",
              "      <td>NaN</td>\n",
              "      <td>Facebook</td>\n",
              "      <td>NaN</td>\n",
              "      <td>NaN</td>\n",
              "      <td>NaN</td>\n",
              "      <td>NaN</td>\n",
              "      <td>NaN</td>\n",
              "      <td>NaN</td>\n",
              "      <td>NaN</td>\n",
              "      <td>...</td>\n",
              "      <td>NaN</td>\n",
              "      <td>NaN</td>\n",
              "      <td>NaN</td>\n",
              "      <td>NaN</td>\n",
              "      <td>NaN</td>\n",
              "      <td>NaN</td>\n",
              "      <td>NaN</td>\n",
              "      <td>NaN</td>\n",
              "      <td>NaN</td>\n",
              "      <td>0</td>\n",
              "    </tr>\n",
              "    <tr>\n",
              "      <th>...</th>\n",
              "      <td>...</td>\n",
              "      <td>...</td>\n",
              "      <td>...</td>\n",
              "      <td>...</td>\n",
              "      <td>...</td>\n",
              "      <td>...</td>\n",
              "      <td>...</td>\n",
              "      <td>...</td>\n",
              "      <td>...</td>\n",
              "      <td>...</td>\n",
              "      <td>...</td>\n",
              "      <td>...</td>\n",
              "      <td>...</td>\n",
              "      <td>...</td>\n",
              "      <td>...</td>\n",
              "      <td>...</td>\n",
              "      <td>...</td>\n",
              "      <td>...</td>\n",
              "      <td>...</td>\n",
              "      <td>...</td>\n",
              "      <td>...</td>\n",
              "    </tr>\n",
              "    <tr>\n",
              "      <th>1342</th>\n",
              "      <td>118498752</td>\n",
              "      <td>NaN</td>\n",
              "      <td>Facebook</td>\n",
              "      <td>NaN</td>\n",
              "      <td>NaN</td>\n",
              "      <td>NaN</td>\n",
              "      <td>03:30 PM</td>\n",
              "      <td>NaN</td>\n",
              "      <td>NaN</td>\n",
              "      <td>NaN</td>\n",
              "      <td>...</td>\n",
              "      <td>NaN</td>\n",
              "      <td>NaN</td>\n",
              "      <td>NaN</td>\n",
              "      <td>NaN</td>\n",
              "      <td>NaN</td>\n",
              "      <td>NaN</td>\n",
              "      <td>NaN</td>\n",
              "      <td>NaN</td>\n",
              "      <td>NaN</td>\n",
              "      <td>0</td>\n",
              "    </tr>\n",
              "    <tr>\n",
              "      <th>1343</th>\n",
              "      <td>71137351</td>\n",
              "      <td>NaN</td>\n",
              "      <td>Facebook</td>\n",
              "      <td>NaN</td>\n",
              "      <td>NaN</td>\n",
              "      <td>NaN</td>\n",
              "      <td>04:00 PM</td>\n",
              "      <td>NaN</td>\n",
              "      <td>NaN</td>\n",
              "      <td>NaN</td>\n",
              "      <td>...</td>\n",
              "      <td>NaN</td>\n",
              "      <td>NaN</td>\n",
              "      <td>NaN</td>\n",
              "      <td>NaN</td>\n",
              "      <td>NaN</td>\n",
              "      <td>NaN</td>\n",
              "      <td>NaN</td>\n",
              "      <td>NaN</td>\n",
              "      <td>NaN</td>\n",
              "      <td>0</td>\n",
              "    </tr>\n",
              "    <tr>\n",
              "      <th>1344</th>\n",
              "      <td>93504051</td>\n",
              "      <td>NaN</td>\n",
              "      <td>Facebook</td>\n",
              "      <td>NaN</td>\n",
              "      <td>NaN</td>\n",
              "      <td>NaN</td>\n",
              "      <td>01:00 PM</td>\n",
              "      <td>NaN</td>\n",
              "      <td>NaN</td>\n",
              "      <td>NaN</td>\n",
              "      <td>...</td>\n",
              "      <td>NaN</td>\n",
              "      <td>NaN</td>\n",
              "      <td>NaN</td>\n",
              "      <td>NaN</td>\n",
              "      <td>NaN</td>\n",
              "      <td>NaN</td>\n",
              "      <td>NaN</td>\n",
              "      <td>NaN</td>\n",
              "      <td>NaN</td>\n",
              "      <td>0</td>\n",
              "    </tr>\n",
              "    <tr>\n",
              "      <th>1345</th>\n",
              "      <td>38814001</td>\n",
              "      <td>NaN</td>\n",
              "      <td>NaN</td>\n",
              "      <td>NaN</td>\n",
              "      <td>NaN</td>\n",
              "      <td>NaN</td>\n",
              "      <td>09:00 AM</td>\n",
              "      <td>NaN</td>\n",
              "      <td>NaN</td>\n",
              "      <td>NaN</td>\n",
              "      <td>...</td>\n",
              "      <td>NaN</td>\n",
              "      <td>NaN</td>\n",
              "      <td>NaN</td>\n",
              "      <td>NaN</td>\n",
              "      <td>NaN</td>\n",
              "      <td>NaN</td>\n",
              "      <td>NaN</td>\n",
              "      <td>NaN</td>\n",
              "      <td>NaN</td>\n",
              "      <td>1</td>\n",
              "    </tr>\n",
              "    <tr>\n",
              "      <th>1346</th>\n",
              "      <td>112151501</td>\n",
              "      <td>NaN</td>\n",
              "      <td>Facebook</td>\n",
              "      <td>NaN</td>\n",
              "      <td>NaN</td>\n",
              "      <td>NaN</td>\n",
              "      <td>05:30 PM</td>\n",
              "      <td>NaN</td>\n",
              "      <td>NaN</td>\n",
              "      <td>NaN</td>\n",
              "      <td>...</td>\n",
              "      <td>NaN</td>\n",
              "      <td>NaN</td>\n",
              "      <td>NaN</td>\n",
              "      <td>NaN</td>\n",
              "      <td>NaN</td>\n",
              "      <td>NaN</td>\n",
              "      <td>NaN</td>\n",
              "      <td>NaN</td>\n",
              "      <td>NaN</td>\n",
              "      <td>0</td>\n",
              "    </tr>\n",
              "  </tbody>\n",
              "</table>\n",
              "<p>1347 rows × 465 columns</p>\n",
              "</div>\n",
              "      <button class=\"colab-df-convert\" onclick=\"convertToInteractive('df-ebd462f1-92d5-40db-aecb-f471bd1554f1')\"\n",
              "              title=\"Convert this dataframe to an interactive table.\"\n",
              "              style=\"display:none;\">\n",
              "        \n",
              "  <svg xmlns=\"http://www.w3.org/2000/svg\" height=\"24px\"viewBox=\"0 0 24 24\"\n",
              "       width=\"24px\">\n",
              "    <path d=\"M0 0h24v24H0V0z\" fill=\"none\"/>\n",
              "    <path d=\"M18.56 5.44l.94 2.06.94-2.06 2.06-.94-2.06-.94-.94-2.06-.94 2.06-2.06.94zm-11 1L8.5 8.5l.94-2.06 2.06-.94-2.06-.94L8.5 2.5l-.94 2.06-2.06.94zm10 10l.94 2.06.94-2.06 2.06-.94-2.06-.94-.94-2.06-.94 2.06-2.06.94z\"/><path d=\"M17.41 7.96l-1.37-1.37c-.4-.4-.92-.59-1.43-.59-.52 0-1.04.2-1.43.59L10.3 9.45l-7.72 7.72c-.78.78-.78 2.05 0 2.83L4 21.41c.39.39.9.59 1.41.59.51 0 1.02-.2 1.41-.59l7.78-7.78 2.81-2.81c.8-.78.8-2.07 0-2.86zM5.41 20L4 18.59l7.72-7.72 1.47 1.35L5.41 20z\"/>\n",
              "  </svg>\n",
              "      </button>\n",
              "      \n",
              "  <style>\n",
              "    .colab-df-container {\n",
              "      display:flex;\n",
              "      flex-wrap:wrap;\n",
              "      gap: 12px;\n",
              "    }\n",
              "\n",
              "    .colab-df-convert {\n",
              "      background-color: #E8F0FE;\n",
              "      border: none;\n",
              "      border-radius: 50%;\n",
              "      cursor: pointer;\n",
              "      display: none;\n",
              "      fill: #1967D2;\n",
              "      height: 32px;\n",
              "      padding: 0 0 0 0;\n",
              "      width: 32px;\n",
              "    }\n",
              "\n",
              "    .colab-df-convert:hover {\n",
              "      background-color: #E2EBFA;\n",
              "      box-shadow: 0px 1px 2px rgba(60, 64, 67, 0.3), 0px 1px 3px 1px rgba(60, 64, 67, 0.15);\n",
              "      fill: #174EA6;\n",
              "    }\n",
              "\n",
              "    [theme=dark] .colab-df-convert {\n",
              "      background-color: #3B4455;\n",
              "      fill: #D2E3FC;\n",
              "    }\n",
              "\n",
              "    [theme=dark] .colab-df-convert:hover {\n",
              "      background-color: #434B5C;\n",
              "      box-shadow: 0px 1px 3px 1px rgba(0, 0, 0, 0.15);\n",
              "      filter: drop-shadow(0px 1px 2px rgba(0, 0, 0, 0.3));\n",
              "      fill: #FFFFFF;\n",
              "    }\n",
              "  </style>\n",
              "\n",
              "      <script>\n",
              "        const buttonEl =\n",
              "          document.querySelector('#df-ebd462f1-92d5-40db-aecb-f471bd1554f1 button.colab-df-convert');\n",
              "        buttonEl.style.display =\n",
              "          google.colab.kernel.accessAllowed ? 'block' : 'none';\n",
              "\n",
              "        async function convertToInteractive(key) {\n",
              "          const element = document.querySelector('#df-ebd462f1-92d5-40db-aecb-f471bd1554f1');\n",
              "          const dataTable =\n",
              "            await google.colab.kernel.invokeFunction('convertToInteractive',\n",
              "                                                     [key], {});\n",
              "          if (!dataTable) return;\n",
              "\n",
              "          const docLinkHtml = 'Like what you see? Visit the ' +\n",
              "            '<a target=\"_blank\" href=https://colab.research.google.com/notebooks/data_table.ipynb>data table notebook</a>'\n",
              "            + ' to learn more about interactive tables.';\n",
              "          element.innerHTML = '';\n",
              "          dataTable['output_type'] = 'display_data';\n",
              "          await google.colab.output.renderOutput(dataTable, element);\n",
              "          const docLink = document.createElement('div');\n",
              "          docLink.innerHTML = docLinkHtml;\n",
              "          element.appendChild(docLink);\n",
              "        }\n",
              "      </script>\n",
              "    </div>\n",
              "  </div>\n",
              "  "
            ]
          },
          "metadata": {},
          "execution_count": 1418
        }
      ]
    },
    {
      "cell_type": "code",
      "source": [
        "data['converted']"
      ],
      "metadata": {
        "colab": {
          "base_uri": "https://localhost:8080/"
        },
        "id": "BMOt2SNi7jPF",
        "outputId": "4ac0627a-90d9-4f90-d21f-75b66ecf2049"
      },
      "execution_count": null,
      "outputs": [
        {
          "output_type": "execute_result",
          "data": {
            "text/plain": [
              "0       0\n",
              "1       0\n",
              "2       0\n",
              "3       0\n",
              "4       0\n",
              "       ..\n",
              "1342    0\n",
              "1343    0\n",
              "1344    0\n",
              "1345    1\n",
              "1346    0\n",
              "Name: converted, Length: 1347, dtype: int64"
            ]
          },
          "metadata": {},
          "execution_count": 1419
        }
      ]
    },
    {
      "cell_type": "markdown",
      "source": [
        "#Data Cleaning"
      ],
      "metadata": {
        "id": "ftlTpTrjsuMx"
      }
    },
    {
      "cell_type": "code",
      "source": [
        "#Drop the data like have 100% Nan values\n",
        "dataframe = data.drop(data.loc[:,list(round(100*(data.isnull().sum()/len(data.index)), 2)>70)].columns, 1)"
      ],
      "metadata": {
        "colab": {
          "base_uri": "https://localhost:8080/"
        },
        "id": "ML4hts1jqKeM",
        "outputId": "b4d3ef77-85da-4c10-bb77-3ed40a7aaa91"
      },
      "execution_count": null,
      "outputs": [
        {
          "output_type": "stream",
          "name": "stderr",
          "text": [
            "<ipython-input-1420-69595c1aa521>:2: FutureWarning:\n",
            "\n",
            "In a future version of pandas all arguments of DataFrame.drop except for the argument 'labels' will be keyword-only\n",
            "\n"
          ]
        }
      ]
    },
    {
      "cell_type": "code",
      "source": [
        "#See the data\n",
        "round(100*(dataframe.isnull().sum()/len(dataframe.index)), 2)"
      ],
      "metadata": {
        "colab": {
          "base_uri": "https://localhost:8080/"
        },
        "id": "caiX8l5uqZd1",
        "outputId": "d6f28a32-0cd4-467e-c77e-f70a9a74e529"
      },
      "execution_count": null,
      "outputs": [
        {
          "output_type": "execute_result",
          "data": {
            "text/plain": [
              "ID                                            3.79\n",
              "ad_source                                    22.87\n",
              "assigned_setter                              14.40\n",
              "checkout_url                                 11.88\n",
              "day_of_the_week                              29.03\n",
              "                                             ...  \n",
              "hs_lifecyclestage_lead_date                  11.14\n",
              "lifecyclestage                                6.68\n",
              "hs_lifecyclestage_salesqualifiedlead_date    20.04\n",
              "createdate                                    6.31\n",
              "converted                                     0.00\n",
              "Length: 120, dtype: float64"
            ]
          },
          "metadata": {},
          "execution_count": 1421
        }
      ]
    },
    {
      "cell_type": "code",
      "source": [
        "dataframe.shape"
      ],
      "metadata": {
        "colab": {
          "base_uri": "https://localhost:8080/"
        },
        "id": "DPVh6WgOdUm2",
        "outputId": "a3673227-3007-4a75-e613-5fd87c21ddbe"
      },
      "execution_count": null,
      "outputs": [
        {
          "output_type": "execute_result",
          "data": {
            "text/plain": [
              "(1347, 120)"
            ]
          },
          "metadata": {},
          "execution_count": 1422
        }
      ]
    },
    {
      "cell_type": "markdown",
      "source": [
        "##Ad Source"
      ],
      "metadata": {
        "id": "PFolvEyre7M3"
      }
    },
    {
      "cell_type": "code",
      "source": [
        "dataframe['ad_source'].describe()"
      ],
      "metadata": {
        "colab": {
          "base_uri": "https://localhost:8080/"
        },
        "id": "DzfPQ2stqfjq",
        "outputId": "2d484e38-68cc-43bc-f1af-5e9c361c2fa0"
      },
      "execution_count": null,
      "outputs": [
        {
          "output_type": "execute_result",
          "data": {
            "text/plain": [
              "count         1039\n",
              "unique           2\n",
              "top       Facebook\n",
              "freq          1038\n",
              "Name: ad_source, dtype: object"
            ]
          },
          "metadata": {},
          "execution_count": 1423
        }
      ]
    },
    {
      "cell_type": "code",
      "source": [
        "dataframe['ad_source'].isnull().sum()"
      ],
      "metadata": {
        "colab": {
          "base_uri": "https://localhost:8080/"
        },
        "id": "6S8Snfeyri8y",
        "outputId": "9c6b3087-134e-43f2-8a9c-28997fbd4bb9"
      },
      "execution_count": null,
      "outputs": [
        {
          "output_type": "execute_result",
          "data": {
            "text/plain": [
              "308"
            ]
          },
          "metadata": {},
          "execution_count": 1424
        }
      ]
    },
    {
      "cell_type": "code",
      "source": [
        "value1 = dataframe['ad_source'].value_counts()"
      ],
      "metadata": {
        "id": "cNLV_vrWfg7w"
      },
      "execution_count": null,
      "outputs": []
    },
    {
      "cell_type": "code",
      "source": [
        "fig = px.bar(value1)\n",
        "fig.show()"
      ],
      "metadata": {
        "id": "ZloDk2GWtbqE",
        "colab": {
          "base_uri": "https://localhost:8080/",
          "height": 542
        },
        "outputId": "e6ae3e1e-cd27-4cab-e12b-b7df4bd7a4ee"
      },
      "execution_count": null,
      "outputs": [
        {
          "output_type": "display_data",
          "data": {
            "text/html": [
              "<html>\n",
              "<head><meta charset=\"utf-8\" /></head>\n",
              "<body>\n",
              "    <div>            <script src=\"https://cdnjs.cloudflare.com/ajax/libs/mathjax/2.7.5/MathJax.js?config=TeX-AMS-MML_SVG\"></script><script type=\"text/javascript\">if (window.MathJax) {MathJax.Hub.Config({SVG: {font: \"STIX-Web\"}});}</script>                <script type=\"text/javascript\">window.PlotlyConfig = {MathJaxConfig: 'local'};</script>\n",
              "        <script src=\"https://cdn.plot.ly/plotly-2.8.3.min.js\"></script>                <div id=\"a4f8244a-fb3b-4040-b131-924d37efce27\" class=\"plotly-graph-div\" style=\"height:525px; width:100%;\"></div>            <script type=\"text/javascript\">                                    window.PLOTLYENV=window.PLOTLYENV || {};                                    if (document.getElementById(\"a4f8244a-fb3b-4040-b131-924d37efce27\")) {                    Plotly.newPlot(                        \"a4f8244a-fb3b-4040-b131-924d37efce27\",                        [{\"alignmentgroup\":\"True\",\"hovertemplate\":\"variable=ad_source<br>index=%{x}<br>value=%{y}<extra></extra>\",\"legendgroup\":\"ad_source\",\"marker\":{\"color\":\"#636efa\",\"pattern\":{\"shape\":\"\"}},\"name\":\"ad_source\",\"offsetgroup\":\"ad_source\",\"orientation\":\"v\",\"showlegend\":true,\"textposition\":\"auto\",\"x\":[\"Facebook\",\"Google\"],\"xaxis\":\"x\",\"y\":[1038,1],\"yaxis\":\"y\",\"type\":\"bar\"}],                        {\"template\":{\"data\":{\"bar\":[{\"error_x\":{\"color\":\"#2a3f5f\"},\"error_y\":{\"color\":\"#2a3f5f\"},\"marker\":{\"line\":{\"color\":\"#E5ECF6\",\"width\":0.5},\"pattern\":{\"fillmode\":\"overlay\",\"size\":10,\"solidity\":0.2}},\"type\":\"bar\"}],\"barpolar\":[{\"marker\":{\"line\":{\"color\":\"#E5ECF6\",\"width\":0.5},\"pattern\":{\"fillmode\":\"overlay\",\"size\":10,\"solidity\":0.2}},\"type\":\"barpolar\"}],\"carpet\":[{\"aaxis\":{\"endlinecolor\":\"#2a3f5f\",\"gridcolor\":\"white\",\"linecolor\":\"white\",\"minorgridcolor\":\"white\",\"startlinecolor\":\"#2a3f5f\"},\"baxis\":{\"endlinecolor\":\"#2a3f5f\",\"gridcolor\":\"white\",\"linecolor\":\"white\",\"minorgridcolor\":\"white\",\"startlinecolor\":\"#2a3f5f\"},\"type\":\"carpet\"}],\"choropleth\":[{\"colorbar\":{\"outlinewidth\":0,\"ticks\":\"\"},\"type\":\"choropleth\"}],\"contour\":[{\"colorbar\":{\"outlinewidth\":0,\"ticks\":\"\"},\"colorscale\":[[0.0,\"#0d0887\"],[0.1111111111111111,\"#46039f\"],[0.2222222222222222,\"#7201a8\"],[0.3333333333333333,\"#9c179e\"],[0.4444444444444444,\"#bd3786\"],[0.5555555555555556,\"#d8576b\"],[0.6666666666666666,\"#ed7953\"],[0.7777777777777778,\"#fb9f3a\"],[0.8888888888888888,\"#fdca26\"],[1.0,\"#f0f921\"]],\"type\":\"contour\"}],\"contourcarpet\":[{\"colorbar\":{\"outlinewidth\":0,\"ticks\":\"\"},\"type\":\"contourcarpet\"}],\"heatmap\":[{\"colorbar\":{\"outlinewidth\":0,\"ticks\":\"\"},\"colorscale\":[[0.0,\"#0d0887\"],[0.1111111111111111,\"#46039f\"],[0.2222222222222222,\"#7201a8\"],[0.3333333333333333,\"#9c179e\"],[0.4444444444444444,\"#bd3786\"],[0.5555555555555556,\"#d8576b\"],[0.6666666666666666,\"#ed7953\"],[0.7777777777777778,\"#fb9f3a\"],[0.8888888888888888,\"#fdca26\"],[1.0,\"#f0f921\"]],\"type\":\"heatmap\"}],\"heatmapgl\":[{\"colorbar\":{\"outlinewidth\":0,\"ticks\":\"\"},\"colorscale\":[[0.0,\"#0d0887\"],[0.1111111111111111,\"#46039f\"],[0.2222222222222222,\"#7201a8\"],[0.3333333333333333,\"#9c179e\"],[0.4444444444444444,\"#bd3786\"],[0.5555555555555556,\"#d8576b\"],[0.6666666666666666,\"#ed7953\"],[0.7777777777777778,\"#fb9f3a\"],[0.8888888888888888,\"#fdca26\"],[1.0,\"#f0f921\"]],\"type\":\"heatmapgl\"}],\"histogram\":[{\"marker\":{\"pattern\":{\"fillmode\":\"overlay\",\"size\":10,\"solidity\":0.2}},\"type\":\"histogram\"}],\"histogram2d\":[{\"colorbar\":{\"outlinewidth\":0,\"ticks\":\"\"},\"colorscale\":[[0.0,\"#0d0887\"],[0.1111111111111111,\"#46039f\"],[0.2222222222222222,\"#7201a8\"],[0.3333333333333333,\"#9c179e\"],[0.4444444444444444,\"#bd3786\"],[0.5555555555555556,\"#d8576b\"],[0.6666666666666666,\"#ed7953\"],[0.7777777777777778,\"#fb9f3a\"],[0.8888888888888888,\"#fdca26\"],[1.0,\"#f0f921\"]],\"type\":\"histogram2d\"}],\"histogram2dcontour\":[{\"colorbar\":{\"outlinewidth\":0,\"ticks\":\"\"},\"colorscale\":[[0.0,\"#0d0887\"],[0.1111111111111111,\"#46039f\"],[0.2222222222222222,\"#7201a8\"],[0.3333333333333333,\"#9c179e\"],[0.4444444444444444,\"#bd3786\"],[0.5555555555555556,\"#d8576b\"],[0.6666666666666666,\"#ed7953\"],[0.7777777777777778,\"#fb9f3a\"],[0.8888888888888888,\"#fdca26\"],[1.0,\"#f0f921\"]],\"type\":\"histogram2dcontour\"}],\"mesh3d\":[{\"colorbar\":{\"outlinewidth\":0,\"ticks\":\"\"},\"type\":\"mesh3d\"}],\"parcoords\":[{\"line\":{\"colorbar\":{\"outlinewidth\":0,\"ticks\":\"\"}},\"type\":\"parcoords\"}],\"pie\":[{\"automargin\":true,\"type\":\"pie\"}],\"scatter\":[{\"marker\":{\"colorbar\":{\"outlinewidth\":0,\"ticks\":\"\"}},\"type\":\"scatter\"}],\"scatter3d\":[{\"line\":{\"colorbar\":{\"outlinewidth\":0,\"ticks\":\"\"}},\"marker\":{\"colorbar\":{\"outlinewidth\":0,\"ticks\":\"\"}},\"type\":\"scatter3d\"}],\"scattercarpet\":[{\"marker\":{\"colorbar\":{\"outlinewidth\":0,\"ticks\":\"\"}},\"type\":\"scattercarpet\"}],\"scattergeo\":[{\"marker\":{\"colorbar\":{\"outlinewidth\":0,\"ticks\":\"\"}},\"type\":\"scattergeo\"}],\"scattergl\":[{\"marker\":{\"colorbar\":{\"outlinewidth\":0,\"ticks\":\"\"}},\"type\":\"scattergl\"}],\"scattermapbox\":[{\"marker\":{\"colorbar\":{\"outlinewidth\":0,\"ticks\":\"\"}},\"type\":\"scattermapbox\"}],\"scatterpolar\":[{\"marker\":{\"colorbar\":{\"outlinewidth\":0,\"ticks\":\"\"}},\"type\":\"scatterpolar\"}],\"scatterpolargl\":[{\"marker\":{\"colorbar\":{\"outlinewidth\":0,\"ticks\":\"\"}},\"type\":\"scatterpolargl\"}],\"scatterternary\":[{\"marker\":{\"colorbar\":{\"outlinewidth\":0,\"ticks\":\"\"}},\"type\":\"scatterternary\"}],\"surface\":[{\"colorbar\":{\"outlinewidth\":0,\"ticks\":\"\"},\"colorscale\":[[0.0,\"#0d0887\"],[0.1111111111111111,\"#46039f\"],[0.2222222222222222,\"#7201a8\"],[0.3333333333333333,\"#9c179e\"],[0.4444444444444444,\"#bd3786\"],[0.5555555555555556,\"#d8576b\"],[0.6666666666666666,\"#ed7953\"],[0.7777777777777778,\"#fb9f3a\"],[0.8888888888888888,\"#fdca26\"],[1.0,\"#f0f921\"]],\"type\":\"surface\"}],\"table\":[{\"cells\":{\"fill\":{\"color\":\"#EBF0F8\"},\"line\":{\"color\":\"white\"}},\"header\":{\"fill\":{\"color\":\"#C8D4E3\"},\"line\":{\"color\":\"white\"}},\"type\":\"table\"}]},\"layout\":{\"annotationdefaults\":{\"arrowcolor\":\"#2a3f5f\",\"arrowhead\":0,\"arrowwidth\":1},\"autotypenumbers\":\"strict\",\"coloraxis\":{\"colorbar\":{\"outlinewidth\":0,\"ticks\":\"\"}},\"colorscale\":{\"diverging\":[[0,\"#8e0152\"],[0.1,\"#c51b7d\"],[0.2,\"#de77ae\"],[0.3,\"#f1b6da\"],[0.4,\"#fde0ef\"],[0.5,\"#f7f7f7\"],[0.6,\"#e6f5d0\"],[0.7,\"#b8e186\"],[0.8,\"#7fbc41\"],[0.9,\"#4d9221\"],[1,\"#276419\"]],\"sequential\":[[0.0,\"#0d0887\"],[0.1111111111111111,\"#46039f\"],[0.2222222222222222,\"#7201a8\"],[0.3333333333333333,\"#9c179e\"],[0.4444444444444444,\"#bd3786\"],[0.5555555555555556,\"#d8576b\"],[0.6666666666666666,\"#ed7953\"],[0.7777777777777778,\"#fb9f3a\"],[0.8888888888888888,\"#fdca26\"],[1.0,\"#f0f921\"]],\"sequentialminus\":[[0.0,\"#0d0887\"],[0.1111111111111111,\"#46039f\"],[0.2222222222222222,\"#7201a8\"],[0.3333333333333333,\"#9c179e\"],[0.4444444444444444,\"#bd3786\"],[0.5555555555555556,\"#d8576b\"],[0.6666666666666666,\"#ed7953\"],[0.7777777777777778,\"#fb9f3a\"],[0.8888888888888888,\"#fdca26\"],[1.0,\"#f0f921\"]]},\"colorway\":[\"#636efa\",\"#EF553B\",\"#00cc96\",\"#ab63fa\",\"#FFA15A\",\"#19d3f3\",\"#FF6692\",\"#B6E880\",\"#FF97FF\",\"#FECB52\"],\"font\":{\"color\":\"#2a3f5f\"},\"geo\":{\"bgcolor\":\"white\",\"lakecolor\":\"white\",\"landcolor\":\"#E5ECF6\",\"showlakes\":true,\"showland\":true,\"subunitcolor\":\"white\"},\"hoverlabel\":{\"align\":\"left\"},\"hovermode\":\"closest\",\"mapbox\":{\"style\":\"light\"},\"paper_bgcolor\":\"white\",\"plot_bgcolor\":\"#E5ECF6\",\"polar\":{\"angularaxis\":{\"gridcolor\":\"white\",\"linecolor\":\"white\",\"ticks\":\"\"},\"bgcolor\":\"#E5ECF6\",\"radialaxis\":{\"gridcolor\":\"white\",\"linecolor\":\"white\",\"ticks\":\"\"}},\"scene\":{\"xaxis\":{\"backgroundcolor\":\"#E5ECF6\",\"gridcolor\":\"white\",\"gridwidth\":2,\"linecolor\":\"white\",\"showbackground\":true,\"ticks\":\"\",\"zerolinecolor\":\"white\"},\"yaxis\":{\"backgroundcolor\":\"#E5ECF6\",\"gridcolor\":\"white\",\"gridwidth\":2,\"linecolor\":\"white\",\"showbackground\":true,\"ticks\":\"\",\"zerolinecolor\":\"white\"},\"zaxis\":{\"backgroundcolor\":\"#E5ECF6\",\"gridcolor\":\"white\",\"gridwidth\":2,\"linecolor\":\"white\",\"showbackground\":true,\"ticks\":\"\",\"zerolinecolor\":\"white\"}},\"shapedefaults\":{\"line\":{\"color\":\"#2a3f5f\"}},\"ternary\":{\"aaxis\":{\"gridcolor\":\"white\",\"linecolor\":\"white\",\"ticks\":\"\"},\"baxis\":{\"gridcolor\":\"white\",\"linecolor\":\"white\",\"ticks\":\"\"},\"bgcolor\":\"#E5ECF6\",\"caxis\":{\"gridcolor\":\"white\",\"linecolor\":\"white\",\"ticks\":\"\"}},\"title\":{\"x\":0.05},\"xaxis\":{\"automargin\":true,\"gridcolor\":\"white\",\"linecolor\":\"white\",\"ticks\":\"\",\"title\":{\"standoff\":15},\"zerolinecolor\":\"white\",\"zerolinewidth\":2},\"yaxis\":{\"automargin\":true,\"gridcolor\":\"white\",\"linecolor\":\"white\",\"ticks\":\"\",\"title\":{\"standoff\":15},\"zerolinecolor\":\"white\",\"zerolinewidth\":2}}},\"xaxis\":{\"anchor\":\"y\",\"domain\":[0.0,1.0],\"title\":{\"text\":\"index\"}},\"yaxis\":{\"anchor\":\"x\",\"domain\":[0.0,1.0],\"title\":{\"text\":\"value\"}},\"legend\":{\"title\":{\"text\":\"variable\"},\"tracegroupgap\":0},\"margin\":{\"t\":60},\"barmode\":\"relative\"},                        {\"responsive\": true}                    ).then(function(){\n",
              "                            \n",
              "var gd = document.getElementById('a4f8244a-fb3b-4040-b131-924d37efce27');\n",
              "var x = new MutationObserver(function (mutations, observer) {{\n",
              "        var display = window.getComputedStyle(gd).display;\n",
              "        if (!display || display === 'none') {{\n",
              "            console.log([gd, 'removed!']);\n",
              "            Plotly.purge(gd);\n",
              "            observer.disconnect();\n",
              "        }}\n",
              "}});\n",
              "\n",
              "// Listen for the removal of the full notebook cells\n",
              "var notebookContainer = gd.closest('#notebook-container');\n",
              "if (notebookContainer) {{\n",
              "    x.observe(notebookContainer, {childList: true});\n",
              "}}\n",
              "\n",
              "// Listen for the clearing of the current output cell\n",
              "var outputEl = gd.closest('.output');\n",
              "if (outputEl) {{\n",
              "    x.observe(outputEl, {childList: true});\n",
              "}}\n",
              "\n",
              "                        })                };                            </script>        </div>\n",
              "</body>\n",
              "</html>"
            ]
          },
          "metadata": {}
        }
      ]
    },
    {
      "cell_type": "code",
      "source": [
        "dataframe['ad_source'] = dataframe['ad_source'].replace(np.nan, 'Facebook')"
      ],
      "metadata": {
        "id": "kbbfPwKOf1GG"
      },
      "execution_count": null,
      "outputs": []
    },
    {
      "cell_type": "code",
      "source": [
        "round(100*(dataframe.isnull().sum()/len(dataframe.index)), 2)"
      ],
      "metadata": {
        "colab": {
          "base_uri": "https://localhost:8080/"
        },
        "id": "FVma8CLWgEBC",
        "outputId": "8f3fb7b9-7b0d-49c9-8ef7-766e6f4d38b4"
      },
      "execution_count": null,
      "outputs": [
        {
          "output_type": "execute_result",
          "data": {
            "text/plain": [
              "ID                                            3.79\n",
              "ad_source                                     0.00\n",
              "assigned_setter                              14.40\n",
              "checkout_url                                 11.88\n",
              "day_of_the_week                              29.03\n",
              "                                             ...  \n",
              "hs_lifecyclestage_lead_date                  11.14\n",
              "lifecyclestage                                6.68\n",
              "hs_lifecyclestage_salesqualifiedlead_date    20.04\n",
              "createdate                                    6.31\n",
              "converted                                     0.00\n",
              "Length: 120, dtype: float64"
            ]
          },
          "metadata": {},
          "execution_count": 1428
        }
      ]
    },
    {
      "cell_type": "markdown",
      "source": [
        "##Assigned Setter"
      ],
      "metadata": {
        "id": "g_Di-JhqgKBq"
      }
    },
    {
      "cell_type": "code",
      "source": [
        "dataframe['assigned_setter'].describe()"
      ],
      "metadata": {
        "colab": {
          "base_uri": "https://localhost:8080/"
        },
        "id": "1EfD9EBtgPX5",
        "outputId": "23c879b6-e5eb-484d-a884-c3037f1b98d8"
      },
      "execution_count": null,
      "outputs": [
        {
          "output_type": "execute_result",
          "data": {
            "text/plain": [
              "count    1.153000e+03\n",
              "mean     3.020842e+08\n",
              "std      2.864515e+07\n",
              "min      9.814226e+07\n",
              "25%      2.941362e+08\n",
              "50%      2.941380e+08\n",
              "75%      3.172030e+08\n",
              "max      3.429206e+08\n",
              "Name: assigned_setter, dtype: float64"
            ]
          },
          "metadata": {},
          "execution_count": 1429
        }
      ]
    },
    {
      "cell_type": "code",
      "source": [
        "dataframe['assigned_setter'].isnull().sum()"
      ],
      "metadata": {
        "colab": {
          "base_uri": "https://localhost:8080/"
        },
        "id": "h2s-QzA4rcXb",
        "outputId": "28e5e0ea-4c7a-4466-fa04-7fdbb09b638b"
      },
      "execution_count": null,
      "outputs": [
        {
          "output_type": "execute_result",
          "data": {
            "text/plain": [
              "194"
            ]
          },
          "metadata": {},
          "execution_count": 1430
        }
      ]
    },
    {
      "cell_type": "code",
      "source": [
        "mean = dataframe['assigned_setter'].mean()"
      ],
      "metadata": {
        "id": "IS4LixD3hf1C"
      },
      "execution_count": null,
      "outputs": []
    },
    {
      "cell_type": "code",
      "source": [
        "dataframe['assigned_setter'] = dataframe['assigned_setter'].replace(np.nan, mean)"
      ],
      "metadata": {
        "id": "jtI8UMpvh3Fj"
      },
      "execution_count": null,
      "outputs": []
    },
    {
      "cell_type": "code",
      "source": [
        "dataframe['assigned_setter'].isnull().sum()"
      ],
      "metadata": {
        "colab": {
          "base_uri": "https://localhost:8080/"
        },
        "id": "9yQieB0SrXOX",
        "outputId": "48f6177f-89d5-4833-8d8d-91509e19dd05"
      },
      "execution_count": null,
      "outputs": [
        {
          "output_type": "execute_result",
          "data": {
            "text/plain": [
              "0"
            ]
          },
          "metadata": {},
          "execution_count": 1433
        }
      ]
    },
    {
      "cell_type": "markdown",
      "source": [
        "##Cheackout_url"
      ],
      "metadata": {
        "id": "yOEg6Vo-iGFz"
      }
    },
    {
      "cell_type": "code",
      "source": [
        "dataframe['checkout_url'].describe()"
      ],
      "metadata": {
        "colab": {
          "base_uri": "https://localhost:8080/"
        },
        "id": "C4a9QS4uiPk7",
        "outputId": "ed2e49f2-2dbd-4130-d2c4-e32337faf434"
      },
      "execution_count": null,
      "outputs": [
        {
          "output_type": "execute_result",
          "data": {
            "text/plain": [
              "count                                                  1187\n",
              "unique                                                    5\n",
              "top       https://help.pompaworkshop.com/products/pompa-...\n",
              "freq                                                    983\n",
              "Name: checkout_url, dtype: object"
            ]
          },
          "metadata": {},
          "execution_count": 1434
        }
      ]
    },
    {
      "cell_type": "code",
      "source": [
        "dataframe['checkout_url'].isnull().sum()"
      ],
      "metadata": {
        "colab": {
          "base_uri": "https://localhost:8080/"
        },
        "id": "I18-nuJorIXh",
        "outputId": "a1bdb785-62cc-4f26-e8e7-0953232768ee"
      },
      "execution_count": null,
      "outputs": [
        {
          "output_type": "execute_result",
          "data": {
            "text/plain": [
              "160"
            ]
          },
          "metadata": {},
          "execution_count": 1435
        }
      ]
    },
    {
      "cell_type": "code",
      "source": [
        "value = dataframe['checkout_url'].value_counts()"
      ],
      "metadata": {
        "id": "7RskVn3tiZSD"
      },
      "execution_count": null,
      "outputs": []
    },
    {
      "cell_type": "code",
      "source": [
        "fig = px.bar(value)\n",
        "fig.show()"
      ],
      "metadata": {
        "colab": {
          "base_uri": "https://localhost:8080/",
          "height": 542
        },
        "id": "-W5l8VaIjB_y",
        "outputId": "f154e5fb-ba37-4218-945c-7dd891b0e89d"
      },
      "execution_count": null,
      "outputs": [
        {
          "output_type": "display_data",
          "data": {
            "text/html": [
              "<html>\n",
              "<head><meta charset=\"utf-8\" /></head>\n",
              "<body>\n",
              "    <div>            <script src=\"https://cdnjs.cloudflare.com/ajax/libs/mathjax/2.7.5/MathJax.js?config=TeX-AMS-MML_SVG\"></script><script type=\"text/javascript\">if (window.MathJax) {MathJax.Hub.Config({SVG: {font: \"STIX-Web\"}});}</script>                <script type=\"text/javascript\">window.PlotlyConfig = {MathJaxConfig: 'local'};</script>\n",
              "        <script src=\"https://cdn.plot.ly/plotly-2.8.3.min.js\"></script>                <div id=\"17999632-c556-4cc9-a4b0-19e6b859fda5\" class=\"plotly-graph-div\" style=\"height:525px; width:100%;\"></div>            <script type=\"text/javascript\">                                    window.PLOTLYENV=window.PLOTLYENV || {};                                    if (document.getElementById(\"17999632-c556-4cc9-a4b0-19e6b859fda5\")) {                    Plotly.newPlot(                        \"17999632-c556-4cc9-a4b0-19e6b859fda5\",                        [{\"alignmentgroup\":\"True\",\"hovertemplate\":\"variable=checkout_url<br>index=%{x}<br>value=%{y}<extra></extra>\",\"legendgroup\":\"checkout_url\",\"marker\":{\"color\":\"#636efa\",\"pattern\":{\"shape\":\"\"}},\"name\":\"checkout_url\",\"offsetgroup\":\"checkout_url\",\"orientation\":\"v\",\"showlegend\":true,\"textposition\":\"auto\",\"x\":[\"https://help.pompaworkshop.com/products/pompa-program-consultation-na\",\"https://help.pompaworkshop.com/products/pompa-program-consultation-pcsr\",\"https://help.pompaworkshop.com/products/pompa-program-consultation\",\"https://help.pompaworkshop.com/products/pompa-program-consultation-thyroid\",\"https://help.pompaprogram.com/products/pompa-program-testing-consultation\"],\"xaxis\":\"x\",\"y\":[983,143,45,13,3],\"yaxis\":\"y\",\"type\":\"bar\"}],                        {\"template\":{\"data\":{\"bar\":[{\"error_x\":{\"color\":\"#2a3f5f\"},\"error_y\":{\"color\":\"#2a3f5f\"},\"marker\":{\"line\":{\"color\":\"#E5ECF6\",\"width\":0.5},\"pattern\":{\"fillmode\":\"overlay\",\"size\":10,\"solidity\":0.2}},\"type\":\"bar\"}],\"barpolar\":[{\"marker\":{\"line\":{\"color\":\"#E5ECF6\",\"width\":0.5},\"pattern\":{\"fillmode\":\"overlay\",\"size\":10,\"solidity\":0.2}},\"type\":\"barpolar\"}],\"carpet\":[{\"aaxis\":{\"endlinecolor\":\"#2a3f5f\",\"gridcolor\":\"white\",\"linecolor\":\"white\",\"minorgridcolor\":\"white\",\"startlinecolor\":\"#2a3f5f\"},\"baxis\":{\"endlinecolor\":\"#2a3f5f\",\"gridcolor\":\"white\",\"linecolor\":\"white\",\"minorgridcolor\":\"white\",\"startlinecolor\":\"#2a3f5f\"},\"type\":\"carpet\"}],\"choropleth\":[{\"colorbar\":{\"outlinewidth\":0,\"ticks\":\"\"},\"type\":\"choropleth\"}],\"contour\":[{\"colorbar\":{\"outlinewidth\":0,\"ticks\":\"\"},\"colorscale\":[[0.0,\"#0d0887\"],[0.1111111111111111,\"#46039f\"],[0.2222222222222222,\"#7201a8\"],[0.3333333333333333,\"#9c179e\"],[0.4444444444444444,\"#bd3786\"],[0.5555555555555556,\"#d8576b\"],[0.6666666666666666,\"#ed7953\"],[0.7777777777777778,\"#fb9f3a\"],[0.8888888888888888,\"#fdca26\"],[1.0,\"#f0f921\"]],\"type\":\"contour\"}],\"contourcarpet\":[{\"colorbar\":{\"outlinewidth\":0,\"ticks\":\"\"},\"type\":\"contourcarpet\"}],\"heatmap\":[{\"colorbar\":{\"outlinewidth\":0,\"ticks\":\"\"},\"colorscale\":[[0.0,\"#0d0887\"],[0.1111111111111111,\"#46039f\"],[0.2222222222222222,\"#7201a8\"],[0.3333333333333333,\"#9c179e\"],[0.4444444444444444,\"#bd3786\"],[0.5555555555555556,\"#d8576b\"],[0.6666666666666666,\"#ed7953\"],[0.7777777777777778,\"#fb9f3a\"],[0.8888888888888888,\"#fdca26\"],[1.0,\"#f0f921\"]],\"type\":\"heatmap\"}],\"heatmapgl\":[{\"colorbar\":{\"outlinewidth\":0,\"ticks\":\"\"},\"colorscale\":[[0.0,\"#0d0887\"],[0.1111111111111111,\"#46039f\"],[0.2222222222222222,\"#7201a8\"],[0.3333333333333333,\"#9c179e\"],[0.4444444444444444,\"#bd3786\"],[0.5555555555555556,\"#d8576b\"],[0.6666666666666666,\"#ed7953\"],[0.7777777777777778,\"#fb9f3a\"],[0.8888888888888888,\"#fdca26\"],[1.0,\"#f0f921\"]],\"type\":\"heatmapgl\"}],\"histogram\":[{\"marker\":{\"pattern\":{\"fillmode\":\"overlay\",\"size\":10,\"solidity\":0.2}},\"type\":\"histogram\"}],\"histogram2d\":[{\"colorbar\":{\"outlinewidth\":0,\"ticks\":\"\"},\"colorscale\":[[0.0,\"#0d0887\"],[0.1111111111111111,\"#46039f\"],[0.2222222222222222,\"#7201a8\"],[0.3333333333333333,\"#9c179e\"],[0.4444444444444444,\"#bd3786\"],[0.5555555555555556,\"#d8576b\"],[0.6666666666666666,\"#ed7953\"],[0.7777777777777778,\"#fb9f3a\"],[0.8888888888888888,\"#fdca26\"],[1.0,\"#f0f921\"]],\"type\":\"histogram2d\"}],\"histogram2dcontour\":[{\"colorbar\":{\"outlinewidth\":0,\"ticks\":\"\"},\"colorscale\":[[0.0,\"#0d0887\"],[0.1111111111111111,\"#46039f\"],[0.2222222222222222,\"#7201a8\"],[0.3333333333333333,\"#9c179e\"],[0.4444444444444444,\"#bd3786\"],[0.5555555555555556,\"#d8576b\"],[0.6666666666666666,\"#ed7953\"],[0.7777777777777778,\"#fb9f3a\"],[0.8888888888888888,\"#fdca26\"],[1.0,\"#f0f921\"]],\"type\":\"histogram2dcontour\"}],\"mesh3d\":[{\"colorbar\":{\"outlinewidth\":0,\"ticks\":\"\"},\"type\":\"mesh3d\"}],\"parcoords\":[{\"line\":{\"colorbar\":{\"outlinewidth\":0,\"ticks\":\"\"}},\"type\":\"parcoords\"}],\"pie\":[{\"automargin\":true,\"type\":\"pie\"}],\"scatter\":[{\"marker\":{\"colorbar\":{\"outlinewidth\":0,\"ticks\":\"\"}},\"type\":\"scatter\"}],\"scatter3d\":[{\"line\":{\"colorbar\":{\"outlinewidth\":0,\"ticks\":\"\"}},\"marker\":{\"colorbar\":{\"outlinewidth\":0,\"ticks\":\"\"}},\"type\":\"scatter3d\"}],\"scattercarpet\":[{\"marker\":{\"colorbar\":{\"outlinewidth\":0,\"ticks\":\"\"}},\"type\":\"scattercarpet\"}],\"scattergeo\":[{\"marker\":{\"colorbar\":{\"outlinewidth\":0,\"ticks\":\"\"}},\"type\":\"scattergeo\"}],\"scattergl\":[{\"marker\":{\"colorbar\":{\"outlinewidth\":0,\"ticks\":\"\"}},\"type\":\"scattergl\"}],\"scattermapbox\":[{\"marker\":{\"colorbar\":{\"outlinewidth\":0,\"ticks\":\"\"}},\"type\":\"scattermapbox\"}],\"scatterpolar\":[{\"marker\":{\"colorbar\":{\"outlinewidth\":0,\"ticks\":\"\"}},\"type\":\"scatterpolar\"}],\"scatterpolargl\":[{\"marker\":{\"colorbar\":{\"outlinewidth\":0,\"ticks\":\"\"}},\"type\":\"scatterpolargl\"}],\"scatterternary\":[{\"marker\":{\"colorbar\":{\"outlinewidth\":0,\"ticks\":\"\"}},\"type\":\"scatterternary\"}],\"surface\":[{\"colorbar\":{\"outlinewidth\":0,\"ticks\":\"\"},\"colorscale\":[[0.0,\"#0d0887\"],[0.1111111111111111,\"#46039f\"],[0.2222222222222222,\"#7201a8\"],[0.3333333333333333,\"#9c179e\"],[0.4444444444444444,\"#bd3786\"],[0.5555555555555556,\"#d8576b\"],[0.6666666666666666,\"#ed7953\"],[0.7777777777777778,\"#fb9f3a\"],[0.8888888888888888,\"#fdca26\"],[1.0,\"#f0f921\"]],\"type\":\"surface\"}],\"table\":[{\"cells\":{\"fill\":{\"color\":\"#EBF0F8\"},\"line\":{\"color\":\"white\"}},\"header\":{\"fill\":{\"color\":\"#C8D4E3\"},\"line\":{\"color\":\"white\"}},\"type\":\"table\"}]},\"layout\":{\"annotationdefaults\":{\"arrowcolor\":\"#2a3f5f\",\"arrowhead\":0,\"arrowwidth\":1},\"autotypenumbers\":\"strict\",\"coloraxis\":{\"colorbar\":{\"outlinewidth\":0,\"ticks\":\"\"}},\"colorscale\":{\"diverging\":[[0,\"#8e0152\"],[0.1,\"#c51b7d\"],[0.2,\"#de77ae\"],[0.3,\"#f1b6da\"],[0.4,\"#fde0ef\"],[0.5,\"#f7f7f7\"],[0.6,\"#e6f5d0\"],[0.7,\"#b8e186\"],[0.8,\"#7fbc41\"],[0.9,\"#4d9221\"],[1,\"#276419\"]],\"sequential\":[[0.0,\"#0d0887\"],[0.1111111111111111,\"#46039f\"],[0.2222222222222222,\"#7201a8\"],[0.3333333333333333,\"#9c179e\"],[0.4444444444444444,\"#bd3786\"],[0.5555555555555556,\"#d8576b\"],[0.6666666666666666,\"#ed7953\"],[0.7777777777777778,\"#fb9f3a\"],[0.8888888888888888,\"#fdca26\"],[1.0,\"#f0f921\"]],\"sequentialminus\":[[0.0,\"#0d0887\"],[0.1111111111111111,\"#46039f\"],[0.2222222222222222,\"#7201a8\"],[0.3333333333333333,\"#9c179e\"],[0.4444444444444444,\"#bd3786\"],[0.5555555555555556,\"#d8576b\"],[0.6666666666666666,\"#ed7953\"],[0.7777777777777778,\"#fb9f3a\"],[0.8888888888888888,\"#fdca26\"],[1.0,\"#f0f921\"]]},\"colorway\":[\"#636efa\",\"#EF553B\",\"#00cc96\",\"#ab63fa\",\"#FFA15A\",\"#19d3f3\",\"#FF6692\",\"#B6E880\",\"#FF97FF\",\"#FECB52\"],\"font\":{\"color\":\"#2a3f5f\"},\"geo\":{\"bgcolor\":\"white\",\"lakecolor\":\"white\",\"landcolor\":\"#E5ECF6\",\"showlakes\":true,\"showland\":true,\"subunitcolor\":\"white\"},\"hoverlabel\":{\"align\":\"left\"},\"hovermode\":\"closest\",\"mapbox\":{\"style\":\"light\"},\"paper_bgcolor\":\"white\",\"plot_bgcolor\":\"#E5ECF6\",\"polar\":{\"angularaxis\":{\"gridcolor\":\"white\",\"linecolor\":\"white\",\"ticks\":\"\"},\"bgcolor\":\"#E5ECF6\",\"radialaxis\":{\"gridcolor\":\"white\",\"linecolor\":\"white\",\"ticks\":\"\"}},\"scene\":{\"xaxis\":{\"backgroundcolor\":\"#E5ECF6\",\"gridcolor\":\"white\",\"gridwidth\":2,\"linecolor\":\"white\",\"showbackground\":true,\"ticks\":\"\",\"zerolinecolor\":\"white\"},\"yaxis\":{\"backgroundcolor\":\"#E5ECF6\",\"gridcolor\":\"white\",\"gridwidth\":2,\"linecolor\":\"white\",\"showbackground\":true,\"ticks\":\"\",\"zerolinecolor\":\"white\"},\"zaxis\":{\"backgroundcolor\":\"#E5ECF6\",\"gridcolor\":\"white\",\"gridwidth\":2,\"linecolor\":\"white\",\"showbackground\":true,\"ticks\":\"\",\"zerolinecolor\":\"white\"}},\"shapedefaults\":{\"line\":{\"color\":\"#2a3f5f\"}},\"ternary\":{\"aaxis\":{\"gridcolor\":\"white\",\"linecolor\":\"white\",\"ticks\":\"\"},\"baxis\":{\"gridcolor\":\"white\",\"linecolor\":\"white\",\"ticks\":\"\"},\"bgcolor\":\"#E5ECF6\",\"caxis\":{\"gridcolor\":\"white\",\"linecolor\":\"white\",\"ticks\":\"\"}},\"title\":{\"x\":0.05},\"xaxis\":{\"automargin\":true,\"gridcolor\":\"white\",\"linecolor\":\"white\",\"ticks\":\"\",\"title\":{\"standoff\":15},\"zerolinecolor\":\"white\",\"zerolinewidth\":2},\"yaxis\":{\"automargin\":true,\"gridcolor\":\"white\",\"linecolor\":\"white\",\"ticks\":\"\",\"title\":{\"standoff\":15},\"zerolinecolor\":\"white\",\"zerolinewidth\":2}}},\"xaxis\":{\"anchor\":\"y\",\"domain\":[0.0,1.0],\"title\":{\"text\":\"index\"}},\"yaxis\":{\"anchor\":\"x\",\"domain\":[0.0,1.0],\"title\":{\"text\":\"value\"}},\"legend\":{\"title\":{\"text\":\"variable\"},\"tracegroupgap\":0},\"margin\":{\"t\":60},\"barmode\":\"relative\"},                        {\"responsive\": true}                    ).then(function(){\n",
              "                            \n",
              "var gd = document.getElementById('17999632-c556-4cc9-a4b0-19e6b859fda5');\n",
              "var x = new MutationObserver(function (mutations, observer) {{\n",
              "        var display = window.getComputedStyle(gd).display;\n",
              "        if (!display || display === 'none') {{\n",
              "            console.log([gd, 'removed!']);\n",
              "            Plotly.purge(gd);\n",
              "            observer.disconnect();\n",
              "        }}\n",
              "}});\n",
              "\n",
              "// Listen for the removal of the full notebook cells\n",
              "var notebookContainer = gd.closest('#notebook-container');\n",
              "if (notebookContainer) {{\n",
              "    x.observe(notebookContainer, {childList: true});\n",
              "}}\n",
              "\n",
              "// Listen for the clearing of the current output cell\n",
              "var outputEl = gd.closest('.output');\n",
              "if (outputEl) {{\n",
              "    x.observe(outputEl, {childList: true});\n",
              "}}\n",
              "\n",
              "                        })                };                            </script>        </div>\n",
              "</body>\n",
              "</html>"
            ]
          },
          "metadata": {}
        }
      ]
    },
    {
      "cell_type": "code",
      "source": [
        "dataframe['checkout_url'] = dataframe['checkout_url'].replace(np.nan, 'https://help.pompaworkshop.com/products/pompa-program-consultation-na')"
      ],
      "metadata": {
        "id": "a8Dq1ZovjRaD"
      },
      "execution_count": null,
      "outputs": []
    },
    {
      "cell_type": "code",
      "source": [
        "dataframe['checkout_url'].isnull().sum()"
      ],
      "metadata": {
        "colab": {
          "base_uri": "https://localhost:8080/"
        },
        "id": "LJXbPY3CrDZV",
        "outputId": "bb6b2d0c-7edf-44c7-96c3-ef82fd343539"
      },
      "execution_count": null,
      "outputs": [
        {
          "output_type": "execute_result",
          "data": {
            "text/plain": [
              "0"
            ]
          },
          "metadata": {},
          "execution_count": 1439
        }
      ]
    },
    {
      "cell_type": "markdown",
      "source": [
        "## City"
      ],
      "metadata": {
        "id": "EjrYL86cjkdZ"
      }
    },
    {
      "cell_type": "code",
      "source": [
        "dataframe['city'].describe()"
      ],
      "metadata": {
        "colab": {
          "base_uri": "https://localhost:8080/"
        },
        "id": "PW1B7_wnkkCM",
        "outputId": "e482e130-abc3-4459-ebd9-eb458fdb8e39"
      },
      "execution_count": null,
      "outputs": [
        {
          "output_type": "execute_result",
          "data": {
            "text/plain": [
              "count         1154\n",
              "unique         902\n",
              "top       New York\n",
              "freq             9\n",
              "Name: city, dtype: object"
            ]
          },
          "metadata": {},
          "execution_count": 1440
        }
      ]
    },
    {
      "cell_type": "code",
      "source": [
        "dataframe['city'].isnull().sum()"
      ],
      "metadata": {
        "colab": {
          "base_uri": "https://localhost:8080/"
        },
        "id": "1MtL8YCKq_LT",
        "outputId": "eb3b6102-f883-4fc6-f061-e00294b27d94"
      },
      "execution_count": null,
      "outputs": [
        {
          "output_type": "execute_result",
          "data": {
            "text/plain": [
              "193"
            ]
          },
          "metadata": {},
          "execution_count": 1441
        }
      ]
    },
    {
      "cell_type": "code",
      "source": [
        "value = dataframe['city'].value_counts()"
      ],
      "metadata": {
        "id": "RzwPffRoj18J"
      },
      "execution_count": null,
      "outputs": []
    },
    {
      "cell_type": "code",
      "source": [
        "fig = px.bar(value)\n",
        "fig.show()"
      ],
      "metadata": {
        "colab": {
          "base_uri": "https://localhost:8080/",
          "height": 542
        },
        "id": "HWXZtmTLnzue",
        "outputId": "ef61b027-8286-4a31-94d6-4b5ed8ef8d42"
      },
      "execution_count": null,
      "outputs": [
        {
          "output_type": "display_data",
          "data": {
            "text/html": [
              "<html>\n",
              "<head><meta charset=\"utf-8\" /></head>\n",
              "<body>\n",
              "    <div>            <script src=\"https://cdnjs.cloudflare.com/ajax/libs/mathjax/2.7.5/MathJax.js?config=TeX-AMS-MML_SVG\"></script><script type=\"text/javascript\">if (window.MathJax) {MathJax.Hub.Config({SVG: {font: \"STIX-Web\"}});}</script>                <script type=\"text/javascript\">window.PlotlyConfig = {MathJaxConfig: 'local'};</script>\n",
              "        <script src=\"https://cdn.plot.ly/plotly-2.8.3.min.js\"></script>                <div id=\"d3b0f7ec-d63b-4815-bc5d-0db8da8ee559\" class=\"plotly-graph-div\" style=\"height:525px; width:100%;\"></div>            <script type=\"text/javascript\">                                    window.PLOTLYENV=window.PLOTLYENV || {};                                    if (document.getElementById(\"d3b0f7ec-d63b-4815-bc5d-0db8da8ee559\")) {                    Plotly.newPlot(                        \"d3b0f7ec-d63b-4815-bc5d-0db8da8ee559\",                        [{\"alignmentgroup\":\"True\",\"hovertemplate\":\"variable=city<br>index=%{x}<br>value=%{y}<extra></extra>\",\"legendgroup\":\"city\",\"marker\":{\"color\":\"#636efa\",\"pattern\":{\"shape\":\"\"}},\"name\":\"city\",\"offsetgroup\":\"city\",\"orientation\":\"v\",\"showlegend\":true,\"textposition\":\"auto\",\"x\":[\"New York\",\"Phoenix\",\"San Antonio\",\"Austin\",\"Mesa\",\"Jasper\",\"Miami\",\"Orlando\",\"Springfield\",\"Tempe\",\"Colorado Springs\",\"Homestead\",\"Huntington Beach\",\"Fort Worth\",\"Bronx\",\"San Marcos\",\"Fairfield\",\"park city\",\"Houston\",\"Chicago\",\"Grand Rapids\",\"Rio Rancho\",\"Henderson\",\"Portland\",\"New Braunfels\",\"Charleston\",\"Bristol\",\"San Jose\",\"Rancho Cucamonga\",\"Evansville\",\"Pocatello\",\"San Juan Capistrano\",\"Los Angeles\",\"Cleveland\",\"Lexington\",\"Atlanta\",\"Salem\",\"Weston\",\"Cypress\",\"Indianapolis\",\"Oklahoma City\",\"Long Beach\",\"El Paso\",\"Tampa\",\"Hollywood\",\"Syosset\",\"Franklin\",\"Concord\",\"Montgomery\",\"Arlington\",\"Oxnard\",\"Dallas\",\"Eagle\",\"Santa Monica\",\"Columbia\",\"Rogers\",\"Sarasota\",\"Fairview\",\"Brooklyn\",\"Piedmont\",\"Mount Juliet\",\"Findlay\",\"Hurricane\",\"Mayfield\",\"Tooele\",\"Vancouver\",\"Spring Hill\",\"La Mirada\",\"Auburn\",\"Belmont\",\"Yorkville\",\"Sonoma\",\"Baytown\",\"Elizabeth\",\"Spokane\",\"Birmingham\",\"Kansas City\",\"Las Vegas\",\"Bellevue\",\"Erie\",\"Elkhart\",\"Fort Walton Beach\",\"Knoxville\",\"Collierville\",\"Brentwood\",\"Waterloo\",\"Minneapolis\",\"Libertyville\",\"Lima\",\"Maryville\",\"Bellbrook\",\"Staten Island\",\"Rockaway\",\"Hesperia\",\"Bath\",\"Riviera Beach\",\"Grass Valley\",\"Mapleton\",\"Everett\",\"Boca Raton\",\"Lake Havasu City\",\"Walnut Creek\",\"Peoria\",\"Bellingham\",\"LUTZ\",\"Glenwood\",\"Farmington\",\"Redmond\",\"Rancho Santa Margarita\",\"Youngstown\",\"South Bend\",\"Prescott Valley\",\"LITTLETON\",\"Tucson\",\"Parkland\",\"Buckeye\",\"Leslie\",\"Lawrence\",\"Davie\",\"Valencia\",\"Naples\",\"Bossier City\",\"San Diego\",\"Delray Beach\",\"Temple\",\"Sacramento\",\"Jarrell\",\"Severna Park\",\"Woodway\",\"Poway\",\"Lodi\",\"Bradford\",\"Columbus\",\"Meridian\",\"Sterling\",\"Green Valley\",\"Port Charlotte\",\"Seattle\",\"Fort Belvoir\",\"Reno\",\"Sunnyvale\",\"Silver Spring\",\"Bradenton\",\"Wasilla\",\"Marietta\",\"Chico\",\"The Villages\",\"Boonville\",\"New Haven\",\"Bend\",\"Plano\",\"Troy\",\"Smithfield\",\"Smyrna\",\"Fort Wayne\",\"Davenport\",\"Alpharetta\",\"Basking Ridge\",\"Camden\",\"Rexburg\",\"Baton Rouge\",\"Fort Smith\",\"Lyman\",\"Vineyard\",\"Oakley\",\"Kamiah\",\"Los Alamitos\",\"Fort Collins\",\"Beach City\",\"Renton\",\"RIVERTON\",\"Bronxville\",\"Bell City\",\"New Kent\",\"Camas\",\"Glenburn\",\"Swansboro\",\"Guthrie\",\"N Las Vegas\",\"Grandview\",\"Jupiter\",\"Louisville\",\"Dickson\",\"Ojai\",\"Irving\",\"Saginaw\",\"Murrells Inlet\",\"Trego\",\"Kirbyville\",\"Greenacres\",\"WOMELSDORF\",\"Steubenville\",\"Little Egg Harbor\",\"Provo\",\"Ballston Lake\",\"Winchester\",\"Bloomington\",\"Ventura\",\"Caldwell\",\"Newport News\",\"Cedar springs\",\"Collegeville\",\"Stroudsburg\",\"SugarLand\",\"La Pine\",\"Redfield\",\"Alta Loma\",\"El Segundo\",\"Limon\",\"Parrish\",\"Lakewood\",\"Waco\",\"Tinley Park\",\"Calhoun\",\"Como\",\"Ocean Springs\",\"Golden\",\"Westborough\",\"Shawnee\",\"Kenosha\",\"Rockingham\",\"Newport Beach\",\"Sandia\",\"TALLAHASSEE\",\"Beebe\",\"Lake Shore\",\"Kenly\",\"Olney\",\"Greensboro\",\"Sharps Chapel\",\"Huntsville\",\"Venice\",\"Gouldsboro\",\"Titusville\",\"Avon lake\",\"Hinckley\",\"Abrams\",\"Goodlettsville\",\"Kingwood\",\"Covington\",\"Centereach\",\"Grosse Ile\",\"Vallejo\",\"BAKERSFIELD\",\"Emmett\",\"Trabuco Canyon\",\"South Plainfield\",\"Howey In The Hills\",\"Absecon\",\"Oak Forest\",\"Winona\",\"Lufkin\",\"La Jolla\",\"Freehold\",\"Gilbert\",\"Fort pierce\",\"Carnation\",\"Abingdon\",\"North Augusta\",\"Pasco\",\"harahan\",\"Marshfield\",\"CHULA VISTA\",\"Cokeville\",\"Hidden Hills\",\"Purcellville\",\"Indian Rocks Beach\",\"Pgh\",\"Ball Ground\",\"SUWANEE\",\"New Era\",\"Horseshoe Bay\",\"Doral\",\"Los Alamos\",\"Fountain Hills\",\"Harriman\",\"Littleton\",\"Shrewsbury\",\"Kaysville\",\"Gulfport\",\"Gunnison\",\"Carlsbad\",\"Carrollton\",\"Carlinville\",\"CINCINNATI\",\"Newark\",\"string:SALEM\",\"SAINT LANDRY\",\"Porter Heights\",\"Broomfy\",\"Lone Jack\",\"Southbury\",\"Lafayette\",\"Macomb\",\"Idaho Falls\",\"Minnetonka\",\"Newburgh\",\"Aurora\",\"San Dimas\",\"Ludowici\",\"Drummonds\",\"Signal Hill\",\"Solvang\",\"Lake forest\",\"Ashburn\",\"Longwood\",\"Spring\",\"Encino\",\"N. Lewisburg\",\"Brogue\",\"Dillon\",\"Dundee\",\"Wells\",\"Brodheadsville\",\"Metairie\",\"Eldon\",\"Oviedo\",\"Groveland\",\"mercer island\",\"Cambridge\",\"CHESAPEAKE\",\"Maysville\",\"Bremerton\",\"Furlong\",\"Athens\",\"Fairborn\",\"Midlothian\",\"Parma  Heights\",\"Conneaut Lake\",\"Windermere\",\"Laurens\",\"Islip\",\"Chantilly\",\"Stoughton\",\"Akwesasne\",\"Broken Arrow\",\"Loudon\",\"Strasburg\",\"Great meadows\",\"Liberty Twp\",\"Miramar\",\"Beaver\",\"Big Sky\",\"Claremont\",\"Vienna\",\"Tigerton\",\"Davison\",\"Saint Louis\",\"Chesterfield\",\"PONTE VEDRA\",\"Inverness\",\"Huntingdon Valley\",\"St. Joseph\",\"West Lafayette\",\"Keizer\",\"Parma\",\"Oshkosh\",\"Eatonton\",\"Sandy Springs\",\"Stafford\",\"Tarpon Springs\",\"St Ignatius\",\"Palm harbor\",\"YUTAN\",\"Kingsville\",\"Glen Arm\",\"Larue\",\"Mulberry\",\"North Plainfield\",\"Richmond\",\"Brownstown\",\"Salina\",\"New Fairfield\",\"Fairview Heights\",\"Marfa\",\"Skandia\",\"Gallatin\",\"Fredericksburg\",\"Little Elm\",\"Taylors\",\"Kiowa\",\"helena\",\"East Lyme\",\"Henrico\",\"Tulsa\",\"Mercedes\",\"ONA\",\"Mystic\",\"Fort Littleton\",\"Morriston\",\"Johnson City\",\"Wales\",\"smithfield\",\"Indiantown\",\"Murrieta\",\"Ft Lauderdale\",\"Anthony\",\"Wayne\",\"Cave Creek\",\"Rock Springs\",\"Des Plaines\",\"Winter Garden\",\"Bristow\",\"Edwards\",\"Victoria\",\"Weidman\",\"Scobey\",\"Eau Claire\",\"Kingston\",\"Andrews\",\"Waukegan\",\"Hanover\",\"Gentry\",\"Cleburne\",\"Strongsville\",\"Victorville\",\"San Francisco\",\"Captain Cook\",\"Alexandria\",\"Hana\",\"Totowa\",\"Delta\",\"Chelsea\",\"Menifee\",\"Islamorada\",\"Vista\",\"Dundas\",\"Park City\",\"Thronton\",\"Merced\",\"DENVER\",\"Snohomish\",\"Pompano Beach\",\"Independence\",\"Amarillo\",\"Rutledge\",\"Wailuku\",\"Gordonville\",\"Oakford\",\"New Paltz\",\"Rineyville\",\"Fuquay Varina\",\"Holbrook\",\"Mason City\",\"Hemet\",\"Otoe\",\"Dutch Harbor\",\"Clio\",\"Rahway\",\"Burton\",\"Big Timber\",\"Valley Springs\",\"East Bethel\",\"Millington\",\"Redding\",\"Wahiawa\",\"Wilmington\",\"Kingsford\",\"LeSueur\",\"Lyndhurst\",\"Fallbrook\",\"Valley Village\",\"Lone Tree\",\"China Spring\",\"Lakewood Ranch\",\"Rock Spring\",\"Penn Yan\",\"Irvine\",\"Saint Francis\",\"E PEORIA\",\"Haleiwa\",\"Freeman\",\"Monteagle\",\"Snellville\",\"Hazleton\",\"Hartsville\",\"Eastvale\",\"North Hills\",\"Round Hill\",\"Kihei\",\"South Burlington\",\"Cabot\",\"Ringwood\",\"Newmarket\",\"Laredo\",\"Westminster\",\"Decatur\",\"Queen creek\",\"Merrick\",\"Tarentum\",\"San Ysidro\",\"Blairstown\",\"Langeloth\",\"RICHLAND\",\"Chapel Hill\",\"Fresno\",\"West Covina\",\"Oregon, Ohio 43616\",\"Palmer\",\"Atascadero\",\"LIBERTY HILL\",\"Meredith\",\"Rosedale\",\"Kohler\",\"Berlin Heights, Ohio\",\"Pickerington\",\"COLLEYVILLE\",\"Centerburg\",\"Newtown\",\"Glen Burnie\",\"Orland Park\",\"Custer\",\"Lebanon\",\"Myrtle Beach\",\"Crescent City\",\"South Elgin\",\"Wallace\",\"De Pere\",\"Durango\",\"Marco Island\",\"Sevierville\",\"Anderson\",\"Middle Island\",\"West Windsor\",\"Massapequa\",\"Windsor\",\"Akron\",\"Merritt Island\",\"Wenatchee\",\"Hiawatha\",\"Eads\",\"Chandler\",\"Boise\",\"St David\",\"Apex\",\"Reynoldsburg\",\"Villa Hills\",\"Corning\",\"Lakeland\",\"HOLMEN\",\"Jackson\",\"Houma\",\"Belfair\",\"Leola\",\"Hagerstown\",\"Spearman\",\"Cohasset\",\"Sparks\",\"Traskwood\",\"Clark Fork\",\"Pocasset\",\"Greenville\",\"Raytown\",\"little falls\",\"Genoa city\",\"Augusta\",\"Rancho Mission Viejo\",\"Sandy\",\"Soulsbyville\",\"Boscobel\",\"Mobile\",\"Gig Harbor\",\"Demopolis\",\"Orinda\",\"Cathedral City\",\"Fountain Inn\",\"Wyckoff\",\"Palisades Park\",\"Branson West\",\"Wellington\",\"Bullhead\",\"Prior Lake\",\"Gastonia\",\"Union\",\"Florissant\",\"Hallettsville\",\"Ferndale\",\"Richfield\",\"Lewisville\",\"Mondovi\",\"Maitland\",\"Lake Worth\",\"Humboldt\",\"Kendall Park\",\"Williams Bay\",\"Woodland Hills\",\"SPANISH FORK\",\"Passaic\",\"Nampa\",\"Pasadena\",\"Estes Park\",\"West Bloomfield\",\"Fontana\",\"Carbondale\",\"Odenton\",\"Owensboro\",\"Jena\",\"Round Rock\",\"Ormond Beach\",\"Nashville\",\"Sandston\",\"pickerington\",\"Folsom\",\"Livingston Manor\",\"South Park\",\"Bothell\",\"Rillito\",\"Roosevelt\",\"Tallahassee\",\"Scio\",\"Heber\",\"Corpus Christi\",\"Bonita springs\",\"Santa Rosa Beach\",\"Shrub Oak\",\"Wallingford, Connecticut, United States\",\"Arvada\",\"West Jordan\",\"Laguna niguel\",\"Canby\",\"Twin falls\",\"Troup\",\"Mammoth Lakes\",\"Bear\",\"Forest Hills\",\"El Monte\",\"White Pine\",\"Bloomingdale\",\"new baltimore\",\"Jacksonville Beach\",\"Lambertvillr\",\"Katy\",\"Cedar Park\",\"Eaton\",\"Webster\",\"Upper Marlboro\",\"Southaven\",\"Farmers Branch\",\"OLD SAYBROOK\",\"Big Sandy\",\"Jonesborough\",\"Jamaica plain\",\"Greenfield\",\"Wautoma\",\"Saline\",\"Williamsburg\",\"East Falmouth\",\"Escondido\",\"Martinsburg\",\"Eden\",\"Southgate\",\"Richmond Hill\",\"Albuquerque\",\"McKinney\",\"Lincoln\",\"Ashland\",\"Sylmar\",\"Sprague River\",\"Herriman\",\"Draper\",\"VA Beach\",\"Plymouth\",\"Roseville\",\"Chapel hill\",\"Saint Charles\",\"Tuscola\",\"Princeton\",\"Springville\",\"Wake Forest\",\"Huntington\",\"Agoura hills\",\"Garden Grove\",\"MOAB\",\"Americus\",\"New Iberia\",\"Hayward\",\"Oakdale\",\"Wedowee\",\"Needville\",\"Adrian\",\"Nesconset\",\"Mahwah\",\"LaFayette\",\"Bullard\",\"Red House\",\"South Holland\",\"Rock Creek\",\"Oldtown\",\"Penn Valley\",\"Albany\",\"Cranberry Twp\",\"Cincinnati\",\"Kountze\",\"Lolo\",\"Crown Point\",\"Moorpark\",\"North Fort Myers\",\"Howell\",\"Scottsdale\",\"Sparta\",\"Tebbetts\",\"Westfield\",\"Dahlonega\",\"Tahlequah\",\"Morton\",\"Madisonville\",\"Red Bluff\",\"Clay Center\",\"Cecil\",\"Bettendorf\",\"Derry\",\"Grapevine\",\"Cheyenne\",\"Lakeway\",\"Prairie Village\",\"Marshall\",\"Palatine\",\"Buffalo\",\"Camarillo\",\"Visalia\",\"Abilene\",\"South Ogden\",\"Norfolk\",\"Great Falls\",\"Statesville\",\"Wappingers Falls\",\"Ft myers\",\"los gatos\",\"Missoula\",\"Glendale\",\"JACKSBORO\",\"Pleasant Hill\",\"Cement City\",\"Castle Rock\",\"AUSTIN\",\"Royse City\",\"San Bernardino\",\"Fuquay-Varina\",\"San Leandro\",\"Palm Harbor\",\"Greenwich\",\"Monticello\",\"Soddy Daisy\",\"Lewisburg\",\"Sunrise\",\"Effie\",\"Waller\",\"Easton\",\"AUBURN\",\"Newton\",\"Orangeburg\",\"Overland Park\",\"Ponchatoula\",\"Waterford\",\"Memphis\",\"Moses Lake\",\"Gwynn Oak\",\"Mount Vernon\",\"North Ogden\",\"Marana\",\"Monroe\",\"Hancock\",\"Boston\",\"Show Low\",\"Hot springs\",\"Ridgewood\",\"Bell Gardens\",\"Dacula\",\"Galena\",\"Clearwater Beach\",\"Saint Clairsville\",\"Woodland Park\",\"Farmington Hills\",\"New Bern\",\"Overton\",\"Philadelphia\",\"Union Grove\",\"Clifton\",\"Loma\",\"Washington\",\"Opelika\",\"Vineland\",\"Greene\",\"SEVILLE\",\"Blaine\",\"Ore City\",\"Summit\",\"Naugatuck\",\"Northlake\",\"Waldo\",\"Eugene\",\"champaign\",\"TAYLORSVILLE\",\"East Haven\",\"Clovis\",\"Edison\",\"Stockton\",\"Roswell\",\"Acworth\",\"Jersey Village\",\"Clarksville\",\"Molalla\",\"North Pole\",\"Asheboro\",\"Lansing\",\"Rocky Hill\",\"Bee cave\",\"Middletown\",\"Houghton Lake\",\"Las vegas\",\"Levittown\",\"Follansbee\",\"Pembroke Pines\",\"Heath\",\"Ballston Spa\",\"West Deptford\",\"Johnson Creek\",\"Flushing\",\"Lakeside\",\"Cumming\",\"Schnecksville\",\"Harvest\",\"Foley\",\"Escalon\",\"Hudson\",\"Buford\",\"Camp Hill\",\"Bells\",\"Redondo Beach\",\"Sidney\",\"Bowling Green\",\"Coral Springs\",\"Starkville\",\"Sherman Oaks\",\"Belle Isle\",\"Ocala\",\"YuccaValley\",\"Eagle Mountain\",\"Cibolo\",\"Belleville\",\"Clinton\",\"Beaumont\",\"New Berlin\",\"Garland\",\"Mechanicsville\",\"Cullman\",\"Tehachapi\",\"Fort Pierce\",\"Selma\",\"Cpress\",\"Woodbridge\",\"Atl highlands\",\"Phenix City\",\"Hellertown\",\"Bozeman\",\"Woodburn\",\"Slaton\",\"Allentown\",\"Spring Lake\",\"Belvidere\",\"scottsdale\",\"Oroville\",\"Little River\",\"Bryn Athyn\",\"Yacolt\",\"Niederwald\",\"New Milford\",\"Lawrenceburg\",\"Gaithersburg\",\"Raleigh\",\"Eudora\",\"Gilroy\",\"Inman\",\"Eagle River\",\"Duncannon\",\"Thompsonville\",\"Gilbert Az 85298\",\"Page\",\"Cresco\",\"West Springfield\",\"Broadway\",\"Cape Coral\",\"Spanaway\",\"Blair\",\"Ramsey\",\"Flandreau\",\"Surprise\",\"Charlotte\",\"Ft. Wayne\",\"Liberty Hill\",\"Lewiston\",\"San Anselmo\",\"Chino Valley\",\"Cedar lake\",\"Laguna beach\",\"Modesto\",\"Yorba linda\",\"Queen Creek\",\"Tacoma\",\"East Aurora\",\"Hurst\",\"Clayton\"],\"xaxis\":\"x\",\"y\":[9,7,7,6,5,5,5,5,4,4,4,4,4,4,4,4,4,4,4,4,3,3,3,3,3,3,3,3,3,3,3,3,3,3,3,3,3,3,3,3,3,3,3,3,3,3,3,3,3,3,3,3,3,3,3,2,2,2,2,2,2,2,2,2,2,2,2,2,2,2,2,2,2,2,2,2,2,2,2,2,2,2,2,2,2,2,2,2,2,2,2,2,2,2,2,2,2,2,2,2,2,2,2,2,2,2,2,2,2,2,2,2,2,2,2,2,2,2,2,2,2,2,2,2,2,2,2,2,2,2,2,2,2,2,2,2,2,2,2,2,2,2,2,2,2,2,2,2,2,2,2,2,2,2,2,2,2,2,2,2,1,1,1,1,1,1,1,1,1,1,1,1,1,1,1,1,1,1,1,1,1,1,1,1,1,1,1,1,1,1,1,1,1,1,1,1,1,1,1,1,1,1,1,1,1,1,1,1,1,1,1,1,1,1,1,1,1,1,1,1,1,1,1,1,1,1,1,1,1,1,1,1,1,1,1,1,1,1,1,1,1,1,1,1,1,1,1,1,1,1,1,1,1,1,1,1,1,1,1,1,1,1,1,1,1,1,1,1,1,1,1,1,1,1,1,1,1,1,1,1,1,1,1,1,1,1,1,1,1,1,1,1,1,1,1,1,1,1,1,1,1,1,1,1,1,1,1,1,1,1,1,1,1,1,1,1,1,1,1,1,1,1,1,1,1,1,1,1,1,1,1,1,1,1,1,1,1,1,1,1,1,1,1,1,1,1,1,1,1,1,1,1,1,1,1,1,1,1,1,1,1,1,1,1,1,1,1,1,1,1,1,1,1,1,1,1,1,1,1,1,1,1,1,1,1,1,1,1,1,1,1,1,1,1,1,1,1,1,1,1,1,1,1,1,1,1,1,1,1,1,1,1,1,1,1,1,1,1,1,1,1,1,1,1,1,1,1,1,1,1,1,1,1,1,1,1,1,1,1,1,1,1,1,1,1,1,1,1,1,1,1,1,1,1,1,1,1,1,1,1,1,1,1,1,1,1,1,1,1,1,1,1,1,1,1,1,1,1,1,1,1,1,1,1,1,1,1,1,1,1,1,1,1,1,1,1,1,1,1,1,1,1,1,1,1,1,1,1,1,1,1,1,1,1,1,1,1,1,1,1,1,1,1,1,1,1,1,1,1,1,1,1,1,1,1,1,1,1,1,1,1,1,1,1,1,1,1,1,1,1,1,1,1,1,1,1,1,1,1,1,1,1,1,1,1,1,1,1,1,1,1,1,1,1,1,1,1,1,1,1,1,1,1,1,1,1,1,1,1,1,1,1,1,1,1,1,1,1,1,1,1,1,1,1,1,1,1,1,1,1,1,1,1,1,1,1,1,1,1,1,1,1,1,1,1,1,1,1,1,1,1,1,1,1,1,1,1,1,1,1,1,1,1,1,1,1,1,1,1,1,1,1,1,1,1,1,1,1,1,1,1,1,1,1,1,1,1,1,1,1,1,1,1,1,1,1,1,1,1,1,1,1,1,1,1,1,1,1,1,1,1,1,1,1,1,1,1,1,1,1,1,1,1,1,1,1,1,1,1,1,1,1,1,1,1,1,1,1,1,1,1,1,1,1,1,1,1,1,1,1,1,1,1,1,1,1,1,1,1,1,1,1,1,1,1,1,1,1,1,1,1,1,1,1,1,1,1,1,1,1,1,1,1,1,1,1,1,1,1,1,1,1,1,1,1,1,1,1,1,1,1,1,1,1,1,1,1,1,1,1,1,1,1,1,1,1,1,1,1,1,1,1,1,1,1,1,1,1,1,1,1,1,1,1,1,1,1,1,1,1,1,1,1,1,1,1,1,1,1,1,1,1,1,1,1,1,1,1,1,1,1,1,1,1,1,1,1,1,1,1,1,1,1,1,1,1,1,1,1,1,1,1,1,1,1,1,1,1,1,1,1,1,1,1,1,1,1,1,1,1,1,1,1,1,1,1,1,1,1,1,1,1,1,1,1,1,1,1,1,1,1,1],\"yaxis\":\"y\",\"type\":\"bar\"}],                        {\"template\":{\"data\":{\"bar\":[{\"error_x\":{\"color\":\"#2a3f5f\"},\"error_y\":{\"color\":\"#2a3f5f\"},\"marker\":{\"line\":{\"color\":\"#E5ECF6\",\"width\":0.5},\"pattern\":{\"fillmode\":\"overlay\",\"size\":10,\"solidity\":0.2}},\"type\":\"bar\"}],\"barpolar\":[{\"marker\":{\"line\":{\"color\":\"#E5ECF6\",\"width\":0.5},\"pattern\":{\"fillmode\":\"overlay\",\"size\":10,\"solidity\":0.2}},\"type\":\"barpolar\"}],\"carpet\":[{\"aaxis\":{\"endlinecolor\":\"#2a3f5f\",\"gridcolor\":\"white\",\"linecolor\":\"white\",\"minorgridcolor\":\"white\",\"startlinecolor\":\"#2a3f5f\"},\"baxis\":{\"endlinecolor\":\"#2a3f5f\",\"gridcolor\":\"white\",\"linecolor\":\"white\",\"minorgridcolor\":\"white\",\"startlinecolor\":\"#2a3f5f\"},\"type\":\"carpet\"}],\"choropleth\":[{\"colorbar\":{\"outlinewidth\":0,\"ticks\":\"\"},\"type\":\"choropleth\"}],\"contour\":[{\"colorbar\":{\"outlinewidth\":0,\"ticks\":\"\"},\"colorscale\":[[0.0,\"#0d0887\"],[0.1111111111111111,\"#46039f\"],[0.2222222222222222,\"#7201a8\"],[0.3333333333333333,\"#9c179e\"],[0.4444444444444444,\"#bd3786\"],[0.5555555555555556,\"#d8576b\"],[0.6666666666666666,\"#ed7953\"],[0.7777777777777778,\"#fb9f3a\"],[0.8888888888888888,\"#fdca26\"],[1.0,\"#f0f921\"]],\"type\":\"contour\"}],\"contourcarpet\":[{\"colorbar\":{\"outlinewidth\":0,\"ticks\":\"\"},\"type\":\"contourcarpet\"}],\"heatmap\":[{\"colorbar\":{\"outlinewidth\":0,\"ticks\":\"\"},\"colorscale\":[[0.0,\"#0d0887\"],[0.1111111111111111,\"#46039f\"],[0.2222222222222222,\"#7201a8\"],[0.3333333333333333,\"#9c179e\"],[0.4444444444444444,\"#bd3786\"],[0.5555555555555556,\"#d8576b\"],[0.6666666666666666,\"#ed7953\"],[0.7777777777777778,\"#fb9f3a\"],[0.8888888888888888,\"#fdca26\"],[1.0,\"#f0f921\"]],\"type\":\"heatmap\"}],\"heatmapgl\":[{\"colorbar\":{\"outlinewidth\":0,\"ticks\":\"\"},\"colorscale\":[[0.0,\"#0d0887\"],[0.1111111111111111,\"#46039f\"],[0.2222222222222222,\"#7201a8\"],[0.3333333333333333,\"#9c179e\"],[0.4444444444444444,\"#bd3786\"],[0.5555555555555556,\"#d8576b\"],[0.6666666666666666,\"#ed7953\"],[0.7777777777777778,\"#fb9f3a\"],[0.8888888888888888,\"#fdca26\"],[1.0,\"#f0f921\"]],\"type\":\"heatmapgl\"}],\"histogram\":[{\"marker\":{\"pattern\":{\"fillmode\":\"overlay\",\"size\":10,\"solidity\":0.2}},\"type\":\"histogram\"}],\"histogram2d\":[{\"colorbar\":{\"outlinewidth\":0,\"ticks\":\"\"},\"colorscale\":[[0.0,\"#0d0887\"],[0.1111111111111111,\"#46039f\"],[0.2222222222222222,\"#7201a8\"],[0.3333333333333333,\"#9c179e\"],[0.4444444444444444,\"#bd3786\"],[0.5555555555555556,\"#d8576b\"],[0.6666666666666666,\"#ed7953\"],[0.7777777777777778,\"#fb9f3a\"],[0.8888888888888888,\"#fdca26\"],[1.0,\"#f0f921\"]],\"type\":\"histogram2d\"}],\"histogram2dcontour\":[{\"colorbar\":{\"outlinewidth\":0,\"ticks\":\"\"},\"colorscale\":[[0.0,\"#0d0887\"],[0.1111111111111111,\"#46039f\"],[0.2222222222222222,\"#7201a8\"],[0.3333333333333333,\"#9c179e\"],[0.4444444444444444,\"#bd3786\"],[0.5555555555555556,\"#d8576b\"],[0.6666666666666666,\"#ed7953\"],[0.7777777777777778,\"#fb9f3a\"],[0.8888888888888888,\"#fdca26\"],[1.0,\"#f0f921\"]],\"type\":\"histogram2dcontour\"}],\"mesh3d\":[{\"colorbar\":{\"outlinewidth\":0,\"ticks\":\"\"},\"type\":\"mesh3d\"}],\"parcoords\":[{\"line\":{\"colorbar\":{\"outlinewidth\":0,\"ticks\":\"\"}},\"type\":\"parcoords\"}],\"pie\":[{\"automargin\":true,\"type\":\"pie\"}],\"scatter\":[{\"marker\":{\"colorbar\":{\"outlinewidth\":0,\"ticks\":\"\"}},\"type\":\"scatter\"}],\"scatter3d\":[{\"line\":{\"colorbar\":{\"outlinewidth\":0,\"ticks\":\"\"}},\"marker\":{\"colorbar\":{\"outlinewidth\":0,\"ticks\":\"\"}},\"type\":\"scatter3d\"}],\"scattercarpet\":[{\"marker\":{\"colorbar\":{\"outlinewidth\":0,\"ticks\":\"\"}},\"type\":\"scattercarpet\"}],\"scattergeo\":[{\"marker\":{\"colorbar\":{\"outlinewidth\":0,\"ticks\":\"\"}},\"type\":\"scattergeo\"}],\"scattergl\":[{\"marker\":{\"colorbar\":{\"outlinewidth\":0,\"ticks\":\"\"}},\"type\":\"scattergl\"}],\"scattermapbox\":[{\"marker\":{\"colorbar\":{\"outlinewidth\":0,\"ticks\":\"\"}},\"type\":\"scattermapbox\"}],\"scatterpolar\":[{\"marker\":{\"colorbar\":{\"outlinewidth\":0,\"ticks\":\"\"}},\"type\":\"scatterpolar\"}],\"scatterpolargl\":[{\"marker\":{\"colorbar\":{\"outlinewidth\":0,\"ticks\":\"\"}},\"type\":\"scatterpolargl\"}],\"scatterternary\":[{\"marker\":{\"colorbar\":{\"outlinewidth\":0,\"ticks\":\"\"}},\"type\":\"scatterternary\"}],\"surface\":[{\"colorbar\":{\"outlinewidth\":0,\"ticks\":\"\"},\"colorscale\":[[0.0,\"#0d0887\"],[0.1111111111111111,\"#46039f\"],[0.2222222222222222,\"#7201a8\"],[0.3333333333333333,\"#9c179e\"],[0.4444444444444444,\"#bd3786\"],[0.5555555555555556,\"#d8576b\"],[0.6666666666666666,\"#ed7953\"],[0.7777777777777778,\"#fb9f3a\"],[0.8888888888888888,\"#fdca26\"],[1.0,\"#f0f921\"]],\"type\":\"surface\"}],\"table\":[{\"cells\":{\"fill\":{\"color\":\"#EBF0F8\"},\"line\":{\"color\":\"white\"}},\"header\":{\"fill\":{\"color\":\"#C8D4E3\"},\"line\":{\"color\":\"white\"}},\"type\":\"table\"}]},\"layout\":{\"annotationdefaults\":{\"arrowcolor\":\"#2a3f5f\",\"arrowhead\":0,\"arrowwidth\":1},\"autotypenumbers\":\"strict\",\"coloraxis\":{\"colorbar\":{\"outlinewidth\":0,\"ticks\":\"\"}},\"colorscale\":{\"diverging\":[[0,\"#8e0152\"],[0.1,\"#c51b7d\"],[0.2,\"#de77ae\"],[0.3,\"#f1b6da\"],[0.4,\"#fde0ef\"],[0.5,\"#f7f7f7\"],[0.6,\"#e6f5d0\"],[0.7,\"#b8e186\"],[0.8,\"#7fbc41\"],[0.9,\"#4d9221\"],[1,\"#276419\"]],\"sequential\":[[0.0,\"#0d0887\"],[0.1111111111111111,\"#46039f\"],[0.2222222222222222,\"#7201a8\"],[0.3333333333333333,\"#9c179e\"],[0.4444444444444444,\"#bd3786\"],[0.5555555555555556,\"#d8576b\"],[0.6666666666666666,\"#ed7953\"],[0.7777777777777778,\"#fb9f3a\"],[0.8888888888888888,\"#fdca26\"],[1.0,\"#f0f921\"]],\"sequentialminus\":[[0.0,\"#0d0887\"],[0.1111111111111111,\"#46039f\"],[0.2222222222222222,\"#7201a8\"],[0.3333333333333333,\"#9c179e\"],[0.4444444444444444,\"#bd3786\"],[0.5555555555555556,\"#d8576b\"],[0.6666666666666666,\"#ed7953\"],[0.7777777777777778,\"#fb9f3a\"],[0.8888888888888888,\"#fdca26\"],[1.0,\"#f0f921\"]]},\"colorway\":[\"#636efa\",\"#EF553B\",\"#00cc96\",\"#ab63fa\",\"#FFA15A\",\"#19d3f3\",\"#FF6692\",\"#B6E880\",\"#FF97FF\",\"#FECB52\"],\"font\":{\"color\":\"#2a3f5f\"},\"geo\":{\"bgcolor\":\"white\",\"lakecolor\":\"white\",\"landcolor\":\"#E5ECF6\",\"showlakes\":true,\"showland\":true,\"subunitcolor\":\"white\"},\"hoverlabel\":{\"align\":\"left\"},\"hovermode\":\"closest\",\"mapbox\":{\"style\":\"light\"},\"paper_bgcolor\":\"white\",\"plot_bgcolor\":\"#E5ECF6\",\"polar\":{\"angularaxis\":{\"gridcolor\":\"white\",\"linecolor\":\"white\",\"ticks\":\"\"},\"bgcolor\":\"#E5ECF6\",\"radialaxis\":{\"gridcolor\":\"white\",\"linecolor\":\"white\",\"ticks\":\"\"}},\"scene\":{\"xaxis\":{\"backgroundcolor\":\"#E5ECF6\",\"gridcolor\":\"white\",\"gridwidth\":2,\"linecolor\":\"white\",\"showbackground\":true,\"ticks\":\"\",\"zerolinecolor\":\"white\"},\"yaxis\":{\"backgroundcolor\":\"#E5ECF6\",\"gridcolor\":\"white\",\"gridwidth\":2,\"linecolor\":\"white\",\"showbackground\":true,\"ticks\":\"\",\"zerolinecolor\":\"white\"},\"zaxis\":{\"backgroundcolor\":\"#E5ECF6\",\"gridcolor\":\"white\",\"gridwidth\":2,\"linecolor\":\"white\",\"showbackground\":true,\"ticks\":\"\",\"zerolinecolor\":\"white\"}},\"shapedefaults\":{\"line\":{\"color\":\"#2a3f5f\"}},\"ternary\":{\"aaxis\":{\"gridcolor\":\"white\",\"linecolor\":\"white\",\"ticks\":\"\"},\"baxis\":{\"gridcolor\":\"white\",\"linecolor\":\"white\",\"ticks\":\"\"},\"bgcolor\":\"#E5ECF6\",\"caxis\":{\"gridcolor\":\"white\",\"linecolor\":\"white\",\"ticks\":\"\"}},\"title\":{\"x\":0.05},\"xaxis\":{\"automargin\":true,\"gridcolor\":\"white\",\"linecolor\":\"white\",\"ticks\":\"\",\"title\":{\"standoff\":15},\"zerolinecolor\":\"white\",\"zerolinewidth\":2},\"yaxis\":{\"automargin\":true,\"gridcolor\":\"white\",\"linecolor\":\"white\",\"ticks\":\"\",\"title\":{\"standoff\":15},\"zerolinecolor\":\"white\",\"zerolinewidth\":2}}},\"xaxis\":{\"anchor\":\"y\",\"domain\":[0.0,1.0],\"title\":{\"text\":\"index\"}},\"yaxis\":{\"anchor\":\"x\",\"domain\":[0.0,1.0],\"title\":{\"text\":\"value\"}},\"legend\":{\"title\":{\"text\":\"variable\"},\"tracegroupgap\":0},\"margin\":{\"t\":60},\"barmode\":\"relative\"},                        {\"responsive\": true}                    ).then(function(){\n",
              "                            \n",
              "var gd = document.getElementById('d3b0f7ec-d63b-4815-bc5d-0db8da8ee559');\n",
              "var x = new MutationObserver(function (mutations, observer) {{\n",
              "        var display = window.getComputedStyle(gd).display;\n",
              "        if (!display || display === 'none') {{\n",
              "            console.log([gd, 'removed!']);\n",
              "            Plotly.purge(gd);\n",
              "            observer.disconnect();\n",
              "        }}\n",
              "}});\n",
              "\n",
              "// Listen for the removal of the full notebook cells\n",
              "var notebookContainer = gd.closest('#notebook-container');\n",
              "if (notebookContainer) {{\n",
              "    x.observe(notebookContainer, {childList: true});\n",
              "}}\n",
              "\n",
              "// Listen for the clearing of the current output cell\n",
              "var outputEl = gd.closest('.output');\n",
              "if (outputEl) {{\n",
              "    x.observe(outputEl, {childList: true});\n",
              "}}\n",
              "\n",
              "                        })                };                            </script>        </div>\n",
              "</body>\n",
              "</html>"
            ]
          },
          "metadata": {}
        }
      ]
    },
    {
      "cell_type": "code",
      "source": [
        "dataframe['city'] = dataframe['city'].replace(np.nan, 'New York')"
      ],
      "metadata": {
        "id": "js6dW6t3n_Gg"
      },
      "execution_count": null,
      "outputs": []
    },
    {
      "cell_type": "code",
      "source": [
        "dataframe['city'].isnull().sum()"
      ],
      "metadata": {
        "colab": {
          "base_uri": "https://localhost:8080/"
        },
        "id": "v3hXOdPoq7Nt",
        "outputId": "74fb13de-7edb-43db-bb49-e918e3390977"
      },
      "execution_count": null,
      "outputs": [
        {
          "output_type": "execute_result",
          "data": {
            "text/plain": [
              "0"
            ]
          },
          "metadata": {},
          "execution_count": 1445
        }
      ]
    },
    {
      "cell_type": "markdown",
      "source": [
        "##Country"
      ],
      "metadata": {
        "id": "NOhQ2XLnoJYA"
      }
    },
    {
      "cell_type": "code",
      "source": [
        "dataframe['country'].describe()"
      ],
      "metadata": {
        "colab": {
          "base_uri": "https://localhost:8080/"
        },
        "id": "jlu-eCc9oxZS",
        "outputId": "cd3065ed-16e9-4b59-f184-c9f9a9df22ee"
      },
      "execution_count": null,
      "outputs": [
        {
          "output_type": "execute_result",
          "data": {
            "text/plain": [
              "count              1154\n",
              "unique                1\n",
              "top       United States\n",
              "freq               1154\n",
              "Name: country, dtype: object"
            ]
          },
          "metadata": {},
          "execution_count": 1446
        }
      ]
    },
    {
      "cell_type": "code",
      "source": [
        "dataframe['country'].isnull().sum()"
      ],
      "metadata": {
        "colab": {
          "base_uri": "https://localhost:8080/"
        },
        "id": "UAH0RbLJq36v",
        "outputId": "77565302-a956-4eda-dfaf-0692f93d2eb2"
      },
      "execution_count": null,
      "outputs": [
        {
          "output_type": "execute_result",
          "data": {
            "text/plain": [
              "193"
            ]
          },
          "metadata": {},
          "execution_count": 1447
        }
      ]
    },
    {
      "cell_type": "code",
      "source": [
        "dataframe['country'] = dataframe['country'].replace(np.nan, 'United States')"
      ],
      "metadata": {
        "id": "6uTB8KlEpTYp"
      },
      "execution_count": null,
      "outputs": []
    },
    {
      "cell_type": "code",
      "source": [
        "dataframe['country'].isnull().sum()"
      ],
      "metadata": {
        "colab": {
          "base_uri": "https://localhost:8080/"
        },
        "id": "LCVY-l9Tqy0Q",
        "outputId": "2dc92cec-ad7d-47b1-da6b-e4819806cb79"
      },
      "execution_count": null,
      "outputs": [
        {
          "output_type": "execute_result",
          "data": {
            "text/plain": [
              "0"
            ]
          },
          "metadata": {},
          "execution_count": 1449
        }
      ]
    },
    {
      "cell_type": "markdown",
      "source": [
        "## Currently work flow"
      ],
      "metadata": {
        "id": "9gx5KBKypiua"
      }
    },
    {
      "cell_type": "code",
      "source": [
        "dataframe['currentlyinworkflow'].describe()"
      ],
      "metadata": {
        "colab": {
          "base_uri": "https://localhost:8080/"
        },
        "id": "_S--r67xpjRv",
        "outputId": "e13329d5-22c5-4675-88da-86f83111cb5b"
      },
      "execution_count": null,
      "outputs": [
        {
          "output_type": "execute_result",
          "data": {
            "text/plain": [
              "count      1261\n",
              "unique        2\n",
              "top       False\n",
              "freq        770\n",
              "Name: currentlyinworkflow, dtype: object"
            ]
          },
          "metadata": {},
          "execution_count": 1450
        }
      ]
    },
    {
      "cell_type": "code",
      "source": [
        "dataframe['currentlyinworkflow'].isnull().sum()"
      ],
      "metadata": {
        "colab": {
          "base_uri": "https://localhost:8080/"
        },
        "id": "SIWXkkETqhL3",
        "outputId": "745acaa3-68e6-4e85-e23e-0504a421b7e8"
      },
      "execution_count": null,
      "outputs": [
        {
          "output_type": "execute_result",
          "data": {
            "text/plain": [
              "86"
            ]
          },
          "metadata": {},
          "execution_count": 1451
        }
      ]
    },
    {
      "cell_type": "code",
      "source": [
        "value = dataframe['currentlyinworkflow'].value_counts()"
      ],
      "metadata": {
        "id": "1AancEFkqEL5"
      },
      "execution_count": null,
      "outputs": []
    },
    {
      "cell_type": "code",
      "source": [
        "fig = px.bar(value)\n",
        "fig.show()"
      ],
      "metadata": {
        "colab": {
          "base_uri": "https://localhost:8080/",
          "height": 542
        },
        "id": "KjLgJNCjp_xB",
        "outputId": "2eeade21-8266-4a58-a42b-b4a3b7f46313"
      },
      "execution_count": null,
      "outputs": [
        {
          "output_type": "display_data",
          "data": {
            "text/html": [
              "<html>\n",
              "<head><meta charset=\"utf-8\" /></head>\n",
              "<body>\n",
              "    <div>            <script src=\"https://cdnjs.cloudflare.com/ajax/libs/mathjax/2.7.5/MathJax.js?config=TeX-AMS-MML_SVG\"></script><script type=\"text/javascript\">if (window.MathJax) {MathJax.Hub.Config({SVG: {font: \"STIX-Web\"}});}</script>                <script type=\"text/javascript\">window.PlotlyConfig = {MathJaxConfig: 'local'};</script>\n",
              "        <script src=\"https://cdn.plot.ly/plotly-2.8.3.min.js\"></script>                <div id=\"12abf3d2-cac1-4039-bb9e-c13c84f453fd\" class=\"plotly-graph-div\" style=\"height:525px; width:100%;\"></div>            <script type=\"text/javascript\">                                    window.PLOTLYENV=window.PLOTLYENV || {};                                    if (document.getElementById(\"12abf3d2-cac1-4039-bb9e-c13c84f453fd\")) {                    Plotly.newPlot(                        \"12abf3d2-cac1-4039-bb9e-c13c84f453fd\",                        [{\"alignmentgroup\":\"True\",\"hovertemplate\":\"variable=currentlyinworkflow<br>index=%{x}<br>value=%{y}<extra></extra>\",\"legendgroup\":\"currentlyinworkflow\",\"marker\":{\"color\":\"#636efa\",\"pattern\":{\"shape\":\"\"}},\"name\":\"currentlyinworkflow\",\"offsetgroup\":\"currentlyinworkflow\",\"orientation\":\"v\",\"showlegend\":true,\"textposition\":\"auto\",\"x\":[false,true],\"xaxis\":\"x\",\"y\":[770,491],\"yaxis\":\"y\",\"type\":\"bar\"}],                        {\"template\":{\"data\":{\"bar\":[{\"error_x\":{\"color\":\"#2a3f5f\"},\"error_y\":{\"color\":\"#2a3f5f\"},\"marker\":{\"line\":{\"color\":\"#E5ECF6\",\"width\":0.5},\"pattern\":{\"fillmode\":\"overlay\",\"size\":10,\"solidity\":0.2}},\"type\":\"bar\"}],\"barpolar\":[{\"marker\":{\"line\":{\"color\":\"#E5ECF6\",\"width\":0.5},\"pattern\":{\"fillmode\":\"overlay\",\"size\":10,\"solidity\":0.2}},\"type\":\"barpolar\"}],\"carpet\":[{\"aaxis\":{\"endlinecolor\":\"#2a3f5f\",\"gridcolor\":\"white\",\"linecolor\":\"white\",\"minorgridcolor\":\"white\",\"startlinecolor\":\"#2a3f5f\"},\"baxis\":{\"endlinecolor\":\"#2a3f5f\",\"gridcolor\":\"white\",\"linecolor\":\"white\",\"minorgridcolor\":\"white\",\"startlinecolor\":\"#2a3f5f\"},\"type\":\"carpet\"}],\"choropleth\":[{\"colorbar\":{\"outlinewidth\":0,\"ticks\":\"\"},\"type\":\"choropleth\"}],\"contour\":[{\"colorbar\":{\"outlinewidth\":0,\"ticks\":\"\"},\"colorscale\":[[0.0,\"#0d0887\"],[0.1111111111111111,\"#46039f\"],[0.2222222222222222,\"#7201a8\"],[0.3333333333333333,\"#9c179e\"],[0.4444444444444444,\"#bd3786\"],[0.5555555555555556,\"#d8576b\"],[0.6666666666666666,\"#ed7953\"],[0.7777777777777778,\"#fb9f3a\"],[0.8888888888888888,\"#fdca26\"],[1.0,\"#f0f921\"]],\"type\":\"contour\"}],\"contourcarpet\":[{\"colorbar\":{\"outlinewidth\":0,\"ticks\":\"\"},\"type\":\"contourcarpet\"}],\"heatmap\":[{\"colorbar\":{\"outlinewidth\":0,\"ticks\":\"\"},\"colorscale\":[[0.0,\"#0d0887\"],[0.1111111111111111,\"#46039f\"],[0.2222222222222222,\"#7201a8\"],[0.3333333333333333,\"#9c179e\"],[0.4444444444444444,\"#bd3786\"],[0.5555555555555556,\"#d8576b\"],[0.6666666666666666,\"#ed7953\"],[0.7777777777777778,\"#fb9f3a\"],[0.8888888888888888,\"#fdca26\"],[1.0,\"#f0f921\"]],\"type\":\"heatmap\"}],\"heatmapgl\":[{\"colorbar\":{\"outlinewidth\":0,\"ticks\":\"\"},\"colorscale\":[[0.0,\"#0d0887\"],[0.1111111111111111,\"#46039f\"],[0.2222222222222222,\"#7201a8\"],[0.3333333333333333,\"#9c179e\"],[0.4444444444444444,\"#bd3786\"],[0.5555555555555556,\"#d8576b\"],[0.6666666666666666,\"#ed7953\"],[0.7777777777777778,\"#fb9f3a\"],[0.8888888888888888,\"#fdca26\"],[1.0,\"#f0f921\"]],\"type\":\"heatmapgl\"}],\"histogram\":[{\"marker\":{\"pattern\":{\"fillmode\":\"overlay\",\"size\":10,\"solidity\":0.2}},\"type\":\"histogram\"}],\"histogram2d\":[{\"colorbar\":{\"outlinewidth\":0,\"ticks\":\"\"},\"colorscale\":[[0.0,\"#0d0887\"],[0.1111111111111111,\"#46039f\"],[0.2222222222222222,\"#7201a8\"],[0.3333333333333333,\"#9c179e\"],[0.4444444444444444,\"#bd3786\"],[0.5555555555555556,\"#d8576b\"],[0.6666666666666666,\"#ed7953\"],[0.7777777777777778,\"#fb9f3a\"],[0.8888888888888888,\"#fdca26\"],[1.0,\"#f0f921\"]],\"type\":\"histogram2d\"}],\"histogram2dcontour\":[{\"colorbar\":{\"outlinewidth\":0,\"ticks\":\"\"},\"colorscale\":[[0.0,\"#0d0887\"],[0.1111111111111111,\"#46039f\"],[0.2222222222222222,\"#7201a8\"],[0.3333333333333333,\"#9c179e\"],[0.4444444444444444,\"#bd3786\"],[0.5555555555555556,\"#d8576b\"],[0.6666666666666666,\"#ed7953\"],[0.7777777777777778,\"#fb9f3a\"],[0.8888888888888888,\"#fdca26\"],[1.0,\"#f0f921\"]],\"type\":\"histogram2dcontour\"}],\"mesh3d\":[{\"colorbar\":{\"outlinewidth\":0,\"ticks\":\"\"},\"type\":\"mesh3d\"}],\"parcoords\":[{\"line\":{\"colorbar\":{\"outlinewidth\":0,\"ticks\":\"\"}},\"type\":\"parcoords\"}],\"pie\":[{\"automargin\":true,\"type\":\"pie\"}],\"scatter\":[{\"marker\":{\"colorbar\":{\"outlinewidth\":0,\"ticks\":\"\"}},\"type\":\"scatter\"}],\"scatter3d\":[{\"line\":{\"colorbar\":{\"outlinewidth\":0,\"ticks\":\"\"}},\"marker\":{\"colorbar\":{\"outlinewidth\":0,\"ticks\":\"\"}},\"type\":\"scatter3d\"}],\"scattercarpet\":[{\"marker\":{\"colorbar\":{\"outlinewidth\":0,\"ticks\":\"\"}},\"type\":\"scattercarpet\"}],\"scattergeo\":[{\"marker\":{\"colorbar\":{\"outlinewidth\":0,\"ticks\":\"\"}},\"type\":\"scattergeo\"}],\"scattergl\":[{\"marker\":{\"colorbar\":{\"outlinewidth\":0,\"ticks\":\"\"}},\"type\":\"scattergl\"}],\"scattermapbox\":[{\"marker\":{\"colorbar\":{\"outlinewidth\":0,\"ticks\":\"\"}},\"type\":\"scattermapbox\"}],\"scatterpolar\":[{\"marker\":{\"colorbar\":{\"outlinewidth\":0,\"ticks\":\"\"}},\"type\":\"scatterpolar\"}],\"scatterpolargl\":[{\"marker\":{\"colorbar\":{\"outlinewidth\":0,\"ticks\":\"\"}},\"type\":\"scatterpolargl\"}],\"scatterternary\":[{\"marker\":{\"colorbar\":{\"outlinewidth\":0,\"ticks\":\"\"}},\"type\":\"scatterternary\"}],\"surface\":[{\"colorbar\":{\"outlinewidth\":0,\"ticks\":\"\"},\"colorscale\":[[0.0,\"#0d0887\"],[0.1111111111111111,\"#46039f\"],[0.2222222222222222,\"#7201a8\"],[0.3333333333333333,\"#9c179e\"],[0.4444444444444444,\"#bd3786\"],[0.5555555555555556,\"#d8576b\"],[0.6666666666666666,\"#ed7953\"],[0.7777777777777778,\"#fb9f3a\"],[0.8888888888888888,\"#fdca26\"],[1.0,\"#f0f921\"]],\"type\":\"surface\"}],\"table\":[{\"cells\":{\"fill\":{\"color\":\"#EBF0F8\"},\"line\":{\"color\":\"white\"}},\"header\":{\"fill\":{\"color\":\"#C8D4E3\"},\"line\":{\"color\":\"white\"}},\"type\":\"table\"}]},\"layout\":{\"annotationdefaults\":{\"arrowcolor\":\"#2a3f5f\",\"arrowhead\":0,\"arrowwidth\":1},\"autotypenumbers\":\"strict\",\"coloraxis\":{\"colorbar\":{\"outlinewidth\":0,\"ticks\":\"\"}},\"colorscale\":{\"diverging\":[[0,\"#8e0152\"],[0.1,\"#c51b7d\"],[0.2,\"#de77ae\"],[0.3,\"#f1b6da\"],[0.4,\"#fde0ef\"],[0.5,\"#f7f7f7\"],[0.6,\"#e6f5d0\"],[0.7,\"#b8e186\"],[0.8,\"#7fbc41\"],[0.9,\"#4d9221\"],[1,\"#276419\"]],\"sequential\":[[0.0,\"#0d0887\"],[0.1111111111111111,\"#46039f\"],[0.2222222222222222,\"#7201a8\"],[0.3333333333333333,\"#9c179e\"],[0.4444444444444444,\"#bd3786\"],[0.5555555555555556,\"#d8576b\"],[0.6666666666666666,\"#ed7953\"],[0.7777777777777778,\"#fb9f3a\"],[0.8888888888888888,\"#fdca26\"],[1.0,\"#f0f921\"]],\"sequentialminus\":[[0.0,\"#0d0887\"],[0.1111111111111111,\"#46039f\"],[0.2222222222222222,\"#7201a8\"],[0.3333333333333333,\"#9c179e\"],[0.4444444444444444,\"#bd3786\"],[0.5555555555555556,\"#d8576b\"],[0.6666666666666666,\"#ed7953\"],[0.7777777777777778,\"#fb9f3a\"],[0.8888888888888888,\"#fdca26\"],[1.0,\"#f0f921\"]]},\"colorway\":[\"#636efa\",\"#EF553B\",\"#00cc96\",\"#ab63fa\",\"#FFA15A\",\"#19d3f3\",\"#FF6692\",\"#B6E880\",\"#FF97FF\",\"#FECB52\"],\"font\":{\"color\":\"#2a3f5f\"},\"geo\":{\"bgcolor\":\"white\",\"lakecolor\":\"white\",\"landcolor\":\"#E5ECF6\",\"showlakes\":true,\"showland\":true,\"subunitcolor\":\"white\"},\"hoverlabel\":{\"align\":\"left\"},\"hovermode\":\"closest\",\"mapbox\":{\"style\":\"light\"},\"paper_bgcolor\":\"white\",\"plot_bgcolor\":\"#E5ECF6\",\"polar\":{\"angularaxis\":{\"gridcolor\":\"white\",\"linecolor\":\"white\",\"ticks\":\"\"},\"bgcolor\":\"#E5ECF6\",\"radialaxis\":{\"gridcolor\":\"white\",\"linecolor\":\"white\",\"ticks\":\"\"}},\"scene\":{\"xaxis\":{\"backgroundcolor\":\"#E5ECF6\",\"gridcolor\":\"white\",\"gridwidth\":2,\"linecolor\":\"white\",\"showbackground\":true,\"ticks\":\"\",\"zerolinecolor\":\"white\"},\"yaxis\":{\"backgroundcolor\":\"#E5ECF6\",\"gridcolor\":\"white\",\"gridwidth\":2,\"linecolor\":\"white\",\"showbackground\":true,\"ticks\":\"\",\"zerolinecolor\":\"white\"},\"zaxis\":{\"backgroundcolor\":\"#E5ECF6\",\"gridcolor\":\"white\",\"gridwidth\":2,\"linecolor\":\"white\",\"showbackground\":true,\"ticks\":\"\",\"zerolinecolor\":\"white\"}},\"shapedefaults\":{\"line\":{\"color\":\"#2a3f5f\"}},\"ternary\":{\"aaxis\":{\"gridcolor\":\"white\",\"linecolor\":\"white\",\"ticks\":\"\"},\"baxis\":{\"gridcolor\":\"white\",\"linecolor\":\"white\",\"ticks\":\"\"},\"bgcolor\":\"#E5ECF6\",\"caxis\":{\"gridcolor\":\"white\",\"linecolor\":\"white\",\"ticks\":\"\"}},\"title\":{\"x\":0.05},\"xaxis\":{\"automargin\":true,\"gridcolor\":\"white\",\"linecolor\":\"white\",\"ticks\":\"\",\"title\":{\"standoff\":15},\"zerolinecolor\":\"white\",\"zerolinewidth\":2},\"yaxis\":{\"automargin\":true,\"gridcolor\":\"white\",\"linecolor\":\"white\",\"ticks\":\"\",\"title\":{\"standoff\":15},\"zerolinecolor\":\"white\",\"zerolinewidth\":2}}},\"xaxis\":{\"anchor\":\"y\",\"domain\":[0.0,1.0],\"title\":{\"text\":\"index\"}},\"yaxis\":{\"anchor\":\"x\",\"domain\":[0.0,1.0],\"title\":{\"text\":\"value\"}},\"legend\":{\"title\":{\"text\":\"variable\"},\"tracegroupgap\":0},\"margin\":{\"t\":60},\"barmode\":\"relative\"},                        {\"responsive\": true}                    ).then(function(){\n",
              "                            \n",
              "var gd = document.getElementById('12abf3d2-cac1-4039-bb9e-c13c84f453fd');\n",
              "var x = new MutationObserver(function (mutations, observer) {{\n",
              "        var display = window.getComputedStyle(gd).display;\n",
              "        if (!display || display === 'none') {{\n",
              "            console.log([gd, 'removed!']);\n",
              "            Plotly.purge(gd);\n",
              "            observer.disconnect();\n",
              "        }}\n",
              "}});\n",
              "\n",
              "// Listen for the removal of the full notebook cells\n",
              "var notebookContainer = gd.closest('#notebook-container');\n",
              "if (notebookContainer) {{\n",
              "    x.observe(notebookContainer, {childList: true});\n",
              "}}\n",
              "\n",
              "// Listen for the clearing of the current output cell\n",
              "var outputEl = gd.closest('.output');\n",
              "if (outputEl) {{\n",
              "    x.observe(outputEl, {childList: true});\n",
              "}}\n",
              "\n",
              "                        })                };                            </script>        </div>\n",
              "</body>\n",
              "</html>"
            ]
          },
          "metadata": {}
        }
      ]
    },
    {
      "cell_type": "code",
      "source": [
        "dataframe['currentlyinworkflow'] = dataframe['currentlyinworkflow'].replace(np.nan, 'false')"
      ],
      "metadata": {
        "id": "LnLMv5S_qPzU"
      },
      "execution_count": null,
      "outputs": []
    },
    {
      "cell_type": "code",
      "source": [
        "dataframe['currentlyinworkflow'].isnull().sum()"
      ],
      "metadata": {
        "colab": {
          "base_uri": "https://localhost:8080/"
        },
        "id": "wHNVkPdNtshR",
        "outputId": "dc78680a-9715-433c-80b7-6253e56e3851"
      },
      "execution_count": null,
      "outputs": [
        {
          "output_type": "execute_result",
          "data": {
            "text/plain": [
              "0"
            ]
          },
          "metadata": {},
          "execution_count": 1455
        }
      ]
    },
    {
      "cell_type": "markdown",
      "source": [
        "##Day of the week"
      ],
      "metadata": {
        "id": "S1nAo53rs3ra"
      }
    },
    {
      "cell_type": "code",
      "source": [
        "dataframe['day_of_the_week'].describe()"
      ],
      "metadata": {
        "colab": {
          "base_uri": "https://localhost:8080/"
        },
        "id": "hVJtSlofr6hb",
        "outputId": "15aa394e-4910-442f-8e9a-317465b2ec7a"
      },
      "execution_count": null,
      "outputs": [
        {
          "output_type": "execute_result",
          "data": {
            "text/plain": [
              "count     956\n",
              "unique      7\n",
              "top       Wed\n",
              "freq      175\n",
              "Name: day_of_the_week, dtype: object"
            ]
          },
          "metadata": {},
          "execution_count": 1456
        }
      ]
    },
    {
      "cell_type": "code",
      "source": [
        "dataframe['day_of_the_week'].isnull().sum()"
      ],
      "metadata": {
        "colab": {
          "base_uri": "https://localhost:8080/"
        },
        "id": "OJ2RultytB6L",
        "outputId": "d4522614-96d0-4006-b92f-9ef9ba5ffb2d"
      },
      "execution_count": null,
      "outputs": [
        {
          "output_type": "execute_result",
          "data": {
            "text/plain": [
              "391"
            ]
          },
          "metadata": {},
          "execution_count": 1457
        }
      ]
    },
    {
      "cell_type": "code",
      "source": [
        "value = dataframe['day_of_the_week'].value_counts()"
      ],
      "metadata": {
        "id": "fMjm2Lm7tSg8"
      },
      "execution_count": null,
      "outputs": []
    },
    {
      "cell_type": "code",
      "source": [
        "fig = px.bar(value)\n",
        "fig.show()"
      ],
      "metadata": {
        "colab": {
          "base_uri": "https://localhost:8080/",
          "height": 542
        },
        "id": "VsfzfInStcE4",
        "outputId": "e66f4bc6-6805-4361-b518-ca3ede160ba1"
      },
      "execution_count": null,
      "outputs": [
        {
          "output_type": "display_data",
          "data": {
            "text/html": [
              "<html>\n",
              "<head><meta charset=\"utf-8\" /></head>\n",
              "<body>\n",
              "    <div>            <script src=\"https://cdnjs.cloudflare.com/ajax/libs/mathjax/2.7.5/MathJax.js?config=TeX-AMS-MML_SVG\"></script><script type=\"text/javascript\">if (window.MathJax) {MathJax.Hub.Config({SVG: {font: \"STIX-Web\"}});}</script>                <script type=\"text/javascript\">window.PlotlyConfig = {MathJaxConfig: 'local'};</script>\n",
              "        <script src=\"https://cdn.plot.ly/plotly-2.8.3.min.js\"></script>                <div id=\"004b11fb-b21e-4c5c-ad90-92f831dd8d5d\" class=\"plotly-graph-div\" style=\"height:525px; width:100%;\"></div>            <script type=\"text/javascript\">                                    window.PLOTLYENV=window.PLOTLYENV || {};                                    if (document.getElementById(\"004b11fb-b21e-4c5c-ad90-92f831dd8d5d\")) {                    Plotly.newPlot(                        \"004b11fb-b21e-4c5c-ad90-92f831dd8d5d\",                        [{\"alignmentgroup\":\"True\",\"hovertemplate\":\"variable=day_of_the_week<br>index=%{x}<br>value=%{y}<extra></extra>\",\"legendgroup\":\"day_of_the_week\",\"marker\":{\"color\":\"#636efa\",\"pattern\":{\"shape\":\"\"}},\"name\":\"day_of_the_week\",\"offsetgroup\":\"day_of_the_week\",\"orientation\":\"v\",\"showlegend\":true,\"textposition\":\"auto\",\"x\":[\"Wed\",\"Mon\",\"Tue\",\"Fri\",\"Sat\",\"Thu\",\"Sun\"],\"xaxis\":\"x\",\"y\":[175,171,170,135,134,130,41],\"yaxis\":\"y\",\"type\":\"bar\"}],                        {\"template\":{\"data\":{\"bar\":[{\"error_x\":{\"color\":\"#2a3f5f\"},\"error_y\":{\"color\":\"#2a3f5f\"},\"marker\":{\"line\":{\"color\":\"#E5ECF6\",\"width\":0.5},\"pattern\":{\"fillmode\":\"overlay\",\"size\":10,\"solidity\":0.2}},\"type\":\"bar\"}],\"barpolar\":[{\"marker\":{\"line\":{\"color\":\"#E5ECF6\",\"width\":0.5},\"pattern\":{\"fillmode\":\"overlay\",\"size\":10,\"solidity\":0.2}},\"type\":\"barpolar\"}],\"carpet\":[{\"aaxis\":{\"endlinecolor\":\"#2a3f5f\",\"gridcolor\":\"white\",\"linecolor\":\"white\",\"minorgridcolor\":\"white\",\"startlinecolor\":\"#2a3f5f\"},\"baxis\":{\"endlinecolor\":\"#2a3f5f\",\"gridcolor\":\"white\",\"linecolor\":\"white\",\"minorgridcolor\":\"white\",\"startlinecolor\":\"#2a3f5f\"},\"type\":\"carpet\"}],\"choropleth\":[{\"colorbar\":{\"outlinewidth\":0,\"ticks\":\"\"},\"type\":\"choropleth\"}],\"contour\":[{\"colorbar\":{\"outlinewidth\":0,\"ticks\":\"\"},\"colorscale\":[[0.0,\"#0d0887\"],[0.1111111111111111,\"#46039f\"],[0.2222222222222222,\"#7201a8\"],[0.3333333333333333,\"#9c179e\"],[0.4444444444444444,\"#bd3786\"],[0.5555555555555556,\"#d8576b\"],[0.6666666666666666,\"#ed7953\"],[0.7777777777777778,\"#fb9f3a\"],[0.8888888888888888,\"#fdca26\"],[1.0,\"#f0f921\"]],\"type\":\"contour\"}],\"contourcarpet\":[{\"colorbar\":{\"outlinewidth\":0,\"ticks\":\"\"},\"type\":\"contourcarpet\"}],\"heatmap\":[{\"colorbar\":{\"outlinewidth\":0,\"ticks\":\"\"},\"colorscale\":[[0.0,\"#0d0887\"],[0.1111111111111111,\"#46039f\"],[0.2222222222222222,\"#7201a8\"],[0.3333333333333333,\"#9c179e\"],[0.4444444444444444,\"#bd3786\"],[0.5555555555555556,\"#d8576b\"],[0.6666666666666666,\"#ed7953\"],[0.7777777777777778,\"#fb9f3a\"],[0.8888888888888888,\"#fdca26\"],[1.0,\"#f0f921\"]],\"type\":\"heatmap\"}],\"heatmapgl\":[{\"colorbar\":{\"outlinewidth\":0,\"ticks\":\"\"},\"colorscale\":[[0.0,\"#0d0887\"],[0.1111111111111111,\"#46039f\"],[0.2222222222222222,\"#7201a8\"],[0.3333333333333333,\"#9c179e\"],[0.4444444444444444,\"#bd3786\"],[0.5555555555555556,\"#d8576b\"],[0.6666666666666666,\"#ed7953\"],[0.7777777777777778,\"#fb9f3a\"],[0.8888888888888888,\"#fdca26\"],[1.0,\"#f0f921\"]],\"type\":\"heatmapgl\"}],\"histogram\":[{\"marker\":{\"pattern\":{\"fillmode\":\"overlay\",\"size\":10,\"solidity\":0.2}},\"type\":\"histogram\"}],\"histogram2d\":[{\"colorbar\":{\"outlinewidth\":0,\"ticks\":\"\"},\"colorscale\":[[0.0,\"#0d0887\"],[0.1111111111111111,\"#46039f\"],[0.2222222222222222,\"#7201a8\"],[0.3333333333333333,\"#9c179e\"],[0.4444444444444444,\"#bd3786\"],[0.5555555555555556,\"#d8576b\"],[0.6666666666666666,\"#ed7953\"],[0.7777777777777778,\"#fb9f3a\"],[0.8888888888888888,\"#fdca26\"],[1.0,\"#f0f921\"]],\"type\":\"histogram2d\"}],\"histogram2dcontour\":[{\"colorbar\":{\"outlinewidth\":0,\"ticks\":\"\"},\"colorscale\":[[0.0,\"#0d0887\"],[0.1111111111111111,\"#46039f\"],[0.2222222222222222,\"#7201a8\"],[0.3333333333333333,\"#9c179e\"],[0.4444444444444444,\"#bd3786\"],[0.5555555555555556,\"#d8576b\"],[0.6666666666666666,\"#ed7953\"],[0.7777777777777778,\"#fb9f3a\"],[0.8888888888888888,\"#fdca26\"],[1.0,\"#f0f921\"]],\"type\":\"histogram2dcontour\"}],\"mesh3d\":[{\"colorbar\":{\"outlinewidth\":0,\"ticks\":\"\"},\"type\":\"mesh3d\"}],\"parcoords\":[{\"line\":{\"colorbar\":{\"outlinewidth\":0,\"ticks\":\"\"}},\"type\":\"parcoords\"}],\"pie\":[{\"automargin\":true,\"type\":\"pie\"}],\"scatter\":[{\"marker\":{\"colorbar\":{\"outlinewidth\":0,\"ticks\":\"\"}},\"type\":\"scatter\"}],\"scatter3d\":[{\"line\":{\"colorbar\":{\"outlinewidth\":0,\"ticks\":\"\"}},\"marker\":{\"colorbar\":{\"outlinewidth\":0,\"ticks\":\"\"}},\"type\":\"scatter3d\"}],\"scattercarpet\":[{\"marker\":{\"colorbar\":{\"outlinewidth\":0,\"ticks\":\"\"}},\"type\":\"scattercarpet\"}],\"scattergeo\":[{\"marker\":{\"colorbar\":{\"outlinewidth\":0,\"ticks\":\"\"}},\"type\":\"scattergeo\"}],\"scattergl\":[{\"marker\":{\"colorbar\":{\"outlinewidth\":0,\"ticks\":\"\"}},\"type\":\"scattergl\"}],\"scattermapbox\":[{\"marker\":{\"colorbar\":{\"outlinewidth\":0,\"ticks\":\"\"}},\"type\":\"scattermapbox\"}],\"scatterpolar\":[{\"marker\":{\"colorbar\":{\"outlinewidth\":0,\"ticks\":\"\"}},\"type\":\"scatterpolar\"}],\"scatterpolargl\":[{\"marker\":{\"colorbar\":{\"outlinewidth\":0,\"ticks\":\"\"}},\"type\":\"scatterpolargl\"}],\"scatterternary\":[{\"marker\":{\"colorbar\":{\"outlinewidth\":0,\"ticks\":\"\"}},\"type\":\"scatterternary\"}],\"surface\":[{\"colorbar\":{\"outlinewidth\":0,\"ticks\":\"\"},\"colorscale\":[[0.0,\"#0d0887\"],[0.1111111111111111,\"#46039f\"],[0.2222222222222222,\"#7201a8\"],[0.3333333333333333,\"#9c179e\"],[0.4444444444444444,\"#bd3786\"],[0.5555555555555556,\"#d8576b\"],[0.6666666666666666,\"#ed7953\"],[0.7777777777777778,\"#fb9f3a\"],[0.8888888888888888,\"#fdca26\"],[1.0,\"#f0f921\"]],\"type\":\"surface\"}],\"table\":[{\"cells\":{\"fill\":{\"color\":\"#EBF0F8\"},\"line\":{\"color\":\"white\"}},\"header\":{\"fill\":{\"color\":\"#C8D4E3\"},\"line\":{\"color\":\"white\"}},\"type\":\"table\"}]},\"layout\":{\"annotationdefaults\":{\"arrowcolor\":\"#2a3f5f\",\"arrowhead\":0,\"arrowwidth\":1},\"autotypenumbers\":\"strict\",\"coloraxis\":{\"colorbar\":{\"outlinewidth\":0,\"ticks\":\"\"}},\"colorscale\":{\"diverging\":[[0,\"#8e0152\"],[0.1,\"#c51b7d\"],[0.2,\"#de77ae\"],[0.3,\"#f1b6da\"],[0.4,\"#fde0ef\"],[0.5,\"#f7f7f7\"],[0.6,\"#e6f5d0\"],[0.7,\"#b8e186\"],[0.8,\"#7fbc41\"],[0.9,\"#4d9221\"],[1,\"#276419\"]],\"sequential\":[[0.0,\"#0d0887\"],[0.1111111111111111,\"#46039f\"],[0.2222222222222222,\"#7201a8\"],[0.3333333333333333,\"#9c179e\"],[0.4444444444444444,\"#bd3786\"],[0.5555555555555556,\"#d8576b\"],[0.6666666666666666,\"#ed7953\"],[0.7777777777777778,\"#fb9f3a\"],[0.8888888888888888,\"#fdca26\"],[1.0,\"#f0f921\"]],\"sequentialminus\":[[0.0,\"#0d0887\"],[0.1111111111111111,\"#46039f\"],[0.2222222222222222,\"#7201a8\"],[0.3333333333333333,\"#9c179e\"],[0.4444444444444444,\"#bd3786\"],[0.5555555555555556,\"#d8576b\"],[0.6666666666666666,\"#ed7953\"],[0.7777777777777778,\"#fb9f3a\"],[0.8888888888888888,\"#fdca26\"],[1.0,\"#f0f921\"]]},\"colorway\":[\"#636efa\",\"#EF553B\",\"#00cc96\",\"#ab63fa\",\"#FFA15A\",\"#19d3f3\",\"#FF6692\",\"#B6E880\",\"#FF97FF\",\"#FECB52\"],\"font\":{\"color\":\"#2a3f5f\"},\"geo\":{\"bgcolor\":\"white\",\"lakecolor\":\"white\",\"landcolor\":\"#E5ECF6\",\"showlakes\":true,\"showland\":true,\"subunitcolor\":\"white\"},\"hoverlabel\":{\"align\":\"left\"},\"hovermode\":\"closest\",\"mapbox\":{\"style\":\"light\"},\"paper_bgcolor\":\"white\",\"plot_bgcolor\":\"#E5ECF6\",\"polar\":{\"angularaxis\":{\"gridcolor\":\"white\",\"linecolor\":\"white\",\"ticks\":\"\"},\"bgcolor\":\"#E5ECF6\",\"radialaxis\":{\"gridcolor\":\"white\",\"linecolor\":\"white\",\"ticks\":\"\"}},\"scene\":{\"xaxis\":{\"backgroundcolor\":\"#E5ECF6\",\"gridcolor\":\"white\",\"gridwidth\":2,\"linecolor\":\"white\",\"showbackground\":true,\"ticks\":\"\",\"zerolinecolor\":\"white\"},\"yaxis\":{\"backgroundcolor\":\"#E5ECF6\",\"gridcolor\":\"white\",\"gridwidth\":2,\"linecolor\":\"white\",\"showbackground\":true,\"ticks\":\"\",\"zerolinecolor\":\"white\"},\"zaxis\":{\"backgroundcolor\":\"#E5ECF6\",\"gridcolor\":\"white\",\"gridwidth\":2,\"linecolor\":\"white\",\"showbackground\":true,\"ticks\":\"\",\"zerolinecolor\":\"white\"}},\"shapedefaults\":{\"line\":{\"color\":\"#2a3f5f\"}},\"ternary\":{\"aaxis\":{\"gridcolor\":\"white\",\"linecolor\":\"white\",\"ticks\":\"\"},\"baxis\":{\"gridcolor\":\"white\",\"linecolor\":\"white\",\"ticks\":\"\"},\"bgcolor\":\"#E5ECF6\",\"caxis\":{\"gridcolor\":\"white\",\"linecolor\":\"white\",\"ticks\":\"\"}},\"title\":{\"x\":0.05},\"xaxis\":{\"automargin\":true,\"gridcolor\":\"white\",\"linecolor\":\"white\",\"ticks\":\"\",\"title\":{\"standoff\":15},\"zerolinecolor\":\"white\",\"zerolinewidth\":2},\"yaxis\":{\"automargin\":true,\"gridcolor\":\"white\",\"linecolor\":\"white\",\"ticks\":\"\",\"title\":{\"standoff\":15},\"zerolinecolor\":\"white\",\"zerolinewidth\":2}}},\"xaxis\":{\"anchor\":\"y\",\"domain\":[0.0,1.0],\"title\":{\"text\":\"index\"}},\"yaxis\":{\"anchor\":\"x\",\"domain\":[0.0,1.0],\"title\":{\"text\":\"value\"}},\"legend\":{\"title\":{\"text\":\"variable\"},\"tracegroupgap\":0},\"margin\":{\"t\":60},\"barmode\":\"relative\"},                        {\"responsive\": true}                    ).then(function(){\n",
              "                            \n",
              "var gd = document.getElementById('004b11fb-b21e-4c5c-ad90-92f831dd8d5d');\n",
              "var x = new MutationObserver(function (mutations, observer) {{\n",
              "        var display = window.getComputedStyle(gd).display;\n",
              "        if (!display || display === 'none') {{\n",
              "            console.log([gd, 'removed!']);\n",
              "            Plotly.purge(gd);\n",
              "            observer.disconnect();\n",
              "        }}\n",
              "}});\n",
              "\n",
              "// Listen for the removal of the full notebook cells\n",
              "var notebookContainer = gd.closest('#notebook-container');\n",
              "if (notebookContainer) {{\n",
              "    x.observe(notebookContainer, {childList: true});\n",
              "}}\n",
              "\n",
              "// Listen for the clearing of the current output cell\n",
              "var outputEl = gd.closest('.output');\n",
              "if (outputEl) {{\n",
              "    x.observe(outputEl, {childList: true});\n",
              "}}\n",
              "\n",
              "                        })                };                            </script>        </div>\n",
              "</body>\n",
              "</html>"
            ]
          },
          "metadata": {}
        }
      ]
    },
    {
      "cell_type": "code",
      "source": [
        "dataframe['day_of_the_week'] = dataframe['day_of_the_week'].replace(np.nan, 'Wed')"
      ],
      "metadata": {
        "id": "7g5FvlPZtg_k"
      },
      "execution_count": null,
      "outputs": []
    },
    {
      "cell_type": "code",
      "source": [
        "dataframe['day_of_the_week'].isnull().sum()"
      ],
      "metadata": {
        "colab": {
          "base_uri": "https://localhost:8080/"
        },
        "id": "frtBNHv1t0Ea",
        "outputId": "460fde95-0176-4d5b-c9b6-72f2c98e293f"
      },
      "execution_count": null,
      "outputs": [
        {
          "output_type": "execute_result",
          "data": {
            "text/plain": [
              "0"
            ]
          },
          "metadata": {},
          "execution_count": 1461
        }
      ]
    },
    {
      "cell_type": "markdown",
      "source": [
        "##Firs Conversion Date"
      ],
      "metadata": {
        "id": "IY6q9TC4t5Ie"
      }
    },
    {
      "cell_type": "code",
      "source": [
        "dataframe['first_conversion_event_name'].head()"
      ],
      "metadata": {
        "colab": {
          "base_uri": "https://localhost:8080/"
        },
        "id": "5E0AY_kIt6jR",
        "outputId": "f67fc43f-b37f-4928-9145-3d860aaddb44"
      },
      "execution_count": null,
      "outputs": [
        {
          "output_type": "execute_result",
          "data": {
            "text/plain": [
              "0                                                  NaN\n",
              "1    Thyroid Inflammation Testing & Consultation | ...\n",
              "2                                                  NaN\n",
              "3                                                  NaN\n",
              "4                                                  NaN\n",
              "Name: first_conversion_event_name, dtype: object"
            ]
          },
          "metadata": {},
          "execution_count": 1462
        }
      ]
    },
    {
      "cell_type": "code",
      "source": [
        "dataframe['first_conversion_event_name'].isnull().sum()"
      ],
      "metadata": {
        "colab": {
          "base_uri": "https://localhost:8080/"
        },
        "id": "CE-1CSMpuYnV",
        "outputId": "408f321e-9ad2-4b34-e1c9-b7cbd6678995"
      },
      "execution_count": null,
      "outputs": [
        {
          "output_type": "execute_result",
          "data": {
            "text/plain": [
              "856"
            ]
          },
          "metadata": {},
          "execution_count": 1463
        }
      ]
    },
    {
      "cell_type": "code",
      "source": [
        "value = dataframe['first_conversion_event_name'].value_counts()"
      ],
      "metadata": {
        "id": "L4XHUfGyur-e"
      },
      "execution_count": null,
      "outputs": []
    },
    {
      "cell_type": "code",
      "source": [
        "fig = px.bar(value)\n",
        "fig.show()"
      ],
      "metadata": {
        "id": "vnCcAZ0su2xN",
        "colab": {
          "base_uri": "https://localhost:8080/",
          "height": 542
        },
        "outputId": "bc0ce4fd-21ca-49cf-d1cb-36ab665c58d3"
      },
      "execution_count": null,
      "outputs": [
        {
          "output_type": "display_data",
          "data": {
            "text/html": [
              "<html>\n",
              "<head><meta charset=\"utf-8\" /></head>\n",
              "<body>\n",
              "    <div>            <script src=\"https://cdnjs.cloudflare.com/ajax/libs/mathjax/2.7.5/MathJax.js?config=TeX-AMS-MML_SVG\"></script><script type=\"text/javascript\">if (window.MathJax) {MathJax.Hub.Config({SVG: {font: \"STIX-Web\"}});}</script>                <script type=\"text/javascript\">window.PlotlyConfig = {MathJaxConfig: 'local'};</script>\n",
              "        <script src=\"https://cdn.plot.ly/plotly-2.8.3.min.js\"></script>                <div id=\"43ca02e6-7c3f-4e0f-8fc0-c5208358f7d9\" class=\"plotly-graph-div\" style=\"height:525px; width:100%;\"></div>            <script type=\"text/javascript\">                                    window.PLOTLYENV=window.PLOTLYENV || {};                                    if (document.getElementById(\"43ca02e6-7c3f-4e0f-8fc0-c5208358f7d9\")) {                    Plotly.newPlot(                        \"43ca02e6-7c3f-4e0f-8fc0-c5208358f7d9\",                        [{\"alignmentgroup\":\"True\",\"hovertemplate\":\"variable=first_conversion_event_name<br>index=%{x}<br>value=%{y}<extra></extra>\",\"legendgroup\":\"first_conversion_event_name\",\"marker\":{\"color\":\"#636efa\",\"pattern\":{\"shape\":\"\"}},\"name\":\"first_conversion_event_name\",\"offsetgroup\":\"first_conversion_event_name\",\"orientation\":\"v\",\"showlegend\":true,\"textposition\":\"auto\",\"x\":[\"Thyroid Inflammation Testing & Consultation | Pompa Program: #paymentForm .ng-invalid, .ng-invalid-required, .ng-valid-email, .ng-valid-maxlength, .ng-dirty, .ng-valid-parse, .ng-submitted\",\"Thyroid Inflammation Testing & Consultation | Pompa Program: #paymentForm .ng-invalid, .ng-invalid-required, .ng-valid-maxlength, .ng-dirty, .ng-valid-parse, .ng-valid-email, .ng-submitted\",\"Thyroid Inflammation Testing & Consultation | Pompa Program: #paymentForm .ng-valid-email, .ng-valid-maxlength, .ng-dirty, .ng-valid-parse, .ng-valid, .ng-valid-required, .ng-submitted\",\"PCSR Testing & Consultation | Pompa Program: #paymentForm .ng-invalid, .ng-invalid-required, .ng-valid-email, .ng-valid-maxlength, .ng-dirty, .ng-valid-parse, .ng-submitted\",\"Thyroid Inflammation Testing & Consultation | Pompa Program: #paymentForm .ng-valid-maxlength, .ng-dirty, .ng-valid-parse, .ng-valid-email, .ng-valid, .ng-valid-required, .ng-submitted\",\"Pompa Program Testing & Consultation | Pompa Program: #paymentForm .ng-invalid, .ng-invalid-required, .ng-valid-maxlength, .ng-dirty, .ng-valid-parse, .ng-valid-email, .ng-submitted\",\"Pompa Program Testing & Consultation | Pompa Program: #paymentForm .ng-invalid, .ng-invalid-required, .ng-valid-email, .ng-valid-maxlength, .ng-dirty, .ng-valid-parse, .ng-submitted\",\"PCSR Testing & Consultation | Pompa Program: #paymentForm .ng-invalid, .ng-invalid-required, .ng-valid-maxlength, .ng-dirty, .ng-valid-parse, .ng-valid-email, .ng-submitted\",\"PCSR Testing & Consultation | Pompa Program: #paymentForm .ng-valid-email, .ng-valid-maxlength, .ng-dirty, .ng-valid-parse, .ng-valid, .ng-valid-required, .ng-submitted\",\"Pompa Program Testing & Consultation | Pompa Program: #paymentForm .ng-valid-email, .ng-valid-maxlength, .ng-dirty, .ng-valid-parse, .ng-valid, .ng-valid-required, .ng-submitted\",\"Pompa Program Testing & Consultation | Pompa Program: #paymentForm .ng-valid-maxlength, .ng-dirty, .ng-valid-parse, .ng-valid-email, .ng-valid, .ng-valid-required, .ng-submitted\",\"PCSR Testing & Consultation | Pompa Program: #paymentForm .ng-valid-maxlength, .ng-dirty, .ng-valid-parse, .ng-valid-email, .ng-valid, .ng-valid-required, .ng-submitted\",\"Meetings Link: amanda-schaeffer/1-meet-your-coach\",\"Thyroid Inflammation Testing & Consultation | Pompa Program: #paymentForm .ng-valid-email, .ng-valid-maxlength, .ng-dirty, .ng-valid-parse, .ng-invalid, .ng-invalid-required, .ng-submitted\",\"Connect - Pompa Program: Support Ticket\",\"Thyroid Inflammation Testing & Consultation | Pompa Program: #paymentForm .ng-invalid, .ng-invalid-required, .ng-valid-email, .ng-dirty, .ng-valid-parse, .ng-invalid-maxlength, .ng-submitted\",\"Thyroid Inflammation Testing & Consultation | Pompa Program: #paymentForm .ng-invalid, .ng-invalid-required, .ng-valid-maxlength, .ng-dirty, .ng-valid-parse, .ng-valid-email\",\"Meetings Link: adela-tortora\",\"Meetings Link: amy-marceric/1-meet-your-coach\",\"Meetings Link: olivia-stanforth/1-meet-your-coach\",\"Thyroid Inflammation Testing & Consultation | Pompa Program: #paymentForm .ng-invalid, .ng-invalid-required, .ng-valid-email, .ng-valid-maxlength, .ng-dirty, .ng-valid-parse\",\"Pompa Program Testing & Consultation CS | Pompa Program: #paymentForm .ng-invalid, .ng-invalid-required, .ng-valid-maxlength, .ng-dirty, .ng-valid-parse, .ng-valid-email, .ng-submitted\",\"Meetings Link: carol121/1-meet-your-coach\",\"Pompa Program Testing & Consultation | Pompa Program: #paymentForm .ng-invalid, .ng-invalid-required, .ng-valid-email, .ng-valid-maxlength, .ng-dirty, .ng-valid-parse\",\"Meetings Link: kasey-alim/1-meet-your-coach\",\"Pompa Program Testing & Consultation Discounted Special | Pompa Program: #paymentForm .ng-invalid, .ng-invalid-required, .ng-valid-maxlength, .ng-dirty, .ng-valid-parse, .ng-valid-email, .ng-submitted\",\"Meetings Link: roselle-pasetes/1-meet-your-coach\",\"Meetings Link: taylor-treuhaft/1-meet-your-coach\",\"Meetings Link: susan-kobik/1-meet-your-coach\",\"Pompa Program Testing & Consultation | Pompa Program: #paymentForm .ng-invalid, .ng-valid-email, .ng-dirty, .ng-valid-parse, .ng-invalid-maxlength, .ng-valid-required, .ng-submitted\",\"Meetings Link: ian-sandage/1-meet-your-coach\",\"Meetings Link: khamilton13/1-meet-your-coach\",\"Pompa Program Additional Testing & Consultation | Pompa Program: #paymentForm .ng-invalid, .ng-invalid-required, .ng-valid-email, .ng-valid-maxlength, .ng-dirty, .ng-valid-parse, .ng-submitted\",\"Thyroid Inflammation Testing & Consultation | Pompa Program: #paymentForm .ng-invalid, .ng-invalid-required, .ng-valid-maxlength, .ng-dirty, .ng-valid-parse, .ng-submitted, .ng-valid-email\",\"Meetings Link: christopher-wilson/1-meet-your-coach\",\"Thyroid Inflammation Testing & Consultation | Pompa Program: #paymentForm .ng-invalid, .ng-invalid-required, .ng-valid-email, .ng-dirty, .ng-valid-parse, .ng-valid-maxlength, .ng-submitted\",\"Pompa Program Testing & Consultation CS | Pompa Program: #paymentForm .ng-valid-maxlength, .ng-dirty, .ng-valid-parse, .ng-valid-email, .ng-valid, .ng-valid-required, .ng-submitted\",\"Thyroid Inflammation Testing & Consultation | Pompa Program: #paymentForm .ng-invalid, .ng-valid-email, .ng-dirty, .ng-valid-parse, .ng-invalid-maxlength, .ng-valid-required, .ng-submitted\",\"PCSR Testing & Consultation | Pompa Program: #paymentForm .ng-valid-email, .ng-valid-maxlength, .ng-dirty, .ng-valid-parse, .ng-valid, .ng-valid-required\",\"Meetings Link: gina-kura/1-meet-your-coach\",\"Meetings Link: asilance/1-meet-your-coach\",\"Pompa Program Additional Testing & Consultation | Pompa Program: #paymentForm .ng-invalid, .ng-invalid-required, .ng-valid-maxlength, .ng-dirty, .ng-valid-parse, .ng-valid-email, .ng-submitted\",\"Thyroid Inflammation Testing & Consultation | Pompa Program: #paymentForm .ng-invalid, .ng-dirty, .ng-valid-parse, .ng-valid-email, .ng-invalid-maxlength, .ng-valid-required, .ng-submitted\",\"Pompa Program Testing & Consultation | Pompa Program: #paymentForm .ng-valid-maxlength, .ng-dirty, .ng-valid-parse, .ng-valid-email, .ng-invalid, .ng-invalid-required, .ng-submitted\",\"Pompa Program Testing & Consultation | Pompa Program: #paymentForm .ng-invalid, .ng-invalid-required, .ng-valid-maxlength, .ng-dirty, .ng-valid-parse, .ng-submitted, .ng-valid-email\",\"Meetings Link: jennifer-aguilar/1-meet-your-coach\",\"Meetings Link: tara-nichols/1-meet-your-coach\",\"Pompa Program Testing & Consultation Discounted Special | Pompa Program: #paymentForm .ng-invalid, .ng-invalid-required, .ng-valid-email, .ng-dirty, .ng-valid-parse, .ng-valid-maxlength, .ng-submitted\",\"Pompa Program Testing & Consultation Discounted Special | Pompa Program: #paymentForm .ng-valid-email, .ng-valid-maxlength, .ng-dirty, .ng-valid-parse, .ng-valid, .ng-valid-required, .ng-submitted\",\"PCSR Testing & Consultation | Pompa Program: #paymentForm .ng-invalid, .ng-invalid-required, .ng-valid-email, .ng-dirty, .ng-valid-parse, .ng-invalid-maxlength, .ng-submitted\",\"PCSR Testing & Consultation | Pompa Program: #paymentForm .ng-invalid, .ng-invalid-required, .ng-valid-email, .ng-valid-maxlength, .ng-dirty, .ng-valid-parse\",\"PCSR Testing & Consultation | Pompa Program: #paymentForm .ng-invalid, .ng-invalid-required, .ng-valid-maxlength, .ng-dirty, .ng-valid-parse, .ng-valid-email\",\"Meetings Link: tricia59/1-meet-your-coach\",\"Thyroid Inflammation Testing & Consultation | Pompa Program: #paymentForm .ng-valid-maxlength, .ng-dirty, .ng-valid-parse, .ng-submitted, .ng-valid-email, .ng-valid, .ng-valid-required\",\"Pompa Program Testing & Consultation | Pompa Program: #paymentForm .ng-invalid, .ng-invalid-required, .ng-valid-email, .ng-dirty, .ng-valid-parse, .ng-invalid-maxlength, .ng-submitted\",\"Pompa Program Testing & Consultation Discounted Special | Pompa Program: #paymentForm .ng-invalid, .ng-invalid-required, .ng-valid-email, .ng-valid-maxlength, .ng-dirty, .ng-valid-parse, .ng-submitted\",\"Meetings Link: brandy-stepetin/1-meet-your-coach\",\"My account | Pompa Program Masterclass: .woocommerce-ResetPassword, .lost_reset_password\",\"Thyroid Inflammation Testing & Consultation | Pompa Program: #paymentForm .ng-valid-email, .ng-valid-maxlength, .ng-dirty, .ng-valid-parse, .ng-submitted, .ng-valid, .ng-valid-required\",\"Pompa Program Testing & Consultation | Pompa Program: #paymentForm .ng-valid-maxlength, .ng-dirty, .ng-valid-parse, .ng-valid-required, .ng-valid, .ng-valid-email, .ng-submitted\",\"Pompa Program Testing & Consultation | Pompa Program: #paymentForm .ng-invalid, .ng-invalid-required, .ng-dirty, .ng-valid-parse, .ng-valid-email, .ng-valid-maxlength, .ng-submitted\"],\"xaxis\":\"x\",\"y\":[110,90,84,19,18,18,15,11,11,8,8,6,5,4,4,4,4,4,3,3,3,3,3,2,2,2,2,2,2,2,2,2,2,2,2,2,2,2,1,1,1,1,1,1,1,1,1,1,1,1,1,1,1,1,1,1,1,1,1,1,1],\"yaxis\":\"y\",\"type\":\"bar\"}],                        {\"template\":{\"data\":{\"bar\":[{\"error_x\":{\"color\":\"#2a3f5f\"},\"error_y\":{\"color\":\"#2a3f5f\"},\"marker\":{\"line\":{\"color\":\"#E5ECF6\",\"width\":0.5},\"pattern\":{\"fillmode\":\"overlay\",\"size\":10,\"solidity\":0.2}},\"type\":\"bar\"}],\"barpolar\":[{\"marker\":{\"line\":{\"color\":\"#E5ECF6\",\"width\":0.5},\"pattern\":{\"fillmode\":\"overlay\",\"size\":10,\"solidity\":0.2}},\"type\":\"barpolar\"}],\"carpet\":[{\"aaxis\":{\"endlinecolor\":\"#2a3f5f\",\"gridcolor\":\"white\",\"linecolor\":\"white\",\"minorgridcolor\":\"white\",\"startlinecolor\":\"#2a3f5f\"},\"baxis\":{\"endlinecolor\":\"#2a3f5f\",\"gridcolor\":\"white\",\"linecolor\":\"white\",\"minorgridcolor\":\"white\",\"startlinecolor\":\"#2a3f5f\"},\"type\":\"carpet\"}],\"choropleth\":[{\"colorbar\":{\"outlinewidth\":0,\"ticks\":\"\"},\"type\":\"choropleth\"}],\"contour\":[{\"colorbar\":{\"outlinewidth\":0,\"ticks\":\"\"},\"colorscale\":[[0.0,\"#0d0887\"],[0.1111111111111111,\"#46039f\"],[0.2222222222222222,\"#7201a8\"],[0.3333333333333333,\"#9c179e\"],[0.4444444444444444,\"#bd3786\"],[0.5555555555555556,\"#d8576b\"],[0.6666666666666666,\"#ed7953\"],[0.7777777777777778,\"#fb9f3a\"],[0.8888888888888888,\"#fdca26\"],[1.0,\"#f0f921\"]],\"type\":\"contour\"}],\"contourcarpet\":[{\"colorbar\":{\"outlinewidth\":0,\"ticks\":\"\"},\"type\":\"contourcarpet\"}],\"heatmap\":[{\"colorbar\":{\"outlinewidth\":0,\"ticks\":\"\"},\"colorscale\":[[0.0,\"#0d0887\"],[0.1111111111111111,\"#46039f\"],[0.2222222222222222,\"#7201a8\"],[0.3333333333333333,\"#9c179e\"],[0.4444444444444444,\"#bd3786\"],[0.5555555555555556,\"#d8576b\"],[0.6666666666666666,\"#ed7953\"],[0.7777777777777778,\"#fb9f3a\"],[0.8888888888888888,\"#fdca26\"],[1.0,\"#f0f921\"]],\"type\":\"heatmap\"}],\"heatmapgl\":[{\"colorbar\":{\"outlinewidth\":0,\"ticks\":\"\"},\"colorscale\":[[0.0,\"#0d0887\"],[0.1111111111111111,\"#46039f\"],[0.2222222222222222,\"#7201a8\"],[0.3333333333333333,\"#9c179e\"],[0.4444444444444444,\"#bd3786\"],[0.5555555555555556,\"#d8576b\"],[0.6666666666666666,\"#ed7953\"],[0.7777777777777778,\"#fb9f3a\"],[0.8888888888888888,\"#fdca26\"],[1.0,\"#f0f921\"]],\"type\":\"heatmapgl\"}],\"histogram\":[{\"marker\":{\"pattern\":{\"fillmode\":\"overlay\",\"size\":10,\"solidity\":0.2}},\"type\":\"histogram\"}],\"histogram2d\":[{\"colorbar\":{\"outlinewidth\":0,\"ticks\":\"\"},\"colorscale\":[[0.0,\"#0d0887\"],[0.1111111111111111,\"#46039f\"],[0.2222222222222222,\"#7201a8\"],[0.3333333333333333,\"#9c179e\"],[0.4444444444444444,\"#bd3786\"],[0.5555555555555556,\"#d8576b\"],[0.6666666666666666,\"#ed7953\"],[0.7777777777777778,\"#fb9f3a\"],[0.8888888888888888,\"#fdca26\"],[1.0,\"#f0f921\"]],\"type\":\"histogram2d\"}],\"histogram2dcontour\":[{\"colorbar\":{\"outlinewidth\":0,\"ticks\":\"\"},\"colorscale\":[[0.0,\"#0d0887\"],[0.1111111111111111,\"#46039f\"],[0.2222222222222222,\"#7201a8\"],[0.3333333333333333,\"#9c179e\"],[0.4444444444444444,\"#bd3786\"],[0.5555555555555556,\"#d8576b\"],[0.6666666666666666,\"#ed7953\"],[0.7777777777777778,\"#fb9f3a\"],[0.8888888888888888,\"#fdca26\"],[1.0,\"#f0f921\"]],\"type\":\"histogram2dcontour\"}],\"mesh3d\":[{\"colorbar\":{\"outlinewidth\":0,\"ticks\":\"\"},\"type\":\"mesh3d\"}],\"parcoords\":[{\"line\":{\"colorbar\":{\"outlinewidth\":0,\"ticks\":\"\"}},\"type\":\"parcoords\"}],\"pie\":[{\"automargin\":true,\"type\":\"pie\"}],\"scatter\":[{\"marker\":{\"colorbar\":{\"outlinewidth\":0,\"ticks\":\"\"}},\"type\":\"scatter\"}],\"scatter3d\":[{\"line\":{\"colorbar\":{\"outlinewidth\":0,\"ticks\":\"\"}},\"marker\":{\"colorbar\":{\"outlinewidth\":0,\"ticks\":\"\"}},\"type\":\"scatter3d\"}],\"scattercarpet\":[{\"marker\":{\"colorbar\":{\"outlinewidth\":0,\"ticks\":\"\"}},\"type\":\"scattercarpet\"}],\"scattergeo\":[{\"marker\":{\"colorbar\":{\"outlinewidth\":0,\"ticks\":\"\"}},\"type\":\"scattergeo\"}],\"scattergl\":[{\"marker\":{\"colorbar\":{\"outlinewidth\":0,\"ticks\":\"\"}},\"type\":\"scattergl\"}],\"scattermapbox\":[{\"marker\":{\"colorbar\":{\"outlinewidth\":0,\"ticks\":\"\"}},\"type\":\"scattermapbox\"}],\"scatterpolar\":[{\"marker\":{\"colorbar\":{\"outlinewidth\":0,\"ticks\":\"\"}},\"type\":\"scatterpolar\"}],\"scatterpolargl\":[{\"marker\":{\"colorbar\":{\"outlinewidth\":0,\"ticks\":\"\"}},\"type\":\"scatterpolargl\"}],\"scatterternary\":[{\"marker\":{\"colorbar\":{\"outlinewidth\":0,\"ticks\":\"\"}},\"type\":\"scatterternary\"}],\"surface\":[{\"colorbar\":{\"outlinewidth\":0,\"ticks\":\"\"},\"colorscale\":[[0.0,\"#0d0887\"],[0.1111111111111111,\"#46039f\"],[0.2222222222222222,\"#7201a8\"],[0.3333333333333333,\"#9c179e\"],[0.4444444444444444,\"#bd3786\"],[0.5555555555555556,\"#d8576b\"],[0.6666666666666666,\"#ed7953\"],[0.7777777777777778,\"#fb9f3a\"],[0.8888888888888888,\"#fdca26\"],[1.0,\"#f0f921\"]],\"type\":\"surface\"}],\"table\":[{\"cells\":{\"fill\":{\"color\":\"#EBF0F8\"},\"line\":{\"color\":\"white\"}},\"header\":{\"fill\":{\"color\":\"#C8D4E3\"},\"line\":{\"color\":\"white\"}},\"type\":\"table\"}]},\"layout\":{\"annotationdefaults\":{\"arrowcolor\":\"#2a3f5f\",\"arrowhead\":0,\"arrowwidth\":1},\"autotypenumbers\":\"strict\",\"coloraxis\":{\"colorbar\":{\"outlinewidth\":0,\"ticks\":\"\"}},\"colorscale\":{\"diverging\":[[0,\"#8e0152\"],[0.1,\"#c51b7d\"],[0.2,\"#de77ae\"],[0.3,\"#f1b6da\"],[0.4,\"#fde0ef\"],[0.5,\"#f7f7f7\"],[0.6,\"#e6f5d0\"],[0.7,\"#b8e186\"],[0.8,\"#7fbc41\"],[0.9,\"#4d9221\"],[1,\"#276419\"]],\"sequential\":[[0.0,\"#0d0887\"],[0.1111111111111111,\"#46039f\"],[0.2222222222222222,\"#7201a8\"],[0.3333333333333333,\"#9c179e\"],[0.4444444444444444,\"#bd3786\"],[0.5555555555555556,\"#d8576b\"],[0.6666666666666666,\"#ed7953\"],[0.7777777777777778,\"#fb9f3a\"],[0.8888888888888888,\"#fdca26\"],[1.0,\"#f0f921\"]],\"sequentialminus\":[[0.0,\"#0d0887\"],[0.1111111111111111,\"#46039f\"],[0.2222222222222222,\"#7201a8\"],[0.3333333333333333,\"#9c179e\"],[0.4444444444444444,\"#bd3786\"],[0.5555555555555556,\"#d8576b\"],[0.6666666666666666,\"#ed7953\"],[0.7777777777777778,\"#fb9f3a\"],[0.8888888888888888,\"#fdca26\"],[1.0,\"#f0f921\"]]},\"colorway\":[\"#636efa\",\"#EF553B\",\"#00cc96\",\"#ab63fa\",\"#FFA15A\",\"#19d3f3\",\"#FF6692\",\"#B6E880\",\"#FF97FF\",\"#FECB52\"],\"font\":{\"color\":\"#2a3f5f\"},\"geo\":{\"bgcolor\":\"white\",\"lakecolor\":\"white\",\"landcolor\":\"#E5ECF6\",\"showlakes\":true,\"showland\":true,\"subunitcolor\":\"white\"},\"hoverlabel\":{\"align\":\"left\"},\"hovermode\":\"closest\",\"mapbox\":{\"style\":\"light\"},\"paper_bgcolor\":\"white\",\"plot_bgcolor\":\"#E5ECF6\",\"polar\":{\"angularaxis\":{\"gridcolor\":\"white\",\"linecolor\":\"white\",\"ticks\":\"\"},\"bgcolor\":\"#E5ECF6\",\"radialaxis\":{\"gridcolor\":\"white\",\"linecolor\":\"white\",\"ticks\":\"\"}},\"scene\":{\"xaxis\":{\"backgroundcolor\":\"#E5ECF6\",\"gridcolor\":\"white\",\"gridwidth\":2,\"linecolor\":\"white\",\"showbackground\":true,\"ticks\":\"\",\"zerolinecolor\":\"white\"},\"yaxis\":{\"backgroundcolor\":\"#E5ECF6\",\"gridcolor\":\"white\",\"gridwidth\":2,\"linecolor\":\"white\",\"showbackground\":true,\"ticks\":\"\",\"zerolinecolor\":\"white\"},\"zaxis\":{\"backgroundcolor\":\"#E5ECF6\",\"gridcolor\":\"white\",\"gridwidth\":2,\"linecolor\":\"white\",\"showbackground\":true,\"ticks\":\"\",\"zerolinecolor\":\"white\"}},\"shapedefaults\":{\"line\":{\"color\":\"#2a3f5f\"}},\"ternary\":{\"aaxis\":{\"gridcolor\":\"white\",\"linecolor\":\"white\",\"ticks\":\"\"},\"baxis\":{\"gridcolor\":\"white\",\"linecolor\":\"white\",\"ticks\":\"\"},\"bgcolor\":\"#E5ECF6\",\"caxis\":{\"gridcolor\":\"white\",\"linecolor\":\"white\",\"ticks\":\"\"}},\"title\":{\"x\":0.05},\"xaxis\":{\"automargin\":true,\"gridcolor\":\"white\",\"linecolor\":\"white\",\"ticks\":\"\",\"title\":{\"standoff\":15},\"zerolinecolor\":\"white\",\"zerolinewidth\":2},\"yaxis\":{\"automargin\":true,\"gridcolor\":\"white\",\"linecolor\":\"white\",\"ticks\":\"\",\"title\":{\"standoff\":15},\"zerolinecolor\":\"white\",\"zerolinewidth\":2}}},\"xaxis\":{\"anchor\":\"y\",\"domain\":[0.0,1.0],\"title\":{\"text\":\"index\"}},\"yaxis\":{\"anchor\":\"x\",\"domain\":[0.0,1.0],\"title\":{\"text\":\"value\"}},\"legend\":{\"title\":{\"text\":\"variable\"},\"tracegroupgap\":0},\"margin\":{\"t\":60},\"barmode\":\"relative\"},                        {\"responsive\": true}                    ).then(function(){\n",
              "                            \n",
              "var gd = document.getElementById('43ca02e6-7c3f-4e0f-8fc0-c5208358f7d9');\n",
              "var x = new MutationObserver(function (mutations, observer) {{\n",
              "        var display = window.getComputedStyle(gd).display;\n",
              "        if (!display || display === 'none') {{\n",
              "            console.log([gd, 'removed!']);\n",
              "            Plotly.purge(gd);\n",
              "            observer.disconnect();\n",
              "        }}\n",
              "}});\n",
              "\n",
              "// Listen for the removal of the full notebook cells\n",
              "var notebookContainer = gd.closest('#notebook-container');\n",
              "if (notebookContainer) {{\n",
              "    x.observe(notebookContainer, {childList: true});\n",
              "}}\n",
              "\n",
              "// Listen for the clearing of the current output cell\n",
              "var outputEl = gd.closest('.output');\n",
              "if (outputEl) {{\n",
              "    x.observe(outputEl, {childList: true});\n",
              "}}\n",
              "\n",
              "                        })                };                            </script>        </div>\n",
              "</body>\n",
              "</html>"
            ]
          },
          "metadata": {}
        }
      ]
    },
    {
      "cell_type": "code",
      "source": [
        "dataframe['first_conversion_event_name'] = dataframe['first_conversion_event_name'].replace(np.nan, 'Thyroid Inflammation Testing & Consultation | Pompa Program: #paymentForm .ng-valid-maxlength, .ng-dirty, .ng-valid-parse, .ng-valid-email, .ng-valid, .ng-valid-required, .ng-submitted')"
      ],
      "metadata": {
        "id": "XrWw243hvQuc"
      },
      "execution_count": null,
      "outputs": []
    },
    {
      "cell_type": "code",
      "source": [
        "dataframe['first_conversion_event_name'].isnull().sum()"
      ],
      "metadata": {
        "colab": {
          "base_uri": "https://localhost:8080/"
        },
        "id": "6gHX6mVlxp2m",
        "outputId": "2247c439-cf58-4ddd-cd8b-051d08f21ac4"
      },
      "execution_count": null,
      "outputs": [
        {
          "output_type": "execute_result",
          "data": {
            "text/plain": [
              "0"
            ]
          },
          "metadata": {},
          "execution_count": 1467
        }
      ]
    },
    {
      "cell_type": "markdown",
      "source": [
        "##Follow up sequence"
      ],
      "metadata": {
        "id": "iRg-RWmJxrH8"
      }
    },
    {
      "cell_type": "code",
      "source": [
        "dataframe['follow_up_sequence'].describe()"
      ],
      "metadata": {
        "colab": {
          "base_uri": "https://localhost:8080/"
        },
        "id": "mXHnL9McxsRT",
        "outputId": "70e5ec7c-8d06-430e-e742-ec22b6e6455d"
      },
      "execution_count": null,
      "outputs": [
        {
          "output_type": "execute_result",
          "data": {
            "text/plain": [
              "count          1185\n",
              "unique            9\n",
              "top       Scheduled\n",
              "freq            719\n",
              "Name: follow_up_sequence, dtype: object"
            ]
          },
          "metadata": {},
          "execution_count": 1468
        }
      ]
    },
    {
      "cell_type": "code",
      "source": [
        "dataframe['follow_up_sequence'].isnull().sum()"
      ],
      "metadata": {
        "colab": {
          "base_uri": "https://localhost:8080/"
        },
        "id": "AEN4PV9YyAwl",
        "outputId": "0a98e65f-cd52-4dee-b99d-74765d179b75"
      },
      "execution_count": null,
      "outputs": [
        {
          "output_type": "execute_result",
          "data": {
            "text/plain": [
              "162"
            ]
          },
          "metadata": {},
          "execution_count": 1469
        }
      ]
    },
    {
      "cell_type": "code",
      "source": [
        "value = dataframe['follow_up_sequence'].value_counts()"
      ],
      "metadata": {
        "id": "LuCVajsvz4AV"
      },
      "execution_count": null,
      "outputs": []
    },
    {
      "cell_type": "code",
      "source": [
        "fig = px.bar(value)\n",
        "fig.show()"
      ],
      "metadata": {
        "colab": {
          "base_uri": "https://localhost:8080/",
          "height": 542
        },
        "id": "tvO3l_1U0Mxs",
        "outputId": "edc53eeb-6244-42c3-e4b3-68a8efb5f299"
      },
      "execution_count": null,
      "outputs": [
        {
          "output_type": "display_data",
          "data": {
            "text/html": [
              "<html>\n",
              "<head><meta charset=\"utf-8\" /></head>\n",
              "<body>\n",
              "    <div>            <script src=\"https://cdnjs.cloudflare.com/ajax/libs/mathjax/2.7.5/MathJax.js?config=TeX-AMS-MML_SVG\"></script><script type=\"text/javascript\">if (window.MathJax) {MathJax.Hub.Config({SVG: {font: \"STIX-Web\"}});}</script>                <script type=\"text/javascript\">window.PlotlyConfig = {MathJaxConfig: 'local'};</script>\n",
              "        <script src=\"https://cdn.plot.ly/plotly-2.8.3.min.js\"></script>                <div id=\"aaef5f33-4d04-4998-a1ef-d472f7cd7f9f\" class=\"plotly-graph-div\" style=\"height:525px; width:100%;\"></div>            <script type=\"text/javascript\">                                    window.PLOTLYENV=window.PLOTLYENV || {};                                    if (document.getElementById(\"aaef5f33-4d04-4998-a1ef-d472f7cd7f9f\")) {                    Plotly.newPlot(                        \"aaef5f33-4d04-4998-a1ef-d472f7cd7f9f\",                        [{\"alignmentgroup\":\"True\",\"hovertemplate\":\"variable=follow_up_sequence<br>index=%{x}<br>value=%{y}<extra></extra>\",\"legendgroup\":\"follow_up_sequence\",\"marker\":{\"color\":\"#636efa\",\"pattern\":{\"shape\":\"\"}},\"name\":\"follow_up_sequence\",\"offsetgroup\":\"follow_up_sequence\",\"orientation\":\"v\",\"showlegend\":true,\"textposition\":\"auto\",\"x\":[\"Scheduled\",\"Checkout_No_Schedule\",\"Canceled\",\"Rescheduled\",\"Registered\",\"Saw_Offer\",\"Initiated_Checkout\",\"Attended\",\"Reached_Offer\"],\"xaxis\":\"x\",\"y\":[719,193,134,60,28,22,17,9,3],\"yaxis\":\"y\",\"type\":\"bar\"}],                        {\"template\":{\"data\":{\"bar\":[{\"error_x\":{\"color\":\"#2a3f5f\"},\"error_y\":{\"color\":\"#2a3f5f\"},\"marker\":{\"line\":{\"color\":\"#E5ECF6\",\"width\":0.5},\"pattern\":{\"fillmode\":\"overlay\",\"size\":10,\"solidity\":0.2}},\"type\":\"bar\"}],\"barpolar\":[{\"marker\":{\"line\":{\"color\":\"#E5ECF6\",\"width\":0.5},\"pattern\":{\"fillmode\":\"overlay\",\"size\":10,\"solidity\":0.2}},\"type\":\"barpolar\"}],\"carpet\":[{\"aaxis\":{\"endlinecolor\":\"#2a3f5f\",\"gridcolor\":\"white\",\"linecolor\":\"white\",\"minorgridcolor\":\"white\",\"startlinecolor\":\"#2a3f5f\"},\"baxis\":{\"endlinecolor\":\"#2a3f5f\",\"gridcolor\":\"white\",\"linecolor\":\"white\",\"minorgridcolor\":\"white\",\"startlinecolor\":\"#2a3f5f\"},\"type\":\"carpet\"}],\"choropleth\":[{\"colorbar\":{\"outlinewidth\":0,\"ticks\":\"\"},\"type\":\"choropleth\"}],\"contour\":[{\"colorbar\":{\"outlinewidth\":0,\"ticks\":\"\"},\"colorscale\":[[0.0,\"#0d0887\"],[0.1111111111111111,\"#46039f\"],[0.2222222222222222,\"#7201a8\"],[0.3333333333333333,\"#9c179e\"],[0.4444444444444444,\"#bd3786\"],[0.5555555555555556,\"#d8576b\"],[0.6666666666666666,\"#ed7953\"],[0.7777777777777778,\"#fb9f3a\"],[0.8888888888888888,\"#fdca26\"],[1.0,\"#f0f921\"]],\"type\":\"contour\"}],\"contourcarpet\":[{\"colorbar\":{\"outlinewidth\":0,\"ticks\":\"\"},\"type\":\"contourcarpet\"}],\"heatmap\":[{\"colorbar\":{\"outlinewidth\":0,\"ticks\":\"\"},\"colorscale\":[[0.0,\"#0d0887\"],[0.1111111111111111,\"#46039f\"],[0.2222222222222222,\"#7201a8\"],[0.3333333333333333,\"#9c179e\"],[0.4444444444444444,\"#bd3786\"],[0.5555555555555556,\"#d8576b\"],[0.6666666666666666,\"#ed7953\"],[0.7777777777777778,\"#fb9f3a\"],[0.8888888888888888,\"#fdca26\"],[1.0,\"#f0f921\"]],\"type\":\"heatmap\"}],\"heatmapgl\":[{\"colorbar\":{\"outlinewidth\":0,\"ticks\":\"\"},\"colorscale\":[[0.0,\"#0d0887\"],[0.1111111111111111,\"#46039f\"],[0.2222222222222222,\"#7201a8\"],[0.3333333333333333,\"#9c179e\"],[0.4444444444444444,\"#bd3786\"],[0.5555555555555556,\"#d8576b\"],[0.6666666666666666,\"#ed7953\"],[0.7777777777777778,\"#fb9f3a\"],[0.8888888888888888,\"#fdca26\"],[1.0,\"#f0f921\"]],\"type\":\"heatmapgl\"}],\"histogram\":[{\"marker\":{\"pattern\":{\"fillmode\":\"overlay\",\"size\":10,\"solidity\":0.2}},\"type\":\"histogram\"}],\"histogram2d\":[{\"colorbar\":{\"outlinewidth\":0,\"ticks\":\"\"},\"colorscale\":[[0.0,\"#0d0887\"],[0.1111111111111111,\"#46039f\"],[0.2222222222222222,\"#7201a8\"],[0.3333333333333333,\"#9c179e\"],[0.4444444444444444,\"#bd3786\"],[0.5555555555555556,\"#d8576b\"],[0.6666666666666666,\"#ed7953\"],[0.7777777777777778,\"#fb9f3a\"],[0.8888888888888888,\"#fdca26\"],[1.0,\"#f0f921\"]],\"type\":\"histogram2d\"}],\"histogram2dcontour\":[{\"colorbar\":{\"outlinewidth\":0,\"ticks\":\"\"},\"colorscale\":[[0.0,\"#0d0887\"],[0.1111111111111111,\"#46039f\"],[0.2222222222222222,\"#7201a8\"],[0.3333333333333333,\"#9c179e\"],[0.4444444444444444,\"#bd3786\"],[0.5555555555555556,\"#d8576b\"],[0.6666666666666666,\"#ed7953\"],[0.7777777777777778,\"#fb9f3a\"],[0.8888888888888888,\"#fdca26\"],[1.0,\"#f0f921\"]],\"type\":\"histogram2dcontour\"}],\"mesh3d\":[{\"colorbar\":{\"outlinewidth\":0,\"ticks\":\"\"},\"type\":\"mesh3d\"}],\"parcoords\":[{\"line\":{\"colorbar\":{\"outlinewidth\":0,\"ticks\":\"\"}},\"type\":\"parcoords\"}],\"pie\":[{\"automargin\":true,\"type\":\"pie\"}],\"scatter\":[{\"marker\":{\"colorbar\":{\"outlinewidth\":0,\"ticks\":\"\"}},\"type\":\"scatter\"}],\"scatter3d\":[{\"line\":{\"colorbar\":{\"outlinewidth\":0,\"ticks\":\"\"}},\"marker\":{\"colorbar\":{\"outlinewidth\":0,\"ticks\":\"\"}},\"type\":\"scatter3d\"}],\"scattercarpet\":[{\"marker\":{\"colorbar\":{\"outlinewidth\":0,\"ticks\":\"\"}},\"type\":\"scattercarpet\"}],\"scattergeo\":[{\"marker\":{\"colorbar\":{\"outlinewidth\":0,\"ticks\":\"\"}},\"type\":\"scattergeo\"}],\"scattergl\":[{\"marker\":{\"colorbar\":{\"outlinewidth\":0,\"ticks\":\"\"}},\"type\":\"scattergl\"}],\"scattermapbox\":[{\"marker\":{\"colorbar\":{\"outlinewidth\":0,\"ticks\":\"\"}},\"type\":\"scattermapbox\"}],\"scatterpolar\":[{\"marker\":{\"colorbar\":{\"outlinewidth\":0,\"ticks\":\"\"}},\"type\":\"scatterpolar\"}],\"scatterpolargl\":[{\"marker\":{\"colorbar\":{\"outlinewidth\":0,\"ticks\":\"\"}},\"type\":\"scatterpolargl\"}],\"scatterternary\":[{\"marker\":{\"colorbar\":{\"outlinewidth\":0,\"ticks\":\"\"}},\"type\":\"scatterternary\"}],\"surface\":[{\"colorbar\":{\"outlinewidth\":0,\"ticks\":\"\"},\"colorscale\":[[0.0,\"#0d0887\"],[0.1111111111111111,\"#46039f\"],[0.2222222222222222,\"#7201a8\"],[0.3333333333333333,\"#9c179e\"],[0.4444444444444444,\"#bd3786\"],[0.5555555555555556,\"#d8576b\"],[0.6666666666666666,\"#ed7953\"],[0.7777777777777778,\"#fb9f3a\"],[0.8888888888888888,\"#fdca26\"],[1.0,\"#f0f921\"]],\"type\":\"surface\"}],\"table\":[{\"cells\":{\"fill\":{\"color\":\"#EBF0F8\"},\"line\":{\"color\":\"white\"}},\"header\":{\"fill\":{\"color\":\"#C8D4E3\"},\"line\":{\"color\":\"white\"}},\"type\":\"table\"}]},\"layout\":{\"annotationdefaults\":{\"arrowcolor\":\"#2a3f5f\",\"arrowhead\":0,\"arrowwidth\":1},\"autotypenumbers\":\"strict\",\"coloraxis\":{\"colorbar\":{\"outlinewidth\":0,\"ticks\":\"\"}},\"colorscale\":{\"diverging\":[[0,\"#8e0152\"],[0.1,\"#c51b7d\"],[0.2,\"#de77ae\"],[0.3,\"#f1b6da\"],[0.4,\"#fde0ef\"],[0.5,\"#f7f7f7\"],[0.6,\"#e6f5d0\"],[0.7,\"#b8e186\"],[0.8,\"#7fbc41\"],[0.9,\"#4d9221\"],[1,\"#276419\"]],\"sequential\":[[0.0,\"#0d0887\"],[0.1111111111111111,\"#46039f\"],[0.2222222222222222,\"#7201a8\"],[0.3333333333333333,\"#9c179e\"],[0.4444444444444444,\"#bd3786\"],[0.5555555555555556,\"#d8576b\"],[0.6666666666666666,\"#ed7953\"],[0.7777777777777778,\"#fb9f3a\"],[0.8888888888888888,\"#fdca26\"],[1.0,\"#f0f921\"]],\"sequentialminus\":[[0.0,\"#0d0887\"],[0.1111111111111111,\"#46039f\"],[0.2222222222222222,\"#7201a8\"],[0.3333333333333333,\"#9c179e\"],[0.4444444444444444,\"#bd3786\"],[0.5555555555555556,\"#d8576b\"],[0.6666666666666666,\"#ed7953\"],[0.7777777777777778,\"#fb9f3a\"],[0.8888888888888888,\"#fdca26\"],[1.0,\"#f0f921\"]]},\"colorway\":[\"#636efa\",\"#EF553B\",\"#00cc96\",\"#ab63fa\",\"#FFA15A\",\"#19d3f3\",\"#FF6692\",\"#B6E880\",\"#FF97FF\",\"#FECB52\"],\"font\":{\"color\":\"#2a3f5f\"},\"geo\":{\"bgcolor\":\"white\",\"lakecolor\":\"white\",\"landcolor\":\"#E5ECF6\",\"showlakes\":true,\"showland\":true,\"subunitcolor\":\"white\"},\"hoverlabel\":{\"align\":\"left\"},\"hovermode\":\"closest\",\"mapbox\":{\"style\":\"light\"},\"paper_bgcolor\":\"white\",\"plot_bgcolor\":\"#E5ECF6\",\"polar\":{\"angularaxis\":{\"gridcolor\":\"white\",\"linecolor\":\"white\",\"ticks\":\"\"},\"bgcolor\":\"#E5ECF6\",\"radialaxis\":{\"gridcolor\":\"white\",\"linecolor\":\"white\",\"ticks\":\"\"}},\"scene\":{\"xaxis\":{\"backgroundcolor\":\"#E5ECF6\",\"gridcolor\":\"white\",\"gridwidth\":2,\"linecolor\":\"white\",\"showbackground\":true,\"ticks\":\"\",\"zerolinecolor\":\"white\"},\"yaxis\":{\"backgroundcolor\":\"#E5ECF6\",\"gridcolor\":\"white\",\"gridwidth\":2,\"linecolor\":\"white\",\"showbackground\":true,\"ticks\":\"\",\"zerolinecolor\":\"white\"},\"zaxis\":{\"backgroundcolor\":\"#E5ECF6\",\"gridcolor\":\"white\",\"gridwidth\":2,\"linecolor\":\"white\",\"showbackground\":true,\"ticks\":\"\",\"zerolinecolor\":\"white\"}},\"shapedefaults\":{\"line\":{\"color\":\"#2a3f5f\"}},\"ternary\":{\"aaxis\":{\"gridcolor\":\"white\",\"linecolor\":\"white\",\"ticks\":\"\"},\"baxis\":{\"gridcolor\":\"white\",\"linecolor\":\"white\",\"ticks\":\"\"},\"bgcolor\":\"#E5ECF6\",\"caxis\":{\"gridcolor\":\"white\",\"linecolor\":\"white\",\"ticks\":\"\"}},\"title\":{\"x\":0.05},\"xaxis\":{\"automargin\":true,\"gridcolor\":\"white\",\"linecolor\":\"white\",\"ticks\":\"\",\"title\":{\"standoff\":15},\"zerolinecolor\":\"white\",\"zerolinewidth\":2},\"yaxis\":{\"automargin\":true,\"gridcolor\":\"white\",\"linecolor\":\"white\",\"ticks\":\"\",\"title\":{\"standoff\":15},\"zerolinecolor\":\"white\",\"zerolinewidth\":2}}},\"xaxis\":{\"anchor\":\"y\",\"domain\":[0.0,1.0],\"title\":{\"text\":\"index\"}},\"yaxis\":{\"anchor\":\"x\",\"domain\":[0.0,1.0],\"title\":{\"text\":\"value\"}},\"legend\":{\"title\":{\"text\":\"variable\"},\"tracegroupgap\":0},\"margin\":{\"t\":60},\"barmode\":\"relative\"},                        {\"responsive\": true}                    ).then(function(){\n",
              "                            \n",
              "var gd = document.getElementById('aaef5f33-4d04-4998-a1ef-d472f7cd7f9f');\n",
              "var x = new MutationObserver(function (mutations, observer) {{\n",
              "        var display = window.getComputedStyle(gd).display;\n",
              "        if (!display || display === 'none') {{\n",
              "            console.log([gd, 'removed!']);\n",
              "            Plotly.purge(gd);\n",
              "            observer.disconnect();\n",
              "        }}\n",
              "}});\n",
              "\n",
              "// Listen for the removal of the full notebook cells\n",
              "var notebookContainer = gd.closest('#notebook-container');\n",
              "if (notebookContainer) {{\n",
              "    x.observe(notebookContainer, {childList: true});\n",
              "}}\n",
              "\n",
              "// Listen for the clearing of the current output cell\n",
              "var outputEl = gd.closest('.output');\n",
              "if (outputEl) {{\n",
              "    x.observe(outputEl, {childList: true});\n",
              "}}\n",
              "\n",
              "                        })                };                            </script>        </div>\n",
              "</body>\n",
              "</html>"
            ]
          },
          "metadata": {}
        }
      ]
    },
    {
      "cell_type": "code",
      "source": [
        "dataframe['follow_up_sequence'] = dataframe['follow_up_sequence'].replace(np.nan, 'Scheduled')"
      ],
      "metadata": {
        "id": "eIPv9VBe0Ovt"
      },
      "execution_count": null,
      "outputs": []
    },
    {
      "cell_type": "code",
      "source": [
        "dataframe['follow_up_sequence'].isnull().sum()"
      ],
      "metadata": {
        "colab": {
          "base_uri": "https://localhost:8080/"
        },
        "id": "uwn7vSWD0cBW",
        "outputId": "89d8bb89-b9ab-470c-a617-5c73488a4243"
      },
      "execution_count": null,
      "outputs": [
        {
          "output_type": "execute_result",
          "data": {
            "text/plain": [
              "0"
            ]
          },
          "metadata": {},
          "execution_count": 1473
        }
      ]
    },
    {
      "cell_type": "markdown",
      "source": [
        "#Hasnt booked"
      ],
      "metadata": {
        "id": "74gZIQan01OU"
      }
    },
    {
      "cell_type": "code",
      "source": [
        "dataframe['hasn_t_booked'].describe()"
      ],
      "metadata": {
        "colab": {
          "base_uri": "https://localhost:8080/"
        },
        "id": "EHC3dzUp0ine",
        "outputId": "0dfb3ca0-b249-4308-ea52-b8b68142340d"
      },
      "execution_count": null,
      "outputs": [
        {
          "output_type": "execute_result",
          "data": {
            "text/plain": [
              "count     1174\n",
              "unique       2\n",
              "top        Yes\n",
              "freq       938\n",
              "Name: hasn_t_booked, dtype: object"
            ]
          },
          "metadata": {},
          "execution_count": 1474
        }
      ]
    },
    {
      "cell_type": "code",
      "source": [
        "dataframe['hasn_t_booked'].isnull().sum()"
      ],
      "metadata": {
        "colab": {
          "base_uri": "https://localhost:8080/"
        },
        "id": "59Unrg6H5T2q",
        "outputId": "d8af2ecf-4744-49e6-ccb4-2b0e6342a445"
      },
      "execution_count": null,
      "outputs": [
        {
          "output_type": "execute_result",
          "data": {
            "text/plain": [
              "173"
            ]
          },
          "metadata": {},
          "execution_count": 1475
        }
      ]
    },
    {
      "cell_type": "code",
      "source": [
        "value = dataframe['hasn_t_booked'].value_counts()"
      ],
      "metadata": {
        "id": "W8s5zR1G5dIj"
      },
      "execution_count": null,
      "outputs": []
    },
    {
      "cell_type": "code",
      "source": [
        "fig = px.bar(value)\n",
        "fig.show()"
      ],
      "metadata": {
        "colab": {
          "base_uri": "https://localhost:8080/",
          "height": 542
        },
        "id": "b0dkPhus5tco",
        "outputId": "bdc8e7a6-6577-4562-ead4-9be22fea4597"
      },
      "execution_count": null,
      "outputs": [
        {
          "output_type": "display_data",
          "data": {
            "text/html": [
              "<html>\n",
              "<head><meta charset=\"utf-8\" /></head>\n",
              "<body>\n",
              "    <div>            <script src=\"https://cdnjs.cloudflare.com/ajax/libs/mathjax/2.7.5/MathJax.js?config=TeX-AMS-MML_SVG\"></script><script type=\"text/javascript\">if (window.MathJax) {MathJax.Hub.Config({SVG: {font: \"STIX-Web\"}});}</script>                <script type=\"text/javascript\">window.PlotlyConfig = {MathJaxConfig: 'local'};</script>\n",
              "        <script src=\"https://cdn.plot.ly/plotly-2.8.3.min.js\"></script>                <div id=\"5bc903c7-fdf3-44e7-8805-360a61aaf565\" class=\"plotly-graph-div\" style=\"height:525px; width:100%;\"></div>            <script type=\"text/javascript\">                                    window.PLOTLYENV=window.PLOTLYENV || {};                                    if (document.getElementById(\"5bc903c7-fdf3-44e7-8805-360a61aaf565\")) {                    Plotly.newPlot(                        \"5bc903c7-fdf3-44e7-8805-360a61aaf565\",                        [{\"alignmentgroup\":\"True\",\"hovertemplate\":\"variable=hasn_t_booked<br>index=%{x}<br>value=%{y}<extra></extra>\",\"legendgroup\":\"hasn_t_booked\",\"marker\":{\"color\":\"#636efa\",\"pattern\":{\"shape\":\"\"}},\"name\":\"hasn_t_booked\",\"offsetgroup\":\"hasn_t_booked\",\"orientation\":\"v\",\"showlegend\":true,\"textposition\":\"auto\",\"x\":[\"Yes\",\"No\"],\"xaxis\":\"x\",\"y\":[938,236],\"yaxis\":\"y\",\"type\":\"bar\"}],                        {\"template\":{\"data\":{\"bar\":[{\"error_x\":{\"color\":\"#2a3f5f\"},\"error_y\":{\"color\":\"#2a3f5f\"},\"marker\":{\"line\":{\"color\":\"#E5ECF6\",\"width\":0.5},\"pattern\":{\"fillmode\":\"overlay\",\"size\":10,\"solidity\":0.2}},\"type\":\"bar\"}],\"barpolar\":[{\"marker\":{\"line\":{\"color\":\"#E5ECF6\",\"width\":0.5},\"pattern\":{\"fillmode\":\"overlay\",\"size\":10,\"solidity\":0.2}},\"type\":\"barpolar\"}],\"carpet\":[{\"aaxis\":{\"endlinecolor\":\"#2a3f5f\",\"gridcolor\":\"white\",\"linecolor\":\"white\",\"minorgridcolor\":\"white\",\"startlinecolor\":\"#2a3f5f\"},\"baxis\":{\"endlinecolor\":\"#2a3f5f\",\"gridcolor\":\"white\",\"linecolor\":\"white\",\"minorgridcolor\":\"white\",\"startlinecolor\":\"#2a3f5f\"},\"type\":\"carpet\"}],\"choropleth\":[{\"colorbar\":{\"outlinewidth\":0,\"ticks\":\"\"},\"type\":\"choropleth\"}],\"contour\":[{\"colorbar\":{\"outlinewidth\":0,\"ticks\":\"\"},\"colorscale\":[[0.0,\"#0d0887\"],[0.1111111111111111,\"#46039f\"],[0.2222222222222222,\"#7201a8\"],[0.3333333333333333,\"#9c179e\"],[0.4444444444444444,\"#bd3786\"],[0.5555555555555556,\"#d8576b\"],[0.6666666666666666,\"#ed7953\"],[0.7777777777777778,\"#fb9f3a\"],[0.8888888888888888,\"#fdca26\"],[1.0,\"#f0f921\"]],\"type\":\"contour\"}],\"contourcarpet\":[{\"colorbar\":{\"outlinewidth\":0,\"ticks\":\"\"},\"type\":\"contourcarpet\"}],\"heatmap\":[{\"colorbar\":{\"outlinewidth\":0,\"ticks\":\"\"},\"colorscale\":[[0.0,\"#0d0887\"],[0.1111111111111111,\"#46039f\"],[0.2222222222222222,\"#7201a8\"],[0.3333333333333333,\"#9c179e\"],[0.4444444444444444,\"#bd3786\"],[0.5555555555555556,\"#d8576b\"],[0.6666666666666666,\"#ed7953\"],[0.7777777777777778,\"#fb9f3a\"],[0.8888888888888888,\"#fdca26\"],[1.0,\"#f0f921\"]],\"type\":\"heatmap\"}],\"heatmapgl\":[{\"colorbar\":{\"outlinewidth\":0,\"ticks\":\"\"},\"colorscale\":[[0.0,\"#0d0887\"],[0.1111111111111111,\"#46039f\"],[0.2222222222222222,\"#7201a8\"],[0.3333333333333333,\"#9c179e\"],[0.4444444444444444,\"#bd3786\"],[0.5555555555555556,\"#d8576b\"],[0.6666666666666666,\"#ed7953\"],[0.7777777777777778,\"#fb9f3a\"],[0.8888888888888888,\"#fdca26\"],[1.0,\"#f0f921\"]],\"type\":\"heatmapgl\"}],\"histogram\":[{\"marker\":{\"pattern\":{\"fillmode\":\"overlay\",\"size\":10,\"solidity\":0.2}},\"type\":\"histogram\"}],\"histogram2d\":[{\"colorbar\":{\"outlinewidth\":0,\"ticks\":\"\"},\"colorscale\":[[0.0,\"#0d0887\"],[0.1111111111111111,\"#46039f\"],[0.2222222222222222,\"#7201a8\"],[0.3333333333333333,\"#9c179e\"],[0.4444444444444444,\"#bd3786\"],[0.5555555555555556,\"#d8576b\"],[0.6666666666666666,\"#ed7953\"],[0.7777777777777778,\"#fb9f3a\"],[0.8888888888888888,\"#fdca26\"],[1.0,\"#f0f921\"]],\"type\":\"histogram2d\"}],\"histogram2dcontour\":[{\"colorbar\":{\"outlinewidth\":0,\"ticks\":\"\"},\"colorscale\":[[0.0,\"#0d0887\"],[0.1111111111111111,\"#46039f\"],[0.2222222222222222,\"#7201a8\"],[0.3333333333333333,\"#9c179e\"],[0.4444444444444444,\"#bd3786\"],[0.5555555555555556,\"#d8576b\"],[0.6666666666666666,\"#ed7953\"],[0.7777777777777778,\"#fb9f3a\"],[0.8888888888888888,\"#fdca26\"],[1.0,\"#f0f921\"]],\"type\":\"histogram2dcontour\"}],\"mesh3d\":[{\"colorbar\":{\"outlinewidth\":0,\"ticks\":\"\"},\"type\":\"mesh3d\"}],\"parcoords\":[{\"line\":{\"colorbar\":{\"outlinewidth\":0,\"ticks\":\"\"}},\"type\":\"parcoords\"}],\"pie\":[{\"automargin\":true,\"type\":\"pie\"}],\"scatter\":[{\"marker\":{\"colorbar\":{\"outlinewidth\":0,\"ticks\":\"\"}},\"type\":\"scatter\"}],\"scatter3d\":[{\"line\":{\"colorbar\":{\"outlinewidth\":0,\"ticks\":\"\"}},\"marker\":{\"colorbar\":{\"outlinewidth\":0,\"ticks\":\"\"}},\"type\":\"scatter3d\"}],\"scattercarpet\":[{\"marker\":{\"colorbar\":{\"outlinewidth\":0,\"ticks\":\"\"}},\"type\":\"scattercarpet\"}],\"scattergeo\":[{\"marker\":{\"colorbar\":{\"outlinewidth\":0,\"ticks\":\"\"}},\"type\":\"scattergeo\"}],\"scattergl\":[{\"marker\":{\"colorbar\":{\"outlinewidth\":0,\"ticks\":\"\"}},\"type\":\"scattergl\"}],\"scattermapbox\":[{\"marker\":{\"colorbar\":{\"outlinewidth\":0,\"ticks\":\"\"}},\"type\":\"scattermapbox\"}],\"scatterpolar\":[{\"marker\":{\"colorbar\":{\"outlinewidth\":0,\"ticks\":\"\"}},\"type\":\"scatterpolar\"}],\"scatterpolargl\":[{\"marker\":{\"colorbar\":{\"outlinewidth\":0,\"ticks\":\"\"}},\"type\":\"scatterpolargl\"}],\"scatterternary\":[{\"marker\":{\"colorbar\":{\"outlinewidth\":0,\"ticks\":\"\"}},\"type\":\"scatterternary\"}],\"surface\":[{\"colorbar\":{\"outlinewidth\":0,\"ticks\":\"\"},\"colorscale\":[[0.0,\"#0d0887\"],[0.1111111111111111,\"#46039f\"],[0.2222222222222222,\"#7201a8\"],[0.3333333333333333,\"#9c179e\"],[0.4444444444444444,\"#bd3786\"],[0.5555555555555556,\"#d8576b\"],[0.6666666666666666,\"#ed7953\"],[0.7777777777777778,\"#fb9f3a\"],[0.8888888888888888,\"#fdca26\"],[1.0,\"#f0f921\"]],\"type\":\"surface\"}],\"table\":[{\"cells\":{\"fill\":{\"color\":\"#EBF0F8\"},\"line\":{\"color\":\"white\"}},\"header\":{\"fill\":{\"color\":\"#C8D4E3\"},\"line\":{\"color\":\"white\"}},\"type\":\"table\"}]},\"layout\":{\"annotationdefaults\":{\"arrowcolor\":\"#2a3f5f\",\"arrowhead\":0,\"arrowwidth\":1},\"autotypenumbers\":\"strict\",\"coloraxis\":{\"colorbar\":{\"outlinewidth\":0,\"ticks\":\"\"}},\"colorscale\":{\"diverging\":[[0,\"#8e0152\"],[0.1,\"#c51b7d\"],[0.2,\"#de77ae\"],[0.3,\"#f1b6da\"],[0.4,\"#fde0ef\"],[0.5,\"#f7f7f7\"],[0.6,\"#e6f5d0\"],[0.7,\"#b8e186\"],[0.8,\"#7fbc41\"],[0.9,\"#4d9221\"],[1,\"#276419\"]],\"sequential\":[[0.0,\"#0d0887\"],[0.1111111111111111,\"#46039f\"],[0.2222222222222222,\"#7201a8\"],[0.3333333333333333,\"#9c179e\"],[0.4444444444444444,\"#bd3786\"],[0.5555555555555556,\"#d8576b\"],[0.6666666666666666,\"#ed7953\"],[0.7777777777777778,\"#fb9f3a\"],[0.8888888888888888,\"#fdca26\"],[1.0,\"#f0f921\"]],\"sequentialminus\":[[0.0,\"#0d0887\"],[0.1111111111111111,\"#46039f\"],[0.2222222222222222,\"#7201a8\"],[0.3333333333333333,\"#9c179e\"],[0.4444444444444444,\"#bd3786\"],[0.5555555555555556,\"#d8576b\"],[0.6666666666666666,\"#ed7953\"],[0.7777777777777778,\"#fb9f3a\"],[0.8888888888888888,\"#fdca26\"],[1.0,\"#f0f921\"]]},\"colorway\":[\"#636efa\",\"#EF553B\",\"#00cc96\",\"#ab63fa\",\"#FFA15A\",\"#19d3f3\",\"#FF6692\",\"#B6E880\",\"#FF97FF\",\"#FECB52\"],\"font\":{\"color\":\"#2a3f5f\"},\"geo\":{\"bgcolor\":\"white\",\"lakecolor\":\"white\",\"landcolor\":\"#E5ECF6\",\"showlakes\":true,\"showland\":true,\"subunitcolor\":\"white\"},\"hoverlabel\":{\"align\":\"left\"},\"hovermode\":\"closest\",\"mapbox\":{\"style\":\"light\"},\"paper_bgcolor\":\"white\",\"plot_bgcolor\":\"#E5ECF6\",\"polar\":{\"angularaxis\":{\"gridcolor\":\"white\",\"linecolor\":\"white\",\"ticks\":\"\"},\"bgcolor\":\"#E5ECF6\",\"radialaxis\":{\"gridcolor\":\"white\",\"linecolor\":\"white\",\"ticks\":\"\"}},\"scene\":{\"xaxis\":{\"backgroundcolor\":\"#E5ECF6\",\"gridcolor\":\"white\",\"gridwidth\":2,\"linecolor\":\"white\",\"showbackground\":true,\"ticks\":\"\",\"zerolinecolor\":\"white\"},\"yaxis\":{\"backgroundcolor\":\"#E5ECF6\",\"gridcolor\":\"white\",\"gridwidth\":2,\"linecolor\":\"white\",\"showbackground\":true,\"ticks\":\"\",\"zerolinecolor\":\"white\"},\"zaxis\":{\"backgroundcolor\":\"#E5ECF6\",\"gridcolor\":\"white\",\"gridwidth\":2,\"linecolor\":\"white\",\"showbackground\":true,\"ticks\":\"\",\"zerolinecolor\":\"white\"}},\"shapedefaults\":{\"line\":{\"color\":\"#2a3f5f\"}},\"ternary\":{\"aaxis\":{\"gridcolor\":\"white\",\"linecolor\":\"white\",\"ticks\":\"\"},\"baxis\":{\"gridcolor\":\"white\",\"linecolor\":\"white\",\"ticks\":\"\"},\"bgcolor\":\"#E5ECF6\",\"caxis\":{\"gridcolor\":\"white\",\"linecolor\":\"white\",\"ticks\":\"\"}},\"title\":{\"x\":0.05},\"xaxis\":{\"automargin\":true,\"gridcolor\":\"white\",\"linecolor\":\"white\",\"ticks\":\"\",\"title\":{\"standoff\":15},\"zerolinecolor\":\"white\",\"zerolinewidth\":2},\"yaxis\":{\"automargin\":true,\"gridcolor\":\"white\",\"linecolor\":\"white\",\"ticks\":\"\",\"title\":{\"standoff\":15},\"zerolinecolor\":\"white\",\"zerolinewidth\":2}}},\"xaxis\":{\"anchor\":\"y\",\"domain\":[0.0,1.0],\"title\":{\"text\":\"index\"}},\"yaxis\":{\"anchor\":\"x\",\"domain\":[0.0,1.0],\"title\":{\"text\":\"value\"}},\"legend\":{\"title\":{\"text\":\"variable\"},\"tracegroupgap\":0},\"margin\":{\"t\":60},\"barmode\":\"relative\"},                        {\"responsive\": true}                    ).then(function(){\n",
              "                            \n",
              "var gd = document.getElementById('5bc903c7-fdf3-44e7-8805-360a61aaf565');\n",
              "var x = new MutationObserver(function (mutations, observer) {{\n",
              "        var display = window.getComputedStyle(gd).display;\n",
              "        if (!display || display === 'none') {{\n",
              "            console.log([gd, 'removed!']);\n",
              "            Plotly.purge(gd);\n",
              "            observer.disconnect();\n",
              "        }}\n",
              "}});\n",
              "\n",
              "// Listen for the removal of the full notebook cells\n",
              "var notebookContainer = gd.closest('#notebook-container');\n",
              "if (notebookContainer) {{\n",
              "    x.observe(notebookContainer, {childList: true});\n",
              "}}\n",
              "\n",
              "// Listen for the clearing of the current output cell\n",
              "var outputEl = gd.closest('.output');\n",
              "if (outputEl) {{\n",
              "    x.observe(outputEl, {childList: true});\n",
              "}}\n",
              "\n",
              "                        })                };                            </script>        </div>\n",
              "</body>\n",
              "</html>"
            ]
          },
          "metadata": {}
        }
      ]
    },
    {
      "cell_type": "code",
      "source": [
        "dataframe['hasn_t_booked'] = dataframe['hasn_t_booked'].replace(np.nan, 'Yes')"
      ],
      "metadata": {
        "id": "18Nq9eUU5vVG"
      },
      "execution_count": null,
      "outputs": []
    },
    {
      "cell_type": "code",
      "source": [
        "dataframe['hasn_t_booked'].isnull().sum()"
      ],
      "metadata": {
        "colab": {
          "base_uri": "https://localhost:8080/"
        },
        "id": "EZbAWgi35-97",
        "outputId": "f4b65891-7e72-4d1b-fc0d-db07e9138402"
      },
      "execution_count": null,
      "outputs": [
        {
          "output_type": "execute_result",
          "data": {
            "text/plain": [
              "0"
            ]
          },
          "metadata": {},
          "execution_count": 1479
        }
      ]
    },
    {
      "cell_type": "markdown",
      "source": [
        "##hs analytics average page views"
      ],
      "metadata": {
        "id": "JeyTQ7k59VvB"
      }
    },
    {
      "cell_type": "code",
      "source": [
        "dataframe['hs_analytics_average_page_views'].describe()"
      ],
      "metadata": {
        "colab": {
          "base_uri": "https://localhost:8080/"
        },
        "id": "V26nMmTO6dmo",
        "outputId": "b390e0d1-2a36-4bd9-ddd8-5c6976dea990"
      },
      "execution_count": null,
      "outputs": [
        {
          "output_type": "execute_result",
          "data": {
            "text/plain": [
              "count    1262.000000\n",
              "mean        1.508716\n",
              "std         1.001745\n",
              "min         0.000000\n",
              "25%         1.000000\n",
              "50%         2.000000\n",
              "75%         2.000000\n",
              "max         7.000000\n",
              "Name: hs_analytics_average_page_views, dtype: float64"
            ]
          },
          "metadata": {},
          "execution_count": 1480
        }
      ]
    },
    {
      "cell_type": "code",
      "source": [
        "dataframe['hs_analytics_average_page_views'].isnull().sum()"
      ],
      "metadata": {
        "colab": {
          "base_uri": "https://localhost:8080/"
        },
        "id": "3fWR9eyF9O4o",
        "outputId": "45708c86-46c3-407b-b45f-8de1da9fd7bb"
      },
      "execution_count": null,
      "outputs": [
        {
          "output_type": "execute_result",
          "data": {
            "text/plain": [
              "85"
            ]
          },
          "metadata": {},
          "execution_count": 1481
        }
      ]
    },
    {
      "cell_type": "code",
      "source": [
        "value = dataframe['hs_analytics_average_page_views'].value_counts()"
      ],
      "metadata": {
        "id": "PeRx-UeLAIgS"
      },
      "execution_count": null,
      "outputs": []
    },
    {
      "cell_type": "code",
      "source": [
        "mean = data['hs_analytics_average_page_views'].mean()"
      ],
      "metadata": {
        "id": "LB8x9OfK9q1h"
      },
      "execution_count": null,
      "outputs": []
    },
    {
      "cell_type": "code",
      "source": [
        "fig = px.bar(value)\n",
        "fig.show()"
      ],
      "metadata": {
        "colab": {
          "base_uri": "https://localhost:8080/",
          "height": 542
        },
        "id": "2xQTCi_FABIn",
        "outputId": "7431dc29-ac2f-4583-fada-857c084e90bb"
      },
      "execution_count": null,
      "outputs": [
        {
          "output_type": "display_data",
          "data": {
            "text/html": [
              "<html>\n",
              "<head><meta charset=\"utf-8\" /></head>\n",
              "<body>\n",
              "    <div>            <script src=\"https://cdnjs.cloudflare.com/ajax/libs/mathjax/2.7.5/MathJax.js?config=TeX-AMS-MML_SVG\"></script><script type=\"text/javascript\">if (window.MathJax) {MathJax.Hub.Config({SVG: {font: \"STIX-Web\"}});}</script>                <script type=\"text/javascript\">window.PlotlyConfig = {MathJaxConfig: 'local'};</script>\n",
              "        <script src=\"https://cdn.plot.ly/plotly-2.8.3.min.js\"></script>                <div id=\"92f97cd4-cd72-494c-9959-8842cad15c0d\" class=\"plotly-graph-div\" style=\"height:525px; width:100%;\"></div>            <script type=\"text/javascript\">                                    window.PLOTLYENV=window.PLOTLYENV || {};                                    if (document.getElementById(\"92f97cd4-cd72-494c-9959-8842cad15c0d\")) {                    Plotly.newPlot(                        \"92f97cd4-cd72-494c-9959-8842cad15c0d\",                        [{\"alignmentgroup\":\"True\",\"hovertemplate\":\"variable=hs_analytics_average_page_views<br>index=%{x}<br>value=%{y}<extra></extra>\",\"legendgroup\":\"hs_analytics_average_page_views\",\"marker\":{\"color\":\"#636efa\",\"pattern\":{\"shape\":\"\"}},\"name\":\"hs_analytics_average_page_views\",\"offsetgroup\":\"hs_analytics_average_page_views\",\"orientation\":\"v\",\"showlegend\":true,\"textposition\":\"auto\",\"x\":[2.0,1.0,0.0,3.0,4.0,5.0,6.0,7.0],\"xaxis\":\"x\",\"y\":[520,401,205,98,27,6,4,1],\"yaxis\":\"y\",\"type\":\"bar\"}],                        {\"template\":{\"data\":{\"bar\":[{\"error_x\":{\"color\":\"#2a3f5f\"},\"error_y\":{\"color\":\"#2a3f5f\"},\"marker\":{\"line\":{\"color\":\"#E5ECF6\",\"width\":0.5},\"pattern\":{\"fillmode\":\"overlay\",\"size\":10,\"solidity\":0.2}},\"type\":\"bar\"}],\"barpolar\":[{\"marker\":{\"line\":{\"color\":\"#E5ECF6\",\"width\":0.5},\"pattern\":{\"fillmode\":\"overlay\",\"size\":10,\"solidity\":0.2}},\"type\":\"barpolar\"}],\"carpet\":[{\"aaxis\":{\"endlinecolor\":\"#2a3f5f\",\"gridcolor\":\"white\",\"linecolor\":\"white\",\"minorgridcolor\":\"white\",\"startlinecolor\":\"#2a3f5f\"},\"baxis\":{\"endlinecolor\":\"#2a3f5f\",\"gridcolor\":\"white\",\"linecolor\":\"white\",\"minorgridcolor\":\"white\",\"startlinecolor\":\"#2a3f5f\"},\"type\":\"carpet\"}],\"choropleth\":[{\"colorbar\":{\"outlinewidth\":0,\"ticks\":\"\"},\"type\":\"choropleth\"}],\"contour\":[{\"colorbar\":{\"outlinewidth\":0,\"ticks\":\"\"},\"colorscale\":[[0.0,\"#0d0887\"],[0.1111111111111111,\"#46039f\"],[0.2222222222222222,\"#7201a8\"],[0.3333333333333333,\"#9c179e\"],[0.4444444444444444,\"#bd3786\"],[0.5555555555555556,\"#d8576b\"],[0.6666666666666666,\"#ed7953\"],[0.7777777777777778,\"#fb9f3a\"],[0.8888888888888888,\"#fdca26\"],[1.0,\"#f0f921\"]],\"type\":\"contour\"}],\"contourcarpet\":[{\"colorbar\":{\"outlinewidth\":0,\"ticks\":\"\"},\"type\":\"contourcarpet\"}],\"heatmap\":[{\"colorbar\":{\"outlinewidth\":0,\"ticks\":\"\"},\"colorscale\":[[0.0,\"#0d0887\"],[0.1111111111111111,\"#46039f\"],[0.2222222222222222,\"#7201a8\"],[0.3333333333333333,\"#9c179e\"],[0.4444444444444444,\"#bd3786\"],[0.5555555555555556,\"#d8576b\"],[0.6666666666666666,\"#ed7953\"],[0.7777777777777778,\"#fb9f3a\"],[0.8888888888888888,\"#fdca26\"],[1.0,\"#f0f921\"]],\"type\":\"heatmap\"}],\"heatmapgl\":[{\"colorbar\":{\"outlinewidth\":0,\"ticks\":\"\"},\"colorscale\":[[0.0,\"#0d0887\"],[0.1111111111111111,\"#46039f\"],[0.2222222222222222,\"#7201a8\"],[0.3333333333333333,\"#9c179e\"],[0.4444444444444444,\"#bd3786\"],[0.5555555555555556,\"#d8576b\"],[0.6666666666666666,\"#ed7953\"],[0.7777777777777778,\"#fb9f3a\"],[0.8888888888888888,\"#fdca26\"],[1.0,\"#f0f921\"]],\"type\":\"heatmapgl\"}],\"histogram\":[{\"marker\":{\"pattern\":{\"fillmode\":\"overlay\",\"size\":10,\"solidity\":0.2}},\"type\":\"histogram\"}],\"histogram2d\":[{\"colorbar\":{\"outlinewidth\":0,\"ticks\":\"\"},\"colorscale\":[[0.0,\"#0d0887\"],[0.1111111111111111,\"#46039f\"],[0.2222222222222222,\"#7201a8\"],[0.3333333333333333,\"#9c179e\"],[0.4444444444444444,\"#bd3786\"],[0.5555555555555556,\"#d8576b\"],[0.6666666666666666,\"#ed7953\"],[0.7777777777777778,\"#fb9f3a\"],[0.8888888888888888,\"#fdca26\"],[1.0,\"#f0f921\"]],\"type\":\"histogram2d\"}],\"histogram2dcontour\":[{\"colorbar\":{\"outlinewidth\":0,\"ticks\":\"\"},\"colorscale\":[[0.0,\"#0d0887\"],[0.1111111111111111,\"#46039f\"],[0.2222222222222222,\"#7201a8\"],[0.3333333333333333,\"#9c179e\"],[0.4444444444444444,\"#bd3786\"],[0.5555555555555556,\"#d8576b\"],[0.6666666666666666,\"#ed7953\"],[0.7777777777777778,\"#fb9f3a\"],[0.8888888888888888,\"#fdca26\"],[1.0,\"#f0f921\"]],\"type\":\"histogram2dcontour\"}],\"mesh3d\":[{\"colorbar\":{\"outlinewidth\":0,\"ticks\":\"\"},\"type\":\"mesh3d\"}],\"parcoords\":[{\"line\":{\"colorbar\":{\"outlinewidth\":0,\"ticks\":\"\"}},\"type\":\"parcoords\"}],\"pie\":[{\"automargin\":true,\"type\":\"pie\"}],\"scatter\":[{\"marker\":{\"colorbar\":{\"outlinewidth\":0,\"ticks\":\"\"}},\"type\":\"scatter\"}],\"scatter3d\":[{\"line\":{\"colorbar\":{\"outlinewidth\":0,\"ticks\":\"\"}},\"marker\":{\"colorbar\":{\"outlinewidth\":0,\"ticks\":\"\"}},\"type\":\"scatter3d\"}],\"scattercarpet\":[{\"marker\":{\"colorbar\":{\"outlinewidth\":0,\"ticks\":\"\"}},\"type\":\"scattercarpet\"}],\"scattergeo\":[{\"marker\":{\"colorbar\":{\"outlinewidth\":0,\"ticks\":\"\"}},\"type\":\"scattergeo\"}],\"scattergl\":[{\"marker\":{\"colorbar\":{\"outlinewidth\":0,\"ticks\":\"\"}},\"type\":\"scattergl\"}],\"scattermapbox\":[{\"marker\":{\"colorbar\":{\"outlinewidth\":0,\"ticks\":\"\"}},\"type\":\"scattermapbox\"}],\"scatterpolar\":[{\"marker\":{\"colorbar\":{\"outlinewidth\":0,\"ticks\":\"\"}},\"type\":\"scatterpolar\"}],\"scatterpolargl\":[{\"marker\":{\"colorbar\":{\"outlinewidth\":0,\"ticks\":\"\"}},\"type\":\"scatterpolargl\"}],\"scatterternary\":[{\"marker\":{\"colorbar\":{\"outlinewidth\":0,\"ticks\":\"\"}},\"type\":\"scatterternary\"}],\"surface\":[{\"colorbar\":{\"outlinewidth\":0,\"ticks\":\"\"},\"colorscale\":[[0.0,\"#0d0887\"],[0.1111111111111111,\"#46039f\"],[0.2222222222222222,\"#7201a8\"],[0.3333333333333333,\"#9c179e\"],[0.4444444444444444,\"#bd3786\"],[0.5555555555555556,\"#d8576b\"],[0.6666666666666666,\"#ed7953\"],[0.7777777777777778,\"#fb9f3a\"],[0.8888888888888888,\"#fdca26\"],[1.0,\"#f0f921\"]],\"type\":\"surface\"}],\"table\":[{\"cells\":{\"fill\":{\"color\":\"#EBF0F8\"},\"line\":{\"color\":\"white\"}},\"header\":{\"fill\":{\"color\":\"#C8D4E3\"},\"line\":{\"color\":\"white\"}},\"type\":\"table\"}]},\"layout\":{\"annotationdefaults\":{\"arrowcolor\":\"#2a3f5f\",\"arrowhead\":0,\"arrowwidth\":1},\"autotypenumbers\":\"strict\",\"coloraxis\":{\"colorbar\":{\"outlinewidth\":0,\"ticks\":\"\"}},\"colorscale\":{\"diverging\":[[0,\"#8e0152\"],[0.1,\"#c51b7d\"],[0.2,\"#de77ae\"],[0.3,\"#f1b6da\"],[0.4,\"#fde0ef\"],[0.5,\"#f7f7f7\"],[0.6,\"#e6f5d0\"],[0.7,\"#b8e186\"],[0.8,\"#7fbc41\"],[0.9,\"#4d9221\"],[1,\"#276419\"]],\"sequential\":[[0.0,\"#0d0887\"],[0.1111111111111111,\"#46039f\"],[0.2222222222222222,\"#7201a8\"],[0.3333333333333333,\"#9c179e\"],[0.4444444444444444,\"#bd3786\"],[0.5555555555555556,\"#d8576b\"],[0.6666666666666666,\"#ed7953\"],[0.7777777777777778,\"#fb9f3a\"],[0.8888888888888888,\"#fdca26\"],[1.0,\"#f0f921\"]],\"sequentialminus\":[[0.0,\"#0d0887\"],[0.1111111111111111,\"#46039f\"],[0.2222222222222222,\"#7201a8\"],[0.3333333333333333,\"#9c179e\"],[0.4444444444444444,\"#bd3786\"],[0.5555555555555556,\"#d8576b\"],[0.6666666666666666,\"#ed7953\"],[0.7777777777777778,\"#fb9f3a\"],[0.8888888888888888,\"#fdca26\"],[1.0,\"#f0f921\"]]},\"colorway\":[\"#636efa\",\"#EF553B\",\"#00cc96\",\"#ab63fa\",\"#FFA15A\",\"#19d3f3\",\"#FF6692\",\"#B6E880\",\"#FF97FF\",\"#FECB52\"],\"font\":{\"color\":\"#2a3f5f\"},\"geo\":{\"bgcolor\":\"white\",\"lakecolor\":\"white\",\"landcolor\":\"#E5ECF6\",\"showlakes\":true,\"showland\":true,\"subunitcolor\":\"white\"},\"hoverlabel\":{\"align\":\"left\"},\"hovermode\":\"closest\",\"mapbox\":{\"style\":\"light\"},\"paper_bgcolor\":\"white\",\"plot_bgcolor\":\"#E5ECF6\",\"polar\":{\"angularaxis\":{\"gridcolor\":\"white\",\"linecolor\":\"white\",\"ticks\":\"\"},\"bgcolor\":\"#E5ECF6\",\"radialaxis\":{\"gridcolor\":\"white\",\"linecolor\":\"white\",\"ticks\":\"\"}},\"scene\":{\"xaxis\":{\"backgroundcolor\":\"#E5ECF6\",\"gridcolor\":\"white\",\"gridwidth\":2,\"linecolor\":\"white\",\"showbackground\":true,\"ticks\":\"\",\"zerolinecolor\":\"white\"},\"yaxis\":{\"backgroundcolor\":\"#E5ECF6\",\"gridcolor\":\"white\",\"gridwidth\":2,\"linecolor\":\"white\",\"showbackground\":true,\"ticks\":\"\",\"zerolinecolor\":\"white\"},\"zaxis\":{\"backgroundcolor\":\"#E5ECF6\",\"gridcolor\":\"white\",\"gridwidth\":2,\"linecolor\":\"white\",\"showbackground\":true,\"ticks\":\"\",\"zerolinecolor\":\"white\"}},\"shapedefaults\":{\"line\":{\"color\":\"#2a3f5f\"}},\"ternary\":{\"aaxis\":{\"gridcolor\":\"white\",\"linecolor\":\"white\",\"ticks\":\"\"},\"baxis\":{\"gridcolor\":\"white\",\"linecolor\":\"white\",\"ticks\":\"\"},\"bgcolor\":\"#E5ECF6\",\"caxis\":{\"gridcolor\":\"white\",\"linecolor\":\"white\",\"ticks\":\"\"}},\"title\":{\"x\":0.05},\"xaxis\":{\"automargin\":true,\"gridcolor\":\"white\",\"linecolor\":\"white\",\"ticks\":\"\",\"title\":{\"standoff\":15},\"zerolinecolor\":\"white\",\"zerolinewidth\":2},\"yaxis\":{\"automargin\":true,\"gridcolor\":\"white\",\"linecolor\":\"white\",\"ticks\":\"\",\"title\":{\"standoff\":15},\"zerolinecolor\":\"white\",\"zerolinewidth\":2}}},\"xaxis\":{\"anchor\":\"y\",\"domain\":[0.0,1.0],\"title\":{\"text\":\"index\"}},\"yaxis\":{\"anchor\":\"x\",\"domain\":[0.0,1.0],\"title\":{\"text\":\"value\"}},\"legend\":{\"title\":{\"text\":\"variable\"},\"tracegroupgap\":0},\"margin\":{\"t\":60},\"barmode\":\"relative\"},                        {\"responsive\": true}                    ).then(function(){\n",
              "                            \n",
              "var gd = document.getElementById('92f97cd4-cd72-494c-9959-8842cad15c0d');\n",
              "var x = new MutationObserver(function (mutations, observer) {{\n",
              "        var display = window.getComputedStyle(gd).display;\n",
              "        if (!display || display === 'none') {{\n",
              "            console.log([gd, 'removed!']);\n",
              "            Plotly.purge(gd);\n",
              "            observer.disconnect();\n",
              "        }}\n",
              "}});\n",
              "\n",
              "// Listen for the removal of the full notebook cells\n",
              "var notebookContainer = gd.closest('#notebook-container');\n",
              "if (notebookContainer) {{\n",
              "    x.observe(notebookContainer, {childList: true});\n",
              "}}\n",
              "\n",
              "// Listen for the clearing of the current output cell\n",
              "var outputEl = gd.closest('.output');\n",
              "if (outputEl) {{\n",
              "    x.observe(outputEl, {childList: true});\n",
              "}}\n",
              "\n",
              "                        })                };                            </script>        </div>\n",
              "</body>\n",
              "</html>"
            ]
          },
          "metadata": {}
        }
      ]
    },
    {
      "cell_type": "code",
      "source": [
        "dataframe['hs_analytics_average_page_views'] = dataframe['hs_analytics_average_page_views'].replace(np.nan, mean)"
      ],
      "metadata": {
        "id": "0mvTrU_nAVN_"
      },
      "execution_count": null,
      "outputs": []
    },
    {
      "cell_type": "code",
      "source": [
        "dataframe['hs_analytics_average_page_views'].isnull().sum()"
      ],
      "metadata": {
        "colab": {
          "base_uri": "https://localhost:8080/"
        },
        "id": "ivyLdcOKA5Yn",
        "outputId": "cc14e1e9-acab-4761-9ea0-fe4c5e36a23b"
      },
      "execution_count": null,
      "outputs": [
        {
          "output_type": "execute_result",
          "data": {
            "text/plain": [
              "0"
            ]
          },
          "metadata": {},
          "execution_count": 1486
        }
      ]
    },
    {
      "cell_type": "markdown",
      "source": [
        "## hs analytics num page views"
      ],
      "metadata": {
        "id": "JImoFOraBKNr"
      }
    },
    {
      "cell_type": "code",
      "source": [
        "dataframe['hs_analytics_num_page_views'].describe()"
      ],
      "metadata": {
        "colab": {
          "base_uri": "https://localhost:8080/"
        },
        "id": "1U29BB7ZA-NR",
        "outputId": "0e26bde1-aeab-44be-ee77-925691fb6620"
      },
      "execution_count": null,
      "outputs": [
        {
          "output_type": "execute_result",
          "data": {
            "text/plain": [
              "count    1262.000000\n",
              "mean        5.732171\n",
              "std        15.579615\n",
              "min         0.000000\n",
              "25%         2.000000\n",
              "50%         4.000000\n",
              "75%         7.000000\n",
              "max       506.000000\n",
              "Name: hs_analytics_num_page_views, dtype: float64"
            ]
          },
          "metadata": {},
          "execution_count": 1487
        }
      ]
    },
    {
      "cell_type": "code",
      "source": [
        "dataframe['hs_analytics_average_page_views'].isnull().sum()"
      ],
      "metadata": {
        "colab": {
          "base_uri": "https://localhost:8080/"
        },
        "id": "usRg77jRB-gH",
        "outputId": "e4614348-346e-4917-843a-fbd572b8b7b1"
      },
      "execution_count": null,
      "outputs": [
        {
          "output_type": "execute_result",
          "data": {
            "text/plain": [
              "0"
            ]
          },
          "metadata": {},
          "execution_count": 1488
        }
      ]
    },
    {
      "cell_type": "markdown",
      "source": [
        "## hs analytics num visits"
      ],
      "metadata": {
        "id": "iZTJiiqqDdv0"
      }
    },
    {
      "cell_type": "code",
      "source": [
        "dataframe['hs_analytics_num_visits'].describe()"
      ],
      "metadata": {
        "colab": {
          "base_uri": "https://localhost:8080/"
        },
        "id": "bnHUwnGsCObT",
        "outputId": "96de388c-cdf3-4945-894d-7b685f831860"
      },
      "execution_count": null,
      "outputs": [
        {
          "output_type": "execute_result",
          "data": {
            "text/plain": [
              "count    1262.000000\n",
              "mean        2.954834\n",
              "std         5.804263\n",
              "min         0.000000\n",
              "25%         1.000000\n",
              "50%         2.000000\n",
              "75%         4.000000\n",
              "max       175.000000\n",
              "Name: hs_analytics_num_visits, dtype: float64"
            ]
          },
          "metadata": {},
          "execution_count": 1489
        }
      ]
    },
    {
      "cell_type": "code",
      "source": [
        "dataframe['hs_analytics_num_visits'].isnull().sum()"
      ],
      "metadata": {
        "colab": {
          "base_uri": "https://localhost:8080/"
        },
        "id": "Ue2_DrqfDm2z",
        "outputId": "e54c361e-e22e-4e88-98d0-c4fb9fbba185"
      },
      "execution_count": null,
      "outputs": [
        {
          "output_type": "execute_result",
          "data": {
            "text/plain": [
              "85"
            ]
          },
          "metadata": {},
          "execution_count": 1490
        }
      ]
    },
    {
      "cell_type": "code",
      "source": [
        "percentiles = data['hs_analytics_num_visits'].quantile([0.05,0.95]).values\n",
        "data['hs_analytics_num_visits'][data['hs_analytics_num_visits'] <= percentiles[0]] = percentiles[0]\n",
        "data['hs_analytics_num_visits'][data['hs_analytics_num_visits'] >= percentiles[1]] = percentiles[1]"
      ],
      "metadata": {
        "colab": {
          "base_uri": "https://localhost:8080/"
        },
        "id": "j93hP1WME5nN",
        "outputId": "e2f0db5d-5d93-4b9c-b2c6-d7213a1c0cea"
      },
      "execution_count": null,
      "outputs": [
        {
          "output_type": "stream",
          "name": "stderr",
          "text": [
            "<ipython-input-1491-57e0d9963446>:2: SettingWithCopyWarning:\n",
            "\n",
            "\n",
            "A value is trying to be set on a copy of a slice from a DataFrame\n",
            "\n",
            "See the caveats in the documentation: https://pandas.pydata.org/pandas-docs/stable/user_guide/indexing.html#returning-a-view-versus-a-copy\n",
            "\n",
            "<ipython-input-1491-57e0d9963446>:3: SettingWithCopyWarning:\n",
            "\n",
            "\n",
            "A value is trying to be set on a copy of a slice from a DataFrame\n",
            "\n",
            "See the caveats in the documentation: https://pandas.pydata.org/pandas-docs/stable/user_guide/indexing.html#returning-a-view-versus-a-copy\n",
            "\n"
          ]
        }
      ]
    },
    {
      "cell_type": "code",
      "source": [
        "mean = data['hs_analytics_average_page_views'].mean()"
      ],
      "metadata": {
        "id": "520tm4fZD7os"
      },
      "execution_count": null,
      "outputs": []
    },
    {
      "cell_type": "code",
      "source": [
        "fig = px.box(data['hs_analytics_num_visits'])\n",
        "fig.show()"
      ],
      "metadata": {
        "colab": {
          "base_uri": "https://localhost:8080/",
          "height": 542
        },
        "id": "OJxW9jBZD87M",
        "outputId": "10656236-fc25-45ca-ed2b-e825096bd719"
      },
      "execution_count": null,
      "outputs": [
        {
          "output_type": "display_data",
          "data": {
            "text/html": [
              "<html>\n",
              "<head><meta charset=\"utf-8\" /></head>\n",
              "<body>\n",
              "    <div>            <script src=\"https://cdnjs.cloudflare.com/ajax/libs/mathjax/2.7.5/MathJax.js?config=TeX-AMS-MML_SVG\"></script><script type=\"text/javascript\">if (window.MathJax) {MathJax.Hub.Config({SVG: {font: \"STIX-Web\"}});}</script>                <script type=\"text/javascript\">window.PlotlyConfig = {MathJaxConfig: 'local'};</script>\n",
              "        <script src=\"https://cdn.plot.ly/plotly-2.8.3.min.js\"></script>                <div id=\"f36f6a17-f420-4a75-abc6-84036f9c120a\" class=\"plotly-graph-div\" style=\"height:525px; width:100%;\"></div>            <script type=\"text/javascript\">                                    window.PLOTLYENV=window.PLOTLYENV || {};                                    if (document.getElementById(\"f36f6a17-f420-4a75-abc6-84036f9c120a\")) {                    Plotly.newPlot(                        \"f36f6a17-f420-4a75-abc6-84036f9c120a\",                        [{\"alignmentgroup\":\"True\",\"hovertemplate\":\"variable=%{x}<br>value=%{y}<extra></extra>\",\"legendgroup\":\"\",\"marker\":{\"color\":\"#636efa\"},\"name\":\"\",\"notched\":false,\"offsetgroup\":\"\",\"orientation\":\"v\",\"showlegend\":false,\"x\":[\"hs_analytics_num_visits\",\"hs_analytics_num_visits\",\"hs_analytics_num_visits\",\"hs_analytics_num_visits\",\"hs_analytics_num_visits\",\"hs_analytics_num_visits\",\"hs_analytics_num_visits\",\"hs_analytics_num_visits\",\"hs_analytics_num_visits\",\"hs_analytics_num_visits\",\"hs_analytics_num_visits\",\"hs_analytics_num_visits\",\"hs_analytics_num_visits\",\"hs_analytics_num_visits\",\"hs_analytics_num_visits\",\"hs_analytics_num_visits\",\"hs_analytics_num_visits\",\"hs_analytics_num_visits\",\"hs_analytics_num_visits\",\"hs_analytics_num_visits\",\"hs_analytics_num_visits\",\"hs_analytics_num_visits\",\"hs_analytics_num_visits\",\"hs_analytics_num_visits\",\"hs_analytics_num_visits\",\"hs_analytics_num_visits\",\"hs_analytics_num_visits\",\"hs_analytics_num_visits\",\"hs_analytics_num_visits\",\"hs_analytics_num_visits\",\"hs_analytics_num_visits\",\"hs_analytics_num_visits\",\"hs_analytics_num_visits\",\"hs_analytics_num_visits\",\"hs_analytics_num_visits\",\"hs_analytics_num_visits\",\"hs_analytics_num_visits\",\"hs_analytics_num_visits\",\"hs_analytics_num_visits\",\"hs_analytics_num_visits\",\"hs_analytics_num_visits\",\"hs_analytics_num_visits\",\"hs_analytics_num_visits\",\"hs_analytics_num_visits\",\"hs_analytics_num_visits\",\"hs_analytics_num_visits\",\"hs_analytics_num_visits\",\"hs_analytics_num_visits\",\"hs_analytics_num_visits\",\"hs_analytics_num_visits\",\"hs_analytics_num_visits\",\"hs_analytics_num_visits\",\"hs_analytics_num_visits\",\"hs_analytics_num_visits\",\"hs_analytics_num_visits\",\"hs_analytics_num_visits\",\"hs_analytics_num_visits\",\"hs_analytics_num_visits\",\"hs_analytics_num_visits\",\"hs_analytics_num_visits\",\"hs_analytics_num_visits\",\"hs_analytics_num_visits\",\"hs_analytics_num_visits\",\"hs_analytics_num_visits\",\"hs_analytics_num_visits\",\"hs_analytics_num_visits\",\"hs_analytics_num_visits\",\"hs_analytics_num_visits\",\"hs_analytics_num_visits\",\"hs_analytics_num_visits\",\"hs_analytics_num_visits\",\"hs_analytics_num_visits\",\"hs_analytics_num_visits\",\"hs_analytics_num_visits\",\"hs_analytics_num_visits\",\"hs_analytics_num_visits\",\"hs_analytics_num_visits\",\"hs_analytics_num_visits\",\"hs_analytics_num_visits\",\"hs_analytics_num_visits\",\"hs_analytics_num_visits\",\"hs_analytics_num_visits\",\"hs_analytics_num_visits\",\"hs_analytics_num_visits\",\"hs_analytics_num_visits\",\"hs_analytics_num_visits\",\"hs_analytics_num_visits\",\"hs_analytics_num_visits\",\"hs_analytics_num_visits\",\"hs_analytics_num_visits\",\"hs_analytics_num_visits\",\"hs_analytics_num_visits\",\"hs_analytics_num_visits\",\"hs_analytics_num_visits\",\"hs_analytics_num_visits\",\"hs_analytics_num_visits\",\"hs_analytics_num_visits\",\"hs_analytics_num_visits\",\"hs_analytics_num_visits\",\"hs_analytics_num_visits\",\"hs_analytics_num_visits\",\"hs_analytics_num_visits\",\"hs_analytics_num_visits\",\"hs_analytics_num_visits\",\"hs_analytics_num_visits\",\"hs_analytics_num_visits\",\"hs_analytics_num_visits\",\"hs_analytics_num_visits\",\"hs_analytics_num_visits\",\"hs_analytics_num_visits\",\"hs_analytics_num_visits\",\"hs_analytics_num_visits\",\"hs_analytics_num_visits\",\"hs_analytics_num_visits\",\"hs_analytics_num_visits\",\"hs_analytics_num_visits\",\"hs_analytics_num_visits\",\"hs_analytics_num_visits\",\"hs_analytics_num_visits\",\"hs_analytics_num_visits\",\"hs_analytics_num_visits\",\"hs_analytics_num_visits\",\"hs_analytics_num_visits\",\"hs_analytics_num_visits\",\"hs_analytics_num_visits\",\"hs_analytics_num_visits\",\"hs_analytics_num_visits\",\"hs_analytics_num_visits\",\"hs_analytics_num_visits\",\"hs_analytics_num_visits\",\"hs_analytics_num_visits\",\"hs_analytics_num_visits\",\"hs_analytics_num_visits\",\"hs_analytics_num_visits\",\"hs_analytics_num_visits\",\"hs_analytics_num_visits\",\"hs_analytics_num_visits\",\"hs_analytics_num_visits\",\"hs_analytics_num_visits\",\"hs_analytics_num_visits\",\"hs_analytics_num_visits\",\"hs_analytics_num_visits\",\"hs_analytics_num_visits\",\"hs_analytics_num_visits\",\"hs_analytics_num_visits\",\"hs_analytics_num_visits\",\"hs_analytics_num_visits\",\"hs_analytics_num_visits\",\"hs_analytics_num_visits\",\"hs_analytics_num_visits\",\"hs_analytics_num_visits\",\"hs_analytics_num_visits\",\"hs_analytics_num_visits\",\"hs_analytics_num_visits\",\"hs_analytics_num_visits\",\"hs_analytics_num_visits\",\"hs_analytics_num_visits\",\"hs_analytics_num_visits\",\"hs_analytics_num_visits\",\"hs_analytics_num_visits\",\"hs_analytics_num_visits\",\"hs_analytics_num_visits\",\"hs_analytics_num_visits\",\"hs_analytics_num_visits\",\"hs_analytics_num_visits\",\"hs_analytics_num_visits\",\"hs_analytics_num_visits\",\"hs_analytics_num_visits\",\"hs_analytics_num_visits\",\"hs_analytics_num_visits\",\"hs_analytics_num_visits\",\"hs_analytics_num_visits\",\"hs_analytics_num_visits\",\"hs_analytics_num_visits\",\"hs_analytics_num_visits\",\"hs_analytics_num_visits\",\"hs_analytics_num_visits\",\"hs_analytics_num_visits\",\"hs_analytics_num_visits\",\"hs_analytics_num_visits\",\"hs_analytics_num_visits\",\"hs_analytics_num_visits\",\"hs_analytics_num_visits\",\"hs_analytics_num_visits\",\"hs_analytics_num_visits\",\"hs_analytics_num_visits\",\"hs_analytics_num_visits\",\"hs_analytics_num_visits\",\"hs_analytics_num_visits\",\"hs_analytics_num_visits\",\"hs_analytics_num_visits\",\"hs_analytics_num_visits\",\"hs_analytics_num_visits\",\"hs_analytics_num_visits\",\"hs_analytics_num_visits\",\"hs_analytics_num_visits\",\"hs_analytics_num_visits\",\"hs_analytics_num_visits\",\"hs_analytics_num_visits\",\"hs_analytics_num_visits\",\"hs_analytics_num_visits\",\"hs_analytics_num_visits\",\"hs_analytics_num_visits\",\"hs_analytics_num_visits\",\"hs_analytics_num_visits\",\"hs_analytics_num_visits\",\"hs_analytics_num_visits\",\"hs_analytics_num_visits\",\"hs_analytics_num_visits\",\"hs_analytics_num_visits\",\"hs_analytics_num_visits\",\"hs_analytics_num_visits\",\"hs_analytics_num_visits\",\"hs_analytics_num_visits\",\"hs_analytics_num_visits\",\"hs_analytics_num_visits\",\"hs_analytics_num_visits\",\"hs_analytics_num_visits\",\"hs_analytics_num_visits\",\"hs_analytics_num_visits\",\"hs_analytics_num_visits\",\"hs_analytics_num_visits\",\"hs_analytics_num_visits\",\"hs_analytics_num_visits\",\"hs_analytics_num_visits\",\"hs_analytics_num_visits\",\"hs_analytics_num_visits\",\"hs_analytics_num_visits\",\"hs_analytics_num_visits\",\"hs_analytics_num_visits\",\"hs_analytics_num_visits\",\"hs_analytics_num_visits\",\"hs_analytics_num_visits\",\"hs_analytics_num_visits\",\"hs_analytics_num_visits\",\"hs_analytics_num_visits\",\"hs_analytics_num_visits\",\"hs_analytics_num_visits\",\"hs_analytics_num_visits\",\"hs_analytics_num_visits\",\"hs_analytics_num_visits\",\"hs_analytics_num_visits\",\"hs_analytics_num_visits\",\"hs_analytics_num_visits\",\"hs_analytics_num_visits\",\"hs_analytics_num_visits\",\"hs_analytics_num_visits\",\"hs_analytics_num_visits\",\"hs_analytics_num_visits\",\"hs_analytics_num_visits\",\"hs_analytics_num_visits\",\"hs_analytics_num_visits\",\"hs_analytics_num_visits\",\"hs_analytics_num_visits\",\"hs_analytics_num_visits\",\"hs_analytics_num_visits\",\"hs_analytics_num_visits\",\"hs_analytics_num_visits\",\"hs_analytics_num_visits\",\"hs_analytics_num_visits\",\"hs_analytics_num_visits\",\"hs_analytics_num_visits\",\"hs_analytics_num_visits\",\"hs_analytics_num_visits\",\"hs_analytics_num_visits\",\"hs_analytics_num_visits\",\"hs_analytics_num_visits\",\"hs_analytics_num_visits\",\"hs_analytics_num_visits\",\"hs_analytics_num_visits\",\"hs_analytics_num_visits\",\"hs_analytics_num_visits\",\"hs_analytics_num_visits\",\"hs_analytics_num_visits\",\"hs_analytics_num_visits\",\"hs_analytics_num_visits\",\"hs_analytics_num_visits\",\"hs_analytics_num_visits\",\"hs_analytics_num_visits\",\"hs_analytics_num_visits\",\"hs_analytics_num_visits\",\"hs_analytics_num_visits\",\"hs_analytics_num_visits\",\"hs_analytics_num_visits\",\"hs_analytics_num_visits\",\"hs_analytics_num_visits\",\"hs_analytics_num_visits\",\"hs_analytics_num_visits\",\"hs_analytics_num_visits\",\"hs_analytics_num_visits\",\"hs_analytics_num_visits\",\"hs_analytics_num_visits\",\"hs_analytics_num_visits\",\"hs_analytics_num_visits\",\"hs_analytics_num_visits\",\"hs_analytics_num_visits\",\"hs_analytics_num_visits\",\"hs_analytics_num_visits\",\"hs_analytics_num_visits\",\"hs_analytics_num_visits\",\"hs_analytics_num_visits\",\"hs_analytics_num_visits\",\"hs_analytics_num_visits\",\"hs_analytics_num_visits\",\"hs_analytics_num_visits\",\"hs_analytics_num_visits\",\"hs_analytics_num_visits\",\"hs_analytics_num_visits\",\"hs_analytics_num_visits\",\"hs_analytics_num_visits\",\"hs_analytics_num_visits\",\"hs_analytics_num_visits\",\"hs_analytics_num_visits\",\"hs_analytics_num_visits\",\"hs_analytics_num_visits\",\"hs_analytics_num_visits\",\"hs_analytics_num_visits\",\"hs_analytics_num_visits\",\"hs_analytics_num_visits\",\"hs_analytics_num_visits\",\"hs_analytics_num_visits\",\"hs_analytics_num_visits\",\"hs_analytics_num_visits\",\"hs_analytics_num_visits\",\"hs_analytics_num_visits\",\"hs_analytics_num_visits\",\"hs_analytics_num_visits\",\"hs_analytics_num_visits\",\"hs_analytics_num_visits\",\"hs_analytics_num_visits\",\"hs_analytics_num_visits\",\"hs_analytics_num_visits\",\"hs_analytics_num_visits\",\"hs_analytics_num_visits\",\"hs_analytics_num_visits\",\"hs_analytics_num_visits\",\"hs_analytics_num_visits\",\"hs_analytics_num_visits\",\"hs_analytics_num_visits\",\"hs_analytics_num_visits\",\"hs_analytics_num_visits\",\"hs_analytics_num_visits\",\"hs_analytics_num_visits\",\"hs_analytics_num_visits\",\"hs_analytics_num_visits\",\"hs_analytics_num_visits\",\"hs_analytics_num_visits\",\"hs_analytics_num_visits\",\"hs_analytics_num_visits\",\"hs_analytics_num_visits\",\"hs_analytics_num_visits\",\"hs_analytics_num_visits\",\"hs_analytics_num_visits\",\"hs_analytics_num_visits\",\"hs_analytics_num_visits\",\"hs_analytics_num_visits\",\"hs_analytics_num_visits\",\"hs_analytics_num_visits\",\"hs_analytics_num_visits\",\"hs_analytics_num_visits\",\"hs_analytics_num_visits\",\"hs_analytics_num_visits\",\"hs_analytics_num_visits\",\"hs_analytics_num_visits\",\"hs_analytics_num_visits\",\"hs_analytics_num_visits\",\"hs_analytics_num_visits\",\"hs_analytics_num_visits\",\"hs_analytics_num_visits\",\"hs_analytics_num_visits\",\"hs_analytics_num_visits\",\"hs_analytics_num_visits\",\"hs_analytics_num_visits\",\"hs_analytics_num_visits\",\"hs_analytics_num_visits\",\"hs_analytics_num_visits\",\"hs_analytics_num_visits\",\"hs_analytics_num_visits\",\"hs_analytics_num_visits\",\"hs_analytics_num_visits\",\"hs_analytics_num_visits\",\"hs_analytics_num_visits\",\"hs_analytics_num_visits\",\"hs_analytics_num_visits\",\"hs_analytics_num_visits\",\"hs_analytics_num_visits\",\"hs_analytics_num_visits\",\"hs_analytics_num_visits\",\"hs_analytics_num_visits\",\"hs_analytics_num_visits\",\"hs_analytics_num_visits\",\"hs_analytics_num_visits\",\"hs_analytics_num_visits\",\"hs_analytics_num_visits\",\"hs_analytics_num_visits\",\"hs_analytics_num_visits\",\"hs_analytics_num_visits\",\"hs_analytics_num_visits\",\"hs_analytics_num_visits\",\"hs_analytics_num_visits\",\"hs_analytics_num_visits\",\"hs_analytics_num_visits\",\"hs_analytics_num_visits\",\"hs_analytics_num_visits\",\"hs_analytics_num_visits\",\"hs_analytics_num_visits\",\"hs_analytics_num_visits\",\"hs_analytics_num_visits\",\"hs_analytics_num_visits\",\"hs_analytics_num_visits\",\"hs_analytics_num_visits\",\"hs_analytics_num_visits\",\"hs_analytics_num_visits\",\"hs_analytics_num_visits\",\"hs_analytics_num_visits\",\"hs_analytics_num_visits\",\"hs_analytics_num_visits\",\"hs_analytics_num_visits\",\"hs_analytics_num_visits\",\"hs_analytics_num_visits\",\"hs_analytics_num_visits\",\"hs_analytics_num_visits\",\"hs_analytics_num_visits\",\"hs_analytics_num_visits\",\"hs_analytics_num_visits\",\"hs_analytics_num_visits\",\"hs_analytics_num_visits\",\"hs_analytics_num_visits\",\"hs_analytics_num_visits\",\"hs_analytics_num_visits\",\"hs_analytics_num_visits\",\"hs_analytics_num_visits\",\"hs_analytics_num_visits\",\"hs_analytics_num_visits\",\"hs_analytics_num_visits\",\"hs_analytics_num_visits\",\"hs_analytics_num_visits\",\"hs_analytics_num_visits\",\"hs_analytics_num_visits\",\"hs_analytics_num_visits\",\"hs_analytics_num_visits\",\"hs_analytics_num_visits\",\"hs_analytics_num_visits\",\"hs_analytics_num_visits\",\"hs_analytics_num_visits\",\"hs_analytics_num_visits\",\"hs_analytics_num_visits\",\"hs_analytics_num_visits\",\"hs_analytics_num_visits\",\"hs_analytics_num_visits\",\"hs_analytics_num_visits\",\"hs_analytics_num_visits\",\"hs_analytics_num_visits\",\"hs_analytics_num_visits\",\"hs_analytics_num_visits\",\"hs_analytics_num_visits\",\"hs_analytics_num_visits\",\"hs_analytics_num_visits\",\"hs_analytics_num_visits\",\"hs_analytics_num_visits\",\"hs_analytics_num_visits\",\"hs_analytics_num_visits\",\"hs_analytics_num_visits\",\"hs_analytics_num_visits\",\"hs_analytics_num_visits\",\"hs_analytics_num_visits\",\"hs_analytics_num_visits\",\"hs_analytics_num_visits\",\"hs_analytics_num_visits\",\"hs_analytics_num_visits\",\"hs_analytics_num_visits\",\"hs_analytics_num_visits\",\"hs_analytics_num_visits\",\"hs_analytics_num_visits\",\"hs_analytics_num_visits\",\"hs_analytics_num_visits\",\"hs_analytics_num_visits\",\"hs_analytics_num_visits\",\"hs_analytics_num_visits\",\"hs_analytics_num_visits\",\"hs_analytics_num_visits\",\"hs_analytics_num_visits\",\"hs_analytics_num_visits\",\"hs_analytics_num_visits\",\"hs_analytics_num_visits\",\"hs_analytics_num_visits\",\"hs_analytics_num_visits\",\"hs_analytics_num_visits\",\"hs_analytics_num_visits\",\"hs_analytics_num_visits\",\"hs_analytics_num_visits\",\"hs_analytics_num_visits\",\"hs_analytics_num_visits\",\"hs_analytics_num_visits\",\"hs_analytics_num_visits\",\"hs_analytics_num_visits\",\"hs_analytics_num_visits\",\"hs_analytics_num_visits\",\"hs_analytics_num_visits\",\"hs_analytics_num_visits\",\"hs_analytics_num_visits\",\"hs_analytics_num_visits\",\"hs_analytics_num_visits\",\"hs_analytics_num_visits\",\"hs_analytics_num_visits\",\"hs_analytics_num_visits\",\"hs_analytics_num_visits\",\"hs_analytics_num_visits\",\"hs_analytics_num_visits\",\"hs_analytics_num_visits\",\"hs_analytics_num_visits\",\"hs_analytics_num_visits\",\"hs_analytics_num_visits\",\"hs_analytics_num_visits\",\"hs_analytics_num_visits\",\"hs_analytics_num_visits\",\"hs_analytics_num_visits\",\"hs_analytics_num_visits\",\"hs_analytics_num_visits\",\"hs_analytics_num_visits\",\"hs_analytics_num_visits\",\"hs_analytics_num_visits\",\"hs_analytics_num_visits\",\"hs_analytics_num_visits\",\"hs_analytics_num_visits\",\"hs_analytics_num_visits\",\"hs_analytics_num_visits\",\"hs_analytics_num_visits\",\"hs_analytics_num_visits\",\"hs_analytics_num_visits\",\"hs_analytics_num_visits\",\"hs_analytics_num_visits\",\"hs_analytics_num_visits\",\"hs_analytics_num_visits\",\"hs_analytics_num_visits\",\"hs_analytics_num_visits\",\"hs_analytics_num_visits\",\"hs_analytics_num_visits\",\"hs_analytics_num_visits\",\"hs_analytics_num_visits\",\"hs_analytics_num_visits\",\"hs_analytics_num_visits\",\"hs_analytics_num_visits\",\"hs_analytics_num_visits\",\"hs_analytics_num_visits\",\"hs_analytics_num_visits\",\"hs_analytics_num_visits\",\"hs_analytics_num_visits\",\"hs_analytics_num_visits\",\"hs_analytics_num_visits\",\"hs_analytics_num_visits\",\"hs_analytics_num_visits\",\"hs_analytics_num_visits\",\"hs_analytics_num_visits\",\"hs_analytics_num_visits\",\"hs_analytics_num_visits\",\"hs_analytics_num_visits\",\"hs_analytics_num_visits\",\"hs_analytics_num_visits\",\"hs_analytics_num_visits\",\"hs_analytics_num_visits\",\"hs_analytics_num_visits\",\"hs_analytics_num_visits\",\"hs_analytics_num_visits\",\"hs_analytics_num_visits\",\"hs_analytics_num_visits\",\"hs_analytics_num_visits\",\"hs_analytics_num_visits\",\"hs_analytics_num_visits\",\"hs_analytics_num_visits\",\"hs_analytics_num_visits\",\"hs_analytics_num_visits\",\"hs_analytics_num_visits\",\"hs_analytics_num_visits\",\"hs_analytics_num_visits\",\"hs_analytics_num_visits\",\"hs_analytics_num_visits\",\"hs_analytics_num_visits\",\"hs_analytics_num_visits\",\"hs_analytics_num_visits\",\"hs_analytics_num_visits\",\"hs_analytics_num_visits\",\"hs_analytics_num_visits\",\"hs_analytics_num_visits\",\"hs_analytics_num_visits\",\"hs_analytics_num_visits\",\"hs_analytics_num_visits\",\"hs_analytics_num_visits\",\"hs_analytics_num_visits\",\"hs_analytics_num_visits\",\"hs_analytics_num_visits\",\"hs_analytics_num_visits\",\"hs_analytics_num_visits\",\"hs_analytics_num_visits\",\"hs_analytics_num_visits\",\"hs_analytics_num_visits\",\"hs_analytics_num_visits\",\"hs_analytics_num_visits\",\"hs_analytics_num_visits\",\"hs_analytics_num_visits\",\"hs_analytics_num_visits\",\"hs_analytics_num_visits\",\"hs_analytics_num_visits\",\"hs_analytics_num_visits\",\"hs_analytics_num_visits\",\"hs_analytics_num_visits\",\"hs_analytics_num_visits\",\"hs_analytics_num_visits\",\"hs_analytics_num_visits\",\"hs_analytics_num_visits\",\"hs_analytics_num_visits\",\"hs_analytics_num_visits\",\"hs_analytics_num_visits\",\"hs_analytics_num_visits\",\"hs_analytics_num_visits\",\"hs_analytics_num_visits\",\"hs_analytics_num_visits\",\"hs_analytics_num_visits\",\"hs_analytics_num_visits\",\"hs_analytics_num_visits\",\"hs_analytics_num_visits\",\"hs_analytics_num_visits\",\"hs_analytics_num_visits\",\"hs_analytics_num_visits\",\"hs_analytics_num_visits\",\"hs_analytics_num_visits\",\"hs_analytics_num_visits\",\"hs_analytics_num_visits\",\"hs_analytics_num_visits\",\"hs_analytics_num_visits\",\"hs_analytics_num_visits\",\"hs_analytics_num_visits\",\"hs_analytics_num_visits\",\"hs_analytics_num_visits\",\"hs_analytics_num_visits\",\"hs_analytics_num_visits\",\"hs_analytics_num_visits\",\"hs_analytics_num_visits\",\"hs_analytics_num_visits\",\"hs_analytics_num_visits\",\"hs_analytics_num_visits\",\"hs_analytics_num_visits\",\"hs_analytics_num_visits\",\"hs_analytics_num_visits\",\"hs_analytics_num_visits\",\"hs_analytics_num_visits\",\"hs_analytics_num_visits\",\"hs_analytics_num_visits\",\"hs_analytics_num_visits\",\"hs_analytics_num_visits\",\"hs_analytics_num_visits\",\"hs_analytics_num_visits\",\"hs_analytics_num_visits\",\"hs_analytics_num_visits\",\"hs_analytics_num_visits\",\"hs_analytics_num_visits\",\"hs_analytics_num_visits\",\"hs_analytics_num_visits\",\"hs_analytics_num_visits\",\"hs_analytics_num_visits\",\"hs_analytics_num_visits\",\"hs_analytics_num_visits\",\"hs_analytics_num_visits\",\"hs_analytics_num_visits\",\"hs_analytics_num_visits\",\"hs_analytics_num_visits\",\"hs_analytics_num_visits\",\"hs_analytics_num_visits\",\"hs_analytics_num_visits\",\"hs_analytics_num_visits\",\"hs_analytics_num_visits\",\"hs_analytics_num_visits\",\"hs_analytics_num_visits\",\"hs_analytics_num_visits\",\"hs_analytics_num_visits\",\"hs_analytics_num_visits\",\"hs_analytics_num_visits\",\"hs_analytics_num_visits\",\"hs_analytics_num_visits\",\"hs_analytics_num_visits\",\"hs_analytics_num_visits\",\"hs_analytics_num_visits\",\"hs_analytics_num_visits\",\"hs_analytics_num_visits\",\"hs_analytics_num_visits\",\"hs_analytics_num_visits\",\"hs_analytics_num_visits\",\"hs_analytics_num_visits\",\"hs_analytics_num_visits\",\"hs_analytics_num_visits\",\"hs_analytics_num_visits\",\"hs_analytics_num_visits\",\"hs_analytics_num_visits\",\"hs_analytics_num_visits\",\"hs_analytics_num_visits\",\"hs_analytics_num_visits\",\"hs_analytics_num_visits\",\"hs_analytics_num_visits\",\"hs_analytics_num_visits\",\"hs_analytics_num_visits\",\"hs_analytics_num_visits\",\"hs_analytics_num_visits\",\"hs_analytics_num_visits\",\"hs_analytics_num_visits\",\"hs_analytics_num_visits\",\"hs_analytics_num_visits\",\"hs_analytics_num_visits\",\"hs_analytics_num_visits\",\"hs_analytics_num_visits\",\"hs_analytics_num_visits\",\"hs_analytics_num_visits\",\"hs_analytics_num_visits\",\"hs_analytics_num_visits\",\"hs_analytics_num_visits\",\"hs_analytics_num_visits\",\"hs_analytics_num_visits\",\"hs_analytics_num_visits\",\"hs_analytics_num_visits\",\"hs_analytics_num_visits\",\"hs_analytics_num_visits\",\"hs_analytics_num_visits\",\"hs_analytics_num_visits\",\"hs_analytics_num_visits\",\"hs_analytics_num_visits\",\"hs_analytics_num_visits\",\"hs_analytics_num_visits\",\"hs_analytics_num_visits\",\"hs_analytics_num_visits\",\"hs_analytics_num_visits\",\"hs_analytics_num_visits\",\"hs_analytics_num_visits\",\"hs_analytics_num_visits\",\"hs_analytics_num_visits\",\"hs_analytics_num_visits\",\"hs_analytics_num_visits\",\"hs_analytics_num_visits\",\"hs_analytics_num_visits\",\"hs_analytics_num_visits\",\"hs_analytics_num_visits\",\"hs_analytics_num_visits\",\"hs_analytics_num_visits\",\"hs_analytics_num_visits\",\"hs_analytics_num_visits\",\"hs_analytics_num_visits\",\"hs_analytics_num_visits\",\"hs_analytics_num_visits\",\"hs_analytics_num_visits\",\"hs_analytics_num_visits\",\"hs_analytics_num_visits\",\"hs_analytics_num_visits\",\"hs_analytics_num_visits\",\"hs_analytics_num_visits\",\"hs_analytics_num_visits\",\"hs_analytics_num_visits\",\"hs_analytics_num_visits\",\"hs_analytics_num_visits\",\"hs_analytics_num_visits\",\"hs_analytics_num_visits\",\"hs_analytics_num_visits\",\"hs_analytics_num_visits\",\"hs_analytics_num_visits\",\"hs_analytics_num_visits\",\"hs_analytics_num_visits\",\"hs_analytics_num_visits\",\"hs_analytics_num_visits\",\"hs_analytics_num_visits\",\"hs_analytics_num_visits\",\"hs_analytics_num_visits\",\"hs_analytics_num_visits\",\"hs_analytics_num_visits\",\"hs_analytics_num_visits\",\"hs_analytics_num_visits\",\"hs_analytics_num_visits\",\"hs_analytics_num_visits\",\"hs_analytics_num_visits\",\"hs_analytics_num_visits\",\"hs_analytics_num_visits\",\"hs_analytics_num_visits\",\"hs_analytics_num_visits\",\"hs_analytics_num_visits\",\"hs_analytics_num_visits\",\"hs_analytics_num_visits\",\"hs_analytics_num_visits\",\"hs_analytics_num_visits\",\"hs_analytics_num_visits\",\"hs_analytics_num_visits\",\"hs_analytics_num_visits\",\"hs_analytics_num_visits\",\"hs_analytics_num_visits\",\"hs_analytics_num_visits\",\"hs_analytics_num_visits\",\"hs_analytics_num_visits\",\"hs_analytics_num_visits\",\"hs_analytics_num_visits\",\"hs_analytics_num_visits\",\"hs_analytics_num_visits\",\"hs_analytics_num_visits\",\"hs_analytics_num_visits\",\"hs_analytics_num_visits\",\"hs_analytics_num_visits\",\"hs_analytics_num_visits\",\"hs_analytics_num_visits\",\"hs_analytics_num_visits\",\"hs_analytics_num_visits\",\"hs_analytics_num_visits\",\"hs_analytics_num_visits\",\"hs_analytics_num_visits\",\"hs_analytics_num_visits\",\"hs_analytics_num_visits\",\"hs_analytics_num_visits\",\"hs_analytics_num_visits\",\"hs_analytics_num_visits\",\"hs_analytics_num_visits\",\"hs_analytics_num_visits\",\"hs_analytics_num_visits\",\"hs_analytics_num_visits\",\"hs_analytics_num_visits\",\"hs_analytics_num_visits\",\"hs_analytics_num_visits\",\"hs_analytics_num_visits\",\"hs_analytics_num_visits\",\"hs_analytics_num_visits\",\"hs_analytics_num_visits\",\"hs_analytics_num_visits\",\"hs_analytics_num_visits\",\"hs_analytics_num_visits\",\"hs_analytics_num_visits\",\"hs_analytics_num_visits\",\"hs_analytics_num_visits\",\"hs_analytics_num_visits\",\"hs_analytics_num_visits\",\"hs_analytics_num_visits\",\"hs_analytics_num_visits\",\"hs_analytics_num_visits\",\"hs_analytics_num_visits\",\"hs_analytics_num_visits\",\"hs_analytics_num_visits\",\"hs_analytics_num_visits\",\"hs_analytics_num_visits\",\"hs_analytics_num_visits\",\"hs_analytics_num_visits\",\"hs_analytics_num_visits\",\"hs_analytics_num_visits\",\"hs_analytics_num_visits\",\"hs_analytics_num_visits\",\"hs_analytics_num_visits\",\"hs_analytics_num_visits\",\"hs_analytics_num_visits\",\"hs_analytics_num_visits\",\"hs_analytics_num_visits\",\"hs_analytics_num_visits\",\"hs_analytics_num_visits\",\"hs_analytics_num_visits\",\"hs_analytics_num_visits\",\"hs_analytics_num_visits\",\"hs_analytics_num_visits\",\"hs_analytics_num_visits\",\"hs_analytics_num_visits\",\"hs_analytics_num_visits\",\"hs_analytics_num_visits\",\"hs_analytics_num_visits\",\"hs_analytics_num_visits\",\"hs_analytics_num_visits\",\"hs_analytics_num_visits\",\"hs_analytics_num_visits\",\"hs_analytics_num_visits\",\"hs_analytics_num_visits\",\"hs_analytics_num_visits\",\"hs_analytics_num_visits\",\"hs_analytics_num_visits\",\"hs_analytics_num_visits\",\"hs_analytics_num_visits\",\"hs_analytics_num_visits\",\"hs_analytics_num_visits\",\"hs_analytics_num_visits\",\"hs_analytics_num_visits\",\"hs_analytics_num_visits\",\"hs_analytics_num_visits\",\"hs_analytics_num_visits\",\"hs_analytics_num_visits\",\"hs_analytics_num_visits\",\"hs_analytics_num_visits\",\"hs_analytics_num_visits\",\"hs_analytics_num_visits\",\"hs_analytics_num_visits\",\"hs_analytics_num_visits\",\"hs_analytics_num_visits\",\"hs_analytics_num_visits\",\"hs_analytics_num_visits\",\"hs_analytics_num_visits\",\"hs_analytics_num_visits\",\"hs_analytics_num_visits\",\"hs_analytics_num_visits\",\"hs_analytics_num_visits\",\"hs_analytics_num_visits\",\"hs_analytics_num_visits\",\"hs_analytics_num_visits\",\"hs_analytics_num_visits\",\"hs_analytics_num_visits\",\"hs_analytics_num_visits\",\"hs_analytics_num_visits\",\"hs_analytics_num_visits\",\"hs_analytics_num_visits\",\"hs_analytics_num_visits\",\"hs_analytics_num_visits\",\"hs_analytics_num_visits\",\"hs_analytics_num_visits\",\"hs_analytics_num_visits\",\"hs_analytics_num_visits\",\"hs_analytics_num_visits\",\"hs_analytics_num_visits\",\"hs_analytics_num_visits\",\"hs_analytics_num_visits\",\"hs_analytics_num_visits\",\"hs_analytics_num_visits\",\"hs_analytics_num_visits\",\"hs_analytics_num_visits\",\"hs_analytics_num_visits\",\"hs_analytics_num_visits\",\"hs_analytics_num_visits\",\"hs_analytics_num_visits\",\"hs_analytics_num_visits\",\"hs_analytics_num_visits\",\"hs_analytics_num_visits\",\"hs_analytics_num_visits\",\"hs_analytics_num_visits\",\"hs_analytics_num_visits\",\"hs_analytics_num_visits\",\"hs_analytics_num_visits\",\"hs_analytics_num_visits\",\"hs_analytics_num_visits\",\"hs_analytics_num_visits\",\"hs_analytics_num_visits\",\"hs_analytics_num_visits\",\"hs_analytics_num_visits\",\"hs_analytics_num_visits\",\"hs_analytics_num_visits\",\"hs_analytics_num_visits\",\"hs_analytics_num_visits\",\"hs_analytics_num_visits\",\"hs_analytics_num_visits\",\"hs_analytics_num_visits\",\"hs_analytics_num_visits\",\"hs_analytics_num_visits\",\"hs_analytics_num_visits\",\"hs_analytics_num_visits\",\"hs_analytics_num_visits\",\"hs_analytics_num_visits\",\"hs_analytics_num_visits\",\"hs_analytics_num_visits\",\"hs_analytics_num_visits\",\"hs_analytics_num_visits\",\"hs_analytics_num_visits\",\"hs_analytics_num_visits\",\"hs_analytics_num_visits\",\"hs_analytics_num_visits\",\"hs_analytics_num_visits\",\"hs_analytics_num_visits\",\"hs_analytics_num_visits\",\"hs_analytics_num_visits\",\"hs_analytics_num_visits\",\"hs_analytics_num_visits\",\"hs_analytics_num_visits\",\"hs_analytics_num_visits\",\"hs_analytics_num_visits\",\"hs_analytics_num_visits\",\"hs_analytics_num_visits\",\"hs_analytics_num_visits\",\"hs_analytics_num_visits\",\"hs_analytics_num_visits\",\"hs_analytics_num_visits\",\"hs_analytics_num_visits\",\"hs_analytics_num_visits\",\"hs_analytics_num_visits\",\"hs_analytics_num_visits\",\"hs_analytics_num_visits\",\"hs_analytics_num_visits\",\"hs_analytics_num_visits\",\"hs_analytics_num_visits\",\"hs_analytics_num_visits\",\"hs_analytics_num_visits\",\"hs_analytics_num_visits\",\"hs_analytics_num_visits\",\"hs_analytics_num_visits\",\"hs_analytics_num_visits\",\"hs_analytics_num_visits\",\"hs_analytics_num_visits\",\"hs_analytics_num_visits\",\"hs_analytics_num_visits\",\"hs_analytics_num_visits\",\"hs_analytics_num_visits\",\"hs_analytics_num_visits\",\"hs_analytics_num_visits\",\"hs_analytics_num_visits\",\"hs_analytics_num_visits\",\"hs_analytics_num_visits\",\"hs_analytics_num_visits\",\"hs_analytics_num_visits\",\"hs_analytics_num_visits\",\"hs_analytics_num_visits\",\"hs_analytics_num_visits\",\"hs_analytics_num_visits\",\"hs_analytics_num_visits\",\"hs_analytics_num_visits\",\"hs_analytics_num_visits\",\"hs_analytics_num_visits\",\"hs_analytics_num_visits\",\"hs_analytics_num_visits\",\"hs_analytics_num_visits\",\"hs_analytics_num_visits\",\"hs_analytics_num_visits\",\"hs_analytics_num_visits\",\"hs_analytics_num_visits\",\"hs_analytics_num_visits\",\"hs_analytics_num_visits\",\"hs_analytics_num_visits\",\"hs_analytics_num_visits\",\"hs_analytics_num_visits\",\"hs_analytics_num_visits\",\"hs_analytics_num_visits\",\"hs_analytics_num_visits\",\"hs_analytics_num_visits\",\"hs_analytics_num_visits\",\"hs_analytics_num_visits\",\"hs_analytics_num_visits\",\"hs_analytics_num_visits\",\"hs_analytics_num_visits\",\"hs_analytics_num_visits\",\"hs_analytics_num_visits\",\"hs_analytics_num_visits\",\"hs_analytics_num_visits\",\"hs_analytics_num_visits\",\"hs_analytics_num_visits\",\"hs_analytics_num_visits\",\"hs_analytics_num_visits\",\"hs_analytics_num_visits\",\"hs_analytics_num_visits\",\"hs_analytics_num_visits\",\"hs_analytics_num_visits\",\"hs_analytics_num_visits\",\"hs_analytics_num_visits\",\"hs_analytics_num_visits\",\"hs_analytics_num_visits\",\"hs_analytics_num_visits\",\"hs_analytics_num_visits\",\"hs_analytics_num_visits\",\"hs_analytics_num_visits\",\"hs_analytics_num_visits\",\"hs_analytics_num_visits\",\"hs_analytics_num_visits\",\"hs_analytics_num_visits\",\"hs_analytics_num_visits\",\"hs_analytics_num_visits\",\"hs_analytics_num_visits\",\"hs_analytics_num_visits\",\"hs_analytics_num_visits\",\"hs_analytics_num_visits\",\"hs_analytics_num_visits\",\"hs_analytics_num_visits\",\"hs_analytics_num_visits\",\"hs_analytics_num_visits\",\"hs_analytics_num_visits\",\"hs_analytics_num_visits\",\"hs_analytics_num_visits\",\"hs_analytics_num_visits\",\"hs_analytics_num_visits\",\"hs_analytics_num_visits\",\"hs_analytics_num_visits\",\"hs_analytics_num_visits\",\"hs_analytics_num_visits\",\"hs_analytics_num_visits\",\"hs_analytics_num_visits\",\"hs_analytics_num_visits\",\"hs_analytics_num_visits\",\"hs_analytics_num_visits\",\"hs_analytics_num_visits\",\"hs_analytics_num_visits\",\"hs_analytics_num_visits\",\"hs_analytics_num_visits\",\"hs_analytics_num_visits\",\"hs_analytics_num_visits\",\"hs_analytics_num_visits\",\"hs_analytics_num_visits\",\"hs_analytics_num_visits\",\"hs_analytics_num_visits\",\"hs_analytics_num_visits\",\"hs_analytics_num_visits\",\"hs_analytics_num_visits\",\"hs_analytics_num_visits\",\"hs_analytics_num_visits\",\"hs_analytics_num_visits\",\"hs_analytics_num_visits\",\"hs_analytics_num_visits\",\"hs_analytics_num_visits\",\"hs_analytics_num_visits\",\"hs_analytics_num_visits\",\"hs_analytics_num_visits\",\"hs_analytics_num_visits\",\"hs_analytics_num_visits\",\"hs_analytics_num_visits\",\"hs_analytics_num_visits\",\"hs_analytics_num_visits\",\"hs_analytics_num_visits\",\"hs_analytics_num_visits\",\"hs_analytics_num_visits\",\"hs_analytics_num_visits\",\"hs_analytics_num_visits\",\"hs_analytics_num_visits\",\"hs_analytics_num_visits\",\"hs_analytics_num_visits\",\"hs_analytics_num_visits\",\"hs_analytics_num_visits\",\"hs_analytics_num_visits\",\"hs_analytics_num_visits\",\"hs_analytics_num_visits\",\"hs_analytics_num_visits\",\"hs_analytics_num_visits\",\"hs_analytics_num_visits\",\"hs_analytics_num_visits\",\"hs_analytics_num_visits\",\"hs_analytics_num_visits\",\"hs_analytics_num_visits\",\"hs_analytics_num_visits\",\"hs_analytics_num_visits\",\"hs_analytics_num_visits\",\"hs_analytics_num_visits\",\"hs_analytics_num_visits\",\"hs_analytics_num_visits\",\"hs_analytics_num_visits\",\"hs_analytics_num_visits\",\"hs_analytics_num_visits\",\"hs_analytics_num_visits\",\"hs_analytics_num_visits\",\"hs_analytics_num_visits\",\"hs_analytics_num_visits\",\"hs_analytics_num_visits\",\"hs_analytics_num_visits\",\"hs_analytics_num_visits\",\"hs_analytics_num_visits\",\"hs_analytics_num_visits\",\"hs_analytics_num_visits\",\"hs_analytics_num_visits\",\"hs_analytics_num_visits\",\"hs_analytics_num_visits\",\"hs_analytics_num_visits\",\"hs_analytics_num_visits\",\"hs_analytics_num_visits\",\"hs_analytics_num_visits\",\"hs_analytics_num_visits\",\"hs_analytics_num_visits\",\"hs_analytics_num_visits\",\"hs_analytics_num_visits\",\"hs_analytics_num_visits\",\"hs_analytics_num_visits\",\"hs_analytics_num_visits\",\"hs_analytics_num_visits\",\"hs_analytics_num_visits\",\"hs_analytics_num_visits\",\"hs_analytics_num_visits\",\"hs_analytics_num_visits\",\"hs_analytics_num_visits\",\"hs_analytics_num_visits\",\"hs_analytics_num_visits\",\"hs_analytics_num_visits\",\"hs_analytics_num_visits\",\"hs_analytics_num_visits\",\"hs_analytics_num_visits\",\"hs_analytics_num_visits\",\"hs_analytics_num_visits\",\"hs_analytics_num_visits\",\"hs_analytics_num_visits\",\"hs_analytics_num_visits\",\"hs_analytics_num_visits\",\"hs_analytics_num_visits\",\"hs_analytics_num_visits\",\"hs_analytics_num_visits\",\"hs_analytics_num_visits\",\"hs_analytics_num_visits\",\"hs_analytics_num_visits\",\"hs_analytics_num_visits\",\"hs_analytics_num_visits\",\"hs_analytics_num_visits\",\"hs_analytics_num_visits\",\"hs_analytics_num_visits\",\"hs_analytics_num_visits\",\"hs_analytics_num_visits\",\"hs_analytics_num_visits\",\"hs_analytics_num_visits\",\"hs_analytics_num_visits\",\"hs_analytics_num_visits\",\"hs_analytics_num_visits\",\"hs_analytics_num_visits\",\"hs_analytics_num_visits\",\"hs_analytics_num_visits\",\"hs_analytics_num_visits\",\"hs_analytics_num_visits\",\"hs_analytics_num_visits\",\"hs_analytics_num_visits\",\"hs_analytics_num_visits\",\"hs_analytics_num_visits\",\"hs_analytics_num_visits\",\"hs_analytics_num_visits\",\"hs_analytics_num_visits\",\"hs_analytics_num_visits\",\"hs_analytics_num_visits\",\"hs_analytics_num_visits\",\"hs_analytics_num_visits\",\"hs_analytics_num_visits\",\"hs_analytics_num_visits\",\"hs_analytics_num_visits\",\"hs_analytics_num_visits\",\"hs_analytics_num_visits\",\"hs_analytics_num_visits\",\"hs_analytics_num_visits\",\"hs_analytics_num_visits\",\"hs_analytics_num_visits\",\"hs_analytics_num_visits\",\"hs_analytics_num_visits\",\"hs_analytics_num_visits\",\"hs_analytics_num_visits\",\"hs_analytics_num_visits\",\"hs_analytics_num_visits\",\"hs_analytics_num_visits\",\"hs_analytics_num_visits\",\"hs_analytics_num_visits\",\"hs_analytics_num_visits\",\"hs_analytics_num_visits\",\"hs_analytics_num_visits\",\"hs_analytics_num_visits\",\"hs_analytics_num_visits\",\"hs_analytics_num_visits\",\"hs_analytics_num_visits\",\"hs_analytics_num_visits\",\"hs_analytics_num_visits\",\"hs_analytics_num_visits\",\"hs_analytics_num_visits\",\"hs_analytics_num_visits\",\"hs_analytics_num_visits\",\"hs_analytics_num_visits\",\"hs_analytics_num_visits\",\"hs_analytics_num_visits\",\"hs_analytics_num_visits\",\"hs_analytics_num_visits\",\"hs_analytics_num_visits\",\"hs_analytics_num_visits\",\"hs_analytics_num_visits\",\"hs_analytics_num_visits\",\"hs_analytics_num_visits\",\"hs_analytics_num_visits\",\"hs_analytics_num_visits\",\"hs_analytics_num_visits\",\"hs_analytics_num_visits\",\"hs_analytics_num_visits\",\"hs_analytics_num_visits\",\"hs_analytics_num_visits\",\"hs_analytics_num_visits\",\"hs_analytics_num_visits\",\"hs_analytics_num_visits\",\"hs_analytics_num_visits\",\"hs_analytics_num_visits\",\"hs_analytics_num_visits\",\"hs_analytics_num_visits\",\"hs_analytics_num_visits\",\"hs_analytics_num_visits\",\"hs_analytics_num_visits\",\"hs_analytics_num_visits\",\"hs_analytics_num_visits\",\"hs_analytics_num_visits\",\"hs_analytics_num_visits\",\"hs_analytics_num_visits\",\"hs_analytics_num_visits\",\"hs_analytics_num_visits\",\"hs_analytics_num_visits\",\"hs_analytics_num_visits\",\"hs_analytics_num_visits\",\"hs_analytics_num_visits\",\"hs_analytics_num_visits\",\"hs_analytics_num_visits\",\"hs_analytics_num_visits\",\"hs_analytics_num_visits\",\"hs_analytics_num_visits\",\"hs_analytics_num_visits\",\"hs_analytics_num_visits\",\"hs_analytics_num_visits\",\"hs_analytics_num_visits\",\"hs_analytics_num_visits\",\"hs_analytics_num_visits\",\"hs_analytics_num_visits\",\"hs_analytics_num_visits\",\"hs_analytics_num_visits\",\"hs_analytics_num_visits\",\"hs_analytics_num_visits\",\"hs_analytics_num_visits\",\"hs_analytics_num_visits\",\"hs_analytics_num_visits\",\"hs_analytics_num_visits\",\"hs_analytics_num_visits\",\"hs_analytics_num_visits\",\"hs_analytics_num_visits\",\"hs_analytics_num_visits\",\"hs_analytics_num_visits\",\"hs_analytics_num_visits\",\"hs_analytics_num_visits\",\"hs_analytics_num_visits\",\"hs_analytics_num_visits\",\"hs_analytics_num_visits\",\"hs_analytics_num_visits\",\"hs_analytics_num_visits\",\"hs_analytics_num_visits\",\"hs_analytics_num_visits\",\"hs_analytics_num_visits\",\"hs_analytics_num_visits\",\"hs_analytics_num_visits\",\"hs_analytics_num_visits\",\"hs_analytics_num_visits\",\"hs_analytics_num_visits\",\"hs_analytics_num_visits\",\"hs_analytics_num_visits\",\"hs_analytics_num_visits\",\"hs_analytics_num_visits\",\"hs_analytics_num_visits\",\"hs_analytics_num_visits\",\"hs_analytics_num_visits\",\"hs_analytics_num_visits\",\"hs_analytics_num_visits\",\"hs_analytics_num_visits\",\"hs_analytics_num_visits\",\"hs_analytics_num_visits\",\"hs_analytics_num_visits\",\"hs_analytics_num_visits\",\"hs_analytics_num_visits\",\"hs_analytics_num_visits\",\"hs_analytics_num_visits\",\"hs_analytics_num_visits\",\"hs_analytics_num_visits\",\"hs_analytics_num_visits\",\"hs_analytics_num_visits\",\"hs_analytics_num_visits\",\"hs_analytics_num_visits\",\"hs_analytics_num_visits\",\"hs_analytics_num_visits\",\"hs_analytics_num_visits\",\"hs_analytics_num_visits\",\"hs_analytics_num_visits\",\"hs_analytics_num_visits\",\"hs_analytics_num_visits\",\"hs_analytics_num_visits\"],\"x0\":\" \",\"xaxis\":\"x\",\"y\":[7.0,4.0,1.0,0.0,3.0,1.0,1.0,0.0,1.0,2.0,4.0,1.0,0.0,0.0,2.0,3.0,0.0,6.0,0.0,4.0,0.0,2.0,3.0,0.0,1.0,0.0,1.0,2.0,6.0,2.0,6.0,3.0,2.0,3.0,3.0,0.0,0.0,2.0,5.0,3.0,2.0,0.0,3.0,1.0,0.0,7.0,3.0,1.0,4.0,2.0,2.0,0.0,1.0,2.0,5.0,4.0,2.0,1.0,2.0,2.0,2.0,1.0,1.0,1.0,4.0,0.0,4.0,1.0,0.0,2.0,5.0,2.0,3.0,3.0,5.0,3.0,2.0,5.0,1.0,1.0,3.0,5.0,3.0,2.0,2.0,1.0,3.0,1.0,1.0,4.0,7.0,4.0,3.0,1.0,0.0,2.0,1.0,4.0,2.0,1.0,4.0,5.0,1.0,1.0,6.0,1.0,0.0,1.0,2.0,2.0,2.0,2.0,3.0,1.0,1.0,2.0,1.0,4.0,2.0,4.0,7.0,5.0,1.0,2.0,1.0,2.0,7.0,5.0,1.0,4.0,4.0,3.0,4.0,2.0,5.0,2.0,2.0,1.0,5.0,1.0,2.0,0.0,4.0,1.0,0.0,0.0,0.0,3.0,7.0,1.0,3.0,3.0,2.0,2.0,1.0,7.0,2.0,0.0,3.0,1.0,4.0,3.0,3.0,4.0,5.0,3.0,2.0,2.0,2.0,1.0,3.0,4.0,1.0,3.0,1.0,3.0,1.0,1.0,4.0,2.0,1.0,5.0,4.0,5.0,2.0,3.0,1.0,5.0,2.0,2.0,2.0,3.0,3.0,4.0,1.0,3.0,4.0,7.0,0.0,0.0,0.0,2.0,2.0,5.0,1.0,0.0,4.0,1.0,4.0,0.0,2.0,3.0,5.0,0.0,4.0,3.0,3.0,7.0,4.0,0.0,7.0,1.0,3.0,4.0,0.0,7.0,3.0,0.0,0.0,6.0,2.0,6.0,3.0,0.0,1.0,0.0,0.0,3.0,1.0,1.0,5.0,1.0,3.0,3.0,3.0,4.0,4.0,1.0,1.0,1.0,2.0,4.0,1.0,1.0,1.0,2.0,4.0,7.0,2.0,5.0,6.0,1.0,3.0,5.0,3.0,6.0,2.0,0.0,1.0,1.0,2.0,2.0,2.0,1.0,7.0,2.0,3.0,1.0,2.0,1.0,2.0,3.0,1.0,0.0,1.0,3.0,1.0,4.0,0.0,7.0,3.0,0.0,2.0,4.0,2.0,2.0,5.0,0.0,0.0,3.0,0.0,4.0,1.0,7.0,0.0,4.0,2.0,0.0,5.0,4.0,1.0,7.0,5.0,4.0,0.0,6.0,2.0,1.0,1.0,1.0,5.0,7.0,2.0,7.0,6.0,0.0,1.0,2.0,1.0,4.0,4.0,3.0,4.0,2.0,5.0,2.0,3.0,3.0,0.0,1.0,1.0,1.0,2.0,3.0,3.0,3.0,2.0,0.0,2.0,4.0,0.0,0.0,4.0,2.0,0.0,2.0,3.0,1.0,3.0,2.0,1.0,1.0,3.0,3.0,3.0,1.0,1.0,2.0,6.0,7.0,0.0,0.0,1.0,5.0,4.0,0.0,2.0,2.0,0.0,0.0,1.0,2.0,3.0,2.0,3.0,0.0,2.0,2.0,3.0,3.0,4.0,1.0,1.0,4.0,6.0,0.0,2.0,2.0,3.0,0.0,3.0,1.0,3.0,1.0,4.0,2.0,0.0,1.0,0.0,3.0,2.0,1.0,2.0,0.0,3.0,1.0,7.0,1.0,0.0,0.0,1.0,3.0,3.0,3.0,2.0,0.0,0.0,2.0,1.0,1.0,1.0,3.0,0.0,5.0,5.0,1.0,7.0,1.0,3.0,4.0,1.0,3.0,2.0,7.0,1.0,7.0,1.0,1.0,1.0,2.0,5.0,7.0,2.0,4.0,3.0,2.0,3.0,2.0,2.0,2.0,2.0,2.0,3.0,2.0,2.0,1.0,1.0,2.0,2.0,0.0,0.0,1.0,0.0,2.0,3.0,3.0,6.0,2.0,1.0,1.0,1.0,0.0,1.0,2.0,1.0,1.0,0.0,1.0,2.0,5.0,2.0,1.0,4.0,4.0,0.0,3.0,3.0,1.0,1.0,1.0,3.0,2.0,0.0,0.0,0.0,0.0,0.0,0.0,2.0,3.0,0.0,1.0,1.0,7.0,4.0,0.0,1.0,5.0,5.0,7.0,2.0,0.0,5.0,6.0,3.0,7.0,0.0,7.0,1.0,1.0,7.0,1.0,2.0,0.0,1.0,0.0,3.0,0.0,0.0,1.0,1.0,3.0,0.0,1.0,7.0,5.0,2.0,4.0,1.0,2.0,0.0,4.0,0.0,4.0,0.0,7.0,0.0,5.0,3.0,2.0,4.0,0.0,1.0,2.0,3.0,2.0,1.0,0.0,0.0,0.0,0.0,1.0,3.0,4.0,1.0,7.0,3.0,5.0,7.0,1.0,0.0,2.0,7.0,4.0,1.0,2.0,3.0,2.0,3.0,3.0,2.0,2.0,5.0,4.0,4.0,0.0,0.0,3.0,5.0,7.0,3.0,1.0,2.0,0.0,3.0,3.0,0.0,3.0,6.0,1.0,1.0,5.0,1.0,1.0,7.0,2.0,0.0,3.0,0.0,4.0,4.0,6.0,3.0,3.0,0.0,0.0,3.0,7.0,1.0,2.0,1.0,3.0,3.0,5.0,1.0,1.0,2.0,3.0,1.0,2.0,2.0,2.0,7.0,1.0,1.0,2.0,3.0,1.0,6.0,3.0,2.0,3.0,6.0,4.0,6.0,1.0,6.0,2.0,3.0,1.0,1.0,7.0,6.0,2.0,6.0,5.0,2.0,5.0,5.0,1.0,4.0,2.0,1.0,0.0,4.0,2.0,3.0,3.0,3.0,0.0,3.0,1.0,4.0,0.0,5.0,1.0,3.0,0.0,2.0,7.0,1.0,3.0,1.0,2.0,3.0,2.0,4.0,5.0,2.0,2.0,0.0,1.0,5.0,5.0,3.0,1.0,1.0,7.0,0.0,5.0,1.0,2.0,7.0,0.0,5.0,3.0,1.0,2.0,4.0,1.0,0.0,3.0,2.0,7.0,2.0,6.0,3.0,1.0,2.0,5.0,2.0,1.0,3.0,1.0,4.0,2.0,7.0,5.0,2.0,0.0,2.0,3.0,1.0,0.0,5.0,5.0,1.0,1.0,1.0,6.0,6.0,3.0,6.0,3.0,0.0,2.0,0.0,0.0,2.0,3.0,2.0,1.0,4.0,4.0,6.0,0.0,1.0,1.0,3.0,2.0,1.0,2.0,4.0,1.0,1.0,5.0,5.0,2.0,0.0,7.0,0.0,0.0,2.0,4.0,4.0,2.0,2.0,4.0,1.0,3.0,7.0,7.0,1.0,2.0,2.0,4.0,1.0,0.0,2.0,1.0,3.0,1.0,1.0,6.0,7.0,2.0,7.0,0.0,3.0,1.0,7.0,0.0,3.0,3.0,4.0,3.0,1.0,3.0,3.0,5.0,7.0,1.0,0.0,0.0,2.0,5.0,4.0,0.0,3.0,6.0,2.0,3.0,2.0,5.0,1.0,1.0,0.0,5.0,5.0,2.0,4.0,2.0,0.0,3.0,5.0,2.0,1.0,3.0,3.0,1.0,3.0,3.0,0.0,1.0,2.0,1.0,1.0,0.0,3.0,5.0,1.0,7.0,0.0,2.0,4.0,6.0,2.0,3.0,0.0,5.0,4.0,1.0,6.0,2.0,0.0,7.0,2.0,0.0,7.0,6.0,0.0,5.0,7.0,2.0,1.0,2.0,1.0,7.0,1.0,4.0,5.0,2.0,3.0,0.0,0.0,1.0,0.0,7.0,0.0,5.0,1.0,3.0,2.0,3.0,3.0,1.0,1.0,4.0,4.0,0.0,2.0,1.0,2.0,3.0,2.0,3.0,0.0,2.0,2.0,0.0,7.0,1.0,2.0,1.0,1.0,3.0,7.0,7.0,0.0,0.0,7.0,3.0,4.0,3.0,2.0,2.0,1.0,2.0,1.0,1.0,1.0,7.0,0.0,3.0,0.0,2.0,1.0,6.0,3.0,7.0,0.0,3.0,1.0,0.0,1.0,6.0,1.0,2.0,1.0,7.0,5.0,1.0,3.0,5.0,5.0,1.0,2.0,3.0,2.0,1.0,3.0,0.0,2.0,3.0,3.0,7.0,1.0,1.0,3.0,3.0,3.0,4.0,1.0,6.0,4.0,1.0,1.0,2.0,3.0,7.0,1.0,7.0,3.0,2.0,3.0,7.0,1.0,3.0,1.0,4.0,6.0,3.0,2.0,1.0,3.0,0.0,1.0,2.0,3.0,1.0,4.0,2.0,2.0,1.0,2.0,3.0,1.0,6.0,4.0,3.0,1.0,3.0,3.0,0.0,1.0,2.0,2.0,2.0,3.0,1.0,7.0,7.0,2.0,1.0,2.0,0.0,2.0,1.0,1.0,2.0,5.0,2.0,7.0,3.0,2.0,3.0,4.0,2.0,3.0,1.0,4.0,3.0,3.0,2.0,0.0,1.0,2.0,1.0,3.0,3.0,4.0,2.0,1.0,3.0,5.0,1.0,3.0,7.0,2.0,0.0,2.0,0.0,3.0,5.0,2.0,1.0,3.0,1.0,2.0,2.0,2.0,1.0,7.0,2.0,1.0,2.0,3.0,3.0,4.0,2.0,2.0,2.0,0.0,0.0,2.0,3.0,0.0,1.0,2.0,1.0,3.0,7.0,2.0,6.0,3.0,3.0,0.0,3.0,0.0,1.0,1.0,5.0,1.0,5.0,3.0,0.0,2.0,2.0,5.0,4.0,1.0,2.0,4.0,2.0,0.0,3.0,1.0,1.0,3.0,5.0,1.0,1.0,7.0,1.0,null,null,null,null,null,null,null,null,null,null,null,null,null,null,null,null,null,null,null,null,null,null,null,null,null,null,null,null,null,null,null,null,null,null,null,null,null,null,null,null,null,null,null,null,null,null,null,null,null,null,null,null,null,null,null,null,null,null,null,null,null,null,null,null,null,null,null,null,null,null,null,null,null,null,null,null,null,null,null,null,null,null,null,null,null,2.0,4.0,1.0,1.0,6.0,2.0,1.0,3.0,0.0,7.0,2.0,4.0,6.0,1.0,2.0,0.0,2.0,1.0,6.0,3.0,3.0,1.0,3.0,2.0,2.0,2.0,6.0,2.0,1.0,2.0,0.0,1.0,0.0,1.0,7.0,4.0,1.0,2.0,2.0,7.0,1.0,1.0,2.0,3.0,3.0,3.0,2.0,4.0,4.0,7.0,6.0,2.0,1.0,5.0,4.0,6.0,0.0,3.0,7.0,4.0,2.0,7.0,4.0,1.0,0.0,0.0,2.0,4.0,3.0,3.0,3.0,1.0,1.0,7.0,3.0,7.0,1.0,0.0,7.0,2.0,6.0,7.0,4.0,7.0,3.0,5.0,3.0,4.0,2.0,7.0,0.0,4.0,3.0,3.0,1.0,3.0,3.0,2.0,4.0,3.0,6.0,3.0,1.0,5.0,7.0,7.0,2.0,5.0,5.0,4.0,0.0,3.0,7.0,7.0,3.0,1.0,5.0,3.0,4.0,7.0,2.0,7.0,0.0,3.0,3.0,3.0,7.0,1.0],\"y0\":\" \",\"yaxis\":\"y\",\"type\":\"box\"}],                        {\"template\":{\"data\":{\"bar\":[{\"error_x\":{\"color\":\"#2a3f5f\"},\"error_y\":{\"color\":\"#2a3f5f\"},\"marker\":{\"line\":{\"color\":\"#E5ECF6\",\"width\":0.5},\"pattern\":{\"fillmode\":\"overlay\",\"size\":10,\"solidity\":0.2}},\"type\":\"bar\"}],\"barpolar\":[{\"marker\":{\"line\":{\"color\":\"#E5ECF6\",\"width\":0.5},\"pattern\":{\"fillmode\":\"overlay\",\"size\":10,\"solidity\":0.2}},\"type\":\"barpolar\"}],\"carpet\":[{\"aaxis\":{\"endlinecolor\":\"#2a3f5f\",\"gridcolor\":\"white\",\"linecolor\":\"white\",\"minorgridcolor\":\"white\",\"startlinecolor\":\"#2a3f5f\"},\"baxis\":{\"endlinecolor\":\"#2a3f5f\",\"gridcolor\":\"white\",\"linecolor\":\"white\",\"minorgridcolor\":\"white\",\"startlinecolor\":\"#2a3f5f\"},\"type\":\"carpet\"}],\"choropleth\":[{\"colorbar\":{\"outlinewidth\":0,\"ticks\":\"\"},\"type\":\"choropleth\"}],\"contour\":[{\"colorbar\":{\"outlinewidth\":0,\"ticks\":\"\"},\"colorscale\":[[0.0,\"#0d0887\"],[0.1111111111111111,\"#46039f\"],[0.2222222222222222,\"#7201a8\"],[0.3333333333333333,\"#9c179e\"],[0.4444444444444444,\"#bd3786\"],[0.5555555555555556,\"#d8576b\"],[0.6666666666666666,\"#ed7953\"],[0.7777777777777778,\"#fb9f3a\"],[0.8888888888888888,\"#fdca26\"],[1.0,\"#f0f921\"]],\"type\":\"contour\"}],\"contourcarpet\":[{\"colorbar\":{\"outlinewidth\":0,\"ticks\":\"\"},\"type\":\"contourcarpet\"}],\"heatmap\":[{\"colorbar\":{\"outlinewidth\":0,\"ticks\":\"\"},\"colorscale\":[[0.0,\"#0d0887\"],[0.1111111111111111,\"#46039f\"],[0.2222222222222222,\"#7201a8\"],[0.3333333333333333,\"#9c179e\"],[0.4444444444444444,\"#bd3786\"],[0.5555555555555556,\"#d8576b\"],[0.6666666666666666,\"#ed7953\"],[0.7777777777777778,\"#fb9f3a\"],[0.8888888888888888,\"#fdca26\"],[1.0,\"#f0f921\"]],\"type\":\"heatmap\"}],\"heatmapgl\":[{\"colorbar\":{\"outlinewidth\":0,\"ticks\":\"\"},\"colorscale\":[[0.0,\"#0d0887\"],[0.1111111111111111,\"#46039f\"],[0.2222222222222222,\"#7201a8\"],[0.3333333333333333,\"#9c179e\"],[0.4444444444444444,\"#bd3786\"],[0.5555555555555556,\"#d8576b\"],[0.6666666666666666,\"#ed7953\"],[0.7777777777777778,\"#fb9f3a\"],[0.8888888888888888,\"#fdca26\"],[1.0,\"#f0f921\"]],\"type\":\"heatmapgl\"}],\"histogram\":[{\"marker\":{\"pattern\":{\"fillmode\":\"overlay\",\"size\":10,\"solidity\":0.2}},\"type\":\"histogram\"}],\"histogram2d\":[{\"colorbar\":{\"outlinewidth\":0,\"ticks\":\"\"},\"colorscale\":[[0.0,\"#0d0887\"],[0.1111111111111111,\"#46039f\"],[0.2222222222222222,\"#7201a8\"],[0.3333333333333333,\"#9c179e\"],[0.4444444444444444,\"#bd3786\"],[0.5555555555555556,\"#d8576b\"],[0.6666666666666666,\"#ed7953\"],[0.7777777777777778,\"#fb9f3a\"],[0.8888888888888888,\"#fdca26\"],[1.0,\"#f0f921\"]],\"type\":\"histogram2d\"}],\"histogram2dcontour\":[{\"colorbar\":{\"outlinewidth\":0,\"ticks\":\"\"},\"colorscale\":[[0.0,\"#0d0887\"],[0.1111111111111111,\"#46039f\"],[0.2222222222222222,\"#7201a8\"],[0.3333333333333333,\"#9c179e\"],[0.4444444444444444,\"#bd3786\"],[0.5555555555555556,\"#d8576b\"],[0.6666666666666666,\"#ed7953\"],[0.7777777777777778,\"#fb9f3a\"],[0.8888888888888888,\"#fdca26\"],[1.0,\"#f0f921\"]],\"type\":\"histogram2dcontour\"}],\"mesh3d\":[{\"colorbar\":{\"outlinewidth\":0,\"ticks\":\"\"},\"type\":\"mesh3d\"}],\"parcoords\":[{\"line\":{\"colorbar\":{\"outlinewidth\":0,\"ticks\":\"\"}},\"type\":\"parcoords\"}],\"pie\":[{\"automargin\":true,\"type\":\"pie\"}],\"scatter\":[{\"marker\":{\"colorbar\":{\"outlinewidth\":0,\"ticks\":\"\"}},\"type\":\"scatter\"}],\"scatter3d\":[{\"line\":{\"colorbar\":{\"outlinewidth\":0,\"ticks\":\"\"}},\"marker\":{\"colorbar\":{\"outlinewidth\":0,\"ticks\":\"\"}},\"type\":\"scatter3d\"}],\"scattercarpet\":[{\"marker\":{\"colorbar\":{\"outlinewidth\":0,\"ticks\":\"\"}},\"type\":\"scattercarpet\"}],\"scattergeo\":[{\"marker\":{\"colorbar\":{\"outlinewidth\":0,\"ticks\":\"\"}},\"type\":\"scattergeo\"}],\"scattergl\":[{\"marker\":{\"colorbar\":{\"outlinewidth\":0,\"ticks\":\"\"}},\"type\":\"scattergl\"}],\"scattermapbox\":[{\"marker\":{\"colorbar\":{\"outlinewidth\":0,\"ticks\":\"\"}},\"type\":\"scattermapbox\"}],\"scatterpolar\":[{\"marker\":{\"colorbar\":{\"outlinewidth\":0,\"ticks\":\"\"}},\"type\":\"scatterpolar\"}],\"scatterpolargl\":[{\"marker\":{\"colorbar\":{\"outlinewidth\":0,\"ticks\":\"\"}},\"type\":\"scatterpolargl\"}],\"scatterternary\":[{\"marker\":{\"colorbar\":{\"outlinewidth\":0,\"ticks\":\"\"}},\"type\":\"scatterternary\"}],\"surface\":[{\"colorbar\":{\"outlinewidth\":0,\"ticks\":\"\"},\"colorscale\":[[0.0,\"#0d0887\"],[0.1111111111111111,\"#46039f\"],[0.2222222222222222,\"#7201a8\"],[0.3333333333333333,\"#9c179e\"],[0.4444444444444444,\"#bd3786\"],[0.5555555555555556,\"#d8576b\"],[0.6666666666666666,\"#ed7953\"],[0.7777777777777778,\"#fb9f3a\"],[0.8888888888888888,\"#fdca26\"],[1.0,\"#f0f921\"]],\"type\":\"surface\"}],\"table\":[{\"cells\":{\"fill\":{\"color\":\"#EBF0F8\"},\"line\":{\"color\":\"white\"}},\"header\":{\"fill\":{\"color\":\"#C8D4E3\"},\"line\":{\"color\":\"white\"}},\"type\":\"table\"}]},\"layout\":{\"annotationdefaults\":{\"arrowcolor\":\"#2a3f5f\",\"arrowhead\":0,\"arrowwidth\":1},\"autotypenumbers\":\"strict\",\"coloraxis\":{\"colorbar\":{\"outlinewidth\":0,\"ticks\":\"\"}},\"colorscale\":{\"diverging\":[[0,\"#8e0152\"],[0.1,\"#c51b7d\"],[0.2,\"#de77ae\"],[0.3,\"#f1b6da\"],[0.4,\"#fde0ef\"],[0.5,\"#f7f7f7\"],[0.6,\"#e6f5d0\"],[0.7,\"#b8e186\"],[0.8,\"#7fbc41\"],[0.9,\"#4d9221\"],[1,\"#276419\"]],\"sequential\":[[0.0,\"#0d0887\"],[0.1111111111111111,\"#46039f\"],[0.2222222222222222,\"#7201a8\"],[0.3333333333333333,\"#9c179e\"],[0.4444444444444444,\"#bd3786\"],[0.5555555555555556,\"#d8576b\"],[0.6666666666666666,\"#ed7953\"],[0.7777777777777778,\"#fb9f3a\"],[0.8888888888888888,\"#fdca26\"],[1.0,\"#f0f921\"]],\"sequentialminus\":[[0.0,\"#0d0887\"],[0.1111111111111111,\"#46039f\"],[0.2222222222222222,\"#7201a8\"],[0.3333333333333333,\"#9c179e\"],[0.4444444444444444,\"#bd3786\"],[0.5555555555555556,\"#d8576b\"],[0.6666666666666666,\"#ed7953\"],[0.7777777777777778,\"#fb9f3a\"],[0.8888888888888888,\"#fdca26\"],[1.0,\"#f0f921\"]]},\"colorway\":[\"#636efa\",\"#EF553B\",\"#00cc96\",\"#ab63fa\",\"#FFA15A\",\"#19d3f3\",\"#FF6692\",\"#B6E880\",\"#FF97FF\",\"#FECB52\"],\"font\":{\"color\":\"#2a3f5f\"},\"geo\":{\"bgcolor\":\"white\",\"lakecolor\":\"white\",\"landcolor\":\"#E5ECF6\",\"showlakes\":true,\"showland\":true,\"subunitcolor\":\"white\"},\"hoverlabel\":{\"align\":\"left\"},\"hovermode\":\"closest\",\"mapbox\":{\"style\":\"light\"},\"paper_bgcolor\":\"white\",\"plot_bgcolor\":\"#E5ECF6\",\"polar\":{\"angularaxis\":{\"gridcolor\":\"white\",\"linecolor\":\"white\",\"ticks\":\"\"},\"bgcolor\":\"#E5ECF6\",\"radialaxis\":{\"gridcolor\":\"white\",\"linecolor\":\"white\",\"ticks\":\"\"}},\"scene\":{\"xaxis\":{\"backgroundcolor\":\"#E5ECF6\",\"gridcolor\":\"white\",\"gridwidth\":2,\"linecolor\":\"white\",\"showbackground\":true,\"ticks\":\"\",\"zerolinecolor\":\"white\"},\"yaxis\":{\"backgroundcolor\":\"#E5ECF6\",\"gridcolor\":\"white\",\"gridwidth\":2,\"linecolor\":\"white\",\"showbackground\":true,\"ticks\":\"\",\"zerolinecolor\":\"white\"},\"zaxis\":{\"backgroundcolor\":\"#E5ECF6\",\"gridcolor\":\"white\",\"gridwidth\":2,\"linecolor\":\"white\",\"showbackground\":true,\"ticks\":\"\",\"zerolinecolor\":\"white\"}},\"shapedefaults\":{\"line\":{\"color\":\"#2a3f5f\"}},\"ternary\":{\"aaxis\":{\"gridcolor\":\"white\",\"linecolor\":\"white\",\"ticks\":\"\"},\"baxis\":{\"gridcolor\":\"white\",\"linecolor\":\"white\",\"ticks\":\"\"},\"bgcolor\":\"#E5ECF6\",\"caxis\":{\"gridcolor\":\"white\",\"linecolor\":\"white\",\"ticks\":\"\"}},\"title\":{\"x\":0.05},\"xaxis\":{\"automargin\":true,\"gridcolor\":\"white\",\"linecolor\":\"white\",\"ticks\":\"\",\"title\":{\"standoff\":15},\"zerolinecolor\":\"white\",\"zerolinewidth\":2},\"yaxis\":{\"automargin\":true,\"gridcolor\":\"white\",\"linecolor\":\"white\",\"ticks\":\"\",\"title\":{\"standoff\":15},\"zerolinecolor\":\"white\",\"zerolinewidth\":2}}},\"xaxis\":{\"anchor\":\"y\",\"domain\":[0.0,1.0],\"title\":{\"text\":\"variable\"}},\"yaxis\":{\"anchor\":\"x\",\"domain\":[0.0,1.0],\"title\":{\"text\":\"value\"}},\"legend\":{\"tracegroupgap\":0},\"margin\":{\"t\":60},\"boxmode\":\"group\"},                        {\"responsive\": true}                    ).then(function(){\n",
              "                            \n",
              "var gd = document.getElementById('f36f6a17-f420-4a75-abc6-84036f9c120a');\n",
              "var x = new MutationObserver(function (mutations, observer) {{\n",
              "        var display = window.getComputedStyle(gd).display;\n",
              "        if (!display || display === 'none') {{\n",
              "            console.log([gd, 'removed!']);\n",
              "            Plotly.purge(gd);\n",
              "            observer.disconnect();\n",
              "        }}\n",
              "}});\n",
              "\n",
              "// Listen for the removal of the full notebook cells\n",
              "var notebookContainer = gd.closest('#notebook-container');\n",
              "if (notebookContainer) {{\n",
              "    x.observe(notebookContainer, {childList: true});\n",
              "}}\n",
              "\n",
              "// Listen for the clearing of the current output cell\n",
              "var outputEl = gd.closest('.output');\n",
              "if (outputEl) {{\n",
              "    x.observe(outputEl, {childList: true});\n",
              "}}\n",
              "\n",
              "                        })                };                            </script>        </div>\n",
              "</body>\n",
              "</html>"
            ]
          },
          "metadata": {}
        }
      ]
    },
    {
      "cell_type": "code",
      "source": [
        "dataframe['hs_analytics_num_visits'] = dataframe['hs_analytics_num_visits'].replace(np.nan, mean)"
      ],
      "metadata": {
        "id": "jQRKjZknFsP5"
      },
      "execution_count": null,
      "outputs": []
    },
    {
      "cell_type": "code",
      "source": [
        "dataframe['hs_analytics_num_visits'].isnull().sum()"
      ],
      "metadata": {
        "colab": {
          "base_uri": "https://localhost:8080/"
        },
        "id": "JGkNTsxcFopD",
        "outputId": "5b1ab790-7b14-4686-9e4b-7d7d7cc38996"
      },
      "execution_count": null,
      "outputs": [
        {
          "output_type": "execute_result",
          "data": {
            "text/plain": [
              "0"
            ]
          },
          "metadata": {},
          "execution_count": 1495
        }
      ]
    },
    {
      "cell_type": "markdown",
      "source": [
        "## hs analytics revenue"
      ],
      "metadata": {
        "id": "8bEBBtB7GD06"
      }
    },
    {
      "cell_type": "code",
      "source": [
        "dataframe['hs_analytics_revenue'].describe()"
      ],
      "metadata": {
        "colab": {
          "base_uri": "https://localhost:8080/"
        },
        "id": "10CF7yB1F7Lg",
        "outputId": "f4cac9f4-9c90-4c58-8007-9e2dda0a88ef"
      },
      "execution_count": null,
      "outputs": [
        {
          "output_type": "execute_result",
          "data": {
            "text/plain": [
              "count    1262.0\n",
              "mean        0.0\n",
              "std         0.0\n",
              "min         0.0\n",
              "25%         0.0\n",
              "50%         0.0\n",
              "75%         0.0\n",
              "max         0.0\n",
              "Name: hs_analytics_revenue, dtype: float64"
            ]
          },
          "metadata": {},
          "execution_count": 1496
        }
      ]
    },
    {
      "cell_type": "code",
      "source": [
        "dataframe['hs_analytics_num_visits'].isnull().sum()"
      ],
      "metadata": {
        "colab": {
          "base_uri": "https://localhost:8080/"
        },
        "id": "hhn26jRbGORS",
        "outputId": "c0d2547a-2cc4-4931-b60d-9c2b73b5ad58"
      },
      "execution_count": null,
      "outputs": [
        {
          "output_type": "execute_result",
          "data": {
            "text/plain": [
              "0"
            ]
          },
          "metadata": {},
          "execution_count": 1497
        }
      ]
    },
    {
      "cell_type": "markdown",
      "source": [
        "## hs analytics source"
      ],
      "metadata": {
        "id": "nxhzIjQGHCXq"
      }
    },
    {
      "cell_type": "code",
      "source": [
        "dataframe['hs_analytics_source'].describe()"
      ],
      "metadata": {
        "colab": {
          "base_uri": "https://localhost:8080/"
        },
        "id": "qwEjDrmIGu7y",
        "outputId": "9909588c-57b7-4b59-f18c-bd10fe8e8699"
      },
      "execution_count": null,
      "outputs": [
        {
          "output_type": "execute_result",
          "data": {
            "text/plain": [
              "count            1262\n",
              "unique              8\n",
              "top       PAID_SOCIAL\n",
              "freq              869\n",
              "Name: hs_analytics_source, dtype: object"
            ]
          },
          "metadata": {},
          "execution_count": 1498
        }
      ]
    },
    {
      "cell_type": "code",
      "source": [
        "dataframe['hs_analytics_source'].isnull().sum()"
      ],
      "metadata": {
        "colab": {
          "base_uri": "https://localhost:8080/"
        },
        "id": "0wS7uVZ0HRPl",
        "outputId": "0b85ffbe-87f4-4b7c-cf3d-0a28a8280652"
      },
      "execution_count": null,
      "outputs": [
        {
          "output_type": "execute_result",
          "data": {
            "text/plain": [
              "85"
            ]
          },
          "metadata": {},
          "execution_count": 1499
        }
      ]
    },
    {
      "cell_type": "code",
      "source": [
        "value = dataframe['hs_analytics_source'].value_counts()"
      ],
      "metadata": {
        "id": "CZOYYZLiHlUu"
      },
      "execution_count": null,
      "outputs": []
    },
    {
      "cell_type": "code",
      "source": [
        "fig = px.bar(value)\n",
        "fig.show()"
      ],
      "metadata": {
        "colab": {
          "base_uri": "https://localhost:8080/",
          "height": 542
        },
        "id": "u6JUEuzqHvMD",
        "outputId": "bb7b3f28-869c-428c-e30c-897351ddbf10"
      },
      "execution_count": null,
      "outputs": [
        {
          "output_type": "display_data",
          "data": {
            "text/html": [
              "<html>\n",
              "<head><meta charset=\"utf-8\" /></head>\n",
              "<body>\n",
              "    <div>            <script src=\"https://cdnjs.cloudflare.com/ajax/libs/mathjax/2.7.5/MathJax.js?config=TeX-AMS-MML_SVG\"></script><script type=\"text/javascript\">if (window.MathJax) {MathJax.Hub.Config({SVG: {font: \"STIX-Web\"}});}</script>                <script type=\"text/javascript\">window.PlotlyConfig = {MathJaxConfig: 'local'};</script>\n",
              "        <script src=\"https://cdn.plot.ly/plotly-2.8.3.min.js\"></script>                <div id=\"794dabd8-90d0-4dda-8ce3-befc388d35eb\" class=\"plotly-graph-div\" style=\"height:525px; width:100%;\"></div>            <script type=\"text/javascript\">                                    window.PLOTLYENV=window.PLOTLYENV || {};                                    if (document.getElementById(\"794dabd8-90d0-4dda-8ce3-befc388d35eb\")) {                    Plotly.newPlot(                        \"794dabd8-90d0-4dda-8ce3-befc388d35eb\",                        [{\"alignmentgroup\":\"True\",\"hovertemplate\":\"variable=hs_analytics_source<br>index=%{x}<br>value=%{y}<extra></extra>\",\"legendgroup\":\"hs_analytics_source\",\"marker\":{\"color\":\"#636efa\",\"pattern\":{\"shape\":\"\"}},\"name\":\"hs_analytics_source\",\"offsetgroup\":\"hs_analytics_source\",\"orientation\":\"v\",\"showlegend\":true,\"textposition\":\"auto\",\"x\":[\"PAID_SOCIAL\",\"OFFLINE\",\"DIRECT_TRAFFIC\",\"SOCIAL_MEDIA\",\"REFERRALS\",\"PAID_SEARCH\",\"EMAIL_MARKETING\",\"ORGANIC_SEARCH\"],\"xaxis\":\"x\",\"y\":[869,332,25,12,11,9,3,1],\"yaxis\":\"y\",\"type\":\"bar\"}],                        {\"template\":{\"data\":{\"bar\":[{\"error_x\":{\"color\":\"#2a3f5f\"},\"error_y\":{\"color\":\"#2a3f5f\"},\"marker\":{\"line\":{\"color\":\"#E5ECF6\",\"width\":0.5},\"pattern\":{\"fillmode\":\"overlay\",\"size\":10,\"solidity\":0.2}},\"type\":\"bar\"}],\"barpolar\":[{\"marker\":{\"line\":{\"color\":\"#E5ECF6\",\"width\":0.5},\"pattern\":{\"fillmode\":\"overlay\",\"size\":10,\"solidity\":0.2}},\"type\":\"barpolar\"}],\"carpet\":[{\"aaxis\":{\"endlinecolor\":\"#2a3f5f\",\"gridcolor\":\"white\",\"linecolor\":\"white\",\"minorgridcolor\":\"white\",\"startlinecolor\":\"#2a3f5f\"},\"baxis\":{\"endlinecolor\":\"#2a3f5f\",\"gridcolor\":\"white\",\"linecolor\":\"white\",\"minorgridcolor\":\"white\",\"startlinecolor\":\"#2a3f5f\"},\"type\":\"carpet\"}],\"choropleth\":[{\"colorbar\":{\"outlinewidth\":0,\"ticks\":\"\"},\"type\":\"choropleth\"}],\"contour\":[{\"colorbar\":{\"outlinewidth\":0,\"ticks\":\"\"},\"colorscale\":[[0.0,\"#0d0887\"],[0.1111111111111111,\"#46039f\"],[0.2222222222222222,\"#7201a8\"],[0.3333333333333333,\"#9c179e\"],[0.4444444444444444,\"#bd3786\"],[0.5555555555555556,\"#d8576b\"],[0.6666666666666666,\"#ed7953\"],[0.7777777777777778,\"#fb9f3a\"],[0.8888888888888888,\"#fdca26\"],[1.0,\"#f0f921\"]],\"type\":\"contour\"}],\"contourcarpet\":[{\"colorbar\":{\"outlinewidth\":0,\"ticks\":\"\"},\"type\":\"contourcarpet\"}],\"heatmap\":[{\"colorbar\":{\"outlinewidth\":0,\"ticks\":\"\"},\"colorscale\":[[0.0,\"#0d0887\"],[0.1111111111111111,\"#46039f\"],[0.2222222222222222,\"#7201a8\"],[0.3333333333333333,\"#9c179e\"],[0.4444444444444444,\"#bd3786\"],[0.5555555555555556,\"#d8576b\"],[0.6666666666666666,\"#ed7953\"],[0.7777777777777778,\"#fb9f3a\"],[0.8888888888888888,\"#fdca26\"],[1.0,\"#f0f921\"]],\"type\":\"heatmap\"}],\"heatmapgl\":[{\"colorbar\":{\"outlinewidth\":0,\"ticks\":\"\"},\"colorscale\":[[0.0,\"#0d0887\"],[0.1111111111111111,\"#46039f\"],[0.2222222222222222,\"#7201a8\"],[0.3333333333333333,\"#9c179e\"],[0.4444444444444444,\"#bd3786\"],[0.5555555555555556,\"#d8576b\"],[0.6666666666666666,\"#ed7953\"],[0.7777777777777778,\"#fb9f3a\"],[0.8888888888888888,\"#fdca26\"],[1.0,\"#f0f921\"]],\"type\":\"heatmapgl\"}],\"histogram\":[{\"marker\":{\"pattern\":{\"fillmode\":\"overlay\",\"size\":10,\"solidity\":0.2}},\"type\":\"histogram\"}],\"histogram2d\":[{\"colorbar\":{\"outlinewidth\":0,\"ticks\":\"\"},\"colorscale\":[[0.0,\"#0d0887\"],[0.1111111111111111,\"#46039f\"],[0.2222222222222222,\"#7201a8\"],[0.3333333333333333,\"#9c179e\"],[0.4444444444444444,\"#bd3786\"],[0.5555555555555556,\"#d8576b\"],[0.6666666666666666,\"#ed7953\"],[0.7777777777777778,\"#fb9f3a\"],[0.8888888888888888,\"#fdca26\"],[1.0,\"#f0f921\"]],\"type\":\"histogram2d\"}],\"histogram2dcontour\":[{\"colorbar\":{\"outlinewidth\":0,\"ticks\":\"\"},\"colorscale\":[[0.0,\"#0d0887\"],[0.1111111111111111,\"#46039f\"],[0.2222222222222222,\"#7201a8\"],[0.3333333333333333,\"#9c179e\"],[0.4444444444444444,\"#bd3786\"],[0.5555555555555556,\"#d8576b\"],[0.6666666666666666,\"#ed7953\"],[0.7777777777777778,\"#fb9f3a\"],[0.8888888888888888,\"#fdca26\"],[1.0,\"#f0f921\"]],\"type\":\"histogram2dcontour\"}],\"mesh3d\":[{\"colorbar\":{\"outlinewidth\":0,\"ticks\":\"\"},\"type\":\"mesh3d\"}],\"parcoords\":[{\"line\":{\"colorbar\":{\"outlinewidth\":0,\"ticks\":\"\"}},\"type\":\"parcoords\"}],\"pie\":[{\"automargin\":true,\"type\":\"pie\"}],\"scatter\":[{\"marker\":{\"colorbar\":{\"outlinewidth\":0,\"ticks\":\"\"}},\"type\":\"scatter\"}],\"scatter3d\":[{\"line\":{\"colorbar\":{\"outlinewidth\":0,\"ticks\":\"\"}},\"marker\":{\"colorbar\":{\"outlinewidth\":0,\"ticks\":\"\"}},\"type\":\"scatter3d\"}],\"scattercarpet\":[{\"marker\":{\"colorbar\":{\"outlinewidth\":0,\"ticks\":\"\"}},\"type\":\"scattercarpet\"}],\"scattergeo\":[{\"marker\":{\"colorbar\":{\"outlinewidth\":0,\"ticks\":\"\"}},\"type\":\"scattergeo\"}],\"scattergl\":[{\"marker\":{\"colorbar\":{\"outlinewidth\":0,\"ticks\":\"\"}},\"type\":\"scattergl\"}],\"scattermapbox\":[{\"marker\":{\"colorbar\":{\"outlinewidth\":0,\"ticks\":\"\"}},\"type\":\"scattermapbox\"}],\"scatterpolar\":[{\"marker\":{\"colorbar\":{\"outlinewidth\":0,\"ticks\":\"\"}},\"type\":\"scatterpolar\"}],\"scatterpolargl\":[{\"marker\":{\"colorbar\":{\"outlinewidth\":0,\"ticks\":\"\"}},\"type\":\"scatterpolargl\"}],\"scatterternary\":[{\"marker\":{\"colorbar\":{\"outlinewidth\":0,\"ticks\":\"\"}},\"type\":\"scatterternary\"}],\"surface\":[{\"colorbar\":{\"outlinewidth\":0,\"ticks\":\"\"},\"colorscale\":[[0.0,\"#0d0887\"],[0.1111111111111111,\"#46039f\"],[0.2222222222222222,\"#7201a8\"],[0.3333333333333333,\"#9c179e\"],[0.4444444444444444,\"#bd3786\"],[0.5555555555555556,\"#d8576b\"],[0.6666666666666666,\"#ed7953\"],[0.7777777777777778,\"#fb9f3a\"],[0.8888888888888888,\"#fdca26\"],[1.0,\"#f0f921\"]],\"type\":\"surface\"}],\"table\":[{\"cells\":{\"fill\":{\"color\":\"#EBF0F8\"},\"line\":{\"color\":\"white\"}},\"header\":{\"fill\":{\"color\":\"#C8D4E3\"},\"line\":{\"color\":\"white\"}},\"type\":\"table\"}]},\"layout\":{\"annotationdefaults\":{\"arrowcolor\":\"#2a3f5f\",\"arrowhead\":0,\"arrowwidth\":1},\"autotypenumbers\":\"strict\",\"coloraxis\":{\"colorbar\":{\"outlinewidth\":0,\"ticks\":\"\"}},\"colorscale\":{\"diverging\":[[0,\"#8e0152\"],[0.1,\"#c51b7d\"],[0.2,\"#de77ae\"],[0.3,\"#f1b6da\"],[0.4,\"#fde0ef\"],[0.5,\"#f7f7f7\"],[0.6,\"#e6f5d0\"],[0.7,\"#b8e186\"],[0.8,\"#7fbc41\"],[0.9,\"#4d9221\"],[1,\"#276419\"]],\"sequential\":[[0.0,\"#0d0887\"],[0.1111111111111111,\"#46039f\"],[0.2222222222222222,\"#7201a8\"],[0.3333333333333333,\"#9c179e\"],[0.4444444444444444,\"#bd3786\"],[0.5555555555555556,\"#d8576b\"],[0.6666666666666666,\"#ed7953\"],[0.7777777777777778,\"#fb9f3a\"],[0.8888888888888888,\"#fdca26\"],[1.0,\"#f0f921\"]],\"sequentialminus\":[[0.0,\"#0d0887\"],[0.1111111111111111,\"#46039f\"],[0.2222222222222222,\"#7201a8\"],[0.3333333333333333,\"#9c179e\"],[0.4444444444444444,\"#bd3786\"],[0.5555555555555556,\"#d8576b\"],[0.6666666666666666,\"#ed7953\"],[0.7777777777777778,\"#fb9f3a\"],[0.8888888888888888,\"#fdca26\"],[1.0,\"#f0f921\"]]},\"colorway\":[\"#636efa\",\"#EF553B\",\"#00cc96\",\"#ab63fa\",\"#FFA15A\",\"#19d3f3\",\"#FF6692\",\"#B6E880\",\"#FF97FF\",\"#FECB52\"],\"font\":{\"color\":\"#2a3f5f\"},\"geo\":{\"bgcolor\":\"white\",\"lakecolor\":\"white\",\"landcolor\":\"#E5ECF6\",\"showlakes\":true,\"showland\":true,\"subunitcolor\":\"white\"},\"hoverlabel\":{\"align\":\"left\"},\"hovermode\":\"closest\",\"mapbox\":{\"style\":\"light\"},\"paper_bgcolor\":\"white\",\"plot_bgcolor\":\"#E5ECF6\",\"polar\":{\"angularaxis\":{\"gridcolor\":\"white\",\"linecolor\":\"white\",\"ticks\":\"\"},\"bgcolor\":\"#E5ECF6\",\"radialaxis\":{\"gridcolor\":\"white\",\"linecolor\":\"white\",\"ticks\":\"\"}},\"scene\":{\"xaxis\":{\"backgroundcolor\":\"#E5ECF6\",\"gridcolor\":\"white\",\"gridwidth\":2,\"linecolor\":\"white\",\"showbackground\":true,\"ticks\":\"\",\"zerolinecolor\":\"white\"},\"yaxis\":{\"backgroundcolor\":\"#E5ECF6\",\"gridcolor\":\"white\",\"gridwidth\":2,\"linecolor\":\"white\",\"showbackground\":true,\"ticks\":\"\",\"zerolinecolor\":\"white\"},\"zaxis\":{\"backgroundcolor\":\"#E5ECF6\",\"gridcolor\":\"white\",\"gridwidth\":2,\"linecolor\":\"white\",\"showbackground\":true,\"ticks\":\"\",\"zerolinecolor\":\"white\"}},\"shapedefaults\":{\"line\":{\"color\":\"#2a3f5f\"}},\"ternary\":{\"aaxis\":{\"gridcolor\":\"white\",\"linecolor\":\"white\",\"ticks\":\"\"},\"baxis\":{\"gridcolor\":\"white\",\"linecolor\":\"white\",\"ticks\":\"\"},\"bgcolor\":\"#E5ECF6\",\"caxis\":{\"gridcolor\":\"white\",\"linecolor\":\"white\",\"ticks\":\"\"}},\"title\":{\"x\":0.05},\"xaxis\":{\"automargin\":true,\"gridcolor\":\"white\",\"linecolor\":\"white\",\"ticks\":\"\",\"title\":{\"standoff\":15},\"zerolinecolor\":\"white\",\"zerolinewidth\":2},\"yaxis\":{\"automargin\":true,\"gridcolor\":\"white\",\"linecolor\":\"white\",\"ticks\":\"\",\"title\":{\"standoff\":15},\"zerolinecolor\":\"white\",\"zerolinewidth\":2}}},\"xaxis\":{\"anchor\":\"y\",\"domain\":[0.0,1.0],\"title\":{\"text\":\"index\"}},\"yaxis\":{\"anchor\":\"x\",\"domain\":[0.0,1.0],\"title\":{\"text\":\"value\"}},\"legend\":{\"title\":{\"text\":\"variable\"},\"tracegroupgap\":0},\"margin\":{\"t\":60},\"barmode\":\"relative\"},                        {\"responsive\": true}                    ).then(function(){\n",
              "                            \n",
              "var gd = document.getElementById('794dabd8-90d0-4dda-8ce3-befc388d35eb');\n",
              "var x = new MutationObserver(function (mutations, observer) {{\n",
              "        var display = window.getComputedStyle(gd).display;\n",
              "        if (!display || display === 'none') {{\n",
              "            console.log([gd, 'removed!']);\n",
              "            Plotly.purge(gd);\n",
              "            observer.disconnect();\n",
              "        }}\n",
              "}});\n",
              "\n",
              "// Listen for the removal of the full notebook cells\n",
              "var notebookContainer = gd.closest('#notebook-container');\n",
              "if (notebookContainer) {{\n",
              "    x.observe(notebookContainer, {childList: true});\n",
              "}}\n",
              "\n",
              "// Listen for the clearing of the current output cell\n",
              "var outputEl = gd.closest('.output');\n",
              "if (outputEl) {{\n",
              "    x.observe(outputEl, {childList: true});\n",
              "}}\n",
              "\n",
              "                        })                };                            </script>        </div>\n",
              "</body>\n",
              "</html>"
            ]
          },
          "metadata": {}
        }
      ]
    },
    {
      "cell_type": "code",
      "source": [
        "dataframe['hs_analytics_source'] = dataframe['hs_analytics_source'].replace(np.nan, 'PAID_SOCIAL')"
      ],
      "metadata": {
        "id": "GUUWQtzhH1oO"
      },
      "execution_count": null,
      "outputs": []
    },
    {
      "cell_type": "code",
      "source": [
        "dataframe['hs_analytics_source'].isnull().sum()"
      ],
      "metadata": {
        "colab": {
          "base_uri": "https://localhost:8080/"
        },
        "id": "G0yTAkrXIFfa",
        "outputId": "445a7427-4309-44d6-e24f-641c299fd8ca"
      },
      "execution_count": null,
      "outputs": [
        {
          "output_type": "execute_result",
          "data": {
            "text/plain": [
              "0"
            ]
          },
          "metadata": {},
          "execution_count": 1503
        }
      ]
    },
    {
      "cell_type": "markdown",
      "source": [
        "## hs analytics source data 1"
      ],
      "metadata": {
        "id": "ZoRJDrDaJgaZ"
      }
    },
    {
      "cell_type": "code",
      "source": [
        "dataframe['hs_analytics_source_data_1'].describe()"
      ],
      "metadata": {
        "colab": {
          "base_uri": "https://localhost:8080/"
        },
        "id": "QsrDpVLoIHFS",
        "outputId": "8d4f06f0-42f9-4916-fd6f-12935b682663"
      },
      "execution_count": null,
      "outputs": [
        {
          "output_type": "execute_result",
          "data": {
            "text/plain": [
              "count         1262\n",
              "unique          24\n",
              "top       Facebook\n",
              "freq           878\n",
              "Name: hs_analytics_source_data_1, dtype: object"
            ]
          },
          "metadata": {},
          "execution_count": 1504
        }
      ]
    },
    {
      "cell_type": "code",
      "source": [
        "dataframe['hs_analytics_source_data_1'].isnull().sum()"
      ],
      "metadata": {
        "colab": {
          "base_uri": "https://localhost:8080/"
        },
        "id": "RfaVjariJb-z",
        "outputId": "eb8c7c9b-4fcb-4dd2-c098-3260a860b350"
      },
      "execution_count": null,
      "outputs": [
        {
          "output_type": "execute_result",
          "data": {
            "text/plain": [
              "85"
            ]
          },
          "metadata": {},
          "execution_count": 1505
        }
      ]
    },
    {
      "cell_type": "code",
      "source": [
        "value = dataframe['hs_analytics_source_data_1'].value_counts()"
      ],
      "metadata": {
        "id": "qcfWP2jsJvRS"
      },
      "execution_count": null,
      "outputs": []
    },
    {
      "cell_type": "code",
      "source": [
        "fig = px.bar(value)\n",
        "fig.show()"
      ],
      "metadata": {
        "colab": {
          "base_uri": "https://localhost:8080/",
          "height": 542
        },
        "id": "jgFLSotfJ5VF",
        "outputId": "d0fa160c-01d7-4756-c253-ae43b2ac489b"
      },
      "execution_count": null,
      "outputs": [
        {
          "output_type": "display_data",
          "data": {
            "text/html": [
              "<html>\n",
              "<head><meta charset=\"utf-8\" /></head>\n",
              "<body>\n",
              "    <div>            <script src=\"https://cdnjs.cloudflare.com/ajax/libs/mathjax/2.7.5/MathJax.js?config=TeX-AMS-MML_SVG\"></script><script type=\"text/javascript\">if (window.MathJax) {MathJax.Hub.Config({SVG: {font: \"STIX-Web\"}});}</script>                <script type=\"text/javascript\">window.PlotlyConfig = {MathJaxConfig: 'local'};</script>\n",
              "        <script src=\"https://cdn.plot.ly/plotly-2.8.3.min.js\"></script>                <div id=\"86eaca49-7f35-47fe-af9f-0d77cbdbaae8\" class=\"plotly-graph-div\" style=\"height:525px; width:100%;\"></div>            <script type=\"text/javascript\">                                    window.PLOTLYENV=window.PLOTLYENV || {};                                    if (document.getElementById(\"86eaca49-7f35-47fe-af9f-0d77cbdbaae8\")) {                    Plotly.newPlot(                        \"86eaca49-7f35-47fe-af9f-0d77cbdbaae8\",                        [{\"alignmentgroup\":\"True\",\"hovertemplate\":\"variable=hs_analytics_source_data_1<br>index=%{x}<br>value=%{y}<extra></extra>\",\"legendgroup\":\"hs_analytics_source_data_1\",\"marker\":{\"color\":\"#636efa\",\"pattern\":{\"shape\":\"\"}},\"name\":\"hs_analytics_source_data_1\",\"offsetgroup\":\"hs_analytics_source_data_1\",\"orientation\":\"v\",\"showlegend\":true,\"textposition\":\"auto\",\"x\":[\"Facebook\",\"INTEGRATION\",\"IMPORT\",\"help.pompaworkshop.com/products/pompa-program-consultation-thyroid\",\"watch.pompaworkshop.com\",\"watch.pompaworkshop.com/s/h0aayv\",\"EXTENSION\",\"18378237505\",\"SALES\",\"CRM_UI\",\"18182633457\",\"Instagram\",\"hs_automation\",\"youtube\",\"pompaprogram.samcart.com\",\"YouTube\",\"watch.pompaworkshop.com/a/ekkqgs\",\"help.pompaworkshop.com/products/pompa-program-consultation\",\"help.pompaworkshop.com/products/pompa-program-testing-consultation-sdr\",\"watch.pompaworkshop.com/s/ekkqgs\",\"pompaprogram.com/\",\"Unknown keywords (SSL)\",\"hs_email\",\"pompaprogram.com/meet-the-team\"],\"xaxis\":\"x\",\"y\":[878,230,90,11,10,8,6,5,3,3,2,2,2,2,1,1,1,1,1,1,1,1,1,1],\"yaxis\":\"y\",\"type\":\"bar\"}],                        {\"template\":{\"data\":{\"bar\":[{\"error_x\":{\"color\":\"#2a3f5f\"},\"error_y\":{\"color\":\"#2a3f5f\"},\"marker\":{\"line\":{\"color\":\"#E5ECF6\",\"width\":0.5},\"pattern\":{\"fillmode\":\"overlay\",\"size\":10,\"solidity\":0.2}},\"type\":\"bar\"}],\"barpolar\":[{\"marker\":{\"line\":{\"color\":\"#E5ECF6\",\"width\":0.5},\"pattern\":{\"fillmode\":\"overlay\",\"size\":10,\"solidity\":0.2}},\"type\":\"barpolar\"}],\"carpet\":[{\"aaxis\":{\"endlinecolor\":\"#2a3f5f\",\"gridcolor\":\"white\",\"linecolor\":\"white\",\"minorgridcolor\":\"white\",\"startlinecolor\":\"#2a3f5f\"},\"baxis\":{\"endlinecolor\":\"#2a3f5f\",\"gridcolor\":\"white\",\"linecolor\":\"white\",\"minorgridcolor\":\"white\",\"startlinecolor\":\"#2a3f5f\"},\"type\":\"carpet\"}],\"choropleth\":[{\"colorbar\":{\"outlinewidth\":0,\"ticks\":\"\"},\"type\":\"choropleth\"}],\"contour\":[{\"colorbar\":{\"outlinewidth\":0,\"ticks\":\"\"},\"colorscale\":[[0.0,\"#0d0887\"],[0.1111111111111111,\"#46039f\"],[0.2222222222222222,\"#7201a8\"],[0.3333333333333333,\"#9c179e\"],[0.4444444444444444,\"#bd3786\"],[0.5555555555555556,\"#d8576b\"],[0.6666666666666666,\"#ed7953\"],[0.7777777777777778,\"#fb9f3a\"],[0.8888888888888888,\"#fdca26\"],[1.0,\"#f0f921\"]],\"type\":\"contour\"}],\"contourcarpet\":[{\"colorbar\":{\"outlinewidth\":0,\"ticks\":\"\"},\"type\":\"contourcarpet\"}],\"heatmap\":[{\"colorbar\":{\"outlinewidth\":0,\"ticks\":\"\"},\"colorscale\":[[0.0,\"#0d0887\"],[0.1111111111111111,\"#46039f\"],[0.2222222222222222,\"#7201a8\"],[0.3333333333333333,\"#9c179e\"],[0.4444444444444444,\"#bd3786\"],[0.5555555555555556,\"#d8576b\"],[0.6666666666666666,\"#ed7953\"],[0.7777777777777778,\"#fb9f3a\"],[0.8888888888888888,\"#fdca26\"],[1.0,\"#f0f921\"]],\"type\":\"heatmap\"}],\"heatmapgl\":[{\"colorbar\":{\"outlinewidth\":0,\"ticks\":\"\"},\"colorscale\":[[0.0,\"#0d0887\"],[0.1111111111111111,\"#46039f\"],[0.2222222222222222,\"#7201a8\"],[0.3333333333333333,\"#9c179e\"],[0.4444444444444444,\"#bd3786\"],[0.5555555555555556,\"#d8576b\"],[0.6666666666666666,\"#ed7953\"],[0.7777777777777778,\"#fb9f3a\"],[0.8888888888888888,\"#fdca26\"],[1.0,\"#f0f921\"]],\"type\":\"heatmapgl\"}],\"histogram\":[{\"marker\":{\"pattern\":{\"fillmode\":\"overlay\",\"size\":10,\"solidity\":0.2}},\"type\":\"histogram\"}],\"histogram2d\":[{\"colorbar\":{\"outlinewidth\":0,\"ticks\":\"\"},\"colorscale\":[[0.0,\"#0d0887\"],[0.1111111111111111,\"#46039f\"],[0.2222222222222222,\"#7201a8\"],[0.3333333333333333,\"#9c179e\"],[0.4444444444444444,\"#bd3786\"],[0.5555555555555556,\"#d8576b\"],[0.6666666666666666,\"#ed7953\"],[0.7777777777777778,\"#fb9f3a\"],[0.8888888888888888,\"#fdca26\"],[1.0,\"#f0f921\"]],\"type\":\"histogram2d\"}],\"histogram2dcontour\":[{\"colorbar\":{\"outlinewidth\":0,\"ticks\":\"\"},\"colorscale\":[[0.0,\"#0d0887\"],[0.1111111111111111,\"#46039f\"],[0.2222222222222222,\"#7201a8\"],[0.3333333333333333,\"#9c179e\"],[0.4444444444444444,\"#bd3786\"],[0.5555555555555556,\"#d8576b\"],[0.6666666666666666,\"#ed7953\"],[0.7777777777777778,\"#fb9f3a\"],[0.8888888888888888,\"#fdca26\"],[1.0,\"#f0f921\"]],\"type\":\"histogram2dcontour\"}],\"mesh3d\":[{\"colorbar\":{\"outlinewidth\":0,\"ticks\":\"\"},\"type\":\"mesh3d\"}],\"parcoords\":[{\"line\":{\"colorbar\":{\"outlinewidth\":0,\"ticks\":\"\"}},\"type\":\"parcoords\"}],\"pie\":[{\"automargin\":true,\"type\":\"pie\"}],\"scatter\":[{\"marker\":{\"colorbar\":{\"outlinewidth\":0,\"ticks\":\"\"}},\"type\":\"scatter\"}],\"scatter3d\":[{\"line\":{\"colorbar\":{\"outlinewidth\":0,\"ticks\":\"\"}},\"marker\":{\"colorbar\":{\"outlinewidth\":0,\"ticks\":\"\"}},\"type\":\"scatter3d\"}],\"scattercarpet\":[{\"marker\":{\"colorbar\":{\"outlinewidth\":0,\"ticks\":\"\"}},\"type\":\"scattercarpet\"}],\"scattergeo\":[{\"marker\":{\"colorbar\":{\"outlinewidth\":0,\"ticks\":\"\"}},\"type\":\"scattergeo\"}],\"scattergl\":[{\"marker\":{\"colorbar\":{\"outlinewidth\":0,\"ticks\":\"\"}},\"type\":\"scattergl\"}],\"scattermapbox\":[{\"marker\":{\"colorbar\":{\"outlinewidth\":0,\"ticks\":\"\"}},\"type\":\"scattermapbox\"}],\"scatterpolar\":[{\"marker\":{\"colorbar\":{\"outlinewidth\":0,\"ticks\":\"\"}},\"type\":\"scatterpolar\"}],\"scatterpolargl\":[{\"marker\":{\"colorbar\":{\"outlinewidth\":0,\"ticks\":\"\"}},\"type\":\"scatterpolargl\"}],\"scatterternary\":[{\"marker\":{\"colorbar\":{\"outlinewidth\":0,\"ticks\":\"\"}},\"type\":\"scatterternary\"}],\"surface\":[{\"colorbar\":{\"outlinewidth\":0,\"ticks\":\"\"},\"colorscale\":[[0.0,\"#0d0887\"],[0.1111111111111111,\"#46039f\"],[0.2222222222222222,\"#7201a8\"],[0.3333333333333333,\"#9c179e\"],[0.4444444444444444,\"#bd3786\"],[0.5555555555555556,\"#d8576b\"],[0.6666666666666666,\"#ed7953\"],[0.7777777777777778,\"#fb9f3a\"],[0.8888888888888888,\"#fdca26\"],[1.0,\"#f0f921\"]],\"type\":\"surface\"}],\"table\":[{\"cells\":{\"fill\":{\"color\":\"#EBF0F8\"},\"line\":{\"color\":\"white\"}},\"header\":{\"fill\":{\"color\":\"#C8D4E3\"},\"line\":{\"color\":\"white\"}},\"type\":\"table\"}]},\"layout\":{\"annotationdefaults\":{\"arrowcolor\":\"#2a3f5f\",\"arrowhead\":0,\"arrowwidth\":1},\"autotypenumbers\":\"strict\",\"coloraxis\":{\"colorbar\":{\"outlinewidth\":0,\"ticks\":\"\"}},\"colorscale\":{\"diverging\":[[0,\"#8e0152\"],[0.1,\"#c51b7d\"],[0.2,\"#de77ae\"],[0.3,\"#f1b6da\"],[0.4,\"#fde0ef\"],[0.5,\"#f7f7f7\"],[0.6,\"#e6f5d0\"],[0.7,\"#b8e186\"],[0.8,\"#7fbc41\"],[0.9,\"#4d9221\"],[1,\"#276419\"]],\"sequential\":[[0.0,\"#0d0887\"],[0.1111111111111111,\"#46039f\"],[0.2222222222222222,\"#7201a8\"],[0.3333333333333333,\"#9c179e\"],[0.4444444444444444,\"#bd3786\"],[0.5555555555555556,\"#d8576b\"],[0.6666666666666666,\"#ed7953\"],[0.7777777777777778,\"#fb9f3a\"],[0.8888888888888888,\"#fdca26\"],[1.0,\"#f0f921\"]],\"sequentialminus\":[[0.0,\"#0d0887\"],[0.1111111111111111,\"#46039f\"],[0.2222222222222222,\"#7201a8\"],[0.3333333333333333,\"#9c179e\"],[0.4444444444444444,\"#bd3786\"],[0.5555555555555556,\"#d8576b\"],[0.6666666666666666,\"#ed7953\"],[0.7777777777777778,\"#fb9f3a\"],[0.8888888888888888,\"#fdca26\"],[1.0,\"#f0f921\"]]},\"colorway\":[\"#636efa\",\"#EF553B\",\"#00cc96\",\"#ab63fa\",\"#FFA15A\",\"#19d3f3\",\"#FF6692\",\"#B6E880\",\"#FF97FF\",\"#FECB52\"],\"font\":{\"color\":\"#2a3f5f\"},\"geo\":{\"bgcolor\":\"white\",\"lakecolor\":\"white\",\"landcolor\":\"#E5ECF6\",\"showlakes\":true,\"showland\":true,\"subunitcolor\":\"white\"},\"hoverlabel\":{\"align\":\"left\"},\"hovermode\":\"closest\",\"mapbox\":{\"style\":\"light\"},\"paper_bgcolor\":\"white\",\"plot_bgcolor\":\"#E5ECF6\",\"polar\":{\"angularaxis\":{\"gridcolor\":\"white\",\"linecolor\":\"white\",\"ticks\":\"\"},\"bgcolor\":\"#E5ECF6\",\"radialaxis\":{\"gridcolor\":\"white\",\"linecolor\":\"white\",\"ticks\":\"\"}},\"scene\":{\"xaxis\":{\"backgroundcolor\":\"#E5ECF6\",\"gridcolor\":\"white\",\"gridwidth\":2,\"linecolor\":\"white\",\"showbackground\":true,\"ticks\":\"\",\"zerolinecolor\":\"white\"},\"yaxis\":{\"backgroundcolor\":\"#E5ECF6\",\"gridcolor\":\"white\",\"gridwidth\":2,\"linecolor\":\"white\",\"showbackground\":true,\"ticks\":\"\",\"zerolinecolor\":\"white\"},\"zaxis\":{\"backgroundcolor\":\"#E5ECF6\",\"gridcolor\":\"white\",\"gridwidth\":2,\"linecolor\":\"white\",\"showbackground\":true,\"ticks\":\"\",\"zerolinecolor\":\"white\"}},\"shapedefaults\":{\"line\":{\"color\":\"#2a3f5f\"}},\"ternary\":{\"aaxis\":{\"gridcolor\":\"white\",\"linecolor\":\"white\",\"ticks\":\"\"},\"baxis\":{\"gridcolor\":\"white\",\"linecolor\":\"white\",\"ticks\":\"\"},\"bgcolor\":\"#E5ECF6\",\"caxis\":{\"gridcolor\":\"white\",\"linecolor\":\"white\",\"ticks\":\"\"}},\"title\":{\"x\":0.05},\"xaxis\":{\"automargin\":true,\"gridcolor\":\"white\",\"linecolor\":\"white\",\"ticks\":\"\",\"title\":{\"standoff\":15},\"zerolinecolor\":\"white\",\"zerolinewidth\":2},\"yaxis\":{\"automargin\":true,\"gridcolor\":\"white\",\"linecolor\":\"white\",\"ticks\":\"\",\"title\":{\"standoff\":15},\"zerolinecolor\":\"white\",\"zerolinewidth\":2}}},\"xaxis\":{\"anchor\":\"y\",\"domain\":[0.0,1.0],\"title\":{\"text\":\"index\"}},\"yaxis\":{\"anchor\":\"x\",\"domain\":[0.0,1.0],\"title\":{\"text\":\"value\"}},\"legend\":{\"title\":{\"text\":\"variable\"},\"tracegroupgap\":0},\"margin\":{\"t\":60},\"barmode\":\"relative\"},                        {\"responsive\": true}                    ).then(function(){\n",
              "                            \n",
              "var gd = document.getElementById('86eaca49-7f35-47fe-af9f-0d77cbdbaae8');\n",
              "var x = new MutationObserver(function (mutations, observer) {{\n",
              "        var display = window.getComputedStyle(gd).display;\n",
              "        if (!display || display === 'none') {{\n",
              "            console.log([gd, 'removed!']);\n",
              "            Plotly.purge(gd);\n",
              "            observer.disconnect();\n",
              "        }}\n",
              "}});\n",
              "\n",
              "// Listen for the removal of the full notebook cells\n",
              "var notebookContainer = gd.closest('#notebook-container');\n",
              "if (notebookContainer) {{\n",
              "    x.observe(notebookContainer, {childList: true});\n",
              "}}\n",
              "\n",
              "// Listen for the clearing of the current output cell\n",
              "var outputEl = gd.closest('.output');\n",
              "if (outputEl) {{\n",
              "    x.observe(outputEl, {childList: true});\n",
              "}}\n",
              "\n",
              "                        })                };                            </script>        </div>\n",
              "</body>\n",
              "</html>"
            ]
          },
          "metadata": {}
        }
      ]
    },
    {
      "cell_type": "code",
      "source": [
        "dataframe['hs_analytics_source_data_1'] = dataframe['hs_analytics_source_data_1'].replace(np.nan, 'Facebook')"
      ],
      "metadata": {
        "id": "5EXWkc5MJ-9L"
      },
      "execution_count": null,
      "outputs": []
    },
    {
      "cell_type": "code",
      "source": [
        "dataframe['hs_analytics_source_data_1'].isnull().sum()"
      ],
      "metadata": {
        "colab": {
          "base_uri": "https://localhost:8080/"
        },
        "id": "RGPn3ekJKGFv",
        "outputId": "d1b59039-fbbb-426e-a560-3faa012fd671"
      },
      "execution_count": null,
      "outputs": [
        {
          "output_type": "execute_result",
          "data": {
            "text/plain": [
              "0"
            ]
          },
          "metadata": {},
          "execution_count": 1509
        }
      ]
    },
    {
      "cell_type": "markdown",
      "source": [
        "## hs calculated phone number country code"
      ],
      "metadata": {
        "id": "wjuI5NwmKZck"
      }
    },
    {
      "cell_type": "code",
      "source": [
        "dataframe['hs_calculated_phone_number_country_code'].describe()"
      ],
      "metadata": {
        "colab": {
          "base_uri": "https://localhost:8080/"
        },
        "id": "FOLA27JGKHvD",
        "outputId": "091448b6-3d8b-4278-b287-7a284e3c48e8"
      },
      "execution_count": null,
      "outputs": [
        {
          "output_type": "execute_result",
          "data": {
            "text/plain": [
              "count     1182\n",
              "unique       5\n",
              "top         US\n",
              "freq      1178\n",
              "Name: hs_calculated_phone_number_country_code, dtype: object"
            ]
          },
          "metadata": {},
          "execution_count": 1510
        }
      ]
    },
    {
      "cell_type": "code",
      "source": [
        "dataframe['hs_calculated_phone_number_country_code'].isnull().sum()"
      ],
      "metadata": {
        "colab": {
          "base_uri": "https://localhost:8080/"
        },
        "id": "gSRC4HxpNYzF",
        "outputId": "ee43ceba-d406-467a-f4d9-3df72ad9bd78"
      },
      "execution_count": null,
      "outputs": [
        {
          "output_type": "execute_result",
          "data": {
            "text/plain": [
              "165"
            ]
          },
          "metadata": {},
          "execution_count": 1511
        }
      ]
    },
    {
      "cell_type": "code",
      "source": [
        "value = dataframe['hs_calculated_phone_number_country_code'].value_counts()"
      ],
      "metadata": {
        "id": "3d1RxkM2NvlD"
      },
      "execution_count": null,
      "outputs": []
    },
    {
      "cell_type": "code",
      "source": [
        "dataframe['hs_calculated_phone_number_country_code'] = dataframe['hs_calculated_phone_number_country_code'].replace(np.nan, 'US')"
      ],
      "metadata": {
        "id": "trUiGzAsN5Ql"
      },
      "execution_count": null,
      "outputs": []
    },
    {
      "cell_type": "code",
      "source": [
        "dataframe['hs_calculated_phone_number_country_code'].isnull().sum()"
      ],
      "metadata": {
        "colab": {
          "base_uri": "https://localhost:8080/"
        },
        "id": "bDMeq6oeOU7Y",
        "outputId": "d4d8187a-a2ea-4aec-84e2-2658bcc4abae"
      },
      "execution_count": null,
      "outputs": [
        {
          "output_type": "execute_result",
          "data": {
            "text/plain": [
              "0"
            ]
          },
          "metadata": {},
          "execution_count": 1514
        }
      ]
    },
    {
      "cell_type": "markdown",
      "source": [
        "##hs count is unworked"
      ],
      "metadata": {
        "id": "xWDpj7lePMPD"
      }
    },
    {
      "cell_type": "code",
      "source": [
        "dataframe['hs_count_is_unworked'].describe()"
      ],
      "metadata": {
        "colab": {
          "base_uri": "https://localhost:8080/"
        },
        "id": "91toBNT4OfHQ",
        "outputId": "c99e3c29-f1d1-48fa-c732-62432c7d0bfe"
      },
      "execution_count": null,
      "outputs": [
        {
          "output_type": "execute_result",
          "data": {
            "text/plain": [
              "count    1097.000000\n",
              "mean        0.113036\n",
              "std         0.316781\n",
              "min         0.000000\n",
              "25%         0.000000\n",
              "50%         0.000000\n",
              "75%         0.000000\n",
              "max         1.000000\n",
              "Name: hs_count_is_unworked, dtype: float64"
            ]
          },
          "metadata": {},
          "execution_count": 1515
        }
      ]
    },
    {
      "cell_type": "code",
      "source": [
        "dataframe['hs_count_is_unworked'].isnull().sum()"
      ],
      "metadata": {
        "colab": {
          "base_uri": "https://localhost:8080/"
        },
        "id": "b-FLU-DZO-KC",
        "outputId": "59c60d70-98ed-478c-fb7a-4cd5b3c6e965"
      },
      "execution_count": null,
      "outputs": [
        {
          "output_type": "execute_result",
          "data": {
            "text/plain": [
              "250"
            ]
          },
          "metadata": {},
          "execution_count": 1516
        }
      ]
    },
    {
      "cell_type": "code",
      "source": [
        "mean = data['hs_count_is_unworked'].mean()"
      ],
      "metadata": {
        "id": "pXGovICTPf1I"
      },
      "execution_count": null,
      "outputs": []
    },
    {
      "cell_type": "code",
      "source": [
        "dataframe['hs_count_is_unworked'] = dataframe['hs_count_is_unworked'].replace(np.nan, mean)"
      ],
      "metadata": {
        "id": "8GqWKPtaP285"
      },
      "execution_count": null,
      "outputs": []
    },
    {
      "cell_type": "code",
      "source": [
        "dataframe['hs_count_is_unworked'].isnull().sum()"
      ],
      "metadata": {
        "colab": {
          "base_uri": "https://localhost:8080/"
        },
        "id": "_EknYUQsQB-L",
        "outputId": "7790ff4d-b20f-45db-8822-7e02b0783471"
      },
      "execution_count": null,
      "outputs": [
        {
          "output_type": "execute_result",
          "data": {
            "text/plain": [
              "0"
            ]
          },
          "metadata": {},
          "execution_count": 1519
        }
      ]
    },
    {
      "cell_type": "markdown",
      "source": [
        "##hs count is worked"
      ],
      "metadata": {
        "id": "o1wusptFQTL6"
      }
    },
    {
      "cell_type": "code",
      "source": [
        "dataframe['hs_count_is_worked'].describe()"
      ],
      "metadata": {
        "colab": {
          "base_uri": "https://localhost:8080/"
        },
        "id": "DJzOGR4KQOnp",
        "outputId": "ab61f055-6d07-41d5-d538-04098a60e079"
      },
      "execution_count": null,
      "outputs": [
        {
          "output_type": "execute_result",
          "data": {
            "text/plain": [
              "count    1097.000000\n",
              "mean        0.886964\n",
              "std         0.316781\n",
              "min         0.000000\n",
              "25%         1.000000\n",
              "50%         1.000000\n",
              "75%         1.000000\n",
              "max         1.000000\n",
              "Name: hs_count_is_worked, dtype: float64"
            ]
          },
          "metadata": {},
          "execution_count": 1520
        }
      ]
    },
    {
      "cell_type": "code",
      "source": [
        "dataframe['hs_count_is_worked'].isnull().sum()"
      ],
      "metadata": {
        "colab": {
          "base_uri": "https://localhost:8080/"
        },
        "id": "3V92CTcZTD6H",
        "outputId": "dbbdc13a-17e0-4d5b-866d-de925d8a1320"
      },
      "execution_count": null,
      "outputs": [
        {
          "output_type": "execute_result",
          "data": {
            "text/plain": [
              "250"
            ]
          },
          "metadata": {},
          "execution_count": 1521
        }
      ]
    },
    {
      "cell_type": "code",
      "source": [
        "mean = data['hs_count_is_worked'].mean()"
      ],
      "metadata": {
        "id": "XuiLn8kMTN51"
      },
      "execution_count": null,
      "outputs": []
    },
    {
      "cell_type": "code",
      "source": [
        "dataframe['hs_count_is_worked'] = dataframe['hs_count_is_worked'].replace(np.nan, mean)"
      ],
      "metadata": {
        "id": "X2XrhD31TNxu"
      },
      "execution_count": null,
      "outputs": []
    },
    {
      "cell_type": "code",
      "source": [
        "dataframe['hs_count_is_unworked'].isnull().sum()"
      ],
      "metadata": {
        "colab": {
          "base_uri": "https://localhost:8080/"
        },
        "id": "jstomrP-TgZL",
        "outputId": "45d80a39-d750-4d2e-c212-280b2707c7b2"
      },
      "execution_count": null,
      "outputs": [
        {
          "output_type": "execute_result",
          "data": {
            "text/plain": [
              "0"
            ]
          },
          "metadata": {},
          "execution_count": 1524
        }
      ]
    },
    {
      "cell_type": "markdown",
      "source": [
        "##hs email delivered"
      ],
      "metadata": {
        "id": "wao0QqfNT8tk"
      }
    },
    {
      "cell_type": "code",
      "source": [
        "dataframe['hs_email_delivered'].describe()"
      ],
      "metadata": {
        "colab": {
          "base_uri": "https://localhost:8080/"
        },
        "id": "CCvCruE4Tkkd",
        "outputId": "ef0dbf7f-9344-4a35-c16b-061bfcf80352"
      },
      "execution_count": null,
      "outputs": [
        {
          "output_type": "execute_result",
          "data": {
            "text/plain": [
              "count    1131.000000\n",
              "mean        6.541114\n",
              "std         9.385775\n",
              "min         1.000000\n",
              "25%         2.000000\n",
              "50%         2.000000\n",
              "75%         9.000000\n",
              "max        86.000000\n",
              "Name: hs_email_delivered, dtype: float64"
            ]
          },
          "metadata": {},
          "execution_count": 1525
        }
      ]
    },
    {
      "cell_type": "code",
      "source": [
        "dataframe['hs_email_delivered'].isnull().sum()"
      ],
      "metadata": {
        "colab": {
          "base_uri": "https://localhost:8080/"
        },
        "id": "X9-g-7tBUDNW",
        "outputId": "84a097b9-22b3-41a8-f3bf-9564fba61d1d"
      },
      "execution_count": null,
      "outputs": [
        {
          "output_type": "execute_result",
          "data": {
            "text/plain": [
              "216"
            ]
          },
          "metadata": {},
          "execution_count": 1526
        }
      ]
    },
    {
      "cell_type": "code",
      "source": [
        "mean = data['hs_email_delivered'].mean()"
      ],
      "metadata": {
        "id": "vnuGGMWgUkV2"
      },
      "execution_count": null,
      "outputs": []
    },
    {
      "cell_type": "code",
      "source": [
        "dataframe['hs_email_delivered'] = dataframe['hs_email_delivered'].replace(np.nan, mean)"
      ],
      "metadata": {
        "id": "Ci7a3f1FUWJ9"
      },
      "execution_count": null,
      "outputs": []
    },
    {
      "cell_type": "code",
      "source": [
        "dataframe['hs_email_delivered'].isnull().sum()"
      ],
      "metadata": {
        "colab": {
          "base_uri": "https://localhost:8080/"
        },
        "id": "9hoDL10RUq86",
        "outputId": "919b112e-0f50-4cc4-81ac-9851a6d579ab"
      },
      "execution_count": null,
      "outputs": [
        {
          "output_type": "execute_result",
          "data": {
            "text/plain": [
              "0"
            ]
          },
          "metadata": {},
          "execution_count": 1529
        }
      ]
    },
    {
      "cell_type": "markdown",
      "source": [
        "##hs email domain"
      ],
      "metadata": {
        "id": "_1k0SMF6VUqP"
      }
    },
    {
      "cell_type": "code",
      "source": [
        "dataframe['hs_email_domain'].describe()"
      ],
      "metadata": {
        "colab": {
          "base_uri": "https://localhost:8080/"
        },
        "id": "me_9aPLmU5-d",
        "outputId": "07367a55-11dd-4115-e134-a156f77979c6"
      },
      "execution_count": null,
      "outputs": [
        {
          "output_type": "execute_result",
          "data": {
            "text/plain": [
              "count          1264\n",
              "unique          127\n",
              "top       gmail.com\n",
              "freq            597\n",
              "Name: hs_email_domain, dtype: object"
            ]
          },
          "metadata": {},
          "execution_count": 1530
        }
      ]
    },
    {
      "cell_type": "code",
      "source": [
        "dataframe['hs_email_domain'].isnull().sum()"
      ],
      "metadata": {
        "id": "TS_l3Ds7V17q",
        "colab": {
          "base_uri": "https://localhost:8080/"
        },
        "outputId": "3fd8091b-383a-44e7-ebbc-637d5417d187"
      },
      "execution_count": null,
      "outputs": [
        {
          "output_type": "execute_result",
          "data": {
            "text/plain": [
              "83"
            ]
          },
          "metadata": {},
          "execution_count": 1531
        }
      ]
    },
    {
      "cell_type": "code",
      "source": [
        "value = dataframe['hs_email_domain'].value_counts()"
      ],
      "metadata": {
        "id": "_VXMqp5ZWN-y"
      },
      "execution_count": null,
      "outputs": []
    },
    {
      "cell_type": "code",
      "source": [
        "fig = px.bar(value)\n",
        "fig.show()"
      ],
      "metadata": {
        "colab": {
          "base_uri": "https://localhost:8080/",
          "height": 542
        },
        "id": "fd-2DA27WXJ5",
        "outputId": "8dfe3ddd-8892-40da-949d-32f61c1943dd"
      },
      "execution_count": null,
      "outputs": [
        {
          "output_type": "display_data",
          "data": {
            "text/html": [
              "<html>\n",
              "<head><meta charset=\"utf-8\" /></head>\n",
              "<body>\n",
              "    <div>            <script src=\"https://cdnjs.cloudflare.com/ajax/libs/mathjax/2.7.5/MathJax.js?config=TeX-AMS-MML_SVG\"></script><script type=\"text/javascript\">if (window.MathJax) {MathJax.Hub.Config({SVG: {font: \"STIX-Web\"}});}</script>                <script type=\"text/javascript\">window.PlotlyConfig = {MathJaxConfig: 'local'};</script>\n",
              "        <script src=\"https://cdn.plot.ly/plotly-2.8.3.min.js\"></script>                <div id=\"a7eff14c-662d-4fd1-9804-194b7df98fb1\" class=\"plotly-graph-div\" style=\"height:525px; width:100%;\"></div>            <script type=\"text/javascript\">                                    window.PLOTLYENV=window.PLOTLYENV || {};                                    if (document.getElementById(\"a7eff14c-662d-4fd1-9804-194b7df98fb1\")) {                    Plotly.newPlot(                        \"a7eff14c-662d-4fd1-9804-194b7df98fb1\",                        [{\"alignmentgroup\":\"True\",\"hovertemplate\":\"variable=hs_email_domain<br>index=%{x}<br>value=%{y}<extra></extra>\",\"legendgroup\":\"hs_email_domain\",\"marker\":{\"color\":\"#636efa\",\"pattern\":{\"shape\":\"\"}},\"name\":\"hs_email_domain\",\"offsetgroup\":\"hs_email_domain\",\"orientation\":\"v\",\"showlegend\":true,\"textposition\":\"auto\",\"x\":[\"gmail.com\",\"yahoo.com\",\"aol.com\",\"hotmail.com\",\"comcast.net\",\"icloud.com\",\"msn.com\",\"me.com\",\"outlook.com\",\"pompaprogram.com\",\"live.com\",\"att.net\",\"ymail.com\",\"cox.net\",\"verizon.net\",\"protonmail.com\",\"mac.com\",\"sbcglobal.net\",\"woh.rr.com\",\"yahoo.co.uk\",\"mail.com\",\"mosaicsvc.com\",\"embarqmail.com\",\"juno.com\",\"duck.com\",\"texasbdc.com\",\"netzero.net\",\"elucidconsulting.com\",\"dolcevitasalons.com\",\"acrisure.com\",\"allwest.net\",\"sculptorfitness.com\",\"centurytel.net\",\"lawace.com\",\"judyatherton.com\",\"netzero.com\",\"joffedesign.com\",\"testing.com\",\"keystoneak.com\",\"lee-thorp.com\",\"diggspro.com\",\"omeresa.net\",\"mhvi.com\",\"karenlisti.com\",\"lifespanreno.com\",\"ilhomestores.com\",\"mason.kyschools.us\",\"myprohealthcenter.com\",\"mauihomeopathy.com\",\"nvc.net\",\"bas-co.com\",\"nebraskamed.com\",\"quickbookstexas.com\",\"charter.net\",\"beautykliniek.com\",\"fieldsnetworks.com\",\"1107423-book-already-paid-consult-now-limited\",\"stephenahess.com\",\"chop.edu\",\"benlomand.net\",\"jon9.com\",\"harringtonvt.com\",\"puremaintenanceblueridge.com\",\"moyleusa.com\",\"unal.edu.co\",\"ggbrands.net\",\"apexco.net\",\"lifestyleoverflow.com\",\"regencyhomesllc.com\",\"hotmal.com\",\"pm.me\",\"mountainvalleystudios.com\",\"yahoo.cm\",\"integrated-rs.com\",\"greendoorphotography.com\",\"earthlink.net\",\"oacminc.com\",\"optonline.net\",\"liquidlevel.com\",\"southstarco.com\",\"yaahoo.com\",\"enstigate.com\",\"ameritech.net\",\"e-isco.com\",\"itstriangle.com\",\"symrise.com\",\"trophydeals.com\",\"artegosdesigns.com\",\"justlikehome.com\",\"yhoo.com\",\"sbcgplobal.net\",\"mcn.org\",\"esc.edu\",\"terramountengineering.com\",\"netscape.net\",\"redwagonartists.com\",\"camtel.net\",\"tisd.net\",\"marlinswim.com\",\"frontiernet.net\",\"bresnan.net\",\"kgnz.com\",\"zoominternet.net\",\"nycap.rr.com\",\"one-percentfitness.com\",\"gmaill.com\",\"neo.rr.com\",\"windstream.net\",\"mvtvwireless.com\",\"ntrcommercial.com\",\"splash5171.com\",\"ultimateactionent.com\",\"icloud.om\",\"aoll.com\",\"wi.rr.com\",\"cfitx.com\",\"nosnail.com\",\"myactv.net\",\"kingthompson.com\",\"douglasdennis.com\",\"alignremote.com\",\"rubymountainfoods.com\",\"gmx.com\",\"3rivers.net\",\"gamil.com\",\"proton.me\",\"frontier.com\"],\"xaxis\":\"x\",\"y\":[597,252,67,59,26,25,22,17,16,15,11,7,7,6,5,5,5,4,3,3,2,2,2,2,2,1,1,1,1,1,1,1,1,1,1,1,1,1,1,1,1,1,1,1,1,1,1,1,1,1,1,1,1,1,1,1,1,1,1,1,1,1,1,1,1,1,1,1,1,1,1,1,1,1,1,1,1,1,1,1,1,1,1,1,1,1,1,1,1,1,1,1,1,1,1,1,1,1,1,1,1,1,1,1,1,1,1,1,1,1,1,1,1,1,1,1,1,1,1,1,1,1,1,1,1,1,1],\"yaxis\":\"y\",\"type\":\"bar\"}],                        {\"template\":{\"data\":{\"bar\":[{\"error_x\":{\"color\":\"#2a3f5f\"},\"error_y\":{\"color\":\"#2a3f5f\"},\"marker\":{\"line\":{\"color\":\"#E5ECF6\",\"width\":0.5},\"pattern\":{\"fillmode\":\"overlay\",\"size\":10,\"solidity\":0.2}},\"type\":\"bar\"}],\"barpolar\":[{\"marker\":{\"line\":{\"color\":\"#E5ECF6\",\"width\":0.5},\"pattern\":{\"fillmode\":\"overlay\",\"size\":10,\"solidity\":0.2}},\"type\":\"barpolar\"}],\"carpet\":[{\"aaxis\":{\"endlinecolor\":\"#2a3f5f\",\"gridcolor\":\"white\",\"linecolor\":\"white\",\"minorgridcolor\":\"white\",\"startlinecolor\":\"#2a3f5f\"},\"baxis\":{\"endlinecolor\":\"#2a3f5f\",\"gridcolor\":\"white\",\"linecolor\":\"white\",\"minorgridcolor\":\"white\",\"startlinecolor\":\"#2a3f5f\"},\"type\":\"carpet\"}],\"choropleth\":[{\"colorbar\":{\"outlinewidth\":0,\"ticks\":\"\"},\"type\":\"choropleth\"}],\"contour\":[{\"colorbar\":{\"outlinewidth\":0,\"ticks\":\"\"},\"colorscale\":[[0.0,\"#0d0887\"],[0.1111111111111111,\"#46039f\"],[0.2222222222222222,\"#7201a8\"],[0.3333333333333333,\"#9c179e\"],[0.4444444444444444,\"#bd3786\"],[0.5555555555555556,\"#d8576b\"],[0.6666666666666666,\"#ed7953\"],[0.7777777777777778,\"#fb9f3a\"],[0.8888888888888888,\"#fdca26\"],[1.0,\"#f0f921\"]],\"type\":\"contour\"}],\"contourcarpet\":[{\"colorbar\":{\"outlinewidth\":0,\"ticks\":\"\"},\"type\":\"contourcarpet\"}],\"heatmap\":[{\"colorbar\":{\"outlinewidth\":0,\"ticks\":\"\"},\"colorscale\":[[0.0,\"#0d0887\"],[0.1111111111111111,\"#46039f\"],[0.2222222222222222,\"#7201a8\"],[0.3333333333333333,\"#9c179e\"],[0.4444444444444444,\"#bd3786\"],[0.5555555555555556,\"#d8576b\"],[0.6666666666666666,\"#ed7953\"],[0.7777777777777778,\"#fb9f3a\"],[0.8888888888888888,\"#fdca26\"],[1.0,\"#f0f921\"]],\"type\":\"heatmap\"}],\"heatmapgl\":[{\"colorbar\":{\"outlinewidth\":0,\"ticks\":\"\"},\"colorscale\":[[0.0,\"#0d0887\"],[0.1111111111111111,\"#46039f\"],[0.2222222222222222,\"#7201a8\"],[0.3333333333333333,\"#9c179e\"],[0.4444444444444444,\"#bd3786\"],[0.5555555555555556,\"#d8576b\"],[0.6666666666666666,\"#ed7953\"],[0.7777777777777778,\"#fb9f3a\"],[0.8888888888888888,\"#fdca26\"],[1.0,\"#f0f921\"]],\"type\":\"heatmapgl\"}],\"histogram\":[{\"marker\":{\"pattern\":{\"fillmode\":\"overlay\",\"size\":10,\"solidity\":0.2}},\"type\":\"histogram\"}],\"histogram2d\":[{\"colorbar\":{\"outlinewidth\":0,\"ticks\":\"\"},\"colorscale\":[[0.0,\"#0d0887\"],[0.1111111111111111,\"#46039f\"],[0.2222222222222222,\"#7201a8\"],[0.3333333333333333,\"#9c179e\"],[0.4444444444444444,\"#bd3786\"],[0.5555555555555556,\"#d8576b\"],[0.6666666666666666,\"#ed7953\"],[0.7777777777777778,\"#fb9f3a\"],[0.8888888888888888,\"#fdca26\"],[1.0,\"#f0f921\"]],\"type\":\"histogram2d\"}],\"histogram2dcontour\":[{\"colorbar\":{\"outlinewidth\":0,\"ticks\":\"\"},\"colorscale\":[[0.0,\"#0d0887\"],[0.1111111111111111,\"#46039f\"],[0.2222222222222222,\"#7201a8\"],[0.3333333333333333,\"#9c179e\"],[0.4444444444444444,\"#bd3786\"],[0.5555555555555556,\"#d8576b\"],[0.6666666666666666,\"#ed7953\"],[0.7777777777777778,\"#fb9f3a\"],[0.8888888888888888,\"#fdca26\"],[1.0,\"#f0f921\"]],\"type\":\"histogram2dcontour\"}],\"mesh3d\":[{\"colorbar\":{\"outlinewidth\":0,\"ticks\":\"\"},\"type\":\"mesh3d\"}],\"parcoords\":[{\"line\":{\"colorbar\":{\"outlinewidth\":0,\"ticks\":\"\"}},\"type\":\"parcoords\"}],\"pie\":[{\"automargin\":true,\"type\":\"pie\"}],\"scatter\":[{\"marker\":{\"colorbar\":{\"outlinewidth\":0,\"ticks\":\"\"}},\"type\":\"scatter\"}],\"scatter3d\":[{\"line\":{\"colorbar\":{\"outlinewidth\":0,\"ticks\":\"\"}},\"marker\":{\"colorbar\":{\"outlinewidth\":0,\"ticks\":\"\"}},\"type\":\"scatter3d\"}],\"scattercarpet\":[{\"marker\":{\"colorbar\":{\"outlinewidth\":0,\"ticks\":\"\"}},\"type\":\"scattercarpet\"}],\"scattergeo\":[{\"marker\":{\"colorbar\":{\"outlinewidth\":0,\"ticks\":\"\"}},\"type\":\"scattergeo\"}],\"scattergl\":[{\"marker\":{\"colorbar\":{\"outlinewidth\":0,\"ticks\":\"\"}},\"type\":\"scattergl\"}],\"scattermapbox\":[{\"marker\":{\"colorbar\":{\"outlinewidth\":0,\"ticks\":\"\"}},\"type\":\"scattermapbox\"}],\"scatterpolar\":[{\"marker\":{\"colorbar\":{\"outlinewidth\":0,\"ticks\":\"\"}},\"type\":\"scatterpolar\"}],\"scatterpolargl\":[{\"marker\":{\"colorbar\":{\"outlinewidth\":0,\"ticks\":\"\"}},\"type\":\"scatterpolargl\"}],\"scatterternary\":[{\"marker\":{\"colorbar\":{\"outlinewidth\":0,\"ticks\":\"\"}},\"type\":\"scatterternary\"}],\"surface\":[{\"colorbar\":{\"outlinewidth\":0,\"ticks\":\"\"},\"colorscale\":[[0.0,\"#0d0887\"],[0.1111111111111111,\"#46039f\"],[0.2222222222222222,\"#7201a8\"],[0.3333333333333333,\"#9c179e\"],[0.4444444444444444,\"#bd3786\"],[0.5555555555555556,\"#d8576b\"],[0.6666666666666666,\"#ed7953\"],[0.7777777777777778,\"#fb9f3a\"],[0.8888888888888888,\"#fdca26\"],[1.0,\"#f0f921\"]],\"type\":\"surface\"}],\"table\":[{\"cells\":{\"fill\":{\"color\":\"#EBF0F8\"},\"line\":{\"color\":\"white\"}},\"header\":{\"fill\":{\"color\":\"#C8D4E3\"},\"line\":{\"color\":\"white\"}},\"type\":\"table\"}]},\"layout\":{\"annotationdefaults\":{\"arrowcolor\":\"#2a3f5f\",\"arrowhead\":0,\"arrowwidth\":1},\"autotypenumbers\":\"strict\",\"coloraxis\":{\"colorbar\":{\"outlinewidth\":0,\"ticks\":\"\"}},\"colorscale\":{\"diverging\":[[0,\"#8e0152\"],[0.1,\"#c51b7d\"],[0.2,\"#de77ae\"],[0.3,\"#f1b6da\"],[0.4,\"#fde0ef\"],[0.5,\"#f7f7f7\"],[0.6,\"#e6f5d0\"],[0.7,\"#b8e186\"],[0.8,\"#7fbc41\"],[0.9,\"#4d9221\"],[1,\"#276419\"]],\"sequential\":[[0.0,\"#0d0887\"],[0.1111111111111111,\"#46039f\"],[0.2222222222222222,\"#7201a8\"],[0.3333333333333333,\"#9c179e\"],[0.4444444444444444,\"#bd3786\"],[0.5555555555555556,\"#d8576b\"],[0.6666666666666666,\"#ed7953\"],[0.7777777777777778,\"#fb9f3a\"],[0.8888888888888888,\"#fdca26\"],[1.0,\"#f0f921\"]],\"sequentialminus\":[[0.0,\"#0d0887\"],[0.1111111111111111,\"#46039f\"],[0.2222222222222222,\"#7201a8\"],[0.3333333333333333,\"#9c179e\"],[0.4444444444444444,\"#bd3786\"],[0.5555555555555556,\"#d8576b\"],[0.6666666666666666,\"#ed7953\"],[0.7777777777777778,\"#fb9f3a\"],[0.8888888888888888,\"#fdca26\"],[1.0,\"#f0f921\"]]},\"colorway\":[\"#636efa\",\"#EF553B\",\"#00cc96\",\"#ab63fa\",\"#FFA15A\",\"#19d3f3\",\"#FF6692\",\"#B6E880\",\"#FF97FF\",\"#FECB52\"],\"font\":{\"color\":\"#2a3f5f\"},\"geo\":{\"bgcolor\":\"white\",\"lakecolor\":\"white\",\"landcolor\":\"#E5ECF6\",\"showlakes\":true,\"showland\":true,\"subunitcolor\":\"white\"},\"hoverlabel\":{\"align\":\"left\"},\"hovermode\":\"closest\",\"mapbox\":{\"style\":\"light\"},\"paper_bgcolor\":\"white\",\"plot_bgcolor\":\"#E5ECF6\",\"polar\":{\"angularaxis\":{\"gridcolor\":\"white\",\"linecolor\":\"white\",\"ticks\":\"\"},\"bgcolor\":\"#E5ECF6\",\"radialaxis\":{\"gridcolor\":\"white\",\"linecolor\":\"white\",\"ticks\":\"\"}},\"scene\":{\"xaxis\":{\"backgroundcolor\":\"#E5ECF6\",\"gridcolor\":\"white\",\"gridwidth\":2,\"linecolor\":\"white\",\"showbackground\":true,\"ticks\":\"\",\"zerolinecolor\":\"white\"},\"yaxis\":{\"backgroundcolor\":\"#E5ECF6\",\"gridcolor\":\"white\",\"gridwidth\":2,\"linecolor\":\"white\",\"showbackground\":true,\"ticks\":\"\",\"zerolinecolor\":\"white\"},\"zaxis\":{\"backgroundcolor\":\"#E5ECF6\",\"gridcolor\":\"white\",\"gridwidth\":2,\"linecolor\":\"white\",\"showbackground\":true,\"ticks\":\"\",\"zerolinecolor\":\"white\"}},\"shapedefaults\":{\"line\":{\"color\":\"#2a3f5f\"}},\"ternary\":{\"aaxis\":{\"gridcolor\":\"white\",\"linecolor\":\"white\",\"ticks\":\"\"},\"baxis\":{\"gridcolor\":\"white\",\"linecolor\":\"white\",\"ticks\":\"\"},\"bgcolor\":\"#E5ECF6\",\"caxis\":{\"gridcolor\":\"white\",\"linecolor\":\"white\",\"ticks\":\"\"}},\"title\":{\"x\":0.05},\"xaxis\":{\"automargin\":true,\"gridcolor\":\"white\",\"linecolor\":\"white\",\"ticks\":\"\",\"title\":{\"standoff\":15},\"zerolinecolor\":\"white\",\"zerolinewidth\":2},\"yaxis\":{\"automargin\":true,\"gridcolor\":\"white\",\"linecolor\":\"white\",\"ticks\":\"\",\"title\":{\"standoff\":15},\"zerolinecolor\":\"white\",\"zerolinewidth\":2}}},\"xaxis\":{\"anchor\":\"y\",\"domain\":[0.0,1.0],\"title\":{\"text\":\"index\"}},\"yaxis\":{\"anchor\":\"x\",\"domain\":[0.0,1.0],\"title\":{\"text\":\"value\"}},\"legend\":{\"title\":{\"text\":\"variable\"},\"tracegroupgap\":0},\"margin\":{\"t\":60},\"barmode\":\"relative\"},                        {\"responsive\": true}                    ).then(function(){\n",
              "                            \n",
              "var gd = document.getElementById('a7eff14c-662d-4fd1-9804-194b7df98fb1');\n",
              "var x = new MutationObserver(function (mutations, observer) {{\n",
              "        var display = window.getComputedStyle(gd).display;\n",
              "        if (!display || display === 'none') {{\n",
              "            console.log([gd, 'removed!']);\n",
              "            Plotly.purge(gd);\n",
              "            observer.disconnect();\n",
              "        }}\n",
              "}});\n",
              "\n",
              "// Listen for the removal of the full notebook cells\n",
              "var notebookContainer = gd.closest('#notebook-container');\n",
              "if (notebookContainer) {{\n",
              "    x.observe(notebookContainer, {childList: true});\n",
              "}}\n",
              "\n",
              "// Listen for the clearing of the current output cell\n",
              "var outputEl = gd.closest('.output');\n",
              "if (outputEl) {{\n",
              "    x.observe(outputEl, {childList: true});\n",
              "}}\n",
              "\n",
              "                        })                };                            </script>        </div>\n",
              "</body>\n",
              "</html>"
            ]
          },
          "metadata": {}
        }
      ]
    },
    {
      "cell_type": "code",
      "source": [
        "dataframe['hs_email_delivered'] = dataframe['hs_email_delivered'].replace(np.nan, 'gmail.com')"
      ],
      "metadata": {
        "id": "ddznmEwAW9kR"
      },
      "execution_count": null,
      "outputs": []
    },
    {
      "cell_type": "code",
      "source": [
        "dataframe['hs_email_domain'].isnull().sum()"
      ],
      "metadata": {
        "colab": {
          "base_uri": "https://localhost:8080/"
        },
        "id": "Z7aUUoO9XKuC",
        "outputId": "a604fdd1-3181-4b9c-e048-55af23abe97f"
      },
      "execution_count": null,
      "outputs": [
        {
          "output_type": "execute_result",
          "data": {
            "text/plain": [
              "83"
            ]
          },
          "metadata": {},
          "execution_count": 1535
        }
      ]
    },
    {
      "cell_type": "markdown",
      "source": [
        "##hs email last email name"
      ],
      "metadata": {
        "id": "J1Ap_E6aXZlL"
      }
    },
    {
      "cell_type": "code",
      "source": [
        "dataframe['hs_email_last_email_name'].describe()"
      ],
      "metadata": {
        "colab": {
          "base_uri": "https://localhost:8080/"
        },
        "id": "2SEZ7z1UXOYX",
        "outputId": "2a56c660-35d6-4ed8-8da3-94f0b1d4dcbf"
      },
      "execution_count": null,
      "outputs": [
        {
          "output_type": "execute_result",
          "data": {
            "text/plain": [
              "count                                          1135\n",
              "unique                                           64\n",
              "top       Here's Your Booking Link! [referral link]\n",
              "freq                                            539\n",
              "Name: hs_email_last_email_name, dtype: object"
            ]
          },
          "metadata": {},
          "execution_count": 1536
        }
      ]
    },
    {
      "cell_type": "code",
      "source": [
        "dataframe['hs_email_last_email_name'].isnull().sum()"
      ],
      "metadata": {
        "colab": {
          "base_uri": "https://localhost:8080/"
        },
        "id": "Kp46b4_tXr_n",
        "outputId": "346c654c-e4a8-44a2-ab1c-962138c26fd5"
      },
      "execution_count": null,
      "outputs": [
        {
          "output_type": "execute_result",
          "data": {
            "text/plain": [
              "212"
            ]
          },
          "metadata": {},
          "execution_count": 1537
        }
      ]
    },
    {
      "cell_type": "code",
      "source": [
        "value = dataframe['hs_email_last_email_name'].value_counts()"
      ],
      "metadata": {
        "id": "DxuLHtU5YKoY"
      },
      "execution_count": null,
      "outputs": []
    },
    {
      "cell_type": "code",
      "source": [
        "fig = px.bar(value)\n",
        "fig.show()"
      ],
      "metadata": {
        "colab": {
          "base_uri": "https://localhost:8080/",
          "height": 542
        },
        "id": "jV15ROBpYZeL",
        "outputId": "4d1b8393-d86b-4b36-818d-53df43b7967c"
      },
      "execution_count": null,
      "outputs": [
        {
          "output_type": "display_data",
          "data": {
            "text/html": [
              "<html>\n",
              "<head><meta charset=\"utf-8\" /></head>\n",
              "<body>\n",
              "    <div>            <script src=\"https://cdnjs.cloudflare.com/ajax/libs/mathjax/2.7.5/MathJax.js?config=TeX-AMS-MML_SVG\"></script><script type=\"text/javascript\">if (window.MathJax) {MathJax.Hub.Config({SVG: {font: \"STIX-Web\"}});}</script>                <script type=\"text/javascript\">window.PlotlyConfig = {MathJaxConfig: 'local'};</script>\n",
              "        <script src=\"https://cdn.plot.ly/plotly-2.8.3.min.js\"></script>                <div id=\"7bbb2bb0-180a-47ec-bd1a-f853ab2bbbad\" class=\"plotly-graph-div\" style=\"height:525px; width:100%;\"></div>            <script type=\"text/javascript\">                                    window.PLOTLYENV=window.PLOTLYENV || {};                                    if (document.getElementById(\"7bbb2bb0-180a-47ec-bd1a-f853ab2bbbad\")) {                    Plotly.newPlot(                        \"7bbb2bb0-180a-47ec-bd1a-f853ab2bbbad\",                        [{\"alignmentgroup\":\"True\",\"hovertemplate\":\"variable=hs_email_last_email_name<br>index=%{x}<br>value=%{y}<extra></extra>\",\"legendgroup\":\"hs_email_last_email_name\",\"marker\":{\"color\":\"#636efa\",\"pattern\":{\"shape\":\"\"}},\"name\":\"hs_email_last_email_name\",\"offsetgroup\":\"hs_email_last_email_name\",\"orientation\":\"v\",\"showlegend\":true,\"textposition\":\"auto\",\"x\":[\"Here's Your Booking Link! [referral link]\",\"Get the Answers You've Been Looking For Now!\",\"[Checkout_No_Schedule] 3. Is this you?\",\"[Checkout_No_Schedule] 1. [Paid] Time to Book Your Call\",\"Sign-Up Follow Up\",\"Is this the best test you could take?\",\"[Checkout_No_Schedule] 2. Book Already Paid Consult Now--Limited Spots Available\",\"03-03 - Ohio Train Derailment\",\"What will your kids think...\",\"03-06 - Stop Inflammation\",\"Will You Ever Get Better?\",\"02-28 - Other Toxins That Cause Inflammation\",\"Last chance to get the program at $328 OFF\",\"[Checkout_No_Schedule] 4. [Paid] Time to Address the Source -- We are ready to help you find yours.\",\"Rak Chazak Amats\",\"Freezing To Death Just Outside The Campfire\\u2026 (CTA)\",\"Did you have the chance to meet my mom?\",\"[Checkout_No_Schedule] 5. 3%er? This is your last opportunity...\",\"This is your last chance to break the cycle\",\"[Guide Follow Up] Email #1: The 5 Reasons You\\u2019re Sick and How to Get Your Life Back\",\"Watch the reply/ what they will discover in the webinar\",\"SIMPLERO: [RE-ENGAGE] [We'll unsubscribe you in a few days unless...]\",\"(CTA) 97% of people will never change\\u2026\",\"Join the thousands of others who have gotten their lives back\",\"01/14 Why Does the Immune System Attack Itself?\",\"FASTING: One of the most controversial health topics.\",\"Here's Your Booking Link! [referral link-default]\",\"01/16 Removing Candida From The Gut 20 How Candida Causes Systemic Inflammation\",\"01/02 New Year, New Health Goals\",\"This is your last chance to learn the methods\",\"1/28 R2 Regenerating The Cell Membrane\",\"01/13 The Three-Legged Stool: The 3 Pillars Of Health 5\",\"SIMPLERO: [RE-ENGAGE] [Still want to hear from me?]\",\"02-22 - What's included in our testing kit\",\"02-26 - If Your Mother Had High Levels\",\"2/10 What our clients are saying\",\"01/04 Stop it This Year\",\"Get 70% OFF when you buy today\",\"01/11 Why Do So Many People Suffer From Autoimmune Conditions?\",\"7PM EST | Have you been wanting to fast? or just curious? (Clone)\",\"12/21 Don't Forget\",\"11/19 What is in our Cellular Health Analysis and Report of Findings\",\"[Guide Follow Up] Email #5: [Last Chance] Free Access to The Cellular Solution Masterclass\",\"1/20 Unhealthy Fats (Probably Not What You Think)\",\"[Guide Follow Up] Email #2: [Access Granted] The Cellular Solution Masterclass\",\"Email 3.1 - What if\",\"12/12 health food that are toxic\",\"Benfits of buying\",\"Sl B\",\"9/30 The Mission of Pompa\",\"02-24 - If Your Mother Had High Levels\",\"8/29 What do virtually all chronic illnesses have in common?\",\"6/27 Testimonials\",\"Guide Email 20 - Risk of doing nothing\",\"CDS | Opt-In Follow Up | Email #1: Are you suffering from \\u201cClosed Door Syndrome\\u201d?\",\"8/25 Email announcing website\",\"7/6 The #1 Reason You Can't Lose Weight\",\"12/16 Don\\u2019t Stress\",\"Do you remember doing this\",\"2/8 30-day money-back guarantee\",\"2/1 The 5 Reasons You Are Sick\",\"Before and after\",\"12/23 A Letter from Dr. Pompa\",\"Do you remember doing this by chance?\"],\"xaxis\":\"x\",\"y\":[539,199,55,52,43,42,29,18,14,13,11,10,8,6,5,5,5,5,4,4,3,3,3,3,2,2,2,2,2,2,2,2,2,2,2,2,2,2,2,2,1,1,1,1,1,1,1,1,1,1,1,1,1,1,1,1,1,1,1,1,1,1,1,1],\"yaxis\":\"y\",\"type\":\"bar\"}],                        {\"template\":{\"data\":{\"bar\":[{\"error_x\":{\"color\":\"#2a3f5f\"},\"error_y\":{\"color\":\"#2a3f5f\"},\"marker\":{\"line\":{\"color\":\"#E5ECF6\",\"width\":0.5},\"pattern\":{\"fillmode\":\"overlay\",\"size\":10,\"solidity\":0.2}},\"type\":\"bar\"}],\"barpolar\":[{\"marker\":{\"line\":{\"color\":\"#E5ECF6\",\"width\":0.5},\"pattern\":{\"fillmode\":\"overlay\",\"size\":10,\"solidity\":0.2}},\"type\":\"barpolar\"}],\"carpet\":[{\"aaxis\":{\"endlinecolor\":\"#2a3f5f\",\"gridcolor\":\"white\",\"linecolor\":\"white\",\"minorgridcolor\":\"white\",\"startlinecolor\":\"#2a3f5f\"},\"baxis\":{\"endlinecolor\":\"#2a3f5f\",\"gridcolor\":\"white\",\"linecolor\":\"white\",\"minorgridcolor\":\"white\",\"startlinecolor\":\"#2a3f5f\"},\"type\":\"carpet\"}],\"choropleth\":[{\"colorbar\":{\"outlinewidth\":0,\"ticks\":\"\"},\"type\":\"choropleth\"}],\"contour\":[{\"colorbar\":{\"outlinewidth\":0,\"ticks\":\"\"},\"colorscale\":[[0.0,\"#0d0887\"],[0.1111111111111111,\"#46039f\"],[0.2222222222222222,\"#7201a8\"],[0.3333333333333333,\"#9c179e\"],[0.4444444444444444,\"#bd3786\"],[0.5555555555555556,\"#d8576b\"],[0.6666666666666666,\"#ed7953\"],[0.7777777777777778,\"#fb9f3a\"],[0.8888888888888888,\"#fdca26\"],[1.0,\"#f0f921\"]],\"type\":\"contour\"}],\"contourcarpet\":[{\"colorbar\":{\"outlinewidth\":0,\"ticks\":\"\"},\"type\":\"contourcarpet\"}],\"heatmap\":[{\"colorbar\":{\"outlinewidth\":0,\"ticks\":\"\"},\"colorscale\":[[0.0,\"#0d0887\"],[0.1111111111111111,\"#46039f\"],[0.2222222222222222,\"#7201a8\"],[0.3333333333333333,\"#9c179e\"],[0.4444444444444444,\"#bd3786\"],[0.5555555555555556,\"#d8576b\"],[0.6666666666666666,\"#ed7953\"],[0.7777777777777778,\"#fb9f3a\"],[0.8888888888888888,\"#fdca26\"],[1.0,\"#f0f921\"]],\"type\":\"heatmap\"}],\"heatmapgl\":[{\"colorbar\":{\"outlinewidth\":0,\"ticks\":\"\"},\"colorscale\":[[0.0,\"#0d0887\"],[0.1111111111111111,\"#46039f\"],[0.2222222222222222,\"#7201a8\"],[0.3333333333333333,\"#9c179e\"],[0.4444444444444444,\"#bd3786\"],[0.5555555555555556,\"#d8576b\"],[0.6666666666666666,\"#ed7953\"],[0.7777777777777778,\"#fb9f3a\"],[0.8888888888888888,\"#fdca26\"],[1.0,\"#f0f921\"]],\"type\":\"heatmapgl\"}],\"histogram\":[{\"marker\":{\"pattern\":{\"fillmode\":\"overlay\",\"size\":10,\"solidity\":0.2}},\"type\":\"histogram\"}],\"histogram2d\":[{\"colorbar\":{\"outlinewidth\":0,\"ticks\":\"\"},\"colorscale\":[[0.0,\"#0d0887\"],[0.1111111111111111,\"#46039f\"],[0.2222222222222222,\"#7201a8\"],[0.3333333333333333,\"#9c179e\"],[0.4444444444444444,\"#bd3786\"],[0.5555555555555556,\"#d8576b\"],[0.6666666666666666,\"#ed7953\"],[0.7777777777777778,\"#fb9f3a\"],[0.8888888888888888,\"#fdca26\"],[1.0,\"#f0f921\"]],\"type\":\"histogram2d\"}],\"histogram2dcontour\":[{\"colorbar\":{\"outlinewidth\":0,\"ticks\":\"\"},\"colorscale\":[[0.0,\"#0d0887\"],[0.1111111111111111,\"#46039f\"],[0.2222222222222222,\"#7201a8\"],[0.3333333333333333,\"#9c179e\"],[0.4444444444444444,\"#bd3786\"],[0.5555555555555556,\"#d8576b\"],[0.6666666666666666,\"#ed7953\"],[0.7777777777777778,\"#fb9f3a\"],[0.8888888888888888,\"#fdca26\"],[1.0,\"#f0f921\"]],\"type\":\"histogram2dcontour\"}],\"mesh3d\":[{\"colorbar\":{\"outlinewidth\":0,\"ticks\":\"\"},\"type\":\"mesh3d\"}],\"parcoords\":[{\"line\":{\"colorbar\":{\"outlinewidth\":0,\"ticks\":\"\"}},\"type\":\"parcoords\"}],\"pie\":[{\"automargin\":true,\"type\":\"pie\"}],\"scatter\":[{\"marker\":{\"colorbar\":{\"outlinewidth\":0,\"ticks\":\"\"}},\"type\":\"scatter\"}],\"scatter3d\":[{\"line\":{\"colorbar\":{\"outlinewidth\":0,\"ticks\":\"\"}},\"marker\":{\"colorbar\":{\"outlinewidth\":0,\"ticks\":\"\"}},\"type\":\"scatter3d\"}],\"scattercarpet\":[{\"marker\":{\"colorbar\":{\"outlinewidth\":0,\"ticks\":\"\"}},\"type\":\"scattercarpet\"}],\"scattergeo\":[{\"marker\":{\"colorbar\":{\"outlinewidth\":0,\"ticks\":\"\"}},\"type\":\"scattergeo\"}],\"scattergl\":[{\"marker\":{\"colorbar\":{\"outlinewidth\":0,\"ticks\":\"\"}},\"type\":\"scattergl\"}],\"scattermapbox\":[{\"marker\":{\"colorbar\":{\"outlinewidth\":0,\"ticks\":\"\"}},\"type\":\"scattermapbox\"}],\"scatterpolar\":[{\"marker\":{\"colorbar\":{\"outlinewidth\":0,\"ticks\":\"\"}},\"type\":\"scatterpolar\"}],\"scatterpolargl\":[{\"marker\":{\"colorbar\":{\"outlinewidth\":0,\"ticks\":\"\"}},\"type\":\"scatterpolargl\"}],\"scatterternary\":[{\"marker\":{\"colorbar\":{\"outlinewidth\":0,\"ticks\":\"\"}},\"type\":\"scatterternary\"}],\"surface\":[{\"colorbar\":{\"outlinewidth\":0,\"ticks\":\"\"},\"colorscale\":[[0.0,\"#0d0887\"],[0.1111111111111111,\"#46039f\"],[0.2222222222222222,\"#7201a8\"],[0.3333333333333333,\"#9c179e\"],[0.4444444444444444,\"#bd3786\"],[0.5555555555555556,\"#d8576b\"],[0.6666666666666666,\"#ed7953\"],[0.7777777777777778,\"#fb9f3a\"],[0.8888888888888888,\"#fdca26\"],[1.0,\"#f0f921\"]],\"type\":\"surface\"}],\"table\":[{\"cells\":{\"fill\":{\"color\":\"#EBF0F8\"},\"line\":{\"color\":\"white\"}},\"header\":{\"fill\":{\"color\":\"#C8D4E3\"},\"line\":{\"color\":\"white\"}},\"type\":\"table\"}]},\"layout\":{\"annotationdefaults\":{\"arrowcolor\":\"#2a3f5f\",\"arrowhead\":0,\"arrowwidth\":1},\"autotypenumbers\":\"strict\",\"coloraxis\":{\"colorbar\":{\"outlinewidth\":0,\"ticks\":\"\"}},\"colorscale\":{\"diverging\":[[0,\"#8e0152\"],[0.1,\"#c51b7d\"],[0.2,\"#de77ae\"],[0.3,\"#f1b6da\"],[0.4,\"#fde0ef\"],[0.5,\"#f7f7f7\"],[0.6,\"#e6f5d0\"],[0.7,\"#b8e186\"],[0.8,\"#7fbc41\"],[0.9,\"#4d9221\"],[1,\"#276419\"]],\"sequential\":[[0.0,\"#0d0887\"],[0.1111111111111111,\"#46039f\"],[0.2222222222222222,\"#7201a8\"],[0.3333333333333333,\"#9c179e\"],[0.4444444444444444,\"#bd3786\"],[0.5555555555555556,\"#d8576b\"],[0.6666666666666666,\"#ed7953\"],[0.7777777777777778,\"#fb9f3a\"],[0.8888888888888888,\"#fdca26\"],[1.0,\"#f0f921\"]],\"sequentialminus\":[[0.0,\"#0d0887\"],[0.1111111111111111,\"#46039f\"],[0.2222222222222222,\"#7201a8\"],[0.3333333333333333,\"#9c179e\"],[0.4444444444444444,\"#bd3786\"],[0.5555555555555556,\"#d8576b\"],[0.6666666666666666,\"#ed7953\"],[0.7777777777777778,\"#fb9f3a\"],[0.8888888888888888,\"#fdca26\"],[1.0,\"#f0f921\"]]},\"colorway\":[\"#636efa\",\"#EF553B\",\"#00cc96\",\"#ab63fa\",\"#FFA15A\",\"#19d3f3\",\"#FF6692\",\"#B6E880\",\"#FF97FF\",\"#FECB52\"],\"font\":{\"color\":\"#2a3f5f\"},\"geo\":{\"bgcolor\":\"white\",\"lakecolor\":\"white\",\"landcolor\":\"#E5ECF6\",\"showlakes\":true,\"showland\":true,\"subunitcolor\":\"white\"},\"hoverlabel\":{\"align\":\"left\"},\"hovermode\":\"closest\",\"mapbox\":{\"style\":\"light\"},\"paper_bgcolor\":\"white\",\"plot_bgcolor\":\"#E5ECF6\",\"polar\":{\"angularaxis\":{\"gridcolor\":\"white\",\"linecolor\":\"white\",\"ticks\":\"\"},\"bgcolor\":\"#E5ECF6\",\"radialaxis\":{\"gridcolor\":\"white\",\"linecolor\":\"white\",\"ticks\":\"\"}},\"scene\":{\"xaxis\":{\"backgroundcolor\":\"#E5ECF6\",\"gridcolor\":\"white\",\"gridwidth\":2,\"linecolor\":\"white\",\"showbackground\":true,\"ticks\":\"\",\"zerolinecolor\":\"white\"},\"yaxis\":{\"backgroundcolor\":\"#E5ECF6\",\"gridcolor\":\"white\",\"gridwidth\":2,\"linecolor\":\"white\",\"showbackground\":true,\"ticks\":\"\",\"zerolinecolor\":\"white\"},\"zaxis\":{\"backgroundcolor\":\"#E5ECF6\",\"gridcolor\":\"white\",\"gridwidth\":2,\"linecolor\":\"white\",\"showbackground\":true,\"ticks\":\"\",\"zerolinecolor\":\"white\"}},\"shapedefaults\":{\"line\":{\"color\":\"#2a3f5f\"}},\"ternary\":{\"aaxis\":{\"gridcolor\":\"white\",\"linecolor\":\"white\",\"ticks\":\"\"},\"baxis\":{\"gridcolor\":\"white\",\"linecolor\":\"white\",\"ticks\":\"\"},\"bgcolor\":\"#E5ECF6\",\"caxis\":{\"gridcolor\":\"white\",\"linecolor\":\"white\",\"ticks\":\"\"}},\"title\":{\"x\":0.05},\"xaxis\":{\"automargin\":true,\"gridcolor\":\"white\",\"linecolor\":\"white\",\"ticks\":\"\",\"title\":{\"standoff\":15},\"zerolinecolor\":\"white\",\"zerolinewidth\":2},\"yaxis\":{\"automargin\":true,\"gridcolor\":\"white\",\"linecolor\":\"white\",\"ticks\":\"\",\"title\":{\"standoff\":15},\"zerolinecolor\":\"white\",\"zerolinewidth\":2}}},\"xaxis\":{\"anchor\":\"y\",\"domain\":[0.0,1.0],\"title\":{\"text\":\"index\"}},\"yaxis\":{\"anchor\":\"x\",\"domain\":[0.0,1.0],\"title\":{\"text\":\"value\"}},\"legend\":{\"title\":{\"text\":\"variable\"},\"tracegroupgap\":0},\"margin\":{\"t\":60},\"barmode\":\"relative\"},                        {\"responsive\": true}                    ).then(function(){\n",
              "                            \n",
              "var gd = document.getElementById('7bbb2bb0-180a-47ec-bd1a-f853ab2bbbad');\n",
              "var x = new MutationObserver(function (mutations, observer) {{\n",
              "        var display = window.getComputedStyle(gd).display;\n",
              "        if (!display || display === 'none') {{\n",
              "            console.log([gd, 'removed!']);\n",
              "            Plotly.purge(gd);\n",
              "            observer.disconnect();\n",
              "        }}\n",
              "}});\n",
              "\n",
              "// Listen for the removal of the full notebook cells\n",
              "var notebookContainer = gd.closest('#notebook-container');\n",
              "if (notebookContainer) {{\n",
              "    x.observe(notebookContainer, {childList: true});\n",
              "}}\n",
              "\n",
              "// Listen for the clearing of the current output cell\n",
              "var outputEl = gd.closest('.output');\n",
              "if (outputEl) {{\n",
              "    x.observe(outputEl, {childList: true});\n",
              "}}\n",
              "\n",
              "                        })                };                            </script>        </div>\n",
              "</body>\n",
              "</html>"
            ]
          },
          "metadata": {}
        }
      ]
    },
    {
      "cell_type": "code",
      "source": [
        "dataframe['hs_email_last_email_name'] = dataframe['hs_email_last_email_name'].replace(np.nan, 'Here s Your Booking Link! [referral link]')"
      ],
      "metadata": {
        "id": "fL9bez5wYdQd"
      },
      "execution_count": null,
      "outputs": []
    },
    {
      "cell_type": "code",
      "source": [
        "dataframe['hs_email_last_email_name'].isnull().sum()"
      ],
      "metadata": {
        "colab": {
          "base_uri": "https://localhost:8080/"
        },
        "id": "Ph1MT8oEZunb",
        "outputId": "7960ff1d-92ff-4028-d3a5-e08df5dfc69e"
      },
      "execution_count": null,
      "outputs": [
        {
          "output_type": "execute_result",
          "data": {
            "text/plain": [
              "0"
            ]
          },
          "metadata": {},
          "execution_count": 1541
        }
      ]
    },
    {
      "cell_type": "markdown",
      "source": [
        "##hs email open"
      ],
      "metadata": {
        "id": "ZA3MEgPxZ8OE"
      }
    },
    {
      "cell_type": "code",
      "source": [
        "dataframe['hs_email_open'].describe()"
      ],
      "metadata": {
        "colab": {
          "base_uri": "https://localhost:8080/"
        },
        "id": "388k9E0tZwIw",
        "outputId": "3e22cb1c-b017-4b22-ed29-09ddb3bced83"
      },
      "execution_count": null,
      "outputs": [
        {
          "output_type": "execute_result",
          "data": {
            "text/plain": [
              "count    699.000000\n",
              "mean       3.010014\n",
              "std        4.368573\n",
              "min        1.000000\n",
              "25%        1.000000\n",
              "50%        2.000000\n",
              "75%        3.000000\n",
              "max       51.000000\n",
              "Name: hs_email_open, dtype: float64"
            ]
          },
          "metadata": {},
          "execution_count": 1542
        }
      ]
    },
    {
      "cell_type": "code",
      "source": [
        "dataframe['hs_email_open'].isnull().sum()"
      ],
      "metadata": {
        "colab": {
          "base_uri": "https://localhost:8080/"
        },
        "id": "hDKJ3-qkZ7Pi",
        "outputId": "30952ceb-98d6-462a-b57d-10c415a486b8"
      },
      "execution_count": null,
      "outputs": [
        {
          "output_type": "execute_result",
          "data": {
            "text/plain": [
              "648"
            ]
          },
          "metadata": {},
          "execution_count": 1543
        }
      ]
    },
    {
      "cell_type": "code",
      "source": [
        "mean = data['hs_email_open'].mean()"
      ],
      "metadata": {
        "id": "xCcAM8J9aY8k"
      },
      "execution_count": null,
      "outputs": []
    },
    {
      "cell_type": "code",
      "source": [
        "dataframe['hs_email_open'] = dataframe['hs_email_open'].replace(np.nan, mean)"
      ],
      "metadata": {
        "id": "_Wmr_0XzagaE"
      },
      "execution_count": null,
      "outputs": []
    },
    {
      "cell_type": "code",
      "source": [
        "dataframe['hs_email_open'].isnull().sum()"
      ],
      "metadata": {
        "colab": {
          "base_uri": "https://localhost:8080/"
        },
        "id": "6qIovIcaarGP",
        "outputId": "f542e970-7a59-44ba-8829-3d923184399a"
      },
      "execution_count": null,
      "outputs": [
        {
          "output_type": "execute_result",
          "data": {
            "text/plain": [
              "0"
            ]
          },
          "metadata": {},
          "execution_count": 1546
        }
      ]
    },
    {
      "cell_type": "markdown",
      "source": [
        "##hs email sends since last engagement"
      ],
      "metadata": {
        "id": "7MJNzQfFbBjJ"
      }
    },
    {
      "cell_type": "code",
      "source": [
        "dataframe['hs_email_sends_since_last_engagement'].describe()"
      ],
      "metadata": {
        "colab": {
          "base_uri": "https://localhost:8080/"
        },
        "id": "F9SykZgTaxFy",
        "outputId": "48dcca36-35e4-4f05-e266-5633d82acf3b"
      },
      "execution_count": null,
      "outputs": [
        {
          "output_type": "execute_result",
          "data": {
            "text/plain": [
              "count    1135.000000\n",
              "mean        2.193833\n",
              "std         4.334489\n",
              "min         0.000000\n",
              "25%         0.000000\n",
              "50%         0.000000\n",
              "75%         2.000000\n",
              "max        25.000000\n",
              "Name: hs_email_sends_since_last_engagement, dtype: float64"
            ]
          },
          "metadata": {},
          "execution_count": 1547
        }
      ]
    },
    {
      "cell_type": "code",
      "source": [
        "dataframe['hs_email_sends_since_last_engagement'].isnull().sum()"
      ],
      "metadata": {
        "colab": {
          "base_uri": "https://localhost:8080/"
        },
        "id": "Ahkq-LK8bIea",
        "outputId": "41ec7d7b-a017-41a9-e702-de3f4e069840"
      },
      "execution_count": null,
      "outputs": [
        {
          "output_type": "execute_result",
          "data": {
            "text/plain": [
              "212"
            ]
          },
          "metadata": {},
          "execution_count": 1548
        }
      ]
    },
    {
      "cell_type": "code",
      "source": [
        "mean = data['hs_email_sends_since_last_engagement'].mean()"
      ],
      "metadata": {
        "id": "vICdrUBObXBz"
      },
      "execution_count": null,
      "outputs": []
    },
    {
      "cell_type": "code",
      "source": [
        "dataframe['hs_email_sends_since_last_engagement'] = dataframe['hs_email_sends_since_last_engagement'].replace(np.nan, mean)"
      ],
      "metadata": {
        "id": "F_HqIoM1bgdx"
      },
      "execution_count": null,
      "outputs": []
    },
    {
      "cell_type": "code",
      "source": [
        "dataframe['hs_email_sends_since_last_engagement'].isnull().sum()"
      ],
      "metadata": {
        "colab": {
          "base_uri": "https://localhost:8080/"
        },
        "id": "RM51CnlSb0wy",
        "outputId": "e267723f-dd5e-44e5-8c75-bab5bc9a7854"
      },
      "execution_count": null,
      "outputs": [
        {
          "output_type": "execute_result",
          "data": {
            "text/plain": [
              "0"
            ]
          },
          "metadata": {},
          "execution_count": 1551
        }
      ]
    },
    {
      "cell_type": "markdown",
      "source": [
        "##hs ip timezone"
      ],
      "metadata": {
        "id": "sXpiwZ0JcaJb"
      }
    },
    {
      "cell_type": "code",
      "source": [
        "dataframe['hs_ip_timezone'].describe()"
      ],
      "metadata": {
        "colab": {
          "base_uri": "https://localhost:8080/"
        },
        "id": "MR_igpTZb3Cg",
        "outputId": "b00b3cee-9dc5-4c59-c1c5-24592a988a07"
      },
      "execution_count": null,
      "outputs": [
        {
          "output_type": "execute_result",
          "data": {
            "text/plain": [
              "count                        799\n",
              "unique                        18\n",
              "top       america_slash_new_york\n",
              "freq                         314\n",
              "Name: hs_ip_timezone, dtype: object"
            ]
          },
          "metadata": {},
          "execution_count": 1552
        }
      ]
    },
    {
      "cell_type": "code",
      "source": [
        "dataframe['hs_ip_timezone'].isnull().sum()"
      ],
      "metadata": {
        "colab": {
          "base_uri": "https://localhost:8080/"
        },
        "id": "lYwE5qAvchph",
        "outputId": "9a78c2ae-231c-4e22-9f58-54d1c559e1de"
      },
      "execution_count": null,
      "outputs": [
        {
          "output_type": "execute_result",
          "data": {
            "text/plain": [
              "548"
            ]
          },
          "metadata": {},
          "execution_count": 1553
        }
      ]
    },
    {
      "cell_type": "code",
      "source": [
        "value = dataframe['hs_ip_timezone'].value_counts()"
      ],
      "metadata": {
        "id": "NkrNfMdrcppu"
      },
      "execution_count": null,
      "outputs": []
    },
    {
      "cell_type": "code",
      "source": [
        "fig = px.bar(value)\n",
        "fig.show()"
      ],
      "metadata": {
        "colab": {
          "base_uri": "https://localhost:8080/",
          "height": 542
        },
        "id": "7R4gJhlccvp6",
        "outputId": "2fdd4452-72c0-402c-8044-2b99ac7c502c"
      },
      "execution_count": null,
      "outputs": [
        {
          "output_type": "display_data",
          "data": {
            "text/html": [
              "<html>\n",
              "<head><meta charset=\"utf-8\" /></head>\n",
              "<body>\n",
              "    <div>            <script src=\"https://cdnjs.cloudflare.com/ajax/libs/mathjax/2.7.5/MathJax.js?config=TeX-AMS-MML_SVG\"></script><script type=\"text/javascript\">if (window.MathJax) {MathJax.Hub.Config({SVG: {font: \"STIX-Web\"}});}</script>                <script type=\"text/javascript\">window.PlotlyConfig = {MathJaxConfig: 'local'};</script>\n",
              "        <script src=\"https://cdn.plot.ly/plotly-2.8.3.min.js\"></script>                <div id=\"5c4550f6-fd1e-4af9-981a-f39b7d5b04e3\" class=\"plotly-graph-div\" style=\"height:525px; width:100%;\"></div>            <script type=\"text/javascript\">                                    window.PLOTLYENV=window.PLOTLYENV || {};                                    if (document.getElementById(\"5c4550f6-fd1e-4af9-981a-f39b7d5b04e3\")) {                    Plotly.newPlot(                        \"5c4550f6-fd1e-4af9-981a-f39b7d5b04e3\",                        [{\"alignmentgroup\":\"True\",\"hovertemplate\":\"variable=hs_ip_timezone<br>index=%{x}<br>value=%{y}<extra></extra>\",\"legendgroup\":\"hs_ip_timezone\",\"marker\":{\"color\":\"#636efa\",\"pattern\":{\"shape\":\"\"}},\"name\":\"hs_ip_timezone\",\"offsetgroup\":\"hs_ip_timezone\",\"orientation\":\"v\",\"showlegend\":true,\"textposition\":\"auto\",\"x\":[\"america_slash_new_york\",\"america_slash_chicago\",\"america_slash_los_angeles\",\"america_slash_denver\",\"america_slash_phoenix\",\"america_slash_detroit\",\"america_slash_indiana_slash_indianapolis\",\"america_slash_boise\",\"pacific_slash_honolulu\",\"america_slash_kentucky_slash_louisville\",\"europe_slash_zurich\",\"europe_slash_berlin\",\"america_slash_anchorage\",\"america_slash_indiana_slash_vincennes\",\"america_slash_sao_paulo\",\"europe_slash_paris\",\"1\",\"australia_slash_hobart\"],\"xaxis\":\"x\",\"y\":[314,210,140,52,31,16,11,7,3,3,3,2,2,1,1,1,1,1],\"yaxis\":\"y\",\"type\":\"bar\"}],                        {\"template\":{\"data\":{\"bar\":[{\"error_x\":{\"color\":\"#2a3f5f\"},\"error_y\":{\"color\":\"#2a3f5f\"},\"marker\":{\"line\":{\"color\":\"#E5ECF6\",\"width\":0.5},\"pattern\":{\"fillmode\":\"overlay\",\"size\":10,\"solidity\":0.2}},\"type\":\"bar\"}],\"barpolar\":[{\"marker\":{\"line\":{\"color\":\"#E5ECF6\",\"width\":0.5},\"pattern\":{\"fillmode\":\"overlay\",\"size\":10,\"solidity\":0.2}},\"type\":\"barpolar\"}],\"carpet\":[{\"aaxis\":{\"endlinecolor\":\"#2a3f5f\",\"gridcolor\":\"white\",\"linecolor\":\"white\",\"minorgridcolor\":\"white\",\"startlinecolor\":\"#2a3f5f\"},\"baxis\":{\"endlinecolor\":\"#2a3f5f\",\"gridcolor\":\"white\",\"linecolor\":\"white\",\"minorgridcolor\":\"white\",\"startlinecolor\":\"#2a3f5f\"},\"type\":\"carpet\"}],\"choropleth\":[{\"colorbar\":{\"outlinewidth\":0,\"ticks\":\"\"},\"type\":\"choropleth\"}],\"contour\":[{\"colorbar\":{\"outlinewidth\":0,\"ticks\":\"\"},\"colorscale\":[[0.0,\"#0d0887\"],[0.1111111111111111,\"#46039f\"],[0.2222222222222222,\"#7201a8\"],[0.3333333333333333,\"#9c179e\"],[0.4444444444444444,\"#bd3786\"],[0.5555555555555556,\"#d8576b\"],[0.6666666666666666,\"#ed7953\"],[0.7777777777777778,\"#fb9f3a\"],[0.8888888888888888,\"#fdca26\"],[1.0,\"#f0f921\"]],\"type\":\"contour\"}],\"contourcarpet\":[{\"colorbar\":{\"outlinewidth\":0,\"ticks\":\"\"},\"type\":\"contourcarpet\"}],\"heatmap\":[{\"colorbar\":{\"outlinewidth\":0,\"ticks\":\"\"},\"colorscale\":[[0.0,\"#0d0887\"],[0.1111111111111111,\"#46039f\"],[0.2222222222222222,\"#7201a8\"],[0.3333333333333333,\"#9c179e\"],[0.4444444444444444,\"#bd3786\"],[0.5555555555555556,\"#d8576b\"],[0.6666666666666666,\"#ed7953\"],[0.7777777777777778,\"#fb9f3a\"],[0.8888888888888888,\"#fdca26\"],[1.0,\"#f0f921\"]],\"type\":\"heatmap\"}],\"heatmapgl\":[{\"colorbar\":{\"outlinewidth\":0,\"ticks\":\"\"},\"colorscale\":[[0.0,\"#0d0887\"],[0.1111111111111111,\"#46039f\"],[0.2222222222222222,\"#7201a8\"],[0.3333333333333333,\"#9c179e\"],[0.4444444444444444,\"#bd3786\"],[0.5555555555555556,\"#d8576b\"],[0.6666666666666666,\"#ed7953\"],[0.7777777777777778,\"#fb9f3a\"],[0.8888888888888888,\"#fdca26\"],[1.0,\"#f0f921\"]],\"type\":\"heatmapgl\"}],\"histogram\":[{\"marker\":{\"pattern\":{\"fillmode\":\"overlay\",\"size\":10,\"solidity\":0.2}},\"type\":\"histogram\"}],\"histogram2d\":[{\"colorbar\":{\"outlinewidth\":0,\"ticks\":\"\"},\"colorscale\":[[0.0,\"#0d0887\"],[0.1111111111111111,\"#46039f\"],[0.2222222222222222,\"#7201a8\"],[0.3333333333333333,\"#9c179e\"],[0.4444444444444444,\"#bd3786\"],[0.5555555555555556,\"#d8576b\"],[0.6666666666666666,\"#ed7953\"],[0.7777777777777778,\"#fb9f3a\"],[0.8888888888888888,\"#fdca26\"],[1.0,\"#f0f921\"]],\"type\":\"histogram2d\"}],\"histogram2dcontour\":[{\"colorbar\":{\"outlinewidth\":0,\"ticks\":\"\"},\"colorscale\":[[0.0,\"#0d0887\"],[0.1111111111111111,\"#46039f\"],[0.2222222222222222,\"#7201a8\"],[0.3333333333333333,\"#9c179e\"],[0.4444444444444444,\"#bd3786\"],[0.5555555555555556,\"#d8576b\"],[0.6666666666666666,\"#ed7953\"],[0.7777777777777778,\"#fb9f3a\"],[0.8888888888888888,\"#fdca26\"],[1.0,\"#f0f921\"]],\"type\":\"histogram2dcontour\"}],\"mesh3d\":[{\"colorbar\":{\"outlinewidth\":0,\"ticks\":\"\"},\"type\":\"mesh3d\"}],\"parcoords\":[{\"line\":{\"colorbar\":{\"outlinewidth\":0,\"ticks\":\"\"}},\"type\":\"parcoords\"}],\"pie\":[{\"automargin\":true,\"type\":\"pie\"}],\"scatter\":[{\"marker\":{\"colorbar\":{\"outlinewidth\":0,\"ticks\":\"\"}},\"type\":\"scatter\"}],\"scatter3d\":[{\"line\":{\"colorbar\":{\"outlinewidth\":0,\"ticks\":\"\"}},\"marker\":{\"colorbar\":{\"outlinewidth\":0,\"ticks\":\"\"}},\"type\":\"scatter3d\"}],\"scattercarpet\":[{\"marker\":{\"colorbar\":{\"outlinewidth\":0,\"ticks\":\"\"}},\"type\":\"scattercarpet\"}],\"scattergeo\":[{\"marker\":{\"colorbar\":{\"outlinewidth\":0,\"ticks\":\"\"}},\"type\":\"scattergeo\"}],\"scattergl\":[{\"marker\":{\"colorbar\":{\"outlinewidth\":0,\"ticks\":\"\"}},\"type\":\"scattergl\"}],\"scattermapbox\":[{\"marker\":{\"colorbar\":{\"outlinewidth\":0,\"ticks\":\"\"}},\"type\":\"scattermapbox\"}],\"scatterpolar\":[{\"marker\":{\"colorbar\":{\"outlinewidth\":0,\"ticks\":\"\"}},\"type\":\"scatterpolar\"}],\"scatterpolargl\":[{\"marker\":{\"colorbar\":{\"outlinewidth\":0,\"ticks\":\"\"}},\"type\":\"scatterpolargl\"}],\"scatterternary\":[{\"marker\":{\"colorbar\":{\"outlinewidth\":0,\"ticks\":\"\"}},\"type\":\"scatterternary\"}],\"surface\":[{\"colorbar\":{\"outlinewidth\":0,\"ticks\":\"\"},\"colorscale\":[[0.0,\"#0d0887\"],[0.1111111111111111,\"#46039f\"],[0.2222222222222222,\"#7201a8\"],[0.3333333333333333,\"#9c179e\"],[0.4444444444444444,\"#bd3786\"],[0.5555555555555556,\"#d8576b\"],[0.6666666666666666,\"#ed7953\"],[0.7777777777777778,\"#fb9f3a\"],[0.8888888888888888,\"#fdca26\"],[1.0,\"#f0f921\"]],\"type\":\"surface\"}],\"table\":[{\"cells\":{\"fill\":{\"color\":\"#EBF0F8\"},\"line\":{\"color\":\"white\"}},\"header\":{\"fill\":{\"color\":\"#C8D4E3\"},\"line\":{\"color\":\"white\"}},\"type\":\"table\"}]},\"layout\":{\"annotationdefaults\":{\"arrowcolor\":\"#2a3f5f\",\"arrowhead\":0,\"arrowwidth\":1},\"autotypenumbers\":\"strict\",\"coloraxis\":{\"colorbar\":{\"outlinewidth\":0,\"ticks\":\"\"}},\"colorscale\":{\"diverging\":[[0,\"#8e0152\"],[0.1,\"#c51b7d\"],[0.2,\"#de77ae\"],[0.3,\"#f1b6da\"],[0.4,\"#fde0ef\"],[0.5,\"#f7f7f7\"],[0.6,\"#e6f5d0\"],[0.7,\"#b8e186\"],[0.8,\"#7fbc41\"],[0.9,\"#4d9221\"],[1,\"#276419\"]],\"sequential\":[[0.0,\"#0d0887\"],[0.1111111111111111,\"#46039f\"],[0.2222222222222222,\"#7201a8\"],[0.3333333333333333,\"#9c179e\"],[0.4444444444444444,\"#bd3786\"],[0.5555555555555556,\"#d8576b\"],[0.6666666666666666,\"#ed7953\"],[0.7777777777777778,\"#fb9f3a\"],[0.8888888888888888,\"#fdca26\"],[1.0,\"#f0f921\"]],\"sequentialminus\":[[0.0,\"#0d0887\"],[0.1111111111111111,\"#46039f\"],[0.2222222222222222,\"#7201a8\"],[0.3333333333333333,\"#9c179e\"],[0.4444444444444444,\"#bd3786\"],[0.5555555555555556,\"#d8576b\"],[0.6666666666666666,\"#ed7953\"],[0.7777777777777778,\"#fb9f3a\"],[0.8888888888888888,\"#fdca26\"],[1.0,\"#f0f921\"]]},\"colorway\":[\"#636efa\",\"#EF553B\",\"#00cc96\",\"#ab63fa\",\"#FFA15A\",\"#19d3f3\",\"#FF6692\",\"#B6E880\",\"#FF97FF\",\"#FECB52\"],\"font\":{\"color\":\"#2a3f5f\"},\"geo\":{\"bgcolor\":\"white\",\"lakecolor\":\"white\",\"landcolor\":\"#E5ECF6\",\"showlakes\":true,\"showland\":true,\"subunitcolor\":\"white\"},\"hoverlabel\":{\"align\":\"left\"},\"hovermode\":\"closest\",\"mapbox\":{\"style\":\"light\"},\"paper_bgcolor\":\"white\",\"plot_bgcolor\":\"#E5ECF6\",\"polar\":{\"angularaxis\":{\"gridcolor\":\"white\",\"linecolor\":\"white\",\"ticks\":\"\"},\"bgcolor\":\"#E5ECF6\",\"radialaxis\":{\"gridcolor\":\"white\",\"linecolor\":\"white\",\"ticks\":\"\"}},\"scene\":{\"xaxis\":{\"backgroundcolor\":\"#E5ECF6\",\"gridcolor\":\"white\",\"gridwidth\":2,\"linecolor\":\"white\",\"showbackground\":true,\"ticks\":\"\",\"zerolinecolor\":\"white\"},\"yaxis\":{\"backgroundcolor\":\"#E5ECF6\",\"gridcolor\":\"white\",\"gridwidth\":2,\"linecolor\":\"white\",\"showbackground\":true,\"ticks\":\"\",\"zerolinecolor\":\"white\"},\"zaxis\":{\"backgroundcolor\":\"#E5ECF6\",\"gridcolor\":\"white\",\"gridwidth\":2,\"linecolor\":\"white\",\"showbackground\":true,\"ticks\":\"\",\"zerolinecolor\":\"white\"}},\"shapedefaults\":{\"line\":{\"color\":\"#2a3f5f\"}},\"ternary\":{\"aaxis\":{\"gridcolor\":\"white\",\"linecolor\":\"white\",\"ticks\":\"\"},\"baxis\":{\"gridcolor\":\"white\",\"linecolor\":\"white\",\"ticks\":\"\"},\"bgcolor\":\"#E5ECF6\",\"caxis\":{\"gridcolor\":\"white\",\"linecolor\":\"white\",\"ticks\":\"\"}},\"title\":{\"x\":0.05},\"xaxis\":{\"automargin\":true,\"gridcolor\":\"white\",\"linecolor\":\"white\",\"ticks\":\"\",\"title\":{\"standoff\":15},\"zerolinecolor\":\"white\",\"zerolinewidth\":2},\"yaxis\":{\"automargin\":true,\"gridcolor\":\"white\",\"linecolor\":\"white\",\"ticks\":\"\",\"title\":{\"standoff\":15},\"zerolinecolor\":\"white\",\"zerolinewidth\":2}}},\"xaxis\":{\"anchor\":\"y\",\"domain\":[0.0,1.0],\"title\":{\"text\":\"index\"}},\"yaxis\":{\"anchor\":\"x\",\"domain\":[0.0,1.0],\"title\":{\"text\":\"value\"}},\"legend\":{\"title\":{\"text\":\"variable\"},\"tracegroupgap\":0},\"margin\":{\"t\":60},\"barmode\":\"relative\"},                        {\"responsive\": true}                    ).then(function(){\n",
              "                            \n",
              "var gd = document.getElementById('5c4550f6-fd1e-4af9-981a-f39b7d5b04e3');\n",
              "var x = new MutationObserver(function (mutations, observer) {{\n",
              "        var display = window.getComputedStyle(gd).display;\n",
              "        if (!display || display === 'none') {{\n",
              "            console.log([gd, 'removed!']);\n",
              "            Plotly.purge(gd);\n",
              "            observer.disconnect();\n",
              "        }}\n",
              "}});\n",
              "\n",
              "// Listen for the removal of the full notebook cells\n",
              "var notebookContainer = gd.closest('#notebook-container');\n",
              "if (notebookContainer) {{\n",
              "    x.observe(notebookContainer, {childList: true});\n",
              "}}\n",
              "\n",
              "// Listen for the clearing of the current output cell\n",
              "var outputEl = gd.closest('.output');\n",
              "if (outputEl) {{\n",
              "    x.observe(outputEl, {childList: true});\n",
              "}}\n",
              "\n",
              "                        })                };                            </script>        </div>\n",
              "</body>\n",
              "</html>"
            ]
          },
          "metadata": {}
        }
      ]
    },
    {
      "cell_type": "code",
      "source": [
        "dataframe['hs_ip_timezone'] = dataframe['hs_ip_timezone'].replace(np.nan, 'other')"
      ],
      "metadata": {
        "id": "6ATwbUGoc3hi"
      },
      "execution_count": null,
      "outputs": []
    },
    {
      "cell_type": "code",
      "source": [
        "dataframe['hs_ip_timezone'].isnull().sum()"
      ],
      "metadata": {
        "colab": {
          "base_uri": "https://localhost:8080/"
        },
        "id": "ZbTuzOKWdEEi",
        "outputId": "41e77f93-c68f-46f9-ed7e-ed3d7beca0e1"
      },
      "execution_count": null,
      "outputs": [
        {
          "output_type": "execute_result",
          "data": {
            "text/plain": [
              "0"
            ]
          },
          "metadata": {},
          "execution_count": 1557
        }
      ]
    },
    {
      "cell_type": "markdown",
      "source": [
        "##hs is unworked"
      ],
      "metadata": {
        "id": "4dqkvMd9dyGr"
      }
    },
    {
      "cell_type": "code",
      "source": [
        "dataframe['hs_is_unworked'].describe()"
      ],
      "metadata": {
        "colab": {
          "base_uri": "https://localhost:8080/"
        },
        "id": "7iQy2z_XdjNp",
        "outputId": "e17e9259-eecd-47b8-a814-e216d5616ca8"
      },
      "execution_count": null,
      "outputs": [
        {
          "output_type": "execute_result",
          "data": {
            "text/plain": [
              "count      1263\n",
              "unique        2\n",
              "top       False\n",
              "freq       1072\n",
              "Name: hs_is_unworked, dtype: object"
            ]
          },
          "metadata": {},
          "execution_count": 1558
        }
      ]
    },
    {
      "cell_type": "code",
      "source": [
        "dataframe['hs_is_unworked'].isnull().sum()"
      ],
      "metadata": {
        "colab": {
          "base_uri": "https://localhost:8080/"
        },
        "id": "Gp3NqKirdtrW",
        "outputId": "5fee3f48-ef79-4c04-8c5e-6c9fed35ffad"
      },
      "execution_count": null,
      "outputs": [
        {
          "output_type": "execute_result",
          "data": {
            "text/plain": [
              "84"
            ]
          },
          "metadata": {},
          "execution_count": 1559
        }
      ]
    },
    {
      "cell_type": "code",
      "source": [
        "value = dataframe['hs_is_unworked'].value_counts()"
      ],
      "metadata": {
        "id": "krszS7WEd4FW"
      },
      "execution_count": null,
      "outputs": []
    },
    {
      "cell_type": "code",
      "source": [
        "fig = px.bar(value)\n",
        "fig.show()"
      ],
      "metadata": {
        "colab": {
          "base_uri": "https://localhost:8080/",
          "height": 542
        },
        "id": "z7-_D9wceASe",
        "outputId": "02f7662c-42fb-473e-c8d8-7fe0afe4d1f2"
      },
      "execution_count": null,
      "outputs": [
        {
          "output_type": "display_data",
          "data": {
            "text/html": [
              "<html>\n",
              "<head><meta charset=\"utf-8\" /></head>\n",
              "<body>\n",
              "    <div>            <script src=\"https://cdnjs.cloudflare.com/ajax/libs/mathjax/2.7.5/MathJax.js?config=TeX-AMS-MML_SVG\"></script><script type=\"text/javascript\">if (window.MathJax) {MathJax.Hub.Config({SVG: {font: \"STIX-Web\"}});}</script>                <script type=\"text/javascript\">window.PlotlyConfig = {MathJaxConfig: 'local'};</script>\n",
              "        <script src=\"https://cdn.plot.ly/plotly-2.8.3.min.js\"></script>                <div id=\"892f54c2-302d-44d2-8900-f7d359b3524e\" class=\"plotly-graph-div\" style=\"height:525px; width:100%;\"></div>            <script type=\"text/javascript\">                                    window.PLOTLYENV=window.PLOTLYENV || {};                                    if (document.getElementById(\"892f54c2-302d-44d2-8900-f7d359b3524e\")) {                    Plotly.newPlot(                        \"892f54c2-302d-44d2-8900-f7d359b3524e\",                        [{\"alignmentgroup\":\"True\",\"hovertemplate\":\"variable=hs_is_unworked<br>index=%{x}<br>value=%{y}<extra></extra>\",\"legendgroup\":\"hs_is_unworked\",\"marker\":{\"color\":\"#636efa\",\"pattern\":{\"shape\":\"\"}},\"name\":\"hs_is_unworked\",\"offsetgroup\":\"hs_is_unworked\",\"orientation\":\"v\",\"showlegend\":true,\"textposition\":\"auto\",\"x\":[false,true],\"xaxis\":\"x\",\"y\":[1072,191],\"yaxis\":\"y\",\"type\":\"bar\"}],                        {\"template\":{\"data\":{\"bar\":[{\"error_x\":{\"color\":\"#2a3f5f\"},\"error_y\":{\"color\":\"#2a3f5f\"},\"marker\":{\"line\":{\"color\":\"#E5ECF6\",\"width\":0.5},\"pattern\":{\"fillmode\":\"overlay\",\"size\":10,\"solidity\":0.2}},\"type\":\"bar\"}],\"barpolar\":[{\"marker\":{\"line\":{\"color\":\"#E5ECF6\",\"width\":0.5},\"pattern\":{\"fillmode\":\"overlay\",\"size\":10,\"solidity\":0.2}},\"type\":\"barpolar\"}],\"carpet\":[{\"aaxis\":{\"endlinecolor\":\"#2a3f5f\",\"gridcolor\":\"white\",\"linecolor\":\"white\",\"minorgridcolor\":\"white\",\"startlinecolor\":\"#2a3f5f\"},\"baxis\":{\"endlinecolor\":\"#2a3f5f\",\"gridcolor\":\"white\",\"linecolor\":\"white\",\"minorgridcolor\":\"white\",\"startlinecolor\":\"#2a3f5f\"},\"type\":\"carpet\"}],\"choropleth\":[{\"colorbar\":{\"outlinewidth\":0,\"ticks\":\"\"},\"type\":\"choropleth\"}],\"contour\":[{\"colorbar\":{\"outlinewidth\":0,\"ticks\":\"\"},\"colorscale\":[[0.0,\"#0d0887\"],[0.1111111111111111,\"#46039f\"],[0.2222222222222222,\"#7201a8\"],[0.3333333333333333,\"#9c179e\"],[0.4444444444444444,\"#bd3786\"],[0.5555555555555556,\"#d8576b\"],[0.6666666666666666,\"#ed7953\"],[0.7777777777777778,\"#fb9f3a\"],[0.8888888888888888,\"#fdca26\"],[1.0,\"#f0f921\"]],\"type\":\"contour\"}],\"contourcarpet\":[{\"colorbar\":{\"outlinewidth\":0,\"ticks\":\"\"},\"type\":\"contourcarpet\"}],\"heatmap\":[{\"colorbar\":{\"outlinewidth\":0,\"ticks\":\"\"},\"colorscale\":[[0.0,\"#0d0887\"],[0.1111111111111111,\"#46039f\"],[0.2222222222222222,\"#7201a8\"],[0.3333333333333333,\"#9c179e\"],[0.4444444444444444,\"#bd3786\"],[0.5555555555555556,\"#d8576b\"],[0.6666666666666666,\"#ed7953\"],[0.7777777777777778,\"#fb9f3a\"],[0.8888888888888888,\"#fdca26\"],[1.0,\"#f0f921\"]],\"type\":\"heatmap\"}],\"heatmapgl\":[{\"colorbar\":{\"outlinewidth\":0,\"ticks\":\"\"},\"colorscale\":[[0.0,\"#0d0887\"],[0.1111111111111111,\"#46039f\"],[0.2222222222222222,\"#7201a8\"],[0.3333333333333333,\"#9c179e\"],[0.4444444444444444,\"#bd3786\"],[0.5555555555555556,\"#d8576b\"],[0.6666666666666666,\"#ed7953\"],[0.7777777777777778,\"#fb9f3a\"],[0.8888888888888888,\"#fdca26\"],[1.0,\"#f0f921\"]],\"type\":\"heatmapgl\"}],\"histogram\":[{\"marker\":{\"pattern\":{\"fillmode\":\"overlay\",\"size\":10,\"solidity\":0.2}},\"type\":\"histogram\"}],\"histogram2d\":[{\"colorbar\":{\"outlinewidth\":0,\"ticks\":\"\"},\"colorscale\":[[0.0,\"#0d0887\"],[0.1111111111111111,\"#46039f\"],[0.2222222222222222,\"#7201a8\"],[0.3333333333333333,\"#9c179e\"],[0.4444444444444444,\"#bd3786\"],[0.5555555555555556,\"#d8576b\"],[0.6666666666666666,\"#ed7953\"],[0.7777777777777778,\"#fb9f3a\"],[0.8888888888888888,\"#fdca26\"],[1.0,\"#f0f921\"]],\"type\":\"histogram2d\"}],\"histogram2dcontour\":[{\"colorbar\":{\"outlinewidth\":0,\"ticks\":\"\"},\"colorscale\":[[0.0,\"#0d0887\"],[0.1111111111111111,\"#46039f\"],[0.2222222222222222,\"#7201a8\"],[0.3333333333333333,\"#9c179e\"],[0.4444444444444444,\"#bd3786\"],[0.5555555555555556,\"#d8576b\"],[0.6666666666666666,\"#ed7953\"],[0.7777777777777778,\"#fb9f3a\"],[0.8888888888888888,\"#fdca26\"],[1.0,\"#f0f921\"]],\"type\":\"histogram2dcontour\"}],\"mesh3d\":[{\"colorbar\":{\"outlinewidth\":0,\"ticks\":\"\"},\"type\":\"mesh3d\"}],\"parcoords\":[{\"line\":{\"colorbar\":{\"outlinewidth\":0,\"ticks\":\"\"}},\"type\":\"parcoords\"}],\"pie\":[{\"automargin\":true,\"type\":\"pie\"}],\"scatter\":[{\"marker\":{\"colorbar\":{\"outlinewidth\":0,\"ticks\":\"\"}},\"type\":\"scatter\"}],\"scatter3d\":[{\"line\":{\"colorbar\":{\"outlinewidth\":0,\"ticks\":\"\"}},\"marker\":{\"colorbar\":{\"outlinewidth\":0,\"ticks\":\"\"}},\"type\":\"scatter3d\"}],\"scattercarpet\":[{\"marker\":{\"colorbar\":{\"outlinewidth\":0,\"ticks\":\"\"}},\"type\":\"scattercarpet\"}],\"scattergeo\":[{\"marker\":{\"colorbar\":{\"outlinewidth\":0,\"ticks\":\"\"}},\"type\":\"scattergeo\"}],\"scattergl\":[{\"marker\":{\"colorbar\":{\"outlinewidth\":0,\"ticks\":\"\"}},\"type\":\"scattergl\"}],\"scattermapbox\":[{\"marker\":{\"colorbar\":{\"outlinewidth\":0,\"ticks\":\"\"}},\"type\":\"scattermapbox\"}],\"scatterpolar\":[{\"marker\":{\"colorbar\":{\"outlinewidth\":0,\"ticks\":\"\"}},\"type\":\"scatterpolar\"}],\"scatterpolargl\":[{\"marker\":{\"colorbar\":{\"outlinewidth\":0,\"ticks\":\"\"}},\"type\":\"scatterpolargl\"}],\"scatterternary\":[{\"marker\":{\"colorbar\":{\"outlinewidth\":0,\"ticks\":\"\"}},\"type\":\"scatterternary\"}],\"surface\":[{\"colorbar\":{\"outlinewidth\":0,\"ticks\":\"\"},\"colorscale\":[[0.0,\"#0d0887\"],[0.1111111111111111,\"#46039f\"],[0.2222222222222222,\"#7201a8\"],[0.3333333333333333,\"#9c179e\"],[0.4444444444444444,\"#bd3786\"],[0.5555555555555556,\"#d8576b\"],[0.6666666666666666,\"#ed7953\"],[0.7777777777777778,\"#fb9f3a\"],[0.8888888888888888,\"#fdca26\"],[1.0,\"#f0f921\"]],\"type\":\"surface\"}],\"table\":[{\"cells\":{\"fill\":{\"color\":\"#EBF0F8\"},\"line\":{\"color\":\"white\"}},\"header\":{\"fill\":{\"color\":\"#C8D4E3\"},\"line\":{\"color\":\"white\"}},\"type\":\"table\"}]},\"layout\":{\"annotationdefaults\":{\"arrowcolor\":\"#2a3f5f\",\"arrowhead\":0,\"arrowwidth\":1},\"autotypenumbers\":\"strict\",\"coloraxis\":{\"colorbar\":{\"outlinewidth\":0,\"ticks\":\"\"}},\"colorscale\":{\"diverging\":[[0,\"#8e0152\"],[0.1,\"#c51b7d\"],[0.2,\"#de77ae\"],[0.3,\"#f1b6da\"],[0.4,\"#fde0ef\"],[0.5,\"#f7f7f7\"],[0.6,\"#e6f5d0\"],[0.7,\"#b8e186\"],[0.8,\"#7fbc41\"],[0.9,\"#4d9221\"],[1,\"#276419\"]],\"sequential\":[[0.0,\"#0d0887\"],[0.1111111111111111,\"#46039f\"],[0.2222222222222222,\"#7201a8\"],[0.3333333333333333,\"#9c179e\"],[0.4444444444444444,\"#bd3786\"],[0.5555555555555556,\"#d8576b\"],[0.6666666666666666,\"#ed7953\"],[0.7777777777777778,\"#fb9f3a\"],[0.8888888888888888,\"#fdca26\"],[1.0,\"#f0f921\"]],\"sequentialminus\":[[0.0,\"#0d0887\"],[0.1111111111111111,\"#46039f\"],[0.2222222222222222,\"#7201a8\"],[0.3333333333333333,\"#9c179e\"],[0.4444444444444444,\"#bd3786\"],[0.5555555555555556,\"#d8576b\"],[0.6666666666666666,\"#ed7953\"],[0.7777777777777778,\"#fb9f3a\"],[0.8888888888888888,\"#fdca26\"],[1.0,\"#f0f921\"]]},\"colorway\":[\"#636efa\",\"#EF553B\",\"#00cc96\",\"#ab63fa\",\"#FFA15A\",\"#19d3f3\",\"#FF6692\",\"#B6E880\",\"#FF97FF\",\"#FECB52\"],\"font\":{\"color\":\"#2a3f5f\"},\"geo\":{\"bgcolor\":\"white\",\"lakecolor\":\"white\",\"landcolor\":\"#E5ECF6\",\"showlakes\":true,\"showland\":true,\"subunitcolor\":\"white\"},\"hoverlabel\":{\"align\":\"left\"},\"hovermode\":\"closest\",\"mapbox\":{\"style\":\"light\"},\"paper_bgcolor\":\"white\",\"plot_bgcolor\":\"#E5ECF6\",\"polar\":{\"angularaxis\":{\"gridcolor\":\"white\",\"linecolor\":\"white\",\"ticks\":\"\"},\"bgcolor\":\"#E5ECF6\",\"radialaxis\":{\"gridcolor\":\"white\",\"linecolor\":\"white\",\"ticks\":\"\"}},\"scene\":{\"xaxis\":{\"backgroundcolor\":\"#E5ECF6\",\"gridcolor\":\"white\",\"gridwidth\":2,\"linecolor\":\"white\",\"showbackground\":true,\"ticks\":\"\",\"zerolinecolor\":\"white\"},\"yaxis\":{\"backgroundcolor\":\"#E5ECF6\",\"gridcolor\":\"white\",\"gridwidth\":2,\"linecolor\":\"white\",\"showbackground\":true,\"ticks\":\"\",\"zerolinecolor\":\"white\"},\"zaxis\":{\"backgroundcolor\":\"#E5ECF6\",\"gridcolor\":\"white\",\"gridwidth\":2,\"linecolor\":\"white\",\"showbackground\":true,\"ticks\":\"\",\"zerolinecolor\":\"white\"}},\"shapedefaults\":{\"line\":{\"color\":\"#2a3f5f\"}},\"ternary\":{\"aaxis\":{\"gridcolor\":\"white\",\"linecolor\":\"white\",\"ticks\":\"\"},\"baxis\":{\"gridcolor\":\"white\",\"linecolor\":\"white\",\"ticks\":\"\"},\"bgcolor\":\"#E5ECF6\",\"caxis\":{\"gridcolor\":\"white\",\"linecolor\":\"white\",\"ticks\":\"\"}},\"title\":{\"x\":0.05},\"xaxis\":{\"automargin\":true,\"gridcolor\":\"white\",\"linecolor\":\"white\",\"ticks\":\"\",\"title\":{\"standoff\":15},\"zerolinecolor\":\"white\",\"zerolinewidth\":2},\"yaxis\":{\"automargin\":true,\"gridcolor\":\"white\",\"linecolor\":\"white\",\"ticks\":\"\",\"title\":{\"standoff\":15},\"zerolinecolor\":\"white\",\"zerolinewidth\":2}}},\"xaxis\":{\"anchor\":\"y\",\"domain\":[0.0,1.0],\"title\":{\"text\":\"index\"}},\"yaxis\":{\"anchor\":\"x\",\"domain\":[0.0,1.0],\"title\":{\"text\":\"value\"}},\"legend\":{\"title\":{\"text\":\"variable\"},\"tracegroupgap\":0},\"margin\":{\"t\":60},\"barmode\":\"relative\"},                        {\"responsive\": true}                    ).then(function(){\n",
              "                            \n",
              "var gd = document.getElementById('892f54c2-302d-44d2-8900-f7d359b3524e');\n",
              "var x = new MutationObserver(function (mutations, observer) {{\n",
              "        var display = window.getComputedStyle(gd).display;\n",
              "        if (!display || display === 'none') {{\n",
              "            console.log([gd, 'removed!']);\n",
              "            Plotly.purge(gd);\n",
              "            observer.disconnect();\n",
              "        }}\n",
              "}});\n",
              "\n",
              "// Listen for the removal of the full notebook cells\n",
              "var notebookContainer = gd.closest('#notebook-container');\n",
              "if (notebookContainer) {{\n",
              "    x.observe(notebookContainer, {childList: true});\n",
              "}}\n",
              "\n",
              "// Listen for the clearing of the current output cell\n",
              "var outputEl = gd.closest('.output');\n",
              "if (outputEl) {{\n",
              "    x.observe(outputEl, {childList: true});\n",
              "}}\n",
              "\n",
              "                        })                };                            </script>        </div>\n",
              "</body>\n",
              "</html>"
            ]
          },
          "metadata": {}
        }
      ]
    },
    {
      "cell_type": "code",
      "source": [
        "dataframe['hs_is_unworked'] = dataframe['hs_is_unworked'].replace(np.nan, 'false')"
      ],
      "metadata": {
        "id": "vPTRaA9aeFCH"
      },
      "execution_count": null,
      "outputs": []
    },
    {
      "cell_type": "code",
      "source": [
        "dataframe['hs_is_unworked'].isnull().sum()"
      ],
      "metadata": {
        "colab": {
          "base_uri": "https://localhost:8080/"
        },
        "id": "Tg6wHxSpeRh-",
        "outputId": "e3b836ec-6848-45f8-b0a4-ef4a88f7c6e2"
      },
      "execution_count": null,
      "outputs": [
        {
          "output_type": "execute_result",
          "data": {
            "text/plain": [
              "0"
            ]
          },
          "metadata": {},
          "execution_count": 1564
        }
      ]
    },
    {
      "cell_type": "markdown",
      "source": [
        "##hs latest source"
      ],
      "metadata": {
        "id": "GR4MlKqUg0LZ"
      }
    },
    {
      "cell_type": "code",
      "source": [
        "dataframe['hs_latest_source'].describe()"
      ],
      "metadata": {
        "colab": {
          "base_uri": "https://localhost:8080/"
        },
        "id": "8DMFX12AgYhy",
        "outputId": "71ea343f-fc8a-431e-c380-fbaea4e1bcb3"
      },
      "execution_count": null,
      "outputs": [
        {
          "output_type": "execute_result",
          "data": {
            "text/plain": [
              "count            1262\n",
              "unique              8\n",
              "top       PAID_SOCIAL\n",
              "freq              521\n",
              "Name: hs_latest_source, dtype: object"
            ]
          },
          "metadata": {},
          "execution_count": 1570
        }
      ]
    },
    {
      "cell_type": "code",
      "source": [
        "dataframe['hs_latest_source'].isnull().sum()"
      ],
      "metadata": {
        "colab": {
          "base_uri": "https://localhost:8080/"
        },
        "id": "VFe_OhWrhS53",
        "outputId": "c98ac1ef-b74a-40e9-f56a-142ee1b50694"
      },
      "execution_count": null,
      "outputs": [
        {
          "output_type": "execute_result",
          "data": {
            "text/plain": [
              "85"
            ]
          },
          "metadata": {},
          "execution_count": 1571
        }
      ]
    },
    {
      "cell_type": "code",
      "source": [
        "value = dataframe['hs_latest_source'].value_counts()"
      ],
      "metadata": {
        "id": "l1iFZMCNhZ0c"
      },
      "execution_count": null,
      "outputs": []
    },
    {
      "cell_type": "code",
      "source": [
        "fig = px.bar(value)\n",
        "fig.show()"
      ],
      "metadata": {
        "colab": {
          "base_uri": "https://localhost:8080/",
          "height": 542
        },
        "id": "3VJAgzkxhjis",
        "outputId": "d2cee22b-66a9-4201-ddc5-0d2897fe3a4a"
      },
      "execution_count": null,
      "outputs": [
        {
          "output_type": "display_data",
          "data": {
            "text/html": [
              "<html>\n",
              "<head><meta charset=\"utf-8\" /></head>\n",
              "<body>\n",
              "    <div>            <script src=\"https://cdnjs.cloudflare.com/ajax/libs/mathjax/2.7.5/MathJax.js?config=TeX-AMS-MML_SVG\"></script><script type=\"text/javascript\">if (window.MathJax) {MathJax.Hub.Config({SVG: {font: \"STIX-Web\"}});}</script>                <script type=\"text/javascript\">window.PlotlyConfig = {MathJaxConfig: 'local'};</script>\n",
              "        <script src=\"https://cdn.plot.ly/plotly-2.8.3.min.js\"></script>                <div id=\"919427cd-abfa-4149-bb07-1db37be27068\" class=\"plotly-graph-div\" style=\"height:525px; width:100%;\"></div>            <script type=\"text/javascript\">                                    window.PLOTLYENV=window.PLOTLYENV || {};                                    if (document.getElementById(\"919427cd-abfa-4149-bb07-1db37be27068\")) {                    Plotly.newPlot(                        \"919427cd-abfa-4149-bb07-1db37be27068\",                        [{\"alignmentgroup\":\"True\",\"hovertemplate\":\"variable=hs_latest_source<br>index=%{x}<br>value=%{y}<extra></extra>\",\"legendgroup\":\"hs_latest_source\",\"marker\":{\"color\":\"#636efa\",\"pattern\":{\"shape\":\"\"}},\"name\":\"hs_latest_source\",\"offsetgroup\":\"hs_latest_source\",\"orientation\":\"v\",\"showlegend\":true,\"textposition\":\"auto\",\"x\":[\"PAID_SOCIAL\",\"REFERRALS\",\"DIRECT_TRAFFIC\",\"OFFLINE\",\"EMAIL_MARKETING\",\"PAID_SEARCH\",\"SOCIAL_MEDIA\",\"ORGANIC_SEARCH\"],\"xaxis\":\"x\",\"y\":[521,241,182,177,121,7,7,6],\"yaxis\":\"y\",\"type\":\"bar\"}],                        {\"template\":{\"data\":{\"bar\":[{\"error_x\":{\"color\":\"#2a3f5f\"},\"error_y\":{\"color\":\"#2a3f5f\"},\"marker\":{\"line\":{\"color\":\"#E5ECF6\",\"width\":0.5},\"pattern\":{\"fillmode\":\"overlay\",\"size\":10,\"solidity\":0.2}},\"type\":\"bar\"}],\"barpolar\":[{\"marker\":{\"line\":{\"color\":\"#E5ECF6\",\"width\":0.5},\"pattern\":{\"fillmode\":\"overlay\",\"size\":10,\"solidity\":0.2}},\"type\":\"barpolar\"}],\"carpet\":[{\"aaxis\":{\"endlinecolor\":\"#2a3f5f\",\"gridcolor\":\"white\",\"linecolor\":\"white\",\"minorgridcolor\":\"white\",\"startlinecolor\":\"#2a3f5f\"},\"baxis\":{\"endlinecolor\":\"#2a3f5f\",\"gridcolor\":\"white\",\"linecolor\":\"white\",\"minorgridcolor\":\"white\",\"startlinecolor\":\"#2a3f5f\"},\"type\":\"carpet\"}],\"choropleth\":[{\"colorbar\":{\"outlinewidth\":0,\"ticks\":\"\"},\"type\":\"choropleth\"}],\"contour\":[{\"colorbar\":{\"outlinewidth\":0,\"ticks\":\"\"},\"colorscale\":[[0.0,\"#0d0887\"],[0.1111111111111111,\"#46039f\"],[0.2222222222222222,\"#7201a8\"],[0.3333333333333333,\"#9c179e\"],[0.4444444444444444,\"#bd3786\"],[0.5555555555555556,\"#d8576b\"],[0.6666666666666666,\"#ed7953\"],[0.7777777777777778,\"#fb9f3a\"],[0.8888888888888888,\"#fdca26\"],[1.0,\"#f0f921\"]],\"type\":\"contour\"}],\"contourcarpet\":[{\"colorbar\":{\"outlinewidth\":0,\"ticks\":\"\"},\"type\":\"contourcarpet\"}],\"heatmap\":[{\"colorbar\":{\"outlinewidth\":0,\"ticks\":\"\"},\"colorscale\":[[0.0,\"#0d0887\"],[0.1111111111111111,\"#46039f\"],[0.2222222222222222,\"#7201a8\"],[0.3333333333333333,\"#9c179e\"],[0.4444444444444444,\"#bd3786\"],[0.5555555555555556,\"#d8576b\"],[0.6666666666666666,\"#ed7953\"],[0.7777777777777778,\"#fb9f3a\"],[0.8888888888888888,\"#fdca26\"],[1.0,\"#f0f921\"]],\"type\":\"heatmap\"}],\"heatmapgl\":[{\"colorbar\":{\"outlinewidth\":0,\"ticks\":\"\"},\"colorscale\":[[0.0,\"#0d0887\"],[0.1111111111111111,\"#46039f\"],[0.2222222222222222,\"#7201a8\"],[0.3333333333333333,\"#9c179e\"],[0.4444444444444444,\"#bd3786\"],[0.5555555555555556,\"#d8576b\"],[0.6666666666666666,\"#ed7953\"],[0.7777777777777778,\"#fb9f3a\"],[0.8888888888888888,\"#fdca26\"],[1.0,\"#f0f921\"]],\"type\":\"heatmapgl\"}],\"histogram\":[{\"marker\":{\"pattern\":{\"fillmode\":\"overlay\",\"size\":10,\"solidity\":0.2}},\"type\":\"histogram\"}],\"histogram2d\":[{\"colorbar\":{\"outlinewidth\":0,\"ticks\":\"\"},\"colorscale\":[[0.0,\"#0d0887\"],[0.1111111111111111,\"#46039f\"],[0.2222222222222222,\"#7201a8\"],[0.3333333333333333,\"#9c179e\"],[0.4444444444444444,\"#bd3786\"],[0.5555555555555556,\"#d8576b\"],[0.6666666666666666,\"#ed7953\"],[0.7777777777777778,\"#fb9f3a\"],[0.8888888888888888,\"#fdca26\"],[1.0,\"#f0f921\"]],\"type\":\"histogram2d\"}],\"histogram2dcontour\":[{\"colorbar\":{\"outlinewidth\":0,\"ticks\":\"\"},\"colorscale\":[[0.0,\"#0d0887\"],[0.1111111111111111,\"#46039f\"],[0.2222222222222222,\"#7201a8\"],[0.3333333333333333,\"#9c179e\"],[0.4444444444444444,\"#bd3786\"],[0.5555555555555556,\"#d8576b\"],[0.6666666666666666,\"#ed7953\"],[0.7777777777777778,\"#fb9f3a\"],[0.8888888888888888,\"#fdca26\"],[1.0,\"#f0f921\"]],\"type\":\"histogram2dcontour\"}],\"mesh3d\":[{\"colorbar\":{\"outlinewidth\":0,\"ticks\":\"\"},\"type\":\"mesh3d\"}],\"parcoords\":[{\"line\":{\"colorbar\":{\"outlinewidth\":0,\"ticks\":\"\"}},\"type\":\"parcoords\"}],\"pie\":[{\"automargin\":true,\"type\":\"pie\"}],\"scatter\":[{\"marker\":{\"colorbar\":{\"outlinewidth\":0,\"ticks\":\"\"}},\"type\":\"scatter\"}],\"scatter3d\":[{\"line\":{\"colorbar\":{\"outlinewidth\":0,\"ticks\":\"\"}},\"marker\":{\"colorbar\":{\"outlinewidth\":0,\"ticks\":\"\"}},\"type\":\"scatter3d\"}],\"scattercarpet\":[{\"marker\":{\"colorbar\":{\"outlinewidth\":0,\"ticks\":\"\"}},\"type\":\"scattercarpet\"}],\"scattergeo\":[{\"marker\":{\"colorbar\":{\"outlinewidth\":0,\"ticks\":\"\"}},\"type\":\"scattergeo\"}],\"scattergl\":[{\"marker\":{\"colorbar\":{\"outlinewidth\":0,\"ticks\":\"\"}},\"type\":\"scattergl\"}],\"scattermapbox\":[{\"marker\":{\"colorbar\":{\"outlinewidth\":0,\"ticks\":\"\"}},\"type\":\"scattermapbox\"}],\"scatterpolar\":[{\"marker\":{\"colorbar\":{\"outlinewidth\":0,\"ticks\":\"\"}},\"type\":\"scatterpolar\"}],\"scatterpolargl\":[{\"marker\":{\"colorbar\":{\"outlinewidth\":0,\"ticks\":\"\"}},\"type\":\"scatterpolargl\"}],\"scatterternary\":[{\"marker\":{\"colorbar\":{\"outlinewidth\":0,\"ticks\":\"\"}},\"type\":\"scatterternary\"}],\"surface\":[{\"colorbar\":{\"outlinewidth\":0,\"ticks\":\"\"},\"colorscale\":[[0.0,\"#0d0887\"],[0.1111111111111111,\"#46039f\"],[0.2222222222222222,\"#7201a8\"],[0.3333333333333333,\"#9c179e\"],[0.4444444444444444,\"#bd3786\"],[0.5555555555555556,\"#d8576b\"],[0.6666666666666666,\"#ed7953\"],[0.7777777777777778,\"#fb9f3a\"],[0.8888888888888888,\"#fdca26\"],[1.0,\"#f0f921\"]],\"type\":\"surface\"}],\"table\":[{\"cells\":{\"fill\":{\"color\":\"#EBF0F8\"},\"line\":{\"color\":\"white\"}},\"header\":{\"fill\":{\"color\":\"#C8D4E3\"},\"line\":{\"color\":\"white\"}},\"type\":\"table\"}]},\"layout\":{\"annotationdefaults\":{\"arrowcolor\":\"#2a3f5f\",\"arrowhead\":0,\"arrowwidth\":1},\"autotypenumbers\":\"strict\",\"coloraxis\":{\"colorbar\":{\"outlinewidth\":0,\"ticks\":\"\"}},\"colorscale\":{\"diverging\":[[0,\"#8e0152\"],[0.1,\"#c51b7d\"],[0.2,\"#de77ae\"],[0.3,\"#f1b6da\"],[0.4,\"#fde0ef\"],[0.5,\"#f7f7f7\"],[0.6,\"#e6f5d0\"],[0.7,\"#b8e186\"],[0.8,\"#7fbc41\"],[0.9,\"#4d9221\"],[1,\"#276419\"]],\"sequential\":[[0.0,\"#0d0887\"],[0.1111111111111111,\"#46039f\"],[0.2222222222222222,\"#7201a8\"],[0.3333333333333333,\"#9c179e\"],[0.4444444444444444,\"#bd3786\"],[0.5555555555555556,\"#d8576b\"],[0.6666666666666666,\"#ed7953\"],[0.7777777777777778,\"#fb9f3a\"],[0.8888888888888888,\"#fdca26\"],[1.0,\"#f0f921\"]],\"sequentialminus\":[[0.0,\"#0d0887\"],[0.1111111111111111,\"#46039f\"],[0.2222222222222222,\"#7201a8\"],[0.3333333333333333,\"#9c179e\"],[0.4444444444444444,\"#bd3786\"],[0.5555555555555556,\"#d8576b\"],[0.6666666666666666,\"#ed7953\"],[0.7777777777777778,\"#fb9f3a\"],[0.8888888888888888,\"#fdca26\"],[1.0,\"#f0f921\"]]},\"colorway\":[\"#636efa\",\"#EF553B\",\"#00cc96\",\"#ab63fa\",\"#FFA15A\",\"#19d3f3\",\"#FF6692\",\"#B6E880\",\"#FF97FF\",\"#FECB52\"],\"font\":{\"color\":\"#2a3f5f\"},\"geo\":{\"bgcolor\":\"white\",\"lakecolor\":\"white\",\"landcolor\":\"#E5ECF6\",\"showlakes\":true,\"showland\":true,\"subunitcolor\":\"white\"},\"hoverlabel\":{\"align\":\"left\"},\"hovermode\":\"closest\",\"mapbox\":{\"style\":\"light\"},\"paper_bgcolor\":\"white\",\"plot_bgcolor\":\"#E5ECF6\",\"polar\":{\"angularaxis\":{\"gridcolor\":\"white\",\"linecolor\":\"white\",\"ticks\":\"\"},\"bgcolor\":\"#E5ECF6\",\"radialaxis\":{\"gridcolor\":\"white\",\"linecolor\":\"white\",\"ticks\":\"\"}},\"scene\":{\"xaxis\":{\"backgroundcolor\":\"#E5ECF6\",\"gridcolor\":\"white\",\"gridwidth\":2,\"linecolor\":\"white\",\"showbackground\":true,\"ticks\":\"\",\"zerolinecolor\":\"white\"},\"yaxis\":{\"backgroundcolor\":\"#E5ECF6\",\"gridcolor\":\"white\",\"gridwidth\":2,\"linecolor\":\"white\",\"showbackground\":true,\"ticks\":\"\",\"zerolinecolor\":\"white\"},\"zaxis\":{\"backgroundcolor\":\"#E5ECF6\",\"gridcolor\":\"white\",\"gridwidth\":2,\"linecolor\":\"white\",\"showbackground\":true,\"ticks\":\"\",\"zerolinecolor\":\"white\"}},\"shapedefaults\":{\"line\":{\"color\":\"#2a3f5f\"}},\"ternary\":{\"aaxis\":{\"gridcolor\":\"white\",\"linecolor\":\"white\",\"ticks\":\"\"},\"baxis\":{\"gridcolor\":\"white\",\"linecolor\":\"white\",\"ticks\":\"\"},\"bgcolor\":\"#E5ECF6\",\"caxis\":{\"gridcolor\":\"white\",\"linecolor\":\"white\",\"ticks\":\"\"}},\"title\":{\"x\":0.05},\"xaxis\":{\"automargin\":true,\"gridcolor\":\"white\",\"linecolor\":\"white\",\"ticks\":\"\",\"title\":{\"standoff\":15},\"zerolinecolor\":\"white\",\"zerolinewidth\":2},\"yaxis\":{\"automargin\":true,\"gridcolor\":\"white\",\"linecolor\":\"white\",\"ticks\":\"\",\"title\":{\"standoff\":15},\"zerolinecolor\":\"white\",\"zerolinewidth\":2}}},\"xaxis\":{\"anchor\":\"y\",\"domain\":[0.0,1.0],\"title\":{\"text\":\"index\"}},\"yaxis\":{\"anchor\":\"x\",\"domain\":[0.0,1.0],\"title\":{\"text\":\"value\"}},\"legend\":{\"title\":{\"text\":\"variable\"},\"tracegroupgap\":0},\"margin\":{\"t\":60},\"barmode\":\"relative\"},                        {\"responsive\": true}                    ).then(function(){\n",
              "                            \n",
              "var gd = document.getElementById('919427cd-abfa-4149-bb07-1db37be27068');\n",
              "var x = new MutationObserver(function (mutations, observer) {{\n",
              "        var display = window.getComputedStyle(gd).display;\n",
              "        if (!display || display === 'none') {{\n",
              "            console.log([gd, 'removed!']);\n",
              "            Plotly.purge(gd);\n",
              "            observer.disconnect();\n",
              "        }}\n",
              "}});\n",
              "\n",
              "// Listen for the removal of the full notebook cells\n",
              "var notebookContainer = gd.closest('#notebook-container');\n",
              "if (notebookContainer) {{\n",
              "    x.observe(notebookContainer, {childList: true});\n",
              "}}\n",
              "\n",
              "// Listen for the clearing of the current output cell\n",
              "var outputEl = gd.closest('.output');\n",
              "if (outputEl) {{\n",
              "    x.observe(outputEl, {childList: true});\n",
              "}}\n",
              "\n",
              "                        })                };                            </script>        </div>\n",
              "</body>\n",
              "</html>"
            ]
          },
          "metadata": {}
        }
      ]
    },
    {
      "cell_type": "code",
      "source": [
        "dataframe['hs_latest_source'] = dataframe['hs_latest_source'].replace(np.nan, 'OTHER')"
      ],
      "metadata": {
        "id": "lEuBvopohleP"
      },
      "execution_count": null,
      "outputs": []
    },
    {
      "cell_type": "code",
      "source": [
        "dataframe['hs_latest_source'].isnull().sum()"
      ],
      "metadata": {
        "colab": {
          "base_uri": "https://localhost:8080/"
        },
        "id": "ZnDk7ri1h4jH",
        "outputId": "9812f454-b4e3-43b5-a575-236c03837c7b"
      },
      "execution_count": null,
      "outputs": [
        {
          "output_type": "execute_result",
          "data": {
            "text/plain": [
              "0"
            ]
          },
          "metadata": {},
          "execution_count": 1575
        }
      ]
    },
    {
      "cell_type": "markdown",
      "source": [
        "## hs latest source data 1"
      ],
      "metadata": {
        "id": "E-7a9e7riUrS"
      }
    },
    {
      "cell_type": "code",
      "source": [
        "dataframe['hs_latest_source_data_1'].describe()"
      ],
      "metadata": {
        "colab": {
          "base_uri": "https://localhost:8080/"
        },
        "id": "SNNm67Zqh5u7",
        "outputId": "705d8d49-22f5-4524-f4b2-34a60d896bde"
      },
      "execution_count": null,
      "outputs": [
        {
          "output_type": "execute_result",
          "data": {
            "text/plain": [
              "count         1262\n",
              "unique          76\n",
              "top       Facebook\n",
              "freq           523\n",
              "Name: hs_latest_source_data_1, dtype: object"
            ]
          },
          "metadata": {},
          "execution_count": 1576
        }
      ]
    },
    {
      "cell_type": "code",
      "source": [
        "dataframe['hs_latest_source_data_1'].isnull().sum()"
      ],
      "metadata": {
        "colab": {
          "base_uri": "https://localhost:8080/"
        },
        "id": "jJq90c0PiT9u",
        "outputId": "0c0a7107-75b8-440f-d176-23b74446f8a2"
      },
      "execution_count": null,
      "outputs": [
        {
          "output_type": "execute_result",
          "data": {
            "text/plain": [
              "85"
            ]
          },
          "metadata": {},
          "execution_count": 1578
        }
      ]
    },
    {
      "cell_type": "code",
      "source": [
        "value = dataframe['hs_latest_source_data_1'].value_counts()"
      ],
      "metadata": {
        "id": "9DN4FKsZiolP"
      },
      "execution_count": null,
      "outputs": []
    },
    {
      "cell_type": "code",
      "source": [
        "fig = px.bar(value)\n",
        "fig.show()"
      ],
      "metadata": {
        "colab": {
          "base_uri": "https://localhost:8080/",
          "height": 542
        },
        "id": "RmxmTDdMix_b",
        "outputId": "843204b3-612f-4f1d-f10e-de13a3543146"
      },
      "execution_count": null,
      "outputs": [
        {
          "output_type": "display_data",
          "data": {
            "text/html": [
              "<html>\n",
              "<head><meta charset=\"utf-8\" /></head>\n",
              "<body>\n",
              "    <div>            <script src=\"https://cdnjs.cloudflare.com/ajax/libs/mathjax/2.7.5/MathJax.js?config=TeX-AMS-MML_SVG\"></script><script type=\"text/javascript\">if (window.MathJax) {MathJax.Hub.Config({SVG: {font: \"STIX-Web\"}});}</script>                <script type=\"text/javascript\">window.PlotlyConfig = {MathJaxConfig: 'local'};</script>\n",
              "        <script src=\"https://cdn.plot.ly/plotly-2.8.3.min.js\"></script>                <div id=\"ff2a01e7-b3c2-4491-b580-5ab25a0c7a2e\" class=\"plotly-graph-div\" style=\"height:525px; width:100%;\"></div>            <script type=\"text/javascript\">                                    window.PLOTLYENV=window.PLOTLYENV || {};                                    if (document.getElementById(\"ff2a01e7-b3c2-4491-b580-5ab25a0c7a2e\")) {                    Plotly.newPlot(                        \"ff2a01e7-b3c2-4491-b580-5ab25a0c7a2e\",                        [{\"alignmentgroup\":\"True\",\"hovertemplate\":\"variable=hs_latest_source_data_1<br>index=%{x}<br>value=%{y}<extra></extra>\",\"legendgroup\":\"hs_latest_source_data_1\",\"marker\":{\"color\":\"#636efa\",\"pattern\":{\"shape\":\"\"}},\"name\":\"hs_latest_source_data_1\",\"offsetgroup\":\"hs_latest_source_data_1\",\"orientation\":\"v\",\"showlegend\":true,\"textposition\":\"auto\",\"x\":[\"Facebook\",\"INTEGRATION\",\"watch.pompaworkshop.com\",\"paypal.com\",\"help.pompaworkshop.com/products/pompa-program-consultation-thyroid\",\"hs_automation\",\"newsletter\",\"hs_email\",\"pompaprogram.com/\",\"watch.pompaworkshop.com/s/h0aayv\",\"help.pompaworkshop.com/products/pompa-program-consultation-pcsr\",\"Unknown keywords (SSL)\",\"watch.pompaworkshop.com/a/hjwaok\",\"help.pompaworkshop.com/products/pompa-program-testing-consultation-sdr\",\"watch.pompaworkshop.com/a/40hxg9\",\"share.hsforms.com/1im0cz3ses4imirfo8s0phwc3vtu\",\"meetings.hubspot.com/amanda-schaeffer/2-prep-phase\",\"meetings.hubspot.com/amy-marceric/1-meet-your-coach\",\"18182633457\",\"Instagram\",\"18378237505\",\"meetings.hubspot.com/amy-marceric/2-prep-phase\",\"SALES\",\"pompaprogram.com/contact\",\"meetings.hubspot.com/susan-kobik/1-meet-your-coach\",\"meetings.hubspot.com/olivia-stanforth/3-body-phase\",\"EXTENSION\",\"meetings.hubspot.com/khamilton13/3-body-phase\",\"meetings.hubspot.com/ian-sandage/1-meet-your-coach\",\"help.pompaprogram.com/products/pompa-program-testing-consultation-cs\",\"meetings.hubspot.com/asilance/1-meet-your-coach\",\"help.pompaworkshop.com/upsell/xejkreojgtcc0o3wktodxakp\",\"CRM_UI\",\"IMPORT\",\"meetings.hubspot.com/brandy-stepetin/1-meet-your-coach\",\"help.pompaprogram.com/products/pompa-program-consultation\",\"meetings.hubspot.com/amanda-schaeffer/1-meet-your-coach\",\"YouTube\",\"meetings.hubspot.com/roselle-pasetes/2-prep-phase\",\"watch.pompaworkshop.com/a/ekkqgs\",\"watch.pompaworkshop.com/r/ukouj4\",\"drpompa.com\",\"meetings.hubspot.com/ian-sandage/2-prep-phase\",\"meetings.hubspot.com/ian-sandage/3-body-phase\",\"meetings.hubspot.com/roselle-pasetes/1-meet-your-coach\",\"watch.pompaworkshop.com/r/fyvuki\",\"meetings.hubspot.com/carol121/2-prep-phase\",\"pompaprogram.com/process\",\"meetings.hubspot.com/kasey-alim/2-prep-phase\",\"meetings.hubspot.com/susan-kobik/2-prep-phase\",\"kb.pompaprogram.com/404\",\"meetings.hubspot.com/tara-nichols/3-body-phase\",\"meetings.hubspot.com/taylor-treuhaft/3-body-phase\",\"meetings.hubspot.com/christopher-wilson/3-body-phase\",\"meetings.hubspot.com/carol121/1-meet-your-coach\",\"watch.pompaworkshop.com/s/hjwaok\",\"meetings.hubspot.com/karol-spence/4-check-in-\",\"meetings.hubspot.com/taylor-treuhaft/2-prep-phase\",\"help.pompaworkshop.com/products/pompa-program-test-ntq\",\"watch.pompaworkshop.com/s/ekkqgs\",\"meetings.hubspot.com/olivia-stanforth/2-prep-phase\",\"checkout-no-schedule\",\"kb.pompaprogram.com/knowledge/how-do-i-take-the-meta-oxy-test\",\"meetings.hubspot.com/tricia59/2-prep-phase\",\"meetings.hubspot.com/karol-spence/1-meet-your-coach-\",\"watch.pompaworkshop.com/s/40hxg9\",\"watch.pompaworkshop.com/r/tejcqd\",\"watch.pompaworkshop.com/a/h0aayv\",\"help.pompaworkshop.com/products/pompa-program-consultation\",\"meetings.hubspot.com/olivia-stanforth/1-meet-your-coach\",\"meetings.hubspot.com/kasey-alim/1-meet-your-coach\",\"help.pompaworkshop.com/\",\"meetings.hubspot.com/christopher-wilson/2-prep-phase\",\"meetings.hubspot.com/lindee-jukes/2-prep-phase\",\"meetings.hubspot.com/christopher-wilson/1-meet-your-coach\",\"youtube\"],\"xaxis\":\"x\",\"y\":[523,168,166,74,60,47,42,31,15,11,9,6,5,5,4,4,4,3,3,3,3,3,3,2,2,2,2,2,2,2,2,2,2,2,2,2,2,2,2,2,1,1,1,1,1,1,1,1,1,1,1,1,1,1,1,1,1,1,1,1,1,1,1,1,1,1,1,1,1,1,1,1,1,1,1,1],\"yaxis\":\"y\",\"type\":\"bar\"}],                        {\"template\":{\"data\":{\"bar\":[{\"error_x\":{\"color\":\"#2a3f5f\"},\"error_y\":{\"color\":\"#2a3f5f\"},\"marker\":{\"line\":{\"color\":\"#E5ECF6\",\"width\":0.5},\"pattern\":{\"fillmode\":\"overlay\",\"size\":10,\"solidity\":0.2}},\"type\":\"bar\"}],\"barpolar\":[{\"marker\":{\"line\":{\"color\":\"#E5ECF6\",\"width\":0.5},\"pattern\":{\"fillmode\":\"overlay\",\"size\":10,\"solidity\":0.2}},\"type\":\"barpolar\"}],\"carpet\":[{\"aaxis\":{\"endlinecolor\":\"#2a3f5f\",\"gridcolor\":\"white\",\"linecolor\":\"white\",\"minorgridcolor\":\"white\",\"startlinecolor\":\"#2a3f5f\"},\"baxis\":{\"endlinecolor\":\"#2a3f5f\",\"gridcolor\":\"white\",\"linecolor\":\"white\",\"minorgridcolor\":\"white\",\"startlinecolor\":\"#2a3f5f\"},\"type\":\"carpet\"}],\"choropleth\":[{\"colorbar\":{\"outlinewidth\":0,\"ticks\":\"\"},\"type\":\"choropleth\"}],\"contour\":[{\"colorbar\":{\"outlinewidth\":0,\"ticks\":\"\"},\"colorscale\":[[0.0,\"#0d0887\"],[0.1111111111111111,\"#46039f\"],[0.2222222222222222,\"#7201a8\"],[0.3333333333333333,\"#9c179e\"],[0.4444444444444444,\"#bd3786\"],[0.5555555555555556,\"#d8576b\"],[0.6666666666666666,\"#ed7953\"],[0.7777777777777778,\"#fb9f3a\"],[0.8888888888888888,\"#fdca26\"],[1.0,\"#f0f921\"]],\"type\":\"contour\"}],\"contourcarpet\":[{\"colorbar\":{\"outlinewidth\":0,\"ticks\":\"\"},\"type\":\"contourcarpet\"}],\"heatmap\":[{\"colorbar\":{\"outlinewidth\":0,\"ticks\":\"\"},\"colorscale\":[[0.0,\"#0d0887\"],[0.1111111111111111,\"#46039f\"],[0.2222222222222222,\"#7201a8\"],[0.3333333333333333,\"#9c179e\"],[0.4444444444444444,\"#bd3786\"],[0.5555555555555556,\"#d8576b\"],[0.6666666666666666,\"#ed7953\"],[0.7777777777777778,\"#fb9f3a\"],[0.8888888888888888,\"#fdca26\"],[1.0,\"#f0f921\"]],\"type\":\"heatmap\"}],\"heatmapgl\":[{\"colorbar\":{\"outlinewidth\":0,\"ticks\":\"\"},\"colorscale\":[[0.0,\"#0d0887\"],[0.1111111111111111,\"#46039f\"],[0.2222222222222222,\"#7201a8\"],[0.3333333333333333,\"#9c179e\"],[0.4444444444444444,\"#bd3786\"],[0.5555555555555556,\"#d8576b\"],[0.6666666666666666,\"#ed7953\"],[0.7777777777777778,\"#fb9f3a\"],[0.8888888888888888,\"#fdca26\"],[1.0,\"#f0f921\"]],\"type\":\"heatmapgl\"}],\"histogram\":[{\"marker\":{\"pattern\":{\"fillmode\":\"overlay\",\"size\":10,\"solidity\":0.2}},\"type\":\"histogram\"}],\"histogram2d\":[{\"colorbar\":{\"outlinewidth\":0,\"ticks\":\"\"},\"colorscale\":[[0.0,\"#0d0887\"],[0.1111111111111111,\"#46039f\"],[0.2222222222222222,\"#7201a8\"],[0.3333333333333333,\"#9c179e\"],[0.4444444444444444,\"#bd3786\"],[0.5555555555555556,\"#d8576b\"],[0.6666666666666666,\"#ed7953\"],[0.7777777777777778,\"#fb9f3a\"],[0.8888888888888888,\"#fdca26\"],[1.0,\"#f0f921\"]],\"type\":\"histogram2d\"}],\"histogram2dcontour\":[{\"colorbar\":{\"outlinewidth\":0,\"ticks\":\"\"},\"colorscale\":[[0.0,\"#0d0887\"],[0.1111111111111111,\"#46039f\"],[0.2222222222222222,\"#7201a8\"],[0.3333333333333333,\"#9c179e\"],[0.4444444444444444,\"#bd3786\"],[0.5555555555555556,\"#d8576b\"],[0.6666666666666666,\"#ed7953\"],[0.7777777777777778,\"#fb9f3a\"],[0.8888888888888888,\"#fdca26\"],[1.0,\"#f0f921\"]],\"type\":\"histogram2dcontour\"}],\"mesh3d\":[{\"colorbar\":{\"outlinewidth\":0,\"ticks\":\"\"},\"type\":\"mesh3d\"}],\"parcoords\":[{\"line\":{\"colorbar\":{\"outlinewidth\":0,\"ticks\":\"\"}},\"type\":\"parcoords\"}],\"pie\":[{\"automargin\":true,\"type\":\"pie\"}],\"scatter\":[{\"marker\":{\"colorbar\":{\"outlinewidth\":0,\"ticks\":\"\"}},\"type\":\"scatter\"}],\"scatter3d\":[{\"line\":{\"colorbar\":{\"outlinewidth\":0,\"ticks\":\"\"}},\"marker\":{\"colorbar\":{\"outlinewidth\":0,\"ticks\":\"\"}},\"type\":\"scatter3d\"}],\"scattercarpet\":[{\"marker\":{\"colorbar\":{\"outlinewidth\":0,\"ticks\":\"\"}},\"type\":\"scattercarpet\"}],\"scattergeo\":[{\"marker\":{\"colorbar\":{\"outlinewidth\":0,\"ticks\":\"\"}},\"type\":\"scattergeo\"}],\"scattergl\":[{\"marker\":{\"colorbar\":{\"outlinewidth\":0,\"ticks\":\"\"}},\"type\":\"scattergl\"}],\"scattermapbox\":[{\"marker\":{\"colorbar\":{\"outlinewidth\":0,\"ticks\":\"\"}},\"type\":\"scattermapbox\"}],\"scatterpolar\":[{\"marker\":{\"colorbar\":{\"outlinewidth\":0,\"ticks\":\"\"}},\"type\":\"scatterpolar\"}],\"scatterpolargl\":[{\"marker\":{\"colorbar\":{\"outlinewidth\":0,\"ticks\":\"\"}},\"type\":\"scatterpolargl\"}],\"scatterternary\":[{\"marker\":{\"colorbar\":{\"outlinewidth\":0,\"ticks\":\"\"}},\"type\":\"scatterternary\"}],\"surface\":[{\"colorbar\":{\"outlinewidth\":0,\"ticks\":\"\"},\"colorscale\":[[0.0,\"#0d0887\"],[0.1111111111111111,\"#46039f\"],[0.2222222222222222,\"#7201a8\"],[0.3333333333333333,\"#9c179e\"],[0.4444444444444444,\"#bd3786\"],[0.5555555555555556,\"#d8576b\"],[0.6666666666666666,\"#ed7953\"],[0.7777777777777778,\"#fb9f3a\"],[0.8888888888888888,\"#fdca26\"],[1.0,\"#f0f921\"]],\"type\":\"surface\"}],\"table\":[{\"cells\":{\"fill\":{\"color\":\"#EBF0F8\"},\"line\":{\"color\":\"white\"}},\"header\":{\"fill\":{\"color\":\"#C8D4E3\"},\"line\":{\"color\":\"white\"}},\"type\":\"table\"}]},\"layout\":{\"annotationdefaults\":{\"arrowcolor\":\"#2a3f5f\",\"arrowhead\":0,\"arrowwidth\":1},\"autotypenumbers\":\"strict\",\"coloraxis\":{\"colorbar\":{\"outlinewidth\":0,\"ticks\":\"\"}},\"colorscale\":{\"diverging\":[[0,\"#8e0152\"],[0.1,\"#c51b7d\"],[0.2,\"#de77ae\"],[0.3,\"#f1b6da\"],[0.4,\"#fde0ef\"],[0.5,\"#f7f7f7\"],[0.6,\"#e6f5d0\"],[0.7,\"#b8e186\"],[0.8,\"#7fbc41\"],[0.9,\"#4d9221\"],[1,\"#276419\"]],\"sequential\":[[0.0,\"#0d0887\"],[0.1111111111111111,\"#46039f\"],[0.2222222222222222,\"#7201a8\"],[0.3333333333333333,\"#9c179e\"],[0.4444444444444444,\"#bd3786\"],[0.5555555555555556,\"#d8576b\"],[0.6666666666666666,\"#ed7953\"],[0.7777777777777778,\"#fb9f3a\"],[0.8888888888888888,\"#fdca26\"],[1.0,\"#f0f921\"]],\"sequentialminus\":[[0.0,\"#0d0887\"],[0.1111111111111111,\"#46039f\"],[0.2222222222222222,\"#7201a8\"],[0.3333333333333333,\"#9c179e\"],[0.4444444444444444,\"#bd3786\"],[0.5555555555555556,\"#d8576b\"],[0.6666666666666666,\"#ed7953\"],[0.7777777777777778,\"#fb9f3a\"],[0.8888888888888888,\"#fdca26\"],[1.0,\"#f0f921\"]]},\"colorway\":[\"#636efa\",\"#EF553B\",\"#00cc96\",\"#ab63fa\",\"#FFA15A\",\"#19d3f3\",\"#FF6692\",\"#B6E880\",\"#FF97FF\",\"#FECB52\"],\"font\":{\"color\":\"#2a3f5f\"},\"geo\":{\"bgcolor\":\"white\",\"lakecolor\":\"white\",\"landcolor\":\"#E5ECF6\",\"showlakes\":true,\"showland\":true,\"subunitcolor\":\"white\"},\"hoverlabel\":{\"align\":\"left\"},\"hovermode\":\"closest\",\"mapbox\":{\"style\":\"light\"},\"paper_bgcolor\":\"white\",\"plot_bgcolor\":\"#E5ECF6\",\"polar\":{\"angularaxis\":{\"gridcolor\":\"white\",\"linecolor\":\"white\",\"ticks\":\"\"},\"bgcolor\":\"#E5ECF6\",\"radialaxis\":{\"gridcolor\":\"white\",\"linecolor\":\"white\",\"ticks\":\"\"}},\"scene\":{\"xaxis\":{\"backgroundcolor\":\"#E5ECF6\",\"gridcolor\":\"white\",\"gridwidth\":2,\"linecolor\":\"white\",\"showbackground\":true,\"ticks\":\"\",\"zerolinecolor\":\"white\"},\"yaxis\":{\"backgroundcolor\":\"#E5ECF6\",\"gridcolor\":\"white\",\"gridwidth\":2,\"linecolor\":\"white\",\"showbackground\":true,\"ticks\":\"\",\"zerolinecolor\":\"white\"},\"zaxis\":{\"backgroundcolor\":\"#E5ECF6\",\"gridcolor\":\"white\",\"gridwidth\":2,\"linecolor\":\"white\",\"showbackground\":true,\"ticks\":\"\",\"zerolinecolor\":\"white\"}},\"shapedefaults\":{\"line\":{\"color\":\"#2a3f5f\"}},\"ternary\":{\"aaxis\":{\"gridcolor\":\"white\",\"linecolor\":\"white\",\"ticks\":\"\"},\"baxis\":{\"gridcolor\":\"white\",\"linecolor\":\"white\",\"ticks\":\"\"},\"bgcolor\":\"#E5ECF6\",\"caxis\":{\"gridcolor\":\"white\",\"linecolor\":\"white\",\"ticks\":\"\"}},\"title\":{\"x\":0.05},\"xaxis\":{\"automargin\":true,\"gridcolor\":\"white\",\"linecolor\":\"white\",\"ticks\":\"\",\"title\":{\"standoff\":15},\"zerolinecolor\":\"white\",\"zerolinewidth\":2},\"yaxis\":{\"automargin\":true,\"gridcolor\":\"white\",\"linecolor\":\"white\",\"ticks\":\"\",\"title\":{\"standoff\":15},\"zerolinecolor\":\"white\",\"zerolinewidth\":2}}},\"xaxis\":{\"anchor\":\"y\",\"domain\":[0.0,1.0],\"title\":{\"text\":\"index\"}},\"yaxis\":{\"anchor\":\"x\",\"domain\":[0.0,1.0],\"title\":{\"text\":\"value\"}},\"legend\":{\"title\":{\"text\":\"variable\"},\"tracegroupgap\":0},\"margin\":{\"t\":60},\"barmode\":\"relative\"},                        {\"responsive\": true}                    ).then(function(){\n",
              "                            \n",
              "var gd = document.getElementById('ff2a01e7-b3c2-4491-b580-5ab25a0c7a2e');\n",
              "var x = new MutationObserver(function (mutations, observer) {{\n",
              "        var display = window.getComputedStyle(gd).display;\n",
              "        if (!display || display === 'none') {{\n",
              "            console.log([gd, 'removed!']);\n",
              "            Plotly.purge(gd);\n",
              "            observer.disconnect();\n",
              "        }}\n",
              "}});\n",
              "\n",
              "// Listen for the removal of the full notebook cells\n",
              "var notebookContainer = gd.closest('#notebook-container');\n",
              "if (notebookContainer) {{\n",
              "    x.observe(notebookContainer, {childList: true});\n",
              "}}\n",
              "\n",
              "// Listen for the clearing of the current output cell\n",
              "var outputEl = gd.closest('.output');\n",
              "if (outputEl) {{\n",
              "    x.observe(outputEl, {childList: true});\n",
              "}}\n",
              "\n",
              "                        })                };                            </script>        </div>\n",
              "</body>\n",
              "</html>"
            ]
          },
          "metadata": {}
        }
      ]
    },
    {
      "cell_type": "code",
      "source": [
        "dataframe['hs_latest_source_data_1'] = dataframe['hs_latest_source_data_1'].replace(np.nan, 'Facebook')"
      ],
      "metadata": {
        "id": "JXv3jtByi5QY"
      },
      "execution_count": null,
      "outputs": []
    },
    {
      "cell_type": "code",
      "source": [
        "dataframe['hs_latest_source_data_1'].isnull().sum()"
      ],
      "metadata": {
        "colab": {
          "base_uri": "https://localhost:8080/"
        },
        "id": "09vP87H-jO2c",
        "outputId": "a5b4d65c-dae2-4a30-9577-42a88b110ada"
      },
      "execution_count": null,
      "outputs": [
        {
          "output_type": "execute_result",
          "data": {
            "text/plain": [
              "0"
            ]
          },
          "metadata": {},
          "execution_count": 1582
        }
      ]
    },
    {
      "cell_type": "markdown",
      "source": [
        "##hs marketable reason type"
      ],
      "metadata": {
        "id": "VapLOCGoj74g"
      }
    },
    {
      "cell_type": "code",
      "source": [
        "dataframe['hs_marketable_reason_type'].describe()"
      ],
      "metadata": {
        "colab": {
          "base_uri": "https://localhost:8080/"
        },
        "id": "P_CDwtXxjQjO",
        "outputId": "48d07464-d4cc-4c03-9b0b-b6907d3a36c5"
      },
      "execution_count": null,
      "outputs": [
        {
          "output_type": "execute_result",
          "data": {
            "text/plain": [
              "count         1259\n",
              "unique           4\n",
              "top       WORKFLOW\n",
              "freq           768\n",
              "Name: hs_marketable_reason_type, dtype: object"
            ]
          },
          "metadata": {},
          "execution_count": 1587
        }
      ]
    },
    {
      "cell_type": "code",
      "source": [
        "dataframe['hs_marketable_reason_type'].isnull().sum()"
      ],
      "metadata": {
        "colab": {
          "base_uri": "https://localhost:8080/"
        },
        "id": "rWId7b5qocID",
        "outputId": "4d6224f0-8771-47b7-e557-20d149105665"
      },
      "execution_count": null,
      "outputs": [
        {
          "output_type": "execute_result",
          "data": {
            "text/plain": [
              "88"
            ]
          },
          "metadata": {},
          "execution_count": 1592
        }
      ]
    },
    {
      "cell_type": "code",
      "source": [
        "value = dataframe['hs_marketable_reason_type'].value_counts()"
      ],
      "metadata": {
        "id": "T4SxSxNpn65C"
      },
      "execution_count": null,
      "outputs": []
    },
    {
      "cell_type": "code",
      "source": [
        "fig = px.bar(value)\n",
        "fig.show()"
      ],
      "metadata": {
        "colab": {
          "base_uri": "https://localhost:8080/",
          "height": 542
        },
        "id": "Po4BtGKRoBcM",
        "outputId": "1c03dd02-23cb-4c4d-a871-99f682903ae6"
      },
      "execution_count": null,
      "outputs": [
        {
          "output_type": "display_data",
          "data": {
            "text/html": [
              "<html>\n",
              "<head><meta charset=\"utf-8\" /></head>\n",
              "<body>\n",
              "    <div>            <script src=\"https://cdnjs.cloudflare.com/ajax/libs/mathjax/2.7.5/MathJax.js?config=TeX-AMS-MML_SVG\"></script><script type=\"text/javascript\">if (window.MathJax) {MathJax.Hub.Config({SVG: {font: \"STIX-Web\"}});}</script>                <script type=\"text/javascript\">window.PlotlyConfig = {MathJaxConfig: 'local'};</script>\n",
              "        <script src=\"https://cdn.plot.ly/plotly-2.8.3.min.js\"></script>                <div id=\"b5e63dbe-2f30-43dc-a972-9e277ec3616e\" class=\"plotly-graph-div\" style=\"height:525px; width:100%;\"></div>            <script type=\"text/javascript\">                                    window.PLOTLYENV=window.PLOTLYENV || {};                                    if (document.getElementById(\"b5e63dbe-2f30-43dc-a972-9e277ec3616e\")) {                    Plotly.newPlot(                        \"b5e63dbe-2f30-43dc-a972-9e277ec3616e\",                        [{\"alignmentgroup\":\"True\",\"hovertemplate\":\"variable=hs_marketable_reason_type<br>index=%{x}<br>value=%{y}<extra></extra>\",\"legendgroup\":\"hs_marketable_reason_type\",\"marker\":{\"color\":\"#636efa\",\"pattern\":{\"shape\":\"\"}},\"name\":\"hs_marketable_reason_type\",\"offsetgroup\":\"hs_marketable_reason_type\",\"orientation\":\"v\",\"showlegend\":true,\"textposition\":\"auto\",\"x\":[\"WORKFLOW\",\"FORM_SUBMISSION\",\"USER_SET\",\"INTEGRATOR_SET\"],\"xaxis\":\"x\",\"y\":[768,404,67,20],\"yaxis\":\"y\",\"type\":\"bar\"}],                        {\"template\":{\"data\":{\"bar\":[{\"error_x\":{\"color\":\"#2a3f5f\"},\"error_y\":{\"color\":\"#2a3f5f\"},\"marker\":{\"line\":{\"color\":\"#E5ECF6\",\"width\":0.5},\"pattern\":{\"fillmode\":\"overlay\",\"size\":10,\"solidity\":0.2}},\"type\":\"bar\"}],\"barpolar\":[{\"marker\":{\"line\":{\"color\":\"#E5ECF6\",\"width\":0.5},\"pattern\":{\"fillmode\":\"overlay\",\"size\":10,\"solidity\":0.2}},\"type\":\"barpolar\"}],\"carpet\":[{\"aaxis\":{\"endlinecolor\":\"#2a3f5f\",\"gridcolor\":\"white\",\"linecolor\":\"white\",\"minorgridcolor\":\"white\",\"startlinecolor\":\"#2a3f5f\"},\"baxis\":{\"endlinecolor\":\"#2a3f5f\",\"gridcolor\":\"white\",\"linecolor\":\"white\",\"minorgridcolor\":\"white\",\"startlinecolor\":\"#2a3f5f\"},\"type\":\"carpet\"}],\"choropleth\":[{\"colorbar\":{\"outlinewidth\":0,\"ticks\":\"\"},\"type\":\"choropleth\"}],\"contour\":[{\"colorbar\":{\"outlinewidth\":0,\"ticks\":\"\"},\"colorscale\":[[0.0,\"#0d0887\"],[0.1111111111111111,\"#46039f\"],[0.2222222222222222,\"#7201a8\"],[0.3333333333333333,\"#9c179e\"],[0.4444444444444444,\"#bd3786\"],[0.5555555555555556,\"#d8576b\"],[0.6666666666666666,\"#ed7953\"],[0.7777777777777778,\"#fb9f3a\"],[0.8888888888888888,\"#fdca26\"],[1.0,\"#f0f921\"]],\"type\":\"contour\"}],\"contourcarpet\":[{\"colorbar\":{\"outlinewidth\":0,\"ticks\":\"\"},\"type\":\"contourcarpet\"}],\"heatmap\":[{\"colorbar\":{\"outlinewidth\":0,\"ticks\":\"\"},\"colorscale\":[[0.0,\"#0d0887\"],[0.1111111111111111,\"#46039f\"],[0.2222222222222222,\"#7201a8\"],[0.3333333333333333,\"#9c179e\"],[0.4444444444444444,\"#bd3786\"],[0.5555555555555556,\"#d8576b\"],[0.6666666666666666,\"#ed7953\"],[0.7777777777777778,\"#fb9f3a\"],[0.8888888888888888,\"#fdca26\"],[1.0,\"#f0f921\"]],\"type\":\"heatmap\"}],\"heatmapgl\":[{\"colorbar\":{\"outlinewidth\":0,\"ticks\":\"\"},\"colorscale\":[[0.0,\"#0d0887\"],[0.1111111111111111,\"#46039f\"],[0.2222222222222222,\"#7201a8\"],[0.3333333333333333,\"#9c179e\"],[0.4444444444444444,\"#bd3786\"],[0.5555555555555556,\"#d8576b\"],[0.6666666666666666,\"#ed7953\"],[0.7777777777777778,\"#fb9f3a\"],[0.8888888888888888,\"#fdca26\"],[1.0,\"#f0f921\"]],\"type\":\"heatmapgl\"}],\"histogram\":[{\"marker\":{\"pattern\":{\"fillmode\":\"overlay\",\"size\":10,\"solidity\":0.2}},\"type\":\"histogram\"}],\"histogram2d\":[{\"colorbar\":{\"outlinewidth\":0,\"ticks\":\"\"},\"colorscale\":[[0.0,\"#0d0887\"],[0.1111111111111111,\"#46039f\"],[0.2222222222222222,\"#7201a8\"],[0.3333333333333333,\"#9c179e\"],[0.4444444444444444,\"#bd3786\"],[0.5555555555555556,\"#d8576b\"],[0.6666666666666666,\"#ed7953\"],[0.7777777777777778,\"#fb9f3a\"],[0.8888888888888888,\"#fdca26\"],[1.0,\"#f0f921\"]],\"type\":\"histogram2d\"}],\"histogram2dcontour\":[{\"colorbar\":{\"outlinewidth\":0,\"ticks\":\"\"},\"colorscale\":[[0.0,\"#0d0887\"],[0.1111111111111111,\"#46039f\"],[0.2222222222222222,\"#7201a8\"],[0.3333333333333333,\"#9c179e\"],[0.4444444444444444,\"#bd3786\"],[0.5555555555555556,\"#d8576b\"],[0.6666666666666666,\"#ed7953\"],[0.7777777777777778,\"#fb9f3a\"],[0.8888888888888888,\"#fdca26\"],[1.0,\"#f0f921\"]],\"type\":\"histogram2dcontour\"}],\"mesh3d\":[{\"colorbar\":{\"outlinewidth\":0,\"ticks\":\"\"},\"type\":\"mesh3d\"}],\"parcoords\":[{\"line\":{\"colorbar\":{\"outlinewidth\":0,\"ticks\":\"\"}},\"type\":\"parcoords\"}],\"pie\":[{\"automargin\":true,\"type\":\"pie\"}],\"scatter\":[{\"marker\":{\"colorbar\":{\"outlinewidth\":0,\"ticks\":\"\"}},\"type\":\"scatter\"}],\"scatter3d\":[{\"line\":{\"colorbar\":{\"outlinewidth\":0,\"ticks\":\"\"}},\"marker\":{\"colorbar\":{\"outlinewidth\":0,\"ticks\":\"\"}},\"type\":\"scatter3d\"}],\"scattercarpet\":[{\"marker\":{\"colorbar\":{\"outlinewidth\":0,\"ticks\":\"\"}},\"type\":\"scattercarpet\"}],\"scattergeo\":[{\"marker\":{\"colorbar\":{\"outlinewidth\":0,\"ticks\":\"\"}},\"type\":\"scattergeo\"}],\"scattergl\":[{\"marker\":{\"colorbar\":{\"outlinewidth\":0,\"ticks\":\"\"}},\"type\":\"scattergl\"}],\"scattermapbox\":[{\"marker\":{\"colorbar\":{\"outlinewidth\":0,\"ticks\":\"\"}},\"type\":\"scattermapbox\"}],\"scatterpolar\":[{\"marker\":{\"colorbar\":{\"outlinewidth\":0,\"ticks\":\"\"}},\"type\":\"scatterpolar\"}],\"scatterpolargl\":[{\"marker\":{\"colorbar\":{\"outlinewidth\":0,\"ticks\":\"\"}},\"type\":\"scatterpolargl\"}],\"scatterternary\":[{\"marker\":{\"colorbar\":{\"outlinewidth\":0,\"ticks\":\"\"}},\"type\":\"scatterternary\"}],\"surface\":[{\"colorbar\":{\"outlinewidth\":0,\"ticks\":\"\"},\"colorscale\":[[0.0,\"#0d0887\"],[0.1111111111111111,\"#46039f\"],[0.2222222222222222,\"#7201a8\"],[0.3333333333333333,\"#9c179e\"],[0.4444444444444444,\"#bd3786\"],[0.5555555555555556,\"#d8576b\"],[0.6666666666666666,\"#ed7953\"],[0.7777777777777778,\"#fb9f3a\"],[0.8888888888888888,\"#fdca26\"],[1.0,\"#f0f921\"]],\"type\":\"surface\"}],\"table\":[{\"cells\":{\"fill\":{\"color\":\"#EBF0F8\"},\"line\":{\"color\":\"white\"}},\"header\":{\"fill\":{\"color\":\"#C8D4E3\"},\"line\":{\"color\":\"white\"}},\"type\":\"table\"}]},\"layout\":{\"annotationdefaults\":{\"arrowcolor\":\"#2a3f5f\",\"arrowhead\":0,\"arrowwidth\":1},\"autotypenumbers\":\"strict\",\"coloraxis\":{\"colorbar\":{\"outlinewidth\":0,\"ticks\":\"\"}},\"colorscale\":{\"diverging\":[[0,\"#8e0152\"],[0.1,\"#c51b7d\"],[0.2,\"#de77ae\"],[0.3,\"#f1b6da\"],[0.4,\"#fde0ef\"],[0.5,\"#f7f7f7\"],[0.6,\"#e6f5d0\"],[0.7,\"#b8e186\"],[0.8,\"#7fbc41\"],[0.9,\"#4d9221\"],[1,\"#276419\"]],\"sequential\":[[0.0,\"#0d0887\"],[0.1111111111111111,\"#46039f\"],[0.2222222222222222,\"#7201a8\"],[0.3333333333333333,\"#9c179e\"],[0.4444444444444444,\"#bd3786\"],[0.5555555555555556,\"#d8576b\"],[0.6666666666666666,\"#ed7953\"],[0.7777777777777778,\"#fb9f3a\"],[0.8888888888888888,\"#fdca26\"],[1.0,\"#f0f921\"]],\"sequentialminus\":[[0.0,\"#0d0887\"],[0.1111111111111111,\"#46039f\"],[0.2222222222222222,\"#7201a8\"],[0.3333333333333333,\"#9c179e\"],[0.4444444444444444,\"#bd3786\"],[0.5555555555555556,\"#d8576b\"],[0.6666666666666666,\"#ed7953\"],[0.7777777777777778,\"#fb9f3a\"],[0.8888888888888888,\"#fdca26\"],[1.0,\"#f0f921\"]]},\"colorway\":[\"#636efa\",\"#EF553B\",\"#00cc96\",\"#ab63fa\",\"#FFA15A\",\"#19d3f3\",\"#FF6692\",\"#B6E880\",\"#FF97FF\",\"#FECB52\"],\"font\":{\"color\":\"#2a3f5f\"},\"geo\":{\"bgcolor\":\"white\",\"lakecolor\":\"white\",\"landcolor\":\"#E5ECF6\",\"showlakes\":true,\"showland\":true,\"subunitcolor\":\"white\"},\"hoverlabel\":{\"align\":\"left\"},\"hovermode\":\"closest\",\"mapbox\":{\"style\":\"light\"},\"paper_bgcolor\":\"white\",\"plot_bgcolor\":\"#E5ECF6\",\"polar\":{\"angularaxis\":{\"gridcolor\":\"white\",\"linecolor\":\"white\",\"ticks\":\"\"},\"bgcolor\":\"#E5ECF6\",\"radialaxis\":{\"gridcolor\":\"white\",\"linecolor\":\"white\",\"ticks\":\"\"}},\"scene\":{\"xaxis\":{\"backgroundcolor\":\"#E5ECF6\",\"gridcolor\":\"white\",\"gridwidth\":2,\"linecolor\":\"white\",\"showbackground\":true,\"ticks\":\"\",\"zerolinecolor\":\"white\"},\"yaxis\":{\"backgroundcolor\":\"#E5ECF6\",\"gridcolor\":\"white\",\"gridwidth\":2,\"linecolor\":\"white\",\"showbackground\":true,\"ticks\":\"\",\"zerolinecolor\":\"white\"},\"zaxis\":{\"backgroundcolor\":\"#E5ECF6\",\"gridcolor\":\"white\",\"gridwidth\":2,\"linecolor\":\"white\",\"showbackground\":true,\"ticks\":\"\",\"zerolinecolor\":\"white\"}},\"shapedefaults\":{\"line\":{\"color\":\"#2a3f5f\"}},\"ternary\":{\"aaxis\":{\"gridcolor\":\"white\",\"linecolor\":\"white\",\"ticks\":\"\"},\"baxis\":{\"gridcolor\":\"white\",\"linecolor\":\"white\",\"ticks\":\"\"},\"bgcolor\":\"#E5ECF6\",\"caxis\":{\"gridcolor\":\"white\",\"linecolor\":\"white\",\"ticks\":\"\"}},\"title\":{\"x\":0.05},\"xaxis\":{\"automargin\":true,\"gridcolor\":\"white\",\"linecolor\":\"white\",\"ticks\":\"\",\"title\":{\"standoff\":15},\"zerolinecolor\":\"white\",\"zerolinewidth\":2},\"yaxis\":{\"automargin\":true,\"gridcolor\":\"white\",\"linecolor\":\"white\",\"ticks\":\"\",\"title\":{\"standoff\":15},\"zerolinecolor\":\"white\",\"zerolinewidth\":2}}},\"xaxis\":{\"anchor\":\"y\",\"domain\":[0.0,1.0],\"title\":{\"text\":\"index\"}},\"yaxis\":{\"anchor\":\"x\",\"domain\":[0.0,1.0],\"title\":{\"text\":\"value\"}},\"legend\":{\"title\":{\"text\":\"variable\"},\"tracegroupgap\":0},\"margin\":{\"t\":60},\"barmode\":\"relative\"},                        {\"responsive\": true}                    ).then(function(){\n",
              "                            \n",
              "var gd = document.getElementById('b5e63dbe-2f30-43dc-a972-9e277ec3616e');\n",
              "var x = new MutationObserver(function (mutations, observer) {{\n",
              "        var display = window.getComputedStyle(gd).display;\n",
              "        if (!display || display === 'none') {{\n",
              "            console.log([gd, 'removed!']);\n",
              "            Plotly.purge(gd);\n",
              "            observer.disconnect();\n",
              "        }}\n",
              "}});\n",
              "\n",
              "// Listen for the removal of the full notebook cells\n",
              "var notebookContainer = gd.closest('#notebook-container');\n",
              "if (notebookContainer) {{\n",
              "    x.observe(notebookContainer, {childList: true});\n",
              "}}\n",
              "\n",
              "// Listen for the clearing of the current output cell\n",
              "var outputEl = gd.closest('.output');\n",
              "if (outputEl) {{\n",
              "    x.observe(outputEl, {childList: true});\n",
              "}}\n",
              "\n",
              "                        })                };                            </script>        </div>\n",
              "</body>\n",
              "</html>"
            ]
          },
          "metadata": {}
        }
      ]
    },
    {
      "cell_type": "code",
      "source": [
        "dataframe['hs_marketable_reason_type'] = dataframe['hs_marketable_reason_type'].replace(np.nan, 'WORKFLOW')"
      ],
      "metadata": {
        "id": "OeRSv3dvoLUy"
      },
      "execution_count": null,
      "outputs": []
    },
    {
      "cell_type": "code",
      "source": [
        "dataframe['hs_marketable_reason_type'].isnull().sum()"
      ],
      "metadata": {
        "colab": {
          "base_uri": "https://localhost:8080/"
        },
        "id": "Vme4LcTSoiVl",
        "outputId": "1b51a63b-37b5-48b8-83b4-e9e57b268a63"
      },
      "execution_count": null,
      "outputs": [
        {
          "output_type": "execute_result",
          "data": {
            "text/plain": [
              "0"
            ]
          },
          "metadata": {},
          "execution_count": 1594
        }
      ]
    },
    {
      "cell_type": "markdown",
      "source": [
        "##hs marketable status"
      ],
      "metadata": {
        "id": "aFCrSjKXpOWH"
      }
    },
    {
      "cell_type": "code",
      "source": [
        "dataframe['hs_marketable_status'].describe()"
      ],
      "metadata": {
        "colab": {
          "base_uri": "https://localhost:8080/"
        },
        "id": "ksIIRisAojzB",
        "outputId": "2ae088a2-3ea9-4ee0-b763-0072ffcb9238"
      },
      "execution_count": null,
      "outputs": [
        {
          "output_type": "execute_result",
          "data": {
            "text/plain": [
              "count     1263\n",
              "unique       2\n",
              "top       True\n",
              "freq      1259\n",
              "Name: hs_marketable_status, dtype: object"
            ]
          },
          "metadata": {},
          "execution_count": 1595
        }
      ]
    },
    {
      "cell_type": "code",
      "source": [
        "dataframe['hs_marketable_status'].isnull().sum()"
      ],
      "metadata": {
        "colab": {
          "base_uri": "https://localhost:8080/"
        },
        "id": "YJyB-Q25pTCI",
        "outputId": "4acdcd1b-254d-4c54-ec76-c385216313cb"
      },
      "execution_count": null,
      "outputs": [
        {
          "output_type": "execute_result",
          "data": {
            "text/plain": [
              "84"
            ]
          },
          "metadata": {},
          "execution_count": 1596
        }
      ]
    },
    {
      "cell_type": "code",
      "source": [
        "value = dataframe['hs_marketable_status'].value_counts()"
      ],
      "metadata": {
        "id": "rpsmDyEcplwn"
      },
      "execution_count": null,
      "outputs": []
    },
    {
      "cell_type": "code",
      "source": [
        "fig = px.bar(value)\n",
        "fig.show()"
      ],
      "metadata": {
        "colab": {
          "base_uri": "https://localhost:8080/",
          "height": 542
        },
        "id": "YATDkaerp45O",
        "outputId": "2c05c9c3-3453-4d45-9f61-7dd6671d77c7"
      },
      "execution_count": null,
      "outputs": [
        {
          "output_type": "display_data",
          "data": {
            "text/html": [
              "<html>\n",
              "<head><meta charset=\"utf-8\" /></head>\n",
              "<body>\n",
              "    <div>            <script src=\"https://cdnjs.cloudflare.com/ajax/libs/mathjax/2.7.5/MathJax.js?config=TeX-AMS-MML_SVG\"></script><script type=\"text/javascript\">if (window.MathJax) {MathJax.Hub.Config({SVG: {font: \"STIX-Web\"}});}</script>                <script type=\"text/javascript\">window.PlotlyConfig = {MathJaxConfig: 'local'};</script>\n",
              "        <script src=\"https://cdn.plot.ly/plotly-2.8.3.min.js\"></script>                <div id=\"48ade783-be7b-419b-bb54-14807a7be0e9\" class=\"plotly-graph-div\" style=\"height:525px; width:100%;\"></div>            <script type=\"text/javascript\">                                    window.PLOTLYENV=window.PLOTLYENV || {};                                    if (document.getElementById(\"48ade783-be7b-419b-bb54-14807a7be0e9\")) {                    Plotly.newPlot(                        \"48ade783-be7b-419b-bb54-14807a7be0e9\",                        [{\"alignmentgroup\":\"True\",\"hovertemplate\":\"variable=hs_marketable_status<br>index=%{x}<br>value=%{y}<extra></extra>\",\"legendgroup\":\"hs_marketable_status\",\"marker\":{\"color\":\"#636efa\",\"pattern\":{\"shape\":\"\"}},\"name\":\"hs_marketable_status\",\"offsetgroup\":\"hs_marketable_status\",\"orientation\":\"v\",\"showlegend\":true,\"textposition\":\"auto\",\"x\":[true,false],\"xaxis\":\"x\",\"y\":[1259,4],\"yaxis\":\"y\",\"type\":\"bar\"}],                        {\"template\":{\"data\":{\"bar\":[{\"error_x\":{\"color\":\"#2a3f5f\"},\"error_y\":{\"color\":\"#2a3f5f\"},\"marker\":{\"line\":{\"color\":\"#E5ECF6\",\"width\":0.5},\"pattern\":{\"fillmode\":\"overlay\",\"size\":10,\"solidity\":0.2}},\"type\":\"bar\"}],\"barpolar\":[{\"marker\":{\"line\":{\"color\":\"#E5ECF6\",\"width\":0.5},\"pattern\":{\"fillmode\":\"overlay\",\"size\":10,\"solidity\":0.2}},\"type\":\"barpolar\"}],\"carpet\":[{\"aaxis\":{\"endlinecolor\":\"#2a3f5f\",\"gridcolor\":\"white\",\"linecolor\":\"white\",\"minorgridcolor\":\"white\",\"startlinecolor\":\"#2a3f5f\"},\"baxis\":{\"endlinecolor\":\"#2a3f5f\",\"gridcolor\":\"white\",\"linecolor\":\"white\",\"minorgridcolor\":\"white\",\"startlinecolor\":\"#2a3f5f\"},\"type\":\"carpet\"}],\"choropleth\":[{\"colorbar\":{\"outlinewidth\":0,\"ticks\":\"\"},\"type\":\"choropleth\"}],\"contour\":[{\"colorbar\":{\"outlinewidth\":0,\"ticks\":\"\"},\"colorscale\":[[0.0,\"#0d0887\"],[0.1111111111111111,\"#46039f\"],[0.2222222222222222,\"#7201a8\"],[0.3333333333333333,\"#9c179e\"],[0.4444444444444444,\"#bd3786\"],[0.5555555555555556,\"#d8576b\"],[0.6666666666666666,\"#ed7953\"],[0.7777777777777778,\"#fb9f3a\"],[0.8888888888888888,\"#fdca26\"],[1.0,\"#f0f921\"]],\"type\":\"contour\"}],\"contourcarpet\":[{\"colorbar\":{\"outlinewidth\":0,\"ticks\":\"\"},\"type\":\"contourcarpet\"}],\"heatmap\":[{\"colorbar\":{\"outlinewidth\":0,\"ticks\":\"\"},\"colorscale\":[[0.0,\"#0d0887\"],[0.1111111111111111,\"#46039f\"],[0.2222222222222222,\"#7201a8\"],[0.3333333333333333,\"#9c179e\"],[0.4444444444444444,\"#bd3786\"],[0.5555555555555556,\"#d8576b\"],[0.6666666666666666,\"#ed7953\"],[0.7777777777777778,\"#fb9f3a\"],[0.8888888888888888,\"#fdca26\"],[1.0,\"#f0f921\"]],\"type\":\"heatmap\"}],\"heatmapgl\":[{\"colorbar\":{\"outlinewidth\":0,\"ticks\":\"\"},\"colorscale\":[[0.0,\"#0d0887\"],[0.1111111111111111,\"#46039f\"],[0.2222222222222222,\"#7201a8\"],[0.3333333333333333,\"#9c179e\"],[0.4444444444444444,\"#bd3786\"],[0.5555555555555556,\"#d8576b\"],[0.6666666666666666,\"#ed7953\"],[0.7777777777777778,\"#fb9f3a\"],[0.8888888888888888,\"#fdca26\"],[1.0,\"#f0f921\"]],\"type\":\"heatmapgl\"}],\"histogram\":[{\"marker\":{\"pattern\":{\"fillmode\":\"overlay\",\"size\":10,\"solidity\":0.2}},\"type\":\"histogram\"}],\"histogram2d\":[{\"colorbar\":{\"outlinewidth\":0,\"ticks\":\"\"},\"colorscale\":[[0.0,\"#0d0887\"],[0.1111111111111111,\"#46039f\"],[0.2222222222222222,\"#7201a8\"],[0.3333333333333333,\"#9c179e\"],[0.4444444444444444,\"#bd3786\"],[0.5555555555555556,\"#d8576b\"],[0.6666666666666666,\"#ed7953\"],[0.7777777777777778,\"#fb9f3a\"],[0.8888888888888888,\"#fdca26\"],[1.0,\"#f0f921\"]],\"type\":\"histogram2d\"}],\"histogram2dcontour\":[{\"colorbar\":{\"outlinewidth\":0,\"ticks\":\"\"},\"colorscale\":[[0.0,\"#0d0887\"],[0.1111111111111111,\"#46039f\"],[0.2222222222222222,\"#7201a8\"],[0.3333333333333333,\"#9c179e\"],[0.4444444444444444,\"#bd3786\"],[0.5555555555555556,\"#d8576b\"],[0.6666666666666666,\"#ed7953\"],[0.7777777777777778,\"#fb9f3a\"],[0.8888888888888888,\"#fdca26\"],[1.0,\"#f0f921\"]],\"type\":\"histogram2dcontour\"}],\"mesh3d\":[{\"colorbar\":{\"outlinewidth\":0,\"ticks\":\"\"},\"type\":\"mesh3d\"}],\"parcoords\":[{\"line\":{\"colorbar\":{\"outlinewidth\":0,\"ticks\":\"\"}},\"type\":\"parcoords\"}],\"pie\":[{\"automargin\":true,\"type\":\"pie\"}],\"scatter\":[{\"marker\":{\"colorbar\":{\"outlinewidth\":0,\"ticks\":\"\"}},\"type\":\"scatter\"}],\"scatter3d\":[{\"line\":{\"colorbar\":{\"outlinewidth\":0,\"ticks\":\"\"}},\"marker\":{\"colorbar\":{\"outlinewidth\":0,\"ticks\":\"\"}},\"type\":\"scatter3d\"}],\"scattercarpet\":[{\"marker\":{\"colorbar\":{\"outlinewidth\":0,\"ticks\":\"\"}},\"type\":\"scattercarpet\"}],\"scattergeo\":[{\"marker\":{\"colorbar\":{\"outlinewidth\":0,\"ticks\":\"\"}},\"type\":\"scattergeo\"}],\"scattergl\":[{\"marker\":{\"colorbar\":{\"outlinewidth\":0,\"ticks\":\"\"}},\"type\":\"scattergl\"}],\"scattermapbox\":[{\"marker\":{\"colorbar\":{\"outlinewidth\":0,\"ticks\":\"\"}},\"type\":\"scattermapbox\"}],\"scatterpolar\":[{\"marker\":{\"colorbar\":{\"outlinewidth\":0,\"ticks\":\"\"}},\"type\":\"scatterpolar\"}],\"scatterpolargl\":[{\"marker\":{\"colorbar\":{\"outlinewidth\":0,\"ticks\":\"\"}},\"type\":\"scatterpolargl\"}],\"scatterternary\":[{\"marker\":{\"colorbar\":{\"outlinewidth\":0,\"ticks\":\"\"}},\"type\":\"scatterternary\"}],\"surface\":[{\"colorbar\":{\"outlinewidth\":0,\"ticks\":\"\"},\"colorscale\":[[0.0,\"#0d0887\"],[0.1111111111111111,\"#46039f\"],[0.2222222222222222,\"#7201a8\"],[0.3333333333333333,\"#9c179e\"],[0.4444444444444444,\"#bd3786\"],[0.5555555555555556,\"#d8576b\"],[0.6666666666666666,\"#ed7953\"],[0.7777777777777778,\"#fb9f3a\"],[0.8888888888888888,\"#fdca26\"],[1.0,\"#f0f921\"]],\"type\":\"surface\"}],\"table\":[{\"cells\":{\"fill\":{\"color\":\"#EBF0F8\"},\"line\":{\"color\":\"white\"}},\"header\":{\"fill\":{\"color\":\"#C8D4E3\"},\"line\":{\"color\":\"white\"}},\"type\":\"table\"}]},\"layout\":{\"annotationdefaults\":{\"arrowcolor\":\"#2a3f5f\",\"arrowhead\":0,\"arrowwidth\":1},\"autotypenumbers\":\"strict\",\"coloraxis\":{\"colorbar\":{\"outlinewidth\":0,\"ticks\":\"\"}},\"colorscale\":{\"diverging\":[[0,\"#8e0152\"],[0.1,\"#c51b7d\"],[0.2,\"#de77ae\"],[0.3,\"#f1b6da\"],[0.4,\"#fde0ef\"],[0.5,\"#f7f7f7\"],[0.6,\"#e6f5d0\"],[0.7,\"#b8e186\"],[0.8,\"#7fbc41\"],[0.9,\"#4d9221\"],[1,\"#276419\"]],\"sequential\":[[0.0,\"#0d0887\"],[0.1111111111111111,\"#46039f\"],[0.2222222222222222,\"#7201a8\"],[0.3333333333333333,\"#9c179e\"],[0.4444444444444444,\"#bd3786\"],[0.5555555555555556,\"#d8576b\"],[0.6666666666666666,\"#ed7953\"],[0.7777777777777778,\"#fb9f3a\"],[0.8888888888888888,\"#fdca26\"],[1.0,\"#f0f921\"]],\"sequentialminus\":[[0.0,\"#0d0887\"],[0.1111111111111111,\"#46039f\"],[0.2222222222222222,\"#7201a8\"],[0.3333333333333333,\"#9c179e\"],[0.4444444444444444,\"#bd3786\"],[0.5555555555555556,\"#d8576b\"],[0.6666666666666666,\"#ed7953\"],[0.7777777777777778,\"#fb9f3a\"],[0.8888888888888888,\"#fdca26\"],[1.0,\"#f0f921\"]]},\"colorway\":[\"#636efa\",\"#EF553B\",\"#00cc96\",\"#ab63fa\",\"#FFA15A\",\"#19d3f3\",\"#FF6692\",\"#B6E880\",\"#FF97FF\",\"#FECB52\"],\"font\":{\"color\":\"#2a3f5f\"},\"geo\":{\"bgcolor\":\"white\",\"lakecolor\":\"white\",\"landcolor\":\"#E5ECF6\",\"showlakes\":true,\"showland\":true,\"subunitcolor\":\"white\"},\"hoverlabel\":{\"align\":\"left\"},\"hovermode\":\"closest\",\"mapbox\":{\"style\":\"light\"},\"paper_bgcolor\":\"white\",\"plot_bgcolor\":\"#E5ECF6\",\"polar\":{\"angularaxis\":{\"gridcolor\":\"white\",\"linecolor\":\"white\",\"ticks\":\"\"},\"bgcolor\":\"#E5ECF6\",\"radialaxis\":{\"gridcolor\":\"white\",\"linecolor\":\"white\",\"ticks\":\"\"}},\"scene\":{\"xaxis\":{\"backgroundcolor\":\"#E5ECF6\",\"gridcolor\":\"white\",\"gridwidth\":2,\"linecolor\":\"white\",\"showbackground\":true,\"ticks\":\"\",\"zerolinecolor\":\"white\"},\"yaxis\":{\"backgroundcolor\":\"#E5ECF6\",\"gridcolor\":\"white\",\"gridwidth\":2,\"linecolor\":\"white\",\"showbackground\":true,\"ticks\":\"\",\"zerolinecolor\":\"white\"},\"zaxis\":{\"backgroundcolor\":\"#E5ECF6\",\"gridcolor\":\"white\",\"gridwidth\":2,\"linecolor\":\"white\",\"showbackground\":true,\"ticks\":\"\",\"zerolinecolor\":\"white\"}},\"shapedefaults\":{\"line\":{\"color\":\"#2a3f5f\"}},\"ternary\":{\"aaxis\":{\"gridcolor\":\"white\",\"linecolor\":\"white\",\"ticks\":\"\"},\"baxis\":{\"gridcolor\":\"white\",\"linecolor\":\"white\",\"ticks\":\"\"},\"bgcolor\":\"#E5ECF6\",\"caxis\":{\"gridcolor\":\"white\",\"linecolor\":\"white\",\"ticks\":\"\"}},\"title\":{\"x\":0.05},\"xaxis\":{\"automargin\":true,\"gridcolor\":\"white\",\"linecolor\":\"white\",\"ticks\":\"\",\"title\":{\"standoff\":15},\"zerolinecolor\":\"white\",\"zerolinewidth\":2},\"yaxis\":{\"automargin\":true,\"gridcolor\":\"white\",\"linecolor\":\"white\",\"ticks\":\"\",\"title\":{\"standoff\":15},\"zerolinecolor\":\"white\",\"zerolinewidth\":2}}},\"xaxis\":{\"anchor\":\"y\",\"domain\":[0.0,1.0],\"title\":{\"text\":\"index\"}},\"yaxis\":{\"anchor\":\"x\",\"domain\":[0.0,1.0],\"title\":{\"text\":\"value\"}},\"legend\":{\"title\":{\"text\":\"variable\"},\"tracegroupgap\":0},\"margin\":{\"t\":60},\"barmode\":\"relative\"},                        {\"responsive\": true}                    ).then(function(){\n",
              "                            \n",
              "var gd = document.getElementById('48ade783-be7b-419b-bb54-14807a7be0e9');\n",
              "var x = new MutationObserver(function (mutations, observer) {{\n",
              "        var display = window.getComputedStyle(gd).display;\n",
              "        if (!display || display === 'none') {{\n",
              "            console.log([gd, 'removed!']);\n",
              "            Plotly.purge(gd);\n",
              "            observer.disconnect();\n",
              "        }}\n",
              "}});\n",
              "\n",
              "// Listen for the removal of the full notebook cells\n",
              "var notebookContainer = gd.closest('#notebook-container');\n",
              "if (notebookContainer) {{\n",
              "    x.observe(notebookContainer, {childList: true});\n",
              "}}\n",
              "\n",
              "// Listen for the clearing of the current output cell\n",
              "var outputEl = gd.closest('.output');\n",
              "if (outputEl) {{\n",
              "    x.observe(outputEl, {childList: true});\n",
              "}}\n",
              "\n",
              "                        })                };                            </script>        </div>\n",
              "</body>\n",
              "</html>"
            ]
          },
          "metadata": {}
        }
      ]
    },
    {
      "cell_type": "code",
      "source": [
        "dataframe['hs_marketable_status'] = dataframe['hs_marketable_status'].replace(np.nan, 'true')"
      ],
      "metadata": {
        "id": "puwoAh4Ap-oX"
      },
      "execution_count": null,
      "outputs": []
    },
    {
      "cell_type": "code",
      "source": [
        "dataframe['hs_marketable_status'].isnull().sum()"
      ],
      "metadata": {
        "colab": {
          "base_uri": "https://localhost:8080/"
        },
        "id": "l8rntURRqMBU",
        "outputId": "f56f08e2-9343-455e-8f6a-6a884a8872cd"
      },
      "execution_count": null,
      "outputs": [
        {
          "output_type": "execute_result",
          "data": {
            "text/plain": [
              "0"
            ]
          },
          "metadata": {},
          "execution_count": 1600
        }
      ]
    },
    {
      "cell_type": "markdown",
      "source": [
        "##hs predictive contact score v2"
      ],
      "metadata": {
        "id": "k-BacLK8q70w"
      }
    },
    {
      "cell_type": "code",
      "source": [
        "dataframe['hs_predictivecontactscore_v2'].describe()"
      ],
      "metadata": {
        "colab": {
          "base_uri": "https://localhost:8080/"
        },
        "id": "D_LQHSK9qUdq",
        "outputId": "6ac939d4-72ab-4e35-8506-37cdc1470aec"
      },
      "execution_count": null,
      "outputs": [
        {
          "output_type": "execute_result",
          "data": {
            "text/plain": [
              "count    1170.000000\n",
              "mean       10.281479\n",
              "std         8.420753\n",
              "min         0.200000\n",
              "25%         4.272500\n",
              "50%         7.210000\n",
              "75%        13.537500\n",
              "max        52.810000\n",
              "Name: hs_predictivecontactscore_v2, dtype: float64"
            ]
          },
          "metadata": {},
          "execution_count": 1603
        }
      ]
    },
    {
      "cell_type": "code",
      "source": [
        "dataframe['hs_predictivecontactscore_v2'].isnull().sum()"
      ],
      "metadata": {
        "colab": {
          "base_uri": "https://localhost:8080/"
        },
        "id": "WK6FgDqkrQOW",
        "outputId": "8b713a39-5de7-46f5-cc0f-806a87bb7315"
      },
      "execution_count": null,
      "outputs": [
        {
          "output_type": "execute_result",
          "data": {
            "text/plain": [
              "177"
            ]
          },
          "metadata": {},
          "execution_count": 1604
        }
      ]
    },
    {
      "cell_type": "code",
      "source": [
        "mean = data['hs_predictivecontactscore_v2'].mean()"
      ],
      "metadata": {
        "id": "zxZxLgvxqaSp"
      },
      "execution_count": null,
      "outputs": []
    },
    {
      "cell_type": "code",
      "source": [
        "dataframe['hs_predictivecontactscore_v2'] = dataframe['hs_predictivecontactscore_v2'].replace(np.nan, mean)"
      ],
      "metadata": {
        "id": "ip5xNqH1rcOE"
      },
      "execution_count": null,
      "outputs": []
    },
    {
      "cell_type": "code",
      "source": [
        "dataframe['hs_predictivecontactscore_v2'].isnull().sum()"
      ],
      "metadata": {
        "colab": {
          "base_uri": "https://localhost:8080/"
        },
        "id": "JmoTYn7Yro7B",
        "outputId": "6614dcb1-c7ab-427b-95cc-af28e318f5b3"
      },
      "execution_count": null,
      "outputs": [
        {
          "output_type": "execute_result",
          "data": {
            "text/plain": [
              "0"
            ]
          },
          "metadata": {},
          "execution_count": 1608
        }
      ]
    },
    {
      "cell_type": "markdown",
      "source": [
        "##hs predictive scoring tier"
      ],
      "metadata": {
        "id": "YPfOXRcQs7MD"
      }
    },
    {
      "cell_type": "code",
      "source": [
        "dataframe['hs_predictivescoringtier'].describe()"
      ],
      "metadata": {
        "colab": {
          "base_uri": "https://localhost:8080/"
        },
        "id": "GquwlTu9rtzr",
        "outputId": "3f7ef716-eba6-43dc-c980-0b188b4dfa70"
      },
      "execution_count": null,
      "outputs": [
        {
          "output_type": "execute_result",
          "data": {
            "text/plain": [
              "count       1263\n",
              "unique         4\n",
              "top       tier_1\n",
              "freq        1168\n",
              "Name: hs_predictivescoringtier, dtype: object"
            ]
          },
          "metadata": {},
          "execution_count": 1609
        }
      ]
    },
    {
      "cell_type": "code",
      "source": [
        "dataframe['hs_predictivescoringtier'].isnull().sum()"
      ],
      "metadata": {
        "colab": {
          "base_uri": "https://localhost:8080/"
        },
        "id": "U6FxpRiWslWz",
        "outputId": "abdd471c-8c14-4461-f955-457f5e1f2303"
      },
      "execution_count": null,
      "outputs": [
        {
          "output_type": "execute_result",
          "data": {
            "text/plain": [
              "84"
            ]
          },
          "metadata": {},
          "execution_count": 1610
        }
      ]
    },
    {
      "cell_type": "code",
      "source": [
        "value = dataframe['hs_predictivescoringtier'].value_counts()"
      ],
      "metadata": {
        "id": "5gPPs2D5tPzh"
      },
      "execution_count": null,
      "outputs": []
    },
    {
      "cell_type": "code",
      "source": [
        "fig = px.bar(value)\n",
        "fig.show()"
      ],
      "metadata": {
        "colab": {
          "base_uri": "https://localhost:8080/",
          "height": 542
        },
        "id": "a1s8S8UotY2a",
        "outputId": "afd6c080-600f-4f04-ceb9-ed202f351458"
      },
      "execution_count": null,
      "outputs": [
        {
          "output_type": "display_data",
          "data": {
            "text/html": [
              "<html>\n",
              "<head><meta charset=\"utf-8\" /></head>\n",
              "<body>\n",
              "    <div>            <script src=\"https://cdnjs.cloudflare.com/ajax/libs/mathjax/2.7.5/MathJax.js?config=TeX-AMS-MML_SVG\"></script><script type=\"text/javascript\">if (window.MathJax) {MathJax.Hub.Config({SVG: {font: \"STIX-Web\"}});}</script>                <script type=\"text/javascript\">window.PlotlyConfig = {MathJaxConfig: 'local'};</script>\n",
              "        <script src=\"https://cdn.plot.ly/plotly-2.8.3.min.js\"></script>                <div id=\"8a9f9c40-0364-4cf8-b7c7-c6ba2be6c554\" class=\"plotly-graph-div\" style=\"height:525px; width:100%;\"></div>            <script type=\"text/javascript\">                                    window.PLOTLYENV=window.PLOTLYENV || {};                                    if (document.getElementById(\"8a9f9c40-0364-4cf8-b7c7-c6ba2be6c554\")) {                    Plotly.newPlot(                        \"8a9f9c40-0364-4cf8-b7c7-c6ba2be6c554\",                        [{\"alignmentgroup\":\"True\",\"hovertemplate\":\"variable=hs_predictivescoringtier<br>index=%{x}<br>value=%{y}<extra></extra>\",\"legendgroup\":\"hs_predictivescoringtier\",\"marker\":{\"color\":\"#636efa\",\"pattern\":{\"shape\":\"\"}},\"name\":\"hs_predictivescoringtier\",\"offsetgroup\":\"hs_predictivescoringtier\",\"orientation\":\"v\",\"showlegend\":true,\"textposition\":\"auto\",\"x\":[\"tier_1\",\"closed_won\",\"tier_3\",\"tier_4\"],\"xaxis\":\"x\",\"y\":[1168,93,1,1],\"yaxis\":\"y\",\"type\":\"bar\"}],                        {\"template\":{\"data\":{\"bar\":[{\"error_x\":{\"color\":\"#2a3f5f\"},\"error_y\":{\"color\":\"#2a3f5f\"},\"marker\":{\"line\":{\"color\":\"#E5ECF6\",\"width\":0.5},\"pattern\":{\"fillmode\":\"overlay\",\"size\":10,\"solidity\":0.2}},\"type\":\"bar\"}],\"barpolar\":[{\"marker\":{\"line\":{\"color\":\"#E5ECF6\",\"width\":0.5},\"pattern\":{\"fillmode\":\"overlay\",\"size\":10,\"solidity\":0.2}},\"type\":\"barpolar\"}],\"carpet\":[{\"aaxis\":{\"endlinecolor\":\"#2a3f5f\",\"gridcolor\":\"white\",\"linecolor\":\"white\",\"minorgridcolor\":\"white\",\"startlinecolor\":\"#2a3f5f\"},\"baxis\":{\"endlinecolor\":\"#2a3f5f\",\"gridcolor\":\"white\",\"linecolor\":\"white\",\"minorgridcolor\":\"white\",\"startlinecolor\":\"#2a3f5f\"},\"type\":\"carpet\"}],\"choropleth\":[{\"colorbar\":{\"outlinewidth\":0,\"ticks\":\"\"},\"type\":\"choropleth\"}],\"contour\":[{\"colorbar\":{\"outlinewidth\":0,\"ticks\":\"\"},\"colorscale\":[[0.0,\"#0d0887\"],[0.1111111111111111,\"#46039f\"],[0.2222222222222222,\"#7201a8\"],[0.3333333333333333,\"#9c179e\"],[0.4444444444444444,\"#bd3786\"],[0.5555555555555556,\"#d8576b\"],[0.6666666666666666,\"#ed7953\"],[0.7777777777777778,\"#fb9f3a\"],[0.8888888888888888,\"#fdca26\"],[1.0,\"#f0f921\"]],\"type\":\"contour\"}],\"contourcarpet\":[{\"colorbar\":{\"outlinewidth\":0,\"ticks\":\"\"},\"type\":\"contourcarpet\"}],\"heatmap\":[{\"colorbar\":{\"outlinewidth\":0,\"ticks\":\"\"},\"colorscale\":[[0.0,\"#0d0887\"],[0.1111111111111111,\"#46039f\"],[0.2222222222222222,\"#7201a8\"],[0.3333333333333333,\"#9c179e\"],[0.4444444444444444,\"#bd3786\"],[0.5555555555555556,\"#d8576b\"],[0.6666666666666666,\"#ed7953\"],[0.7777777777777778,\"#fb9f3a\"],[0.8888888888888888,\"#fdca26\"],[1.0,\"#f0f921\"]],\"type\":\"heatmap\"}],\"heatmapgl\":[{\"colorbar\":{\"outlinewidth\":0,\"ticks\":\"\"},\"colorscale\":[[0.0,\"#0d0887\"],[0.1111111111111111,\"#46039f\"],[0.2222222222222222,\"#7201a8\"],[0.3333333333333333,\"#9c179e\"],[0.4444444444444444,\"#bd3786\"],[0.5555555555555556,\"#d8576b\"],[0.6666666666666666,\"#ed7953\"],[0.7777777777777778,\"#fb9f3a\"],[0.8888888888888888,\"#fdca26\"],[1.0,\"#f0f921\"]],\"type\":\"heatmapgl\"}],\"histogram\":[{\"marker\":{\"pattern\":{\"fillmode\":\"overlay\",\"size\":10,\"solidity\":0.2}},\"type\":\"histogram\"}],\"histogram2d\":[{\"colorbar\":{\"outlinewidth\":0,\"ticks\":\"\"},\"colorscale\":[[0.0,\"#0d0887\"],[0.1111111111111111,\"#46039f\"],[0.2222222222222222,\"#7201a8\"],[0.3333333333333333,\"#9c179e\"],[0.4444444444444444,\"#bd3786\"],[0.5555555555555556,\"#d8576b\"],[0.6666666666666666,\"#ed7953\"],[0.7777777777777778,\"#fb9f3a\"],[0.8888888888888888,\"#fdca26\"],[1.0,\"#f0f921\"]],\"type\":\"histogram2d\"}],\"histogram2dcontour\":[{\"colorbar\":{\"outlinewidth\":0,\"ticks\":\"\"},\"colorscale\":[[0.0,\"#0d0887\"],[0.1111111111111111,\"#46039f\"],[0.2222222222222222,\"#7201a8\"],[0.3333333333333333,\"#9c179e\"],[0.4444444444444444,\"#bd3786\"],[0.5555555555555556,\"#d8576b\"],[0.6666666666666666,\"#ed7953\"],[0.7777777777777778,\"#fb9f3a\"],[0.8888888888888888,\"#fdca26\"],[1.0,\"#f0f921\"]],\"type\":\"histogram2dcontour\"}],\"mesh3d\":[{\"colorbar\":{\"outlinewidth\":0,\"ticks\":\"\"},\"type\":\"mesh3d\"}],\"parcoords\":[{\"line\":{\"colorbar\":{\"outlinewidth\":0,\"ticks\":\"\"}},\"type\":\"parcoords\"}],\"pie\":[{\"automargin\":true,\"type\":\"pie\"}],\"scatter\":[{\"marker\":{\"colorbar\":{\"outlinewidth\":0,\"ticks\":\"\"}},\"type\":\"scatter\"}],\"scatter3d\":[{\"line\":{\"colorbar\":{\"outlinewidth\":0,\"ticks\":\"\"}},\"marker\":{\"colorbar\":{\"outlinewidth\":0,\"ticks\":\"\"}},\"type\":\"scatter3d\"}],\"scattercarpet\":[{\"marker\":{\"colorbar\":{\"outlinewidth\":0,\"ticks\":\"\"}},\"type\":\"scattercarpet\"}],\"scattergeo\":[{\"marker\":{\"colorbar\":{\"outlinewidth\":0,\"ticks\":\"\"}},\"type\":\"scattergeo\"}],\"scattergl\":[{\"marker\":{\"colorbar\":{\"outlinewidth\":0,\"ticks\":\"\"}},\"type\":\"scattergl\"}],\"scattermapbox\":[{\"marker\":{\"colorbar\":{\"outlinewidth\":0,\"ticks\":\"\"}},\"type\":\"scattermapbox\"}],\"scatterpolar\":[{\"marker\":{\"colorbar\":{\"outlinewidth\":0,\"ticks\":\"\"}},\"type\":\"scatterpolar\"}],\"scatterpolargl\":[{\"marker\":{\"colorbar\":{\"outlinewidth\":0,\"ticks\":\"\"}},\"type\":\"scatterpolargl\"}],\"scatterternary\":[{\"marker\":{\"colorbar\":{\"outlinewidth\":0,\"ticks\":\"\"}},\"type\":\"scatterternary\"}],\"surface\":[{\"colorbar\":{\"outlinewidth\":0,\"ticks\":\"\"},\"colorscale\":[[0.0,\"#0d0887\"],[0.1111111111111111,\"#46039f\"],[0.2222222222222222,\"#7201a8\"],[0.3333333333333333,\"#9c179e\"],[0.4444444444444444,\"#bd3786\"],[0.5555555555555556,\"#d8576b\"],[0.6666666666666666,\"#ed7953\"],[0.7777777777777778,\"#fb9f3a\"],[0.8888888888888888,\"#fdca26\"],[1.0,\"#f0f921\"]],\"type\":\"surface\"}],\"table\":[{\"cells\":{\"fill\":{\"color\":\"#EBF0F8\"},\"line\":{\"color\":\"white\"}},\"header\":{\"fill\":{\"color\":\"#C8D4E3\"},\"line\":{\"color\":\"white\"}},\"type\":\"table\"}]},\"layout\":{\"annotationdefaults\":{\"arrowcolor\":\"#2a3f5f\",\"arrowhead\":0,\"arrowwidth\":1},\"autotypenumbers\":\"strict\",\"coloraxis\":{\"colorbar\":{\"outlinewidth\":0,\"ticks\":\"\"}},\"colorscale\":{\"diverging\":[[0,\"#8e0152\"],[0.1,\"#c51b7d\"],[0.2,\"#de77ae\"],[0.3,\"#f1b6da\"],[0.4,\"#fde0ef\"],[0.5,\"#f7f7f7\"],[0.6,\"#e6f5d0\"],[0.7,\"#b8e186\"],[0.8,\"#7fbc41\"],[0.9,\"#4d9221\"],[1,\"#276419\"]],\"sequential\":[[0.0,\"#0d0887\"],[0.1111111111111111,\"#46039f\"],[0.2222222222222222,\"#7201a8\"],[0.3333333333333333,\"#9c179e\"],[0.4444444444444444,\"#bd3786\"],[0.5555555555555556,\"#d8576b\"],[0.6666666666666666,\"#ed7953\"],[0.7777777777777778,\"#fb9f3a\"],[0.8888888888888888,\"#fdca26\"],[1.0,\"#f0f921\"]],\"sequentialminus\":[[0.0,\"#0d0887\"],[0.1111111111111111,\"#46039f\"],[0.2222222222222222,\"#7201a8\"],[0.3333333333333333,\"#9c179e\"],[0.4444444444444444,\"#bd3786\"],[0.5555555555555556,\"#d8576b\"],[0.6666666666666666,\"#ed7953\"],[0.7777777777777778,\"#fb9f3a\"],[0.8888888888888888,\"#fdca26\"],[1.0,\"#f0f921\"]]},\"colorway\":[\"#636efa\",\"#EF553B\",\"#00cc96\",\"#ab63fa\",\"#FFA15A\",\"#19d3f3\",\"#FF6692\",\"#B6E880\",\"#FF97FF\",\"#FECB52\"],\"font\":{\"color\":\"#2a3f5f\"},\"geo\":{\"bgcolor\":\"white\",\"lakecolor\":\"white\",\"landcolor\":\"#E5ECF6\",\"showlakes\":true,\"showland\":true,\"subunitcolor\":\"white\"},\"hoverlabel\":{\"align\":\"left\"},\"hovermode\":\"closest\",\"mapbox\":{\"style\":\"light\"},\"paper_bgcolor\":\"white\",\"plot_bgcolor\":\"#E5ECF6\",\"polar\":{\"angularaxis\":{\"gridcolor\":\"white\",\"linecolor\":\"white\",\"ticks\":\"\"},\"bgcolor\":\"#E5ECF6\",\"radialaxis\":{\"gridcolor\":\"white\",\"linecolor\":\"white\",\"ticks\":\"\"}},\"scene\":{\"xaxis\":{\"backgroundcolor\":\"#E5ECF6\",\"gridcolor\":\"white\",\"gridwidth\":2,\"linecolor\":\"white\",\"showbackground\":true,\"ticks\":\"\",\"zerolinecolor\":\"white\"},\"yaxis\":{\"backgroundcolor\":\"#E5ECF6\",\"gridcolor\":\"white\",\"gridwidth\":2,\"linecolor\":\"white\",\"showbackground\":true,\"ticks\":\"\",\"zerolinecolor\":\"white\"},\"zaxis\":{\"backgroundcolor\":\"#E5ECF6\",\"gridcolor\":\"white\",\"gridwidth\":2,\"linecolor\":\"white\",\"showbackground\":true,\"ticks\":\"\",\"zerolinecolor\":\"white\"}},\"shapedefaults\":{\"line\":{\"color\":\"#2a3f5f\"}},\"ternary\":{\"aaxis\":{\"gridcolor\":\"white\",\"linecolor\":\"white\",\"ticks\":\"\"},\"baxis\":{\"gridcolor\":\"white\",\"linecolor\":\"white\",\"ticks\":\"\"},\"bgcolor\":\"#E5ECF6\",\"caxis\":{\"gridcolor\":\"white\",\"linecolor\":\"white\",\"ticks\":\"\"}},\"title\":{\"x\":0.05},\"xaxis\":{\"automargin\":true,\"gridcolor\":\"white\",\"linecolor\":\"white\",\"ticks\":\"\",\"title\":{\"standoff\":15},\"zerolinecolor\":\"white\",\"zerolinewidth\":2},\"yaxis\":{\"automargin\":true,\"gridcolor\":\"white\",\"linecolor\":\"white\",\"ticks\":\"\",\"title\":{\"standoff\":15},\"zerolinecolor\":\"white\",\"zerolinewidth\":2}}},\"xaxis\":{\"anchor\":\"y\",\"domain\":[0.0,1.0],\"title\":{\"text\":\"index\"}},\"yaxis\":{\"anchor\":\"x\",\"domain\":[0.0,1.0],\"title\":{\"text\":\"value\"}},\"legend\":{\"title\":{\"text\":\"variable\"},\"tracegroupgap\":0},\"margin\":{\"t\":60},\"barmode\":\"relative\"},                        {\"responsive\": true}                    ).then(function(){\n",
              "                            \n",
              "var gd = document.getElementById('8a9f9c40-0364-4cf8-b7c7-c6ba2be6c554');\n",
              "var x = new MutationObserver(function (mutations, observer) {{\n",
              "        var display = window.getComputedStyle(gd).display;\n",
              "        if (!display || display === 'none') {{\n",
              "            console.log([gd, 'removed!']);\n",
              "            Plotly.purge(gd);\n",
              "            observer.disconnect();\n",
              "        }}\n",
              "}});\n",
              "\n",
              "// Listen for the removal of the full notebook cells\n",
              "var notebookContainer = gd.closest('#notebook-container');\n",
              "if (notebookContainer) {{\n",
              "    x.observe(notebookContainer, {childList: true});\n",
              "}}\n",
              "\n",
              "// Listen for the clearing of the current output cell\n",
              "var outputEl = gd.closest('.output');\n",
              "if (outputEl) {{\n",
              "    x.observe(outputEl, {childList: true});\n",
              "}}\n",
              "\n",
              "                        })                };                            </script>        </div>\n",
              "</body>\n",
              "</html>"
            ]
          },
          "metadata": {}
        }
      ]
    },
    {
      "cell_type": "code",
      "source": [
        "dataframe['hs_predictivescoringtier'] = dataframe['hs_predictivescoringtier'].replace(np.nan, 'tier_1')"
      ],
      "metadata": {
        "id": "OaAL_3uttbB2"
      },
      "execution_count": null,
      "outputs": []
    },
    {
      "cell_type": "code",
      "source": [
        "dataframe['hs_predictivescoringtier'].isnull().sum()"
      ],
      "metadata": {
        "colab": {
          "base_uri": "https://localhost:8080/"
        },
        "id": "9U93cgq6tmy2",
        "outputId": "ca56fd0b-67fc-41f8-d621-272dbdafc4bb"
      },
      "execution_count": null,
      "outputs": [
        {
          "output_type": "execute_result",
          "data": {
            "text/plain": [
              "0"
            ]
          },
          "metadata": {},
          "execution_count": 1614
        }
      ]
    },
    {
      "cell_type": "markdown",
      "source": [
        "##hs sa first engagement descr"
      ],
      "metadata": {
        "id": "O-WvJEjouh2X"
      }
    },
    {
      "cell_type": "code",
      "source": [
        "dataframe['hs_sa_first_engagement_descr'].describe()"
      ],
      "metadata": {
        "colab": {
          "base_uri": "https://localhost:8080/"
        },
        "id": "3-Q6wDIStu-0",
        "outputId": "5b084de1-338a-4e14-bde2-18808fc46c94"
      },
      "execution_count": null,
      "outputs": [
        {
          "output_type": "execute_result",
          "data": {
            "text/plain": [
              "count                   974\n",
              "unique                    5\n",
              "top       EMPTY_DESCRIPTION\n",
              "freq                    699\n",
              "Name: hs_sa_first_engagement_descr, dtype: object"
            ]
          },
          "metadata": {},
          "execution_count": 1616
        }
      ]
    },
    {
      "cell_type": "code",
      "source": [
        "dataframe['hs_sa_first_engagement_descr'].isnull().sum()"
      ],
      "metadata": {
        "colab": {
          "base_uri": "https://localhost:8080/"
        },
        "id": "EJNhnZFiuhFi",
        "outputId": "fac1db4d-4401-460b-edf8-4bc8eb711dca"
      },
      "execution_count": null,
      "outputs": [
        {
          "output_type": "execute_result",
          "data": {
            "text/plain": [
              "373"
            ]
          },
          "metadata": {},
          "execution_count": 1617
        }
      ]
    },
    {
      "cell_type": "code",
      "source": [
        "value = dataframe['hs_sa_first_engagement_descr'].value_counts()"
      ],
      "metadata": {
        "id": "-T8wH61xusvE"
      },
      "execution_count": null,
      "outputs": []
    },
    {
      "cell_type": "code",
      "source": [
        "fig = px.bar(value)\n",
        "fig.show()"
      ],
      "metadata": {
        "colab": {
          "base_uri": "https://localhost:8080/",
          "height": 542
        },
        "id": "jbDa8lSyuxy8",
        "outputId": "a2dca7b5-2c95-4a85-b5af-8f015ed9fa3e"
      },
      "execution_count": null,
      "outputs": [
        {
          "output_type": "display_data",
          "data": {
            "text/html": [
              "<html>\n",
              "<head><meta charset=\"utf-8\" /></head>\n",
              "<body>\n",
              "    <div>            <script src=\"https://cdnjs.cloudflare.com/ajax/libs/mathjax/2.7.5/MathJax.js?config=TeX-AMS-MML_SVG\"></script><script type=\"text/javascript\">if (window.MathJax) {MathJax.Hub.Config({SVG: {font: \"STIX-Web\"}});}</script>                <script type=\"text/javascript\">window.PlotlyConfig = {MathJaxConfig: 'local'};</script>\n",
              "        <script src=\"https://cdn.plot.ly/plotly-2.8.3.min.js\"></script>                <div id=\"474ce916-2bbc-4e14-8760-ba9208792420\" class=\"plotly-graph-div\" style=\"height:525px; width:100%;\"></div>            <script type=\"text/javascript\">                                    window.PLOTLYENV=window.PLOTLYENV || {};                                    if (document.getElementById(\"474ce916-2bbc-4e14-8760-ba9208792420\")) {                    Plotly.newPlot(                        \"474ce916-2bbc-4e14-8760-ba9208792420\",                        [{\"alignmentgroup\":\"True\",\"hovertemplate\":\"variable=hs_sa_first_engagement_descr<br>index=%{x}<br>value=%{y}<extra></extra>\",\"legendgroup\":\"hs_sa_first_engagement_descr\",\"marker\":{\"color\":\"#636efa\",\"pattern\":{\"shape\":\"\"}},\"name\":\"hs_sa_first_engagement_descr\",\"offsetgroup\":\"hs_sa_first_engagement_descr\",\"orientation\":\"v\",\"showlegend\":true,\"textposition\":\"auto\",\"x\":[\"EMPTY_DESCRIPTION\",\"COMPLETED\",\"SENT\",\"SCHEDULED\",\"QUEUED\"],\"xaxis\":\"x\",\"y\":[699,181,49,43,2],\"yaxis\":\"y\",\"type\":\"bar\"}],                        {\"template\":{\"data\":{\"bar\":[{\"error_x\":{\"color\":\"#2a3f5f\"},\"error_y\":{\"color\":\"#2a3f5f\"},\"marker\":{\"line\":{\"color\":\"#E5ECF6\",\"width\":0.5},\"pattern\":{\"fillmode\":\"overlay\",\"size\":10,\"solidity\":0.2}},\"type\":\"bar\"}],\"barpolar\":[{\"marker\":{\"line\":{\"color\":\"#E5ECF6\",\"width\":0.5},\"pattern\":{\"fillmode\":\"overlay\",\"size\":10,\"solidity\":0.2}},\"type\":\"barpolar\"}],\"carpet\":[{\"aaxis\":{\"endlinecolor\":\"#2a3f5f\",\"gridcolor\":\"white\",\"linecolor\":\"white\",\"minorgridcolor\":\"white\",\"startlinecolor\":\"#2a3f5f\"},\"baxis\":{\"endlinecolor\":\"#2a3f5f\",\"gridcolor\":\"white\",\"linecolor\":\"white\",\"minorgridcolor\":\"white\",\"startlinecolor\":\"#2a3f5f\"},\"type\":\"carpet\"}],\"choropleth\":[{\"colorbar\":{\"outlinewidth\":0,\"ticks\":\"\"},\"type\":\"choropleth\"}],\"contour\":[{\"colorbar\":{\"outlinewidth\":0,\"ticks\":\"\"},\"colorscale\":[[0.0,\"#0d0887\"],[0.1111111111111111,\"#46039f\"],[0.2222222222222222,\"#7201a8\"],[0.3333333333333333,\"#9c179e\"],[0.4444444444444444,\"#bd3786\"],[0.5555555555555556,\"#d8576b\"],[0.6666666666666666,\"#ed7953\"],[0.7777777777777778,\"#fb9f3a\"],[0.8888888888888888,\"#fdca26\"],[1.0,\"#f0f921\"]],\"type\":\"contour\"}],\"contourcarpet\":[{\"colorbar\":{\"outlinewidth\":0,\"ticks\":\"\"},\"type\":\"contourcarpet\"}],\"heatmap\":[{\"colorbar\":{\"outlinewidth\":0,\"ticks\":\"\"},\"colorscale\":[[0.0,\"#0d0887\"],[0.1111111111111111,\"#46039f\"],[0.2222222222222222,\"#7201a8\"],[0.3333333333333333,\"#9c179e\"],[0.4444444444444444,\"#bd3786\"],[0.5555555555555556,\"#d8576b\"],[0.6666666666666666,\"#ed7953\"],[0.7777777777777778,\"#fb9f3a\"],[0.8888888888888888,\"#fdca26\"],[1.0,\"#f0f921\"]],\"type\":\"heatmap\"}],\"heatmapgl\":[{\"colorbar\":{\"outlinewidth\":0,\"ticks\":\"\"},\"colorscale\":[[0.0,\"#0d0887\"],[0.1111111111111111,\"#46039f\"],[0.2222222222222222,\"#7201a8\"],[0.3333333333333333,\"#9c179e\"],[0.4444444444444444,\"#bd3786\"],[0.5555555555555556,\"#d8576b\"],[0.6666666666666666,\"#ed7953\"],[0.7777777777777778,\"#fb9f3a\"],[0.8888888888888888,\"#fdca26\"],[1.0,\"#f0f921\"]],\"type\":\"heatmapgl\"}],\"histogram\":[{\"marker\":{\"pattern\":{\"fillmode\":\"overlay\",\"size\":10,\"solidity\":0.2}},\"type\":\"histogram\"}],\"histogram2d\":[{\"colorbar\":{\"outlinewidth\":0,\"ticks\":\"\"},\"colorscale\":[[0.0,\"#0d0887\"],[0.1111111111111111,\"#46039f\"],[0.2222222222222222,\"#7201a8\"],[0.3333333333333333,\"#9c179e\"],[0.4444444444444444,\"#bd3786\"],[0.5555555555555556,\"#d8576b\"],[0.6666666666666666,\"#ed7953\"],[0.7777777777777778,\"#fb9f3a\"],[0.8888888888888888,\"#fdca26\"],[1.0,\"#f0f921\"]],\"type\":\"histogram2d\"}],\"histogram2dcontour\":[{\"colorbar\":{\"outlinewidth\":0,\"ticks\":\"\"},\"colorscale\":[[0.0,\"#0d0887\"],[0.1111111111111111,\"#46039f\"],[0.2222222222222222,\"#7201a8\"],[0.3333333333333333,\"#9c179e\"],[0.4444444444444444,\"#bd3786\"],[0.5555555555555556,\"#d8576b\"],[0.6666666666666666,\"#ed7953\"],[0.7777777777777778,\"#fb9f3a\"],[0.8888888888888888,\"#fdca26\"],[1.0,\"#f0f921\"]],\"type\":\"histogram2dcontour\"}],\"mesh3d\":[{\"colorbar\":{\"outlinewidth\":0,\"ticks\":\"\"},\"type\":\"mesh3d\"}],\"parcoords\":[{\"line\":{\"colorbar\":{\"outlinewidth\":0,\"ticks\":\"\"}},\"type\":\"parcoords\"}],\"pie\":[{\"automargin\":true,\"type\":\"pie\"}],\"scatter\":[{\"marker\":{\"colorbar\":{\"outlinewidth\":0,\"ticks\":\"\"}},\"type\":\"scatter\"}],\"scatter3d\":[{\"line\":{\"colorbar\":{\"outlinewidth\":0,\"ticks\":\"\"}},\"marker\":{\"colorbar\":{\"outlinewidth\":0,\"ticks\":\"\"}},\"type\":\"scatter3d\"}],\"scattercarpet\":[{\"marker\":{\"colorbar\":{\"outlinewidth\":0,\"ticks\":\"\"}},\"type\":\"scattercarpet\"}],\"scattergeo\":[{\"marker\":{\"colorbar\":{\"outlinewidth\":0,\"ticks\":\"\"}},\"type\":\"scattergeo\"}],\"scattergl\":[{\"marker\":{\"colorbar\":{\"outlinewidth\":0,\"ticks\":\"\"}},\"type\":\"scattergl\"}],\"scattermapbox\":[{\"marker\":{\"colorbar\":{\"outlinewidth\":0,\"ticks\":\"\"}},\"type\":\"scattermapbox\"}],\"scatterpolar\":[{\"marker\":{\"colorbar\":{\"outlinewidth\":0,\"ticks\":\"\"}},\"type\":\"scatterpolar\"}],\"scatterpolargl\":[{\"marker\":{\"colorbar\":{\"outlinewidth\":0,\"ticks\":\"\"}},\"type\":\"scatterpolargl\"}],\"scatterternary\":[{\"marker\":{\"colorbar\":{\"outlinewidth\":0,\"ticks\":\"\"}},\"type\":\"scatterternary\"}],\"surface\":[{\"colorbar\":{\"outlinewidth\":0,\"ticks\":\"\"},\"colorscale\":[[0.0,\"#0d0887\"],[0.1111111111111111,\"#46039f\"],[0.2222222222222222,\"#7201a8\"],[0.3333333333333333,\"#9c179e\"],[0.4444444444444444,\"#bd3786\"],[0.5555555555555556,\"#d8576b\"],[0.6666666666666666,\"#ed7953\"],[0.7777777777777778,\"#fb9f3a\"],[0.8888888888888888,\"#fdca26\"],[1.0,\"#f0f921\"]],\"type\":\"surface\"}],\"table\":[{\"cells\":{\"fill\":{\"color\":\"#EBF0F8\"},\"line\":{\"color\":\"white\"}},\"header\":{\"fill\":{\"color\":\"#C8D4E3\"},\"line\":{\"color\":\"white\"}},\"type\":\"table\"}]},\"layout\":{\"annotationdefaults\":{\"arrowcolor\":\"#2a3f5f\",\"arrowhead\":0,\"arrowwidth\":1},\"autotypenumbers\":\"strict\",\"coloraxis\":{\"colorbar\":{\"outlinewidth\":0,\"ticks\":\"\"}},\"colorscale\":{\"diverging\":[[0,\"#8e0152\"],[0.1,\"#c51b7d\"],[0.2,\"#de77ae\"],[0.3,\"#f1b6da\"],[0.4,\"#fde0ef\"],[0.5,\"#f7f7f7\"],[0.6,\"#e6f5d0\"],[0.7,\"#b8e186\"],[0.8,\"#7fbc41\"],[0.9,\"#4d9221\"],[1,\"#276419\"]],\"sequential\":[[0.0,\"#0d0887\"],[0.1111111111111111,\"#46039f\"],[0.2222222222222222,\"#7201a8\"],[0.3333333333333333,\"#9c179e\"],[0.4444444444444444,\"#bd3786\"],[0.5555555555555556,\"#d8576b\"],[0.6666666666666666,\"#ed7953\"],[0.7777777777777778,\"#fb9f3a\"],[0.8888888888888888,\"#fdca26\"],[1.0,\"#f0f921\"]],\"sequentialminus\":[[0.0,\"#0d0887\"],[0.1111111111111111,\"#46039f\"],[0.2222222222222222,\"#7201a8\"],[0.3333333333333333,\"#9c179e\"],[0.4444444444444444,\"#bd3786\"],[0.5555555555555556,\"#d8576b\"],[0.6666666666666666,\"#ed7953\"],[0.7777777777777778,\"#fb9f3a\"],[0.8888888888888888,\"#fdca26\"],[1.0,\"#f0f921\"]]},\"colorway\":[\"#636efa\",\"#EF553B\",\"#00cc96\",\"#ab63fa\",\"#FFA15A\",\"#19d3f3\",\"#FF6692\",\"#B6E880\",\"#FF97FF\",\"#FECB52\"],\"font\":{\"color\":\"#2a3f5f\"},\"geo\":{\"bgcolor\":\"white\",\"lakecolor\":\"white\",\"landcolor\":\"#E5ECF6\",\"showlakes\":true,\"showland\":true,\"subunitcolor\":\"white\"},\"hoverlabel\":{\"align\":\"left\"},\"hovermode\":\"closest\",\"mapbox\":{\"style\":\"light\"},\"paper_bgcolor\":\"white\",\"plot_bgcolor\":\"#E5ECF6\",\"polar\":{\"angularaxis\":{\"gridcolor\":\"white\",\"linecolor\":\"white\",\"ticks\":\"\"},\"bgcolor\":\"#E5ECF6\",\"radialaxis\":{\"gridcolor\":\"white\",\"linecolor\":\"white\",\"ticks\":\"\"}},\"scene\":{\"xaxis\":{\"backgroundcolor\":\"#E5ECF6\",\"gridcolor\":\"white\",\"gridwidth\":2,\"linecolor\":\"white\",\"showbackground\":true,\"ticks\":\"\",\"zerolinecolor\":\"white\"},\"yaxis\":{\"backgroundcolor\":\"#E5ECF6\",\"gridcolor\":\"white\",\"gridwidth\":2,\"linecolor\":\"white\",\"showbackground\":true,\"ticks\":\"\",\"zerolinecolor\":\"white\"},\"zaxis\":{\"backgroundcolor\":\"#E5ECF6\",\"gridcolor\":\"white\",\"gridwidth\":2,\"linecolor\":\"white\",\"showbackground\":true,\"ticks\":\"\",\"zerolinecolor\":\"white\"}},\"shapedefaults\":{\"line\":{\"color\":\"#2a3f5f\"}},\"ternary\":{\"aaxis\":{\"gridcolor\":\"white\",\"linecolor\":\"white\",\"ticks\":\"\"},\"baxis\":{\"gridcolor\":\"white\",\"linecolor\":\"white\",\"ticks\":\"\"},\"bgcolor\":\"#E5ECF6\",\"caxis\":{\"gridcolor\":\"white\",\"linecolor\":\"white\",\"ticks\":\"\"}},\"title\":{\"x\":0.05},\"xaxis\":{\"automargin\":true,\"gridcolor\":\"white\",\"linecolor\":\"white\",\"ticks\":\"\",\"title\":{\"standoff\":15},\"zerolinecolor\":\"white\",\"zerolinewidth\":2},\"yaxis\":{\"automargin\":true,\"gridcolor\":\"white\",\"linecolor\":\"white\",\"ticks\":\"\",\"title\":{\"standoff\":15},\"zerolinecolor\":\"white\",\"zerolinewidth\":2}}},\"xaxis\":{\"anchor\":\"y\",\"domain\":[0.0,1.0],\"title\":{\"text\":\"index\"}},\"yaxis\":{\"anchor\":\"x\",\"domain\":[0.0,1.0],\"title\":{\"text\":\"value\"}},\"legend\":{\"title\":{\"text\":\"variable\"},\"tracegroupgap\":0},\"margin\":{\"t\":60},\"barmode\":\"relative\"},                        {\"responsive\": true}                    ).then(function(){\n",
              "                            \n",
              "var gd = document.getElementById('474ce916-2bbc-4e14-8760-ba9208792420');\n",
              "var x = new MutationObserver(function (mutations, observer) {{\n",
              "        var display = window.getComputedStyle(gd).display;\n",
              "        if (!display || display === 'none') {{\n",
              "            console.log([gd, 'removed!']);\n",
              "            Plotly.purge(gd);\n",
              "            observer.disconnect();\n",
              "        }}\n",
              "}});\n",
              "\n",
              "// Listen for the removal of the full notebook cells\n",
              "var notebookContainer = gd.closest('#notebook-container');\n",
              "if (notebookContainer) {{\n",
              "    x.observe(notebookContainer, {childList: true});\n",
              "}}\n",
              "\n",
              "// Listen for the clearing of the current output cell\n",
              "var outputEl = gd.closest('.output');\n",
              "if (outputEl) {{\n",
              "    x.observe(outputEl, {childList: true});\n",
              "}}\n",
              "\n",
              "                        })                };                            </script>        </div>\n",
              "</body>\n",
              "</html>"
            ]
          },
          "metadata": {}
        }
      ]
    },
    {
      "cell_type": "code",
      "source": [
        "dataframe['hs_sa_first_engagement_descr'] = dataframe['hs_sa_first_engagement_descr'].replace(np.nan, 'EMPTY_DESCRIPTION')"
      ],
      "metadata": {
        "id": "Gn1lJJhEu1TB"
      },
      "execution_count": null,
      "outputs": []
    },
    {
      "cell_type": "code",
      "source": [
        "dataframe['hs_sa_first_engagement_descr'].isnull().sum()"
      ],
      "metadata": {
        "colab": {
          "base_uri": "https://localhost:8080/"
        },
        "id": "syjymaDlvJHA",
        "outputId": "0b893dab-b3af-4290-e00f-fda28c47d83e"
      },
      "execution_count": null,
      "outputs": [
        {
          "output_type": "execute_result",
          "data": {
            "text/plain": [
              "0"
            ]
          },
          "metadata": {},
          "execution_count": 1621
        }
      ]
    },
    {
      "cell_type": "markdown",
      "source": [
        "##hs sa first engagement object type"
      ],
      "metadata": {
        "id": "6VeWAxxNvbzo"
      }
    },
    {
      "cell_type": "code",
      "source": [
        "dataframe['hs_sa_first_engagement_object_type'].describe()"
      ],
      "metadata": {
        "colab": {
          "base_uri": "https://localhost:8080/"
        },
        "id": "C3tjyOwRvSG1",
        "outputId": "d5f78606-ecb8-4a8a-c180-91c673d78dae"
      },
      "execution_count": null,
      "outputs": [
        {
          "output_type": "execute_result",
          "data": {
            "text/plain": [
              "count               974\n",
              "unique                4\n",
              "top       MEETING_EVENT\n",
              "freq                742\n",
              "Name: hs_sa_first_engagement_object_type, dtype: object"
            ]
          },
          "metadata": {},
          "execution_count": 1622
        }
      ]
    },
    {
      "cell_type": "code",
      "source": [
        "dataframe['hs_sa_first_engagement_object_type'].isnull().sum()"
      ],
      "metadata": {
        "colab": {
          "base_uri": "https://localhost:8080/"
        },
        "id": "X47UN9l0v3jJ",
        "outputId": "af18dea2-c38d-4d1c-9b74-6b1197739bfe"
      },
      "execution_count": null,
      "outputs": [
        {
          "output_type": "execute_result",
          "data": {
            "text/plain": [
              "373"
            ]
          },
          "metadata": {},
          "execution_count": 1624
        }
      ]
    },
    {
      "cell_type": "code",
      "source": [
        "value = dataframe['hs_sa_first_engagement_object_type'].value_counts()"
      ],
      "metadata": {
        "id": "ZwPQS_dGviZf"
      },
      "execution_count": null,
      "outputs": []
    },
    {
      "cell_type": "code",
      "source": [
        "fig = px.bar(value)\n",
        "fig.show()"
      ],
      "metadata": {
        "colab": {
          "base_uri": "https://localhost:8080/",
          "height": 542
        },
        "id": "XQPWXwLCv8MB",
        "outputId": "4f7a3131-e970-4144-c297-9ba24df0bd1f"
      },
      "execution_count": null,
      "outputs": [
        {
          "output_type": "display_data",
          "data": {
            "text/html": [
              "<html>\n",
              "<head><meta charset=\"utf-8\" /></head>\n",
              "<body>\n",
              "    <div>            <script src=\"https://cdnjs.cloudflare.com/ajax/libs/mathjax/2.7.5/MathJax.js?config=TeX-AMS-MML_SVG\"></script><script type=\"text/javascript\">if (window.MathJax) {MathJax.Hub.Config({SVG: {font: \"STIX-Web\"}});}</script>                <script type=\"text/javascript\">window.PlotlyConfig = {MathJaxConfig: 'local'};</script>\n",
              "        <script src=\"https://cdn.plot.ly/plotly-2.8.3.min.js\"></script>                <div id=\"92d7106e-b564-403e-84e3-b38ee970dc04\" class=\"plotly-graph-div\" style=\"height:525px; width:100%;\"></div>            <script type=\"text/javascript\">                                    window.PLOTLYENV=window.PLOTLYENV || {};                                    if (document.getElementById(\"92d7106e-b564-403e-84e3-b38ee970dc04\")) {                    Plotly.newPlot(                        \"92d7106e-b564-403e-84e3-b38ee970dc04\",                        [{\"alignmentgroup\":\"True\",\"hovertemplate\":\"variable=hs_sa_first_engagement_object_type<br>index=%{x}<br>value=%{y}<extra></extra>\",\"legendgroup\":\"hs_sa_first_engagement_object_type\",\"marker\":{\"color\":\"#636efa\",\"pattern\":{\"shape\":\"\"}},\"name\":\"hs_sa_first_engagement_object_type\",\"offsetgroup\":\"hs_sa_first_engagement_object_type\",\"orientation\":\"v\",\"showlegend\":true,\"textposition\":\"auto\",\"x\":[\"MEETING_EVENT\",\"CALL\",\"EMAIL\",\"TASK\"],\"xaxis\":\"x\",\"y\":[742,144,49,39],\"yaxis\":\"y\",\"type\":\"bar\"}],                        {\"template\":{\"data\":{\"bar\":[{\"error_x\":{\"color\":\"#2a3f5f\"},\"error_y\":{\"color\":\"#2a3f5f\"},\"marker\":{\"line\":{\"color\":\"#E5ECF6\",\"width\":0.5},\"pattern\":{\"fillmode\":\"overlay\",\"size\":10,\"solidity\":0.2}},\"type\":\"bar\"}],\"barpolar\":[{\"marker\":{\"line\":{\"color\":\"#E5ECF6\",\"width\":0.5},\"pattern\":{\"fillmode\":\"overlay\",\"size\":10,\"solidity\":0.2}},\"type\":\"barpolar\"}],\"carpet\":[{\"aaxis\":{\"endlinecolor\":\"#2a3f5f\",\"gridcolor\":\"white\",\"linecolor\":\"white\",\"minorgridcolor\":\"white\",\"startlinecolor\":\"#2a3f5f\"},\"baxis\":{\"endlinecolor\":\"#2a3f5f\",\"gridcolor\":\"white\",\"linecolor\":\"white\",\"minorgridcolor\":\"white\",\"startlinecolor\":\"#2a3f5f\"},\"type\":\"carpet\"}],\"choropleth\":[{\"colorbar\":{\"outlinewidth\":0,\"ticks\":\"\"},\"type\":\"choropleth\"}],\"contour\":[{\"colorbar\":{\"outlinewidth\":0,\"ticks\":\"\"},\"colorscale\":[[0.0,\"#0d0887\"],[0.1111111111111111,\"#46039f\"],[0.2222222222222222,\"#7201a8\"],[0.3333333333333333,\"#9c179e\"],[0.4444444444444444,\"#bd3786\"],[0.5555555555555556,\"#d8576b\"],[0.6666666666666666,\"#ed7953\"],[0.7777777777777778,\"#fb9f3a\"],[0.8888888888888888,\"#fdca26\"],[1.0,\"#f0f921\"]],\"type\":\"contour\"}],\"contourcarpet\":[{\"colorbar\":{\"outlinewidth\":0,\"ticks\":\"\"},\"type\":\"contourcarpet\"}],\"heatmap\":[{\"colorbar\":{\"outlinewidth\":0,\"ticks\":\"\"},\"colorscale\":[[0.0,\"#0d0887\"],[0.1111111111111111,\"#46039f\"],[0.2222222222222222,\"#7201a8\"],[0.3333333333333333,\"#9c179e\"],[0.4444444444444444,\"#bd3786\"],[0.5555555555555556,\"#d8576b\"],[0.6666666666666666,\"#ed7953\"],[0.7777777777777778,\"#fb9f3a\"],[0.8888888888888888,\"#fdca26\"],[1.0,\"#f0f921\"]],\"type\":\"heatmap\"}],\"heatmapgl\":[{\"colorbar\":{\"outlinewidth\":0,\"ticks\":\"\"},\"colorscale\":[[0.0,\"#0d0887\"],[0.1111111111111111,\"#46039f\"],[0.2222222222222222,\"#7201a8\"],[0.3333333333333333,\"#9c179e\"],[0.4444444444444444,\"#bd3786\"],[0.5555555555555556,\"#d8576b\"],[0.6666666666666666,\"#ed7953\"],[0.7777777777777778,\"#fb9f3a\"],[0.8888888888888888,\"#fdca26\"],[1.0,\"#f0f921\"]],\"type\":\"heatmapgl\"}],\"histogram\":[{\"marker\":{\"pattern\":{\"fillmode\":\"overlay\",\"size\":10,\"solidity\":0.2}},\"type\":\"histogram\"}],\"histogram2d\":[{\"colorbar\":{\"outlinewidth\":0,\"ticks\":\"\"},\"colorscale\":[[0.0,\"#0d0887\"],[0.1111111111111111,\"#46039f\"],[0.2222222222222222,\"#7201a8\"],[0.3333333333333333,\"#9c179e\"],[0.4444444444444444,\"#bd3786\"],[0.5555555555555556,\"#d8576b\"],[0.6666666666666666,\"#ed7953\"],[0.7777777777777778,\"#fb9f3a\"],[0.8888888888888888,\"#fdca26\"],[1.0,\"#f0f921\"]],\"type\":\"histogram2d\"}],\"histogram2dcontour\":[{\"colorbar\":{\"outlinewidth\":0,\"ticks\":\"\"},\"colorscale\":[[0.0,\"#0d0887\"],[0.1111111111111111,\"#46039f\"],[0.2222222222222222,\"#7201a8\"],[0.3333333333333333,\"#9c179e\"],[0.4444444444444444,\"#bd3786\"],[0.5555555555555556,\"#d8576b\"],[0.6666666666666666,\"#ed7953\"],[0.7777777777777778,\"#fb9f3a\"],[0.8888888888888888,\"#fdca26\"],[1.0,\"#f0f921\"]],\"type\":\"histogram2dcontour\"}],\"mesh3d\":[{\"colorbar\":{\"outlinewidth\":0,\"ticks\":\"\"},\"type\":\"mesh3d\"}],\"parcoords\":[{\"line\":{\"colorbar\":{\"outlinewidth\":0,\"ticks\":\"\"}},\"type\":\"parcoords\"}],\"pie\":[{\"automargin\":true,\"type\":\"pie\"}],\"scatter\":[{\"marker\":{\"colorbar\":{\"outlinewidth\":0,\"ticks\":\"\"}},\"type\":\"scatter\"}],\"scatter3d\":[{\"line\":{\"colorbar\":{\"outlinewidth\":0,\"ticks\":\"\"}},\"marker\":{\"colorbar\":{\"outlinewidth\":0,\"ticks\":\"\"}},\"type\":\"scatter3d\"}],\"scattercarpet\":[{\"marker\":{\"colorbar\":{\"outlinewidth\":0,\"ticks\":\"\"}},\"type\":\"scattercarpet\"}],\"scattergeo\":[{\"marker\":{\"colorbar\":{\"outlinewidth\":0,\"ticks\":\"\"}},\"type\":\"scattergeo\"}],\"scattergl\":[{\"marker\":{\"colorbar\":{\"outlinewidth\":0,\"ticks\":\"\"}},\"type\":\"scattergl\"}],\"scattermapbox\":[{\"marker\":{\"colorbar\":{\"outlinewidth\":0,\"ticks\":\"\"}},\"type\":\"scattermapbox\"}],\"scatterpolar\":[{\"marker\":{\"colorbar\":{\"outlinewidth\":0,\"ticks\":\"\"}},\"type\":\"scatterpolar\"}],\"scatterpolargl\":[{\"marker\":{\"colorbar\":{\"outlinewidth\":0,\"ticks\":\"\"}},\"type\":\"scatterpolargl\"}],\"scatterternary\":[{\"marker\":{\"colorbar\":{\"outlinewidth\":0,\"ticks\":\"\"}},\"type\":\"scatterternary\"}],\"surface\":[{\"colorbar\":{\"outlinewidth\":0,\"ticks\":\"\"},\"colorscale\":[[0.0,\"#0d0887\"],[0.1111111111111111,\"#46039f\"],[0.2222222222222222,\"#7201a8\"],[0.3333333333333333,\"#9c179e\"],[0.4444444444444444,\"#bd3786\"],[0.5555555555555556,\"#d8576b\"],[0.6666666666666666,\"#ed7953\"],[0.7777777777777778,\"#fb9f3a\"],[0.8888888888888888,\"#fdca26\"],[1.0,\"#f0f921\"]],\"type\":\"surface\"}],\"table\":[{\"cells\":{\"fill\":{\"color\":\"#EBF0F8\"},\"line\":{\"color\":\"white\"}},\"header\":{\"fill\":{\"color\":\"#C8D4E3\"},\"line\":{\"color\":\"white\"}},\"type\":\"table\"}]},\"layout\":{\"annotationdefaults\":{\"arrowcolor\":\"#2a3f5f\",\"arrowhead\":0,\"arrowwidth\":1},\"autotypenumbers\":\"strict\",\"coloraxis\":{\"colorbar\":{\"outlinewidth\":0,\"ticks\":\"\"}},\"colorscale\":{\"diverging\":[[0,\"#8e0152\"],[0.1,\"#c51b7d\"],[0.2,\"#de77ae\"],[0.3,\"#f1b6da\"],[0.4,\"#fde0ef\"],[0.5,\"#f7f7f7\"],[0.6,\"#e6f5d0\"],[0.7,\"#b8e186\"],[0.8,\"#7fbc41\"],[0.9,\"#4d9221\"],[1,\"#276419\"]],\"sequential\":[[0.0,\"#0d0887\"],[0.1111111111111111,\"#46039f\"],[0.2222222222222222,\"#7201a8\"],[0.3333333333333333,\"#9c179e\"],[0.4444444444444444,\"#bd3786\"],[0.5555555555555556,\"#d8576b\"],[0.6666666666666666,\"#ed7953\"],[0.7777777777777778,\"#fb9f3a\"],[0.8888888888888888,\"#fdca26\"],[1.0,\"#f0f921\"]],\"sequentialminus\":[[0.0,\"#0d0887\"],[0.1111111111111111,\"#46039f\"],[0.2222222222222222,\"#7201a8\"],[0.3333333333333333,\"#9c179e\"],[0.4444444444444444,\"#bd3786\"],[0.5555555555555556,\"#d8576b\"],[0.6666666666666666,\"#ed7953\"],[0.7777777777777778,\"#fb9f3a\"],[0.8888888888888888,\"#fdca26\"],[1.0,\"#f0f921\"]]},\"colorway\":[\"#636efa\",\"#EF553B\",\"#00cc96\",\"#ab63fa\",\"#FFA15A\",\"#19d3f3\",\"#FF6692\",\"#B6E880\",\"#FF97FF\",\"#FECB52\"],\"font\":{\"color\":\"#2a3f5f\"},\"geo\":{\"bgcolor\":\"white\",\"lakecolor\":\"white\",\"landcolor\":\"#E5ECF6\",\"showlakes\":true,\"showland\":true,\"subunitcolor\":\"white\"},\"hoverlabel\":{\"align\":\"left\"},\"hovermode\":\"closest\",\"mapbox\":{\"style\":\"light\"},\"paper_bgcolor\":\"white\",\"plot_bgcolor\":\"#E5ECF6\",\"polar\":{\"angularaxis\":{\"gridcolor\":\"white\",\"linecolor\":\"white\",\"ticks\":\"\"},\"bgcolor\":\"#E5ECF6\",\"radialaxis\":{\"gridcolor\":\"white\",\"linecolor\":\"white\",\"ticks\":\"\"}},\"scene\":{\"xaxis\":{\"backgroundcolor\":\"#E5ECF6\",\"gridcolor\":\"white\",\"gridwidth\":2,\"linecolor\":\"white\",\"showbackground\":true,\"ticks\":\"\",\"zerolinecolor\":\"white\"},\"yaxis\":{\"backgroundcolor\":\"#E5ECF6\",\"gridcolor\":\"white\",\"gridwidth\":2,\"linecolor\":\"white\",\"showbackground\":true,\"ticks\":\"\",\"zerolinecolor\":\"white\"},\"zaxis\":{\"backgroundcolor\":\"#E5ECF6\",\"gridcolor\":\"white\",\"gridwidth\":2,\"linecolor\":\"white\",\"showbackground\":true,\"ticks\":\"\",\"zerolinecolor\":\"white\"}},\"shapedefaults\":{\"line\":{\"color\":\"#2a3f5f\"}},\"ternary\":{\"aaxis\":{\"gridcolor\":\"white\",\"linecolor\":\"white\",\"ticks\":\"\"},\"baxis\":{\"gridcolor\":\"white\",\"linecolor\":\"white\",\"ticks\":\"\"},\"bgcolor\":\"#E5ECF6\",\"caxis\":{\"gridcolor\":\"white\",\"linecolor\":\"white\",\"ticks\":\"\"}},\"title\":{\"x\":0.05},\"xaxis\":{\"automargin\":true,\"gridcolor\":\"white\",\"linecolor\":\"white\",\"ticks\":\"\",\"title\":{\"standoff\":15},\"zerolinecolor\":\"white\",\"zerolinewidth\":2},\"yaxis\":{\"automargin\":true,\"gridcolor\":\"white\",\"linecolor\":\"white\",\"ticks\":\"\",\"title\":{\"standoff\":15},\"zerolinecolor\":\"white\",\"zerolinewidth\":2}}},\"xaxis\":{\"anchor\":\"y\",\"domain\":[0.0,1.0],\"title\":{\"text\":\"index\"}},\"yaxis\":{\"anchor\":\"x\",\"domain\":[0.0,1.0],\"title\":{\"text\":\"value\"}},\"legend\":{\"title\":{\"text\":\"variable\"},\"tracegroupgap\":0},\"margin\":{\"t\":60},\"barmode\":\"relative\"},                        {\"responsive\": true}                    ).then(function(){\n",
              "                            \n",
              "var gd = document.getElementById('92d7106e-b564-403e-84e3-b38ee970dc04');\n",
              "var x = new MutationObserver(function (mutations, observer) {{\n",
              "        var display = window.getComputedStyle(gd).display;\n",
              "        if (!display || display === 'none') {{\n",
              "            console.log([gd, 'removed!']);\n",
              "            Plotly.purge(gd);\n",
              "            observer.disconnect();\n",
              "        }}\n",
              "}});\n",
              "\n",
              "// Listen for the removal of the full notebook cells\n",
              "var notebookContainer = gd.closest('#notebook-container');\n",
              "if (notebookContainer) {{\n",
              "    x.observe(notebookContainer, {childList: true});\n",
              "}}\n",
              "\n",
              "// Listen for the clearing of the current output cell\n",
              "var outputEl = gd.closest('.output');\n",
              "if (outputEl) {{\n",
              "    x.observe(outputEl, {childList: true});\n",
              "}}\n",
              "\n",
              "                        })                };                            </script>        </div>\n",
              "</body>\n",
              "</html>"
            ]
          },
          "metadata": {}
        }
      ]
    },
    {
      "cell_type": "code",
      "source": [
        "dataframe['hs_sa_first_engagement_object_type'] = dataframe['hs_sa_first_engagement_object_type'].replace(np.nan, 'OTHER')"
      ],
      "metadata": {
        "id": "x7hF3dfhwCJr"
      },
      "execution_count": null,
      "outputs": []
    },
    {
      "cell_type": "code",
      "source": [
        "dataframe['hs_sa_first_engagement_object_type'].isnull().sum()"
      ],
      "metadata": {
        "colab": {
          "base_uri": "https://localhost:8080/"
        },
        "id": "UwIXDCB-wNFd",
        "outputId": "4114900e-4729-41eb-ab13-291355573c49"
      },
      "execution_count": null,
      "outputs": [
        {
          "output_type": "execute_result",
          "data": {
            "text/plain": [
              "0"
            ]
          },
          "metadata": {},
          "execution_count": 1628
        }
      ]
    },
    {
      "cell_type": "markdown",
      "source": [
        "##hs sequences actively enrolled count"
      ],
      "metadata": {
        "id": "EsWGa6Vuw8aF"
      }
    },
    {
      "cell_type": "code",
      "source": [
        "dataframe['hs_sequences_actively_enrolled_count'].describe()"
      ],
      "metadata": {
        "colab": {
          "base_uri": "https://localhost:8080/"
        },
        "id": "GGkjaIAXwob9",
        "outputId": "35299d7d-9568-45f8-987a-105ea2900b58"
      },
      "execution_count": null,
      "outputs": [
        {
          "output_type": "execute_result",
          "data": {
            "text/plain": [
              "count    1190.000000\n",
              "mean        0.035294\n",
              "std         0.184600\n",
              "min         0.000000\n",
              "25%         0.000000\n",
              "50%         0.000000\n",
              "75%         0.000000\n",
              "max         1.000000\n",
              "Name: hs_sequences_actively_enrolled_count, dtype: float64"
            ]
          },
          "metadata": {},
          "execution_count": 1629
        }
      ]
    },
    {
      "cell_type": "code",
      "source": [
        "dataframe['hs_sequences_actively_enrolled_count'].isnull().sum()"
      ],
      "metadata": {
        "colab": {
          "base_uri": "https://localhost:8080/"
        },
        "id": "pD6x05IqxLgC",
        "outputId": "f0272700-77e4-4145-b8d3-6b0cedd3d003"
      },
      "execution_count": null,
      "outputs": [
        {
          "output_type": "execute_result",
          "data": {
            "text/plain": [
              "157"
            ]
          },
          "metadata": {},
          "execution_count": 1630
        }
      ]
    },
    {
      "cell_type": "code",
      "source": [
        "mean = data['hs_sequences_actively_enrolled_count'].mean()"
      ],
      "metadata": {
        "id": "15HqgJFbw6hO"
      },
      "execution_count": null,
      "outputs": []
    },
    {
      "cell_type": "code",
      "source": [
        "dataframe['hs_sequences_actively_enrolled_count'] = dataframe['hs_sequences_actively_enrolled_count'].replace(np.nan, mean)"
      ],
      "metadata": {
        "id": "bLaRBggAxVHw"
      },
      "execution_count": null,
      "outputs": []
    },
    {
      "cell_type": "code",
      "source": [
        "dataframe['hs_sequences_actively_enrolled_count'].isnull().sum()"
      ],
      "metadata": {
        "colab": {
          "base_uri": "https://localhost:8080/"
        },
        "id": "xtS5xBX_xipi",
        "outputId": "d59314a8-b4a5-4417-f9fb-d4d4c16b87b3"
      },
      "execution_count": null,
      "outputs": [
        {
          "output_type": "execute_result",
          "data": {
            "text/plain": [
              "0"
            ]
          },
          "metadata": {},
          "execution_count": 1633
        }
      ]
    },
    {
      "cell_type": "markdown",
      "source": [
        "##hs time between contact creation and deal creation"
      ],
      "metadata": {
        "id": "T9tfcrrAyc_C"
      }
    },
    {
      "cell_type": "code",
      "source": [
        "dataframe['hs_time_between_contact_creation_and_deal_creation'].describe()"
      ],
      "metadata": {
        "colab": {
          "base_uri": "https://localhost:8080/"
        },
        "id": "SFG11kyfxm8l",
        "outputId": "6e1b675d-6968-43d3-c629-a53156824afa"
      },
      "execution_count": null,
      "outputs": [
        {
          "output_type": "execute_result",
          "data": {
            "text/plain": [
              "count    1.083000e+03\n",
              "mean     6.107792e+09\n",
              "std      1.384267e+10\n",
              "min      2.141000e+03\n",
              "25%      4.133355e+06\n",
              "50%      5.989129e+06\n",
              "75%      1.209507e+09\n",
              "max      4.762423e+10\n",
              "Name: hs_time_between_contact_creation_and_deal_creation, dtype: float64"
            ]
          },
          "metadata": {},
          "execution_count": 1639
        }
      ]
    },
    {
      "cell_type": "code",
      "source": [
        "dataframe['hs_time_between_contact_creation_and_deal_creation'].isnull().sum()"
      ],
      "metadata": {
        "colab": {
          "base_uri": "https://localhost:8080/"
        },
        "id": "e4r2RfxwylRa",
        "outputId": "f0ff45e2-b8ee-4249-dc0f-ae01d9ac975e"
      },
      "execution_count": null,
      "outputs": [
        {
          "output_type": "execute_result",
          "data": {
            "text/plain": [
              "264"
            ]
          },
          "metadata": {},
          "execution_count": 1640
        }
      ]
    },
    {
      "cell_type": "code",
      "source": [
        "mean = data['hs_time_between_contact_creation_and_deal_creation'].mean()"
      ],
      "metadata": {
        "id": "QXH6RPSYypMg"
      },
      "execution_count": null,
      "outputs": []
    },
    {
      "cell_type": "code",
      "source": [
        "dataframe['hs_time_between_contact_creation_and_deal_creation'] = dataframe['hs_time_between_contact_creation_and_deal_creation'].replace(np.nan, mean)"
      ],
      "metadata": {
        "id": "e38G4Mixywum"
      },
      "execution_count": null,
      "outputs": []
    },
    {
      "cell_type": "code",
      "source": [
        "dataframe['hs_time_between_contact_creation_and_deal_creation'].isnull().sum()"
      ],
      "metadata": {
        "colab": {
          "base_uri": "https://localhost:8080/"
        },
        "id": "IOSlcfiMy2D7",
        "outputId": "0fcff4f5-69d6-4e24-8501-95f2daf4d01d"
      },
      "execution_count": null,
      "outputs": [
        {
          "output_type": "execute_result",
          "data": {
            "text/plain": [
              "0"
            ]
          },
          "metadata": {},
          "execution_count": 1643
        }
      ]
    },
    {
      "cell_type": "markdown",
      "source": [
        "##hs time in lead"
      ],
      "metadata": {
        "id": "YKcKKwyMzFer"
      }
    },
    {
      "cell_type": "code",
      "source": [
        "dataframe['hs_time_in_lead'].describe()"
      ],
      "metadata": {
        "colab": {
          "base_uri": "https://localhost:8080/"
        },
        "id": "FtErP1Fhy3-W",
        "outputId": "41427683-3959-4e9b-dc0c-aeb3e0148fb1"
      },
      "execution_count": null,
      "outputs": [
        {
          "output_type": "execute_result",
          "data": {
            "text/plain": [
              "count    1.198000e+03\n",
              "mean     1.561705e+09\n",
              "std      4.777582e+09\n",
              "min      1.000000e+00\n",
              "25%      3.998307e+06\n",
              "50%      5.837089e+06\n",
              "75%      4.386983e+08\n",
              "max      2.989275e+10\n",
              "Name: hs_time_in_lead, dtype: float64"
            ]
          },
          "metadata": {},
          "execution_count": 1644
        }
      ]
    },
    {
      "cell_type": "code",
      "source": [
        "dataframe['hs_time_in_lead'].isnull().sum()"
      ],
      "metadata": {
        "colab": {
          "base_uri": "https://localhost:8080/"
        },
        "id": "QCTn1T-KzKTN",
        "outputId": "ee177b54-1048-4b93-bcef-55abc0860b92"
      },
      "execution_count": null,
      "outputs": [
        {
          "output_type": "execute_result",
          "data": {
            "text/plain": [
              "149"
            ]
          },
          "metadata": {},
          "execution_count": 1645
        }
      ]
    },
    {
      "cell_type": "code",
      "source": [
        "mean = data['hs_time_in_lead'].mean()"
      ],
      "metadata": {
        "id": "FlGisxOazSb-"
      },
      "execution_count": null,
      "outputs": []
    },
    {
      "cell_type": "code",
      "source": [
        "dataframe['hs_time_in_lead'] = dataframe['hs_time_in_lead'].replace(np.nan, mean)"
      ],
      "metadata": {
        "id": "gWL1YIgrzXpg"
      },
      "execution_count": null,
      "outputs": []
    },
    {
      "cell_type": "code",
      "source": [
        "dataframe['hs_time_in_lead'].isnull().sum()"
      ],
      "metadata": {
        "colab": {
          "base_uri": "https://localhost:8080/"
        },
        "id": "HdQNgFE1zj4h",
        "outputId": "661c73d6-3b49-4e3f-bd4e-dec66b85554d"
      },
      "execution_count": null,
      "outputs": [
        {
          "output_type": "execute_result",
          "data": {
            "text/plain": [
              "0"
            ]
          },
          "metadata": {},
          "execution_count": 1648
        }
      ]
    },
    {
      "cell_type": "markdown",
      "source": [
        "##hs time in sales qualified lead"
      ],
      "metadata": {
        "id": "R1T108dBz83E"
      }
    },
    {
      "cell_type": "code",
      "source": [
        "dataframe['hs_time_in_salesqualifiedlead'].describe()"
      ],
      "metadata": {
        "colab": {
          "base_uri": "https://localhost:8080/"
        },
        "id": "LI0DVK4Azmg5",
        "outputId": "74e9f14e-d5e3-41b2-91b8-c4a6048bfc84"
      },
      "execution_count": null,
      "outputs": [
        {
          "output_type": "execute_result",
          "data": {
            "text/plain": [
              "count    1.078000e+03\n",
              "mean     7.367010e+08\n",
              "std      6.281942e+08\n",
              "min      1.000000e+00\n",
              "25%      3.601072e+08\n",
              "50%      6.555740e+08\n",
              "75%      9.750841e+08\n",
              "max      9.240467e+09\n",
              "Name: hs_time_in_salesqualifiedlead, dtype: float64"
            ]
          },
          "metadata": {},
          "execution_count": 1649
        }
      ]
    }
  ]
}