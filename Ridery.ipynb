{
  "nbformat": 4,
  "nbformat_minor": 0,
  "metadata": {
    "colab": {
      "provenance": [],
      "include_colab_link": true
    },
    "kernelspec": {
      "name": "python3",
      "display_name": "Python 3"
    },
    "language_info": {
      "name": "python"
    }
  },
  "cells": [
    {
      "cell_type": "markdown",
      "metadata": {
        "id": "view-in-github",
        "colab_type": "text"
      },
      "source": [
        "<a href=\"https://colab.research.google.com/github/stefano2211/DataScienceRedSocial/blob/main/Ridery.ipynb\" target=\"_parent\"><img src=\"https://colab.research.google.com/assets/colab-badge.svg\" alt=\"Open In Colab\"/></a>"
      ]
    },
    {
      "cell_type": "code",
      "source": [
        "#Importamos las librerias\n",
        "from textblob import TextBlob\n",
        "import snscrape.modules.twitter as sntwitter\n",
        "import plotly.express as px\n",
        "import neattext as nt\n",
        "import pandas as pd\n",
        "import numpy as np\n",
        "import re\n",
        "import nltk\n",
        "from nltk.corpus import stopwords\n",
        "from nltk.tokenize import word_tokenize\n",
        "from wordcloud import WordCloud\n",
        "from collections import Counter\n",
        "import matplotlib.pyplot as plt\n",
        "import seaborn as sns"
      ],
      "metadata": {
        "id": "GDjkChOcW6XI"
      },
      "execution_count": 174,
      "outputs": []
    },
    {
      "cell_type": "code",
      "source": [
        "#Cargamos las stopwords de nltk\n",
        "nltk.download('stopwords')"
      ],
      "metadata": {
        "colab": {
          "base_uri": "https://localhost:8080/"
        },
        "id": "6KjjuhsOYIhY",
        "outputId": "e14effe7-cdb8-40fc-941f-c2bb72a10752"
      },
      "execution_count": 175,
      "outputs": [
        {
          "output_type": "stream",
          "name": "stderr",
          "text": [
            "[nltk_data] Downloading package stopwords to /root/nltk_data...\n",
            "[nltk_data]   Package stopwords is already up-to-date!\n"
          ]
        },
        {
          "output_type": "execute_result",
          "data": {
            "text/plain": [
              "True"
            ]
          },
          "metadata": {},
          "execution_count": 175
        }
      ]
    },
    {
      "cell_type": "code",
      "source": [
        "#Importamos los datos de twitter\n",
        "query = \"@RideryVzla\"\n",
        "tweets = []\n",
        "limit = 1000\n",
        "\n",
        "for tweet in sntwitter.TwitterSearchScraper(query).get_items():\n",
        "    \n",
        "    # print(vars(tweet))\n",
        "    # break\n",
        "    if len(tweets) == limit:\n",
        "        break\n",
        "    else:\n",
        "        tweets.append([tweet.date, tweet.content, tweet.hashtags, tweet.username, tweet.mentionedUsers])"
      ],
      "metadata": {
        "colab": {
          "base_uri": "https://localhost:8080/"
        },
        "id": "5wOFRMRYYNGm",
        "outputId": "813eb5d6-334d-4387-8763-a22f6991a3d2"
      },
      "execution_count": 176,
      "outputs": [
        {
          "output_type": "stream",
          "name": "stderr",
          "text": [
            "<ipython-input-176-ccef9170d89e>:13: FutureWarning:\n",
            "\n",
            "content is deprecated, use rawContent instead\n",
            "\n",
            "<ipython-input-176-ccef9170d89e>:13: FutureWarning:\n",
            "\n",
            "username is deprecated, use user.username instead\n",
            "\n"
          ]
        }
      ]
    },
    {
      "cell_type": "code",
      "source": [
        "#Colocamos los datos en un dataframe\n",
        "df = pd.DataFrame(tweets, columns=['Date', 'Tweet', 'Hashtag', 'Username', 'Mention'])\n",
        "df.head(100)"
      ],
      "metadata": {
        "colab": {
          "base_uri": "https://localhost:8080/",
          "height": 424
        },
        "id": "p5TwRjyTYWNN",
        "outputId": "6f49c3d0-5b2b-4645-f565-025772a35a41"
      },
      "execution_count": 177,
      "outputs": [
        {
          "output_type": "execute_result",
          "data": {
            "text/plain": [
              "                        Date  \\\n",
              "0  2023-02-12 20:03:36+00:00   \n",
              "1  2023-02-12 14:11:21+00:00   \n",
              "2  2023-02-12 13:48:58+00:00   \n",
              "3  2023-02-11 22:05:12+00:00   \n",
              "4  2023-02-11 22:02:08+00:00   \n",
              "..                       ...   \n",
              "95 2023-02-05 01:01:06+00:00   \n",
              "96 2023-02-04 19:28:29+00:00   \n",
              "97 2023-02-04 18:24:10+00:00   \n",
              "98 2023-02-04 07:09:41+00:00   \n",
              "99 2023-02-04 07:09:11+00:00   \n",
              "\n",
              "                                                Tweet Hashtag  \\\n",
              "0                        @Soygordy @RideryVzla 🤣🤣🤣🤣🤣👍    None   \n",
              "1   @gordonesroo @RideryVzla Mano acepto Pago Móvi...    None   \n",
              "2   Yo todo el camino en mi moto ridery: Diosito a...    None   \n",
              "3               @EchoErGuevon @RideryVzla ¡Gracias! 👍    None   \n",
              "4   @brendilu Hola, Brenda. Leímos que tuviste un ...    None   \n",
              "..                                                ...     ...   \n",
              "95  Otro fin de semana que no hay choferes disponi...    None   \n",
              "96  Lo mejor que le pudo haber pasado a este país ...    None   \n",
              "97  Al cierre de 2022, @RideryVzla  presentó su ba...    None   \n",
              "98                                  @RideryVzla help.    None   \n",
              "99                           @RideryVzla Lean mi hilo    None   \n",
              "\n",
              "           Username                                            Mention  \n",
              "0       gordonesroo  [https://twitter.com/Soygordy, https://twitter...  \n",
              "1          Soygordy  [https://twitter.com/gordonesroo, https://twit...  \n",
              "2     erikmargarita                   [https://twitter.com/RideryVzla]  \n",
              "3       gordonesroo  [https://twitter.com/EchoErGuevon, https://twi...  \n",
              "4        RideryVzla                     [https://twitter.com/brendilu]  \n",
              "..              ...                                                ...  \n",
              "95      gordonesroo                   [https://twitter.com/RideryVzla]  \n",
              "96    callme_lili13  [https://twitter.com/RideryVzla, https://twitt...  \n",
              "97  deconveniencia1  [https://twitter.com/RideryVzla, https://twitt...  \n",
              "98          ori2555                   [https://twitter.com/RideryVzla]  \n",
              "99          ori2555                   [https://twitter.com/RideryVzla]  \n",
              "\n",
              "[100 rows x 5 columns]"
            ],
            "text/html": [
              "\n",
              "  <div id=\"df-4a3f8d37-0a1f-4f0f-b40c-9faa1a8a3bb0\">\n",
              "    <div class=\"colab-df-container\">\n",
              "      <div>\n",
              "<style scoped>\n",
              "    .dataframe tbody tr th:only-of-type {\n",
              "        vertical-align: middle;\n",
              "    }\n",
              "\n",
              "    .dataframe tbody tr th {\n",
              "        vertical-align: top;\n",
              "    }\n",
              "\n",
              "    .dataframe thead th {\n",
              "        text-align: right;\n",
              "    }\n",
              "</style>\n",
              "<table border=\"1\" class=\"dataframe\">\n",
              "  <thead>\n",
              "    <tr style=\"text-align: right;\">\n",
              "      <th></th>\n",
              "      <th>Date</th>\n",
              "      <th>Tweet</th>\n",
              "      <th>Hashtag</th>\n",
              "      <th>Username</th>\n",
              "      <th>Mention</th>\n",
              "    </tr>\n",
              "  </thead>\n",
              "  <tbody>\n",
              "    <tr>\n",
              "      <th>0</th>\n",
              "      <td>2023-02-12 20:03:36+00:00</td>\n",
              "      <td>@Soygordy @RideryVzla 🤣🤣🤣🤣🤣👍</td>\n",
              "      <td>None</td>\n",
              "      <td>gordonesroo</td>\n",
              "      <td>[https://twitter.com/Soygordy, https://twitter...</td>\n",
              "    </tr>\n",
              "    <tr>\n",
              "      <th>1</th>\n",
              "      <td>2023-02-12 14:11:21+00:00</td>\n",
              "      <td>@gordonesroo @RideryVzla Mano acepto Pago Móvi...</td>\n",
              "      <td>None</td>\n",
              "      <td>Soygordy</td>\n",
              "      <td>[https://twitter.com/gordonesroo, https://twit...</td>\n",
              "    </tr>\n",
              "    <tr>\n",
              "      <th>2</th>\n",
              "      <td>2023-02-12 13:48:58+00:00</td>\n",
              "      <td>Yo todo el camino en mi moto ridery: Diosito a...</td>\n",
              "      <td>None</td>\n",
              "      <td>erikmargarita</td>\n",
              "      <td>[https://twitter.com/RideryVzla]</td>\n",
              "    </tr>\n",
              "    <tr>\n",
              "      <th>3</th>\n",
              "      <td>2023-02-11 22:05:12+00:00</td>\n",
              "      <td>@EchoErGuevon @RideryVzla ¡Gracias! 👍</td>\n",
              "      <td>None</td>\n",
              "      <td>gordonesroo</td>\n",
              "      <td>[https://twitter.com/EchoErGuevon, https://twi...</td>\n",
              "    </tr>\n",
              "    <tr>\n",
              "      <th>4</th>\n",
              "      <td>2023-02-11 22:02:08+00:00</td>\n",
              "      <td>@brendilu Hola, Brenda. Leímos que tuviste un ...</td>\n",
              "      <td>None</td>\n",
              "      <td>RideryVzla</td>\n",
              "      <td>[https://twitter.com/brendilu]</td>\n",
              "    </tr>\n",
              "    <tr>\n",
              "      <th>...</th>\n",
              "      <td>...</td>\n",
              "      <td>...</td>\n",
              "      <td>...</td>\n",
              "      <td>...</td>\n",
              "      <td>...</td>\n",
              "    </tr>\n",
              "    <tr>\n",
              "      <th>95</th>\n",
              "      <td>2023-02-05 01:01:06+00:00</td>\n",
              "      <td>Otro fin de semana que no hay choferes disponi...</td>\n",
              "      <td>None</td>\n",
              "      <td>gordonesroo</td>\n",
              "      <td>[https://twitter.com/RideryVzla]</td>\n",
              "    </tr>\n",
              "    <tr>\n",
              "      <th>96</th>\n",
              "      <td>2023-02-04 19:28:29+00:00</td>\n",
              "      <td>Lo mejor que le pudo haber pasado a este país ...</td>\n",
              "      <td>None</td>\n",
              "      <td>callme_lili13</td>\n",
              "      <td>[https://twitter.com/RideryVzla, https://twitt...</td>\n",
              "    </tr>\n",
              "    <tr>\n",
              "      <th>97</th>\n",
              "      <td>2023-02-04 18:24:10+00:00</td>\n",
              "      <td>Al cierre de 2022, @RideryVzla  presentó su ba...</td>\n",
              "      <td>None</td>\n",
              "      <td>deconveniencia1</td>\n",
              "      <td>[https://twitter.com/RideryVzla, https://twitt...</td>\n",
              "    </tr>\n",
              "    <tr>\n",
              "      <th>98</th>\n",
              "      <td>2023-02-04 07:09:41+00:00</td>\n",
              "      <td>@RideryVzla help.</td>\n",
              "      <td>None</td>\n",
              "      <td>ori2555</td>\n",
              "      <td>[https://twitter.com/RideryVzla]</td>\n",
              "    </tr>\n",
              "    <tr>\n",
              "      <th>99</th>\n",
              "      <td>2023-02-04 07:09:11+00:00</td>\n",
              "      <td>@RideryVzla Lean mi hilo</td>\n",
              "      <td>None</td>\n",
              "      <td>ori2555</td>\n",
              "      <td>[https://twitter.com/RideryVzla]</td>\n",
              "    </tr>\n",
              "  </tbody>\n",
              "</table>\n",
              "<p>100 rows × 5 columns</p>\n",
              "</div>\n",
              "      <button class=\"colab-df-convert\" onclick=\"convertToInteractive('df-4a3f8d37-0a1f-4f0f-b40c-9faa1a8a3bb0')\"\n",
              "              title=\"Convert this dataframe to an interactive table.\"\n",
              "              style=\"display:none;\">\n",
              "        \n",
              "  <svg xmlns=\"http://www.w3.org/2000/svg\" height=\"24px\"viewBox=\"0 0 24 24\"\n",
              "       width=\"24px\">\n",
              "    <path d=\"M0 0h24v24H0V0z\" fill=\"none\"/>\n",
              "    <path d=\"M18.56 5.44l.94 2.06.94-2.06 2.06-.94-2.06-.94-.94-2.06-.94 2.06-2.06.94zm-11 1L8.5 8.5l.94-2.06 2.06-.94-2.06-.94L8.5 2.5l-.94 2.06-2.06.94zm10 10l.94 2.06.94-2.06 2.06-.94-2.06-.94-.94-2.06-.94 2.06-2.06.94z\"/><path d=\"M17.41 7.96l-1.37-1.37c-.4-.4-.92-.59-1.43-.59-.52 0-1.04.2-1.43.59L10.3 9.45l-7.72 7.72c-.78.78-.78 2.05 0 2.83L4 21.41c.39.39.9.59 1.41.59.51 0 1.02-.2 1.41-.59l7.78-7.78 2.81-2.81c.8-.78.8-2.07 0-2.86zM5.41 20L4 18.59l7.72-7.72 1.47 1.35L5.41 20z\"/>\n",
              "  </svg>\n",
              "      </button>\n",
              "      \n",
              "  <style>\n",
              "    .colab-df-container {\n",
              "      display:flex;\n",
              "      flex-wrap:wrap;\n",
              "      gap: 12px;\n",
              "    }\n",
              "\n",
              "    .colab-df-convert {\n",
              "      background-color: #E8F0FE;\n",
              "      border: none;\n",
              "      border-radius: 50%;\n",
              "      cursor: pointer;\n",
              "      display: none;\n",
              "      fill: #1967D2;\n",
              "      height: 32px;\n",
              "      padding: 0 0 0 0;\n",
              "      width: 32px;\n",
              "    }\n",
              "\n",
              "    .colab-df-convert:hover {\n",
              "      background-color: #E2EBFA;\n",
              "      box-shadow: 0px 1px 2px rgba(60, 64, 67, 0.3), 0px 1px 3px 1px rgba(60, 64, 67, 0.15);\n",
              "      fill: #174EA6;\n",
              "    }\n",
              "\n",
              "    [theme=dark] .colab-df-convert {\n",
              "      background-color: #3B4455;\n",
              "      fill: #D2E3FC;\n",
              "    }\n",
              "\n",
              "    [theme=dark] .colab-df-convert:hover {\n",
              "      background-color: #434B5C;\n",
              "      box-shadow: 0px 1px 3px 1px rgba(0, 0, 0, 0.15);\n",
              "      filter: drop-shadow(0px 1px 2px rgba(0, 0, 0, 0.3));\n",
              "      fill: #FFFFFF;\n",
              "    }\n",
              "  </style>\n",
              "\n",
              "      <script>\n",
              "        const buttonEl =\n",
              "          document.querySelector('#df-4a3f8d37-0a1f-4f0f-b40c-9faa1a8a3bb0 button.colab-df-convert');\n",
              "        buttonEl.style.display =\n",
              "          google.colab.kernel.accessAllowed ? 'block' : 'none';\n",
              "\n",
              "        async function convertToInteractive(key) {\n",
              "          const element = document.querySelector('#df-4a3f8d37-0a1f-4f0f-b40c-9faa1a8a3bb0');\n",
              "          const dataTable =\n",
              "            await google.colab.kernel.invokeFunction('convertToInteractive',\n",
              "                                                     [key], {});\n",
              "          if (!dataTable) return;\n",
              "\n",
              "          const docLinkHtml = 'Like what you see? Visit the ' +\n",
              "            '<a target=\"_blank\" href=https://colab.research.google.com/notebooks/data_table.ipynb>data table notebook</a>'\n",
              "            + ' to learn more about interactive tables.';\n",
              "          element.innerHTML = '';\n",
              "          dataTable['output_type'] = 'display_data';\n",
              "          await google.colab.output.renderOutput(dataTable, element);\n",
              "          const docLink = document.createElement('div');\n",
              "          docLink.innerHTML = docLinkHtml;\n",
              "          element.appendChild(docLink);\n",
              "        }\n",
              "      </script>\n",
              "    </div>\n",
              "  </div>\n",
              "  "
            ]
          },
          "metadata": {},
          "execution_count": 177
        }
      ]
    },
    {
      "cell_type": "code",
      "source": [
        "#Convertimos la columna Date a formato tiempo\n",
        "df['Date'] = pd.to_datetime(df['Date'], format='%Y%m%d')"
      ],
      "metadata": {
        "id": "kCUXKocmahO2"
      },
      "execution_count": 178,
      "outputs": []
    },
    {
      "cell_type": "code",
      "source": [
        "dt = df"
      ],
      "metadata": {
        "id": "mR6zzpYJuNFs"
      },
      "execution_count": 179,
      "outputs": []
    },
    {
      "cell_type": "code",
      "source": [
        "dt.head()"
      ],
      "metadata": {
        "colab": {
          "base_uri": "https://localhost:8080/",
          "height": 206
        },
        "id": "4qlMT-yCwmbO",
        "outputId": "ff52709e-45fe-485f-d5c2-4b8b9444b714"
      },
      "execution_count": 180,
      "outputs": [
        {
          "output_type": "execute_result",
          "data": {
            "text/plain": [
              "                       Date  \\\n",
              "0 2023-02-12 20:03:36+00:00   \n",
              "1 2023-02-12 14:11:21+00:00   \n",
              "2 2023-02-12 13:48:58+00:00   \n",
              "3 2023-02-11 22:05:12+00:00   \n",
              "4 2023-02-11 22:02:08+00:00   \n",
              "\n",
              "                                               Tweet Hashtag       Username  \\\n",
              "0                       @Soygordy @RideryVzla 🤣🤣🤣🤣🤣👍    None    gordonesroo   \n",
              "1  @gordonesroo @RideryVzla Mano acepto Pago Móvi...    None       Soygordy   \n",
              "2  Yo todo el camino en mi moto ridery: Diosito a...    None  erikmargarita   \n",
              "3              @EchoErGuevon @RideryVzla ¡Gracias! 👍    None    gordonesroo   \n",
              "4  @brendilu Hola, Brenda. Leímos que tuviste un ...    None     RideryVzla   \n",
              "\n",
              "                                             Mention  \n",
              "0  [https://twitter.com/Soygordy, https://twitter...  \n",
              "1  [https://twitter.com/gordonesroo, https://twit...  \n",
              "2                   [https://twitter.com/RideryVzla]  \n",
              "3  [https://twitter.com/EchoErGuevon, https://twi...  \n",
              "4                     [https://twitter.com/brendilu]  "
            ],
            "text/html": [
              "\n",
              "  <div id=\"df-1d3b3964-396d-4b1d-b823-2076775c6884\">\n",
              "    <div class=\"colab-df-container\">\n",
              "      <div>\n",
              "<style scoped>\n",
              "    .dataframe tbody tr th:only-of-type {\n",
              "        vertical-align: middle;\n",
              "    }\n",
              "\n",
              "    .dataframe tbody tr th {\n",
              "        vertical-align: top;\n",
              "    }\n",
              "\n",
              "    .dataframe thead th {\n",
              "        text-align: right;\n",
              "    }\n",
              "</style>\n",
              "<table border=\"1\" class=\"dataframe\">\n",
              "  <thead>\n",
              "    <tr style=\"text-align: right;\">\n",
              "      <th></th>\n",
              "      <th>Date</th>\n",
              "      <th>Tweet</th>\n",
              "      <th>Hashtag</th>\n",
              "      <th>Username</th>\n",
              "      <th>Mention</th>\n",
              "    </tr>\n",
              "  </thead>\n",
              "  <tbody>\n",
              "    <tr>\n",
              "      <th>0</th>\n",
              "      <td>2023-02-12 20:03:36+00:00</td>\n",
              "      <td>@Soygordy @RideryVzla 🤣🤣🤣🤣🤣👍</td>\n",
              "      <td>None</td>\n",
              "      <td>gordonesroo</td>\n",
              "      <td>[https://twitter.com/Soygordy, https://twitter...</td>\n",
              "    </tr>\n",
              "    <tr>\n",
              "      <th>1</th>\n",
              "      <td>2023-02-12 14:11:21+00:00</td>\n",
              "      <td>@gordonesroo @RideryVzla Mano acepto Pago Móvi...</td>\n",
              "      <td>None</td>\n",
              "      <td>Soygordy</td>\n",
              "      <td>[https://twitter.com/gordonesroo, https://twit...</td>\n",
              "    </tr>\n",
              "    <tr>\n",
              "      <th>2</th>\n",
              "      <td>2023-02-12 13:48:58+00:00</td>\n",
              "      <td>Yo todo el camino en mi moto ridery: Diosito a...</td>\n",
              "      <td>None</td>\n",
              "      <td>erikmargarita</td>\n",
              "      <td>[https://twitter.com/RideryVzla]</td>\n",
              "    </tr>\n",
              "    <tr>\n",
              "      <th>3</th>\n",
              "      <td>2023-02-11 22:05:12+00:00</td>\n",
              "      <td>@EchoErGuevon @RideryVzla ¡Gracias! 👍</td>\n",
              "      <td>None</td>\n",
              "      <td>gordonesroo</td>\n",
              "      <td>[https://twitter.com/EchoErGuevon, https://twi...</td>\n",
              "    </tr>\n",
              "    <tr>\n",
              "      <th>4</th>\n",
              "      <td>2023-02-11 22:02:08+00:00</td>\n",
              "      <td>@brendilu Hola, Brenda. Leímos que tuviste un ...</td>\n",
              "      <td>None</td>\n",
              "      <td>RideryVzla</td>\n",
              "      <td>[https://twitter.com/brendilu]</td>\n",
              "    </tr>\n",
              "  </tbody>\n",
              "</table>\n",
              "</div>\n",
              "      <button class=\"colab-df-convert\" onclick=\"convertToInteractive('df-1d3b3964-396d-4b1d-b823-2076775c6884')\"\n",
              "              title=\"Convert this dataframe to an interactive table.\"\n",
              "              style=\"display:none;\">\n",
              "        \n",
              "  <svg xmlns=\"http://www.w3.org/2000/svg\" height=\"24px\"viewBox=\"0 0 24 24\"\n",
              "       width=\"24px\">\n",
              "    <path d=\"M0 0h24v24H0V0z\" fill=\"none\"/>\n",
              "    <path d=\"M18.56 5.44l.94 2.06.94-2.06 2.06-.94-2.06-.94-.94-2.06-.94 2.06-2.06.94zm-11 1L8.5 8.5l.94-2.06 2.06-.94-2.06-.94L8.5 2.5l-.94 2.06-2.06.94zm10 10l.94 2.06.94-2.06 2.06-.94-2.06-.94-.94-2.06-.94 2.06-2.06.94z\"/><path d=\"M17.41 7.96l-1.37-1.37c-.4-.4-.92-.59-1.43-.59-.52 0-1.04.2-1.43.59L10.3 9.45l-7.72 7.72c-.78.78-.78 2.05 0 2.83L4 21.41c.39.39.9.59 1.41.59.51 0 1.02-.2 1.41-.59l7.78-7.78 2.81-2.81c.8-.78.8-2.07 0-2.86zM5.41 20L4 18.59l7.72-7.72 1.47 1.35L5.41 20z\"/>\n",
              "  </svg>\n",
              "      </button>\n",
              "      \n",
              "  <style>\n",
              "    .colab-df-container {\n",
              "      display:flex;\n",
              "      flex-wrap:wrap;\n",
              "      gap: 12px;\n",
              "    }\n",
              "\n",
              "    .colab-df-convert {\n",
              "      background-color: #E8F0FE;\n",
              "      border: none;\n",
              "      border-radius: 50%;\n",
              "      cursor: pointer;\n",
              "      display: none;\n",
              "      fill: #1967D2;\n",
              "      height: 32px;\n",
              "      padding: 0 0 0 0;\n",
              "      width: 32px;\n",
              "    }\n",
              "\n",
              "    .colab-df-convert:hover {\n",
              "      background-color: #E2EBFA;\n",
              "      box-shadow: 0px 1px 2px rgba(60, 64, 67, 0.3), 0px 1px 3px 1px rgba(60, 64, 67, 0.15);\n",
              "      fill: #174EA6;\n",
              "    }\n",
              "\n",
              "    [theme=dark] .colab-df-convert {\n",
              "      background-color: #3B4455;\n",
              "      fill: #D2E3FC;\n",
              "    }\n",
              "\n",
              "    [theme=dark] .colab-df-convert:hover {\n",
              "      background-color: #434B5C;\n",
              "      box-shadow: 0px 1px 3px 1px rgba(0, 0, 0, 0.15);\n",
              "      filter: drop-shadow(0px 1px 2px rgba(0, 0, 0, 0.3));\n",
              "      fill: #FFFFFF;\n",
              "    }\n",
              "  </style>\n",
              "\n",
              "      <script>\n",
              "        const buttonEl =\n",
              "          document.querySelector('#df-1d3b3964-396d-4b1d-b823-2076775c6884 button.colab-df-convert');\n",
              "        buttonEl.style.display =\n",
              "          google.colab.kernel.accessAllowed ? 'block' : 'none';\n",
              "\n",
              "        async function convertToInteractive(key) {\n",
              "          const element = document.querySelector('#df-1d3b3964-396d-4b1d-b823-2076775c6884');\n",
              "          const dataTable =\n",
              "            await google.colab.kernel.invokeFunction('convertToInteractive',\n",
              "                                                     [key], {});\n",
              "          if (!dataTable) return;\n",
              "\n",
              "          const docLinkHtml = 'Like what you see? Visit the ' +\n",
              "            '<a target=\"_blank\" href=https://colab.research.google.com/notebooks/data_table.ipynb>data table notebook</a>'\n",
              "            + ' to learn more about interactive tables.';\n",
              "          element.innerHTML = '';\n",
              "          dataTable['output_type'] = 'display_data';\n",
              "          await google.colab.output.renderOutput(dataTable, element);\n",
              "          const docLink = document.createElement('div');\n",
              "          docLink.innerHTML = docLinkHtml;\n",
              "          element.appendChild(docLink);\n",
              "        }\n",
              "      </script>\n",
              "    </div>\n",
              "  </div>\n",
              "  "
            ]
          },
          "metadata": {},
          "execution_count": 180
        }
      ]
    },
    {
      "cell_type": "code",
      "source": [
        "#Convertimos el None en Nan y luego remplazamos el Nan por un 1\n",
        "dt['Hashtag'].replace('None', np.nan, inplace=True)\n",
        "dt['Hashtag'] = dt['Hashtag'].fillna('1')\n",
        "\n"
      ],
      "metadata": {
        "id": "9rLRmo21fmXU"
      },
      "execution_count": 181,
      "outputs": []
    },
    {
      "cell_type": "code",
      "source": [
        "dt['Mention'].replace('None', np.nan, inplace=True)\n",
        "dt['Mention'] = dt['Mention'].fillna('1')"
      ],
      "metadata": {
        "id": "ZOdJ7oMPf0LU"
      },
      "execution_count": 182,
      "outputs": []
    },
    {
      "cell_type": "code",
      "source": [
        "dt.head()"
      ],
      "metadata": {
        "colab": {
          "base_uri": "https://localhost:8080/",
          "height": 206
        },
        "id": "8SCTG99Qwh_s",
        "outputId": "631d1733-e123-4c56-a46a-58306c5322b3"
      },
      "execution_count": 183,
      "outputs": [
        {
          "output_type": "execute_result",
          "data": {
            "text/plain": [
              "                       Date  \\\n",
              "0 2023-02-12 20:03:36+00:00   \n",
              "1 2023-02-12 14:11:21+00:00   \n",
              "2 2023-02-12 13:48:58+00:00   \n",
              "3 2023-02-11 22:05:12+00:00   \n",
              "4 2023-02-11 22:02:08+00:00   \n",
              "\n",
              "                                               Tweet Hashtag       Username  \\\n",
              "0                       @Soygordy @RideryVzla 🤣🤣🤣🤣🤣👍       1    gordonesroo   \n",
              "1  @gordonesroo @RideryVzla Mano acepto Pago Móvi...       1       Soygordy   \n",
              "2  Yo todo el camino en mi moto ridery: Diosito a...       1  erikmargarita   \n",
              "3              @EchoErGuevon @RideryVzla ¡Gracias! 👍       1    gordonesroo   \n",
              "4  @brendilu Hola, Brenda. Leímos que tuviste un ...       1     RideryVzla   \n",
              "\n",
              "                                             Mention  \n",
              "0  [https://twitter.com/Soygordy, https://twitter...  \n",
              "1  [https://twitter.com/gordonesroo, https://twit...  \n",
              "2                   [https://twitter.com/RideryVzla]  \n",
              "3  [https://twitter.com/EchoErGuevon, https://twi...  \n",
              "4                     [https://twitter.com/brendilu]  "
            ],
            "text/html": [
              "\n",
              "  <div id=\"df-3b7ab15b-98f6-43ee-92dd-42a75cd03065\">\n",
              "    <div class=\"colab-df-container\">\n",
              "      <div>\n",
              "<style scoped>\n",
              "    .dataframe tbody tr th:only-of-type {\n",
              "        vertical-align: middle;\n",
              "    }\n",
              "\n",
              "    .dataframe tbody tr th {\n",
              "        vertical-align: top;\n",
              "    }\n",
              "\n",
              "    .dataframe thead th {\n",
              "        text-align: right;\n",
              "    }\n",
              "</style>\n",
              "<table border=\"1\" class=\"dataframe\">\n",
              "  <thead>\n",
              "    <tr style=\"text-align: right;\">\n",
              "      <th></th>\n",
              "      <th>Date</th>\n",
              "      <th>Tweet</th>\n",
              "      <th>Hashtag</th>\n",
              "      <th>Username</th>\n",
              "      <th>Mention</th>\n",
              "    </tr>\n",
              "  </thead>\n",
              "  <tbody>\n",
              "    <tr>\n",
              "      <th>0</th>\n",
              "      <td>2023-02-12 20:03:36+00:00</td>\n",
              "      <td>@Soygordy @RideryVzla 🤣🤣🤣🤣🤣👍</td>\n",
              "      <td>1</td>\n",
              "      <td>gordonesroo</td>\n",
              "      <td>[https://twitter.com/Soygordy, https://twitter...</td>\n",
              "    </tr>\n",
              "    <tr>\n",
              "      <th>1</th>\n",
              "      <td>2023-02-12 14:11:21+00:00</td>\n",
              "      <td>@gordonesroo @RideryVzla Mano acepto Pago Móvi...</td>\n",
              "      <td>1</td>\n",
              "      <td>Soygordy</td>\n",
              "      <td>[https://twitter.com/gordonesroo, https://twit...</td>\n",
              "    </tr>\n",
              "    <tr>\n",
              "      <th>2</th>\n",
              "      <td>2023-02-12 13:48:58+00:00</td>\n",
              "      <td>Yo todo el camino en mi moto ridery: Diosito a...</td>\n",
              "      <td>1</td>\n",
              "      <td>erikmargarita</td>\n",
              "      <td>[https://twitter.com/RideryVzla]</td>\n",
              "    </tr>\n",
              "    <tr>\n",
              "      <th>3</th>\n",
              "      <td>2023-02-11 22:05:12+00:00</td>\n",
              "      <td>@EchoErGuevon @RideryVzla ¡Gracias! 👍</td>\n",
              "      <td>1</td>\n",
              "      <td>gordonesroo</td>\n",
              "      <td>[https://twitter.com/EchoErGuevon, https://twi...</td>\n",
              "    </tr>\n",
              "    <tr>\n",
              "      <th>4</th>\n",
              "      <td>2023-02-11 22:02:08+00:00</td>\n",
              "      <td>@brendilu Hola, Brenda. Leímos que tuviste un ...</td>\n",
              "      <td>1</td>\n",
              "      <td>RideryVzla</td>\n",
              "      <td>[https://twitter.com/brendilu]</td>\n",
              "    </tr>\n",
              "  </tbody>\n",
              "</table>\n",
              "</div>\n",
              "      <button class=\"colab-df-convert\" onclick=\"convertToInteractive('df-3b7ab15b-98f6-43ee-92dd-42a75cd03065')\"\n",
              "              title=\"Convert this dataframe to an interactive table.\"\n",
              "              style=\"display:none;\">\n",
              "        \n",
              "  <svg xmlns=\"http://www.w3.org/2000/svg\" height=\"24px\"viewBox=\"0 0 24 24\"\n",
              "       width=\"24px\">\n",
              "    <path d=\"M0 0h24v24H0V0z\" fill=\"none\"/>\n",
              "    <path d=\"M18.56 5.44l.94 2.06.94-2.06 2.06-.94-2.06-.94-.94-2.06-.94 2.06-2.06.94zm-11 1L8.5 8.5l.94-2.06 2.06-.94-2.06-.94L8.5 2.5l-.94 2.06-2.06.94zm10 10l.94 2.06.94-2.06 2.06-.94-2.06-.94-.94-2.06-.94 2.06-2.06.94z\"/><path d=\"M17.41 7.96l-1.37-1.37c-.4-.4-.92-.59-1.43-.59-.52 0-1.04.2-1.43.59L10.3 9.45l-7.72 7.72c-.78.78-.78 2.05 0 2.83L4 21.41c.39.39.9.59 1.41.59.51 0 1.02-.2 1.41-.59l7.78-7.78 2.81-2.81c.8-.78.8-2.07 0-2.86zM5.41 20L4 18.59l7.72-7.72 1.47 1.35L5.41 20z\"/>\n",
              "  </svg>\n",
              "      </button>\n",
              "      \n",
              "  <style>\n",
              "    .colab-df-container {\n",
              "      display:flex;\n",
              "      flex-wrap:wrap;\n",
              "      gap: 12px;\n",
              "    }\n",
              "\n",
              "    .colab-df-convert {\n",
              "      background-color: #E8F0FE;\n",
              "      border: none;\n",
              "      border-radius: 50%;\n",
              "      cursor: pointer;\n",
              "      display: none;\n",
              "      fill: #1967D2;\n",
              "      height: 32px;\n",
              "      padding: 0 0 0 0;\n",
              "      width: 32px;\n",
              "    }\n",
              "\n",
              "    .colab-df-convert:hover {\n",
              "      background-color: #E2EBFA;\n",
              "      box-shadow: 0px 1px 2px rgba(60, 64, 67, 0.3), 0px 1px 3px 1px rgba(60, 64, 67, 0.15);\n",
              "      fill: #174EA6;\n",
              "    }\n",
              "\n",
              "    [theme=dark] .colab-df-convert {\n",
              "      background-color: #3B4455;\n",
              "      fill: #D2E3FC;\n",
              "    }\n",
              "\n",
              "    [theme=dark] .colab-df-convert:hover {\n",
              "      background-color: #434B5C;\n",
              "      box-shadow: 0px 1px 3px 1px rgba(0, 0, 0, 0.15);\n",
              "      filter: drop-shadow(0px 1px 2px rgba(0, 0, 0, 0.3));\n",
              "      fill: #FFFFFF;\n",
              "    }\n",
              "  </style>\n",
              "\n",
              "      <script>\n",
              "        const buttonEl =\n",
              "          document.querySelector('#df-3b7ab15b-98f6-43ee-92dd-42a75cd03065 button.colab-df-convert');\n",
              "        buttonEl.style.display =\n",
              "          google.colab.kernel.accessAllowed ? 'block' : 'none';\n",
              "\n",
              "        async function convertToInteractive(key) {\n",
              "          const element = document.querySelector('#df-3b7ab15b-98f6-43ee-92dd-42a75cd03065');\n",
              "          const dataTable =\n",
              "            await google.colab.kernel.invokeFunction('convertToInteractive',\n",
              "                                                     [key], {});\n",
              "          if (!dataTable) return;\n",
              "\n",
              "          const docLinkHtml = 'Like what you see? Visit the ' +\n",
              "            '<a target=\"_blank\" href=https://colab.research.google.com/notebooks/data_table.ipynb>data table notebook</a>'\n",
              "            + ' to learn more about interactive tables.';\n",
              "          element.innerHTML = '';\n",
              "          dataTable['output_type'] = 'display_data';\n",
              "          await google.colab.output.renderOutput(dataTable, element);\n",
              "          const docLink = document.createElement('div');\n",
              "          docLink.innerHTML = docLinkHtml;\n",
              "          element.appendChild(docLink);\n",
              "        }\n",
              "      </script>\n",
              "    </div>\n",
              "  </div>\n",
              "  "
            ]
          },
          "metadata": {},
          "execution_count": 183
        }
      ]
    },
    {
      "cell_type": "code",
      "source": [
        "#Extraemos los hashtags para convertirlos en strings\n",
        "def textl(text):\n",
        "  leters= \" \".join([str(_) for _ in text])\n",
        "  return leters\n"
      ],
      "metadata": {
        "id": "5RG5LTZda3aG"
      },
      "execution_count": 184,
      "outputs": []
    },
    {
      "cell_type": "code",
      "source": [
        "dt['TokenMention'] = dt['Mention'].apply(textl)"
      ],
      "metadata": {
        "id": "fUFSUpUDmNg9"
      },
      "execution_count": 185,
      "outputs": []
    },
    {
      "cell_type": "code",
      "source": [
        "dt['Token'] = dt['Hashtag'].apply(textl)\n",
        "dt.head()"
      ],
      "metadata": {
        "colab": {
          "base_uri": "https://localhost:8080/",
          "height": 337
        },
        "id": "e_0kiGvkbBRu",
        "outputId": "1f9bb616-ede1-48da-fa73-d68660e1c3a4"
      },
      "execution_count": 186,
      "outputs": [
        {
          "output_type": "execute_result",
          "data": {
            "text/plain": [
              "                       Date  \\\n",
              "0 2023-02-12 20:03:36+00:00   \n",
              "1 2023-02-12 14:11:21+00:00   \n",
              "2 2023-02-12 13:48:58+00:00   \n",
              "3 2023-02-11 22:05:12+00:00   \n",
              "4 2023-02-11 22:02:08+00:00   \n",
              "\n",
              "                                               Tweet Hashtag       Username  \\\n",
              "0                       @Soygordy @RideryVzla 🤣🤣🤣🤣🤣👍       1    gordonesroo   \n",
              "1  @gordonesroo @RideryVzla Mano acepto Pago Móvi...       1       Soygordy   \n",
              "2  Yo todo el camino en mi moto ridery: Diosito a...       1  erikmargarita   \n",
              "3              @EchoErGuevon @RideryVzla ¡Gracias! 👍       1    gordonesroo   \n",
              "4  @brendilu Hola, Brenda. Leímos que tuviste un ...       1     RideryVzla   \n",
              "\n",
              "                                             Mention  \\\n",
              "0  [https://twitter.com/Soygordy, https://twitter...   \n",
              "1  [https://twitter.com/gordonesroo, https://twit...   \n",
              "2                   [https://twitter.com/RideryVzla]   \n",
              "3  [https://twitter.com/EchoErGuevon, https://twi...   \n",
              "4                     [https://twitter.com/brendilu]   \n",
              "\n",
              "                                        TokenMention Token  \n",
              "0  https://twitter.com/Soygordy https://twitter.c...     1  \n",
              "1  https://twitter.com/gordonesroo https://twitte...     1  \n",
              "2                     https://twitter.com/RideryVzla     1  \n",
              "3  https://twitter.com/EchoErGuevon https://twitt...     1  \n",
              "4                       https://twitter.com/brendilu     1  "
            ],
            "text/html": [
              "\n",
              "  <div id=\"df-5592a154-4a7d-4deb-a13f-faa8bde0cfd2\">\n",
              "    <div class=\"colab-df-container\">\n",
              "      <div>\n",
              "<style scoped>\n",
              "    .dataframe tbody tr th:only-of-type {\n",
              "        vertical-align: middle;\n",
              "    }\n",
              "\n",
              "    .dataframe tbody tr th {\n",
              "        vertical-align: top;\n",
              "    }\n",
              "\n",
              "    .dataframe thead th {\n",
              "        text-align: right;\n",
              "    }\n",
              "</style>\n",
              "<table border=\"1\" class=\"dataframe\">\n",
              "  <thead>\n",
              "    <tr style=\"text-align: right;\">\n",
              "      <th></th>\n",
              "      <th>Date</th>\n",
              "      <th>Tweet</th>\n",
              "      <th>Hashtag</th>\n",
              "      <th>Username</th>\n",
              "      <th>Mention</th>\n",
              "      <th>TokenMention</th>\n",
              "      <th>Token</th>\n",
              "    </tr>\n",
              "  </thead>\n",
              "  <tbody>\n",
              "    <tr>\n",
              "      <th>0</th>\n",
              "      <td>2023-02-12 20:03:36+00:00</td>\n",
              "      <td>@Soygordy @RideryVzla 🤣🤣🤣🤣🤣👍</td>\n",
              "      <td>1</td>\n",
              "      <td>gordonesroo</td>\n",
              "      <td>[https://twitter.com/Soygordy, https://twitter...</td>\n",
              "      <td>https://twitter.com/Soygordy https://twitter.c...</td>\n",
              "      <td>1</td>\n",
              "    </tr>\n",
              "    <tr>\n",
              "      <th>1</th>\n",
              "      <td>2023-02-12 14:11:21+00:00</td>\n",
              "      <td>@gordonesroo @RideryVzla Mano acepto Pago Móvi...</td>\n",
              "      <td>1</td>\n",
              "      <td>Soygordy</td>\n",
              "      <td>[https://twitter.com/gordonesroo, https://twit...</td>\n",
              "      <td>https://twitter.com/gordonesroo https://twitte...</td>\n",
              "      <td>1</td>\n",
              "    </tr>\n",
              "    <tr>\n",
              "      <th>2</th>\n",
              "      <td>2023-02-12 13:48:58+00:00</td>\n",
              "      <td>Yo todo el camino en mi moto ridery: Diosito a...</td>\n",
              "      <td>1</td>\n",
              "      <td>erikmargarita</td>\n",
              "      <td>[https://twitter.com/RideryVzla]</td>\n",
              "      <td>https://twitter.com/RideryVzla</td>\n",
              "      <td>1</td>\n",
              "    </tr>\n",
              "    <tr>\n",
              "      <th>3</th>\n",
              "      <td>2023-02-11 22:05:12+00:00</td>\n",
              "      <td>@EchoErGuevon @RideryVzla ¡Gracias! 👍</td>\n",
              "      <td>1</td>\n",
              "      <td>gordonesroo</td>\n",
              "      <td>[https://twitter.com/EchoErGuevon, https://twi...</td>\n",
              "      <td>https://twitter.com/EchoErGuevon https://twitt...</td>\n",
              "      <td>1</td>\n",
              "    </tr>\n",
              "    <tr>\n",
              "      <th>4</th>\n",
              "      <td>2023-02-11 22:02:08+00:00</td>\n",
              "      <td>@brendilu Hola, Brenda. Leímos que tuviste un ...</td>\n",
              "      <td>1</td>\n",
              "      <td>RideryVzla</td>\n",
              "      <td>[https://twitter.com/brendilu]</td>\n",
              "      <td>https://twitter.com/brendilu</td>\n",
              "      <td>1</td>\n",
              "    </tr>\n",
              "  </tbody>\n",
              "</table>\n",
              "</div>\n",
              "      <button class=\"colab-df-convert\" onclick=\"convertToInteractive('df-5592a154-4a7d-4deb-a13f-faa8bde0cfd2')\"\n",
              "              title=\"Convert this dataframe to an interactive table.\"\n",
              "              style=\"display:none;\">\n",
              "        \n",
              "  <svg xmlns=\"http://www.w3.org/2000/svg\" height=\"24px\"viewBox=\"0 0 24 24\"\n",
              "       width=\"24px\">\n",
              "    <path d=\"M0 0h24v24H0V0z\" fill=\"none\"/>\n",
              "    <path d=\"M18.56 5.44l.94 2.06.94-2.06 2.06-.94-2.06-.94-.94-2.06-.94 2.06-2.06.94zm-11 1L8.5 8.5l.94-2.06 2.06-.94-2.06-.94L8.5 2.5l-.94 2.06-2.06.94zm10 10l.94 2.06.94-2.06 2.06-.94-2.06-.94-.94-2.06-.94 2.06-2.06.94z\"/><path d=\"M17.41 7.96l-1.37-1.37c-.4-.4-.92-.59-1.43-.59-.52 0-1.04.2-1.43.59L10.3 9.45l-7.72 7.72c-.78.78-.78 2.05 0 2.83L4 21.41c.39.39.9.59 1.41.59.51 0 1.02-.2 1.41-.59l7.78-7.78 2.81-2.81c.8-.78.8-2.07 0-2.86zM5.41 20L4 18.59l7.72-7.72 1.47 1.35L5.41 20z\"/>\n",
              "  </svg>\n",
              "      </button>\n",
              "      \n",
              "  <style>\n",
              "    .colab-df-container {\n",
              "      display:flex;\n",
              "      flex-wrap:wrap;\n",
              "      gap: 12px;\n",
              "    }\n",
              "\n",
              "    .colab-df-convert {\n",
              "      background-color: #E8F0FE;\n",
              "      border: none;\n",
              "      border-radius: 50%;\n",
              "      cursor: pointer;\n",
              "      display: none;\n",
              "      fill: #1967D2;\n",
              "      height: 32px;\n",
              "      padding: 0 0 0 0;\n",
              "      width: 32px;\n",
              "    }\n",
              "\n",
              "    .colab-df-convert:hover {\n",
              "      background-color: #E2EBFA;\n",
              "      box-shadow: 0px 1px 2px rgba(60, 64, 67, 0.3), 0px 1px 3px 1px rgba(60, 64, 67, 0.15);\n",
              "      fill: #174EA6;\n",
              "    }\n",
              "\n",
              "    [theme=dark] .colab-df-convert {\n",
              "      background-color: #3B4455;\n",
              "      fill: #D2E3FC;\n",
              "    }\n",
              "\n",
              "    [theme=dark] .colab-df-convert:hover {\n",
              "      background-color: #434B5C;\n",
              "      box-shadow: 0px 1px 3px 1px rgba(0, 0, 0, 0.15);\n",
              "      filter: drop-shadow(0px 1px 2px rgba(0, 0, 0, 0.3));\n",
              "      fill: #FFFFFF;\n",
              "    }\n",
              "  </style>\n",
              "\n",
              "      <script>\n",
              "        const buttonEl =\n",
              "          document.querySelector('#df-5592a154-4a7d-4deb-a13f-faa8bde0cfd2 button.colab-df-convert');\n",
              "        buttonEl.style.display =\n",
              "          google.colab.kernel.accessAllowed ? 'block' : 'none';\n",
              "\n",
              "        async function convertToInteractive(key) {\n",
              "          const element = document.querySelector('#df-5592a154-4a7d-4deb-a13f-faa8bde0cfd2');\n",
              "          const dataTable =\n",
              "            await google.colab.kernel.invokeFunction('convertToInteractive',\n",
              "                                                     [key], {});\n",
              "          if (!dataTable) return;\n",
              "\n",
              "          const docLinkHtml = 'Like what you see? Visit the ' +\n",
              "            '<a target=\"_blank\" href=https://colab.research.google.com/notebooks/data_table.ipynb>data table notebook</a>'\n",
              "            + ' to learn more about interactive tables.';\n",
              "          element.innerHTML = '';\n",
              "          dataTable['output_type'] = 'display_data';\n",
              "          await google.colab.output.renderOutput(dataTable, element);\n",
              "          const docLink = document.createElement('div');\n",
              "          docLink.innerHTML = docLinkHtml;\n",
              "          element.appendChild(docLink);\n",
              "        }\n",
              "      </script>\n",
              "    </div>\n",
              "  </div>\n",
              "  "
            ]
          },
          "metadata": {},
          "execution_count": 186
        }
      ]
    },
    {
      "cell_type": "code",
      "source": [
        "tokenHashtag = dt['Token']"
      ],
      "metadata": {
        "id": "RjOHwFYYnEnb"
      },
      "execution_count": 187,
      "outputs": []
    },
    {
      "cell_type": "code",
      "source": [
        "tokenMention = dt['TokenMention']"
      ],
      "metadata": {
        "id": "f2ZPHmb7uYad"
      },
      "execution_count": 188,
      "outputs": []
    },
    {
      "cell_type": "code",
      "source": [
        "tokens = [token for line in tokenHashtag  for token in line.split()]\n",
        "tokensMention = [token for line in tokenMention  for token in line.split()]"
      ],
      "metadata": {
        "id": "3r4naeZsnXvD"
      },
      "execution_count": 189,
      "outputs": []
    },
    {
      "cell_type": "code",
      "source": [
        "#Creamos una funcion que cuente los datos ya toquenizados \n",
        "def get_tokens(docx,num=40):\n",
        "    word_tokens = Counter(docx)\n",
        "    most_common = word_tokens.most_common(num)\n",
        "    result = dict(most_common)\n",
        "    return result"
      ],
      "metadata": {
        "id": "LLTearKWnbNK"
      },
      "execution_count": 190,
      "outputs": []
    },
    {
      "cell_type": "code",
      "source": [
        "tokensTotal = get_tokens(tokens)\n",
        "TokenMentionTotal= get_tokens(tokensMention)"
      ],
      "metadata": {
        "id": "EGXATuGgneL6"
      },
      "execution_count": 191,
      "outputs": []
    },
    {
      "cell_type": "code",
      "source": [
        "#Insertamos los datos en un dataframe\n",
        "data = pd.DataFrame(tokensTotal.items(),columns=['Hashtags','scores'])\n",
        "dataM = pd.DataFrame(TokenMentionTotal.items(),columns=['Mention','scores'])"
      ],
      "metadata": {
        "id": "BXUREFWYng_8"
      },
      "execution_count": 192,
      "outputs": []
    },
    {
      "cell_type": "code",
      "source": [
        "dataM.head()"
      ],
      "metadata": {
        "colab": {
          "base_uri": "https://localhost:8080/",
          "height": 206
        },
        "id": "kUGxv6SEv3Us",
        "outputId": "23474a11-0a13-4c51-b5d7-a0806fc78519"
      },
      "execution_count": 193,
      "outputs": [
        {
          "output_type": "execute_result",
          "data": {
            "text/plain": [
              "                              Mention  scores\n",
              "0      https://twitter.com/RideryVzla     757\n",
              "1                                   1      94\n",
              "2    https://twitter.com/RCamachoVzla      55\n",
              "3        https://twitter.com/esIsaacF      47\n",
              "4  https://twitter.com/yummyridesvzla      45"
            ],
            "text/html": [
              "\n",
              "  <div id=\"df-7abeb4c8-ddf3-4dab-8e10-0744512f5567\">\n",
              "    <div class=\"colab-df-container\">\n",
              "      <div>\n",
              "<style scoped>\n",
              "    .dataframe tbody tr th:only-of-type {\n",
              "        vertical-align: middle;\n",
              "    }\n",
              "\n",
              "    .dataframe tbody tr th {\n",
              "        vertical-align: top;\n",
              "    }\n",
              "\n",
              "    .dataframe thead th {\n",
              "        text-align: right;\n",
              "    }\n",
              "</style>\n",
              "<table border=\"1\" class=\"dataframe\">\n",
              "  <thead>\n",
              "    <tr style=\"text-align: right;\">\n",
              "      <th></th>\n",
              "      <th>Mention</th>\n",
              "      <th>scores</th>\n",
              "    </tr>\n",
              "  </thead>\n",
              "  <tbody>\n",
              "    <tr>\n",
              "      <th>0</th>\n",
              "      <td>https://twitter.com/RideryVzla</td>\n",
              "      <td>757</td>\n",
              "    </tr>\n",
              "    <tr>\n",
              "      <th>1</th>\n",
              "      <td>1</td>\n",
              "      <td>94</td>\n",
              "    </tr>\n",
              "    <tr>\n",
              "      <th>2</th>\n",
              "      <td>https://twitter.com/RCamachoVzla</td>\n",
              "      <td>55</td>\n",
              "    </tr>\n",
              "    <tr>\n",
              "      <th>3</th>\n",
              "      <td>https://twitter.com/esIsaacF</td>\n",
              "      <td>47</td>\n",
              "    </tr>\n",
              "    <tr>\n",
              "      <th>4</th>\n",
              "      <td>https://twitter.com/yummyridesvzla</td>\n",
              "      <td>45</td>\n",
              "    </tr>\n",
              "  </tbody>\n",
              "</table>\n",
              "</div>\n",
              "      <button class=\"colab-df-convert\" onclick=\"convertToInteractive('df-7abeb4c8-ddf3-4dab-8e10-0744512f5567')\"\n",
              "              title=\"Convert this dataframe to an interactive table.\"\n",
              "              style=\"display:none;\">\n",
              "        \n",
              "  <svg xmlns=\"http://www.w3.org/2000/svg\" height=\"24px\"viewBox=\"0 0 24 24\"\n",
              "       width=\"24px\">\n",
              "    <path d=\"M0 0h24v24H0V0z\" fill=\"none\"/>\n",
              "    <path d=\"M18.56 5.44l.94 2.06.94-2.06 2.06-.94-2.06-.94-.94-2.06-.94 2.06-2.06.94zm-11 1L8.5 8.5l.94-2.06 2.06-.94-2.06-.94L8.5 2.5l-.94 2.06-2.06.94zm10 10l.94 2.06.94-2.06 2.06-.94-2.06-.94-.94-2.06-.94 2.06-2.06.94z\"/><path d=\"M17.41 7.96l-1.37-1.37c-.4-.4-.92-.59-1.43-.59-.52 0-1.04.2-1.43.59L10.3 9.45l-7.72 7.72c-.78.78-.78 2.05 0 2.83L4 21.41c.39.39.9.59 1.41.59.51 0 1.02-.2 1.41-.59l7.78-7.78 2.81-2.81c.8-.78.8-2.07 0-2.86zM5.41 20L4 18.59l7.72-7.72 1.47 1.35L5.41 20z\"/>\n",
              "  </svg>\n",
              "      </button>\n",
              "      \n",
              "  <style>\n",
              "    .colab-df-container {\n",
              "      display:flex;\n",
              "      flex-wrap:wrap;\n",
              "      gap: 12px;\n",
              "    }\n",
              "\n",
              "    .colab-df-convert {\n",
              "      background-color: #E8F0FE;\n",
              "      border: none;\n",
              "      border-radius: 50%;\n",
              "      cursor: pointer;\n",
              "      display: none;\n",
              "      fill: #1967D2;\n",
              "      height: 32px;\n",
              "      padding: 0 0 0 0;\n",
              "      width: 32px;\n",
              "    }\n",
              "\n",
              "    .colab-df-convert:hover {\n",
              "      background-color: #E2EBFA;\n",
              "      box-shadow: 0px 1px 2px rgba(60, 64, 67, 0.3), 0px 1px 3px 1px rgba(60, 64, 67, 0.15);\n",
              "      fill: #174EA6;\n",
              "    }\n",
              "\n",
              "    [theme=dark] .colab-df-convert {\n",
              "      background-color: #3B4455;\n",
              "      fill: #D2E3FC;\n",
              "    }\n",
              "\n",
              "    [theme=dark] .colab-df-convert:hover {\n",
              "      background-color: #434B5C;\n",
              "      box-shadow: 0px 1px 3px 1px rgba(0, 0, 0, 0.15);\n",
              "      filter: drop-shadow(0px 1px 2px rgba(0, 0, 0, 0.3));\n",
              "      fill: #FFFFFF;\n",
              "    }\n",
              "  </style>\n",
              "\n",
              "      <script>\n",
              "        const buttonEl =\n",
              "          document.querySelector('#df-7abeb4c8-ddf3-4dab-8e10-0744512f5567 button.colab-df-convert');\n",
              "        buttonEl.style.display =\n",
              "          google.colab.kernel.accessAllowed ? 'block' : 'none';\n",
              "\n",
              "        async function convertToInteractive(key) {\n",
              "          const element = document.querySelector('#df-7abeb4c8-ddf3-4dab-8e10-0744512f5567');\n",
              "          const dataTable =\n",
              "            await google.colab.kernel.invokeFunction('convertToInteractive',\n",
              "                                                     [key], {});\n",
              "          if (!dataTable) return;\n",
              "\n",
              "          const docLinkHtml = 'Like what you see? Visit the ' +\n",
              "            '<a target=\"_blank\" href=https://colab.research.google.com/notebooks/data_table.ipynb>data table notebook</a>'\n",
              "            + ' to learn more about interactive tables.';\n",
              "          element.innerHTML = '';\n",
              "          dataTable['output_type'] = 'display_data';\n",
              "          await google.colab.output.renderOutput(dataTable, element);\n",
              "          const docLink = document.createElement('div');\n",
              "          docLink.innerHTML = docLinkHtml;\n",
              "          element.appendChild(docLink);\n",
              "        }\n",
              "      </script>\n",
              "    </div>\n",
              "  </div>\n",
              "  "
            ]
          },
          "metadata": {},
          "execution_count": 193
        }
      ]
    },
    {
      "cell_type": "code",
      "source": [
        "fig = px.bar(dataM, title=\"Menciones mas usados en la Kings League\",x=dataM['Mention'], y=dataM['scores'])\n",
        "fig.show()"
      ],
      "metadata": {
        "colab": {
          "base_uri": "https://localhost:8080/",
          "height": 542
        },
        "id": "heyzF75eu877",
        "outputId": "99a8f9f8-c3f3-45fb-adc7-06b5f66afbcd"
      },
      "execution_count": 194,
      "outputs": [
        {
          "output_type": "display_data",
          "data": {
            "text/html": [
              "<html>\n",
              "<head><meta charset=\"utf-8\" /></head>\n",
              "<body>\n",
              "    <div>            <script src=\"https://cdnjs.cloudflare.com/ajax/libs/mathjax/2.7.5/MathJax.js?config=TeX-AMS-MML_SVG\"></script><script type=\"text/javascript\">if (window.MathJax) {MathJax.Hub.Config({SVG: {font: \"STIX-Web\"}});}</script>                <script type=\"text/javascript\">window.PlotlyConfig = {MathJaxConfig: 'local'};</script>\n",
              "        <script src=\"https://cdn.plot.ly/plotly-2.8.3.min.js\"></script>                <div id=\"a13049ba-4416-4083-a3f6-a175ad4d4468\" class=\"plotly-graph-div\" style=\"height:525px; width:100%;\"></div>            <script type=\"text/javascript\">                                    window.PLOTLYENV=window.PLOTLYENV || {};                                    if (document.getElementById(\"a13049ba-4416-4083-a3f6-a175ad4d4468\")) {                    Plotly.newPlot(                        \"a13049ba-4416-4083-a3f6-a175ad4d4468\",                        [{\"alignmentgroup\":\"True\",\"hovertemplate\":\"Mention=%{x}<br>scores=%{y}<extra></extra>\",\"legendgroup\":\"\",\"marker\":{\"color\":\"#636efa\",\"pattern\":{\"shape\":\"\"}},\"name\":\"\",\"offsetgroup\":\"\",\"orientation\":\"v\",\"showlegend\":false,\"textposition\":\"auto\",\"x\":[\"https://twitter.com/RideryVzla\",\"1\",\"https://twitter.com/RCamachoVzla\",\"https://twitter.com/esIsaacF\",\"https://twitter.com/yummyridesvzla\",\"https://twitter.com/Jrhg17\",\"https://twitter.com/gordonesroo\",\"https://twitter.com/Gersondavid\",\"https://twitter.com/gabyceballor\",\"https://twitter.com/RommelVeitia\",\"https://twitter.com/TarekWiliamSaab\",\"https://twitter.com/Miquelena_\",\"https://twitter.com/F_AyalaR\",\"https://twitter.com/DriversYummy\",\"https://twitter.com/alejowearsblack\",\"https://twitter.com/Daniealbarranr\",\"https://twitter.com/Guijfenianos\",\"https://twitter.com/rebeldiaaldia1\",\"https://twitter.com/PolisucreOficia\",\"https://twitter.com/leoleoleleoleol\",\"https://twitter.com/Vxl_brx\",\"https://twitter.com/IDaryl_\",\"https://twitter.com/osm_carrillo\",\"https://twitter.com/dereckblanco\",\"https://twitter.com/Soramedicen\",\"https://twitter.com/metavarce\",\"https://twitter.com/Soygordy\",\"https://twitter.com/LuisSucesosLuis\",\"https://twitter.com/Caimanero2\",\"https://twitter.com/TareckPSUV\",\"https://twitter.com/volcanes_\",\"https://twitter.com/ch1nux\",\"https://twitter.com/LawawaApp\",\"https://twitter.com/karlota_dc\",\"https://twitter.com/Javimardi\",\"https://twitter.com/josraf\",\"https://twitter.com/yordiarteaga\",\"https://twitter.com/NeoGabox\",\"https://twitter.com/danieljuarezve\",\"https://twitter.com/LuiGarmendia\"],\"xaxis\":\"x\",\"y\":[757,94,55,47,45,28,22,15,13,12,10,10,9,9,8,7,6,6,6,6,6,5,5,5,5,5,4,4,4,4,4,4,4,4,4,4,4,4,3,3],\"yaxis\":\"y\",\"type\":\"bar\"}],                        {\"template\":{\"data\":{\"bar\":[{\"error_x\":{\"color\":\"#2a3f5f\"},\"error_y\":{\"color\":\"#2a3f5f\"},\"marker\":{\"line\":{\"color\":\"#E5ECF6\",\"width\":0.5},\"pattern\":{\"fillmode\":\"overlay\",\"size\":10,\"solidity\":0.2}},\"type\":\"bar\"}],\"barpolar\":[{\"marker\":{\"line\":{\"color\":\"#E5ECF6\",\"width\":0.5},\"pattern\":{\"fillmode\":\"overlay\",\"size\":10,\"solidity\":0.2}},\"type\":\"barpolar\"}],\"carpet\":[{\"aaxis\":{\"endlinecolor\":\"#2a3f5f\",\"gridcolor\":\"white\",\"linecolor\":\"white\",\"minorgridcolor\":\"white\",\"startlinecolor\":\"#2a3f5f\"},\"baxis\":{\"endlinecolor\":\"#2a3f5f\",\"gridcolor\":\"white\",\"linecolor\":\"white\",\"minorgridcolor\":\"white\",\"startlinecolor\":\"#2a3f5f\"},\"type\":\"carpet\"}],\"choropleth\":[{\"colorbar\":{\"outlinewidth\":0,\"ticks\":\"\"},\"type\":\"choropleth\"}],\"contour\":[{\"colorbar\":{\"outlinewidth\":0,\"ticks\":\"\"},\"colorscale\":[[0.0,\"#0d0887\"],[0.1111111111111111,\"#46039f\"],[0.2222222222222222,\"#7201a8\"],[0.3333333333333333,\"#9c179e\"],[0.4444444444444444,\"#bd3786\"],[0.5555555555555556,\"#d8576b\"],[0.6666666666666666,\"#ed7953\"],[0.7777777777777778,\"#fb9f3a\"],[0.8888888888888888,\"#fdca26\"],[1.0,\"#f0f921\"]],\"type\":\"contour\"}],\"contourcarpet\":[{\"colorbar\":{\"outlinewidth\":0,\"ticks\":\"\"},\"type\":\"contourcarpet\"}],\"heatmap\":[{\"colorbar\":{\"outlinewidth\":0,\"ticks\":\"\"},\"colorscale\":[[0.0,\"#0d0887\"],[0.1111111111111111,\"#46039f\"],[0.2222222222222222,\"#7201a8\"],[0.3333333333333333,\"#9c179e\"],[0.4444444444444444,\"#bd3786\"],[0.5555555555555556,\"#d8576b\"],[0.6666666666666666,\"#ed7953\"],[0.7777777777777778,\"#fb9f3a\"],[0.8888888888888888,\"#fdca26\"],[1.0,\"#f0f921\"]],\"type\":\"heatmap\"}],\"heatmapgl\":[{\"colorbar\":{\"outlinewidth\":0,\"ticks\":\"\"},\"colorscale\":[[0.0,\"#0d0887\"],[0.1111111111111111,\"#46039f\"],[0.2222222222222222,\"#7201a8\"],[0.3333333333333333,\"#9c179e\"],[0.4444444444444444,\"#bd3786\"],[0.5555555555555556,\"#d8576b\"],[0.6666666666666666,\"#ed7953\"],[0.7777777777777778,\"#fb9f3a\"],[0.8888888888888888,\"#fdca26\"],[1.0,\"#f0f921\"]],\"type\":\"heatmapgl\"}],\"histogram\":[{\"marker\":{\"pattern\":{\"fillmode\":\"overlay\",\"size\":10,\"solidity\":0.2}},\"type\":\"histogram\"}],\"histogram2d\":[{\"colorbar\":{\"outlinewidth\":0,\"ticks\":\"\"},\"colorscale\":[[0.0,\"#0d0887\"],[0.1111111111111111,\"#46039f\"],[0.2222222222222222,\"#7201a8\"],[0.3333333333333333,\"#9c179e\"],[0.4444444444444444,\"#bd3786\"],[0.5555555555555556,\"#d8576b\"],[0.6666666666666666,\"#ed7953\"],[0.7777777777777778,\"#fb9f3a\"],[0.8888888888888888,\"#fdca26\"],[1.0,\"#f0f921\"]],\"type\":\"histogram2d\"}],\"histogram2dcontour\":[{\"colorbar\":{\"outlinewidth\":0,\"ticks\":\"\"},\"colorscale\":[[0.0,\"#0d0887\"],[0.1111111111111111,\"#46039f\"],[0.2222222222222222,\"#7201a8\"],[0.3333333333333333,\"#9c179e\"],[0.4444444444444444,\"#bd3786\"],[0.5555555555555556,\"#d8576b\"],[0.6666666666666666,\"#ed7953\"],[0.7777777777777778,\"#fb9f3a\"],[0.8888888888888888,\"#fdca26\"],[1.0,\"#f0f921\"]],\"type\":\"histogram2dcontour\"}],\"mesh3d\":[{\"colorbar\":{\"outlinewidth\":0,\"ticks\":\"\"},\"type\":\"mesh3d\"}],\"parcoords\":[{\"line\":{\"colorbar\":{\"outlinewidth\":0,\"ticks\":\"\"}},\"type\":\"parcoords\"}],\"pie\":[{\"automargin\":true,\"type\":\"pie\"}],\"scatter\":[{\"marker\":{\"colorbar\":{\"outlinewidth\":0,\"ticks\":\"\"}},\"type\":\"scatter\"}],\"scatter3d\":[{\"line\":{\"colorbar\":{\"outlinewidth\":0,\"ticks\":\"\"}},\"marker\":{\"colorbar\":{\"outlinewidth\":0,\"ticks\":\"\"}},\"type\":\"scatter3d\"}],\"scattercarpet\":[{\"marker\":{\"colorbar\":{\"outlinewidth\":0,\"ticks\":\"\"}},\"type\":\"scattercarpet\"}],\"scattergeo\":[{\"marker\":{\"colorbar\":{\"outlinewidth\":0,\"ticks\":\"\"}},\"type\":\"scattergeo\"}],\"scattergl\":[{\"marker\":{\"colorbar\":{\"outlinewidth\":0,\"ticks\":\"\"}},\"type\":\"scattergl\"}],\"scattermapbox\":[{\"marker\":{\"colorbar\":{\"outlinewidth\":0,\"ticks\":\"\"}},\"type\":\"scattermapbox\"}],\"scatterpolar\":[{\"marker\":{\"colorbar\":{\"outlinewidth\":0,\"ticks\":\"\"}},\"type\":\"scatterpolar\"}],\"scatterpolargl\":[{\"marker\":{\"colorbar\":{\"outlinewidth\":0,\"ticks\":\"\"}},\"type\":\"scatterpolargl\"}],\"scatterternary\":[{\"marker\":{\"colorbar\":{\"outlinewidth\":0,\"ticks\":\"\"}},\"type\":\"scatterternary\"}],\"surface\":[{\"colorbar\":{\"outlinewidth\":0,\"ticks\":\"\"},\"colorscale\":[[0.0,\"#0d0887\"],[0.1111111111111111,\"#46039f\"],[0.2222222222222222,\"#7201a8\"],[0.3333333333333333,\"#9c179e\"],[0.4444444444444444,\"#bd3786\"],[0.5555555555555556,\"#d8576b\"],[0.6666666666666666,\"#ed7953\"],[0.7777777777777778,\"#fb9f3a\"],[0.8888888888888888,\"#fdca26\"],[1.0,\"#f0f921\"]],\"type\":\"surface\"}],\"table\":[{\"cells\":{\"fill\":{\"color\":\"#EBF0F8\"},\"line\":{\"color\":\"white\"}},\"header\":{\"fill\":{\"color\":\"#C8D4E3\"},\"line\":{\"color\":\"white\"}},\"type\":\"table\"}]},\"layout\":{\"annotationdefaults\":{\"arrowcolor\":\"#2a3f5f\",\"arrowhead\":0,\"arrowwidth\":1},\"autotypenumbers\":\"strict\",\"coloraxis\":{\"colorbar\":{\"outlinewidth\":0,\"ticks\":\"\"}},\"colorscale\":{\"diverging\":[[0,\"#8e0152\"],[0.1,\"#c51b7d\"],[0.2,\"#de77ae\"],[0.3,\"#f1b6da\"],[0.4,\"#fde0ef\"],[0.5,\"#f7f7f7\"],[0.6,\"#e6f5d0\"],[0.7,\"#b8e186\"],[0.8,\"#7fbc41\"],[0.9,\"#4d9221\"],[1,\"#276419\"]],\"sequential\":[[0.0,\"#0d0887\"],[0.1111111111111111,\"#46039f\"],[0.2222222222222222,\"#7201a8\"],[0.3333333333333333,\"#9c179e\"],[0.4444444444444444,\"#bd3786\"],[0.5555555555555556,\"#d8576b\"],[0.6666666666666666,\"#ed7953\"],[0.7777777777777778,\"#fb9f3a\"],[0.8888888888888888,\"#fdca26\"],[1.0,\"#f0f921\"]],\"sequentialminus\":[[0.0,\"#0d0887\"],[0.1111111111111111,\"#46039f\"],[0.2222222222222222,\"#7201a8\"],[0.3333333333333333,\"#9c179e\"],[0.4444444444444444,\"#bd3786\"],[0.5555555555555556,\"#d8576b\"],[0.6666666666666666,\"#ed7953\"],[0.7777777777777778,\"#fb9f3a\"],[0.8888888888888888,\"#fdca26\"],[1.0,\"#f0f921\"]]},\"colorway\":[\"#636efa\",\"#EF553B\",\"#00cc96\",\"#ab63fa\",\"#FFA15A\",\"#19d3f3\",\"#FF6692\",\"#B6E880\",\"#FF97FF\",\"#FECB52\"],\"font\":{\"color\":\"#2a3f5f\"},\"geo\":{\"bgcolor\":\"white\",\"lakecolor\":\"white\",\"landcolor\":\"#E5ECF6\",\"showlakes\":true,\"showland\":true,\"subunitcolor\":\"white\"},\"hoverlabel\":{\"align\":\"left\"},\"hovermode\":\"closest\",\"mapbox\":{\"style\":\"light\"},\"paper_bgcolor\":\"white\",\"plot_bgcolor\":\"#E5ECF6\",\"polar\":{\"angularaxis\":{\"gridcolor\":\"white\",\"linecolor\":\"white\",\"ticks\":\"\"},\"bgcolor\":\"#E5ECF6\",\"radialaxis\":{\"gridcolor\":\"white\",\"linecolor\":\"white\",\"ticks\":\"\"}},\"scene\":{\"xaxis\":{\"backgroundcolor\":\"#E5ECF6\",\"gridcolor\":\"white\",\"gridwidth\":2,\"linecolor\":\"white\",\"showbackground\":true,\"ticks\":\"\",\"zerolinecolor\":\"white\"},\"yaxis\":{\"backgroundcolor\":\"#E5ECF6\",\"gridcolor\":\"white\",\"gridwidth\":2,\"linecolor\":\"white\",\"showbackground\":true,\"ticks\":\"\",\"zerolinecolor\":\"white\"},\"zaxis\":{\"backgroundcolor\":\"#E5ECF6\",\"gridcolor\":\"white\",\"gridwidth\":2,\"linecolor\":\"white\",\"showbackground\":true,\"ticks\":\"\",\"zerolinecolor\":\"white\"}},\"shapedefaults\":{\"line\":{\"color\":\"#2a3f5f\"}},\"ternary\":{\"aaxis\":{\"gridcolor\":\"white\",\"linecolor\":\"white\",\"ticks\":\"\"},\"baxis\":{\"gridcolor\":\"white\",\"linecolor\":\"white\",\"ticks\":\"\"},\"bgcolor\":\"#E5ECF6\",\"caxis\":{\"gridcolor\":\"white\",\"linecolor\":\"white\",\"ticks\":\"\"}},\"title\":{\"x\":0.05},\"xaxis\":{\"automargin\":true,\"gridcolor\":\"white\",\"linecolor\":\"white\",\"ticks\":\"\",\"title\":{\"standoff\":15},\"zerolinecolor\":\"white\",\"zerolinewidth\":2},\"yaxis\":{\"automargin\":true,\"gridcolor\":\"white\",\"linecolor\":\"white\",\"ticks\":\"\",\"title\":{\"standoff\":15},\"zerolinecolor\":\"white\",\"zerolinewidth\":2}}},\"xaxis\":{\"anchor\":\"y\",\"domain\":[0.0,1.0],\"title\":{\"text\":\"Mention\"}},\"yaxis\":{\"anchor\":\"x\",\"domain\":[0.0,1.0],\"title\":{\"text\":\"scores\"}},\"legend\":{\"tracegroupgap\":0},\"title\":{\"text\":\"Menciones mas usados en la Kings League\"},\"barmode\":\"relative\"},                        {\"responsive\": true}                    ).then(function(){\n",
              "                            \n",
              "var gd = document.getElementById('a13049ba-4416-4083-a3f6-a175ad4d4468');\n",
              "var x = new MutationObserver(function (mutations, observer) {{\n",
              "        var display = window.getComputedStyle(gd).display;\n",
              "        if (!display || display === 'none') {{\n",
              "            console.log([gd, 'removed!']);\n",
              "            Plotly.purge(gd);\n",
              "            observer.disconnect();\n",
              "        }}\n",
              "}});\n",
              "\n",
              "// Listen for the removal of the full notebook cells\n",
              "var notebookContainer = gd.closest('#notebook-container');\n",
              "if (notebookContainer) {{\n",
              "    x.observe(notebookContainer, {childList: true});\n",
              "}}\n",
              "\n",
              "// Listen for the clearing of the current output cell\n",
              "var outputEl = gd.closest('.output');\n",
              "if (outputEl) {{\n",
              "    x.observe(outputEl, {childList: true});\n",
              "}}\n",
              "\n",
              "                        })                };                            </script>        </div>\n",
              "</body>\n",
              "</html>"
            ]
          },
          "metadata": {}
        }
      ]
    },
    {
      "cell_type": "markdown",
      "source": [
        "#Conclusiones de los hashtags\n",
        "\n",
        "Las menciones mas utilizados de Ridery Venezuela\n",
        "\n",
        "\n",
        "* @RideryVzl \n",
        "* @RCamachoVzla\n",
        "* @esIsaacF"
      ],
      "metadata": {
        "id": "sYjiknuw-VlF"
      }
    },
    {
      "cell_type": "code",
      "source": [
        "#Ploteamos los datos\n",
        "fig = px.bar(data, title=\"Hashtags mas usados en la Kings League\",x=data['Hashtags'], y=data['scores'])\n",
        "fig.show()"
      ],
      "metadata": {
        "colab": {
          "base_uri": "https://localhost:8080/",
          "height": 542
        },
        "id": "fDEWjXfrnk_9",
        "outputId": "d67db7b1-ea58-424d-cf13-adb1c8ed7c93"
      },
      "execution_count": 195,
      "outputs": [
        {
          "output_type": "display_data",
          "data": {
            "text/html": [
              "<html>\n",
              "<head><meta charset=\"utf-8\" /></head>\n",
              "<body>\n",
              "    <div>            <script src=\"https://cdnjs.cloudflare.com/ajax/libs/mathjax/2.7.5/MathJax.js?config=TeX-AMS-MML_SVG\"></script><script type=\"text/javascript\">if (window.MathJax) {MathJax.Hub.Config({SVG: {font: \"STIX-Web\"}});}</script>                <script type=\"text/javascript\">window.PlotlyConfig = {MathJaxConfig: 'local'};</script>\n",
              "        <script src=\"https://cdn.plot.ly/plotly-2.8.3.min.js\"></script>                <div id=\"083a72e1-106c-425e-bcf4-e1cdd41c77fb\" class=\"plotly-graph-div\" style=\"height:525px; width:100%;\"></div>            <script type=\"text/javascript\">                                    window.PLOTLYENV=window.PLOTLYENV || {};                                    if (document.getElementById(\"083a72e1-106c-425e-bcf4-e1cdd41c77fb\")) {                    Plotly.newPlot(                        \"083a72e1-106c-425e-bcf4-e1cdd41c77fb\",                        [{\"alignmentgroup\":\"True\",\"hovertemplate\":\"Hashtags=%{x}<br>scores=%{y}<extra></extra>\",\"legendgroup\":\"\",\"marker\":{\"color\":\"#636efa\",\"pattern\":{\"shape\":\"\"}},\"name\":\"\",\"offsetgroup\":\"\",\"orientation\":\"v\",\"showlegend\":false,\"textposition\":\"auto\",\"x\":[\"1\",\"Ridery\",\"MotoRidery\",\"Denuncia\",\"Maracaibo\",\"Riders\",\"Venezuela\",\"ridersugerencia\",\"RideryNOpaga\",\"RideryCaracas\",\"NadaQueVerConFutbol\",\"LaRinconada\",\"SerieDelCaribe\",\"Zinlers\",\"lecheria\",\"Fospuca\",\"Reserve\",\"Sorrynotsorry\",\"offtopic\",\"Artsymochileo\",\"BlueMonday\",\"TikTok\",\"rideryvzla\",\"ineficiencia\",\"MueveteConRidery\",\"riderycaracas\",\"viernes16\",\"May\",\"SanBernardino\",\"PetFriendly\",\"C\\u00facuta\",\"camaracucuta\",\"Riderynopaga\",\"Alaire\",\"Flety\",\"TransporteDeCarga\",\"Viajes\",\"Camion\",\"Gandola\",\"Logistica\"],\"xaxis\":\"x\",\"y\":[951,7,5,5,4,3,2,2,2,1,1,1,1,1,1,1,1,1,1,1,1,1,1,1,1,1,1,1,1,1,1,1,1,1,1,1,1,1,1,1],\"yaxis\":\"y\",\"type\":\"bar\"}],                        {\"template\":{\"data\":{\"bar\":[{\"error_x\":{\"color\":\"#2a3f5f\"},\"error_y\":{\"color\":\"#2a3f5f\"},\"marker\":{\"line\":{\"color\":\"#E5ECF6\",\"width\":0.5},\"pattern\":{\"fillmode\":\"overlay\",\"size\":10,\"solidity\":0.2}},\"type\":\"bar\"}],\"barpolar\":[{\"marker\":{\"line\":{\"color\":\"#E5ECF6\",\"width\":0.5},\"pattern\":{\"fillmode\":\"overlay\",\"size\":10,\"solidity\":0.2}},\"type\":\"barpolar\"}],\"carpet\":[{\"aaxis\":{\"endlinecolor\":\"#2a3f5f\",\"gridcolor\":\"white\",\"linecolor\":\"white\",\"minorgridcolor\":\"white\",\"startlinecolor\":\"#2a3f5f\"},\"baxis\":{\"endlinecolor\":\"#2a3f5f\",\"gridcolor\":\"white\",\"linecolor\":\"white\",\"minorgridcolor\":\"white\",\"startlinecolor\":\"#2a3f5f\"},\"type\":\"carpet\"}],\"choropleth\":[{\"colorbar\":{\"outlinewidth\":0,\"ticks\":\"\"},\"type\":\"choropleth\"}],\"contour\":[{\"colorbar\":{\"outlinewidth\":0,\"ticks\":\"\"},\"colorscale\":[[0.0,\"#0d0887\"],[0.1111111111111111,\"#46039f\"],[0.2222222222222222,\"#7201a8\"],[0.3333333333333333,\"#9c179e\"],[0.4444444444444444,\"#bd3786\"],[0.5555555555555556,\"#d8576b\"],[0.6666666666666666,\"#ed7953\"],[0.7777777777777778,\"#fb9f3a\"],[0.8888888888888888,\"#fdca26\"],[1.0,\"#f0f921\"]],\"type\":\"contour\"}],\"contourcarpet\":[{\"colorbar\":{\"outlinewidth\":0,\"ticks\":\"\"},\"type\":\"contourcarpet\"}],\"heatmap\":[{\"colorbar\":{\"outlinewidth\":0,\"ticks\":\"\"},\"colorscale\":[[0.0,\"#0d0887\"],[0.1111111111111111,\"#46039f\"],[0.2222222222222222,\"#7201a8\"],[0.3333333333333333,\"#9c179e\"],[0.4444444444444444,\"#bd3786\"],[0.5555555555555556,\"#d8576b\"],[0.6666666666666666,\"#ed7953\"],[0.7777777777777778,\"#fb9f3a\"],[0.8888888888888888,\"#fdca26\"],[1.0,\"#f0f921\"]],\"type\":\"heatmap\"}],\"heatmapgl\":[{\"colorbar\":{\"outlinewidth\":0,\"ticks\":\"\"},\"colorscale\":[[0.0,\"#0d0887\"],[0.1111111111111111,\"#46039f\"],[0.2222222222222222,\"#7201a8\"],[0.3333333333333333,\"#9c179e\"],[0.4444444444444444,\"#bd3786\"],[0.5555555555555556,\"#d8576b\"],[0.6666666666666666,\"#ed7953\"],[0.7777777777777778,\"#fb9f3a\"],[0.8888888888888888,\"#fdca26\"],[1.0,\"#f0f921\"]],\"type\":\"heatmapgl\"}],\"histogram\":[{\"marker\":{\"pattern\":{\"fillmode\":\"overlay\",\"size\":10,\"solidity\":0.2}},\"type\":\"histogram\"}],\"histogram2d\":[{\"colorbar\":{\"outlinewidth\":0,\"ticks\":\"\"},\"colorscale\":[[0.0,\"#0d0887\"],[0.1111111111111111,\"#46039f\"],[0.2222222222222222,\"#7201a8\"],[0.3333333333333333,\"#9c179e\"],[0.4444444444444444,\"#bd3786\"],[0.5555555555555556,\"#d8576b\"],[0.6666666666666666,\"#ed7953\"],[0.7777777777777778,\"#fb9f3a\"],[0.8888888888888888,\"#fdca26\"],[1.0,\"#f0f921\"]],\"type\":\"histogram2d\"}],\"histogram2dcontour\":[{\"colorbar\":{\"outlinewidth\":0,\"ticks\":\"\"},\"colorscale\":[[0.0,\"#0d0887\"],[0.1111111111111111,\"#46039f\"],[0.2222222222222222,\"#7201a8\"],[0.3333333333333333,\"#9c179e\"],[0.4444444444444444,\"#bd3786\"],[0.5555555555555556,\"#d8576b\"],[0.6666666666666666,\"#ed7953\"],[0.7777777777777778,\"#fb9f3a\"],[0.8888888888888888,\"#fdca26\"],[1.0,\"#f0f921\"]],\"type\":\"histogram2dcontour\"}],\"mesh3d\":[{\"colorbar\":{\"outlinewidth\":0,\"ticks\":\"\"},\"type\":\"mesh3d\"}],\"parcoords\":[{\"line\":{\"colorbar\":{\"outlinewidth\":0,\"ticks\":\"\"}},\"type\":\"parcoords\"}],\"pie\":[{\"automargin\":true,\"type\":\"pie\"}],\"scatter\":[{\"marker\":{\"colorbar\":{\"outlinewidth\":0,\"ticks\":\"\"}},\"type\":\"scatter\"}],\"scatter3d\":[{\"line\":{\"colorbar\":{\"outlinewidth\":0,\"ticks\":\"\"}},\"marker\":{\"colorbar\":{\"outlinewidth\":0,\"ticks\":\"\"}},\"type\":\"scatter3d\"}],\"scattercarpet\":[{\"marker\":{\"colorbar\":{\"outlinewidth\":0,\"ticks\":\"\"}},\"type\":\"scattercarpet\"}],\"scattergeo\":[{\"marker\":{\"colorbar\":{\"outlinewidth\":0,\"ticks\":\"\"}},\"type\":\"scattergeo\"}],\"scattergl\":[{\"marker\":{\"colorbar\":{\"outlinewidth\":0,\"ticks\":\"\"}},\"type\":\"scattergl\"}],\"scattermapbox\":[{\"marker\":{\"colorbar\":{\"outlinewidth\":0,\"ticks\":\"\"}},\"type\":\"scattermapbox\"}],\"scatterpolar\":[{\"marker\":{\"colorbar\":{\"outlinewidth\":0,\"ticks\":\"\"}},\"type\":\"scatterpolar\"}],\"scatterpolargl\":[{\"marker\":{\"colorbar\":{\"outlinewidth\":0,\"ticks\":\"\"}},\"type\":\"scatterpolargl\"}],\"scatterternary\":[{\"marker\":{\"colorbar\":{\"outlinewidth\":0,\"ticks\":\"\"}},\"type\":\"scatterternary\"}],\"surface\":[{\"colorbar\":{\"outlinewidth\":0,\"ticks\":\"\"},\"colorscale\":[[0.0,\"#0d0887\"],[0.1111111111111111,\"#46039f\"],[0.2222222222222222,\"#7201a8\"],[0.3333333333333333,\"#9c179e\"],[0.4444444444444444,\"#bd3786\"],[0.5555555555555556,\"#d8576b\"],[0.6666666666666666,\"#ed7953\"],[0.7777777777777778,\"#fb9f3a\"],[0.8888888888888888,\"#fdca26\"],[1.0,\"#f0f921\"]],\"type\":\"surface\"}],\"table\":[{\"cells\":{\"fill\":{\"color\":\"#EBF0F8\"},\"line\":{\"color\":\"white\"}},\"header\":{\"fill\":{\"color\":\"#C8D4E3\"},\"line\":{\"color\":\"white\"}},\"type\":\"table\"}]},\"layout\":{\"annotationdefaults\":{\"arrowcolor\":\"#2a3f5f\",\"arrowhead\":0,\"arrowwidth\":1},\"autotypenumbers\":\"strict\",\"coloraxis\":{\"colorbar\":{\"outlinewidth\":0,\"ticks\":\"\"}},\"colorscale\":{\"diverging\":[[0,\"#8e0152\"],[0.1,\"#c51b7d\"],[0.2,\"#de77ae\"],[0.3,\"#f1b6da\"],[0.4,\"#fde0ef\"],[0.5,\"#f7f7f7\"],[0.6,\"#e6f5d0\"],[0.7,\"#b8e186\"],[0.8,\"#7fbc41\"],[0.9,\"#4d9221\"],[1,\"#276419\"]],\"sequential\":[[0.0,\"#0d0887\"],[0.1111111111111111,\"#46039f\"],[0.2222222222222222,\"#7201a8\"],[0.3333333333333333,\"#9c179e\"],[0.4444444444444444,\"#bd3786\"],[0.5555555555555556,\"#d8576b\"],[0.6666666666666666,\"#ed7953\"],[0.7777777777777778,\"#fb9f3a\"],[0.8888888888888888,\"#fdca26\"],[1.0,\"#f0f921\"]],\"sequentialminus\":[[0.0,\"#0d0887\"],[0.1111111111111111,\"#46039f\"],[0.2222222222222222,\"#7201a8\"],[0.3333333333333333,\"#9c179e\"],[0.4444444444444444,\"#bd3786\"],[0.5555555555555556,\"#d8576b\"],[0.6666666666666666,\"#ed7953\"],[0.7777777777777778,\"#fb9f3a\"],[0.8888888888888888,\"#fdca26\"],[1.0,\"#f0f921\"]]},\"colorway\":[\"#636efa\",\"#EF553B\",\"#00cc96\",\"#ab63fa\",\"#FFA15A\",\"#19d3f3\",\"#FF6692\",\"#B6E880\",\"#FF97FF\",\"#FECB52\"],\"font\":{\"color\":\"#2a3f5f\"},\"geo\":{\"bgcolor\":\"white\",\"lakecolor\":\"white\",\"landcolor\":\"#E5ECF6\",\"showlakes\":true,\"showland\":true,\"subunitcolor\":\"white\"},\"hoverlabel\":{\"align\":\"left\"},\"hovermode\":\"closest\",\"mapbox\":{\"style\":\"light\"},\"paper_bgcolor\":\"white\",\"plot_bgcolor\":\"#E5ECF6\",\"polar\":{\"angularaxis\":{\"gridcolor\":\"white\",\"linecolor\":\"white\",\"ticks\":\"\"},\"bgcolor\":\"#E5ECF6\",\"radialaxis\":{\"gridcolor\":\"white\",\"linecolor\":\"white\",\"ticks\":\"\"}},\"scene\":{\"xaxis\":{\"backgroundcolor\":\"#E5ECF6\",\"gridcolor\":\"white\",\"gridwidth\":2,\"linecolor\":\"white\",\"showbackground\":true,\"ticks\":\"\",\"zerolinecolor\":\"white\"},\"yaxis\":{\"backgroundcolor\":\"#E5ECF6\",\"gridcolor\":\"white\",\"gridwidth\":2,\"linecolor\":\"white\",\"showbackground\":true,\"ticks\":\"\",\"zerolinecolor\":\"white\"},\"zaxis\":{\"backgroundcolor\":\"#E5ECF6\",\"gridcolor\":\"white\",\"gridwidth\":2,\"linecolor\":\"white\",\"showbackground\":true,\"ticks\":\"\",\"zerolinecolor\":\"white\"}},\"shapedefaults\":{\"line\":{\"color\":\"#2a3f5f\"}},\"ternary\":{\"aaxis\":{\"gridcolor\":\"white\",\"linecolor\":\"white\",\"ticks\":\"\"},\"baxis\":{\"gridcolor\":\"white\",\"linecolor\":\"white\",\"ticks\":\"\"},\"bgcolor\":\"#E5ECF6\",\"caxis\":{\"gridcolor\":\"white\",\"linecolor\":\"white\",\"ticks\":\"\"}},\"title\":{\"x\":0.05},\"xaxis\":{\"automargin\":true,\"gridcolor\":\"white\",\"linecolor\":\"white\",\"ticks\":\"\",\"title\":{\"standoff\":15},\"zerolinecolor\":\"white\",\"zerolinewidth\":2},\"yaxis\":{\"automargin\":true,\"gridcolor\":\"white\",\"linecolor\":\"white\",\"ticks\":\"\",\"title\":{\"standoff\":15},\"zerolinecolor\":\"white\",\"zerolinewidth\":2}}},\"xaxis\":{\"anchor\":\"y\",\"domain\":[0.0,1.0],\"title\":{\"text\":\"Hashtags\"}},\"yaxis\":{\"anchor\":\"x\",\"domain\":[0.0,1.0],\"title\":{\"text\":\"scores\"}},\"legend\":{\"tracegroupgap\":0},\"title\":{\"text\":\"Hashtags mas usados en la Kings League\"},\"barmode\":\"relative\"},                        {\"responsive\": true}                    ).then(function(){\n",
              "                            \n",
              "var gd = document.getElementById('083a72e1-106c-425e-bcf4-e1cdd41c77fb');\n",
              "var x = new MutationObserver(function (mutations, observer) {{\n",
              "        var display = window.getComputedStyle(gd).display;\n",
              "        if (!display || display === 'none') {{\n",
              "            console.log([gd, 'removed!']);\n",
              "            Plotly.purge(gd);\n",
              "            observer.disconnect();\n",
              "        }}\n",
              "}});\n",
              "\n",
              "// Listen for the removal of the full notebook cells\n",
              "var notebookContainer = gd.closest('#notebook-container');\n",
              "if (notebookContainer) {{\n",
              "    x.observe(notebookContainer, {childList: true});\n",
              "}}\n",
              "\n",
              "// Listen for the clearing of the current output cell\n",
              "var outputEl = gd.closest('.output');\n",
              "if (outputEl) {{\n",
              "    x.observe(outputEl, {childList: true});\n",
              "}}\n",
              "\n",
              "                        })                };                            </script>        </div>\n",
              "</body>\n",
              "</html>"
            ]
          },
          "metadata": {}
        }
      ]
    },
    {
      "cell_type": "markdown",
      "source": [
        "#Conclusiones de los hashtags\n",
        "\n",
        "Los hashtags mas utilizados de la Kings League\n",
        "\n",
        "1. #Ridery\n",
        "2. #MotoRidery\n",
        "3. #Denuncia\n",
        "\n"
      ],
      "metadata": {
        "id": "8i8RCssyGrhh"
      }
    },
    {
      "cell_type": "code",
      "source": [
        "#Removemos caracteres que puedan afectar la prediccion del modelo\n",
        "dt['Tweet'] = dt['Tweet'].apply(nt.remove_hashtags)\n",
        "dt['Tweet'] = dt['Tweet'].apply(nt.remove_emojis)\n",
        "dt['Tweet'] = dt['Tweet'].apply(nt.remove_numbers)\n",
        "dt['Tweet'] = dt['Tweet'].apply(nt.remove_special_characters)\n",
        "dt['Tweet'] = dt['Tweet'].apply(nt.remove_urls)\n",
        "dt['Tweet'] = dt['Tweet'].apply(nt.remove_currency_symbols)\n",
        "dt['Tweet'] = dt['Tweet'].apply(nt.remove_userhandles)"
      ],
      "metadata": {
        "id": "drjNKnYftLHG"
      },
      "execution_count": 196,
      "outputs": []
    },
    {
      "cell_type": "code",
      "source": [
        "#Creamos una funcion para borrar caracteres especiales\n",
        "def clean_text(text):\n",
        "  text = re.sub(r'@[A-Za-z09]+', '', text)\n",
        "  text = re.sub(r'#', '', text)\n",
        "  text = re.sub(r'RT[\\s]+', '', text)\n",
        "  text = re.sub(r'https?:\\/\\/?', '', text)\n",
        "\n",
        "\n",
        "  return text\n",
        "\n",
        "dt['Tweet'] = dt['Tweet'].apply(clean_text)"
      ],
      "metadata": {
        "id": "MDta_Pf_taR7"
      },
      "execution_count": 197,
      "outputs": []
    },
    {
      "cell_type": "code",
      "source": [
        "#Creamos dos fuciones una para clacular el sentimiento y el otro para calcular la subjetividad\n",
        "def get_subjectivity(text):\n",
        "  return TextBlob(text).translate(from_lang=\"es\", to=\"en\").sentiment.subjectivity\n",
        "\n",
        "def get_polarity(text):\n",
        "  return TextBlob(text).translate(from_lang=\"es\", to=\"en\").sentiment.polarity"
      ],
      "metadata": {
        "id": "tvT5Np9Hvzex"
      },
      "execution_count": 198,
      "outputs": []
    },
    {
      "cell_type": "code",
      "source": [
        "dt['Subjectivity'] = dt['Tweet'].apply(get_subjectivity)"
      ],
      "metadata": {
        "id": "IOqbcu7exSsC"
      },
      "execution_count": 199,
      "outputs": []
    },
    {
      "cell_type": "code",
      "source": [
        "dt['Polarity'] = dt['Tweet'].apply(get_polarity)"
      ],
      "metadata": {
        "id": "cWWH4GXe4iE-"
      },
      "execution_count": 200,
      "outputs": []
    },
    {
      "cell_type": "code",
      "source": [
        "#Creamos una funcion que tome la polaridad y la procese como Positivo, Neutro o negativo\n",
        "def analysis(score):\n",
        "  if score < 0:\n",
        "    return 'Negative'\n",
        "  elif score == 0:\n",
        "     return 'Neutral'\n",
        "  elif score > 0:\n",
        "    return 'Positive'\n",
        "\n",
        "dt['Analysis'] = dt['Polarity'].apply(analysis)\n",
        "\n",
        "dt.head(800)"
      ],
      "metadata": {
        "id": "k2iqsaSZ8f8a",
        "colab": {
          "base_uri": "https://localhost:8080/",
          "height": 884
        },
        "outputId": "451c67eb-de65-4bf0-dcec-ba860b97f4af"
      },
      "execution_count": 201,
      "outputs": [
        {
          "output_type": "execute_result",
          "data": {
            "text/plain": [
              "                         Date  \\\n",
              "0   2023-02-12 20:03:36+00:00   \n",
              "1   2023-02-12 14:11:21+00:00   \n",
              "2   2023-02-12 13:48:58+00:00   \n",
              "3   2023-02-11 22:05:12+00:00   \n",
              "4   2023-02-11 22:02:08+00:00   \n",
              "..                        ...   \n",
              "795 2022-12-15 12:29:39+00:00   \n",
              "796 2022-12-15 03:12:53+00:00   \n",
              "797 2022-12-15 03:11:58+00:00   \n",
              "798 2022-12-15 02:58:36+00:00   \n",
              "799 2022-12-14 19:31:13+00:00   \n",
              "\n",
              "                                                 Tweet Hashtag  \\\n",
              "0                                 Soygordy RideryVzla        1   \n",
              "1    gordonesroo RideryVzla Mano acepto Pago Mvil e...       1   \n",
              "2    Yo todo el camino en mi moto ridery Diosito ay...       1   \n",
              "3                     EchoErGuevon RideryVzla Gracias        1   \n",
              "4    brendilu Hola Brenda Lemos que tuviste un inco...       1   \n",
              "..                                                 ...     ...   \n",
              "795  yordiarteaga RideryVzla Las ubicaciones de con...       1   \n",
              "796              Daniealbarranr RideryVzla Que cagada        1   \n",
              "797  thesunno RideryVzla Lo tuve que cancelar yo po...       1   \n",
              "798  Daniealbarranr RideryVzla Supongo que deberan ...       1   \n",
              "799  Daniealbarranr RideryVzla Verifican el caso pe...       1   \n",
              "\n",
              "           Username                                            Mention  \\\n",
              "0       gordonesroo  [https://twitter.com/Soygordy, https://twitter...   \n",
              "1          Soygordy  [https://twitter.com/gordonesroo, https://twit...   \n",
              "2     erikmargarita                   [https://twitter.com/RideryVzla]   \n",
              "3       gordonesroo  [https://twitter.com/EchoErGuevon, https://twi...   \n",
              "4        RideryVzla                     [https://twitter.com/brendilu]   \n",
              "..              ...                                                ...   \n",
              "795    lanzallanera  [https://twitter.com/yordiarteaga, https://twi...   \n",
              "796        thesunno  [https://twitter.com/Daniealbarranr, https://t...   \n",
              "797  Daniealbarranr  [https://twitter.com/thesunno, https://twitter...   \n",
              "798        thesunno  [https://twitter.com/Daniealbarranr, https://t...   \n",
              "799  elopezprojects  [https://twitter.com/Daniealbarranr, https://t...   \n",
              "\n",
              "                                          TokenMention Token  Subjectivity  \\\n",
              "0    https://twitter.com/Soygordy https://twitter.c...     1      0.000000   \n",
              "1    https://twitter.com/gordonesroo https://twitte...     1      0.800000   \n",
              "2                       https://twitter.com/RideryVzla     1      0.875000   \n",
              "3    https://twitter.com/EchoErGuevon https://twitt...     1      0.000000   \n",
              "4                         https://twitter.com/brendilu     1      0.433333   \n",
              "..                                                 ...   ...           ...   \n",
              "795  https://twitter.com/yordiarteaga https://twitt...     1      0.366667   \n",
              "796  https://twitter.com/Daniealbarranr https://twi...     1      0.800000   \n",
              "797  https://twitter.com/thesunno https://twitter.c...     1      0.000000   \n",
              "798  https://twitter.com/Daniealbarranr https://twi...     1      0.000000   \n",
              "799  https://twitter.com/Daniealbarranr https://twi...     1      0.000000   \n",
              "\n",
              "     Polarity  Analysis  \n",
              "0    0.000000   Neutral  \n",
              "1    0.600000  Positive  \n",
              "2   -0.500000  Negative  \n",
              "3    0.000000   Neutral  \n",
              "4    0.416667  Positive  \n",
              "..        ...       ...  \n",
              "795 -0.155556  Negative  \n",
              "796 -0.200000  Negative  \n",
              "797  0.000000   Neutral  \n",
              "798  0.000000   Neutral  \n",
              "799  0.000000   Neutral  \n",
              "\n",
              "[800 rows x 10 columns]"
            ],
            "text/html": [
              "\n",
              "  <div id=\"df-b0d2c555-0903-47f7-84c6-3bc52f154ace\">\n",
              "    <div class=\"colab-df-container\">\n",
              "      <div>\n",
              "<style scoped>\n",
              "    .dataframe tbody tr th:only-of-type {\n",
              "        vertical-align: middle;\n",
              "    }\n",
              "\n",
              "    .dataframe tbody tr th {\n",
              "        vertical-align: top;\n",
              "    }\n",
              "\n",
              "    .dataframe thead th {\n",
              "        text-align: right;\n",
              "    }\n",
              "</style>\n",
              "<table border=\"1\" class=\"dataframe\">\n",
              "  <thead>\n",
              "    <tr style=\"text-align: right;\">\n",
              "      <th></th>\n",
              "      <th>Date</th>\n",
              "      <th>Tweet</th>\n",
              "      <th>Hashtag</th>\n",
              "      <th>Username</th>\n",
              "      <th>Mention</th>\n",
              "      <th>TokenMention</th>\n",
              "      <th>Token</th>\n",
              "      <th>Subjectivity</th>\n",
              "      <th>Polarity</th>\n",
              "      <th>Analysis</th>\n",
              "    </tr>\n",
              "  </thead>\n",
              "  <tbody>\n",
              "    <tr>\n",
              "      <th>0</th>\n",
              "      <td>2023-02-12 20:03:36+00:00</td>\n",
              "      <td>Soygordy RideryVzla</td>\n",
              "      <td>1</td>\n",
              "      <td>gordonesroo</td>\n",
              "      <td>[https://twitter.com/Soygordy, https://twitter...</td>\n",
              "      <td>https://twitter.com/Soygordy https://twitter.c...</td>\n",
              "      <td>1</td>\n",
              "      <td>0.000000</td>\n",
              "      <td>0.000000</td>\n",
              "      <td>Neutral</td>\n",
              "    </tr>\n",
              "    <tr>\n",
              "      <th>1</th>\n",
              "      <td>2023-02-12 14:11:21+00:00</td>\n",
              "      <td>gordonesroo RideryVzla Mano acepto Pago Mvil e...</td>\n",
              "      <td>1</td>\n",
              "      <td>Soygordy</td>\n",
              "      <td>[https://twitter.com/gordonesroo, https://twit...</td>\n",
              "      <td>https://twitter.com/gordonesroo https://twitte...</td>\n",
              "      <td>1</td>\n",
              "      <td>0.800000</td>\n",
              "      <td>0.600000</td>\n",
              "      <td>Positive</td>\n",
              "    </tr>\n",
              "    <tr>\n",
              "      <th>2</th>\n",
              "      <td>2023-02-12 13:48:58+00:00</td>\n",
              "      <td>Yo todo el camino en mi moto ridery Diosito ay...</td>\n",
              "      <td>1</td>\n",
              "      <td>erikmargarita</td>\n",
              "      <td>[https://twitter.com/RideryVzla]</td>\n",
              "      <td>https://twitter.com/RideryVzla</td>\n",
              "      <td>1</td>\n",
              "      <td>0.875000</td>\n",
              "      <td>-0.500000</td>\n",
              "      <td>Negative</td>\n",
              "    </tr>\n",
              "    <tr>\n",
              "      <th>3</th>\n",
              "      <td>2023-02-11 22:05:12+00:00</td>\n",
              "      <td>EchoErGuevon RideryVzla Gracias</td>\n",
              "      <td>1</td>\n",
              "      <td>gordonesroo</td>\n",
              "      <td>[https://twitter.com/EchoErGuevon, https://twi...</td>\n",
              "      <td>https://twitter.com/EchoErGuevon https://twitt...</td>\n",
              "      <td>1</td>\n",
              "      <td>0.000000</td>\n",
              "      <td>0.000000</td>\n",
              "      <td>Neutral</td>\n",
              "    </tr>\n",
              "    <tr>\n",
              "      <th>4</th>\n",
              "      <td>2023-02-11 22:02:08+00:00</td>\n",
              "      <td>brendilu Hola Brenda Lemos que tuviste un inco...</td>\n",
              "      <td>1</td>\n",
              "      <td>RideryVzla</td>\n",
              "      <td>[https://twitter.com/brendilu]</td>\n",
              "      <td>https://twitter.com/brendilu</td>\n",
              "      <td>1</td>\n",
              "      <td>0.433333</td>\n",
              "      <td>0.416667</td>\n",
              "      <td>Positive</td>\n",
              "    </tr>\n",
              "    <tr>\n",
              "      <th>...</th>\n",
              "      <td>...</td>\n",
              "      <td>...</td>\n",
              "      <td>...</td>\n",
              "      <td>...</td>\n",
              "      <td>...</td>\n",
              "      <td>...</td>\n",
              "      <td>...</td>\n",
              "      <td>...</td>\n",
              "      <td>...</td>\n",
              "      <td>...</td>\n",
              "    </tr>\n",
              "    <tr>\n",
              "      <th>795</th>\n",
              "      <td>2022-12-15 12:29:39+00:00</td>\n",
              "      <td>yordiarteaga RideryVzla Las ubicaciones de con...</td>\n",
              "      <td>1</td>\n",
              "      <td>lanzallanera</td>\n",
              "      <td>[https://twitter.com/yordiarteaga, https://twi...</td>\n",
              "      <td>https://twitter.com/yordiarteaga https://twitt...</td>\n",
              "      <td>1</td>\n",
              "      <td>0.366667</td>\n",
              "      <td>-0.155556</td>\n",
              "      <td>Negative</td>\n",
              "    </tr>\n",
              "    <tr>\n",
              "      <th>796</th>\n",
              "      <td>2022-12-15 03:12:53+00:00</td>\n",
              "      <td>Daniealbarranr RideryVzla Que cagada</td>\n",
              "      <td>1</td>\n",
              "      <td>thesunno</td>\n",
              "      <td>[https://twitter.com/Daniealbarranr, https://t...</td>\n",
              "      <td>https://twitter.com/Daniealbarranr https://twi...</td>\n",
              "      <td>1</td>\n",
              "      <td>0.800000</td>\n",
              "      <td>-0.200000</td>\n",
              "      <td>Negative</td>\n",
              "    </tr>\n",
              "    <tr>\n",
              "      <th>797</th>\n",
              "      <td>2022-12-15 03:11:58+00:00</td>\n",
              "      <td>thesunno RideryVzla Lo tuve que cancelar yo po...</td>\n",
              "      <td>1</td>\n",
              "      <td>Daniealbarranr</td>\n",
              "      <td>[https://twitter.com/thesunno, https://twitter...</td>\n",
              "      <td>https://twitter.com/thesunno https://twitter.c...</td>\n",
              "      <td>1</td>\n",
              "      <td>0.000000</td>\n",
              "      <td>0.000000</td>\n",
              "      <td>Neutral</td>\n",
              "    </tr>\n",
              "    <tr>\n",
              "      <th>798</th>\n",
              "      <td>2022-12-15 02:58:36+00:00</td>\n",
              "      <td>Daniealbarranr RideryVzla Supongo que deberan ...</td>\n",
              "      <td>1</td>\n",
              "      <td>thesunno</td>\n",
              "      <td>[https://twitter.com/Daniealbarranr, https://t...</td>\n",
              "      <td>https://twitter.com/Daniealbarranr https://twi...</td>\n",
              "      <td>1</td>\n",
              "      <td>0.000000</td>\n",
              "      <td>0.000000</td>\n",
              "      <td>Neutral</td>\n",
              "    </tr>\n",
              "    <tr>\n",
              "      <th>799</th>\n",
              "      <td>2022-12-14 19:31:13+00:00</td>\n",
              "      <td>Daniealbarranr RideryVzla Verifican el caso pe...</td>\n",
              "      <td>1</td>\n",
              "      <td>elopezprojects</td>\n",
              "      <td>[https://twitter.com/Daniealbarranr, https://t...</td>\n",
              "      <td>https://twitter.com/Daniealbarranr https://twi...</td>\n",
              "      <td>1</td>\n",
              "      <td>0.000000</td>\n",
              "      <td>0.000000</td>\n",
              "      <td>Neutral</td>\n",
              "    </tr>\n",
              "  </tbody>\n",
              "</table>\n",
              "<p>800 rows × 10 columns</p>\n",
              "</div>\n",
              "      <button class=\"colab-df-convert\" onclick=\"convertToInteractive('df-b0d2c555-0903-47f7-84c6-3bc52f154ace')\"\n",
              "              title=\"Convert this dataframe to an interactive table.\"\n",
              "              style=\"display:none;\">\n",
              "        \n",
              "  <svg xmlns=\"http://www.w3.org/2000/svg\" height=\"24px\"viewBox=\"0 0 24 24\"\n",
              "       width=\"24px\">\n",
              "    <path d=\"M0 0h24v24H0V0z\" fill=\"none\"/>\n",
              "    <path d=\"M18.56 5.44l.94 2.06.94-2.06 2.06-.94-2.06-.94-.94-2.06-.94 2.06-2.06.94zm-11 1L8.5 8.5l.94-2.06 2.06-.94-2.06-.94L8.5 2.5l-.94 2.06-2.06.94zm10 10l.94 2.06.94-2.06 2.06-.94-2.06-.94-.94-2.06-.94 2.06-2.06.94z\"/><path d=\"M17.41 7.96l-1.37-1.37c-.4-.4-.92-.59-1.43-.59-.52 0-1.04.2-1.43.59L10.3 9.45l-7.72 7.72c-.78.78-.78 2.05 0 2.83L4 21.41c.39.39.9.59 1.41.59.51 0 1.02-.2 1.41-.59l7.78-7.78 2.81-2.81c.8-.78.8-2.07 0-2.86zM5.41 20L4 18.59l7.72-7.72 1.47 1.35L5.41 20z\"/>\n",
              "  </svg>\n",
              "      </button>\n",
              "      \n",
              "  <style>\n",
              "    .colab-df-container {\n",
              "      display:flex;\n",
              "      flex-wrap:wrap;\n",
              "      gap: 12px;\n",
              "    }\n",
              "\n",
              "    .colab-df-convert {\n",
              "      background-color: #E8F0FE;\n",
              "      border: none;\n",
              "      border-radius: 50%;\n",
              "      cursor: pointer;\n",
              "      display: none;\n",
              "      fill: #1967D2;\n",
              "      height: 32px;\n",
              "      padding: 0 0 0 0;\n",
              "      width: 32px;\n",
              "    }\n",
              "\n",
              "    .colab-df-convert:hover {\n",
              "      background-color: #E2EBFA;\n",
              "      box-shadow: 0px 1px 2px rgba(60, 64, 67, 0.3), 0px 1px 3px 1px rgba(60, 64, 67, 0.15);\n",
              "      fill: #174EA6;\n",
              "    }\n",
              "\n",
              "    [theme=dark] .colab-df-convert {\n",
              "      background-color: #3B4455;\n",
              "      fill: #D2E3FC;\n",
              "    }\n",
              "\n",
              "    [theme=dark] .colab-df-convert:hover {\n",
              "      background-color: #434B5C;\n",
              "      box-shadow: 0px 1px 3px 1px rgba(0, 0, 0, 0.15);\n",
              "      filter: drop-shadow(0px 1px 2px rgba(0, 0, 0, 0.3));\n",
              "      fill: #FFFFFF;\n",
              "    }\n",
              "  </style>\n",
              "\n",
              "      <script>\n",
              "        const buttonEl =\n",
              "          document.querySelector('#df-b0d2c555-0903-47f7-84c6-3bc52f154ace button.colab-df-convert');\n",
              "        buttonEl.style.display =\n",
              "          google.colab.kernel.accessAllowed ? 'block' : 'none';\n",
              "\n",
              "        async function convertToInteractive(key) {\n",
              "          const element = document.querySelector('#df-b0d2c555-0903-47f7-84c6-3bc52f154ace');\n",
              "          const dataTable =\n",
              "            await google.colab.kernel.invokeFunction('convertToInteractive',\n",
              "                                                     [key], {});\n",
              "          if (!dataTable) return;\n",
              "\n",
              "          const docLinkHtml = 'Like what you see? Visit the ' +\n",
              "            '<a target=\"_blank\" href=https://colab.research.google.com/notebooks/data_table.ipynb>data table notebook</a>'\n",
              "            + ' to learn more about interactive tables.';\n",
              "          element.innerHTML = '';\n",
              "          dataTable['output_type'] = 'display_data';\n",
              "          await google.colab.output.renderOutput(dataTable, element);\n",
              "          const docLink = document.createElement('div');\n",
              "          docLink.innerHTML = docLinkHtml;\n",
              "          element.appendChild(docLink);\n",
              "        }\n",
              "      </script>\n",
              "    </div>\n",
              "  </div>\n",
              "  "
            ]
          },
          "metadata": {},
          "execution_count": 201
        }
      ]
    },
    {
      "cell_type": "code",
      "source": [
        "count = dt['Analysis'].value_counts()\n",
        "count"
      ],
      "metadata": {
        "colab": {
          "base_uri": "https://localhost:8080/"
        },
        "id": "whuJ0pP6Cx8A",
        "outputId": "e2716f39-17c2-43fa-865b-c37605c848b8"
      },
      "execution_count": 202,
      "outputs": [
        {
          "output_type": "execute_result",
          "data": {
            "text/plain": [
              "Neutral     492\n",
              "Positive    381\n",
              "Negative    127\n",
              "Name: Analysis, dtype: int64"
            ]
          },
          "metadata": {},
          "execution_count": 202
        }
      ]
    },
    {
      "cell_type": "code",
      "source": [
        "#Graficamos la polaridad\n",
        "fig = px.scatter(dt, y=dt['Polarity'])\n",
        "fig.show()"
      ],
      "metadata": {
        "colab": {
          "base_uri": "https://localhost:8080/",
          "height": 542
        },
        "id": "g7Vy-c8iBEEx",
        "outputId": "3f1146ed-5847-46a4-96fb-d05d68f1b49e"
      },
      "execution_count": 203,
      "outputs": [
        {
          "output_type": "display_data",
          "data": {
            "text/html": [
              "<html>\n",
              "<head><meta charset=\"utf-8\" /></head>\n",
              "<body>\n",
              "    <div>            <script src=\"https://cdnjs.cloudflare.com/ajax/libs/mathjax/2.7.5/MathJax.js?config=TeX-AMS-MML_SVG\"></script><script type=\"text/javascript\">if (window.MathJax) {MathJax.Hub.Config({SVG: {font: \"STIX-Web\"}});}</script>                <script type=\"text/javascript\">window.PlotlyConfig = {MathJaxConfig: 'local'};</script>\n",
              "        <script src=\"https://cdn.plot.ly/plotly-2.8.3.min.js\"></script>                <div id=\"6dd46518-9908-440a-8dd4-97640bf300c8\" class=\"plotly-graph-div\" style=\"height:525px; width:100%;\"></div>            <script type=\"text/javascript\">                                    window.PLOTLYENV=window.PLOTLYENV || {};                                    if (document.getElementById(\"6dd46518-9908-440a-8dd4-97640bf300c8\")) {                    Plotly.newPlot(                        \"6dd46518-9908-440a-8dd4-97640bf300c8\",                        [{\"hovertemplate\":\"index=%{x}<br>Polarity=%{y}<extra></extra>\",\"legendgroup\":\"\",\"marker\":{\"color\":\"#636efa\",\"symbol\":\"circle\"},\"mode\":\"markers\",\"name\":\"\",\"orientation\":\"v\",\"showlegend\":false,\"x\":[0,1,2,3,4,5,6,7,8,9,10,11,12,13,14,15,16,17,18,19,20,21,22,23,24,25,26,27,28,29,30,31,32,33,34,35,36,37,38,39,40,41,42,43,44,45,46,47,48,49,50,51,52,53,54,55,56,57,58,59,60,61,62,63,64,65,66,67,68,69,70,71,72,73,74,75,76,77,78,79,80,81,82,83,84,85,86,87,88,89,90,91,92,93,94,95,96,97,98,99,100,101,102,103,104,105,106,107,108,109,110,111,112,113,114,115,116,117,118,119,120,121,122,123,124,125,126,127,128,129,130,131,132,133,134,135,136,137,138,139,140,141,142,143,144,145,146,147,148,149,150,151,152,153,154,155,156,157,158,159,160,161,162,163,164,165,166,167,168,169,170,171,172,173,174,175,176,177,178,179,180,181,182,183,184,185,186,187,188,189,190,191,192,193,194,195,196,197,198,199,200,201,202,203,204,205,206,207,208,209,210,211,212,213,214,215,216,217,218,219,220,221,222,223,224,225,226,227,228,229,230,231,232,233,234,235,236,237,238,239,240,241,242,243,244,245,246,247,248,249,250,251,252,253,254,255,256,257,258,259,260,261,262,263,264,265,266,267,268,269,270,271,272,273,274,275,276,277,278,279,280,281,282,283,284,285,286,287,288,289,290,291,292,293,294,295,296,297,298,299,300,301,302,303,304,305,306,307,308,309,310,311,312,313,314,315,316,317,318,319,320,321,322,323,324,325,326,327,328,329,330,331,332,333,334,335,336,337,338,339,340,341,342,343,344,345,346,347,348,349,350,351,352,353,354,355,356,357,358,359,360,361,362,363,364,365,366,367,368,369,370,371,372,373,374,375,376,377,378,379,380,381,382,383,384,385,386,387,388,389,390,391,392,393,394,395,396,397,398,399,400,401,402,403,404,405,406,407,408,409,410,411,412,413,414,415,416,417,418,419,420,421,422,423,424,425,426,427,428,429,430,431,432,433,434,435,436,437,438,439,440,441,442,443,444,445,446,447,448,449,450,451,452,453,454,455,456,457,458,459,460,461,462,463,464,465,466,467,468,469,470,471,472,473,474,475,476,477,478,479,480,481,482,483,484,485,486,487,488,489,490,491,492,493,494,495,496,497,498,499,500,501,502,503,504,505,506,507,508,509,510,511,512,513,514,515,516,517,518,519,520,521,522,523,524,525,526,527,528,529,530,531,532,533,534,535,536,537,538,539,540,541,542,543,544,545,546,547,548,549,550,551,552,553,554,555,556,557,558,559,560,561,562,563,564,565,566,567,568,569,570,571,572,573,574,575,576,577,578,579,580,581,582,583,584,585,586,587,588,589,590,591,592,593,594,595,596,597,598,599,600,601,602,603,604,605,606,607,608,609,610,611,612,613,614,615,616,617,618,619,620,621,622,623,624,625,626,627,628,629,630,631,632,633,634,635,636,637,638,639,640,641,642,643,644,645,646,647,648,649,650,651,652,653,654,655,656,657,658,659,660,661,662,663,664,665,666,667,668,669,670,671,672,673,674,675,676,677,678,679,680,681,682,683,684,685,686,687,688,689,690,691,692,693,694,695,696,697,698,699,700,701,702,703,704,705,706,707,708,709,710,711,712,713,714,715,716,717,718,719,720,721,722,723,724,725,726,727,728,729,730,731,732,733,734,735,736,737,738,739,740,741,742,743,744,745,746,747,748,749,750,751,752,753,754,755,756,757,758,759,760,761,762,763,764,765,766,767,768,769,770,771,772,773,774,775,776,777,778,779,780,781,782,783,784,785,786,787,788,789,790,791,792,793,794,795,796,797,798,799,800,801,802,803,804,805,806,807,808,809,810,811,812,813,814,815,816,817,818,819,820,821,822,823,824,825,826,827,828,829,830,831,832,833,834,835,836,837,838,839,840,841,842,843,844,845,846,847,848,849,850,851,852,853,854,855,856,857,858,859,860,861,862,863,864,865,866,867,868,869,870,871,872,873,874,875,876,877,878,879,880,881,882,883,884,885,886,887,888,889,890,891,892,893,894,895,896,897,898,899,900,901,902,903,904,905,906,907,908,909,910,911,912,913,914,915,916,917,918,919,920,921,922,923,924,925,926,927,928,929,930,931,932,933,934,935,936,937,938,939,940,941,942,943,944,945,946,947,948,949,950,951,952,953,954,955,956,957,958,959,960,961,962,963,964,965,966,967,968,969,970,971,972,973,974,975,976,977,978,979,980,981,982,983,984,985,986,987,988,989,990,991,992,993,994,995,996,997,998,999],\"xaxis\":\"x\",\"y\":[0.0,0.6,-0.5,0.0,0.4166666666666667,0.4666666666666666,0.0,0.0,0.0,0.17500000000000002,1.0,0.0,0.0,0.5,0.35,0.0,0.10000000000000002,0.0,0.475,0.0,0.0,0.05000000000000002,-0.3125,0.0,0.3181818181818182,0.09375,0.44999999999999996,0.0,0.0,0.05,0.3333333333333333,0.0,0.0,0.0,0.0,-0.23571428571428563,0.2,0.2,0.0,-0.1,0.2,0.0,0.25,0.0,0.0,0.175,0.0,-0.18181818181818182,0.0,0.0,0.2,0.0,0.0,0.26,0.0,0.0,0.0,0.35,0.0,0.0,0.8,0.2708333333333333,0.125,0.0,0.0,0.0,0.03409090909090909,0.1,0.0,-0.05,0.0,0.0,0.16666666666666666,0.0,-0.125,0.0,-0.05000000000000001,0.0,-1.0,0.13666666666666666,0.0,-0.0125,-0.15625,0.0,0.0,1.0,0.0,0.9099999999999999,0.6499999999999999,0.0,0.0,0.0,0.0,-0.06818181818181818,0.5111111111111111,0.4,1.0,0.0,0.0,0.0,0.2,0.3181818181818182,0.0,-0.5,0.0,0.0,0.0,0.45,0.0,0.0,0.2,0.0,0.0,0.0,0.0,0.5,0.5,0.0,0.10499999999999998,0.10000000000000002,0.0,0.06666666666666667,0.1,0.3181818181818182,0.06666666666666667,0.0,0.0,0.0,0.0,0.39999999999999997,0.19999999999999998,0.0,0.35,0.1,0.8,0.0,0.06666666666666667,0.5777777777777778,0.2857142857142857,0.0,-0.1,0.012499999999999997,0.0,-0.3,-1.0,0.0,0.0,0.0,0.0,0.0,0.0,0.0,0.11000000000000001,0.2,0.20892857142857144,0.21428571428571427,0.0,0.0,0.0,0.6,0.30000000000000004,0.0,0.05454545454545454,0.2702380952380953,-0.2,0.2,0.0,0.0,-0.06145833333333334,-0.6549999999999999,-0.022222222222222216,-0.32499999999999996,-0.04166666666666666,0.0,0.0,0.0,0.0,0.043181818181818175,0.10714285714285714,-0.65,0.0,0.0,0.26,0.0,0.13749999999999998,0.16666666666666669,0.11250000000000002,-0.6999999999999998,-0.05555555555555555,0.15,0.0,0.2148148148148148,-0.03000000000000001,0.0,0.0,-0.181875,0.6,-0.16666666666666666,0.1,0.0,0.0,0.0,0.35,0.0,0.09999999999999999,0.3,0.0,0.0,0.13,0.0,0.13636363636363635,0.0,-0.10000000000000002,0.35,0.16818181818181818,0.2,0.5,0.0,0.0,0.0,0.38888888888888884,-0.5,0.0,0.23484848484848483,0.0,0.0,0.0,0.0,-0.1,0.0,0.0,0.15000000000000002,0.0,0.15,0.0,0.0,0.0,0.2,0.0,0.18055555555555555,0.0,1.0,0.0,1.0,0.2,0.13333333333333333,0.0,0.0,0.0,0.04444444444444443,0.0,0.7749999999999999,0.0,0.0,0.0,0.5,0.0,0.5,-0.6999999999999998,0.0,0.0,0.0,0.7,-0.9099999999999998,0.0,0.45,0.15000000000000002,-0.15,0.1,0.0,0.0,0.2,0.0,0.13333333333333333,-0.6999999999999998,0.13636363636363635,0.4,0.13333333333333333,0.0,-0.7,0.5,0.4,0.35,-0.06666666666666667,0.07749999999999999,0.0,0.0,0.0,-0.6999999999999998,1.0,0.2,0.43333333333333335,0.0,0.5,0.0,0.45,5.551115123125783e-17,0.0,0.0,0.29833333333333334,0.0,-0.2,0.0,0.0,0.0,0.0,0.0,0.6,0.0,-0.1,0.0,0.0,0.5,0.18333333333333335,-0.13333333333333333,0.0,0.0,0.0,0.4666666666666667,0.0,0.0,0.0,0.2,0.0,0.0,0.0,0.3444444444444444,0.2,0.39999999999999997,0.25,0.0,0.4333333333333333,0.10000000000000002,-0.3,0.375,0.0,0.101010101010101,0.0,0.0,0.25,0.25,0.0,0.4,1.0,0.0,0.2814285714285714,0.0,-0.08333333333333333,0.05,0.0,0.0,0.0,0.10833333333333334,0.4,0.0,0.0,0.08750000000000001,0.2,0.0,0.625,0.0,0.0,0.0,0.25,0.0,0.15333333333333332,0.0,-0.3958333333333333,1.0,0.0,-0.06818181818181818,0.25,-0.17499999999999996,0.0,0.25,0.0,0.0,-0.4999999999999999,0.0,0.1875,0.0,0.7,0.375,-0.03125,0.25,-0.5,0.0,0.0,0.4,-0.5,0.0,0.0,0.0,-0.36666666666666664,0.35,0.2857142857142857,0.5,0.26666666666666666,0.21428571428571427,-0.34,0.0,0.0,0.5,0.2,0.12333333333333334,0.0,0.21428571428571427,0.25,0.0,-0.3333333333333333,0.3333333333333333,0.30000000000000004,0.0,0.2,0.5,0.0,-0.30000000000000004,0.5,-0.25,0.7,0.0,0.0,0.0,0.0,0.0,0.0,0.5,0.6,0.31666666666666665,0.2,0.425,0.0,0.0,0.5,0.5,-0.4,0.20000000000000004,0.0,0.0,0.0,0.0,0.0,0.0,-0.5,-0.01190476190476191,0.0,0.375,0.0,-0.19999999999999998,1.0,0.0,0.1,0.04545454545454545,0.515,0.5681818181818181,0.0,0.9099999999999999,0.0,0.2,0.0,0.0,0.5,0.0,0.0,0.35,1.0,0.1,0.12878787878787878,0.13636363636363635,0.0,-0.0625,0.0,-0.0125,0.0,0.0,0.11666666666666668,-0.16666666666666666,0.0,0.40625,0.0,0.27777777777777773,0.25,0.3422619047619047,0.0,0.0,0.0,0.0,0.0,0.0,0.0,0.0,0.0,0.7,0.4,0.0,0.5,0.0,0.0,0.0,0.0,0.3854166666666667,0.0,0.0,0.375,0.0,0.0,0.0,0.75,0.0,0.0,0.25,0.3333333333333333,0.0,0.0,0.0,0.2857142857142857,0.4,0.0,0.5,0.0,0.2,0.0,0.0,0.4,0.25,0.1,0.0,0.5,0.0,0.5,0.35,0.3,0.0,0.3,0.35,0.0,0.0,0.6,0.0,-0.2,0.0,0.06666666666666667,-0.17499999999999996,0.0,0.0875,0.5,0.0,0.0,0.0,0.0,0.0,0.0,0.0,0.19999999999999998,0.2,0.4,0.5,0.0,0.1,-0.3,0.0,-0.35,0.35,0.15625,0.5,-0.22499999999999998,-0.19999999999999998,0.3333333333333333,0.0,0.0,0.2,0.0,0.4,0.175,0.0,0.3333333333333333,-0.125,0.9,0.0,0.2,0.2,0.0,0.0,0.0,-1.0,0.0,0.0,-0.2,0.0,0.0,-0.8,0.0,-0.2,-0.6,-0.3,0.425,-0.32,0.2333333333333333,0.0,0.0,0.0,-0.375,0.3,0.0,0.0,0.0,0.0,0.4,0.1875,0.38,1.0,0.0,0.49999999999999994,0.16666666666666666,0.0,0.5,-0.2,0.0,0.25,-0.16666666666666666,0.0,0.0,-0.3,0.0,0.0,0.0,0.0,-0.475,0.4666666666666666,0.3,0.1,0.0,-0.16666666666666666,0.2,0.0,0.0,0.4,0.0,-0.3,0.1,0.0,-0.13333333333333333,0.0,0.8,0.0,0.0,0.5,0.0,0.5,0.6,0.44999999999999996,0.26,1.0,0.0,0.25,-0.3,0.0,0.0,0.0,0.0,0.9,0.0,0.85,0.0,0.0,0.0,0.2,0.39999999999999997,0.16818181818181818,0.0,0.2,0.24285714285714285,0.0,0.78,0.0,0.7250000000000001,0.0,-0.325,0.0,0.2,0.0,0.0,0.0,0.044444444444444446,0.2,0.0,0.0,0.0,0.0,0.5,0.0,0.0,0.0,0.0,-0.13333333333333336,0.4000000000000001,0.0,0.0,0.0,0.0,0.0,-0.13333333333333333,0.0,0.0,0.125,0.27976190476190477,0.0,0.0,0.0,0.5,0.4,-0.2555555555555555,0.5,-0.125,-0.15555555555555556,-0.20833333333333331,0.0,0.0,0.1,-0.275,0.0,0.2666666666666666,-0.5,-0.19999999999999996,-0.09615384615384615,0.5,0.0,0.0,0.0,0.0,0.35,0.31666666666666665,0.0,0.0,0.0,0.1,0.0,0.05,0.0,0.0,0.0,0.0,0.0,0.5,0.0,0.44000000000000006,0.25,0.1,-0.2,-0.028124999999999997,0.0,0.0,0.0,0.2,0.2,0.05,0.0,0.0,0.0,-0.125,0.0,0.0,0.0,0.0,0.0,0.0,0.0,0.0,0.25,0.0,0.0,0.024999999999999994,0.12878787878787878,0.45714285714285713,0.25,0.0,0.0,-0.30000000000000004,0.0,0.0,0.5,0.05,0.0,0.2,0.0,0.0,0.0,0.0,0.0,0.2,0.21,-0.1499999999999999,0.5,0.25,0.0,-0.15555555555555559,-0.2,0.0,0.0,0.0,0.11818181818181818,0.5,0.1,0.0,0.0,0.0,0.4,0.1,0.08125,0.09999999999999999,-0.18749999999999997,0.44999999999999996,0.26666666666666666,0.0,0.11111111111111112,0.125,0.4,0.0,0.0,0.3375,0.5333333333333333,0.0,0.0,0.0,0.7,0.0,0.0,0.0,0.0,-0.125,-0.1,0.0,0.0,-0.1,0.5,0.16666666666666666,0.2125,0.0,0.0,0.5,0.05222222222222221,0.0,0.10000000000000002,0.0,0.0,0.0,0.30000000000000004,-0.2333333333333333,0.0,0.1,0.1,0.5,-0.44999999999999996,0.02777777777777778,0.7,0.0,0.0,0.0,-0.03968253968253968,0.7,0.0,0.0,0.45,0.4,0.0,0.7,0.26666666666666666,1.0,0.3333333333333333,-0.3,0.0,0.2,0.0,0.0,0.0,0.0,0.0,-0.05,0.0,0.2,0.0,0.0,0.0,0.0,0.175,1.0,0.5,0.0,0.045,0.0,0.0,0.10000000000000002,0.08333333333333333,0.0,0.0,0.4125,0.15,0.0,0.0,0.0,-0.2878787878787879,0.0,0.0,0.0,0.0,-0.06666666666666667,0.0,0.0,0.5,0.0,0.0,-0.1875,0.0,0.0,0.0,0.0,0.9,0.0,1.0,-0.25,0.0,0.0,0.3,0.0,0.5,0.0,0.0,0.175,0.0,0.0,0.0,0.09375,0.16666666666666666,0.8,-1.0,0.8,0.0,0.5333333333333333,0.5,0.195,0.0,-0.1,0.625,0.0,0.0,-0.3,1.0,0.0,0.3696428571428572,-0.21666666666666667,-0.5,0.0,0.0,0.0,0.33333333333333337,0.1,0.0,0.0,0.2,0.5,0.0,0.012121212121212116,0.0,0.0,0.0,0.32499999999999996,0.0,0.0,0.0,-0.09999999999999992,0.0,-0.05,0.0,0.0,0.2,0.35,0.0,0.0,0.0,0.0,0.0,0.0,-0.05,0.0,0.0,0.0,0.0,0.0,-0.09999999999999992,0.39999999999999997,-1.0,0.6,0.5,0.0,0.0,0.0,0.10000000000000002,0.5,0.2,-0.012499999999999997],\"yaxis\":\"y\",\"type\":\"scatter\"}],                        {\"template\":{\"data\":{\"bar\":[{\"error_x\":{\"color\":\"#2a3f5f\"},\"error_y\":{\"color\":\"#2a3f5f\"},\"marker\":{\"line\":{\"color\":\"#E5ECF6\",\"width\":0.5},\"pattern\":{\"fillmode\":\"overlay\",\"size\":10,\"solidity\":0.2}},\"type\":\"bar\"}],\"barpolar\":[{\"marker\":{\"line\":{\"color\":\"#E5ECF6\",\"width\":0.5},\"pattern\":{\"fillmode\":\"overlay\",\"size\":10,\"solidity\":0.2}},\"type\":\"barpolar\"}],\"carpet\":[{\"aaxis\":{\"endlinecolor\":\"#2a3f5f\",\"gridcolor\":\"white\",\"linecolor\":\"white\",\"minorgridcolor\":\"white\",\"startlinecolor\":\"#2a3f5f\"},\"baxis\":{\"endlinecolor\":\"#2a3f5f\",\"gridcolor\":\"white\",\"linecolor\":\"white\",\"minorgridcolor\":\"white\",\"startlinecolor\":\"#2a3f5f\"},\"type\":\"carpet\"}],\"choropleth\":[{\"colorbar\":{\"outlinewidth\":0,\"ticks\":\"\"},\"type\":\"choropleth\"}],\"contour\":[{\"colorbar\":{\"outlinewidth\":0,\"ticks\":\"\"},\"colorscale\":[[0.0,\"#0d0887\"],[0.1111111111111111,\"#46039f\"],[0.2222222222222222,\"#7201a8\"],[0.3333333333333333,\"#9c179e\"],[0.4444444444444444,\"#bd3786\"],[0.5555555555555556,\"#d8576b\"],[0.6666666666666666,\"#ed7953\"],[0.7777777777777778,\"#fb9f3a\"],[0.8888888888888888,\"#fdca26\"],[1.0,\"#f0f921\"]],\"type\":\"contour\"}],\"contourcarpet\":[{\"colorbar\":{\"outlinewidth\":0,\"ticks\":\"\"},\"type\":\"contourcarpet\"}],\"heatmap\":[{\"colorbar\":{\"outlinewidth\":0,\"ticks\":\"\"},\"colorscale\":[[0.0,\"#0d0887\"],[0.1111111111111111,\"#46039f\"],[0.2222222222222222,\"#7201a8\"],[0.3333333333333333,\"#9c179e\"],[0.4444444444444444,\"#bd3786\"],[0.5555555555555556,\"#d8576b\"],[0.6666666666666666,\"#ed7953\"],[0.7777777777777778,\"#fb9f3a\"],[0.8888888888888888,\"#fdca26\"],[1.0,\"#f0f921\"]],\"type\":\"heatmap\"}],\"heatmapgl\":[{\"colorbar\":{\"outlinewidth\":0,\"ticks\":\"\"},\"colorscale\":[[0.0,\"#0d0887\"],[0.1111111111111111,\"#46039f\"],[0.2222222222222222,\"#7201a8\"],[0.3333333333333333,\"#9c179e\"],[0.4444444444444444,\"#bd3786\"],[0.5555555555555556,\"#d8576b\"],[0.6666666666666666,\"#ed7953\"],[0.7777777777777778,\"#fb9f3a\"],[0.8888888888888888,\"#fdca26\"],[1.0,\"#f0f921\"]],\"type\":\"heatmapgl\"}],\"histogram\":[{\"marker\":{\"pattern\":{\"fillmode\":\"overlay\",\"size\":10,\"solidity\":0.2}},\"type\":\"histogram\"}],\"histogram2d\":[{\"colorbar\":{\"outlinewidth\":0,\"ticks\":\"\"},\"colorscale\":[[0.0,\"#0d0887\"],[0.1111111111111111,\"#46039f\"],[0.2222222222222222,\"#7201a8\"],[0.3333333333333333,\"#9c179e\"],[0.4444444444444444,\"#bd3786\"],[0.5555555555555556,\"#d8576b\"],[0.6666666666666666,\"#ed7953\"],[0.7777777777777778,\"#fb9f3a\"],[0.8888888888888888,\"#fdca26\"],[1.0,\"#f0f921\"]],\"type\":\"histogram2d\"}],\"histogram2dcontour\":[{\"colorbar\":{\"outlinewidth\":0,\"ticks\":\"\"},\"colorscale\":[[0.0,\"#0d0887\"],[0.1111111111111111,\"#46039f\"],[0.2222222222222222,\"#7201a8\"],[0.3333333333333333,\"#9c179e\"],[0.4444444444444444,\"#bd3786\"],[0.5555555555555556,\"#d8576b\"],[0.6666666666666666,\"#ed7953\"],[0.7777777777777778,\"#fb9f3a\"],[0.8888888888888888,\"#fdca26\"],[1.0,\"#f0f921\"]],\"type\":\"histogram2dcontour\"}],\"mesh3d\":[{\"colorbar\":{\"outlinewidth\":0,\"ticks\":\"\"},\"type\":\"mesh3d\"}],\"parcoords\":[{\"line\":{\"colorbar\":{\"outlinewidth\":0,\"ticks\":\"\"}},\"type\":\"parcoords\"}],\"pie\":[{\"automargin\":true,\"type\":\"pie\"}],\"scatter\":[{\"marker\":{\"colorbar\":{\"outlinewidth\":0,\"ticks\":\"\"}},\"type\":\"scatter\"}],\"scatter3d\":[{\"line\":{\"colorbar\":{\"outlinewidth\":0,\"ticks\":\"\"}},\"marker\":{\"colorbar\":{\"outlinewidth\":0,\"ticks\":\"\"}},\"type\":\"scatter3d\"}],\"scattercarpet\":[{\"marker\":{\"colorbar\":{\"outlinewidth\":0,\"ticks\":\"\"}},\"type\":\"scattercarpet\"}],\"scattergeo\":[{\"marker\":{\"colorbar\":{\"outlinewidth\":0,\"ticks\":\"\"}},\"type\":\"scattergeo\"}],\"scattergl\":[{\"marker\":{\"colorbar\":{\"outlinewidth\":0,\"ticks\":\"\"}},\"type\":\"scattergl\"}],\"scattermapbox\":[{\"marker\":{\"colorbar\":{\"outlinewidth\":0,\"ticks\":\"\"}},\"type\":\"scattermapbox\"}],\"scatterpolar\":[{\"marker\":{\"colorbar\":{\"outlinewidth\":0,\"ticks\":\"\"}},\"type\":\"scatterpolar\"}],\"scatterpolargl\":[{\"marker\":{\"colorbar\":{\"outlinewidth\":0,\"ticks\":\"\"}},\"type\":\"scatterpolargl\"}],\"scatterternary\":[{\"marker\":{\"colorbar\":{\"outlinewidth\":0,\"ticks\":\"\"}},\"type\":\"scatterternary\"}],\"surface\":[{\"colorbar\":{\"outlinewidth\":0,\"ticks\":\"\"},\"colorscale\":[[0.0,\"#0d0887\"],[0.1111111111111111,\"#46039f\"],[0.2222222222222222,\"#7201a8\"],[0.3333333333333333,\"#9c179e\"],[0.4444444444444444,\"#bd3786\"],[0.5555555555555556,\"#d8576b\"],[0.6666666666666666,\"#ed7953\"],[0.7777777777777778,\"#fb9f3a\"],[0.8888888888888888,\"#fdca26\"],[1.0,\"#f0f921\"]],\"type\":\"surface\"}],\"table\":[{\"cells\":{\"fill\":{\"color\":\"#EBF0F8\"},\"line\":{\"color\":\"white\"}},\"header\":{\"fill\":{\"color\":\"#C8D4E3\"},\"line\":{\"color\":\"white\"}},\"type\":\"table\"}]},\"layout\":{\"annotationdefaults\":{\"arrowcolor\":\"#2a3f5f\",\"arrowhead\":0,\"arrowwidth\":1},\"autotypenumbers\":\"strict\",\"coloraxis\":{\"colorbar\":{\"outlinewidth\":0,\"ticks\":\"\"}},\"colorscale\":{\"diverging\":[[0,\"#8e0152\"],[0.1,\"#c51b7d\"],[0.2,\"#de77ae\"],[0.3,\"#f1b6da\"],[0.4,\"#fde0ef\"],[0.5,\"#f7f7f7\"],[0.6,\"#e6f5d0\"],[0.7,\"#b8e186\"],[0.8,\"#7fbc41\"],[0.9,\"#4d9221\"],[1,\"#276419\"]],\"sequential\":[[0.0,\"#0d0887\"],[0.1111111111111111,\"#46039f\"],[0.2222222222222222,\"#7201a8\"],[0.3333333333333333,\"#9c179e\"],[0.4444444444444444,\"#bd3786\"],[0.5555555555555556,\"#d8576b\"],[0.6666666666666666,\"#ed7953\"],[0.7777777777777778,\"#fb9f3a\"],[0.8888888888888888,\"#fdca26\"],[1.0,\"#f0f921\"]],\"sequentialminus\":[[0.0,\"#0d0887\"],[0.1111111111111111,\"#46039f\"],[0.2222222222222222,\"#7201a8\"],[0.3333333333333333,\"#9c179e\"],[0.4444444444444444,\"#bd3786\"],[0.5555555555555556,\"#d8576b\"],[0.6666666666666666,\"#ed7953\"],[0.7777777777777778,\"#fb9f3a\"],[0.8888888888888888,\"#fdca26\"],[1.0,\"#f0f921\"]]},\"colorway\":[\"#636efa\",\"#EF553B\",\"#00cc96\",\"#ab63fa\",\"#FFA15A\",\"#19d3f3\",\"#FF6692\",\"#B6E880\",\"#FF97FF\",\"#FECB52\"],\"font\":{\"color\":\"#2a3f5f\"},\"geo\":{\"bgcolor\":\"white\",\"lakecolor\":\"white\",\"landcolor\":\"#E5ECF6\",\"showlakes\":true,\"showland\":true,\"subunitcolor\":\"white\"},\"hoverlabel\":{\"align\":\"left\"},\"hovermode\":\"closest\",\"mapbox\":{\"style\":\"light\"},\"paper_bgcolor\":\"white\",\"plot_bgcolor\":\"#E5ECF6\",\"polar\":{\"angularaxis\":{\"gridcolor\":\"white\",\"linecolor\":\"white\",\"ticks\":\"\"},\"bgcolor\":\"#E5ECF6\",\"radialaxis\":{\"gridcolor\":\"white\",\"linecolor\":\"white\",\"ticks\":\"\"}},\"scene\":{\"xaxis\":{\"backgroundcolor\":\"#E5ECF6\",\"gridcolor\":\"white\",\"gridwidth\":2,\"linecolor\":\"white\",\"showbackground\":true,\"ticks\":\"\",\"zerolinecolor\":\"white\"},\"yaxis\":{\"backgroundcolor\":\"#E5ECF6\",\"gridcolor\":\"white\",\"gridwidth\":2,\"linecolor\":\"white\",\"showbackground\":true,\"ticks\":\"\",\"zerolinecolor\":\"white\"},\"zaxis\":{\"backgroundcolor\":\"#E5ECF6\",\"gridcolor\":\"white\",\"gridwidth\":2,\"linecolor\":\"white\",\"showbackground\":true,\"ticks\":\"\",\"zerolinecolor\":\"white\"}},\"shapedefaults\":{\"line\":{\"color\":\"#2a3f5f\"}},\"ternary\":{\"aaxis\":{\"gridcolor\":\"white\",\"linecolor\":\"white\",\"ticks\":\"\"},\"baxis\":{\"gridcolor\":\"white\",\"linecolor\":\"white\",\"ticks\":\"\"},\"bgcolor\":\"#E5ECF6\",\"caxis\":{\"gridcolor\":\"white\",\"linecolor\":\"white\",\"ticks\":\"\"}},\"title\":{\"x\":0.05},\"xaxis\":{\"automargin\":true,\"gridcolor\":\"white\",\"linecolor\":\"white\",\"ticks\":\"\",\"title\":{\"standoff\":15},\"zerolinecolor\":\"white\",\"zerolinewidth\":2},\"yaxis\":{\"automargin\":true,\"gridcolor\":\"white\",\"linecolor\":\"white\",\"ticks\":\"\",\"title\":{\"standoff\":15},\"zerolinecolor\":\"white\",\"zerolinewidth\":2}}},\"xaxis\":{\"anchor\":\"y\",\"domain\":[0.0,1.0],\"title\":{\"text\":\"index\"}},\"yaxis\":{\"anchor\":\"x\",\"domain\":[0.0,1.0],\"title\":{\"text\":\"Polarity\"}},\"legend\":{\"tracegroupgap\":0},\"margin\":{\"t\":60}},                        {\"responsive\": true}                    ).then(function(){\n",
              "                            \n",
              "var gd = document.getElementById('6dd46518-9908-440a-8dd4-97640bf300c8');\n",
              "var x = new MutationObserver(function (mutations, observer) {{\n",
              "        var display = window.getComputedStyle(gd).display;\n",
              "        if (!display || display === 'none') {{\n",
              "            console.log([gd, 'removed!']);\n",
              "            Plotly.purge(gd);\n",
              "            observer.disconnect();\n",
              "        }}\n",
              "}});\n",
              "\n",
              "// Listen for the removal of the full notebook cells\n",
              "var notebookContainer = gd.closest('#notebook-container');\n",
              "if (notebookContainer) {{\n",
              "    x.observe(notebookContainer, {childList: true});\n",
              "}}\n",
              "\n",
              "// Listen for the clearing of the current output cell\n",
              "var outputEl = gd.closest('.output');\n",
              "if (outputEl) {{\n",
              "    x.observe(outputEl, {childList: true});\n",
              "}}\n",
              "\n",
              "                        })                };                            </script>        </div>\n",
              "</body>\n",
              "</html>"
            ]
          },
          "metadata": {}
        }
      ]
    },
    {
      "cell_type": "code",
      "source": [
        "fig = px.bar(count, title=\"Sentimientos de los tweets de la kings league jornada 6\", color=['red','blue','green'])\n",
        "fig.show()"
      ],
      "metadata": {
        "colab": {
          "base_uri": "https://localhost:8080/",
          "height": 542
        },
        "id": "AwAXj_66CnK5",
        "outputId": "e4bd827d-c9a8-40b9-d8a0-23c86581519c"
      },
      "execution_count": 204,
      "outputs": [
        {
          "output_type": "display_data",
          "data": {
            "text/html": [
              "<html>\n",
              "<head><meta charset=\"utf-8\" /></head>\n",
              "<body>\n",
              "    <div>            <script src=\"https://cdnjs.cloudflare.com/ajax/libs/mathjax/2.7.5/MathJax.js?config=TeX-AMS-MML_SVG\"></script><script type=\"text/javascript\">if (window.MathJax) {MathJax.Hub.Config({SVG: {font: \"STIX-Web\"}});}</script>                <script type=\"text/javascript\">window.PlotlyConfig = {MathJaxConfig: 'local'};</script>\n",
              "        <script src=\"https://cdn.plot.ly/plotly-2.8.3.min.js\"></script>                <div id=\"e99bc5f1-64e1-4e78-8da5-6bfa5828c25e\" class=\"plotly-graph-div\" style=\"height:525px; width:100%;\"></div>            <script type=\"text/javascript\">                                    window.PLOTLYENV=window.PLOTLYENV || {};                                    if (document.getElementById(\"e99bc5f1-64e1-4e78-8da5-6bfa5828c25e\")) {                    Plotly.newPlot(                        \"e99bc5f1-64e1-4e78-8da5-6bfa5828c25e\",                        [{\"alignmentgroup\":\"True\",\"hovertemplate\":\"color=red<br>index=%{x}<br>value=%{y}<extra></extra>\",\"legendgroup\":\"red\",\"marker\":{\"color\":\"#636efa\",\"pattern\":{\"shape\":\"\"}},\"name\":\"red\",\"offsetgroup\":\"red\",\"orientation\":\"v\",\"showlegend\":true,\"textposition\":\"auto\",\"x\":[\"Neutral\"],\"xaxis\":\"x\",\"y\":[492],\"yaxis\":\"y\",\"type\":\"bar\"},{\"alignmentgroup\":\"True\",\"hovertemplate\":\"color=blue<br>index=%{x}<br>value=%{y}<extra></extra>\",\"legendgroup\":\"blue\",\"marker\":{\"color\":\"#EF553B\",\"pattern\":{\"shape\":\"\"}},\"name\":\"blue\",\"offsetgroup\":\"blue\",\"orientation\":\"v\",\"showlegend\":true,\"textposition\":\"auto\",\"x\":[\"Positive\"],\"xaxis\":\"x\",\"y\":[381],\"yaxis\":\"y\",\"type\":\"bar\"},{\"alignmentgroup\":\"True\",\"hovertemplate\":\"color=green<br>index=%{x}<br>value=%{y}<extra></extra>\",\"legendgroup\":\"green\",\"marker\":{\"color\":\"#00cc96\",\"pattern\":{\"shape\":\"\"}},\"name\":\"green\",\"offsetgroup\":\"green\",\"orientation\":\"v\",\"showlegend\":true,\"textposition\":\"auto\",\"x\":[\"Negative\"],\"xaxis\":\"x\",\"y\":[127],\"yaxis\":\"y\",\"type\":\"bar\"}],                        {\"template\":{\"data\":{\"bar\":[{\"error_x\":{\"color\":\"#2a3f5f\"},\"error_y\":{\"color\":\"#2a3f5f\"},\"marker\":{\"line\":{\"color\":\"#E5ECF6\",\"width\":0.5},\"pattern\":{\"fillmode\":\"overlay\",\"size\":10,\"solidity\":0.2}},\"type\":\"bar\"}],\"barpolar\":[{\"marker\":{\"line\":{\"color\":\"#E5ECF6\",\"width\":0.5},\"pattern\":{\"fillmode\":\"overlay\",\"size\":10,\"solidity\":0.2}},\"type\":\"barpolar\"}],\"carpet\":[{\"aaxis\":{\"endlinecolor\":\"#2a3f5f\",\"gridcolor\":\"white\",\"linecolor\":\"white\",\"minorgridcolor\":\"white\",\"startlinecolor\":\"#2a3f5f\"},\"baxis\":{\"endlinecolor\":\"#2a3f5f\",\"gridcolor\":\"white\",\"linecolor\":\"white\",\"minorgridcolor\":\"white\",\"startlinecolor\":\"#2a3f5f\"},\"type\":\"carpet\"}],\"choropleth\":[{\"colorbar\":{\"outlinewidth\":0,\"ticks\":\"\"},\"type\":\"choropleth\"}],\"contour\":[{\"colorbar\":{\"outlinewidth\":0,\"ticks\":\"\"},\"colorscale\":[[0.0,\"#0d0887\"],[0.1111111111111111,\"#46039f\"],[0.2222222222222222,\"#7201a8\"],[0.3333333333333333,\"#9c179e\"],[0.4444444444444444,\"#bd3786\"],[0.5555555555555556,\"#d8576b\"],[0.6666666666666666,\"#ed7953\"],[0.7777777777777778,\"#fb9f3a\"],[0.8888888888888888,\"#fdca26\"],[1.0,\"#f0f921\"]],\"type\":\"contour\"}],\"contourcarpet\":[{\"colorbar\":{\"outlinewidth\":0,\"ticks\":\"\"},\"type\":\"contourcarpet\"}],\"heatmap\":[{\"colorbar\":{\"outlinewidth\":0,\"ticks\":\"\"},\"colorscale\":[[0.0,\"#0d0887\"],[0.1111111111111111,\"#46039f\"],[0.2222222222222222,\"#7201a8\"],[0.3333333333333333,\"#9c179e\"],[0.4444444444444444,\"#bd3786\"],[0.5555555555555556,\"#d8576b\"],[0.6666666666666666,\"#ed7953\"],[0.7777777777777778,\"#fb9f3a\"],[0.8888888888888888,\"#fdca26\"],[1.0,\"#f0f921\"]],\"type\":\"heatmap\"}],\"heatmapgl\":[{\"colorbar\":{\"outlinewidth\":0,\"ticks\":\"\"},\"colorscale\":[[0.0,\"#0d0887\"],[0.1111111111111111,\"#46039f\"],[0.2222222222222222,\"#7201a8\"],[0.3333333333333333,\"#9c179e\"],[0.4444444444444444,\"#bd3786\"],[0.5555555555555556,\"#d8576b\"],[0.6666666666666666,\"#ed7953\"],[0.7777777777777778,\"#fb9f3a\"],[0.8888888888888888,\"#fdca26\"],[1.0,\"#f0f921\"]],\"type\":\"heatmapgl\"}],\"histogram\":[{\"marker\":{\"pattern\":{\"fillmode\":\"overlay\",\"size\":10,\"solidity\":0.2}},\"type\":\"histogram\"}],\"histogram2d\":[{\"colorbar\":{\"outlinewidth\":0,\"ticks\":\"\"},\"colorscale\":[[0.0,\"#0d0887\"],[0.1111111111111111,\"#46039f\"],[0.2222222222222222,\"#7201a8\"],[0.3333333333333333,\"#9c179e\"],[0.4444444444444444,\"#bd3786\"],[0.5555555555555556,\"#d8576b\"],[0.6666666666666666,\"#ed7953\"],[0.7777777777777778,\"#fb9f3a\"],[0.8888888888888888,\"#fdca26\"],[1.0,\"#f0f921\"]],\"type\":\"histogram2d\"}],\"histogram2dcontour\":[{\"colorbar\":{\"outlinewidth\":0,\"ticks\":\"\"},\"colorscale\":[[0.0,\"#0d0887\"],[0.1111111111111111,\"#46039f\"],[0.2222222222222222,\"#7201a8\"],[0.3333333333333333,\"#9c179e\"],[0.4444444444444444,\"#bd3786\"],[0.5555555555555556,\"#d8576b\"],[0.6666666666666666,\"#ed7953\"],[0.7777777777777778,\"#fb9f3a\"],[0.8888888888888888,\"#fdca26\"],[1.0,\"#f0f921\"]],\"type\":\"histogram2dcontour\"}],\"mesh3d\":[{\"colorbar\":{\"outlinewidth\":0,\"ticks\":\"\"},\"type\":\"mesh3d\"}],\"parcoords\":[{\"line\":{\"colorbar\":{\"outlinewidth\":0,\"ticks\":\"\"}},\"type\":\"parcoords\"}],\"pie\":[{\"automargin\":true,\"type\":\"pie\"}],\"scatter\":[{\"marker\":{\"colorbar\":{\"outlinewidth\":0,\"ticks\":\"\"}},\"type\":\"scatter\"}],\"scatter3d\":[{\"line\":{\"colorbar\":{\"outlinewidth\":0,\"ticks\":\"\"}},\"marker\":{\"colorbar\":{\"outlinewidth\":0,\"ticks\":\"\"}},\"type\":\"scatter3d\"}],\"scattercarpet\":[{\"marker\":{\"colorbar\":{\"outlinewidth\":0,\"ticks\":\"\"}},\"type\":\"scattercarpet\"}],\"scattergeo\":[{\"marker\":{\"colorbar\":{\"outlinewidth\":0,\"ticks\":\"\"}},\"type\":\"scattergeo\"}],\"scattergl\":[{\"marker\":{\"colorbar\":{\"outlinewidth\":0,\"ticks\":\"\"}},\"type\":\"scattergl\"}],\"scattermapbox\":[{\"marker\":{\"colorbar\":{\"outlinewidth\":0,\"ticks\":\"\"}},\"type\":\"scattermapbox\"}],\"scatterpolar\":[{\"marker\":{\"colorbar\":{\"outlinewidth\":0,\"ticks\":\"\"}},\"type\":\"scatterpolar\"}],\"scatterpolargl\":[{\"marker\":{\"colorbar\":{\"outlinewidth\":0,\"ticks\":\"\"}},\"type\":\"scatterpolargl\"}],\"scatterternary\":[{\"marker\":{\"colorbar\":{\"outlinewidth\":0,\"ticks\":\"\"}},\"type\":\"scatterternary\"}],\"surface\":[{\"colorbar\":{\"outlinewidth\":0,\"ticks\":\"\"},\"colorscale\":[[0.0,\"#0d0887\"],[0.1111111111111111,\"#46039f\"],[0.2222222222222222,\"#7201a8\"],[0.3333333333333333,\"#9c179e\"],[0.4444444444444444,\"#bd3786\"],[0.5555555555555556,\"#d8576b\"],[0.6666666666666666,\"#ed7953\"],[0.7777777777777778,\"#fb9f3a\"],[0.8888888888888888,\"#fdca26\"],[1.0,\"#f0f921\"]],\"type\":\"surface\"}],\"table\":[{\"cells\":{\"fill\":{\"color\":\"#EBF0F8\"},\"line\":{\"color\":\"white\"}},\"header\":{\"fill\":{\"color\":\"#C8D4E3\"},\"line\":{\"color\":\"white\"}},\"type\":\"table\"}]},\"layout\":{\"annotationdefaults\":{\"arrowcolor\":\"#2a3f5f\",\"arrowhead\":0,\"arrowwidth\":1},\"autotypenumbers\":\"strict\",\"coloraxis\":{\"colorbar\":{\"outlinewidth\":0,\"ticks\":\"\"}},\"colorscale\":{\"diverging\":[[0,\"#8e0152\"],[0.1,\"#c51b7d\"],[0.2,\"#de77ae\"],[0.3,\"#f1b6da\"],[0.4,\"#fde0ef\"],[0.5,\"#f7f7f7\"],[0.6,\"#e6f5d0\"],[0.7,\"#b8e186\"],[0.8,\"#7fbc41\"],[0.9,\"#4d9221\"],[1,\"#276419\"]],\"sequential\":[[0.0,\"#0d0887\"],[0.1111111111111111,\"#46039f\"],[0.2222222222222222,\"#7201a8\"],[0.3333333333333333,\"#9c179e\"],[0.4444444444444444,\"#bd3786\"],[0.5555555555555556,\"#d8576b\"],[0.6666666666666666,\"#ed7953\"],[0.7777777777777778,\"#fb9f3a\"],[0.8888888888888888,\"#fdca26\"],[1.0,\"#f0f921\"]],\"sequentialminus\":[[0.0,\"#0d0887\"],[0.1111111111111111,\"#46039f\"],[0.2222222222222222,\"#7201a8\"],[0.3333333333333333,\"#9c179e\"],[0.4444444444444444,\"#bd3786\"],[0.5555555555555556,\"#d8576b\"],[0.6666666666666666,\"#ed7953\"],[0.7777777777777778,\"#fb9f3a\"],[0.8888888888888888,\"#fdca26\"],[1.0,\"#f0f921\"]]},\"colorway\":[\"#636efa\",\"#EF553B\",\"#00cc96\",\"#ab63fa\",\"#FFA15A\",\"#19d3f3\",\"#FF6692\",\"#B6E880\",\"#FF97FF\",\"#FECB52\"],\"font\":{\"color\":\"#2a3f5f\"},\"geo\":{\"bgcolor\":\"white\",\"lakecolor\":\"white\",\"landcolor\":\"#E5ECF6\",\"showlakes\":true,\"showland\":true,\"subunitcolor\":\"white\"},\"hoverlabel\":{\"align\":\"left\"},\"hovermode\":\"closest\",\"mapbox\":{\"style\":\"light\"},\"paper_bgcolor\":\"white\",\"plot_bgcolor\":\"#E5ECF6\",\"polar\":{\"angularaxis\":{\"gridcolor\":\"white\",\"linecolor\":\"white\",\"ticks\":\"\"},\"bgcolor\":\"#E5ECF6\",\"radialaxis\":{\"gridcolor\":\"white\",\"linecolor\":\"white\",\"ticks\":\"\"}},\"scene\":{\"xaxis\":{\"backgroundcolor\":\"#E5ECF6\",\"gridcolor\":\"white\",\"gridwidth\":2,\"linecolor\":\"white\",\"showbackground\":true,\"ticks\":\"\",\"zerolinecolor\":\"white\"},\"yaxis\":{\"backgroundcolor\":\"#E5ECF6\",\"gridcolor\":\"white\",\"gridwidth\":2,\"linecolor\":\"white\",\"showbackground\":true,\"ticks\":\"\",\"zerolinecolor\":\"white\"},\"zaxis\":{\"backgroundcolor\":\"#E5ECF6\",\"gridcolor\":\"white\",\"gridwidth\":2,\"linecolor\":\"white\",\"showbackground\":true,\"ticks\":\"\",\"zerolinecolor\":\"white\"}},\"shapedefaults\":{\"line\":{\"color\":\"#2a3f5f\"}},\"ternary\":{\"aaxis\":{\"gridcolor\":\"white\",\"linecolor\":\"white\",\"ticks\":\"\"},\"baxis\":{\"gridcolor\":\"white\",\"linecolor\":\"white\",\"ticks\":\"\"},\"bgcolor\":\"#E5ECF6\",\"caxis\":{\"gridcolor\":\"white\",\"linecolor\":\"white\",\"ticks\":\"\"}},\"title\":{\"x\":0.05},\"xaxis\":{\"automargin\":true,\"gridcolor\":\"white\",\"linecolor\":\"white\",\"ticks\":\"\",\"title\":{\"standoff\":15},\"zerolinecolor\":\"white\",\"zerolinewidth\":2},\"yaxis\":{\"automargin\":true,\"gridcolor\":\"white\",\"linecolor\":\"white\",\"ticks\":\"\",\"title\":{\"standoff\":15},\"zerolinecolor\":\"white\",\"zerolinewidth\":2}}},\"xaxis\":{\"anchor\":\"y\",\"domain\":[0.0,1.0],\"title\":{\"text\":\"index\"}},\"yaxis\":{\"anchor\":\"x\",\"domain\":[0.0,1.0],\"title\":{\"text\":\"value\"}},\"legend\":{\"title\":{\"text\":\"color\"},\"tracegroupgap\":0},\"title\":{\"text\":\"Sentimientos de los tweets de la kings league jornada 6\"},\"barmode\":\"relative\"},                        {\"responsive\": true}                    ).then(function(){\n",
              "                            \n",
              "var gd = document.getElementById('e99bc5f1-64e1-4e78-8da5-6bfa5828c25e');\n",
              "var x = new MutationObserver(function (mutations, observer) {{\n",
              "        var display = window.getComputedStyle(gd).display;\n",
              "        if (!display || display === 'none') {{\n",
              "            console.log([gd, 'removed!']);\n",
              "            Plotly.purge(gd);\n",
              "            observer.disconnect();\n",
              "        }}\n",
              "}});\n",
              "\n",
              "// Listen for the removal of the full notebook cells\n",
              "var notebookContainer = gd.closest('#notebook-container');\n",
              "if (notebookContainer) {{\n",
              "    x.observe(notebookContainer, {childList: true});\n",
              "}}\n",
              "\n",
              "// Listen for the clearing of the current output cell\n",
              "var outputEl = gd.closest('.output');\n",
              "if (outputEl) {{\n",
              "    x.observe(outputEl, {childList: true});\n",
              "}}\n",
              "\n",
              "                        })                };                            </script>        </div>\n",
              "</body>\n",
              "</html>"
            ]
          },
          "metadata": {}
        }
      ]
    },
    {
      "cell_type": "markdown",
      "source": [
        "#Conclusiones de el analisis de emociones\n",
        "\n",
        "Podemos concluir que hay mas comentarios negativos que positivos pero lo que mas se resalta es los comentarios neutros con una alta diferencia.\n",
        "\n",
        "\n",
        "1. Neutrales : 492\n",
        "2. Positivo: 381\n",
        "3. Negativos : 127\n"
      ],
      "metadata": {
        "id": "bOR-adLIHjCD"
      }
    },
    {
      "cell_type": "code",
      "source": [
        "# Creamos tres sets de datos con los diferentes tipos de comentarios\n",
        "positive_tweet = dt[dt['Analysis'] == 'Positive']\n",
        "neutral_tweet = dt[dt['Analysis'] == 'Neutral']\n",
        "negative_tweet = dt[dt['Analysis'] == 'Negative']"
      ],
      "metadata": {
        "id": "Ieoq4aT-Dpb8"
      },
      "execution_count": 205,
      "outputs": []
    },
    {
      "cell_type": "code",
      "source": [
        "print(stopwords.words('spanish'))"
      ],
      "metadata": {
        "colab": {
          "base_uri": "https://localhost:8080/"
        },
        "id": "sz3HakrS7s13",
        "outputId": "bb63dadf-2cdd-4787-93d1-4ba16f017064"
      },
      "execution_count": 206,
      "outputs": [
        {
          "output_type": "stream",
          "name": "stdout",
          "text": [
            "['de', 'la', 'que', 'el', 'en', 'y', 'a', 'los', 'del', 'se', 'las', 'por', 'un', 'para', 'con', 'no', 'una', 'su', 'al', 'lo', 'como', 'más', 'pero', 'sus', 'le', 'ya', 'o', 'este', 'sí', 'porque', 'esta', 'entre', 'cuando', 'muy', 'sin', 'sobre', 'también', 'me', 'hasta', 'hay', 'donde', 'quien', 'desde', 'todo', 'nos', 'durante', 'todos', 'uno', 'les', 'ni', 'contra', 'otros', 'ese', 'eso', 'ante', 'ellos', 'e', 'esto', 'mí', 'antes', 'algunos', 'qué', 'unos', 'yo', 'otro', 'otras', 'otra', 'él', 'tanto', 'esa', 'estos', 'mucho', 'quienes', 'nada', 'muchos', 'cual', 'poco', 'ella', 'estar', 'estas', 'algunas', 'algo', 'nosotros', 'mi', 'mis', 'tú', 'te', 'ti', 'tu', 'tus', 'ellas', 'nosotras', 'vosotros', 'vosotras', 'os', 'mío', 'mía', 'míos', 'mías', 'tuyo', 'tuya', 'tuyos', 'tuyas', 'suyo', 'suya', 'suyos', 'suyas', 'nuestro', 'nuestra', 'nuestros', 'nuestras', 'vuestro', 'vuestra', 'vuestros', 'vuestras', 'esos', 'esas', 'estoy', 'estás', 'está', 'estamos', 'estáis', 'están', 'esté', 'estés', 'estemos', 'estéis', 'estén', 'estaré', 'estarás', 'estará', 'estaremos', 'estaréis', 'estarán', 'estaría', 'estarías', 'estaríamos', 'estaríais', 'estarían', 'estaba', 'estabas', 'estábamos', 'estabais', 'estaban', 'estuve', 'estuviste', 'estuvo', 'estuvimos', 'estuvisteis', 'estuvieron', 'estuviera', 'estuvieras', 'estuviéramos', 'estuvierais', 'estuvieran', 'estuviese', 'estuvieses', 'estuviésemos', 'estuvieseis', 'estuviesen', 'estando', 'estado', 'estada', 'estados', 'estadas', 'estad', 'he', 'has', 'ha', 'hemos', 'habéis', 'han', 'haya', 'hayas', 'hayamos', 'hayáis', 'hayan', 'habré', 'habrás', 'habrá', 'habremos', 'habréis', 'habrán', 'habría', 'habrías', 'habríamos', 'habríais', 'habrían', 'había', 'habías', 'habíamos', 'habíais', 'habían', 'hube', 'hubiste', 'hubo', 'hubimos', 'hubisteis', 'hubieron', 'hubiera', 'hubieras', 'hubiéramos', 'hubierais', 'hubieran', 'hubiese', 'hubieses', 'hubiésemos', 'hubieseis', 'hubiesen', 'habiendo', 'habido', 'habida', 'habidos', 'habidas', 'soy', 'eres', 'es', 'somos', 'sois', 'son', 'sea', 'seas', 'seamos', 'seáis', 'sean', 'seré', 'serás', 'será', 'seremos', 'seréis', 'serán', 'sería', 'serías', 'seríamos', 'seríais', 'serían', 'era', 'eras', 'éramos', 'erais', 'eran', 'fui', 'fuiste', 'fue', 'fuimos', 'fuisteis', 'fueron', 'fuera', 'fueras', 'fuéramos', 'fuerais', 'fueran', 'fuese', 'fueses', 'fuésemos', 'fueseis', 'fuesen', 'sintiendo', 'sentido', 'sentida', 'sentidos', 'sentidas', 'siente', 'sentid', 'tengo', 'tienes', 'tiene', 'tenemos', 'tenéis', 'tienen', 'tenga', 'tengas', 'tengamos', 'tengáis', 'tengan', 'tendré', 'tendrás', 'tendrá', 'tendremos', 'tendréis', 'tendrán', 'tendría', 'tendrías', 'tendríamos', 'tendríais', 'tendrían', 'tenía', 'tenías', 'teníamos', 'teníais', 'tenían', 'tuve', 'tuviste', 'tuvo', 'tuvimos', 'tuvisteis', 'tuvieron', 'tuviera', 'tuvieras', 'tuviéramos', 'tuvierais', 'tuvieran', 'tuviese', 'tuvieses', 'tuviésemos', 'tuvieseis', 'tuviesen', 'teniendo', 'tenido', 'tenida', 'tenidos', 'tenidas', 'tened']\n"
          ]
        }
      ]
    },
    {
      "cell_type": "code",
      "source": [
        "#Eliminamos las preposiciones, adverbios y adjetivos\n",
        "def textdrop(text):\n",
        "\n",
        "  sw = stopwords.words('spanish')\n",
        "\n",
        "  text = [word.lower() for word in text.split() if word.lower() not in sw]\n",
        "\n",
        "  return \" \".join(text)"
      ],
      "metadata": {
        "id": "WZj84QNy7v_A"
      },
      "execution_count": 207,
      "outputs": []
    },
    {
      "cell_type": "code",
      "source": [
        "positive_tweet['Tweet'] = positive_tweet['Tweet'].apply(textdrop)\n",
        "neutral_tweet['Tweet'] = neutral_tweet['Tweet'].apply(textdrop)\n",
        "negative_tweet['Tweet'] = negative_tweet['Tweet'].apply(textdrop)"
      ],
      "metadata": {
        "id": "T4SixBD17zFP"
      },
      "execution_count": null,
      "outputs": []
    },
    {
      "cell_type": "code",
      "source": [
        "tokenPositive = positive_tweet['Tweet']\n",
        "tokenNeutral = neutral_tweet['Tweet']\n",
        "tokenNegative = negative_tweet['Tweet']"
      ],
      "metadata": {
        "id": "TeDeNcms76t_"
      },
      "execution_count": 209,
      "outputs": []
    },
    {
      "cell_type": "code",
      "source": [
        "#Tokenizamos los tweets\n",
        "pos_tokens = [token for line in tokenPositive  for token in line.split()]\n",
        "neut_tokens = [token for line in tokenNeutral  for token in line.split()]\n",
        "neg_tokens = [token for line in tokenNegative  for token in line.split()]"
      ],
      "metadata": {
        "id": "IVYN9w3I79u3"
      },
      "execution_count": 210,
      "outputs": []
    },
    {
      "cell_type": "code",
      "source": [
        "word_pos = get_tokens(pos_tokens)\n",
        "word_neu = get_tokens(neut_tokens)\n",
        "word_neg = get_tokens(neg_tokens)"
      ],
      "metadata": {
        "id": "Y6TlueZK8Buj"
      },
      "execution_count": 211,
      "outputs": []
    },
    {
      "cell_type": "code",
      "source": [
        "word_neu"
      ],
      "metadata": {
        "id": "pLhHJA8rEGvQ"
      },
      "execution_count": null,
      "outputs": []
    },
    {
      "cell_type": "code",
      "source": [
        "#Creamos 3 sets de datos con las palabras y el contador \n",
        "pos_df = pd.DataFrame(word_pos.items(),columns=['words','scores'])\n",
        "neut_df = pd.DataFrame(word_neu.items(),columns=['words','scores'])\n",
        "neg_df = pd.DataFrame(word_neg.items(),columns=['words','scores'])"
      ],
      "metadata": {
        "id": "Yikm6Zy68F9_"
      },
      "execution_count": 213,
      "outputs": []
    },
    {
      "cell_type": "code",
      "source": [
        "fig = px.bar(data, title=\"Palabras mas usadas en los tweets positivos de Ridery\",x=pos_df['words'], y=pos_df['scores'])\n",
        "fig.show()"
      ],
      "metadata": {
        "colab": {
          "base_uri": "https://localhost:8080/",
          "height": 542
        },
        "id": "bx8Tv9mR8JXn",
        "outputId": "c57dacf9-c561-4434-81df-e21b64a22e28"
      },
      "execution_count": 214,
      "outputs": [
        {
          "output_type": "display_data",
          "data": {
            "text/html": [
              "<html>\n",
              "<head><meta charset=\"utf-8\" /></head>\n",
              "<body>\n",
              "    <div>            <script src=\"https://cdnjs.cloudflare.com/ajax/libs/mathjax/2.7.5/MathJax.js?config=TeX-AMS-MML_SVG\"></script><script type=\"text/javascript\">if (window.MathJax) {MathJax.Hub.Config({SVG: {font: \"STIX-Web\"}});}</script>                <script type=\"text/javascript\">window.PlotlyConfig = {MathJaxConfig: 'local'};</script>\n",
              "        <script src=\"https://cdn.plot.ly/plotly-2.8.3.min.js\"></script>                <div id=\"4af45196-dfdf-417e-8a28-ec13dffb3f13\" class=\"plotly-graph-div\" style=\"height:525px; width:100%;\"></div>            <script type=\"text/javascript\">                                    window.PLOTLYENV=window.PLOTLYENV || {};                                    if (document.getElementById(\"4af45196-dfdf-417e-8a28-ec13dffb3f13\")) {                    Plotly.newPlot(                        \"4af45196-dfdf-417e-8a28-ec13dffb3f13\",                        [{\"alignmentgroup\":\"True\",\"hovertemplate\":\"x=%{x}<br>y=%{y}<extra></extra>\",\"legendgroup\":\"\",\"marker\":{\"color\":\"#636efa\",\"pattern\":{\"shape\":\"\"}},\"name\":\"\",\"offsetgroup\":\"\",\"orientation\":\"v\",\"showlegend\":false,\"textposition\":\"auto\",\"x\":[\"rideryvzla\",\"ms\",\"ridery\",\"gracias\",\"si\",\"app\",\"conductores\",\"hola\",\"servicio\",\"qu\",\"mejor\",\"q\",\"est\",\"conductor\",\"viaje\",\"yummyridesvzla\",\"rcamachovzla\",\"seguridad\",\"as\",\"rider\",\"solo\",\"dm\",\"hoy\",\"da\",\"verdad\",\"experiencia\",\"estn\",\"puedes\",\"caso\",\"esisaacf\",\"pago\",\"ocurri\",\"usar\",\"vez\",\"aplicacin\",\"tipo\",\"s\",\"ao\",\"jrhg\",\"tiempo\"],\"xaxis\":\"x\",\"y\":[281,64,60,47,46,41,34,33,33,30,24,24,23,22,21,21,21,18,17,16,16,15,15,15,15,14,13,13,13,13,12,12,12,12,12,12,12,12,12,11],\"yaxis\":\"y\",\"type\":\"bar\"}],                        {\"template\":{\"data\":{\"bar\":[{\"error_x\":{\"color\":\"#2a3f5f\"},\"error_y\":{\"color\":\"#2a3f5f\"},\"marker\":{\"line\":{\"color\":\"#E5ECF6\",\"width\":0.5},\"pattern\":{\"fillmode\":\"overlay\",\"size\":10,\"solidity\":0.2}},\"type\":\"bar\"}],\"barpolar\":[{\"marker\":{\"line\":{\"color\":\"#E5ECF6\",\"width\":0.5},\"pattern\":{\"fillmode\":\"overlay\",\"size\":10,\"solidity\":0.2}},\"type\":\"barpolar\"}],\"carpet\":[{\"aaxis\":{\"endlinecolor\":\"#2a3f5f\",\"gridcolor\":\"white\",\"linecolor\":\"white\",\"minorgridcolor\":\"white\",\"startlinecolor\":\"#2a3f5f\"},\"baxis\":{\"endlinecolor\":\"#2a3f5f\",\"gridcolor\":\"white\",\"linecolor\":\"white\",\"minorgridcolor\":\"white\",\"startlinecolor\":\"#2a3f5f\"},\"type\":\"carpet\"}],\"choropleth\":[{\"colorbar\":{\"outlinewidth\":0,\"ticks\":\"\"},\"type\":\"choropleth\"}],\"contour\":[{\"colorbar\":{\"outlinewidth\":0,\"ticks\":\"\"},\"colorscale\":[[0.0,\"#0d0887\"],[0.1111111111111111,\"#46039f\"],[0.2222222222222222,\"#7201a8\"],[0.3333333333333333,\"#9c179e\"],[0.4444444444444444,\"#bd3786\"],[0.5555555555555556,\"#d8576b\"],[0.6666666666666666,\"#ed7953\"],[0.7777777777777778,\"#fb9f3a\"],[0.8888888888888888,\"#fdca26\"],[1.0,\"#f0f921\"]],\"type\":\"contour\"}],\"contourcarpet\":[{\"colorbar\":{\"outlinewidth\":0,\"ticks\":\"\"},\"type\":\"contourcarpet\"}],\"heatmap\":[{\"colorbar\":{\"outlinewidth\":0,\"ticks\":\"\"},\"colorscale\":[[0.0,\"#0d0887\"],[0.1111111111111111,\"#46039f\"],[0.2222222222222222,\"#7201a8\"],[0.3333333333333333,\"#9c179e\"],[0.4444444444444444,\"#bd3786\"],[0.5555555555555556,\"#d8576b\"],[0.6666666666666666,\"#ed7953\"],[0.7777777777777778,\"#fb9f3a\"],[0.8888888888888888,\"#fdca26\"],[1.0,\"#f0f921\"]],\"type\":\"heatmap\"}],\"heatmapgl\":[{\"colorbar\":{\"outlinewidth\":0,\"ticks\":\"\"},\"colorscale\":[[0.0,\"#0d0887\"],[0.1111111111111111,\"#46039f\"],[0.2222222222222222,\"#7201a8\"],[0.3333333333333333,\"#9c179e\"],[0.4444444444444444,\"#bd3786\"],[0.5555555555555556,\"#d8576b\"],[0.6666666666666666,\"#ed7953\"],[0.7777777777777778,\"#fb9f3a\"],[0.8888888888888888,\"#fdca26\"],[1.0,\"#f0f921\"]],\"type\":\"heatmapgl\"}],\"histogram\":[{\"marker\":{\"pattern\":{\"fillmode\":\"overlay\",\"size\":10,\"solidity\":0.2}},\"type\":\"histogram\"}],\"histogram2d\":[{\"colorbar\":{\"outlinewidth\":0,\"ticks\":\"\"},\"colorscale\":[[0.0,\"#0d0887\"],[0.1111111111111111,\"#46039f\"],[0.2222222222222222,\"#7201a8\"],[0.3333333333333333,\"#9c179e\"],[0.4444444444444444,\"#bd3786\"],[0.5555555555555556,\"#d8576b\"],[0.6666666666666666,\"#ed7953\"],[0.7777777777777778,\"#fb9f3a\"],[0.8888888888888888,\"#fdca26\"],[1.0,\"#f0f921\"]],\"type\":\"histogram2d\"}],\"histogram2dcontour\":[{\"colorbar\":{\"outlinewidth\":0,\"ticks\":\"\"},\"colorscale\":[[0.0,\"#0d0887\"],[0.1111111111111111,\"#46039f\"],[0.2222222222222222,\"#7201a8\"],[0.3333333333333333,\"#9c179e\"],[0.4444444444444444,\"#bd3786\"],[0.5555555555555556,\"#d8576b\"],[0.6666666666666666,\"#ed7953\"],[0.7777777777777778,\"#fb9f3a\"],[0.8888888888888888,\"#fdca26\"],[1.0,\"#f0f921\"]],\"type\":\"histogram2dcontour\"}],\"mesh3d\":[{\"colorbar\":{\"outlinewidth\":0,\"ticks\":\"\"},\"type\":\"mesh3d\"}],\"parcoords\":[{\"line\":{\"colorbar\":{\"outlinewidth\":0,\"ticks\":\"\"}},\"type\":\"parcoords\"}],\"pie\":[{\"automargin\":true,\"type\":\"pie\"}],\"scatter\":[{\"marker\":{\"colorbar\":{\"outlinewidth\":0,\"ticks\":\"\"}},\"type\":\"scatter\"}],\"scatter3d\":[{\"line\":{\"colorbar\":{\"outlinewidth\":0,\"ticks\":\"\"}},\"marker\":{\"colorbar\":{\"outlinewidth\":0,\"ticks\":\"\"}},\"type\":\"scatter3d\"}],\"scattercarpet\":[{\"marker\":{\"colorbar\":{\"outlinewidth\":0,\"ticks\":\"\"}},\"type\":\"scattercarpet\"}],\"scattergeo\":[{\"marker\":{\"colorbar\":{\"outlinewidth\":0,\"ticks\":\"\"}},\"type\":\"scattergeo\"}],\"scattergl\":[{\"marker\":{\"colorbar\":{\"outlinewidth\":0,\"ticks\":\"\"}},\"type\":\"scattergl\"}],\"scattermapbox\":[{\"marker\":{\"colorbar\":{\"outlinewidth\":0,\"ticks\":\"\"}},\"type\":\"scattermapbox\"}],\"scatterpolar\":[{\"marker\":{\"colorbar\":{\"outlinewidth\":0,\"ticks\":\"\"}},\"type\":\"scatterpolar\"}],\"scatterpolargl\":[{\"marker\":{\"colorbar\":{\"outlinewidth\":0,\"ticks\":\"\"}},\"type\":\"scatterpolargl\"}],\"scatterternary\":[{\"marker\":{\"colorbar\":{\"outlinewidth\":0,\"ticks\":\"\"}},\"type\":\"scatterternary\"}],\"surface\":[{\"colorbar\":{\"outlinewidth\":0,\"ticks\":\"\"},\"colorscale\":[[0.0,\"#0d0887\"],[0.1111111111111111,\"#46039f\"],[0.2222222222222222,\"#7201a8\"],[0.3333333333333333,\"#9c179e\"],[0.4444444444444444,\"#bd3786\"],[0.5555555555555556,\"#d8576b\"],[0.6666666666666666,\"#ed7953\"],[0.7777777777777778,\"#fb9f3a\"],[0.8888888888888888,\"#fdca26\"],[1.0,\"#f0f921\"]],\"type\":\"surface\"}],\"table\":[{\"cells\":{\"fill\":{\"color\":\"#EBF0F8\"},\"line\":{\"color\":\"white\"}},\"header\":{\"fill\":{\"color\":\"#C8D4E3\"},\"line\":{\"color\":\"white\"}},\"type\":\"table\"}]},\"layout\":{\"annotationdefaults\":{\"arrowcolor\":\"#2a3f5f\",\"arrowhead\":0,\"arrowwidth\":1},\"autotypenumbers\":\"strict\",\"coloraxis\":{\"colorbar\":{\"outlinewidth\":0,\"ticks\":\"\"}},\"colorscale\":{\"diverging\":[[0,\"#8e0152\"],[0.1,\"#c51b7d\"],[0.2,\"#de77ae\"],[0.3,\"#f1b6da\"],[0.4,\"#fde0ef\"],[0.5,\"#f7f7f7\"],[0.6,\"#e6f5d0\"],[0.7,\"#b8e186\"],[0.8,\"#7fbc41\"],[0.9,\"#4d9221\"],[1,\"#276419\"]],\"sequential\":[[0.0,\"#0d0887\"],[0.1111111111111111,\"#46039f\"],[0.2222222222222222,\"#7201a8\"],[0.3333333333333333,\"#9c179e\"],[0.4444444444444444,\"#bd3786\"],[0.5555555555555556,\"#d8576b\"],[0.6666666666666666,\"#ed7953\"],[0.7777777777777778,\"#fb9f3a\"],[0.8888888888888888,\"#fdca26\"],[1.0,\"#f0f921\"]],\"sequentialminus\":[[0.0,\"#0d0887\"],[0.1111111111111111,\"#46039f\"],[0.2222222222222222,\"#7201a8\"],[0.3333333333333333,\"#9c179e\"],[0.4444444444444444,\"#bd3786\"],[0.5555555555555556,\"#d8576b\"],[0.6666666666666666,\"#ed7953\"],[0.7777777777777778,\"#fb9f3a\"],[0.8888888888888888,\"#fdca26\"],[1.0,\"#f0f921\"]]},\"colorway\":[\"#636efa\",\"#EF553B\",\"#00cc96\",\"#ab63fa\",\"#FFA15A\",\"#19d3f3\",\"#FF6692\",\"#B6E880\",\"#FF97FF\",\"#FECB52\"],\"font\":{\"color\":\"#2a3f5f\"},\"geo\":{\"bgcolor\":\"white\",\"lakecolor\":\"white\",\"landcolor\":\"#E5ECF6\",\"showlakes\":true,\"showland\":true,\"subunitcolor\":\"white\"},\"hoverlabel\":{\"align\":\"left\"},\"hovermode\":\"closest\",\"mapbox\":{\"style\":\"light\"},\"paper_bgcolor\":\"white\",\"plot_bgcolor\":\"#E5ECF6\",\"polar\":{\"angularaxis\":{\"gridcolor\":\"white\",\"linecolor\":\"white\",\"ticks\":\"\"},\"bgcolor\":\"#E5ECF6\",\"radialaxis\":{\"gridcolor\":\"white\",\"linecolor\":\"white\",\"ticks\":\"\"}},\"scene\":{\"xaxis\":{\"backgroundcolor\":\"#E5ECF6\",\"gridcolor\":\"white\",\"gridwidth\":2,\"linecolor\":\"white\",\"showbackground\":true,\"ticks\":\"\",\"zerolinecolor\":\"white\"},\"yaxis\":{\"backgroundcolor\":\"#E5ECF6\",\"gridcolor\":\"white\",\"gridwidth\":2,\"linecolor\":\"white\",\"showbackground\":true,\"ticks\":\"\",\"zerolinecolor\":\"white\"},\"zaxis\":{\"backgroundcolor\":\"#E5ECF6\",\"gridcolor\":\"white\",\"gridwidth\":2,\"linecolor\":\"white\",\"showbackground\":true,\"ticks\":\"\",\"zerolinecolor\":\"white\"}},\"shapedefaults\":{\"line\":{\"color\":\"#2a3f5f\"}},\"ternary\":{\"aaxis\":{\"gridcolor\":\"white\",\"linecolor\":\"white\",\"ticks\":\"\"},\"baxis\":{\"gridcolor\":\"white\",\"linecolor\":\"white\",\"ticks\":\"\"},\"bgcolor\":\"#E5ECF6\",\"caxis\":{\"gridcolor\":\"white\",\"linecolor\":\"white\",\"ticks\":\"\"}},\"title\":{\"x\":0.05},\"xaxis\":{\"automargin\":true,\"gridcolor\":\"white\",\"linecolor\":\"white\",\"ticks\":\"\",\"title\":{\"standoff\":15},\"zerolinecolor\":\"white\",\"zerolinewidth\":2},\"yaxis\":{\"automargin\":true,\"gridcolor\":\"white\",\"linecolor\":\"white\",\"ticks\":\"\",\"title\":{\"standoff\":15},\"zerolinecolor\":\"white\",\"zerolinewidth\":2}}},\"xaxis\":{\"anchor\":\"y\",\"domain\":[0.0,1.0],\"title\":{\"text\":\"x\"}},\"yaxis\":{\"anchor\":\"x\",\"domain\":[0.0,1.0],\"title\":{\"text\":\"y\"}},\"legend\":{\"tracegroupgap\":0},\"title\":{\"text\":\"Palabras mas usadas en los tweets positivos de la kings league\"},\"barmode\":\"relative\"},                        {\"responsive\": true}                    ).then(function(){\n",
              "                            \n",
              "var gd = document.getElementById('4af45196-dfdf-417e-8a28-ec13dffb3f13');\n",
              "var x = new MutationObserver(function (mutations, observer) {{\n",
              "        var display = window.getComputedStyle(gd).display;\n",
              "        if (!display || display === 'none') {{\n",
              "            console.log([gd, 'removed!']);\n",
              "            Plotly.purge(gd);\n",
              "            observer.disconnect();\n",
              "        }}\n",
              "}});\n",
              "\n",
              "// Listen for the removal of the full notebook cells\n",
              "var notebookContainer = gd.closest('#notebook-container');\n",
              "if (notebookContainer) {{\n",
              "    x.observe(notebookContainer, {childList: true});\n",
              "}}\n",
              "\n",
              "// Listen for the clearing of the current output cell\n",
              "var outputEl = gd.closest('.output');\n",
              "if (outputEl) {{\n",
              "    x.observe(outputEl, {childList: true});\n",
              "}}\n",
              "\n",
              "                        })                };                            </script>        </div>\n",
              "</body>\n",
              "</html>"
            ]
          },
          "metadata": {}
        }
      ]
    },
    {
      "cell_type": "code",
      "source": [
        "fig = px.bar(data, title=\"Palabras mas usadas en los tweets negativos de Ridery\",x=neg_df['words'], y=neg_df['scores'])\n",
        "fig.show()"
      ],
      "metadata": {
        "colab": {
          "base_uri": "https://localhost:8080/",
          "height": 542
        },
        "id": "wOYTAA2o8ZJe",
        "outputId": "5b722eb2-1562-43dc-dc3b-f79bfcb8ceec"
      },
      "execution_count": 215,
      "outputs": [
        {
          "output_type": "display_data",
          "data": {
            "text/html": [
              "<html>\n",
              "<head><meta charset=\"utf-8\" /></head>\n",
              "<body>\n",
              "    <div>            <script src=\"https://cdnjs.cloudflare.com/ajax/libs/mathjax/2.7.5/MathJax.js?config=TeX-AMS-MML_SVG\"></script><script type=\"text/javascript\">if (window.MathJax) {MathJax.Hub.Config({SVG: {font: \"STIX-Web\"}});}</script>                <script type=\"text/javascript\">window.PlotlyConfig = {MathJaxConfig: 'local'};</script>\n",
              "        <script src=\"https://cdn.plot.ly/plotly-2.8.3.min.js\"></script>                <div id=\"a21ad695-842e-49dd-b598-3204a5ea9501\" class=\"plotly-graph-div\" style=\"height:525px; width:100%;\"></div>            <script type=\"text/javascript\">                                    window.PLOTLYENV=window.PLOTLYENV || {};                                    if (document.getElementById(\"a21ad695-842e-49dd-b598-3204a5ea9501\")) {                    Plotly.newPlot(                        \"a21ad695-842e-49dd-b598-3204a5ea9501\",                        [{\"alignmentgroup\":\"True\",\"hovertemplate\":\"x=%{x}<br>y=%{y}<extra></extra>\",\"legendgroup\":\"\",\"marker\":{\"color\":\"#636efa\",\"pattern\":{\"shape\":\"\"}},\"name\":\"\",\"offsetgroup\":\"\",\"orientation\":\"v\",\"showlegend\":false,\"textposition\":\"auto\",\"x\":[\"rideryvzla\",\"ridery\",\"app\",\"est\",\"si\",\"pas\",\"mal\",\"servicio\",\"conductor\",\"rcamachovzla\",\"esisaacf\",\"moto\",\"pago\",\"menos\",\"max\",\"hoy\",\"ms\",\"conductores\",\"solo\",\"mala\",\"opcin\",\"puede\",\"mierda\",\"diario\",\"cliente\",\"da\",\"as\",\"q\",\"jrhg\",\"venezolanos\",\"haban\",\"caso\",\"aplicacin\",\"qu\",\"hacer\",\"peor\",\"ser\",\"sabe\",\"carro\",\"nmero\"],\"xaxis\":\"x\",\"y\":[107,21,18,17,16,15,15,14,13,12,11,10,8,8,8,7,7,7,7,6,6,6,6,6,6,6,6,6,6,6,6,5,5,5,5,5,5,5,5,5],\"yaxis\":\"y\",\"type\":\"bar\"}],                        {\"template\":{\"data\":{\"bar\":[{\"error_x\":{\"color\":\"#2a3f5f\"},\"error_y\":{\"color\":\"#2a3f5f\"},\"marker\":{\"line\":{\"color\":\"#E5ECF6\",\"width\":0.5},\"pattern\":{\"fillmode\":\"overlay\",\"size\":10,\"solidity\":0.2}},\"type\":\"bar\"}],\"barpolar\":[{\"marker\":{\"line\":{\"color\":\"#E5ECF6\",\"width\":0.5},\"pattern\":{\"fillmode\":\"overlay\",\"size\":10,\"solidity\":0.2}},\"type\":\"barpolar\"}],\"carpet\":[{\"aaxis\":{\"endlinecolor\":\"#2a3f5f\",\"gridcolor\":\"white\",\"linecolor\":\"white\",\"minorgridcolor\":\"white\",\"startlinecolor\":\"#2a3f5f\"},\"baxis\":{\"endlinecolor\":\"#2a3f5f\",\"gridcolor\":\"white\",\"linecolor\":\"white\",\"minorgridcolor\":\"white\",\"startlinecolor\":\"#2a3f5f\"},\"type\":\"carpet\"}],\"choropleth\":[{\"colorbar\":{\"outlinewidth\":0,\"ticks\":\"\"},\"type\":\"choropleth\"}],\"contour\":[{\"colorbar\":{\"outlinewidth\":0,\"ticks\":\"\"},\"colorscale\":[[0.0,\"#0d0887\"],[0.1111111111111111,\"#46039f\"],[0.2222222222222222,\"#7201a8\"],[0.3333333333333333,\"#9c179e\"],[0.4444444444444444,\"#bd3786\"],[0.5555555555555556,\"#d8576b\"],[0.6666666666666666,\"#ed7953\"],[0.7777777777777778,\"#fb9f3a\"],[0.8888888888888888,\"#fdca26\"],[1.0,\"#f0f921\"]],\"type\":\"contour\"}],\"contourcarpet\":[{\"colorbar\":{\"outlinewidth\":0,\"ticks\":\"\"},\"type\":\"contourcarpet\"}],\"heatmap\":[{\"colorbar\":{\"outlinewidth\":0,\"ticks\":\"\"},\"colorscale\":[[0.0,\"#0d0887\"],[0.1111111111111111,\"#46039f\"],[0.2222222222222222,\"#7201a8\"],[0.3333333333333333,\"#9c179e\"],[0.4444444444444444,\"#bd3786\"],[0.5555555555555556,\"#d8576b\"],[0.6666666666666666,\"#ed7953\"],[0.7777777777777778,\"#fb9f3a\"],[0.8888888888888888,\"#fdca26\"],[1.0,\"#f0f921\"]],\"type\":\"heatmap\"}],\"heatmapgl\":[{\"colorbar\":{\"outlinewidth\":0,\"ticks\":\"\"},\"colorscale\":[[0.0,\"#0d0887\"],[0.1111111111111111,\"#46039f\"],[0.2222222222222222,\"#7201a8\"],[0.3333333333333333,\"#9c179e\"],[0.4444444444444444,\"#bd3786\"],[0.5555555555555556,\"#d8576b\"],[0.6666666666666666,\"#ed7953\"],[0.7777777777777778,\"#fb9f3a\"],[0.8888888888888888,\"#fdca26\"],[1.0,\"#f0f921\"]],\"type\":\"heatmapgl\"}],\"histogram\":[{\"marker\":{\"pattern\":{\"fillmode\":\"overlay\",\"size\":10,\"solidity\":0.2}},\"type\":\"histogram\"}],\"histogram2d\":[{\"colorbar\":{\"outlinewidth\":0,\"ticks\":\"\"},\"colorscale\":[[0.0,\"#0d0887\"],[0.1111111111111111,\"#46039f\"],[0.2222222222222222,\"#7201a8\"],[0.3333333333333333,\"#9c179e\"],[0.4444444444444444,\"#bd3786\"],[0.5555555555555556,\"#d8576b\"],[0.6666666666666666,\"#ed7953\"],[0.7777777777777778,\"#fb9f3a\"],[0.8888888888888888,\"#fdca26\"],[1.0,\"#f0f921\"]],\"type\":\"histogram2d\"}],\"histogram2dcontour\":[{\"colorbar\":{\"outlinewidth\":0,\"ticks\":\"\"},\"colorscale\":[[0.0,\"#0d0887\"],[0.1111111111111111,\"#46039f\"],[0.2222222222222222,\"#7201a8\"],[0.3333333333333333,\"#9c179e\"],[0.4444444444444444,\"#bd3786\"],[0.5555555555555556,\"#d8576b\"],[0.6666666666666666,\"#ed7953\"],[0.7777777777777778,\"#fb9f3a\"],[0.8888888888888888,\"#fdca26\"],[1.0,\"#f0f921\"]],\"type\":\"histogram2dcontour\"}],\"mesh3d\":[{\"colorbar\":{\"outlinewidth\":0,\"ticks\":\"\"},\"type\":\"mesh3d\"}],\"parcoords\":[{\"line\":{\"colorbar\":{\"outlinewidth\":0,\"ticks\":\"\"}},\"type\":\"parcoords\"}],\"pie\":[{\"automargin\":true,\"type\":\"pie\"}],\"scatter\":[{\"marker\":{\"colorbar\":{\"outlinewidth\":0,\"ticks\":\"\"}},\"type\":\"scatter\"}],\"scatter3d\":[{\"line\":{\"colorbar\":{\"outlinewidth\":0,\"ticks\":\"\"}},\"marker\":{\"colorbar\":{\"outlinewidth\":0,\"ticks\":\"\"}},\"type\":\"scatter3d\"}],\"scattercarpet\":[{\"marker\":{\"colorbar\":{\"outlinewidth\":0,\"ticks\":\"\"}},\"type\":\"scattercarpet\"}],\"scattergeo\":[{\"marker\":{\"colorbar\":{\"outlinewidth\":0,\"ticks\":\"\"}},\"type\":\"scattergeo\"}],\"scattergl\":[{\"marker\":{\"colorbar\":{\"outlinewidth\":0,\"ticks\":\"\"}},\"type\":\"scattergl\"}],\"scattermapbox\":[{\"marker\":{\"colorbar\":{\"outlinewidth\":0,\"ticks\":\"\"}},\"type\":\"scattermapbox\"}],\"scatterpolar\":[{\"marker\":{\"colorbar\":{\"outlinewidth\":0,\"ticks\":\"\"}},\"type\":\"scatterpolar\"}],\"scatterpolargl\":[{\"marker\":{\"colorbar\":{\"outlinewidth\":0,\"ticks\":\"\"}},\"type\":\"scatterpolargl\"}],\"scatterternary\":[{\"marker\":{\"colorbar\":{\"outlinewidth\":0,\"ticks\":\"\"}},\"type\":\"scatterternary\"}],\"surface\":[{\"colorbar\":{\"outlinewidth\":0,\"ticks\":\"\"},\"colorscale\":[[0.0,\"#0d0887\"],[0.1111111111111111,\"#46039f\"],[0.2222222222222222,\"#7201a8\"],[0.3333333333333333,\"#9c179e\"],[0.4444444444444444,\"#bd3786\"],[0.5555555555555556,\"#d8576b\"],[0.6666666666666666,\"#ed7953\"],[0.7777777777777778,\"#fb9f3a\"],[0.8888888888888888,\"#fdca26\"],[1.0,\"#f0f921\"]],\"type\":\"surface\"}],\"table\":[{\"cells\":{\"fill\":{\"color\":\"#EBF0F8\"},\"line\":{\"color\":\"white\"}},\"header\":{\"fill\":{\"color\":\"#C8D4E3\"},\"line\":{\"color\":\"white\"}},\"type\":\"table\"}]},\"layout\":{\"annotationdefaults\":{\"arrowcolor\":\"#2a3f5f\",\"arrowhead\":0,\"arrowwidth\":1},\"autotypenumbers\":\"strict\",\"coloraxis\":{\"colorbar\":{\"outlinewidth\":0,\"ticks\":\"\"}},\"colorscale\":{\"diverging\":[[0,\"#8e0152\"],[0.1,\"#c51b7d\"],[0.2,\"#de77ae\"],[0.3,\"#f1b6da\"],[0.4,\"#fde0ef\"],[0.5,\"#f7f7f7\"],[0.6,\"#e6f5d0\"],[0.7,\"#b8e186\"],[0.8,\"#7fbc41\"],[0.9,\"#4d9221\"],[1,\"#276419\"]],\"sequential\":[[0.0,\"#0d0887\"],[0.1111111111111111,\"#46039f\"],[0.2222222222222222,\"#7201a8\"],[0.3333333333333333,\"#9c179e\"],[0.4444444444444444,\"#bd3786\"],[0.5555555555555556,\"#d8576b\"],[0.6666666666666666,\"#ed7953\"],[0.7777777777777778,\"#fb9f3a\"],[0.8888888888888888,\"#fdca26\"],[1.0,\"#f0f921\"]],\"sequentialminus\":[[0.0,\"#0d0887\"],[0.1111111111111111,\"#46039f\"],[0.2222222222222222,\"#7201a8\"],[0.3333333333333333,\"#9c179e\"],[0.4444444444444444,\"#bd3786\"],[0.5555555555555556,\"#d8576b\"],[0.6666666666666666,\"#ed7953\"],[0.7777777777777778,\"#fb9f3a\"],[0.8888888888888888,\"#fdca26\"],[1.0,\"#f0f921\"]]},\"colorway\":[\"#636efa\",\"#EF553B\",\"#00cc96\",\"#ab63fa\",\"#FFA15A\",\"#19d3f3\",\"#FF6692\",\"#B6E880\",\"#FF97FF\",\"#FECB52\"],\"font\":{\"color\":\"#2a3f5f\"},\"geo\":{\"bgcolor\":\"white\",\"lakecolor\":\"white\",\"landcolor\":\"#E5ECF6\",\"showlakes\":true,\"showland\":true,\"subunitcolor\":\"white\"},\"hoverlabel\":{\"align\":\"left\"},\"hovermode\":\"closest\",\"mapbox\":{\"style\":\"light\"},\"paper_bgcolor\":\"white\",\"plot_bgcolor\":\"#E5ECF6\",\"polar\":{\"angularaxis\":{\"gridcolor\":\"white\",\"linecolor\":\"white\",\"ticks\":\"\"},\"bgcolor\":\"#E5ECF6\",\"radialaxis\":{\"gridcolor\":\"white\",\"linecolor\":\"white\",\"ticks\":\"\"}},\"scene\":{\"xaxis\":{\"backgroundcolor\":\"#E5ECF6\",\"gridcolor\":\"white\",\"gridwidth\":2,\"linecolor\":\"white\",\"showbackground\":true,\"ticks\":\"\",\"zerolinecolor\":\"white\"},\"yaxis\":{\"backgroundcolor\":\"#E5ECF6\",\"gridcolor\":\"white\",\"gridwidth\":2,\"linecolor\":\"white\",\"showbackground\":true,\"ticks\":\"\",\"zerolinecolor\":\"white\"},\"zaxis\":{\"backgroundcolor\":\"#E5ECF6\",\"gridcolor\":\"white\",\"gridwidth\":2,\"linecolor\":\"white\",\"showbackground\":true,\"ticks\":\"\",\"zerolinecolor\":\"white\"}},\"shapedefaults\":{\"line\":{\"color\":\"#2a3f5f\"}},\"ternary\":{\"aaxis\":{\"gridcolor\":\"white\",\"linecolor\":\"white\",\"ticks\":\"\"},\"baxis\":{\"gridcolor\":\"white\",\"linecolor\":\"white\",\"ticks\":\"\"},\"bgcolor\":\"#E5ECF6\",\"caxis\":{\"gridcolor\":\"white\",\"linecolor\":\"white\",\"ticks\":\"\"}},\"title\":{\"x\":0.05},\"xaxis\":{\"automargin\":true,\"gridcolor\":\"white\",\"linecolor\":\"white\",\"ticks\":\"\",\"title\":{\"standoff\":15},\"zerolinecolor\":\"white\",\"zerolinewidth\":2},\"yaxis\":{\"automargin\":true,\"gridcolor\":\"white\",\"linecolor\":\"white\",\"ticks\":\"\",\"title\":{\"standoff\":15},\"zerolinecolor\":\"white\",\"zerolinewidth\":2}}},\"xaxis\":{\"anchor\":\"y\",\"domain\":[0.0,1.0],\"title\":{\"text\":\"x\"}},\"yaxis\":{\"anchor\":\"x\",\"domain\":[0.0,1.0],\"title\":{\"text\":\"y\"}},\"legend\":{\"tracegroupgap\":0},\"title\":{\"text\":\"Palabras mas usadas en los tweets negativos de la kings league\"},\"barmode\":\"relative\"},                        {\"responsive\": true}                    ).then(function(){\n",
              "                            \n",
              "var gd = document.getElementById('a21ad695-842e-49dd-b598-3204a5ea9501');\n",
              "var x = new MutationObserver(function (mutations, observer) {{\n",
              "        var display = window.getComputedStyle(gd).display;\n",
              "        if (!display || display === 'none') {{\n",
              "            console.log([gd, 'removed!']);\n",
              "            Plotly.purge(gd);\n",
              "            observer.disconnect();\n",
              "        }}\n",
              "}});\n",
              "\n",
              "// Listen for the removal of the full notebook cells\n",
              "var notebookContainer = gd.closest('#notebook-container');\n",
              "if (notebookContainer) {{\n",
              "    x.observe(notebookContainer, {childList: true});\n",
              "}}\n",
              "\n",
              "// Listen for the clearing of the current output cell\n",
              "var outputEl = gd.closest('.output');\n",
              "if (outputEl) {{\n",
              "    x.observe(outputEl, {childList: true});\n",
              "}}\n",
              "\n",
              "                        })                };                            </script>        </div>\n",
              "</body>\n",
              "</html>"
            ]
          },
          "metadata": {}
        }
      ]
    },
    {
      "cell_type": "markdown",
      "source": [
        "#Conclusiones de la tokenzacion\n",
        "\n",
        "Podemos observar que en los tweets positivos las palabras claves que se repiten comunmente es:\n",
        "\n",
        "1. RideryVzla\n",
        "2. Ridery\n",
        "3. Gracias\n",
        "\n",
        "En los tweets negativo los mas resaltantes son:\n",
        "\n",
        "1. RideryVzla\n",
        "2. App \n",
        "3. Servicio"
      ],
      "metadata": {
        "id": "jDoXJ2KMH2H9"
      }
    },
    {
      "cell_type": "code",
      "source": [
        "fig = px.histogram(dt, x=dt[\"Date\"], title=\"Tweets durante durante el tiempo\")\n",
        "fig.update_layout(bargap=0.2)\n",
        "fig.show()"
      ],
      "metadata": {
        "colab": {
          "base_uri": "https://localhost:8080/",
          "height": 542
        },
        "id": "Ql-e5H3fC8Tk",
        "outputId": "60290076-7c20-4288-8682-2f009666df52"
      },
      "execution_count": 216,
      "outputs": [
        {
          "output_type": "display_data",
          "data": {
            "text/html": [
              "<html>\n",
              "<head><meta charset=\"utf-8\" /></head>\n",
              "<body>\n",
              "    <div>            <script src=\"https://cdnjs.cloudflare.com/ajax/libs/mathjax/2.7.5/MathJax.js?config=TeX-AMS-MML_SVG\"></script><script type=\"text/javascript\">if (window.MathJax) {MathJax.Hub.Config({SVG: {font: \"STIX-Web\"}});}</script>                <script type=\"text/javascript\">window.PlotlyConfig = {MathJaxConfig: 'local'};</script>\n",
              "        <script src=\"https://cdn.plot.ly/plotly-2.8.3.min.js\"></script>                <div id=\"ae31da3e-588e-439e-b299-b101b55bdf5d\" class=\"plotly-graph-div\" style=\"height:525px; width:100%;\"></div>            <script type=\"text/javascript\">                                    window.PLOTLYENV=window.PLOTLYENV || {};                                    if (document.getElementById(\"ae31da3e-588e-439e-b299-b101b55bdf5d\")) {                    Plotly.newPlot(                        \"ae31da3e-588e-439e-b299-b101b55bdf5d\",                        [{\"alignmentgroup\":\"True\",\"bingroup\":\"x\",\"hovertemplate\":\"Date=%{x}<br>count=%{y}<extra></extra>\",\"legendgroup\":\"\",\"marker\":{\"color\":\"#636efa\",\"pattern\":{\"shape\":\"\"}},\"name\":\"\",\"offsetgroup\":\"\",\"orientation\":\"v\",\"showlegend\":false,\"x\":[\"2023-02-12T20:03:36+00:00\",\"2023-02-12T14:11:21+00:00\",\"2023-02-12T13:48:58+00:00\",\"2023-02-11T22:05:12+00:00\",\"2023-02-11T22:02:08+00:00\",\"2023-02-11T21:00:17+00:00\",\"2023-02-11T18:16:33+00:00\",\"2023-02-11T15:57:18+00:00\",\"2023-02-11T12:13:46+00:00\",\"2023-02-11T11:59:06+00:00\",\"2023-02-11T11:16:19+00:00\",\"2023-02-11T02:30:50+00:00\",\"2023-02-11T01:45:53+00:00\",\"2023-02-11T01:45:09+00:00\",\"2023-02-11T00:02:44+00:00\",\"2023-02-11T00:00:54+00:00\",\"2023-02-11T00:00:00+00:00\",\"2023-02-10T23:24:14+00:00\",\"2023-02-10T23:16:08+00:00\",\"2023-02-10T20:46:57+00:00\",\"2023-02-10T19:55:07+00:00\",\"2023-02-10T18:27:04+00:00\",\"2023-02-10T17:04:18+00:00\",\"2023-02-10T16:34:42+00:00\",\"2023-02-10T15:45:15+00:00\",\"2023-02-10T15:44:12+00:00\",\"2023-02-10T13:29:54+00:00\",\"2023-02-10T01:27:26+00:00\",\"2023-02-09T20:24:19+00:00\",\"2023-02-09T20:24:02+00:00\",\"2023-02-09T19:34:21+00:00\",\"2023-02-09T17:07:21+00:00\",\"2023-02-09T16:12:30+00:00\",\"2023-02-09T14:33:10+00:00\",\"2023-02-09T00:11:14+00:00\",\"2023-02-09T00:04:38+00:00\",\"2023-02-08T23:40:49+00:00\",\"2023-02-08T21:21:46+00:00\",\"2023-02-08T18:19:42+00:00\",\"2023-02-08T16:30:04+00:00\",\"2023-02-08T16:08:58+00:00\",\"2023-02-08T14:36:26+00:00\",\"2023-02-08T14:34:08+00:00\",\"2023-02-08T14:31:06+00:00\",\"2023-02-08T14:28:28+00:00\",\"2023-02-08T14:27:29+00:00\",\"2023-02-08T14:16:39+00:00\",\"2023-02-08T02:27:27+00:00\",\"2023-02-08T02:20:17+00:00\",\"2023-02-08T02:13:53+00:00\",\"2023-02-08T02:11:48+00:00\",\"2023-02-08T02:02:49+00:00\",\"2023-02-08T02:01:48+00:00\",\"2023-02-08T01:12:33+00:00\",\"2023-02-08T01:11:03+00:00\",\"2023-02-08T00:53:01+00:00\",\"2023-02-08T00:52:11+00:00\",\"2023-02-07T20:15:31+00:00\",\"2023-02-07T19:57:19+00:00\",\"2023-02-07T19:30:33+00:00\",\"2023-02-07T18:39:44+00:00\",\"2023-02-07T13:55:07+00:00\",\"2023-02-07T13:28:20+00:00\",\"2023-02-07T13:25:17+00:00\",\"2023-02-07T13:07:44+00:00\",\"2023-02-06T23:32:41+00:00\",\"2023-02-06T23:03:42+00:00\",\"2023-02-06T21:09:43+00:00\",\"2023-02-06T17:12:48+00:00\",\"2023-02-06T16:50:14+00:00\",\"2023-02-06T16:47:58+00:00\",\"2023-02-06T16:07:34+00:00\",\"2023-02-06T16:02:03+00:00\",\"2023-02-06T15:03:37+00:00\",\"2023-02-06T13:57:27+00:00\",\"2023-02-06T13:35:41+00:00\",\"2023-02-05T20:24:18+00:00\",\"2023-02-05T19:47:29+00:00\",\"2023-02-05T19:43:30+00:00\",\"2023-02-05T19:37:42+00:00\",\"2023-02-05T19:32:45+00:00\",\"2023-02-05T19:32:23+00:00\",\"2023-02-05T19:26:28+00:00\",\"2023-02-05T18:58:01+00:00\",\"2023-02-05T17:43:23+00:00\",\"2023-02-05T17:38:46+00:00\",\"2023-02-05T17:38:15+00:00\",\"2023-02-05T17:33:33+00:00\",\"2023-02-05T17:27:52+00:00\",\"2023-02-05T17:22:06+00:00\",\"2023-02-05T17:21:38+00:00\",\"2023-02-05T17:17:13+00:00\",\"2023-02-05T16:48:36+00:00\",\"2023-02-05T01:43:45+00:00\",\"2023-02-05T01:07:38+00:00\",\"2023-02-05T01:01:06+00:00\",\"2023-02-04T19:28:29+00:00\",\"2023-02-04T18:24:10+00:00\",\"2023-02-04T07:09:41+00:00\",\"2023-02-04T07:09:11+00:00\",\"2023-02-04T04:26:47+00:00\",\"2023-02-04T02:39:23+00:00\",\"2023-02-04T02:04:13+00:00\",\"2023-02-03T23:29:27+00:00\",\"2023-02-03T15:34:39+00:00\",\"2023-02-03T13:45:26+00:00\",\"2023-02-03T13:40:30+00:00\",\"2023-02-03T11:05:31+00:00\",\"2023-02-03T02:20:11+00:00\",\"2023-02-02T23:33:07+00:00\",\"2023-02-02T23:31:25+00:00\",\"2023-02-02T23:16:24+00:00\",\"2023-02-02T22:42:28+00:00\",\"2023-02-02T20:04:11+00:00\",\"2023-02-02T19:52:38+00:00\",\"2023-02-02T19:51:35+00:00\",\"2023-02-02T19:46:42+00:00\",\"2023-02-02T14:39:05+00:00\",\"2023-02-02T14:36:48+00:00\",\"2023-02-02T14:35:41+00:00\",\"2023-02-02T14:33:44+00:00\",\"2023-02-02T14:31:57+00:00\",\"2023-02-02T13:12:50+00:00\",\"2023-02-02T13:11:13+00:00\",\"2023-02-02T12:23:09+00:00\",\"2023-02-02T12:20:25+00:00\",\"2023-02-02T02:11:06+00:00\",\"2023-02-02T01:05:52+00:00\",\"2023-02-01T20:06:01+00:00\",\"2023-02-01T16:14:59+00:00\",\"2023-02-01T10:37:55+00:00\",\"2023-01-31T20:39:27+00:00\",\"2023-01-31T13:46:41+00:00\",\"2023-01-31T05:06:44+00:00\",\"2023-01-31T03:10:10+00:00\",\"2023-01-31T01:56:36+00:00\",\"2023-01-31T01:45:59+00:00\",\"2023-01-31T00:11:00+00:00\",\"2023-01-30T23:57:15+00:00\",\"2023-01-30T22:33:06+00:00\",\"2023-01-30T19:25:03+00:00\",\"2023-01-30T18:36:42+00:00\",\"2023-01-30T17:21:43+00:00\",\"2023-01-30T11:52:27+00:00\",\"2023-01-30T11:22:31+00:00\",\"2023-01-29T18:18:45+00:00\",\"2023-01-29T17:36:25+00:00\",\"2023-01-29T13:38:36+00:00\",\"2023-01-28T17:18:06+00:00\",\"2023-01-28T16:34:15+00:00\",\"2023-01-28T14:33:20+00:00\",\"2023-01-28T04:51:56+00:00\",\"2023-01-28T02:01:10+00:00\",\"2023-01-28T01:18:56+00:00\",\"2023-01-28T01:18:54+00:00\",\"2023-01-27T23:57:09+00:00\",\"2023-01-27T19:05:28+00:00\",\"2023-01-27T19:03:32+00:00\",\"2023-01-27T18:20:47+00:00\",\"2023-01-27T16:45:48+00:00\",\"2023-01-27T16:01:30+00:00\",\"2023-01-27T05:03:54+00:00\",\"2023-01-27T05:02:56+00:00\",\"2023-01-27T05:00:42+00:00\",\"2023-01-27T04:59:20+00:00\",\"2023-01-27T02:31:15+00:00\",\"2023-01-27T00:49:53+00:00\",\"2023-01-27T00:27:54+00:00\",\"2023-01-26T23:21:08+00:00\",\"2023-01-26T21:31:24+00:00\",\"2023-01-26T19:19:53+00:00\",\"2023-01-26T18:26:03+00:00\",\"2023-01-26T18:25:54+00:00\",\"2023-01-26T18:10:05+00:00\",\"2023-01-26T14:28:31+00:00\",\"2023-01-26T11:32:57+00:00\",\"2023-01-26T03:06:46+00:00\",\"2023-01-26T01:37:05+00:00\",\"2023-01-26T01:37:04+00:00\",\"2023-01-25T21:33:12+00:00\",\"2023-01-25T17:31:22+00:00\",\"2023-01-25T16:35:09+00:00\",\"2023-01-25T16:21:46+00:00\",\"2023-01-25T16:17:04+00:00\",\"2023-01-25T15:23:30+00:00\",\"2023-01-25T14:45:23+00:00\",\"2023-01-25T14:44:11+00:00\",\"2023-01-25T13:23:07+00:00\",\"2023-01-25T12:33:15+00:00\",\"2023-01-25T12:32:14+00:00\",\"2023-01-25T12:31:06+00:00\",\"2023-01-25T12:25:38+00:00\",\"2023-01-25T12:24:54+00:00\",\"2023-01-25T12:22:41+00:00\",\"2023-01-25T02:23:33+00:00\",\"2023-01-25T01:44:58+00:00\",\"2023-01-24T22:42:30+00:00\",\"2023-01-24T20:35:15+00:00\",\"2023-01-24T19:31:52+00:00\",\"2023-01-24T18:50:54+00:00\",\"2023-01-24T18:49:28+00:00\",\"2023-01-24T18:31:59+00:00\",\"2023-01-24T18:26:01+00:00\",\"2023-01-24T18:25:01+00:00\",\"2023-01-24T18:13:02+00:00\",\"2023-01-24T18:12:23+00:00\",\"2023-01-24T17:51:19+00:00\",\"2023-01-24T17:50:14+00:00\",\"2023-01-24T15:08:05+00:00\",\"2023-01-24T13:31:09+00:00\",\"2023-01-24T13:25:55+00:00\",\"2023-01-24T13:15:38+00:00\",\"2023-01-24T10:45:54+00:00\",\"2023-01-24T04:31:30+00:00\",\"2023-01-24T04:28:45+00:00\",\"2023-01-24T04:27:40+00:00\",\"2023-01-24T03:11:16+00:00\",\"2023-01-24T02:09:12+00:00\",\"2023-01-23T23:25:10+00:00\",\"2023-01-23T23:12:25+00:00\",\"2023-01-23T23:11:19+00:00\",\"2023-01-23T21:45:29+00:00\",\"2023-01-23T21:38:17+00:00\",\"2023-01-23T21:37:31+00:00\",\"2023-01-23T20:26:02+00:00\",\"2023-01-23T19:05:14+00:00\",\"2023-01-23T18:24:03+00:00\",\"2023-01-23T17:52:47+00:00\",\"2023-01-23T16:11:04+00:00\",\"2023-01-23T16:10:05+00:00\",\"2023-01-23T16:07:54+00:00\",\"2023-01-23T15:48:32+00:00\",\"2023-01-23T13:34:32+00:00\",\"2023-01-23T13:21:59+00:00\",\"2023-01-23T11:57:02+00:00\",\"2023-01-23T02:55:25+00:00\",\"2023-01-22T18:14:49+00:00\",\"2023-01-22T15:20:21+00:00\",\"2023-01-22T15:16:14+00:00\",\"2023-01-22T14:11:14+00:00\",\"2023-01-22T01:37:45+00:00\",\"2023-01-21T20:31:44+00:00\",\"2023-01-21T19:14:38+00:00\",\"2023-01-21T18:33:46+00:00\",\"2023-01-21T17:08:00+00:00\",\"2023-01-21T15:39:07+00:00\",\"2023-01-21T15:15:43+00:00\",\"2023-01-21T15:12:18+00:00\",\"2023-01-21T14:50:50+00:00\",\"2023-01-21T13:38:03+00:00\",\"2023-01-21T00:20:16+00:00\",\"2023-01-20T20:50:02+00:00\",\"2023-01-20T14:29:35+00:00\",\"2023-01-20T04:07:00+00:00\",\"2023-01-20T03:15:51+00:00\",\"2023-01-20T00:42:37+00:00\",\"2023-01-19T22:36:05+00:00\",\"2023-01-19T22:20:54+00:00\",\"2023-01-19T22:04:00+00:00\",\"2023-01-19T21:50:04+00:00\",\"2023-01-19T20:59:25+00:00\",\"2023-01-19T20:41:24+00:00\",\"2023-01-19T20:37:00+00:00\",\"2023-01-19T20:21:52+00:00\",\"2023-01-19T20:17:45+00:00\",\"2023-01-19T18:24:44+00:00\",\"2023-01-19T18:15:11+00:00\",\"2023-01-19T17:57:08+00:00\",\"2023-01-19T17:36:34+00:00\",\"2023-01-19T13:59:11+00:00\",\"2023-01-19T08:51:08+00:00\",\"2023-01-18T23:49:44+00:00\",\"2023-01-18T23:47:40+00:00\",\"2023-01-18T23:34:53+00:00\",\"2023-01-18T22:48:44+00:00\",\"2023-01-18T22:34:07+00:00\",\"2023-01-18T22:11:45+00:00\",\"2023-01-18T21:26:55+00:00\",\"2023-01-18T18:46:08+00:00\",\"2023-01-18T17:29:54+00:00\",\"2023-01-18T17:09:54+00:00\",\"2023-01-18T15:31:55+00:00\",\"2023-01-18T15:18:55+00:00\",\"2023-01-17T23:00:32+00:00\",\"2023-01-17T14:49:57+00:00\",\"2023-01-17T13:40:25+00:00\",\"2023-01-17T13:40:20+00:00\",\"2023-01-17T13:39:24+00:00\",\"2023-01-17T12:00:21+00:00\",\"2023-01-16T18:27:43+00:00\",\"2023-01-16T18:25:32+00:00\",\"2023-01-16T18:24:11+00:00\",\"2023-01-16T17:15:56+00:00\",\"2023-01-16T15:00:57+00:00\",\"2023-01-16T13:14:12+00:00\",\"2023-01-15T21:55:15+00:00\",\"2023-01-15T19:16:00+00:00\",\"2023-01-15T15:47:47+00:00\",\"2023-01-14T22:43:39+00:00\",\"2023-01-14T22:11:50+00:00\",\"2023-01-14T14:01:15+00:00\",\"2023-01-14T12:36:39+00:00\",\"2023-01-14T01:11:42+00:00\",\"2023-01-14T01:10:47+00:00\",\"2023-01-14T01:09:28+00:00\",\"2023-01-13T18:36:20+00:00\",\"2023-01-13T18:30:13+00:00\",\"2023-01-13T18:11:00+00:00\",\"2023-01-13T15:07:16+00:00\",\"2023-01-13T13:04:20+00:00\",\"2023-01-12T19:09:21+00:00\",\"2023-01-12T18:14:29+00:00\",\"2023-01-12T17:19:40+00:00\",\"2023-01-12T17:13:25+00:00\",\"2023-01-12T17:12:09+00:00\",\"2023-01-12T14:05:14+00:00\",\"2023-01-12T04:17:43+00:00\",\"2023-01-12T03:53:31+00:00\",\"2023-01-12T03:08:20+00:00\",\"2023-01-12T02:59:30+00:00\",\"2023-01-12T01:59:36+00:00\",\"2023-01-12T01:56:42+00:00\",\"2023-01-12T01:26:16+00:00\",\"2023-01-12T01:09:02+00:00\",\"2023-01-12T00:57:49+00:00\",\"2023-01-12T00:52:40+00:00\",\"2023-01-12T00:51:59+00:00\",\"2023-01-12T00:48:52+00:00\",\"2023-01-12T00:31:42+00:00\",\"2023-01-11T20:22:57+00:00\",\"2023-01-11T20:06:16+00:00\",\"2023-01-11T18:20:46+00:00\",\"2023-01-11T18:01:21+00:00\",\"2023-01-11T16:15:32+00:00\",\"2023-01-11T11:30:14+00:00\",\"2023-01-11T04:32:14+00:00\",\"2023-01-11T01:29:00+00:00\",\"2023-01-10T21:34:20+00:00\",\"2023-01-10T21:23:17+00:00\",\"2023-01-10T21:20:04+00:00\",\"2023-01-10T17:07:36+00:00\",\"2023-01-10T17:04:38+00:00\",\"2023-01-10T13:21:06+00:00\",\"2023-01-10T12:14:37+00:00\",\"2023-01-10T11:30:15+00:00\",\"2023-01-10T09:56:16+00:00\",\"2023-01-10T00:48:22+00:00\",\"2023-01-10T00:24:02+00:00\",\"2023-01-10T00:21:03+00:00\",\"2023-01-09T23:38:49+00:00\",\"2023-01-09T22:51:29+00:00\",\"2023-01-09T18:39:19+00:00\",\"2023-01-09T18:16:07+00:00\",\"2023-01-09T18:12:08+00:00\",\"2023-01-09T14:30:12+00:00\",\"2023-01-09T13:15:21+00:00\",\"2023-01-09T01:01:49+00:00\",\"2023-01-08T22:13:53+00:00\",\"2023-01-08T17:47:42+00:00\",\"2023-01-07T16:52:07+00:00\",\"2023-01-07T16:45:37+00:00\",\"2023-01-07T14:01:18+00:00\",\"2023-01-07T10:20:09+00:00\",\"2023-01-07T02:54:57+00:00\",\"2023-01-06T18:07:11+00:00\",\"2023-01-06T18:06:40+00:00\",\"2023-01-06T18:04:43+00:00\",\"2023-01-06T17:24:26+00:00\",\"2023-01-06T16:24:55+00:00\",\"2023-01-06T14:49:37+00:00\",\"2023-01-06T14:06:17+00:00\",\"2023-01-06T14:01:19+00:00\",\"2023-01-06T04:21:59+00:00\",\"2023-01-06T00:14:18+00:00\",\"2023-01-05T23:39:34+00:00\",\"2023-01-05T23:38:08+00:00\",\"2023-01-05T23:36:17+00:00\",\"2023-01-05T23:20:30+00:00\",\"2023-01-05T21:53:12+00:00\",\"2023-01-05T21:15:21+00:00\",\"2023-01-05T20:20:24+00:00\",\"2023-01-05T13:30:14+00:00\",\"2023-01-05T11:21:18+00:00\",\"2023-01-05T10:53:10+00:00\",\"2023-01-05T08:50:57+00:00\",\"2023-01-05T02:16:20+00:00\",\"2023-01-05T01:28:49+00:00\",\"2023-01-05T01:01:17+00:00\",\"2023-01-05T00:11:42+00:00\",\"2023-01-05T00:01:56+00:00\",\"2023-01-04T23:56:32+00:00\",\"2023-01-04T23:10:19+00:00\",\"2023-01-04T22:58:57+00:00\",\"2023-01-04T22:56:57+00:00\",\"2023-01-04T22:56:28+00:00\",\"2023-01-04T21:28:33+00:00\",\"2023-01-04T20:38:08+00:00\",\"2023-01-04T19:38:29+00:00\",\"2023-01-04T18:47:26+00:00\",\"2023-01-04T18:42:35+00:00\",\"2023-01-04T18:23:28+00:00\",\"2023-01-04T18:19:13+00:00\",\"2023-01-04T17:51:31+00:00\",\"2023-01-04T17:32:49+00:00\",\"2023-01-04T16:54:40+00:00\",\"2023-01-04T16:52:30+00:00\",\"2023-01-04T16:50:18+00:00\",\"2023-01-04T16:43:32+00:00\",\"2023-01-04T16:38:28+00:00\",\"2023-01-04T16:37:49+00:00\",\"2023-01-04T16:37:10+00:00\",\"2023-01-04T16:13:37+00:00\",\"2023-01-04T15:58:13+00:00\",\"2023-01-04T15:56:25+00:00\",\"2023-01-04T15:56:17+00:00\",\"2023-01-04T15:55:54+00:00\",\"2023-01-04T15:54:23+00:00\",\"2023-01-04T15:53:58+00:00\",\"2023-01-04T15:47:25+00:00\",\"2023-01-04T15:42:23+00:00\",\"2023-01-04T15:28:54+00:00\",\"2023-01-04T15:18:11+00:00\",\"2023-01-04T15:13:12+00:00\",\"2023-01-04T14:57:33+00:00\",\"2023-01-04T14:41:02+00:00\",\"2023-01-04T14:38:13+00:00\",\"2023-01-04T14:26:00+00:00\",\"2023-01-04T14:23:00+00:00\",\"2023-01-04T14:18:19+00:00\",\"2023-01-04T14:10:38+00:00\",\"2023-01-04T14:02:37+00:00\",\"2023-01-04T14:00:34+00:00\",\"2023-01-04T13:57:37+00:00\",\"2023-01-04T13:48:51+00:00\",\"2023-01-04T13:44:58+00:00\",\"2023-01-04T13:41:20+00:00\",\"2023-01-04T13:39:19+00:00\",\"2023-01-04T13:33:56+00:00\",\"2023-01-04T13:29:54+00:00\",\"2023-01-04T13:27:20+00:00\",\"2023-01-04T13:18:12+00:00\",\"2023-01-04T13:17:20+00:00\",\"2023-01-04T13:00:33+00:00\",\"2023-01-04T12:38:45+00:00\",\"2023-01-04T12:36:03+00:00\",\"2023-01-04T12:36:02+00:00\",\"2023-01-04T12:35:17+00:00\",\"2023-01-04T11:15:52+00:00\",\"2023-01-04T05:11:23+00:00\",\"2023-01-04T02:05:46+00:00\",\"2023-01-04T01:45:36+00:00\",\"2023-01-03T14:28:40+00:00\",\"2023-01-03T14:28:12+00:00\",\"2023-01-03T13:45:05+00:00\",\"2023-01-03T13:43:42+00:00\",\"2023-01-03T13:05:12+00:00\",\"2023-01-03T12:16:59+00:00\",\"2023-01-02T20:57:41+00:00\",\"2023-01-02T20:43:46+00:00\",\"2023-01-02T17:05:11+00:00\",\"2023-01-02T13:18:22+00:00\",\"2023-01-01T21:44:06+00:00\",\"2023-01-01T20:04:37+00:00\",\"2023-01-01T19:33:56+00:00\",\"2023-01-01T19:20:51+00:00\",\"2023-01-01T16:36:11+00:00\",\"2022-12-31T15:38:15+00:00\",\"2022-12-31T15:34:30+00:00\",\"2022-12-31T13:11:14+00:00\",\"2022-12-31T03:00:17+00:00\",\"2022-12-31T02:59:46+00:00\",\"2022-12-31T02:17:48+00:00\",\"2022-12-30T20:10:11+00:00\",\"2022-12-30T15:37:48+00:00\",\"2022-12-30T15:34:43+00:00\",\"2022-12-30T15:32:15+00:00\",\"2022-12-30T15:25:03+00:00\",\"2022-12-30T15:00:12+00:00\",\"2022-12-30T13:29:18+00:00\",\"2022-12-30T13:13:11+00:00\",\"2022-12-30T13:09:21+00:00\",\"2022-12-30T12:07:33+00:00\",\"2022-12-30T04:19:37+00:00\",\"2022-12-30T03:56:30+00:00\",\"2022-12-30T01:19:52+00:00\",\"2022-12-30T01:00:17+00:00\",\"2022-12-30T00:58:11+00:00\",\"2022-12-29T23:57:20+00:00\",\"2022-12-29T23:54:55+00:00\",\"2022-12-29T23:20:32+00:00\",\"2022-12-29T23:01:41+00:00\",\"2022-12-29T22:38:41+00:00\",\"2022-12-29T21:28:12+00:00\",\"2022-12-29T21:26:19+00:00\",\"2022-12-29T21:19:07+00:00\",\"2022-12-29T19:08:11+00:00\",\"2022-12-29T18:21:46+00:00\",\"2022-12-29T16:52:02+00:00\",\"2022-12-29T16:45:40+00:00\",\"2022-12-29T16:31:26+00:00\",\"2022-12-29T16:26:35+00:00\",\"2022-12-29T15:06:15+00:00\",\"2022-12-29T13:44:43+00:00\",\"2022-12-29T13:39:41+00:00\",\"2022-12-29T13:37:21+00:00\",\"2022-12-29T13:06:21+00:00\",\"2022-12-29T12:28:12+00:00\",\"2022-12-29T12:01:37+00:00\",\"2022-12-29T10:15:30+00:00\",\"2022-12-29T01:18:47+00:00\",\"2022-12-28T19:34:04+00:00\",\"2022-12-28T18:05:12+00:00\",\"2022-12-28T17:30:55+00:00\",\"2022-12-28T17:29:00+00:00\",\"2022-12-28T16:56:30+00:00\",\"2022-12-28T16:05:06+00:00\",\"2022-12-28T14:00:03+00:00\",\"2022-12-28T13:59:06+00:00\",\"2022-12-28T13:55:59+00:00\",\"2022-12-28T13:04:11+00:00\",\"2022-12-28T11:27:11+00:00\",\"2022-12-27T21:11:42+00:00\",\"2022-12-27T20:11:58+00:00\",\"2022-12-27T19:20:24+00:00\",\"2022-12-27T18:03:08+00:00\",\"2022-12-27T17:16:03+00:00\",\"2022-12-27T16:30:03+00:00\",\"2022-12-27T16:20:43+00:00\",\"2022-12-27T15:30:47+00:00\",\"2022-12-27T15:21:13+00:00\",\"2022-12-27T13:42:52+00:00\",\"2022-12-27T10:24:22+00:00\",\"2022-12-27T04:21:05+00:00\",\"2022-12-26T23:36:54+00:00\",\"2022-12-26T21:30:44+00:00\",\"2022-12-26T20:46:39+00:00\",\"2022-12-26T20:31:50+00:00\",\"2022-12-26T19:37:03+00:00\",\"2022-12-26T17:39:56+00:00\",\"2022-12-26T16:58:11+00:00\",\"2022-12-26T16:43:25+00:00\",\"2022-12-26T16:27:15+00:00\",\"2022-12-26T15:23:33+00:00\",\"2022-12-26T14:43:34+00:00\",\"2022-12-26T14:41:56+00:00\",\"2022-12-26T14:39:32+00:00\",\"2022-12-26T14:07:12+00:00\",\"2022-12-26T13:45:15+00:00\",\"2022-12-26T08:42:30+00:00\",\"2022-12-26T04:17:04+00:00\",\"2022-12-26T04:16:25+00:00\",\"2022-12-26T00:19:05+00:00\",\"2022-12-25T23:52:27+00:00\",\"2022-12-25T21:32:17+00:00\",\"2022-12-25T21:21:00+00:00\",\"2022-12-25T19:44:19+00:00\",\"2022-12-25T19:30:17+00:00\",\"2022-12-25T19:11:06+00:00\",\"2022-12-25T18:49:49+00:00\",\"2022-12-25T18:32:00+00:00\",\"2022-12-25T17:41:06+00:00\",\"2022-12-25T17:40:19+00:00\",\"2022-12-25T17:27:32+00:00\",\"2022-12-25T16:28:46+00:00\",\"2022-12-25T16:18:57+00:00\",\"2022-12-25T16:18:25+00:00\",\"2022-12-25T16:15:41+00:00\",\"2022-12-25T16:13:25+00:00\",\"2022-12-25T16:12:24+00:00\",\"2022-12-25T11:22:17+00:00\",\"2022-12-25T10:05:39+00:00\",\"2022-12-25T05:49:17+00:00\",\"2022-12-25T03:54:02+00:00\",\"2022-12-25T02:49:22+00:00\",\"2022-12-25T02:46:08+00:00\",\"2022-12-25T00:03:09+00:00\",\"2022-12-24T23:30:37+00:00\",\"2022-12-24T22:10:23+00:00\",\"2022-12-24T22:03:06+00:00\",\"2022-12-24T21:51:06+00:00\",\"2022-12-24T21:27:52+00:00\",\"2022-12-24T20:20:14+00:00\",\"2022-12-24T19:57:11+00:00\",\"2022-12-24T19:49:41+00:00\",\"2022-12-24T19:37:36+00:00\",\"2022-12-24T19:35:29+00:00\",\"2022-12-24T19:09:11+00:00\",\"2022-12-24T18:26:18+00:00\",\"2022-12-24T18:26:10+00:00\",\"2022-12-24T18:25:41+00:00\",\"2022-12-24T18:23:40+00:00\",\"2022-12-24T18:10:58+00:00\",\"2022-12-24T18:08:31+00:00\",\"2022-12-24T17:46:23+00:00\",\"2022-12-24T17:32:00+00:00\",\"2022-12-24T17:25:21+00:00\",\"2022-12-24T15:40:28+00:00\",\"2022-12-24T15:39:17+00:00\",\"2022-12-24T15:36:20+00:00\",\"2022-12-24T15:20:50+00:00\",\"2022-12-24T15:19:38+00:00\",\"2022-12-24T15:19:05+00:00\",\"2022-12-24T15:17:21+00:00\",\"2022-12-24T13:35:59+00:00\",\"2022-12-24T13:33:01+00:00\",\"2022-12-24T13:24:15+00:00\",\"2022-12-24T13:12:13+00:00\",\"2022-12-24T13:07:50+00:00\",\"2022-12-24T03:06:21+00:00\",\"2022-12-24T02:27:15+00:00\",\"2022-12-24T01:47:52+00:00\",\"2022-12-24T00:41:50+00:00\",\"2022-12-24T00:38:39+00:00\",\"2022-12-24T00:13:43+00:00\",\"2022-12-23T23:53:44+00:00\",\"2022-12-23T22:12:15+00:00\",\"2022-12-23T21:34:59+00:00\",\"2022-12-23T20:07:30+00:00\",\"2022-12-23T18:24:47+00:00\",\"2022-12-23T18:11:12+00:00\",\"2022-12-23T16:37:19+00:00\",\"2022-12-23T16:35:21+00:00\",\"2022-12-23T16:32:00+00:00\",\"2022-12-23T13:38:48+00:00\",\"2022-12-23T13:34:23+00:00\",\"2022-12-23T13:21:55+00:00\",\"2022-12-22T23:53:08+00:00\",\"2022-12-22T23:36:57+00:00\",\"2022-12-22T23:17:14+00:00\",\"2022-12-22T23:16:33+00:00\",\"2022-12-22T23:15:30+00:00\",\"2022-12-22T23:09:19+00:00\",\"2022-12-22T21:41:03+00:00\",\"2022-12-22T20:24:24+00:00\",\"2022-12-22T18:52:13+00:00\",\"2022-12-22T18:27:49+00:00\",\"2022-12-22T18:09:14+00:00\",\"2022-12-22T17:20:03+00:00\",\"2022-12-22T15:31:00+00:00\",\"2022-12-22T15:15:08+00:00\",\"2022-12-22T15:01:13+00:00\",\"2022-12-22T13:27:48+00:00\",\"2022-12-22T13:24:27+00:00\",\"2022-12-22T12:48:17+00:00\",\"2022-12-22T03:13:32+00:00\",\"2022-12-22T02:18:53+00:00\",\"2022-12-22T00:18:04+00:00\",\"2022-12-22T00:17:23+00:00\",\"2022-12-22T00:09:44+00:00\",\"2022-12-21T15:44:31+00:00\",\"2022-12-21T15:38:10+00:00\",\"2022-12-21T15:27:59+00:00\",\"2022-12-21T14:51:21+00:00\",\"2022-12-21T14:17:29+00:00\",\"2022-12-21T14:16:28+00:00\",\"2022-12-21T14:10:59+00:00\",\"2022-12-21T13:50:53+00:00\",\"2022-12-21T13:31:02+00:00\",\"2022-12-21T13:30:40+00:00\",\"2022-12-21T11:46:03+00:00\",\"2022-12-21T10:17:43+00:00\",\"2022-12-21T02:27:59+00:00\",\"2022-12-20T18:23:39+00:00\",\"2022-12-20T18:09:16+00:00\",\"2022-12-20T17:14:31+00:00\",\"2022-12-20T16:39:41+00:00\",\"2022-12-20T15:58:22+00:00\",\"2022-12-20T15:41:12+00:00\",\"2022-12-20T15:34:08+00:00\",\"2022-12-20T15:08:12+00:00\",\"2022-12-20T14:48:13+00:00\",\"2022-12-20T14:44:44+00:00\",\"2022-12-20T14:43:33+00:00\",\"2022-12-20T14:38:52+00:00\",\"2022-12-20T14:33:06+00:00\",\"2022-12-20T14:24:03+00:00\",\"2022-12-20T13:56:17+00:00\",\"2022-12-20T13:29:13+00:00\",\"2022-12-20T13:01:37+00:00\",\"2022-12-20T12:39:23+00:00\",\"2022-12-20T12:28:36+00:00\",\"2022-12-20T12:01:45+00:00\",\"2022-12-20T11:38:54+00:00\",\"2022-12-20T02:53:31+00:00\",\"2022-12-19T18:53:24+00:00\",\"2022-12-19T17:07:09+00:00\",\"2022-12-19T14:54:36+00:00\",\"2022-12-19T14:54:07+00:00\",\"2022-12-19T14:51:02+00:00\",\"2022-12-19T14:44:07+00:00\",\"2022-12-19T13:09:51+00:00\",\"2022-12-19T12:30:29+00:00\",\"2022-12-18T16:40:53+00:00\",\"2022-12-18T15:23:52+00:00\",\"2022-12-18T15:02:15+00:00\",\"2022-12-18T14:42:44+00:00\",\"2022-12-18T14:14:06+00:00\",\"2022-12-18T13:58:36+00:00\",\"2022-12-18T13:30:19+00:00\",\"2022-12-18T07:13:25+00:00\",\"2022-12-18T05:00:26+00:00\",\"2022-12-18T03:03:36+00:00\",\"2022-12-18T02:56:25+00:00\",\"2022-12-18T02:40:12+00:00\",\"2022-12-18T00:54:55+00:00\",\"2022-12-18T00:38:21+00:00\",\"2022-12-17T22:01:28+00:00\",\"2022-12-17T21:37:10+00:00\",\"2022-12-17T21:11:35+00:00\",\"2022-12-17T20:37:14+00:00\",\"2022-12-17T20:34:51+00:00\",\"2022-12-17T20:33:53+00:00\",\"2022-12-17T20:32:36+00:00\",\"2022-12-17T20:24:06+00:00\",\"2022-12-17T19:33:06+00:00\",\"2022-12-17T19:25:43+00:00\",\"2022-12-17T19:17:14+00:00\",\"2022-12-17T19:15:39+00:00\",\"2022-12-17T19:14:06+00:00\",\"2022-12-17T19:08:47+00:00\",\"2022-12-17T18:59:06+00:00\",\"2022-12-17T18:54:24+00:00\",\"2022-12-17T18:53:56+00:00\",\"2022-12-17T18:50:12+00:00\",\"2022-12-17T18:45:20+00:00\",\"2022-12-17T18:30:27+00:00\",\"2022-12-17T18:15:33+00:00\",\"2022-12-17T18:04:41+00:00\",\"2022-12-17T17:29:03+00:00\",\"2022-12-17T17:20:38+00:00\",\"2022-12-17T16:35:42+00:00\",\"2022-12-17T15:30:15+00:00\",\"2022-12-17T15:23:46+00:00\",\"2022-12-17T15:18:22+00:00\",\"2022-12-17T15:14:11+00:00\",\"2022-12-17T15:09:34+00:00\",\"2022-12-17T15:03:17+00:00\",\"2022-12-17T15:00:46+00:00\",\"2022-12-17T14:59:32+00:00\",\"2022-12-17T14:49:21+00:00\",\"2022-12-17T14:11:37+00:00\",\"2022-12-17T13:47:08+00:00\",\"2022-12-17T13:45:13+00:00\",\"2022-12-17T13:43:01+00:00\",\"2022-12-17T13:24:02+00:00\",\"2022-12-17T12:51:26+00:00\",\"2022-12-17T12:48:34+00:00\",\"2022-12-17T12:35:48+00:00\",\"2022-12-17T12:25:22+00:00\",\"2022-12-17T12:16:46+00:00\",\"2022-12-17T12:14:22+00:00\",\"2022-12-17T12:13:17+00:00\",\"2022-12-17T11:40:48+00:00\",\"2022-12-17T11:32:13+00:00\",\"2022-12-17T10:53:56+00:00\",\"2022-12-17T10:03:36+00:00\",\"2022-12-17T04:44:49+00:00\",\"2022-12-17T03:08:03+00:00\",\"2022-12-17T03:03:12+00:00\",\"2022-12-17T02:45:00+00:00\",\"2022-12-17T02:30:23+00:00\",\"2022-12-17T02:17:43+00:00\",\"2022-12-17T02:13:54+00:00\",\"2022-12-17T01:59:25+00:00\",\"2022-12-17T00:59:25+00:00\",\"2022-12-17T00:28:26+00:00\",\"2022-12-17T00:27:18+00:00\",\"2022-12-16T23:55:02+00:00\",\"2022-12-16T23:43:54+00:00\",\"2022-12-16T22:18:57+00:00\",\"2022-12-16T19:16:22+00:00\",\"2022-12-16T19:12:05+00:00\",\"2022-12-16T18:57:53+00:00\",\"2022-12-16T18:43:35+00:00\",\"2022-12-16T18:39:14+00:00\",\"2022-12-16T18:03:24+00:00\",\"2022-12-16T16:40:39+00:00\",\"2022-12-16T16:39:51+00:00\",\"2022-12-16T15:04:04+00:00\",\"2022-12-16T15:02:34+00:00\",\"2022-12-16T14:53:04+00:00\",\"2022-12-16T12:02:08+00:00\",\"2022-12-16T11:29:49+00:00\",\"2022-12-16T04:04:42+00:00\",\"2022-12-16T04:02:35+00:00\",\"2022-12-16T03:58:13+00:00\",\"2022-12-16T02:10:22+00:00\",\"2022-12-16T02:06:11+00:00\",\"2022-12-16T02:05:18+00:00\",\"2022-12-15T19:59:48+00:00\",\"2022-12-15T19:24:04+00:00\",\"2022-12-15T17:54:01+00:00\",\"2022-12-15T17:46:12+00:00\",\"2022-12-15T17:14:17+00:00\",\"2022-12-15T14:29:32+00:00\",\"2022-12-15T12:29:39+00:00\",\"2022-12-15T03:12:53+00:00\",\"2022-12-15T03:11:58+00:00\",\"2022-12-15T02:58:36+00:00\",\"2022-12-14T19:31:13+00:00\",\"2022-12-14T14:51:58+00:00\",\"2022-12-14T14:22:24+00:00\",\"2022-12-14T14:14:37+00:00\",\"2022-12-14T14:07:31+00:00\",\"2022-12-14T13:20:04+00:00\",\"2022-12-14T12:19:32+00:00\",\"2022-12-14T03:53:40+00:00\",\"2022-12-14T03:52:46+00:00\",\"2022-12-14T03:50:33+00:00\",\"2022-12-14T03:49:36+00:00\",\"2022-12-14T03:47:38+00:00\",\"2022-12-14T02:50:02+00:00\",\"2022-12-14T01:43:41+00:00\",\"2022-12-13T22:28:22+00:00\",\"2022-12-13T22:21:57+00:00\",\"2022-12-13T22:13:45+00:00\",\"2022-12-13T14:53:32+00:00\",\"2022-12-13T03:22:44+00:00\",\"2022-12-13T02:56:36+00:00\",\"2022-12-13T00:05:56+00:00\",\"2022-12-12T21:32:38+00:00\",\"2022-12-12T21:21:54+00:00\",\"2022-12-12T20:39:26+00:00\",\"2022-12-12T14:43:55+00:00\",\"2022-12-12T14:20:24+00:00\",\"2022-12-12T14:15:58+00:00\",\"2022-12-12T13:29:32+00:00\",\"2022-12-12T13:28:22+00:00\",\"2022-12-12T00:42:23+00:00\",\"2022-12-12T00:41:36+00:00\",\"2022-12-12T00:20:40+00:00\",\"2022-12-11T23:48:35+00:00\",\"2022-12-11T23:47:04+00:00\",\"2022-12-11T23:46:08+00:00\",\"2022-12-11T23:05:08+00:00\",\"2022-12-11T23:03:56+00:00\",\"2022-12-11T22:58:36+00:00\",\"2022-12-11T22:30:22+00:00\",\"2022-12-11T20:00:53+00:00\",\"2022-12-11T19:33:11+00:00\",\"2022-12-11T18:05:06+00:00\",\"2022-12-11T17:16:44+00:00\",\"2022-12-11T17:15:49+00:00\",\"2022-12-11T17:14:59+00:00\",\"2022-12-11T16:29:51+00:00\",\"2022-12-11T16:26:22+00:00\",\"2022-12-11T16:19:08+00:00\",\"2022-12-11T15:19:12+00:00\",\"2022-12-11T15:05:55+00:00\",\"2022-12-11T05:57:54+00:00\",\"2022-12-11T05:56:13+00:00\",\"2022-12-10T15:09:28+00:00\",\"2022-12-09T16:05:07+00:00\",\"2022-12-09T14:31:45+00:00\",\"2022-12-09T13:42:36+00:00\",\"2022-12-08T20:46:25+00:00\",\"2022-12-08T20:42:21+00:00\",\"2022-12-08T20:33:39+00:00\",\"2022-12-08T20:15:37+00:00\",\"2022-12-08T19:47:24+00:00\",\"2022-12-08T19:18:53+00:00\",\"2022-12-08T16:38:48+00:00\",\"2022-12-08T14:50:00+00:00\",\"2022-12-08T13:29:05+00:00\",\"2022-12-08T13:27:07+00:00\",\"2022-12-08T13:24:48+00:00\",\"2022-12-08T13:12:37+00:00\",\"2022-12-08T13:12:03+00:00\",\"2022-12-08T13:09:36+00:00\",\"2022-12-08T12:57:34+00:00\",\"2022-12-08T12:31:51+00:00\",\"2022-12-08T12:29:50+00:00\",\"2022-12-08T12:29:39+00:00\",\"2022-12-08T12:24:24+00:00\",\"2022-12-07T13:19:13+00:00\",\"2022-12-07T13:04:49+00:00\",\"2022-12-07T12:51:04+00:00\",\"2022-12-07T12:50:21+00:00\",\"2022-12-07T12:49:32+00:00\",\"2022-12-07T12:41:07+00:00\",\"2022-12-07T12:39:58+00:00\",\"2022-12-07T12:38:20+00:00\",\"2022-12-07T10:54:12+00:00\",\"2022-12-06T23:54:46+00:00\",\"2022-12-06T20:51:15+00:00\",\"2022-12-06T19:10:50+00:00\",\"2022-12-06T18:39:01+00:00\",\"2022-12-06T15:09:51+00:00\",\"2022-12-06T14:34:27+00:00\",\"2022-12-06T14:23:38+00:00\",\"2022-12-06T14:03:34+00:00\",\"2022-12-06T12:25:47+00:00\",\"2022-12-06T01:18:02+00:00\",\"2022-12-06T00:38:15+00:00\",\"2022-12-05T21:22:27+00:00\",\"2022-12-05T20:56:28+00:00\",\"2022-12-05T20:42:21+00:00\",\"2022-12-05T20:29:28+00:00\",\"2022-12-05T20:29:22+00:00\",\"2022-12-05T20:19:53+00:00\",\"2022-12-05T19:06:01+00:00\",\"2022-12-05T18:36:23+00:00\",\"2022-12-05T18:13:21+00:00\",\"2022-12-05T17:05:31+00:00\",\"2022-12-05T14:17:24+00:00\",\"2022-12-05T01:56:29+00:00\",\"2022-12-05T01:56:27+00:00\",\"2022-12-04T22:52:03+00:00\",\"2022-12-04T20:33:45+00:00\",\"2022-12-04T20:03:08+00:00\",\"2022-12-04T17:34:31+00:00\",\"2022-12-04T05:50:36+00:00\",\"2022-12-04T00:11:20+00:00\",\"2022-12-03T20:43:52+00:00\",\"2022-12-03T19:48:04+00:00\",\"2022-12-03T19:46:31+00:00\",\"2022-12-03T19:44:43+00:00\",\"2022-12-03T18:09:27+00:00\",\"2022-12-03T17:54:53+00:00\",\"2022-12-03T17:54:06+00:00\",\"2022-12-03T17:53:12+00:00\",\"2022-12-03T17:52:54+00:00\",\"2022-12-03T17:52:23+00:00\",\"2022-12-03T16:02:55+00:00\",\"2022-12-03T16:01:28+00:00\",\"2022-12-03T13:50:45+00:00\",\"2022-12-03T10:13:25+00:00\",\"2022-12-03T03:44:44+00:00\",\"2022-12-03T02:05:29+00:00\",\"2022-12-03T01:48:39+00:00\",\"2022-12-03T01:47:23+00:00\",\"2022-12-03T01:43:49+00:00\",\"2022-12-03T00:22:43+00:00\",\"2022-12-03T00:20:02+00:00\",\"2022-12-02T23:20:59+00:00\",\"2022-12-02T21:40:05+00:00\",\"2022-12-02T19:51:25+00:00\",\"2022-12-02T19:39:22+00:00\",\"2022-12-02T18:03:08+00:00\",\"2022-12-02T15:45:22+00:00\",\"2022-12-02T15:21:20+00:00\",\"2022-12-02T14:50:57+00:00\",\"2022-12-02T14:18:32+00:00\",\"2022-12-02T11:53:03+00:00\",\"2022-12-02T11:21:38+00:00\",\"2022-12-02T00:45:30+00:00\",\"2022-12-01T20:00:30+00:00\",\"2022-12-01T19:45:02+00:00\",\"2022-12-01T19:13:15+00:00\",\"2022-12-01T19:00:21+00:00\",\"2022-12-01T18:55:46+00:00\",\"2022-12-01T15:31:45+00:00\",\"2022-12-01T14:15:16+00:00\",\"2022-12-01T12:17:48+00:00\",\"2022-12-01T03:59:51+00:00\",\"2022-12-01T03:58:26+00:00\",\"2022-12-01T02:06:12+00:00\",\"2022-11-30T23:30:36+00:00\",\"2022-11-30T21:14:48+00:00\",\"2022-11-30T21:12:40+00:00\",\"2022-11-30T19:58:52+00:00\",\"2022-11-30T19:05:11+00:00\",\"2022-11-30T17:08:30+00:00\",\"2022-11-30T17:06:54+00:00\",\"2022-11-30T16:43:38+00:00\",\"2022-11-30T16:34:34+00:00\",\"2022-11-30T16:29:52+00:00\",\"2022-11-30T16:08:29+00:00\",\"2022-11-30T15:48:15+00:00\",\"2022-11-30T15:05:49+00:00\",\"2022-11-30T14:53:39+00:00\",\"2022-11-30T14:25:29+00:00\",\"2022-11-30T13:32:36+00:00\",\"2022-11-30T12:39:19+00:00\",\"2022-11-29T22:12:13+00:00\",\"2022-11-29T20:58:22+00:00\",\"2022-11-29T20:38:18+00:00\",\"2022-11-29T19:59:56+00:00\",\"2022-11-29T19:57:23+00:00\",\"2022-11-29T19:28:59+00:00\",\"2022-11-29T16:32:23+00:00\",\"2022-11-29T15:46:42+00:00\",\"2022-11-29T01:49:02+00:00\",\"2022-11-29T01:32:35+00:00\",\"2022-11-29T01:31:14+00:00\",\"2022-11-28T19:14:31+00:00\",\"2022-11-28T18:14:03+00:00\",\"2022-11-28T14:23:33+00:00\",\"2022-11-28T03:01:49+00:00\",\"2022-11-28T02:55:15+00:00\",\"2022-11-28T02:38:27+00:00\",\"2022-11-28T02:37:37+00:00\",\"2022-11-28T02:35:34+00:00\",\"2022-11-28T02:35:19+00:00\",\"2022-11-28T02:33:28+00:00\",\"2022-11-27T23:07:02+00:00\",\"2022-11-27T22:56:18+00:00\",\"2022-11-27T22:55:31+00:00\",\"2022-11-27T22:43:28+00:00\",\"2022-11-27T22:41:53+00:00\"],\"xaxis\":\"x\",\"yaxis\":\"y\",\"type\":\"histogram\"}],                        {\"template\":{\"data\":{\"bar\":[{\"error_x\":{\"color\":\"#2a3f5f\"},\"error_y\":{\"color\":\"#2a3f5f\"},\"marker\":{\"line\":{\"color\":\"#E5ECF6\",\"width\":0.5},\"pattern\":{\"fillmode\":\"overlay\",\"size\":10,\"solidity\":0.2}},\"type\":\"bar\"}],\"barpolar\":[{\"marker\":{\"line\":{\"color\":\"#E5ECF6\",\"width\":0.5},\"pattern\":{\"fillmode\":\"overlay\",\"size\":10,\"solidity\":0.2}},\"type\":\"barpolar\"}],\"carpet\":[{\"aaxis\":{\"endlinecolor\":\"#2a3f5f\",\"gridcolor\":\"white\",\"linecolor\":\"white\",\"minorgridcolor\":\"white\",\"startlinecolor\":\"#2a3f5f\"},\"baxis\":{\"endlinecolor\":\"#2a3f5f\",\"gridcolor\":\"white\",\"linecolor\":\"white\",\"minorgridcolor\":\"white\",\"startlinecolor\":\"#2a3f5f\"},\"type\":\"carpet\"}],\"choropleth\":[{\"colorbar\":{\"outlinewidth\":0,\"ticks\":\"\"},\"type\":\"choropleth\"}],\"contour\":[{\"colorbar\":{\"outlinewidth\":0,\"ticks\":\"\"},\"colorscale\":[[0.0,\"#0d0887\"],[0.1111111111111111,\"#46039f\"],[0.2222222222222222,\"#7201a8\"],[0.3333333333333333,\"#9c179e\"],[0.4444444444444444,\"#bd3786\"],[0.5555555555555556,\"#d8576b\"],[0.6666666666666666,\"#ed7953\"],[0.7777777777777778,\"#fb9f3a\"],[0.8888888888888888,\"#fdca26\"],[1.0,\"#f0f921\"]],\"type\":\"contour\"}],\"contourcarpet\":[{\"colorbar\":{\"outlinewidth\":0,\"ticks\":\"\"},\"type\":\"contourcarpet\"}],\"heatmap\":[{\"colorbar\":{\"outlinewidth\":0,\"ticks\":\"\"},\"colorscale\":[[0.0,\"#0d0887\"],[0.1111111111111111,\"#46039f\"],[0.2222222222222222,\"#7201a8\"],[0.3333333333333333,\"#9c179e\"],[0.4444444444444444,\"#bd3786\"],[0.5555555555555556,\"#d8576b\"],[0.6666666666666666,\"#ed7953\"],[0.7777777777777778,\"#fb9f3a\"],[0.8888888888888888,\"#fdca26\"],[1.0,\"#f0f921\"]],\"type\":\"heatmap\"}],\"heatmapgl\":[{\"colorbar\":{\"outlinewidth\":0,\"ticks\":\"\"},\"colorscale\":[[0.0,\"#0d0887\"],[0.1111111111111111,\"#46039f\"],[0.2222222222222222,\"#7201a8\"],[0.3333333333333333,\"#9c179e\"],[0.4444444444444444,\"#bd3786\"],[0.5555555555555556,\"#d8576b\"],[0.6666666666666666,\"#ed7953\"],[0.7777777777777778,\"#fb9f3a\"],[0.8888888888888888,\"#fdca26\"],[1.0,\"#f0f921\"]],\"type\":\"heatmapgl\"}],\"histogram\":[{\"marker\":{\"pattern\":{\"fillmode\":\"overlay\",\"size\":10,\"solidity\":0.2}},\"type\":\"histogram\"}],\"histogram2d\":[{\"colorbar\":{\"outlinewidth\":0,\"ticks\":\"\"},\"colorscale\":[[0.0,\"#0d0887\"],[0.1111111111111111,\"#46039f\"],[0.2222222222222222,\"#7201a8\"],[0.3333333333333333,\"#9c179e\"],[0.4444444444444444,\"#bd3786\"],[0.5555555555555556,\"#d8576b\"],[0.6666666666666666,\"#ed7953\"],[0.7777777777777778,\"#fb9f3a\"],[0.8888888888888888,\"#fdca26\"],[1.0,\"#f0f921\"]],\"type\":\"histogram2d\"}],\"histogram2dcontour\":[{\"colorbar\":{\"outlinewidth\":0,\"ticks\":\"\"},\"colorscale\":[[0.0,\"#0d0887\"],[0.1111111111111111,\"#46039f\"],[0.2222222222222222,\"#7201a8\"],[0.3333333333333333,\"#9c179e\"],[0.4444444444444444,\"#bd3786\"],[0.5555555555555556,\"#d8576b\"],[0.6666666666666666,\"#ed7953\"],[0.7777777777777778,\"#fb9f3a\"],[0.8888888888888888,\"#fdca26\"],[1.0,\"#f0f921\"]],\"type\":\"histogram2dcontour\"}],\"mesh3d\":[{\"colorbar\":{\"outlinewidth\":0,\"ticks\":\"\"},\"type\":\"mesh3d\"}],\"parcoords\":[{\"line\":{\"colorbar\":{\"outlinewidth\":0,\"ticks\":\"\"}},\"type\":\"parcoords\"}],\"pie\":[{\"automargin\":true,\"type\":\"pie\"}],\"scatter\":[{\"marker\":{\"colorbar\":{\"outlinewidth\":0,\"ticks\":\"\"}},\"type\":\"scatter\"}],\"scatter3d\":[{\"line\":{\"colorbar\":{\"outlinewidth\":0,\"ticks\":\"\"}},\"marker\":{\"colorbar\":{\"outlinewidth\":0,\"ticks\":\"\"}},\"type\":\"scatter3d\"}],\"scattercarpet\":[{\"marker\":{\"colorbar\":{\"outlinewidth\":0,\"ticks\":\"\"}},\"type\":\"scattercarpet\"}],\"scattergeo\":[{\"marker\":{\"colorbar\":{\"outlinewidth\":0,\"ticks\":\"\"}},\"type\":\"scattergeo\"}],\"scattergl\":[{\"marker\":{\"colorbar\":{\"outlinewidth\":0,\"ticks\":\"\"}},\"type\":\"scattergl\"}],\"scattermapbox\":[{\"marker\":{\"colorbar\":{\"outlinewidth\":0,\"ticks\":\"\"}},\"type\":\"scattermapbox\"}],\"scatterpolar\":[{\"marker\":{\"colorbar\":{\"outlinewidth\":0,\"ticks\":\"\"}},\"type\":\"scatterpolar\"}],\"scatterpolargl\":[{\"marker\":{\"colorbar\":{\"outlinewidth\":0,\"ticks\":\"\"}},\"type\":\"scatterpolargl\"}],\"scatterternary\":[{\"marker\":{\"colorbar\":{\"outlinewidth\":0,\"ticks\":\"\"}},\"type\":\"scatterternary\"}],\"surface\":[{\"colorbar\":{\"outlinewidth\":0,\"ticks\":\"\"},\"colorscale\":[[0.0,\"#0d0887\"],[0.1111111111111111,\"#46039f\"],[0.2222222222222222,\"#7201a8\"],[0.3333333333333333,\"#9c179e\"],[0.4444444444444444,\"#bd3786\"],[0.5555555555555556,\"#d8576b\"],[0.6666666666666666,\"#ed7953\"],[0.7777777777777778,\"#fb9f3a\"],[0.8888888888888888,\"#fdca26\"],[1.0,\"#f0f921\"]],\"type\":\"surface\"}],\"table\":[{\"cells\":{\"fill\":{\"color\":\"#EBF0F8\"},\"line\":{\"color\":\"white\"}},\"header\":{\"fill\":{\"color\":\"#C8D4E3\"},\"line\":{\"color\":\"white\"}},\"type\":\"table\"}]},\"layout\":{\"annotationdefaults\":{\"arrowcolor\":\"#2a3f5f\",\"arrowhead\":0,\"arrowwidth\":1},\"autotypenumbers\":\"strict\",\"coloraxis\":{\"colorbar\":{\"outlinewidth\":0,\"ticks\":\"\"}},\"colorscale\":{\"diverging\":[[0,\"#8e0152\"],[0.1,\"#c51b7d\"],[0.2,\"#de77ae\"],[0.3,\"#f1b6da\"],[0.4,\"#fde0ef\"],[0.5,\"#f7f7f7\"],[0.6,\"#e6f5d0\"],[0.7,\"#b8e186\"],[0.8,\"#7fbc41\"],[0.9,\"#4d9221\"],[1,\"#276419\"]],\"sequential\":[[0.0,\"#0d0887\"],[0.1111111111111111,\"#46039f\"],[0.2222222222222222,\"#7201a8\"],[0.3333333333333333,\"#9c179e\"],[0.4444444444444444,\"#bd3786\"],[0.5555555555555556,\"#d8576b\"],[0.6666666666666666,\"#ed7953\"],[0.7777777777777778,\"#fb9f3a\"],[0.8888888888888888,\"#fdca26\"],[1.0,\"#f0f921\"]],\"sequentialminus\":[[0.0,\"#0d0887\"],[0.1111111111111111,\"#46039f\"],[0.2222222222222222,\"#7201a8\"],[0.3333333333333333,\"#9c179e\"],[0.4444444444444444,\"#bd3786\"],[0.5555555555555556,\"#d8576b\"],[0.6666666666666666,\"#ed7953\"],[0.7777777777777778,\"#fb9f3a\"],[0.8888888888888888,\"#fdca26\"],[1.0,\"#f0f921\"]]},\"colorway\":[\"#636efa\",\"#EF553B\",\"#00cc96\",\"#ab63fa\",\"#FFA15A\",\"#19d3f3\",\"#FF6692\",\"#B6E880\",\"#FF97FF\",\"#FECB52\"],\"font\":{\"color\":\"#2a3f5f\"},\"geo\":{\"bgcolor\":\"white\",\"lakecolor\":\"white\",\"landcolor\":\"#E5ECF6\",\"showlakes\":true,\"showland\":true,\"subunitcolor\":\"white\"},\"hoverlabel\":{\"align\":\"left\"},\"hovermode\":\"closest\",\"mapbox\":{\"style\":\"light\"},\"paper_bgcolor\":\"white\",\"plot_bgcolor\":\"#E5ECF6\",\"polar\":{\"angularaxis\":{\"gridcolor\":\"white\",\"linecolor\":\"white\",\"ticks\":\"\"},\"bgcolor\":\"#E5ECF6\",\"radialaxis\":{\"gridcolor\":\"white\",\"linecolor\":\"white\",\"ticks\":\"\"}},\"scene\":{\"xaxis\":{\"backgroundcolor\":\"#E5ECF6\",\"gridcolor\":\"white\",\"gridwidth\":2,\"linecolor\":\"white\",\"showbackground\":true,\"ticks\":\"\",\"zerolinecolor\":\"white\"},\"yaxis\":{\"backgroundcolor\":\"#E5ECF6\",\"gridcolor\":\"white\",\"gridwidth\":2,\"linecolor\":\"white\",\"showbackground\":true,\"ticks\":\"\",\"zerolinecolor\":\"white\"},\"zaxis\":{\"backgroundcolor\":\"#E5ECF6\",\"gridcolor\":\"white\",\"gridwidth\":2,\"linecolor\":\"white\",\"showbackground\":true,\"ticks\":\"\",\"zerolinecolor\":\"white\"}},\"shapedefaults\":{\"line\":{\"color\":\"#2a3f5f\"}},\"ternary\":{\"aaxis\":{\"gridcolor\":\"white\",\"linecolor\":\"white\",\"ticks\":\"\"},\"baxis\":{\"gridcolor\":\"white\",\"linecolor\":\"white\",\"ticks\":\"\"},\"bgcolor\":\"#E5ECF6\",\"caxis\":{\"gridcolor\":\"white\",\"linecolor\":\"white\",\"ticks\":\"\"}},\"title\":{\"x\":0.05},\"xaxis\":{\"automargin\":true,\"gridcolor\":\"white\",\"linecolor\":\"white\",\"ticks\":\"\",\"title\":{\"standoff\":15},\"zerolinecolor\":\"white\",\"zerolinewidth\":2},\"yaxis\":{\"automargin\":true,\"gridcolor\":\"white\",\"linecolor\":\"white\",\"ticks\":\"\",\"title\":{\"standoff\":15},\"zerolinecolor\":\"white\",\"zerolinewidth\":2}}},\"xaxis\":{\"anchor\":\"y\",\"domain\":[0.0,1.0],\"title\":{\"text\":\"Date\"}},\"yaxis\":{\"anchor\":\"x\",\"domain\":[0.0,1.0],\"title\":{\"text\":\"count\"}},\"legend\":{\"tracegroupgap\":0},\"title\":{\"text\":\"Tweets durante durante el tiempo\"},\"barmode\":\"relative\",\"bargap\":0.2},                        {\"responsive\": true}                    ).then(function(){\n",
              "                            \n",
              "var gd = document.getElementById('ae31da3e-588e-439e-b299-b101b55bdf5d');\n",
              "var x = new MutationObserver(function (mutations, observer) {{\n",
              "        var display = window.getComputedStyle(gd).display;\n",
              "        if (!display || display === 'none') {{\n",
              "            console.log([gd, 'removed!']);\n",
              "            Plotly.purge(gd);\n",
              "            observer.disconnect();\n",
              "        }}\n",
              "}});\n",
              "\n",
              "// Listen for the removal of the full notebook cells\n",
              "var notebookContainer = gd.closest('#notebook-container');\n",
              "if (notebookContainer) {{\n",
              "    x.observe(notebookContainer, {childList: true});\n",
              "}}\n",
              "\n",
              "// Listen for the clearing of the current output cell\n",
              "var outputEl = gd.closest('.output');\n",
              "if (outputEl) {{\n",
              "    x.observe(outputEl, {childList: true});\n",
              "}}\n",
              "\n",
              "                        })                };                            </script>        </div>\n",
              "</body>\n",
              "</html>"
            ]
          },
          "metadata": {}
        }
      ]
    },
    {
      "cell_type": "code",
      "source": [
        "fig = px.histogram(dt, x=positive_tweet[\"Date\"], title=\"Tweets positivos durante el tiempo\")\n",
        "fig.update_layout(bargap=0.2)\n",
        "fig.show()"
      ],
      "metadata": {
        "colab": {
          "base_uri": "https://localhost:8080/",
          "height": 542
        },
        "id": "dbmsxiwiDOTU",
        "outputId": "5beb1d65-e840-4017-e07b-71948ab9d715"
      },
      "execution_count": 217,
      "outputs": [
        {
          "output_type": "display_data",
          "data": {
            "text/html": [
              "<html>\n",
              "<head><meta charset=\"utf-8\" /></head>\n",
              "<body>\n",
              "    <div>            <script src=\"https://cdnjs.cloudflare.com/ajax/libs/mathjax/2.7.5/MathJax.js?config=TeX-AMS-MML_SVG\"></script><script type=\"text/javascript\">if (window.MathJax) {MathJax.Hub.Config({SVG: {font: \"STIX-Web\"}});}</script>                <script type=\"text/javascript\">window.PlotlyConfig = {MathJaxConfig: 'local'};</script>\n",
              "        <script src=\"https://cdn.plot.ly/plotly-2.8.3.min.js\"></script>                <div id=\"a07a4387-73ba-40ab-b7c2-2728c6e2f190\" class=\"plotly-graph-div\" style=\"height:525px; width:100%;\"></div>            <script type=\"text/javascript\">                                    window.PLOTLYENV=window.PLOTLYENV || {};                                    if (document.getElementById(\"a07a4387-73ba-40ab-b7c2-2728c6e2f190\")) {                    Plotly.newPlot(                        \"a07a4387-73ba-40ab-b7c2-2728c6e2f190\",                        [{\"alignmentgroup\":\"True\",\"bingroup\":\"x\",\"hovertemplate\":\"x=%{x}<br>count=%{y}<extra></extra>\",\"legendgroup\":\"\",\"marker\":{\"color\":\"#636efa\",\"pattern\":{\"shape\":\"\"}},\"name\":\"\",\"offsetgroup\":\"\",\"orientation\":\"v\",\"showlegend\":false,\"x\":[\"2023-02-12T14:11:21+00:00\",\"2023-02-11T22:02:08+00:00\",\"2023-02-11T21:00:17+00:00\",\"2023-02-11T11:59:06+00:00\",\"2023-02-11T11:16:19+00:00\",\"2023-02-11T01:45:09+00:00\",\"2023-02-11T00:02:44+00:00\",\"2023-02-11T00:00:00+00:00\",\"2023-02-10T23:16:08+00:00\",\"2023-02-10T18:27:04+00:00\",\"2023-02-10T15:45:15+00:00\",\"2023-02-10T15:44:12+00:00\",\"2023-02-10T13:29:54+00:00\",\"2023-02-09T20:24:02+00:00\",\"2023-02-09T19:34:21+00:00\",\"2023-02-08T23:40:49+00:00\",\"2023-02-08T21:21:46+00:00\",\"2023-02-08T16:08:58+00:00\",\"2023-02-08T14:34:08+00:00\",\"2023-02-08T14:27:29+00:00\",\"2023-02-08T02:11:48+00:00\",\"2023-02-08T01:12:33+00:00\",\"2023-02-07T20:15:31+00:00\",\"2023-02-07T18:39:44+00:00\",\"2023-02-07T13:55:07+00:00\",\"2023-02-07T13:28:20+00:00\",\"2023-02-06T23:03:42+00:00\",\"2023-02-06T21:09:43+00:00\",\"2023-02-06T16:02:03+00:00\",\"2023-02-05T19:37:42+00:00\",\"2023-02-05T17:38:46+00:00\",\"2023-02-05T17:33:33+00:00\",\"2023-02-05T17:27:52+00:00\",\"2023-02-05T01:07:38+00:00\",\"2023-02-05T01:01:06+00:00\",\"2023-02-04T19:28:29+00:00\",\"2023-02-04T04:26:47+00:00\",\"2023-02-04T02:39:23+00:00\",\"2023-02-03T11:05:31+00:00\",\"2023-02-02T23:31:25+00:00\",\"2023-02-02T19:51:35+00:00\",\"2023-02-02T19:46:42+00:00\",\"2023-02-02T14:36:48+00:00\",\"2023-02-02T14:35:41+00:00\",\"2023-02-02T14:31:57+00:00\",\"2023-02-02T13:12:50+00:00\",\"2023-02-02T13:11:13+00:00\",\"2023-02-02T12:23:09+00:00\",\"2023-02-01T16:14:59+00:00\",\"2023-02-01T10:37:55+00:00\",\"2023-01-31T13:46:41+00:00\",\"2023-01-31T05:06:44+00:00\",\"2023-01-31T03:10:10+00:00\",\"2023-01-31T01:45:59+00:00\",\"2023-01-31T00:11:00+00:00\",\"2023-01-30T23:57:15+00:00\",\"2023-01-30T18:36:42+00:00\",\"2023-01-28T02:01:10+00:00\",\"2023-01-28T01:18:56+00:00\",\"2023-01-28T01:18:54+00:00\",\"2023-01-27T23:57:09+00:00\",\"2023-01-27T16:45:48+00:00\",\"2023-01-27T16:01:30+00:00\",\"2023-01-27T05:02:56+00:00\",\"2023-01-27T05:00:42+00:00\",\"2023-01-27T02:31:15+00:00\",\"2023-01-26T01:37:05+00:00\",\"2023-01-26T01:37:04+00:00\",\"2023-01-25T16:21:46+00:00\",\"2023-01-25T15:23:30+00:00\",\"2023-01-25T14:45:23+00:00\",\"2023-01-25T14:44:11+00:00\",\"2023-01-25T12:32:14+00:00\",\"2023-01-25T12:25:38+00:00\",\"2023-01-24T22:42:30+00:00\",\"2023-01-24T19:31:52+00:00\",\"2023-01-24T18:26:01+00:00\",\"2023-01-24T18:13:02+00:00\",\"2023-01-24T18:12:23+00:00\",\"2023-01-24T15:08:05+00:00\",\"2023-01-24T13:25:55+00:00\",\"2023-01-24T04:31:30+00:00\",\"2023-01-24T04:28:45+00:00\",\"2023-01-24T04:27:40+00:00\",\"2023-01-24T03:11:16+00:00\",\"2023-01-23T23:11:19+00:00\",\"2023-01-23T21:37:31+00:00\",\"2023-01-23T15:48:32+00:00\",\"2023-01-23T13:21:59+00:00\",\"2023-01-22T15:20:21+00:00\",\"2023-01-22T14:11:14+00:00\",\"2023-01-21T20:31:44+00:00\",\"2023-01-21T18:33:46+00:00\",\"2023-01-21T17:08:00+00:00\",\"2023-01-21T15:39:07+00:00\",\"2023-01-21T13:38:03+00:00\",\"2023-01-20T20:50:02+00:00\",\"2023-01-20T00:42:37+00:00\",\"2023-01-19T22:20:54+00:00\",\"2023-01-19T20:37:00+00:00\",\"2023-01-19T18:24:44+00:00\",\"2023-01-19T18:15:11+00:00\",\"2023-01-19T17:36:34+00:00\",\"2023-01-18T23:49:44+00:00\",\"2023-01-18T23:34:53+00:00\",\"2023-01-18T22:34:07+00:00\",\"2023-01-18T22:11:45+00:00\",\"2023-01-18T21:26:55+00:00\",\"2023-01-18T17:09:54+00:00\",\"2023-01-18T15:31:55+00:00\",\"2023-01-18T15:18:55+00:00\",\"2023-01-17T14:49:57+00:00\",\"2023-01-16T18:27:43+00:00\",\"2023-01-16T18:25:32+00:00\",\"2023-01-16T18:24:11+00:00\",\"2023-01-16T15:00:57+00:00\",\"2023-01-15T21:55:15+00:00\",\"2023-01-15T19:16:00+00:00\",\"2023-01-14T22:11:50+00:00\",\"2023-01-13T18:11:00+00:00\",\"2023-01-12T17:19:40+00:00\",\"2023-01-12T17:13:25+00:00\",\"2023-01-12T03:08:20+00:00\",\"2023-01-12T01:26:16+00:00\",\"2023-01-12T00:51:59+00:00\",\"2023-01-12T00:48:52+00:00\",\"2023-01-12T00:31:42+00:00\",\"2023-01-11T20:22:57+00:00\",\"2023-01-11T18:20:46+00:00\",\"2023-01-11T18:01:21+00:00\",\"2023-01-11T11:30:14+00:00\",\"2023-01-11T01:29:00+00:00\",\"2023-01-10T21:20:04+00:00\",\"2023-01-10T17:07:36+00:00\",\"2023-01-10T13:21:06+00:00\",\"2023-01-10T12:14:37+00:00\",\"2023-01-10T09:56:16+00:00\",\"2023-01-10T00:21:03+00:00\",\"2023-01-09T18:16:07+00:00\",\"2023-01-09T18:12:08+00:00\",\"2023-01-09T01:01:49+00:00\",\"2023-01-08T22:13:53+00:00\",\"2023-01-07T16:52:07+00:00\",\"2023-01-07T02:54:57+00:00\",\"2023-01-06T18:06:40+00:00\",\"2023-01-06T16:24:55+00:00\",\"2023-01-06T14:01:19+00:00\",\"2023-01-05T23:39:34+00:00\",\"2023-01-05T21:15:21+00:00\",\"2023-01-05T13:30:14+00:00\",\"2023-01-05T11:21:18+00:00\",\"2023-01-05T08:50:57+00:00\",\"2023-01-05T00:11:42+00:00\",\"2023-01-04T22:56:28+00:00\",\"2023-01-04T21:28:33+00:00\",\"2023-01-04T20:38:08+00:00\",\"2023-01-04T19:38:29+00:00\",\"2023-01-04T18:47:26+00:00\",\"2023-01-04T17:51:31+00:00\",\"2023-01-04T17:32:49+00:00\",\"2023-01-04T16:54:40+00:00\",\"2023-01-04T16:50:18+00:00\",\"2023-01-04T16:43:32+00:00\",\"2023-01-04T16:37:10+00:00\",\"2023-01-04T16:13:37+00:00\",\"2023-01-04T15:56:25+00:00\",\"2023-01-04T15:56:17+00:00\",\"2023-01-04T15:53:58+00:00\",\"2023-01-04T15:42:23+00:00\",\"2023-01-04T14:26:00+00:00\",\"2023-01-04T14:23:00+00:00\",\"2023-01-04T14:18:19+00:00\",\"2023-01-04T14:10:38+00:00\",\"2023-01-04T14:02:37+00:00\",\"2023-01-04T13:48:51+00:00\",\"2023-01-04T13:44:58+00:00\",\"2023-01-04T13:39:19+00:00\",\"2023-01-04T12:35:17+00:00\",\"2023-01-04T02:05:46+00:00\",\"2023-01-03T14:28:40+00:00\",\"2023-01-03T14:28:12+00:00\",\"2023-01-03T13:45:05+00:00\",\"2023-01-03T13:43:42+00:00\",\"2023-01-03T12:16:59+00:00\",\"2023-01-02T20:43:46+00:00\",\"2023-01-01T21:44:06+00:00\",\"2023-01-01T19:20:51+00:00\",\"2023-01-01T16:36:11+00:00\",\"2022-12-31T15:38:15+00:00\",\"2022-12-31T15:34:30+00:00\",\"2022-12-31T13:11:14+00:00\",\"2022-12-30T15:32:15+00:00\",\"2022-12-30T13:29:18+00:00\",\"2022-12-30T13:09:21+00:00\",\"2022-12-30T12:07:33+00:00\",\"2022-12-30T04:19:37+00:00\",\"2022-12-29T21:28:12+00:00\",\"2022-12-29T21:26:19+00:00\",\"2022-12-29T19:08:11+00:00\",\"2022-12-29T16:26:35+00:00\",\"2022-12-29T13:39:41+00:00\",\"2022-12-29T12:01:37+00:00\",\"2022-12-28T19:34:04+00:00\",\"2022-12-28T18:05:12+00:00\",\"2022-12-28T16:05:06+00:00\",\"2022-12-28T14:00:03+00:00\",\"2022-12-28T13:55:59+00:00\",\"2022-12-28T11:27:11+00:00\",\"2022-12-27T19:20:24+00:00\",\"2022-12-27T18:03:08+00:00\",\"2022-12-27T17:16:03+00:00\",\"2022-12-27T16:20:43+00:00\",\"2022-12-27T15:21:13+00:00\",\"2022-12-27T13:42:52+00:00\",\"2022-12-27T10:24:22+00:00\",\"2022-12-26T23:36:54+00:00\",\"2022-12-26T21:30:44+00:00\",\"2022-12-26T19:37:03+00:00\",\"2022-12-26T16:27:15+00:00\",\"2022-12-26T14:41:56+00:00\",\"2022-12-26T14:39:32+00:00\",\"2022-12-25T21:32:17+00:00\",\"2022-12-25T21:21:00+00:00\",\"2022-12-25T19:44:19+00:00\",\"2022-12-25T19:30:17+00:00\",\"2022-12-25T18:49:49+00:00\",\"2022-12-25T17:27:32+00:00\",\"2022-12-25T16:28:46+00:00\",\"2022-12-25T16:18:57+00:00\",\"2022-12-25T16:13:25+00:00\",\"2022-12-25T10:05:39+00:00\",\"2022-12-25T03:54:02+00:00\",\"2022-12-25T02:49:22+00:00\",\"2022-12-25T00:03:09+00:00\",\"2022-12-24T22:10:23+00:00\",\"2022-12-24T21:51:06+00:00\",\"2022-12-24T21:27:52+00:00\",\"2022-12-24T17:25:21+00:00\",\"2022-12-24T15:39:17+00:00\",\"2022-12-24T15:17:21+00:00\",\"2022-12-24T13:07:50+00:00\",\"2022-12-24T03:06:21+00:00\",\"2022-12-24T02:27:15+00:00\",\"2022-12-24T01:47:52+00:00\",\"2022-12-24T00:38:39+00:00\",\"2022-12-24T00:13:43+00:00\",\"2022-12-23T22:12:15+00:00\",\"2022-12-23T18:24:47+00:00\",\"2022-12-22T23:17:14+00:00\",\"2022-12-22T23:16:33+00:00\",\"2022-12-22T23:15:30+00:00\",\"2022-12-22T20:24:24+00:00\",\"2022-12-22T18:09:14+00:00\",\"2022-12-22T15:15:08+00:00\",\"2022-12-22T12:48:17+00:00\",\"2022-12-22T00:18:04+00:00\",\"2022-12-22T00:09:44+00:00\",\"2022-12-21T15:44:31+00:00\",\"2022-12-21T15:38:10+00:00\",\"2022-12-21T15:27:59+00:00\",\"2022-12-21T14:51:21+00:00\",\"2022-12-21T14:16:28+00:00\",\"2022-12-21T10:17:43+00:00\",\"2022-12-20T18:23:39+00:00\",\"2022-12-20T15:58:22+00:00\",\"2022-12-20T15:41:12+00:00\",\"2022-12-20T15:34:08+00:00\",\"2022-12-20T14:48:13+00:00\",\"2022-12-20T14:44:44+00:00\",\"2022-12-20T14:38:52+00:00\",\"2022-12-20T14:24:03+00:00\",\"2022-12-20T12:39:23+00:00\",\"2022-12-20T02:53:31+00:00\",\"2022-12-19T18:53:24+00:00\",\"2022-12-19T14:44:07+00:00\",\"2022-12-18T14:42:44+00:00\",\"2022-12-18T00:54:55+00:00\",\"2022-12-18T00:38:21+00:00\",\"2022-12-17T20:37:14+00:00\",\"2022-12-17T20:34:51+00:00\",\"2022-12-17T20:32:36+00:00\",\"2022-12-17T19:14:06+00:00\",\"2022-12-17T18:54:24+00:00\",\"2022-12-17T18:30:27+00:00\",\"2022-12-17T16:35:42+00:00\",\"2022-12-17T15:30:15+00:00\",\"2022-12-17T15:09:34+00:00\",\"2022-12-17T15:00:46+00:00\",\"2022-12-17T13:43:01+00:00\",\"2022-12-17T12:51:26+00:00\",\"2022-12-17T12:48:34+00:00\",\"2022-12-17T12:35:48+00:00\",\"2022-12-17T11:32:13+00:00\",\"2022-12-17T10:53:56+00:00\",\"2022-12-17T10:03:36+00:00\",\"2022-12-16T23:43:54+00:00\",\"2022-12-16T19:12:05+00:00\",\"2022-12-16T18:57:53+00:00\",\"2022-12-16T18:43:35+00:00\",\"2022-12-16T18:39:14+00:00\",\"2022-12-16T14:53:04+00:00\",\"2022-12-16T12:02:08+00:00\",\"2022-12-16T04:04:42+00:00\",\"2022-12-15T19:59:48+00:00\",\"2022-12-15T19:24:04+00:00\",\"2022-12-15T17:46:12+00:00\",\"2022-12-15T17:14:17+00:00\",\"2022-12-14T14:51:58+00:00\",\"2022-12-14T14:22:24+00:00\",\"2022-12-14T14:14:37+00:00\",\"2022-12-14T03:53:40+00:00\",\"2022-12-14T03:52:46+00:00\",\"2022-12-14T03:50:33+00:00\",\"2022-12-14T03:49:36+00:00\",\"2022-12-14T02:50:02+00:00\",\"2022-12-14T01:43:41+00:00\",\"2022-12-13T22:21:57+00:00\",\"2022-12-13T22:13:45+00:00\",\"2022-12-13T14:53:32+00:00\",\"2022-12-13T00:05:56+00:00\",\"2022-12-12T21:32:38+00:00\",\"2022-12-12T14:20:24+00:00\",\"2022-12-11T23:05:08+00:00\",\"2022-12-11T23:03:56+00:00\",\"2022-12-11T22:58:36+00:00\",\"2022-12-11T19:33:11+00:00\",\"2022-12-11T18:05:06+00:00\",\"2022-12-11T17:15:49+00:00\",\"2022-12-11T16:19:08+00:00\",\"2022-12-11T05:57:54+00:00\",\"2022-12-11T05:56:13+00:00\",\"2022-12-10T15:09:28+00:00\",\"2022-12-09T14:31:45+00:00\",\"2022-12-09T13:42:36+00:00\",\"2022-12-08T19:47:24+00:00\",\"2022-12-08T14:50:00+00:00\",\"2022-12-08T13:29:05+00:00\",\"2022-12-08T13:24:48+00:00\",\"2022-12-08T13:12:37+00:00\",\"2022-12-08T13:12:03+00:00\",\"2022-12-08T13:09:36+00:00\",\"2022-12-08T12:29:50+00:00\",\"2022-12-07T12:41:07+00:00\",\"2022-12-06T20:51:15+00:00\",\"2022-12-06T19:10:50+00:00\",\"2022-12-06T18:39:01+00:00\",\"2022-12-06T14:34:27+00:00\",\"2022-12-06T12:25:47+00:00\",\"2022-12-06T01:18:02+00:00\",\"2022-12-05T20:56:28+00:00\",\"2022-12-05T20:42:21+00:00\",\"2022-12-04T20:33:45+00:00\",\"2022-12-03T19:44:43+00:00\",\"2022-12-03T17:54:53+00:00\",\"2022-12-03T17:52:23+00:00\",\"2022-12-03T16:01:28+00:00\",\"2022-12-03T03:44:44+00:00\",\"2022-12-03T01:43:49+00:00\",\"2022-12-03T00:22:43+00:00\",\"2022-12-03T00:20:02+00:00\",\"2022-12-02T21:40:05+00:00\",\"2022-12-02T19:39:22+00:00\",\"2022-12-02T18:03:08+00:00\",\"2022-12-02T15:45:22+00:00\",\"2022-12-02T14:18:32+00:00\",\"2022-12-01T20:00:30+00:00\",\"2022-12-01T19:13:15+00:00\",\"2022-12-01T03:59:51+00:00\",\"2022-12-01T03:58:26+00:00\",\"2022-11-30T21:14:48+00:00\",\"2022-11-30T21:12:40+00:00\",\"2022-11-30T19:05:11+00:00\",\"2022-11-30T16:34:34+00:00\",\"2022-11-29T22:12:13+00:00\",\"2022-11-29T20:58:22+00:00\",\"2022-11-28T02:55:15+00:00\",\"2022-11-28T02:37:37+00:00\",\"2022-11-28T02:35:34+00:00\",\"2022-11-27T22:56:18+00:00\",\"2022-11-27T22:55:31+00:00\",\"2022-11-27T22:43:28+00:00\"],\"xaxis\":\"x\",\"yaxis\":\"y\",\"type\":\"histogram\"}],                        {\"template\":{\"data\":{\"bar\":[{\"error_x\":{\"color\":\"#2a3f5f\"},\"error_y\":{\"color\":\"#2a3f5f\"},\"marker\":{\"line\":{\"color\":\"#E5ECF6\",\"width\":0.5},\"pattern\":{\"fillmode\":\"overlay\",\"size\":10,\"solidity\":0.2}},\"type\":\"bar\"}],\"barpolar\":[{\"marker\":{\"line\":{\"color\":\"#E5ECF6\",\"width\":0.5},\"pattern\":{\"fillmode\":\"overlay\",\"size\":10,\"solidity\":0.2}},\"type\":\"barpolar\"}],\"carpet\":[{\"aaxis\":{\"endlinecolor\":\"#2a3f5f\",\"gridcolor\":\"white\",\"linecolor\":\"white\",\"minorgridcolor\":\"white\",\"startlinecolor\":\"#2a3f5f\"},\"baxis\":{\"endlinecolor\":\"#2a3f5f\",\"gridcolor\":\"white\",\"linecolor\":\"white\",\"minorgridcolor\":\"white\",\"startlinecolor\":\"#2a3f5f\"},\"type\":\"carpet\"}],\"choropleth\":[{\"colorbar\":{\"outlinewidth\":0,\"ticks\":\"\"},\"type\":\"choropleth\"}],\"contour\":[{\"colorbar\":{\"outlinewidth\":0,\"ticks\":\"\"},\"colorscale\":[[0.0,\"#0d0887\"],[0.1111111111111111,\"#46039f\"],[0.2222222222222222,\"#7201a8\"],[0.3333333333333333,\"#9c179e\"],[0.4444444444444444,\"#bd3786\"],[0.5555555555555556,\"#d8576b\"],[0.6666666666666666,\"#ed7953\"],[0.7777777777777778,\"#fb9f3a\"],[0.8888888888888888,\"#fdca26\"],[1.0,\"#f0f921\"]],\"type\":\"contour\"}],\"contourcarpet\":[{\"colorbar\":{\"outlinewidth\":0,\"ticks\":\"\"},\"type\":\"contourcarpet\"}],\"heatmap\":[{\"colorbar\":{\"outlinewidth\":0,\"ticks\":\"\"},\"colorscale\":[[0.0,\"#0d0887\"],[0.1111111111111111,\"#46039f\"],[0.2222222222222222,\"#7201a8\"],[0.3333333333333333,\"#9c179e\"],[0.4444444444444444,\"#bd3786\"],[0.5555555555555556,\"#d8576b\"],[0.6666666666666666,\"#ed7953\"],[0.7777777777777778,\"#fb9f3a\"],[0.8888888888888888,\"#fdca26\"],[1.0,\"#f0f921\"]],\"type\":\"heatmap\"}],\"heatmapgl\":[{\"colorbar\":{\"outlinewidth\":0,\"ticks\":\"\"},\"colorscale\":[[0.0,\"#0d0887\"],[0.1111111111111111,\"#46039f\"],[0.2222222222222222,\"#7201a8\"],[0.3333333333333333,\"#9c179e\"],[0.4444444444444444,\"#bd3786\"],[0.5555555555555556,\"#d8576b\"],[0.6666666666666666,\"#ed7953\"],[0.7777777777777778,\"#fb9f3a\"],[0.8888888888888888,\"#fdca26\"],[1.0,\"#f0f921\"]],\"type\":\"heatmapgl\"}],\"histogram\":[{\"marker\":{\"pattern\":{\"fillmode\":\"overlay\",\"size\":10,\"solidity\":0.2}},\"type\":\"histogram\"}],\"histogram2d\":[{\"colorbar\":{\"outlinewidth\":0,\"ticks\":\"\"},\"colorscale\":[[0.0,\"#0d0887\"],[0.1111111111111111,\"#46039f\"],[0.2222222222222222,\"#7201a8\"],[0.3333333333333333,\"#9c179e\"],[0.4444444444444444,\"#bd3786\"],[0.5555555555555556,\"#d8576b\"],[0.6666666666666666,\"#ed7953\"],[0.7777777777777778,\"#fb9f3a\"],[0.8888888888888888,\"#fdca26\"],[1.0,\"#f0f921\"]],\"type\":\"histogram2d\"}],\"histogram2dcontour\":[{\"colorbar\":{\"outlinewidth\":0,\"ticks\":\"\"},\"colorscale\":[[0.0,\"#0d0887\"],[0.1111111111111111,\"#46039f\"],[0.2222222222222222,\"#7201a8\"],[0.3333333333333333,\"#9c179e\"],[0.4444444444444444,\"#bd3786\"],[0.5555555555555556,\"#d8576b\"],[0.6666666666666666,\"#ed7953\"],[0.7777777777777778,\"#fb9f3a\"],[0.8888888888888888,\"#fdca26\"],[1.0,\"#f0f921\"]],\"type\":\"histogram2dcontour\"}],\"mesh3d\":[{\"colorbar\":{\"outlinewidth\":0,\"ticks\":\"\"},\"type\":\"mesh3d\"}],\"parcoords\":[{\"line\":{\"colorbar\":{\"outlinewidth\":0,\"ticks\":\"\"}},\"type\":\"parcoords\"}],\"pie\":[{\"automargin\":true,\"type\":\"pie\"}],\"scatter\":[{\"marker\":{\"colorbar\":{\"outlinewidth\":0,\"ticks\":\"\"}},\"type\":\"scatter\"}],\"scatter3d\":[{\"line\":{\"colorbar\":{\"outlinewidth\":0,\"ticks\":\"\"}},\"marker\":{\"colorbar\":{\"outlinewidth\":0,\"ticks\":\"\"}},\"type\":\"scatter3d\"}],\"scattercarpet\":[{\"marker\":{\"colorbar\":{\"outlinewidth\":0,\"ticks\":\"\"}},\"type\":\"scattercarpet\"}],\"scattergeo\":[{\"marker\":{\"colorbar\":{\"outlinewidth\":0,\"ticks\":\"\"}},\"type\":\"scattergeo\"}],\"scattergl\":[{\"marker\":{\"colorbar\":{\"outlinewidth\":0,\"ticks\":\"\"}},\"type\":\"scattergl\"}],\"scattermapbox\":[{\"marker\":{\"colorbar\":{\"outlinewidth\":0,\"ticks\":\"\"}},\"type\":\"scattermapbox\"}],\"scatterpolar\":[{\"marker\":{\"colorbar\":{\"outlinewidth\":0,\"ticks\":\"\"}},\"type\":\"scatterpolar\"}],\"scatterpolargl\":[{\"marker\":{\"colorbar\":{\"outlinewidth\":0,\"ticks\":\"\"}},\"type\":\"scatterpolargl\"}],\"scatterternary\":[{\"marker\":{\"colorbar\":{\"outlinewidth\":0,\"ticks\":\"\"}},\"type\":\"scatterternary\"}],\"surface\":[{\"colorbar\":{\"outlinewidth\":0,\"ticks\":\"\"},\"colorscale\":[[0.0,\"#0d0887\"],[0.1111111111111111,\"#46039f\"],[0.2222222222222222,\"#7201a8\"],[0.3333333333333333,\"#9c179e\"],[0.4444444444444444,\"#bd3786\"],[0.5555555555555556,\"#d8576b\"],[0.6666666666666666,\"#ed7953\"],[0.7777777777777778,\"#fb9f3a\"],[0.8888888888888888,\"#fdca26\"],[1.0,\"#f0f921\"]],\"type\":\"surface\"}],\"table\":[{\"cells\":{\"fill\":{\"color\":\"#EBF0F8\"},\"line\":{\"color\":\"white\"}},\"header\":{\"fill\":{\"color\":\"#C8D4E3\"},\"line\":{\"color\":\"white\"}},\"type\":\"table\"}]},\"layout\":{\"annotationdefaults\":{\"arrowcolor\":\"#2a3f5f\",\"arrowhead\":0,\"arrowwidth\":1},\"autotypenumbers\":\"strict\",\"coloraxis\":{\"colorbar\":{\"outlinewidth\":0,\"ticks\":\"\"}},\"colorscale\":{\"diverging\":[[0,\"#8e0152\"],[0.1,\"#c51b7d\"],[0.2,\"#de77ae\"],[0.3,\"#f1b6da\"],[0.4,\"#fde0ef\"],[0.5,\"#f7f7f7\"],[0.6,\"#e6f5d0\"],[0.7,\"#b8e186\"],[0.8,\"#7fbc41\"],[0.9,\"#4d9221\"],[1,\"#276419\"]],\"sequential\":[[0.0,\"#0d0887\"],[0.1111111111111111,\"#46039f\"],[0.2222222222222222,\"#7201a8\"],[0.3333333333333333,\"#9c179e\"],[0.4444444444444444,\"#bd3786\"],[0.5555555555555556,\"#d8576b\"],[0.6666666666666666,\"#ed7953\"],[0.7777777777777778,\"#fb9f3a\"],[0.8888888888888888,\"#fdca26\"],[1.0,\"#f0f921\"]],\"sequentialminus\":[[0.0,\"#0d0887\"],[0.1111111111111111,\"#46039f\"],[0.2222222222222222,\"#7201a8\"],[0.3333333333333333,\"#9c179e\"],[0.4444444444444444,\"#bd3786\"],[0.5555555555555556,\"#d8576b\"],[0.6666666666666666,\"#ed7953\"],[0.7777777777777778,\"#fb9f3a\"],[0.8888888888888888,\"#fdca26\"],[1.0,\"#f0f921\"]]},\"colorway\":[\"#636efa\",\"#EF553B\",\"#00cc96\",\"#ab63fa\",\"#FFA15A\",\"#19d3f3\",\"#FF6692\",\"#B6E880\",\"#FF97FF\",\"#FECB52\"],\"font\":{\"color\":\"#2a3f5f\"},\"geo\":{\"bgcolor\":\"white\",\"lakecolor\":\"white\",\"landcolor\":\"#E5ECF6\",\"showlakes\":true,\"showland\":true,\"subunitcolor\":\"white\"},\"hoverlabel\":{\"align\":\"left\"},\"hovermode\":\"closest\",\"mapbox\":{\"style\":\"light\"},\"paper_bgcolor\":\"white\",\"plot_bgcolor\":\"#E5ECF6\",\"polar\":{\"angularaxis\":{\"gridcolor\":\"white\",\"linecolor\":\"white\",\"ticks\":\"\"},\"bgcolor\":\"#E5ECF6\",\"radialaxis\":{\"gridcolor\":\"white\",\"linecolor\":\"white\",\"ticks\":\"\"}},\"scene\":{\"xaxis\":{\"backgroundcolor\":\"#E5ECF6\",\"gridcolor\":\"white\",\"gridwidth\":2,\"linecolor\":\"white\",\"showbackground\":true,\"ticks\":\"\",\"zerolinecolor\":\"white\"},\"yaxis\":{\"backgroundcolor\":\"#E5ECF6\",\"gridcolor\":\"white\",\"gridwidth\":2,\"linecolor\":\"white\",\"showbackground\":true,\"ticks\":\"\",\"zerolinecolor\":\"white\"},\"zaxis\":{\"backgroundcolor\":\"#E5ECF6\",\"gridcolor\":\"white\",\"gridwidth\":2,\"linecolor\":\"white\",\"showbackground\":true,\"ticks\":\"\",\"zerolinecolor\":\"white\"}},\"shapedefaults\":{\"line\":{\"color\":\"#2a3f5f\"}},\"ternary\":{\"aaxis\":{\"gridcolor\":\"white\",\"linecolor\":\"white\",\"ticks\":\"\"},\"baxis\":{\"gridcolor\":\"white\",\"linecolor\":\"white\",\"ticks\":\"\"},\"bgcolor\":\"#E5ECF6\",\"caxis\":{\"gridcolor\":\"white\",\"linecolor\":\"white\",\"ticks\":\"\"}},\"title\":{\"x\":0.05},\"xaxis\":{\"automargin\":true,\"gridcolor\":\"white\",\"linecolor\":\"white\",\"ticks\":\"\",\"title\":{\"standoff\":15},\"zerolinecolor\":\"white\",\"zerolinewidth\":2},\"yaxis\":{\"automargin\":true,\"gridcolor\":\"white\",\"linecolor\":\"white\",\"ticks\":\"\",\"title\":{\"standoff\":15},\"zerolinecolor\":\"white\",\"zerolinewidth\":2}}},\"xaxis\":{\"anchor\":\"y\",\"domain\":[0.0,1.0],\"title\":{\"text\":\"x\"}},\"yaxis\":{\"anchor\":\"x\",\"domain\":[0.0,1.0],\"title\":{\"text\":\"count\"}},\"legend\":{\"tracegroupgap\":0},\"title\":{\"text\":\"Tweets positivos durante el tiempo\"},\"barmode\":\"relative\",\"bargap\":0.2},                        {\"responsive\": true}                    ).then(function(){\n",
              "                            \n",
              "var gd = document.getElementById('a07a4387-73ba-40ab-b7c2-2728c6e2f190');\n",
              "var x = new MutationObserver(function (mutations, observer) {{\n",
              "        var display = window.getComputedStyle(gd).display;\n",
              "        if (!display || display === 'none') {{\n",
              "            console.log([gd, 'removed!']);\n",
              "            Plotly.purge(gd);\n",
              "            observer.disconnect();\n",
              "        }}\n",
              "}});\n",
              "\n",
              "// Listen for the removal of the full notebook cells\n",
              "var notebookContainer = gd.closest('#notebook-container');\n",
              "if (notebookContainer) {{\n",
              "    x.observe(notebookContainer, {childList: true});\n",
              "}}\n",
              "\n",
              "// Listen for the clearing of the current output cell\n",
              "var outputEl = gd.closest('.output');\n",
              "if (outputEl) {{\n",
              "    x.observe(outputEl, {childList: true});\n",
              "}}\n",
              "\n",
              "                        })                };                            </script>        </div>\n",
              "</body>\n",
              "</html>"
            ]
          },
          "metadata": {}
        }
      ]
    },
    {
      "cell_type": "code",
      "source": [
        "fig = px.histogram(dt, x=negative_tweet[\"Date\"], title=\"Tweets negativos durante el tiempo\")\n",
        "fig.update_layout(bargap=0.2)\n",
        "fig.show()"
      ],
      "metadata": {
        "colab": {
          "base_uri": "https://localhost:8080/",
          "height": 542
        },
        "id": "XydzcYFnDwCT",
        "outputId": "943f479c-bf5b-453a-da1c-1e4d0a80cc61"
      },
      "execution_count": 218,
      "outputs": [
        {
          "output_type": "display_data",
          "data": {
            "text/html": [
              "<html>\n",
              "<head><meta charset=\"utf-8\" /></head>\n",
              "<body>\n",
              "    <div>            <script src=\"https://cdnjs.cloudflare.com/ajax/libs/mathjax/2.7.5/MathJax.js?config=TeX-AMS-MML_SVG\"></script><script type=\"text/javascript\">if (window.MathJax) {MathJax.Hub.Config({SVG: {font: \"STIX-Web\"}});}</script>                <script type=\"text/javascript\">window.PlotlyConfig = {MathJaxConfig: 'local'};</script>\n",
              "        <script src=\"https://cdn.plot.ly/plotly-2.8.3.min.js\"></script>                <div id=\"2843a615-6253-42d3-8416-2fcb6106d9cf\" class=\"plotly-graph-div\" style=\"height:525px; width:100%;\"></div>            <script type=\"text/javascript\">                                    window.PLOTLYENV=window.PLOTLYENV || {};                                    if (document.getElementById(\"2843a615-6253-42d3-8416-2fcb6106d9cf\")) {                    Plotly.newPlot(                        \"2843a615-6253-42d3-8416-2fcb6106d9cf\",                        [{\"alignmentgroup\":\"True\",\"bingroup\":\"x\",\"hovertemplate\":\"x=%{x}<br>count=%{y}<extra></extra>\",\"legendgroup\":\"\",\"marker\":{\"color\":\"#636efa\",\"pattern\":{\"shape\":\"\"}},\"name\":\"\",\"offsetgroup\":\"\",\"orientation\":\"v\",\"showlegend\":false,\"x\":[\"2023-02-12T13:48:58+00:00\",\"2023-02-10T17:04:18+00:00\",\"2023-02-09T00:04:38+00:00\",\"2023-02-08T16:30:04+00:00\",\"2023-02-08T02:27:27+00:00\",\"2023-02-06T16:50:14+00:00\",\"2023-02-06T13:57:27+00:00\",\"2023-02-05T20:24:18+00:00\",\"2023-02-05T19:43:30+00:00\",\"2023-02-05T19:32:23+00:00\",\"2023-02-05T19:26:28+00:00\",\"2023-02-05T01:43:45+00:00\",\"2023-02-03T23:29:27+00:00\",\"2023-01-30T19:25:03+00:00\",\"2023-01-30T11:52:27+00:00\",\"2023-01-30T11:22:31+00:00\",\"2023-01-27T04:59:20+00:00\",\"2023-01-26T23:21:08+00:00\",\"2023-01-26T21:31:24+00:00\",\"2023-01-26T19:19:53+00:00\",\"2023-01-26T18:26:03+00:00\",\"2023-01-26T18:25:54+00:00\",\"2023-01-25T21:33:12+00:00\",\"2023-01-25T13:23:07+00:00\",\"2023-01-25T12:33:15+00:00\",\"2023-01-25T12:24:54+00:00\",\"2023-01-25T01:44:58+00:00\",\"2023-01-24T20:35:15+00:00\",\"2023-01-24T10:45:54+00:00\",\"2023-01-23T21:45:29+00:00\",\"2023-01-23T16:11:04+00:00\",\"2023-01-19T22:04:00+00:00\",\"2023-01-19T20:21:52+00:00\",\"2023-01-19T17:57:08+00:00\",\"2023-01-18T22:48:44+00:00\",\"2023-01-18T17:29:54+00:00\",\"2023-01-17T23:00:32+00:00\",\"2023-01-17T12:00:21+00:00\",\"2023-01-14T12:36:39+00:00\",\"2023-01-13T13:04:20+00:00\",\"2023-01-12T17:12:09+00:00\",\"2023-01-11T16:15:32+00:00\",\"2023-01-10T00:24:02+00:00\",\"2023-01-06T17:24:26+00:00\",\"2023-01-06T14:06:17+00:00\",\"2023-01-06T04:21:59+00:00\",\"2023-01-05T23:20:30+00:00\",\"2023-01-05T10:53:10+00:00\",\"2023-01-05T02:16:20+00:00\",\"2023-01-05T00:01:56+00:00\",\"2023-01-04T22:56:57+00:00\",\"2023-01-04T18:42:35+00:00\",\"2023-01-04T16:37:49+00:00\",\"2023-01-04T15:54:23+00:00\",\"2023-01-04T15:47:25+00:00\",\"2023-01-04T13:41:20+00:00\",\"2023-01-04T12:38:45+00:00\",\"2023-01-04T12:36:03+00:00\",\"2023-01-04T05:11:23+00:00\",\"2022-12-31T02:59:46+00:00\",\"2022-12-30T20:10:11+00:00\",\"2022-12-30T15:25:03+00:00\",\"2022-12-26T16:58:11+00:00\",\"2022-12-26T15:23:33+00:00\",\"2022-12-25T18:32:00+00:00\",\"2022-12-25T17:40:19+00:00\",\"2022-12-25T16:18:25+00:00\",\"2022-12-25T16:15:41+00:00\",\"2022-12-24T23:30:37+00:00\",\"2022-12-24T19:37:36+00:00\",\"2022-12-24T18:26:18+00:00\",\"2022-12-24T18:23:40+00:00\",\"2022-12-24T18:08:31+00:00\",\"2022-12-24T17:46:23+00:00\",\"2022-12-24T17:32:00+00:00\",\"2022-12-24T15:40:28+00:00\",\"2022-12-24T15:19:05+00:00\",\"2022-12-23T21:34:59+00:00\",\"2022-12-23T18:11:12+00:00\",\"2022-12-23T16:32:00+00:00\",\"2022-12-22T23:36:57+00:00\",\"2022-12-22T21:41:03+00:00\",\"2022-12-22T15:31:00+00:00\",\"2022-12-22T13:27:48+00:00\",\"2022-12-21T14:10:59+00:00\",\"2022-12-20T13:29:13+00:00\",\"2022-12-18T15:02:15+00:00\",\"2022-12-18T03:03:36+00:00\",\"2022-12-17T20:33:53+00:00\",\"2022-12-17T20:24:06+00:00\",\"2022-12-17T19:33:06+00:00\",\"2022-12-17T19:25:43+00:00\",\"2022-12-17T19:08:47+00:00\",\"2022-12-17T18:53:56+00:00\",\"2022-12-17T18:50:12+00:00\",\"2022-12-17T18:45:20+00:00\",\"2022-12-17T12:25:22+00:00\",\"2022-12-17T12:16:46+00:00\",\"2022-12-17T02:45:00+00:00\",\"2022-12-16T16:39:51+00:00\",\"2022-12-15T17:54:01+00:00\",\"2022-12-15T12:29:39+00:00\",\"2022-12-15T03:12:53+00:00\",\"2022-12-14T03:47:38+00:00\",\"2022-12-12T00:41:36+00:00\",\"2022-12-12T00:20:40+00:00\",\"2022-12-11T23:46:08+00:00\",\"2022-12-11T15:19:12+00:00\",\"2022-12-09T16:05:07+00:00\",\"2022-12-08T20:15:37+00:00\",\"2022-12-08T12:57:34+00:00\",\"2022-12-07T12:50:21+00:00\",\"2022-12-05T19:06:01+00:00\",\"2022-12-05T01:56:29+00:00\",\"2022-12-04T05:50:36+00:00\",\"2022-12-03T17:54:06+00:00\",\"2022-12-02T23:20:59+00:00\",\"2022-12-02T14:50:57+00:00\",\"2022-12-02T00:45:30+00:00\",\"2022-12-01T19:00:21+00:00\",\"2022-12-01T18:55:46+00:00\",\"2022-11-30T15:05:49+00:00\",\"2022-11-30T14:25:29+00:00\",\"2022-11-29T01:49:02+00:00\",\"2022-11-28T03:01:49+00:00\",\"2022-11-28T02:38:27+00:00\",\"2022-11-27T22:41:53+00:00\"],\"xaxis\":\"x\",\"yaxis\":\"y\",\"type\":\"histogram\"}],                        {\"template\":{\"data\":{\"bar\":[{\"error_x\":{\"color\":\"#2a3f5f\"},\"error_y\":{\"color\":\"#2a3f5f\"},\"marker\":{\"line\":{\"color\":\"#E5ECF6\",\"width\":0.5},\"pattern\":{\"fillmode\":\"overlay\",\"size\":10,\"solidity\":0.2}},\"type\":\"bar\"}],\"barpolar\":[{\"marker\":{\"line\":{\"color\":\"#E5ECF6\",\"width\":0.5},\"pattern\":{\"fillmode\":\"overlay\",\"size\":10,\"solidity\":0.2}},\"type\":\"barpolar\"}],\"carpet\":[{\"aaxis\":{\"endlinecolor\":\"#2a3f5f\",\"gridcolor\":\"white\",\"linecolor\":\"white\",\"minorgridcolor\":\"white\",\"startlinecolor\":\"#2a3f5f\"},\"baxis\":{\"endlinecolor\":\"#2a3f5f\",\"gridcolor\":\"white\",\"linecolor\":\"white\",\"minorgridcolor\":\"white\",\"startlinecolor\":\"#2a3f5f\"},\"type\":\"carpet\"}],\"choropleth\":[{\"colorbar\":{\"outlinewidth\":0,\"ticks\":\"\"},\"type\":\"choropleth\"}],\"contour\":[{\"colorbar\":{\"outlinewidth\":0,\"ticks\":\"\"},\"colorscale\":[[0.0,\"#0d0887\"],[0.1111111111111111,\"#46039f\"],[0.2222222222222222,\"#7201a8\"],[0.3333333333333333,\"#9c179e\"],[0.4444444444444444,\"#bd3786\"],[0.5555555555555556,\"#d8576b\"],[0.6666666666666666,\"#ed7953\"],[0.7777777777777778,\"#fb9f3a\"],[0.8888888888888888,\"#fdca26\"],[1.0,\"#f0f921\"]],\"type\":\"contour\"}],\"contourcarpet\":[{\"colorbar\":{\"outlinewidth\":0,\"ticks\":\"\"},\"type\":\"contourcarpet\"}],\"heatmap\":[{\"colorbar\":{\"outlinewidth\":0,\"ticks\":\"\"},\"colorscale\":[[0.0,\"#0d0887\"],[0.1111111111111111,\"#46039f\"],[0.2222222222222222,\"#7201a8\"],[0.3333333333333333,\"#9c179e\"],[0.4444444444444444,\"#bd3786\"],[0.5555555555555556,\"#d8576b\"],[0.6666666666666666,\"#ed7953\"],[0.7777777777777778,\"#fb9f3a\"],[0.8888888888888888,\"#fdca26\"],[1.0,\"#f0f921\"]],\"type\":\"heatmap\"}],\"heatmapgl\":[{\"colorbar\":{\"outlinewidth\":0,\"ticks\":\"\"},\"colorscale\":[[0.0,\"#0d0887\"],[0.1111111111111111,\"#46039f\"],[0.2222222222222222,\"#7201a8\"],[0.3333333333333333,\"#9c179e\"],[0.4444444444444444,\"#bd3786\"],[0.5555555555555556,\"#d8576b\"],[0.6666666666666666,\"#ed7953\"],[0.7777777777777778,\"#fb9f3a\"],[0.8888888888888888,\"#fdca26\"],[1.0,\"#f0f921\"]],\"type\":\"heatmapgl\"}],\"histogram\":[{\"marker\":{\"pattern\":{\"fillmode\":\"overlay\",\"size\":10,\"solidity\":0.2}},\"type\":\"histogram\"}],\"histogram2d\":[{\"colorbar\":{\"outlinewidth\":0,\"ticks\":\"\"},\"colorscale\":[[0.0,\"#0d0887\"],[0.1111111111111111,\"#46039f\"],[0.2222222222222222,\"#7201a8\"],[0.3333333333333333,\"#9c179e\"],[0.4444444444444444,\"#bd3786\"],[0.5555555555555556,\"#d8576b\"],[0.6666666666666666,\"#ed7953\"],[0.7777777777777778,\"#fb9f3a\"],[0.8888888888888888,\"#fdca26\"],[1.0,\"#f0f921\"]],\"type\":\"histogram2d\"}],\"histogram2dcontour\":[{\"colorbar\":{\"outlinewidth\":0,\"ticks\":\"\"},\"colorscale\":[[0.0,\"#0d0887\"],[0.1111111111111111,\"#46039f\"],[0.2222222222222222,\"#7201a8\"],[0.3333333333333333,\"#9c179e\"],[0.4444444444444444,\"#bd3786\"],[0.5555555555555556,\"#d8576b\"],[0.6666666666666666,\"#ed7953\"],[0.7777777777777778,\"#fb9f3a\"],[0.8888888888888888,\"#fdca26\"],[1.0,\"#f0f921\"]],\"type\":\"histogram2dcontour\"}],\"mesh3d\":[{\"colorbar\":{\"outlinewidth\":0,\"ticks\":\"\"},\"type\":\"mesh3d\"}],\"parcoords\":[{\"line\":{\"colorbar\":{\"outlinewidth\":0,\"ticks\":\"\"}},\"type\":\"parcoords\"}],\"pie\":[{\"automargin\":true,\"type\":\"pie\"}],\"scatter\":[{\"marker\":{\"colorbar\":{\"outlinewidth\":0,\"ticks\":\"\"}},\"type\":\"scatter\"}],\"scatter3d\":[{\"line\":{\"colorbar\":{\"outlinewidth\":0,\"ticks\":\"\"}},\"marker\":{\"colorbar\":{\"outlinewidth\":0,\"ticks\":\"\"}},\"type\":\"scatter3d\"}],\"scattercarpet\":[{\"marker\":{\"colorbar\":{\"outlinewidth\":0,\"ticks\":\"\"}},\"type\":\"scattercarpet\"}],\"scattergeo\":[{\"marker\":{\"colorbar\":{\"outlinewidth\":0,\"ticks\":\"\"}},\"type\":\"scattergeo\"}],\"scattergl\":[{\"marker\":{\"colorbar\":{\"outlinewidth\":0,\"ticks\":\"\"}},\"type\":\"scattergl\"}],\"scattermapbox\":[{\"marker\":{\"colorbar\":{\"outlinewidth\":0,\"ticks\":\"\"}},\"type\":\"scattermapbox\"}],\"scatterpolar\":[{\"marker\":{\"colorbar\":{\"outlinewidth\":0,\"ticks\":\"\"}},\"type\":\"scatterpolar\"}],\"scatterpolargl\":[{\"marker\":{\"colorbar\":{\"outlinewidth\":0,\"ticks\":\"\"}},\"type\":\"scatterpolargl\"}],\"scatterternary\":[{\"marker\":{\"colorbar\":{\"outlinewidth\":0,\"ticks\":\"\"}},\"type\":\"scatterternary\"}],\"surface\":[{\"colorbar\":{\"outlinewidth\":0,\"ticks\":\"\"},\"colorscale\":[[0.0,\"#0d0887\"],[0.1111111111111111,\"#46039f\"],[0.2222222222222222,\"#7201a8\"],[0.3333333333333333,\"#9c179e\"],[0.4444444444444444,\"#bd3786\"],[0.5555555555555556,\"#d8576b\"],[0.6666666666666666,\"#ed7953\"],[0.7777777777777778,\"#fb9f3a\"],[0.8888888888888888,\"#fdca26\"],[1.0,\"#f0f921\"]],\"type\":\"surface\"}],\"table\":[{\"cells\":{\"fill\":{\"color\":\"#EBF0F8\"},\"line\":{\"color\":\"white\"}},\"header\":{\"fill\":{\"color\":\"#C8D4E3\"},\"line\":{\"color\":\"white\"}},\"type\":\"table\"}]},\"layout\":{\"annotationdefaults\":{\"arrowcolor\":\"#2a3f5f\",\"arrowhead\":0,\"arrowwidth\":1},\"autotypenumbers\":\"strict\",\"coloraxis\":{\"colorbar\":{\"outlinewidth\":0,\"ticks\":\"\"}},\"colorscale\":{\"diverging\":[[0,\"#8e0152\"],[0.1,\"#c51b7d\"],[0.2,\"#de77ae\"],[0.3,\"#f1b6da\"],[0.4,\"#fde0ef\"],[0.5,\"#f7f7f7\"],[0.6,\"#e6f5d0\"],[0.7,\"#b8e186\"],[0.8,\"#7fbc41\"],[0.9,\"#4d9221\"],[1,\"#276419\"]],\"sequential\":[[0.0,\"#0d0887\"],[0.1111111111111111,\"#46039f\"],[0.2222222222222222,\"#7201a8\"],[0.3333333333333333,\"#9c179e\"],[0.4444444444444444,\"#bd3786\"],[0.5555555555555556,\"#d8576b\"],[0.6666666666666666,\"#ed7953\"],[0.7777777777777778,\"#fb9f3a\"],[0.8888888888888888,\"#fdca26\"],[1.0,\"#f0f921\"]],\"sequentialminus\":[[0.0,\"#0d0887\"],[0.1111111111111111,\"#46039f\"],[0.2222222222222222,\"#7201a8\"],[0.3333333333333333,\"#9c179e\"],[0.4444444444444444,\"#bd3786\"],[0.5555555555555556,\"#d8576b\"],[0.6666666666666666,\"#ed7953\"],[0.7777777777777778,\"#fb9f3a\"],[0.8888888888888888,\"#fdca26\"],[1.0,\"#f0f921\"]]},\"colorway\":[\"#636efa\",\"#EF553B\",\"#00cc96\",\"#ab63fa\",\"#FFA15A\",\"#19d3f3\",\"#FF6692\",\"#B6E880\",\"#FF97FF\",\"#FECB52\"],\"font\":{\"color\":\"#2a3f5f\"},\"geo\":{\"bgcolor\":\"white\",\"lakecolor\":\"white\",\"landcolor\":\"#E5ECF6\",\"showlakes\":true,\"showland\":true,\"subunitcolor\":\"white\"},\"hoverlabel\":{\"align\":\"left\"},\"hovermode\":\"closest\",\"mapbox\":{\"style\":\"light\"},\"paper_bgcolor\":\"white\",\"plot_bgcolor\":\"#E5ECF6\",\"polar\":{\"angularaxis\":{\"gridcolor\":\"white\",\"linecolor\":\"white\",\"ticks\":\"\"},\"bgcolor\":\"#E5ECF6\",\"radialaxis\":{\"gridcolor\":\"white\",\"linecolor\":\"white\",\"ticks\":\"\"}},\"scene\":{\"xaxis\":{\"backgroundcolor\":\"#E5ECF6\",\"gridcolor\":\"white\",\"gridwidth\":2,\"linecolor\":\"white\",\"showbackground\":true,\"ticks\":\"\",\"zerolinecolor\":\"white\"},\"yaxis\":{\"backgroundcolor\":\"#E5ECF6\",\"gridcolor\":\"white\",\"gridwidth\":2,\"linecolor\":\"white\",\"showbackground\":true,\"ticks\":\"\",\"zerolinecolor\":\"white\"},\"zaxis\":{\"backgroundcolor\":\"#E5ECF6\",\"gridcolor\":\"white\",\"gridwidth\":2,\"linecolor\":\"white\",\"showbackground\":true,\"ticks\":\"\",\"zerolinecolor\":\"white\"}},\"shapedefaults\":{\"line\":{\"color\":\"#2a3f5f\"}},\"ternary\":{\"aaxis\":{\"gridcolor\":\"white\",\"linecolor\":\"white\",\"ticks\":\"\"},\"baxis\":{\"gridcolor\":\"white\",\"linecolor\":\"white\",\"ticks\":\"\"},\"bgcolor\":\"#E5ECF6\",\"caxis\":{\"gridcolor\":\"white\",\"linecolor\":\"white\",\"ticks\":\"\"}},\"title\":{\"x\":0.05},\"xaxis\":{\"automargin\":true,\"gridcolor\":\"white\",\"linecolor\":\"white\",\"ticks\":\"\",\"title\":{\"standoff\":15},\"zerolinecolor\":\"white\",\"zerolinewidth\":2},\"yaxis\":{\"automargin\":true,\"gridcolor\":\"white\",\"linecolor\":\"white\",\"ticks\":\"\",\"title\":{\"standoff\":15},\"zerolinecolor\":\"white\",\"zerolinewidth\":2}}},\"xaxis\":{\"anchor\":\"y\",\"domain\":[0.0,1.0],\"title\":{\"text\":\"x\"}},\"yaxis\":{\"anchor\":\"x\",\"domain\":[0.0,1.0],\"title\":{\"text\":\"count\"}},\"legend\":{\"tracegroupgap\":0},\"title\":{\"text\":\"Tweets negativos durante el tiempo\"},\"barmode\":\"relative\",\"bargap\":0.2},                        {\"responsive\": true}                    ).then(function(){\n",
              "                            \n",
              "var gd = document.getElementById('2843a615-6253-42d3-8416-2fcb6106d9cf');\n",
              "var x = new MutationObserver(function (mutations, observer) {{\n",
              "        var display = window.getComputedStyle(gd).display;\n",
              "        if (!display || display === 'none') {{\n",
              "            console.log([gd, 'removed!']);\n",
              "            Plotly.purge(gd);\n",
              "            observer.disconnect();\n",
              "        }}\n",
              "}});\n",
              "\n",
              "// Listen for the removal of the full notebook cells\n",
              "var notebookContainer = gd.closest('#notebook-container');\n",
              "if (notebookContainer) {{\n",
              "    x.observe(notebookContainer, {childList: true});\n",
              "}}\n",
              "\n",
              "// Listen for the clearing of the current output cell\n",
              "var outputEl = gd.closest('.output');\n",
              "if (outputEl) {{\n",
              "    x.observe(outputEl, {childList: true});\n",
              "}}\n",
              "\n",
              "                        })                };                            </script>        </div>\n",
              "</body>\n",
              "</html>"
            ]
          },
          "metadata": {}
        }
      ]
    }
  ]
}