{
  "nbformat": 4,
  "nbformat_minor": 0,
  "metadata": {
    "colab": {
      "provenance": [],
      "include_colab_link": true
    },
    "kernelspec": {
      "name": "python3",
      "display_name": "Python 3"
    },
    "language_info": {
      "name": "python"
    }
  },
  "cells": [
    {
      "cell_type": "markdown",
      "metadata": {
        "id": "view-in-github",
        "colab_type": "text"
      },
      "source": [
        "<a href=\"https://colab.research.google.com/github/stefano2211/DataScienceRedSocial/blob/main/KingsLeagueJ6.ipynb\" target=\"_parent\"><img src=\"https://colab.research.google.com/assets/colab-badge.svg\" alt=\"Open In Colab\"/></a>"
      ]
    },
    {
      "cell_type": "code",
      "source": [
        "#Importamos las librerias\n",
        "from textblob import TextBlob\n",
        "import snscrape.modules.twitter as sntwitter\n",
        "import plotly.express as px\n",
        "import neattext as nt\n",
        "import pandas as pd\n",
        "import numpy as np\n",
        "import re\n",
        "import nltk\n",
        "from nltk.corpus import stopwords\n",
        "from nltk.tokenize import word_tokenize\n",
        "from wordcloud import WordCloud\n",
        "from collections import Counter\n",
        "import matplotlib.pyplot as plt\n",
        "import seaborn as sns"
      ],
      "metadata": {
        "id": "GDjkChOcW6XI"
      },
      "execution_count": 166,
      "outputs": []
    },
    {
      "cell_type": "code",
      "source": [
        "#Cargamos las stopwords de nltk\n",
        "nltk.download('stopwords')"
      ],
      "metadata": {
        "colab": {
          "base_uri": "https://localhost:8080/"
        },
        "id": "6KjjuhsOYIhY",
        "outputId": "117470ec-730e-4f80-83e9-9ce415e443cf"
      },
      "execution_count": 167,
      "outputs": [
        {
          "output_type": "stream",
          "name": "stderr",
          "text": [
            "[nltk_data] Downloading package stopwords to /root/nltk_data...\n",
            "[nltk_data]   Package stopwords is already up-to-date!\n"
          ]
        },
        {
          "output_type": "execute_result",
          "data": {
            "text/plain": [
              "True"
            ]
          },
          "metadata": {},
          "execution_count": 167
        }
      ]
    },
    {
      "cell_type": "code",
      "source": [
        "#Importamos los datos de twitter\n",
        "query = \"@KingsLeague\"\n",
        "tweets = []\n",
        "limit = 3000\n",
        "\n",
        "for tweet in sntwitter.TwitterSearchScraper(query).get_items():\n",
        "    \n",
        "    # print(vars(tweet))\n",
        "    # break\n",
        "    if len(tweets) == limit:\n",
        "        break\n",
        "    else:\n",
        "        tweets.append([tweet.date, tweet.content, tweet.hashtags, tweet.username, tweet.mentionedUsers])"
      ],
      "metadata": {
        "colab": {
          "base_uri": "https://localhost:8080/"
        },
        "id": "5wOFRMRYYNGm",
        "outputId": "99f0e405-74e8-407b-a53d-8aefd214e0cb"
      },
      "execution_count": 168,
      "outputs": [
        {
          "output_type": "stream",
          "name": "stderr",
          "text": [
            "<ipython-input-168-5f123059cd7e>:13: FutureWarning:\n",
            "\n",
            "content is deprecated, use rawContent instead\n",
            "\n",
            "<ipython-input-168-5f123059cd7e>:13: FutureWarning:\n",
            "\n",
            "username is deprecated, use user.username instead\n",
            "\n"
          ]
        }
      ]
    },
    {
      "cell_type": "code",
      "source": [
        "#Colocamos los datos en un dataframe\n",
        "df = pd.DataFrame(tweets, columns=['Date', 'Tweet', 'Hashtag', 'Username', 'Mention'])\n",
        "df.head(100)"
      ],
      "metadata": {
        "colab": {
          "base_uri": "https://localhost:8080/",
          "height": 424
        },
        "id": "p5TwRjyTYWNN",
        "outputId": "b6268bdc-07e0-42a9-948f-24c0cf651823"
      },
      "execution_count": 169,
      "outputs": [
        {
          "output_type": "execute_result",
          "data": {
            "text/plain": [
              "                        Date  \\\n",
              "0  2023-02-12 23:13:10+00:00   \n",
              "1  2023-02-12 23:12:37+00:00   \n",
              "2  2023-02-12 23:12:26+00:00   \n",
              "3  2023-02-12 23:11:34+00:00   \n",
              "4  2023-02-12 23:09:58+00:00   \n",
              "..                       ...   \n",
              "95 2023-02-12 22:34:44+00:00   \n",
              "96 2023-02-12 22:34:32+00:00   \n",
              "97 2023-02-12 22:33:26+00:00   \n",
              "98 2023-02-12 22:33:21+00:00   \n",
              "99 2023-02-12 22:33:01+00:00   \n",
              "\n",
              "                                                Tweet Hashtag  \\\n",
              "0   @6cichero6 @KingsLeague @PorcinosFC @IbaiLlano...    None   \n",
              "1   @pedrosaezarenas @KingsLeague @futbolmahou Ana...    None   \n",
              "2   @6cichero6 @KingsLeague @PorcinosFC @IbaiLlano...    None   \n",
              "3   Que bien me lo he pasado hoy en la @KingsLeagu...    None   \n",
              "4   @JohanMM_ @loopez______ @KingsLeague @Porcinos...    None   \n",
              "..                                                ...     ...   \n",
              "95  @KingsLeague @3gerardpique Era obvio que iba a...    None   \n",
              "96  @El_WillyMei @6cichero6 @KingsLeague @Porcinos...    None   \n",
              "97  @6cichero6 @KingsLeague @PorcinosFC @IbaiLlano...    None   \n",
              "98  Entre 400k y 700k esta la audiencia regular de...    None   \n",
              "99  @KingsLeague Aguante la @UltMostoles que pase ...    None   \n",
              "\n",
              "           Username                                            Mention  \n",
              "0            mickox  [https://twitter.com/6cichero6, https://twitte...  \n",
              "1   MigueCaballer11  [https://twitter.com/pedrosaezarenas, https://...  \n",
              "2    DanielFloresJA  [https://twitter.com/6cichero6, https://twitte...  \n",
              "3   pedrosaezarenas  [https://twitter.com/KingsLeague, https://twit...  \n",
              "4         Kanyentin  [https://twitter.com/JohanMM_, https://twitter...  \n",
              "..              ...                                                ...  \n",
              "95     Ramon_Cuerda  [https://twitter.com/KingsLeague, https://twit...  \n",
              "96  iamdanielypunto  [https://twitter.com/El_WillyMei, https://twit...  \n",
              "97       EmpanadadC  [https://twitter.com/6cichero6, https://twitte...  \n",
              "98     Liderdragon1                  [https://twitter.com/KingsLeague]  \n",
              "99         AlexBVB5  [https://twitter.com/KingsLeague, https://twit...  \n",
              "\n",
              "[100 rows x 5 columns]"
            ],
            "text/html": [
              "\n",
              "  <div id=\"df-5f52779a-3165-4b3a-ab61-f1f032ebe423\">\n",
              "    <div class=\"colab-df-container\">\n",
              "      <div>\n",
              "<style scoped>\n",
              "    .dataframe tbody tr th:only-of-type {\n",
              "        vertical-align: middle;\n",
              "    }\n",
              "\n",
              "    .dataframe tbody tr th {\n",
              "        vertical-align: top;\n",
              "    }\n",
              "\n",
              "    .dataframe thead th {\n",
              "        text-align: right;\n",
              "    }\n",
              "</style>\n",
              "<table border=\"1\" class=\"dataframe\">\n",
              "  <thead>\n",
              "    <tr style=\"text-align: right;\">\n",
              "      <th></th>\n",
              "      <th>Date</th>\n",
              "      <th>Tweet</th>\n",
              "      <th>Hashtag</th>\n",
              "      <th>Username</th>\n",
              "      <th>Mention</th>\n",
              "    </tr>\n",
              "  </thead>\n",
              "  <tbody>\n",
              "    <tr>\n",
              "      <th>0</th>\n",
              "      <td>2023-02-12 23:13:10+00:00</td>\n",
              "      <td>@6cichero6 @KingsLeague @PorcinosFC @IbaiLlano...</td>\n",
              "      <td>None</td>\n",
              "      <td>mickox</td>\n",
              "      <td>[https://twitter.com/6cichero6, https://twitte...</td>\n",
              "    </tr>\n",
              "    <tr>\n",
              "      <th>1</th>\n",
              "      <td>2023-02-12 23:12:37+00:00</td>\n",
              "      <td>@pedrosaezarenas @KingsLeague @futbolmahou Ana...</td>\n",
              "      <td>None</td>\n",
              "      <td>MigueCaballer11</td>\n",
              "      <td>[https://twitter.com/pedrosaezarenas, https://...</td>\n",
              "    </tr>\n",
              "    <tr>\n",
              "      <th>2</th>\n",
              "      <td>2023-02-12 23:12:26+00:00</td>\n",
              "      <td>@6cichero6 @KingsLeague @PorcinosFC @IbaiLlano...</td>\n",
              "      <td>None</td>\n",
              "      <td>DanielFloresJA</td>\n",
              "      <td>[https://twitter.com/6cichero6, https://twitte...</td>\n",
              "    </tr>\n",
              "    <tr>\n",
              "      <th>3</th>\n",
              "      <td>2023-02-12 23:11:34+00:00</td>\n",
              "      <td>Que bien me lo he pasado hoy en la @KingsLeagu...</td>\n",
              "      <td>None</td>\n",
              "      <td>pedrosaezarenas</td>\n",
              "      <td>[https://twitter.com/KingsLeague, https://twit...</td>\n",
              "    </tr>\n",
              "    <tr>\n",
              "      <th>4</th>\n",
              "      <td>2023-02-12 23:09:58+00:00</td>\n",
              "      <td>@JohanMM_ @loopez______ @KingsLeague @Porcinos...</td>\n",
              "      <td>None</td>\n",
              "      <td>Kanyentin</td>\n",
              "      <td>[https://twitter.com/JohanMM_, https://twitter...</td>\n",
              "    </tr>\n",
              "    <tr>\n",
              "      <th>...</th>\n",
              "      <td>...</td>\n",
              "      <td>...</td>\n",
              "      <td>...</td>\n",
              "      <td>...</td>\n",
              "      <td>...</td>\n",
              "    </tr>\n",
              "    <tr>\n",
              "      <th>95</th>\n",
              "      <td>2023-02-12 22:34:44+00:00</td>\n",
              "      <td>@KingsLeague @3gerardpique Era obvio que iba a...</td>\n",
              "      <td>None</td>\n",
              "      <td>Ramon_Cuerda</td>\n",
              "      <td>[https://twitter.com/KingsLeague, https://twit...</td>\n",
              "    </tr>\n",
              "    <tr>\n",
              "      <th>96</th>\n",
              "      <td>2023-02-12 22:34:32+00:00</td>\n",
              "      <td>@El_WillyMei @6cichero6 @KingsLeague @Porcinos...</td>\n",
              "      <td>None</td>\n",
              "      <td>iamdanielypunto</td>\n",
              "      <td>[https://twitter.com/El_WillyMei, https://twit...</td>\n",
              "    </tr>\n",
              "    <tr>\n",
              "      <th>97</th>\n",
              "      <td>2023-02-12 22:33:26+00:00</td>\n",
              "      <td>@6cichero6 @KingsLeague @PorcinosFC @IbaiLlano...</td>\n",
              "      <td>None</td>\n",
              "      <td>EmpanadadC</td>\n",
              "      <td>[https://twitter.com/6cichero6, https://twitte...</td>\n",
              "    </tr>\n",
              "    <tr>\n",
              "      <th>98</th>\n",
              "      <td>2023-02-12 22:33:21+00:00</td>\n",
              "      <td>Entre 400k y 700k esta la audiencia regular de...</td>\n",
              "      <td>None</td>\n",
              "      <td>Liderdragon1</td>\n",
              "      <td>[https://twitter.com/KingsLeague]</td>\n",
              "    </tr>\n",
              "    <tr>\n",
              "      <th>99</th>\n",
              "      <td>2023-02-12 22:33:01+00:00</td>\n",
              "      <td>@KingsLeague Aguante la @UltMostoles que pase ...</td>\n",
              "      <td>None</td>\n",
              "      <td>AlexBVB5</td>\n",
              "      <td>[https://twitter.com/KingsLeague, https://twit...</td>\n",
              "    </tr>\n",
              "  </tbody>\n",
              "</table>\n",
              "<p>100 rows × 5 columns</p>\n",
              "</div>\n",
              "      <button class=\"colab-df-convert\" onclick=\"convertToInteractive('df-5f52779a-3165-4b3a-ab61-f1f032ebe423')\"\n",
              "              title=\"Convert this dataframe to an interactive table.\"\n",
              "              style=\"display:none;\">\n",
              "        \n",
              "  <svg xmlns=\"http://www.w3.org/2000/svg\" height=\"24px\"viewBox=\"0 0 24 24\"\n",
              "       width=\"24px\">\n",
              "    <path d=\"M0 0h24v24H0V0z\" fill=\"none\"/>\n",
              "    <path d=\"M18.56 5.44l.94 2.06.94-2.06 2.06-.94-2.06-.94-.94-2.06-.94 2.06-2.06.94zm-11 1L8.5 8.5l.94-2.06 2.06-.94-2.06-.94L8.5 2.5l-.94 2.06-2.06.94zm10 10l.94 2.06.94-2.06 2.06-.94-2.06-.94-.94-2.06-.94 2.06-2.06.94z\"/><path d=\"M17.41 7.96l-1.37-1.37c-.4-.4-.92-.59-1.43-.59-.52 0-1.04.2-1.43.59L10.3 9.45l-7.72 7.72c-.78.78-.78 2.05 0 2.83L4 21.41c.39.39.9.59 1.41.59.51 0 1.02-.2 1.41-.59l7.78-7.78 2.81-2.81c.8-.78.8-2.07 0-2.86zM5.41 20L4 18.59l7.72-7.72 1.47 1.35L5.41 20z\"/>\n",
              "  </svg>\n",
              "      </button>\n",
              "      \n",
              "  <style>\n",
              "    .colab-df-container {\n",
              "      display:flex;\n",
              "      flex-wrap:wrap;\n",
              "      gap: 12px;\n",
              "    }\n",
              "\n",
              "    .colab-df-convert {\n",
              "      background-color: #E8F0FE;\n",
              "      border: none;\n",
              "      border-radius: 50%;\n",
              "      cursor: pointer;\n",
              "      display: none;\n",
              "      fill: #1967D2;\n",
              "      height: 32px;\n",
              "      padding: 0 0 0 0;\n",
              "      width: 32px;\n",
              "    }\n",
              "\n",
              "    .colab-df-convert:hover {\n",
              "      background-color: #E2EBFA;\n",
              "      box-shadow: 0px 1px 2px rgba(60, 64, 67, 0.3), 0px 1px 3px 1px rgba(60, 64, 67, 0.15);\n",
              "      fill: #174EA6;\n",
              "    }\n",
              "\n",
              "    [theme=dark] .colab-df-convert {\n",
              "      background-color: #3B4455;\n",
              "      fill: #D2E3FC;\n",
              "    }\n",
              "\n",
              "    [theme=dark] .colab-df-convert:hover {\n",
              "      background-color: #434B5C;\n",
              "      box-shadow: 0px 1px 3px 1px rgba(0, 0, 0, 0.15);\n",
              "      filter: drop-shadow(0px 1px 2px rgba(0, 0, 0, 0.3));\n",
              "      fill: #FFFFFF;\n",
              "    }\n",
              "  </style>\n",
              "\n",
              "      <script>\n",
              "        const buttonEl =\n",
              "          document.querySelector('#df-5f52779a-3165-4b3a-ab61-f1f032ebe423 button.colab-df-convert');\n",
              "        buttonEl.style.display =\n",
              "          google.colab.kernel.accessAllowed ? 'block' : 'none';\n",
              "\n",
              "        async function convertToInteractive(key) {\n",
              "          const element = document.querySelector('#df-5f52779a-3165-4b3a-ab61-f1f032ebe423');\n",
              "          const dataTable =\n",
              "            await google.colab.kernel.invokeFunction('convertToInteractive',\n",
              "                                                     [key], {});\n",
              "          if (!dataTable) return;\n",
              "\n",
              "          const docLinkHtml = 'Like what you see? Visit the ' +\n",
              "            '<a target=\"_blank\" href=https://colab.research.google.com/notebooks/data_table.ipynb>data table notebook</a>'\n",
              "            + ' to learn more about interactive tables.';\n",
              "          element.innerHTML = '';\n",
              "          dataTable['output_type'] = 'display_data';\n",
              "          await google.colab.output.renderOutput(dataTable, element);\n",
              "          const docLink = document.createElement('div');\n",
              "          docLink.innerHTML = docLinkHtml;\n",
              "          element.appendChild(docLink);\n",
              "        }\n",
              "      </script>\n",
              "    </div>\n",
              "  </div>\n",
              "  "
            ]
          },
          "metadata": {},
          "execution_count": 169
        }
      ]
    },
    {
      "cell_type": "code",
      "source": [
        "#Convertimos la columna Date a formato tiempo\n",
        "df['Date'] = pd.to_datetime(df['Date'], format='%Y%m%d')"
      ],
      "metadata": {
        "id": "kCUXKocmahO2"
      },
      "execution_count": 170,
      "outputs": []
    },
    {
      "cell_type": "code",
      "source": [
        "#Filtamos los datos del periodo de tiempo en el cual se jugo la kings leage \n",
        "Df = df[df['Date'] > '2023-02-11']\n",
        "DfToday = Df[Df['Date'] < '2023-02-13']\n",
        "dt = DfToday"
      ],
      "metadata": {
        "id": "mR6zzpYJuNFs"
      },
      "execution_count": 171,
      "outputs": []
    },
    {
      "cell_type": "code",
      "source": [
        "dt.head()"
      ],
      "metadata": {
        "colab": {
          "base_uri": "https://localhost:8080/",
          "height": 206
        },
        "id": "4qlMT-yCwmbO",
        "outputId": "8a9c8f73-8db2-4176-8b08-7b48c2ee8ea8"
      },
      "execution_count": 172,
      "outputs": [
        {
          "output_type": "execute_result",
          "data": {
            "text/plain": [
              "                       Date  \\\n",
              "0 2023-02-12 23:13:10+00:00   \n",
              "1 2023-02-12 23:12:37+00:00   \n",
              "2 2023-02-12 23:12:26+00:00   \n",
              "3 2023-02-12 23:11:34+00:00   \n",
              "4 2023-02-12 23:09:58+00:00   \n",
              "\n",
              "                                               Tweet Hashtag         Username  \\\n",
              "0  @6cichero6 @KingsLeague @PorcinosFC @IbaiLlano...    None           mickox   \n",
              "1  @pedrosaezarenas @KingsLeague @futbolmahou Ana...    None  MigueCaballer11   \n",
              "2  @6cichero6 @KingsLeague @PorcinosFC @IbaiLlano...    None   DanielFloresJA   \n",
              "3  Que bien me lo he pasado hoy en la @KingsLeagu...    None  pedrosaezarenas   \n",
              "4  @JohanMM_ @loopez______ @KingsLeague @Porcinos...    None        Kanyentin   \n",
              "\n",
              "                                             Mention  \n",
              "0  [https://twitter.com/6cichero6, https://twitte...  \n",
              "1  [https://twitter.com/pedrosaezarenas, https://...  \n",
              "2  [https://twitter.com/6cichero6, https://twitte...  \n",
              "3  [https://twitter.com/KingsLeague, https://twit...  \n",
              "4  [https://twitter.com/JohanMM_, https://twitter...  "
            ],
            "text/html": [
              "\n",
              "  <div id=\"df-138cb1bd-4ca7-4fad-9042-ae8eb596e4bd\">\n",
              "    <div class=\"colab-df-container\">\n",
              "      <div>\n",
              "<style scoped>\n",
              "    .dataframe tbody tr th:only-of-type {\n",
              "        vertical-align: middle;\n",
              "    }\n",
              "\n",
              "    .dataframe tbody tr th {\n",
              "        vertical-align: top;\n",
              "    }\n",
              "\n",
              "    .dataframe thead th {\n",
              "        text-align: right;\n",
              "    }\n",
              "</style>\n",
              "<table border=\"1\" class=\"dataframe\">\n",
              "  <thead>\n",
              "    <tr style=\"text-align: right;\">\n",
              "      <th></th>\n",
              "      <th>Date</th>\n",
              "      <th>Tweet</th>\n",
              "      <th>Hashtag</th>\n",
              "      <th>Username</th>\n",
              "      <th>Mention</th>\n",
              "    </tr>\n",
              "  </thead>\n",
              "  <tbody>\n",
              "    <tr>\n",
              "      <th>0</th>\n",
              "      <td>2023-02-12 23:13:10+00:00</td>\n",
              "      <td>@6cichero6 @KingsLeague @PorcinosFC @IbaiLlano...</td>\n",
              "      <td>None</td>\n",
              "      <td>mickox</td>\n",
              "      <td>[https://twitter.com/6cichero6, https://twitte...</td>\n",
              "    </tr>\n",
              "    <tr>\n",
              "      <th>1</th>\n",
              "      <td>2023-02-12 23:12:37+00:00</td>\n",
              "      <td>@pedrosaezarenas @KingsLeague @futbolmahou Ana...</td>\n",
              "      <td>None</td>\n",
              "      <td>MigueCaballer11</td>\n",
              "      <td>[https://twitter.com/pedrosaezarenas, https://...</td>\n",
              "    </tr>\n",
              "    <tr>\n",
              "      <th>2</th>\n",
              "      <td>2023-02-12 23:12:26+00:00</td>\n",
              "      <td>@6cichero6 @KingsLeague @PorcinosFC @IbaiLlano...</td>\n",
              "      <td>None</td>\n",
              "      <td>DanielFloresJA</td>\n",
              "      <td>[https://twitter.com/6cichero6, https://twitte...</td>\n",
              "    </tr>\n",
              "    <tr>\n",
              "      <th>3</th>\n",
              "      <td>2023-02-12 23:11:34+00:00</td>\n",
              "      <td>Que bien me lo he pasado hoy en la @KingsLeagu...</td>\n",
              "      <td>None</td>\n",
              "      <td>pedrosaezarenas</td>\n",
              "      <td>[https://twitter.com/KingsLeague, https://twit...</td>\n",
              "    </tr>\n",
              "    <tr>\n",
              "      <th>4</th>\n",
              "      <td>2023-02-12 23:09:58+00:00</td>\n",
              "      <td>@JohanMM_ @loopez______ @KingsLeague @Porcinos...</td>\n",
              "      <td>None</td>\n",
              "      <td>Kanyentin</td>\n",
              "      <td>[https://twitter.com/JohanMM_, https://twitter...</td>\n",
              "    </tr>\n",
              "  </tbody>\n",
              "</table>\n",
              "</div>\n",
              "      <button class=\"colab-df-convert\" onclick=\"convertToInteractive('df-138cb1bd-4ca7-4fad-9042-ae8eb596e4bd')\"\n",
              "              title=\"Convert this dataframe to an interactive table.\"\n",
              "              style=\"display:none;\">\n",
              "        \n",
              "  <svg xmlns=\"http://www.w3.org/2000/svg\" height=\"24px\"viewBox=\"0 0 24 24\"\n",
              "       width=\"24px\">\n",
              "    <path d=\"M0 0h24v24H0V0z\" fill=\"none\"/>\n",
              "    <path d=\"M18.56 5.44l.94 2.06.94-2.06 2.06-.94-2.06-.94-.94-2.06-.94 2.06-2.06.94zm-11 1L8.5 8.5l.94-2.06 2.06-.94-2.06-.94L8.5 2.5l-.94 2.06-2.06.94zm10 10l.94 2.06.94-2.06 2.06-.94-2.06-.94-.94-2.06-.94 2.06-2.06.94z\"/><path d=\"M17.41 7.96l-1.37-1.37c-.4-.4-.92-.59-1.43-.59-.52 0-1.04.2-1.43.59L10.3 9.45l-7.72 7.72c-.78.78-.78 2.05 0 2.83L4 21.41c.39.39.9.59 1.41.59.51 0 1.02-.2 1.41-.59l7.78-7.78 2.81-2.81c.8-.78.8-2.07 0-2.86zM5.41 20L4 18.59l7.72-7.72 1.47 1.35L5.41 20z\"/>\n",
              "  </svg>\n",
              "      </button>\n",
              "      \n",
              "  <style>\n",
              "    .colab-df-container {\n",
              "      display:flex;\n",
              "      flex-wrap:wrap;\n",
              "      gap: 12px;\n",
              "    }\n",
              "\n",
              "    .colab-df-convert {\n",
              "      background-color: #E8F0FE;\n",
              "      border: none;\n",
              "      border-radius: 50%;\n",
              "      cursor: pointer;\n",
              "      display: none;\n",
              "      fill: #1967D2;\n",
              "      height: 32px;\n",
              "      padding: 0 0 0 0;\n",
              "      width: 32px;\n",
              "    }\n",
              "\n",
              "    .colab-df-convert:hover {\n",
              "      background-color: #E2EBFA;\n",
              "      box-shadow: 0px 1px 2px rgba(60, 64, 67, 0.3), 0px 1px 3px 1px rgba(60, 64, 67, 0.15);\n",
              "      fill: #174EA6;\n",
              "    }\n",
              "\n",
              "    [theme=dark] .colab-df-convert {\n",
              "      background-color: #3B4455;\n",
              "      fill: #D2E3FC;\n",
              "    }\n",
              "\n",
              "    [theme=dark] .colab-df-convert:hover {\n",
              "      background-color: #434B5C;\n",
              "      box-shadow: 0px 1px 3px 1px rgba(0, 0, 0, 0.15);\n",
              "      filter: drop-shadow(0px 1px 2px rgba(0, 0, 0, 0.3));\n",
              "      fill: #FFFFFF;\n",
              "    }\n",
              "  </style>\n",
              "\n",
              "      <script>\n",
              "        const buttonEl =\n",
              "          document.querySelector('#df-138cb1bd-4ca7-4fad-9042-ae8eb596e4bd button.colab-df-convert');\n",
              "        buttonEl.style.display =\n",
              "          google.colab.kernel.accessAllowed ? 'block' : 'none';\n",
              "\n",
              "        async function convertToInteractive(key) {\n",
              "          const element = document.querySelector('#df-138cb1bd-4ca7-4fad-9042-ae8eb596e4bd');\n",
              "          const dataTable =\n",
              "            await google.colab.kernel.invokeFunction('convertToInteractive',\n",
              "                                                     [key], {});\n",
              "          if (!dataTable) return;\n",
              "\n",
              "          const docLinkHtml = 'Like what you see? Visit the ' +\n",
              "            '<a target=\"_blank\" href=https://colab.research.google.com/notebooks/data_table.ipynb>data table notebook</a>'\n",
              "            + ' to learn more about interactive tables.';\n",
              "          element.innerHTML = '';\n",
              "          dataTable['output_type'] = 'display_data';\n",
              "          await google.colab.output.renderOutput(dataTable, element);\n",
              "          const docLink = document.createElement('div');\n",
              "          docLink.innerHTML = docLinkHtml;\n",
              "          element.appendChild(docLink);\n",
              "        }\n",
              "      </script>\n",
              "    </div>\n",
              "  </div>\n",
              "  "
            ]
          },
          "metadata": {},
          "execution_count": 172
        }
      ]
    },
    {
      "cell_type": "code",
      "source": [
        "#Convertimos el None en Nan y luego remplazamos el Nan por un 1\n",
        "dt['Hashtag'].replace('None', np.nan, inplace=True)\n",
        "dt['Hashtag'] = dt['Hashtag'].fillna('1')\n",
        "\n"
      ],
      "metadata": {
        "id": "9rLRmo21fmXU"
      },
      "execution_count": 173,
      "outputs": []
    },
    {
      "cell_type": "code",
      "source": [
        "dt['Mention'].replace('None', np.nan, inplace=True)\n",
        "dt['Mention'] = dt['Mention'].fillna('1')"
      ],
      "metadata": {
        "id": "ZOdJ7oMPf0LU"
      },
      "execution_count": 174,
      "outputs": []
    },
    {
      "cell_type": "code",
      "source": [
        "dt.head()"
      ],
      "metadata": {
        "colab": {
          "base_uri": "https://localhost:8080/",
          "height": 206
        },
        "id": "8SCTG99Qwh_s",
        "outputId": "27065664-8f3e-4c1c-9779-b9e36156f598"
      },
      "execution_count": 175,
      "outputs": [
        {
          "output_type": "execute_result",
          "data": {
            "text/plain": [
              "                       Date  \\\n",
              "0 2023-02-12 23:13:10+00:00   \n",
              "1 2023-02-12 23:12:37+00:00   \n",
              "2 2023-02-12 23:12:26+00:00   \n",
              "3 2023-02-12 23:11:34+00:00   \n",
              "4 2023-02-12 23:09:58+00:00   \n",
              "\n",
              "                                               Tweet Hashtag         Username  \\\n",
              "0  @6cichero6 @KingsLeague @PorcinosFC @IbaiLlano...       1           mickox   \n",
              "1  @pedrosaezarenas @KingsLeague @futbolmahou Ana...       1  MigueCaballer11   \n",
              "2  @6cichero6 @KingsLeague @PorcinosFC @IbaiLlano...       1   DanielFloresJA   \n",
              "3  Que bien me lo he pasado hoy en la @KingsLeagu...       1  pedrosaezarenas   \n",
              "4  @JohanMM_ @loopez______ @KingsLeague @Porcinos...       1        Kanyentin   \n",
              "\n",
              "                                             Mention  \n",
              "0  [https://twitter.com/6cichero6, https://twitte...  \n",
              "1  [https://twitter.com/pedrosaezarenas, https://...  \n",
              "2  [https://twitter.com/6cichero6, https://twitte...  \n",
              "3  [https://twitter.com/KingsLeague, https://twit...  \n",
              "4  [https://twitter.com/JohanMM_, https://twitter...  "
            ],
            "text/html": [
              "\n",
              "  <div id=\"df-eb8916b5-3537-4587-906e-a58c41bdae1a\">\n",
              "    <div class=\"colab-df-container\">\n",
              "      <div>\n",
              "<style scoped>\n",
              "    .dataframe tbody tr th:only-of-type {\n",
              "        vertical-align: middle;\n",
              "    }\n",
              "\n",
              "    .dataframe tbody tr th {\n",
              "        vertical-align: top;\n",
              "    }\n",
              "\n",
              "    .dataframe thead th {\n",
              "        text-align: right;\n",
              "    }\n",
              "</style>\n",
              "<table border=\"1\" class=\"dataframe\">\n",
              "  <thead>\n",
              "    <tr style=\"text-align: right;\">\n",
              "      <th></th>\n",
              "      <th>Date</th>\n",
              "      <th>Tweet</th>\n",
              "      <th>Hashtag</th>\n",
              "      <th>Username</th>\n",
              "      <th>Mention</th>\n",
              "    </tr>\n",
              "  </thead>\n",
              "  <tbody>\n",
              "    <tr>\n",
              "      <th>0</th>\n",
              "      <td>2023-02-12 23:13:10+00:00</td>\n",
              "      <td>@6cichero6 @KingsLeague @PorcinosFC @IbaiLlano...</td>\n",
              "      <td>1</td>\n",
              "      <td>mickox</td>\n",
              "      <td>[https://twitter.com/6cichero6, https://twitte...</td>\n",
              "    </tr>\n",
              "    <tr>\n",
              "      <th>1</th>\n",
              "      <td>2023-02-12 23:12:37+00:00</td>\n",
              "      <td>@pedrosaezarenas @KingsLeague @futbolmahou Ana...</td>\n",
              "      <td>1</td>\n",
              "      <td>MigueCaballer11</td>\n",
              "      <td>[https://twitter.com/pedrosaezarenas, https://...</td>\n",
              "    </tr>\n",
              "    <tr>\n",
              "      <th>2</th>\n",
              "      <td>2023-02-12 23:12:26+00:00</td>\n",
              "      <td>@6cichero6 @KingsLeague @PorcinosFC @IbaiLlano...</td>\n",
              "      <td>1</td>\n",
              "      <td>DanielFloresJA</td>\n",
              "      <td>[https://twitter.com/6cichero6, https://twitte...</td>\n",
              "    </tr>\n",
              "    <tr>\n",
              "      <th>3</th>\n",
              "      <td>2023-02-12 23:11:34+00:00</td>\n",
              "      <td>Que bien me lo he pasado hoy en la @KingsLeagu...</td>\n",
              "      <td>1</td>\n",
              "      <td>pedrosaezarenas</td>\n",
              "      <td>[https://twitter.com/KingsLeague, https://twit...</td>\n",
              "    </tr>\n",
              "    <tr>\n",
              "      <th>4</th>\n",
              "      <td>2023-02-12 23:09:58+00:00</td>\n",
              "      <td>@JohanMM_ @loopez______ @KingsLeague @Porcinos...</td>\n",
              "      <td>1</td>\n",
              "      <td>Kanyentin</td>\n",
              "      <td>[https://twitter.com/JohanMM_, https://twitter...</td>\n",
              "    </tr>\n",
              "  </tbody>\n",
              "</table>\n",
              "</div>\n",
              "      <button class=\"colab-df-convert\" onclick=\"convertToInteractive('df-eb8916b5-3537-4587-906e-a58c41bdae1a')\"\n",
              "              title=\"Convert this dataframe to an interactive table.\"\n",
              "              style=\"display:none;\">\n",
              "        \n",
              "  <svg xmlns=\"http://www.w3.org/2000/svg\" height=\"24px\"viewBox=\"0 0 24 24\"\n",
              "       width=\"24px\">\n",
              "    <path d=\"M0 0h24v24H0V0z\" fill=\"none\"/>\n",
              "    <path d=\"M18.56 5.44l.94 2.06.94-2.06 2.06-.94-2.06-.94-.94-2.06-.94 2.06-2.06.94zm-11 1L8.5 8.5l.94-2.06 2.06-.94-2.06-.94L8.5 2.5l-.94 2.06-2.06.94zm10 10l.94 2.06.94-2.06 2.06-.94-2.06-.94-.94-2.06-.94 2.06-2.06.94z\"/><path d=\"M17.41 7.96l-1.37-1.37c-.4-.4-.92-.59-1.43-.59-.52 0-1.04.2-1.43.59L10.3 9.45l-7.72 7.72c-.78.78-.78 2.05 0 2.83L4 21.41c.39.39.9.59 1.41.59.51 0 1.02-.2 1.41-.59l7.78-7.78 2.81-2.81c.8-.78.8-2.07 0-2.86zM5.41 20L4 18.59l7.72-7.72 1.47 1.35L5.41 20z\"/>\n",
              "  </svg>\n",
              "      </button>\n",
              "      \n",
              "  <style>\n",
              "    .colab-df-container {\n",
              "      display:flex;\n",
              "      flex-wrap:wrap;\n",
              "      gap: 12px;\n",
              "    }\n",
              "\n",
              "    .colab-df-convert {\n",
              "      background-color: #E8F0FE;\n",
              "      border: none;\n",
              "      border-radius: 50%;\n",
              "      cursor: pointer;\n",
              "      display: none;\n",
              "      fill: #1967D2;\n",
              "      height: 32px;\n",
              "      padding: 0 0 0 0;\n",
              "      width: 32px;\n",
              "    }\n",
              "\n",
              "    .colab-df-convert:hover {\n",
              "      background-color: #E2EBFA;\n",
              "      box-shadow: 0px 1px 2px rgba(60, 64, 67, 0.3), 0px 1px 3px 1px rgba(60, 64, 67, 0.15);\n",
              "      fill: #174EA6;\n",
              "    }\n",
              "\n",
              "    [theme=dark] .colab-df-convert {\n",
              "      background-color: #3B4455;\n",
              "      fill: #D2E3FC;\n",
              "    }\n",
              "\n",
              "    [theme=dark] .colab-df-convert:hover {\n",
              "      background-color: #434B5C;\n",
              "      box-shadow: 0px 1px 3px 1px rgba(0, 0, 0, 0.15);\n",
              "      filter: drop-shadow(0px 1px 2px rgba(0, 0, 0, 0.3));\n",
              "      fill: #FFFFFF;\n",
              "    }\n",
              "  </style>\n",
              "\n",
              "      <script>\n",
              "        const buttonEl =\n",
              "          document.querySelector('#df-eb8916b5-3537-4587-906e-a58c41bdae1a button.colab-df-convert');\n",
              "        buttonEl.style.display =\n",
              "          google.colab.kernel.accessAllowed ? 'block' : 'none';\n",
              "\n",
              "        async function convertToInteractive(key) {\n",
              "          const element = document.querySelector('#df-eb8916b5-3537-4587-906e-a58c41bdae1a');\n",
              "          const dataTable =\n",
              "            await google.colab.kernel.invokeFunction('convertToInteractive',\n",
              "                                                     [key], {});\n",
              "          if (!dataTable) return;\n",
              "\n",
              "          const docLinkHtml = 'Like what you see? Visit the ' +\n",
              "            '<a target=\"_blank\" href=https://colab.research.google.com/notebooks/data_table.ipynb>data table notebook</a>'\n",
              "            + ' to learn more about interactive tables.';\n",
              "          element.innerHTML = '';\n",
              "          dataTable['output_type'] = 'display_data';\n",
              "          await google.colab.output.renderOutput(dataTable, element);\n",
              "          const docLink = document.createElement('div');\n",
              "          docLink.innerHTML = docLinkHtml;\n",
              "          element.appendChild(docLink);\n",
              "        }\n",
              "      </script>\n",
              "    </div>\n",
              "  </div>\n",
              "  "
            ]
          },
          "metadata": {},
          "execution_count": 175
        }
      ]
    },
    {
      "cell_type": "code",
      "source": [
        "#Extraemos los hashtags para convertirlos en strings\n",
        "def textl(text):\n",
        "  leters= \" \".join([str(_) for _ in text])\n",
        "  return leters\n"
      ],
      "metadata": {
        "id": "5RG5LTZda3aG"
      },
      "execution_count": 176,
      "outputs": []
    },
    {
      "cell_type": "code",
      "source": [
        "dt['TokenMention'] = dt['Mention'].apply(textl)"
      ],
      "metadata": {
        "id": "fUFSUpUDmNg9"
      },
      "execution_count": 177,
      "outputs": []
    },
    {
      "cell_type": "code",
      "source": [
        "dt['Token'] = dt['Hashtag'].apply(textl)\n",
        "dt.head()"
      ],
      "metadata": {
        "colab": {
          "base_uri": "https://localhost:8080/",
          "height": 337
        },
        "id": "e_0kiGvkbBRu",
        "outputId": "e69c1e84-cadf-424a-eeb1-161244ed8f94"
      },
      "execution_count": 178,
      "outputs": [
        {
          "output_type": "execute_result",
          "data": {
            "text/plain": [
              "                       Date  \\\n",
              "0 2023-02-12 23:13:10+00:00   \n",
              "1 2023-02-12 23:12:37+00:00   \n",
              "2 2023-02-12 23:12:26+00:00   \n",
              "3 2023-02-12 23:11:34+00:00   \n",
              "4 2023-02-12 23:09:58+00:00   \n",
              "\n",
              "                                               Tweet Hashtag         Username  \\\n",
              "0  @6cichero6 @KingsLeague @PorcinosFC @IbaiLlano...       1           mickox   \n",
              "1  @pedrosaezarenas @KingsLeague @futbolmahou Ana...       1  MigueCaballer11   \n",
              "2  @6cichero6 @KingsLeague @PorcinosFC @IbaiLlano...       1   DanielFloresJA   \n",
              "3  Que bien me lo he pasado hoy en la @KingsLeagu...       1  pedrosaezarenas   \n",
              "4  @JohanMM_ @loopez______ @KingsLeague @Porcinos...       1        Kanyentin   \n",
              "\n",
              "                                             Mention  \\\n",
              "0  [https://twitter.com/6cichero6, https://twitte...   \n",
              "1  [https://twitter.com/pedrosaezarenas, https://...   \n",
              "2  [https://twitter.com/6cichero6, https://twitte...   \n",
              "3  [https://twitter.com/KingsLeague, https://twit...   \n",
              "4  [https://twitter.com/JohanMM_, https://twitter...   \n",
              "\n",
              "                                        TokenMention Token  \n",
              "0  https://twitter.com/6cichero6 https://twitter....     1  \n",
              "1  https://twitter.com/pedrosaezarenas https://tw...     1  \n",
              "2  https://twitter.com/6cichero6 https://twitter....     1  \n",
              "3  https://twitter.com/KingsLeague https://twitte...     1  \n",
              "4  https://twitter.com/JohanMM_ https://twitter.c...     1  "
            ],
            "text/html": [
              "\n",
              "  <div id=\"df-213cfafd-0cb5-414e-ab7e-566bff91bfa3\">\n",
              "    <div class=\"colab-df-container\">\n",
              "      <div>\n",
              "<style scoped>\n",
              "    .dataframe tbody tr th:only-of-type {\n",
              "        vertical-align: middle;\n",
              "    }\n",
              "\n",
              "    .dataframe tbody tr th {\n",
              "        vertical-align: top;\n",
              "    }\n",
              "\n",
              "    .dataframe thead th {\n",
              "        text-align: right;\n",
              "    }\n",
              "</style>\n",
              "<table border=\"1\" class=\"dataframe\">\n",
              "  <thead>\n",
              "    <tr style=\"text-align: right;\">\n",
              "      <th></th>\n",
              "      <th>Date</th>\n",
              "      <th>Tweet</th>\n",
              "      <th>Hashtag</th>\n",
              "      <th>Username</th>\n",
              "      <th>Mention</th>\n",
              "      <th>TokenMention</th>\n",
              "      <th>Token</th>\n",
              "    </tr>\n",
              "  </thead>\n",
              "  <tbody>\n",
              "    <tr>\n",
              "      <th>0</th>\n",
              "      <td>2023-02-12 23:13:10+00:00</td>\n",
              "      <td>@6cichero6 @KingsLeague @PorcinosFC @IbaiLlano...</td>\n",
              "      <td>1</td>\n",
              "      <td>mickox</td>\n",
              "      <td>[https://twitter.com/6cichero6, https://twitte...</td>\n",
              "      <td>https://twitter.com/6cichero6 https://twitter....</td>\n",
              "      <td>1</td>\n",
              "    </tr>\n",
              "    <tr>\n",
              "      <th>1</th>\n",
              "      <td>2023-02-12 23:12:37+00:00</td>\n",
              "      <td>@pedrosaezarenas @KingsLeague @futbolmahou Ana...</td>\n",
              "      <td>1</td>\n",
              "      <td>MigueCaballer11</td>\n",
              "      <td>[https://twitter.com/pedrosaezarenas, https://...</td>\n",
              "      <td>https://twitter.com/pedrosaezarenas https://tw...</td>\n",
              "      <td>1</td>\n",
              "    </tr>\n",
              "    <tr>\n",
              "      <th>2</th>\n",
              "      <td>2023-02-12 23:12:26+00:00</td>\n",
              "      <td>@6cichero6 @KingsLeague @PorcinosFC @IbaiLlano...</td>\n",
              "      <td>1</td>\n",
              "      <td>DanielFloresJA</td>\n",
              "      <td>[https://twitter.com/6cichero6, https://twitte...</td>\n",
              "      <td>https://twitter.com/6cichero6 https://twitter....</td>\n",
              "      <td>1</td>\n",
              "    </tr>\n",
              "    <tr>\n",
              "      <th>3</th>\n",
              "      <td>2023-02-12 23:11:34+00:00</td>\n",
              "      <td>Que bien me lo he pasado hoy en la @KingsLeagu...</td>\n",
              "      <td>1</td>\n",
              "      <td>pedrosaezarenas</td>\n",
              "      <td>[https://twitter.com/KingsLeague, https://twit...</td>\n",
              "      <td>https://twitter.com/KingsLeague https://twitte...</td>\n",
              "      <td>1</td>\n",
              "    </tr>\n",
              "    <tr>\n",
              "      <th>4</th>\n",
              "      <td>2023-02-12 23:09:58+00:00</td>\n",
              "      <td>@JohanMM_ @loopez______ @KingsLeague @Porcinos...</td>\n",
              "      <td>1</td>\n",
              "      <td>Kanyentin</td>\n",
              "      <td>[https://twitter.com/JohanMM_, https://twitter...</td>\n",
              "      <td>https://twitter.com/JohanMM_ https://twitter.c...</td>\n",
              "      <td>1</td>\n",
              "    </tr>\n",
              "  </tbody>\n",
              "</table>\n",
              "</div>\n",
              "      <button class=\"colab-df-convert\" onclick=\"convertToInteractive('df-213cfafd-0cb5-414e-ab7e-566bff91bfa3')\"\n",
              "              title=\"Convert this dataframe to an interactive table.\"\n",
              "              style=\"display:none;\">\n",
              "        \n",
              "  <svg xmlns=\"http://www.w3.org/2000/svg\" height=\"24px\"viewBox=\"0 0 24 24\"\n",
              "       width=\"24px\">\n",
              "    <path d=\"M0 0h24v24H0V0z\" fill=\"none\"/>\n",
              "    <path d=\"M18.56 5.44l.94 2.06.94-2.06 2.06-.94-2.06-.94-.94-2.06-.94 2.06-2.06.94zm-11 1L8.5 8.5l.94-2.06 2.06-.94-2.06-.94L8.5 2.5l-.94 2.06-2.06.94zm10 10l.94 2.06.94-2.06 2.06-.94-2.06-.94-.94-2.06-.94 2.06-2.06.94z\"/><path d=\"M17.41 7.96l-1.37-1.37c-.4-.4-.92-.59-1.43-.59-.52 0-1.04.2-1.43.59L10.3 9.45l-7.72 7.72c-.78.78-.78 2.05 0 2.83L4 21.41c.39.39.9.59 1.41.59.51 0 1.02-.2 1.41-.59l7.78-7.78 2.81-2.81c.8-.78.8-2.07 0-2.86zM5.41 20L4 18.59l7.72-7.72 1.47 1.35L5.41 20z\"/>\n",
              "  </svg>\n",
              "      </button>\n",
              "      \n",
              "  <style>\n",
              "    .colab-df-container {\n",
              "      display:flex;\n",
              "      flex-wrap:wrap;\n",
              "      gap: 12px;\n",
              "    }\n",
              "\n",
              "    .colab-df-convert {\n",
              "      background-color: #E8F0FE;\n",
              "      border: none;\n",
              "      border-radius: 50%;\n",
              "      cursor: pointer;\n",
              "      display: none;\n",
              "      fill: #1967D2;\n",
              "      height: 32px;\n",
              "      padding: 0 0 0 0;\n",
              "      width: 32px;\n",
              "    }\n",
              "\n",
              "    .colab-df-convert:hover {\n",
              "      background-color: #E2EBFA;\n",
              "      box-shadow: 0px 1px 2px rgba(60, 64, 67, 0.3), 0px 1px 3px 1px rgba(60, 64, 67, 0.15);\n",
              "      fill: #174EA6;\n",
              "    }\n",
              "\n",
              "    [theme=dark] .colab-df-convert {\n",
              "      background-color: #3B4455;\n",
              "      fill: #D2E3FC;\n",
              "    }\n",
              "\n",
              "    [theme=dark] .colab-df-convert:hover {\n",
              "      background-color: #434B5C;\n",
              "      box-shadow: 0px 1px 3px 1px rgba(0, 0, 0, 0.15);\n",
              "      filter: drop-shadow(0px 1px 2px rgba(0, 0, 0, 0.3));\n",
              "      fill: #FFFFFF;\n",
              "    }\n",
              "  </style>\n",
              "\n",
              "      <script>\n",
              "        const buttonEl =\n",
              "          document.querySelector('#df-213cfafd-0cb5-414e-ab7e-566bff91bfa3 button.colab-df-convert');\n",
              "        buttonEl.style.display =\n",
              "          google.colab.kernel.accessAllowed ? 'block' : 'none';\n",
              "\n",
              "        async function convertToInteractive(key) {\n",
              "          const element = document.querySelector('#df-213cfafd-0cb5-414e-ab7e-566bff91bfa3');\n",
              "          const dataTable =\n",
              "            await google.colab.kernel.invokeFunction('convertToInteractive',\n",
              "                                                     [key], {});\n",
              "          if (!dataTable) return;\n",
              "\n",
              "          const docLinkHtml = 'Like what you see? Visit the ' +\n",
              "            '<a target=\"_blank\" href=https://colab.research.google.com/notebooks/data_table.ipynb>data table notebook</a>'\n",
              "            + ' to learn more about interactive tables.';\n",
              "          element.innerHTML = '';\n",
              "          dataTable['output_type'] = 'display_data';\n",
              "          await google.colab.output.renderOutput(dataTable, element);\n",
              "          const docLink = document.createElement('div');\n",
              "          docLink.innerHTML = docLinkHtml;\n",
              "          element.appendChild(docLink);\n",
              "        }\n",
              "      </script>\n",
              "    </div>\n",
              "  </div>\n",
              "  "
            ]
          },
          "metadata": {},
          "execution_count": 178
        }
      ]
    },
    {
      "cell_type": "code",
      "source": [
        "tokenHashtag = dt['Token']"
      ],
      "metadata": {
        "id": "RjOHwFYYnEnb"
      },
      "execution_count": 212,
      "outputs": []
    },
    {
      "cell_type": "code",
      "source": [
        "tokenMention = dt['TokenMention']"
      ],
      "metadata": {
        "id": "f2ZPHmb7uYad"
      },
      "execution_count": 213,
      "outputs": []
    },
    {
      "cell_type": "code",
      "source": [
        "tokens = [token for line in tokenHashtag  for token in line.split()]\n",
        "tokensMention = [token for line in tokenMention  for token in line.split()]"
      ],
      "metadata": {
        "id": "3r4naeZsnXvD"
      },
      "execution_count": 181,
      "outputs": []
    },
    {
      "cell_type": "code",
      "source": [
        "#Creamos una funcion que cuente los datos ya toquenizados \n",
        "def get_tokens(docx,num=40):\n",
        "    word_tokens = Counter(docx)\n",
        "    most_common = word_tokens.most_common(num)\n",
        "    result = dict(most_common)\n",
        "    return result"
      ],
      "metadata": {
        "id": "LLTearKWnbNK"
      },
      "execution_count": 182,
      "outputs": []
    },
    {
      "cell_type": "code",
      "source": [
        "tokensTotal = get_tokens(tokens)\n",
        "TokenMentionTotal= get_tokens(tokensMention)"
      ],
      "metadata": {
        "id": "EGXATuGgneL6"
      },
      "execution_count": 183,
      "outputs": []
    },
    {
      "cell_type": "code",
      "source": [
        "#Insertamos los datos en un dataframe\n",
        "data = pd.DataFrame(tokensTotal.items(),columns=['Hashtags','scores'])\n",
        "dataM = pd.DataFrame(TokenMentionTotal.items(),columns=['Mention','scores'])"
      ],
      "metadata": {
        "id": "BXUREFWYng_8"
      },
      "execution_count": 184,
      "outputs": []
    },
    {
      "cell_type": "code",
      "source": [
        "dataM.head()"
      ],
      "metadata": {
        "colab": {
          "base_uri": "https://localhost:8080/",
          "height": 206
        },
        "id": "kUGxv6SEv3Us",
        "outputId": "d3b3cfba-faa9-48bd-dba3-08e89a026db4"
      },
      "execution_count": 185,
      "outputs": [
        {
          "output_type": "execute_result",
          "data": {
            "text/plain": [
              "                           Mention  scores\n",
              "0  https://twitter.com/KingsLeague    2964\n",
              "1   https://twitter.com/JijantesFC     654\n",
              "2       https://twitter.com/PIO_FC     639\n",
              "3   https://twitter.com/Aaronrv22_     440\n",
              "4     https://twitter.com/DjMaRiiO     282"
            ],
            "text/html": [
              "\n",
              "  <div id=\"df-476e2211-94ce-4bcd-9d74-5149ef6f8014\">\n",
              "    <div class=\"colab-df-container\">\n",
              "      <div>\n",
              "<style scoped>\n",
              "    .dataframe tbody tr th:only-of-type {\n",
              "        vertical-align: middle;\n",
              "    }\n",
              "\n",
              "    .dataframe tbody tr th {\n",
              "        vertical-align: top;\n",
              "    }\n",
              "\n",
              "    .dataframe thead th {\n",
              "        text-align: right;\n",
              "    }\n",
              "</style>\n",
              "<table border=\"1\" class=\"dataframe\">\n",
              "  <thead>\n",
              "    <tr style=\"text-align: right;\">\n",
              "      <th></th>\n",
              "      <th>Mention</th>\n",
              "      <th>scores</th>\n",
              "    </tr>\n",
              "  </thead>\n",
              "  <tbody>\n",
              "    <tr>\n",
              "      <th>0</th>\n",
              "      <td>https://twitter.com/KingsLeague</td>\n",
              "      <td>2964</td>\n",
              "    </tr>\n",
              "    <tr>\n",
              "      <th>1</th>\n",
              "      <td>https://twitter.com/JijantesFC</td>\n",
              "      <td>654</td>\n",
              "    </tr>\n",
              "    <tr>\n",
              "      <th>2</th>\n",
              "      <td>https://twitter.com/PIO_FC</td>\n",
              "      <td>639</td>\n",
              "    </tr>\n",
              "    <tr>\n",
              "      <th>3</th>\n",
              "      <td>https://twitter.com/Aaronrv22_</td>\n",
              "      <td>440</td>\n",
              "    </tr>\n",
              "    <tr>\n",
              "      <th>4</th>\n",
              "      <td>https://twitter.com/DjMaRiiO</td>\n",
              "      <td>282</td>\n",
              "    </tr>\n",
              "  </tbody>\n",
              "</table>\n",
              "</div>\n",
              "      <button class=\"colab-df-convert\" onclick=\"convertToInteractive('df-476e2211-94ce-4bcd-9d74-5149ef6f8014')\"\n",
              "              title=\"Convert this dataframe to an interactive table.\"\n",
              "              style=\"display:none;\">\n",
              "        \n",
              "  <svg xmlns=\"http://www.w3.org/2000/svg\" height=\"24px\"viewBox=\"0 0 24 24\"\n",
              "       width=\"24px\">\n",
              "    <path d=\"M0 0h24v24H0V0z\" fill=\"none\"/>\n",
              "    <path d=\"M18.56 5.44l.94 2.06.94-2.06 2.06-.94-2.06-.94-.94-2.06-.94 2.06-2.06.94zm-11 1L8.5 8.5l.94-2.06 2.06-.94-2.06-.94L8.5 2.5l-.94 2.06-2.06.94zm10 10l.94 2.06.94-2.06 2.06-.94-2.06-.94-.94-2.06-.94 2.06-2.06.94z\"/><path d=\"M17.41 7.96l-1.37-1.37c-.4-.4-.92-.59-1.43-.59-.52 0-1.04.2-1.43.59L10.3 9.45l-7.72 7.72c-.78.78-.78 2.05 0 2.83L4 21.41c.39.39.9.59 1.41.59.51 0 1.02-.2 1.41-.59l7.78-7.78 2.81-2.81c.8-.78.8-2.07 0-2.86zM5.41 20L4 18.59l7.72-7.72 1.47 1.35L5.41 20z\"/>\n",
              "  </svg>\n",
              "      </button>\n",
              "      \n",
              "  <style>\n",
              "    .colab-df-container {\n",
              "      display:flex;\n",
              "      flex-wrap:wrap;\n",
              "      gap: 12px;\n",
              "    }\n",
              "\n",
              "    .colab-df-convert {\n",
              "      background-color: #E8F0FE;\n",
              "      border: none;\n",
              "      border-radius: 50%;\n",
              "      cursor: pointer;\n",
              "      display: none;\n",
              "      fill: #1967D2;\n",
              "      height: 32px;\n",
              "      padding: 0 0 0 0;\n",
              "      width: 32px;\n",
              "    }\n",
              "\n",
              "    .colab-df-convert:hover {\n",
              "      background-color: #E2EBFA;\n",
              "      box-shadow: 0px 1px 2px rgba(60, 64, 67, 0.3), 0px 1px 3px 1px rgba(60, 64, 67, 0.15);\n",
              "      fill: #174EA6;\n",
              "    }\n",
              "\n",
              "    [theme=dark] .colab-df-convert {\n",
              "      background-color: #3B4455;\n",
              "      fill: #D2E3FC;\n",
              "    }\n",
              "\n",
              "    [theme=dark] .colab-df-convert:hover {\n",
              "      background-color: #434B5C;\n",
              "      box-shadow: 0px 1px 3px 1px rgba(0, 0, 0, 0.15);\n",
              "      filter: drop-shadow(0px 1px 2px rgba(0, 0, 0, 0.3));\n",
              "      fill: #FFFFFF;\n",
              "    }\n",
              "  </style>\n",
              "\n",
              "      <script>\n",
              "        const buttonEl =\n",
              "          document.querySelector('#df-476e2211-94ce-4bcd-9d74-5149ef6f8014 button.colab-df-convert');\n",
              "        buttonEl.style.display =\n",
              "          google.colab.kernel.accessAllowed ? 'block' : 'none';\n",
              "\n",
              "        async function convertToInteractive(key) {\n",
              "          const element = document.querySelector('#df-476e2211-94ce-4bcd-9d74-5149ef6f8014');\n",
              "          const dataTable =\n",
              "            await google.colab.kernel.invokeFunction('convertToInteractive',\n",
              "                                                     [key], {});\n",
              "          if (!dataTable) return;\n",
              "\n",
              "          const docLinkHtml = 'Like what you see? Visit the ' +\n",
              "            '<a target=\"_blank\" href=https://colab.research.google.com/notebooks/data_table.ipynb>data table notebook</a>'\n",
              "            + ' to learn more about interactive tables.';\n",
              "          element.innerHTML = '';\n",
              "          dataTable['output_type'] = 'display_data';\n",
              "          await google.colab.output.renderOutput(dataTable, element);\n",
              "          const docLink = document.createElement('div');\n",
              "          docLink.innerHTML = docLinkHtml;\n",
              "          element.appendChild(docLink);\n",
              "        }\n",
              "      </script>\n",
              "    </div>\n",
              "  </div>\n",
              "  "
            ]
          },
          "metadata": {},
          "execution_count": 185
        }
      ]
    },
    {
      "cell_type": "code",
      "source": [
        "fig = px.bar(dataM, title=\"Menciones mas usados en la Kings League\",x=dataM['Mention'], y=dataM['scores'])\n",
        "fig.show()"
      ],
      "metadata": {
        "colab": {
          "base_uri": "https://localhost:8080/",
          "height": 542
        },
        "id": "heyzF75eu877",
        "outputId": "245819e1-e06b-4352-b45b-bf4e0947632c"
      },
      "execution_count": 186,
      "outputs": [
        {
          "output_type": "display_data",
          "data": {
            "text/html": [
              "<html>\n",
              "<head><meta charset=\"utf-8\" /></head>\n",
              "<body>\n",
              "    <div>            <script src=\"https://cdnjs.cloudflare.com/ajax/libs/mathjax/2.7.5/MathJax.js?config=TeX-AMS-MML_SVG\"></script><script type=\"text/javascript\">if (window.MathJax) {MathJax.Hub.Config({SVG: {font: \"STIX-Web\"}});}</script>                <script type=\"text/javascript\">window.PlotlyConfig = {MathJaxConfig: 'local'};</script>\n",
              "        <script src=\"https://cdn.plot.ly/plotly-2.8.3.min.js\"></script>                <div id=\"990fda27-0be6-4810-a2e2-e4c75e2be327\" class=\"plotly-graph-div\" style=\"height:525px; width:100%;\"></div>            <script type=\"text/javascript\">                                    window.PLOTLYENV=window.PLOTLYENV || {};                                    if (document.getElementById(\"990fda27-0be6-4810-a2e2-e4c75e2be327\")) {                    Plotly.newPlot(                        \"990fda27-0be6-4810-a2e2-e4c75e2be327\",                        [{\"alignmentgroup\":\"True\",\"hovertemplate\":\"Mention=%{x}<br>scores=%{y}<extra></extra>\",\"legendgroup\":\"\",\"marker\":{\"color\":\"#636efa\",\"pattern\":{\"shape\":\"\"}},\"name\":\"\",\"offsetgroup\":\"\",\"orientation\":\"v\",\"showlegend\":false,\"textposition\":\"auto\",\"x\":[\"https://twitter.com/KingsLeague\",\"https://twitter.com/JijantesFC\",\"https://twitter.com/PIO_FC\",\"https://twitter.com/Aaronrv22_\",\"https://twitter.com/DjMaRiiO\",\"https://twitter.com/PorcinosFC\",\"https://twitter.com/LosTroncosFC_\",\"https://twitter.com/3gerardpique\",\"https://twitter.com/elbarrioklk_\",\"https://twitter.com/kunisport\",\"https://twitter.com/AniquiladoresFC\",\"https://twitter.com/Perxitaa\",\"https://twitter.com/UltMostoles\",\"https://twitter.com/IbaiLlanos\",\"https://twitter.com/gerardromero\",\"https://twitter.com/xBuyer_Team\",\"https://twitter.com/6cichero6\",\"https://twitter.com/KrcPetit\",\"https://twitter.com/franjhg10\",\"https://twitter.com/1kfutbolclub\",\"https://twitter.com/Saiyans_FC_\",\"https://twitter.com/1996Javi\",\"https://twitter.com/RayodeBarcelona\",\"https://twitter.com/samyriveratv\",\"https://twitter.com/EstrellaDammEs\",\"https://twitter.com/lechupol\",\"https://twitter.com/Juanmaglez22\",\"https://twitter.com/Bifrutas\",\"https://twitter.com/berni17207990\",\"https://twitter.com/IkerCasillas\",\"https://twitter.com/capde11\",\"https://twitter.com/Spursito\",\"https://twitter.com/diaserjon\",\"https://twitter.com/colacao\",\"1\",\"https://twitter.com/sergiocivico8\",\"https://twitter.com/AranBlohsh\",\"https://twitter.com/mantovanimartin\",\"https://twitter.com/adricontreras4\",\"https://twitter.com/SergioFFerra\"],\"xaxis\":\"x\",\"y\":[2964,654,639,440,282,268,264,233,194,171,169,149,123,121,117,113,109,90,83,65,62,51,42,40,33,32,32,30,26,24,24,23,23,20,19,17,16,15,15,15],\"yaxis\":\"y\",\"type\":\"bar\"}],                        {\"template\":{\"data\":{\"bar\":[{\"error_x\":{\"color\":\"#2a3f5f\"},\"error_y\":{\"color\":\"#2a3f5f\"},\"marker\":{\"line\":{\"color\":\"#E5ECF6\",\"width\":0.5},\"pattern\":{\"fillmode\":\"overlay\",\"size\":10,\"solidity\":0.2}},\"type\":\"bar\"}],\"barpolar\":[{\"marker\":{\"line\":{\"color\":\"#E5ECF6\",\"width\":0.5},\"pattern\":{\"fillmode\":\"overlay\",\"size\":10,\"solidity\":0.2}},\"type\":\"barpolar\"}],\"carpet\":[{\"aaxis\":{\"endlinecolor\":\"#2a3f5f\",\"gridcolor\":\"white\",\"linecolor\":\"white\",\"minorgridcolor\":\"white\",\"startlinecolor\":\"#2a3f5f\"},\"baxis\":{\"endlinecolor\":\"#2a3f5f\",\"gridcolor\":\"white\",\"linecolor\":\"white\",\"minorgridcolor\":\"white\",\"startlinecolor\":\"#2a3f5f\"},\"type\":\"carpet\"}],\"choropleth\":[{\"colorbar\":{\"outlinewidth\":0,\"ticks\":\"\"},\"type\":\"choropleth\"}],\"contour\":[{\"colorbar\":{\"outlinewidth\":0,\"ticks\":\"\"},\"colorscale\":[[0.0,\"#0d0887\"],[0.1111111111111111,\"#46039f\"],[0.2222222222222222,\"#7201a8\"],[0.3333333333333333,\"#9c179e\"],[0.4444444444444444,\"#bd3786\"],[0.5555555555555556,\"#d8576b\"],[0.6666666666666666,\"#ed7953\"],[0.7777777777777778,\"#fb9f3a\"],[0.8888888888888888,\"#fdca26\"],[1.0,\"#f0f921\"]],\"type\":\"contour\"}],\"contourcarpet\":[{\"colorbar\":{\"outlinewidth\":0,\"ticks\":\"\"},\"type\":\"contourcarpet\"}],\"heatmap\":[{\"colorbar\":{\"outlinewidth\":0,\"ticks\":\"\"},\"colorscale\":[[0.0,\"#0d0887\"],[0.1111111111111111,\"#46039f\"],[0.2222222222222222,\"#7201a8\"],[0.3333333333333333,\"#9c179e\"],[0.4444444444444444,\"#bd3786\"],[0.5555555555555556,\"#d8576b\"],[0.6666666666666666,\"#ed7953\"],[0.7777777777777778,\"#fb9f3a\"],[0.8888888888888888,\"#fdca26\"],[1.0,\"#f0f921\"]],\"type\":\"heatmap\"}],\"heatmapgl\":[{\"colorbar\":{\"outlinewidth\":0,\"ticks\":\"\"},\"colorscale\":[[0.0,\"#0d0887\"],[0.1111111111111111,\"#46039f\"],[0.2222222222222222,\"#7201a8\"],[0.3333333333333333,\"#9c179e\"],[0.4444444444444444,\"#bd3786\"],[0.5555555555555556,\"#d8576b\"],[0.6666666666666666,\"#ed7953\"],[0.7777777777777778,\"#fb9f3a\"],[0.8888888888888888,\"#fdca26\"],[1.0,\"#f0f921\"]],\"type\":\"heatmapgl\"}],\"histogram\":[{\"marker\":{\"pattern\":{\"fillmode\":\"overlay\",\"size\":10,\"solidity\":0.2}},\"type\":\"histogram\"}],\"histogram2d\":[{\"colorbar\":{\"outlinewidth\":0,\"ticks\":\"\"},\"colorscale\":[[0.0,\"#0d0887\"],[0.1111111111111111,\"#46039f\"],[0.2222222222222222,\"#7201a8\"],[0.3333333333333333,\"#9c179e\"],[0.4444444444444444,\"#bd3786\"],[0.5555555555555556,\"#d8576b\"],[0.6666666666666666,\"#ed7953\"],[0.7777777777777778,\"#fb9f3a\"],[0.8888888888888888,\"#fdca26\"],[1.0,\"#f0f921\"]],\"type\":\"histogram2d\"}],\"histogram2dcontour\":[{\"colorbar\":{\"outlinewidth\":0,\"ticks\":\"\"},\"colorscale\":[[0.0,\"#0d0887\"],[0.1111111111111111,\"#46039f\"],[0.2222222222222222,\"#7201a8\"],[0.3333333333333333,\"#9c179e\"],[0.4444444444444444,\"#bd3786\"],[0.5555555555555556,\"#d8576b\"],[0.6666666666666666,\"#ed7953\"],[0.7777777777777778,\"#fb9f3a\"],[0.8888888888888888,\"#fdca26\"],[1.0,\"#f0f921\"]],\"type\":\"histogram2dcontour\"}],\"mesh3d\":[{\"colorbar\":{\"outlinewidth\":0,\"ticks\":\"\"},\"type\":\"mesh3d\"}],\"parcoords\":[{\"line\":{\"colorbar\":{\"outlinewidth\":0,\"ticks\":\"\"}},\"type\":\"parcoords\"}],\"pie\":[{\"automargin\":true,\"type\":\"pie\"}],\"scatter\":[{\"marker\":{\"colorbar\":{\"outlinewidth\":0,\"ticks\":\"\"}},\"type\":\"scatter\"}],\"scatter3d\":[{\"line\":{\"colorbar\":{\"outlinewidth\":0,\"ticks\":\"\"}},\"marker\":{\"colorbar\":{\"outlinewidth\":0,\"ticks\":\"\"}},\"type\":\"scatter3d\"}],\"scattercarpet\":[{\"marker\":{\"colorbar\":{\"outlinewidth\":0,\"ticks\":\"\"}},\"type\":\"scattercarpet\"}],\"scattergeo\":[{\"marker\":{\"colorbar\":{\"outlinewidth\":0,\"ticks\":\"\"}},\"type\":\"scattergeo\"}],\"scattergl\":[{\"marker\":{\"colorbar\":{\"outlinewidth\":0,\"ticks\":\"\"}},\"type\":\"scattergl\"}],\"scattermapbox\":[{\"marker\":{\"colorbar\":{\"outlinewidth\":0,\"ticks\":\"\"}},\"type\":\"scattermapbox\"}],\"scatterpolar\":[{\"marker\":{\"colorbar\":{\"outlinewidth\":0,\"ticks\":\"\"}},\"type\":\"scatterpolar\"}],\"scatterpolargl\":[{\"marker\":{\"colorbar\":{\"outlinewidth\":0,\"ticks\":\"\"}},\"type\":\"scatterpolargl\"}],\"scatterternary\":[{\"marker\":{\"colorbar\":{\"outlinewidth\":0,\"ticks\":\"\"}},\"type\":\"scatterternary\"}],\"surface\":[{\"colorbar\":{\"outlinewidth\":0,\"ticks\":\"\"},\"colorscale\":[[0.0,\"#0d0887\"],[0.1111111111111111,\"#46039f\"],[0.2222222222222222,\"#7201a8\"],[0.3333333333333333,\"#9c179e\"],[0.4444444444444444,\"#bd3786\"],[0.5555555555555556,\"#d8576b\"],[0.6666666666666666,\"#ed7953\"],[0.7777777777777778,\"#fb9f3a\"],[0.8888888888888888,\"#fdca26\"],[1.0,\"#f0f921\"]],\"type\":\"surface\"}],\"table\":[{\"cells\":{\"fill\":{\"color\":\"#EBF0F8\"},\"line\":{\"color\":\"white\"}},\"header\":{\"fill\":{\"color\":\"#C8D4E3\"},\"line\":{\"color\":\"white\"}},\"type\":\"table\"}]},\"layout\":{\"annotationdefaults\":{\"arrowcolor\":\"#2a3f5f\",\"arrowhead\":0,\"arrowwidth\":1},\"autotypenumbers\":\"strict\",\"coloraxis\":{\"colorbar\":{\"outlinewidth\":0,\"ticks\":\"\"}},\"colorscale\":{\"diverging\":[[0,\"#8e0152\"],[0.1,\"#c51b7d\"],[0.2,\"#de77ae\"],[0.3,\"#f1b6da\"],[0.4,\"#fde0ef\"],[0.5,\"#f7f7f7\"],[0.6,\"#e6f5d0\"],[0.7,\"#b8e186\"],[0.8,\"#7fbc41\"],[0.9,\"#4d9221\"],[1,\"#276419\"]],\"sequential\":[[0.0,\"#0d0887\"],[0.1111111111111111,\"#46039f\"],[0.2222222222222222,\"#7201a8\"],[0.3333333333333333,\"#9c179e\"],[0.4444444444444444,\"#bd3786\"],[0.5555555555555556,\"#d8576b\"],[0.6666666666666666,\"#ed7953\"],[0.7777777777777778,\"#fb9f3a\"],[0.8888888888888888,\"#fdca26\"],[1.0,\"#f0f921\"]],\"sequentialminus\":[[0.0,\"#0d0887\"],[0.1111111111111111,\"#46039f\"],[0.2222222222222222,\"#7201a8\"],[0.3333333333333333,\"#9c179e\"],[0.4444444444444444,\"#bd3786\"],[0.5555555555555556,\"#d8576b\"],[0.6666666666666666,\"#ed7953\"],[0.7777777777777778,\"#fb9f3a\"],[0.8888888888888888,\"#fdca26\"],[1.0,\"#f0f921\"]]},\"colorway\":[\"#636efa\",\"#EF553B\",\"#00cc96\",\"#ab63fa\",\"#FFA15A\",\"#19d3f3\",\"#FF6692\",\"#B6E880\",\"#FF97FF\",\"#FECB52\"],\"font\":{\"color\":\"#2a3f5f\"},\"geo\":{\"bgcolor\":\"white\",\"lakecolor\":\"white\",\"landcolor\":\"#E5ECF6\",\"showlakes\":true,\"showland\":true,\"subunitcolor\":\"white\"},\"hoverlabel\":{\"align\":\"left\"},\"hovermode\":\"closest\",\"mapbox\":{\"style\":\"light\"},\"paper_bgcolor\":\"white\",\"plot_bgcolor\":\"#E5ECF6\",\"polar\":{\"angularaxis\":{\"gridcolor\":\"white\",\"linecolor\":\"white\",\"ticks\":\"\"},\"bgcolor\":\"#E5ECF6\",\"radialaxis\":{\"gridcolor\":\"white\",\"linecolor\":\"white\",\"ticks\":\"\"}},\"scene\":{\"xaxis\":{\"backgroundcolor\":\"#E5ECF6\",\"gridcolor\":\"white\",\"gridwidth\":2,\"linecolor\":\"white\",\"showbackground\":true,\"ticks\":\"\",\"zerolinecolor\":\"white\"},\"yaxis\":{\"backgroundcolor\":\"#E5ECF6\",\"gridcolor\":\"white\",\"gridwidth\":2,\"linecolor\":\"white\",\"showbackground\":true,\"ticks\":\"\",\"zerolinecolor\":\"white\"},\"zaxis\":{\"backgroundcolor\":\"#E5ECF6\",\"gridcolor\":\"white\",\"gridwidth\":2,\"linecolor\":\"white\",\"showbackground\":true,\"ticks\":\"\",\"zerolinecolor\":\"white\"}},\"shapedefaults\":{\"line\":{\"color\":\"#2a3f5f\"}},\"ternary\":{\"aaxis\":{\"gridcolor\":\"white\",\"linecolor\":\"white\",\"ticks\":\"\"},\"baxis\":{\"gridcolor\":\"white\",\"linecolor\":\"white\",\"ticks\":\"\"},\"bgcolor\":\"#E5ECF6\",\"caxis\":{\"gridcolor\":\"white\",\"linecolor\":\"white\",\"ticks\":\"\"}},\"title\":{\"x\":0.05},\"xaxis\":{\"automargin\":true,\"gridcolor\":\"white\",\"linecolor\":\"white\",\"ticks\":\"\",\"title\":{\"standoff\":15},\"zerolinecolor\":\"white\",\"zerolinewidth\":2},\"yaxis\":{\"automargin\":true,\"gridcolor\":\"white\",\"linecolor\":\"white\",\"ticks\":\"\",\"title\":{\"standoff\":15},\"zerolinecolor\":\"white\",\"zerolinewidth\":2}}},\"xaxis\":{\"anchor\":\"y\",\"domain\":[0.0,1.0],\"title\":{\"text\":\"Mention\"}},\"yaxis\":{\"anchor\":\"x\",\"domain\":[0.0,1.0],\"title\":{\"text\":\"scores\"}},\"legend\":{\"tracegroupgap\":0},\"title\":{\"text\":\"Menciones mas usados en la Kings League\"},\"barmode\":\"relative\"},                        {\"responsive\": true}                    ).then(function(){\n",
              "                            \n",
              "var gd = document.getElementById('990fda27-0be6-4810-a2e2-e4c75e2be327');\n",
              "var x = new MutationObserver(function (mutations, observer) {{\n",
              "        var display = window.getComputedStyle(gd).display;\n",
              "        if (!display || display === 'none') {{\n",
              "            console.log([gd, 'removed!']);\n",
              "            Plotly.purge(gd);\n",
              "            observer.disconnect();\n",
              "        }}\n",
              "}});\n",
              "\n",
              "// Listen for the removal of the full notebook cells\n",
              "var notebookContainer = gd.closest('#notebook-container');\n",
              "if (notebookContainer) {{\n",
              "    x.observe(notebookContainer, {childList: true});\n",
              "}}\n",
              "\n",
              "// Listen for the clearing of the current output cell\n",
              "var outputEl = gd.closest('.output');\n",
              "if (outputEl) {{\n",
              "    x.observe(outputEl, {childList: true});\n",
              "}}\n",
              "\n",
              "                        })                };                            </script>        </div>\n",
              "</body>\n",
              "</html>"
            ]
          },
          "metadata": {}
        }
      ]
    },
    {
      "cell_type": "markdown",
      "source": [
        "#Conclusiones de los hashtags\n",
        "\n",
        "Las menciones mas utilizados de Yummy Venezuela\n",
        "\n",
        "\n",
        "*   KingsLeague\n",
        "*   Jijantes\n",
        "*   PioFc\n",
        "*   DjMario\n",
        "*   PorcinosFC"
      ],
      "metadata": {
        "id": "sYjiknuw-VlF"
      }
    },
    {
      "cell_type": "code",
      "source": [
        "#Ploteamos los datos\n",
        "fig = px.bar(data, title=\"Hashtags mas usados en la Kings League\",x=data['Hashtags'], y=data['scores'])\n",
        "fig.show()"
      ],
      "metadata": {
        "colab": {
          "base_uri": "https://localhost:8080/",
          "height": 542
        },
        "id": "fDEWjXfrnk_9",
        "outputId": "78140095-46e3-4104-a2b4-e455c1831f30"
      },
      "execution_count": 187,
      "outputs": [
        {
          "output_type": "display_data",
          "data": {
            "text/html": [
              "<html>\n",
              "<head><meta charset=\"utf-8\" /></head>\n",
              "<body>\n",
              "    <div>            <script src=\"https://cdnjs.cloudflare.com/ajax/libs/mathjax/2.7.5/MathJax.js?config=TeX-AMS-MML_SVG\"></script><script type=\"text/javascript\">if (window.MathJax) {MathJax.Hub.Config({SVG: {font: \"STIX-Web\"}});}</script>                <script type=\"text/javascript\">window.PlotlyConfig = {MathJaxConfig: 'local'};</script>\n",
              "        <script src=\"https://cdn.plot.ly/plotly-2.8.3.min.js\"></script>                <div id=\"17486c30-bf5c-4171-a0ef-1c7434f8dc84\" class=\"plotly-graph-div\" style=\"height:525px; width:100%;\"></div>            <script type=\"text/javascript\">                                    window.PLOTLYENV=window.PLOTLYENV || {};                                    if (document.getElementById(\"17486c30-bf5c-4171-a0ef-1c7434f8dc84\")) {                    Plotly.newPlot(                        \"17486c30-bf5c-4171-a0ef-1c7434f8dc84\",                        [{\"alignmentgroup\":\"True\",\"hovertemplate\":\"Hashtags=%{x}<br>scores=%{y}<extra></extra>\",\"legendgroup\":\"\",\"marker\":{\"color\":\"#636efa\",\"pattern\":{\"shape\":\"\"}},\"name\":\"\",\"offsetgroup\":\"\",\"orientation\":\"v\",\"showlegend\":false,\"textposition\":\"auto\",\"x\":[\"1\",\"KingsLeagueJ6\",\"KingsLeague\",\"InfoJobs\",\"simyoMVP\",\"PUROPINCHEPIO\",\"KingsLeagueInfoJobs\",\"puropinchepio\",\"vamos1k\",\"KingsLeagueDraft\",\"Infojobs\",\"humor\",\"LosTroncosFC\",\"elbarrio\",\"Kunisports\",\"porcinosfc\",\"QueensLeague\",\"SuperBowl\",\"djmario\",\"PioFC\",\"PuroPinchePIOFC\",\"PIO\",\"piqu\\u00e9\",\"clarachia\",\"chismenolike\",\"elisaberistain\",\"javierceriani\",\"shakira\",\"farandula\",\"hoy\",\"noticias\",\"funado\",\"viral\",\"VAR\",\"bigshit\",\"lamostoleta\",\"HALAPORCINOS\",\"porcinos\",\"colacao\",\"GrefgSiempreGana\"],\"xaxis\":\"x\",\"y\":[2810,94,45,43,7,5,4,4,3,3,3,2,2,2,2,2,2,2,2,2,2,2,1,1,1,1,1,1,1,1,1,1,1,1,1,1,1,1,1,1],\"yaxis\":\"y\",\"type\":\"bar\"}],                        {\"template\":{\"data\":{\"bar\":[{\"error_x\":{\"color\":\"#2a3f5f\"},\"error_y\":{\"color\":\"#2a3f5f\"},\"marker\":{\"line\":{\"color\":\"#E5ECF6\",\"width\":0.5},\"pattern\":{\"fillmode\":\"overlay\",\"size\":10,\"solidity\":0.2}},\"type\":\"bar\"}],\"barpolar\":[{\"marker\":{\"line\":{\"color\":\"#E5ECF6\",\"width\":0.5},\"pattern\":{\"fillmode\":\"overlay\",\"size\":10,\"solidity\":0.2}},\"type\":\"barpolar\"}],\"carpet\":[{\"aaxis\":{\"endlinecolor\":\"#2a3f5f\",\"gridcolor\":\"white\",\"linecolor\":\"white\",\"minorgridcolor\":\"white\",\"startlinecolor\":\"#2a3f5f\"},\"baxis\":{\"endlinecolor\":\"#2a3f5f\",\"gridcolor\":\"white\",\"linecolor\":\"white\",\"minorgridcolor\":\"white\",\"startlinecolor\":\"#2a3f5f\"},\"type\":\"carpet\"}],\"choropleth\":[{\"colorbar\":{\"outlinewidth\":0,\"ticks\":\"\"},\"type\":\"choropleth\"}],\"contour\":[{\"colorbar\":{\"outlinewidth\":0,\"ticks\":\"\"},\"colorscale\":[[0.0,\"#0d0887\"],[0.1111111111111111,\"#46039f\"],[0.2222222222222222,\"#7201a8\"],[0.3333333333333333,\"#9c179e\"],[0.4444444444444444,\"#bd3786\"],[0.5555555555555556,\"#d8576b\"],[0.6666666666666666,\"#ed7953\"],[0.7777777777777778,\"#fb9f3a\"],[0.8888888888888888,\"#fdca26\"],[1.0,\"#f0f921\"]],\"type\":\"contour\"}],\"contourcarpet\":[{\"colorbar\":{\"outlinewidth\":0,\"ticks\":\"\"},\"type\":\"contourcarpet\"}],\"heatmap\":[{\"colorbar\":{\"outlinewidth\":0,\"ticks\":\"\"},\"colorscale\":[[0.0,\"#0d0887\"],[0.1111111111111111,\"#46039f\"],[0.2222222222222222,\"#7201a8\"],[0.3333333333333333,\"#9c179e\"],[0.4444444444444444,\"#bd3786\"],[0.5555555555555556,\"#d8576b\"],[0.6666666666666666,\"#ed7953\"],[0.7777777777777778,\"#fb9f3a\"],[0.8888888888888888,\"#fdca26\"],[1.0,\"#f0f921\"]],\"type\":\"heatmap\"}],\"heatmapgl\":[{\"colorbar\":{\"outlinewidth\":0,\"ticks\":\"\"},\"colorscale\":[[0.0,\"#0d0887\"],[0.1111111111111111,\"#46039f\"],[0.2222222222222222,\"#7201a8\"],[0.3333333333333333,\"#9c179e\"],[0.4444444444444444,\"#bd3786\"],[0.5555555555555556,\"#d8576b\"],[0.6666666666666666,\"#ed7953\"],[0.7777777777777778,\"#fb9f3a\"],[0.8888888888888888,\"#fdca26\"],[1.0,\"#f0f921\"]],\"type\":\"heatmapgl\"}],\"histogram\":[{\"marker\":{\"pattern\":{\"fillmode\":\"overlay\",\"size\":10,\"solidity\":0.2}},\"type\":\"histogram\"}],\"histogram2d\":[{\"colorbar\":{\"outlinewidth\":0,\"ticks\":\"\"},\"colorscale\":[[0.0,\"#0d0887\"],[0.1111111111111111,\"#46039f\"],[0.2222222222222222,\"#7201a8\"],[0.3333333333333333,\"#9c179e\"],[0.4444444444444444,\"#bd3786\"],[0.5555555555555556,\"#d8576b\"],[0.6666666666666666,\"#ed7953\"],[0.7777777777777778,\"#fb9f3a\"],[0.8888888888888888,\"#fdca26\"],[1.0,\"#f0f921\"]],\"type\":\"histogram2d\"}],\"histogram2dcontour\":[{\"colorbar\":{\"outlinewidth\":0,\"ticks\":\"\"},\"colorscale\":[[0.0,\"#0d0887\"],[0.1111111111111111,\"#46039f\"],[0.2222222222222222,\"#7201a8\"],[0.3333333333333333,\"#9c179e\"],[0.4444444444444444,\"#bd3786\"],[0.5555555555555556,\"#d8576b\"],[0.6666666666666666,\"#ed7953\"],[0.7777777777777778,\"#fb9f3a\"],[0.8888888888888888,\"#fdca26\"],[1.0,\"#f0f921\"]],\"type\":\"histogram2dcontour\"}],\"mesh3d\":[{\"colorbar\":{\"outlinewidth\":0,\"ticks\":\"\"},\"type\":\"mesh3d\"}],\"parcoords\":[{\"line\":{\"colorbar\":{\"outlinewidth\":0,\"ticks\":\"\"}},\"type\":\"parcoords\"}],\"pie\":[{\"automargin\":true,\"type\":\"pie\"}],\"scatter\":[{\"marker\":{\"colorbar\":{\"outlinewidth\":0,\"ticks\":\"\"}},\"type\":\"scatter\"}],\"scatter3d\":[{\"line\":{\"colorbar\":{\"outlinewidth\":0,\"ticks\":\"\"}},\"marker\":{\"colorbar\":{\"outlinewidth\":0,\"ticks\":\"\"}},\"type\":\"scatter3d\"}],\"scattercarpet\":[{\"marker\":{\"colorbar\":{\"outlinewidth\":0,\"ticks\":\"\"}},\"type\":\"scattercarpet\"}],\"scattergeo\":[{\"marker\":{\"colorbar\":{\"outlinewidth\":0,\"ticks\":\"\"}},\"type\":\"scattergeo\"}],\"scattergl\":[{\"marker\":{\"colorbar\":{\"outlinewidth\":0,\"ticks\":\"\"}},\"type\":\"scattergl\"}],\"scattermapbox\":[{\"marker\":{\"colorbar\":{\"outlinewidth\":0,\"ticks\":\"\"}},\"type\":\"scattermapbox\"}],\"scatterpolar\":[{\"marker\":{\"colorbar\":{\"outlinewidth\":0,\"ticks\":\"\"}},\"type\":\"scatterpolar\"}],\"scatterpolargl\":[{\"marker\":{\"colorbar\":{\"outlinewidth\":0,\"ticks\":\"\"}},\"type\":\"scatterpolargl\"}],\"scatterternary\":[{\"marker\":{\"colorbar\":{\"outlinewidth\":0,\"ticks\":\"\"}},\"type\":\"scatterternary\"}],\"surface\":[{\"colorbar\":{\"outlinewidth\":0,\"ticks\":\"\"},\"colorscale\":[[0.0,\"#0d0887\"],[0.1111111111111111,\"#46039f\"],[0.2222222222222222,\"#7201a8\"],[0.3333333333333333,\"#9c179e\"],[0.4444444444444444,\"#bd3786\"],[0.5555555555555556,\"#d8576b\"],[0.6666666666666666,\"#ed7953\"],[0.7777777777777778,\"#fb9f3a\"],[0.8888888888888888,\"#fdca26\"],[1.0,\"#f0f921\"]],\"type\":\"surface\"}],\"table\":[{\"cells\":{\"fill\":{\"color\":\"#EBF0F8\"},\"line\":{\"color\":\"white\"}},\"header\":{\"fill\":{\"color\":\"#C8D4E3\"},\"line\":{\"color\":\"white\"}},\"type\":\"table\"}]},\"layout\":{\"annotationdefaults\":{\"arrowcolor\":\"#2a3f5f\",\"arrowhead\":0,\"arrowwidth\":1},\"autotypenumbers\":\"strict\",\"coloraxis\":{\"colorbar\":{\"outlinewidth\":0,\"ticks\":\"\"}},\"colorscale\":{\"diverging\":[[0,\"#8e0152\"],[0.1,\"#c51b7d\"],[0.2,\"#de77ae\"],[0.3,\"#f1b6da\"],[0.4,\"#fde0ef\"],[0.5,\"#f7f7f7\"],[0.6,\"#e6f5d0\"],[0.7,\"#b8e186\"],[0.8,\"#7fbc41\"],[0.9,\"#4d9221\"],[1,\"#276419\"]],\"sequential\":[[0.0,\"#0d0887\"],[0.1111111111111111,\"#46039f\"],[0.2222222222222222,\"#7201a8\"],[0.3333333333333333,\"#9c179e\"],[0.4444444444444444,\"#bd3786\"],[0.5555555555555556,\"#d8576b\"],[0.6666666666666666,\"#ed7953\"],[0.7777777777777778,\"#fb9f3a\"],[0.8888888888888888,\"#fdca26\"],[1.0,\"#f0f921\"]],\"sequentialminus\":[[0.0,\"#0d0887\"],[0.1111111111111111,\"#46039f\"],[0.2222222222222222,\"#7201a8\"],[0.3333333333333333,\"#9c179e\"],[0.4444444444444444,\"#bd3786\"],[0.5555555555555556,\"#d8576b\"],[0.6666666666666666,\"#ed7953\"],[0.7777777777777778,\"#fb9f3a\"],[0.8888888888888888,\"#fdca26\"],[1.0,\"#f0f921\"]]},\"colorway\":[\"#636efa\",\"#EF553B\",\"#00cc96\",\"#ab63fa\",\"#FFA15A\",\"#19d3f3\",\"#FF6692\",\"#B6E880\",\"#FF97FF\",\"#FECB52\"],\"font\":{\"color\":\"#2a3f5f\"},\"geo\":{\"bgcolor\":\"white\",\"lakecolor\":\"white\",\"landcolor\":\"#E5ECF6\",\"showlakes\":true,\"showland\":true,\"subunitcolor\":\"white\"},\"hoverlabel\":{\"align\":\"left\"},\"hovermode\":\"closest\",\"mapbox\":{\"style\":\"light\"},\"paper_bgcolor\":\"white\",\"plot_bgcolor\":\"#E5ECF6\",\"polar\":{\"angularaxis\":{\"gridcolor\":\"white\",\"linecolor\":\"white\",\"ticks\":\"\"},\"bgcolor\":\"#E5ECF6\",\"radialaxis\":{\"gridcolor\":\"white\",\"linecolor\":\"white\",\"ticks\":\"\"}},\"scene\":{\"xaxis\":{\"backgroundcolor\":\"#E5ECF6\",\"gridcolor\":\"white\",\"gridwidth\":2,\"linecolor\":\"white\",\"showbackground\":true,\"ticks\":\"\",\"zerolinecolor\":\"white\"},\"yaxis\":{\"backgroundcolor\":\"#E5ECF6\",\"gridcolor\":\"white\",\"gridwidth\":2,\"linecolor\":\"white\",\"showbackground\":true,\"ticks\":\"\",\"zerolinecolor\":\"white\"},\"zaxis\":{\"backgroundcolor\":\"#E5ECF6\",\"gridcolor\":\"white\",\"gridwidth\":2,\"linecolor\":\"white\",\"showbackground\":true,\"ticks\":\"\",\"zerolinecolor\":\"white\"}},\"shapedefaults\":{\"line\":{\"color\":\"#2a3f5f\"}},\"ternary\":{\"aaxis\":{\"gridcolor\":\"white\",\"linecolor\":\"white\",\"ticks\":\"\"},\"baxis\":{\"gridcolor\":\"white\",\"linecolor\":\"white\",\"ticks\":\"\"},\"bgcolor\":\"#E5ECF6\",\"caxis\":{\"gridcolor\":\"white\",\"linecolor\":\"white\",\"ticks\":\"\"}},\"title\":{\"x\":0.05},\"xaxis\":{\"automargin\":true,\"gridcolor\":\"white\",\"linecolor\":\"white\",\"ticks\":\"\",\"title\":{\"standoff\":15},\"zerolinecolor\":\"white\",\"zerolinewidth\":2},\"yaxis\":{\"automargin\":true,\"gridcolor\":\"white\",\"linecolor\":\"white\",\"ticks\":\"\",\"title\":{\"standoff\":15},\"zerolinecolor\":\"white\",\"zerolinewidth\":2}}},\"xaxis\":{\"anchor\":\"y\",\"domain\":[0.0,1.0],\"title\":{\"text\":\"Hashtags\"}},\"yaxis\":{\"anchor\":\"x\",\"domain\":[0.0,1.0],\"title\":{\"text\":\"scores\"}},\"legend\":{\"tracegroupgap\":0},\"title\":{\"text\":\"Hashtags mas usados en la Kings League\"},\"barmode\":\"relative\"},                        {\"responsive\": true}                    ).then(function(){\n",
              "                            \n",
              "var gd = document.getElementById('17486c30-bf5c-4171-a0ef-1c7434f8dc84');\n",
              "var x = new MutationObserver(function (mutations, observer) {{\n",
              "        var display = window.getComputedStyle(gd).display;\n",
              "        if (!display || display === 'none') {{\n",
              "            console.log([gd, 'removed!']);\n",
              "            Plotly.purge(gd);\n",
              "            observer.disconnect();\n",
              "        }}\n",
              "}});\n",
              "\n",
              "// Listen for the removal of the full notebook cells\n",
              "var notebookContainer = gd.closest('#notebook-container');\n",
              "if (notebookContainer) {{\n",
              "    x.observe(notebookContainer, {childList: true});\n",
              "}}\n",
              "\n",
              "// Listen for the clearing of the current output cell\n",
              "var outputEl = gd.closest('.output');\n",
              "if (outputEl) {{\n",
              "    x.observe(outputEl, {childList: true});\n",
              "}}\n",
              "\n",
              "                        })                };                            </script>        </div>\n",
              "</body>\n",
              "</html>"
            ]
          },
          "metadata": {}
        }
      ]
    },
    {
      "cell_type": "markdown",
      "source": [
        "#Conclusiones de los hashtags\n",
        "\n",
        "Los hashtags mas utilizados de la Kings League\n",
        "\n",
        "\n",
        "*   KingsLeagueJ6\n",
        "*   KingsLeague\n",
        "*   SimyoMVP\n",
        "*   Puropinchepio\n",
        "*   Vamos1K\n",
        "\n"
      ],
      "metadata": {
        "id": "8i8RCssyGrhh"
      }
    },
    {
      "cell_type": "code",
      "source": [
        "#Removemos caracteres que puedan afectar la prediccion del modelo\n",
        "dt['Tweet'] = dt['Tweet'].apply(nt.remove_hashtags)\n",
        "dt['Tweet'] = dt['Tweet'].apply(nt.remove_emojis)\n",
        "dt['Tweet'] = dt['Tweet'].apply(nt.remove_numbers)\n",
        "dt['Tweet'] = dt['Tweet'].apply(nt.remove_special_characters)\n",
        "dt['Tweet'] = dt['Tweet'].apply(nt.remove_urls)\n",
        "dt['Tweet'] = dt['Tweet'].apply(nt.remove_currency_symbols)\n",
        "dt['Tweet'] = dt['Tweet'].apply(nt.remove_userhandles)"
      ],
      "metadata": {
        "id": "drjNKnYftLHG"
      },
      "execution_count": 188,
      "outputs": []
    },
    {
      "cell_type": "code",
      "source": [
        "#Creamos una funcion para borrar caracteres especiales\n",
        "def clean_text(text):\n",
        "  text = re.sub(r'@[A-Za-z09]+', '', text)\n",
        "  text = re.sub(r'#', '', text)\n",
        "  text = re.sub(r'RT[\\s]+', '', text)\n",
        "  text = re.sub(r'https?:\\/\\/?', '', text)\n",
        "\n",
        "\n",
        "  return text\n",
        "\n",
        "dt['Tweet'] = dt['Tweet'].apply(clean_text)"
      ],
      "metadata": {
        "id": "MDta_Pf_taR7"
      },
      "execution_count": 189,
      "outputs": []
    },
    {
      "cell_type": "code",
      "source": [
        "#Creamos dos fuciones una para clacular el sentimiento y el otro para calcular la subjetividad\n",
        "def get_subjectivity(text):\n",
        "  return TextBlob(text).translate(from_lang=\"es\", to=\"en\").sentiment.subjectivity\n",
        "\n",
        "def get_polarity(text):\n",
        "  return TextBlob(text).translate(from_lang=\"es\", to=\"en\").sentiment.polarity"
      ],
      "metadata": {
        "id": "tvT5Np9Hvzex"
      },
      "execution_count": 190,
      "outputs": []
    },
    {
      "cell_type": "code",
      "source": [
        "dt['Subjectivity'] = dt['Tweet'].apply(get_subjectivity)"
      ],
      "metadata": {
        "id": "IOqbcu7exSsC"
      },
      "execution_count": 191,
      "outputs": []
    },
    {
      "cell_type": "code",
      "source": [
        "dt['Polarity'] = dt['Tweet'].apply(get_polarity)"
      ],
      "metadata": {
        "id": "cWWH4GXe4iE-"
      },
      "execution_count": 192,
      "outputs": []
    },
    {
      "cell_type": "code",
      "source": [
        "#Creamos una funcion que tome la polaridad y la procese como Positivo, Neutro o negativo\n",
        "def analysis(score):\n",
        "  if score < 0:\n",
        "    return 'Negative'\n",
        "  elif score == 0:\n",
        "     return 'Neutral'\n",
        "  elif score > 0:\n",
        "    return 'Positive'\n",
        "\n",
        "dt['Analysis'] = dt['Polarity'].apply(analysis)\n",
        "\n",
        "dt.head(800)"
      ],
      "metadata": {
        "id": "k2iqsaSZ8f8a"
      },
      "execution_count": null,
      "outputs": []
    },
    {
      "cell_type": "code",
      "source": [
        "count = dt['Analysis'].value_counts()\n",
        "count"
      ],
      "metadata": {
        "colab": {
          "base_uri": "https://localhost:8080/"
        },
        "id": "whuJ0pP6Cx8A",
        "outputId": "76d0f71c-ae7e-40bb-b8ed-62f8a954aff9"
      },
      "execution_count": 194,
      "outputs": [
        {
          "output_type": "execute_result",
          "data": {
            "text/plain": [
              "Neutral     1941\n",
              "Positive     704\n",
              "Negative     355\n",
              "Name: Analysis, dtype: int64"
            ]
          },
          "metadata": {},
          "execution_count": 194
        }
      ]
    },
    {
      "cell_type": "code",
      "source": [
        "#Graficamos la polaridad\n",
        "fig = px.scatter(dt, y=dt['Polarity'])\n",
        "fig.show()"
      ],
      "metadata": {
        "colab": {
          "base_uri": "https://localhost:8080/",
          "height": 542
        },
        "id": "g7Vy-c8iBEEx",
        "outputId": "e960f219-3718-4e3f-f56c-25d96bfcf384"
      },
      "execution_count": 195,
      "outputs": [
        {
          "output_type": "display_data",
          "data": {
            "text/html": [
              "<html>\n",
              "<head><meta charset=\"utf-8\" /></head>\n",
              "<body>\n",
              "    <div>            <script src=\"https://cdnjs.cloudflare.com/ajax/libs/mathjax/2.7.5/MathJax.js?config=TeX-AMS-MML_SVG\"></script><script type=\"text/javascript\">if (window.MathJax) {MathJax.Hub.Config({SVG: {font: \"STIX-Web\"}});}</script>                <script type=\"text/javascript\">window.PlotlyConfig = {MathJaxConfig: 'local'};</script>\n",
              "        <script src=\"https://cdn.plot.ly/plotly-2.8.3.min.js\"></script>                <div id=\"a0b05ff6-cb0d-421a-8472-bc56438a1ef5\" class=\"plotly-graph-div\" style=\"height:525px; width:100%;\"></div>            <script type=\"text/javascript\">                                    window.PLOTLYENV=window.PLOTLYENV || {};                                    if (document.getElementById(\"a0b05ff6-cb0d-421a-8472-bc56438a1ef5\")) {                    Plotly.newPlot(                        \"a0b05ff6-cb0d-421a-8472-bc56438a1ef5\",                        [{\"hovertemplate\":\"index=%{x}<br>Polarity=%{y}<extra></extra>\",\"legendgroup\":\"\",\"marker\":{\"color\":\"#636efa\",\"symbol\":\"circle\"},\"mode\":\"markers\",\"name\":\"\",\"showlegend\":false,\"x\":[0,1,2,3,4,5,6,7,8,9,10,11,12,13,14,15,16,17,18,19,20,21,22,23,24,25,26,27,28,29,30,31,32,33,34,35,36,37,38,39,40,41,42,43,44,45,46,47,48,49,50,51,52,53,54,55,56,57,58,59,60,61,62,63,64,65,66,67,68,69,70,71,72,73,74,75,76,77,78,79,80,81,82,83,84,85,86,87,88,89,90,91,92,93,94,95,96,97,98,99,100,101,102,103,104,105,106,107,108,109,110,111,112,113,114,115,116,117,118,119,120,121,122,123,124,125,126,127,128,129,130,131,132,133,134,135,136,137,138,139,140,141,142,143,144,145,146,147,148,149,150,151,152,153,154,155,156,157,158,159,160,161,162,163,164,165,166,167,168,169,170,171,172,173,174,175,176,177,178,179,180,181,182,183,184,185,186,187,188,189,190,191,192,193,194,195,196,197,198,199,200,201,202,203,204,205,206,207,208,209,210,211,212,213,214,215,216,217,218,219,220,221,222,223,224,225,226,227,228,229,230,231,232,233,234,235,236,237,238,239,240,241,242,243,244,245,246,247,248,249,250,251,252,253,254,255,256,257,258,259,260,261,262,263,264,265,266,267,268,269,270,271,272,273,274,275,276,277,278,279,280,281,282,283,284,285,286,287,288,289,290,291,292,293,294,295,296,297,298,299,300,301,302,303,304,305,306,307,308,309,310,311,312,313,314,315,316,317,318,319,320,321,322,323,324,325,326,327,328,329,330,331,332,333,334,335,336,337,338,339,340,341,342,343,344,345,346,347,348,349,350,351,352,353,354,355,356,357,358,359,360,361,362,363,364,365,366,367,368,369,370,371,372,373,374,375,376,377,378,379,380,381,382,383,384,385,386,387,388,389,390,391,392,393,394,395,396,397,398,399,400,401,402,403,404,405,406,407,408,409,410,411,412,413,414,415,416,417,418,419,420,421,422,423,424,425,426,427,428,429,430,431,432,433,434,435,436,437,438,439,440,441,442,443,444,445,446,447,448,449,450,451,452,453,454,455,456,457,458,459,460,461,462,463,464,465,466,467,468,469,470,471,472,473,474,475,476,477,478,479,480,481,482,483,484,485,486,487,488,489,490,491,492,493,494,495,496,497,498,499,500,501,502,503,504,505,506,507,508,509,510,511,512,513,514,515,516,517,518,519,520,521,522,523,524,525,526,527,528,529,530,531,532,533,534,535,536,537,538,539,540,541,542,543,544,545,546,547,548,549,550,551,552,553,554,555,556,557,558,559,560,561,562,563,564,565,566,567,568,569,570,571,572,573,574,575,576,577,578,579,580,581,582,583,584,585,586,587,588,589,590,591,592,593,594,595,596,597,598,599,600,601,602,603,604,605,606,607,608,609,610,611,612,613,614,615,616,617,618,619,620,621,622,623,624,625,626,627,628,629,630,631,632,633,634,635,636,637,638,639,640,641,642,643,644,645,646,647,648,649,650,651,652,653,654,655,656,657,658,659,660,661,662,663,664,665,666,667,668,669,670,671,672,673,674,675,676,677,678,679,680,681,682,683,684,685,686,687,688,689,690,691,692,693,694,695,696,697,698,699,700,701,702,703,704,705,706,707,708,709,710,711,712,713,714,715,716,717,718,719,720,721,722,723,724,725,726,727,728,729,730,731,732,733,734,735,736,737,738,739,740,741,742,743,744,745,746,747,748,749,750,751,752,753,754,755,756,757,758,759,760,761,762,763,764,765,766,767,768,769,770,771,772,773,774,775,776,777,778,779,780,781,782,783,784,785,786,787,788,789,790,791,792,793,794,795,796,797,798,799,800,801,802,803,804,805,806,807,808,809,810,811,812,813,814,815,816,817,818,819,820,821,822,823,824,825,826,827,828,829,830,831,832,833,834,835,836,837,838,839,840,841,842,843,844,845,846,847,848,849,850,851,852,853,854,855,856,857,858,859,860,861,862,863,864,865,866,867,868,869,870,871,872,873,874,875,876,877,878,879,880,881,882,883,884,885,886,887,888,889,890,891,892,893,894,895,896,897,898,899,900,901,902,903,904,905,906,907,908,909,910,911,912,913,914,915,916,917,918,919,920,921,922,923,924,925,926,927,928,929,930,931,932,933,934,935,936,937,938,939,940,941,942,943,944,945,946,947,948,949,950,951,952,953,954,955,956,957,958,959,960,961,962,963,964,965,966,967,968,969,970,971,972,973,974,975,976,977,978,979,980,981,982,983,984,985,986,987,988,989,990,991,992,993,994,995,996,997,998,999,1000,1001,1002,1003,1004,1005,1006,1007,1008,1009,1010,1011,1012,1013,1014,1015,1016,1017,1018,1019,1020,1021,1022,1023,1024,1025,1026,1027,1028,1029,1030,1031,1032,1033,1034,1035,1036,1037,1038,1039,1040,1041,1042,1043,1044,1045,1046,1047,1048,1049,1050,1051,1052,1053,1054,1055,1056,1057,1058,1059,1060,1061,1062,1063,1064,1065,1066,1067,1068,1069,1070,1071,1072,1073,1074,1075,1076,1077,1078,1079,1080,1081,1082,1083,1084,1085,1086,1087,1088,1089,1090,1091,1092,1093,1094,1095,1096,1097,1098,1099,1100,1101,1102,1103,1104,1105,1106,1107,1108,1109,1110,1111,1112,1113,1114,1115,1116,1117,1118,1119,1120,1121,1122,1123,1124,1125,1126,1127,1128,1129,1130,1131,1132,1133,1134,1135,1136,1137,1138,1139,1140,1141,1142,1143,1144,1145,1146,1147,1148,1149,1150,1151,1152,1153,1154,1155,1156,1157,1158,1159,1160,1161,1162,1163,1164,1165,1166,1167,1168,1169,1170,1171,1172,1173,1174,1175,1176,1177,1178,1179,1180,1181,1182,1183,1184,1185,1186,1187,1188,1189,1190,1191,1192,1193,1194,1195,1196,1197,1198,1199,1200,1201,1202,1203,1204,1205,1206,1207,1208,1209,1210,1211,1212,1213,1214,1215,1216,1217,1218,1219,1220,1221,1222,1223,1224,1225,1226,1227,1228,1229,1230,1231,1232,1233,1234,1235,1236,1237,1238,1239,1240,1241,1242,1243,1244,1245,1246,1247,1248,1249,1250,1251,1252,1253,1254,1255,1256,1257,1258,1259,1260,1261,1262,1263,1264,1265,1266,1267,1268,1269,1270,1271,1272,1273,1274,1275,1276,1277,1278,1279,1280,1281,1282,1283,1284,1285,1286,1287,1288,1289,1290,1291,1292,1293,1294,1295,1296,1297,1298,1299,1300,1301,1302,1303,1304,1305,1306,1307,1308,1309,1310,1311,1312,1313,1314,1315,1316,1317,1318,1319,1320,1321,1322,1323,1324,1325,1326,1327,1328,1329,1330,1331,1332,1333,1334,1335,1336,1337,1338,1339,1340,1341,1342,1343,1344,1345,1346,1347,1348,1349,1350,1351,1352,1353,1354,1355,1356,1357,1358,1359,1360,1361,1362,1363,1364,1365,1366,1367,1368,1369,1370,1371,1372,1373,1374,1375,1376,1377,1378,1379,1380,1381,1382,1383,1384,1385,1386,1387,1388,1389,1390,1391,1392,1393,1394,1395,1396,1397,1398,1399,1400,1401,1402,1403,1404,1405,1406,1407,1408,1409,1410,1411,1412,1413,1414,1415,1416,1417,1418,1419,1420,1421,1422,1423,1424,1425,1426,1427,1428,1429,1430,1431,1432,1433,1434,1435,1436,1437,1438,1439,1440,1441,1442,1443,1444,1445,1446,1447,1448,1449,1450,1451,1452,1453,1454,1455,1456,1457,1458,1459,1460,1461,1462,1463,1464,1465,1466,1467,1468,1469,1470,1471,1472,1473,1474,1475,1476,1477,1478,1479,1480,1481,1482,1483,1484,1485,1486,1487,1488,1489,1490,1491,1492,1493,1494,1495,1496,1497,1498,1499,1500,1501,1502,1503,1504,1505,1506,1507,1508,1509,1510,1511,1512,1513,1514,1515,1516,1517,1518,1519,1520,1521,1522,1523,1524,1525,1526,1527,1528,1529,1530,1531,1532,1533,1534,1535,1536,1537,1538,1539,1540,1541,1542,1543,1544,1545,1546,1547,1548,1549,1550,1551,1552,1553,1554,1555,1556,1557,1558,1559,1560,1561,1562,1563,1564,1565,1566,1567,1568,1569,1570,1571,1572,1573,1574,1575,1576,1577,1578,1579,1580,1581,1582,1583,1584,1585,1586,1587,1588,1589,1590,1591,1592,1593,1594,1595,1596,1597,1598,1599,1600,1601,1602,1603,1604,1605,1606,1607,1608,1609,1610,1611,1612,1613,1614,1615,1616,1617,1618,1619,1620,1621,1622,1623,1624,1625,1626,1627,1628,1629,1630,1631,1632,1633,1634,1635,1636,1637,1638,1639,1640,1641,1642,1643,1644,1645,1646,1647,1648,1649,1650,1651,1652,1653,1654,1655,1656,1657,1658,1659,1660,1661,1662,1663,1664,1665,1666,1667,1668,1669,1670,1671,1672,1673,1674,1675,1676,1677,1678,1679,1680,1681,1682,1683,1684,1685,1686,1687,1688,1689,1690,1691,1692,1693,1694,1695,1696,1697,1698,1699,1700,1701,1702,1703,1704,1705,1706,1707,1708,1709,1710,1711,1712,1713,1714,1715,1716,1717,1718,1719,1720,1721,1722,1723,1724,1725,1726,1727,1728,1729,1730,1731,1732,1733,1734,1735,1736,1737,1738,1739,1740,1741,1742,1743,1744,1745,1746,1747,1748,1749,1750,1751,1752,1753,1754,1755,1756,1757,1758,1759,1760,1761,1762,1763,1764,1765,1766,1767,1768,1769,1770,1771,1772,1773,1774,1775,1776,1777,1778,1779,1780,1781,1782,1783,1784,1785,1786,1787,1788,1789,1790,1791,1792,1793,1794,1795,1796,1797,1798,1799,1800,1801,1802,1803,1804,1805,1806,1807,1808,1809,1810,1811,1812,1813,1814,1815,1816,1817,1818,1819,1820,1821,1822,1823,1824,1825,1826,1827,1828,1829,1830,1831,1832,1833,1834,1835,1836,1837,1838,1839,1840,1841,1842,1843,1844,1845,1846,1847,1848,1849,1850,1851,1852,1853,1854,1855,1856,1857,1858,1859,1860,1861,1862,1863,1864,1865,1866,1867,1868,1869,1870,1871,1872,1873,1874,1875,1876,1877,1878,1879,1880,1881,1882,1883,1884,1885,1886,1887,1888,1889,1890,1891,1892,1893,1894,1895,1896,1897,1898,1899,1900,1901,1902,1903,1904,1905,1906,1907,1908,1909,1910,1911,1912,1913,1914,1915,1916,1917,1918,1919,1920,1921,1922,1923,1924,1925,1926,1927,1928,1929,1930,1931,1932,1933,1934,1935,1936,1937,1938,1939,1940,1941,1942,1943,1944,1945,1946,1947,1948,1949,1950,1951,1952,1953,1954,1955,1956,1957,1958,1959,1960,1961,1962,1963,1964,1965,1966,1967,1968,1969,1970,1971,1972,1973,1974,1975,1976,1977,1978,1979,1980,1981,1982,1983,1984,1985,1986,1987,1988,1989,1990,1991,1992,1993,1994,1995,1996,1997,1998,1999,2000,2001,2002,2003,2004,2005,2006,2007,2008,2009,2010,2011,2012,2013,2014,2015,2016,2017,2018,2019,2020,2021,2022,2023,2024,2025,2026,2027,2028,2029,2030,2031,2032,2033,2034,2035,2036,2037,2038,2039,2040,2041,2042,2043,2044,2045,2046,2047,2048,2049,2050,2051,2052,2053,2054,2055,2056,2057,2058,2059,2060,2061,2062,2063,2064,2065,2066,2067,2068,2069,2070,2071,2072,2073,2074,2075,2076,2077,2078,2079,2080,2081,2082,2083,2084,2085,2086,2087,2088,2089,2090,2091,2092,2093,2094,2095,2096,2097,2098,2099,2100,2101,2102,2103,2104,2105,2106,2107,2108,2109,2110,2111,2112,2113,2114,2115,2116,2117,2118,2119,2120,2121,2122,2123,2124,2125,2126,2127,2128,2129,2130,2131,2132,2133,2134,2135,2136,2137,2138,2139,2140,2141,2142,2143,2144,2145,2146,2147,2148,2149,2150,2151,2152,2153,2154,2155,2156,2157,2158,2159,2160,2161,2162,2163,2164,2165,2166,2167,2168,2169,2170,2171,2172,2173,2174,2175,2176,2177,2178,2179,2180,2181,2182,2183,2184,2185,2186,2187,2188,2189,2190,2191,2192,2193,2194,2195,2196,2197,2198,2199,2200,2201,2202,2203,2204,2205,2206,2207,2208,2209,2210,2211,2212,2213,2214,2215,2216,2217,2218,2219,2220,2221,2222,2223,2224,2225,2226,2227,2228,2229,2230,2231,2232,2233,2234,2235,2236,2237,2238,2239,2240,2241,2242,2243,2244,2245,2246,2247,2248,2249,2250,2251,2252,2253,2254,2255,2256,2257,2258,2259,2260,2261,2262,2263,2264,2265,2266,2267,2268,2269,2270,2271,2272,2273,2274,2275,2276,2277,2278,2279,2280,2281,2282,2283,2284,2285,2286,2287,2288,2289,2290,2291,2292,2293,2294,2295,2296,2297,2298,2299,2300,2301,2302,2303,2304,2305,2306,2307,2308,2309,2310,2311,2312,2313,2314,2315,2316,2317,2318,2319,2320,2321,2322,2323,2324,2325,2326,2327,2328,2329,2330,2331,2332,2333,2334,2335,2336,2337,2338,2339,2340,2341,2342,2343,2344,2345,2346,2347,2348,2349,2350,2351,2352,2353,2354,2355,2356,2357,2358,2359,2360,2361,2362,2363,2364,2365,2366,2367,2368,2369,2370,2371,2372,2373,2374,2375,2376,2377,2378,2379,2380,2381,2382,2383,2384,2385,2386,2387,2388,2389,2390,2391,2392,2393,2394,2395,2396,2397,2398,2399,2400,2401,2402,2403,2404,2405,2406,2407,2408,2409,2410,2411,2412,2413,2414,2415,2416,2417,2418,2419,2420,2421,2422,2423,2424,2425,2426,2427,2428,2429,2430,2431,2432,2433,2434,2435,2436,2437,2438,2439,2440,2441,2442,2443,2444,2445,2446,2447,2448,2449,2450,2451,2452,2453,2454,2455,2456,2457,2458,2459,2460,2461,2462,2463,2464,2465,2466,2467,2468,2469,2470,2471,2472,2473,2474,2475,2476,2477,2478,2479,2480,2481,2482,2483,2484,2485,2486,2487,2488,2489,2490,2491,2492,2493,2494,2495,2496,2497,2498,2499,2500,2501,2502,2503,2504,2505,2506,2507,2508,2509,2510,2511,2512,2513,2514,2515,2516,2517,2518,2519,2520,2521,2522,2523,2524,2525,2526,2527,2528,2529,2530,2531,2532,2533,2534,2535,2536,2537,2538,2539,2540,2541,2542,2543,2544,2545,2546,2547,2548,2549,2550,2551,2552,2553,2554,2555,2556,2557,2558,2559,2560,2561,2562,2563,2564,2565,2566,2567,2568,2569,2570,2571,2572,2573,2574,2575,2576,2577,2578,2579,2580,2581,2582,2583,2584,2585,2586,2587,2588,2589,2590,2591,2592,2593,2594,2595,2596,2597,2598,2599,2600,2601,2602,2603,2604,2605,2606,2607,2608,2609,2610,2611,2612,2613,2614,2615,2616,2617,2618,2619,2620,2621,2622,2623,2624,2625,2626,2627,2628,2629,2630,2631,2632,2633,2634,2635,2636,2637,2638,2639,2640,2641,2642,2643,2644,2645,2646,2647,2648,2649,2650,2651,2652,2653,2654,2655,2656,2657,2658,2659,2660,2661,2662,2663,2664,2665,2666,2667,2668,2669,2670,2671,2672,2673,2674,2675,2676,2677,2678,2679,2680,2681,2682,2683,2684,2685,2686,2687,2688,2689,2690,2691,2692,2693,2694,2695,2696,2697,2698,2699,2700,2701,2702,2703,2704,2705,2706,2707,2708,2709,2710,2711,2712,2713,2714,2715,2716,2717,2718,2719,2720,2721,2722,2723,2724,2725,2726,2727,2728,2729,2730,2731,2732,2733,2734,2735,2736,2737,2738,2739,2740,2741,2742,2743,2744,2745,2746,2747,2748,2749,2750,2751,2752,2753,2754,2755,2756,2757,2758,2759,2760,2761,2762,2763,2764,2765,2766,2767,2768,2769,2770,2771,2772,2773,2774,2775,2776,2777,2778,2779,2780,2781,2782,2783,2784,2785,2786,2787,2788,2789,2790,2791,2792,2793,2794,2795,2796,2797,2798,2799,2800,2801,2802,2803,2804,2805,2806,2807,2808,2809,2810,2811,2812,2813,2814,2815,2816,2817,2818,2819,2820,2821,2822,2823,2824,2825,2826,2827,2828,2829,2830,2831,2832,2833,2834,2835,2836,2837,2838,2839,2840,2841,2842,2843,2844,2845,2846,2847,2848,2849,2850,2851,2852,2853,2854,2855,2856,2857,2858,2859,2860,2861,2862,2863,2864,2865,2866,2867,2868,2869,2870,2871,2872,2873,2874,2875,2876,2877,2878,2879,2880,2881,2882,2883,2884,2885,2886,2887,2888,2889,2890,2891,2892,2893,2894,2895,2896,2897,2898,2899,2900,2901,2902,2903,2904,2905,2906,2907,2908,2909,2910,2911,2912,2913,2914,2915,2916,2917,2918,2919,2920,2921,2922,2923,2924,2925,2926,2927,2928,2929,2930,2931,2932,2933,2934,2935,2936,2937,2938,2939,2940,2941,2942,2943,2944,2945,2946,2947,2948,2949,2950,2951,2952,2953,2954,2955,2956,2957,2958,2959,2960,2961,2962,2963,2964,2965,2966,2967,2968,2969,2970,2971,2972,2973,2974,2975,2976,2977,2978,2979,2980,2981,2982,2983,2984,2985,2986,2987,2988,2989,2990,2991,2992,2993,2994,2995,2996,2997,2998,2999],\"xaxis\":\"x\",\"y\":[0.2,0.0,0.2,0.8,-0.029166666666666667,0.25,0.0,0.25,0.0,0.0,0.1,0.35,-0.4624999999999999,-0.4,-0.16666666666666666,0.0,0.0,0.0,0.0,0.0,0.0,0.0,0.0,0.0,0.0,0.0,-0.06666666666666665,0.0,0.0,0.5,0.13636363636363635,0.0,0.0,-0.7999999999999999,0.0,0.0625,0.0,0.1,-0.5,0.0,0.0,0.0,0.0,0.0,0.0,0.0,0.0,0.0,0.0,0.0,0.0,0.0,0.0,0.0,0.35,0.0,0.0,0.0,0.0,0.0,-0.25,0.5,0.0,0.0,0.0,-0.2,0.0,0.0,0.2,0.0,0.55,0.0,0.0,0.0,0.13888888888888884,0.0,0.0,0.0,0.0,0.0,0.0,0.0,0.7,-0.20833333333333331,0.0,0.0,0.175,0.125,0.5,0.0,0.0,0.09999999999999998,0.15583333333333335,0.0,0.3,0.07976190476190477,0.0,0.0,0.0,0.0,0.0,-0.08333333333333333,0.7000000000000001,0.0,0.7,0.0,0.125,0.0,0.0,0.65,0.0,0.2,1.0,0.0,0.0,-0.30000000000000004,0.13999999999999999,0.2,-0.08333333333333334,0.0,-0.16666666666666666,0.5,-0.1,0.0,0.0,-0.1,0.0,0.0,-0.6,0.0,0.0,0.0,0.8,0.0,0.0,0.0,0.04999999999999999,-0.4,0.0,-0.5,0.0,0.0,0.0,0.0,0.7,0.0,0.0,-0.20999999999999996,0.0,0.0,0.0,0.0,0.0,0.0,0.0,-0.3333333333333333,-0.195,-0.5,0.0,0.09999999999999998,-0.4437499999999999,0.5,-0.6,0.0,0.16666666666666666,-0.6999999999999998,0.0,0.0,0.0,0.125,0.0,0.4,0.10714285714285714,0.0,0.0,0.2,0.13,0.0,0.0,0.0,0.2,0.0,0.36666666666666664,0.0,0.9099999999999999,0.0,0.11666666666666668,0.0,0.0,0.0,0.7,0.0,0.25,0.39000000000000007,0.0,0.0,0.0,0.0,0.0,0.0,0.0,0.0,-1.0,0.0,0.23852813852813856,-0.09999999999999992,0.0,-0.6,0.0,0.4000000000000001,0.0,-0.6,0.0,0.14999999999999997,0.0,0.0,0.0,0.0,0.55,0.0,0.0,-0.1875,0.5,-0.1875,0.0909090909090909,-0.1,0.0,0.0,0.0,0.0,0.0,0.0,0.05,0.0,0.0,0.0,-0.575,0.0,0.0,0.0,0.25,0.0,0.25,0.0,0.0,0.0,0.0,0.3,0.0,0.1,0.0,0.275,0.25,-0.025000000000000022,0.0,-0.10625,0.0,0.75,0.0,0.2125,0.0,0.11666666666666665,0.1,0.0,0.3,0.0,0.5,0.0,0.0,0.0,0.3375,-0.17499999999999996,0.0,0.0,0.0,0.8,0.6,0.16666666666666666,-0.25,0.07499999999999998,0.0,0.0,0.0,0.2,0.5875,0.0,0.0,0.0,0.0,0.0,0.0,0.0,0.0,0.0,0.0,0.0,0.13636363636363635,0.0,0.3166666666666667,0.0,0.0,1.0,0.0,0.5,0.45,0.0,0.1,0.0,0.0,0.1,0.0,0.0,0.0,0.0,0.2,0.0,0.0,0.0,1.0,0.0,0.0,0.0,0.0,0.1,0.2619047619047619,0.0,0.0,0.0,0.25,0.25,0.0,0.0,0.0,0.0,0.0,0.00875,0.5,0.5,0.0,0.0,0.0,0.05,0.5,0.5,0.175,0.0,0.0,0.2,0.0,0.0,0.0,0.1,0.0,0.25,0.175,0.0,0.0,0.0,0.0,0.0,1.0,0.0,0.5,0.2,0.0,0.0,0.0,0.0,-0.4,0.0,0.0,0.1,0.0,0.0,0.175,0.0,0.2625,0.3,0.0,0.3,0.0,0.375,-0.012499999999999997,0.6,0.0,0.8,0.0,0.0,0.0,0.0,0.0,0.0,0.0,0.8,-0.6999999999999998,0.0,0.0,0.25,0.0,0.0,0.0,0.0,0.0,0.0,-0.14500000000000002,0.5,0.0,0.3,0.0,0.175,0.2333333333333333,0.5,0.0,0.0,0.0,0.0,-0.6999999999999998,0.5,0.5,0.0,0.0,0.0,0.0,0.0,0.0,0.0,0.0,0.0,0.0,0.0,0.0,0.0,0.0,0.0,0.3,0.0,0.0,0.25,0.0,0.0,0.0,0.0,0.6,0.2,0.0,0.7,0.0,0.0,0.0,0.2,0.25,0.19047619047619047,0.0,0.0,0.0,-0.2,0.0,0.0,-0.3,0.0,0.0,0.18333333333333335,0.0,0.10000000000000003,0.0,0.21428571428571427,0.5833333333333333,0.0,0.45,-0.15,0.3,0.0,0.3,0.0,0.0,0.0,0.0,0.0,0.0,0.0,0.0,0.0,0.0,0.0,0.0,-0.23214285714285715,0.0,0.0,0.0,0.0,0.0,0.0,0.3,0.3,0.0,0.43030303030303035,0.0,0.0,0.9,0.0,0.0,0.0,0.8,0.0,0.16666666666666666,0.15,0.25,0.3,0.0,0.0,0.0,0.0,0.15,0.08333333333333333,0.0,0.5833333333333334,0.0,0.0,0.0,0.0,0.0,0.0,0.0,0.0,0.5,0.0,0.0,0.25,0.30000000000000004,0.0,0.0,0.3,-0.6,-0.4,0.0,0.0,-0.4,-0.29375,0.7,-0.25,0.0,0.0,0.0,0.0,0.0,0.0,0.0,0.0,0.0,0.0,0.36818181818181817,0.0,-1.0,0.0,0.0,0.0,0.0,0.0,0.0,-0.07500000000000001,-0.08333333333333333,0.0,-0.23666666666666658,0.001666666666666668,0.15,0.0,0.0,0.05,0.0,-0.03333333333333335,0.0,0.0,0.0,0.0,0.0,0.0,0.0,1.1102230246251566e-17,0.0,-0.9099999999999998,0.0,0.0,0.0,0.0,0.5,-0.3666666666666667,-0.625,0.0,0.05,0.0,0.0,0.0,0.0,0.0,0.0,0.0,0.0,0.0,0.0,0.0,0.8,0.0,0.19999999999999998,0.0,0.0,0.8,0.6,0.0,0.0,0.024999999999999994,0.28400000000000003,-0.18125,0.0,0.0,0.06666666666666667,0.3333333333333333,0.5,-0.3,-0.125,-1.0,0.0,-0.25,0.0,-0.5,0.0,0.0,0.0,0.0,0.4,0.35714285714285715,0.0,0.0,0.024999999999999984,0.0,-0.05000000000000002,-0.05000000000000001,0.0,0.0,0.0,0.0,-0.07500000000000001,0.0,-0.1875,0.46159999999999995,0.0,0.1625,-0.3333333333333333,0.0,0.0,0.0,-0.3499999999999999,0.0,0.0,0.0,0.0,0.0,0.0,0.0,0.0,0.15,0.2,0.0,0.0,0.0,0.375,0.0,-0.025,0.0,0.0,0.0,0.0,0.0,0.30000000000000004,0.0,0.0,-0.875,0.7,0.0,0.0,0.25,0.2,0.11875,0.0,-0.6999999999999998,0.0,0.55,-0.26666666666666666,-0.3,0.0,0.0,0.0,0.8,0.0,0.0,0.32428571428571423,0.0,0.0,0.0,0.0,0.0,0.25,0.0,0.65,0.0,0.0,0.0,0.25,0.09000000000000001,0.0,0.3,0.25,0.0,0.0,0.5,0.1875,0.0,0.5,-0.03333333333333334,-0.1,-0.2,0.7,0.0,-0.08333333333333331,-0.3999999999999999,0.0,0.04999999999999999,0.5,0.0,-0.4,0.0,-0.6999999999999998,0.85,0.0,0.0,0.23409090909090907,0.0,0.0,0.0,-0.05499999999999988,0.0,0.0,0.0,0.30000000000000004,0.7,0.2,0.8,0.0,0.13636363636363635,0.0,0.2333333333333333,0.0,0.5,0.0,0.0,0.0,0.0,0.2,0.0,0.0,0.17532467532467533,0.0,0.0,0.13636363636363635,0.0,0.0,-0.5,-0.1875,0.25,-0.1875,-0.125,0.0,0.0,0.0,0.0,0.575,0.0,-0.05,0.25,0.0,0.0,-0.5000000000000001,0.0,0.0,-0.22777777777777777,0.0,0.0,0.0,0.0,0.0,-0.4,0.0,0.0,-0.2,0.0,0.0,0.0,0.0,-0.13333333333333333,0.0,0.2,0.0,0.2,-0.125,0.0,0.033333333333333326,-0.2833333333333333,-0.09999999999999992,0.0,0.0,0.0,0.675,0.35,-0.2,0.0,0.0,-0.1875,0.3,0.0,0.0,0.0,0.0,0.21428571428571427,0.0,0.2,0.7,0.3,0.0,0.0,0.3,0.0,0.0,0.0,-1.0,0.44999999999999996,0.0,0.0,0.0,0.0,0.0,0.0,0.0,0.0,0.0,0.0,0.0,0.0,0.0,-0.025568181818181823,0.31607142857142856,-0.6999999999999998,0.25,0.0,-0.01249999999999999,0.0,0.0,-1.850371707708594e-17,0.0,0.8,0.0,0.7,0.2,0.0,0.1,-0.3,0.0,0.26,0.0,0.2,0.0,0.5,0.0,0.0,0.0,0.0,0.2,-0.2,0.0,0.0,0.0,0.0,0.0,0.8,0.0,0.0,-0.4,0.0,0.0,0.0,0.5,0.0,0.0,0.0,0.1,0.0,0.7,0.0,0.0,0.0,0.0,0.0,0.15625,0.0,0.0,0.0,1.0,0.0,0.0,0.0,0.0,0.0,-0.44999999999999996,-0.6,0.0,0.0,0.0,0.0,0.0,0.0,0.0,-1.0,0.0,0.4666666666666666,0.0,-0.5,-0.15,0.0,0.0,0.0,0.0,0.0,0.0,0.0,0.0,0.0,0.0,0.0,0.0,0.0,0.0,0.5,0.0,0.0,0.0,0.5,0.0,-0.125,0.0,0.0,0.7,0.462,0.5,0.5,0.2,0.7,0.5,0.0,0.0,-0.08333333333333331,0.0,0.0,-0.11250000000000002,0.0,0.0,0.0,0.0,-0.4,0.0,0.2,0.0,0.0,0.0,-0.16666666666666666,0.25,-0.4,0.0,0.008333333333333338,0.0,0.1,0.0,0.08333333333333333,0.0,0.0,0.04999999999999999,0.0,0.0,0.0,0.0,0.14999999999999997,-0.4,0.0,0.0,0.0,0.0,0.4,0.0,-0.4,0.0,0.1,0.0,0.0,0.0,0.0,0.0,0.1,0.0,0.0,0.0,0.25,0.2,0.0,0.2,0.3,0.0,-0.7,0.0,0.0,0.0,0.0,-0.6,-0.6,0.0,-0.2,0.16,0.0,0.0,0.30000000000000004,0.26,-0.225,-0.4,0.5,0.0,0.0,-0.18333333333333335,0.2,0.0,0.0,0.0,0.0,0.16,0.0,-0.2,0.22777777777777777,0.0,0.0,-0.10000000000000002,0.0,0.0,0.0,0.5,0.0,0.0,0.0,0.0,0.0,0.0,0.2,0.0,0.0,0.0,0.4166666666666667,0.0,0.0,0.0,0.2,0.0,0.0,0.0,0.025,0.0,0.0,-0.05555555555555555,0.0,0.0,0.0,0.0,0.04999999999999999,-0.025000000000000022,0.1,0.0,-0.1,0.0,0.0,-0.3333333333333333,-0.3,0.0,0.0,0.0,0.0,0.182,0.0,0.0,0.0,0.15,0.0,-0.2049999999999999,0.0,0.3666666666666667,0.05,0.75,0.0,0.0,0.21428571428571427,0.5,0.15,0.0,0.0,0.0,0.0,0.0,0.0,0.0,0.0,0.0,-0.4,0.0,0.0,-0.6,0.0,-0.43333333333333324,0.0,0.0,0.25,0.0,0.0,0.0,0.0062500000000000056,0.43333333333333335,0.0,0.0,1.0,0.5,0.0,0.0,0.6,0.21428571428571427,0.0,0.0,0.0,0.0,0.0,0.0,0.5,0.0,0.375,0.0,0.0,0.0,0.0,0.0,0.0,0.0,0.0,0.0,0.0,0.0,0.0,0.0,0.0,0.0,0.0,0.09375,-0.05,0.0,0.5,0.0,0.0,0.0,0.0,-0.3,0.0,0.0,0.6,0.0,0.0,0.0,0.7,0.0,0.0,0.0,0.35714285714285715,0.0,0.0,0.0,0.0,0.0,0.0,0.0,0.5,0.0,0.0,0.0,0.0,0.0,0.0,0.0,0.0,0.0,0.1,0.0,0.0,0.0,0.0,0.0,0.5,0.0,0.0,0.0,0.0,0.0,0.0,0.0,0.0,0.0,0.625,0.0,0.0,-0.5833333333333334,0.0,0.0,0.6666666666666666,0.5,0.32857142857142857,0.0,0.2,-0.6,-0.4,0.0,0.0,0.0,0.0,0.9,0.0,0.3,0.0,0.0,0.0,0.78,0.2,1.0,0.5549999999999999,0.0,0.0,0.0,0.0,0.0,0.0,0.276,0.0,0.0,0.0,0.0,0.0,0.27,0.0,-0.08333333333333333,0.0,0.0,0.4928571428571428,0.0,0.0,-0.26666666666666666,-0.35,0.0,0.47500000000000003,0.0,0.21428571428571427,0.0,0.25,0.0,0.0,0.7,0.175,0.0,0.0,0.8000000000000002,0.125,0.09999999999999998,0.21212121212121213,-0.3499999999999999,0.0,-0.4,0.0,0.0,-0.07142857142857142,0.22000000000000003,0.5,0.0,0.0,0.5,-0.65,0.0,-1.0,0.45999999999999996,-0.725,0.7,0.0,0.0,0.0,0.0,0.0,0.30714285714285716,0.3,0.0,-0.14375,-0.06666666666666661,0.0,0.0,-0.1875,0.0,-0.3,1.0,0.0,0.0,0.0,0.0,0.25,-0.5,0.31666666666666665,0.020833333333333343,0.0,0.0,0.0,0.25,0.25,-0.125,0.0,0.0,0.0,0.5,-0.1,-0.6999999999999998,-0.2,0.0,0.0,0.7,0.0,0.0,0.25,0.2,0.0,0.25,0.0,0.4,0.0,0.0,0.0,-0.1,0.35,0.19999999999999998,0.0,-0.2,-0.065,0.0,0.0,0.0,-0.4,-0.6999999999999998,0.7,0.0,0.0,0.0,-0.06499999999999989,0.0,0.0,0.0,0.0,0.1854166666666667,0.0,0.0,0.0,0.0,0.0,0.0,1.0,0.0,0.0,0.0,0.0,0.0,0.0,0.0,0.0,0.0,0.0,0.0,-0.7,0.2,0.0,0.0,0.0,0.0,0.0,0.0,-0.4,0.0,0.0,0.0,0.0,0.0,-0.2,0.0,0.0,0.0,0.0,0.0,-0.125,0.25,0.6,0.19999999999999998,-0.7,0.16,0.0,0.0,0.0,0.0,0.0,0.0,0.0,0.0,0.0,-0.325,0.0,-0.6999999999999998,0.0,0.0,0.0,0.0,0.0,0.0,1.0,0.0,0.0,0.0,0.0,0.0,0.0,0.0,0.0,0.0,0.25,-0.6999999999999998,0.15000000000000002,0.4,-0.5,0.0,0.2,0.0,0.0,0.0,0.0,0.0,0.0,0.2,0.0,0.0,-0.2,0.0,0.0,-0.13333333333333333,0.0,0.0,0.0,0.43333333333333335,0.0,0.0,0.0,0.0,0.0,0.0,0.1,0.17500000000000002,0.3,0.0,0.0,0.0,0.0,0.0,0.0,0.0,0.0,0.0,0.0,0.0,0.0,-0.1,0.2,0.0,0.0,0.0,0.2,0.0,0.8,0.0,0.0,-0.6,0.2,0.0,0.0,0.0,0.0,0.0,1.0,0.0,0.0,0.0,0.0,0.0,0.0,0.0,0.0,0.0,0.0,0.0,0.0,0.0,0.0,-0.4,0.0,0.0,0.0,0.6,0.75,0.0,0.0,0.5,0.0,0.0,0.0,0.8,0.0,0.1,0.0,0.0,0.0,0.0,0.0,0.0,0.28541666666666665,0.0,0.4666666666666666,0.0,0.0,0.08766233766233766,0.0,0.0,0.0,0.5,0.0,-0.3,0.0,0.0,0.0,0.0,0.0,0.0,-0.2,0.0,0.0,0.22499999999999998,0.0,0.0,-0.4,0.0,0.0,0.0,0.0,0.0,-0.2,0.0,0.0,0.0,0.0,0.0,0.0,0.0,0.0,0.0,0.5,0.0,0.0,0.0,0.0,0.2033333333333333,0.0,0.0,0.0,0.0,0.0,0.0,-0.19999999999999996,0.16666666666666666,0.0,0.0,0.0,0.0,0.0,0.8,0.0,0.0,0.0,0.0,-0.1875,0.0,0.0,0.0,0.0,0.0,0.0,0.0,-0.2,0.0,0.0,0.0,0.0,-0.1,0.0,0.0,0.0,0.16666666666666666,0.0,0.0,0.0,0.0,0.0,0.0,0.35,0.0,0.0,0.0,0.0,0.0,0.2,0.0,0.0,0.0,0.0,0.0,0.2,0.0,0.0,0.0,0.0,0.0,0.0,-0.1,0.0,-0.8,0.0,0.35,0.0,0.0,0.0,0.0,0.0,0.35,0.0,0.0,0.0,0.0,0.0,0.125,0.0,0.0,0.1,0.2,0.3,0.0,0.0,0.5,-0.1,0.0,0.0,0.21428571428571427,0.0,0.2,0.0,0.0,0.0,0.0,0.0,0.0,0.0,0.5,0.0,-0.4,0.09166666666666666,0.0,0.0,0.0,0.0,0.5,0.4,0.0,0.0,0.0,0.0,0.25,0.0,0.0,0.0,0.0,0.9,0.0,-0.6999999999999998,0.0,0.0,0.0,0.0,-0.30000000000000004,0.0,0.0,0.0,0.1,0.0,0.0,0.7,0.0,0.1,0.0,-0.4,0.0,0.0,0.0,0.0,0.0,0.0,0.0,0.0,-0.4,0.0,0.0,0.0,0.0,0.0,0.0,0.0,0.5,0.8,0.0,0.8,0.15625,0.5,0.0,0.0,0.8,0.0,0.0,1.0,0.0,0.0,0.0,0.0,0.0,0.0,0.3,0.0,0.25,0.0,0.2,0.0,0.0,0.0,0.0,0.0,0.0,0.0,0.5,0.033333333333333326,0.0,0.0,-0.08787878787878789,0.0,0.0,0.0,0.0,0.25,0.21428571428571427,0.2,0.2,0.2,0.0,0.0,0.0,0.0,0.0,0.0,0.0,0.4,0.0,0.0,0.0,0.0,0.0,0.1,0.0,0.0,0.0,0.5,0.0,0.0,0.0,0.0,0.1,0.0,0.0,0.0,0.0,0.0,-0.4,0.0,0.16666666666666669,0.0,0.0,0.0,0.0,0.0,0.0,0.5,0.0,0.0,0.0,-0.30000000000000004,-1.0,0.0,0.0,0.0,0.0,0.0,0.0,0.0,0.0,0.25,0.0,0.0,0.2,0.0,0.0,0.0,0.0,-0.008333333333333331,-0.125,0.0,0.0,0.0,0.2,-0.5,0.0,0.0,0.0,0.4,0.0875,0.0,0.0,-0.6999999999999998,-0.5,0.0,0.0,0.0,-0.275,0.6000000000000001,0.0,0.5,0.0,0.0,0.0,0.0,0.0,0.8,0.0,0.0,0.0,0.55,0.0,0.0,0.4166666666666667,-0.0625,0.19999999999999998,0.5,0.0,0.0,0.0,0.0,0.0,0.3,0.037500000000000006,0.0,0.5,-0.6,0.0,0.0,0.0,0.0,0.3,0.0,0.0,0.0,0.0,0.0,0.0,0.9099999999999999,-0.26666666666666666,0.0,0.0,0.0,0.0,0.5,0.0,0.0,0.0,0.0,0.0,0.0,0.0,0.0,0.0,0.0,-0.6999999999999998,0.0,0.0,0.0,0.0,0.0,0.0,0.0,0.0,0.0,0.0,-0.4,0.0,0.0,0.0,0.11000000000000001,1.0,-0.011904761904761899,0.0,-0.24999999999999997,0.0,0.0,0.0,0.0,-0.125,0.0,0.0,-0.2,0.0,0.0,0.0,0.0,0.0,0.0,0.0,0.2,-0.1875,0.05,0.0,0.0,0.0,0.0,0.0,0.0,0.0,0.0,0.2333333333333333,0.0,-0.4,-0.125,-0.09404761904761902,0.0,-0.7,-0.25,0.0,0.0,0.0,0.0,0.0,0.8,0.0,-0.25,0.25,0.0,0.27499999999999997,0.8,0.0,0.1,0.21428571428571427,0.0,0.0,-0.5,0.0,0.0,0.0,0.0,0.0,0.0,0.0,0.0,0.0,0.21428571428571427,0.0,0.0,0.0,0.0,0.0,0.25,0.0,-0.4,-0.6999999999999998,0.0,0.0,0.19999999999999998,0.0,0.0,-0.78,0.0,0.0,0.0,0.0,0.0,0.043181818181818175,0.0,0.0,0.0,0.0,0.0,0.0,0.5,0.0,0.29545454545454547,0.0,0.0,0.0,0.0,-0.3,0.0,-0.6,0.0,0.6,-0.6,0.0,0.0,0.0,-0.17499999999999996,1.0,0.0,0.2,-0.6999999999999998,-0.20833333333333334,0.0,0.0,0.0,-0.17499999999999993,0.171875,0.0,0.0,0.0,0.0,-0.045312500000000006,0.0,0.6,0.0,0.0,0.0,-1.0,0.0,0.0,0.2,0.0,0.0,0.0,0.0,0.0,0.0,0.0,0.0,0.0,-0.08333333333333333,0.0,0.0,0.0,0.0,0.0,0.0,0.0,0.0,0.0,-0.6999999999999998,-0.8,0.0,0.0,-0.0625,0.0,0.2,-0.6999999999999998,0.0,0.0,0.0,-0.3499999999999999,0.0,0.0,-0.2,0.08333333333333333,0.4,0.0,0.0,0.0,0.0,0.0,0.3666666666666667,0.0,-0.26666666666666666,-0.16666666666666666,0.0,-0.5,-0.6999999999999998,0.10000000000000009,0.0,0.0,0.0,0.0,0.0,0.0,0.0,0.0,0.0,0.0,0.0,0.2,0.0,0.0,0.0,0.375,-0.6999999999999998,0.0,0.1333333333333334,0.0,0.0,0.0,0.0,0.0,0.7,0.21428571428571427,0.5,0.0,0.1,0.0,0.09999999999999999,0.2,0.0,0.0,0.39999999999999997,0.0,0.0,0.0,-0.15555555555555559,-0.6,0.0,0.0,0.05752840909090909,-0.2,0.6000000000000001,0.0,0.0,-0.13333333333333333,0.0,0.43,0.0,0.0,0.25,0.0,0.0,-0.7,0.3333333333333333,-0.3318181818181818,0.0,0.0,0.8,-0.2,0.0,0.0625,0.0,0.0,-0.4,0.0,-0.44999999999999996,0.15000000000000002,0.0,0.0,0.0,0.2,0.0,0.8,0.0,0.0,-0.18333333333333335,0.0,0.0,-0.6999999999999998,0.0,0.0,0.0,0.2,0.0,0.0,0.0,-0.25,0.0,0.0,0.2,0.7,0.0,0.0,0.0,0.2857142857142857,0.0,-0.6999999999999998,-0.18333333333333335,0.0,0.0,0.0,0.0,0.0,0.0,-0.16718749999999996,-0.6999999999999998,-0.3197916666666667,0.0,0.0,1.0,0.0,-0.17968749999999997,0.0,-0.20885416666666662,0.35,0.0,0.0,0.4,0.0,0.1407142857142857,-0.4,-0.6999999999999998,0.0,0.0,0.0,0.0,0.43333333333333335,0.0,0.0,0.0,0.0,0.0,0.0,0.0,0.6,0.0,0.2140625,0.0,0.0,-0.5,0.0,0.2,0.0,0.0,-0.2,0.0,0.0,-0.2,0.0,0.0,0.0,0.04285714285714286,0.0,0.0,0.0,0.2,1.0,-0.5,0.0,0.0,0.0,0.0,0.0,-0.125,0.0,0.0,0.13636363636363635,0.0,0.16666666666666666,0.0,-0.5333333333333332,0.21428571428571427,0.4,0.0,0.0,-0.7,0.0,0.0,0.06666666666666667,0.0,0.21428571428571427,0.0,0.0062500000000000056,0.0,0.0,0.0,0.203125,0.0,0.0,0.5,0.4,-0.15000000000000002,0.0,0.1,-0.13333333333333333,0.0,-0.625,0.0,0.0,0.5,0.26,0.4,0.5,0.0,0.0,0.0,0.5,0.0,0.5,0.0,0.0,-0.29999999999999993,-0.275,0.0,0.0,0.0,0.0,-0.4,0.0,0.0,0.2,0.0,0.8,0.0,0.26666666666666666,0.0,0.0,0.5,0.0,0.13636363636363635,0.2,0.0,0.015625,0.0,0.5,-0.125,0.0,-0.3125,0.0,0.0,0.0,0.0,0.0,0.0,-0.2,0.0,-0.00833333333333334,0.2,0.21428571428571427,0.2,0.0,0.0,0.0,0.0,-0.125,0.2857142857142857,1.0,0.0,0.43333333333333335,-0.6,0.0,-0.09999999999999992,0.0,0.0,0.0,0.0,0.0,-0.13333333333333333,0.0,0.25,0.0,1.0,0.21428571428571427,-0.125,0.0,0.25,0.0,0.0,-0.07500000000000001,0.0,0.0,0.0,0.0,0.2,-0.6999999999999998,0.0,0.3,0.8,0.325,0.0,0.0,0.0,-0.1228571428571428,-0.2666666666666666,0.0,-0.125,0.0,0.0,0.0,0.13636363636363635,0.0,0.3,0.0,0.8,0.0,-0.125,0.0,0.0,0.0,0.30625,0.0,0.0,0.0,0.0,-0.125,0.0,0.0,0.0,0.0,0.0,0.0,0.0,0.3181818181818182,0.0,0.0,0.0,0.0,0.0,0.0,0.0,-0.24999999999999992,0.0,0.2857142857142857,0.0,0.0,0.0,0.7,0.25,0.44999999999999996,0.2,0.0,0.8,0.0,0.0,0.0,0.0,0.0,-0.6999999999999998,-0.4416666666666666,0.2,0.0,0.0,0.0,0.0,0.0,0.0,0.0,0.2,0.0,0.0,0.21428571428571427,0.0,0.0,0.0,0.0,0.525,0.0,0.21428571428571427,0.0,0.0,0.0,0.16,0.0,0.0,0.0,0.0,0.2,0.0,0.0,0.0,0.0,0.0,0.0,0.0,0.0,0.14999999999999997,0.4,0.0,0.0,0.0,0.0,0.0,0.0,0.0,0.0,0.0,0.18333333333333335,0.0,0.0,0.0,0.2,0.0,0.0,0.0,0.0,0.0,0.0,0.0,0.0,0.0,0.2,0.0,0.0,0.21428571428571427,0.0,0.0,0.6,0.0,0.075,0.0,0.0,0.0,0.0,0.0,0.0,0.25,0.0,0.0,0.21428571428571427,0.0,0.0,0.0,0.21428571428571427,-0.6999999999999998,0.45499999999999996,0.0,0.0,0.0,0.0,0.0,0.0,0.0,0.25,0.0,0.0,0.25,-0.375,0.0,0.0,0.3333333333333333,0.0,0.2,0.0,0.0,0.0,0.0,0.0,0.0,0.0,-0.2,-0.3,0.0,0.13333333333333336,0.625,0.0,0.0,0.0,0.1,0.0,0.0,0.0,0.0,0.0,0.1,0.0,0.0,0.0,0.19999999999999998,-0.25,0.0,0.8,0.0,-0.2,0.0,0.0,0.0,0.6,-0.38,0.0,0.4,0.65,-0.25,0.0,-0.125,0.2,0.0,0.2,0.5,0.0,0.0,0.13749999999999998,0.7,0.0,0.0,-0.06666666666666667,0.0,0.0,0.0,0.0,0.0,-0.2,-0.09999999999999992,0.0,0.21428571428571427,0.0,0.0,0.10000000000000003,0.0,0.55,-0.13,-0.05000000000000002,-0.13125,0.8,0.13333333333333333,0.0,0.0,0.3123015873015873,0.0,0.0,0.0,0.0,-0.2,0.2,0.0,0.16,-0.02857142857142857,0.0,-0.2,0.0,0.5,0.0,0.0,0.21666666666666665,0.0,-0.15,0.0,0.3,0.0,0.0,0.0,0.1,0.0,-0.6,-0.15555555555555559,0.5,-0.8,0.0,0.11875000000000002,0.3,0.0,0.13636363636363635,-0.25,0.3666666666666667,0.0,0.0,0.5,0.35,-0.6999999999999998,0.8,-0.6,0.0,0.0,-0.875,0.0,0.07500000000000001,0.0,0.5,0.25,0.0,0.0,-0.15,0.0,0.0,0.0,0.25,0.0,0.0,0.0,0.0,0.5,0.3333333333333333,-0.25,0.0,0.65,0.0,0.0,0.25,0.35714285714285715,0.5,0.0,0.5,-0.4,0.0,0.0,0.0,0.0,0.0,0.2,0.0,0.0,0.2,0.0,0.9,0.0,0.0,0.0,0.0,0.5,0.0,0.0,0.0,0.0,0.13636363636363635,0.0,0.1,0.0,0.0,-0.24999999999999997,-0.4318181818181818,0.0,0.0,0.3333333333333333,0.0,0.0,0.0,0.0,0.7,0.0,0.0,0.0,0.0,0.04999999999999999,0.0,-0.6,0.0,0.0,0.0,0.0,0.0,0.0,0.7,0.43333333333333335,0.0,0.0,0.0,0.011111111111111118,0.0,0.0,0.0,0.0,0.0,0.0,0.0,0.0,0.0,0.0,-0.02857142857142857,-0.4,0.0,0.0,0.0,0.85,0.0,0.0,0.0,0.0,0.0,0.0,-0.05555555555555555,0.0,0.3,0.0,0.0,0.2,0.0,0.0,0.0,0.0,0.0,0.06818181818181818,0.0,0.10666666666666665,0.0,0.0,0.0,0.1,0.0,0.0,0.0,0.0,-0.10833333333333334,0.0,0.3,0.0,0.0,-0.3,0.0,0.16,-0.6,0.0,0.0,0.0,0.0,-0.1,0.0,0.0,0.3875,0.4958333333333333,0.0,0.0,0.0,0.0,-0.16666666666666666,0.8,0.0,0.8,-0.04375,0.9,0.0,0.4,0.0,0.0,0.0,0.0,0.0,0.8,0.1,0.0,0.19727272727272724,0.0,0.0,0.5,0.0,0.8,0.25,0.3333333333333333,0.0,0.0,0.19999999999999998,0.0,0.0625,0.0,0.35,0.2,0.0,0.0,0.0,0.0,-0.2916666666666667,0.0,0.0,0.0,-0.55,0.0,0.0,0.28958333333333336,0.0,0.25,0.08,0.0,0.0,0.5,0.0,0.0,0.0,0.0,-0.2,0.0,0.5,-0.033333333333333326,0.0,0.0,0.75,0.8,0.0,0.0,0.0,0.0,0.0,-0.1875,0.0,0.0,0.0,0.0,0.5231818181818182,0.0,0.0,0.0,0.0,0.0,0.0,0.24807692307692308,0.0,0.0,0.0,0.5,0.0,0.0,0.0,0.0,0.25,0.0,0.0,0.0,-0.5,0.0,0.3,0.0,0.0,-0.1,0.0,0.4,0.0,0.0,0.7,0.0,0.8,0.26,-0.15000000000000002,0.0,0.17,0.26,0.0,0.0,0.0,0.26,0.26,0.0,0.2,0.26,0.26,0.5,0.2,0.26,0.0,0.14666666666666667,0.2,0.125,0.0,0.0,0.4,0.0,0.125,0.0,0.0,0.0,0.0,0.25,0.0,0.0,0.8,-0.15,-0.1875,0.22424242424242424,0.175,-0.5,0.0,0.0,0.0,0.2,0.0,0.0,-0.25,0.1,0.725,0.0,0.0,0.0,0.0,0.0,0.25,0.0],\"yaxis\":\"y\",\"type\":\"scattergl\"}],                        {\"template\":{\"data\":{\"bar\":[{\"error_x\":{\"color\":\"#2a3f5f\"},\"error_y\":{\"color\":\"#2a3f5f\"},\"marker\":{\"line\":{\"color\":\"#E5ECF6\",\"width\":0.5},\"pattern\":{\"fillmode\":\"overlay\",\"size\":10,\"solidity\":0.2}},\"type\":\"bar\"}],\"barpolar\":[{\"marker\":{\"line\":{\"color\":\"#E5ECF6\",\"width\":0.5},\"pattern\":{\"fillmode\":\"overlay\",\"size\":10,\"solidity\":0.2}},\"type\":\"barpolar\"}],\"carpet\":[{\"aaxis\":{\"endlinecolor\":\"#2a3f5f\",\"gridcolor\":\"white\",\"linecolor\":\"white\",\"minorgridcolor\":\"white\",\"startlinecolor\":\"#2a3f5f\"},\"baxis\":{\"endlinecolor\":\"#2a3f5f\",\"gridcolor\":\"white\",\"linecolor\":\"white\",\"minorgridcolor\":\"white\",\"startlinecolor\":\"#2a3f5f\"},\"type\":\"carpet\"}],\"choropleth\":[{\"colorbar\":{\"outlinewidth\":0,\"ticks\":\"\"},\"type\":\"choropleth\"}],\"contour\":[{\"colorbar\":{\"outlinewidth\":0,\"ticks\":\"\"},\"colorscale\":[[0.0,\"#0d0887\"],[0.1111111111111111,\"#46039f\"],[0.2222222222222222,\"#7201a8\"],[0.3333333333333333,\"#9c179e\"],[0.4444444444444444,\"#bd3786\"],[0.5555555555555556,\"#d8576b\"],[0.6666666666666666,\"#ed7953\"],[0.7777777777777778,\"#fb9f3a\"],[0.8888888888888888,\"#fdca26\"],[1.0,\"#f0f921\"]],\"type\":\"contour\"}],\"contourcarpet\":[{\"colorbar\":{\"outlinewidth\":0,\"ticks\":\"\"},\"type\":\"contourcarpet\"}],\"heatmap\":[{\"colorbar\":{\"outlinewidth\":0,\"ticks\":\"\"},\"colorscale\":[[0.0,\"#0d0887\"],[0.1111111111111111,\"#46039f\"],[0.2222222222222222,\"#7201a8\"],[0.3333333333333333,\"#9c179e\"],[0.4444444444444444,\"#bd3786\"],[0.5555555555555556,\"#d8576b\"],[0.6666666666666666,\"#ed7953\"],[0.7777777777777778,\"#fb9f3a\"],[0.8888888888888888,\"#fdca26\"],[1.0,\"#f0f921\"]],\"type\":\"heatmap\"}],\"heatmapgl\":[{\"colorbar\":{\"outlinewidth\":0,\"ticks\":\"\"},\"colorscale\":[[0.0,\"#0d0887\"],[0.1111111111111111,\"#46039f\"],[0.2222222222222222,\"#7201a8\"],[0.3333333333333333,\"#9c179e\"],[0.4444444444444444,\"#bd3786\"],[0.5555555555555556,\"#d8576b\"],[0.6666666666666666,\"#ed7953\"],[0.7777777777777778,\"#fb9f3a\"],[0.8888888888888888,\"#fdca26\"],[1.0,\"#f0f921\"]],\"type\":\"heatmapgl\"}],\"histogram\":[{\"marker\":{\"pattern\":{\"fillmode\":\"overlay\",\"size\":10,\"solidity\":0.2}},\"type\":\"histogram\"}],\"histogram2d\":[{\"colorbar\":{\"outlinewidth\":0,\"ticks\":\"\"},\"colorscale\":[[0.0,\"#0d0887\"],[0.1111111111111111,\"#46039f\"],[0.2222222222222222,\"#7201a8\"],[0.3333333333333333,\"#9c179e\"],[0.4444444444444444,\"#bd3786\"],[0.5555555555555556,\"#d8576b\"],[0.6666666666666666,\"#ed7953\"],[0.7777777777777778,\"#fb9f3a\"],[0.8888888888888888,\"#fdca26\"],[1.0,\"#f0f921\"]],\"type\":\"histogram2d\"}],\"histogram2dcontour\":[{\"colorbar\":{\"outlinewidth\":0,\"ticks\":\"\"},\"colorscale\":[[0.0,\"#0d0887\"],[0.1111111111111111,\"#46039f\"],[0.2222222222222222,\"#7201a8\"],[0.3333333333333333,\"#9c179e\"],[0.4444444444444444,\"#bd3786\"],[0.5555555555555556,\"#d8576b\"],[0.6666666666666666,\"#ed7953\"],[0.7777777777777778,\"#fb9f3a\"],[0.8888888888888888,\"#fdca26\"],[1.0,\"#f0f921\"]],\"type\":\"histogram2dcontour\"}],\"mesh3d\":[{\"colorbar\":{\"outlinewidth\":0,\"ticks\":\"\"},\"type\":\"mesh3d\"}],\"parcoords\":[{\"line\":{\"colorbar\":{\"outlinewidth\":0,\"ticks\":\"\"}},\"type\":\"parcoords\"}],\"pie\":[{\"automargin\":true,\"type\":\"pie\"}],\"scatter\":[{\"marker\":{\"colorbar\":{\"outlinewidth\":0,\"ticks\":\"\"}},\"type\":\"scatter\"}],\"scatter3d\":[{\"line\":{\"colorbar\":{\"outlinewidth\":0,\"ticks\":\"\"}},\"marker\":{\"colorbar\":{\"outlinewidth\":0,\"ticks\":\"\"}},\"type\":\"scatter3d\"}],\"scattercarpet\":[{\"marker\":{\"colorbar\":{\"outlinewidth\":0,\"ticks\":\"\"}},\"type\":\"scattercarpet\"}],\"scattergeo\":[{\"marker\":{\"colorbar\":{\"outlinewidth\":0,\"ticks\":\"\"}},\"type\":\"scattergeo\"}],\"scattergl\":[{\"marker\":{\"colorbar\":{\"outlinewidth\":0,\"ticks\":\"\"}},\"type\":\"scattergl\"}],\"scattermapbox\":[{\"marker\":{\"colorbar\":{\"outlinewidth\":0,\"ticks\":\"\"}},\"type\":\"scattermapbox\"}],\"scatterpolar\":[{\"marker\":{\"colorbar\":{\"outlinewidth\":0,\"ticks\":\"\"}},\"type\":\"scatterpolar\"}],\"scatterpolargl\":[{\"marker\":{\"colorbar\":{\"outlinewidth\":0,\"ticks\":\"\"}},\"type\":\"scatterpolargl\"}],\"scatterternary\":[{\"marker\":{\"colorbar\":{\"outlinewidth\":0,\"ticks\":\"\"}},\"type\":\"scatterternary\"}],\"surface\":[{\"colorbar\":{\"outlinewidth\":0,\"ticks\":\"\"},\"colorscale\":[[0.0,\"#0d0887\"],[0.1111111111111111,\"#46039f\"],[0.2222222222222222,\"#7201a8\"],[0.3333333333333333,\"#9c179e\"],[0.4444444444444444,\"#bd3786\"],[0.5555555555555556,\"#d8576b\"],[0.6666666666666666,\"#ed7953\"],[0.7777777777777778,\"#fb9f3a\"],[0.8888888888888888,\"#fdca26\"],[1.0,\"#f0f921\"]],\"type\":\"surface\"}],\"table\":[{\"cells\":{\"fill\":{\"color\":\"#EBF0F8\"},\"line\":{\"color\":\"white\"}},\"header\":{\"fill\":{\"color\":\"#C8D4E3\"},\"line\":{\"color\":\"white\"}},\"type\":\"table\"}]},\"layout\":{\"annotationdefaults\":{\"arrowcolor\":\"#2a3f5f\",\"arrowhead\":0,\"arrowwidth\":1},\"autotypenumbers\":\"strict\",\"coloraxis\":{\"colorbar\":{\"outlinewidth\":0,\"ticks\":\"\"}},\"colorscale\":{\"diverging\":[[0,\"#8e0152\"],[0.1,\"#c51b7d\"],[0.2,\"#de77ae\"],[0.3,\"#f1b6da\"],[0.4,\"#fde0ef\"],[0.5,\"#f7f7f7\"],[0.6,\"#e6f5d0\"],[0.7,\"#b8e186\"],[0.8,\"#7fbc41\"],[0.9,\"#4d9221\"],[1,\"#276419\"]],\"sequential\":[[0.0,\"#0d0887\"],[0.1111111111111111,\"#46039f\"],[0.2222222222222222,\"#7201a8\"],[0.3333333333333333,\"#9c179e\"],[0.4444444444444444,\"#bd3786\"],[0.5555555555555556,\"#d8576b\"],[0.6666666666666666,\"#ed7953\"],[0.7777777777777778,\"#fb9f3a\"],[0.8888888888888888,\"#fdca26\"],[1.0,\"#f0f921\"]],\"sequentialminus\":[[0.0,\"#0d0887\"],[0.1111111111111111,\"#46039f\"],[0.2222222222222222,\"#7201a8\"],[0.3333333333333333,\"#9c179e\"],[0.4444444444444444,\"#bd3786\"],[0.5555555555555556,\"#d8576b\"],[0.6666666666666666,\"#ed7953\"],[0.7777777777777778,\"#fb9f3a\"],[0.8888888888888888,\"#fdca26\"],[1.0,\"#f0f921\"]]},\"colorway\":[\"#636efa\",\"#EF553B\",\"#00cc96\",\"#ab63fa\",\"#FFA15A\",\"#19d3f3\",\"#FF6692\",\"#B6E880\",\"#FF97FF\",\"#FECB52\"],\"font\":{\"color\":\"#2a3f5f\"},\"geo\":{\"bgcolor\":\"white\",\"lakecolor\":\"white\",\"landcolor\":\"#E5ECF6\",\"showlakes\":true,\"showland\":true,\"subunitcolor\":\"white\"},\"hoverlabel\":{\"align\":\"left\"},\"hovermode\":\"closest\",\"mapbox\":{\"style\":\"light\"},\"paper_bgcolor\":\"white\",\"plot_bgcolor\":\"#E5ECF6\",\"polar\":{\"angularaxis\":{\"gridcolor\":\"white\",\"linecolor\":\"white\",\"ticks\":\"\"},\"bgcolor\":\"#E5ECF6\",\"radialaxis\":{\"gridcolor\":\"white\",\"linecolor\":\"white\",\"ticks\":\"\"}},\"scene\":{\"xaxis\":{\"backgroundcolor\":\"#E5ECF6\",\"gridcolor\":\"white\",\"gridwidth\":2,\"linecolor\":\"white\",\"showbackground\":true,\"ticks\":\"\",\"zerolinecolor\":\"white\"},\"yaxis\":{\"backgroundcolor\":\"#E5ECF6\",\"gridcolor\":\"white\",\"gridwidth\":2,\"linecolor\":\"white\",\"showbackground\":true,\"ticks\":\"\",\"zerolinecolor\":\"white\"},\"zaxis\":{\"backgroundcolor\":\"#E5ECF6\",\"gridcolor\":\"white\",\"gridwidth\":2,\"linecolor\":\"white\",\"showbackground\":true,\"ticks\":\"\",\"zerolinecolor\":\"white\"}},\"shapedefaults\":{\"line\":{\"color\":\"#2a3f5f\"}},\"ternary\":{\"aaxis\":{\"gridcolor\":\"white\",\"linecolor\":\"white\",\"ticks\":\"\"},\"baxis\":{\"gridcolor\":\"white\",\"linecolor\":\"white\",\"ticks\":\"\"},\"bgcolor\":\"#E5ECF6\",\"caxis\":{\"gridcolor\":\"white\",\"linecolor\":\"white\",\"ticks\":\"\"}},\"title\":{\"x\":0.05},\"xaxis\":{\"automargin\":true,\"gridcolor\":\"white\",\"linecolor\":\"white\",\"ticks\":\"\",\"title\":{\"standoff\":15},\"zerolinecolor\":\"white\",\"zerolinewidth\":2},\"yaxis\":{\"automargin\":true,\"gridcolor\":\"white\",\"linecolor\":\"white\",\"ticks\":\"\",\"title\":{\"standoff\":15},\"zerolinecolor\":\"white\",\"zerolinewidth\":2}}},\"xaxis\":{\"anchor\":\"y\",\"domain\":[0.0,1.0],\"title\":{\"text\":\"index\"}},\"yaxis\":{\"anchor\":\"x\",\"domain\":[0.0,1.0],\"title\":{\"text\":\"Polarity\"}},\"legend\":{\"tracegroupgap\":0},\"margin\":{\"t\":60}},                        {\"responsive\": true}                    ).then(function(){\n",
              "                            \n",
              "var gd = document.getElementById('a0b05ff6-cb0d-421a-8472-bc56438a1ef5');\n",
              "var x = new MutationObserver(function (mutations, observer) {{\n",
              "        var display = window.getComputedStyle(gd).display;\n",
              "        if (!display || display === 'none') {{\n",
              "            console.log([gd, 'removed!']);\n",
              "            Plotly.purge(gd);\n",
              "            observer.disconnect();\n",
              "        }}\n",
              "}});\n",
              "\n",
              "// Listen for the removal of the full notebook cells\n",
              "var notebookContainer = gd.closest('#notebook-container');\n",
              "if (notebookContainer) {{\n",
              "    x.observe(notebookContainer, {childList: true});\n",
              "}}\n",
              "\n",
              "// Listen for the clearing of the current output cell\n",
              "var outputEl = gd.closest('.output');\n",
              "if (outputEl) {{\n",
              "    x.observe(outputEl, {childList: true});\n",
              "}}\n",
              "\n",
              "                        })                };                            </script>        </div>\n",
              "</body>\n",
              "</html>"
            ]
          },
          "metadata": {}
        }
      ]
    },
    {
      "cell_type": "code",
      "source": [
        "fig = px.bar(count, title=\"Sentimientos de los tweets de la kings league jornada 6\", color=['red','blue','green'])\n",
        "fig.show()"
      ],
      "metadata": {
        "colab": {
          "base_uri": "https://localhost:8080/",
          "height": 542
        },
        "id": "AwAXj_66CnK5",
        "outputId": "d80d3920-fe28-4ac8-cf71-ce2fc5276e7f"
      },
      "execution_count": 214,
      "outputs": [
        {
          "output_type": "display_data",
          "data": {
            "text/html": [
              "<html>\n",
              "<head><meta charset=\"utf-8\" /></head>\n",
              "<body>\n",
              "    <div>            <script src=\"https://cdnjs.cloudflare.com/ajax/libs/mathjax/2.7.5/MathJax.js?config=TeX-AMS-MML_SVG\"></script><script type=\"text/javascript\">if (window.MathJax) {MathJax.Hub.Config({SVG: {font: \"STIX-Web\"}});}</script>                <script type=\"text/javascript\">window.PlotlyConfig = {MathJaxConfig: 'local'};</script>\n",
              "        <script src=\"https://cdn.plot.ly/plotly-2.8.3.min.js\"></script>                <div id=\"1d025c7f-7f25-4bc0-b0f7-0360ffb30962\" class=\"plotly-graph-div\" style=\"height:525px; width:100%;\"></div>            <script type=\"text/javascript\">                                    window.PLOTLYENV=window.PLOTLYENV || {};                                    if (document.getElementById(\"1d025c7f-7f25-4bc0-b0f7-0360ffb30962\")) {                    Plotly.newPlot(                        \"1d025c7f-7f25-4bc0-b0f7-0360ffb30962\",                        [{\"alignmentgroup\":\"True\",\"hovertemplate\":\"color=red<br>index=%{x}<br>value=%{y}<extra></extra>\",\"legendgroup\":\"red\",\"marker\":{\"color\":\"#636efa\",\"pattern\":{\"shape\":\"\"}},\"name\":\"red\",\"offsetgroup\":\"red\",\"orientation\":\"v\",\"showlegend\":true,\"textposition\":\"auto\",\"x\":[\"Neutral\"],\"xaxis\":\"x\",\"y\":[1941],\"yaxis\":\"y\",\"type\":\"bar\"},{\"alignmentgroup\":\"True\",\"hovertemplate\":\"color=blue<br>index=%{x}<br>value=%{y}<extra></extra>\",\"legendgroup\":\"blue\",\"marker\":{\"color\":\"#EF553B\",\"pattern\":{\"shape\":\"\"}},\"name\":\"blue\",\"offsetgroup\":\"blue\",\"orientation\":\"v\",\"showlegend\":true,\"textposition\":\"auto\",\"x\":[\"Positive\"],\"xaxis\":\"x\",\"y\":[704],\"yaxis\":\"y\",\"type\":\"bar\"},{\"alignmentgroup\":\"True\",\"hovertemplate\":\"color=green<br>index=%{x}<br>value=%{y}<extra></extra>\",\"legendgroup\":\"green\",\"marker\":{\"color\":\"#00cc96\",\"pattern\":{\"shape\":\"\"}},\"name\":\"green\",\"offsetgroup\":\"green\",\"orientation\":\"v\",\"showlegend\":true,\"textposition\":\"auto\",\"x\":[\"Negative\"],\"xaxis\":\"x\",\"y\":[355],\"yaxis\":\"y\",\"type\":\"bar\"}],                        {\"template\":{\"data\":{\"bar\":[{\"error_x\":{\"color\":\"#2a3f5f\"},\"error_y\":{\"color\":\"#2a3f5f\"},\"marker\":{\"line\":{\"color\":\"#E5ECF6\",\"width\":0.5},\"pattern\":{\"fillmode\":\"overlay\",\"size\":10,\"solidity\":0.2}},\"type\":\"bar\"}],\"barpolar\":[{\"marker\":{\"line\":{\"color\":\"#E5ECF6\",\"width\":0.5},\"pattern\":{\"fillmode\":\"overlay\",\"size\":10,\"solidity\":0.2}},\"type\":\"barpolar\"}],\"carpet\":[{\"aaxis\":{\"endlinecolor\":\"#2a3f5f\",\"gridcolor\":\"white\",\"linecolor\":\"white\",\"minorgridcolor\":\"white\",\"startlinecolor\":\"#2a3f5f\"},\"baxis\":{\"endlinecolor\":\"#2a3f5f\",\"gridcolor\":\"white\",\"linecolor\":\"white\",\"minorgridcolor\":\"white\",\"startlinecolor\":\"#2a3f5f\"},\"type\":\"carpet\"}],\"choropleth\":[{\"colorbar\":{\"outlinewidth\":0,\"ticks\":\"\"},\"type\":\"choropleth\"}],\"contour\":[{\"colorbar\":{\"outlinewidth\":0,\"ticks\":\"\"},\"colorscale\":[[0.0,\"#0d0887\"],[0.1111111111111111,\"#46039f\"],[0.2222222222222222,\"#7201a8\"],[0.3333333333333333,\"#9c179e\"],[0.4444444444444444,\"#bd3786\"],[0.5555555555555556,\"#d8576b\"],[0.6666666666666666,\"#ed7953\"],[0.7777777777777778,\"#fb9f3a\"],[0.8888888888888888,\"#fdca26\"],[1.0,\"#f0f921\"]],\"type\":\"contour\"}],\"contourcarpet\":[{\"colorbar\":{\"outlinewidth\":0,\"ticks\":\"\"},\"type\":\"contourcarpet\"}],\"heatmap\":[{\"colorbar\":{\"outlinewidth\":0,\"ticks\":\"\"},\"colorscale\":[[0.0,\"#0d0887\"],[0.1111111111111111,\"#46039f\"],[0.2222222222222222,\"#7201a8\"],[0.3333333333333333,\"#9c179e\"],[0.4444444444444444,\"#bd3786\"],[0.5555555555555556,\"#d8576b\"],[0.6666666666666666,\"#ed7953\"],[0.7777777777777778,\"#fb9f3a\"],[0.8888888888888888,\"#fdca26\"],[1.0,\"#f0f921\"]],\"type\":\"heatmap\"}],\"heatmapgl\":[{\"colorbar\":{\"outlinewidth\":0,\"ticks\":\"\"},\"colorscale\":[[0.0,\"#0d0887\"],[0.1111111111111111,\"#46039f\"],[0.2222222222222222,\"#7201a8\"],[0.3333333333333333,\"#9c179e\"],[0.4444444444444444,\"#bd3786\"],[0.5555555555555556,\"#d8576b\"],[0.6666666666666666,\"#ed7953\"],[0.7777777777777778,\"#fb9f3a\"],[0.8888888888888888,\"#fdca26\"],[1.0,\"#f0f921\"]],\"type\":\"heatmapgl\"}],\"histogram\":[{\"marker\":{\"pattern\":{\"fillmode\":\"overlay\",\"size\":10,\"solidity\":0.2}},\"type\":\"histogram\"}],\"histogram2d\":[{\"colorbar\":{\"outlinewidth\":0,\"ticks\":\"\"},\"colorscale\":[[0.0,\"#0d0887\"],[0.1111111111111111,\"#46039f\"],[0.2222222222222222,\"#7201a8\"],[0.3333333333333333,\"#9c179e\"],[0.4444444444444444,\"#bd3786\"],[0.5555555555555556,\"#d8576b\"],[0.6666666666666666,\"#ed7953\"],[0.7777777777777778,\"#fb9f3a\"],[0.8888888888888888,\"#fdca26\"],[1.0,\"#f0f921\"]],\"type\":\"histogram2d\"}],\"histogram2dcontour\":[{\"colorbar\":{\"outlinewidth\":0,\"ticks\":\"\"},\"colorscale\":[[0.0,\"#0d0887\"],[0.1111111111111111,\"#46039f\"],[0.2222222222222222,\"#7201a8\"],[0.3333333333333333,\"#9c179e\"],[0.4444444444444444,\"#bd3786\"],[0.5555555555555556,\"#d8576b\"],[0.6666666666666666,\"#ed7953\"],[0.7777777777777778,\"#fb9f3a\"],[0.8888888888888888,\"#fdca26\"],[1.0,\"#f0f921\"]],\"type\":\"histogram2dcontour\"}],\"mesh3d\":[{\"colorbar\":{\"outlinewidth\":0,\"ticks\":\"\"},\"type\":\"mesh3d\"}],\"parcoords\":[{\"line\":{\"colorbar\":{\"outlinewidth\":0,\"ticks\":\"\"}},\"type\":\"parcoords\"}],\"pie\":[{\"automargin\":true,\"type\":\"pie\"}],\"scatter\":[{\"marker\":{\"colorbar\":{\"outlinewidth\":0,\"ticks\":\"\"}},\"type\":\"scatter\"}],\"scatter3d\":[{\"line\":{\"colorbar\":{\"outlinewidth\":0,\"ticks\":\"\"}},\"marker\":{\"colorbar\":{\"outlinewidth\":0,\"ticks\":\"\"}},\"type\":\"scatter3d\"}],\"scattercarpet\":[{\"marker\":{\"colorbar\":{\"outlinewidth\":0,\"ticks\":\"\"}},\"type\":\"scattercarpet\"}],\"scattergeo\":[{\"marker\":{\"colorbar\":{\"outlinewidth\":0,\"ticks\":\"\"}},\"type\":\"scattergeo\"}],\"scattergl\":[{\"marker\":{\"colorbar\":{\"outlinewidth\":0,\"ticks\":\"\"}},\"type\":\"scattergl\"}],\"scattermapbox\":[{\"marker\":{\"colorbar\":{\"outlinewidth\":0,\"ticks\":\"\"}},\"type\":\"scattermapbox\"}],\"scatterpolar\":[{\"marker\":{\"colorbar\":{\"outlinewidth\":0,\"ticks\":\"\"}},\"type\":\"scatterpolar\"}],\"scatterpolargl\":[{\"marker\":{\"colorbar\":{\"outlinewidth\":0,\"ticks\":\"\"}},\"type\":\"scatterpolargl\"}],\"scatterternary\":[{\"marker\":{\"colorbar\":{\"outlinewidth\":0,\"ticks\":\"\"}},\"type\":\"scatterternary\"}],\"surface\":[{\"colorbar\":{\"outlinewidth\":0,\"ticks\":\"\"},\"colorscale\":[[0.0,\"#0d0887\"],[0.1111111111111111,\"#46039f\"],[0.2222222222222222,\"#7201a8\"],[0.3333333333333333,\"#9c179e\"],[0.4444444444444444,\"#bd3786\"],[0.5555555555555556,\"#d8576b\"],[0.6666666666666666,\"#ed7953\"],[0.7777777777777778,\"#fb9f3a\"],[0.8888888888888888,\"#fdca26\"],[1.0,\"#f0f921\"]],\"type\":\"surface\"}],\"table\":[{\"cells\":{\"fill\":{\"color\":\"#EBF0F8\"},\"line\":{\"color\":\"white\"}},\"header\":{\"fill\":{\"color\":\"#C8D4E3\"},\"line\":{\"color\":\"white\"}},\"type\":\"table\"}]},\"layout\":{\"annotationdefaults\":{\"arrowcolor\":\"#2a3f5f\",\"arrowhead\":0,\"arrowwidth\":1},\"autotypenumbers\":\"strict\",\"coloraxis\":{\"colorbar\":{\"outlinewidth\":0,\"ticks\":\"\"}},\"colorscale\":{\"diverging\":[[0,\"#8e0152\"],[0.1,\"#c51b7d\"],[0.2,\"#de77ae\"],[0.3,\"#f1b6da\"],[0.4,\"#fde0ef\"],[0.5,\"#f7f7f7\"],[0.6,\"#e6f5d0\"],[0.7,\"#b8e186\"],[0.8,\"#7fbc41\"],[0.9,\"#4d9221\"],[1,\"#276419\"]],\"sequential\":[[0.0,\"#0d0887\"],[0.1111111111111111,\"#46039f\"],[0.2222222222222222,\"#7201a8\"],[0.3333333333333333,\"#9c179e\"],[0.4444444444444444,\"#bd3786\"],[0.5555555555555556,\"#d8576b\"],[0.6666666666666666,\"#ed7953\"],[0.7777777777777778,\"#fb9f3a\"],[0.8888888888888888,\"#fdca26\"],[1.0,\"#f0f921\"]],\"sequentialminus\":[[0.0,\"#0d0887\"],[0.1111111111111111,\"#46039f\"],[0.2222222222222222,\"#7201a8\"],[0.3333333333333333,\"#9c179e\"],[0.4444444444444444,\"#bd3786\"],[0.5555555555555556,\"#d8576b\"],[0.6666666666666666,\"#ed7953\"],[0.7777777777777778,\"#fb9f3a\"],[0.8888888888888888,\"#fdca26\"],[1.0,\"#f0f921\"]]},\"colorway\":[\"#636efa\",\"#EF553B\",\"#00cc96\",\"#ab63fa\",\"#FFA15A\",\"#19d3f3\",\"#FF6692\",\"#B6E880\",\"#FF97FF\",\"#FECB52\"],\"font\":{\"color\":\"#2a3f5f\"},\"geo\":{\"bgcolor\":\"white\",\"lakecolor\":\"white\",\"landcolor\":\"#E5ECF6\",\"showlakes\":true,\"showland\":true,\"subunitcolor\":\"white\"},\"hoverlabel\":{\"align\":\"left\"},\"hovermode\":\"closest\",\"mapbox\":{\"style\":\"light\"},\"paper_bgcolor\":\"white\",\"plot_bgcolor\":\"#E5ECF6\",\"polar\":{\"angularaxis\":{\"gridcolor\":\"white\",\"linecolor\":\"white\",\"ticks\":\"\"},\"bgcolor\":\"#E5ECF6\",\"radialaxis\":{\"gridcolor\":\"white\",\"linecolor\":\"white\",\"ticks\":\"\"}},\"scene\":{\"xaxis\":{\"backgroundcolor\":\"#E5ECF6\",\"gridcolor\":\"white\",\"gridwidth\":2,\"linecolor\":\"white\",\"showbackground\":true,\"ticks\":\"\",\"zerolinecolor\":\"white\"},\"yaxis\":{\"backgroundcolor\":\"#E5ECF6\",\"gridcolor\":\"white\",\"gridwidth\":2,\"linecolor\":\"white\",\"showbackground\":true,\"ticks\":\"\",\"zerolinecolor\":\"white\"},\"zaxis\":{\"backgroundcolor\":\"#E5ECF6\",\"gridcolor\":\"white\",\"gridwidth\":2,\"linecolor\":\"white\",\"showbackground\":true,\"ticks\":\"\",\"zerolinecolor\":\"white\"}},\"shapedefaults\":{\"line\":{\"color\":\"#2a3f5f\"}},\"ternary\":{\"aaxis\":{\"gridcolor\":\"white\",\"linecolor\":\"white\",\"ticks\":\"\"},\"baxis\":{\"gridcolor\":\"white\",\"linecolor\":\"white\",\"ticks\":\"\"},\"bgcolor\":\"#E5ECF6\",\"caxis\":{\"gridcolor\":\"white\",\"linecolor\":\"white\",\"ticks\":\"\"}},\"title\":{\"x\":0.05},\"xaxis\":{\"automargin\":true,\"gridcolor\":\"white\",\"linecolor\":\"white\",\"ticks\":\"\",\"title\":{\"standoff\":15},\"zerolinecolor\":\"white\",\"zerolinewidth\":2},\"yaxis\":{\"automargin\":true,\"gridcolor\":\"white\",\"linecolor\":\"white\",\"ticks\":\"\",\"title\":{\"standoff\":15},\"zerolinecolor\":\"white\",\"zerolinewidth\":2}}},\"xaxis\":{\"anchor\":\"y\",\"domain\":[0.0,1.0],\"title\":{\"text\":\"index\"}},\"yaxis\":{\"anchor\":\"x\",\"domain\":[0.0,1.0],\"title\":{\"text\":\"value\"}},\"legend\":{\"title\":{\"text\":\"color\"},\"tracegroupgap\":0},\"title\":{\"text\":\"Sentimientos de los tweets de la kings league jornada 6\"},\"barmode\":\"relative\"},                        {\"responsive\": true}                    ).then(function(){\n",
              "                            \n",
              "var gd = document.getElementById('1d025c7f-7f25-4bc0-b0f7-0360ffb30962');\n",
              "var x = new MutationObserver(function (mutations, observer) {{\n",
              "        var display = window.getComputedStyle(gd).display;\n",
              "        if (!display || display === 'none') {{\n",
              "            console.log([gd, 'removed!']);\n",
              "            Plotly.purge(gd);\n",
              "            observer.disconnect();\n",
              "        }}\n",
              "}});\n",
              "\n",
              "// Listen for the removal of the full notebook cells\n",
              "var notebookContainer = gd.closest('#notebook-container');\n",
              "if (notebookContainer) {{\n",
              "    x.observe(notebookContainer, {childList: true});\n",
              "}}\n",
              "\n",
              "// Listen for the clearing of the current output cell\n",
              "var outputEl = gd.closest('.output');\n",
              "if (outputEl) {{\n",
              "    x.observe(outputEl, {childList: true});\n",
              "}}\n",
              "\n",
              "                        })                };                            </script>        </div>\n",
              "</body>\n",
              "</html>"
            ]
          },
          "metadata": {}
        }
      ]
    },
    {
      "cell_type": "markdown",
      "source": [
        "#Conclusiones de el analisis de emociones\n",
        "\n",
        "Podemos concluir que hay mas comentarios negativos que positivos pero lo que mas se resalta es los comentarios neutros con una alta diferencia.\n",
        "\n",
        "\n",
        "\n",
        "1.   Neutros: 1941\n",
        "2.   Negativos: 355\n",
        "3.   Positivos: 704\n"
      ],
      "metadata": {
        "id": "bOR-adLIHjCD"
      }
    },
    {
      "cell_type": "code",
      "source": [
        "# Creamos tres sets de datos con los diferentes tipos de comentarios\n",
        "positive_tweet = dt[dt['Analysis'] == 'Positive']\n",
        "neutral_tweet = dt[dt['Analysis'] == 'Neutral']\n",
        "negative_tweet = dt[dt['Analysis'] == 'Negative']"
      ],
      "metadata": {
        "id": "Ieoq4aT-Dpb8"
      },
      "execution_count": 197,
      "outputs": []
    },
    {
      "cell_type": "code",
      "source": [
        "print(stopwords.words('spanish'))"
      ],
      "metadata": {
        "colab": {
          "base_uri": "https://localhost:8080/"
        },
        "id": "sz3HakrS7s13",
        "outputId": "b42a9051-814e-40f9-f234-9b7d95565411"
      },
      "execution_count": 198,
      "outputs": [
        {
          "output_type": "stream",
          "name": "stdout",
          "text": [
            "['de', 'la', 'que', 'el', 'en', 'y', 'a', 'los', 'del', 'se', 'las', 'por', 'un', 'para', 'con', 'no', 'una', 'su', 'al', 'lo', 'como', 'más', 'pero', 'sus', 'le', 'ya', 'o', 'este', 'sí', 'porque', 'esta', 'entre', 'cuando', 'muy', 'sin', 'sobre', 'también', 'me', 'hasta', 'hay', 'donde', 'quien', 'desde', 'todo', 'nos', 'durante', 'todos', 'uno', 'les', 'ni', 'contra', 'otros', 'ese', 'eso', 'ante', 'ellos', 'e', 'esto', 'mí', 'antes', 'algunos', 'qué', 'unos', 'yo', 'otro', 'otras', 'otra', 'él', 'tanto', 'esa', 'estos', 'mucho', 'quienes', 'nada', 'muchos', 'cual', 'poco', 'ella', 'estar', 'estas', 'algunas', 'algo', 'nosotros', 'mi', 'mis', 'tú', 'te', 'ti', 'tu', 'tus', 'ellas', 'nosotras', 'vosotros', 'vosotras', 'os', 'mío', 'mía', 'míos', 'mías', 'tuyo', 'tuya', 'tuyos', 'tuyas', 'suyo', 'suya', 'suyos', 'suyas', 'nuestro', 'nuestra', 'nuestros', 'nuestras', 'vuestro', 'vuestra', 'vuestros', 'vuestras', 'esos', 'esas', 'estoy', 'estás', 'está', 'estamos', 'estáis', 'están', 'esté', 'estés', 'estemos', 'estéis', 'estén', 'estaré', 'estarás', 'estará', 'estaremos', 'estaréis', 'estarán', 'estaría', 'estarías', 'estaríamos', 'estaríais', 'estarían', 'estaba', 'estabas', 'estábamos', 'estabais', 'estaban', 'estuve', 'estuviste', 'estuvo', 'estuvimos', 'estuvisteis', 'estuvieron', 'estuviera', 'estuvieras', 'estuviéramos', 'estuvierais', 'estuvieran', 'estuviese', 'estuvieses', 'estuviésemos', 'estuvieseis', 'estuviesen', 'estando', 'estado', 'estada', 'estados', 'estadas', 'estad', 'he', 'has', 'ha', 'hemos', 'habéis', 'han', 'haya', 'hayas', 'hayamos', 'hayáis', 'hayan', 'habré', 'habrás', 'habrá', 'habremos', 'habréis', 'habrán', 'habría', 'habrías', 'habríamos', 'habríais', 'habrían', 'había', 'habías', 'habíamos', 'habíais', 'habían', 'hube', 'hubiste', 'hubo', 'hubimos', 'hubisteis', 'hubieron', 'hubiera', 'hubieras', 'hubiéramos', 'hubierais', 'hubieran', 'hubiese', 'hubieses', 'hubiésemos', 'hubieseis', 'hubiesen', 'habiendo', 'habido', 'habida', 'habidos', 'habidas', 'soy', 'eres', 'es', 'somos', 'sois', 'son', 'sea', 'seas', 'seamos', 'seáis', 'sean', 'seré', 'serás', 'será', 'seremos', 'seréis', 'serán', 'sería', 'serías', 'seríamos', 'seríais', 'serían', 'era', 'eras', 'éramos', 'erais', 'eran', 'fui', 'fuiste', 'fue', 'fuimos', 'fuisteis', 'fueron', 'fuera', 'fueras', 'fuéramos', 'fuerais', 'fueran', 'fuese', 'fueses', 'fuésemos', 'fueseis', 'fuesen', 'sintiendo', 'sentido', 'sentida', 'sentidos', 'sentidas', 'siente', 'sentid', 'tengo', 'tienes', 'tiene', 'tenemos', 'tenéis', 'tienen', 'tenga', 'tengas', 'tengamos', 'tengáis', 'tengan', 'tendré', 'tendrás', 'tendrá', 'tendremos', 'tendréis', 'tendrán', 'tendría', 'tendrías', 'tendríamos', 'tendríais', 'tendrían', 'tenía', 'tenías', 'teníamos', 'teníais', 'tenían', 'tuve', 'tuviste', 'tuvo', 'tuvimos', 'tuvisteis', 'tuvieron', 'tuviera', 'tuvieras', 'tuviéramos', 'tuvierais', 'tuvieran', 'tuviese', 'tuvieses', 'tuviésemos', 'tuvieseis', 'tuviesen', 'teniendo', 'tenido', 'tenida', 'tenidos', 'tenidas', 'tened']\n"
          ]
        }
      ]
    },
    {
      "cell_type": "code",
      "source": [
        "#Eliminamos las preposiciones, adverbios y adjetivos\n",
        "def textdrop(text):\n",
        "\n",
        "  sw = stopwords.words('spanish')\n",
        "\n",
        "  text = [word.lower() for word in text.split() if word.lower() not in sw]\n",
        "\n",
        "  return \" \".join(text)"
      ],
      "metadata": {
        "id": "WZj84QNy7v_A"
      },
      "execution_count": 199,
      "outputs": []
    },
    {
      "cell_type": "code",
      "source": [
        "positive_tweet['Tweet'] = positive_tweet['Tweet'].apply(textdrop)\n",
        "neutral_tweet['Tweet'] = neutral_tweet['Tweet'].apply(textdrop)\n",
        "negative_tweet['Tweet'] = negative_tweet['Tweet'].apply(textdrop)"
      ],
      "metadata": {
        "id": "T4SixBD17zFP"
      },
      "execution_count": null,
      "outputs": []
    },
    {
      "cell_type": "code",
      "source": [
        "tokenPositive = positive_tweet['Tweet']\n",
        "tokenNeutral = neutral_tweet['Tweet']\n",
        "tokenNegative = negative_tweet['Tweet']"
      ],
      "metadata": {
        "id": "TeDeNcms76t_"
      },
      "execution_count": 201,
      "outputs": []
    },
    {
      "cell_type": "code",
      "source": [
        "#Tokenizamos los tweets\n",
        "pos_tokens = [token for line in tokenPositive  for token in line.split()]\n",
        "neut_tokens = [token for line in tokenNeutral  for token in line.split()]\n",
        "neg_tokens = [token for line in tokenNegative  for token in line.split()]"
      ],
      "metadata": {
        "id": "IVYN9w3I79u3"
      },
      "execution_count": 217,
      "outputs": []
    },
    {
      "cell_type": "code",
      "source": [
        "word_pos = get_tokens(pos_tokens)\n",
        "word_neu = get_tokens(neut_tokens)\n",
        "word_neg = get_tokens(neg_tokens)"
      ],
      "metadata": {
        "id": "Y6TlueZK8Buj"
      },
      "execution_count": 218,
      "outputs": []
    },
    {
      "cell_type": "code",
      "source": [
        "word_neu"
      ],
      "metadata": {
        "id": "pLhHJA8rEGvQ"
      },
      "execution_count": null,
      "outputs": []
    },
    {
      "cell_type": "code",
      "source": [
        "#Creamos 3 sets de datos con las palabras y el contador \n",
        "pos_df = pd.DataFrame(word_pos.items(),columns=['words','scores'])\n",
        "neut_df = pd.DataFrame(word_neu.items(),columns=['words','scores'])\n",
        "neg_df = pd.DataFrame(word_neg.items(),columns=['words','scores'])"
      ],
      "metadata": {
        "id": "Yikm6Zy68F9_"
      },
      "execution_count": 220,
      "outputs": []
    },
    {
      "cell_type": "code",
      "source": [
        "fig = px.bar(data, title=\"Palabras mas usadas en los tweets positivos de la kings league\",x=pos_df['words'], y=pos_df['scores'])\n",
        "fig.show()"
      ],
      "metadata": {
        "colab": {
          "base_uri": "https://localhost:8080/",
          "height": 542
        },
        "id": "bx8Tv9mR8JXn",
        "outputId": "eb375226-33eb-4bab-d65c-df2aa1a4f11b"
      },
      "execution_count": 224,
      "outputs": [
        {
          "output_type": "display_data",
          "data": {
            "text/html": [
              "<html>\n",
              "<head><meta charset=\"utf-8\" /></head>\n",
              "<body>\n",
              "    <div>            <script src=\"https://cdnjs.cloudflare.com/ajax/libs/mathjax/2.7.5/MathJax.js?config=TeX-AMS-MML_SVG\"></script><script type=\"text/javascript\">if (window.MathJax) {MathJax.Hub.Config({SVG: {font: \"STIX-Web\"}});}</script>                <script type=\"text/javascript\">window.PlotlyConfig = {MathJaxConfig: 'local'};</script>\n",
              "        <script src=\"https://cdn.plot.ly/plotly-2.8.3.min.js\"></script>                <div id=\"5c56cc78-3f62-49a1-a2dd-9ecc1d619477\" class=\"plotly-graph-div\" style=\"height:525px; width:100%;\"></div>            <script type=\"text/javascript\">                                    window.PLOTLYENV=window.PLOTLYENV || {};                                    if (document.getElementById(\"5c56cc78-3f62-49a1-a2dd-9ecc1d619477\")) {                    Plotly.newPlot(                        \"5c56cc78-3f62-49a1-a2dd-9ecc1d619477\",                        [{\"alignmentgroup\":\"True\",\"hovertemplate\":\"x=%{x}<br>y=%{y}<extra></extra>\",\"legendgroup\":\"\",\"marker\":{\"color\":\"#636efa\",\"pattern\":{\"shape\":\"\"}},\"name\":\"\",\"offsetgroup\":\"\",\"orientation\":\"v\",\"showlegend\":false,\"textposition\":\"auto\",\"x\":[\"kingsleague\",\"piofc\",\"jijantesfc\",\"aaronrv\",\"ms\",\"porcinosfc\",\"si\",\"gerardpique\",\"mejor\",\"equipo\",\"lostroncosfc\",\"partido\",\"djmariio\",\"hoy\",\"aniquiladoresfc\",\"xbuyerteam\",\"kunisport\",\"elbarrioklk\",\"ibaillanos\",\"liga\",\"vamos\",\"pio\",\"cichero\",\"est\",\"mas\",\"jajaja\",\"bueno\",\"victoria\",\"perxitaa\",\"krcpetit\",\"bien\",\"gana\",\"gerardromero\",\"franjhg\",\"directo\",\"ver\",\"vs\",\"as\",\"qu\",\"va\"],\"xaxis\":\"x\",\"y\":[698,157,151,112,89,81,70,58,55,47,45,42,37,36,36,35,35,35,32,30,30,30,29,29,29,28,28,28,28,28,27,26,26,25,25,25,24,24,24,23],\"yaxis\":\"y\",\"type\":\"bar\"}],                        {\"template\":{\"data\":{\"bar\":[{\"error_x\":{\"color\":\"#2a3f5f\"},\"error_y\":{\"color\":\"#2a3f5f\"},\"marker\":{\"line\":{\"color\":\"#E5ECF6\",\"width\":0.5},\"pattern\":{\"fillmode\":\"overlay\",\"size\":10,\"solidity\":0.2}},\"type\":\"bar\"}],\"barpolar\":[{\"marker\":{\"line\":{\"color\":\"#E5ECF6\",\"width\":0.5},\"pattern\":{\"fillmode\":\"overlay\",\"size\":10,\"solidity\":0.2}},\"type\":\"barpolar\"}],\"carpet\":[{\"aaxis\":{\"endlinecolor\":\"#2a3f5f\",\"gridcolor\":\"white\",\"linecolor\":\"white\",\"minorgridcolor\":\"white\",\"startlinecolor\":\"#2a3f5f\"},\"baxis\":{\"endlinecolor\":\"#2a3f5f\",\"gridcolor\":\"white\",\"linecolor\":\"white\",\"minorgridcolor\":\"white\",\"startlinecolor\":\"#2a3f5f\"},\"type\":\"carpet\"}],\"choropleth\":[{\"colorbar\":{\"outlinewidth\":0,\"ticks\":\"\"},\"type\":\"choropleth\"}],\"contour\":[{\"colorbar\":{\"outlinewidth\":0,\"ticks\":\"\"},\"colorscale\":[[0.0,\"#0d0887\"],[0.1111111111111111,\"#46039f\"],[0.2222222222222222,\"#7201a8\"],[0.3333333333333333,\"#9c179e\"],[0.4444444444444444,\"#bd3786\"],[0.5555555555555556,\"#d8576b\"],[0.6666666666666666,\"#ed7953\"],[0.7777777777777778,\"#fb9f3a\"],[0.8888888888888888,\"#fdca26\"],[1.0,\"#f0f921\"]],\"type\":\"contour\"}],\"contourcarpet\":[{\"colorbar\":{\"outlinewidth\":0,\"ticks\":\"\"},\"type\":\"contourcarpet\"}],\"heatmap\":[{\"colorbar\":{\"outlinewidth\":0,\"ticks\":\"\"},\"colorscale\":[[0.0,\"#0d0887\"],[0.1111111111111111,\"#46039f\"],[0.2222222222222222,\"#7201a8\"],[0.3333333333333333,\"#9c179e\"],[0.4444444444444444,\"#bd3786\"],[0.5555555555555556,\"#d8576b\"],[0.6666666666666666,\"#ed7953\"],[0.7777777777777778,\"#fb9f3a\"],[0.8888888888888888,\"#fdca26\"],[1.0,\"#f0f921\"]],\"type\":\"heatmap\"}],\"heatmapgl\":[{\"colorbar\":{\"outlinewidth\":0,\"ticks\":\"\"},\"colorscale\":[[0.0,\"#0d0887\"],[0.1111111111111111,\"#46039f\"],[0.2222222222222222,\"#7201a8\"],[0.3333333333333333,\"#9c179e\"],[0.4444444444444444,\"#bd3786\"],[0.5555555555555556,\"#d8576b\"],[0.6666666666666666,\"#ed7953\"],[0.7777777777777778,\"#fb9f3a\"],[0.8888888888888888,\"#fdca26\"],[1.0,\"#f0f921\"]],\"type\":\"heatmapgl\"}],\"histogram\":[{\"marker\":{\"pattern\":{\"fillmode\":\"overlay\",\"size\":10,\"solidity\":0.2}},\"type\":\"histogram\"}],\"histogram2d\":[{\"colorbar\":{\"outlinewidth\":0,\"ticks\":\"\"},\"colorscale\":[[0.0,\"#0d0887\"],[0.1111111111111111,\"#46039f\"],[0.2222222222222222,\"#7201a8\"],[0.3333333333333333,\"#9c179e\"],[0.4444444444444444,\"#bd3786\"],[0.5555555555555556,\"#d8576b\"],[0.6666666666666666,\"#ed7953\"],[0.7777777777777778,\"#fb9f3a\"],[0.8888888888888888,\"#fdca26\"],[1.0,\"#f0f921\"]],\"type\":\"histogram2d\"}],\"histogram2dcontour\":[{\"colorbar\":{\"outlinewidth\":0,\"ticks\":\"\"},\"colorscale\":[[0.0,\"#0d0887\"],[0.1111111111111111,\"#46039f\"],[0.2222222222222222,\"#7201a8\"],[0.3333333333333333,\"#9c179e\"],[0.4444444444444444,\"#bd3786\"],[0.5555555555555556,\"#d8576b\"],[0.6666666666666666,\"#ed7953\"],[0.7777777777777778,\"#fb9f3a\"],[0.8888888888888888,\"#fdca26\"],[1.0,\"#f0f921\"]],\"type\":\"histogram2dcontour\"}],\"mesh3d\":[{\"colorbar\":{\"outlinewidth\":0,\"ticks\":\"\"},\"type\":\"mesh3d\"}],\"parcoords\":[{\"line\":{\"colorbar\":{\"outlinewidth\":0,\"ticks\":\"\"}},\"type\":\"parcoords\"}],\"pie\":[{\"automargin\":true,\"type\":\"pie\"}],\"scatter\":[{\"marker\":{\"colorbar\":{\"outlinewidth\":0,\"ticks\":\"\"}},\"type\":\"scatter\"}],\"scatter3d\":[{\"line\":{\"colorbar\":{\"outlinewidth\":0,\"ticks\":\"\"}},\"marker\":{\"colorbar\":{\"outlinewidth\":0,\"ticks\":\"\"}},\"type\":\"scatter3d\"}],\"scattercarpet\":[{\"marker\":{\"colorbar\":{\"outlinewidth\":0,\"ticks\":\"\"}},\"type\":\"scattercarpet\"}],\"scattergeo\":[{\"marker\":{\"colorbar\":{\"outlinewidth\":0,\"ticks\":\"\"}},\"type\":\"scattergeo\"}],\"scattergl\":[{\"marker\":{\"colorbar\":{\"outlinewidth\":0,\"ticks\":\"\"}},\"type\":\"scattergl\"}],\"scattermapbox\":[{\"marker\":{\"colorbar\":{\"outlinewidth\":0,\"ticks\":\"\"}},\"type\":\"scattermapbox\"}],\"scatterpolar\":[{\"marker\":{\"colorbar\":{\"outlinewidth\":0,\"ticks\":\"\"}},\"type\":\"scatterpolar\"}],\"scatterpolargl\":[{\"marker\":{\"colorbar\":{\"outlinewidth\":0,\"ticks\":\"\"}},\"type\":\"scatterpolargl\"}],\"scatterternary\":[{\"marker\":{\"colorbar\":{\"outlinewidth\":0,\"ticks\":\"\"}},\"type\":\"scatterternary\"}],\"surface\":[{\"colorbar\":{\"outlinewidth\":0,\"ticks\":\"\"},\"colorscale\":[[0.0,\"#0d0887\"],[0.1111111111111111,\"#46039f\"],[0.2222222222222222,\"#7201a8\"],[0.3333333333333333,\"#9c179e\"],[0.4444444444444444,\"#bd3786\"],[0.5555555555555556,\"#d8576b\"],[0.6666666666666666,\"#ed7953\"],[0.7777777777777778,\"#fb9f3a\"],[0.8888888888888888,\"#fdca26\"],[1.0,\"#f0f921\"]],\"type\":\"surface\"}],\"table\":[{\"cells\":{\"fill\":{\"color\":\"#EBF0F8\"},\"line\":{\"color\":\"white\"}},\"header\":{\"fill\":{\"color\":\"#C8D4E3\"},\"line\":{\"color\":\"white\"}},\"type\":\"table\"}]},\"layout\":{\"annotationdefaults\":{\"arrowcolor\":\"#2a3f5f\",\"arrowhead\":0,\"arrowwidth\":1},\"autotypenumbers\":\"strict\",\"coloraxis\":{\"colorbar\":{\"outlinewidth\":0,\"ticks\":\"\"}},\"colorscale\":{\"diverging\":[[0,\"#8e0152\"],[0.1,\"#c51b7d\"],[0.2,\"#de77ae\"],[0.3,\"#f1b6da\"],[0.4,\"#fde0ef\"],[0.5,\"#f7f7f7\"],[0.6,\"#e6f5d0\"],[0.7,\"#b8e186\"],[0.8,\"#7fbc41\"],[0.9,\"#4d9221\"],[1,\"#276419\"]],\"sequential\":[[0.0,\"#0d0887\"],[0.1111111111111111,\"#46039f\"],[0.2222222222222222,\"#7201a8\"],[0.3333333333333333,\"#9c179e\"],[0.4444444444444444,\"#bd3786\"],[0.5555555555555556,\"#d8576b\"],[0.6666666666666666,\"#ed7953\"],[0.7777777777777778,\"#fb9f3a\"],[0.8888888888888888,\"#fdca26\"],[1.0,\"#f0f921\"]],\"sequentialminus\":[[0.0,\"#0d0887\"],[0.1111111111111111,\"#46039f\"],[0.2222222222222222,\"#7201a8\"],[0.3333333333333333,\"#9c179e\"],[0.4444444444444444,\"#bd3786\"],[0.5555555555555556,\"#d8576b\"],[0.6666666666666666,\"#ed7953\"],[0.7777777777777778,\"#fb9f3a\"],[0.8888888888888888,\"#fdca26\"],[1.0,\"#f0f921\"]]},\"colorway\":[\"#636efa\",\"#EF553B\",\"#00cc96\",\"#ab63fa\",\"#FFA15A\",\"#19d3f3\",\"#FF6692\",\"#B6E880\",\"#FF97FF\",\"#FECB52\"],\"font\":{\"color\":\"#2a3f5f\"},\"geo\":{\"bgcolor\":\"white\",\"lakecolor\":\"white\",\"landcolor\":\"#E5ECF6\",\"showlakes\":true,\"showland\":true,\"subunitcolor\":\"white\"},\"hoverlabel\":{\"align\":\"left\"},\"hovermode\":\"closest\",\"mapbox\":{\"style\":\"light\"},\"paper_bgcolor\":\"white\",\"plot_bgcolor\":\"#E5ECF6\",\"polar\":{\"angularaxis\":{\"gridcolor\":\"white\",\"linecolor\":\"white\",\"ticks\":\"\"},\"bgcolor\":\"#E5ECF6\",\"radialaxis\":{\"gridcolor\":\"white\",\"linecolor\":\"white\",\"ticks\":\"\"}},\"scene\":{\"xaxis\":{\"backgroundcolor\":\"#E5ECF6\",\"gridcolor\":\"white\",\"gridwidth\":2,\"linecolor\":\"white\",\"showbackground\":true,\"ticks\":\"\",\"zerolinecolor\":\"white\"},\"yaxis\":{\"backgroundcolor\":\"#E5ECF6\",\"gridcolor\":\"white\",\"gridwidth\":2,\"linecolor\":\"white\",\"showbackground\":true,\"ticks\":\"\",\"zerolinecolor\":\"white\"},\"zaxis\":{\"backgroundcolor\":\"#E5ECF6\",\"gridcolor\":\"white\",\"gridwidth\":2,\"linecolor\":\"white\",\"showbackground\":true,\"ticks\":\"\",\"zerolinecolor\":\"white\"}},\"shapedefaults\":{\"line\":{\"color\":\"#2a3f5f\"}},\"ternary\":{\"aaxis\":{\"gridcolor\":\"white\",\"linecolor\":\"white\",\"ticks\":\"\"},\"baxis\":{\"gridcolor\":\"white\",\"linecolor\":\"white\",\"ticks\":\"\"},\"bgcolor\":\"#E5ECF6\",\"caxis\":{\"gridcolor\":\"white\",\"linecolor\":\"white\",\"ticks\":\"\"}},\"title\":{\"x\":0.05},\"xaxis\":{\"automargin\":true,\"gridcolor\":\"white\",\"linecolor\":\"white\",\"ticks\":\"\",\"title\":{\"standoff\":15},\"zerolinecolor\":\"white\",\"zerolinewidth\":2},\"yaxis\":{\"automargin\":true,\"gridcolor\":\"white\",\"linecolor\":\"white\",\"ticks\":\"\",\"title\":{\"standoff\":15},\"zerolinecolor\":\"white\",\"zerolinewidth\":2}}},\"xaxis\":{\"anchor\":\"y\",\"domain\":[0.0,1.0],\"title\":{\"text\":\"x\"}},\"yaxis\":{\"anchor\":\"x\",\"domain\":[0.0,1.0],\"title\":{\"text\":\"y\"}},\"legend\":{\"tracegroupgap\":0},\"title\":{\"text\":\"Palabras mas usadas en los tweets positivos de la kings league\"},\"barmode\":\"relative\"},                        {\"responsive\": true}                    ).then(function(){\n",
              "                            \n",
              "var gd = document.getElementById('5c56cc78-3f62-49a1-a2dd-9ecc1d619477');\n",
              "var x = new MutationObserver(function (mutations, observer) {{\n",
              "        var display = window.getComputedStyle(gd).display;\n",
              "        if (!display || display === 'none') {{\n",
              "            console.log([gd, 'removed!']);\n",
              "            Plotly.purge(gd);\n",
              "            observer.disconnect();\n",
              "        }}\n",
              "}});\n",
              "\n",
              "// Listen for the removal of the full notebook cells\n",
              "var notebookContainer = gd.closest('#notebook-container');\n",
              "if (notebookContainer) {{\n",
              "    x.observe(notebookContainer, {childList: true});\n",
              "}}\n",
              "\n",
              "// Listen for the clearing of the current output cell\n",
              "var outputEl = gd.closest('.output');\n",
              "if (outputEl) {{\n",
              "    x.observe(outputEl, {childList: true});\n",
              "}}\n",
              "\n",
              "                        })                };                            </script>        </div>\n",
              "</body>\n",
              "</html>"
            ]
          },
          "metadata": {}
        }
      ]
    },
    {
      "cell_type": "code",
      "source": [
        "fig = px.bar(data, title=\"Palabras mas usadas en los tweets negativos de la kings league\",x=neg_df['words'], y=neg_df['scores'])\n",
        "fig.show()"
      ],
      "metadata": {
        "colab": {
          "base_uri": "https://localhost:8080/",
          "height": 542
        },
        "id": "wOYTAA2o8ZJe",
        "outputId": "578e3817-c0fc-4948-a916-7dce7450f17d"
      },
      "execution_count": 223,
      "outputs": [
        {
          "output_type": "display_data",
          "data": {
            "text/html": [
              "<html>\n",
              "<head><meta charset=\"utf-8\" /></head>\n",
              "<body>\n",
              "    <div>            <script src=\"https://cdnjs.cloudflare.com/ajax/libs/mathjax/2.7.5/MathJax.js?config=TeX-AMS-MML_SVG\"></script><script type=\"text/javascript\">if (window.MathJax) {MathJax.Hub.Config({SVG: {font: \"STIX-Web\"}});}</script>                <script type=\"text/javascript\">window.PlotlyConfig = {MathJaxConfig: 'local'};</script>\n",
              "        <script src=\"https://cdn.plot.ly/plotly-2.8.3.min.js\"></script>                <div id=\"f40e2c93-31b0-4577-bbc0-aa4893ffb4b1\" class=\"plotly-graph-div\" style=\"height:525px; width:100%;\"></div>            <script type=\"text/javascript\">                                    window.PLOTLYENV=window.PLOTLYENV || {};                                    if (document.getElementById(\"f40e2c93-31b0-4577-bbc0-aa4893ffb4b1\")) {                    Plotly.newPlot(                        \"f40e2c93-31b0-4577-bbc0-aa4893ffb4b1\",                        [{\"alignmentgroup\":\"True\",\"hovertemplate\":\"x=%{x}<br>y=%{y}<extra></extra>\",\"legendgroup\":\"\",\"marker\":{\"color\":\"#636efa\",\"pattern\":{\"shape\":\"\"}},\"name\":\"\",\"offsetgroup\":\"\",\"orientation\":\"v\",\"showlegend\":false,\"textposition\":\"auto\",\"x\":[\"kingsleague\",\"jijantesfc\",\"piofc\",\"aaronrv\",\"si\",\"gerardpique\",\"porcinosfc\",\"mal\",\"partido\",\"equipo\",\"krcpetit\",\"xbuyerteam\",\"solo\",\"cichero\",\"gerard\",\"malo\",\"jijantes\",\"djmariio\",\"aniquiladoresfc\",\"kunisport\",\"peor\",\"lostroncosfc\",\"pio\",\"ftbol\",\"hace\",\"q\",\"gerardromero\",\"carta\",\"menos\",\"tan\",\"mierda\",\"ver\",\"puede\",\"da\",\"as\",\"tiempo\",\"elbarrioklk\",\"creo\",\"ser\",\"hacer\"],\"xaxis\":\"x\",\"y\":[357,88,78,59,41,38,37,37,33,27,25,23,20,20,20,20,19,19,19,19,17,17,16,15,15,15,15,15,14,14,14,14,14,14,14,13,13,12,11,11],\"yaxis\":\"y\",\"type\":\"bar\"}],                        {\"template\":{\"data\":{\"bar\":[{\"error_x\":{\"color\":\"#2a3f5f\"},\"error_y\":{\"color\":\"#2a3f5f\"},\"marker\":{\"line\":{\"color\":\"#E5ECF6\",\"width\":0.5},\"pattern\":{\"fillmode\":\"overlay\",\"size\":10,\"solidity\":0.2}},\"type\":\"bar\"}],\"barpolar\":[{\"marker\":{\"line\":{\"color\":\"#E5ECF6\",\"width\":0.5},\"pattern\":{\"fillmode\":\"overlay\",\"size\":10,\"solidity\":0.2}},\"type\":\"barpolar\"}],\"carpet\":[{\"aaxis\":{\"endlinecolor\":\"#2a3f5f\",\"gridcolor\":\"white\",\"linecolor\":\"white\",\"minorgridcolor\":\"white\",\"startlinecolor\":\"#2a3f5f\"},\"baxis\":{\"endlinecolor\":\"#2a3f5f\",\"gridcolor\":\"white\",\"linecolor\":\"white\",\"minorgridcolor\":\"white\",\"startlinecolor\":\"#2a3f5f\"},\"type\":\"carpet\"}],\"choropleth\":[{\"colorbar\":{\"outlinewidth\":0,\"ticks\":\"\"},\"type\":\"choropleth\"}],\"contour\":[{\"colorbar\":{\"outlinewidth\":0,\"ticks\":\"\"},\"colorscale\":[[0.0,\"#0d0887\"],[0.1111111111111111,\"#46039f\"],[0.2222222222222222,\"#7201a8\"],[0.3333333333333333,\"#9c179e\"],[0.4444444444444444,\"#bd3786\"],[0.5555555555555556,\"#d8576b\"],[0.6666666666666666,\"#ed7953\"],[0.7777777777777778,\"#fb9f3a\"],[0.8888888888888888,\"#fdca26\"],[1.0,\"#f0f921\"]],\"type\":\"contour\"}],\"contourcarpet\":[{\"colorbar\":{\"outlinewidth\":0,\"ticks\":\"\"},\"type\":\"contourcarpet\"}],\"heatmap\":[{\"colorbar\":{\"outlinewidth\":0,\"ticks\":\"\"},\"colorscale\":[[0.0,\"#0d0887\"],[0.1111111111111111,\"#46039f\"],[0.2222222222222222,\"#7201a8\"],[0.3333333333333333,\"#9c179e\"],[0.4444444444444444,\"#bd3786\"],[0.5555555555555556,\"#d8576b\"],[0.6666666666666666,\"#ed7953\"],[0.7777777777777778,\"#fb9f3a\"],[0.8888888888888888,\"#fdca26\"],[1.0,\"#f0f921\"]],\"type\":\"heatmap\"}],\"heatmapgl\":[{\"colorbar\":{\"outlinewidth\":0,\"ticks\":\"\"},\"colorscale\":[[0.0,\"#0d0887\"],[0.1111111111111111,\"#46039f\"],[0.2222222222222222,\"#7201a8\"],[0.3333333333333333,\"#9c179e\"],[0.4444444444444444,\"#bd3786\"],[0.5555555555555556,\"#d8576b\"],[0.6666666666666666,\"#ed7953\"],[0.7777777777777778,\"#fb9f3a\"],[0.8888888888888888,\"#fdca26\"],[1.0,\"#f0f921\"]],\"type\":\"heatmapgl\"}],\"histogram\":[{\"marker\":{\"pattern\":{\"fillmode\":\"overlay\",\"size\":10,\"solidity\":0.2}},\"type\":\"histogram\"}],\"histogram2d\":[{\"colorbar\":{\"outlinewidth\":0,\"ticks\":\"\"},\"colorscale\":[[0.0,\"#0d0887\"],[0.1111111111111111,\"#46039f\"],[0.2222222222222222,\"#7201a8\"],[0.3333333333333333,\"#9c179e\"],[0.4444444444444444,\"#bd3786\"],[0.5555555555555556,\"#d8576b\"],[0.6666666666666666,\"#ed7953\"],[0.7777777777777778,\"#fb9f3a\"],[0.8888888888888888,\"#fdca26\"],[1.0,\"#f0f921\"]],\"type\":\"histogram2d\"}],\"histogram2dcontour\":[{\"colorbar\":{\"outlinewidth\":0,\"ticks\":\"\"},\"colorscale\":[[0.0,\"#0d0887\"],[0.1111111111111111,\"#46039f\"],[0.2222222222222222,\"#7201a8\"],[0.3333333333333333,\"#9c179e\"],[0.4444444444444444,\"#bd3786\"],[0.5555555555555556,\"#d8576b\"],[0.6666666666666666,\"#ed7953\"],[0.7777777777777778,\"#fb9f3a\"],[0.8888888888888888,\"#fdca26\"],[1.0,\"#f0f921\"]],\"type\":\"histogram2dcontour\"}],\"mesh3d\":[{\"colorbar\":{\"outlinewidth\":0,\"ticks\":\"\"},\"type\":\"mesh3d\"}],\"parcoords\":[{\"line\":{\"colorbar\":{\"outlinewidth\":0,\"ticks\":\"\"}},\"type\":\"parcoords\"}],\"pie\":[{\"automargin\":true,\"type\":\"pie\"}],\"scatter\":[{\"marker\":{\"colorbar\":{\"outlinewidth\":0,\"ticks\":\"\"}},\"type\":\"scatter\"}],\"scatter3d\":[{\"line\":{\"colorbar\":{\"outlinewidth\":0,\"ticks\":\"\"}},\"marker\":{\"colorbar\":{\"outlinewidth\":0,\"ticks\":\"\"}},\"type\":\"scatter3d\"}],\"scattercarpet\":[{\"marker\":{\"colorbar\":{\"outlinewidth\":0,\"ticks\":\"\"}},\"type\":\"scattercarpet\"}],\"scattergeo\":[{\"marker\":{\"colorbar\":{\"outlinewidth\":0,\"ticks\":\"\"}},\"type\":\"scattergeo\"}],\"scattergl\":[{\"marker\":{\"colorbar\":{\"outlinewidth\":0,\"ticks\":\"\"}},\"type\":\"scattergl\"}],\"scattermapbox\":[{\"marker\":{\"colorbar\":{\"outlinewidth\":0,\"ticks\":\"\"}},\"type\":\"scattermapbox\"}],\"scatterpolar\":[{\"marker\":{\"colorbar\":{\"outlinewidth\":0,\"ticks\":\"\"}},\"type\":\"scatterpolar\"}],\"scatterpolargl\":[{\"marker\":{\"colorbar\":{\"outlinewidth\":0,\"ticks\":\"\"}},\"type\":\"scatterpolargl\"}],\"scatterternary\":[{\"marker\":{\"colorbar\":{\"outlinewidth\":0,\"ticks\":\"\"}},\"type\":\"scatterternary\"}],\"surface\":[{\"colorbar\":{\"outlinewidth\":0,\"ticks\":\"\"},\"colorscale\":[[0.0,\"#0d0887\"],[0.1111111111111111,\"#46039f\"],[0.2222222222222222,\"#7201a8\"],[0.3333333333333333,\"#9c179e\"],[0.4444444444444444,\"#bd3786\"],[0.5555555555555556,\"#d8576b\"],[0.6666666666666666,\"#ed7953\"],[0.7777777777777778,\"#fb9f3a\"],[0.8888888888888888,\"#fdca26\"],[1.0,\"#f0f921\"]],\"type\":\"surface\"}],\"table\":[{\"cells\":{\"fill\":{\"color\":\"#EBF0F8\"},\"line\":{\"color\":\"white\"}},\"header\":{\"fill\":{\"color\":\"#C8D4E3\"},\"line\":{\"color\":\"white\"}},\"type\":\"table\"}]},\"layout\":{\"annotationdefaults\":{\"arrowcolor\":\"#2a3f5f\",\"arrowhead\":0,\"arrowwidth\":1},\"autotypenumbers\":\"strict\",\"coloraxis\":{\"colorbar\":{\"outlinewidth\":0,\"ticks\":\"\"}},\"colorscale\":{\"diverging\":[[0,\"#8e0152\"],[0.1,\"#c51b7d\"],[0.2,\"#de77ae\"],[0.3,\"#f1b6da\"],[0.4,\"#fde0ef\"],[0.5,\"#f7f7f7\"],[0.6,\"#e6f5d0\"],[0.7,\"#b8e186\"],[0.8,\"#7fbc41\"],[0.9,\"#4d9221\"],[1,\"#276419\"]],\"sequential\":[[0.0,\"#0d0887\"],[0.1111111111111111,\"#46039f\"],[0.2222222222222222,\"#7201a8\"],[0.3333333333333333,\"#9c179e\"],[0.4444444444444444,\"#bd3786\"],[0.5555555555555556,\"#d8576b\"],[0.6666666666666666,\"#ed7953\"],[0.7777777777777778,\"#fb9f3a\"],[0.8888888888888888,\"#fdca26\"],[1.0,\"#f0f921\"]],\"sequentialminus\":[[0.0,\"#0d0887\"],[0.1111111111111111,\"#46039f\"],[0.2222222222222222,\"#7201a8\"],[0.3333333333333333,\"#9c179e\"],[0.4444444444444444,\"#bd3786\"],[0.5555555555555556,\"#d8576b\"],[0.6666666666666666,\"#ed7953\"],[0.7777777777777778,\"#fb9f3a\"],[0.8888888888888888,\"#fdca26\"],[1.0,\"#f0f921\"]]},\"colorway\":[\"#636efa\",\"#EF553B\",\"#00cc96\",\"#ab63fa\",\"#FFA15A\",\"#19d3f3\",\"#FF6692\",\"#B6E880\",\"#FF97FF\",\"#FECB52\"],\"font\":{\"color\":\"#2a3f5f\"},\"geo\":{\"bgcolor\":\"white\",\"lakecolor\":\"white\",\"landcolor\":\"#E5ECF6\",\"showlakes\":true,\"showland\":true,\"subunitcolor\":\"white\"},\"hoverlabel\":{\"align\":\"left\"},\"hovermode\":\"closest\",\"mapbox\":{\"style\":\"light\"},\"paper_bgcolor\":\"white\",\"plot_bgcolor\":\"#E5ECF6\",\"polar\":{\"angularaxis\":{\"gridcolor\":\"white\",\"linecolor\":\"white\",\"ticks\":\"\"},\"bgcolor\":\"#E5ECF6\",\"radialaxis\":{\"gridcolor\":\"white\",\"linecolor\":\"white\",\"ticks\":\"\"}},\"scene\":{\"xaxis\":{\"backgroundcolor\":\"#E5ECF6\",\"gridcolor\":\"white\",\"gridwidth\":2,\"linecolor\":\"white\",\"showbackground\":true,\"ticks\":\"\",\"zerolinecolor\":\"white\"},\"yaxis\":{\"backgroundcolor\":\"#E5ECF6\",\"gridcolor\":\"white\",\"gridwidth\":2,\"linecolor\":\"white\",\"showbackground\":true,\"ticks\":\"\",\"zerolinecolor\":\"white\"},\"zaxis\":{\"backgroundcolor\":\"#E5ECF6\",\"gridcolor\":\"white\",\"gridwidth\":2,\"linecolor\":\"white\",\"showbackground\":true,\"ticks\":\"\",\"zerolinecolor\":\"white\"}},\"shapedefaults\":{\"line\":{\"color\":\"#2a3f5f\"}},\"ternary\":{\"aaxis\":{\"gridcolor\":\"white\",\"linecolor\":\"white\",\"ticks\":\"\"},\"baxis\":{\"gridcolor\":\"white\",\"linecolor\":\"white\",\"ticks\":\"\"},\"bgcolor\":\"#E5ECF6\",\"caxis\":{\"gridcolor\":\"white\",\"linecolor\":\"white\",\"ticks\":\"\"}},\"title\":{\"x\":0.05},\"xaxis\":{\"automargin\":true,\"gridcolor\":\"white\",\"linecolor\":\"white\",\"ticks\":\"\",\"title\":{\"standoff\":15},\"zerolinecolor\":\"white\",\"zerolinewidth\":2},\"yaxis\":{\"automargin\":true,\"gridcolor\":\"white\",\"linecolor\":\"white\",\"ticks\":\"\",\"title\":{\"standoff\":15},\"zerolinecolor\":\"white\",\"zerolinewidth\":2}}},\"xaxis\":{\"anchor\":\"y\",\"domain\":[0.0,1.0],\"title\":{\"text\":\"x\"}},\"yaxis\":{\"anchor\":\"x\",\"domain\":[0.0,1.0],\"title\":{\"text\":\"y\"}},\"legend\":{\"tracegroupgap\":0},\"title\":{\"text\":\"Palabras mas usadas en los tweets negativos de la kings league\"},\"barmode\":\"relative\"},                        {\"responsive\": true}                    ).then(function(){\n",
              "                            \n",
              "var gd = document.getElementById('f40e2c93-31b0-4577-bbc0-aa4893ffb4b1');\n",
              "var x = new MutationObserver(function (mutations, observer) {{\n",
              "        var display = window.getComputedStyle(gd).display;\n",
              "        if (!display || display === 'none') {{\n",
              "            console.log([gd, 'removed!']);\n",
              "            Plotly.purge(gd);\n",
              "            observer.disconnect();\n",
              "        }}\n",
              "}});\n",
              "\n",
              "// Listen for the removal of the full notebook cells\n",
              "var notebookContainer = gd.closest('#notebook-container');\n",
              "if (notebookContainer) {{\n",
              "    x.observe(notebookContainer, {childList: true});\n",
              "}}\n",
              "\n",
              "// Listen for the clearing of the current output cell\n",
              "var outputEl = gd.closest('.output');\n",
              "if (outputEl) {{\n",
              "    x.observe(outputEl, {childList: true});\n",
              "}}\n",
              "\n",
              "                        })                };                            </script>        </div>\n",
              "</body>\n",
              "</html>"
            ]
          },
          "metadata": {}
        }
      ]
    },
    {
      "cell_type": "markdown",
      "source": [
        "#Conclusiones de la tokenzacion\n",
        "\n",
        "Podemos observar que en los tweets positivos las palabras claves que se repiten comunmente es:\n",
        "\n",
        "*   KingsLeague\n",
        "*   PioFc\n",
        "*   JijanteFc\n",
        "*   aaronrv\n",
        "\n",
        "En los tweets negativo los mas resaltantes son:\n",
        "\n",
        "*   KingsLeague\n",
        "*   JijantesFc\n",
        "*   PioFc\n",
        "*   DjMario"
      ],
      "metadata": {
        "id": "jDoXJ2KMH2H9"
      }
    },
    {
      "cell_type": "code",
      "source": [
        "fig = px.histogram(dt, x=dt[\"Date\"], title=\"Tweets durante durante el tiempo\")\n",
        "fig.update_layout(bargap=0.2)\n",
        "fig.show()"
      ],
      "metadata": {
        "colab": {
          "base_uri": "https://localhost:8080/",
          "height": 542
        },
        "id": "Ql-e5H3fC8Tk",
        "outputId": "d0c9e652-18da-4267-8219-317a46ce852f"
      },
      "execution_count": 209,
      "outputs": [
        {
          "output_type": "display_data",
          "data": {
            "text/html": [
              "<html>\n",
              "<head><meta charset=\"utf-8\" /></head>\n",
              "<body>\n",
              "    <div>            <script src=\"https://cdnjs.cloudflare.com/ajax/libs/mathjax/2.7.5/MathJax.js?config=TeX-AMS-MML_SVG\"></script><script type=\"text/javascript\">if (window.MathJax) {MathJax.Hub.Config({SVG: {font: \"STIX-Web\"}});}</script>                <script type=\"text/javascript\">window.PlotlyConfig = {MathJaxConfig: 'local'};</script>\n",
              "        <script src=\"https://cdn.plot.ly/plotly-2.8.3.min.js\"></script>                <div id=\"f72298a3-6081-4668-83e5-fe338d846952\" class=\"plotly-graph-div\" style=\"height:525px; width:100%;\"></div>            <script type=\"text/javascript\">                                    window.PLOTLYENV=window.PLOTLYENV || {};                                    if (document.getElementById(\"f72298a3-6081-4668-83e5-fe338d846952\")) {                    Plotly.newPlot(                        \"f72298a3-6081-4668-83e5-fe338d846952\",                        [{\"alignmentgroup\":\"True\",\"bingroup\":\"x\",\"hovertemplate\":\"Date=%{x}<br>count=%{y}<extra></extra>\",\"legendgroup\":\"\",\"marker\":{\"color\":\"#636efa\",\"pattern\":{\"shape\":\"\"}},\"name\":\"\",\"offsetgroup\":\"\",\"orientation\":\"v\",\"showlegend\":false,\"x\":[\"2023-02-12T23:13:10+00:00\",\"2023-02-12T23:12:37+00:00\",\"2023-02-12T23:12:26+00:00\",\"2023-02-12T23:11:34+00:00\",\"2023-02-12T23:09:58+00:00\",\"2023-02-12T23:09:07+00:00\",\"2023-02-12T23:07:40+00:00\",\"2023-02-12T23:06:54+00:00\",\"2023-02-12T23:06:46+00:00\",\"2023-02-12T23:06:05+00:00\",\"2023-02-12T23:05:56+00:00\",\"2023-02-12T23:05:08+00:00\",\"2023-02-12T23:04:58+00:00\",\"2023-02-12T23:04:46+00:00\",\"2023-02-12T23:04:09+00:00\",\"2023-02-12T23:04:00+00:00\",\"2023-02-12T23:03:47+00:00\",\"2023-02-12T23:03:28+00:00\",\"2023-02-12T23:03:26+00:00\",\"2023-02-12T23:03:24+00:00\",\"2023-02-12T23:03:17+00:00\",\"2023-02-12T23:03:14+00:00\",\"2023-02-12T23:03:11+00:00\",\"2023-02-12T23:02:52+00:00\",\"2023-02-12T23:01:06+00:00\",\"2023-02-12T23:00:53+00:00\",\"2023-02-12T23:00:46+00:00\",\"2023-02-12T23:00:37+00:00\",\"2023-02-12T23:00:03+00:00\",\"2023-02-12T23:00:00+00:00\",\"2023-02-12T22:59:34+00:00\",\"2023-02-12T22:59:20+00:00\",\"2023-02-12T22:58:56+00:00\",\"2023-02-12T22:58:39+00:00\",\"2023-02-12T22:58:37+00:00\",\"2023-02-12T22:58:25+00:00\",\"2023-02-12T22:58:07+00:00\",\"2023-02-12T22:57:56+00:00\",\"2023-02-12T22:57:48+00:00\",\"2023-02-12T22:57:21+00:00\",\"2023-02-12T22:57:05+00:00\",\"2023-02-12T22:56:33+00:00\",\"2023-02-12T22:53:56+00:00\",\"2023-02-12T22:53:22+00:00\",\"2023-02-12T22:53:02+00:00\",\"2023-02-12T22:52:28+00:00\",\"2023-02-12T22:51:44+00:00\",\"2023-02-12T22:51:08+00:00\",\"2023-02-12T22:51:03+00:00\",\"2023-02-12T22:51:02+00:00\",\"2023-02-12T22:50:38+00:00\",\"2023-02-12T22:49:20+00:00\",\"2023-02-12T22:48:10+00:00\",\"2023-02-12T22:48:06+00:00\",\"2023-02-12T22:47:41+00:00\",\"2023-02-12T22:47:39+00:00\",\"2023-02-12T22:47:09+00:00\",\"2023-02-12T22:46:48+00:00\",\"2023-02-12T22:46:18+00:00\",\"2023-02-12T22:46:16+00:00\",\"2023-02-12T22:45:10+00:00\",\"2023-02-12T22:45:07+00:00\",\"2023-02-12T22:44:59+00:00\",\"2023-02-12T22:44:58+00:00\",\"2023-02-12T22:44:25+00:00\",\"2023-02-12T22:44:24+00:00\",\"2023-02-12T22:44:22+00:00\",\"2023-02-12T22:43:41+00:00\",\"2023-02-12T22:43:04+00:00\",\"2023-02-12T22:42:39+00:00\",\"2023-02-12T22:41:18+00:00\",\"2023-02-12T22:40:50+00:00\",\"2023-02-12T22:40:44+00:00\",\"2023-02-12T22:40:23+00:00\",\"2023-02-12T22:40:13+00:00\",\"2023-02-12T22:39:53+00:00\",\"2023-02-12T22:39:40+00:00\",\"2023-02-12T22:39:32+00:00\",\"2023-02-12T22:39:09+00:00\",\"2023-02-12T22:39:02+00:00\",\"2023-02-12T22:38:53+00:00\",\"2023-02-12T22:38:33+00:00\",\"2023-02-12T22:37:32+00:00\",\"2023-02-12T22:37:29+00:00\",\"2023-02-12T22:37:23+00:00\",\"2023-02-12T22:37:08+00:00\",\"2023-02-12T22:36:44+00:00\",\"2023-02-12T22:36:38+00:00\",\"2023-02-12T22:36:17+00:00\",\"2023-02-12T22:36:10+00:00\",\"2023-02-12T22:35:50+00:00\",\"2023-02-12T22:35:31+00:00\",\"2023-02-12T22:35:07+00:00\",\"2023-02-12T22:34:58+00:00\",\"2023-02-12T22:34:57+00:00\",\"2023-02-12T22:34:44+00:00\",\"2023-02-12T22:34:32+00:00\",\"2023-02-12T22:33:26+00:00\",\"2023-02-12T22:33:21+00:00\",\"2023-02-12T22:33:01+00:00\",\"2023-02-12T22:32:57+00:00\",\"2023-02-12T22:32:53+00:00\",\"2023-02-12T22:32:48+00:00\",\"2023-02-12T22:32:17+00:00\",\"2023-02-12T22:31:55+00:00\",\"2023-02-12T22:31:54+00:00\",\"2023-02-12T22:31:53+00:00\",\"2023-02-12T22:31:52+00:00\",\"2023-02-12T22:31:45+00:00\",\"2023-02-12T22:31:32+00:00\",\"2023-02-12T22:30:29+00:00\",\"2023-02-12T22:30:19+00:00\",\"2023-02-12T22:30:18+00:00\",\"2023-02-12T22:30:05+00:00\",\"2023-02-12T22:29:32+00:00\",\"2023-02-12T22:29:19+00:00\",\"2023-02-12T22:29:04+00:00\",\"2023-02-12T22:28:33+00:00\",\"2023-02-12T22:28:28+00:00\",\"2023-02-12T22:27:55+00:00\",\"2023-02-12T22:27:52+00:00\",\"2023-02-12T22:27:34+00:00\",\"2023-02-12T22:27:25+00:00\",\"2023-02-12T22:27:23+00:00\",\"2023-02-12T22:26:58+00:00\",\"2023-02-12T22:26:51+00:00\",\"2023-02-12T22:26:25+00:00\",\"2023-02-12T22:26:22+00:00\",\"2023-02-12T22:26:21+00:00\",\"2023-02-12T22:26:01+00:00\",\"2023-02-12T22:25:44+00:00\",\"2023-02-12T22:25:27+00:00\",\"2023-02-12T22:25:21+00:00\",\"2023-02-12T22:25:21+00:00\",\"2023-02-12T22:25:16+00:00\",\"2023-02-12T22:24:54+00:00\",\"2023-02-12T22:24:41+00:00\",\"2023-02-12T22:24:36+00:00\",\"2023-02-12T22:24:28+00:00\",\"2023-02-12T22:24:24+00:00\",\"2023-02-12T22:24:19+00:00\",\"2023-02-12T22:24:12+00:00\",\"2023-02-12T22:23:11+00:00\",\"2023-02-12T22:23:05+00:00\",\"2023-02-12T22:22:17+00:00\",\"2023-02-12T22:22:02+00:00\",\"2023-02-12T22:22:01+00:00\",\"2023-02-12T22:21:50+00:00\",\"2023-02-12T22:21:44+00:00\",\"2023-02-12T22:21:34+00:00\",\"2023-02-12T22:21:28+00:00\",\"2023-02-12T22:21:18+00:00\",\"2023-02-12T22:21:12+00:00\",\"2023-02-12T22:21:11+00:00\",\"2023-02-12T22:21:05+00:00\",\"2023-02-12T22:21:02+00:00\",\"2023-02-12T22:20:52+00:00\",\"2023-02-12T22:20:49+00:00\",\"2023-02-12T22:20:44+00:00\",\"2023-02-12T22:20:33+00:00\",\"2023-02-12T22:20:15+00:00\",\"2023-02-12T22:19:53+00:00\",\"2023-02-12T22:19:40+00:00\",\"2023-02-12T22:19:31+00:00\",\"2023-02-12T22:19:29+00:00\",\"2023-02-12T22:19:22+00:00\",\"2023-02-12T22:19:13+00:00\",\"2023-02-12T22:19:08+00:00\",\"2023-02-12T22:19:07+00:00\",\"2023-02-12T22:18:39+00:00\",\"2023-02-12T22:18:35+00:00\",\"2023-02-12T22:18:31+00:00\",\"2023-02-12T22:18:21+00:00\",\"2023-02-12T22:18:03+00:00\",\"2023-02-12T22:18:00+00:00\",\"2023-02-12T22:17:51+00:00\",\"2023-02-12T22:17:46+00:00\",\"2023-02-12T22:17:38+00:00\",\"2023-02-12T22:17:24+00:00\",\"2023-02-12T22:17:15+00:00\",\"2023-02-12T22:16:49+00:00\",\"2023-02-12T22:16:36+00:00\",\"2023-02-12T22:16:32+00:00\",\"2023-02-12T22:16:32+00:00\",\"2023-02-12T22:16:30+00:00\",\"2023-02-12T22:16:30+00:00\",\"2023-02-12T22:15:53+00:00\",\"2023-02-12T22:15:50+00:00\",\"2023-02-12T22:15:32+00:00\",\"2023-02-12T22:15:23+00:00\",\"2023-02-12T22:15:21+00:00\",\"2023-02-12T22:14:57+00:00\",\"2023-02-12T22:14:38+00:00\",\"2023-02-12T22:14:37+00:00\",\"2023-02-12T22:14:36+00:00\",\"2023-02-12T22:14:12+00:00\",\"2023-02-12T22:14:05+00:00\",\"2023-02-12T22:13:59+00:00\",\"2023-02-12T22:13:54+00:00\",\"2023-02-12T22:13:45+00:00\",\"2023-02-12T22:13:42+00:00\",\"2023-02-12T22:13:38+00:00\",\"2023-02-12T22:13:34+00:00\",\"2023-02-12T22:13:19+00:00\",\"2023-02-12T22:13:07+00:00\",\"2023-02-12T22:13:03+00:00\",\"2023-02-12T22:11:58+00:00\",\"2023-02-12T22:11:03+00:00\",\"2023-02-12T22:10:55+00:00\",\"2023-02-12T22:10:34+00:00\",\"2023-02-12T22:10:13+00:00\",\"2023-02-12T22:10:09+00:00\",\"2023-02-12T22:10:08+00:00\",\"2023-02-12T22:09:48+00:00\",\"2023-02-12T22:09:44+00:00\",\"2023-02-12T22:09:25+00:00\",\"2023-02-12T22:09:21+00:00\",\"2023-02-12T22:09:05+00:00\",\"2023-02-12T22:08:51+00:00\",\"2023-02-12T22:08:10+00:00\",\"2023-02-12T22:07:46+00:00\",\"2023-02-12T22:07:22+00:00\",\"2023-02-12T22:07:19+00:00\",\"2023-02-12T22:07:09+00:00\",\"2023-02-12T22:07:09+00:00\",\"2023-02-12T22:07:07+00:00\",\"2023-02-12T22:06:54+00:00\",\"2023-02-12T22:06:47+00:00\",\"2023-02-12T22:06:46+00:00\",\"2023-02-12T22:06:42+00:00\",\"2023-02-12T22:06:26+00:00\",\"2023-02-12T22:06:15+00:00\",\"2023-02-12T22:06:13+00:00\",\"2023-02-12T22:05:48+00:00\",\"2023-02-12T22:05:18+00:00\",\"2023-02-12T22:05:18+00:00\",\"2023-02-12T22:05:17+00:00\",\"2023-02-12T22:05:14+00:00\",\"2023-02-12T22:04:51+00:00\",\"2023-02-12T22:04:30+00:00\",\"2023-02-12T22:04:20+00:00\",\"2023-02-12T22:03:35+00:00\",\"2023-02-12T22:03:20+00:00\",\"2023-02-12T22:03:18+00:00\",\"2023-02-12T22:03:10+00:00\",\"2023-02-12T22:02:23+00:00\",\"2023-02-12T22:02:21+00:00\",\"2023-02-12T22:02:05+00:00\",\"2023-02-12T22:01:54+00:00\",\"2023-02-12T22:01:03+00:00\",\"2023-02-12T22:00:57+00:00\",\"2023-02-12T22:00:07+00:00\",\"2023-02-12T21:59:59+00:00\",\"2023-02-12T21:59:52+00:00\",\"2023-02-12T21:59:46+00:00\",\"2023-02-12T21:59:29+00:00\",\"2023-02-12T21:58:50+00:00\",\"2023-02-12T21:58:50+00:00\",\"2023-02-12T21:58:22+00:00\",\"2023-02-12T21:57:33+00:00\",\"2023-02-12T21:56:37+00:00\",\"2023-02-12T21:56:34+00:00\",\"2023-02-12T21:56:24+00:00\",\"2023-02-12T21:55:35+00:00\",\"2023-02-12T21:55:30+00:00\",\"2023-02-12T21:55:14+00:00\",\"2023-02-12T21:55:07+00:00\",\"2023-02-12T21:54:41+00:00\",\"2023-02-12T21:54:03+00:00\",\"2023-02-12T21:53:18+00:00\",\"2023-02-12T21:52:45+00:00\",\"2023-02-12T21:52:11+00:00\",\"2023-02-12T21:52:06+00:00\",\"2023-02-12T21:51:56+00:00\",\"2023-02-12T21:51:56+00:00\",\"2023-02-12T21:51:27+00:00\",\"2023-02-12T21:51:12+00:00\",\"2023-02-12T21:51:09+00:00\",\"2023-02-12T21:51:03+00:00\",\"2023-02-12T21:50:52+00:00\",\"2023-02-12T21:50:30+00:00\",\"2023-02-12T21:50:04+00:00\",\"2023-02-12T21:49:41+00:00\",\"2023-02-12T21:49:35+00:00\",\"2023-02-12T21:48:56+00:00\",\"2023-02-12T21:48:27+00:00\",\"2023-02-12T21:48:23+00:00\",\"2023-02-12T21:47:31+00:00\",\"2023-02-12T21:47:16+00:00\",\"2023-02-12T21:46:47+00:00\",\"2023-02-12T21:46:26+00:00\",\"2023-02-12T21:46:17+00:00\",\"2023-02-12T21:46:16+00:00\",\"2023-02-12T21:46:05+00:00\",\"2023-02-12T21:45:59+00:00\",\"2023-02-12T21:45:28+00:00\",\"2023-02-12T21:45:12+00:00\",\"2023-02-12T21:45:10+00:00\",\"2023-02-12T21:45:06+00:00\",\"2023-02-12T21:44:44+00:00\",\"2023-02-12T21:44:19+00:00\",\"2023-02-12T21:44:08+00:00\",\"2023-02-12T21:44:07+00:00\",\"2023-02-12T21:43:55+00:00\",\"2023-02-12T21:43:53+00:00\",\"2023-02-12T21:43:44+00:00\",\"2023-02-12T21:43:31+00:00\",\"2023-02-12T21:43:22+00:00\",\"2023-02-12T21:43:14+00:00\",\"2023-02-12T21:43:05+00:00\",\"2023-02-12T21:43:03+00:00\",\"2023-02-12T21:42:32+00:00\",\"2023-02-12T21:42:31+00:00\",\"2023-02-12T21:41:58+00:00\",\"2023-02-12T21:41:58+00:00\",\"2023-02-12T21:41:52+00:00\",\"2023-02-12T21:41:39+00:00\",\"2023-02-12T21:41:37+00:00\",\"2023-02-12T21:41:10+00:00\",\"2023-02-12T21:41:04+00:00\",\"2023-02-12T21:40:54+00:00\",\"2023-02-12T21:40:50+00:00\",\"2023-02-12T21:40:47+00:00\",\"2023-02-12T21:40:43+00:00\",\"2023-02-12T21:40:41+00:00\",\"2023-02-12T21:40:37+00:00\",\"2023-02-12T21:40:36+00:00\",\"2023-02-12T21:40:09+00:00\",\"2023-02-12T21:40:00+00:00\",\"2023-02-12T21:39:32+00:00\",\"2023-02-12T21:39:30+00:00\",\"2023-02-12T21:38:55+00:00\",\"2023-02-12T21:38:43+00:00\",\"2023-02-12T21:38:40+00:00\",\"2023-02-12T21:38:40+00:00\",\"2023-02-12T21:38:39+00:00\",\"2023-02-12T21:38:38+00:00\",\"2023-02-12T21:38:38+00:00\",\"2023-02-12T21:38:27+00:00\",\"2023-02-12T21:38:26+00:00\",\"2023-02-12T21:38:25+00:00\",\"2023-02-12T21:37:53+00:00\",\"2023-02-12T21:37:43+00:00\",\"2023-02-12T21:37:26+00:00\",\"2023-02-12T21:37:07+00:00\",\"2023-02-12T21:37:01+00:00\",\"2023-02-12T21:36:58+00:00\",\"2023-02-12T21:36:51+00:00\",\"2023-02-12T21:36:20+00:00\",\"2023-02-12T21:36:18+00:00\",\"2023-02-12T21:35:28+00:00\",\"2023-02-12T21:35:25+00:00\",\"2023-02-12T21:35:17+00:00\",\"2023-02-12T21:35:15+00:00\",\"2023-02-12T21:35:12+00:00\",\"2023-02-12T21:34:57+00:00\",\"2023-02-12T21:34:56+00:00\",\"2023-02-12T21:34:40+00:00\",\"2023-02-12T21:34:38+00:00\",\"2023-02-12T21:34:36+00:00\",\"2023-02-12T21:34:16+00:00\",\"2023-02-12T21:34:15+00:00\",\"2023-02-12T21:34:14+00:00\",\"2023-02-12T21:34:03+00:00\",\"2023-02-12T21:33:48+00:00\",\"2023-02-12T21:33:45+00:00\",\"2023-02-12T21:33:34+00:00\",\"2023-02-12T21:33:33+00:00\",\"2023-02-12T21:33:25+00:00\",\"2023-02-12T21:33:18+00:00\",\"2023-02-12T21:33:17+00:00\",\"2023-02-12T21:33:17+00:00\",\"2023-02-12T21:33:17+00:00\",\"2023-02-12T21:33:09+00:00\",\"2023-02-12T21:33:02+00:00\",\"2023-02-12T21:33:00+00:00\",\"2023-02-12T21:32:51+00:00\",\"2023-02-12T21:32:49+00:00\",\"2023-02-12T21:32:39+00:00\",\"2023-02-12T21:32:37+00:00\",\"2023-02-12T21:32:36+00:00\",\"2023-02-12T21:32:34+00:00\",\"2023-02-12T21:32:32+00:00\",\"2023-02-12T21:32:31+00:00\",\"2023-02-12T21:32:05+00:00\",\"2023-02-12T21:32:04+00:00\",\"2023-02-12T21:31:53+00:00\",\"2023-02-12T21:31:51+00:00\",\"2023-02-12T21:31:45+00:00\",\"2023-02-12T21:31:41+00:00\",\"2023-02-12T21:31:18+00:00\",\"2023-02-12T21:31:09+00:00\",\"2023-02-12T21:31:07+00:00\",\"2023-02-12T21:31:04+00:00\",\"2023-02-12T21:30:58+00:00\",\"2023-02-12T21:30:52+00:00\",\"2023-02-12T21:30:46+00:00\",\"2023-02-12T21:30:44+00:00\",\"2023-02-12T21:30:37+00:00\",\"2023-02-12T21:30:25+00:00\",\"2023-02-12T21:30:24+00:00\",\"2023-02-12T21:30:18+00:00\",\"2023-02-12T21:29:49+00:00\",\"2023-02-12T21:29:46+00:00\",\"2023-02-12T21:29:43+00:00\",\"2023-02-12T21:29:39+00:00\",\"2023-02-12T21:29:22+00:00\",\"2023-02-12T21:29:20+00:00\",\"2023-02-12T21:29:03+00:00\",\"2023-02-12T21:28:41+00:00\",\"2023-02-12T21:28:40+00:00\",\"2023-02-12T21:28:37+00:00\",\"2023-02-12T21:28:36+00:00\",\"2023-02-12T21:28:20+00:00\",\"2023-02-12T21:28:06+00:00\",\"2023-02-12T21:27:58+00:00\",\"2023-02-12T21:27:21+00:00\",\"2023-02-12T21:27:10+00:00\",\"2023-02-12T21:27:01+00:00\",\"2023-02-12T21:27:00+00:00\",\"2023-02-12T21:26:57+00:00\",\"2023-02-12T21:26:44+00:00\",\"2023-02-12T21:26:37+00:00\",\"2023-02-12T21:26:36+00:00\",\"2023-02-12T21:26:35+00:00\",\"2023-02-12T21:26:10+00:00\",\"2023-02-12T21:26:09+00:00\",\"2023-02-12T21:26:01+00:00\",\"2023-02-12T21:25:55+00:00\",\"2023-02-12T21:25:26+00:00\",\"2023-02-12T21:25:26+00:00\",\"2023-02-12T21:25:10+00:00\",\"2023-02-12T21:25:10+00:00\",\"2023-02-12T21:25:07+00:00\",\"2023-02-12T21:25:06+00:00\",\"2023-02-12T21:24:41+00:00\",\"2023-02-12T21:24:34+00:00\",\"2023-02-12T21:24:28+00:00\",\"2023-02-12T21:24:20+00:00\",\"2023-02-12T21:24:15+00:00\",\"2023-02-12T21:24:00+00:00\",\"2023-02-12T21:23:57+00:00\",\"2023-02-12T21:23:44+00:00\",\"2023-02-12T21:23:37+00:00\",\"2023-02-12T21:23:34+00:00\",\"2023-02-12T21:23:33+00:00\",\"2023-02-12T21:23:32+00:00\",\"2023-02-12T21:23:07+00:00\",\"2023-02-12T21:22:57+00:00\",\"2023-02-12T21:22:49+00:00\",\"2023-02-12T21:22:34+00:00\",\"2023-02-12T21:22:16+00:00\",\"2023-02-12T21:22:15+00:00\",\"2023-02-12T21:21:58+00:00\",\"2023-02-12T21:21:56+00:00\",\"2023-02-12T21:21:55+00:00\",\"2023-02-12T21:21:34+00:00\",\"2023-02-12T21:20:59+00:00\",\"2023-02-12T21:20:47+00:00\",\"2023-02-12T21:20:44+00:00\",\"2023-02-12T21:19:44+00:00\",\"2023-02-12T21:19:36+00:00\",\"2023-02-12T21:19:34+00:00\",\"2023-02-12T21:19:23+00:00\",\"2023-02-12T21:19:12+00:00\",\"2023-02-12T21:19:09+00:00\",\"2023-02-12T21:19:06+00:00\",\"2023-02-12T21:18:58+00:00\",\"2023-02-12T21:18:18+00:00\",\"2023-02-12T21:18:07+00:00\",\"2023-02-12T21:18:04+00:00\",\"2023-02-12T21:17:59+00:00\",\"2023-02-12T21:17:58+00:00\",\"2023-02-12T21:17:52+00:00\",\"2023-02-12T21:17:52+00:00\",\"2023-02-12T21:17:50+00:00\",\"2023-02-12T21:17:40+00:00\",\"2023-02-12T21:17:38+00:00\",\"2023-02-12T21:17:37+00:00\",\"2023-02-12T21:17:30+00:00\",\"2023-02-12T21:17:27+00:00\",\"2023-02-12T21:17:25+00:00\",\"2023-02-12T21:17:19+00:00\",\"2023-02-12T21:17:16+00:00\",\"2023-02-12T21:17:13+00:00\",\"2023-02-12T21:17:08+00:00\",\"2023-02-12T21:17:07+00:00\",\"2023-02-12T21:16:25+00:00\",\"2023-02-12T21:16:04+00:00\",\"2023-02-12T21:16:04+00:00\",\"2023-02-12T21:15:51+00:00\",\"2023-02-12T21:15:51+00:00\",\"2023-02-12T21:15:48+00:00\",\"2023-02-12T21:15:41+00:00\",\"2023-02-12T21:15:27+00:00\",\"2023-02-12T21:15:27+00:00\",\"2023-02-12T21:15:02+00:00\",\"2023-02-12T21:14:50+00:00\",\"2023-02-12T21:14:29+00:00\",\"2023-02-12T21:14:19+00:00\",\"2023-02-12T21:14:12+00:00\",\"2023-02-12T21:13:39+00:00\",\"2023-02-12T21:13:06+00:00\",\"2023-02-12T21:12:41+00:00\",\"2023-02-12T21:12:39+00:00\",\"2023-02-12T21:12:30+00:00\",\"2023-02-12T21:12:01+00:00\",\"2023-02-12T21:11:47+00:00\",\"2023-02-12T21:11:05+00:00\",\"2023-02-12T21:10:36+00:00\",\"2023-02-12T21:10:19+00:00\",\"2023-02-12T21:10:11+00:00\",\"2023-02-12T21:10:02+00:00\",\"2023-02-12T21:08:43+00:00\",\"2023-02-12T21:08:34+00:00\",\"2023-02-12T21:07:29+00:00\",\"2023-02-12T21:07:16+00:00\",\"2023-02-12T21:07:15+00:00\",\"2023-02-12T21:06:53+00:00\",\"2023-02-12T21:06:38+00:00\",\"2023-02-12T21:06:21+00:00\",\"2023-02-12T21:06:18+00:00\",\"2023-02-12T21:06:01+00:00\",\"2023-02-12T21:05:56+00:00\",\"2023-02-12T21:05:45+00:00\",\"2023-02-12T21:05:23+00:00\",\"2023-02-12T21:05:22+00:00\",\"2023-02-12T21:04:48+00:00\",\"2023-02-12T21:03:01+00:00\",\"2023-02-12T21:02:37+00:00\",\"2023-02-12T21:01:54+00:00\",\"2023-02-12T21:01:38+00:00\",\"2023-02-12T21:00:24+00:00\",\"2023-02-12T21:00:14+00:00\",\"2023-02-12T21:00:11+00:00\",\"2023-02-12T20:59:41+00:00\",\"2023-02-12T20:59:37+00:00\",\"2023-02-12T20:59:31+00:00\",\"2023-02-12T20:59:06+00:00\",\"2023-02-12T20:58:58+00:00\",\"2023-02-12T20:58:19+00:00\",\"2023-02-12T20:58:16+00:00\",\"2023-02-12T20:57:42+00:00\",\"2023-02-12T20:57:17+00:00\",\"2023-02-12T20:57:10+00:00\",\"2023-02-12T20:56:55+00:00\",\"2023-02-12T20:56:35+00:00\",\"2023-02-12T20:56:28+00:00\",\"2023-02-12T20:56:24+00:00\",\"2023-02-12T20:56:15+00:00\",\"2023-02-12T20:56:03+00:00\",\"2023-02-12T20:55:58+00:00\",\"2023-02-12T20:55:36+00:00\",\"2023-02-12T20:55:17+00:00\",\"2023-02-12T20:55:01+00:00\",\"2023-02-12T20:54:57+00:00\",\"2023-02-12T20:54:28+00:00\",\"2023-02-12T20:54:03+00:00\",\"2023-02-12T20:53:49+00:00\",\"2023-02-12T20:53:17+00:00\",\"2023-02-12T20:52:31+00:00\",\"2023-02-12T20:51:28+00:00\",\"2023-02-12T20:51:25+00:00\",\"2023-02-12T20:51:01+00:00\",\"2023-02-12T20:51:00+00:00\",\"2023-02-12T20:50:58+00:00\",\"2023-02-12T20:50:57+00:00\",\"2023-02-12T20:50:55+00:00\",\"2023-02-12T20:50:34+00:00\",\"2023-02-12T20:50:24+00:00\",\"2023-02-12T20:50:07+00:00\",\"2023-02-12T20:49:57+00:00\",\"2023-02-12T20:49:45+00:00\",\"2023-02-12T20:49:29+00:00\",\"2023-02-12T20:49:28+00:00\",\"2023-02-12T20:48:11+00:00\",\"2023-02-12T20:48:03+00:00\",\"2023-02-12T20:47:19+00:00\",\"2023-02-12T20:46:32+00:00\",\"2023-02-12T20:46:07+00:00\",\"2023-02-12T20:45:43+00:00\",\"2023-02-12T20:45:31+00:00\",\"2023-02-12T20:45:03+00:00\",\"2023-02-12T20:44:39+00:00\",\"2023-02-12T20:44:02+00:00\",\"2023-02-12T20:43:25+00:00\",\"2023-02-12T20:42:47+00:00\",\"2023-02-12T20:42:36+00:00\",\"2023-02-12T20:42:20+00:00\",\"2023-02-12T20:42:12+00:00\",\"2023-02-12T20:42:10+00:00\",\"2023-02-12T20:41:55+00:00\",\"2023-02-12T20:41:51+00:00\",\"2023-02-12T20:41:49+00:00\",\"2023-02-12T20:41:33+00:00\",\"2023-02-12T20:41:25+00:00\",\"2023-02-12T20:40:42+00:00\",\"2023-02-12T20:40:40+00:00\",\"2023-02-12T20:40:01+00:00\",\"2023-02-12T20:39:19+00:00\",\"2023-02-12T20:38:24+00:00\",\"2023-02-12T20:38:15+00:00\",\"2023-02-12T20:38:14+00:00\",\"2023-02-12T20:38:03+00:00\",\"2023-02-12T20:37:30+00:00\",\"2023-02-12T20:37:10+00:00\",\"2023-02-12T20:36:41+00:00\",\"2023-02-12T20:36:33+00:00\",\"2023-02-12T20:36:14+00:00\",\"2023-02-12T20:35:30+00:00\",\"2023-02-12T20:35:12+00:00\",\"2023-02-12T20:34:33+00:00\",\"2023-02-12T20:34:30+00:00\",\"2023-02-12T20:34:03+00:00\",\"2023-02-12T20:33:46+00:00\",\"2023-02-12T20:33:33+00:00\",\"2023-02-12T20:33:31+00:00\",\"2023-02-12T20:33:03+00:00\",\"2023-02-12T20:32:52+00:00\",\"2023-02-12T20:32:52+00:00\",\"2023-02-12T20:32:36+00:00\",\"2023-02-12T20:32:09+00:00\",\"2023-02-12T20:31:58+00:00\",\"2023-02-12T20:31:55+00:00\",\"2023-02-12T20:31:50+00:00\",\"2023-02-12T20:31:40+00:00\",\"2023-02-12T20:31:38+00:00\",\"2023-02-12T20:30:59+00:00\",\"2023-02-12T20:30:52+00:00\",\"2023-02-12T20:30:48+00:00\",\"2023-02-12T20:30:48+00:00\",\"2023-02-12T20:30:36+00:00\",\"2023-02-12T20:29:48+00:00\",\"2023-02-12T20:29:28+00:00\",\"2023-02-12T20:29:12+00:00\",\"2023-02-12T20:28:50+00:00\",\"2023-02-12T20:28:26+00:00\",\"2023-02-12T20:28:17+00:00\",\"2023-02-12T20:28:02+00:00\",\"2023-02-12T20:27:42+00:00\",\"2023-02-12T20:27:31+00:00\",\"2023-02-12T20:27:22+00:00\",\"2023-02-12T20:27:17+00:00\",\"2023-02-12T20:27:14+00:00\",\"2023-02-12T20:27:13+00:00\",\"2023-02-12T20:27:03+00:00\",\"2023-02-12T20:26:55+00:00\",\"2023-02-12T20:26:52+00:00\",\"2023-02-12T20:25:54+00:00\",\"2023-02-12T20:25:36+00:00\",\"2023-02-12T20:25:23+00:00\",\"2023-02-12T20:25:13+00:00\",\"2023-02-12T20:24:46+00:00\",\"2023-02-12T20:24:29+00:00\",\"2023-02-12T20:24:20+00:00\",\"2023-02-12T20:24:17+00:00\",\"2023-02-12T20:24:15+00:00\",\"2023-02-12T20:23:38+00:00\",\"2023-02-12T20:23:36+00:00\",\"2023-02-12T20:23:28+00:00\",\"2023-02-12T20:23:23+00:00\",\"2023-02-12T20:23:21+00:00\",\"2023-02-12T20:23:09+00:00\",\"2023-02-12T20:22:34+00:00\",\"2023-02-12T20:22:24+00:00\",\"2023-02-12T20:22:15+00:00\",\"2023-02-12T20:21:52+00:00\",\"2023-02-12T20:21:50+00:00\",\"2023-02-12T20:21:44+00:00\",\"2023-02-12T20:21:38+00:00\",\"2023-02-12T20:21:20+00:00\",\"2023-02-12T20:20:43+00:00\",\"2023-02-12T20:20:06+00:00\",\"2023-02-12T20:19:00+00:00\",\"2023-02-12T20:18:58+00:00\",\"2023-02-12T20:18:57+00:00\",\"2023-02-12T20:18:40+00:00\",\"2023-02-12T20:18:00+00:00\",\"2023-02-12T20:17:54+00:00\",\"2023-02-12T20:17:29+00:00\",\"2023-02-12T20:17:25+00:00\",\"2023-02-12T20:16:42+00:00\",\"2023-02-12T20:16:15+00:00\",\"2023-02-12T20:15:48+00:00\",\"2023-02-12T20:15:43+00:00\",\"2023-02-12T20:15:28+00:00\",\"2023-02-12T20:15:12+00:00\",\"2023-02-12T20:15:05+00:00\",\"2023-02-12T20:14:59+00:00\",\"2023-02-12T20:14:43+00:00\",\"2023-02-12T20:14:42+00:00\",\"2023-02-12T20:14:36+00:00\",\"2023-02-12T20:14:32+00:00\",\"2023-02-12T20:14:21+00:00\",\"2023-02-12T20:14:13+00:00\",\"2023-02-12T20:14:10+00:00\",\"2023-02-12T20:14:04+00:00\",\"2023-02-12T20:13:53+00:00\",\"2023-02-12T20:13:51+00:00\",\"2023-02-12T20:13:47+00:00\",\"2023-02-12T20:13:42+00:00\",\"2023-02-12T20:13:08+00:00\",\"2023-02-12T20:13:04+00:00\",\"2023-02-12T20:12:56+00:00\",\"2023-02-12T20:12:42+00:00\",\"2023-02-12T20:12:26+00:00\",\"2023-02-12T20:12:24+00:00\",\"2023-02-12T20:12:19+00:00\",\"2023-02-12T20:12:19+00:00\",\"2023-02-12T20:11:59+00:00\",\"2023-02-12T20:11:54+00:00\",\"2023-02-12T20:11:53+00:00\",\"2023-02-12T20:11:50+00:00\",\"2023-02-12T20:11:45+00:00\",\"2023-02-12T20:11:44+00:00\",\"2023-02-12T20:11:40+00:00\",\"2023-02-12T20:11:33+00:00\",\"2023-02-12T20:11:22+00:00\",\"2023-02-12T20:11:00+00:00\",\"2023-02-12T20:10:36+00:00\",\"2023-02-12T20:10:12+00:00\",\"2023-02-12T20:09:55+00:00\",\"2023-02-12T20:09:50+00:00\",\"2023-02-12T20:09:39+00:00\",\"2023-02-12T20:09:35+00:00\",\"2023-02-12T20:09:31+00:00\",\"2023-02-12T20:09:17+00:00\",\"2023-02-12T20:09:10+00:00\",\"2023-02-12T20:09:08+00:00\",\"2023-02-12T20:08:57+00:00\",\"2023-02-12T20:08:44+00:00\",\"2023-02-12T20:08:35+00:00\",\"2023-02-12T20:08:28+00:00\",\"2023-02-12T20:08:23+00:00\",\"2023-02-12T20:08:22+00:00\",\"2023-02-12T20:08:17+00:00\",\"2023-02-12T20:08:16+00:00\",\"2023-02-12T20:08:10+00:00\",\"2023-02-12T20:08:10+00:00\",\"2023-02-12T20:08:02+00:00\",\"2023-02-12T20:07:54+00:00\",\"2023-02-12T20:07:52+00:00\",\"2023-02-12T20:07:48+00:00\",\"2023-02-12T20:07:35+00:00\",\"2023-02-12T20:07:28+00:00\",\"2023-02-12T20:07:24+00:00\",\"2023-02-12T20:07:20+00:00\",\"2023-02-12T20:07:19+00:00\",\"2023-02-12T20:06:59+00:00\",\"2023-02-12T20:06:54+00:00\",\"2023-02-12T20:06:47+00:00\",\"2023-02-12T20:06:45+00:00\",\"2023-02-12T20:06:29+00:00\",\"2023-02-12T20:06:28+00:00\",\"2023-02-12T20:06:11+00:00\",\"2023-02-12T20:06:11+00:00\",\"2023-02-12T20:05:59+00:00\",\"2023-02-12T20:05:58+00:00\",\"2023-02-12T20:05:57+00:00\",\"2023-02-12T20:05:48+00:00\",\"2023-02-12T20:05:47+00:00\",\"2023-02-12T20:05:44+00:00\",\"2023-02-12T20:05:35+00:00\",\"2023-02-12T20:05:22+00:00\",\"2023-02-12T20:05:21+00:00\",\"2023-02-12T20:05:19+00:00\",\"2023-02-12T20:05:11+00:00\",\"2023-02-12T20:05:07+00:00\",\"2023-02-12T20:05:07+00:00\",\"2023-02-12T20:04:50+00:00\",\"2023-02-12T20:04:37+00:00\",\"2023-02-12T20:04:32+00:00\",\"2023-02-12T20:04:25+00:00\",\"2023-02-12T20:04:22+00:00\",\"2023-02-12T20:04:18+00:00\",\"2023-02-12T20:04:11+00:00\",\"2023-02-12T20:04:10+00:00\",\"2023-02-12T20:04:09+00:00\",\"2023-02-12T20:04:02+00:00\",\"2023-02-12T20:03:55+00:00\",\"2023-02-12T20:03:49+00:00\",\"2023-02-12T20:03:46+00:00\",\"2023-02-12T20:03:40+00:00\",\"2023-02-12T20:03:38+00:00\",\"2023-02-12T20:03:25+00:00\",\"2023-02-12T20:03:21+00:00\",\"2023-02-12T20:03:07+00:00\",\"2023-02-12T20:03:07+00:00\",\"2023-02-12T20:02:58+00:00\",\"2023-02-12T20:02:42+00:00\",\"2023-02-12T20:02:39+00:00\",\"2023-02-12T20:02:38+00:00\",\"2023-02-12T20:02:37+00:00\",\"2023-02-12T20:02:32+00:00\",\"2023-02-12T20:02:21+00:00\",\"2023-02-12T20:02:20+00:00\",\"2023-02-12T20:02:11+00:00\",\"2023-02-12T20:02:05+00:00\",\"2023-02-12T20:02:00+00:00\",\"2023-02-12T20:01:59+00:00\",\"2023-02-12T20:01:42+00:00\",\"2023-02-12T20:01:41+00:00\",\"2023-02-12T20:01:03+00:00\",\"2023-02-12T20:00:55+00:00\",\"2023-02-12T20:00:55+00:00\",\"2023-02-12T20:00:46+00:00\",\"2023-02-12T20:00:26+00:00\",\"2023-02-12T19:59:34+00:00\",\"2023-02-12T19:59:29+00:00\",\"2023-02-12T19:59:27+00:00\",\"2023-02-12T19:59:26+00:00\",\"2023-02-12T19:59:15+00:00\",\"2023-02-12T19:59:12+00:00\",\"2023-02-12T19:59:07+00:00\",\"2023-02-12T19:58:59+00:00\",\"2023-02-12T19:58:34+00:00\",\"2023-02-12T19:58:31+00:00\",\"2023-02-12T19:58:28+00:00\",\"2023-02-12T19:58:22+00:00\",\"2023-02-12T19:57:45+00:00\",\"2023-02-12T19:57:40+00:00\",\"2023-02-12T19:57:37+00:00\",\"2023-02-12T19:57:17+00:00\",\"2023-02-12T19:57:14+00:00\",\"2023-02-12T19:57:10+00:00\",\"2023-02-12T19:56:45+00:00\",\"2023-02-12T19:56:42+00:00\",\"2023-02-12T19:56:39+00:00\",\"2023-02-12T19:56:39+00:00\",\"2023-02-12T19:56:29+00:00\",\"2023-02-12T19:56:27+00:00\",\"2023-02-12T19:56:24+00:00\",\"2023-02-12T19:56:09+00:00\",\"2023-02-12T19:55:54+00:00\",\"2023-02-12T19:55:52+00:00\",\"2023-02-12T19:55:35+00:00\",\"2023-02-12T19:55:31+00:00\",\"2023-02-12T19:55:06+00:00\",\"2023-02-12T19:54:49+00:00\",\"2023-02-12T19:54:40+00:00\",\"2023-02-12T19:54:06+00:00\",\"2023-02-12T19:54:00+00:00\",\"2023-02-12T19:53:37+00:00\",\"2023-02-12T19:52:18+00:00\",\"2023-02-12T19:52:08+00:00\",\"2023-02-12T19:52:03+00:00\",\"2023-02-12T19:52:03+00:00\",\"2023-02-12T19:51:36+00:00\",\"2023-02-12T19:51:31+00:00\",\"2023-02-12T19:51:15+00:00\",\"2023-02-12T19:50:44+00:00\",\"2023-02-12T19:50:32+00:00\",\"2023-02-12T19:50:19+00:00\",\"2023-02-12T19:49:56+00:00\",\"2023-02-12T19:49:49+00:00\",\"2023-02-12T19:49:46+00:00\",\"2023-02-12T19:49:45+00:00\",\"2023-02-12T19:49:38+00:00\",\"2023-02-12T19:49:33+00:00\",\"2023-02-12T19:49:24+00:00\",\"2023-02-12T19:49:14+00:00\",\"2023-02-12T19:49:04+00:00\",\"2023-02-12T19:48:50+00:00\",\"2023-02-12T19:48:50+00:00\",\"2023-02-12T19:48:49+00:00\",\"2023-02-12T19:48:49+00:00\",\"2023-02-12T19:48:44+00:00\",\"2023-02-12T19:48:20+00:00\",\"2023-02-12T19:48:18+00:00\",\"2023-02-12T19:48:12+00:00\",\"2023-02-12T19:47:48+00:00\",\"2023-02-12T19:47:44+00:00\",\"2023-02-12T19:47:31+00:00\",\"2023-02-12T19:47:17+00:00\",\"2023-02-12T19:47:13+00:00\",\"2023-02-12T19:47:02+00:00\",\"2023-02-12T19:47:00+00:00\",\"2023-02-12T19:46:56+00:00\",\"2023-02-12T19:46:37+00:00\",\"2023-02-12T19:46:37+00:00\",\"2023-02-12T19:46:29+00:00\",\"2023-02-12T19:46:24+00:00\",\"2023-02-12T19:46:18+00:00\",\"2023-02-12T19:46:17+00:00\",\"2023-02-12T19:46:12+00:00\",\"2023-02-12T19:46:11+00:00\",\"2023-02-12T19:46:07+00:00\",\"2023-02-12T19:46:05+00:00\",\"2023-02-12T19:45:46+00:00\",\"2023-02-12T19:45:45+00:00\",\"2023-02-12T19:45:44+00:00\",\"2023-02-12T19:45:36+00:00\",\"2023-02-12T19:45:36+00:00\",\"2023-02-12T19:45:29+00:00\",\"2023-02-12T19:45:13+00:00\",\"2023-02-12T19:45:08+00:00\",\"2023-02-12T19:45:06+00:00\",\"2023-02-12T19:44:55+00:00\",\"2023-02-12T19:44:52+00:00\",\"2023-02-12T19:44:52+00:00\",\"2023-02-12T19:44:44+00:00\",\"2023-02-12T19:44:42+00:00\",\"2023-02-12T19:44:37+00:00\",\"2023-02-12T19:44:33+00:00\",\"2023-02-12T19:44:33+00:00\",\"2023-02-12T19:44:31+00:00\",\"2023-02-12T19:44:28+00:00\",\"2023-02-12T19:44:25+00:00\",\"2023-02-12T19:44:22+00:00\",\"2023-02-12T19:44:18+00:00\",\"2023-02-12T19:44:11+00:00\",\"2023-02-12T19:44:06+00:00\",\"2023-02-12T19:43:55+00:00\",\"2023-02-12T19:43:53+00:00\",\"2023-02-12T19:43:49+00:00\",\"2023-02-12T19:43:12+00:00\",\"2023-02-12T19:43:11+00:00\",\"2023-02-12T19:43:00+00:00\",\"2023-02-12T19:42:52+00:00\",\"2023-02-12T19:42:44+00:00\",\"2023-02-12T19:42:43+00:00\",\"2023-02-12T19:42:33+00:00\",\"2023-02-12T19:42:32+00:00\",\"2023-02-12T19:42:26+00:00\",\"2023-02-12T19:42:25+00:00\",\"2023-02-12T19:42:19+00:00\",\"2023-02-12T19:41:51+00:00\",\"2023-02-12T19:41:37+00:00\",\"2023-02-12T19:41:36+00:00\",\"2023-02-12T19:41:25+00:00\",\"2023-02-12T19:41:15+00:00\",\"2023-02-12T19:41:04+00:00\",\"2023-02-12T19:41:01+00:00\",\"2023-02-12T19:40:56+00:00\",\"2023-02-12T19:40:32+00:00\",\"2023-02-12T19:40:12+00:00\",\"2023-02-12T19:40:10+00:00\",\"2023-02-12T19:40:07+00:00\",\"2023-02-12T19:40:00+00:00\",\"2023-02-12T19:39:54+00:00\",\"2023-02-12T19:39:26+00:00\",\"2023-02-12T19:39:20+00:00\",\"2023-02-12T19:39:20+00:00\",\"2023-02-12T19:38:13+00:00\",\"2023-02-12T19:37:46+00:00\",\"2023-02-12T19:36:25+00:00\",\"2023-02-12T19:36:11+00:00\",\"2023-02-12T19:35:35+00:00\",\"2023-02-12T19:35:31+00:00\",\"2023-02-12T19:35:31+00:00\",\"2023-02-12T19:34:47+00:00\",\"2023-02-12T19:34:36+00:00\",\"2023-02-12T19:34:24+00:00\",\"2023-02-12T19:34:23+00:00\",\"2023-02-12T19:34:18+00:00\",\"2023-02-12T19:34:05+00:00\",\"2023-02-12T19:33:57+00:00\",\"2023-02-12T19:33:17+00:00\",\"2023-02-12T19:32:40+00:00\",\"2023-02-12T19:31:36+00:00\",\"2023-02-12T19:31:28+00:00\",\"2023-02-12T19:31:26+00:00\",\"2023-02-12T19:31:25+00:00\",\"2023-02-12T19:30:41+00:00\",\"2023-02-12T19:30:18+00:00\",\"2023-02-12T19:29:59+00:00\",\"2023-02-12T19:29:59+00:00\",\"2023-02-12T19:29:57+00:00\",\"2023-02-12T19:29:53+00:00\",\"2023-02-12T19:29:19+00:00\",\"2023-02-12T19:29:16+00:00\",\"2023-02-12T19:28:29+00:00\",\"2023-02-12T19:28:13+00:00\",\"2023-02-12T19:27:48+00:00\",\"2023-02-12T19:27:39+00:00\",\"2023-02-12T19:27:30+00:00\",\"2023-02-12T19:27:12+00:00\",\"2023-02-12T19:27:08+00:00\",\"2023-02-12T19:26:19+00:00\",\"2023-02-12T19:26:10+00:00\",\"2023-02-12T19:25:32+00:00\",\"2023-02-12T19:25:13+00:00\",\"2023-02-12T19:24:45+00:00\",\"2023-02-12T19:24:35+00:00\",\"2023-02-12T19:24:22+00:00\",\"2023-02-12T19:24:10+00:00\",\"2023-02-12T19:24:01+00:00\",\"2023-02-12T19:23:36+00:00\",\"2023-02-12T19:23:32+00:00\",\"2023-02-12T19:23:13+00:00\",\"2023-02-12T19:22:48+00:00\",\"2023-02-12T19:22:03+00:00\",\"2023-02-12T19:21:21+00:00\",\"2023-02-12T19:21:20+00:00\",\"2023-02-12T19:21:16+00:00\",\"2023-02-12T19:21:13+00:00\",\"2023-02-12T19:21:07+00:00\",\"2023-02-12T19:21:06+00:00\",\"2023-02-12T19:20:42+00:00\",\"2023-02-12T19:20:17+00:00\",\"2023-02-12T19:20:17+00:00\",\"2023-02-12T19:20:11+00:00\",\"2023-02-12T19:19:41+00:00\",\"2023-02-12T19:19:38+00:00\",\"2023-02-12T19:19:36+00:00\",\"2023-02-12T19:19:27+00:00\",\"2023-02-12T19:18:48+00:00\",\"2023-02-12T19:18:42+00:00\",\"2023-02-12T19:18:41+00:00\",\"2023-02-12T19:18:40+00:00\",\"2023-02-12T19:18:38+00:00\",\"2023-02-12T19:18:30+00:00\",\"2023-02-12T19:18:28+00:00\",\"2023-02-12T19:18:20+00:00\",\"2023-02-12T19:18:19+00:00\",\"2023-02-12T19:17:39+00:00\",\"2023-02-12T19:17:06+00:00\",\"2023-02-12T19:17:00+00:00\",\"2023-02-12T19:16:59+00:00\",\"2023-02-12T19:16:56+00:00\",\"2023-02-12T19:16:49+00:00\",\"2023-02-12T19:16:48+00:00\",\"2023-02-12T19:16:46+00:00\",\"2023-02-12T19:16:22+00:00\",\"2023-02-12T19:16:08+00:00\",\"2023-02-12T19:16:05+00:00\",\"2023-02-12T19:16:00+00:00\",\"2023-02-12T19:15:57+00:00\",\"2023-02-12T19:15:49+00:00\",\"2023-02-12T19:15:28+00:00\",\"2023-02-12T19:15:22+00:00\",\"2023-02-12T19:15:11+00:00\",\"2023-02-12T19:15:06+00:00\",\"2023-02-12T19:15:02+00:00\",\"2023-02-12T19:14:44+00:00\",\"2023-02-12T19:14:42+00:00\",\"2023-02-12T19:14:26+00:00\",\"2023-02-12T19:14:20+00:00\",\"2023-02-12T19:14:11+00:00\",\"2023-02-12T19:14:04+00:00\",\"2023-02-12T19:13:52+00:00\",\"2023-02-12T19:13:43+00:00\",\"2023-02-12T19:13:35+00:00\",\"2023-02-12T19:13:17+00:00\",\"2023-02-12T19:12:59+00:00\",\"2023-02-12T19:12:53+00:00\",\"2023-02-12T19:12:49+00:00\",\"2023-02-12T19:12:48+00:00\",\"2023-02-12T19:12:44+00:00\",\"2023-02-12T19:12:42+00:00\",\"2023-02-12T19:12:32+00:00\",\"2023-02-12T19:12:22+00:00\",\"2023-02-12T19:12:04+00:00\",\"2023-02-12T19:12:00+00:00\",\"2023-02-12T19:11:54+00:00\",\"2023-02-12T19:11:52+00:00\",\"2023-02-12T19:11:34+00:00\",\"2023-02-12T19:11:32+00:00\",\"2023-02-12T19:11:22+00:00\",\"2023-02-12T19:11:16+00:00\",\"2023-02-12T19:11:15+00:00\",\"2023-02-12T19:11:15+00:00\",\"2023-02-12T19:11:10+00:00\",\"2023-02-12T19:11:10+00:00\",\"2023-02-12T19:11:01+00:00\",\"2023-02-12T19:10:58+00:00\",\"2023-02-12T19:10:52+00:00\",\"2023-02-12T19:10:52+00:00\",\"2023-02-12T19:10:48+00:00\",\"2023-02-12T19:10:47+00:00\",\"2023-02-12T19:10:43+00:00\",\"2023-02-12T19:10:41+00:00\",\"2023-02-12T19:10:35+00:00\",\"2023-02-12T19:10:35+00:00\",\"2023-02-12T19:10:32+00:00\",\"2023-02-12T19:10:28+00:00\",\"2023-02-12T19:10:24+00:00\",\"2023-02-12T19:10:23+00:00\",\"2023-02-12T19:10:06+00:00\",\"2023-02-12T19:09:50+00:00\",\"2023-02-12T19:09:42+00:00\",\"2023-02-12T19:09:28+00:00\",\"2023-02-12T19:09:00+00:00\",\"2023-02-12T19:08:58+00:00\",\"2023-02-12T19:08:56+00:00\",\"2023-02-12T19:08:52+00:00\",\"2023-02-12T19:08:51+00:00\",\"2023-02-12T19:08:51+00:00\",\"2023-02-12T19:08:48+00:00\",\"2023-02-12T19:08:47+00:00\",\"2023-02-12T19:08:35+00:00\",\"2023-02-12T19:08:22+00:00\",\"2023-02-12T19:08:21+00:00\",\"2023-02-12T19:08:17+00:00\",\"2023-02-12T19:08:13+00:00\",\"2023-02-12T19:08:13+00:00\",\"2023-02-12T19:08:04+00:00\",\"2023-02-12T19:08:00+00:00\",\"2023-02-12T19:07:58+00:00\",\"2023-02-12T19:07:55+00:00\",\"2023-02-12T19:07:54+00:00\",\"2023-02-12T19:07:41+00:00\",\"2023-02-12T19:07:39+00:00\",\"2023-02-12T19:07:39+00:00\",\"2023-02-12T19:07:35+00:00\",\"2023-02-12T19:07:34+00:00\",\"2023-02-12T19:07:34+00:00\",\"2023-02-12T19:07:30+00:00\",\"2023-02-12T19:07:28+00:00\",\"2023-02-12T19:07:22+00:00\",\"2023-02-12T19:07:20+00:00\",\"2023-02-12T19:07:13+00:00\",\"2023-02-12T19:07:08+00:00\",\"2023-02-12T19:07:08+00:00\",\"2023-02-12T19:06:59+00:00\",\"2023-02-12T19:06:55+00:00\",\"2023-02-12T19:06:55+00:00\",\"2023-02-12T19:06:54+00:00\",\"2023-02-12T19:06:53+00:00\",\"2023-02-12T19:06:49+00:00\",\"2023-02-12T19:06:48+00:00\",\"2023-02-12T19:06:41+00:00\",\"2023-02-12T19:06:41+00:00\",\"2023-02-12T19:06:40+00:00\",\"2023-02-12T19:06:36+00:00\",\"2023-02-12T19:06:33+00:00\",\"2023-02-12T19:06:30+00:00\",\"2023-02-12T19:06:29+00:00\",\"2023-02-12T19:06:27+00:00\",\"2023-02-12T19:06:23+00:00\",\"2023-02-12T19:06:18+00:00\",\"2023-02-12T19:06:13+00:00\",\"2023-02-12T19:06:01+00:00\",\"2023-02-12T19:05:56+00:00\",\"2023-02-12T19:05:53+00:00\",\"2023-02-12T19:05:52+00:00\",\"2023-02-12T19:05:50+00:00\",\"2023-02-12T19:05:45+00:00\",\"2023-02-12T19:05:38+00:00\",\"2023-02-12T19:05:37+00:00\",\"2023-02-12T19:05:36+00:00\",\"2023-02-12T19:05:30+00:00\",\"2023-02-12T19:05:07+00:00\",\"2023-02-12T19:05:06+00:00\",\"2023-02-12T19:05:06+00:00\",\"2023-02-12T19:05:03+00:00\",\"2023-02-12T19:04:57+00:00\",\"2023-02-12T19:04:55+00:00\",\"2023-02-12T19:04:49+00:00\",\"2023-02-12T19:04:25+00:00\",\"2023-02-12T19:04:21+00:00\",\"2023-02-12T19:04:13+00:00\",\"2023-02-12T19:04:11+00:00\",\"2023-02-12T19:04:06+00:00\",\"2023-02-12T19:04:03+00:00\",\"2023-02-12T19:04:02+00:00\",\"2023-02-12T19:03:56+00:00\",\"2023-02-12T19:03:56+00:00\",\"2023-02-12T19:03:55+00:00\",\"2023-02-12T19:03:49+00:00\",\"2023-02-12T19:03:48+00:00\",\"2023-02-12T19:03:46+00:00\",\"2023-02-12T19:03:46+00:00\",\"2023-02-12T19:03:45+00:00\",\"2023-02-12T19:03:44+00:00\",\"2023-02-12T19:03:41+00:00\",\"2023-02-12T19:03:41+00:00\",\"2023-02-12T19:03:40+00:00\",\"2023-02-12T19:03:33+00:00\",\"2023-02-12T19:03:32+00:00\",\"2023-02-12T19:03:31+00:00\",\"2023-02-12T19:03:26+00:00\",\"2023-02-12T19:03:25+00:00\",\"2023-02-12T19:03:25+00:00\",\"2023-02-12T19:03:22+00:00\",\"2023-02-12T19:03:21+00:00\",\"2023-02-12T19:03:18+00:00\",\"2023-02-12T19:03:05+00:00\",\"2023-02-12T19:03:05+00:00\",\"2023-02-12T19:03:02+00:00\",\"2023-02-12T19:02:58+00:00\",\"2023-02-12T19:02:56+00:00\",\"2023-02-12T19:02:53+00:00\",\"2023-02-12T19:02:41+00:00\",\"2023-02-12T19:02:36+00:00\",\"2023-02-12T19:02:28+00:00\",\"2023-02-12T19:02:25+00:00\",\"2023-02-12T19:02:25+00:00\",\"2023-02-12T19:02:21+00:00\",\"2023-02-12T19:02:19+00:00\",\"2023-02-12T19:02:14+00:00\",\"2023-02-12T19:02:11+00:00\",\"2023-02-12T19:01:58+00:00\",\"2023-02-12T19:01:44+00:00\",\"2023-02-12T19:00:46+00:00\",\"2023-02-12T19:00:33+00:00\",\"2023-02-12T19:00:28+00:00\",\"2023-02-12T19:00:28+00:00\",\"2023-02-12T19:00:20+00:00\",\"2023-02-12T18:59:55+00:00\",\"2023-02-12T18:59:47+00:00\",\"2023-02-12T18:59:43+00:00\",\"2023-02-12T18:59:31+00:00\",\"2023-02-12T18:59:27+00:00\",\"2023-02-12T18:58:49+00:00\",\"2023-02-12T18:58:47+00:00\",\"2023-02-12T18:58:33+00:00\",\"2023-02-12T18:58:20+00:00\",\"2023-02-12T18:58:10+00:00\",\"2023-02-12T18:57:38+00:00\",\"2023-02-12T18:57:24+00:00\",\"2023-02-12T18:57:17+00:00\",\"2023-02-12T18:57:14+00:00\",\"2023-02-12T18:56:52+00:00\",\"2023-02-12T18:56:41+00:00\",\"2023-02-12T18:55:40+00:00\",\"2023-02-12T18:55:33+00:00\",\"2023-02-12T18:54:44+00:00\",\"2023-02-12T18:54:39+00:00\",\"2023-02-12T18:54:09+00:00\",\"2023-02-12T18:53:22+00:00\",\"2023-02-12T18:53:11+00:00\",\"2023-02-12T18:52:52+00:00\",\"2023-02-12T18:52:42+00:00\",\"2023-02-12T18:52:36+00:00\",\"2023-02-12T18:52:07+00:00\",\"2023-02-12T18:52:05+00:00\",\"2023-02-12T18:51:54+00:00\",\"2023-02-12T18:51:43+00:00\",\"2023-02-12T18:51:32+00:00\",\"2023-02-12T18:51:30+00:00\",\"2023-02-12T18:51:28+00:00\",\"2023-02-12T18:51:26+00:00\",\"2023-02-12T18:51:07+00:00\",\"2023-02-12T18:51:03+00:00\",\"2023-02-12T18:50:59+00:00\",\"2023-02-12T18:50:55+00:00\",\"2023-02-12T18:50:48+00:00\",\"2023-02-12T18:50:42+00:00\",\"2023-02-12T18:50:39+00:00\",\"2023-02-12T18:50:19+00:00\",\"2023-02-12T18:50:17+00:00\",\"2023-02-12T18:49:44+00:00\",\"2023-02-12T18:48:54+00:00\",\"2023-02-12T18:47:59+00:00\",\"2023-02-12T18:47:58+00:00\",\"2023-02-12T18:47:22+00:00\",\"2023-02-12T18:46:11+00:00\",\"2023-02-12T18:46:09+00:00\",\"2023-02-12T18:45:39+00:00\",\"2023-02-12T18:45:25+00:00\",\"2023-02-12T18:45:08+00:00\",\"2023-02-12T18:44:57+00:00\",\"2023-02-12T18:44:47+00:00\",\"2023-02-12T18:44:22+00:00\",\"2023-02-12T18:44:01+00:00\",\"2023-02-12T18:43:55+00:00\",\"2023-02-12T18:43:32+00:00\",\"2023-02-12T18:43:31+00:00\",\"2023-02-12T18:43:02+00:00\",\"2023-02-12T18:42:36+00:00\",\"2023-02-12T18:42:23+00:00\",\"2023-02-12T18:42:19+00:00\",\"2023-02-12T18:42:18+00:00\",\"2023-02-12T18:41:56+00:00\",\"2023-02-12T18:41:32+00:00\",\"2023-02-12T18:41:25+00:00\",\"2023-02-12T18:41:18+00:00\",\"2023-02-12T18:41:12+00:00\",\"2023-02-12T18:41:02+00:00\",\"2023-02-12T18:40:58+00:00\",\"2023-02-12T18:40:50+00:00\",\"2023-02-12T18:40:19+00:00\",\"2023-02-12T18:40:08+00:00\",\"2023-02-12T18:40:08+00:00\",\"2023-02-12T18:40:07+00:00\",\"2023-02-12T18:39:57+00:00\",\"2023-02-12T18:39:54+00:00\",\"2023-02-12T18:39:44+00:00\",\"2023-02-12T18:39:18+00:00\",\"2023-02-12T18:39:09+00:00\",\"2023-02-12T18:39:03+00:00\",\"2023-02-12T18:38:50+00:00\",\"2023-02-12T18:38:47+00:00\",\"2023-02-12T18:38:43+00:00\",\"2023-02-12T18:38:27+00:00\",\"2023-02-12T18:38:26+00:00\",\"2023-02-12T18:38:13+00:00\",\"2023-02-12T18:38:06+00:00\",\"2023-02-12T18:37:44+00:00\",\"2023-02-12T18:37:28+00:00\",\"2023-02-12T18:37:26+00:00\",\"2023-02-12T18:37:13+00:00\",\"2023-02-12T18:37:02+00:00\",\"2023-02-12T18:37:01+00:00\",\"2023-02-12T18:36:50+00:00\",\"2023-02-12T18:36:43+00:00\",\"2023-02-12T18:36:36+00:00\",\"2023-02-12T18:36:30+00:00\",\"2023-02-12T18:36:27+00:00\",\"2023-02-12T18:36:26+00:00\",\"2023-02-12T18:36:19+00:00\",\"2023-02-12T18:36:09+00:00\",\"2023-02-12T18:36:09+00:00\",\"2023-02-12T18:36:08+00:00\",\"2023-02-12T18:36:01+00:00\",\"2023-02-12T18:36:00+00:00\",\"2023-02-12T18:35:58+00:00\",\"2023-02-12T18:35:46+00:00\",\"2023-02-12T18:35:35+00:00\",\"2023-02-12T18:35:34+00:00\",\"2023-02-12T18:35:22+00:00\",\"2023-02-12T18:35:17+00:00\",\"2023-02-12T18:35:15+00:00\",\"2023-02-12T18:35:12+00:00\",\"2023-02-12T18:35:09+00:00\",\"2023-02-12T18:35:07+00:00\",\"2023-02-12T18:35:05+00:00\",\"2023-02-12T18:34:54+00:00\",\"2023-02-12T18:34:53+00:00\",\"2023-02-12T18:34:46+00:00\",\"2023-02-12T18:34:35+00:00\",\"2023-02-12T18:34:23+00:00\",\"2023-02-12T18:34:21+00:00\",\"2023-02-12T18:34:21+00:00\",\"2023-02-12T18:34:20+00:00\",\"2023-02-12T18:33:57+00:00\",\"2023-02-12T18:33:46+00:00\",\"2023-02-12T18:33:38+00:00\",\"2023-02-12T18:33:13+00:00\",\"2023-02-12T18:33:11+00:00\",\"2023-02-12T18:33:08+00:00\",\"2023-02-12T18:32:56+00:00\",\"2023-02-12T18:32:50+00:00\",\"2023-02-12T18:32:07+00:00\",\"2023-02-12T18:32:05+00:00\",\"2023-02-12T18:31:41+00:00\",\"2023-02-12T18:31:13+00:00\",\"2023-02-12T18:31:12+00:00\",\"2023-02-12T18:31:07+00:00\",\"2023-02-12T18:30:57+00:00\",\"2023-02-12T18:30:56+00:00\",\"2023-02-12T18:30:53+00:00\",\"2023-02-12T18:30:49+00:00\",\"2023-02-12T18:30:42+00:00\",\"2023-02-12T18:30:36+00:00\",\"2023-02-12T18:29:39+00:00\",\"2023-02-12T18:29:28+00:00\",\"2023-02-12T18:29:26+00:00\",\"2023-02-12T18:29:10+00:00\",\"2023-02-12T18:29:08+00:00\",\"2023-02-12T18:28:58+00:00\",\"2023-02-12T18:28:56+00:00\",\"2023-02-12T18:28:21+00:00\",\"2023-02-12T18:28:17+00:00\",\"2023-02-12T18:28:00+00:00\",\"2023-02-12T18:27:01+00:00\",\"2023-02-12T18:26:59+00:00\",\"2023-02-12T18:26:54+00:00\",\"2023-02-12T18:26:53+00:00\",\"2023-02-12T18:26:17+00:00\",\"2023-02-12T18:25:40+00:00\",\"2023-02-12T18:24:13+00:00\",\"2023-02-12T18:24:05+00:00\",\"2023-02-12T18:22:57+00:00\",\"2023-02-12T18:22:44+00:00\",\"2023-02-12T18:22:39+00:00\",\"2023-02-12T18:22:25+00:00\",\"2023-02-12T18:21:50+00:00\",\"2023-02-12T18:21:30+00:00\",\"2023-02-12T18:20:41+00:00\",\"2023-02-12T18:20:31+00:00\",\"2023-02-12T18:20:19+00:00\",\"2023-02-12T18:19:54+00:00\",\"2023-02-12T18:18:59+00:00\",\"2023-02-12T18:18:16+00:00\",\"2023-02-12T18:18:16+00:00\",\"2023-02-12T18:17:46+00:00\",\"2023-02-12T18:17:09+00:00\",\"2023-02-12T18:16:58+00:00\",\"2023-02-12T18:16:36+00:00\",\"2023-02-12T18:16:29+00:00\",\"2023-02-12T18:16:14+00:00\",\"2023-02-12T18:15:52+00:00\",\"2023-02-12T18:15:35+00:00\",\"2023-02-12T18:15:30+00:00\",\"2023-02-12T18:15:24+00:00\",\"2023-02-12T18:14:15+00:00\",\"2023-02-12T18:14:15+00:00\",\"2023-02-12T18:13:51+00:00\",\"2023-02-12T18:13:51+00:00\",\"2023-02-12T18:13:46+00:00\",\"2023-02-12T18:13:45+00:00\",\"2023-02-12T18:13:44+00:00\",\"2023-02-12T18:13:10+00:00\",\"2023-02-12T18:12:55+00:00\",\"2023-02-12T18:12:46+00:00\",\"2023-02-12T18:12:38+00:00\",\"2023-02-12T18:12:17+00:00\",\"2023-02-12T18:12:10+00:00\",\"2023-02-12T18:12:00+00:00\",\"2023-02-12T18:11:51+00:00\",\"2023-02-12T18:11:23+00:00\",\"2023-02-12T18:11:14+00:00\",\"2023-02-12T18:11:06+00:00\",\"2023-02-12T18:11:04+00:00\",\"2023-02-12T18:10:43+00:00\",\"2023-02-12T18:10:32+00:00\",\"2023-02-12T18:10:27+00:00\",\"2023-02-12T18:10:23+00:00\",\"2023-02-12T18:10:00+00:00\",\"2023-02-12T18:09:55+00:00\",\"2023-02-12T18:09:53+00:00\",\"2023-02-12T18:09:47+00:00\",\"2023-02-12T18:09:35+00:00\",\"2023-02-12T18:09:29+00:00\",\"2023-02-12T18:09:28+00:00\",\"2023-02-12T18:09:22+00:00\",\"2023-02-12T18:09:16+00:00\",\"2023-02-12T18:09:03+00:00\",\"2023-02-12T18:08:58+00:00\",\"2023-02-12T18:08:58+00:00\",\"2023-02-12T18:08:55+00:00\",\"2023-02-12T18:08:48+00:00\",\"2023-02-12T18:08:40+00:00\",\"2023-02-12T18:08:32+00:00\",\"2023-02-12T18:08:10+00:00\",\"2023-02-12T18:08:10+00:00\",\"2023-02-12T18:08:07+00:00\",\"2023-02-12T18:07:58+00:00\",\"2023-02-12T18:07:55+00:00\",\"2023-02-12T18:07:31+00:00\",\"2023-02-12T18:07:24+00:00\",\"2023-02-12T18:07:17+00:00\",\"2023-02-12T18:07:14+00:00\",\"2023-02-12T18:07:05+00:00\",\"2023-02-12T18:07:05+00:00\",\"2023-02-12T18:07:04+00:00\",\"2023-02-12T18:07:01+00:00\",\"2023-02-12T18:06:57+00:00\",\"2023-02-12T18:06:53+00:00\",\"2023-02-12T18:06:39+00:00\",\"2023-02-12T18:06:39+00:00\",\"2023-02-12T18:06:36+00:00\",\"2023-02-12T18:06:26+00:00\",\"2023-02-12T18:06:25+00:00\",\"2023-02-12T18:06:24+00:00\",\"2023-02-12T18:06:18+00:00\",\"2023-02-12T18:06:12+00:00\",\"2023-02-12T18:06:09+00:00\",\"2023-02-12T18:06:03+00:00\",\"2023-02-12T18:05:57+00:00\",\"2023-02-12T18:05:41+00:00\",\"2023-02-12T18:05:25+00:00\",\"2023-02-12T18:05:10+00:00\",\"2023-02-12T18:05:02+00:00\",\"2023-02-12T18:04:59+00:00\",\"2023-02-12T18:04:55+00:00\",\"2023-02-12T18:04:34+00:00\",\"2023-02-12T18:04:21+00:00\",\"2023-02-12T18:04:20+00:00\",\"2023-02-12T18:04:13+00:00\",\"2023-02-12T18:04:05+00:00\",\"2023-02-12T18:03:58+00:00\",\"2023-02-12T18:03:56+00:00\",\"2023-02-12T18:03:51+00:00\",\"2023-02-12T18:03:36+00:00\",\"2023-02-12T18:03:34+00:00\",\"2023-02-12T18:03:24+00:00\",\"2023-02-12T18:03:16+00:00\",\"2023-02-12T18:03:09+00:00\",\"2023-02-12T18:03:04+00:00\",\"2023-02-12T18:02:55+00:00\",\"2023-02-12T18:02:52+00:00\",\"2023-02-12T18:02:40+00:00\",\"2023-02-12T18:02:27+00:00\",\"2023-02-12T18:02:23+00:00\",\"2023-02-12T18:02:11+00:00\",\"2023-02-12T18:02:05+00:00\",\"2023-02-12T18:02:01+00:00\",\"2023-02-12T18:02:00+00:00\",\"2023-02-12T18:01:57+00:00\",\"2023-02-12T18:01:56+00:00\",\"2023-02-12T18:01:46+00:00\",\"2023-02-12T18:01:21+00:00\",\"2023-02-12T18:01:20+00:00\",\"2023-02-12T18:01:18+00:00\",\"2023-02-12T18:01:07+00:00\",\"2023-02-12T18:01:05+00:00\",\"2023-02-12T18:00:53+00:00\",\"2023-02-12T18:00:38+00:00\",\"2023-02-12T18:00:35+00:00\",\"2023-02-12T18:00:33+00:00\",\"2023-02-12T18:00:20+00:00\",\"2023-02-12T18:00:18+00:00\",\"2023-02-12T18:00:09+00:00\",\"2023-02-12T17:59:51+00:00\",\"2023-02-12T17:59:49+00:00\",\"2023-02-12T17:59:47+00:00\",\"2023-02-12T17:59:42+00:00\",\"2023-02-12T17:59:41+00:00\",\"2023-02-12T17:59:38+00:00\",\"2023-02-12T17:59:35+00:00\",\"2023-02-12T17:59:30+00:00\",\"2023-02-12T17:59:27+00:00\",\"2023-02-12T17:59:27+00:00\",\"2023-02-12T17:59:27+00:00\",\"2023-02-12T17:59:20+00:00\",\"2023-02-12T17:58:58+00:00\",\"2023-02-12T17:58:56+00:00\",\"2023-02-12T17:58:52+00:00\",\"2023-02-12T17:58:47+00:00\",\"2023-02-12T17:58:20+00:00\",\"2023-02-12T17:58:00+00:00\",\"2023-02-12T17:57:58+00:00\",\"2023-02-12T17:57:43+00:00\",\"2023-02-12T17:57:36+00:00\",\"2023-02-12T17:57:03+00:00\",\"2023-02-12T17:56:31+00:00\",\"2023-02-12T17:56:17+00:00\",\"2023-02-12T17:56:00+00:00\",\"2023-02-12T17:55:38+00:00\",\"2023-02-12T17:55:35+00:00\",\"2023-02-12T17:55:27+00:00\",\"2023-02-12T17:55:25+00:00\",\"2023-02-12T17:55:22+00:00\",\"2023-02-12T17:55:14+00:00\",\"2023-02-12T17:55:09+00:00\",\"2023-02-12T17:55:06+00:00\",\"2023-02-12T17:54:57+00:00\",\"2023-02-12T17:54:35+00:00\",\"2023-02-12T17:54:34+00:00\",\"2023-02-12T17:54:28+00:00\",\"2023-02-12T17:54:19+00:00\",\"2023-02-12T17:53:36+00:00\",\"2023-02-12T17:53:34+00:00\",\"2023-02-12T17:53:32+00:00\",\"2023-02-12T17:53:16+00:00\",\"2023-02-12T17:53:08+00:00\",\"2023-02-12T17:52:56+00:00\",\"2023-02-12T17:52:24+00:00\",\"2023-02-12T17:51:41+00:00\",\"2023-02-12T17:51:21+00:00\",\"2023-02-12T17:51:18+00:00\",\"2023-02-12T17:51:15+00:00\",\"2023-02-12T17:51:12+00:00\",\"2023-02-12T17:51:05+00:00\",\"2023-02-12T17:50:50+00:00\",\"2023-02-12T17:50:49+00:00\",\"2023-02-12T17:50:48+00:00\",\"2023-02-12T17:50:48+00:00\",\"2023-02-12T17:50:31+00:00\",\"2023-02-12T17:50:25+00:00\",\"2023-02-12T17:50:04+00:00\",\"2023-02-12T17:49:38+00:00\",\"2023-02-12T17:49:34+00:00\",\"2023-02-12T17:49:31+00:00\",\"2023-02-12T17:48:59+00:00\",\"2023-02-12T17:48:55+00:00\",\"2023-02-12T17:48:52+00:00\",\"2023-02-12T17:48:49+00:00\",\"2023-02-12T17:48:47+00:00\",\"2023-02-12T17:48:25+00:00\",\"2023-02-12T17:48:09+00:00\",\"2023-02-12T17:48:03+00:00\",\"2023-02-12T17:48:02+00:00\",\"2023-02-12T17:47:22+00:00\",\"2023-02-12T17:47:16+00:00\",\"2023-02-12T17:46:37+00:00\",\"2023-02-12T17:46:36+00:00\",\"2023-02-12T17:46:36+00:00\",\"2023-02-12T17:46:34+00:00\",\"2023-02-12T17:46:32+00:00\",\"2023-02-12T17:46:24+00:00\",\"2023-02-12T17:45:49+00:00\",\"2023-02-12T17:45:40+00:00\",\"2023-02-12T17:45:36+00:00\",\"2023-02-12T17:45:34+00:00\",\"2023-02-12T17:45:30+00:00\",\"2023-02-12T17:45:00+00:00\",\"2023-02-12T17:44:27+00:00\",\"2023-02-12T17:44:23+00:00\",\"2023-02-12T17:43:52+00:00\",\"2023-02-12T17:43:48+00:00\",\"2023-02-12T17:43:48+00:00\",\"2023-02-12T17:43:42+00:00\",\"2023-02-12T17:43:29+00:00\",\"2023-02-12T17:43:17+00:00\",\"2023-02-12T17:43:11+00:00\",\"2023-02-12T17:43:11+00:00\",\"2023-02-12T17:43:05+00:00\",\"2023-02-12T17:42:51+00:00\",\"2023-02-12T17:42:46+00:00\",\"2023-02-12T17:42:43+00:00\",\"2023-02-12T17:42:34+00:00\",\"2023-02-12T17:42:20+00:00\",\"2023-02-12T17:42:16+00:00\",\"2023-02-12T17:42:16+00:00\",\"2023-02-12T17:42:14+00:00\",\"2023-02-12T17:41:57+00:00\",\"2023-02-12T17:41:46+00:00\",\"2023-02-12T17:41:45+00:00\",\"2023-02-12T17:41:41+00:00\",\"2023-02-12T17:41:13+00:00\",\"2023-02-12T17:41:05+00:00\",\"2023-02-12T17:41:04+00:00\",\"2023-02-12T17:41:04+00:00\",\"2023-02-12T17:40:40+00:00\",\"2023-02-12T17:40:40+00:00\",\"2023-02-12T17:40:33+00:00\",\"2023-02-12T17:40:11+00:00\",\"2023-02-12T17:39:33+00:00\",\"2023-02-12T17:39:27+00:00\",\"2023-02-12T17:39:21+00:00\",\"2023-02-12T17:39:18+00:00\",\"2023-02-12T17:39:17+00:00\",\"2023-02-12T17:39:07+00:00\",\"2023-02-12T17:38:58+00:00\",\"2023-02-12T17:38:52+00:00\",\"2023-02-12T17:38:47+00:00\",\"2023-02-12T17:38:38+00:00\",\"2023-02-12T17:38:37+00:00\",\"2023-02-12T17:38:36+00:00\",\"2023-02-12T17:38:35+00:00\",\"2023-02-12T17:38:27+00:00\",\"2023-02-12T17:38:26+00:00\",\"2023-02-12T17:38:10+00:00\",\"2023-02-12T17:37:59+00:00\",\"2023-02-12T17:37:45+00:00\",\"2023-02-12T17:37:28+00:00\",\"2023-02-12T17:37:09+00:00\",\"2023-02-12T17:37:06+00:00\",\"2023-02-12T17:36:57+00:00\",\"2023-02-12T17:36:53+00:00\",\"2023-02-12T17:36:53+00:00\",\"2023-02-12T17:36:53+00:00\",\"2023-02-12T17:36:47+00:00\",\"2023-02-12T17:36:45+00:00\",\"2023-02-12T17:36:31+00:00\",\"2023-02-12T17:36:24+00:00\",\"2023-02-12T17:36:22+00:00\",\"2023-02-12T17:36:12+00:00\",\"2023-02-12T17:36:10+00:00\",\"2023-02-12T17:36:01+00:00\",\"2023-02-12T17:35:53+00:00\",\"2023-02-12T17:35:41+00:00\",\"2023-02-12T17:35:37+00:00\",\"2023-02-12T17:35:35+00:00\",\"2023-02-12T17:35:15+00:00\",\"2023-02-12T17:35:11+00:00\",\"2023-02-12T17:35:09+00:00\",\"2023-02-12T17:35:06+00:00\",\"2023-02-12T17:34:56+00:00\",\"2023-02-12T17:34:55+00:00\",\"2023-02-12T17:34:55+00:00\",\"2023-02-12T17:34:54+00:00\",\"2023-02-12T17:34:40+00:00\",\"2023-02-12T17:34:37+00:00\",\"2023-02-12T17:34:19+00:00\",\"2023-02-12T17:34:16+00:00\",\"2023-02-12T17:33:55+00:00\",\"2023-02-12T17:33:41+00:00\",\"2023-02-12T17:33:25+00:00\",\"2023-02-12T17:33:17+00:00\",\"2023-02-12T17:33:15+00:00\",\"2023-02-12T17:33:13+00:00\",\"2023-02-12T17:32:57+00:00\",\"2023-02-12T17:32:54+00:00\",\"2023-02-12T17:32:45+00:00\",\"2023-02-12T17:32:31+00:00\",\"2023-02-12T17:32:30+00:00\",\"2023-02-12T17:32:06+00:00\",\"2023-02-12T17:31:54+00:00\",\"2023-02-12T17:31:52+00:00\",\"2023-02-12T17:31:28+00:00\",\"2023-02-12T17:31:26+00:00\",\"2023-02-12T17:31:07+00:00\",\"2023-02-12T17:29:55+00:00\",\"2023-02-12T17:29:54+00:00\",\"2023-02-12T17:29:37+00:00\",\"2023-02-12T17:29:25+00:00\",\"2023-02-12T17:29:22+00:00\",\"2023-02-12T17:29:19+00:00\",\"2023-02-12T17:28:46+00:00\",\"2023-02-12T17:28:43+00:00\",\"2023-02-12T17:28:40+00:00\",\"2023-02-12T17:28:31+00:00\",\"2023-02-12T17:28:26+00:00\",\"2023-02-12T17:28:22+00:00\",\"2023-02-12T17:28:18+00:00\",\"2023-02-12T17:28:16+00:00\",\"2023-02-12T17:28:13+00:00\",\"2023-02-12T17:28:10+00:00\",\"2023-02-12T17:28:08+00:00\",\"2023-02-12T17:28:00+00:00\",\"2023-02-12T17:27:45+00:00\",\"2023-02-12T17:27:41+00:00\",\"2023-02-12T17:27:30+00:00\",\"2023-02-12T17:27:27+00:00\",\"2023-02-12T17:27:24+00:00\",\"2023-02-12T17:27:13+00:00\",\"2023-02-12T17:27:12+00:00\",\"2023-02-12T17:27:03+00:00\",\"2023-02-12T17:26:51+00:00\",\"2023-02-12T17:26:50+00:00\",\"2023-02-12T17:26:02+00:00\",\"2023-02-12T17:25:59+00:00\",\"2023-02-12T17:25:31+00:00\",\"2023-02-12T17:25:21+00:00\",\"2023-02-12T17:25:05+00:00\",\"2023-02-12T17:25:01+00:00\",\"2023-02-12T17:24:47+00:00\",\"2023-02-12T17:24:42+00:00\",\"2023-02-12T17:24:29+00:00\",\"2023-02-12T17:24:23+00:00\",\"2023-02-12T17:24:21+00:00\",\"2023-02-12T17:24:19+00:00\",\"2023-02-12T17:23:57+00:00\",\"2023-02-12T17:23:56+00:00\",\"2023-02-12T17:23:41+00:00\",\"2023-02-12T17:23:41+00:00\",\"2023-02-12T17:23:39+00:00\",\"2023-02-12T17:23:27+00:00\",\"2023-02-12T17:23:23+00:00\",\"2023-02-12T17:23:22+00:00\",\"2023-02-12T17:23:21+00:00\",\"2023-02-12T17:23:20+00:00\",\"2023-02-12T17:23:19+00:00\",\"2023-02-12T17:23:11+00:00\",\"2023-02-12T17:23:07+00:00\",\"2023-02-12T17:23:03+00:00\",\"2023-02-12T17:22:47+00:00\",\"2023-02-12T17:22:38+00:00\",\"2023-02-12T17:22:38+00:00\",\"2023-02-12T17:22:08+00:00\",\"2023-02-12T17:22:02+00:00\",\"2023-02-12T17:21:52+00:00\",\"2023-02-12T17:21:51+00:00\",\"2023-02-12T17:21:48+00:00\",\"2023-02-12T17:21:14+00:00\",\"2023-02-12T17:21:03+00:00\",\"2023-02-12T17:20:56+00:00\",\"2023-02-12T17:20:56+00:00\",\"2023-02-12T17:20:54+00:00\",\"2023-02-12T17:20:42+00:00\",\"2023-02-12T17:20:37+00:00\",\"2023-02-12T17:20:34+00:00\",\"2023-02-12T17:20:06+00:00\",\"2023-02-12T17:20:02+00:00\",\"2023-02-12T17:19:49+00:00\",\"2023-02-12T17:19:40+00:00\",\"2023-02-12T17:19:36+00:00\",\"2023-02-12T17:19:33+00:00\",\"2023-02-12T17:19:30+00:00\",\"2023-02-12T17:19:25+00:00\",\"2023-02-12T17:19:25+00:00\",\"2023-02-12T17:19:22+00:00\",\"2023-02-12T17:19:18+00:00\",\"2023-02-12T17:19:10+00:00\",\"2023-02-12T17:19:07+00:00\",\"2023-02-12T17:19:03+00:00\",\"2023-02-12T17:19:00+00:00\",\"2023-02-12T17:18:54+00:00\",\"2023-02-12T17:18:49+00:00\",\"2023-02-12T17:18:47+00:00\",\"2023-02-12T17:18:46+00:00\",\"2023-02-12T17:18:45+00:00\",\"2023-02-12T17:18:41+00:00\",\"2023-02-12T17:18:38+00:00\",\"2023-02-12T17:18:37+00:00\",\"2023-02-12T17:18:31+00:00\",\"2023-02-12T17:18:28+00:00\",\"2023-02-12T17:18:16+00:00\",\"2023-02-12T17:18:12+00:00\",\"2023-02-12T17:18:02+00:00\",\"2023-02-12T17:17:59+00:00\",\"2023-02-12T17:17:56+00:00\",\"2023-02-12T17:17:54+00:00\",\"2023-02-12T17:17:54+00:00\",\"2023-02-12T17:17:52+00:00\",\"2023-02-12T17:17:48+00:00\",\"2023-02-12T17:17:45+00:00\",\"2023-02-12T17:17:39+00:00\",\"2023-02-12T17:17:36+00:00\",\"2023-02-12T17:17:34+00:00\",\"2023-02-12T17:17:33+00:00\",\"2023-02-12T17:17:32+00:00\",\"2023-02-12T17:17:26+00:00\",\"2023-02-12T17:17:23+00:00\",\"2023-02-12T17:17:15+00:00\",\"2023-02-12T17:17:04+00:00\",\"2023-02-12T17:17:02+00:00\",\"2023-02-12T17:16:59+00:00\",\"2023-02-12T17:16:58+00:00\",\"2023-02-12T17:16:54+00:00\",\"2023-02-12T17:16:43+00:00\",\"2023-02-12T17:16:37+00:00\",\"2023-02-12T17:16:30+00:00\",\"2023-02-12T17:16:23+00:00\",\"2023-02-12T17:16:04+00:00\",\"2023-02-12T17:16:03+00:00\",\"2023-02-12T17:16:00+00:00\",\"2023-02-12T17:15:57+00:00\",\"2023-02-12T17:15:50+00:00\",\"2023-02-12T17:15:49+00:00\",\"2023-02-12T17:15:49+00:00\",\"2023-02-12T17:15:48+00:00\",\"2023-02-12T17:15:48+00:00\",\"2023-02-12T17:15:47+00:00\",\"2023-02-12T17:15:44+00:00\",\"2023-02-12T17:15:40+00:00\",\"2023-02-12T17:15:39+00:00\",\"2023-02-12T17:15:38+00:00\",\"2023-02-12T17:15:37+00:00\",\"2023-02-12T17:15:36+00:00\",\"2023-02-12T17:15:29+00:00\",\"2023-02-12T17:15:23+00:00\",\"2023-02-12T17:15:21+00:00\",\"2023-02-12T17:15:17+00:00\",\"2023-02-12T17:15:05+00:00\",\"2023-02-12T17:15:01+00:00\",\"2023-02-12T17:15:00+00:00\",\"2023-02-12T17:14:58+00:00\",\"2023-02-12T17:14:57+00:00\",\"2023-02-12T17:14:50+00:00\",\"2023-02-12T17:14:49+00:00\",\"2023-02-12T17:14:43+00:00\",\"2023-02-12T17:14:40+00:00\",\"2023-02-12T17:14:26+00:00\",\"2023-02-12T17:14:23+00:00\",\"2023-02-12T17:14:22+00:00\",\"2023-02-12T17:14:21+00:00\",\"2023-02-12T17:14:12+00:00\",\"2023-02-12T17:14:06+00:00\",\"2023-02-12T17:13:52+00:00\",\"2023-02-12T17:13:25+00:00\",\"2023-02-12T17:13:22+00:00\",\"2023-02-12T17:13:18+00:00\",\"2023-02-12T17:13:06+00:00\",\"2023-02-12T17:13:05+00:00\",\"2023-02-12T17:13:02+00:00\",\"2023-02-12T17:12:55+00:00\",\"2023-02-12T17:12:54+00:00\",\"2023-02-12T17:12:52+00:00\",\"2023-02-12T17:12:51+00:00\",\"2023-02-12T17:12:49+00:00\",\"2023-02-12T17:12:48+00:00\",\"2023-02-12T17:12:46+00:00\",\"2023-02-12T17:12:43+00:00\",\"2023-02-12T17:12:41+00:00\",\"2023-02-12T17:12:39+00:00\",\"2023-02-12T17:12:30+00:00\",\"2023-02-12T17:12:20+00:00\",\"2023-02-12T17:12:12+00:00\",\"2023-02-12T17:12:10+00:00\",\"2023-02-12T17:12:10+00:00\",\"2023-02-12T17:12:10+00:00\",\"2023-02-12T17:12:08+00:00\",\"2023-02-12T17:12:01+00:00\",\"2023-02-12T17:11:48+00:00\",\"2023-02-12T17:11:45+00:00\",\"2023-02-12T17:11:39+00:00\",\"2023-02-12T17:11:35+00:00\",\"2023-02-12T17:11:22+00:00\",\"2023-02-12T17:11:21+00:00\",\"2023-02-12T17:11:19+00:00\",\"2023-02-12T17:10:35+00:00\",\"2023-02-12T17:10:27+00:00\",\"2023-02-12T17:10:25+00:00\",\"2023-02-12T17:10:22+00:00\",\"2023-02-12T17:10:17+00:00\",\"2023-02-12T17:10:16+00:00\",\"2023-02-12T17:10:07+00:00\",\"2023-02-12T17:10:07+00:00\",\"2023-02-12T17:10:02+00:00\",\"2023-02-12T17:09:59+00:00\",\"2023-02-12T17:09:56+00:00\",\"2023-02-12T17:09:56+00:00\",\"2023-02-12T17:09:37+00:00\",\"2023-02-12T17:09:31+00:00\",\"2023-02-12T17:09:25+00:00\",\"2023-02-12T17:09:24+00:00\",\"2023-02-12T17:09:22+00:00\",\"2023-02-12T17:09:20+00:00\",\"2023-02-12T17:09:15+00:00\",\"2023-02-12T17:09:05+00:00\",\"2023-02-12T17:08:59+00:00\",\"2023-02-12T17:08:57+00:00\",\"2023-02-12T17:08:52+00:00\",\"2023-02-12T17:08:51+00:00\",\"2023-02-12T17:08:51+00:00\",\"2023-02-12T17:08:51+00:00\",\"2023-02-12T17:08:47+00:00\",\"2023-02-12T17:08:47+00:00\",\"2023-02-12T17:08:45+00:00\",\"2023-02-12T17:08:45+00:00\",\"2023-02-12T17:08:42+00:00\",\"2023-02-12T17:08:26+00:00\",\"2023-02-12T17:08:12+00:00\",\"2023-02-12T17:08:11+00:00\",\"2023-02-12T17:08:09+00:00\",\"2023-02-12T17:08:07+00:00\",\"2023-02-12T17:08:04+00:00\",\"2023-02-12T17:08:03+00:00\",\"2023-02-12T17:07:59+00:00\",\"2023-02-12T17:07:54+00:00\",\"2023-02-12T17:07:43+00:00\",\"2023-02-12T17:07:30+00:00\",\"2023-02-12T17:07:26+00:00\",\"2023-02-12T17:07:24+00:00\",\"2023-02-12T17:07:23+00:00\",\"2023-02-12T17:07:23+00:00\",\"2023-02-12T17:07:18+00:00\",\"2023-02-12T17:07:07+00:00\",\"2023-02-12T17:06:57+00:00\",\"2023-02-12T17:06:50+00:00\",\"2023-02-12T17:06:44+00:00\",\"2023-02-12T17:06:40+00:00\",\"2023-02-12T17:06:35+00:00\",\"2023-02-12T17:06:24+00:00\",\"2023-02-12T17:06:22+00:00\",\"2023-02-12T17:06:12+00:00\",\"2023-02-12T17:06:05+00:00\",\"2023-02-12T17:05:58+00:00\",\"2023-02-12T17:05:48+00:00\",\"2023-02-12T17:05:39+00:00\",\"2023-02-12T17:05:34+00:00\",\"2023-02-12T17:05:23+00:00\",\"2023-02-12T17:05:16+00:00\",\"2023-02-12T17:04:57+00:00\",\"2023-02-12T17:04:57+00:00\",\"2023-02-12T17:04:56+00:00\",\"2023-02-12T17:04:34+00:00\",\"2023-02-12T17:04:29+00:00\",\"2023-02-12T17:04:25+00:00\",\"2023-02-12T17:04:20+00:00\",\"2023-02-12T17:04:19+00:00\",\"2023-02-12T17:04:17+00:00\",\"2023-02-12T17:03:58+00:00\",\"2023-02-12T17:03:54+00:00\",\"2023-02-12T17:03:42+00:00\",\"2023-02-12T17:03:26+00:00\",\"2023-02-12T17:03:23+00:00\",\"2023-02-12T17:03:19+00:00\",\"2023-02-12T17:03:14+00:00\",\"2023-02-12T17:03:14+00:00\",\"2023-02-12T17:02:54+00:00\",\"2023-02-12T17:02:51+00:00\",\"2023-02-12T17:02:49+00:00\",\"2023-02-12T17:02:42+00:00\",\"2023-02-12T17:02:17+00:00\",\"2023-02-12T17:01:59+00:00\",\"2023-02-12T17:01:23+00:00\",\"2023-02-12T17:01:15+00:00\",\"2023-02-12T17:00:18+00:00\",\"2023-02-12T16:59:51+00:00\",\"2023-02-12T16:59:34+00:00\",\"2023-02-12T16:59:26+00:00\",\"2023-02-12T16:59:23+00:00\",\"2023-02-12T16:59:19+00:00\",\"2023-02-12T16:59:07+00:00\",\"2023-02-12T16:59:07+00:00\",\"2023-02-12T16:58:46+00:00\",\"2023-02-12T16:58:29+00:00\",\"2023-02-12T16:58:25+00:00\",\"2023-02-12T16:58:24+00:00\",\"2023-02-12T16:58:22+00:00\",\"2023-02-12T16:58:08+00:00\",\"2023-02-12T16:57:58+00:00\",\"2023-02-12T16:57:48+00:00\",\"2023-02-12T16:57:44+00:00\",\"2023-02-12T16:57:34+00:00\",\"2023-02-12T16:57:33+00:00\",\"2023-02-12T16:57:32+00:00\",\"2023-02-12T16:57:27+00:00\",\"2023-02-12T16:57:27+00:00\",\"2023-02-12T16:57:20+00:00\",\"2023-02-12T16:57:15+00:00\",\"2023-02-12T16:57:11+00:00\",\"2023-02-12T16:57:10+00:00\",\"2023-02-12T16:57:10+00:00\",\"2023-02-12T16:57:05+00:00\",\"2023-02-12T16:57:02+00:00\",\"2023-02-12T16:57:02+00:00\",\"2023-02-12T16:57:02+00:00\",\"2023-02-12T16:56:52+00:00\",\"2023-02-12T16:56:48+00:00\",\"2023-02-12T16:56:47+00:00\",\"2023-02-12T16:56:34+00:00\",\"2023-02-12T16:56:29+00:00\",\"2023-02-12T16:56:28+00:00\",\"2023-02-12T16:56:28+00:00\",\"2023-02-12T16:56:25+00:00\",\"2023-02-12T16:56:22+00:00\",\"2023-02-12T16:56:16+00:00\",\"2023-02-12T16:56:05+00:00\",\"2023-02-12T16:56:05+00:00\",\"2023-02-12T16:55:54+00:00\",\"2023-02-12T16:55:52+00:00\",\"2023-02-12T16:55:51+00:00\",\"2023-02-12T16:55:39+00:00\",\"2023-02-12T16:55:38+00:00\",\"2023-02-12T16:55:38+00:00\",\"2023-02-12T16:55:35+00:00\",\"2023-02-12T16:55:34+00:00\",\"2023-02-12T16:55:27+00:00\",\"2023-02-12T16:55:27+00:00\",\"2023-02-12T16:55:25+00:00\",\"2023-02-12T16:55:25+00:00\",\"2023-02-12T16:55:24+00:00\",\"2023-02-12T16:55:23+00:00\",\"2023-02-12T16:55:20+00:00\",\"2023-02-12T16:55:16+00:00\",\"2023-02-12T16:55:13+00:00\",\"2023-02-12T16:55:10+00:00\",\"2023-02-12T16:55:08+00:00\",\"2023-02-12T16:55:08+00:00\",\"2023-02-12T16:55:06+00:00\",\"2023-02-12T16:55:06+00:00\",\"2023-02-12T16:55:05+00:00\",\"2023-02-12T16:55:04+00:00\",\"2023-02-12T16:55:03+00:00\",\"2023-02-12T16:55:01+00:00\",\"2023-02-12T16:55:01+00:00\",\"2023-02-12T16:54:58+00:00\",\"2023-02-12T16:54:58+00:00\",\"2023-02-12T16:54:57+00:00\",\"2023-02-12T16:54:56+00:00\",\"2023-02-12T16:54:47+00:00\",\"2023-02-12T16:54:42+00:00\",\"2023-02-12T16:54:41+00:00\",\"2023-02-12T16:54:25+00:00\",\"2023-02-12T16:54:13+00:00\",\"2023-02-12T16:53:54+00:00\",\"2023-02-12T16:53:41+00:00\",\"2023-02-12T16:53:38+00:00\",\"2023-02-12T16:53:37+00:00\",\"2023-02-12T16:53:28+00:00\",\"2023-02-12T16:53:11+00:00\",\"2023-02-12T16:53:10+00:00\",\"2023-02-12T16:53:02+00:00\",\"2023-02-12T16:52:40+00:00\",\"2023-02-12T16:52:39+00:00\",\"2023-02-12T16:52:25+00:00\",\"2023-02-12T16:52:09+00:00\",\"2023-02-12T16:52:05+00:00\",\"2023-02-12T16:51:54+00:00\",\"2023-02-12T16:51:29+00:00\",\"2023-02-12T16:51:19+00:00\",\"2023-02-12T16:50:04+00:00\",\"2023-02-12T16:49:58+00:00\",\"2023-02-12T16:49:43+00:00\",\"2023-02-12T16:49:20+00:00\",\"2023-02-12T16:49:19+00:00\",\"2023-02-12T16:49:05+00:00\",\"2023-02-12T16:48:54+00:00\",\"2023-02-12T16:48:48+00:00\",\"2023-02-12T16:48:47+00:00\",\"2023-02-12T16:48:14+00:00\",\"2023-02-12T16:48:12+00:00\",\"2023-02-12T16:48:12+00:00\",\"2023-02-12T16:48:11+00:00\",\"2023-02-12T16:48:00+00:00\",\"2023-02-12T16:47:55+00:00\",\"2023-02-12T16:47:52+00:00\",\"2023-02-12T16:47:48+00:00\",\"2023-02-12T16:47:47+00:00\",\"2023-02-12T16:47:46+00:00\",\"2023-02-12T16:47:36+00:00\",\"2023-02-12T16:47:12+00:00\",\"2023-02-12T16:47:11+00:00\",\"2023-02-12T16:47:04+00:00\",\"2023-02-12T16:47:02+00:00\",\"2023-02-12T16:46:52+00:00\",\"2023-02-12T16:46:38+00:00\",\"2023-02-12T16:46:36+00:00\",\"2023-02-12T16:46:20+00:00\",\"2023-02-12T16:46:20+00:00\",\"2023-02-12T16:46:10+00:00\",\"2023-02-12T16:46:00+00:00\",\"2023-02-12T16:45:58+00:00\",\"2023-02-12T16:45:43+00:00\",\"2023-02-12T16:45:31+00:00\",\"2023-02-12T16:45:20+00:00\",\"2023-02-12T16:45:14+00:00\",\"2023-02-12T16:45:07+00:00\",\"2023-02-12T16:44:54+00:00\",\"2023-02-12T16:44:51+00:00\",\"2023-02-12T16:44:50+00:00\",\"2023-02-12T16:44:45+00:00\",\"2023-02-12T16:44:42+00:00\",\"2023-02-12T16:44:42+00:00\",\"2023-02-12T16:44:38+00:00\",\"2023-02-12T16:44:28+00:00\",\"2023-02-12T16:44:10+00:00\",\"2023-02-12T16:44:05+00:00\",\"2023-02-12T16:43:56+00:00\",\"2023-02-12T16:43:41+00:00\",\"2023-02-12T16:43:36+00:00\",\"2023-02-12T16:43:27+00:00\",\"2023-02-12T16:43:23+00:00\",\"2023-02-12T16:43:20+00:00\",\"2023-02-12T16:43:19+00:00\",\"2023-02-12T16:43:13+00:00\",\"2023-02-12T16:43:10+00:00\",\"2023-02-12T16:43:09+00:00\",\"2023-02-12T16:43:07+00:00\",\"2023-02-12T16:43:02+00:00\",\"2023-02-12T16:43:00+00:00\",\"2023-02-12T16:42:57+00:00\",\"2023-02-12T16:42:56+00:00\",\"2023-02-12T16:42:46+00:00\",\"2023-02-12T16:42:38+00:00\",\"2023-02-12T16:42:37+00:00\",\"2023-02-12T16:42:33+00:00\",\"2023-02-12T16:42:28+00:00\",\"2023-02-12T16:42:19+00:00\",\"2023-02-12T16:42:14+00:00\",\"2023-02-12T16:42:11+00:00\",\"2023-02-12T16:41:58+00:00\",\"2023-02-12T16:41:56+00:00\",\"2023-02-12T16:41:53+00:00\",\"2023-02-12T16:41:48+00:00\",\"2023-02-12T16:41:46+00:00\",\"2023-02-12T16:41:43+00:00\",\"2023-02-12T16:41:38+00:00\",\"2023-02-12T16:41:38+00:00\",\"2023-02-12T16:41:37+00:00\",\"2023-02-12T16:41:33+00:00\",\"2023-02-12T16:41:18+00:00\",\"2023-02-12T16:41:14+00:00\",\"2023-02-12T16:41:05+00:00\",\"2023-02-12T16:41:05+00:00\",\"2023-02-12T16:40:58+00:00\",\"2023-02-12T16:40:57+00:00\",\"2023-02-12T16:40:51+00:00\",\"2023-02-12T16:40:35+00:00\",\"2023-02-12T16:40:34+00:00\",\"2023-02-12T16:40:14+00:00\",\"2023-02-12T16:39:48+00:00\",\"2023-02-12T16:39:45+00:00\",\"2023-02-12T16:39:42+00:00\",\"2023-02-12T16:39:34+00:00\",\"2023-02-12T16:39:33+00:00\",\"2023-02-12T16:39:32+00:00\",\"2023-02-12T16:39:00+00:00\",\"2023-02-12T16:38:51+00:00\",\"2023-02-12T16:38:46+00:00\",\"2023-02-12T16:38:39+00:00\",\"2023-02-12T16:38:34+00:00\",\"2023-02-12T16:38:16+00:00\",\"2023-02-12T16:38:08+00:00\",\"2023-02-12T16:37:58+00:00\",\"2023-02-12T16:37:43+00:00\",\"2023-02-12T16:37:25+00:00\",\"2023-02-12T16:36:51+00:00\",\"2023-02-12T16:36:50+00:00\",\"2023-02-12T16:36:38+00:00\",\"2023-02-12T16:36:29+00:00\",\"2023-02-12T16:35:35+00:00\",\"2023-02-12T16:35:33+00:00\",\"2023-02-12T16:34:59+00:00\",\"2023-02-12T16:34:39+00:00\",\"2023-02-12T16:34:33+00:00\",\"2023-02-12T16:34:13+00:00\",\"2023-02-12T16:34:11+00:00\",\"2023-02-12T16:34:10+00:00\",\"2023-02-12T16:33:41+00:00\",\"2023-02-12T16:33:04+00:00\",\"2023-02-12T16:32:33+00:00\",\"2023-02-12T16:32:23+00:00\",\"2023-02-12T16:31:43+00:00\",\"2023-02-12T16:31:36+00:00\",\"2023-02-12T16:31:34+00:00\",\"2023-02-12T16:31:10+00:00\",\"2023-02-12T16:30:56+00:00\",\"2023-02-12T16:30:40+00:00\",\"2023-02-12T16:30:38+00:00\",\"2023-02-12T16:30:36+00:00\",\"2023-02-12T16:30:24+00:00\",\"2023-02-12T16:30:22+00:00\",\"2023-02-12T16:30:21+00:00\",\"2023-02-12T16:30:04+00:00\",\"2023-02-12T16:29:59+00:00\",\"2023-02-12T16:29:56+00:00\",\"2023-02-12T16:29:41+00:00\",\"2023-02-12T16:29:35+00:00\",\"2023-02-12T16:29:29+00:00\",\"2023-02-12T16:29:14+00:00\",\"2023-02-12T16:29:00+00:00\",\"2023-02-12T16:28:54+00:00\",\"2023-02-12T16:28:48+00:00\",\"2023-02-12T16:28:46+00:00\",\"2023-02-12T16:28:41+00:00\",\"2023-02-12T16:28:32+00:00\",\"2023-02-12T16:28:26+00:00\",\"2023-02-12T16:28:23+00:00\",\"2023-02-12T16:28:09+00:00\",\"2023-02-12T16:27:56+00:00\",\"2023-02-12T16:27:56+00:00\",\"2023-02-12T16:27:50+00:00\",\"2023-02-12T16:27:37+00:00\",\"2023-02-12T16:27:32+00:00\",\"2023-02-12T16:27:27+00:00\",\"2023-02-12T16:27:24+00:00\",\"2023-02-12T16:27:19+00:00\",\"2023-02-12T16:27:18+00:00\",\"2023-02-12T16:27:07+00:00\",\"2023-02-12T16:27:03+00:00\",\"2023-02-12T16:27:00+00:00\",\"2023-02-12T16:26:48+00:00\",\"2023-02-12T16:26:25+00:00\",\"2023-02-12T16:26:18+00:00\",\"2023-02-12T16:26:15+00:00\",\"2023-02-12T16:26:01+00:00\",\"2023-02-12T16:25:41+00:00\",\"2023-02-12T16:25:39+00:00\",\"2023-02-12T16:25:18+00:00\",\"2023-02-12T16:24:54+00:00\",\"2023-02-12T16:24:51+00:00\",\"2023-02-12T16:24:33+00:00\",\"2023-02-12T16:23:50+00:00\",\"2023-02-12T16:23:10+00:00\",\"2023-02-12T16:23:03+00:00\",\"2023-02-12T16:22:32+00:00\",\"2023-02-12T16:22:26+00:00\",\"2023-02-12T16:22:04+00:00\",\"2023-02-12T16:21:59+00:00\",\"2023-02-12T16:21:49+00:00\",\"2023-02-12T16:21:42+00:00\",\"2023-02-12T16:21:41+00:00\",\"2023-02-12T16:21:25+00:00\",\"2023-02-12T16:21:11+00:00\",\"2023-02-12T16:20:55+00:00\",\"2023-02-12T16:20:54+00:00\",\"2023-02-12T16:20:48+00:00\",\"2023-02-12T16:20:41+00:00\",\"2023-02-12T16:20:23+00:00\",\"2023-02-12T16:20:11+00:00\",\"2023-02-12T16:20:04+00:00\",\"2023-02-12T16:19:58+00:00\",\"2023-02-12T16:19:45+00:00\",\"2023-02-12T16:19:45+00:00\",\"2023-02-12T16:19:42+00:00\",\"2023-02-12T16:19:38+00:00\",\"2023-02-12T16:19:18+00:00\",\"2023-02-12T16:19:14+00:00\",\"2023-02-12T16:19:11+00:00\",\"2023-02-12T16:19:05+00:00\",\"2023-02-12T16:18:59+00:00\",\"2023-02-12T16:18:57+00:00\",\"2023-02-12T16:18:38+00:00\",\"2023-02-12T16:18:29+00:00\",\"2023-02-12T16:18:28+00:00\",\"2023-02-12T16:18:27+00:00\",\"2023-02-12T16:18:24+00:00\",\"2023-02-12T16:18:16+00:00\",\"2023-02-12T16:18:13+00:00\",\"2023-02-12T16:18:06+00:00\",\"2023-02-12T16:18:02+00:00\",\"2023-02-12T16:17:55+00:00\",\"2023-02-12T16:17:50+00:00\",\"2023-02-12T16:17:46+00:00\",\"2023-02-12T16:17:43+00:00\",\"2023-02-12T16:17:33+00:00\",\"2023-02-12T16:17:26+00:00\",\"2023-02-12T16:17:22+00:00\",\"2023-02-12T16:17:10+00:00\",\"2023-02-12T16:17:01+00:00\",\"2023-02-12T16:16:57+00:00\",\"2023-02-12T16:16:52+00:00\",\"2023-02-12T16:16:51+00:00\",\"2023-02-12T16:16:45+00:00\",\"2023-02-12T16:16:44+00:00\",\"2023-02-12T16:16:39+00:00\",\"2023-02-12T16:16:33+00:00\",\"2023-02-12T16:16:27+00:00\",\"2023-02-12T16:16:17+00:00\",\"2023-02-12T16:15:54+00:00\",\"2023-02-12T16:15:53+00:00\",\"2023-02-12T16:15:50+00:00\",\"2023-02-12T16:15:38+00:00\",\"2023-02-12T16:15:32+00:00\",\"2023-02-12T16:15:19+00:00\",\"2023-02-12T16:15:12+00:00\",\"2023-02-12T16:15:11+00:00\",\"2023-02-12T16:14:50+00:00\",\"2023-02-12T16:14:40+00:00\",\"2023-02-12T16:14:35+00:00\",\"2023-02-12T16:14:33+00:00\",\"2023-02-12T16:14:22+00:00\",\"2023-02-12T16:14:14+00:00\",\"2023-02-12T16:13:49+00:00\",\"2023-02-12T16:13:23+00:00\",\"2023-02-12T16:13:04+00:00\",\"2023-02-12T16:13:02+00:00\",\"2023-02-12T16:12:52+00:00\",\"2023-02-12T16:12:26+00:00\",\"2023-02-12T16:12:10+00:00\",\"2023-02-12T16:11:49+00:00\",\"2023-02-12T16:11:34+00:00\",\"2023-02-12T16:11:33+00:00\",\"2023-02-12T16:11:32+00:00\",\"2023-02-12T16:11:23+00:00\",\"2023-02-12T16:11:10+00:00\",\"2023-02-12T16:11:05+00:00\",\"2023-02-12T16:10:54+00:00\",\"2023-02-12T16:10:51+00:00\",\"2023-02-12T16:10:45+00:00\",\"2023-02-12T16:10:45+00:00\",\"2023-02-12T16:10:35+00:00\",\"2023-02-12T16:10:27+00:00\",\"2023-02-12T16:10:26+00:00\",\"2023-02-12T16:10:25+00:00\",\"2023-02-12T16:10:00+00:00\",\"2023-02-12T16:09:58+00:00\",\"2023-02-12T16:09:51+00:00\",\"2023-02-12T16:09:46+00:00\",\"2023-02-12T16:09:39+00:00\",\"2023-02-12T16:09:23+00:00\",\"2023-02-12T16:09:16+00:00\",\"2023-02-12T16:09:13+00:00\",\"2023-02-12T16:09:03+00:00\",\"2023-02-12T16:09:02+00:00\",\"2023-02-12T16:08:49+00:00\",\"2023-02-12T16:08:37+00:00\",\"2023-02-12T16:08:29+00:00\",\"2023-02-12T16:08:22+00:00\",\"2023-02-12T16:08:20+00:00\",\"2023-02-12T16:08:15+00:00\",\"2023-02-12T16:08:06+00:00\",\"2023-02-12T16:08:05+00:00\",\"2023-02-12T16:07:58+00:00\",\"2023-02-12T16:07:36+00:00\",\"2023-02-12T16:07:26+00:00\",\"2023-02-12T16:07:15+00:00\",\"2023-02-12T16:07:05+00:00\",\"2023-02-12T16:06:50+00:00\",\"2023-02-12T16:06:47+00:00\",\"2023-02-12T16:06:36+00:00\",\"2023-02-12T16:06:31+00:00\",\"2023-02-12T16:06:29+00:00\",\"2023-02-12T16:06:13+00:00\",\"2023-02-12T16:06:13+00:00\",\"2023-02-12T16:06:06+00:00\",\"2023-02-12T16:05:37+00:00\",\"2023-02-12T16:05:26+00:00\",\"2023-02-12T16:05:00+00:00\",\"2023-02-12T16:04:39+00:00\",\"2023-02-12T16:04:28+00:00\",\"2023-02-12T16:04:22+00:00\",\"2023-02-12T16:04:14+00:00\",\"2023-02-12T16:04:13+00:00\",\"2023-02-12T16:04:12+00:00\",\"2023-02-12T16:04:11+00:00\",\"2023-02-12T16:04:10+00:00\",\"2023-02-12T16:04:09+00:00\",\"2023-02-12T16:03:48+00:00\",\"2023-02-12T16:03:46+00:00\",\"2023-02-12T16:03:31+00:00\",\"2023-02-12T16:03:31+00:00\",\"2023-02-12T16:03:24+00:00\",\"2023-02-12T16:03:14+00:00\",\"2023-02-12T16:03:13+00:00\",\"2023-02-12T16:03:06+00:00\",\"2023-02-12T16:03:05+00:00\",\"2023-02-12T16:02:57+00:00\",\"2023-02-12T16:02:51+00:00\",\"2023-02-12T16:02:48+00:00\",\"2023-02-12T16:02:47+00:00\",\"2023-02-12T16:02:43+00:00\",\"2023-02-12T16:02:33+00:00\",\"2023-02-12T16:02:32+00:00\",\"2023-02-12T16:02:08+00:00\",\"2023-02-12T16:02:01+00:00\",\"2023-02-12T16:01:47+00:00\",\"2023-02-12T16:01:38+00:00\",\"2023-02-12T16:01:35+00:00\",\"2023-02-12T16:01:28+00:00\",\"2023-02-12T16:01:25+00:00\",\"2023-02-12T16:01:19+00:00\",\"2023-02-12T16:01:18+00:00\",\"2023-02-12T16:01:16+00:00\",\"2023-02-12T16:01:10+00:00\",\"2023-02-12T16:00:53+00:00\",\"2023-02-12T16:00:49+00:00\",\"2023-02-12T16:00:48+00:00\",\"2023-02-12T16:00:47+00:00\",\"2023-02-12T16:00:35+00:00\",\"2023-02-12T16:00:31+00:00\",\"2023-02-12T16:00:27+00:00\",\"2023-02-12T16:00:20+00:00\",\"2023-02-12T15:59:59+00:00\",\"2023-02-12T15:59:55+00:00\",\"2023-02-12T15:59:54+00:00\",\"2023-02-12T15:59:51+00:00\",\"2023-02-12T15:59:45+00:00\",\"2023-02-12T15:59:44+00:00\",\"2023-02-12T15:59:40+00:00\",\"2023-02-12T15:59:35+00:00\",\"2023-02-12T15:59:34+00:00\",\"2023-02-12T15:59:27+00:00\",\"2023-02-12T15:59:26+00:00\",\"2023-02-12T15:59:09+00:00\",\"2023-02-12T15:58:52+00:00\",\"2023-02-12T15:58:52+00:00\",\"2023-02-12T15:58:44+00:00\",\"2023-02-12T15:58:44+00:00\",\"2023-02-12T15:58:38+00:00\",\"2023-02-12T15:58:23+00:00\",\"2023-02-12T15:58:17+00:00\",\"2023-02-12T15:58:11+00:00\",\"2023-02-12T15:58:11+00:00\",\"2023-02-12T15:58:08+00:00\",\"2023-02-12T15:57:57+00:00\",\"2023-02-12T15:57:56+00:00\",\"2023-02-12T15:57:51+00:00\",\"2023-02-12T15:57:44+00:00\",\"2023-02-12T15:57:35+00:00\",\"2023-02-12T15:57:31+00:00\",\"2023-02-12T15:57:29+00:00\",\"2023-02-12T15:57:28+00:00\",\"2023-02-12T15:57:28+00:00\",\"2023-02-12T15:57:25+00:00\",\"2023-02-12T15:57:25+00:00\",\"2023-02-12T15:57:21+00:00\",\"2023-02-12T15:57:21+00:00\",\"2023-02-12T15:57:21+00:00\",\"2023-02-12T15:57:17+00:00\",\"2023-02-12T15:57:16+00:00\",\"2023-02-12T15:57:15+00:00\",\"2023-02-12T15:57:08+00:00\",\"2023-02-12T15:57:08+00:00\",\"2023-02-12T15:57:01+00:00\",\"2023-02-12T15:56:57+00:00\",\"2023-02-12T15:56:55+00:00\",\"2023-02-12T15:56:34+00:00\",\"2023-02-12T15:56:31+00:00\",\"2023-02-12T15:56:30+00:00\",\"2023-02-12T15:56:12+00:00\",\"2023-02-12T15:56:12+00:00\",\"2023-02-12T15:56:06+00:00\",\"2023-02-12T15:56:06+00:00\",\"2023-02-12T15:56:05+00:00\",\"2023-02-12T15:56:01+00:00\",\"2023-02-12T15:56:00+00:00\",\"2023-02-12T15:55:54+00:00\",\"2023-02-12T15:55:53+00:00\",\"2023-02-12T15:55:52+00:00\",\"2023-02-12T15:55:46+00:00\",\"2023-02-12T15:55:40+00:00\",\"2023-02-12T15:55:40+00:00\",\"2023-02-12T15:55:35+00:00\",\"2023-02-12T15:55:34+00:00\",\"2023-02-12T15:55:32+00:00\",\"2023-02-12T15:55:31+00:00\",\"2023-02-12T15:55:30+00:00\",\"2023-02-12T15:55:22+00:00\",\"2023-02-12T15:55:19+00:00\",\"2023-02-12T15:55:18+00:00\",\"2023-02-12T15:55:13+00:00\",\"2023-02-12T15:55:08+00:00\",\"2023-02-12T15:55:08+00:00\",\"2023-02-12T15:55:05+00:00\",\"2023-02-12T15:55:03+00:00\",\"2023-02-12T15:54:59+00:00\",\"2023-02-12T15:54:52+00:00\",\"2023-02-12T15:54:51+00:00\",\"2023-02-12T15:54:46+00:00\",\"2023-02-12T15:54:43+00:00\",\"2023-02-12T15:54:38+00:00\",\"2023-02-12T15:54:37+00:00\",\"2023-02-12T15:54:37+00:00\",\"2023-02-12T15:54:29+00:00\",\"2023-02-12T15:54:28+00:00\",\"2023-02-12T15:54:28+00:00\",\"2023-02-12T15:54:25+00:00\",\"2023-02-12T15:54:24+00:00\",\"2023-02-12T15:54:21+00:00\",\"2023-02-12T15:54:18+00:00\",\"2023-02-12T15:54:16+00:00\",\"2023-02-12T15:54:15+00:00\",\"2023-02-12T15:54:12+00:00\",\"2023-02-12T15:54:12+00:00\",\"2023-02-12T15:54:11+00:00\",\"2023-02-12T15:54:10+00:00\",\"2023-02-12T15:54:05+00:00\",\"2023-02-12T15:54:03+00:00\",\"2023-02-12T15:53:58+00:00\",\"2023-02-12T15:53:58+00:00\",\"2023-02-12T15:53:57+00:00\",\"2023-02-12T15:53:56+00:00\",\"2023-02-12T15:53:56+00:00\",\"2023-02-12T15:53:55+00:00\",\"2023-02-12T15:53:55+00:00\",\"2023-02-12T15:53:54+00:00\",\"2023-02-12T15:53:53+00:00\",\"2023-02-12T15:53:44+00:00\",\"2023-02-12T15:53:38+00:00\",\"2023-02-12T15:53:28+00:00\",\"2023-02-12T15:53:25+00:00\",\"2023-02-12T15:53:18+00:00\",\"2023-02-12T15:53:10+00:00\",\"2023-02-12T15:53:08+00:00\",\"2023-02-12T15:53:04+00:00\",\"2023-02-12T15:53:02+00:00\",\"2023-02-12T15:53:02+00:00\",\"2023-02-12T15:53:01+00:00\",\"2023-02-12T15:53:01+00:00\",\"2023-02-12T15:52:59+00:00\",\"2023-02-12T15:52:59+00:00\",\"2023-02-12T15:52:55+00:00\",\"2023-02-12T15:52:55+00:00\",\"2023-02-12T15:52:53+00:00\",\"2023-02-12T15:52:48+00:00\",\"2023-02-12T15:52:46+00:00\",\"2023-02-12T15:52:40+00:00\",\"2023-02-12T15:52:38+00:00\",\"2023-02-12T15:52:30+00:00\",\"2023-02-12T15:52:24+00:00\",\"2023-02-12T15:52:21+00:00\",\"2023-02-12T15:52:17+00:00\",\"2023-02-12T15:52:13+00:00\",\"2023-02-12T15:52:12+00:00\",\"2023-02-12T15:52:08+00:00\",\"2023-02-12T15:52:05+00:00\",\"2023-02-12T15:52:02+00:00\",\"2023-02-12T15:52:01+00:00\",\"2023-02-12T15:51:59+00:00\",\"2023-02-12T15:51:59+00:00\",\"2023-02-12T15:51:57+00:00\",\"2023-02-12T15:51:52+00:00\",\"2023-02-12T15:51:52+00:00\",\"2023-02-12T15:51:51+00:00\",\"2023-02-12T15:51:50+00:00\",\"2023-02-12T15:51:49+00:00\",\"2023-02-12T15:51:46+00:00\",\"2023-02-12T15:51:45+00:00\",\"2023-02-12T15:51:40+00:00\",\"2023-02-12T15:51:40+00:00\",\"2023-02-12T15:51:35+00:00\",\"2023-02-12T15:51:30+00:00\",\"2023-02-12T15:51:20+00:00\",\"2023-02-12T15:51:20+00:00\",\"2023-02-12T15:51:12+00:00\",\"2023-02-12T15:51:07+00:00\",\"2023-02-12T15:51:06+00:00\",\"2023-02-12T15:51:04+00:00\",\"2023-02-12T15:50:59+00:00\",\"2023-02-12T15:50:58+00:00\",\"2023-02-12T15:50:57+00:00\",\"2023-02-12T15:50:54+00:00\",\"2023-02-12T15:50:49+00:00\",\"2023-02-12T15:50:48+00:00\",\"2023-02-12T15:50:48+00:00\",\"2023-02-12T15:50:47+00:00\",\"2023-02-12T15:50:45+00:00\",\"2023-02-12T15:50:45+00:00\",\"2023-02-12T15:50:29+00:00\",\"2023-02-12T15:50:05+00:00\",\"2023-02-12T15:50:05+00:00\",\"2023-02-12T15:50:02+00:00\",\"2023-02-12T15:49:55+00:00\",\"2023-02-12T15:49:44+00:00\",\"2023-02-12T15:49:41+00:00\",\"2023-02-12T15:49:25+00:00\",\"2023-02-12T15:49:24+00:00\",\"2023-02-12T15:49:14+00:00\",\"2023-02-12T15:49:00+00:00\",\"2023-02-12T15:48:49+00:00\",\"2023-02-12T15:48:36+00:00\",\"2023-02-12T15:48:23+00:00\",\"2023-02-12T15:47:52+00:00\",\"2023-02-12T15:47:50+00:00\",\"2023-02-12T15:47:33+00:00\",\"2023-02-12T15:47:09+00:00\",\"2023-02-12T15:46:58+00:00\",\"2023-02-12T15:46:52+00:00\",\"2023-02-12T15:46:37+00:00\",\"2023-02-12T15:46:19+00:00\",\"2023-02-12T15:46:13+00:00\",\"2023-02-12T15:46:06+00:00\",\"2023-02-12T15:46:05+00:00\",\"2023-02-12T15:46:05+00:00\",\"2023-02-12T15:45:59+00:00\",\"2023-02-12T15:45:45+00:00\",\"2023-02-12T15:45:31+00:00\",\"2023-02-12T15:45:31+00:00\",\"2023-02-12T15:45:18+00:00\",\"2023-02-12T15:45:17+00:00\",\"2023-02-12T15:45:13+00:00\",\"2023-02-12T15:44:19+00:00\",\"2023-02-12T15:44:14+00:00\",\"2023-02-12T15:44:00+00:00\",\"2023-02-12T15:43:31+00:00\",\"2023-02-12T15:43:21+00:00\",\"2023-02-12T15:43:08+00:00\",\"2023-02-12T15:42:55+00:00\",\"2023-02-12T15:42:49+00:00\",\"2023-02-12T15:41:50+00:00\",\"2023-02-12T15:41:17+00:00\",\"2023-02-12T15:40:34+00:00\",\"2023-02-12T15:39:47+00:00\",\"2023-02-12T15:39:27+00:00\",\"2023-02-12T15:37:39+00:00\",\"2023-02-12T15:37:33+00:00\",\"2023-02-12T15:37:29+00:00\",\"2023-02-12T15:37:23+00:00\",\"2023-02-12T15:37:18+00:00\",\"2023-02-12T15:37:17+00:00\",\"2023-02-12T15:37:09+00:00\",\"2023-02-12T15:35:46+00:00\",\"2023-02-12T15:35:45+00:00\",\"2023-02-12T15:35:35+00:00\",\"2023-02-12T15:34:43+00:00\",\"2023-02-12T15:34:39+00:00\",\"2023-02-12T15:34:02+00:00\",\"2023-02-12T15:33:26+00:00\",\"2023-02-12T15:33:05+00:00\",\"2023-02-12T15:32:42+00:00\",\"2023-02-12T15:32:41+00:00\",\"2023-02-12T15:32:08+00:00\",\"2023-02-12T15:31:26+00:00\",\"2023-02-12T15:31:18+00:00\",\"2023-02-12T15:30:48+00:00\",\"2023-02-12T15:30:43+00:00\",\"2023-02-12T15:30:18+00:00\",\"2023-02-12T15:29:58+00:00\",\"2023-02-12T15:29:50+00:00\",\"2023-02-12T15:29:40+00:00\",\"2023-02-12T15:29:38+00:00\",\"2023-02-12T15:29:34+00:00\",\"2023-02-12T15:29:19+00:00\",\"2023-02-12T15:28:44+00:00\",\"2023-02-12T15:28:33+00:00\",\"2023-02-12T15:28:31+00:00\",\"2023-02-12T15:28:18+00:00\",\"2023-02-12T15:27:55+00:00\",\"2023-02-12T15:27:18+00:00\",\"2023-02-12T15:27:17+00:00\",\"2023-02-12T15:27:14+00:00\",\"2023-02-12T15:27:11+00:00\",\"2023-02-12T15:27:10+00:00\",\"2023-02-12T15:27:09+00:00\",\"2023-02-12T15:27:09+00:00\",\"2023-02-12T15:26:57+00:00\",\"2023-02-12T15:26:40+00:00\",\"2023-02-12T15:26:26+00:00\",\"2023-02-12T15:26:22+00:00\",\"2023-02-12T15:26:05+00:00\",\"2023-02-12T15:25:58+00:00\",\"2023-02-12T15:25:55+00:00\",\"2023-02-12T15:25:30+00:00\",\"2023-02-12T15:25:24+00:00\",\"2023-02-12T15:25:13+00:00\",\"2023-02-12T15:24:48+00:00\",\"2023-02-12T15:24:35+00:00\",\"2023-02-12T15:24:30+00:00\",\"2023-02-12T15:24:26+00:00\",\"2023-02-12T15:24:05+00:00\",\"2023-02-12T15:23:56+00:00\",\"2023-02-12T15:23:54+00:00\",\"2023-02-12T15:23:51+00:00\",\"2023-02-12T15:23:44+00:00\",\"2023-02-12T15:23:40+00:00\",\"2023-02-12T15:23:39+00:00\",\"2023-02-12T15:23:33+00:00\",\"2023-02-12T15:23:31+00:00\",\"2023-02-12T15:23:19+00:00\",\"2023-02-12T15:23:03+00:00\",\"2023-02-12T15:23:02+00:00\",\"2023-02-12T15:22:55+00:00\",\"2023-02-12T15:22:31+00:00\",\"2023-02-12T15:22:31+00:00\",\"2023-02-12T15:22:29+00:00\",\"2023-02-12T15:22:29+00:00\",\"2023-02-12T15:22:19+00:00\",\"2023-02-12T15:22:18+00:00\",\"2023-02-12T15:22:08+00:00\",\"2023-02-12T15:21:58+00:00\",\"2023-02-12T15:21:35+00:00\",\"2023-02-12T15:21:12+00:00\",\"2023-02-12T15:19:59+00:00\",\"2023-02-12T15:19:44+00:00\",\"2023-02-12T15:19:38+00:00\",\"2023-02-12T15:19:35+00:00\",\"2023-02-12T15:18:51+00:00\",\"2023-02-12T15:18:08+00:00\",\"2023-02-12T15:17:40+00:00\",\"2023-02-12T15:17:27+00:00\",\"2023-02-12T15:17:17+00:00\",\"2023-02-12T15:17:16+00:00\",\"2023-02-12T15:17:06+00:00\",\"2023-02-12T15:16:35+00:00\",\"2023-02-12T15:16:19+00:00\",\"2023-02-12T15:16:18+00:00\",\"2023-02-12T15:16:11+00:00\",\"2023-02-12T15:16:11+00:00\",\"2023-02-12T15:16:06+00:00\",\"2023-02-12T15:15:59+00:00\",\"2023-02-12T15:15:56+00:00\",\"2023-02-12T15:15:39+00:00\",\"2023-02-12T15:15:30+00:00\",\"2023-02-12T15:15:21+00:00\",\"2023-02-12T15:14:49+00:00\",\"2023-02-12T15:14:47+00:00\",\"2023-02-12T15:14:01+00:00\",\"2023-02-12T15:13:43+00:00\",\"2023-02-12T15:13:33+00:00\",\"2023-02-12T15:12:56+00:00\",\"2023-02-12T15:12:00+00:00\",\"2023-02-12T15:11:30+00:00\",\"2023-02-12T15:11:28+00:00\",\"2023-02-12T15:11:19+00:00\",\"2023-02-12T15:10:49+00:00\",\"2023-02-12T15:10:46+00:00\",\"2023-02-12T15:10:37+00:00\",\"2023-02-12T15:10:36+00:00\",\"2023-02-12T15:10:08+00:00\",\"2023-02-12T15:08:16+00:00\",\"2023-02-12T15:08:09+00:00\",\"2023-02-12T15:07:56+00:00\",\"2023-02-12T15:07:53+00:00\",\"2023-02-12T15:07:29+00:00\",\"2023-02-12T15:07:16+00:00\",\"2023-02-12T15:06:59+00:00\",\"2023-02-12T15:06:57+00:00\",\"2023-02-12T15:06:54+00:00\",\"2023-02-12T15:06:44+00:00\",\"2023-02-12T15:06:42+00:00\",\"2023-02-12T15:06:40+00:00\",\"2023-02-12T15:06:37+00:00\",\"2023-02-12T15:06:36+00:00\",\"2023-02-12T15:05:26+00:00\",\"2023-02-12T15:05:19+00:00\",\"2023-02-12T15:05:19+00:00\",\"2023-02-12T15:05:13+00:00\",\"2023-02-12T15:05:02+00:00\",\"2023-02-12T15:04:48+00:00\",\"2023-02-12T15:04:45+00:00\",\"2023-02-12T15:04:39+00:00\",\"2023-02-12T15:04:28+00:00\",\"2023-02-12T15:03:50+00:00\",\"2023-02-12T15:03:03+00:00\",\"2023-02-12T15:03:01+00:00\",\"2023-02-12T15:02:32+00:00\",\"2023-02-12T15:02:27+00:00\",\"2023-02-12T15:02:16+00:00\",\"2023-02-12T15:01:31+00:00\",\"2023-02-12T15:01:20+00:00\",\"2023-02-12T15:00:53+00:00\",\"2023-02-12T15:00:39+00:00\",\"2023-02-12T15:00:09+00:00\",\"2023-02-12T15:00:00+00:00\",\"2023-02-12T14:59:51+00:00\",\"2023-02-12T14:59:10+00:00\",\"2023-02-12T14:58:38+00:00\",\"2023-02-12T14:58:03+00:00\",\"2023-02-12T14:57:46+00:00\",\"2023-02-12T14:57:33+00:00\",\"2023-02-12T14:57:29+00:00\",\"2023-02-12T14:56:36+00:00\",\"2023-02-12T14:56:33+00:00\",\"2023-02-12T14:56:20+00:00\",\"2023-02-12T14:55:56+00:00\",\"2023-02-12T14:54:50+00:00\",\"2023-02-12T14:54:01+00:00\",\"2023-02-12T14:53:13+00:00\",\"2023-02-12T14:53:03+00:00\",\"2023-02-12T14:53:03+00:00\",\"2023-02-12T14:52:58+00:00\",\"2023-02-12T14:51:51+00:00\",\"2023-02-12T14:51:48+00:00\",\"2023-02-12T14:51:19+00:00\",\"2023-02-12T14:50:37+00:00\",\"2023-02-12T14:50:04+00:00\",\"2023-02-12T14:50:03+00:00\",\"2023-02-12T14:49:51+00:00\",\"2023-02-12T14:49:28+00:00\",\"2023-02-12T14:49:22+00:00\",\"2023-02-12T14:48:51+00:00\",\"2023-02-12T14:48:47+00:00\",\"2023-02-12T14:48:36+00:00\",\"2023-02-12T14:48:27+00:00\",\"2023-02-12T14:48:15+00:00\",\"2023-02-12T14:47:50+00:00\",\"2023-02-12T14:47:33+00:00\",\"2023-02-12T14:45:47+00:00\",\"2023-02-12T14:45:35+00:00\",\"2023-02-12T14:45:18+00:00\",\"2023-02-12T14:45:17+00:00\",\"2023-02-12T14:45:16+00:00\",\"2023-02-12T14:44:48+00:00\",\"2023-02-12T14:44:27+00:00\",\"2023-02-12T14:44:18+00:00\",\"2023-02-12T14:43:28+00:00\",\"2023-02-12T14:43:15+00:00\",\"2023-02-12T14:43:13+00:00\",\"2023-02-12T14:42:54+00:00\",\"2023-02-12T14:41:26+00:00\",\"2023-02-12T14:36:35+00:00\",\"2023-02-12T14:35:37+00:00\",\"2023-02-12T14:35:03+00:00\",\"2023-02-12T14:34:33+00:00\",\"2023-02-12T14:33:14+00:00\",\"2023-02-12T14:33:13+00:00\",\"2023-02-12T14:31:44+00:00\",\"2023-02-12T14:30:21+00:00\",\"2023-02-12T14:29:58+00:00\",\"2023-02-12T14:28:55+00:00\",\"2023-02-12T14:26:53+00:00\",\"2023-02-12T14:26:45+00:00\",\"2023-02-12T14:26:43+00:00\",\"2023-02-12T14:25:43+00:00\",\"2023-02-12T14:25:06+00:00\",\"2023-02-12T14:24:39+00:00\",\"2023-02-12T14:24:13+00:00\",\"2023-02-12T14:23:04+00:00\",\"2023-02-12T14:22:54+00:00\",\"2023-02-12T14:19:38+00:00\",\"2023-02-12T14:19:30+00:00\",\"2023-02-12T14:19:03+00:00\",\"2023-02-12T14:18:44+00:00\",\"2023-02-12T14:16:52+00:00\",\"2023-02-12T14:16:49+00:00\",\"2023-02-12T14:15:22+00:00\",\"2023-02-12T14:13:03+00:00\",\"2023-02-12T14:12:03+00:00\",\"2023-02-12T14:11:28+00:00\",\"2023-02-12T14:10:23+00:00\",\"2023-02-12T14:09:58+00:00\",\"2023-02-12T14:09:47+00:00\",\"2023-02-12T14:07:56+00:00\",\"2023-02-12T14:02:59+00:00\",\"2023-02-12T14:02:53+00:00\",\"2023-02-12T14:02:18+00:00\",\"2023-02-12T14:02:05+00:00\",\"2023-02-12T14:02:00+00:00\",\"2023-02-12T14:00:02+00:00\",\"2023-02-12T13:59:55+00:00\",\"2023-02-12T13:59:25+00:00\",\"2023-02-12T13:58:43+00:00\",\"2023-02-12T13:53:40+00:00\",\"2023-02-12T13:53:01+00:00\",\"2023-02-12T13:51:08+00:00\",\"2023-02-12T13:46:57+00:00\",\"2023-02-12T13:43:37+00:00\",\"2023-02-12T13:43:18+00:00\",\"2023-02-12T13:42:48+00:00\",\"2023-02-12T13:41:37+00:00\",\"2023-02-12T13:37:58+00:00\",\"2023-02-12T13:37:50+00:00\",\"2023-02-12T13:34:23+00:00\",\"2023-02-12T13:32:34+00:00\",\"2023-02-12T13:31:26+00:00\",\"2023-02-12T13:30:08+00:00\",\"2023-02-12T13:28:54+00:00\",\"2023-02-12T13:25:31+00:00\",\"2023-02-12T13:24:46+00:00\",\"2023-02-12T13:20:27+00:00\",\"2023-02-12T13:20:18+00:00\",\"2023-02-12T13:18:11+00:00\",\"2023-02-12T13:16:50+00:00\",\"2023-02-12T13:14:53+00:00\",\"2023-02-12T13:09:34+00:00\",\"2023-02-12T13:08:07+00:00\",\"2023-02-12T13:08:06+00:00\",\"2023-02-12T13:07:20+00:00\",\"2023-02-12T13:06:08+00:00\",\"2023-02-12T13:05:40+00:00\",\"2023-02-12T13:01:40+00:00\",\"2023-02-12T13:00:38+00:00\",\"2023-02-12T13:00:24+00:00\",\"2023-02-12T12:59:52+00:00\",\"2023-02-12T12:59:32+00:00\",\"2023-02-12T12:59:29+00:00\",\"2023-02-12T12:57:46+00:00\",\"2023-02-12T12:57:31+00:00\",\"2023-02-12T12:55:50+00:00\",\"2023-02-12T12:54:37+00:00\",\"2023-02-12T12:52:55+00:00\",\"2023-02-12T12:51:48+00:00\",\"2023-02-12T12:48:59+00:00\",\"2023-02-12T12:48:41+00:00\",\"2023-02-12T12:47:48+00:00\",\"2023-02-12T12:47:01+00:00\",\"2023-02-12T12:45:55+00:00\",\"2023-02-12T12:45:50+00:00\",\"2023-02-12T12:44:24+00:00\",\"2023-02-12T12:42:38+00:00\",\"2023-02-12T12:42:13+00:00\",\"2023-02-12T12:42:07+00:00\",\"2023-02-12T12:40:52+00:00\",\"2023-02-12T12:39:42+00:00\",\"2023-02-12T12:36:24+00:00\",\"2023-02-12T12:36:20+00:00\",\"2023-02-12T12:36:03+00:00\",\"2023-02-12T12:36:02+00:00\",\"2023-02-12T12:35:03+00:00\",\"2023-02-12T12:33:36+00:00\",\"2023-02-12T12:33:27+00:00\",\"2023-02-12T12:33:25+00:00\",\"2023-02-12T12:32:50+00:00\",\"2023-02-12T12:32:08+00:00\",\"2023-02-12T12:31:39+00:00\",\"2023-02-12T12:31:28+00:00\",\"2023-02-12T12:30:39+00:00\",\"2023-02-12T12:30:23+00:00\",\"2023-02-12T12:30:17+00:00\",\"2023-02-12T12:30:13+00:00\",\"2023-02-12T12:29:26+00:00\",\"2023-02-12T12:25:37+00:00\",\"2023-02-12T12:25:24+00:00\",\"2023-02-12T12:24:05+00:00\",\"2023-02-12T12:21:13+00:00\",\"2023-02-12T12:21:06+00:00\",\"2023-02-12T12:20:45+00:00\",\"2023-02-12T12:16:32+00:00\",\"2023-02-12T12:14:59+00:00\",\"2023-02-12T12:09:26+00:00\",\"2023-02-12T12:08:22+00:00\",\"2023-02-12T12:06:16+00:00\",\"2023-02-12T12:06:09+00:00\",\"2023-02-12T12:04:14+00:00\",\"2023-02-12T12:02:48+00:00\",\"2023-02-12T12:01:58+00:00\",\"2023-02-12T12:01:31+00:00\",\"2023-02-12T12:00:01+00:00\",\"2023-02-12T11:54:13+00:00\",\"2023-02-12T11:52:46+00:00\",\"2023-02-12T11:49:04+00:00\",\"2023-02-12T11:48:34+00:00\",\"2023-02-12T11:48:11+00:00\",\"2023-02-12T11:47:36+00:00\",\"2023-02-12T11:47:04+00:00\",\"2023-02-12T11:46:31+00:00\",\"2023-02-12T11:46:13+00:00\",\"2023-02-12T11:46:02+00:00\",\"2023-02-12T11:42:19+00:00\",\"2023-02-12T11:38:12+00:00\",\"2023-02-12T11:35:21+00:00\",\"2023-02-12T11:32:15+00:00\",\"2023-02-12T11:31:55+00:00\",\"2023-02-12T11:29:17+00:00\",\"2023-02-12T11:27:11+00:00\",\"2023-02-12T11:26:39+00:00\",\"2023-02-12T11:24:20+00:00\",\"2023-02-12T11:24:04+00:00\",\"2023-02-12T11:23:50+00:00\",\"2023-02-12T11:22:53+00:00\",\"2023-02-12T11:22:39+00:00\",\"2023-02-12T11:22:29+00:00\",\"2023-02-12T11:22:22+00:00\",\"2023-02-12T11:22:05+00:00\",\"2023-02-12T11:21:40+00:00\",\"2023-02-12T11:21:32+00:00\",\"2023-02-12T11:21:18+00:00\",\"2023-02-12T11:21:10+00:00\",\"2023-02-12T11:20:56+00:00\",\"2023-02-12T11:20:15+00:00\",\"2023-02-12T11:19:50+00:00\",\"2023-02-12T11:19:30+00:00\",\"2023-02-12T11:18:29+00:00\",\"2023-02-12T11:17:28+00:00\",\"2023-02-12T11:16:56+00:00\",\"2023-02-12T11:16:27+00:00\",\"2023-02-12T11:11:27+00:00\",\"2023-02-12T11:01:37+00:00\",\"2023-02-12T11:00:27+00:00\",\"2023-02-12T10:58:47+00:00\",\"2023-02-12T10:57:14+00:00\",\"2023-02-12T10:56:01+00:00\",\"2023-02-12T10:53:50+00:00\",\"2023-02-12T10:53:47+00:00\",\"2023-02-12T10:51:03+00:00\",\"2023-02-12T10:48:58+00:00\",\"2023-02-12T10:46:32+00:00\",\"2023-02-12T10:43:53+00:00\",\"2023-02-12T10:41:11+00:00\",\"2023-02-12T10:40:55+00:00\",\"2023-02-12T10:40:00+00:00\",\"2023-02-12T10:39:39+00:00\",\"2023-02-12T10:38:04+00:00\",\"2023-02-12T10:37:12+00:00\",\"2023-02-12T10:31:16+00:00\",\"2023-02-12T10:28:20+00:00\",\"2023-02-12T10:13:24+00:00\",\"2023-02-12T10:10:09+00:00\",\"2023-02-12T10:06:24+00:00\",\"2023-02-12T10:06:03+00:00\",\"2023-02-12T10:05:26+00:00\",\"2023-02-12T10:04:02+00:00\",\"2023-02-12T10:01:13+00:00\",\"2023-02-12T09:52:30+00:00\",\"2023-02-12T09:51:57+00:00\",\"2023-02-12T09:42:28+00:00\",\"2023-02-12T09:41:10+00:00\",\"2023-02-12T09:28:34+00:00\",\"2023-02-12T09:28:00+00:00\",\"2023-02-12T09:23:11+00:00\"],\"xaxis\":\"x\",\"yaxis\":\"y\",\"type\":\"histogram\"}],                        {\"template\":{\"data\":{\"bar\":[{\"error_x\":{\"color\":\"#2a3f5f\"},\"error_y\":{\"color\":\"#2a3f5f\"},\"marker\":{\"line\":{\"color\":\"#E5ECF6\",\"width\":0.5},\"pattern\":{\"fillmode\":\"overlay\",\"size\":10,\"solidity\":0.2}},\"type\":\"bar\"}],\"barpolar\":[{\"marker\":{\"line\":{\"color\":\"#E5ECF6\",\"width\":0.5},\"pattern\":{\"fillmode\":\"overlay\",\"size\":10,\"solidity\":0.2}},\"type\":\"barpolar\"}],\"carpet\":[{\"aaxis\":{\"endlinecolor\":\"#2a3f5f\",\"gridcolor\":\"white\",\"linecolor\":\"white\",\"minorgridcolor\":\"white\",\"startlinecolor\":\"#2a3f5f\"},\"baxis\":{\"endlinecolor\":\"#2a3f5f\",\"gridcolor\":\"white\",\"linecolor\":\"white\",\"minorgridcolor\":\"white\",\"startlinecolor\":\"#2a3f5f\"},\"type\":\"carpet\"}],\"choropleth\":[{\"colorbar\":{\"outlinewidth\":0,\"ticks\":\"\"},\"type\":\"choropleth\"}],\"contour\":[{\"colorbar\":{\"outlinewidth\":0,\"ticks\":\"\"},\"colorscale\":[[0.0,\"#0d0887\"],[0.1111111111111111,\"#46039f\"],[0.2222222222222222,\"#7201a8\"],[0.3333333333333333,\"#9c179e\"],[0.4444444444444444,\"#bd3786\"],[0.5555555555555556,\"#d8576b\"],[0.6666666666666666,\"#ed7953\"],[0.7777777777777778,\"#fb9f3a\"],[0.8888888888888888,\"#fdca26\"],[1.0,\"#f0f921\"]],\"type\":\"contour\"}],\"contourcarpet\":[{\"colorbar\":{\"outlinewidth\":0,\"ticks\":\"\"},\"type\":\"contourcarpet\"}],\"heatmap\":[{\"colorbar\":{\"outlinewidth\":0,\"ticks\":\"\"},\"colorscale\":[[0.0,\"#0d0887\"],[0.1111111111111111,\"#46039f\"],[0.2222222222222222,\"#7201a8\"],[0.3333333333333333,\"#9c179e\"],[0.4444444444444444,\"#bd3786\"],[0.5555555555555556,\"#d8576b\"],[0.6666666666666666,\"#ed7953\"],[0.7777777777777778,\"#fb9f3a\"],[0.8888888888888888,\"#fdca26\"],[1.0,\"#f0f921\"]],\"type\":\"heatmap\"}],\"heatmapgl\":[{\"colorbar\":{\"outlinewidth\":0,\"ticks\":\"\"},\"colorscale\":[[0.0,\"#0d0887\"],[0.1111111111111111,\"#46039f\"],[0.2222222222222222,\"#7201a8\"],[0.3333333333333333,\"#9c179e\"],[0.4444444444444444,\"#bd3786\"],[0.5555555555555556,\"#d8576b\"],[0.6666666666666666,\"#ed7953\"],[0.7777777777777778,\"#fb9f3a\"],[0.8888888888888888,\"#fdca26\"],[1.0,\"#f0f921\"]],\"type\":\"heatmapgl\"}],\"histogram\":[{\"marker\":{\"pattern\":{\"fillmode\":\"overlay\",\"size\":10,\"solidity\":0.2}},\"type\":\"histogram\"}],\"histogram2d\":[{\"colorbar\":{\"outlinewidth\":0,\"ticks\":\"\"},\"colorscale\":[[0.0,\"#0d0887\"],[0.1111111111111111,\"#46039f\"],[0.2222222222222222,\"#7201a8\"],[0.3333333333333333,\"#9c179e\"],[0.4444444444444444,\"#bd3786\"],[0.5555555555555556,\"#d8576b\"],[0.6666666666666666,\"#ed7953\"],[0.7777777777777778,\"#fb9f3a\"],[0.8888888888888888,\"#fdca26\"],[1.0,\"#f0f921\"]],\"type\":\"histogram2d\"}],\"histogram2dcontour\":[{\"colorbar\":{\"outlinewidth\":0,\"ticks\":\"\"},\"colorscale\":[[0.0,\"#0d0887\"],[0.1111111111111111,\"#46039f\"],[0.2222222222222222,\"#7201a8\"],[0.3333333333333333,\"#9c179e\"],[0.4444444444444444,\"#bd3786\"],[0.5555555555555556,\"#d8576b\"],[0.6666666666666666,\"#ed7953\"],[0.7777777777777778,\"#fb9f3a\"],[0.8888888888888888,\"#fdca26\"],[1.0,\"#f0f921\"]],\"type\":\"histogram2dcontour\"}],\"mesh3d\":[{\"colorbar\":{\"outlinewidth\":0,\"ticks\":\"\"},\"type\":\"mesh3d\"}],\"parcoords\":[{\"line\":{\"colorbar\":{\"outlinewidth\":0,\"ticks\":\"\"}},\"type\":\"parcoords\"}],\"pie\":[{\"automargin\":true,\"type\":\"pie\"}],\"scatter\":[{\"marker\":{\"colorbar\":{\"outlinewidth\":0,\"ticks\":\"\"}},\"type\":\"scatter\"}],\"scatter3d\":[{\"line\":{\"colorbar\":{\"outlinewidth\":0,\"ticks\":\"\"}},\"marker\":{\"colorbar\":{\"outlinewidth\":0,\"ticks\":\"\"}},\"type\":\"scatter3d\"}],\"scattercarpet\":[{\"marker\":{\"colorbar\":{\"outlinewidth\":0,\"ticks\":\"\"}},\"type\":\"scattercarpet\"}],\"scattergeo\":[{\"marker\":{\"colorbar\":{\"outlinewidth\":0,\"ticks\":\"\"}},\"type\":\"scattergeo\"}],\"scattergl\":[{\"marker\":{\"colorbar\":{\"outlinewidth\":0,\"ticks\":\"\"}},\"type\":\"scattergl\"}],\"scattermapbox\":[{\"marker\":{\"colorbar\":{\"outlinewidth\":0,\"ticks\":\"\"}},\"type\":\"scattermapbox\"}],\"scatterpolar\":[{\"marker\":{\"colorbar\":{\"outlinewidth\":0,\"ticks\":\"\"}},\"type\":\"scatterpolar\"}],\"scatterpolargl\":[{\"marker\":{\"colorbar\":{\"outlinewidth\":0,\"ticks\":\"\"}},\"type\":\"scatterpolargl\"}],\"scatterternary\":[{\"marker\":{\"colorbar\":{\"outlinewidth\":0,\"ticks\":\"\"}},\"type\":\"scatterternary\"}],\"surface\":[{\"colorbar\":{\"outlinewidth\":0,\"ticks\":\"\"},\"colorscale\":[[0.0,\"#0d0887\"],[0.1111111111111111,\"#46039f\"],[0.2222222222222222,\"#7201a8\"],[0.3333333333333333,\"#9c179e\"],[0.4444444444444444,\"#bd3786\"],[0.5555555555555556,\"#d8576b\"],[0.6666666666666666,\"#ed7953\"],[0.7777777777777778,\"#fb9f3a\"],[0.8888888888888888,\"#fdca26\"],[1.0,\"#f0f921\"]],\"type\":\"surface\"}],\"table\":[{\"cells\":{\"fill\":{\"color\":\"#EBF0F8\"},\"line\":{\"color\":\"white\"}},\"header\":{\"fill\":{\"color\":\"#C8D4E3\"},\"line\":{\"color\":\"white\"}},\"type\":\"table\"}]},\"layout\":{\"annotationdefaults\":{\"arrowcolor\":\"#2a3f5f\",\"arrowhead\":0,\"arrowwidth\":1},\"autotypenumbers\":\"strict\",\"coloraxis\":{\"colorbar\":{\"outlinewidth\":0,\"ticks\":\"\"}},\"colorscale\":{\"diverging\":[[0,\"#8e0152\"],[0.1,\"#c51b7d\"],[0.2,\"#de77ae\"],[0.3,\"#f1b6da\"],[0.4,\"#fde0ef\"],[0.5,\"#f7f7f7\"],[0.6,\"#e6f5d0\"],[0.7,\"#b8e186\"],[0.8,\"#7fbc41\"],[0.9,\"#4d9221\"],[1,\"#276419\"]],\"sequential\":[[0.0,\"#0d0887\"],[0.1111111111111111,\"#46039f\"],[0.2222222222222222,\"#7201a8\"],[0.3333333333333333,\"#9c179e\"],[0.4444444444444444,\"#bd3786\"],[0.5555555555555556,\"#d8576b\"],[0.6666666666666666,\"#ed7953\"],[0.7777777777777778,\"#fb9f3a\"],[0.8888888888888888,\"#fdca26\"],[1.0,\"#f0f921\"]],\"sequentialminus\":[[0.0,\"#0d0887\"],[0.1111111111111111,\"#46039f\"],[0.2222222222222222,\"#7201a8\"],[0.3333333333333333,\"#9c179e\"],[0.4444444444444444,\"#bd3786\"],[0.5555555555555556,\"#d8576b\"],[0.6666666666666666,\"#ed7953\"],[0.7777777777777778,\"#fb9f3a\"],[0.8888888888888888,\"#fdca26\"],[1.0,\"#f0f921\"]]},\"colorway\":[\"#636efa\",\"#EF553B\",\"#00cc96\",\"#ab63fa\",\"#FFA15A\",\"#19d3f3\",\"#FF6692\",\"#B6E880\",\"#FF97FF\",\"#FECB52\"],\"font\":{\"color\":\"#2a3f5f\"},\"geo\":{\"bgcolor\":\"white\",\"lakecolor\":\"white\",\"landcolor\":\"#E5ECF6\",\"showlakes\":true,\"showland\":true,\"subunitcolor\":\"white\"},\"hoverlabel\":{\"align\":\"left\"},\"hovermode\":\"closest\",\"mapbox\":{\"style\":\"light\"},\"paper_bgcolor\":\"white\",\"plot_bgcolor\":\"#E5ECF6\",\"polar\":{\"angularaxis\":{\"gridcolor\":\"white\",\"linecolor\":\"white\",\"ticks\":\"\"},\"bgcolor\":\"#E5ECF6\",\"radialaxis\":{\"gridcolor\":\"white\",\"linecolor\":\"white\",\"ticks\":\"\"}},\"scene\":{\"xaxis\":{\"backgroundcolor\":\"#E5ECF6\",\"gridcolor\":\"white\",\"gridwidth\":2,\"linecolor\":\"white\",\"showbackground\":true,\"ticks\":\"\",\"zerolinecolor\":\"white\"},\"yaxis\":{\"backgroundcolor\":\"#E5ECF6\",\"gridcolor\":\"white\",\"gridwidth\":2,\"linecolor\":\"white\",\"showbackground\":true,\"ticks\":\"\",\"zerolinecolor\":\"white\"},\"zaxis\":{\"backgroundcolor\":\"#E5ECF6\",\"gridcolor\":\"white\",\"gridwidth\":2,\"linecolor\":\"white\",\"showbackground\":true,\"ticks\":\"\",\"zerolinecolor\":\"white\"}},\"shapedefaults\":{\"line\":{\"color\":\"#2a3f5f\"}},\"ternary\":{\"aaxis\":{\"gridcolor\":\"white\",\"linecolor\":\"white\",\"ticks\":\"\"},\"baxis\":{\"gridcolor\":\"white\",\"linecolor\":\"white\",\"ticks\":\"\"},\"bgcolor\":\"#E5ECF6\",\"caxis\":{\"gridcolor\":\"white\",\"linecolor\":\"white\",\"ticks\":\"\"}},\"title\":{\"x\":0.05},\"xaxis\":{\"automargin\":true,\"gridcolor\":\"white\",\"linecolor\":\"white\",\"ticks\":\"\",\"title\":{\"standoff\":15},\"zerolinecolor\":\"white\",\"zerolinewidth\":2},\"yaxis\":{\"automargin\":true,\"gridcolor\":\"white\",\"linecolor\":\"white\",\"ticks\":\"\",\"title\":{\"standoff\":15},\"zerolinecolor\":\"white\",\"zerolinewidth\":2}}},\"xaxis\":{\"anchor\":\"y\",\"domain\":[0.0,1.0],\"title\":{\"text\":\"Date\"}},\"yaxis\":{\"anchor\":\"x\",\"domain\":[0.0,1.0],\"title\":{\"text\":\"count\"}},\"legend\":{\"tracegroupgap\":0},\"title\":{\"text\":\"Tweets durante durante el tiempo\"},\"barmode\":\"relative\",\"bargap\":0.2},                        {\"responsive\": true}                    ).then(function(){\n",
              "                            \n",
              "var gd = document.getElementById('f72298a3-6081-4668-83e5-fe338d846952');\n",
              "var x = new MutationObserver(function (mutations, observer) {{\n",
              "        var display = window.getComputedStyle(gd).display;\n",
              "        if (!display || display === 'none') {{\n",
              "            console.log([gd, 'removed!']);\n",
              "            Plotly.purge(gd);\n",
              "            observer.disconnect();\n",
              "        }}\n",
              "}});\n",
              "\n",
              "// Listen for the removal of the full notebook cells\n",
              "var notebookContainer = gd.closest('#notebook-container');\n",
              "if (notebookContainer) {{\n",
              "    x.observe(notebookContainer, {childList: true});\n",
              "}}\n",
              "\n",
              "// Listen for the clearing of the current output cell\n",
              "var outputEl = gd.closest('.output');\n",
              "if (outputEl) {{\n",
              "    x.observe(outputEl, {childList: true});\n",
              "}}\n",
              "\n",
              "                        })                };                            </script>        </div>\n",
              "</body>\n",
              "</html>"
            ]
          },
          "metadata": {}
        }
      ]
    },
    {
      "cell_type": "markdown",
      "source": [
        "#Tweets durante el Tiempo\n",
        "\n",
        "Podemos ver que hay tres picos de comentarios que abarcan todo el dia de hoy\n",
        "\n",
        "\n",
        "\n",
        "1.   A las 4 de la tarde comenzando los partidos\n",
        "2.   A las 5:15 de la tarde en el partido entre ElBarrio y Troncos\n",
        "3.   A las 7 de la tarde en el partido de Aniquiladores vs KunisSports\n",
        "\n"
      ],
      "metadata": {
        "id": "mBb66QLrJV70"
      }
    },
    {
      "cell_type": "code",
      "source": [
        "fig = px.histogram(dt, x=positive_tweet[\"Date\"], title=\"Tweets positivos durante el tiempo\")\n",
        "fig.update_layout(bargap=0.2)\n",
        "fig.show()"
      ],
      "metadata": {
        "colab": {
          "base_uri": "https://localhost:8080/",
          "height": 542
        },
        "id": "dbmsxiwiDOTU",
        "outputId": "ba102c47-27fc-4670-f2f1-e557218e8ac1"
      },
      "execution_count": 210,
      "outputs": [
        {
          "output_type": "display_data",
          "data": {
            "text/html": [
              "<html>\n",
              "<head><meta charset=\"utf-8\" /></head>\n",
              "<body>\n",
              "    <div>            <script src=\"https://cdnjs.cloudflare.com/ajax/libs/mathjax/2.7.5/MathJax.js?config=TeX-AMS-MML_SVG\"></script><script type=\"text/javascript\">if (window.MathJax) {MathJax.Hub.Config({SVG: {font: \"STIX-Web\"}});}</script>                <script type=\"text/javascript\">window.PlotlyConfig = {MathJaxConfig: 'local'};</script>\n",
              "        <script src=\"https://cdn.plot.ly/plotly-2.8.3.min.js\"></script>                <div id=\"ac36997f-9cf4-41bf-be45-d7ce7d305f8c\" class=\"plotly-graph-div\" style=\"height:525px; width:100%;\"></div>            <script type=\"text/javascript\">                                    window.PLOTLYENV=window.PLOTLYENV || {};                                    if (document.getElementById(\"ac36997f-9cf4-41bf-be45-d7ce7d305f8c\")) {                    Plotly.newPlot(                        \"ac36997f-9cf4-41bf-be45-d7ce7d305f8c\",                        [{\"alignmentgroup\":\"True\",\"bingroup\":\"x\",\"hovertemplate\":\"x=%{x}<br>count=%{y}<extra></extra>\",\"legendgroup\":\"\",\"marker\":{\"color\":\"#636efa\",\"pattern\":{\"shape\":\"\"}},\"name\":\"\",\"offsetgroup\":\"\",\"orientation\":\"v\",\"showlegend\":false,\"x\":[\"2023-02-12T23:13:10+00:00\",\"2023-02-12T23:12:26+00:00\",\"2023-02-12T23:11:34+00:00\",\"2023-02-12T23:09:07+00:00\",\"2023-02-12T23:06:54+00:00\",\"2023-02-12T23:05:56+00:00\",\"2023-02-12T23:05:08+00:00\",\"2023-02-12T23:00:00+00:00\",\"2023-02-12T22:59:34+00:00\",\"2023-02-12T22:58:25+00:00\",\"2023-02-12T22:57:56+00:00\",\"2023-02-12T22:47:41+00:00\",\"2023-02-12T22:45:07+00:00\",\"2023-02-12T22:43:04+00:00\",\"2023-02-12T22:41:18+00:00\",\"2023-02-12T22:40:13+00:00\",\"2023-02-12T22:37:32+00:00\",\"2023-02-12T22:36:44+00:00\",\"2023-02-12T22:36:38+00:00\",\"2023-02-12T22:36:17+00:00\",\"2023-02-12T22:35:31+00:00\",\"2023-02-12T22:35:07+00:00\",\"2023-02-12T22:34:57+00:00\",\"2023-02-12T22:34:44+00:00\",\"2023-02-12T22:32:48+00:00\",\"2023-02-12T22:31:55+00:00\",\"2023-02-12T22:31:53+00:00\",\"2023-02-12T22:31:32+00:00\",\"2023-02-12T22:30:19+00:00\",\"2023-02-12T22:30:18+00:00\",\"2023-02-12T22:29:04+00:00\",\"2023-02-12T22:28:33+00:00\",\"2023-02-12T22:27:34+00:00\",\"2023-02-12T22:25:21+00:00\",\"2023-02-12T22:24:41+00:00\",\"2023-02-12T22:22:17+00:00\",\"2023-02-12T22:20:33+00:00\",\"2023-02-12T22:19:53+00:00\",\"2023-02-12T22:19:29+00:00\",\"2023-02-12T22:18:39+00:00\",\"2023-02-12T22:18:31+00:00\",\"2023-02-12T22:18:21+00:00\",\"2023-02-12T22:17:51+00:00\",\"2023-02-12T22:17:46+00:00\",\"2023-02-12T22:16:49+00:00\",\"2023-02-12T22:16:32+00:00\",\"2023-02-12T22:16:30+00:00\",\"2023-02-12T22:15:53+00:00\",\"2023-02-12T22:15:21+00:00\",\"2023-02-12T22:14:38+00:00\",\"2023-02-12T22:14:37+00:00\",\"2023-02-12T22:13:07+00:00\",\"2023-02-12T22:10:34+00:00\",\"2023-02-12T22:09:48+00:00\",\"2023-02-12T22:08:51+00:00\",\"2023-02-12T22:07:19+00:00\",\"2023-02-12T22:07:09+00:00\",\"2023-02-12T22:06:13+00:00\",\"2023-02-12T22:04:20+00:00\",\"2023-02-12T22:03:20+00:00\",\"2023-02-12T22:02:05+00:00\",\"2023-02-12T22:01:03+00:00\",\"2023-02-12T22:00:07+00:00\",\"2023-02-12T21:59:59+00:00\",\"2023-02-12T21:58:50+00:00\",\"2023-02-12T21:57:33+00:00\",\"2023-02-12T21:56:34+00:00\",\"2023-02-12T21:56:24+00:00\",\"2023-02-12T21:55:30+00:00\",\"2023-02-12T21:55:07+00:00\",\"2023-02-12T21:52:45+00:00\",\"2023-02-12T21:51:27+00:00\",\"2023-02-12T21:51:12+00:00\",\"2023-02-12T21:51:09+00:00\",\"2023-02-12T21:50:52+00:00\",\"2023-02-12T21:49:35+00:00\",\"2023-02-12T21:48:56+00:00\",\"2023-02-12T21:45:12+00:00\",\"2023-02-12T21:45:06+00:00\",\"2023-02-12T21:44:08+00:00\",\"2023-02-12T21:43:55+00:00\",\"2023-02-12T21:43:53+00:00\",\"2023-02-12T21:43:31+00:00\",\"2023-02-12T21:43:05+00:00\",\"2023-02-12T21:41:58+00:00\",\"2023-02-12T21:41:10+00:00\",\"2023-02-12T21:40:43+00:00\",\"2023-02-12T21:40:41+00:00\",\"2023-02-12T21:40:00+00:00\",\"2023-02-12T21:39:32+00:00\",\"2023-02-12T21:38:39+00:00\",\"2023-02-12T21:38:38+00:00\",\"2023-02-12T21:38:38+00:00\",\"2023-02-12T21:37:53+00:00\",\"2023-02-12T21:37:43+00:00\",\"2023-02-12T21:37:26+00:00\",\"2023-02-12T21:37:07+00:00\",\"2023-02-12T21:36:51+00:00\",\"2023-02-12T21:35:25+00:00\",\"2023-02-12T21:35:15+00:00\",\"2023-02-12T21:35:12+00:00\",\"2023-02-12T21:34:16+00:00\",\"2023-02-12T21:34:14+00:00\",\"2023-02-12T21:34:03+00:00\",\"2023-02-12T21:33:17+00:00\",\"2023-02-12T21:33:02+00:00\",\"2023-02-12T21:32:51+00:00\",\"2023-02-12T21:32:49+00:00\",\"2023-02-12T21:32:37+00:00\",\"2023-02-12T21:32:34+00:00\",\"2023-02-12T21:32:31+00:00\",\"2023-02-12T21:32:04+00:00\",\"2023-02-12T21:31:04+00:00\",\"2023-02-12T21:30:44+00:00\",\"2023-02-12T21:29:39+00:00\",\"2023-02-12T21:29:20+00:00\",\"2023-02-12T21:28:41+00:00\",\"2023-02-12T21:28:40+00:00\",\"2023-02-12T21:28:37+00:00\",\"2023-02-12T21:27:10+00:00\",\"2023-02-12T21:27:01+00:00\",\"2023-02-12T21:25:06+00:00\",\"2023-02-12T21:24:28+00:00\",\"2023-02-12T21:23:44+00:00\",\"2023-02-12T21:23:37+00:00\",\"2023-02-12T21:23:33+00:00\",\"2023-02-12T21:22:49+00:00\",\"2023-02-12T21:22:34+00:00\",\"2023-02-12T21:22:16+00:00\",\"2023-02-12T21:19:36+00:00\",\"2023-02-12T21:19:23+00:00\",\"2023-02-12T21:19:09+00:00\",\"2023-02-12T21:19:06+00:00\",\"2023-02-12T21:18:18+00:00\",\"2023-02-12T21:18:04+00:00\",\"2023-02-12T21:17:58+00:00\",\"2023-02-12T21:15:48+00:00\",\"2023-02-12T21:15:41+00:00\",\"2023-02-12T21:15:27+00:00\",\"2023-02-12T21:14:29+00:00\",\"2023-02-12T21:13:06+00:00\",\"2023-02-12T21:12:39+00:00\",\"2023-02-12T21:12:30+00:00\",\"2023-02-12T21:12:01+00:00\",\"2023-02-12T21:11:47+00:00\",\"2023-02-12T21:10:02+00:00\",\"2023-02-12T21:08:43+00:00\",\"2023-02-12T21:07:29+00:00\",\"2023-02-12T21:05:45+00:00\",\"2023-02-12T21:04:48+00:00\",\"2023-02-12T21:03:01+00:00\",\"2023-02-12T21:01:38+00:00\",\"2023-02-12T20:59:06+00:00\",\"2023-02-12T20:56:03+00:00\",\"2023-02-12T20:51:01+00:00\",\"2023-02-12T20:51:00+00:00\",\"2023-02-12T20:50:55+00:00\",\"2023-02-12T20:47:19+00:00\",\"2023-02-12T20:44:02+00:00\",\"2023-02-12T20:42:20+00:00\",\"2023-02-12T20:38:24+00:00\",\"2023-02-12T20:38:14+00:00\",\"2023-02-12T20:37:10+00:00\",\"2023-02-12T20:36:41+00:00\",\"2023-02-12T20:35:30+00:00\",\"2023-02-12T20:35:12+00:00\",\"2023-02-12T20:33:46+00:00\",\"2023-02-12T20:33:33+00:00\",\"2023-02-12T20:33:31+00:00\",\"2023-02-12T20:30:52+00:00\",\"2023-02-12T20:30:48+00:00\",\"2023-02-12T20:29:48+00:00\",\"2023-02-12T20:27:14+00:00\",\"2023-02-12T20:27:03+00:00\",\"2023-02-12T20:23:28+00:00\",\"2023-02-12T20:23:23+00:00\",\"2023-02-12T20:22:24+00:00\",\"2023-02-12T20:20:06+00:00\",\"2023-02-12T20:18:40+00:00\",\"2023-02-12T20:17:29+00:00\",\"2023-02-12T20:17:25+00:00\",\"2023-02-12T20:16:42+00:00\",\"2023-02-12T20:15:28+00:00\",\"2023-02-12T20:14:36+00:00\",\"2023-02-12T20:14:13+00:00\",\"2023-02-12T20:13:42+00:00\",\"2023-02-12T20:13:04+00:00\",\"2023-02-12T20:12:24+00:00\",\"2023-02-12T20:12:19+00:00\",\"2023-02-12T20:11:59+00:00\",\"2023-02-12T20:11:54+00:00\",\"2023-02-12T20:11:45+00:00\",\"2023-02-12T20:11:44+00:00\",\"2023-02-12T20:11:33+00:00\",\"2023-02-12T20:10:12+00:00\",\"2023-02-12T20:09:31+00:00\",\"2023-02-12T20:09:17+00:00\",\"2023-02-12T20:08:35+00:00\",\"2023-02-12T20:08:22+00:00\",\"2023-02-12T20:07:48+00:00\",\"2023-02-12T20:07:35+00:00\",\"2023-02-12T20:07:28+00:00\",\"2023-02-12T20:07:24+00:00\",\"2023-02-12T20:07:19+00:00\",\"2023-02-12T20:06:54+00:00\",\"2023-02-12T20:06:45+00:00\",\"2023-02-12T20:05:59+00:00\",\"2023-02-12T20:05:48+00:00\",\"2023-02-12T20:05:35+00:00\",\"2023-02-12T20:05:07+00:00\",\"2023-02-12T20:04:18+00:00\",\"2023-02-12T20:04:09+00:00\",\"2023-02-12T20:01:59+00:00\",\"2023-02-12T20:01:41+00:00\",\"2023-02-12T20:00:55+00:00\",\"2023-02-12T19:59:26+00:00\",\"2023-02-12T19:59:15+00:00\",\"2023-02-12T19:58:31+00:00\",\"2023-02-12T19:57:37+00:00\",\"2023-02-12T19:57:14+00:00\",\"2023-02-12T19:57:10+00:00\",\"2023-02-12T19:56:45+00:00\",\"2023-02-12T19:56:39+00:00\",\"2023-02-12T19:55:54+00:00\",\"2023-02-12T19:51:31+00:00\",\"2023-02-12T19:50:44+00:00\",\"2023-02-12T19:49:38+00:00\",\"2023-02-12T19:49:24+00:00\",\"2023-02-12T19:49:14+00:00\",\"2023-02-12T19:48:50+00:00\",\"2023-02-12T19:48:49+00:00\",\"2023-02-12T19:48:20+00:00\",\"2023-02-12T19:48:12+00:00\",\"2023-02-12T19:47:13+00:00\",\"2023-02-12T19:46:24+00:00\",\"2023-02-12T19:45:46+00:00\",\"2023-02-12T19:45:36+00:00\",\"2023-02-12T19:45:13+00:00\",\"2023-02-12T19:44:44+00:00\",\"2023-02-12T19:44:33+00:00\",\"2023-02-12T19:42:33+00:00\",\"2023-02-12T19:39:54+00:00\",\"2023-02-12T19:38:13+00:00\",\"2023-02-12T19:35:31+00:00\",\"2023-02-12T19:35:31+00:00\",\"2023-02-12T19:34:47+00:00\",\"2023-02-12T19:34:36+00:00\",\"2023-02-12T19:34:24+00:00\",\"2023-02-12T19:34:23+00:00\",\"2023-02-12T19:34:18+00:00\",\"2023-02-12T19:29:57+00:00\",\"2023-02-12T19:28:13+00:00\",\"2023-02-12T19:27:30+00:00\",\"2023-02-12T19:27:08+00:00\",\"2023-02-12T19:26:10+00:00\",\"2023-02-12T19:24:45+00:00\",\"2023-02-12T19:23:36+00:00\",\"2023-02-12T19:21:20+00:00\",\"2023-02-12T19:21:06+00:00\",\"2023-02-12T19:19:38+00:00\",\"2023-02-12T19:18:42+00:00\",\"2023-02-12T19:18:41+00:00\",\"2023-02-12T19:18:38+00:00\",\"2023-02-12T19:18:30+00:00\",\"2023-02-12T19:16:46+00:00\",\"2023-02-12T19:16:05+00:00\",\"2023-02-12T19:16:00+00:00\",\"2023-02-12T19:15:28+00:00\",\"2023-02-12T19:15:02+00:00\",\"2023-02-12T19:14:11+00:00\",\"2023-02-12T19:13:43+00:00\",\"2023-02-12T19:12:44+00:00\",\"2023-02-12T19:11:52+00:00\",\"2023-02-12T19:11:16+00:00\",\"2023-02-12T19:11:10+00:00\",\"2023-02-12T19:10:52+00:00\",\"2023-02-12T19:10:28+00:00\",\"2023-02-12T19:10:23+00:00\",\"2023-02-12T19:08:48+00:00\",\"2023-02-12T19:08:21+00:00\",\"2023-02-12T19:08:04+00:00\",\"2023-02-12T19:08:00+00:00\",\"2023-02-12T19:07:58+00:00\",\"2023-02-12T19:07:41+00:00\",\"2023-02-12T19:07:39+00:00\",\"2023-02-12T19:07:39+00:00\",\"2023-02-12T19:06:41+00:00\",\"2023-02-12T19:06:33+00:00\",\"2023-02-12T19:06:30+00:00\",\"2023-02-12T19:06:23+00:00\",\"2023-02-12T19:06:18+00:00\",\"2023-02-12T19:05:56+00:00\",\"2023-02-12T19:05:53+00:00\",\"2023-02-12T19:05:30+00:00\",\"2023-02-12T19:05:06+00:00\",\"2023-02-12T19:03:48+00:00\",\"2023-02-12T19:03:45+00:00\",\"2023-02-12T19:03:26+00:00\",\"2023-02-12T19:03:21+00:00\",\"2023-02-12T19:03:02+00:00\",\"2023-02-12T19:02:25+00:00\",\"2023-02-12T19:00:28+00:00\",\"2023-02-12T18:59:27+00:00\",\"2023-02-12T18:56:52+00:00\",\"2023-02-12T18:54:09+00:00\",\"2023-02-12T18:53:22+00:00\",\"2023-02-12T18:53:11+00:00\",\"2023-02-12T18:52:42+00:00\",\"2023-02-12T18:51:30+00:00\",\"2023-02-12T18:51:26+00:00\",\"2023-02-12T18:50:55+00:00\",\"2023-02-12T18:50:48+00:00\",\"2023-02-12T18:50:42+00:00\",\"2023-02-12T18:50:39+00:00\",\"2023-02-12T18:47:22+00:00\",\"2023-02-12T18:44:57+00:00\",\"2023-02-12T18:43:32+00:00\",\"2023-02-12T18:42:18+00:00\",\"2023-02-12T18:41:32+00:00\",\"2023-02-12T18:41:18+00:00\",\"2023-02-12T18:40:58+00:00\",\"2023-02-12T18:40:50+00:00\",\"2023-02-12T18:40:08+00:00\",\"2023-02-12T18:40:07+00:00\",\"2023-02-12T18:39:57+00:00\",\"2023-02-12T18:39:54+00:00\",\"2023-02-12T18:38:43+00:00\",\"2023-02-12T18:38:27+00:00\",\"2023-02-12T18:38:06+00:00\",\"2023-02-12T18:37:13+00:00\",\"2023-02-12T18:37:01+00:00\",\"2023-02-12T18:36:26+00:00\",\"2023-02-12T18:36:19+00:00\",\"2023-02-12T18:35:34+00:00\",\"2023-02-12T18:35:09+00:00\",\"2023-02-12T18:35:05+00:00\",\"2023-02-12T18:34:54+00:00\",\"2023-02-12T18:34:23+00:00\",\"2023-02-12T18:34:21+00:00\",\"2023-02-12T18:33:38+00:00\",\"2023-02-12T18:32:07+00:00\",\"2023-02-12T18:31:13+00:00\",\"2023-02-12T18:31:12+00:00\",\"2023-02-12T18:30:57+00:00\",\"2023-02-12T18:30:53+00:00\",\"2023-02-12T18:29:28+00:00\",\"2023-02-12T18:29:26+00:00\",\"2023-02-12T18:26:59+00:00\",\"2023-02-12T18:22:39+00:00\",\"2023-02-12T18:19:54+00:00\",\"2023-02-12T18:15:24+00:00\",\"2023-02-12T18:10:43+00:00\",\"2023-02-12T18:10:32+00:00\",\"2023-02-12T18:10:27+00:00\",\"2023-02-12T18:10:00+00:00\",\"2023-02-12T18:07:58+00:00\",\"2023-02-12T18:06:57+00:00\",\"2023-02-12T18:06:39+00:00\",\"2023-02-12T18:06:39+00:00\",\"2023-02-12T18:06:25+00:00\",\"2023-02-12T18:05:41+00:00\",\"2023-02-12T18:04:05+00:00\",\"2023-02-12T18:03:16+00:00\",\"2023-02-12T18:03:09+00:00\",\"2023-02-12T18:03:04+00:00\",\"2023-02-12T18:01:20+00:00\",\"2023-02-12T18:00:53+00:00\",\"2023-02-12T18:00:35+00:00\",\"2023-02-12T18:00:09+00:00\",\"2023-02-12T17:59:38+00:00\",\"2023-02-12T17:56:00+00:00\",\"2023-02-12T17:55:38+00:00\",\"2023-02-12T17:55:25+00:00\",\"2023-02-12T17:55:06+00:00\",\"2023-02-12T17:54:35+00:00\",\"2023-02-12T17:53:16+00:00\",\"2023-02-12T17:52:56+00:00\",\"2023-02-12T17:51:21+00:00\",\"2023-02-12T17:51:05+00:00\",\"2023-02-12T17:48:55+00:00\",\"2023-02-12T17:45:34+00:00\",\"2023-02-12T17:43:52+00:00\",\"2023-02-12T17:43:05+00:00\",\"2023-02-12T17:42:16+00:00\",\"2023-02-12T17:38:52+00:00\",\"2023-02-12T17:38:26+00:00\",\"2023-02-12T17:37:06+00:00\",\"2023-02-12T17:36:45+00:00\",\"2023-02-12T17:35:15+00:00\",\"2023-02-12T17:34:55+00:00\",\"2023-02-12T17:33:55+00:00\",\"2023-02-12T17:33:17+00:00\",\"2023-02-12T17:33:15+00:00\",\"2023-02-12T17:33:13+00:00\",\"2023-02-12T17:32:45+00:00\",\"2023-02-12T17:31:54+00:00\",\"2023-02-12T17:31:28+00:00\",\"2023-02-12T17:29:19+00:00\",\"2023-02-12T17:28:40+00:00\",\"2023-02-12T17:28:16+00:00\",\"2023-02-12T17:28:13+00:00\",\"2023-02-12T17:27:41+00:00\",\"2023-02-12T17:27:12+00:00\",\"2023-02-12T17:24:42+00:00\",\"2023-02-12T17:24:21+00:00\",\"2023-02-12T17:23:57+00:00\",\"2023-02-12T17:21:52+00:00\",\"2023-02-12T17:21:51+00:00\",\"2023-02-12T17:21:14+00:00\",\"2023-02-12T17:21:03+00:00\",\"2023-02-12T17:20:56+00:00\",\"2023-02-12T17:20:42+00:00\",\"2023-02-12T17:20:06+00:00\",\"2023-02-12T17:19:25+00:00\",\"2023-02-12T17:19:22+00:00\",\"2023-02-12T17:19:10+00:00\",\"2023-02-12T17:18:45+00:00\",\"2023-02-12T17:18:41+00:00\",\"2023-02-12T17:17:59+00:00\",\"2023-02-12T17:17:56+00:00\",\"2023-02-12T17:17:54+00:00\",\"2023-02-12T17:17:54+00:00\",\"2023-02-12T17:17:52+00:00\",\"2023-02-12T17:17:26+00:00\",\"2023-02-12T17:16:58+00:00\",\"2023-02-12T17:16:30+00:00\",\"2023-02-12T17:15:57+00:00\",\"2023-02-12T17:15:40+00:00\",\"2023-02-12T17:15:21+00:00\",\"2023-02-12T17:14:21+00:00\",\"2023-02-12T17:13:52+00:00\",\"2023-02-12T17:12:51+00:00\",\"2023-02-12T17:12:41+00:00\",\"2023-02-12T17:12:39+00:00\",\"2023-02-12T17:11:48+00:00\",\"2023-02-12T17:11:39+00:00\",\"2023-02-12T17:10:27+00:00\",\"2023-02-12T17:10:16+00:00\",\"2023-02-12T17:10:02+00:00\",\"2023-02-12T17:09:56+00:00\",\"2023-02-12T17:09:56+00:00\",\"2023-02-12T17:09:20+00:00\",\"2023-02-12T17:09:15+00:00\",\"2023-02-12T17:08:59+00:00\",\"2023-02-12T17:08:47+00:00\",\"2023-02-12T17:08:11+00:00\",\"2023-02-12T17:07:54+00:00\",\"2023-02-12T17:04:56+00:00\",\"2023-02-12T17:04:34+00:00\",\"2023-02-12T17:01:59+00:00\",\"2023-02-12T17:01:15+00:00\",\"2023-02-12T16:58:46+00:00\",\"2023-02-12T16:57:27+00:00\",\"2023-02-12T16:57:11+00:00\",\"2023-02-12T16:57:10+00:00\",\"2023-02-12T16:57:05+00:00\",\"2023-02-12T16:57:02+00:00\",\"2023-02-12T16:57:02+00:00\",\"2023-02-12T16:55:54+00:00\",\"2023-02-12T16:55:35+00:00\",\"2023-02-12T16:55:24+00:00\",\"2023-02-12T16:55:06+00:00\",\"2023-02-12T16:54:58+00:00\",\"2023-02-12T16:54:56+00:00\",\"2023-02-12T16:53:37+00:00\",\"2023-02-12T16:52:39+00:00\",\"2023-02-12T16:52:09+00:00\",\"2023-02-12T16:49:43+00:00\",\"2023-02-12T16:48:14+00:00\",\"2023-02-12T16:47:48+00:00\",\"2023-02-12T16:44:42+00:00\",\"2023-02-12T16:43:23+00:00\",\"2023-02-12T16:43:20+00:00\",\"2023-02-12T16:43:02+00:00\",\"2023-02-12T16:42:33+00:00\",\"2023-02-12T16:41:38+00:00\",\"2023-02-12T16:41:14+00:00\",\"2023-02-12T16:40:58+00:00\",\"2023-02-12T16:39:48+00:00\",\"2023-02-12T16:39:45+00:00\",\"2023-02-12T16:39:42+00:00\",\"2023-02-12T16:39:33+00:00\",\"2023-02-12T16:39:00+00:00\",\"2023-02-12T16:38:51+00:00\",\"2023-02-12T16:38:34+00:00\",\"2023-02-12T16:36:38+00:00\",\"2023-02-12T16:35:35+00:00\",\"2023-02-12T16:34:13+00:00\",\"2023-02-12T16:33:41+00:00\",\"2023-02-12T16:31:43+00:00\",\"2023-02-12T16:30:56+00:00\",\"2023-02-12T16:30:36+00:00\",\"2023-02-12T16:29:56+00:00\",\"2023-02-12T16:29:14+00:00\",\"2023-02-12T16:28:54+00:00\",\"2023-02-12T16:27:50+00:00\",\"2023-02-12T16:27:07+00:00\",\"2023-02-12T16:27:03+00:00\",\"2023-02-12T16:26:18+00:00\",\"2023-02-12T16:21:59+00:00\",\"2023-02-12T16:21:11+00:00\",\"2023-02-12T16:20:48+00:00\",\"2023-02-12T16:20:23+00:00\",\"2023-02-12T16:19:38+00:00\",\"2023-02-12T16:18:29+00:00\",\"2023-02-12T16:18:27+00:00\",\"2023-02-12T16:18:02+00:00\",\"2023-02-12T16:16:57+00:00\",\"2023-02-12T16:16:44+00:00\",\"2023-02-12T16:16:39+00:00\",\"2023-02-12T16:15:12+00:00\",\"2023-02-12T16:14:50+00:00\",\"2023-02-12T16:14:33+00:00\",\"2023-02-12T16:14:22+00:00\",\"2023-02-12T16:12:52+00:00\",\"2023-02-12T16:12:10+00:00\",\"2023-02-12T16:11:34+00:00\",\"2023-02-12T16:11:10+00:00\",\"2023-02-12T16:10:51+00:00\",\"2023-02-12T16:10:45+00:00\",\"2023-02-12T16:10:27+00:00\",\"2023-02-12T16:09:46+00:00\",\"2023-02-12T16:09:39+00:00\",\"2023-02-12T16:09:23+00:00\",\"2023-02-12T16:09:16+00:00\",\"2023-02-12T16:08:49+00:00\",\"2023-02-12T16:08:29+00:00\",\"2023-02-12T16:06:47+00:00\",\"2023-02-12T16:06:31+00:00\",\"2023-02-12T16:06:13+00:00\",\"2023-02-12T16:05:37+00:00\",\"2023-02-12T16:05:00+00:00\",\"2023-02-12T16:04:39+00:00\",\"2023-02-12T16:04:22+00:00\",\"2023-02-12T16:04:13+00:00\",\"2023-02-12T16:03:05+00:00\",\"2023-02-12T16:02:57+00:00\",\"2023-02-12T16:02:51+00:00\",\"2023-02-12T16:02:08+00:00\",\"2023-02-12T16:02:01+00:00\",\"2023-02-12T16:01:38+00:00\",\"2023-02-12T16:00:47+00:00\",\"2023-02-12T16:00:31+00:00\",\"2023-02-12T16:00:27+00:00\",\"2023-02-12T15:59:55+00:00\",\"2023-02-12T15:59:27+00:00\",\"2023-02-12T15:58:52+00:00\",\"2023-02-12T15:58:52+00:00\",\"2023-02-12T15:58:44+00:00\",\"2023-02-12T15:57:44+00:00\",\"2023-02-12T15:57:31+00:00\",\"2023-02-12T15:57:28+00:00\",\"2023-02-12T15:57:21+00:00\",\"2023-02-12T15:56:12+00:00\",\"2023-02-12T15:55:40+00:00\",\"2023-02-12T15:55:32+00:00\",\"2023-02-12T15:55:31+00:00\",\"2023-02-12T15:55:30+00:00\",\"2023-02-12T15:55:22+00:00\",\"2023-02-12T15:55:18+00:00\",\"2023-02-12T15:54:51+00:00\",\"2023-02-12T15:54:28+00:00\",\"2023-02-12T15:54:21+00:00\",\"2023-02-12T15:54:12+00:00\",\"2023-02-12T15:54:10+00:00\",\"2023-02-12T15:53:58+00:00\",\"2023-02-12T15:53:55+00:00\",\"2023-02-12T15:53:08+00:00\",\"2023-02-12T15:53:04+00:00\",\"2023-02-12T15:52:48+00:00\",\"2023-02-12T15:52:30+00:00\",\"2023-02-12T15:51:59+00:00\",\"2023-02-12T15:51:52+00:00\",\"2023-02-12T15:51:50+00:00\",\"2023-02-12T15:51:46+00:00\",\"2023-02-12T15:51:20+00:00\",\"2023-02-12T15:51:06+00:00\",\"2023-02-12T15:50:57+00:00\",\"2023-02-12T15:50:49+00:00\",\"2023-02-12T15:50:05+00:00\",\"2023-02-12T15:49:44+00:00\",\"2023-02-12T15:49:14+00:00\",\"2023-02-12T15:48:49+00:00\",\"2023-02-12T15:46:13+00:00\",\"2023-02-12T15:46:06+00:00\",\"2023-02-12T15:45:45+00:00\",\"2023-02-12T15:44:19+00:00\",\"2023-02-12T15:43:21+00:00\",\"2023-02-12T15:42:49+00:00\",\"2023-02-12T15:37:39+00:00\",\"2023-02-12T15:37:23+00:00\",\"2023-02-12T15:37:18+00:00\",\"2023-02-12T15:35:45+00:00\",\"2023-02-12T15:34:43+00:00\",\"2023-02-12T15:34:39+00:00\",\"2023-02-12T15:33:05+00:00\",\"2023-02-12T15:32:42+00:00\",\"2023-02-12T15:29:34+00:00\",\"2023-02-12T15:28:33+00:00\",\"2023-02-12T15:28:18+00:00\",\"2023-02-12T15:27:14+00:00\",\"2023-02-12T15:27:11+00:00\",\"2023-02-12T15:27:09+00:00\",\"2023-02-12T15:25:58+00:00\",\"2023-02-12T15:25:30+00:00\",\"2023-02-12T15:24:30+00:00\",\"2023-02-12T15:23:56+00:00\",\"2023-02-12T15:23:40+00:00\",\"2023-02-12T15:23:19+00:00\",\"2023-02-12T15:22:31+00:00\",\"2023-02-12T15:22:29+00:00\",\"2023-02-12T15:22:19+00:00\",\"2023-02-12T15:22:08+00:00\",\"2023-02-12T15:21:35+00:00\",\"2023-02-12T15:19:44+00:00\",\"2023-02-12T15:19:38+00:00\",\"2023-02-12T15:18:51+00:00\",\"2023-02-12T15:17:06+00:00\",\"2023-02-12T15:16:19+00:00\",\"2023-02-12T15:16:18+00:00\",\"2023-02-12T15:15:30+00:00\",\"2023-02-12T15:13:43+00:00\",\"2023-02-12T15:13:33+00:00\",\"2023-02-12T15:11:30+00:00\",\"2023-02-12T15:10:49+00:00\",\"2023-02-12T15:10:46+00:00\",\"2023-02-12T15:10:37+00:00\",\"2023-02-12T15:10:08+00:00\",\"2023-02-12T15:06:59+00:00\",\"2023-02-12T15:06:44+00:00\",\"2023-02-12T15:06:40+00:00\",\"2023-02-12T15:05:19+00:00\",\"2023-02-12T15:04:39+00:00\",\"2023-02-12T15:03:50+00:00\",\"2023-02-12T15:01:20+00:00\",\"2023-02-12T14:59:51+00:00\",\"2023-02-12T14:57:33+00:00\",\"2023-02-12T14:53:03+00:00\",\"2023-02-12T14:53:03+00:00\",\"2023-02-12T14:51:19+00:00\",\"2023-02-12T14:45:18+00:00\",\"2023-02-12T14:42:54+00:00\",\"2023-02-12T14:35:37+00:00\",\"2023-02-12T14:30:21+00:00\",\"2023-02-12T14:28:55+00:00\",\"2023-02-12T14:25:43+00:00\",\"2023-02-12T14:19:30+00:00\",\"2023-02-12T14:15:22+00:00\",\"2023-02-12T14:02:53+00:00\",\"2023-02-12T14:02:18+00:00\",\"2023-02-12T13:58:43+00:00\",\"2023-02-12T13:53:01+00:00\",\"2023-02-12T13:46:57+00:00\",\"2023-02-12T13:43:18+00:00\",\"2023-02-12T13:32:34+00:00\",\"2023-02-12T13:31:26+00:00\",\"2023-02-12T13:28:54+00:00\",\"2023-02-12T13:20:27+00:00\",\"2023-02-12T13:18:11+00:00\",\"2023-02-12T13:16:50+00:00\",\"2023-02-12T13:14:53+00:00\",\"2023-02-12T13:08:06+00:00\",\"2023-02-12T13:06:08+00:00\",\"2023-02-12T13:01:40+00:00\",\"2023-02-12T13:00:38+00:00\",\"2023-02-12T12:48:41+00:00\",\"2023-02-12T12:47:01+00:00\",\"2023-02-12T12:45:55+00:00\",\"2023-02-12T12:42:38+00:00\",\"2023-02-12T12:36:03+00:00\",\"2023-02-12T12:33:27+00:00\",\"2023-02-12T12:33:25+00:00\",\"2023-02-12T12:25:24+00:00\",\"2023-02-12T12:09:26+00:00\",\"2023-02-12T12:04:14+00:00\",\"2023-02-12T11:54:13+00:00\",\"2023-02-12T11:47:04+00:00\",\"2023-02-12T11:38:12+00:00\",\"2023-02-12T11:31:55+00:00\",\"2023-02-12T11:27:11+00:00\",\"2023-02-12T11:26:39+00:00\",\"2023-02-12T11:23:50+00:00\",\"2023-02-12T11:22:53+00:00\",\"2023-02-12T11:22:05+00:00\",\"2023-02-12T11:21:40+00:00\",\"2023-02-12T11:21:18+00:00\",\"2023-02-12T11:21:10+00:00\",\"2023-02-12T11:20:56+00:00\",\"2023-02-12T11:20:15+00:00\",\"2023-02-12T11:19:50+00:00\",\"2023-02-12T11:19:30+00:00\",\"2023-02-12T11:17:28+00:00\",\"2023-02-12T11:16:56+00:00\",\"2023-02-12T11:16:27+00:00\",\"2023-02-12T11:00:27+00:00\",\"2023-02-12T10:57:14+00:00\",\"2023-02-12T10:48:58+00:00\",\"2023-02-12T10:41:11+00:00\",\"2023-02-12T10:39:39+00:00\",\"2023-02-12T10:38:04+00:00\",\"2023-02-12T10:10:09+00:00\",\"2023-02-12T10:04:02+00:00\",\"2023-02-12T10:01:13+00:00\",\"2023-02-12T09:28:00+00:00\"],\"xaxis\":\"x\",\"yaxis\":\"y\",\"type\":\"histogram\"}],                        {\"template\":{\"data\":{\"bar\":[{\"error_x\":{\"color\":\"#2a3f5f\"},\"error_y\":{\"color\":\"#2a3f5f\"},\"marker\":{\"line\":{\"color\":\"#E5ECF6\",\"width\":0.5},\"pattern\":{\"fillmode\":\"overlay\",\"size\":10,\"solidity\":0.2}},\"type\":\"bar\"}],\"barpolar\":[{\"marker\":{\"line\":{\"color\":\"#E5ECF6\",\"width\":0.5},\"pattern\":{\"fillmode\":\"overlay\",\"size\":10,\"solidity\":0.2}},\"type\":\"barpolar\"}],\"carpet\":[{\"aaxis\":{\"endlinecolor\":\"#2a3f5f\",\"gridcolor\":\"white\",\"linecolor\":\"white\",\"minorgridcolor\":\"white\",\"startlinecolor\":\"#2a3f5f\"},\"baxis\":{\"endlinecolor\":\"#2a3f5f\",\"gridcolor\":\"white\",\"linecolor\":\"white\",\"minorgridcolor\":\"white\",\"startlinecolor\":\"#2a3f5f\"},\"type\":\"carpet\"}],\"choropleth\":[{\"colorbar\":{\"outlinewidth\":0,\"ticks\":\"\"},\"type\":\"choropleth\"}],\"contour\":[{\"colorbar\":{\"outlinewidth\":0,\"ticks\":\"\"},\"colorscale\":[[0.0,\"#0d0887\"],[0.1111111111111111,\"#46039f\"],[0.2222222222222222,\"#7201a8\"],[0.3333333333333333,\"#9c179e\"],[0.4444444444444444,\"#bd3786\"],[0.5555555555555556,\"#d8576b\"],[0.6666666666666666,\"#ed7953\"],[0.7777777777777778,\"#fb9f3a\"],[0.8888888888888888,\"#fdca26\"],[1.0,\"#f0f921\"]],\"type\":\"contour\"}],\"contourcarpet\":[{\"colorbar\":{\"outlinewidth\":0,\"ticks\":\"\"},\"type\":\"contourcarpet\"}],\"heatmap\":[{\"colorbar\":{\"outlinewidth\":0,\"ticks\":\"\"},\"colorscale\":[[0.0,\"#0d0887\"],[0.1111111111111111,\"#46039f\"],[0.2222222222222222,\"#7201a8\"],[0.3333333333333333,\"#9c179e\"],[0.4444444444444444,\"#bd3786\"],[0.5555555555555556,\"#d8576b\"],[0.6666666666666666,\"#ed7953\"],[0.7777777777777778,\"#fb9f3a\"],[0.8888888888888888,\"#fdca26\"],[1.0,\"#f0f921\"]],\"type\":\"heatmap\"}],\"heatmapgl\":[{\"colorbar\":{\"outlinewidth\":0,\"ticks\":\"\"},\"colorscale\":[[0.0,\"#0d0887\"],[0.1111111111111111,\"#46039f\"],[0.2222222222222222,\"#7201a8\"],[0.3333333333333333,\"#9c179e\"],[0.4444444444444444,\"#bd3786\"],[0.5555555555555556,\"#d8576b\"],[0.6666666666666666,\"#ed7953\"],[0.7777777777777778,\"#fb9f3a\"],[0.8888888888888888,\"#fdca26\"],[1.0,\"#f0f921\"]],\"type\":\"heatmapgl\"}],\"histogram\":[{\"marker\":{\"pattern\":{\"fillmode\":\"overlay\",\"size\":10,\"solidity\":0.2}},\"type\":\"histogram\"}],\"histogram2d\":[{\"colorbar\":{\"outlinewidth\":0,\"ticks\":\"\"},\"colorscale\":[[0.0,\"#0d0887\"],[0.1111111111111111,\"#46039f\"],[0.2222222222222222,\"#7201a8\"],[0.3333333333333333,\"#9c179e\"],[0.4444444444444444,\"#bd3786\"],[0.5555555555555556,\"#d8576b\"],[0.6666666666666666,\"#ed7953\"],[0.7777777777777778,\"#fb9f3a\"],[0.8888888888888888,\"#fdca26\"],[1.0,\"#f0f921\"]],\"type\":\"histogram2d\"}],\"histogram2dcontour\":[{\"colorbar\":{\"outlinewidth\":0,\"ticks\":\"\"},\"colorscale\":[[0.0,\"#0d0887\"],[0.1111111111111111,\"#46039f\"],[0.2222222222222222,\"#7201a8\"],[0.3333333333333333,\"#9c179e\"],[0.4444444444444444,\"#bd3786\"],[0.5555555555555556,\"#d8576b\"],[0.6666666666666666,\"#ed7953\"],[0.7777777777777778,\"#fb9f3a\"],[0.8888888888888888,\"#fdca26\"],[1.0,\"#f0f921\"]],\"type\":\"histogram2dcontour\"}],\"mesh3d\":[{\"colorbar\":{\"outlinewidth\":0,\"ticks\":\"\"},\"type\":\"mesh3d\"}],\"parcoords\":[{\"line\":{\"colorbar\":{\"outlinewidth\":0,\"ticks\":\"\"}},\"type\":\"parcoords\"}],\"pie\":[{\"automargin\":true,\"type\":\"pie\"}],\"scatter\":[{\"marker\":{\"colorbar\":{\"outlinewidth\":0,\"ticks\":\"\"}},\"type\":\"scatter\"}],\"scatter3d\":[{\"line\":{\"colorbar\":{\"outlinewidth\":0,\"ticks\":\"\"}},\"marker\":{\"colorbar\":{\"outlinewidth\":0,\"ticks\":\"\"}},\"type\":\"scatter3d\"}],\"scattercarpet\":[{\"marker\":{\"colorbar\":{\"outlinewidth\":0,\"ticks\":\"\"}},\"type\":\"scattercarpet\"}],\"scattergeo\":[{\"marker\":{\"colorbar\":{\"outlinewidth\":0,\"ticks\":\"\"}},\"type\":\"scattergeo\"}],\"scattergl\":[{\"marker\":{\"colorbar\":{\"outlinewidth\":0,\"ticks\":\"\"}},\"type\":\"scattergl\"}],\"scattermapbox\":[{\"marker\":{\"colorbar\":{\"outlinewidth\":0,\"ticks\":\"\"}},\"type\":\"scattermapbox\"}],\"scatterpolar\":[{\"marker\":{\"colorbar\":{\"outlinewidth\":0,\"ticks\":\"\"}},\"type\":\"scatterpolar\"}],\"scatterpolargl\":[{\"marker\":{\"colorbar\":{\"outlinewidth\":0,\"ticks\":\"\"}},\"type\":\"scatterpolargl\"}],\"scatterternary\":[{\"marker\":{\"colorbar\":{\"outlinewidth\":0,\"ticks\":\"\"}},\"type\":\"scatterternary\"}],\"surface\":[{\"colorbar\":{\"outlinewidth\":0,\"ticks\":\"\"},\"colorscale\":[[0.0,\"#0d0887\"],[0.1111111111111111,\"#46039f\"],[0.2222222222222222,\"#7201a8\"],[0.3333333333333333,\"#9c179e\"],[0.4444444444444444,\"#bd3786\"],[0.5555555555555556,\"#d8576b\"],[0.6666666666666666,\"#ed7953\"],[0.7777777777777778,\"#fb9f3a\"],[0.8888888888888888,\"#fdca26\"],[1.0,\"#f0f921\"]],\"type\":\"surface\"}],\"table\":[{\"cells\":{\"fill\":{\"color\":\"#EBF0F8\"},\"line\":{\"color\":\"white\"}},\"header\":{\"fill\":{\"color\":\"#C8D4E3\"},\"line\":{\"color\":\"white\"}},\"type\":\"table\"}]},\"layout\":{\"annotationdefaults\":{\"arrowcolor\":\"#2a3f5f\",\"arrowhead\":0,\"arrowwidth\":1},\"autotypenumbers\":\"strict\",\"coloraxis\":{\"colorbar\":{\"outlinewidth\":0,\"ticks\":\"\"}},\"colorscale\":{\"diverging\":[[0,\"#8e0152\"],[0.1,\"#c51b7d\"],[0.2,\"#de77ae\"],[0.3,\"#f1b6da\"],[0.4,\"#fde0ef\"],[0.5,\"#f7f7f7\"],[0.6,\"#e6f5d0\"],[0.7,\"#b8e186\"],[0.8,\"#7fbc41\"],[0.9,\"#4d9221\"],[1,\"#276419\"]],\"sequential\":[[0.0,\"#0d0887\"],[0.1111111111111111,\"#46039f\"],[0.2222222222222222,\"#7201a8\"],[0.3333333333333333,\"#9c179e\"],[0.4444444444444444,\"#bd3786\"],[0.5555555555555556,\"#d8576b\"],[0.6666666666666666,\"#ed7953\"],[0.7777777777777778,\"#fb9f3a\"],[0.8888888888888888,\"#fdca26\"],[1.0,\"#f0f921\"]],\"sequentialminus\":[[0.0,\"#0d0887\"],[0.1111111111111111,\"#46039f\"],[0.2222222222222222,\"#7201a8\"],[0.3333333333333333,\"#9c179e\"],[0.4444444444444444,\"#bd3786\"],[0.5555555555555556,\"#d8576b\"],[0.6666666666666666,\"#ed7953\"],[0.7777777777777778,\"#fb9f3a\"],[0.8888888888888888,\"#fdca26\"],[1.0,\"#f0f921\"]]},\"colorway\":[\"#636efa\",\"#EF553B\",\"#00cc96\",\"#ab63fa\",\"#FFA15A\",\"#19d3f3\",\"#FF6692\",\"#B6E880\",\"#FF97FF\",\"#FECB52\"],\"font\":{\"color\":\"#2a3f5f\"},\"geo\":{\"bgcolor\":\"white\",\"lakecolor\":\"white\",\"landcolor\":\"#E5ECF6\",\"showlakes\":true,\"showland\":true,\"subunitcolor\":\"white\"},\"hoverlabel\":{\"align\":\"left\"},\"hovermode\":\"closest\",\"mapbox\":{\"style\":\"light\"},\"paper_bgcolor\":\"white\",\"plot_bgcolor\":\"#E5ECF6\",\"polar\":{\"angularaxis\":{\"gridcolor\":\"white\",\"linecolor\":\"white\",\"ticks\":\"\"},\"bgcolor\":\"#E5ECF6\",\"radialaxis\":{\"gridcolor\":\"white\",\"linecolor\":\"white\",\"ticks\":\"\"}},\"scene\":{\"xaxis\":{\"backgroundcolor\":\"#E5ECF6\",\"gridcolor\":\"white\",\"gridwidth\":2,\"linecolor\":\"white\",\"showbackground\":true,\"ticks\":\"\",\"zerolinecolor\":\"white\"},\"yaxis\":{\"backgroundcolor\":\"#E5ECF6\",\"gridcolor\":\"white\",\"gridwidth\":2,\"linecolor\":\"white\",\"showbackground\":true,\"ticks\":\"\",\"zerolinecolor\":\"white\"},\"zaxis\":{\"backgroundcolor\":\"#E5ECF6\",\"gridcolor\":\"white\",\"gridwidth\":2,\"linecolor\":\"white\",\"showbackground\":true,\"ticks\":\"\",\"zerolinecolor\":\"white\"}},\"shapedefaults\":{\"line\":{\"color\":\"#2a3f5f\"}},\"ternary\":{\"aaxis\":{\"gridcolor\":\"white\",\"linecolor\":\"white\",\"ticks\":\"\"},\"baxis\":{\"gridcolor\":\"white\",\"linecolor\":\"white\",\"ticks\":\"\"},\"bgcolor\":\"#E5ECF6\",\"caxis\":{\"gridcolor\":\"white\",\"linecolor\":\"white\",\"ticks\":\"\"}},\"title\":{\"x\":0.05},\"xaxis\":{\"automargin\":true,\"gridcolor\":\"white\",\"linecolor\":\"white\",\"ticks\":\"\",\"title\":{\"standoff\":15},\"zerolinecolor\":\"white\",\"zerolinewidth\":2},\"yaxis\":{\"automargin\":true,\"gridcolor\":\"white\",\"linecolor\":\"white\",\"ticks\":\"\",\"title\":{\"standoff\":15},\"zerolinecolor\":\"white\",\"zerolinewidth\":2}}},\"xaxis\":{\"anchor\":\"y\",\"domain\":[0.0,1.0],\"title\":{\"text\":\"x\"}},\"yaxis\":{\"anchor\":\"x\",\"domain\":[0.0,1.0],\"title\":{\"text\":\"count\"}},\"legend\":{\"tracegroupgap\":0},\"title\":{\"text\":\"Tweets positivos durante el tiempo\"},\"barmode\":\"relative\",\"bargap\":0.2},                        {\"responsive\": true}                    ).then(function(){\n",
              "                            \n",
              "var gd = document.getElementById('ac36997f-9cf4-41bf-be45-d7ce7d305f8c');\n",
              "var x = new MutationObserver(function (mutations, observer) {{\n",
              "        var display = window.getComputedStyle(gd).display;\n",
              "        if (!display || display === 'none') {{\n",
              "            console.log([gd, 'removed!']);\n",
              "            Plotly.purge(gd);\n",
              "            observer.disconnect();\n",
              "        }}\n",
              "}});\n",
              "\n",
              "// Listen for the removal of the full notebook cells\n",
              "var notebookContainer = gd.closest('#notebook-container');\n",
              "if (notebookContainer) {{\n",
              "    x.observe(notebookContainer, {childList: true});\n",
              "}}\n",
              "\n",
              "// Listen for the clearing of the current output cell\n",
              "var outputEl = gd.closest('.output');\n",
              "if (outputEl) {{\n",
              "    x.observe(outputEl, {childList: true});\n",
              "}}\n",
              "\n",
              "                        })                };                            </script>        </div>\n",
              "</body>\n",
              "</html>"
            ]
          },
          "metadata": {}
        }
      ]
    },
    {
      "cell_type": "markdown",
      "source": [
        "#Tweets Positivos durante el tiempo\n",
        "\n",
        "Podemos observar tres puntos principales \n",
        "\n",
        "1.   A las 5 cuando jugaba ElBarrio vs LosTroncos\n",
        "2.   A las 3:30 previo a que comenzara los partidos \n",
        "3.   A las 4 cuando comenzo JijantesFc vs PioFc\n",
        "\n"
      ],
      "metadata": {
        "id": "1z_3BRfOLBl7"
      }
    },
    {
      "cell_type": "code",
      "source": [
        "fig = px.histogram(dt, x=negative_tweet[\"Date\"], title=\"Tweets negativos durante el tiempo\")\n",
        "fig.update_layout(bargap=0.2)\n",
        "fig.show()"
      ],
      "metadata": {
        "colab": {
          "base_uri": "https://localhost:8080/",
          "height": 542
        },
        "id": "XydzcYFnDwCT",
        "outputId": "37443b37-8c5f-41eb-f021-66e1ca9cdf97"
      },
      "execution_count": 211,
      "outputs": [
        {
          "output_type": "display_data",
          "data": {
            "text/html": [
              "<html>\n",
              "<head><meta charset=\"utf-8\" /></head>\n",
              "<body>\n",
              "    <div>            <script src=\"https://cdnjs.cloudflare.com/ajax/libs/mathjax/2.7.5/MathJax.js?config=TeX-AMS-MML_SVG\"></script><script type=\"text/javascript\">if (window.MathJax) {MathJax.Hub.Config({SVG: {font: \"STIX-Web\"}});}</script>                <script type=\"text/javascript\">window.PlotlyConfig = {MathJaxConfig: 'local'};</script>\n",
              "        <script src=\"https://cdn.plot.ly/plotly-2.8.3.min.js\"></script>                <div id=\"5cf11e88-bffb-4cef-a521-ec716dd904ba\" class=\"plotly-graph-div\" style=\"height:525px; width:100%;\"></div>            <script type=\"text/javascript\">                                    window.PLOTLYENV=window.PLOTLYENV || {};                                    if (document.getElementById(\"5cf11e88-bffb-4cef-a521-ec716dd904ba\")) {                    Plotly.newPlot(                        \"5cf11e88-bffb-4cef-a521-ec716dd904ba\",                        [{\"alignmentgroup\":\"True\",\"bingroup\":\"x\",\"hovertemplate\":\"x=%{x}<br>count=%{y}<extra></extra>\",\"legendgroup\":\"\",\"marker\":{\"color\":\"#636efa\",\"pattern\":{\"shape\":\"\"}},\"name\":\"\",\"offsetgroup\":\"\",\"orientation\":\"v\",\"showlegend\":false,\"x\":[\"2023-02-12T23:09:58+00:00\",\"2023-02-12T23:04:58+00:00\",\"2023-02-12T23:04:46+00:00\",\"2023-02-12T23:04:09+00:00\",\"2023-02-12T23:00:46+00:00\",\"2023-02-12T22:58:39+00:00\",\"2023-02-12T22:57:48+00:00\",\"2023-02-12T22:45:10+00:00\",\"2023-02-12T22:44:24+00:00\",\"2023-02-12T22:37:29+00:00\",\"2023-02-12T22:32:53+00:00\",\"2023-02-12T22:29:19+00:00\",\"2023-02-12T22:28:28+00:00\",\"2023-02-12T22:27:52+00:00\",\"2023-02-12T22:27:25+00:00\",\"2023-02-12T22:26:51+00:00\",\"2023-02-12T22:26:21+00:00\",\"2023-02-12T22:24:36+00:00\",\"2023-02-12T22:24:24+00:00\",\"2023-02-12T22:21:50+00:00\",\"2023-02-12T22:21:02+00:00\",\"2023-02-12T22:20:52+00:00\",\"2023-02-12T22:20:49+00:00\",\"2023-02-12T22:20:15+00:00\",\"2023-02-12T22:19:40+00:00\",\"2023-02-12T22:19:22+00:00\",\"2023-02-12T22:13:34+00:00\",\"2023-02-12T22:13:03+00:00\",\"2023-02-12T22:11:03+00:00\",\"2023-02-12T22:10:09+00:00\",\"2023-02-12T22:07:22+00:00\",\"2023-02-12T22:07:09+00:00\",\"2023-02-12T22:07:07+00:00\",\"2023-02-12T22:05:17+00:00\",\"2023-02-12T21:59:52+00:00\",\"2023-02-12T21:59:29+00:00\",\"2023-02-12T21:52:11+00:00\",\"2023-02-12T21:51:03+00:00\",\"2023-02-12T21:33:25+00:00\",\"2023-02-12T21:32:32+00:00\",\"2023-02-12T21:30:58+00:00\",\"2023-02-12T21:29:43+00:00\",\"2023-02-12T21:27:21+00:00\",\"2023-02-12T21:21:55+00:00\",\"2023-02-12T21:20:47+00:00\",\"2023-02-12T21:18:07+00:00\",\"2023-02-12T21:17:08+00:00\",\"2023-02-12T21:00:24+00:00\",\"2023-02-12T21:00:14+00:00\",\"2023-02-12T20:59:37+00:00\",\"2023-02-12T20:59:31+00:00\",\"2023-02-12T20:58:58+00:00\",\"2023-02-12T20:55:36+00:00\",\"2023-02-12T20:53:17+00:00\",\"2023-02-12T20:52:31+00:00\",\"2023-02-12T20:51:25+00:00\",\"2023-02-12T20:50:24+00:00\",\"2023-02-12T20:46:07+00:00\",\"2023-02-12T20:43:25+00:00\",\"2023-02-12T20:42:47+00:00\",\"2023-02-12T20:34:33+00:00\",\"2023-02-12T20:33:03+00:00\",\"2023-02-12T20:32:52+00:00\",\"2023-02-12T20:32:52+00:00\",\"2023-02-12T20:32:09+00:00\",\"2023-02-12T20:31:55+00:00\",\"2023-02-12T20:29:12+00:00\",\"2023-02-12T20:28:50+00:00\",\"2023-02-12T20:27:31+00:00\",\"2023-02-12T20:27:17+00:00\",\"2023-02-12T20:26:55+00:00\",\"2023-02-12T20:25:23+00:00\",\"2023-02-12T20:21:52+00:00\",\"2023-02-12T20:18:57+00:00\",\"2023-02-12T20:15:48+00:00\",\"2023-02-12T20:15:12+00:00\",\"2023-02-12T20:15:05+00:00\",\"2023-02-12T20:11:22+00:00\",\"2023-02-12T20:11:00+00:00\",\"2023-02-12T20:10:36+00:00\",\"2023-02-12T20:09:50+00:00\",\"2023-02-12T20:09:39+00:00\",\"2023-02-12T20:09:08+00:00\",\"2023-02-12T20:08:44+00:00\",\"2023-02-12T20:08:10+00:00\",\"2023-02-12T20:05:19+00:00\",\"2023-02-12T20:05:11+00:00\",\"2023-02-12T20:05:07+00:00\",\"2023-02-12T20:04:50+00:00\",\"2023-02-12T20:04:10+00:00\",\"2023-02-12T20:03:49+00:00\",\"2023-02-12T20:03:38+00:00\",\"2023-02-12T20:02:42+00:00\",\"2023-02-12T20:02:37+00:00\",\"2023-02-12T20:02:05+00:00\",\"2023-02-12T20:01:03+00:00\",\"2023-02-12T20:00:46+00:00\",\"2023-02-12T20:00:26+00:00\",\"2023-02-12T19:59:12+00:00\",\"2023-02-12T19:58:34+00:00\",\"2023-02-12T19:56:09+00:00\",\"2023-02-12T19:51:36+00:00\",\"2023-02-12T19:51:15+00:00\",\"2023-02-12T19:50:19+00:00\",\"2023-02-12T19:49:46+00:00\",\"2023-02-12T19:48:50+00:00\",\"2023-02-12T19:47:02+00:00\",\"2023-02-12T19:46:12+00:00\",\"2023-02-12T19:44:11+00:00\",\"2023-02-12T19:44:06+00:00\",\"2023-02-12T19:42:44+00:00\",\"2023-02-12T19:42:26+00:00\",\"2023-02-12T19:42:25+00:00\",\"2023-02-12T19:36:25+00:00\",\"2023-02-12T19:33:17+00:00\",\"2023-02-12T19:31:28+00:00\",\"2023-02-12T19:29:59+00:00\",\"2023-02-12T19:28:29+00:00\",\"2023-02-12T19:27:48+00:00\",\"2023-02-12T19:23:32+00:00\",\"2023-02-12T19:21:13+00:00\",\"2023-02-12T19:18:20+00:00\",\"2023-02-12T19:16:59+00:00\",\"2023-02-12T19:16:56+00:00\",\"2023-02-12T19:16:48+00:00\",\"2023-02-12T19:15:57+00:00\",\"2023-02-12T19:15:49+00:00\",\"2023-02-12T19:15:06+00:00\",\"2023-02-12T19:13:52+00:00\",\"2023-02-12T19:12:59+00:00\",\"2023-02-12T19:10:43+00:00\",\"2023-02-12T19:10:24+00:00\",\"2023-02-12T19:09:50+00:00\",\"2023-02-12T19:09:00+00:00\",\"2023-02-12T19:08:58+00:00\",\"2023-02-12T19:08:13+00:00\",\"2023-02-12T19:07:08+00:00\",\"2023-02-12T19:06:55+00:00\",\"2023-02-12T19:06:53+00:00\",\"2023-02-12T19:03:46+00:00\",\"2023-02-12T19:03:33+00:00\",\"2023-02-12T18:55:33+00:00\",\"2023-02-12T18:52:36+00:00\",\"2023-02-12T18:52:07+00:00\",\"2023-02-12T18:44:22+00:00\",\"2023-02-12T18:42:36+00:00\",\"2023-02-12T18:42:23+00:00\",\"2023-02-12T18:39:44+00:00\",\"2023-02-12T18:39:09+00:00\",\"2023-02-12T18:38:47+00:00\",\"2023-02-12T18:37:44+00:00\",\"2023-02-12T18:37:26+00:00\",\"2023-02-12T18:37:02+00:00\",\"2023-02-12T18:36:09+00:00\",\"2023-02-12T18:36:08+00:00\",\"2023-02-12T18:35:58+00:00\",\"2023-02-12T18:35:35+00:00\",\"2023-02-12T18:35:07+00:00\",\"2023-02-12T18:34:21+00:00\",\"2023-02-12T18:33:13+00:00\",\"2023-02-12T18:33:11+00:00\",\"2023-02-12T18:33:08+00:00\",\"2023-02-12T18:29:39+00:00\",\"2023-02-12T18:29:08+00:00\",\"2023-02-12T18:28:58+00:00\",\"2023-02-12T18:28:00+00:00\",\"2023-02-12T18:27:01+00:00\",\"2023-02-12T18:25:40+00:00\",\"2023-02-12T18:15:30+00:00\",\"2023-02-12T18:13:44+00:00\",\"2023-02-12T18:12:10+00:00\",\"2023-02-12T18:11:04+00:00\",\"2023-02-12T18:10:23+00:00\",\"2023-02-12T18:08:58+00:00\",\"2023-02-12T18:08:55+00:00\",\"2023-02-12T18:06:53+00:00\",\"2023-02-12T18:06:36+00:00\",\"2023-02-12T18:05:02+00:00\",\"2023-02-12T18:04:34+00:00\",\"2023-02-12T18:01:21+00:00\",\"2023-02-12T18:00:18+00:00\",\"2023-02-12T17:57:36+00:00\",\"2023-02-12T17:50:49+00:00\",\"2023-02-12T17:49:34+00:00\",\"2023-02-12T17:48:47+00:00\",\"2023-02-12T17:47:16+00:00\",\"2023-02-12T17:43:11+00:00\",\"2023-02-12T17:41:45+00:00\",\"2023-02-12T17:40:33+00:00\",\"2023-02-12T17:39:18+00:00\",\"2023-02-12T17:35:53+00:00\",\"2023-02-12T17:35:37+00:00\",\"2023-02-12T17:32:31+00:00\",\"2023-02-12T17:28:43+00:00\",\"2023-02-12T17:26:51+00:00\",\"2023-02-12T17:25:21+00:00\",\"2023-02-12T17:23:41+00:00\",\"2023-02-12T17:23:11+00:00\",\"2023-02-12T17:18:31+00:00\",\"2023-02-12T17:15:47+00:00\",\"2023-02-12T17:15:00+00:00\",\"2023-02-12T17:14:58+00:00\",\"2023-02-12T17:13:05+00:00\",\"2023-02-12T17:13:02+00:00\",\"2023-02-12T17:12:49+00:00\",\"2023-02-12T17:12:12+00:00\",\"2023-02-12T17:12:10+00:00\",\"2023-02-12T17:12:01+00:00\",\"2023-02-12T17:09:59+00:00\",\"2023-02-12T17:08:57+00:00\",\"2023-02-12T17:08:09+00:00\",\"2023-02-12T17:06:44+00:00\",\"2023-02-12T17:05:23+00:00\",\"2023-02-12T17:04:29+00:00\",\"2023-02-12T17:04:20+00:00\",\"2023-02-12T17:03:42+00:00\",\"2023-02-12T17:03:19+00:00\",\"2023-02-12T17:01:23+00:00\",\"2023-02-12T16:58:25+00:00\",\"2023-02-12T16:58:24+00:00\",\"2023-02-12T16:58:22+00:00\",\"2023-02-12T16:57:58+00:00\",\"2023-02-12T16:57:48+00:00\",\"2023-02-12T16:57:15+00:00\",\"2023-02-12T16:56:47+00:00\",\"2023-02-12T16:55:27+00:00\",\"2023-02-12T16:55:27+00:00\",\"2023-02-12T16:55:16+00:00\",\"2023-02-12T16:54:13+00:00\",\"2023-02-12T16:53:41+00:00\",\"2023-02-12T16:53:28+00:00\",\"2023-02-12T16:52:40+00:00\",\"2023-02-12T16:52:05+00:00\",\"2023-02-12T16:51:54+00:00\",\"2023-02-12T16:49:58+00:00\",\"2023-02-12T16:48:48+00:00\",\"2023-02-12T16:48:00+00:00\",\"2023-02-12T16:46:36+00:00\",\"2023-02-12T16:45:07+00:00\",\"2023-02-12T16:44:54+00:00\",\"2023-02-12T16:44:45+00:00\",\"2023-02-12T16:44:38+00:00\",\"2023-02-12T16:43:56+00:00\",\"2023-02-12T16:43:27+00:00\",\"2023-02-12T16:42:57+00:00\",\"2023-02-12T16:42:56+00:00\",\"2023-02-12T16:42:38+00:00\",\"2023-02-12T16:42:37+00:00\",\"2023-02-12T16:41:05+00:00\",\"2023-02-12T16:37:43+00:00\",\"2023-02-12T16:37:25+00:00\",\"2023-02-12T16:36:29+00:00\",\"2023-02-12T16:34:39+00:00\",\"2023-02-12T16:32:23+00:00\",\"2023-02-12T16:31:36+00:00\",\"2023-02-12T16:30:40+00:00\",\"2023-02-12T16:30:21+00:00\",\"2023-02-12T16:29:59+00:00\",\"2023-02-12T16:28:41+00:00\",\"2023-02-12T16:28:23+00:00\",\"2023-02-12T16:27:24+00:00\",\"2023-02-12T16:26:01+00:00\",\"2023-02-12T16:25:41+00:00\",\"2023-02-12T16:23:10+00:00\",\"2023-02-12T16:23:03+00:00\",\"2023-02-12T16:22:32+00:00\",\"2023-02-12T16:21:42+00:00\",\"2023-02-12T16:21:25+00:00\",\"2023-02-12T16:20:11+00:00\",\"2023-02-12T16:20:04+00:00\",\"2023-02-12T16:18:13+00:00\",\"2023-02-12T16:17:46+00:00\",\"2023-02-12T16:17:26+00:00\",\"2023-02-12T16:16:33+00:00\",\"2023-02-12T16:15:38+00:00\",\"2023-02-12T16:14:35+00:00\",\"2023-02-12T16:13:23+00:00\",\"2023-02-12T16:10:45+00:00\",\"2023-02-12T16:10:26+00:00\",\"2023-02-12T16:10:00+00:00\",\"2023-02-12T16:08:15+00:00\",\"2023-02-12T16:08:06+00:00\",\"2023-02-12T16:07:15+00:00\",\"2023-02-12T16:04:12+00:00\",\"2023-02-12T16:04:10+00:00\",\"2023-02-12T16:03:14+00:00\",\"2023-02-12T16:03:06+00:00\",\"2023-02-12T16:02:32+00:00\",\"2023-02-12T16:01:35+00:00\",\"2023-02-12T16:01:25+00:00\",\"2023-02-12T16:00:49+00:00\",\"2023-02-12T16:00:20+00:00\",\"2023-02-12T15:59:45+00:00\",\"2023-02-12T15:59:26+00:00\",\"2023-02-12T15:58:17+00:00\",\"2023-02-12T15:58:11+00:00\",\"2023-02-12T15:58:08+00:00\",\"2023-02-12T15:57:25+00:00\",\"2023-02-12T15:57:08+00:00\",\"2023-02-12T15:55:52+00:00\",\"2023-02-12T15:54:59+00:00\",\"2023-02-12T15:54:52+00:00\",\"2023-02-12T15:50:54+00:00\",\"2023-02-12T15:49:41+00:00\",\"2023-02-12T15:46:52+00:00\",\"2023-02-12T15:46:37+00:00\",\"2023-02-12T15:43:08+00:00\",\"2023-02-12T15:41:17+00:00\",\"2023-02-12T15:37:33+00:00\",\"2023-02-12T15:37:17+00:00\",\"2023-02-12T15:35:46+00:00\",\"2023-02-12T15:31:26+00:00\",\"2023-02-12T15:29:50+00:00\",\"2023-02-12T15:29:40+00:00\",\"2023-02-12T15:27:55+00:00\",\"2023-02-12T15:27:18+00:00\",\"2023-02-12T15:27:17+00:00\",\"2023-02-12T15:26:05+00:00\",\"2023-02-12T15:25:24+00:00\",\"2023-02-12T15:24:48+00:00\",\"2023-02-12T15:23:51+00:00\",\"2023-02-12T15:23:02+00:00\",\"2023-02-12T15:22:55+00:00\",\"2023-02-12T15:22:31+00:00\",\"2023-02-12T15:21:58+00:00\",\"2023-02-12T15:19:35+00:00\",\"2023-02-12T15:18:08+00:00\",\"2023-02-12T15:17:17+00:00\",\"2023-02-12T15:16:06+00:00\",\"2023-02-12T15:12:56+00:00\",\"2023-02-12T15:08:16+00:00\",\"2023-02-12T15:02:32+00:00\",\"2023-02-12T15:02:27+00:00\",\"2023-02-12T14:56:36+00:00\",\"2023-02-12T14:48:15+00:00\",\"2023-02-12T14:47:50+00:00\",\"2023-02-12T14:43:15+00:00\",\"2023-02-12T14:22:54+00:00\",\"2023-02-12T14:16:52+00:00\",\"2023-02-12T14:13:03+00:00\",\"2023-02-12T14:09:47+00:00\",\"2023-02-12T13:59:25+00:00\",\"2023-02-12T13:51:08+00:00\",\"2023-02-12T12:57:46+00:00\",\"2023-02-12T12:52:55+00:00\",\"2023-02-12T12:36:24+00:00\",\"2023-02-12T12:36:02+00:00\",\"2023-02-12T12:30:23+00:00\",\"2023-02-12T11:48:11+00:00\",\"2023-02-12T11:46:02+00:00\",\"2023-02-12T11:24:20+00:00\",\"2023-02-12T10:40:55+00:00\",\"2023-02-12T10:40:00+00:00\",\"2023-02-12T10:37:12+00:00\",\"2023-02-12T10:05:26+00:00\"],\"xaxis\":\"x\",\"yaxis\":\"y\",\"type\":\"histogram\"}],                        {\"template\":{\"data\":{\"bar\":[{\"error_x\":{\"color\":\"#2a3f5f\"},\"error_y\":{\"color\":\"#2a3f5f\"},\"marker\":{\"line\":{\"color\":\"#E5ECF6\",\"width\":0.5},\"pattern\":{\"fillmode\":\"overlay\",\"size\":10,\"solidity\":0.2}},\"type\":\"bar\"}],\"barpolar\":[{\"marker\":{\"line\":{\"color\":\"#E5ECF6\",\"width\":0.5},\"pattern\":{\"fillmode\":\"overlay\",\"size\":10,\"solidity\":0.2}},\"type\":\"barpolar\"}],\"carpet\":[{\"aaxis\":{\"endlinecolor\":\"#2a3f5f\",\"gridcolor\":\"white\",\"linecolor\":\"white\",\"minorgridcolor\":\"white\",\"startlinecolor\":\"#2a3f5f\"},\"baxis\":{\"endlinecolor\":\"#2a3f5f\",\"gridcolor\":\"white\",\"linecolor\":\"white\",\"minorgridcolor\":\"white\",\"startlinecolor\":\"#2a3f5f\"},\"type\":\"carpet\"}],\"choropleth\":[{\"colorbar\":{\"outlinewidth\":0,\"ticks\":\"\"},\"type\":\"choropleth\"}],\"contour\":[{\"colorbar\":{\"outlinewidth\":0,\"ticks\":\"\"},\"colorscale\":[[0.0,\"#0d0887\"],[0.1111111111111111,\"#46039f\"],[0.2222222222222222,\"#7201a8\"],[0.3333333333333333,\"#9c179e\"],[0.4444444444444444,\"#bd3786\"],[0.5555555555555556,\"#d8576b\"],[0.6666666666666666,\"#ed7953\"],[0.7777777777777778,\"#fb9f3a\"],[0.8888888888888888,\"#fdca26\"],[1.0,\"#f0f921\"]],\"type\":\"contour\"}],\"contourcarpet\":[{\"colorbar\":{\"outlinewidth\":0,\"ticks\":\"\"},\"type\":\"contourcarpet\"}],\"heatmap\":[{\"colorbar\":{\"outlinewidth\":0,\"ticks\":\"\"},\"colorscale\":[[0.0,\"#0d0887\"],[0.1111111111111111,\"#46039f\"],[0.2222222222222222,\"#7201a8\"],[0.3333333333333333,\"#9c179e\"],[0.4444444444444444,\"#bd3786\"],[0.5555555555555556,\"#d8576b\"],[0.6666666666666666,\"#ed7953\"],[0.7777777777777778,\"#fb9f3a\"],[0.8888888888888888,\"#fdca26\"],[1.0,\"#f0f921\"]],\"type\":\"heatmap\"}],\"heatmapgl\":[{\"colorbar\":{\"outlinewidth\":0,\"ticks\":\"\"},\"colorscale\":[[0.0,\"#0d0887\"],[0.1111111111111111,\"#46039f\"],[0.2222222222222222,\"#7201a8\"],[0.3333333333333333,\"#9c179e\"],[0.4444444444444444,\"#bd3786\"],[0.5555555555555556,\"#d8576b\"],[0.6666666666666666,\"#ed7953\"],[0.7777777777777778,\"#fb9f3a\"],[0.8888888888888888,\"#fdca26\"],[1.0,\"#f0f921\"]],\"type\":\"heatmapgl\"}],\"histogram\":[{\"marker\":{\"pattern\":{\"fillmode\":\"overlay\",\"size\":10,\"solidity\":0.2}},\"type\":\"histogram\"}],\"histogram2d\":[{\"colorbar\":{\"outlinewidth\":0,\"ticks\":\"\"},\"colorscale\":[[0.0,\"#0d0887\"],[0.1111111111111111,\"#46039f\"],[0.2222222222222222,\"#7201a8\"],[0.3333333333333333,\"#9c179e\"],[0.4444444444444444,\"#bd3786\"],[0.5555555555555556,\"#d8576b\"],[0.6666666666666666,\"#ed7953\"],[0.7777777777777778,\"#fb9f3a\"],[0.8888888888888888,\"#fdca26\"],[1.0,\"#f0f921\"]],\"type\":\"histogram2d\"}],\"histogram2dcontour\":[{\"colorbar\":{\"outlinewidth\":0,\"ticks\":\"\"},\"colorscale\":[[0.0,\"#0d0887\"],[0.1111111111111111,\"#46039f\"],[0.2222222222222222,\"#7201a8\"],[0.3333333333333333,\"#9c179e\"],[0.4444444444444444,\"#bd3786\"],[0.5555555555555556,\"#d8576b\"],[0.6666666666666666,\"#ed7953\"],[0.7777777777777778,\"#fb9f3a\"],[0.8888888888888888,\"#fdca26\"],[1.0,\"#f0f921\"]],\"type\":\"histogram2dcontour\"}],\"mesh3d\":[{\"colorbar\":{\"outlinewidth\":0,\"ticks\":\"\"},\"type\":\"mesh3d\"}],\"parcoords\":[{\"line\":{\"colorbar\":{\"outlinewidth\":0,\"ticks\":\"\"}},\"type\":\"parcoords\"}],\"pie\":[{\"automargin\":true,\"type\":\"pie\"}],\"scatter\":[{\"marker\":{\"colorbar\":{\"outlinewidth\":0,\"ticks\":\"\"}},\"type\":\"scatter\"}],\"scatter3d\":[{\"line\":{\"colorbar\":{\"outlinewidth\":0,\"ticks\":\"\"}},\"marker\":{\"colorbar\":{\"outlinewidth\":0,\"ticks\":\"\"}},\"type\":\"scatter3d\"}],\"scattercarpet\":[{\"marker\":{\"colorbar\":{\"outlinewidth\":0,\"ticks\":\"\"}},\"type\":\"scattercarpet\"}],\"scattergeo\":[{\"marker\":{\"colorbar\":{\"outlinewidth\":0,\"ticks\":\"\"}},\"type\":\"scattergeo\"}],\"scattergl\":[{\"marker\":{\"colorbar\":{\"outlinewidth\":0,\"ticks\":\"\"}},\"type\":\"scattergl\"}],\"scattermapbox\":[{\"marker\":{\"colorbar\":{\"outlinewidth\":0,\"ticks\":\"\"}},\"type\":\"scattermapbox\"}],\"scatterpolar\":[{\"marker\":{\"colorbar\":{\"outlinewidth\":0,\"ticks\":\"\"}},\"type\":\"scatterpolar\"}],\"scatterpolargl\":[{\"marker\":{\"colorbar\":{\"outlinewidth\":0,\"ticks\":\"\"}},\"type\":\"scatterpolargl\"}],\"scatterternary\":[{\"marker\":{\"colorbar\":{\"outlinewidth\":0,\"ticks\":\"\"}},\"type\":\"scatterternary\"}],\"surface\":[{\"colorbar\":{\"outlinewidth\":0,\"ticks\":\"\"},\"colorscale\":[[0.0,\"#0d0887\"],[0.1111111111111111,\"#46039f\"],[0.2222222222222222,\"#7201a8\"],[0.3333333333333333,\"#9c179e\"],[0.4444444444444444,\"#bd3786\"],[0.5555555555555556,\"#d8576b\"],[0.6666666666666666,\"#ed7953\"],[0.7777777777777778,\"#fb9f3a\"],[0.8888888888888888,\"#fdca26\"],[1.0,\"#f0f921\"]],\"type\":\"surface\"}],\"table\":[{\"cells\":{\"fill\":{\"color\":\"#EBF0F8\"},\"line\":{\"color\":\"white\"}},\"header\":{\"fill\":{\"color\":\"#C8D4E3\"},\"line\":{\"color\":\"white\"}},\"type\":\"table\"}]},\"layout\":{\"annotationdefaults\":{\"arrowcolor\":\"#2a3f5f\",\"arrowhead\":0,\"arrowwidth\":1},\"autotypenumbers\":\"strict\",\"coloraxis\":{\"colorbar\":{\"outlinewidth\":0,\"ticks\":\"\"}},\"colorscale\":{\"diverging\":[[0,\"#8e0152\"],[0.1,\"#c51b7d\"],[0.2,\"#de77ae\"],[0.3,\"#f1b6da\"],[0.4,\"#fde0ef\"],[0.5,\"#f7f7f7\"],[0.6,\"#e6f5d0\"],[0.7,\"#b8e186\"],[0.8,\"#7fbc41\"],[0.9,\"#4d9221\"],[1,\"#276419\"]],\"sequential\":[[0.0,\"#0d0887\"],[0.1111111111111111,\"#46039f\"],[0.2222222222222222,\"#7201a8\"],[0.3333333333333333,\"#9c179e\"],[0.4444444444444444,\"#bd3786\"],[0.5555555555555556,\"#d8576b\"],[0.6666666666666666,\"#ed7953\"],[0.7777777777777778,\"#fb9f3a\"],[0.8888888888888888,\"#fdca26\"],[1.0,\"#f0f921\"]],\"sequentialminus\":[[0.0,\"#0d0887\"],[0.1111111111111111,\"#46039f\"],[0.2222222222222222,\"#7201a8\"],[0.3333333333333333,\"#9c179e\"],[0.4444444444444444,\"#bd3786\"],[0.5555555555555556,\"#d8576b\"],[0.6666666666666666,\"#ed7953\"],[0.7777777777777778,\"#fb9f3a\"],[0.8888888888888888,\"#fdca26\"],[1.0,\"#f0f921\"]]},\"colorway\":[\"#636efa\",\"#EF553B\",\"#00cc96\",\"#ab63fa\",\"#FFA15A\",\"#19d3f3\",\"#FF6692\",\"#B6E880\",\"#FF97FF\",\"#FECB52\"],\"font\":{\"color\":\"#2a3f5f\"},\"geo\":{\"bgcolor\":\"white\",\"lakecolor\":\"white\",\"landcolor\":\"#E5ECF6\",\"showlakes\":true,\"showland\":true,\"subunitcolor\":\"white\"},\"hoverlabel\":{\"align\":\"left\"},\"hovermode\":\"closest\",\"mapbox\":{\"style\":\"light\"},\"paper_bgcolor\":\"white\",\"plot_bgcolor\":\"#E5ECF6\",\"polar\":{\"angularaxis\":{\"gridcolor\":\"white\",\"linecolor\":\"white\",\"ticks\":\"\"},\"bgcolor\":\"#E5ECF6\",\"radialaxis\":{\"gridcolor\":\"white\",\"linecolor\":\"white\",\"ticks\":\"\"}},\"scene\":{\"xaxis\":{\"backgroundcolor\":\"#E5ECF6\",\"gridcolor\":\"white\",\"gridwidth\":2,\"linecolor\":\"white\",\"showbackground\":true,\"ticks\":\"\",\"zerolinecolor\":\"white\"},\"yaxis\":{\"backgroundcolor\":\"#E5ECF6\",\"gridcolor\":\"white\",\"gridwidth\":2,\"linecolor\":\"white\",\"showbackground\":true,\"ticks\":\"\",\"zerolinecolor\":\"white\"},\"zaxis\":{\"backgroundcolor\":\"#E5ECF6\",\"gridcolor\":\"white\",\"gridwidth\":2,\"linecolor\":\"white\",\"showbackground\":true,\"ticks\":\"\",\"zerolinecolor\":\"white\"}},\"shapedefaults\":{\"line\":{\"color\":\"#2a3f5f\"}},\"ternary\":{\"aaxis\":{\"gridcolor\":\"white\",\"linecolor\":\"white\",\"ticks\":\"\"},\"baxis\":{\"gridcolor\":\"white\",\"linecolor\":\"white\",\"ticks\":\"\"},\"bgcolor\":\"#E5ECF6\",\"caxis\":{\"gridcolor\":\"white\",\"linecolor\":\"white\",\"ticks\":\"\"}},\"title\":{\"x\":0.05},\"xaxis\":{\"automargin\":true,\"gridcolor\":\"white\",\"linecolor\":\"white\",\"ticks\":\"\",\"title\":{\"standoff\":15},\"zerolinecolor\":\"white\",\"zerolinewidth\":2},\"yaxis\":{\"automargin\":true,\"gridcolor\":\"white\",\"linecolor\":\"white\",\"ticks\":\"\",\"title\":{\"standoff\":15},\"zerolinecolor\":\"white\",\"zerolinewidth\":2}}},\"xaxis\":{\"anchor\":\"y\",\"domain\":[0.0,1.0],\"title\":{\"text\":\"x\"}},\"yaxis\":{\"anchor\":\"x\",\"domain\":[0.0,1.0],\"title\":{\"text\":\"count\"}},\"legend\":{\"tracegroupgap\":0},\"title\":{\"text\":\"Tweets negativos durante el tiempo\"},\"barmode\":\"relative\",\"bargap\":0.2},                        {\"responsive\": true}                    ).then(function(){\n",
              "                            \n",
              "var gd = document.getElementById('5cf11e88-bffb-4cef-a521-ec716dd904ba');\n",
              "var x = new MutationObserver(function (mutations, observer) {{\n",
              "        var display = window.getComputedStyle(gd).display;\n",
              "        if (!display || display === 'none') {{\n",
              "            console.log([gd, 'removed!']);\n",
              "            Plotly.purge(gd);\n",
              "            observer.disconnect();\n",
              "        }}\n",
              "}});\n",
              "\n",
              "// Listen for the removal of the full notebook cells\n",
              "var notebookContainer = gd.closest('#notebook-container');\n",
              "if (notebookContainer) {{\n",
              "    x.observe(notebookContainer, {childList: true});\n",
              "}}\n",
              "\n",
              "// Listen for the clearing of the current output cell\n",
              "var outputEl = gd.closest('.output');\n",
              "if (outputEl) {{\n",
              "    x.observe(outputEl, {childList: true});\n",
              "}}\n",
              "\n",
              "                        })                };                            </script>        </div>\n",
              "</body>\n",
              "</html>"
            ]
          },
          "metadata": {}
        }
      ]
    },
    {
      "cell_type": "markdown",
      "source": [
        "#Tweets Negativos durante el tiempo\n",
        "\n",
        "Podemos observar dos puntos principales \n",
        "\n",
        "1.   A las 4:30 durante el Jijantes vs Pio\n",
        "2.   A las 8 durante el PorcinosFC vs XBUYERTEAM "
      ],
      "metadata": {
        "id": "rJ5RS_cbMwPo"
      }
    }
  ]
}