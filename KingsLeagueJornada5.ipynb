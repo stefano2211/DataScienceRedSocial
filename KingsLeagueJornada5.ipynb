{
  "nbformat": 4,
  "nbformat_minor": 0,
  "metadata": {
    "colab": {
      "provenance": []
    },
    "kernelspec": {
      "name": "python3",
      "display_name": "Python 3"
    },
    "language_info": {
      "name": "python"
    }
  },
  "cells": [
    {
      "cell_type": "code",
      "execution_count": null,
      "metadata": {
        "id": "tad7iWFio9kP"
      },
      "outputs": [],
      "source": [
        "#Importamos las librerias\n",
        "from pysentimiento import create_analyzer\n",
        "from pysentimiento.preprocessing import preprocess_tweet\n",
        "import snscrape.modules.twitter as sntwitter\n",
        "import plotly.express as px\n",
        "import neattext as nt\n",
        "import pandas as pd\n",
        "import re\n",
        "import nltk\n",
        "from nltk.corpus import stopwords\n",
        "from nltk.tokenize import word_tokenize\n",
        "from wordcloud import WordCloud\n",
        "from collections import Counter"
      ]
    },
    {
      "cell_type": "code",
      "source": [
        "#Cargamos las stopwords de nltk\n",
        "nltk.download('stopwords')"
      ],
      "metadata": {
        "colab": {
          "base_uri": "https://localhost:8080/"
        },
        "id": "FJPpvupKq6CJ",
        "outputId": "94dae6e8-210d-4743-ad83-701764c510cf"
      },
      "execution_count": null,
      "outputs": [
        {
          "output_type": "stream",
          "name": "stderr",
          "text": [
            "[nltk_data] Downloading package stopwords to /root/nltk_data...\n",
            "[nltk_data]   Unzipping corpora/stopwords.zip.\n"
          ]
        },
        {
          "output_type": "execute_result",
          "data": {
            "text/plain": [
              "True"
            ]
          },
          "metadata": {},
          "execution_count": 9
        }
      ]
    },
    {
      "cell_type": "code",
      "source": [
        "#Importamos los datos de twitter\n",
        "query = \"#KingsLeagueJ5\"\n",
        "tweets = []\n",
        "limit = 10000\n",
        "\n",
        "for tweet in sntwitter.TwitterSearchScraper(query).get_items():\n",
        "    \n",
        "    # print(vars(tweet))\n",
        "    # break\n",
        "    if len(tweets) == limit:\n",
        "        break\n",
        "    else:\n",
        "        tweets.append([tweet.date, tweet.content, tweet.hashtags, tweet.username])"
      ],
      "metadata": {
        "colab": {
          "base_uri": "https://localhost:8080/"
        },
        "id": "4UKCoTV5rUrx",
        "outputId": "7287c67f-e24c-4e2a-d08a-c25be56bd456"
      },
      "execution_count": null,
      "outputs": [
        {
          "output_type": "stream",
          "name": "stderr",
          "text": [
            "<ipython-input-10-190beaf53b2f>:13: FutureWarning: content is deprecated, use rawContent instead\n",
            "  tweets.append([tweet.date, tweet.content, tweet.hashtags, tweet.username])\n",
            "<ipython-input-10-190beaf53b2f>:13: FutureWarning: username is deprecated, use user.username instead\n",
            "  tweets.append([tweet.date, tweet.content, tweet.hashtags, tweet.username])\n"
          ]
        }
      ]
    },
    {
      "cell_type": "code",
      "source": [
        "#Colocamos los datos en un dataframe\n",
        "dt = pd.DataFrame(tweets, columns=['Date', 'Tweet', 'Hashtag', 'Username'])\n",
        "dt.head()"
      ],
      "metadata": {
        "colab": {
          "base_uri": "https://localhost:8080/",
          "height": 206
        },
        "id": "BnImtE8TsTRv",
        "outputId": "61527554-b3b0-4b84-9c83-f669f822626b"
      },
      "execution_count": null,
      "outputs": [
        {
          "output_type": "execute_result",
          "data": {
            "text/plain": [
              "                       Date  \\\n",
              "0 2023-02-09 19:00:39+00:00   \n",
              "1 2023-02-09 15:22:57+00:00   \n",
              "2 2023-02-09 15:06:55+00:00   \n",
              "3 2023-02-09 14:51:58+00:00   \n",
              "4 2023-02-09 14:27:46+00:00   \n",
              "\n",
              "                                               Tweet  \\\n",
              "0  🕵🏻  ¿QUIÉN ES? #KingsLeague 👑\\n\\n🔍 Pistas:\\n- ...   \n",
              "1  Por cierto, el partido entre Los Troncos y Ani...   \n",
              "2  HOY 🚨\\nDirecto analizando la última jornada de...   \n",
              "3  Spursito y Rivers lo estaban pasando fatal.\\n\\...   \n",
              "4  La verdad es que la Haka de Gerard en el penal...   \n",
              "\n",
              "                                             Hashtag       Username  \n",
              "0  [KingsLeague, Fantasy, Juego, KingsLeagueJ5, K...  KingsLeagueFM  \n",
              "1                                    [KingsLeagueJ5]      Keliflogo  \n",
              "2                     [KingsLeagueJ6, KingsLeaguej5]   CharlasDeVar  \n",
              "3                                    [KingsLeagueJ5]      Keliflogo  \n",
              "4                                    [KingsLeagueJ5]      Keliflogo  "
            ],
            "text/html": [
              "\n",
              "  <div id=\"df-508960d2-3db9-408a-b996-bb3e3dc3aae0\">\n",
              "    <div class=\"colab-df-container\">\n",
              "      <div>\n",
              "<style scoped>\n",
              "    .dataframe tbody tr th:only-of-type {\n",
              "        vertical-align: middle;\n",
              "    }\n",
              "\n",
              "    .dataframe tbody tr th {\n",
              "        vertical-align: top;\n",
              "    }\n",
              "\n",
              "    .dataframe thead th {\n",
              "        text-align: right;\n",
              "    }\n",
              "</style>\n",
              "<table border=\"1\" class=\"dataframe\">\n",
              "  <thead>\n",
              "    <tr style=\"text-align: right;\">\n",
              "      <th></th>\n",
              "      <th>Date</th>\n",
              "      <th>Tweet</th>\n",
              "      <th>Hashtag</th>\n",
              "      <th>Username</th>\n",
              "    </tr>\n",
              "  </thead>\n",
              "  <tbody>\n",
              "    <tr>\n",
              "      <th>0</th>\n",
              "      <td>2023-02-09 19:00:39+00:00</td>\n",
              "      <td>🕵🏻  ¿QUIÉN ES? #KingsLeague 👑\\n\\n🔍 Pistas:\\n- ...</td>\n",
              "      <td>[KingsLeague, Fantasy, Juego, KingsLeagueJ5, K...</td>\n",
              "      <td>KingsLeagueFM</td>\n",
              "    </tr>\n",
              "    <tr>\n",
              "      <th>1</th>\n",
              "      <td>2023-02-09 15:22:57+00:00</td>\n",
              "      <td>Por cierto, el partido entre Los Troncos y Ani...</td>\n",
              "      <td>[KingsLeagueJ5]</td>\n",
              "      <td>Keliflogo</td>\n",
              "    </tr>\n",
              "    <tr>\n",
              "      <th>2</th>\n",
              "      <td>2023-02-09 15:06:55+00:00</td>\n",
              "      <td>HOY 🚨\\nDirecto analizando la última jornada de...</td>\n",
              "      <td>[KingsLeagueJ6, KingsLeaguej5]</td>\n",
              "      <td>CharlasDeVar</td>\n",
              "    </tr>\n",
              "    <tr>\n",
              "      <th>3</th>\n",
              "      <td>2023-02-09 14:51:58+00:00</td>\n",
              "      <td>Spursito y Rivers lo estaban pasando fatal.\\n\\...</td>\n",
              "      <td>[KingsLeagueJ5]</td>\n",
              "      <td>Keliflogo</td>\n",
              "    </tr>\n",
              "    <tr>\n",
              "      <th>4</th>\n",
              "      <td>2023-02-09 14:27:46+00:00</td>\n",
              "      <td>La verdad es que la Haka de Gerard en el penal...</td>\n",
              "      <td>[KingsLeagueJ5]</td>\n",
              "      <td>Keliflogo</td>\n",
              "    </tr>\n",
              "  </tbody>\n",
              "</table>\n",
              "</div>\n",
              "      <button class=\"colab-df-convert\" onclick=\"convertToInteractive('df-508960d2-3db9-408a-b996-bb3e3dc3aae0')\"\n",
              "              title=\"Convert this dataframe to an interactive table.\"\n",
              "              style=\"display:none;\">\n",
              "        \n",
              "  <svg xmlns=\"http://www.w3.org/2000/svg\" height=\"24px\"viewBox=\"0 0 24 24\"\n",
              "       width=\"24px\">\n",
              "    <path d=\"M0 0h24v24H0V0z\" fill=\"none\"/>\n",
              "    <path d=\"M18.56 5.44l.94 2.06.94-2.06 2.06-.94-2.06-.94-.94-2.06-.94 2.06-2.06.94zm-11 1L8.5 8.5l.94-2.06 2.06-.94-2.06-.94L8.5 2.5l-.94 2.06-2.06.94zm10 10l.94 2.06.94-2.06 2.06-.94-2.06-.94-.94-2.06-.94 2.06-2.06.94z\"/><path d=\"M17.41 7.96l-1.37-1.37c-.4-.4-.92-.59-1.43-.59-.52 0-1.04.2-1.43.59L10.3 9.45l-7.72 7.72c-.78.78-.78 2.05 0 2.83L4 21.41c.39.39.9.59 1.41.59.51 0 1.02-.2 1.41-.59l7.78-7.78 2.81-2.81c.8-.78.8-2.07 0-2.86zM5.41 20L4 18.59l7.72-7.72 1.47 1.35L5.41 20z\"/>\n",
              "  </svg>\n",
              "      </button>\n",
              "      \n",
              "  <style>\n",
              "    .colab-df-container {\n",
              "      display:flex;\n",
              "      flex-wrap:wrap;\n",
              "      gap: 12px;\n",
              "    }\n",
              "\n",
              "    .colab-df-convert {\n",
              "      background-color: #E8F0FE;\n",
              "      border: none;\n",
              "      border-radius: 50%;\n",
              "      cursor: pointer;\n",
              "      display: none;\n",
              "      fill: #1967D2;\n",
              "      height: 32px;\n",
              "      padding: 0 0 0 0;\n",
              "      width: 32px;\n",
              "    }\n",
              "\n",
              "    .colab-df-convert:hover {\n",
              "      background-color: #E2EBFA;\n",
              "      box-shadow: 0px 1px 2px rgba(60, 64, 67, 0.3), 0px 1px 3px 1px rgba(60, 64, 67, 0.15);\n",
              "      fill: #174EA6;\n",
              "    }\n",
              "\n",
              "    [theme=dark] .colab-df-convert {\n",
              "      background-color: #3B4455;\n",
              "      fill: #D2E3FC;\n",
              "    }\n",
              "\n",
              "    [theme=dark] .colab-df-convert:hover {\n",
              "      background-color: #434B5C;\n",
              "      box-shadow: 0px 1px 3px 1px rgba(0, 0, 0, 0.15);\n",
              "      filter: drop-shadow(0px 1px 2px rgba(0, 0, 0, 0.3));\n",
              "      fill: #FFFFFF;\n",
              "    }\n",
              "  </style>\n",
              "\n",
              "      <script>\n",
              "        const buttonEl =\n",
              "          document.querySelector('#df-508960d2-3db9-408a-b996-bb3e3dc3aae0 button.colab-df-convert');\n",
              "        buttonEl.style.display =\n",
              "          google.colab.kernel.accessAllowed ? 'block' : 'none';\n",
              "\n",
              "        async function convertToInteractive(key) {\n",
              "          const element = document.querySelector('#df-508960d2-3db9-408a-b996-bb3e3dc3aae0');\n",
              "          const dataTable =\n",
              "            await google.colab.kernel.invokeFunction('convertToInteractive',\n",
              "                                                     [key], {});\n",
              "          if (!dataTable) return;\n",
              "\n",
              "          const docLinkHtml = 'Like what you see? Visit the ' +\n",
              "            '<a target=\"_blank\" href=https://colab.research.google.com/notebooks/data_table.ipynb>data table notebook</a>'\n",
              "            + ' to learn more about interactive tables.';\n",
              "          element.innerHTML = '';\n",
              "          dataTable['output_type'] = 'display_data';\n",
              "          await google.colab.output.renderOutput(dataTable, element);\n",
              "          const docLink = document.createElement('div');\n",
              "          docLink.innerHTML = docLinkHtml;\n",
              "          element.appendChild(docLink);\n",
              "        }\n",
              "      </script>\n",
              "    </div>\n",
              "  </div>\n",
              "  "
            ]
          },
          "metadata": {},
          "execution_count": 11
        }
      ]
    },
    {
      "cell_type": "code",
      "source": [
        "#Convertimos la columna Date a formato tiempo\n",
        "dt['Date'] = pd.to_datetime(dt['Date'], format='%Y%m%d')"
      ],
      "metadata": {
        "id": "2_iNkURYsV5P"
      },
      "execution_count": null,
      "outputs": []
    },
    {
      "cell_type": "code",
      "source": [
        "#Filtamos los datos del periodo de tiempo en el cual se jugo la kings leage \n",
        "Df = dt[dt['Date'] > '2023-02-05']\n",
        "DfToday = Df[Df['Date'] < '2023-02-06']"
      ],
      "metadata": {
        "id": "6uJ4aEB1scof"
      },
      "execution_count": null,
      "outputs": []
    },
    {
      "cell_type": "code",
      "source": [
        "df = DfToday"
      ],
      "metadata": {
        "id": "3LV7562yss9f"
      },
      "execution_count": null,
      "outputs": []
    },
    {
      "cell_type": "code",
      "source": [
        "df.head(2000)"
      ],
      "metadata": {
        "colab": {
          "base_uri": "https://localhost:8080/",
          "height": 424
        },
        "id": "D0ZUY9CYs1d3",
        "outputId": "26de6cb9-5772-44f1-a248-bb86d450b38b"
      },
      "execution_count": null,
      "outputs": [
        {
          "output_type": "execute_result",
          "data": {
            "text/plain": [
              "                          Date  \\\n",
              "85   2023-02-05 23:51:27+00:00   \n",
              "86   2023-02-05 23:50:07+00:00   \n",
              "87   2023-02-05 23:32:18+00:00   \n",
              "88   2023-02-05 23:25:37+00:00   \n",
              "89   2023-02-05 23:24:48+00:00   \n",
              "...                        ...   \n",
              "1497 2023-02-05 08:50:36+00:00   \n",
              "1498 2023-02-05 05:00:00+00:00   \n",
              "1499 2023-02-05 04:02:22+00:00   \n",
              "1500 2023-02-05 02:45:53+00:00   \n",
              "1501 2023-02-05 02:17:59+00:00   \n",
              "\n",
              "                                                  Tweet  \\\n",
              "85    XBUYER TEAM de XBUYER VS 1K FC de IKER CASILLA...   \n",
              "86    Que @IbaiLlanos , ni @auronplay , los directos...   \n",
              "87     Aniquiladores está para campeón?? #KingsLeagueJ5   \n",
              "88    ¡Fin del programa!\\n\\nUn placer, como siempre ...   \n",
              "89    💣 @Spursito hace SCOUTING de la Queens League ...   \n",
              "...                                                 ...   \n",
              "1497  @JijantesFC hoy es vuestro día, la primera vic...   \n",
              "1498  ¡MATCH DAY!🦁🖤\\n\\nNos vemos hoy ⏰\\n- 18:00 🇪🇸🇦🇩...   \n",
              "1499                                     #KingsLeagueJ5   \n",
              "1500  🎪Vuelve la #KingsLeague🎪 \\n\\n➡️Veremos las pri...   \n",
              "1501  Oye pero la discusion de @IbaiLlanos con @gera...   \n",
              "\n",
              "                                                Hashtag       Username  \n",
              "85                                      [KingsLeagueJ5]   jorgedelcuri  \n",
              "86                                      [KingsLeagueJ5]      dairony26  \n",
              "87                                      [KingsLeagueJ5]   Cristian_OuO  \n",
              "88                                      [KingsLeagueJ5]       KioscoKL  \n",
              "89                        [KingsLeagueJ5, QueensLeague]       KioscoKL  \n",
              "...                                                 ...            ...  \n",
              "1497                                    [KingsLeaguej5]      El_joaky_  \n",
              "1498                  [LeonesDeMostoles, KingsLeagueJ5]    UltMostoles  \n",
              "1499                                    [KingsLeagueJ5]   MelvinYerena  \n",
              "1500                       [KingsLeague, KingsLeagueJ5]  luigisanabria  \n",
              "1501  [ChupChupKings5, KingsLeagueJ5, KingsLeagueInf...      Diegox_es  \n",
              "\n",
              "[1417 rows x 4 columns]"
            ],
            "text/html": [
              "\n",
              "  <div id=\"df-4a6906da-a1de-427c-afac-2c3d8188fee4\">\n",
              "    <div class=\"colab-df-container\">\n",
              "      <div>\n",
              "<style scoped>\n",
              "    .dataframe tbody tr th:only-of-type {\n",
              "        vertical-align: middle;\n",
              "    }\n",
              "\n",
              "    .dataframe tbody tr th {\n",
              "        vertical-align: top;\n",
              "    }\n",
              "\n",
              "    .dataframe thead th {\n",
              "        text-align: right;\n",
              "    }\n",
              "</style>\n",
              "<table border=\"1\" class=\"dataframe\">\n",
              "  <thead>\n",
              "    <tr style=\"text-align: right;\">\n",
              "      <th></th>\n",
              "      <th>Date</th>\n",
              "      <th>Tweet</th>\n",
              "      <th>Hashtag</th>\n",
              "      <th>Username</th>\n",
              "    </tr>\n",
              "  </thead>\n",
              "  <tbody>\n",
              "    <tr>\n",
              "      <th>85</th>\n",
              "      <td>2023-02-05 23:51:27+00:00</td>\n",
              "      <td>XBUYER TEAM de XBUYER VS 1K FC de IKER CASILLA...</td>\n",
              "      <td>[KingsLeagueJ5]</td>\n",
              "      <td>jorgedelcuri</td>\n",
              "    </tr>\n",
              "    <tr>\n",
              "      <th>86</th>\n",
              "      <td>2023-02-05 23:50:07+00:00</td>\n",
              "      <td>Que @IbaiLlanos , ni @auronplay , los directos...</td>\n",
              "      <td>[KingsLeagueJ5]</td>\n",
              "      <td>dairony26</td>\n",
              "    </tr>\n",
              "    <tr>\n",
              "      <th>87</th>\n",
              "      <td>2023-02-05 23:32:18+00:00</td>\n",
              "      <td>Aniquiladores está para campeón?? #KingsLeagueJ5</td>\n",
              "      <td>[KingsLeagueJ5]</td>\n",
              "      <td>Cristian_OuO</td>\n",
              "    </tr>\n",
              "    <tr>\n",
              "      <th>88</th>\n",
              "      <td>2023-02-05 23:25:37+00:00</td>\n",
              "      <td>¡Fin del programa!\\n\\nUn placer, como siempre ...</td>\n",
              "      <td>[KingsLeagueJ5]</td>\n",
              "      <td>KioscoKL</td>\n",
              "    </tr>\n",
              "    <tr>\n",
              "      <th>89</th>\n",
              "      <td>2023-02-05 23:24:48+00:00</td>\n",
              "      <td>💣 @Spursito hace SCOUTING de la Queens League ...</td>\n",
              "      <td>[KingsLeagueJ5, QueensLeague]</td>\n",
              "      <td>KioscoKL</td>\n",
              "    </tr>\n",
              "    <tr>\n",
              "      <th>...</th>\n",
              "      <td>...</td>\n",
              "      <td>...</td>\n",
              "      <td>...</td>\n",
              "      <td>...</td>\n",
              "    </tr>\n",
              "    <tr>\n",
              "      <th>1497</th>\n",
              "      <td>2023-02-05 08:50:36+00:00</td>\n",
              "      <td>@JijantesFC hoy es vuestro día, la primera vic...</td>\n",
              "      <td>[KingsLeaguej5]</td>\n",
              "      <td>El_joaky_</td>\n",
              "    </tr>\n",
              "    <tr>\n",
              "      <th>1498</th>\n",
              "      <td>2023-02-05 05:00:00+00:00</td>\n",
              "      <td>¡MATCH DAY!🦁🖤\\n\\nNos vemos hoy ⏰\\n- 18:00 🇪🇸🇦🇩...</td>\n",
              "      <td>[LeonesDeMostoles, KingsLeagueJ5]</td>\n",
              "      <td>UltMostoles</td>\n",
              "    </tr>\n",
              "    <tr>\n",
              "      <th>1499</th>\n",
              "      <td>2023-02-05 04:02:22+00:00</td>\n",
              "      <td>#KingsLeagueJ5</td>\n",
              "      <td>[KingsLeagueJ5]</td>\n",
              "      <td>MelvinYerena</td>\n",
              "    </tr>\n",
              "    <tr>\n",
              "      <th>1500</th>\n",
              "      <td>2023-02-05 02:45:53+00:00</td>\n",
              "      <td>🎪Vuelve la #KingsLeague🎪 \\n\\n➡️Veremos las pri...</td>\n",
              "      <td>[KingsLeague, KingsLeagueJ5]</td>\n",
              "      <td>luigisanabria</td>\n",
              "    </tr>\n",
              "    <tr>\n",
              "      <th>1501</th>\n",
              "      <td>2023-02-05 02:17:59+00:00</td>\n",
              "      <td>Oye pero la discusion de @IbaiLlanos con @gera...</td>\n",
              "      <td>[ChupChupKings5, KingsLeagueJ5, KingsLeagueInf...</td>\n",
              "      <td>Diegox_es</td>\n",
              "    </tr>\n",
              "  </tbody>\n",
              "</table>\n",
              "<p>1417 rows × 4 columns</p>\n",
              "</div>\n",
              "      <button class=\"colab-df-convert\" onclick=\"convertToInteractive('df-4a6906da-a1de-427c-afac-2c3d8188fee4')\"\n",
              "              title=\"Convert this dataframe to an interactive table.\"\n",
              "              style=\"display:none;\">\n",
              "        \n",
              "  <svg xmlns=\"http://www.w3.org/2000/svg\" height=\"24px\"viewBox=\"0 0 24 24\"\n",
              "       width=\"24px\">\n",
              "    <path d=\"M0 0h24v24H0V0z\" fill=\"none\"/>\n",
              "    <path d=\"M18.56 5.44l.94 2.06.94-2.06 2.06-.94-2.06-.94-.94-2.06-.94 2.06-2.06.94zm-11 1L8.5 8.5l.94-2.06 2.06-.94-2.06-.94L8.5 2.5l-.94 2.06-2.06.94zm10 10l.94 2.06.94-2.06 2.06-.94-2.06-.94-.94-2.06-.94 2.06-2.06.94z\"/><path d=\"M17.41 7.96l-1.37-1.37c-.4-.4-.92-.59-1.43-.59-.52 0-1.04.2-1.43.59L10.3 9.45l-7.72 7.72c-.78.78-.78 2.05 0 2.83L4 21.41c.39.39.9.59 1.41.59.51 0 1.02-.2 1.41-.59l7.78-7.78 2.81-2.81c.8-.78.8-2.07 0-2.86zM5.41 20L4 18.59l7.72-7.72 1.47 1.35L5.41 20z\"/>\n",
              "  </svg>\n",
              "      </button>\n",
              "      \n",
              "  <style>\n",
              "    .colab-df-container {\n",
              "      display:flex;\n",
              "      flex-wrap:wrap;\n",
              "      gap: 12px;\n",
              "    }\n",
              "\n",
              "    .colab-df-convert {\n",
              "      background-color: #E8F0FE;\n",
              "      border: none;\n",
              "      border-radius: 50%;\n",
              "      cursor: pointer;\n",
              "      display: none;\n",
              "      fill: #1967D2;\n",
              "      height: 32px;\n",
              "      padding: 0 0 0 0;\n",
              "      width: 32px;\n",
              "    }\n",
              "\n",
              "    .colab-df-convert:hover {\n",
              "      background-color: #E2EBFA;\n",
              "      box-shadow: 0px 1px 2px rgba(60, 64, 67, 0.3), 0px 1px 3px 1px rgba(60, 64, 67, 0.15);\n",
              "      fill: #174EA6;\n",
              "    }\n",
              "\n",
              "    [theme=dark] .colab-df-convert {\n",
              "      background-color: #3B4455;\n",
              "      fill: #D2E3FC;\n",
              "    }\n",
              "\n",
              "    [theme=dark] .colab-df-convert:hover {\n",
              "      background-color: #434B5C;\n",
              "      box-shadow: 0px 1px 3px 1px rgba(0, 0, 0, 0.15);\n",
              "      filter: drop-shadow(0px 1px 2px rgba(0, 0, 0, 0.3));\n",
              "      fill: #FFFFFF;\n",
              "    }\n",
              "  </style>\n",
              "\n",
              "      <script>\n",
              "        const buttonEl =\n",
              "          document.querySelector('#df-4a6906da-a1de-427c-afac-2c3d8188fee4 button.colab-df-convert');\n",
              "        buttonEl.style.display =\n",
              "          google.colab.kernel.accessAllowed ? 'block' : 'none';\n",
              "\n",
              "        async function convertToInteractive(key) {\n",
              "          const element = document.querySelector('#df-4a6906da-a1de-427c-afac-2c3d8188fee4');\n",
              "          const dataTable =\n",
              "            await google.colab.kernel.invokeFunction('convertToInteractive',\n",
              "                                                     [key], {});\n",
              "          if (!dataTable) return;\n",
              "\n",
              "          const docLinkHtml = 'Like what you see? Visit the ' +\n",
              "            '<a target=\"_blank\" href=https://colab.research.google.com/notebooks/data_table.ipynb>data table notebook</a>'\n",
              "            + ' to learn more about interactive tables.';\n",
              "          element.innerHTML = '';\n",
              "          dataTable['output_type'] = 'display_data';\n",
              "          await google.colab.output.renderOutput(dataTable, element);\n",
              "          const docLink = document.createElement('div');\n",
              "          docLink.innerHTML = docLinkHtml;\n",
              "          element.appendChild(docLink);\n",
              "        }\n",
              "      </script>\n",
              "    </div>\n",
              "  </div>\n",
              "  "
            ]
          },
          "metadata": {},
          "execution_count": 15
        }
      ]
    },
    {
      "cell_type": "code",
      "source": [
        "#Extraemos los hashtags para convertirlos en strings\n",
        "def textl(text):\n",
        "  leters= \" \".join([str(_) for _ in text])\n",
        "  return leters\n"
      ],
      "metadata": {
        "id": "i2aHWTh68M84"
      },
      "execution_count": null,
      "outputs": []
    },
    {
      "cell_type": "code",
      "source": [
        "df['Token'] = df['Hashtag'].apply(textl)\n",
        "df.head()"
      ],
      "metadata": {
        "colab": {
          "base_uri": "https://localhost:8080/",
          "height": 310
        },
        "id": "3qXFd2vctvCI",
        "outputId": "4e7558cb-9e09-44e1-fcc4-4534e8036ec1"
      },
      "execution_count": null,
      "outputs": [
        {
          "output_type": "stream",
          "name": "stderr",
          "text": [
            "<ipython-input-17-0693a8dedba9>:1: SettingWithCopyWarning: \n",
            "A value is trying to be set on a copy of a slice from a DataFrame.\n",
            "Try using .loc[row_indexer,col_indexer] = value instead\n",
            "\n",
            "See the caveats in the documentation: https://pandas.pydata.org/pandas-docs/stable/user_guide/indexing.html#returning-a-view-versus-a-copy\n",
            "  df['Token'] = df['Hashtag'].apply(textl)\n"
          ]
        },
        {
          "output_type": "execute_result",
          "data": {
            "text/plain": [
              "                        Date  \\\n",
              "85 2023-02-05 23:51:27+00:00   \n",
              "86 2023-02-05 23:50:07+00:00   \n",
              "87 2023-02-05 23:32:18+00:00   \n",
              "88 2023-02-05 23:25:37+00:00   \n",
              "89 2023-02-05 23:24:48+00:00   \n",
              "\n",
              "                                                Tweet  \\\n",
              "85  XBUYER TEAM de XBUYER VS 1K FC de IKER CASILLA...   \n",
              "86  Que @IbaiLlanos , ni @auronplay , los directos...   \n",
              "87   Aniquiladores está para campeón?? #KingsLeagueJ5   \n",
              "88  ¡Fin del programa!\\n\\nUn placer, como siempre ...   \n",
              "89  💣 @Spursito hace SCOUTING de la Queens League ...   \n",
              "\n",
              "                          Hashtag      Username                       Token  \n",
              "85                [KingsLeagueJ5]  jorgedelcuri               KingsLeagueJ5  \n",
              "86                [KingsLeagueJ5]     dairony26               KingsLeagueJ5  \n",
              "87                [KingsLeagueJ5]  Cristian_OuO               KingsLeagueJ5  \n",
              "88                [KingsLeagueJ5]      KioscoKL               KingsLeagueJ5  \n",
              "89  [KingsLeagueJ5, QueensLeague]      KioscoKL  KingsLeagueJ5 QueensLeague  "
            ],
            "text/html": [
              "\n",
              "  <div id=\"df-6abc3cb1-823e-4641-99c3-48cf8c9f2b8f\">\n",
              "    <div class=\"colab-df-container\">\n",
              "      <div>\n",
              "<style scoped>\n",
              "    .dataframe tbody tr th:only-of-type {\n",
              "        vertical-align: middle;\n",
              "    }\n",
              "\n",
              "    .dataframe tbody tr th {\n",
              "        vertical-align: top;\n",
              "    }\n",
              "\n",
              "    .dataframe thead th {\n",
              "        text-align: right;\n",
              "    }\n",
              "</style>\n",
              "<table border=\"1\" class=\"dataframe\">\n",
              "  <thead>\n",
              "    <tr style=\"text-align: right;\">\n",
              "      <th></th>\n",
              "      <th>Date</th>\n",
              "      <th>Tweet</th>\n",
              "      <th>Hashtag</th>\n",
              "      <th>Username</th>\n",
              "      <th>Token</th>\n",
              "    </tr>\n",
              "  </thead>\n",
              "  <tbody>\n",
              "    <tr>\n",
              "      <th>85</th>\n",
              "      <td>2023-02-05 23:51:27+00:00</td>\n",
              "      <td>XBUYER TEAM de XBUYER VS 1K FC de IKER CASILLA...</td>\n",
              "      <td>[KingsLeagueJ5]</td>\n",
              "      <td>jorgedelcuri</td>\n",
              "      <td>KingsLeagueJ5</td>\n",
              "    </tr>\n",
              "    <tr>\n",
              "      <th>86</th>\n",
              "      <td>2023-02-05 23:50:07+00:00</td>\n",
              "      <td>Que @IbaiLlanos , ni @auronplay , los directos...</td>\n",
              "      <td>[KingsLeagueJ5]</td>\n",
              "      <td>dairony26</td>\n",
              "      <td>KingsLeagueJ5</td>\n",
              "    </tr>\n",
              "    <tr>\n",
              "      <th>87</th>\n",
              "      <td>2023-02-05 23:32:18+00:00</td>\n",
              "      <td>Aniquiladores está para campeón?? #KingsLeagueJ5</td>\n",
              "      <td>[KingsLeagueJ5]</td>\n",
              "      <td>Cristian_OuO</td>\n",
              "      <td>KingsLeagueJ5</td>\n",
              "    </tr>\n",
              "    <tr>\n",
              "      <th>88</th>\n",
              "      <td>2023-02-05 23:25:37+00:00</td>\n",
              "      <td>¡Fin del programa!\\n\\nUn placer, como siempre ...</td>\n",
              "      <td>[KingsLeagueJ5]</td>\n",
              "      <td>KioscoKL</td>\n",
              "      <td>KingsLeagueJ5</td>\n",
              "    </tr>\n",
              "    <tr>\n",
              "      <th>89</th>\n",
              "      <td>2023-02-05 23:24:48+00:00</td>\n",
              "      <td>💣 @Spursito hace SCOUTING de la Queens League ...</td>\n",
              "      <td>[KingsLeagueJ5, QueensLeague]</td>\n",
              "      <td>KioscoKL</td>\n",
              "      <td>KingsLeagueJ5 QueensLeague</td>\n",
              "    </tr>\n",
              "  </tbody>\n",
              "</table>\n",
              "</div>\n",
              "      <button class=\"colab-df-convert\" onclick=\"convertToInteractive('df-6abc3cb1-823e-4641-99c3-48cf8c9f2b8f')\"\n",
              "              title=\"Convert this dataframe to an interactive table.\"\n",
              "              style=\"display:none;\">\n",
              "        \n",
              "  <svg xmlns=\"http://www.w3.org/2000/svg\" height=\"24px\"viewBox=\"0 0 24 24\"\n",
              "       width=\"24px\">\n",
              "    <path d=\"M0 0h24v24H0V0z\" fill=\"none\"/>\n",
              "    <path d=\"M18.56 5.44l.94 2.06.94-2.06 2.06-.94-2.06-.94-.94-2.06-.94 2.06-2.06.94zm-11 1L8.5 8.5l.94-2.06 2.06-.94-2.06-.94L8.5 2.5l-.94 2.06-2.06.94zm10 10l.94 2.06.94-2.06 2.06-.94-2.06-.94-.94-2.06-.94 2.06-2.06.94z\"/><path d=\"M17.41 7.96l-1.37-1.37c-.4-.4-.92-.59-1.43-.59-.52 0-1.04.2-1.43.59L10.3 9.45l-7.72 7.72c-.78.78-.78 2.05 0 2.83L4 21.41c.39.39.9.59 1.41.59.51 0 1.02-.2 1.41-.59l7.78-7.78 2.81-2.81c.8-.78.8-2.07 0-2.86zM5.41 20L4 18.59l7.72-7.72 1.47 1.35L5.41 20z\"/>\n",
              "  </svg>\n",
              "      </button>\n",
              "      \n",
              "  <style>\n",
              "    .colab-df-container {\n",
              "      display:flex;\n",
              "      flex-wrap:wrap;\n",
              "      gap: 12px;\n",
              "    }\n",
              "\n",
              "    .colab-df-convert {\n",
              "      background-color: #E8F0FE;\n",
              "      border: none;\n",
              "      border-radius: 50%;\n",
              "      cursor: pointer;\n",
              "      display: none;\n",
              "      fill: #1967D2;\n",
              "      height: 32px;\n",
              "      padding: 0 0 0 0;\n",
              "      width: 32px;\n",
              "    }\n",
              "\n",
              "    .colab-df-convert:hover {\n",
              "      background-color: #E2EBFA;\n",
              "      box-shadow: 0px 1px 2px rgba(60, 64, 67, 0.3), 0px 1px 3px 1px rgba(60, 64, 67, 0.15);\n",
              "      fill: #174EA6;\n",
              "    }\n",
              "\n",
              "    [theme=dark] .colab-df-convert {\n",
              "      background-color: #3B4455;\n",
              "      fill: #D2E3FC;\n",
              "    }\n",
              "\n",
              "    [theme=dark] .colab-df-convert:hover {\n",
              "      background-color: #434B5C;\n",
              "      box-shadow: 0px 1px 3px 1px rgba(0, 0, 0, 0.15);\n",
              "      filter: drop-shadow(0px 1px 2px rgba(0, 0, 0, 0.3));\n",
              "      fill: #FFFFFF;\n",
              "    }\n",
              "  </style>\n",
              "\n",
              "      <script>\n",
              "        const buttonEl =\n",
              "          document.querySelector('#df-6abc3cb1-823e-4641-99c3-48cf8c9f2b8f button.colab-df-convert');\n",
              "        buttonEl.style.display =\n",
              "          google.colab.kernel.accessAllowed ? 'block' : 'none';\n",
              "\n",
              "        async function convertToInteractive(key) {\n",
              "          const element = document.querySelector('#df-6abc3cb1-823e-4641-99c3-48cf8c9f2b8f');\n",
              "          const dataTable =\n",
              "            await google.colab.kernel.invokeFunction('convertToInteractive',\n",
              "                                                     [key], {});\n",
              "          if (!dataTable) return;\n",
              "\n",
              "          const docLinkHtml = 'Like what you see? Visit the ' +\n",
              "            '<a target=\"_blank\" href=https://colab.research.google.com/notebooks/data_table.ipynb>data table notebook</a>'\n",
              "            + ' to learn more about interactive tables.';\n",
              "          element.innerHTML = '';\n",
              "          dataTable['output_type'] = 'display_data';\n",
              "          await google.colab.output.renderOutput(dataTable, element);\n",
              "          const docLink = document.createElement('div');\n",
              "          docLink.innerHTML = docLinkHtml;\n",
              "          element.appendChild(docLink);\n",
              "        }\n",
              "      </script>\n",
              "    </div>\n",
              "  </div>\n",
              "  "
            ]
          },
          "metadata": {},
          "execution_count": 17
        }
      ]
    },
    {
      "cell_type": "code",
      "source": [
        "tokenHashtag = df['Token']\n",
        "tokenHashtag"
      ],
      "metadata": {
        "colab": {
          "base_uri": "https://localhost:8080/"
        },
        "id": "M3CgnMp1vMbn",
        "outputId": "e6bb923b-71d9-46cc-eabc-9136fc310b58"
      },
      "execution_count": null,
      "outputs": [
        {
          "output_type": "execute_result",
          "data": {
            "text/plain": [
              "85                                         KingsLeagueJ5\n",
              "86                                         KingsLeagueJ5\n",
              "87                                         KingsLeagueJ5\n",
              "88                                         KingsLeagueJ5\n",
              "89                            KingsLeagueJ5 QueensLeague\n",
              "                              ...                       \n",
              "1497                                       KingsLeaguej5\n",
              "1498                      LeonesDeMostoles KingsLeagueJ5\n",
              "1499                                       KingsLeagueJ5\n",
              "1500                           KingsLeague KingsLeagueJ5\n",
              "1501    ChupChupKings5 KingsLeagueJ5 KingsLeagueInfoJobs\n",
              "Name: Token, Length: 1417, dtype: object"
            ]
          },
          "metadata": {},
          "execution_count": 18
        }
      ]
    },
    {
      "cell_type": "code",
      "source": [
        "tokens = [token for line in tokenHashtag  for token in line.split()]"
      ],
      "metadata": {
        "id": "7bvP7ezc2TZ7"
      },
      "execution_count": null,
      "outputs": []
    },
    {
      "cell_type": "code",
      "source": [
        "#Creamos una funcion que cuente los datos ya toquenizados \n",
        "def get_tokens(docx,num=40):\n",
        "    word_tokens = Counter(docx)\n",
        "    most_common = word_tokens.most_common(num)\n",
        "    result = dict(most_common)\n",
        "    return result"
      ],
      "metadata": {
        "id": "E7bOQvLX3Xwx"
      },
      "execution_count": null,
      "outputs": []
    },
    {
      "cell_type": "code",
      "source": [
        "tokensTotal = get_tokens(tokens)"
      ],
      "metadata": {
        "id": "y-Ugo-hu3mXJ"
      },
      "execution_count": null,
      "outputs": []
    },
    {
      "cell_type": "code",
      "source": [
        "#Insertamos los datos en un dataframe\n",
        "data = pd.DataFrame(tokensTotal.items(),columns=['Hashtags','scores'])\n",
        "data"
      ],
      "metadata": {
        "colab": {
          "base_uri": "https://localhost:8080/",
          "height": 1000
        },
        "id": "DoziVy1UQ5bV",
        "outputId": "e6daa3d1-24df-42e5-c2d2-582946e5f213"
      },
      "execution_count": null,
      "outputs": [
        {
          "output_type": "execute_result",
          "data": {
            "text/plain": [
              "               Hashtags  scores\n",
              "0         KingsLeagueJ5    1082\n",
              "1           KingsLeague     305\n",
              "2         KingsLeaguej5     265\n",
              "3        VisionNoticias      97\n",
              "4              InfoJobs      92\n",
              "5         PUROPINCHEPIO      52\n",
              "6       AniquiladoresFC      43\n",
              "7         kingsleaguej5      36\n",
              "8             PIOvsRAYO      33\n",
              "9         KINGSLEAGUEJ5      29\n",
              "10                PIOFC      27\n",
              "11         LosTroncosFC      24\n",
              "12  KingsLeagueInfoJobs      23\n",
              "13             ElBarrio      23\n",
              "14           xBuyerTeam      22\n",
              "15           JijantesFC      21\n",
              "16      aniquiladoresfc      19\n",
              "17     UltimateMostoles      19\n",
              "18           PorcinosFC      19\n",
              "19      RayoDeBarcelona      19\n",
              "20           Kunisports      18\n",
              "21               futbol      18\n",
              "22        Aniquiladores      17\n",
              "23         VamosSaiyans      17\n",
              "24              Saiyans      16\n",
              "25           KuniSports      16\n",
              "26             simyoMVP      15\n",
              "27                 1KFC      14\n",
              "28           LosTroncos      13\n",
              "29           VamoAJugar      13\n",
              "30           XBUYERTEAM      13\n",
              "31            SaiyansFC      12\n",
              "32      RayodeBarcelona      11\n",
              "33                   1K      11\n",
              "34               Twitch      10\n",
              "35              Rebajas      10\n",
              "36             Jijantes      10\n",
              "37     LeonesDeMostoles      10\n",
              "38               Sports       9\n",
              "39             Porcinos       9"
            ],
            "text/html": [
              "\n",
              "  <div id=\"df-6c16ede2-a4e8-40eb-bf1e-a963fca5d14c\">\n",
              "    <div class=\"colab-df-container\">\n",
              "      <div>\n",
              "<style scoped>\n",
              "    .dataframe tbody tr th:only-of-type {\n",
              "        vertical-align: middle;\n",
              "    }\n",
              "\n",
              "    .dataframe tbody tr th {\n",
              "        vertical-align: top;\n",
              "    }\n",
              "\n",
              "    .dataframe thead th {\n",
              "        text-align: right;\n",
              "    }\n",
              "</style>\n",
              "<table border=\"1\" class=\"dataframe\">\n",
              "  <thead>\n",
              "    <tr style=\"text-align: right;\">\n",
              "      <th></th>\n",
              "      <th>Hashtags</th>\n",
              "      <th>scores</th>\n",
              "    </tr>\n",
              "  </thead>\n",
              "  <tbody>\n",
              "    <tr>\n",
              "      <th>0</th>\n",
              "      <td>KingsLeagueJ5</td>\n",
              "      <td>1082</td>\n",
              "    </tr>\n",
              "    <tr>\n",
              "      <th>1</th>\n",
              "      <td>KingsLeague</td>\n",
              "      <td>305</td>\n",
              "    </tr>\n",
              "    <tr>\n",
              "      <th>2</th>\n",
              "      <td>KingsLeaguej5</td>\n",
              "      <td>265</td>\n",
              "    </tr>\n",
              "    <tr>\n",
              "      <th>3</th>\n",
              "      <td>VisionNoticias</td>\n",
              "      <td>97</td>\n",
              "    </tr>\n",
              "    <tr>\n",
              "      <th>4</th>\n",
              "      <td>InfoJobs</td>\n",
              "      <td>92</td>\n",
              "    </tr>\n",
              "    <tr>\n",
              "      <th>5</th>\n",
              "      <td>PUROPINCHEPIO</td>\n",
              "      <td>52</td>\n",
              "    </tr>\n",
              "    <tr>\n",
              "      <th>6</th>\n",
              "      <td>AniquiladoresFC</td>\n",
              "      <td>43</td>\n",
              "    </tr>\n",
              "    <tr>\n",
              "      <th>7</th>\n",
              "      <td>kingsleaguej5</td>\n",
              "      <td>36</td>\n",
              "    </tr>\n",
              "    <tr>\n",
              "      <th>8</th>\n",
              "      <td>PIOvsRAYO</td>\n",
              "      <td>33</td>\n",
              "    </tr>\n",
              "    <tr>\n",
              "      <th>9</th>\n",
              "      <td>KINGSLEAGUEJ5</td>\n",
              "      <td>29</td>\n",
              "    </tr>\n",
              "    <tr>\n",
              "      <th>10</th>\n",
              "      <td>PIOFC</td>\n",
              "      <td>27</td>\n",
              "    </tr>\n",
              "    <tr>\n",
              "      <th>11</th>\n",
              "      <td>LosTroncosFC</td>\n",
              "      <td>24</td>\n",
              "    </tr>\n",
              "    <tr>\n",
              "      <th>12</th>\n",
              "      <td>KingsLeagueInfoJobs</td>\n",
              "      <td>23</td>\n",
              "    </tr>\n",
              "    <tr>\n",
              "      <th>13</th>\n",
              "      <td>ElBarrio</td>\n",
              "      <td>23</td>\n",
              "    </tr>\n",
              "    <tr>\n",
              "      <th>14</th>\n",
              "      <td>xBuyerTeam</td>\n",
              "      <td>22</td>\n",
              "    </tr>\n",
              "    <tr>\n",
              "      <th>15</th>\n",
              "      <td>JijantesFC</td>\n",
              "      <td>21</td>\n",
              "    </tr>\n",
              "    <tr>\n",
              "      <th>16</th>\n",
              "      <td>aniquiladoresfc</td>\n",
              "      <td>19</td>\n",
              "    </tr>\n",
              "    <tr>\n",
              "      <th>17</th>\n",
              "      <td>UltimateMostoles</td>\n",
              "      <td>19</td>\n",
              "    </tr>\n",
              "    <tr>\n",
              "      <th>18</th>\n",
              "      <td>PorcinosFC</td>\n",
              "      <td>19</td>\n",
              "    </tr>\n",
              "    <tr>\n",
              "      <th>19</th>\n",
              "      <td>RayoDeBarcelona</td>\n",
              "      <td>19</td>\n",
              "    </tr>\n",
              "    <tr>\n",
              "      <th>20</th>\n",
              "      <td>Kunisports</td>\n",
              "      <td>18</td>\n",
              "    </tr>\n",
              "    <tr>\n",
              "      <th>21</th>\n",
              "      <td>futbol</td>\n",
              "      <td>18</td>\n",
              "    </tr>\n",
              "    <tr>\n",
              "      <th>22</th>\n",
              "      <td>Aniquiladores</td>\n",
              "      <td>17</td>\n",
              "    </tr>\n",
              "    <tr>\n",
              "      <th>23</th>\n",
              "      <td>VamosSaiyans</td>\n",
              "      <td>17</td>\n",
              "    </tr>\n",
              "    <tr>\n",
              "      <th>24</th>\n",
              "      <td>Saiyans</td>\n",
              "      <td>16</td>\n",
              "    </tr>\n",
              "    <tr>\n",
              "      <th>25</th>\n",
              "      <td>KuniSports</td>\n",
              "      <td>16</td>\n",
              "    </tr>\n",
              "    <tr>\n",
              "      <th>26</th>\n",
              "      <td>simyoMVP</td>\n",
              "      <td>15</td>\n",
              "    </tr>\n",
              "    <tr>\n",
              "      <th>27</th>\n",
              "      <td>1KFC</td>\n",
              "      <td>14</td>\n",
              "    </tr>\n",
              "    <tr>\n",
              "      <th>28</th>\n",
              "      <td>LosTroncos</td>\n",
              "      <td>13</td>\n",
              "    </tr>\n",
              "    <tr>\n",
              "      <th>29</th>\n",
              "      <td>VamoAJugar</td>\n",
              "      <td>13</td>\n",
              "    </tr>\n",
              "    <tr>\n",
              "      <th>30</th>\n",
              "      <td>XBUYERTEAM</td>\n",
              "      <td>13</td>\n",
              "    </tr>\n",
              "    <tr>\n",
              "      <th>31</th>\n",
              "      <td>SaiyansFC</td>\n",
              "      <td>12</td>\n",
              "    </tr>\n",
              "    <tr>\n",
              "      <th>32</th>\n",
              "      <td>RayodeBarcelona</td>\n",
              "      <td>11</td>\n",
              "    </tr>\n",
              "    <tr>\n",
              "      <th>33</th>\n",
              "      <td>1K</td>\n",
              "      <td>11</td>\n",
              "    </tr>\n",
              "    <tr>\n",
              "      <th>34</th>\n",
              "      <td>Twitch</td>\n",
              "      <td>10</td>\n",
              "    </tr>\n",
              "    <tr>\n",
              "      <th>35</th>\n",
              "      <td>Rebajas</td>\n",
              "      <td>10</td>\n",
              "    </tr>\n",
              "    <tr>\n",
              "      <th>36</th>\n",
              "      <td>Jijantes</td>\n",
              "      <td>10</td>\n",
              "    </tr>\n",
              "    <tr>\n",
              "      <th>37</th>\n",
              "      <td>LeonesDeMostoles</td>\n",
              "      <td>10</td>\n",
              "    </tr>\n",
              "    <tr>\n",
              "      <th>38</th>\n",
              "      <td>Sports</td>\n",
              "      <td>9</td>\n",
              "    </tr>\n",
              "    <tr>\n",
              "      <th>39</th>\n",
              "      <td>Porcinos</td>\n",
              "      <td>9</td>\n",
              "    </tr>\n",
              "  </tbody>\n",
              "</table>\n",
              "</div>\n",
              "      <button class=\"colab-df-convert\" onclick=\"convertToInteractive('df-6c16ede2-a4e8-40eb-bf1e-a963fca5d14c')\"\n",
              "              title=\"Convert this dataframe to an interactive table.\"\n",
              "              style=\"display:none;\">\n",
              "        \n",
              "  <svg xmlns=\"http://www.w3.org/2000/svg\" height=\"24px\"viewBox=\"0 0 24 24\"\n",
              "       width=\"24px\">\n",
              "    <path d=\"M0 0h24v24H0V0z\" fill=\"none\"/>\n",
              "    <path d=\"M18.56 5.44l.94 2.06.94-2.06 2.06-.94-2.06-.94-.94-2.06-.94 2.06-2.06.94zm-11 1L8.5 8.5l.94-2.06 2.06-.94-2.06-.94L8.5 2.5l-.94 2.06-2.06.94zm10 10l.94 2.06.94-2.06 2.06-.94-2.06-.94-.94-2.06-.94 2.06-2.06.94z\"/><path d=\"M17.41 7.96l-1.37-1.37c-.4-.4-.92-.59-1.43-.59-.52 0-1.04.2-1.43.59L10.3 9.45l-7.72 7.72c-.78.78-.78 2.05 0 2.83L4 21.41c.39.39.9.59 1.41.59.51 0 1.02-.2 1.41-.59l7.78-7.78 2.81-2.81c.8-.78.8-2.07 0-2.86zM5.41 20L4 18.59l7.72-7.72 1.47 1.35L5.41 20z\"/>\n",
              "  </svg>\n",
              "      </button>\n",
              "      \n",
              "  <style>\n",
              "    .colab-df-container {\n",
              "      display:flex;\n",
              "      flex-wrap:wrap;\n",
              "      gap: 12px;\n",
              "    }\n",
              "\n",
              "    .colab-df-convert {\n",
              "      background-color: #E8F0FE;\n",
              "      border: none;\n",
              "      border-radius: 50%;\n",
              "      cursor: pointer;\n",
              "      display: none;\n",
              "      fill: #1967D2;\n",
              "      height: 32px;\n",
              "      padding: 0 0 0 0;\n",
              "      width: 32px;\n",
              "    }\n",
              "\n",
              "    .colab-df-convert:hover {\n",
              "      background-color: #E2EBFA;\n",
              "      box-shadow: 0px 1px 2px rgba(60, 64, 67, 0.3), 0px 1px 3px 1px rgba(60, 64, 67, 0.15);\n",
              "      fill: #174EA6;\n",
              "    }\n",
              "\n",
              "    [theme=dark] .colab-df-convert {\n",
              "      background-color: #3B4455;\n",
              "      fill: #D2E3FC;\n",
              "    }\n",
              "\n",
              "    [theme=dark] .colab-df-convert:hover {\n",
              "      background-color: #434B5C;\n",
              "      box-shadow: 0px 1px 3px 1px rgba(0, 0, 0, 0.15);\n",
              "      filter: drop-shadow(0px 1px 2px rgba(0, 0, 0, 0.3));\n",
              "      fill: #FFFFFF;\n",
              "    }\n",
              "  </style>\n",
              "\n",
              "      <script>\n",
              "        const buttonEl =\n",
              "          document.querySelector('#df-6c16ede2-a4e8-40eb-bf1e-a963fca5d14c button.colab-df-convert');\n",
              "        buttonEl.style.display =\n",
              "          google.colab.kernel.accessAllowed ? 'block' : 'none';\n",
              "\n",
              "        async function convertToInteractive(key) {\n",
              "          const element = document.querySelector('#df-6c16ede2-a4e8-40eb-bf1e-a963fca5d14c');\n",
              "          const dataTable =\n",
              "            await google.colab.kernel.invokeFunction('convertToInteractive',\n",
              "                                                     [key], {});\n",
              "          if (!dataTable) return;\n",
              "\n",
              "          const docLinkHtml = 'Like what you see? Visit the ' +\n",
              "            '<a target=\"_blank\" href=https://colab.research.google.com/notebooks/data_table.ipynb>data table notebook</a>'\n",
              "            + ' to learn more about interactive tables.';\n",
              "          element.innerHTML = '';\n",
              "          dataTable['output_type'] = 'display_data';\n",
              "          await google.colab.output.renderOutput(dataTable, element);\n",
              "          const docLink = document.createElement('div');\n",
              "          docLink.innerHTML = docLinkHtml;\n",
              "          element.appendChild(docLink);\n",
              "        }\n",
              "      </script>\n",
              "    </div>\n",
              "  </div>\n",
              "  "
            ]
          },
          "metadata": {},
          "execution_count": 23
        }
      ]
    },
    {
      "cell_type": "code",
      "source": [
        "#Ploteamos los datos\n",
        "fig = px.bar(data, title=\"Hashtags mas usados de la Jornada 5 de la Kings League\",x=data['Hashtags'], y=data['scores'])\n",
        "fig.show()"
      ],
      "metadata": {
        "colab": {
          "base_uri": "https://localhost:8080/",
          "height": 542
        },
        "id": "lFadds4RQh1s",
        "outputId": "baa9fe53-1341-4d21-b439-7e61a3d2de38"
      },
      "execution_count": null,
      "outputs": [
        {
          "output_type": "display_data",
          "data": {
            "text/html": [
              "<html>\n",
              "<head><meta charset=\"utf-8\" /></head>\n",
              "<body>\n",
              "    <div>            <script src=\"https://cdnjs.cloudflare.com/ajax/libs/mathjax/2.7.5/MathJax.js?config=TeX-AMS-MML_SVG\"></script><script type=\"text/javascript\">if (window.MathJax) {MathJax.Hub.Config({SVG: {font: \"STIX-Web\"}});}</script>                <script type=\"text/javascript\">window.PlotlyConfig = {MathJaxConfig: 'local'};</script>\n",
              "        <script src=\"https://cdn.plot.ly/plotly-2.8.3.min.js\"></script>                <div id=\"5f6f8e93-172d-4494-8971-95282e49b409\" class=\"plotly-graph-div\" style=\"height:525px; width:100%;\"></div>            <script type=\"text/javascript\">                                    window.PLOTLYENV=window.PLOTLYENV || {};                                    if (document.getElementById(\"5f6f8e93-172d-4494-8971-95282e49b409\")) {                    Plotly.newPlot(                        \"5f6f8e93-172d-4494-8971-95282e49b409\",                        [{\"alignmentgroup\":\"True\",\"hovertemplate\":\"Hashtags=%{x}<br>scores=%{y}<extra></extra>\",\"legendgroup\":\"\",\"marker\":{\"color\":\"#636efa\",\"pattern\":{\"shape\":\"\"}},\"name\":\"\",\"offsetgroup\":\"\",\"orientation\":\"v\",\"showlegend\":false,\"textposition\":\"auto\",\"x\":[\"KingsLeagueJ5\",\"KingsLeague\",\"KingsLeaguej5\",\"VisionNoticias\",\"InfoJobs\",\"PUROPINCHEPIO\",\"AniquiladoresFC\",\"kingsleaguej5\",\"PIOvsRAYO\",\"KINGSLEAGUEJ5\",\"PIOFC\",\"LosTroncosFC\",\"KingsLeagueInfoJobs\",\"ElBarrio\",\"xBuyerTeam\",\"JijantesFC\",\"aniquiladoresfc\",\"UltimateMostoles\",\"PorcinosFC\",\"RayoDeBarcelona\",\"Kunisports\",\"futbol\",\"Aniquiladores\",\"VamosSaiyans\",\"Saiyans\",\"KuniSports\",\"simyoMVP\",\"1KFC\",\"LosTroncos\",\"VamoAJugar\",\"XBUYERTEAM\",\"SaiyansFC\",\"RayodeBarcelona\",\"1K\",\"Twitch\",\"Rebajas\",\"Jijantes\",\"LeonesDeMostoles\",\"Sports\",\"Porcinos\"],\"xaxis\":\"x\",\"y\":[1082,305,265,97,92,52,43,36,33,29,27,24,23,23,22,21,19,19,19,19,18,18,17,17,16,16,15,14,13,13,13,12,11,11,10,10,10,10,9,9],\"yaxis\":\"y\",\"type\":\"bar\"}],                        {\"template\":{\"data\":{\"bar\":[{\"error_x\":{\"color\":\"#2a3f5f\"},\"error_y\":{\"color\":\"#2a3f5f\"},\"marker\":{\"line\":{\"color\":\"#E5ECF6\",\"width\":0.5},\"pattern\":{\"fillmode\":\"overlay\",\"size\":10,\"solidity\":0.2}},\"type\":\"bar\"}],\"barpolar\":[{\"marker\":{\"line\":{\"color\":\"#E5ECF6\",\"width\":0.5},\"pattern\":{\"fillmode\":\"overlay\",\"size\":10,\"solidity\":0.2}},\"type\":\"barpolar\"}],\"carpet\":[{\"aaxis\":{\"endlinecolor\":\"#2a3f5f\",\"gridcolor\":\"white\",\"linecolor\":\"white\",\"minorgridcolor\":\"white\",\"startlinecolor\":\"#2a3f5f\"},\"baxis\":{\"endlinecolor\":\"#2a3f5f\",\"gridcolor\":\"white\",\"linecolor\":\"white\",\"minorgridcolor\":\"white\",\"startlinecolor\":\"#2a3f5f\"},\"type\":\"carpet\"}],\"choropleth\":[{\"colorbar\":{\"outlinewidth\":0,\"ticks\":\"\"},\"type\":\"choropleth\"}],\"contour\":[{\"colorbar\":{\"outlinewidth\":0,\"ticks\":\"\"},\"colorscale\":[[0.0,\"#0d0887\"],[0.1111111111111111,\"#46039f\"],[0.2222222222222222,\"#7201a8\"],[0.3333333333333333,\"#9c179e\"],[0.4444444444444444,\"#bd3786\"],[0.5555555555555556,\"#d8576b\"],[0.6666666666666666,\"#ed7953\"],[0.7777777777777778,\"#fb9f3a\"],[0.8888888888888888,\"#fdca26\"],[1.0,\"#f0f921\"]],\"type\":\"contour\"}],\"contourcarpet\":[{\"colorbar\":{\"outlinewidth\":0,\"ticks\":\"\"},\"type\":\"contourcarpet\"}],\"heatmap\":[{\"colorbar\":{\"outlinewidth\":0,\"ticks\":\"\"},\"colorscale\":[[0.0,\"#0d0887\"],[0.1111111111111111,\"#46039f\"],[0.2222222222222222,\"#7201a8\"],[0.3333333333333333,\"#9c179e\"],[0.4444444444444444,\"#bd3786\"],[0.5555555555555556,\"#d8576b\"],[0.6666666666666666,\"#ed7953\"],[0.7777777777777778,\"#fb9f3a\"],[0.8888888888888888,\"#fdca26\"],[1.0,\"#f0f921\"]],\"type\":\"heatmap\"}],\"heatmapgl\":[{\"colorbar\":{\"outlinewidth\":0,\"ticks\":\"\"},\"colorscale\":[[0.0,\"#0d0887\"],[0.1111111111111111,\"#46039f\"],[0.2222222222222222,\"#7201a8\"],[0.3333333333333333,\"#9c179e\"],[0.4444444444444444,\"#bd3786\"],[0.5555555555555556,\"#d8576b\"],[0.6666666666666666,\"#ed7953\"],[0.7777777777777778,\"#fb9f3a\"],[0.8888888888888888,\"#fdca26\"],[1.0,\"#f0f921\"]],\"type\":\"heatmapgl\"}],\"histogram\":[{\"marker\":{\"pattern\":{\"fillmode\":\"overlay\",\"size\":10,\"solidity\":0.2}},\"type\":\"histogram\"}],\"histogram2d\":[{\"colorbar\":{\"outlinewidth\":0,\"ticks\":\"\"},\"colorscale\":[[0.0,\"#0d0887\"],[0.1111111111111111,\"#46039f\"],[0.2222222222222222,\"#7201a8\"],[0.3333333333333333,\"#9c179e\"],[0.4444444444444444,\"#bd3786\"],[0.5555555555555556,\"#d8576b\"],[0.6666666666666666,\"#ed7953\"],[0.7777777777777778,\"#fb9f3a\"],[0.8888888888888888,\"#fdca26\"],[1.0,\"#f0f921\"]],\"type\":\"histogram2d\"}],\"histogram2dcontour\":[{\"colorbar\":{\"outlinewidth\":0,\"ticks\":\"\"},\"colorscale\":[[0.0,\"#0d0887\"],[0.1111111111111111,\"#46039f\"],[0.2222222222222222,\"#7201a8\"],[0.3333333333333333,\"#9c179e\"],[0.4444444444444444,\"#bd3786\"],[0.5555555555555556,\"#d8576b\"],[0.6666666666666666,\"#ed7953\"],[0.7777777777777778,\"#fb9f3a\"],[0.8888888888888888,\"#fdca26\"],[1.0,\"#f0f921\"]],\"type\":\"histogram2dcontour\"}],\"mesh3d\":[{\"colorbar\":{\"outlinewidth\":0,\"ticks\":\"\"},\"type\":\"mesh3d\"}],\"parcoords\":[{\"line\":{\"colorbar\":{\"outlinewidth\":0,\"ticks\":\"\"}},\"type\":\"parcoords\"}],\"pie\":[{\"automargin\":true,\"type\":\"pie\"}],\"scatter\":[{\"marker\":{\"colorbar\":{\"outlinewidth\":0,\"ticks\":\"\"}},\"type\":\"scatter\"}],\"scatter3d\":[{\"line\":{\"colorbar\":{\"outlinewidth\":0,\"ticks\":\"\"}},\"marker\":{\"colorbar\":{\"outlinewidth\":0,\"ticks\":\"\"}},\"type\":\"scatter3d\"}],\"scattercarpet\":[{\"marker\":{\"colorbar\":{\"outlinewidth\":0,\"ticks\":\"\"}},\"type\":\"scattercarpet\"}],\"scattergeo\":[{\"marker\":{\"colorbar\":{\"outlinewidth\":0,\"ticks\":\"\"}},\"type\":\"scattergeo\"}],\"scattergl\":[{\"marker\":{\"colorbar\":{\"outlinewidth\":0,\"ticks\":\"\"}},\"type\":\"scattergl\"}],\"scattermapbox\":[{\"marker\":{\"colorbar\":{\"outlinewidth\":0,\"ticks\":\"\"}},\"type\":\"scattermapbox\"}],\"scatterpolar\":[{\"marker\":{\"colorbar\":{\"outlinewidth\":0,\"ticks\":\"\"}},\"type\":\"scatterpolar\"}],\"scatterpolargl\":[{\"marker\":{\"colorbar\":{\"outlinewidth\":0,\"ticks\":\"\"}},\"type\":\"scatterpolargl\"}],\"scatterternary\":[{\"marker\":{\"colorbar\":{\"outlinewidth\":0,\"ticks\":\"\"}},\"type\":\"scatterternary\"}],\"surface\":[{\"colorbar\":{\"outlinewidth\":0,\"ticks\":\"\"},\"colorscale\":[[0.0,\"#0d0887\"],[0.1111111111111111,\"#46039f\"],[0.2222222222222222,\"#7201a8\"],[0.3333333333333333,\"#9c179e\"],[0.4444444444444444,\"#bd3786\"],[0.5555555555555556,\"#d8576b\"],[0.6666666666666666,\"#ed7953\"],[0.7777777777777778,\"#fb9f3a\"],[0.8888888888888888,\"#fdca26\"],[1.0,\"#f0f921\"]],\"type\":\"surface\"}],\"table\":[{\"cells\":{\"fill\":{\"color\":\"#EBF0F8\"},\"line\":{\"color\":\"white\"}},\"header\":{\"fill\":{\"color\":\"#C8D4E3\"},\"line\":{\"color\":\"white\"}},\"type\":\"table\"}]},\"layout\":{\"annotationdefaults\":{\"arrowcolor\":\"#2a3f5f\",\"arrowhead\":0,\"arrowwidth\":1},\"autotypenumbers\":\"strict\",\"coloraxis\":{\"colorbar\":{\"outlinewidth\":0,\"ticks\":\"\"}},\"colorscale\":{\"diverging\":[[0,\"#8e0152\"],[0.1,\"#c51b7d\"],[0.2,\"#de77ae\"],[0.3,\"#f1b6da\"],[0.4,\"#fde0ef\"],[0.5,\"#f7f7f7\"],[0.6,\"#e6f5d0\"],[0.7,\"#b8e186\"],[0.8,\"#7fbc41\"],[0.9,\"#4d9221\"],[1,\"#276419\"]],\"sequential\":[[0.0,\"#0d0887\"],[0.1111111111111111,\"#46039f\"],[0.2222222222222222,\"#7201a8\"],[0.3333333333333333,\"#9c179e\"],[0.4444444444444444,\"#bd3786\"],[0.5555555555555556,\"#d8576b\"],[0.6666666666666666,\"#ed7953\"],[0.7777777777777778,\"#fb9f3a\"],[0.8888888888888888,\"#fdca26\"],[1.0,\"#f0f921\"]],\"sequentialminus\":[[0.0,\"#0d0887\"],[0.1111111111111111,\"#46039f\"],[0.2222222222222222,\"#7201a8\"],[0.3333333333333333,\"#9c179e\"],[0.4444444444444444,\"#bd3786\"],[0.5555555555555556,\"#d8576b\"],[0.6666666666666666,\"#ed7953\"],[0.7777777777777778,\"#fb9f3a\"],[0.8888888888888888,\"#fdca26\"],[1.0,\"#f0f921\"]]},\"colorway\":[\"#636efa\",\"#EF553B\",\"#00cc96\",\"#ab63fa\",\"#FFA15A\",\"#19d3f3\",\"#FF6692\",\"#B6E880\",\"#FF97FF\",\"#FECB52\"],\"font\":{\"color\":\"#2a3f5f\"},\"geo\":{\"bgcolor\":\"white\",\"lakecolor\":\"white\",\"landcolor\":\"#E5ECF6\",\"showlakes\":true,\"showland\":true,\"subunitcolor\":\"white\"},\"hoverlabel\":{\"align\":\"left\"},\"hovermode\":\"closest\",\"mapbox\":{\"style\":\"light\"},\"paper_bgcolor\":\"white\",\"plot_bgcolor\":\"#E5ECF6\",\"polar\":{\"angularaxis\":{\"gridcolor\":\"white\",\"linecolor\":\"white\",\"ticks\":\"\"},\"bgcolor\":\"#E5ECF6\",\"radialaxis\":{\"gridcolor\":\"white\",\"linecolor\":\"white\",\"ticks\":\"\"}},\"scene\":{\"xaxis\":{\"backgroundcolor\":\"#E5ECF6\",\"gridcolor\":\"white\",\"gridwidth\":2,\"linecolor\":\"white\",\"showbackground\":true,\"ticks\":\"\",\"zerolinecolor\":\"white\"},\"yaxis\":{\"backgroundcolor\":\"#E5ECF6\",\"gridcolor\":\"white\",\"gridwidth\":2,\"linecolor\":\"white\",\"showbackground\":true,\"ticks\":\"\",\"zerolinecolor\":\"white\"},\"zaxis\":{\"backgroundcolor\":\"#E5ECF6\",\"gridcolor\":\"white\",\"gridwidth\":2,\"linecolor\":\"white\",\"showbackground\":true,\"ticks\":\"\",\"zerolinecolor\":\"white\"}},\"shapedefaults\":{\"line\":{\"color\":\"#2a3f5f\"}},\"ternary\":{\"aaxis\":{\"gridcolor\":\"white\",\"linecolor\":\"white\",\"ticks\":\"\"},\"baxis\":{\"gridcolor\":\"white\",\"linecolor\":\"white\",\"ticks\":\"\"},\"bgcolor\":\"#E5ECF6\",\"caxis\":{\"gridcolor\":\"white\",\"linecolor\":\"white\",\"ticks\":\"\"}},\"title\":{\"x\":0.05},\"xaxis\":{\"automargin\":true,\"gridcolor\":\"white\",\"linecolor\":\"white\",\"ticks\":\"\",\"title\":{\"standoff\":15},\"zerolinecolor\":\"white\",\"zerolinewidth\":2},\"yaxis\":{\"automargin\":true,\"gridcolor\":\"white\",\"linecolor\":\"white\",\"ticks\":\"\",\"title\":{\"standoff\":15},\"zerolinecolor\":\"white\",\"zerolinewidth\":2}}},\"xaxis\":{\"anchor\":\"y\",\"domain\":[0.0,1.0],\"title\":{\"text\":\"Hashtags\"}},\"yaxis\":{\"anchor\":\"x\",\"domain\":[0.0,1.0],\"title\":{\"text\":\"scores\"}},\"legend\":{\"tracegroupgap\":0},\"title\":{\"text\":\"Hashtags mas usados de la Jornada 5 de la Kings League\"},\"barmode\":\"relative\"},                        {\"responsive\": true}                    ).then(function(){\n",
              "                            \n",
              "var gd = document.getElementById('5f6f8e93-172d-4494-8971-95282e49b409');\n",
              "var x = new MutationObserver(function (mutations, observer) {{\n",
              "        var display = window.getComputedStyle(gd).display;\n",
              "        if (!display || display === 'none') {{\n",
              "            console.log([gd, 'removed!']);\n",
              "            Plotly.purge(gd);\n",
              "            observer.disconnect();\n",
              "        }}\n",
              "}});\n",
              "\n",
              "// Listen for the removal of the full notebook cells\n",
              "var notebookContainer = gd.closest('#notebook-container');\n",
              "if (notebookContainer) {{\n",
              "    x.observe(notebookContainer, {childList: true});\n",
              "}}\n",
              "\n",
              "// Listen for the clearing of the current output cell\n",
              "var outputEl = gd.closest('.output');\n",
              "if (outputEl) {{\n",
              "    x.observe(outputEl, {childList: true});\n",
              "}}\n",
              "\n",
              "                        })                };                            </script>        </div>\n",
              "</body>\n",
              "</html>"
            ]
          },
          "metadata": {}
        }
      ]
    },
    {
      "cell_type": "markdown",
      "source": [
        "#Conclusiones de los hashtags\n",
        "\n",
        "Los hashtags mas utilizados son de la propia kingsLeague como pueden ser:\n",
        "\n",
        "\n",
        "*   KingsLeagueJ5\n",
        "*   KingsLeague\n",
        "*   InfoJobs\n",
        "*   KingsLeaguej5\n",
        "\n",
        "Luego a nivel de losequipos que pertenecen a esta liga tenemos:\n",
        "\n",
        "\n",
        "*   AniquiladoresFC\n",
        "*   PioFC\n",
        "*   LosTroncosFC\n",
        "*   ElBarrioFc\n",
        "\n",
        "\n",
        "\n",
        "\n",
        "\n",
        "\n",
        "\n",
        "\n"
      ],
      "metadata": {
        "id": "6qbuALyfSN1I"
      }
    },
    {
      "cell_type": "markdown",
      "source": [
        "# Analisis de emociones de los tweets"
      ],
      "metadata": {
        "id": "03n9tkujTyJq"
      }
    },
    {
      "cell_type": "code",
      "source": [
        "#Removemos caracteres que puedan afectar la prediccion del modelo\n",
        "df['Tweet'] = df['Tweet'].apply(nt.remove_hashtags)\n",
        "df['Tweet'] = df['Tweet'].apply(nt.remove_emojis)\n",
        "df['Tweet'] = df['Tweet'].apply(nt.remove_numbers)\n",
        "df['Tweet'] = df['Tweet'].apply(nt.remove_special_characters)\n",
        "df['Tweet'] = df['Tweet'].apply(nt.remove_urls)\n",
        "df['Tweet'] = df['Tweet'].apply(nt.remove_currency_symbols)\n",
        "df['Tweet'] = df['Tweet'].apply(nt.remove_userhandles)"
      ],
      "metadata": {
        "id": "N4gDcNQjZtUC"
      },
      "execution_count": null,
      "outputs": []
    },
    {
      "cell_type": "code",
      "source": [
        "#Creamos una funcion para borrar caracteres especiales\n",
        "def clean_text(text):\n",
        "  text = re.sub(r'@[A-Za-z09]+', '', text)\n",
        "  text = re.sub(r'#', '', text)\n",
        "  text = re.sub(r'RT[\\s]+', '', text)\n",
        "  text = re.sub(r'https?:\\/\\/?', '', text)\n",
        "\n",
        "\n",
        "  return text\n",
        "\n",
        "df['Tweet'] = df['Tweet'].apply(clean_text)"
      ],
      "metadata": {
        "id": "p2SiWePFa7Wh"
      },
      "execution_count": null,
      "outputs": []
    },
    {
      "cell_type": "code",
      "source": [
        "#Creamos dos variables que analicen los sentimientos y emociones de los tweets\n",
        "analyzer = create_analyzer(task=\"sentiment\", lang=\"es\")\n",
        "emotion_analyzer = create_analyzer(task=\"emotion\", lang=\"es\")"
      ],
      "metadata": {
        "id": "KX7oyyP5Q0_2"
      },
      "execution_count": null,
      "outputs": []
    },
    {
      "cell_type": "code",
      "source": [
        "#Creamos dos funciones para el analisis \n",
        "def get_sentiment(Text):\n",
        "  return analyzer.predict(Text).output\n",
        "\n",
        "def get_emotion(Text):\n",
        "  return emotion_analyzer.predict(Text).output\n"
      ],
      "metadata": {
        "id": "3uvYSBhabc7Q"
      },
      "execution_count": null,
      "outputs": []
    },
    {
      "cell_type": "code",
      "source": [
        "df['Sentiment'] = df['Tweet'].apply(get_sentiment)"
      ],
      "metadata": {
        "colab": {
          "base_uri": "https://localhost:8080/"
        },
        "id": "yHfnKdpGexKM",
        "outputId": "ebe98258-9d71-469d-daa9-9b4436bb27a5"
      },
      "execution_count": null,
      "outputs": [
        {
          "output_type": "stream",
          "name": "stderr",
          "text": [
            "<ipython-input-29-c1634b6b7ced>:1: SettingWithCopyWarning:\n",
            "\n",
            "\n",
            "A value is trying to be set on a copy of a slice from a DataFrame.\n",
            "Try using .loc[row_indexer,col_indexer] = value instead\n",
            "\n",
            "See the caveats in the documentation: https://pandas.pydata.org/pandas-docs/stable/user_guide/indexing.html#returning-a-view-versus-a-copy\n",
            "\n"
          ]
        }
      ]
    },
    {
      "cell_type": "code",
      "source": [
        "df['Emotion'] = df['Tweet'].apply(get_emotion)"
      ],
      "metadata": {
        "colab": {
          "base_uri": "https://localhost:8080/"
        },
        "id": "qk9eMF5JqBkR",
        "outputId": "6a9bf6e4-2c3a-484f-bb4c-36ed8a5b53a7"
      },
      "execution_count": null,
      "outputs": [
        {
          "output_type": "stream",
          "name": "stderr",
          "text": [
            "<ipython-input-30-e23d33ea5937>:1: SettingWithCopyWarning:\n",
            "\n",
            "\n",
            "A value is trying to be set on a copy of a slice from a DataFrame.\n",
            "Try using .loc[row_indexer,col_indexer] = value instead\n",
            "\n",
            "See the caveats in the documentation: https://pandas.pydata.org/pandas-docs/stable/user_guide/indexing.html#returning-a-view-versus-a-copy\n",
            "\n"
          ]
        }
      ]
    },
    {
      "cell_type": "code",
      "source": [
        "#Contamos las variables\n",
        "count = df['Sentiment'].value_counts()\n",
        "count"
      ],
      "metadata": {
        "colab": {
          "base_uri": "https://localhost:8080/"
        },
        "id": "ETfPYkkaqCfU",
        "outputId": "a69b9706-7afc-4962-e264-6eb7482dc6de"
      },
      "execution_count": null,
      "outputs": [
        {
          "output_type": "execute_result",
          "data": {
            "text/plain": [
              "NEU    786\n",
              "NEG    385\n",
              "POS    246\n",
              "Name: Sentiment, dtype: int64"
            ]
          },
          "metadata": {},
          "execution_count": 31
        }
      ]
    },
    {
      "cell_type": "code",
      "source": [
        "fig = px.bar(count, title=\"Sentimientos de los tweets de la kings league jornada 5\", color=['red','blue','green'])\n",
        "fig.show()"
      ],
      "metadata": {
        "colab": {
          "base_uri": "https://localhost:8080/",
          "height": 542
        },
        "id": "A-lQ0SvUsHO8",
        "outputId": "20ef3abf-1993-4087-b851-8f13befed858"
      },
      "execution_count": null,
      "outputs": [
        {
          "output_type": "display_data",
          "data": {
            "text/html": [
              "<html>\n",
              "<head><meta charset=\"utf-8\" /></head>\n",
              "<body>\n",
              "    <div>            <script src=\"https://cdnjs.cloudflare.com/ajax/libs/mathjax/2.7.5/MathJax.js?config=TeX-AMS-MML_SVG\"></script><script type=\"text/javascript\">if (window.MathJax) {MathJax.Hub.Config({SVG: {font: \"STIX-Web\"}});}</script>                <script type=\"text/javascript\">window.PlotlyConfig = {MathJaxConfig: 'local'};</script>\n",
              "        <script src=\"https://cdn.plot.ly/plotly-2.8.3.min.js\"></script>                <div id=\"93ea47d6-d446-4e86-a4ef-d2fddfa78883\" class=\"plotly-graph-div\" style=\"height:525px; width:100%;\"></div>            <script type=\"text/javascript\">                                    window.PLOTLYENV=window.PLOTLYENV || {};                                    if (document.getElementById(\"93ea47d6-d446-4e86-a4ef-d2fddfa78883\")) {                    Plotly.newPlot(                        \"93ea47d6-d446-4e86-a4ef-d2fddfa78883\",                        [{\"alignmentgroup\":\"True\",\"hovertemplate\":\"color=red<br>index=%{x}<br>value=%{y}<extra></extra>\",\"legendgroup\":\"red\",\"marker\":{\"color\":\"#636efa\",\"pattern\":{\"shape\":\"\"}},\"name\":\"red\",\"offsetgroup\":\"red\",\"orientation\":\"v\",\"showlegend\":true,\"textposition\":\"auto\",\"x\":[\"NEU\"],\"xaxis\":\"x\",\"y\":[786],\"yaxis\":\"y\",\"type\":\"bar\"},{\"alignmentgroup\":\"True\",\"hovertemplate\":\"color=blue<br>index=%{x}<br>value=%{y}<extra></extra>\",\"legendgroup\":\"blue\",\"marker\":{\"color\":\"#EF553B\",\"pattern\":{\"shape\":\"\"}},\"name\":\"blue\",\"offsetgroup\":\"blue\",\"orientation\":\"v\",\"showlegend\":true,\"textposition\":\"auto\",\"x\":[\"NEG\"],\"xaxis\":\"x\",\"y\":[385],\"yaxis\":\"y\",\"type\":\"bar\"},{\"alignmentgroup\":\"True\",\"hovertemplate\":\"color=green<br>index=%{x}<br>value=%{y}<extra></extra>\",\"legendgroup\":\"green\",\"marker\":{\"color\":\"#00cc96\",\"pattern\":{\"shape\":\"\"}},\"name\":\"green\",\"offsetgroup\":\"green\",\"orientation\":\"v\",\"showlegend\":true,\"textposition\":\"auto\",\"x\":[\"POS\"],\"xaxis\":\"x\",\"y\":[246],\"yaxis\":\"y\",\"type\":\"bar\"}],                        {\"template\":{\"data\":{\"bar\":[{\"error_x\":{\"color\":\"#2a3f5f\"},\"error_y\":{\"color\":\"#2a3f5f\"},\"marker\":{\"line\":{\"color\":\"#E5ECF6\",\"width\":0.5},\"pattern\":{\"fillmode\":\"overlay\",\"size\":10,\"solidity\":0.2}},\"type\":\"bar\"}],\"barpolar\":[{\"marker\":{\"line\":{\"color\":\"#E5ECF6\",\"width\":0.5},\"pattern\":{\"fillmode\":\"overlay\",\"size\":10,\"solidity\":0.2}},\"type\":\"barpolar\"}],\"carpet\":[{\"aaxis\":{\"endlinecolor\":\"#2a3f5f\",\"gridcolor\":\"white\",\"linecolor\":\"white\",\"minorgridcolor\":\"white\",\"startlinecolor\":\"#2a3f5f\"},\"baxis\":{\"endlinecolor\":\"#2a3f5f\",\"gridcolor\":\"white\",\"linecolor\":\"white\",\"minorgridcolor\":\"white\",\"startlinecolor\":\"#2a3f5f\"},\"type\":\"carpet\"}],\"choropleth\":[{\"colorbar\":{\"outlinewidth\":0,\"ticks\":\"\"},\"type\":\"choropleth\"}],\"contour\":[{\"colorbar\":{\"outlinewidth\":0,\"ticks\":\"\"},\"colorscale\":[[0.0,\"#0d0887\"],[0.1111111111111111,\"#46039f\"],[0.2222222222222222,\"#7201a8\"],[0.3333333333333333,\"#9c179e\"],[0.4444444444444444,\"#bd3786\"],[0.5555555555555556,\"#d8576b\"],[0.6666666666666666,\"#ed7953\"],[0.7777777777777778,\"#fb9f3a\"],[0.8888888888888888,\"#fdca26\"],[1.0,\"#f0f921\"]],\"type\":\"contour\"}],\"contourcarpet\":[{\"colorbar\":{\"outlinewidth\":0,\"ticks\":\"\"},\"type\":\"contourcarpet\"}],\"heatmap\":[{\"colorbar\":{\"outlinewidth\":0,\"ticks\":\"\"},\"colorscale\":[[0.0,\"#0d0887\"],[0.1111111111111111,\"#46039f\"],[0.2222222222222222,\"#7201a8\"],[0.3333333333333333,\"#9c179e\"],[0.4444444444444444,\"#bd3786\"],[0.5555555555555556,\"#d8576b\"],[0.6666666666666666,\"#ed7953\"],[0.7777777777777778,\"#fb9f3a\"],[0.8888888888888888,\"#fdca26\"],[1.0,\"#f0f921\"]],\"type\":\"heatmap\"}],\"heatmapgl\":[{\"colorbar\":{\"outlinewidth\":0,\"ticks\":\"\"},\"colorscale\":[[0.0,\"#0d0887\"],[0.1111111111111111,\"#46039f\"],[0.2222222222222222,\"#7201a8\"],[0.3333333333333333,\"#9c179e\"],[0.4444444444444444,\"#bd3786\"],[0.5555555555555556,\"#d8576b\"],[0.6666666666666666,\"#ed7953\"],[0.7777777777777778,\"#fb9f3a\"],[0.8888888888888888,\"#fdca26\"],[1.0,\"#f0f921\"]],\"type\":\"heatmapgl\"}],\"histogram\":[{\"marker\":{\"pattern\":{\"fillmode\":\"overlay\",\"size\":10,\"solidity\":0.2}},\"type\":\"histogram\"}],\"histogram2d\":[{\"colorbar\":{\"outlinewidth\":0,\"ticks\":\"\"},\"colorscale\":[[0.0,\"#0d0887\"],[0.1111111111111111,\"#46039f\"],[0.2222222222222222,\"#7201a8\"],[0.3333333333333333,\"#9c179e\"],[0.4444444444444444,\"#bd3786\"],[0.5555555555555556,\"#d8576b\"],[0.6666666666666666,\"#ed7953\"],[0.7777777777777778,\"#fb9f3a\"],[0.8888888888888888,\"#fdca26\"],[1.0,\"#f0f921\"]],\"type\":\"histogram2d\"}],\"histogram2dcontour\":[{\"colorbar\":{\"outlinewidth\":0,\"ticks\":\"\"},\"colorscale\":[[0.0,\"#0d0887\"],[0.1111111111111111,\"#46039f\"],[0.2222222222222222,\"#7201a8\"],[0.3333333333333333,\"#9c179e\"],[0.4444444444444444,\"#bd3786\"],[0.5555555555555556,\"#d8576b\"],[0.6666666666666666,\"#ed7953\"],[0.7777777777777778,\"#fb9f3a\"],[0.8888888888888888,\"#fdca26\"],[1.0,\"#f0f921\"]],\"type\":\"histogram2dcontour\"}],\"mesh3d\":[{\"colorbar\":{\"outlinewidth\":0,\"ticks\":\"\"},\"type\":\"mesh3d\"}],\"parcoords\":[{\"line\":{\"colorbar\":{\"outlinewidth\":0,\"ticks\":\"\"}},\"type\":\"parcoords\"}],\"pie\":[{\"automargin\":true,\"type\":\"pie\"}],\"scatter\":[{\"marker\":{\"colorbar\":{\"outlinewidth\":0,\"ticks\":\"\"}},\"type\":\"scatter\"}],\"scatter3d\":[{\"line\":{\"colorbar\":{\"outlinewidth\":0,\"ticks\":\"\"}},\"marker\":{\"colorbar\":{\"outlinewidth\":0,\"ticks\":\"\"}},\"type\":\"scatter3d\"}],\"scattercarpet\":[{\"marker\":{\"colorbar\":{\"outlinewidth\":0,\"ticks\":\"\"}},\"type\":\"scattercarpet\"}],\"scattergeo\":[{\"marker\":{\"colorbar\":{\"outlinewidth\":0,\"ticks\":\"\"}},\"type\":\"scattergeo\"}],\"scattergl\":[{\"marker\":{\"colorbar\":{\"outlinewidth\":0,\"ticks\":\"\"}},\"type\":\"scattergl\"}],\"scattermapbox\":[{\"marker\":{\"colorbar\":{\"outlinewidth\":0,\"ticks\":\"\"}},\"type\":\"scattermapbox\"}],\"scatterpolar\":[{\"marker\":{\"colorbar\":{\"outlinewidth\":0,\"ticks\":\"\"}},\"type\":\"scatterpolar\"}],\"scatterpolargl\":[{\"marker\":{\"colorbar\":{\"outlinewidth\":0,\"ticks\":\"\"}},\"type\":\"scatterpolargl\"}],\"scatterternary\":[{\"marker\":{\"colorbar\":{\"outlinewidth\":0,\"ticks\":\"\"}},\"type\":\"scatterternary\"}],\"surface\":[{\"colorbar\":{\"outlinewidth\":0,\"ticks\":\"\"},\"colorscale\":[[0.0,\"#0d0887\"],[0.1111111111111111,\"#46039f\"],[0.2222222222222222,\"#7201a8\"],[0.3333333333333333,\"#9c179e\"],[0.4444444444444444,\"#bd3786\"],[0.5555555555555556,\"#d8576b\"],[0.6666666666666666,\"#ed7953\"],[0.7777777777777778,\"#fb9f3a\"],[0.8888888888888888,\"#fdca26\"],[1.0,\"#f0f921\"]],\"type\":\"surface\"}],\"table\":[{\"cells\":{\"fill\":{\"color\":\"#EBF0F8\"},\"line\":{\"color\":\"white\"}},\"header\":{\"fill\":{\"color\":\"#C8D4E3\"},\"line\":{\"color\":\"white\"}},\"type\":\"table\"}]},\"layout\":{\"annotationdefaults\":{\"arrowcolor\":\"#2a3f5f\",\"arrowhead\":0,\"arrowwidth\":1},\"autotypenumbers\":\"strict\",\"coloraxis\":{\"colorbar\":{\"outlinewidth\":0,\"ticks\":\"\"}},\"colorscale\":{\"diverging\":[[0,\"#8e0152\"],[0.1,\"#c51b7d\"],[0.2,\"#de77ae\"],[0.3,\"#f1b6da\"],[0.4,\"#fde0ef\"],[0.5,\"#f7f7f7\"],[0.6,\"#e6f5d0\"],[0.7,\"#b8e186\"],[0.8,\"#7fbc41\"],[0.9,\"#4d9221\"],[1,\"#276419\"]],\"sequential\":[[0.0,\"#0d0887\"],[0.1111111111111111,\"#46039f\"],[0.2222222222222222,\"#7201a8\"],[0.3333333333333333,\"#9c179e\"],[0.4444444444444444,\"#bd3786\"],[0.5555555555555556,\"#d8576b\"],[0.6666666666666666,\"#ed7953\"],[0.7777777777777778,\"#fb9f3a\"],[0.8888888888888888,\"#fdca26\"],[1.0,\"#f0f921\"]],\"sequentialminus\":[[0.0,\"#0d0887\"],[0.1111111111111111,\"#46039f\"],[0.2222222222222222,\"#7201a8\"],[0.3333333333333333,\"#9c179e\"],[0.4444444444444444,\"#bd3786\"],[0.5555555555555556,\"#d8576b\"],[0.6666666666666666,\"#ed7953\"],[0.7777777777777778,\"#fb9f3a\"],[0.8888888888888888,\"#fdca26\"],[1.0,\"#f0f921\"]]},\"colorway\":[\"#636efa\",\"#EF553B\",\"#00cc96\",\"#ab63fa\",\"#FFA15A\",\"#19d3f3\",\"#FF6692\",\"#B6E880\",\"#FF97FF\",\"#FECB52\"],\"font\":{\"color\":\"#2a3f5f\"},\"geo\":{\"bgcolor\":\"white\",\"lakecolor\":\"white\",\"landcolor\":\"#E5ECF6\",\"showlakes\":true,\"showland\":true,\"subunitcolor\":\"white\"},\"hoverlabel\":{\"align\":\"left\"},\"hovermode\":\"closest\",\"mapbox\":{\"style\":\"light\"},\"paper_bgcolor\":\"white\",\"plot_bgcolor\":\"#E5ECF6\",\"polar\":{\"angularaxis\":{\"gridcolor\":\"white\",\"linecolor\":\"white\",\"ticks\":\"\"},\"bgcolor\":\"#E5ECF6\",\"radialaxis\":{\"gridcolor\":\"white\",\"linecolor\":\"white\",\"ticks\":\"\"}},\"scene\":{\"xaxis\":{\"backgroundcolor\":\"#E5ECF6\",\"gridcolor\":\"white\",\"gridwidth\":2,\"linecolor\":\"white\",\"showbackground\":true,\"ticks\":\"\",\"zerolinecolor\":\"white\"},\"yaxis\":{\"backgroundcolor\":\"#E5ECF6\",\"gridcolor\":\"white\",\"gridwidth\":2,\"linecolor\":\"white\",\"showbackground\":true,\"ticks\":\"\",\"zerolinecolor\":\"white\"},\"zaxis\":{\"backgroundcolor\":\"#E5ECF6\",\"gridcolor\":\"white\",\"gridwidth\":2,\"linecolor\":\"white\",\"showbackground\":true,\"ticks\":\"\",\"zerolinecolor\":\"white\"}},\"shapedefaults\":{\"line\":{\"color\":\"#2a3f5f\"}},\"ternary\":{\"aaxis\":{\"gridcolor\":\"white\",\"linecolor\":\"white\",\"ticks\":\"\"},\"baxis\":{\"gridcolor\":\"white\",\"linecolor\":\"white\",\"ticks\":\"\"},\"bgcolor\":\"#E5ECF6\",\"caxis\":{\"gridcolor\":\"white\",\"linecolor\":\"white\",\"ticks\":\"\"}},\"title\":{\"x\":0.05},\"xaxis\":{\"automargin\":true,\"gridcolor\":\"white\",\"linecolor\":\"white\",\"ticks\":\"\",\"title\":{\"standoff\":15},\"zerolinecolor\":\"white\",\"zerolinewidth\":2},\"yaxis\":{\"automargin\":true,\"gridcolor\":\"white\",\"linecolor\":\"white\",\"ticks\":\"\",\"title\":{\"standoff\":15},\"zerolinecolor\":\"white\",\"zerolinewidth\":2}}},\"xaxis\":{\"anchor\":\"y\",\"domain\":[0.0,1.0],\"title\":{\"text\":\"index\"}},\"yaxis\":{\"anchor\":\"x\",\"domain\":[0.0,1.0],\"title\":{\"text\":\"value\"}},\"legend\":{\"title\":{\"text\":\"color\"},\"tracegroupgap\":0},\"title\":{\"text\":\"Sentimientos de los tweets de la kings league jornada 5\"},\"barmode\":\"relative\"},                        {\"responsive\": true}                    ).then(function(){\n",
              "                            \n",
              "var gd = document.getElementById('93ea47d6-d446-4e86-a4ef-d2fddfa78883');\n",
              "var x = new MutationObserver(function (mutations, observer) {{\n",
              "        var display = window.getComputedStyle(gd).display;\n",
              "        if (!display || display === 'none') {{\n",
              "            console.log([gd, 'removed!']);\n",
              "            Plotly.purge(gd);\n",
              "            observer.disconnect();\n",
              "        }}\n",
              "}});\n",
              "\n",
              "// Listen for the removal of the full notebook cells\n",
              "var notebookContainer = gd.closest('#notebook-container');\n",
              "if (notebookContainer) {{\n",
              "    x.observe(notebookContainer, {childList: true});\n",
              "}}\n",
              "\n",
              "// Listen for the clearing of the current output cell\n",
              "var outputEl = gd.closest('.output');\n",
              "if (outputEl) {{\n",
              "    x.observe(outputEl, {childList: true});\n",
              "}}\n",
              "\n",
              "                        })                };                            </script>        </div>\n",
              "</body>\n",
              "</html>"
            ]
          },
          "metadata": {}
        }
      ]
    },
    {
      "cell_type": "markdown",
      "source": [
        "#Conclusiones de el analisis de emociones\n",
        "\n",
        "Podemos concluir que hay mas comentarios negativos que positivos pero lo que mas se resalta es los comentarios neutros con una alta diferencia.\n",
        "\n",
        "\n",
        "\n",
        "1.   Neutros: 786\n",
        "2.   Negativos: 385\n",
        "3.   Positivos: 246\n",
        "\n",
        "\n",
        "\n"
      ],
      "metadata": {
        "id": "AcEbDN3kUx6w"
      }
    },
    {
      "cell_type": "code",
      "source": [
        "# Creamos tres sets de datos con los diferentes tipos de comentarios\n",
        "positive_tweet = df[df['Sentiment'] == 'POS']\n",
        "neutral_tweet = df[df['Sentiment'] == 'NEU']\n",
        "negative_tweet = df[df['Sentiment'] == 'NEG']"
      ],
      "metadata": {
        "id": "nFZQTvg6sY20"
      },
      "execution_count": null,
      "outputs": []
    },
    {
      "cell_type": "code",
      "source": [
        "print(stopwords.words('spanish'))"
      ],
      "metadata": {
        "colab": {
          "base_uri": "https://localhost:8080/"
        },
        "id": "TH732Z77si93",
        "outputId": "40cd7a75-4e0b-448b-cc69-336f316334d6"
      },
      "execution_count": null,
      "outputs": [
        {
          "output_type": "stream",
          "name": "stdout",
          "text": [
            "['de', 'la', 'que', 'el', 'en', 'y', 'a', 'los', 'del', 'se', 'las', 'por', 'un', 'para', 'con', 'no', 'una', 'su', 'al', 'lo', 'como', 'más', 'pero', 'sus', 'le', 'ya', 'o', 'este', 'sí', 'porque', 'esta', 'entre', 'cuando', 'muy', 'sin', 'sobre', 'también', 'me', 'hasta', 'hay', 'donde', 'quien', 'desde', 'todo', 'nos', 'durante', 'todos', 'uno', 'les', 'ni', 'contra', 'otros', 'ese', 'eso', 'ante', 'ellos', 'e', 'esto', 'mí', 'antes', 'algunos', 'qué', 'unos', 'yo', 'otro', 'otras', 'otra', 'él', 'tanto', 'esa', 'estos', 'mucho', 'quienes', 'nada', 'muchos', 'cual', 'poco', 'ella', 'estar', 'estas', 'algunas', 'algo', 'nosotros', 'mi', 'mis', 'tú', 'te', 'ti', 'tu', 'tus', 'ellas', 'nosotras', 'vosotros', 'vosotras', 'os', 'mío', 'mía', 'míos', 'mías', 'tuyo', 'tuya', 'tuyos', 'tuyas', 'suyo', 'suya', 'suyos', 'suyas', 'nuestro', 'nuestra', 'nuestros', 'nuestras', 'vuestro', 'vuestra', 'vuestros', 'vuestras', 'esos', 'esas', 'estoy', 'estás', 'está', 'estamos', 'estáis', 'están', 'esté', 'estés', 'estemos', 'estéis', 'estén', 'estaré', 'estarás', 'estará', 'estaremos', 'estaréis', 'estarán', 'estaría', 'estarías', 'estaríamos', 'estaríais', 'estarían', 'estaba', 'estabas', 'estábamos', 'estabais', 'estaban', 'estuve', 'estuviste', 'estuvo', 'estuvimos', 'estuvisteis', 'estuvieron', 'estuviera', 'estuvieras', 'estuviéramos', 'estuvierais', 'estuvieran', 'estuviese', 'estuvieses', 'estuviésemos', 'estuvieseis', 'estuviesen', 'estando', 'estado', 'estada', 'estados', 'estadas', 'estad', 'he', 'has', 'ha', 'hemos', 'habéis', 'han', 'haya', 'hayas', 'hayamos', 'hayáis', 'hayan', 'habré', 'habrás', 'habrá', 'habremos', 'habréis', 'habrán', 'habría', 'habrías', 'habríamos', 'habríais', 'habrían', 'había', 'habías', 'habíamos', 'habíais', 'habían', 'hube', 'hubiste', 'hubo', 'hubimos', 'hubisteis', 'hubieron', 'hubiera', 'hubieras', 'hubiéramos', 'hubierais', 'hubieran', 'hubiese', 'hubieses', 'hubiésemos', 'hubieseis', 'hubiesen', 'habiendo', 'habido', 'habida', 'habidos', 'habidas', 'soy', 'eres', 'es', 'somos', 'sois', 'son', 'sea', 'seas', 'seamos', 'seáis', 'sean', 'seré', 'serás', 'será', 'seremos', 'seréis', 'serán', 'sería', 'serías', 'seríamos', 'seríais', 'serían', 'era', 'eras', 'éramos', 'erais', 'eran', 'fui', 'fuiste', 'fue', 'fuimos', 'fuisteis', 'fueron', 'fuera', 'fueras', 'fuéramos', 'fuerais', 'fueran', 'fuese', 'fueses', 'fuésemos', 'fueseis', 'fuesen', 'sintiendo', 'sentido', 'sentida', 'sentidos', 'sentidas', 'siente', 'sentid', 'tengo', 'tienes', 'tiene', 'tenemos', 'tenéis', 'tienen', 'tenga', 'tengas', 'tengamos', 'tengáis', 'tengan', 'tendré', 'tendrás', 'tendrá', 'tendremos', 'tendréis', 'tendrán', 'tendría', 'tendrías', 'tendríamos', 'tendríais', 'tendrían', 'tenía', 'tenías', 'teníamos', 'teníais', 'tenían', 'tuve', 'tuviste', 'tuvo', 'tuvimos', 'tuvisteis', 'tuvieron', 'tuviera', 'tuvieras', 'tuviéramos', 'tuvierais', 'tuvieran', 'tuviese', 'tuvieses', 'tuviésemos', 'tuvieseis', 'tuviesen', 'teniendo', 'tenido', 'tenida', 'tenidos', 'tenidas', 'tened']\n"
          ]
        }
      ]
    },
    {
      "cell_type": "code",
      "source": [
        "#Eliminamos las preposiciones, adverbios y adjetivos\n",
        "def textdrop(text):\n",
        "\n",
        "  sw = stopwords.words('spanish')\n",
        "\n",
        "  text = [word.lower() for word in text.split() if word.lower() not in sw]\n",
        "\n",
        "  return \" \".join(text)"
      ],
      "metadata": {
        "id": "lBHjAR2JsnbD"
      },
      "execution_count": null,
      "outputs": []
    },
    {
      "cell_type": "code",
      "source": [
        "positive_tweet['Tweet'] = positive_tweet['Tweet'].apply(textdrop)\n",
        "neutral_tweet['Tweet'] = neutral_tweet['Tweet'].apply(textdrop)\n",
        "negative_tweet['Tweet'] = negative_tweet['Tweet'].apply(textdrop)"
      ],
      "metadata": {
        "id": "qcGCLpgBssED"
      },
      "execution_count": null,
      "outputs": []
    },
    {
      "cell_type": "code",
      "source": [
        "tokenPositive = positive_tweet['Tweet']\n",
        "tokenNeutral = neutral_tweet['Tweet']\n",
        "tokenNegative = negative_tweet['Tweet']"
      ],
      "metadata": {
        "id": "AzifsMGJsxjD"
      },
      "execution_count": null,
      "outputs": []
    },
    {
      "cell_type": "code",
      "source": [
        "#Tokenizamos los tweets\n",
        "pos_tokens = [token for line in tokenPositive  for token in line.split()]\n",
        "neg_tokens = [token for line in tokenNeutral  for token in line.split()]\n",
        "neut_tokens = [token for line in tokenNegative  for token in line.split()]"
      ],
      "metadata": {
        "id": "uT-CuUTYs0-L"
      },
      "execution_count": null,
      "outputs": []
    },
    {
      "cell_type": "code",
      "source": [
        "word_pos = get_tokens(pos_tokens)\n",
        "word_neu = get_tokens(neut_tokens)\n",
        "word_neg = get_tokens(neg_tokens)"
      ],
      "metadata": {
        "id": "oiLV0ra9s4CU"
      },
      "execution_count": null,
      "outputs": []
    },
    {
      "cell_type": "code",
      "source": [
        "#Creamos 3 sets de datos con las palabras y el contador \n",
        "pos_df = pd.DataFrame(word_pos.items(),columns=['words','scores'])\n",
        "neut_df = pd.DataFrame(word_neu.items(),columns=['words','scores'])\n",
        "neg_df = pd.DataFrame(word_neg.items(),columns=['words','scores'])"
      ],
      "metadata": {
        "id": "RuzpBcvHs8_j"
      },
      "execution_count": null,
      "outputs": []
    },
    {
      "cell_type": "code",
      "source": [
        "fig = px.bar(data, title=\"Palabras mas usadas en los tweets positivos de la Jornada 5 de la Kings League\",x=pos_df['words'], y=pos_df['scores'])\n",
        "fig.show()"
      ],
      "metadata": {
        "colab": {
          "base_uri": "https://localhost:8080/",
          "height": 542
        },
        "id": "k85es1zqtAFD",
        "outputId": "ac37aeb7-d62c-4f2b-b73f-144988feb6a8"
      },
      "execution_count": null,
      "outputs": [
        {
          "output_type": "display_data",
          "data": {
            "text/html": [
              "<html>\n",
              "<head><meta charset=\"utf-8\" /></head>\n",
              "<body>\n",
              "    <div>            <script src=\"https://cdnjs.cloudflare.com/ajax/libs/mathjax/2.7.5/MathJax.js?config=TeX-AMS-MML_SVG\"></script><script type=\"text/javascript\">if (window.MathJax) {MathJax.Hub.Config({SVG: {font: \"STIX-Web\"}});}</script>                <script type=\"text/javascript\">window.PlotlyConfig = {MathJaxConfig: 'local'};</script>\n",
              "        <script src=\"https://cdn.plot.ly/plotly-2.8.3.min.js\"></script>                <div id=\"b1983a8d-99be-4fc8-844d-b2a65b2de4e2\" class=\"plotly-graph-div\" style=\"height:525px; width:100%;\"></div>            <script type=\"text/javascript\">                                    window.PLOTLYENV=window.PLOTLYENV || {};                                    if (document.getElementById(\"b1983a8d-99be-4fc8-844d-b2a65b2de4e2\")) {                    Plotly.newPlot(                        \"b1983a8d-99be-4fc8-844d-b2a65b2de4e2\",                        [{\"alignmentgroup\":\"True\",\"hovertemplate\":\"x=%{x}<br>y=%{y}<extra></extra>\",\"legendgroup\":\"\",\"marker\":{\"color\":\"#636efa\",\"pattern\":{\"shape\":\"\"}},\"name\":\"\",\"offsetgroup\":\"\",\"orientation\":\"v\",\"showlegend\":false,\"textposition\":\"auto\",\"x\":[\"partido\",\"kingsleague\",\"vamos\",\"mejor\",\"golazo\",\"vs\",\"siempre\",\"league\",\"equipo\",\"gana\",\"kings\",\"locura\",\"hoy\",\"bueno\",\"qu\",\"thegrefg\",\"poch\",\"jornada\",\"lostroncosfc\",\"ms\",\"aniquiladores\",\"partidazo\",\"victoria\",\"saiyansfc\",\"xbuyerteam\",\"kfutbolclub\",\"vaya\",\"hace\",\"aniquiladoresfc\",\"rayodebarcelona\",\"gerardromero\",\"grefg\",\"si\",\"pio\",\"dios\",\"gol\",\"grande\",\"rayo\",\"bien\",\"remontada\"],\"xaxis\":\"x\",\"y\":[28,21,20,17,17,16,15,15,15,15,14,14,13,13,13,13,13,12,12,12,12,12,12,12,10,10,10,9,9,9,9,9,8,8,8,8,8,7,7,7],\"yaxis\":\"y\",\"type\":\"bar\"}],                        {\"template\":{\"data\":{\"bar\":[{\"error_x\":{\"color\":\"#2a3f5f\"},\"error_y\":{\"color\":\"#2a3f5f\"},\"marker\":{\"line\":{\"color\":\"#E5ECF6\",\"width\":0.5},\"pattern\":{\"fillmode\":\"overlay\",\"size\":10,\"solidity\":0.2}},\"type\":\"bar\"}],\"barpolar\":[{\"marker\":{\"line\":{\"color\":\"#E5ECF6\",\"width\":0.5},\"pattern\":{\"fillmode\":\"overlay\",\"size\":10,\"solidity\":0.2}},\"type\":\"barpolar\"}],\"carpet\":[{\"aaxis\":{\"endlinecolor\":\"#2a3f5f\",\"gridcolor\":\"white\",\"linecolor\":\"white\",\"minorgridcolor\":\"white\",\"startlinecolor\":\"#2a3f5f\"},\"baxis\":{\"endlinecolor\":\"#2a3f5f\",\"gridcolor\":\"white\",\"linecolor\":\"white\",\"minorgridcolor\":\"white\",\"startlinecolor\":\"#2a3f5f\"},\"type\":\"carpet\"}],\"choropleth\":[{\"colorbar\":{\"outlinewidth\":0,\"ticks\":\"\"},\"type\":\"choropleth\"}],\"contour\":[{\"colorbar\":{\"outlinewidth\":0,\"ticks\":\"\"},\"colorscale\":[[0.0,\"#0d0887\"],[0.1111111111111111,\"#46039f\"],[0.2222222222222222,\"#7201a8\"],[0.3333333333333333,\"#9c179e\"],[0.4444444444444444,\"#bd3786\"],[0.5555555555555556,\"#d8576b\"],[0.6666666666666666,\"#ed7953\"],[0.7777777777777778,\"#fb9f3a\"],[0.8888888888888888,\"#fdca26\"],[1.0,\"#f0f921\"]],\"type\":\"contour\"}],\"contourcarpet\":[{\"colorbar\":{\"outlinewidth\":0,\"ticks\":\"\"},\"type\":\"contourcarpet\"}],\"heatmap\":[{\"colorbar\":{\"outlinewidth\":0,\"ticks\":\"\"},\"colorscale\":[[0.0,\"#0d0887\"],[0.1111111111111111,\"#46039f\"],[0.2222222222222222,\"#7201a8\"],[0.3333333333333333,\"#9c179e\"],[0.4444444444444444,\"#bd3786\"],[0.5555555555555556,\"#d8576b\"],[0.6666666666666666,\"#ed7953\"],[0.7777777777777778,\"#fb9f3a\"],[0.8888888888888888,\"#fdca26\"],[1.0,\"#f0f921\"]],\"type\":\"heatmap\"}],\"heatmapgl\":[{\"colorbar\":{\"outlinewidth\":0,\"ticks\":\"\"},\"colorscale\":[[0.0,\"#0d0887\"],[0.1111111111111111,\"#46039f\"],[0.2222222222222222,\"#7201a8\"],[0.3333333333333333,\"#9c179e\"],[0.4444444444444444,\"#bd3786\"],[0.5555555555555556,\"#d8576b\"],[0.6666666666666666,\"#ed7953\"],[0.7777777777777778,\"#fb9f3a\"],[0.8888888888888888,\"#fdca26\"],[1.0,\"#f0f921\"]],\"type\":\"heatmapgl\"}],\"histogram\":[{\"marker\":{\"pattern\":{\"fillmode\":\"overlay\",\"size\":10,\"solidity\":0.2}},\"type\":\"histogram\"}],\"histogram2d\":[{\"colorbar\":{\"outlinewidth\":0,\"ticks\":\"\"},\"colorscale\":[[0.0,\"#0d0887\"],[0.1111111111111111,\"#46039f\"],[0.2222222222222222,\"#7201a8\"],[0.3333333333333333,\"#9c179e\"],[0.4444444444444444,\"#bd3786\"],[0.5555555555555556,\"#d8576b\"],[0.6666666666666666,\"#ed7953\"],[0.7777777777777778,\"#fb9f3a\"],[0.8888888888888888,\"#fdca26\"],[1.0,\"#f0f921\"]],\"type\":\"histogram2d\"}],\"histogram2dcontour\":[{\"colorbar\":{\"outlinewidth\":0,\"ticks\":\"\"},\"colorscale\":[[0.0,\"#0d0887\"],[0.1111111111111111,\"#46039f\"],[0.2222222222222222,\"#7201a8\"],[0.3333333333333333,\"#9c179e\"],[0.4444444444444444,\"#bd3786\"],[0.5555555555555556,\"#d8576b\"],[0.6666666666666666,\"#ed7953\"],[0.7777777777777778,\"#fb9f3a\"],[0.8888888888888888,\"#fdca26\"],[1.0,\"#f0f921\"]],\"type\":\"histogram2dcontour\"}],\"mesh3d\":[{\"colorbar\":{\"outlinewidth\":0,\"ticks\":\"\"},\"type\":\"mesh3d\"}],\"parcoords\":[{\"line\":{\"colorbar\":{\"outlinewidth\":0,\"ticks\":\"\"}},\"type\":\"parcoords\"}],\"pie\":[{\"automargin\":true,\"type\":\"pie\"}],\"scatter\":[{\"marker\":{\"colorbar\":{\"outlinewidth\":0,\"ticks\":\"\"}},\"type\":\"scatter\"}],\"scatter3d\":[{\"line\":{\"colorbar\":{\"outlinewidth\":0,\"ticks\":\"\"}},\"marker\":{\"colorbar\":{\"outlinewidth\":0,\"ticks\":\"\"}},\"type\":\"scatter3d\"}],\"scattercarpet\":[{\"marker\":{\"colorbar\":{\"outlinewidth\":0,\"ticks\":\"\"}},\"type\":\"scattercarpet\"}],\"scattergeo\":[{\"marker\":{\"colorbar\":{\"outlinewidth\":0,\"ticks\":\"\"}},\"type\":\"scattergeo\"}],\"scattergl\":[{\"marker\":{\"colorbar\":{\"outlinewidth\":0,\"ticks\":\"\"}},\"type\":\"scattergl\"}],\"scattermapbox\":[{\"marker\":{\"colorbar\":{\"outlinewidth\":0,\"ticks\":\"\"}},\"type\":\"scattermapbox\"}],\"scatterpolar\":[{\"marker\":{\"colorbar\":{\"outlinewidth\":0,\"ticks\":\"\"}},\"type\":\"scatterpolar\"}],\"scatterpolargl\":[{\"marker\":{\"colorbar\":{\"outlinewidth\":0,\"ticks\":\"\"}},\"type\":\"scatterpolargl\"}],\"scatterternary\":[{\"marker\":{\"colorbar\":{\"outlinewidth\":0,\"ticks\":\"\"}},\"type\":\"scatterternary\"}],\"surface\":[{\"colorbar\":{\"outlinewidth\":0,\"ticks\":\"\"},\"colorscale\":[[0.0,\"#0d0887\"],[0.1111111111111111,\"#46039f\"],[0.2222222222222222,\"#7201a8\"],[0.3333333333333333,\"#9c179e\"],[0.4444444444444444,\"#bd3786\"],[0.5555555555555556,\"#d8576b\"],[0.6666666666666666,\"#ed7953\"],[0.7777777777777778,\"#fb9f3a\"],[0.8888888888888888,\"#fdca26\"],[1.0,\"#f0f921\"]],\"type\":\"surface\"}],\"table\":[{\"cells\":{\"fill\":{\"color\":\"#EBF0F8\"},\"line\":{\"color\":\"white\"}},\"header\":{\"fill\":{\"color\":\"#C8D4E3\"},\"line\":{\"color\":\"white\"}},\"type\":\"table\"}]},\"layout\":{\"annotationdefaults\":{\"arrowcolor\":\"#2a3f5f\",\"arrowhead\":0,\"arrowwidth\":1},\"autotypenumbers\":\"strict\",\"coloraxis\":{\"colorbar\":{\"outlinewidth\":0,\"ticks\":\"\"}},\"colorscale\":{\"diverging\":[[0,\"#8e0152\"],[0.1,\"#c51b7d\"],[0.2,\"#de77ae\"],[0.3,\"#f1b6da\"],[0.4,\"#fde0ef\"],[0.5,\"#f7f7f7\"],[0.6,\"#e6f5d0\"],[0.7,\"#b8e186\"],[0.8,\"#7fbc41\"],[0.9,\"#4d9221\"],[1,\"#276419\"]],\"sequential\":[[0.0,\"#0d0887\"],[0.1111111111111111,\"#46039f\"],[0.2222222222222222,\"#7201a8\"],[0.3333333333333333,\"#9c179e\"],[0.4444444444444444,\"#bd3786\"],[0.5555555555555556,\"#d8576b\"],[0.6666666666666666,\"#ed7953\"],[0.7777777777777778,\"#fb9f3a\"],[0.8888888888888888,\"#fdca26\"],[1.0,\"#f0f921\"]],\"sequentialminus\":[[0.0,\"#0d0887\"],[0.1111111111111111,\"#46039f\"],[0.2222222222222222,\"#7201a8\"],[0.3333333333333333,\"#9c179e\"],[0.4444444444444444,\"#bd3786\"],[0.5555555555555556,\"#d8576b\"],[0.6666666666666666,\"#ed7953\"],[0.7777777777777778,\"#fb9f3a\"],[0.8888888888888888,\"#fdca26\"],[1.0,\"#f0f921\"]]},\"colorway\":[\"#636efa\",\"#EF553B\",\"#00cc96\",\"#ab63fa\",\"#FFA15A\",\"#19d3f3\",\"#FF6692\",\"#B6E880\",\"#FF97FF\",\"#FECB52\"],\"font\":{\"color\":\"#2a3f5f\"},\"geo\":{\"bgcolor\":\"white\",\"lakecolor\":\"white\",\"landcolor\":\"#E5ECF6\",\"showlakes\":true,\"showland\":true,\"subunitcolor\":\"white\"},\"hoverlabel\":{\"align\":\"left\"},\"hovermode\":\"closest\",\"mapbox\":{\"style\":\"light\"},\"paper_bgcolor\":\"white\",\"plot_bgcolor\":\"#E5ECF6\",\"polar\":{\"angularaxis\":{\"gridcolor\":\"white\",\"linecolor\":\"white\",\"ticks\":\"\"},\"bgcolor\":\"#E5ECF6\",\"radialaxis\":{\"gridcolor\":\"white\",\"linecolor\":\"white\",\"ticks\":\"\"}},\"scene\":{\"xaxis\":{\"backgroundcolor\":\"#E5ECF6\",\"gridcolor\":\"white\",\"gridwidth\":2,\"linecolor\":\"white\",\"showbackground\":true,\"ticks\":\"\",\"zerolinecolor\":\"white\"},\"yaxis\":{\"backgroundcolor\":\"#E5ECF6\",\"gridcolor\":\"white\",\"gridwidth\":2,\"linecolor\":\"white\",\"showbackground\":true,\"ticks\":\"\",\"zerolinecolor\":\"white\"},\"zaxis\":{\"backgroundcolor\":\"#E5ECF6\",\"gridcolor\":\"white\",\"gridwidth\":2,\"linecolor\":\"white\",\"showbackground\":true,\"ticks\":\"\",\"zerolinecolor\":\"white\"}},\"shapedefaults\":{\"line\":{\"color\":\"#2a3f5f\"}},\"ternary\":{\"aaxis\":{\"gridcolor\":\"white\",\"linecolor\":\"white\",\"ticks\":\"\"},\"baxis\":{\"gridcolor\":\"white\",\"linecolor\":\"white\",\"ticks\":\"\"},\"bgcolor\":\"#E5ECF6\",\"caxis\":{\"gridcolor\":\"white\",\"linecolor\":\"white\",\"ticks\":\"\"}},\"title\":{\"x\":0.05},\"xaxis\":{\"automargin\":true,\"gridcolor\":\"white\",\"linecolor\":\"white\",\"ticks\":\"\",\"title\":{\"standoff\":15},\"zerolinecolor\":\"white\",\"zerolinewidth\":2},\"yaxis\":{\"automargin\":true,\"gridcolor\":\"white\",\"linecolor\":\"white\",\"ticks\":\"\",\"title\":{\"standoff\":15},\"zerolinecolor\":\"white\",\"zerolinewidth\":2}}},\"xaxis\":{\"anchor\":\"y\",\"domain\":[0.0,1.0],\"title\":{\"text\":\"x\"}},\"yaxis\":{\"anchor\":\"x\",\"domain\":[0.0,1.0],\"title\":{\"text\":\"y\"}},\"legend\":{\"tracegroupgap\":0},\"title\":{\"text\":\"Palabras mas usadas en los tweets positivos de la Jornada 5 de la Kings League\"},\"barmode\":\"relative\"},                        {\"responsive\": true}                    ).then(function(){\n",
              "                            \n",
              "var gd = document.getElementById('b1983a8d-99be-4fc8-844d-b2a65b2de4e2');\n",
              "var x = new MutationObserver(function (mutations, observer) {{\n",
              "        var display = window.getComputedStyle(gd).display;\n",
              "        if (!display || display === 'none') {{\n",
              "            console.log([gd, 'removed!']);\n",
              "            Plotly.purge(gd);\n",
              "            observer.disconnect();\n",
              "        }}\n",
              "}});\n",
              "\n",
              "// Listen for the removal of the full notebook cells\n",
              "var notebookContainer = gd.closest('#notebook-container');\n",
              "if (notebookContainer) {{\n",
              "    x.observe(notebookContainer, {childList: true});\n",
              "}}\n",
              "\n",
              "// Listen for the clearing of the current output cell\n",
              "var outputEl = gd.closest('.output');\n",
              "if (outputEl) {{\n",
              "    x.observe(outputEl, {childList: true});\n",
              "}}\n",
              "\n",
              "                        })                };                            </script>        </div>\n",
              "</body>\n",
              "</html>"
            ]
          },
          "metadata": {}
        }
      ]
    },
    {
      "cell_type": "code",
      "source": [
        "fig = px.bar(data, title=\"Palabras mas usadas en los tweets negativos de la Jornada 5 de la Kings League\",x=neg_df['words'], y=neg_df['scores'])\n",
        "fig.show()"
      ],
      "metadata": {
        "colab": {
          "base_uri": "https://localhost:8080/",
          "height": 542
        },
        "id": "VGNWb8cTtdVu",
        "outputId": "03b1a75a-b3b7-4118-a57a-8cdc5a38f0e4"
      },
      "execution_count": null,
      "outputs": [
        {
          "output_type": "display_data",
          "data": {
            "text/html": [
              "<html>\n",
              "<head><meta charset=\"utf-8\" /></head>\n",
              "<body>\n",
              "    <div>            <script src=\"https://cdnjs.cloudflare.com/ajax/libs/mathjax/2.7.5/MathJax.js?config=TeX-AMS-MML_SVG\"></script><script type=\"text/javascript\">if (window.MathJax) {MathJax.Hub.Config({SVG: {font: \"STIX-Web\"}});}</script>                <script type=\"text/javascript\">window.PlotlyConfig = {MathJaxConfig: 'local'};</script>\n",
              "        <script src=\"https://cdn.plot.ly/plotly-2.8.3.min.js\"></script>                <div id=\"1ebc9786-04f4-4033-afa0-2a9d2e12cb39\" class=\"plotly-graph-div\" style=\"height:525px; width:100%;\"></div>            <script type=\"text/javascript\">                                    window.PLOTLYENV=window.PLOTLYENV || {};                                    if (document.getElementById(\"1ebc9786-04f4-4033-afa0-2a9d2e12cb39\")) {                    Plotly.newPlot(                        \"1ebc9786-04f4-4033-afa0-2a9d2e12cb39\",                        [{\"alignmentgroup\":\"True\",\"hovertemplate\":\"x=%{x}<br>y=%{y}<extra></extra>\",\"legendgroup\":\"\",\"marker\":{\"color\":\"#636efa\",\"pattern\":{\"shape\":\"\"}},\"name\":\"\",\"offsetgroup\":\"\",\"orientation\":\"v\",\"showlegend\":false,\"textposition\":\"auto\",\"x\":[\"kings\",\"league\",\"partido\",\"fecha\",\"vs\",\"min\",\"gol\",\"kingsleague\",\"jijantesfc\",\"jornada\",\"lostroncosfc\",\"piofc\",\"kfutbolclub\",\"fc\",\"carta\",\"xbuyerteam\",\"saiyansfc\",\"aniquiladoresfc\",\"final\",\"equipo\",\"porcinos\",\"penalti\",\"porcinosfc\",\"segundo\",\"kunisport\",\"goool\",\"ultmostoles\",\"aniquiladores\",\"elbarrioklk\",\"thegrefg\",\"hoy\",\"arma\",\"secreta\",\"pio\",\"primer\",\"gerardromero\",\"h\",\"tiempo\",\"gana\",\"ultimate\"],\"xaxis\":\"x\",\"y\":[114,112,93,90,89,75,72,67,52,51,44,44,44,43,43,41,41,40,39,39,36,36,34,31,31,31,31,30,29,28,28,28,28,25,25,24,24,23,23,23],\"yaxis\":\"y\",\"type\":\"bar\"}],                        {\"template\":{\"data\":{\"bar\":[{\"error_x\":{\"color\":\"#2a3f5f\"},\"error_y\":{\"color\":\"#2a3f5f\"},\"marker\":{\"line\":{\"color\":\"#E5ECF6\",\"width\":0.5},\"pattern\":{\"fillmode\":\"overlay\",\"size\":10,\"solidity\":0.2}},\"type\":\"bar\"}],\"barpolar\":[{\"marker\":{\"line\":{\"color\":\"#E5ECF6\",\"width\":0.5},\"pattern\":{\"fillmode\":\"overlay\",\"size\":10,\"solidity\":0.2}},\"type\":\"barpolar\"}],\"carpet\":[{\"aaxis\":{\"endlinecolor\":\"#2a3f5f\",\"gridcolor\":\"white\",\"linecolor\":\"white\",\"minorgridcolor\":\"white\",\"startlinecolor\":\"#2a3f5f\"},\"baxis\":{\"endlinecolor\":\"#2a3f5f\",\"gridcolor\":\"white\",\"linecolor\":\"white\",\"minorgridcolor\":\"white\",\"startlinecolor\":\"#2a3f5f\"},\"type\":\"carpet\"}],\"choropleth\":[{\"colorbar\":{\"outlinewidth\":0,\"ticks\":\"\"},\"type\":\"choropleth\"}],\"contour\":[{\"colorbar\":{\"outlinewidth\":0,\"ticks\":\"\"},\"colorscale\":[[0.0,\"#0d0887\"],[0.1111111111111111,\"#46039f\"],[0.2222222222222222,\"#7201a8\"],[0.3333333333333333,\"#9c179e\"],[0.4444444444444444,\"#bd3786\"],[0.5555555555555556,\"#d8576b\"],[0.6666666666666666,\"#ed7953\"],[0.7777777777777778,\"#fb9f3a\"],[0.8888888888888888,\"#fdca26\"],[1.0,\"#f0f921\"]],\"type\":\"contour\"}],\"contourcarpet\":[{\"colorbar\":{\"outlinewidth\":0,\"ticks\":\"\"},\"type\":\"contourcarpet\"}],\"heatmap\":[{\"colorbar\":{\"outlinewidth\":0,\"ticks\":\"\"},\"colorscale\":[[0.0,\"#0d0887\"],[0.1111111111111111,\"#46039f\"],[0.2222222222222222,\"#7201a8\"],[0.3333333333333333,\"#9c179e\"],[0.4444444444444444,\"#bd3786\"],[0.5555555555555556,\"#d8576b\"],[0.6666666666666666,\"#ed7953\"],[0.7777777777777778,\"#fb9f3a\"],[0.8888888888888888,\"#fdca26\"],[1.0,\"#f0f921\"]],\"type\":\"heatmap\"}],\"heatmapgl\":[{\"colorbar\":{\"outlinewidth\":0,\"ticks\":\"\"},\"colorscale\":[[0.0,\"#0d0887\"],[0.1111111111111111,\"#46039f\"],[0.2222222222222222,\"#7201a8\"],[0.3333333333333333,\"#9c179e\"],[0.4444444444444444,\"#bd3786\"],[0.5555555555555556,\"#d8576b\"],[0.6666666666666666,\"#ed7953\"],[0.7777777777777778,\"#fb9f3a\"],[0.8888888888888888,\"#fdca26\"],[1.0,\"#f0f921\"]],\"type\":\"heatmapgl\"}],\"histogram\":[{\"marker\":{\"pattern\":{\"fillmode\":\"overlay\",\"size\":10,\"solidity\":0.2}},\"type\":\"histogram\"}],\"histogram2d\":[{\"colorbar\":{\"outlinewidth\":0,\"ticks\":\"\"},\"colorscale\":[[0.0,\"#0d0887\"],[0.1111111111111111,\"#46039f\"],[0.2222222222222222,\"#7201a8\"],[0.3333333333333333,\"#9c179e\"],[0.4444444444444444,\"#bd3786\"],[0.5555555555555556,\"#d8576b\"],[0.6666666666666666,\"#ed7953\"],[0.7777777777777778,\"#fb9f3a\"],[0.8888888888888888,\"#fdca26\"],[1.0,\"#f0f921\"]],\"type\":\"histogram2d\"}],\"histogram2dcontour\":[{\"colorbar\":{\"outlinewidth\":0,\"ticks\":\"\"},\"colorscale\":[[0.0,\"#0d0887\"],[0.1111111111111111,\"#46039f\"],[0.2222222222222222,\"#7201a8\"],[0.3333333333333333,\"#9c179e\"],[0.4444444444444444,\"#bd3786\"],[0.5555555555555556,\"#d8576b\"],[0.6666666666666666,\"#ed7953\"],[0.7777777777777778,\"#fb9f3a\"],[0.8888888888888888,\"#fdca26\"],[1.0,\"#f0f921\"]],\"type\":\"histogram2dcontour\"}],\"mesh3d\":[{\"colorbar\":{\"outlinewidth\":0,\"ticks\":\"\"},\"type\":\"mesh3d\"}],\"parcoords\":[{\"line\":{\"colorbar\":{\"outlinewidth\":0,\"ticks\":\"\"}},\"type\":\"parcoords\"}],\"pie\":[{\"automargin\":true,\"type\":\"pie\"}],\"scatter\":[{\"marker\":{\"colorbar\":{\"outlinewidth\":0,\"ticks\":\"\"}},\"type\":\"scatter\"}],\"scatter3d\":[{\"line\":{\"colorbar\":{\"outlinewidth\":0,\"ticks\":\"\"}},\"marker\":{\"colorbar\":{\"outlinewidth\":0,\"ticks\":\"\"}},\"type\":\"scatter3d\"}],\"scattercarpet\":[{\"marker\":{\"colorbar\":{\"outlinewidth\":0,\"ticks\":\"\"}},\"type\":\"scattercarpet\"}],\"scattergeo\":[{\"marker\":{\"colorbar\":{\"outlinewidth\":0,\"ticks\":\"\"}},\"type\":\"scattergeo\"}],\"scattergl\":[{\"marker\":{\"colorbar\":{\"outlinewidth\":0,\"ticks\":\"\"}},\"type\":\"scattergl\"}],\"scattermapbox\":[{\"marker\":{\"colorbar\":{\"outlinewidth\":0,\"ticks\":\"\"}},\"type\":\"scattermapbox\"}],\"scatterpolar\":[{\"marker\":{\"colorbar\":{\"outlinewidth\":0,\"ticks\":\"\"}},\"type\":\"scatterpolar\"}],\"scatterpolargl\":[{\"marker\":{\"colorbar\":{\"outlinewidth\":0,\"ticks\":\"\"}},\"type\":\"scatterpolargl\"}],\"scatterternary\":[{\"marker\":{\"colorbar\":{\"outlinewidth\":0,\"ticks\":\"\"}},\"type\":\"scatterternary\"}],\"surface\":[{\"colorbar\":{\"outlinewidth\":0,\"ticks\":\"\"},\"colorscale\":[[0.0,\"#0d0887\"],[0.1111111111111111,\"#46039f\"],[0.2222222222222222,\"#7201a8\"],[0.3333333333333333,\"#9c179e\"],[0.4444444444444444,\"#bd3786\"],[0.5555555555555556,\"#d8576b\"],[0.6666666666666666,\"#ed7953\"],[0.7777777777777778,\"#fb9f3a\"],[0.8888888888888888,\"#fdca26\"],[1.0,\"#f0f921\"]],\"type\":\"surface\"}],\"table\":[{\"cells\":{\"fill\":{\"color\":\"#EBF0F8\"},\"line\":{\"color\":\"white\"}},\"header\":{\"fill\":{\"color\":\"#C8D4E3\"},\"line\":{\"color\":\"white\"}},\"type\":\"table\"}]},\"layout\":{\"annotationdefaults\":{\"arrowcolor\":\"#2a3f5f\",\"arrowhead\":0,\"arrowwidth\":1},\"autotypenumbers\":\"strict\",\"coloraxis\":{\"colorbar\":{\"outlinewidth\":0,\"ticks\":\"\"}},\"colorscale\":{\"diverging\":[[0,\"#8e0152\"],[0.1,\"#c51b7d\"],[0.2,\"#de77ae\"],[0.3,\"#f1b6da\"],[0.4,\"#fde0ef\"],[0.5,\"#f7f7f7\"],[0.6,\"#e6f5d0\"],[0.7,\"#b8e186\"],[0.8,\"#7fbc41\"],[0.9,\"#4d9221\"],[1,\"#276419\"]],\"sequential\":[[0.0,\"#0d0887\"],[0.1111111111111111,\"#46039f\"],[0.2222222222222222,\"#7201a8\"],[0.3333333333333333,\"#9c179e\"],[0.4444444444444444,\"#bd3786\"],[0.5555555555555556,\"#d8576b\"],[0.6666666666666666,\"#ed7953\"],[0.7777777777777778,\"#fb9f3a\"],[0.8888888888888888,\"#fdca26\"],[1.0,\"#f0f921\"]],\"sequentialminus\":[[0.0,\"#0d0887\"],[0.1111111111111111,\"#46039f\"],[0.2222222222222222,\"#7201a8\"],[0.3333333333333333,\"#9c179e\"],[0.4444444444444444,\"#bd3786\"],[0.5555555555555556,\"#d8576b\"],[0.6666666666666666,\"#ed7953\"],[0.7777777777777778,\"#fb9f3a\"],[0.8888888888888888,\"#fdca26\"],[1.0,\"#f0f921\"]]},\"colorway\":[\"#636efa\",\"#EF553B\",\"#00cc96\",\"#ab63fa\",\"#FFA15A\",\"#19d3f3\",\"#FF6692\",\"#B6E880\",\"#FF97FF\",\"#FECB52\"],\"font\":{\"color\":\"#2a3f5f\"},\"geo\":{\"bgcolor\":\"white\",\"lakecolor\":\"white\",\"landcolor\":\"#E5ECF6\",\"showlakes\":true,\"showland\":true,\"subunitcolor\":\"white\"},\"hoverlabel\":{\"align\":\"left\"},\"hovermode\":\"closest\",\"mapbox\":{\"style\":\"light\"},\"paper_bgcolor\":\"white\",\"plot_bgcolor\":\"#E5ECF6\",\"polar\":{\"angularaxis\":{\"gridcolor\":\"white\",\"linecolor\":\"white\",\"ticks\":\"\"},\"bgcolor\":\"#E5ECF6\",\"radialaxis\":{\"gridcolor\":\"white\",\"linecolor\":\"white\",\"ticks\":\"\"}},\"scene\":{\"xaxis\":{\"backgroundcolor\":\"#E5ECF6\",\"gridcolor\":\"white\",\"gridwidth\":2,\"linecolor\":\"white\",\"showbackground\":true,\"ticks\":\"\",\"zerolinecolor\":\"white\"},\"yaxis\":{\"backgroundcolor\":\"#E5ECF6\",\"gridcolor\":\"white\",\"gridwidth\":2,\"linecolor\":\"white\",\"showbackground\":true,\"ticks\":\"\",\"zerolinecolor\":\"white\"},\"zaxis\":{\"backgroundcolor\":\"#E5ECF6\",\"gridcolor\":\"white\",\"gridwidth\":2,\"linecolor\":\"white\",\"showbackground\":true,\"ticks\":\"\",\"zerolinecolor\":\"white\"}},\"shapedefaults\":{\"line\":{\"color\":\"#2a3f5f\"}},\"ternary\":{\"aaxis\":{\"gridcolor\":\"white\",\"linecolor\":\"white\",\"ticks\":\"\"},\"baxis\":{\"gridcolor\":\"white\",\"linecolor\":\"white\",\"ticks\":\"\"},\"bgcolor\":\"#E5ECF6\",\"caxis\":{\"gridcolor\":\"white\",\"linecolor\":\"white\",\"ticks\":\"\"}},\"title\":{\"x\":0.05},\"xaxis\":{\"automargin\":true,\"gridcolor\":\"white\",\"linecolor\":\"white\",\"ticks\":\"\",\"title\":{\"standoff\":15},\"zerolinecolor\":\"white\",\"zerolinewidth\":2},\"yaxis\":{\"automargin\":true,\"gridcolor\":\"white\",\"linecolor\":\"white\",\"ticks\":\"\",\"title\":{\"standoff\":15},\"zerolinecolor\":\"white\",\"zerolinewidth\":2}}},\"xaxis\":{\"anchor\":\"y\",\"domain\":[0.0,1.0],\"title\":{\"text\":\"x\"}},\"yaxis\":{\"anchor\":\"x\",\"domain\":[0.0,1.0],\"title\":{\"text\":\"y\"}},\"legend\":{\"tracegroupgap\":0},\"title\":{\"text\":\"Palabras mas usadas en los tweets negativos de la Jornada 5 de la Kings League\"},\"barmode\":\"relative\"},                        {\"responsive\": true}                    ).then(function(){\n",
              "                            \n",
              "var gd = document.getElementById('1ebc9786-04f4-4033-afa0-2a9d2e12cb39');\n",
              "var x = new MutationObserver(function (mutations, observer) {{\n",
              "        var display = window.getComputedStyle(gd).display;\n",
              "        if (!display || display === 'none') {{\n",
              "            console.log([gd, 'removed!']);\n",
              "            Plotly.purge(gd);\n",
              "            observer.disconnect();\n",
              "        }}\n",
              "}});\n",
              "\n",
              "// Listen for the removal of the full notebook cells\n",
              "var notebookContainer = gd.closest('#notebook-container');\n",
              "if (notebookContainer) {{\n",
              "    x.observe(notebookContainer, {childList: true});\n",
              "}}\n",
              "\n",
              "// Listen for the clearing of the current output cell\n",
              "var outputEl = gd.closest('.output');\n",
              "if (outputEl) {{\n",
              "    x.observe(outputEl, {childList: true});\n",
              "}}\n",
              "\n",
              "                        })                };                            </script>        </div>\n",
              "</body>\n",
              "</html>"
            ]
          },
          "metadata": {}
        }
      ]
    },
    {
      "cell_type": "markdown",
      "source": [
        "#Conclusiones de la tokenzacion\n",
        "\n",
        "Podemos observar que en los tweets positivos las palabras claves que se repiten comunmente es:\n",
        "\n",
        "*   Kingsleague\n",
        "*   TheGrefg presindentes saiyans\n",
        "*   LosTroncosFc\n",
        "*   Aniquiladores\n",
        "\n",
        "En los tweets negativo los mas resaltantes son:\n",
        "\n",
        "*   JijantesFc\n",
        "*   LosTroncosFc\n",
        "*   PioFc\n",
        "*   1KFutbolClub\n",
        "\n",
        "\n",
        "\n",
        "\n",
        "\n",
        "\n",
        "\n",
        "\n",
        "\n"
      ],
      "metadata": {
        "id": "XWiJ5K7KDo_a"
      }
    },
    {
      "cell_type": "code",
      "source": [
        "fig = px.histogram(df, x=df[\"Date\"], title=\"Tweets durante durante el tiempo\")\n",
        "fig.update_layout(bargap=0.2)\n",
        "fig.show()"
      ],
      "metadata": {
        "colab": {
          "base_uri": "https://localhost:8080/",
          "height": 542
        },
        "id": "U1XHENKetvWW",
        "outputId": "1419b997-8fca-4a8e-c17a-0ea0fdabd3d5"
      },
      "execution_count": null,
      "outputs": [
        {
          "output_type": "display_data",
          "data": {
            "text/html": [
              "<html>\n",
              "<head><meta charset=\"utf-8\" /></head>\n",
              "<body>\n",
              "    <div>            <script src=\"https://cdnjs.cloudflare.com/ajax/libs/mathjax/2.7.5/MathJax.js?config=TeX-AMS-MML_SVG\"></script><script type=\"text/javascript\">if (window.MathJax) {MathJax.Hub.Config({SVG: {font: \"STIX-Web\"}});}</script>                <script type=\"text/javascript\">window.PlotlyConfig = {MathJaxConfig: 'local'};</script>\n",
              "        <script src=\"https://cdn.plot.ly/plotly-2.8.3.min.js\"></script>                <div id=\"368ceb02-9e9f-473e-ada6-fe38679b8b09\" class=\"plotly-graph-div\" style=\"height:525px; width:100%;\"></div>            <script type=\"text/javascript\">                                    window.PLOTLYENV=window.PLOTLYENV || {};                                    if (document.getElementById(\"368ceb02-9e9f-473e-ada6-fe38679b8b09\")) {                    Plotly.newPlot(                        \"368ceb02-9e9f-473e-ada6-fe38679b8b09\",                        [{\"alignmentgroup\":\"True\",\"bingroup\":\"x\",\"hovertemplate\":\"Date=%{x}<br>count=%{y}<extra></extra>\",\"legendgroup\":\"\",\"marker\":{\"color\":\"#636efa\",\"pattern\":{\"shape\":\"\"}},\"name\":\"\",\"offsetgroup\":\"\",\"orientation\":\"v\",\"showlegend\":false,\"x\":[\"2023-02-05T23:51:27+00:00\",\"2023-02-05T23:50:07+00:00\",\"2023-02-05T23:32:18+00:00\",\"2023-02-05T23:25:37+00:00\",\"2023-02-05T23:24:48+00:00\",\"2023-02-05T23:24:06+00:00\",\"2023-02-05T23:22:17+00:00\",\"2023-02-05T23:16:42+00:00\",\"2023-02-05T23:13:23+00:00\",\"2023-02-05T23:09:31+00:00\",\"2023-02-05T23:03:25+00:00\",\"2023-02-05T23:02:29+00:00\",\"2023-02-05T22:55:35+00:00\",\"2023-02-05T22:53:04+00:00\",\"2023-02-05T22:47:07+00:00\",\"2023-02-05T22:45:51+00:00\",\"2023-02-05T22:42:02+00:00\",\"2023-02-05T22:41:08+00:00\",\"2023-02-05T22:39:48+00:00\",\"2023-02-05T22:39:01+00:00\",\"2023-02-05T22:29:04+00:00\",\"2023-02-05T22:25:40+00:00\",\"2023-02-05T22:19:30+00:00\",\"2023-02-05T22:16:15+00:00\",\"2023-02-05T22:15:11+00:00\",\"2023-02-05T22:14:16+00:00\",\"2023-02-05T22:13:35+00:00\",\"2023-02-05T22:13:12+00:00\",\"2023-02-05T22:09:16+00:00\",\"2023-02-05T22:07:45+00:00\",\"2023-02-05T22:06:31+00:00\",\"2023-02-05T22:04:02+00:00\",\"2023-02-05T22:03:09+00:00\",\"2023-02-05T21:59:51+00:00\",\"2023-02-05T21:58:15+00:00\",\"2023-02-05T21:57:41+00:00\",\"2023-02-05T21:52:05+00:00\",\"2023-02-05T21:49:54+00:00\",\"2023-02-05T21:45:08+00:00\",\"2023-02-05T21:43:49+00:00\",\"2023-02-05T21:42:24+00:00\",\"2023-02-05T21:36:47+00:00\",\"2023-02-05T21:36:05+00:00\",\"2023-02-05T21:34:52+00:00\",\"2023-02-05T21:31:12+00:00\",\"2023-02-05T21:30:39+00:00\",\"2023-02-05T21:27:41+00:00\",\"2023-02-05T21:26:09+00:00\",\"2023-02-05T21:26:04+00:00\",\"2023-02-05T21:25:00+00:00\",\"2023-02-05T21:22:39+00:00\",\"2023-02-05T21:22:11+00:00\",\"2023-02-05T21:21:18+00:00\",\"2023-02-05T21:20:10+00:00\",\"2023-02-05T21:16:49+00:00\",\"2023-02-05T21:15:18+00:00\",\"2023-02-05T21:15:10+00:00\",\"2023-02-05T21:13:51+00:00\",\"2023-02-05T21:11:14+00:00\",\"2023-02-05T21:10:11+00:00\",\"2023-02-05T21:09:47+00:00\",\"2023-02-05T21:05:55+00:00\",\"2023-02-05T21:05:32+00:00\",\"2023-02-05T21:05:27+00:00\",\"2023-02-05T21:04:14+00:00\",\"2023-02-05T21:03:39+00:00\",\"2023-02-05T21:03:18+00:00\",\"2023-02-05T21:02:17+00:00\",\"2023-02-05T21:00:57+00:00\",\"2023-02-05T21:00:17+00:00\",\"2023-02-05T21:00:01+00:00\",\"2023-02-05T20:59:47+00:00\",\"2023-02-05T20:59:39+00:00\",\"2023-02-05T20:59:27+00:00\",\"2023-02-05T20:58:36+00:00\",\"2023-02-05T20:58:30+00:00\",\"2023-02-05T20:58:27+00:00\",\"2023-02-05T20:58:23+00:00\",\"2023-02-05T20:58:10+00:00\",\"2023-02-05T20:58:06+00:00\",\"2023-02-05T20:57:29+00:00\",\"2023-02-05T20:57:29+00:00\",\"2023-02-05T20:57:26+00:00\",\"2023-02-05T20:56:21+00:00\",\"2023-02-05T20:56:15+00:00\",\"2023-02-05T20:55:54+00:00\",\"2023-02-05T20:55:54+00:00\",\"2023-02-05T20:55:44+00:00\",\"2023-02-05T20:55:36+00:00\",\"2023-02-05T20:55:13+00:00\",\"2023-02-05T20:55:04+00:00\",\"2023-02-05T20:54:56+00:00\",\"2023-02-05T20:54:29+00:00\",\"2023-02-05T20:54:07+00:00\",\"2023-02-05T20:54:00+00:00\",\"2023-02-05T20:53:48+00:00\",\"2023-02-05T20:53:47+00:00\",\"2023-02-05T20:53:36+00:00\",\"2023-02-05T20:53:21+00:00\",\"2023-02-05T20:53:21+00:00\",\"2023-02-05T20:52:59+00:00\",\"2023-02-05T20:52:51+00:00\",\"2023-02-05T20:52:39+00:00\",\"2023-02-05T20:52:23+00:00\",\"2023-02-05T20:52:18+00:00\",\"2023-02-05T20:52:10+00:00\",\"2023-02-05T20:52:02+00:00\",\"2023-02-05T20:51:51+00:00\",\"2023-02-05T20:51:43+00:00\",\"2023-02-05T20:51:42+00:00\",\"2023-02-05T20:51:36+00:00\",\"2023-02-05T20:51:33+00:00\",\"2023-02-05T20:51:31+00:00\",\"2023-02-05T20:51:30+00:00\",\"2023-02-05T20:51:28+00:00\",\"2023-02-05T20:51:20+00:00\",\"2023-02-05T20:51:14+00:00\",\"2023-02-05T20:51:12+00:00\",\"2023-02-05T20:50:56+00:00\",\"2023-02-05T20:50:51+00:00\",\"2023-02-05T20:50:49+00:00\",\"2023-02-05T20:50:41+00:00\",\"2023-02-05T20:50:28+00:00\",\"2023-02-05T20:49:44+00:00\",\"2023-02-05T20:49:28+00:00\",\"2023-02-05T20:49:15+00:00\",\"2023-02-05T20:48:57+00:00\",\"2023-02-05T20:48:41+00:00\",\"2023-02-05T20:48:16+00:00\",\"2023-02-05T20:48:08+00:00\",\"2023-02-05T20:48:06+00:00\",\"2023-02-05T20:47:50+00:00\",\"2023-02-05T20:47:42+00:00\",\"2023-02-05T20:47:36+00:00\",\"2023-02-05T20:47:22+00:00\",\"2023-02-05T20:47:10+00:00\",\"2023-02-05T20:47:02+00:00\",\"2023-02-05T20:47:01+00:00\",\"2023-02-05T20:46:58+00:00\",\"2023-02-05T20:46:55+00:00\",\"2023-02-05T20:46:44+00:00\",\"2023-02-05T20:46:43+00:00\",\"2023-02-05T20:46:34+00:00\",\"2023-02-05T20:46:29+00:00\",\"2023-02-05T20:46:27+00:00\",\"2023-02-05T20:46:24+00:00\",\"2023-02-05T20:46:21+00:00\",\"2023-02-05T20:46:20+00:00\",\"2023-02-05T20:46:12+00:00\",\"2023-02-05T20:46:05+00:00\",\"2023-02-05T20:46:04+00:00\",\"2023-02-05T20:46:01+00:00\",\"2023-02-05T20:45:59+00:00\",\"2023-02-05T20:45:55+00:00\",\"2023-02-05T20:45:50+00:00\",\"2023-02-05T20:45:34+00:00\",\"2023-02-05T20:45:23+00:00\",\"2023-02-05T20:45:06+00:00\",\"2023-02-05T20:44:58+00:00\",\"2023-02-05T20:44:49+00:00\",\"2023-02-05T20:44:48+00:00\",\"2023-02-05T20:44:44+00:00\",\"2023-02-05T20:44:39+00:00\",\"2023-02-05T20:44:35+00:00\",\"2023-02-05T20:44:33+00:00\",\"2023-02-05T20:44:33+00:00\",\"2023-02-05T20:44:28+00:00\",\"2023-02-05T20:44:11+00:00\",\"2023-02-05T20:44:10+00:00\",\"2023-02-05T20:44:08+00:00\",\"2023-02-05T20:43:57+00:00\",\"2023-02-05T20:43:44+00:00\",\"2023-02-05T20:43:38+00:00\",\"2023-02-05T20:43:34+00:00\",\"2023-02-05T20:43:29+00:00\",\"2023-02-05T20:43:27+00:00\",\"2023-02-05T20:43:24+00:00\",\"2023-02-05T20:43:24+00:00\",\"2023-02-05T20:43:23+00:00\",\"2023-02-05T20:43:22+00:00\",\"2023-02-05T20:43:19+00:00\",\"2023-02-05T20:43:19+00:00\",\"2023-02-05T20:43:16+00:00\",\"2023-02-05T20:43:13+00:00\",\"2023-02-05T20:43:10+00:00\",\"2023-02-05T20:43:09+00:00\",\"2023-02-05T20:43:06+00:00\",\"2023-02-05T20:42:57+00:00\",\"2023-02-05T20:42:55+00:00\",\"2023-02-05T20:42:49+00:00\",\"2023-02-05T20:42:44+00:00\",\"2023-02-05T20:42:42+00:00\",\"2023-02-05T20:42:22+00:00\",\"2023-02-05T20:42:00+00:00\",\"2023-02-05T20:41:58+00:00\",\"2023-02-05T20:41:45+00:00\",\"2023-02-05T20:41:45+00:00\",\"2023-02-05T20:41:34+00:00\",\"2023-02-05T20:40:07+00:00\",\"2023-02-05T20:39:41+00:00\",\"2023-02-05T20:38:31+00:00\",\"2023-02-05T20:38:28+00:00\",\"2023-02-05T20:38:23+00:00\",\"2023-02-05T20:38:07+00:00\",\"2023-02-05T20:37:41+00:00\",\"2023-02-05T20:37:33+00:00\",\"2023-02-05T20:37:27+00:00\",\"2023-02-05T20:36:31+00:00\",\"2023-02-05T20:36:26+00:00\",\"2023-02-05T20:36:16+00:00\",\"2023-02-05T20:36:09+00:00\",\"2023-02-05T20:36:02+00:00\",\"2023-02-05T20:35:21+00:00\",\"2023-02-05T20:35:11+00:00\",\"2023-02-05T20:34:24+00:00\",\"2023-02-05T20:33:58+00:00\",\"2023-02-05T20:33:34+00:00\",\"2023-02-05T20:33:26+00:00\",\"2023-02-05T20:33:26+00:00\",\"2023-02-05T20:33:14+00:00\",\"2023-02-05T20:33:12+00:00\",\"2023-02-05T20:33:03+00:00\",\"2023-02-05T20:32:40+00:00\",\"2023-02-05T20:32:28+00:00\",\"2023-02-05T20:32:19+00:00\",\"2023-02-05T20:32:05+00:00\",\"2023-02-05T20:32:03+00:00\",\"2023-02-05T20:32:01+00:00\",\"2023-02-05T20:31:47+00:00\",\"2023-02-05T20:31:39+00:00\",\"2023-02-05T20:31:15+00:00\",\"2023-02-05T20:31:03+00:00\",\"2023-02-05T20:31:02+00:00\",\"2023-02-05T20:30:44+00:00\",\"2023-02-05T20:30:34+00:00\",\"2023-02-05T20:30:29+00:00\",\"2023-02-05T20:30:19+00:00\",\"2023-02-05T20:30:12+00:00\",\"2023-02-05T20:29:21+00:00\",\"2023-02-05T20:29:08+00:00\",\"2023-02-05T20:29:03+00:00\",\"2023-02-05T20:29:01+00:00\",\"2023-02-05T20:28:59+00:00\",\"2023-02-05T20:28:55+00:00\",\"2023-02-05T20:28:26+00:00\",\"2023-02-05T20:27:56+00:00\",\"2023-02-05T20:27:52+00:00\",\"2023-02-05T20:27:50+00:00\",\"2023-02-05T20:27:49+00:00\",\"2023-02-05T20:27:27+00:00\",\"2023-02-05T20:27:15+00:00\",\"2023-02-05T20:26:57+00:00\",\"2023-02-05T20:26:52+00:00\",\"2023-02-05T20:26:42+00:00\",\"2023-02-05T20:26:31+00:00\",\"2023-02-05T20:26:30+00:00\",\"2023-02-05T20:26:29+00:00\",\"2023-02-05T20:26:27+00:00\",\"2023-02-05T20:26:26+00:00\",\"2023-02-05T20:26:22+00:00\",\"2023-02-05T20:26:10+00:00\",\"2023-02-05T20:26:00+00:00\",\"2023-02-05T20:25:25+00:00\",\"2023-02-05T20:25:21+00:00\",\"2023-02-05T20:25:19+00:00\",\"2023-02-05T20:25:02+00:00\",\"2023-02-05T20:24:48+00:00\",\"2023-02-05T20:24:48+00:00\",\"2023-02-05T20:24:46+00:00\",\"2023-02-05T20:24:24+00:00\",\"2023-02-05T20:24:11+00:00\",\"2023-02-05T20:24:03+00:00\",\"2023-02-05T20:23:48+00:00\",\"2023-02-05T20:23:38+00:00\",\"2023-02-05T20:23:20+00:00\",\"2023-02-05T20:23:10+00:00\",\"2023-02-05T20:23:08+00:00\",\"2023-02-05T20:23:05+00:00\",\"2023-02-05T20:22:44+00:00\",\"2023-02-05T20:22:04+00:00\",\"2023-02-05T20:21:49+00:00\",\"2023-02-05T20:21:48+00:00\",\"2023-02-05T20:21:41+00:00\",\"2023-02-05T20:21:28+00:00\",\"2023-02-05T20:21:16+00:00\",\"2023-02-05T20:21:04+00:00\",\"2023-02-05T20:21:01+00:00\",\"2023-02-05T20:20:53+00:00\",\"2023-02-05T20:20:53+00:00\",\"2023-02-05T20:20:00+00:00\",\"2023-02-05T20:19:41+00:00\",\"2023-02-05T20:19:04+00:00\",\"2023-02-05T20:18:23+00:00\",\"2023-02-05T20:18:21+00:00\",\"2023-02-05T20:18:03+00:00\",\"2023-02-05T20:17:47+00:00\",\"2023-02-05T20:17:10+00:00\",\"2023-02-05T20:16:59+00:00\",\"2023-02-05T20:16:23+00:00\",\"2023-02-05T20:16:22+00:00\",\"2023-02-05T20:15:45+00:00\",\"2023-02-05T20:15:40+00:00\",\"2023-02-05T20:15:25+00:00\",\"2023-02-05T20:14:57+00:00\",\"2023-02-05T20:14:50+00:00\",\"2023-02-05T20:14:39+00:00\",\"2023-02-05T20:14:12+00:00\",\"2023-02-05T20:13:59+00:00\",\"2023-02-05T20:13:44+00:00\",\"2023-02-05T20:11:54+00:00\",\"2023-02-05T20:11:15+00:00\",\"2023-02-05T20:10:46+00:00\",\"2023-02-05T20:10:36+00:00\",\"2023-02-05T20:09:15+00:00\",\"2023-02-05T20:09:09+00:00\",\"2023-02-05T20:08:54+00:00\",\"2023-02-05T20:08:50+00:00\",\"2023-02-05T20:08:41+00:00\",\"2023-02-05T20:08:07+00:00\",\"2023-02-05T20:07:47+00:00\",\"2023-02-05T20:07:35+00:00\",\"2023-02-05T20:07:35+00:00\",\"2023-02-05T20:07:08+00:00\",\"2023-02-05T20:06:50+00:00\",\"2023-02-05T20:06:43+00:00\",\"2023-02-05T20:05:56+00:00\",\"2023-02-05T20:05:43+00:00\",\"2023-02-05T20:05:37+00:00\",\"2023-02-05T20:05:32+00:00\",\"2023-02-05T20:05:07+00:00\",\"2023-02-05T20:04:51+00:00\",\"2023-02-05T20:04:41+00:00\",\"2023-02-05T20:04:19+00:00\",\"2023-02-05T20:03:48+00:00\",\"2023-02-05T20:03:38+00:00\",\"2023-02-05T20:03:31+00:00\",\"2023-02-05T20:03:23+00:00\",\"2023-02-05T20:03:20+00:00\",\"2023-02-05T20:02:23+00:00\",\"2023-02-05T20:02:22+00:00\",\"2023-02-05T20:01:56+00:00\",\"2023-02-05T20:01:41+00:00\",\"2023-02-05T20:01:36+00:00\",\"2023-02-05T20:01:30+00:00\",\"2023-02-05T20:01:26+00:00\",\"2023-02-05T20:01:02+00:00\",\"2023-02-05T20:00:59+00:00\",\"2023-02-05T20:00:51+00:00\",\"2023-02-05T20:00:49+00:00\",\"2023-02-05T20:00:44+00:00\",\"2023-02-05T20:00:39+00:00\",\"2023-02-05T20:00:31+00:00\",\"2023-02-05T20:00:25+00:00\",\"2023-02-05T20:00:01+00:00\",\"2023-02-05T19:59:55+00:00\",\"2023-02-05T19:59:31+00:00\",\"2023-02-05T19:59:23+00:00\",\"2023-02-05T19:59:14+00:00\",\"2023-02-05T19:58:57+00:00\",\"2023-02-05T19:58:46+00:00\",\"2023-02-05T19:58:23+00:00\",\"2023-02-05T19:58:23+00:00\",\"2023-02-05T19:58:21+00:00\",\"2023-02-05T19:58:17+00:00\",\"2023-02-05T19:58:04+00:00\",\"2023-02-05T19:57:21+00:00\",\"2023-02-05T19:57:18+00:00\",\"2023-02-05T19:57:06+00:00\",\"2023-02-05T19:56:28+00:00\",\"2023-02-05T19:56:26+00:00\",\"2023-02-05T19:56:23+00:00\",\"2023-02-05T19:56:21+00:00\",\"2023-02-05T19:56:19+00:00\",\"2023-02-05T19:55:50+00:00\",\"2023-02-05T19:55:46+00:00\",\"2023-02-05T19:55:44+00:00\",\"2023-02-05T19:54:49+00:00\",\"2023-02-05T19:54:46+00:00\",\"2023-02-05T19:54:36+00:00\",\"2023-02-05T19:54:35+00:00\",\"2023-02-05T19:54:27+00:00\",\"2023-02-05T19:54:22+00:00\",\"2023-02-05T19:54:19+00:00\",\"2023-02-05T19:54:15+00:00\",\"2023-02-05T19:54:05+00:00\",\"2023-02-05T19:53:58+00:00\",\"2023-02-05T19:53:53+00:00\",\"2023-02-05T19:53:49+00:00\",\"2023-02-05T19:53:45+00:00\",\"2023-02-05T19:53:44+00:00\",\"2023-02-05T19:53:34+00:00\",\"2023-02-05T19:53:32+00:00\",\"2023-02-05T19:53:25+00:00\",\"2023-02-05T19:53:18+00:00\",\"2023-02-05T19:52:56+00:00\",\"2023-02-05T19:52:38+00:00\",\"2023-02-05T19:51:47+00:00\",\"2023-02-05T19:51:45+00:00\",\"2023-02-05T19:51:32+00:00\",\"2023-02-05T19:50:00+00:00\",\"2023-02-05T19:49:43+00:00\",\"2023-02-05T19:49:19+00:00\",\"2023-02-05T19:49:03+00:00\",\"2023-02-05T19:48:31+00:00\",\"2023-02-05T19:48:28+00:00\",\"2023-02-05T19:48:14+00:00\",\"2023-02-05T19:48:13+00:00\",\"2023-02-05T19:48:05+00:00\",\"2023-02-05T19:48:02+00:00\",\"2023-02-05T19:47:48+00:00\",\"2023-02-05T19:47:44+00:00\",\"2023-02-05T19:47:14+00:00\",\"2023-02-05T19:47:12+00:00\",\"2023-02-05T19:47:03+00:00\",\"2023-02-05T19:46:55+00:00\",\"2023-02-05T19:46:54+00:00\",\"2023-02-05T19:46:48+00:00\",\"2023-02-05T19:46:40+00:00\",\"2023-02-05T19:46:29+00:00\",\"2023-02-05T19:46:27+00:00\",\"2023-02-05T19:46:22+00:00\",\"2023-02-05T19:46:20+00:00\",\"2023-02-05T19:46:10+00:00\",\"2023-02-05T19:46:09+00:00\",\"2023-02-05T19:46:05+00:00\",\"2023-02-05T19:45:56+00:00\",\"2023-02-05T19:45:49+00:00\",\"2023-02-05T19:45:45+00:00\",\"2023-02-05T19:45:30+00:00\",\"2023-02-05T19:45:13+00:00\",\"2023-02-05T19:45:05+00:00\",\"2023-02-05T19:44:56+00:00\",\"2023-02-05T19:44:51+00:00\",\"2023-02-05T19:44:41+00:00\",\"2023-02-05T19:44:32+00:00\",\"2023-02-05T19:44:16+00:00\",\"2023-02-05T19:44:01+00:00\",\"2023-02-05T19:44:00+00:00\",\"2023-02-05T19:43:59+00:00\",\"2023-02-05T19:43:50+00:00\",\"2023-02-05T19:43:20+00:00\",\"2023-02-05T19:43:19+00:00\",\"2023-02-05T19:42:47+00:00\",\"2023-02-05T19:42:44+00:00\",\"2023-02-05T19:42:18+00:00\",\"2023-02-05T19:42:10+00:00\",\"2023-02-05T19:41:29+00:00\",\"2023-02-05T19:41:26+00:00\",\"2023-02-05T19:41:12+00:00\",\"2023-02-05T19:41:12+00:00\",\"2023-02-05T19:40:26+00:00\",\"2023-02-05T19:40:23+00:00\",\"2023-02-05T19:40:00+00:00\",\"2023-02-05T19:39:52+00:00\",\"2023-02-05T19:39:44+00:00\",\"2023-02-05T19:39:43+00:00\",\"2023-02-05T19:39:40+00:00\",\"2023-02-05T19:39:36+00:00\",\"2023-02-05T19:38:53+00:00\",\"2023-02-05T19:38:25+00:00\",\"2023-02-05T19:38:19+00:00\",\"2023-02-05T19:38:13+00:00\",\"2023-02-05T19:38:04+00:00\",\"2023-02-05T19:38:03+00:00\",\"2023-02-05T19:37:46+00:00\",\"2023-02-05T19:37:36+00:00\",\"2023-02-05T19:37:21+00:00\",\"2023-02-05T19:36:59+00:00\",\"2023-02-05T19:36:52+00:00\",\"2023-02-05T19:36:48+00:00\",\"2023-02-05T19:36:47+00:00\",\"2023-02-05T19:35:48+00:00\",\"2023-02-05T19:35:35+00:00\",\"2023-02-05T19:35:16+00:00\",\"2023-02-05T19:35:04+00:00\",\"2023-02-05T19:35:03+00:00\",\"2023-02-05T19:34:58+00:00\",\"2023-02-05T19:34:44+00:00\",\"2023-02-05T19:34:44+00:00\",\"2023-02-05T19:34:38+00:00\",\"2023-02-05T19:34:31+00:00\",\"2023-02-05T19:34:28+00:00\",\"2023-02-05T19:34:21+00:00\",\"2023-02-05T19:34:14+00:00\",\"2023-02-05T19:34:14+00:00\",\"2023-02-05T19:33:52+00:00\",\"2023-02-05T19:33:31+00:00\",\"2023-02-05T19:33:20+00:00\",\"2023-02-05T19:33:19+00:00\",\"2023-02-05T19:31:04+00:00\",\"2023-02-05T19:30:52+00:00\",\"2023-02-05T19:30:24+00:00\",\"2023-02-05T19:30:18+00:00\",\"2023-02-05T19:30:12+00:00\",\"2023-02-05T19:30:01+00:00\",\"2023-02-05T19:29:58+00:00\",\"2023-02-05T19:29:47+00:00\",\"2023-02-05T19:29:09+00:00\",\"2023-02-05T19:29:08+00:00\",\"2023-02-05T19:29:07+00:00\",\"2023-02-05T19:29:06+00:00\",\"2023-02-05T19:29:05+00:00\",\"2023-02-05T19:28:51+00:00\",\"2023-02-05T19:28:43+00:00\",\"2023-02-05T19:28:33+00:00\",\"2023-02-05T19:28:31+00:00\",\"2023-02-05T19:28:26+00:00\",\"2023-02-05T19:28:07+00:00\",\"2023-02-05T19:28:07+00:00\",\"2023-02-05T19:27:49+00:00\",\"2023-02-05T19:27:39+00:00\",\"2023-02-05T19:27:35+00:00\",\"2023-02-05T19:27:24+00:00\",\"2023-02-05T19:27:22+00:00\",\"2023-02-05T19:27:04+00:00\",\"2023-02-05T19:27:02+00:00\",\"2023-02-05T19:26:53+00:00\",\"2023-02-05T19:26:50+00:00\",\"2023-02-05T19:26:45+00:00\",\"2023-02-05T19:26:45+00:00\",\"2023-02-05T19:26:39+00:00\",\"2023-02-05T19:26:26+00:00\",\"2023-02-05T19:26:24+00:00\",\"2023-02-05T19:26:24+00:00\",\"2023-02-05T19:26:17+00:00\",\"2023-02-05T19:26:11+00:00\",\"2023-02-05T19:25:58+00:00\",\"2023-02-05T19:25:45+00:00\",\"2023-02-05T19:24:58+00:00\",\"2023-02-05T19:24:40+00:00\",\"2023-02-05T19:24:26+00:00\",\"2023-02-05T19:24:24+00:00\",\"2023-02-05T19:24:07+00:00\",\"2023-02-05T19:24:03+00:00\",\"2023-02-05T19:23:52+00:00\",\"2023-02-05T19:23:37+00:00\",\"2023-02-05T19:23:31+00:00\",\"2023-02-05T19:23:27+00:00\",\"2023-02-05T19:22:37+00:00\",\"2023-02-05T19:22:11+00:00\",\"2023-02-05T19:21:32+00:00\",\"2023-02-05T19:21:18+00:00\",\"2023-02-05T19:21:06+00:00\",\"2023-02-05T19:20:44+00:00\",\"2023-02-05T19:20:29+00:00\",\"2023-02-05T19:20:24+00:00\",\"2023-02-05T19:20:22+00:00\",\"2023-02-05T19:20:21+00:00\",\"2023-02-05T19:20:02+00:00\",\"2023-02-05T19:19:59+00:00\",\"2023-02-05T19:19:42+00:00\",\"2023-02-05T19:18:34+00:00\",\"2023-02-05T19:18:08+00:00\",\"2023-02-05T19:16:36+00:00\",\"2023-02-05T19:16:29+00:00\",\"2023-02-05T19:16:09+00:00\",\"2023-02-05T19:15:51+00:00\",\"2023-02-05T19:15:34+00:00\",\"2023-02-05T19:15:18+00:00\",\"2023-02-05T19:15:18+00:00\",\"2023-02-05T19:15:16+00:00\",\"2023-02-05T19:15:12+00:00\",\"2023-02-05T19:15:03+00:00\",\"2023-02-05T19:14:55+00:00\",\"2023-02-05T19:14:46+00:00\",\"2023-02-05T19:14:45+00:00\",\"2023-02-05T19:14:35+00:00\",\"2023-02-05T19:14:31+00:00\",\"2023-02-05T19:14:10+00:00\",\"2023-02-05T19:14:00+00:00\",\"2023-02-05T19:13:56+00:00\",\"2023-02-05T19:13:53+00:00\",\"2023-02-05T19:13:50+00:00\",\"2023-02-05T19:13:22+00:00\",\"2023-02-05T19:13:16+00:00\",\"2023-02-05T19:12:51+00:00\",\"2023-02-05T19:12:48+00:00\",\"2023-02-05T19:12:39+00:00\",\"2023-02-05T19:12:29+00:00\",\"2023-02-05T19:12:29+00:00\",\"2023-02-05T19:12:22+00:00\",\"2023-02-05T19:11:55+00:00\",\"2023-02-05T19:10:26+00:00\",\"2023-02-05T19:10:10+00:00\",\"2023-02-05T19:09:42+00:00\",\"2023-02-05T19:09:31+00:00\",\"2023-02-05T19:08:54+00:00\",\"2023-02-05T19:08:30+00:00\",\"2023-02-05T19:07:07+00:00\",\"2023-02-05T19:05:53+00:00\",\"2023-02-05T19:05:49+00:00\",\"2023-02-05T19:05:20+00:00\",\"2023-02-05T19:05:10+00:00\",\"2023-02-05T19:05:10+00:00\",\"2023-02-05T19:05:08+00:00\",\"2023-02-05T19:04:56+00:00\",\"2023-02-05T19:04:17+00:00\",\"2023-02-05T19:03:33+00:00\",\"2023-02-05T19:02:40+00:00\",\"2023-02-05T19:02:17+00:00\",\"2023-02-05T19:02:16+00:00\",\"2023-02-05T19:02:01+00:00\",\"2023-02-05T19:00:19+00:00\",\"2023-02-05T19:00:01+00:00\",\"2023-02-05T19:00:00+00:00\",\"2023-02-05T18:59:34+00:00\",\"2023-02-05T18:58:58+00:00\",\"2023-02-05T18:58:47+00:00\",\"2023-02-05T18:58:12+00:00\",\"2023-02-05T18:57:57+00:00\",\"2023-02-05T18:57:55+00:00\",\"2023-02-05T18:57:24+00:00\",\"2023-02-05T18:57:02+00:00\",\"2023-02-05T18:56:53+00:00\",\"2023-02-05T18:56:35+00:00\",\"2023-02-05T18:56:18+00:00\",\"2023-02-05T18:56:05+00:00\",\"2023-02-05T18:55:32+00:00\",\"2023-02-05T18:54:39+00:00\",\"2023-02-05T18:54:30+00:00\",\"2023-02-05T18:54:29+00:00\",\"2023-02-05T18:54:20+00:00\",\"2023-02-05T18:54:09+00:00\",\"2023-02-05T18:54:04+00:00\",\"2023-02-05T18:53:54+00:00\",\"2023-02-05T18:53:16+00:00\",\"2023-02-05T18:53:10+00:00\",\"2023-02-05T18:52:57+00:00\",\"2023-02-05T18:52:50+00:00\",\"2023-02-05T18:52:47+00:00\",\"2023-02-05T18:52:47+00:00\",\"2023-02-05T18:52:36+00:00\",\"2023-02-05T18:52:30+00:00\",\"2023-02-05T18:52:29+00:00\",\"2023-02-05T18:52:19+00:00\",\"2023-02-05T18:52:13+00:00\",\"2023-02-05T18:51:59+00:00\",\"2023-02-05T18:51:53+00:00\",\"2023-02-05T18:51:47+00:00\",\"2023-02-05T18:51:40+00:00\",\"2023-02-05T18:51:40+00:00\",\"2023-02-05T18:51:38+00:00\",\"2023-02-05T18:51:35+00:00\",\"2023-02-05T18:51:35+00:00\",\"2023-02-05T18:51:29+00:00\",\"2023-02-05T18:51:15+00:00\",\"2023-02-05T18:51:11+00:00\",\"2023-02-05T18:51:11+00:00\",\"2023-02-05T18:51:06+00:00\",\"2023-02-05T18:51:06+00:00\",\"2023-02-05T18:51:04+00:00\",\"2023-02-05T18:51:02+00:00\",\"2023-02-05T18:51:01+00:00\",\"2023-02-05T18:51:00+00:00\",\"2023-02-05T18:50:54+00:00\",\"2023-02-05T18:50:41+00:00\",\"2023-02-05T18:50:37+00:00\",\"2023-02-05T18:50:30+00:00\",\"2023-02-05T18:50:29+00:00\",\"2023-02-05T18:50:29+00:00\",\"2023-02-05T18:50:19+00:00\",\"2023-02-05T18:49:55+00:00\",\"2023-02-05T18:49:54+00:00\",\"2023-02-05T18:49:52+00:00\",\"2023-02-05T18:49:50+00:00\",\"2023-02-05T18:49:49+00:00\",\"2023-02-05T18:49:01+00:00\",\"2023-02-05T18:48:39+00:00\",\"2023-02-05T18:48:28+00:00\",\"2023-02-05T18:48:22+00:00\",\"2023-02-05T18:48:21+00:00\",\"2023-02-05T18:48:19+00:00\",\"2023-02-05T18:48:11+00:00\",\"2023-02-05T18:48:06+00:00\",\"2023-02-05T18:48:06+00:00\",\"2023-02-05T18:48:05+00:00\",\"2023-02-05T18:47:58+00:00\",\"2023-02-05T18:47:19+00:00\",\"2023-02-05T18:46:51+00:00\",\"2023-02-05T18:46:29+00:00\",\"2023-02-05T18:46:00+00:00\",\"2023-02-05T18:45:14+00:00\",\"2023-02-05T18:44:27+00:00\",\"2023-02-05T18:44:24+00:00\",\"2023-02-05T18:44:06+00:00\",\"2023-02-05T18:43:34+00:00\",\"2023-02-05T18:43:22+00:00\",\"2023-02-05T18:43:05+00:00\",\"2023-02-05T18:42:42+00:00\",\"2023-02-05T18:42:39+00:00\",\"2023-02-05T18:42:38+00:00\",\"2023-02-05T18:42:28+00:00\",\"2023-02-05T18:42:18+00:00\",\"2023-02-05T18:42:08+00:00\",\"2023-02-05T18:42:02+00:00\",\"2023-02-05T18:41:55+00:00\",\"2023-02-05T18:41:50+00:00\",\"2023-02-05T18:41:41+00:00\",\"2023-02-05T18:41:24+00:00\",\"2023-02-05T18:41:20+00:00\",\"2023-02-05T18:41:13+00:00\",\"2023-02-05T18:41:06+00:00\",\"2023-02-05T18:40:52+00:00\",\"2023-02-05T18:40:49+00:00\",\"2023-02-05T18:40:48+00:00\",\"2023-02-05T18:40:40+00:00\",\"2023-02-05T18:40:36+00:00\",\"2023-02-05T18:40:26+00:00\",\"2023-02-05T18:40:18+00:00\",\"2023-02-05T18:40:17+00:00\",\"2023-02-05T18:40:06+00:00\",\"2023-02-05T18:39:40+00:00\",\"2023-02-05T18:39:36+00:00\",\"2023-02-05T18:38:51+00:00\",\"2023-02-05T18:38:33+00:00\",\"2023-02-05T18:38:00+00:00\",\"2023-02-05T18:36:58+00:00\",\"2023-02-05T18:35:01+00:00\",\"2023-02-05T18:34:56+00:00\",\"2023-02-05T18:34:42+00:00\",\"2023-02-05T18:34:34+00:00\",\"2023-02-05T18:32:58+00:00\",\"2023-02-05T18:32:17+00:00\",\"2023-02-05T18:31:59+00:00\",\"2023-02-05T18:31:54+00:00\",\"2023-02-05T18:31:48+00:00\",\"2023-02-05T18:31:33+00:00\",\"2023-02-05T18:30:51+00:00\",\"2023-02-05T18:30:13+00:00\",\"2023-02-05T18:29:55+00:00\",\"2023-02-05T18:28:51+00:00\",\"2023-02-05T18:28:41+00:00\",\"2023-02-05T18:28:37+00:00\",\"2023-02-05T18:28:11+00:00\",\"2023-02-05T18:27:44+00:00\",\"2023-02-05T18:27:42+00:00\",\"2023-02-05T18:27:28+00:00\",\"2023-02-05T18:27:25+00:00\",\"2023-02-05T18:26:48+00:00\",\"2023-02-05T18:26:29+00:00\",\"2023-02-05T18:26:04+00:00\",\"2023-02-05T18:26:02+00:00\",\"2023-02-05T18:25:46+00:00\",\"2023-02-05T18:25:45+00:00\",\"2023-02-05T18:25:45+00:00\",\"2023-02-05T18:25:44+00:00\",\"2023-02-05T18:25:44+00:00\",\"2023-02-05T18:25:43+00:00\",\"2023-02-05T18:25:42+00:00\",\"2023-02-05T18:25:30+00:00\",\"2023-02-05T18:25:27+00:00\",\"2023-02-05T18:24:33+00:00\",\"2023-02-05T18:24:28+00:00\",\"2023-02-05T18:23:45+00:00\",\"2023-02-05T18:23:40+00:00\",\"2023-02-05T18:23:03+00:00\",\"2023-02-05T18:23:01+00:00\",\"2023-02-05T18:22:53+00:00\",\"2023-02-05T18:21:38+00:00\",\"2023-02-05T18:21:32+00:00\",\"2023-02-05T18:21:31+00:00\",\"2023-02-05T18:21:19+00:00\",\"2023-02-05T18:21:04+00:00\",\"2023-02-05T18:21:02+00:00\",\"2023-02-05T18:20:35+00:00\",\"2023-02-05T18:20:35+00:00\",\"2023-02-05T18:20:21+00:00\",\"2023-02-05T18:20:07+00:00\",\"2023-02-05T18:19:57+00:00\",\"2023-02-05T18:19:53+00:00\",\"2023-02-05T18:19:53+00:00\",\"2023-02-05T18:19:50+00:00\",\"2023-02-05T18:19:48+00:00\",\"2023-02-05T18:19:46+00:00\",\"2023-02-05T18:19:44+00:00\",\"2023-02-05T18:19:43+00:00\",\"2023-02-05T18:19:40+00:00\",\"2023-02-05T18:19:39+00:00\",\"2023-02-05T18:19:29+00:00\",\"2023-02-05T18:19:29+00:00\",\"2023-02-05T18:19:23+00:00\",\"2023-02-05T18:19:22+00:00\",\"2023-02-05T18:19:14+00:00\",\"2023-02-05T18:19:08+00:00\",\"2023-02-05T18:18:56+00:00\",\"2023-02-05T18:18:49+00:00\",\"2023-02-05T18:18:37+00:00\",\"2023-02-05T18:18:35+00:00\",\"2023-02-05T18:18:34+00:00\",\"2023-02-05T18:18:33+00:00\",\"2023-02-05T18:18:23+00:00\",\"2023-02-05T18:18:22+00:00\",\"2023-02-05T18:18:21+00:00\",\"2023-02-05T18:18:13+00:00\",\"2023-02-05T18:18:12+00:00\",\"2023-02-05T18:18:11+00:00\",\"2023-02-05T18:18:05+00:00\",\"2023-02-05T18:18:04+00:00\",\"2023-02-05T18:18:03+00:00\",\"2023-02-05T18:18:03+00:00\",\"2023-02-05T18:18:02+00:00\",\"2023-02-05T18:18:02+00:00\",\"2023-02-05T18:17:59+00:00\",\"2023-02-05T18:17:52+00:00\",\"2023-02-05T18:17:43+00:00\",\"2023-02-05T18:17:31+00:00\",\"2023-02-05T18:17:02+00:00\",\"2023-02-05T18:15:40+00:00\",\"2023-02-05T18:15:19+00:00\",\"2023-02-05T18:15:19+00:00\",\"2023-02-05T18:15:14+00:00\",\"2023-02-05T18:14:47+00:00\",\"2023-02-05T18:12:26+00:00\",\"2023-02-05T18:11:10+00:00\",\"2023-02-05T18:10:19+00:00\",\"2023-02-05T18:10:07+00:00\",\"2023-02-05T18:08:23+00:00\",\"2023-02-05T18:07:31+00:00\",\"2023-02-05T18:07:14+00:00\",\"2023-02-05T18:07:08+00:00\",\"2023-02-05T18:06:54+00:00\",\"2023-02-05T18:06:40+00:00\",\"2023-02-05T18:05:19+00:00\",\"2023-02-05T18:05:07+00:00\",\"2023-02-05T18:04:42+00:00\",\"2023-02-05T18:04:38+00:00\",\"2023-02-05T18:04:17+00:00\",\"2023-02-05T18:02:56+00:00\",\"2023-02-05T18:02:28+00:00\",\"2023-02-05T18:02:09+00:00\",\"2023-02-05T18:02:06+00:00\",\"2023-02-05T18:01:43+00:00\",\"2023-02-05T18:00:55+00:00\",\"2023-02-05T18:00:50+00:00\",\"2023-02-05T17:59:38+00:00\",\"2023-02-05T17:59:29+00:00\",\"2023-02-05T17:58:01+00:00\",\"2023-02-05T17:57:30+00:00\",\"2023-02-05T17:57:27+00:00\",\"2023-02-05T17:54:58+00:00\",\"2023-02-05T17:54:44+00:00\",\"2023-02-05T17:54:07+00:00\",\"2023-02-05T17:54:03+00:00\",\"2023-02-05T17:53:44+00:00\",\"2023-02-05T17:53:29+00:00\",\"2023-02-05T17:53:11+00:00\",\"2023-02-05T17:52:40+00:00\",\"2023-02-05T17:52:31+00:00\",\"2023-02-05T17:52:30+00:00\",\"2023-02-05T17:50:56+00:00\",\"2023-02-05T17:50:45+00:00\",\"2023-02-05T17:50:30+00:00\",\"2023-02-05T17:50:19+00:00\",\"2023-02-05T17:50:08+00:00\",\"2023-02-05T17:50:00+00:00\",\"2023-02-05T17:49:47+00:00\",\"2023-02-05T17:48:58+00:00\",\"2023-02-05T17:48:22+00:00\",\"2023-02-05T17:47:59+00:00\",\"2023-02-05T17:47:46+00:00\",\"2023-02-05T17:47:31+00:00\",\"2023-02-05T17:47:07+00:00\",\"2023-02-05T17:46:48+00:00\",\"2023-02-05T17:46:42+00:00\",\"2023-02-05T17:46:40+00:00\",\"2023-02-05T17:46:35+00:00\",\"2023-02-05T17:46:32+00:00\",\"2023-02-05T17:45:22+00:00\",\"2023-02-05T17:44:35+00:00\",\"2023-02-05T17:44:28+00:00\",\"2023-02-05T17:44:15+00:00\",\"2023-02-05T17:43:51+00:00\",\"2023-02-05T17:43:11+00:00\",\"2023-02-05T17:43:07+00:00\",\"2023-02-05T17:43:01+00:00\",\"2023-02-05T17:42:33+00:00\",\"2023-02-05T17:42:23+00:00\",\"2023-02-05T17:42:21+00:00\",\"2023-02-05T17:42:03+00:00\",\"2023-02-05T17:41:17+00:00\",\"2023-02-05T17:40:28+00:00\",\"2023-02-05T17:40:19+00:00\",\"2023-02-05T17:40:16+00:00\",\"2023-02-05T17:39:53+00:00\",\"2023-02-05T17:39:08+00:00\",\"2023-02-05T17:39:03+00:00\",\"2023-02-05T17:39:02+00:00\",\"2023-02-05T17:38:34+00:00\",\"2023-02-05T17:38:31+00:00\",\"2023-02-05T17:38:04+00:00\",\"2023-02-05T17:38:04+00:00\",\"2023-02-05T17:38:03+00:00\",\"2023-02-05T17:37:50+00:00\",\"2023-02-05T17:37:11+00:00\",\"2023-02-05T17:37:10+00:00\",\"2023-02-05T17:37:10+00:00\",\"2023-02-05T17:37:06+00:00\",\"2023-02-05T17:37:01+00:00\",\"2023-02-05T17:37:00+00:00\",\"2023-02-05T17:36:51+00:00\",\"2023-02-05T17:36:49+00:00\",\"2023-02-05T17:36:49+00:00\",\"2023-02-05T17:36:38+00:00\",\"2023-02-05T17:36:32+00:00\",\"2023-02-05T17:36:12+00:00\",\"2023-02-05T17:36:07+00:00\",\"2023-02-05T17:36:06+00:00\",\"2023-02-05T17:35:50+00:00\",\"2023-02-05T17:35:50+00:00\",\"2023-02-05T17:34:24+00:00\",\"2023-02-05T17:34:01+00:00\",\"2023-02-05T17:33:48+00:00\",\"2023-02-05T17:33:09+00:00\",\"2023-02-05T17:32:58+00:00\",\"2023-02-05T17:32:50+00:00\",\"2023-02-05T17:32:11+00:00\",\"2023-02-05T17:31:49+00:00\",\"2023-02-05T17:31:42+00:00\",\"2023-02-05T17:30:55+00:00\",\"2023-02-05T17:30:17+00:00\",\"2023-02-05T17:29:13+00:00\",\"2023-02-05T17:29:13+00:00\",\"2023-02-05T17:27:43+00:00\",\"2023-02-05T17:26:12+00:00\",\"2023-02-05T17:26:11+00:00\",\"2023-02-05T17:26:11+00:00\",\"2023-02-05T17:26:06+00:00\",\"2023-02-05T17:26:06+00:00\",\"2023-02-05T17:26:05+00:00\",\"2023-02-05T17:26:05+00:00\",\"2023-02-05T17:26:04+00:00\",\"2023-02-05T17:24:20+00:00\",\"2023-02-05T17:24:19+00:00\",\"2023-02-05T17:24:09+00:00\",\"2023-02-05T17:23:50+00:00\",\"2023-02-05T17:23:31+00:00\",\"2023-02-05T17:23:26+00:00\",\"2023-02-05T17:22:27+00:00\",\"2023-02-05T17:21:41+00:00\",\"2023-02-05T17:21:35+00:00\",\"2023-02-05T17:21:25+00:00\",\"2023-02-05T17:21:23+00:00\",\"2023-02-05T17:19:10+00:00\",\"2023-02-05T17:19:00+00:00\",\"2023-02-05T17:18:53+00:00\",\"2023-02-05T17:18:45+00:00\",\"2023-02-05T17:18:04+00:00\",\"2023-02-05T17:18:03+00:00\",\"2023-02-05T17:17:12+00:00\",\"2023-02-05T17:17:05+00:00\",\"2023-02-05T17:17:02+00:00\",\"2023-02-05T17:15:06+00:00\",\"2023-02-05T17:13:20+00:00\",\"2023-02-05T17:12:55+00:00\",\"2023-02-05T17:12:16+00:00\",\"2023-02-05T17:10:10+00:00\",\"2023-02-05T17:09:26+00:00\",\"2023-02-05T17:08:19+00:00\",\"2023-02-05T17:08:16+00:00\",\"2023-02-05T17:07:53+00:00\",\"2023-02-05T17:06:49+00:00\",\"2023-02-05T17:06:23+00:00\",\"2023-02-05T17:04:51+00:00\",\"2023-02-05T17:03:16+00:00\",\"2023-02-05T17:02:29+00:00\",\"2023-02-05T17:01:42+00:00\",\"2023-02-05T17:01:07+00:00\",\"2023-02-05T17:01:02+00:00\",\"2023-02-05T17:00:52+00:00\",\"2023-02-05T17:00:49+00:00\",\"2023-02-05T17:00:42+00:00\",\"2023-02-05T17:00:41+00:00\",\"2023-02-05T17:00:41+00:00\",\"2023-02-05T17:00:16+00:00\",\"2023-02-05T17:00:15+00:00\",\"2023-02-05T17:00:12+00:00\",\"2023-02-05T17:00:04+00:00\",\"2023-02-05T16:59:57+00:00\",\"2023-02-05T16:59:47+00:00\",\"2023-02-05T16:59:47+00:00\",\"2023-02-05T16:59:03+00:00\",\"2023-02-05T16:57:57+00:00\",\"2023-02-05T16:57:49+00:00\",\"2023-02-05T16:57:46+00:00\",\"2023-02-05T16:57:21+00:00\",\"2023-02-05T16:57:02+00:00\",\"2023-02-05T16:56:45+00:00\",\"2023-02-05T16:56:44+00:00\",\"2023-02-05T16:56:35+00:00\",\"2023-02-05T16:56:22+00:00\",\"2023-02-05T16:56:03+00:00\",\"2023-02-05T16:55:46+00:00\",\"2023-02-05T16:55:46+00:00\",\"2023-02-05T16:55:36+00:00\",\"2023-02-05T16:55:32+00:00\",\"2023-02-05T16:55:31+00:00\",\"2023-02-05T16:55:11+00:00\",\"2023-02-05T16:55:05+00:00\",\"2023-02-05T16:54:42+00:00\",\"2023-02-05T16:54:22+00:00\",\"2023-02-05T16:54:19+00:00\",\"2023-02-05T16:54:18+00:00\",\"2023-02-05T16:53:59+00:00\",\"2023-02-05T16:53:54+00:00\",\"2023-02-05T16:53:49+00:00\",\"2023-02-05T16:53:37+00:00\",\"2023-02-05T16:53:33+00:00\",\"2023-02-05T16:53:33+00:00\",\"2023-02-05T16:53:24+00:00\",\"2023-02-05T16:53:06+00:00\",\"2023-02-05T16:53:00+00:00\",\"2023-02-05T16:52:52+00:00\",\"2023-02-05T16:52:49+00:00\",\"2023-02-05T16:52:44+00:00\",\"2023-02-05T16:52:43+00:00\",\"2023-02-05T16:52:31+00:00\",\"2023-02-05T16:52:25+00:00\",\"2023-02-05T16:51:55+00:00\",\"2023-02-05T16:51:54+00:00\",\"2023-02-05T16:51:51+00:00\",\"2023-02-05T16:51:48+00:00\",\"2023-02-05T16:51:46+00:00\",\"2023-02-05T16:51:34+00:00\",\"2023-02-05T16:51:25+00:00\",\"2023-02-05T16:51:24+00:00\",\"2023-02-05T16:51:21+00:00\",\"2023-02-05T16:51:20+00:00\",\"2023-02-05T16:51:17+00:00\",\"2023-02-05T16:51:15+00:00\",\"2023-02-05T16:51:10+00:00\",\"2023-02-05T16:51:05+00:00\",\"2023-02-05T16:51:04+00:00\",\"2023-02-05T16:51:02+00:00\",\"2023-02-05T16:51:01+00:00\",\"2023-02-05T16:50:49+00:00\",\"2023-02-05T16:50:49+00:00\",\"2023-02-05T16:50:49+00:00\",\"2023-02-05T16:50:41+00:00\",\"2023-02-05T16:50:40+00:00\",\"2023-02-05T16:50:31+00:00\",\"2023-02-05T16:50:23+00:00\",\"2023-02-05T16:50:19+00:00\",\"2023-02-05T16:50:16+00:00\",\"2023-02-05T16:50:13+00:00\",\"2023-02-05T16:50:12+00:00\",\"2023-02-05T16:50:10+00:00\",\"2023-02-05T16:50:06+00:00\",\"2023-02-05T16:50:03+00:00\",\"2023-02-05T16:50:02+00:00\",\"2023-02-05T16:50:00+00:00\",\"2023-02-05T16:49:54+00:00\",\"2023-02-05T16:49:53+00:00\",\"2023-02-05T16:49:52+00:00\",\"2023-02-05T16:49:51+00:00\",\"2023-02-05T16:49:51+00:00\",\"2023-02-05T16:49:50+00:00\",\"2023-02-05T16:49:44+00:00\",\"2023-02-05T16:49:40+00:00\",\"2023-02-05T16:49:34+00:00\",\"2023-02-05T16:49:29+00:00\",\"2023-02-05T16:49:28+00:00\",\"2023-02-05T16:49:26+00:00\",\"2023-02-05T16:49:20+00:00\",\"2023-02-05T16:49:20+00:00\",\"2023-02-05T16:49:16+00:00\",\"2023-02-05T16:49:00+00:00\",\"2023-02-05T16:48:57+00:00\",\"2023-02-05T16:48:55+00:00\",\"2023-02-05T16:48:46+00:00\",\"2023-02-05T16:48:32+00:00\",\"2023-02-05T16:48:31+00:00\",\"2023-02-05T16:48:14+00:00\",\"2023-02-05T16:47:42+00:00\",\"2023-02-05T16:45:58+00:00\",\"2023-02-05T16:45:58+00:00\",\"2023-02-05T16:45:30+00:00\",\"2023-02-05T16:43:06+00:00\",\"2023-02-05T16:42:09+00:00\",\"2023-02-05T16:42:04+00:00\",\"2023-02-05T16:41:55+00:00\",\"2023-02-05T16:41:39+00:00\",\"2023-02-05T16:41:27+00:00\",\"2023-02-05T16:40:16+00:00\",\"2023-02-05T16:40:11+00:00\",\"2023-02-05T16:39:36+00:00\",\"2023-02-05T16:39:34+00:00\",\"2023-02-05T16:39:07+00:00\",\"2023-02-05T16:38:40+00:00\",\"2023-02-05T16:38:32+00:00\",\"2023-02-05T16:38:31+00:00\",\"2023-02-05T16:38:23+00:00\",\"2023-02-05T16:38:22+00:00\",\"2023-02-05T16:37:45+00:00\",\"2023-02-05T16:37:38+00:00\",\"2023-02-05T16:36:03+00:00\",\"2023-02-05T16:33:49+00:00\",\"2023-02-05T16:27:18+00:00\",\"2023-02-05T16:27:13+00:00\",\"2023-02-05T16:26:48+00:00\",\"2023-02-05T16:26:35+00:00\",\"2023-02-05T16:26:14+00:00\",\"2023-02-05T16:26:10+00:00\",\"2023-02-05T16:25:39+00:00\",\"2023-02-05T16:25:38+00:00\",\"2023-02-05T16:25:37+00:00\",\"2023-02-05T16:25:37+00:00\",\"2023-02-05T16:25:36+00:00\",\"2023-02-05T16:25:12+00:00\",\"2023-02-05T16:25:02+00:00\",\"2023-02-05T16:24:48+00:00\",\"2023-02-05T16:24:43+00:00\",\"2023-02-05T16:24:39+00:00\",\"2023-02-05T16:23:54+00:00\",\"2023-02-05T16:23:50+00:00\",\"2023-02-05T16:23:48+00:00\",\"2023-02-05T16:23:40+00:00\",\"2023-02-05T16:23:33+00:00\",\"2023-02-05T16:23:32+00:00\",\"2023-02-05T16:23:31+00:00\",\"2023-02-05T16:23:29+00:00\",\"2023-02-05T16:23:28+00:00\",\"2023-02-05T16:22:44+00:00\",\"2023-02-05T16:22:30+00:00\",\"2023-02-05T16:20:44+00:00\",\"2023-02-05T16:20:30+00:00\",\"2023-02-05T16:19:51+00:00\",\"2023-02-05T16:19:35+00:00\",\"2023-02-05T16:18:15+00:00\",\"2023-02-05T16:18:02+00:00\",\"2023-02-05T16:17:11+00:00\",\"2023-02-05T16:16:53+00:00\",\"2023-02-05T16:16:27+00:00\",\"2023-02-05T16:16:03+00:00\",\"2023-02-05T16:15:52+00:00\",\"2023-02-05T16:15:03+00:00\",\"2023-02-05T16:14:57+00:00\",\"2023-02-05T16:13:28+00:00\",\"2023-02-05T16:13:06+00:00\",\"2023-02-05T16:13:01+00:00\",\"2023-02-05T16:11:56+00:00\",\"2023-02-05T16:11:02+00:00\",\"2023-02-05T16:08:49+00:00\",\"2023-02-05T16:08:47+00:00\",\"2023-02-05T16:07:57+00:00\",\"2023-02-05T16:06:14+00:00\",\"2023-02-05T16:05:55+00:00\",\"2023-02-05T16:05:28+00:00\",\"2023-02-05T16:05:12+00:00\",\"2023-02-05T16:05:07+00:00\",\"2023-02-05T16:03:57+00:00\",\"2023-02-05T16:03:26+00:00\",\"2023-02-05T16:02:51+00:00\",\"2023-02-05T16:02:48+00:00\",\"2023-02-05T16:01:49+00:00\",\"2023-02-05T16:01:43+00:00\",\"2023-02-05T16:01:19+00:00\",\"2023-02-05T16:01:13+00:00\",\"2023-02-05T16:00:55+00:00\",\"2023-02-05T16:00:29+00:00\",\"2023-02-05T16:00:07+00:00\",\"2023-02-05T15:59:28+00:00\",\"2023-02-05T15:59:03+00:00\",\"2023-02-05T15:58:51+00:00\",\"2023-02-05T15:58:15+00:00\",\"2023-02-05T15:57:57+00:00\",\"2023-02-05T15:57:04+00:00\",\"2023-02-05T15:56:59+00:00\",\"2023-02-05T15:56:51+00:00\",\"2023-02-05T15:56:50+00:00\",\"2023-02-05T15:56:45+00:00\",\"2023-02-05T15:55:37+00:00\",\"2023-02-05T15:55:32+00:00\",\"2023-02-05T15:54:54+00:00\",\"2023-02-05T15:54:34+00:00\",\"2023-02-05T15:54:32+00:00\",\"2023-02-05T15:54:30+00:00\",\"2023-02-05T15:54:25+00:00\",\"2023-02-05T15:54:17+00:00\",\"2023-02-05T15:53:33+00:00\",\"2023-02-05T15:53:18+00:00\",\"2023-02-05T15:53:15+00:00\",\"2023-02-05T15:52:46+00:00\",\"2023-02-05T15:52:02+00:00\",\"2023-02-05T15:51:58+00:00\",\"2023-02-05T15:51:49+00:00\",\"2023-02-05T15:51:30+00:00\",\"2023-02-05T15:51:20+00:00\",\"2023-02-05T15:51:17+00:00\",\"2023-02-05T15:51:09+00:00\",\"2023-02-05T15:51:01+00:00\",\"2023-02-05T15:51:00+00:00\",\"2023-02-05T15:50:45+00:00\",\"2023-02-05T15:50:25+00:00\",\"2023-02-05T15:50:00+00:00\",\"2023-02-05T15:49:52+00:00\",\"2023-02-05T15:49:40+00:00\",\"2023-02-05T15:49:31+00:00\",\"2023-02-05T15:49:06+00:00\",\"2023-02-05T15:49:05+00:00\",\"2023-02-05T15:48:56+00:00\",\"2023-02-05T15:48:52+00:00\",\"2023-02-05T15:48:49+00:00\",\"2023-02-05T15:48:40+00:00\",\"2023-02-05T15:48:40+00:00\",\"2023-02-05T15:48:32+00:00\",\"2023-02-05T15:48:22+00:00\",\"2023-02-05T15:48:09+00:00\",\"2023-02-05T15:47:58+00:00\",\"2023-02-05T15:47:47+00:00\",\"2023-02-05T15:47:43+00:00\",\"2023-02-05T15:47:30+00:00\",\"2023-02-05T15:46:41+00:00\",\"2023-02-05T15:46:39+00:00\",\"2023-02-05T15:45:53+00:00\",\"2023-02-05T15:45:42+00:00\",\"2023-02-05T15:45:35+00:00\",\"2023-02-05T15:44:55+00:00\",\"2023-02-05T15:44:49+00:00\",\"2023-02-05T15:44:41+00:00\",\"2023-02-05T15:44:39+00:00\",\"2023-02-05T15:44:32+00:00\",\"2023-02-05T15:44:29+00:00\",\"2023-02-05T15:44:21+00:00\",\"2023-02-05T15:44:13+00:00\",\"2023-02-05T15:43:30+00:00\",\"2023-02-05T15:43:26+00:00\",\"2023-02-05T15:42:22+00:00\",\"2023-02-05T15:42:19+00:00\",\"2023-02-05T15:42:06+00:00\",\"2023-02-05T15:41:46+00:00\",\"2023-02-05T15:41:44+00:00\",\"2023-02-05T15:41:43+00:00\",\"2023-02-05T15:41:34+00:00\",\"2023-02-05T15:41:34+00:00\",\"2023-02-05T15:41:22+00:00\",\"2023-02-05T15:40:31+00:00\",\"2023-02-05T15:40:21+00:00\",\"2023-02-05T15:39:42+00:00\",\"2023-02-05T15:38:42+00:00\",\"2023-02-05T15:38:29+00:00\",\"2023-02-05T15:38:24+00:00\",\"2023-02-05T15:37:51+00:00\",\"2023-02-05T15:37:43+00:00\",\"2023-02-05T15:35:13+00:00\",\"2023-02-05T15:35:02+00:00\",\"2023-02-05T15:34:17+00:00\",\"2023-02-05T15:33:32+00:00\",\"2023-02-05T15:33:26+00:00\",\"2023-02-05T15:33:16+00:00\",\"2023-02-05T15:33:09+00:00\",\"2023-02-05T15:31:35+00:00\",\"2023-02-05T15:29:52+00:00\",\"2023-02-05T15:29:19+00:00\",\"2023-02-05T15:28:55+00:00\",\"2023-02-05T15:28:17+00:00\",\"2023-02-05T15:27:54+00:00\",\"2023-02-05T15:27:23+00:00\",\"2023-02-05T15:27:03+00:00\",\"2023-02-05T15:26:55+00:00\",\"2023-02-05T15:26:07+00:00\",\"2023-02-05T15:26:07+00:00\",\"2023-02-05T15:26:06+00:00\",\"2023-02-05T15:26:03+00:00\",\"2023-02-05T15:25:51+00:00\",\"2023-02-05T15:25:40+00:00\",\"2023-02-05T15:24:37+00:00\",\"2023-02-05T15:24:30+00:00\",\"2023-02-05T15:24:21+00:00\",\"2023-02-05T15:24:19+00:00\",\"2023-02-05T15:24:14+00:00\",\"2023-02-05T15:24:09+00:00\",\"2023-02-05T15:24:06+00:00\",\"2023-02-05T15:23:59+00:00\",\"2023-02-05T15:23:47+00:00\",\"2023-02-05T15:23:45+00:00\",\"2023-02-05T15:23:43+00:00\",\"2023-02-05T15:23:37+00:00\",\"2023-02-05T15:23:35+00:00\",\"2023-02-05T15:23:34+00:00\",\"2023-02-05T15:23:29+00:00\",\"2023-02-05T15:23:27+00:00\",\"2023-02-05T15:23:24+00:00\",\"2023-02-05T15:23:17+00:00\",\"2023-02-05T15:23:13+00:00\",\"2023-02-05T15:23:12+00:00\",\"2023-02-05T15:23:10+00:00\",\"2023-02-05T15:22:58+00:00\",\"2023-02-05T15:22:53+00:00\",\"2023-02-05T15:22:52+00:00\",\"2023-02-05T15:22:40+00:00\",\"2023-02-05T15:22:36+00:00\",\"2023-02-05T15:22:35+00:00\",\"2023-02-05T15:21:43+00:00\",\"2023-02-05T15:21:29+00:00\",\"2023-02-05T15:20:50+00:00\",\"2023-02-05T15:20:42+00:00\",\"2023-02-05T15:20:35+00:00\",\"2023-02-05T15:20:22+00:00\",\"2023-02-05T15:20:20+00:00\",\"2023-02-05T15:20:17+00:00\",\"2023-02-05T15:20:08+00:00\",\"2023-02-05T15:19:37+00:00\",\"2023-02-05T15:18:56+00:00\",\"2023-02-05T15:18:42+00:00\",\"2023-02-05T15:18:18+00:00\",\"2023-02-05T15:18:00+00:00\",\"2023-02-05T15:12:46+00:00\",\"2023-02-05T15:12:18+00:00\",\"2023-02-05T15:11:41+00:00\",\"2023-02-05T15:11:40+00:00\",\"2023-02-05T15:11:29+00:00\",\"2023-02-05T15:11:21+00:00\",\"2023-02-05T15:11:05+00:00\",\"2023-02-05T15:11:03+00:00\",\"2023-02-05T15:10:37+00:00\",\"2023-02-05T15:10:08+00:00\",\"2023-02-05T15:10:07+00:00\",\"2023-02-05T15:10:06+00:00\",\"2023-02-05T15:09:24+00:00\",\"2023-02-05T15:08:55+00:00\",\"2023-02-05T15:08:41+00:00\",\"2023-02-05T15:08:33+00:00\",\"2023-02-05T15:08:29+00:00\",\"2023-02-05T15:08:28+00:00\",\"2023-02-05T15:07:54+00:00\",\"2023-02-05T15:07:43+00:00\",\"2023-02-05T15:06:46+00:00\",\"2023-02-05T15:06:22+00:00\",\"2023-02-05T15:05:00+00:00\",\"2023-02-05T15:04:55+00:00\",\"2023-02-05T15:04:51+00:00\",\"2023-02-05T15:04:31+00:00\",\"2023-02-05T15:04:11+00:00\",\"2023-02-05T15:03:50+00:00\",\"2023-02-05T15:02:22+00:00\",\"2023-02-05T15:02:03+00:00\",\"2023-02-05T15:01:19+00:00\",\"2023-02-05T15:01:15+00:00\",\"2023-02-05T15:00:49+00:00\",\"2023-02-05T15:00:19+00:00\",\"2023-02-05T14:59:43+00:00\",\"2023-02-05T14:59:36+00:00\",\"2023-02-05T14:58:38+00:00\",\"2023-02-05T14:55:49+00:00\",\"2023-02-05T14:54:11+00:00\",\"2023-02-05T14:53:28+00:00\",\"2023-02-05T14:52:22+00:00\",\"2023-02-05T14:49:10+00:00\",\"2023-02-05T14:49:06+00:00\",\"2023-02-05T14:47:44+00:00\",\"2023-02-05T14:46:35+00:00\",\"2023-02-05T14:45:27+00:00\",\"2023-02-05T14:45:08+00:00\",\"2023-02-05T14:42:28+00:00\",\"2023-02-05T14:41:22+00:00\",\"2023-02-05T14:41:16+00:00\",\"2023-02-05T14:40:32+00:00\",\"2023-02-05T14:39:47+00:00\",\"2023-02-05T14:35:40+00:00\",\"2023-02-05T14:35:09+00:00\",\"2023-02-05T14:34:13+00:00\",\"2023-02-05T14:33:55+00:00\",\"2023-02-05T14:33:36+00:00\",\"2023-02-05T14:33:19+00:00\",\"2023-02-05T14:33:04+00:00\",\"2023-02-05T14:33:04+00:00\",\"2023-02-05T14:32:48+00:00\",\"2023-02-05T14:32:31+00:00\",\"2023-02-05T14:32:13+00:00\",\"2023-02-05T14:31:09+00:00\",\"2023-02-05T14:30:33+00:00\",\"2023-02-05T14:29:15+00:00\",\"2023-02-05T14:25:47+00:00\",\"2023-02-05T14:25:46+00:00\",\"2023-02-05T14:19:20+00:00\",\"2023-02-05T14:12:28+00:00\",\"2023-02-05T14:10:07+00:00\",\"2023-02-05T14:06:35+00:00\",\"2023-02-05T14:00:32+00:00\",\"2023-02-05T14:00:20+00:00\",\"2023-02-05T13:57:59+00:00\",\"2023-02-05T13:56:53+00:00\",\"2023-02-05T13:56:47+00:00\",\"2023-02-05T13:40:25+00:00\",\"2023-02-05T13:31:38+00:00\",\"2023-02-05T13:26:30+00:00\",\"2023-02-05T13:23:47+00:00\",\"2023-02-05T13:23:35+00:00\",\"2023-02-05T13:21:42+00:00\",\"2023-02-05T13:11:11+00:00\",\"2023-02-05T13:00:14+00:00\",\"2023-02-05T12:51:09+00:00\",\"2023-02-05T12:49:34+00:00\",\"2023-02-05T12:43:02+00:00\",\"2023-02-05T12:33:16+00:00\",\"2023-02-05T12:08:56+00:00\",\"2023-02-05T11:55:11+00:00\",\"2023-02-05T11:49:44+00:00\",\"2023-02-05T11:28:10+00:00\",\"2023-02-05T11:21:01+00:00\",\"2023-02-05T11:12:27+00:00\",\"2023-02-05T11:06:01+00:00\",\"2023-02-05T10:58:45+00:00\",\"2023-02-05T10:55:11+00:00\",\"2023-02-05T10:50:10+00:00\",\"2023-02-05T10:35:19+00:00\",\"2023-02-05T10:20:00+00:00\",\"2023-02-05T10:00:36+00:00\",\"2023-02-05T10:00:34+00:00\",\"2023-02-05T09:43:14+00:00\",\"2023-02-05T09:38:11+00:00\",\"2023-02-05T09:10:00+00:00\",\"2023-02-05T08:50:36+00:00\",\"2023-02-05T05:00:00+00:00\",\"2023-02-05T04:02:22+00:00\",\"2023-02-05T02:45:53+00:00\",\"2023-02-05T02:17:59+00:00\"],\"xaxis\":\"x\",\"yaxis\":\"y\",\"type\":\"histogram\"}],                        {\"template\":{\"data\":{\"bar\":[{\"error_x\":{\"color\":\"#2a3f5f\"},\"error_y\":{\"color\":\"#2a3f5f\"},\"marker\":{\"line\":{\"color\":\"#E5ECF6\",\"width\":0.5},\"pattern\":{\"fillmode\":\"overlay\",\"size\":10,\"solidity\":0.2}},\"type\":\"bar\"}],\"barpolar\":[{\"marker\":{\"line\":{\"color\":\"#E5ECF6\",\"width\":0.5},\"pattern\":{\"fillmode\":\"overlay\",\"size\":10,\"solidity\":0.2}},\"type\":\"barpolar\"}],\"carpet\":[{\"aaxis\":{\"endlinecolor\":\"#2a3f5f\",\"gridcolor\":\"white\",\"linecolor\":\"white\",\"minorgridcolor\":\"white\",\"startlinecolor\":\"#2a3f5f\"},\"baxis\":{\"endlinecolor\":\"#2a3f5f\",\"gridcolor\":\"white\",\"linecolor\":\"white\",\"minorgridcolor\":\"white\",\"startlinecolor\":\"#2a3f5f\"},\"type\":\"carpet\"}],\"choropleth\":[{\"colorbar\":{\"outlinewidth\":0,\"ticks\":\"\"},\"type\":\"choropleth\"}],\"contour\":[{\"colorbar\":{\"outlinewidth\":0,\"ticks\":\"\"},\"colorscale\":[[0.0,\"#0d0887\"],[0.1111111111111111,\"#46039f\"],[0.2222222222222222,\"#7201a8\"],[0.3333333333333333,\"#9c179e\"],[0.4444444444444444,\"#bd3786\"],[0.5555555555555556,\"#d8576b\"],[0.6666666666666666,\"#ed7953\"],[0.7777777777777778,\"#fb9f3a\"],[0.8888888888888888,\"#fdca26\"],[1.0,\"#f0f921\"]],\"type\":\"contour\"}],\"contourcarpet\":[{\"colorbar\":{\"outlinewidth\":0,\"ticks\":\"\"},\"type\":\"contourcarpet\"}],\"heatmap\":[{\"colorbar\":{\"outlinewidth\":0,\"ticks\":\"\"},\"colorscale\":[[0.0,\"#0d0887\"],[0.1111111111111111,\"#46039f\"],[0.2222222222222222,\"#7201a8\"],[0.3333333333333333,\"#9c179e\"],[0.4444444444444444,\"#bd3786\"],[0.5555555555555556,\"#d8576b\"],[0.6666666666666666,\"#ed7953\"],[0.7777777777777778,\"#fb9f3a\"],[0.8888888888888888,\"#fdca26\"],[1.0,\"#f0f921\"]],\"type\":\"heatmap\"}],\"heatmapgl\":[{\"colorbar\":{\"outlinewidth\":0,\"ticks\":\"\"},\"colorscale\":[[0.0,\"#0d0887\"],[0.1111111111111111,\"#46039f\"],[0.2222222222222222,\"#7201a8\"],[0.3333333333333333,\"#9c179e\"],[0.4444444444444444,\"#bd3786\"],[0.5555555555555556,\"#d8576b\"],[0.6666666666666666,\"#ed7953\"],[0.7777777777777778,\"#fb9f3a\"],[0.8888888888888888,\"#fdca26\"],[1.0,\"#f0f921\"]],\"type\":\"heatmapgl\"}],\"histogram\":[{\"marker\":{\"pattern\":{\"fillmode\":\"overlay\",\"size\":10,\"solidity\":0.2}},\"type\":\"histogram\"}],\"histogram2d\":[{\"colorbar\":{\"outlinewidth\":0,\"ticks\":\"\"},\"colorscale\":[[0.0,\"#0d0887\"],[0.1111111111111111,\"#46039f\"],[0.2222222222222222,\"#7201a8\"],[0.3333333333333333,\"#9c179e\"],[0.4444444444444444,\"#bd3786\"],[0.5555555555555556,\"#d8576b\"],[0.6666666666666666,\"#ed7953\"],[0.7777777777777778,\"#fb9f3a\"],[0.8888888888888888,\"#fdca26\"],[1.0,\"#f0f921\"]],\"type\":\"histogram2d\"}],\"histogram2dcontour\":[{\"colorbar\":{\"outlinewidth\":0,\"ticks\":\"\"},\"colorscale\":[[0.0,\"#0d0887\"],[0.1111111111111111,\"#46039f\"],[0.2222222222222222,\"#7201a8\"],[0.3333333333333333,\"#9c179e\"],[0.4444444444444444,\"#bd3786\"],[0.5555555555555556,\"#d8576b\"],[0.6666666666666666,\"#ed7953\"],[0.7777777777777778,\"#fb9f3a\"],[0.8888888888888888,\"#fdca26\"],[1.0,\"#f0f921\"]],\"type\":\"histogram2dcontour\"}],\"mesh3d\":[{\"colorbar\":{\"outlinewidth\":0,\"ticks\":\"\"},\"type\":\"mesh3d\"}],\"parcoords\":[{\"line\":{\"colorbar\":{\"outlinewidth\":0,\"ticks\":\"\"}},\"type\":\"parcoords\"}],\"pie\":[{\"automargin\":true,\"type\":\"pie\"}],\"scatter\":[{\"marker\":{\"colorbar\":{\"outlinewidth\":0,\"ticks\":\"\"}},\"type\":\"scatter\"}],\"scatter3d\":[{\"line\":{\"colorbar\":{\"outlinewidth\":0,\"ticks\":\"\"}},\"marker\":{\"colorbar\":{\"outlinewidth\":0,\"ticks\":\"\"}},\"type\":\"scatter3d\"}],\"scattercarpet\":[{\"marker\":{\"colorbar\":{\"outlinewidth\":0,\"ticks\":\"\"}},\"type\":\"scattercarpet\"}],\"scattergeo\":[{\"marker\":{\"colorbar\":{\"outlinewidth\":0,\"ticks\":\"\"}},\"type\":\"scattergeo\"}],\"scattergl\":[{\"marker\":{\"colorbar\":{\"outlinewidth\":0,\"ticks\":\"\"}},\"type\":\"scattergl\"}],\"scattermapbox\":[{\"marker\":{\"colorbar\":{\"outlinewidth\":0,\"ticks\":\"\"}},\"type\":\"scattermapbox\"}],\"scatterpolar\":[{\"marker\":{\"colorbar\":{\"outlinewidth\":0,\"ticks\":\"\"}},\"type\":\"scatterpolar\"}],\"scatterpolargl\":[{\"marker\":{\"colorbar\":{\"outlinewidth\":0,\"ticks\":\"\"}},\"type\":\"scatterpolargl\"}],\"scatterternary\":[{\"marker\":{\"colorbar\":{\"outlinewidth\":0,\"ticks\":\"\"}},\"type\":\"scatterternary\"}],\"surface\":[{\"colorbar\":{\"outlinewidth\":0,\"ticks\":\"\"},\"colorscale\":[[0.0,\"#0d0887\"],[0.1111111111111111,\"#46039f\"],[0.2222222222222222,\"#7201a8\"],[0.3333333333333333,\"#9c179e\"],[0.4444444444444444,\"#bd3786\"],[0.5555555555555556,\"#d8576b\"],[0.6666666666666666,\"#ed7953\"],[0.7777777777777778,\"#fb9f3a\"],[0.8888888888888888,\"#fdca26\"],[1.0,\"#f0f921\"]],\"type\":\"surface\"}],\"table\":[{\"cells\":{\"fill\":{\"color\":\"#EBF0F8\"},\"line\":{\"color\":\"white\"}},\"header\":{\"fill\":{\"color\":\"#C8D4E3\"},\"line\":{\"color\":\"white\"}},\"type\":\"table\"}]},\"layout\":{\"annotationdefaults\":{\"arrowcolor\":\"#2a3f5f\",\"arrowhead\":0,\"arrowwidth\":1},\"autotypenumbers\":\"strict\",\"coloraxis\":{\"colorbar\":{\"outlinewidth\":0,\"ticks\":\"\"}},\"colorscale\":{\"diverging\":[[0,\"#8e0152\"],[0.1,\"#c51b7d\"],[0.2,\"#de77ae\"],[0.3,\"#f1b6da\"],[0.4,\"#fde0ef\"],[0.5,\"#f7f7f7\"],[0.6,\"#e6f5d0\"],[0.7,\"#b8e186\"],[0.8,\"#7fbc41\"],[0.9,\"#4d9221\"],[1,\"#276419\"]],\"sequential\":[[0.0,\"#0d0887\"],[0.1111111111111111,\"#46039f\"],[0.2222222222222222,\"#7201a8\"],[0.3333333333333333,\"#9c179e\"],[0.4444444444444444,\"#bd3786\"],[0.5555555555555556,\"#d8576b\"],[0.6666666666666666,\"#ed7953\"],[0.7777777777777778,\"#fb9f3a\"],[0.8888888888888888,\"#fdca26\"],[1.0,\"#f0f921\"]],\"sequentialminus\":[[0.0,\"#0d0887\"],[0.1111111111111111,\"#46039f\"],[0.2222222222222222,\"#7201a8\"],[0.3333333333333333,\"#9c179e\"],[0.4444444444444444,\"#bd3786\"],[0.5555555555555556,\"#d8576b\"],[0.6666666666666666,\"#ed7953\"],[0.7777777777777778,\"#fb9f3a\"],[0.8888888888888888,\"#fdca26\"],[1.0,\"#f0f921\"]]},\"colorway\":[\"#636efa\",\"#EF553B\",\"#00cc96\",\"#ab63fa\",\"#FFA15A\",\"#19d3f3\",\"#FF6692\",\"#B6E880\",\"#FF97FF\",\"#FECB52\"],\"font\":{\"color\":\"#2a3f5f\"},\"geo\":{\"bgcolor\":\"white\",\"lakecolor\":\"white\",\"landcolor\":\"#E5ECF6\",\"showlakes\":true,\"showland\":true,\"subunitcolor\":\"white\"},\"hoverlabel\":{\"align\":\"left\"},\"hovermode\":\"closest\",\"mapbox\":{\"style\":\"light\"},\"paper_bgcolor\":\"white\",\"plot_bgcolor\":\"#E5ECF6\",\"polar\":{\"angularaxis\":{\"gridcolor\":\"white\",\"linecolor\":\"white\",\"ticks\":\"\"},\"bgcolor\":\"#E5ECF6\",\"radialaxis\":{\"gridcolor\":\"white\",\"linecolor\":\"white\",\"ticks\":\"\"}},\"scene\":{\"xaxis\":{\"backgroundcolor\":\"#E5ECF6\",\"gridcolor\":\"white\",\"gridwidth\":2,\"linecolor\":\"white\",\"showbackground\":true,\"ticks\":\"\",\"zerolinecolor\":\"white\"},\"yaxis\":{\"backgroundcolor\":\"#E5ECF6\",\"gridcolor\":\"white\",\"gridwidth\":2,\"linecolor\":\"white\",\"showbackground\":true,\"ticks\":\"\",\"zerolinecolor\":\"white\"},\"zaxis\":{\"backgroundcolor\":\"#E5ECF6\",\"gridcolor\":\"white\",\"gridwidth\":2,\"linecolor\":\"white\",\"showbackground\":true,\"ticks\":\"\",\"zerolinecolor\":\"white\"}},\"shapedefaults\":{\"line\":{\"color\":\"#2a3f5f\"}},\"ternary\":{\"aaxis\":{\"gridcolor\":\"white\",\"linecolor\":\"white\",\"ticks\":\"\"},\"baxis\":{\"gridcolor\":\"white\",\"linecolor\":\"white\",\"ticks\":\"\"},\"bgcolor\":\"#E5ECF6\",\"caxis\":{\"gridcolor\":\"white\",\"linecolor\":\"white\",\"ticks\":\"\"}},\"title\":{\"x\":0.05},\"xaxis\":{\"automargin\":true,\"gridcolor\":\"white\",\"linecolor\":\"white\",\"ticks\":\"\",\"title\":{\"standoff\":15},\"zerolinecolor\":\"white\",\"zerolinewidth\":2},\"yaxis\":{\"automargin\":true,\"gridcolor\":\"white\",\"linecolor\":\"white\",\"ticks\":\"\",\"title\":{\"standoff\":15},\"zerolinecolor\":\"white\",\"zerolinewidth\":2}}},\"xaxis\":{\"anchor\":\"y\",\"domain\":[0.0,1.0],\"title\":{\"text\":\"Date\"}},\"yaxis\":{\"anchor\":\"x\",\"domain\":[0.0,1.0],\"title\":{\"text\":\"count\"}},\"legend\":{\"tracegroupgap\":0},\"title\":{\"text\":\"Tweets durante durante el tiempo\"},\"barmode\":\"relative\",\"bargap\":0.2},                        {\"responsive\": true}                    ).then(function(){\n",
              "                            \n",
              "var gd = document.getElementById('368ceb02-9e9f-473e-ada6-fe38679b8b09');\n",
              "var x = new MutationObserver(function (mutations, observer) {{\n",
              "        var display = window.getComputedStyle(gd).display;\n",
              "        if (!display || display === 'none') {{\n",
              "            console.log([gd, 'removed!']);\n",
              "            Plotly.purge(gd);\n",
              "            observer.disconnect();\n",
              "        }}\n",
              "}});\n",
              "\n",
              "// Listen for the removal of the full notebook cells\n",
              "var notebookContainer = gd.closest('#notebook-container');\n",
              "if (notebookContainer) {{\n",
              "    x.observe(notebookContainer, {childList: true});\n",
              "}}\n",
              "\n",
              "// Listen for the clearing of the current output cell\n",
              "var outputEl = gd.closest('.output');\n",
              "if (outputEl) {{\n",
              "    x.observe(outputEl, {childList: true});\n",
              "}}\n",
              "\n",
              "                        })                };                            </script>        </div>\n",
              "</body>\n",
              "</html>"
            ]
          },
          "metadata": {}
        }
      ]
    },
    {
      "cell_type": "markdown",
      "source": [
        "#Tweets durante la Kings League\n",
        "\n",
        ". Podemos ver que en la previa del partido hubo una subida de tweets a las 3:30 de la tarde hora españa.\n",
        "\n",
        ". Podemos observar que hubo una subida de tweets luego de terminar el partido de XBuyer vs 1K.\n",
        "\n",
        ". A las 5 empieza el SaiyansFc vs El Barrio se generan 57 tweets y cuando termina se concluye a la 5:30 con 86 tweets.\n",
        "\n",
        ". El Kunisports vs Ultimate Mostoles empezo a las 6 con 105 tweets y al terminar se concluye a las 6:30 con 124 tweets.\n",
        "\n",
        ". El JijantesFc vs PorcinosFc empezo a las 7 con 110 tweets y al terminar se concluye a las 7:30 con 141 tweets.\n",
        "\n",
        ". El Rayo de Barcelona vs PioFc empezo a las 8 con 116 tweets y al terminar se concluye a las 8:30 con 167 tweets.\n"
      ],
      "metadata": {
        "id": "lQ_OOYw_HGtn"
      }
    },
    {
      "cell_type": "code",
      "source": [
        "fig = px.histogram(df, x=positive_tweet[\"Date\"], title=\"Tweets positivos durante el tiempo\")\n",
        "fig.update_layout(bargap=0.2)\n",
        "fig.show()"
      ],
      "metadata": {
        "colab": {
          "base_uri": "https://localhost:8080/",
          "height": 542
        },
        "id": "InUpilhkyFG2",
        "outputId": "2d5e3df8-f448-4e64-fd72-9c594650809c"
      },
      "execution_count": null,
      "outputs": [
        {
          "output_type": "display_data",
          "data": {
            "text/html": [
              "<html>\n",
              "<head><meta charset=\"utf-8\" /></head>\n",
              "<body>\n",
              "    <div>            <script src=\"https://cdnjs.cloudflare.com/ajax/libs/mathjax/2.7.5/MathJax.js?config=TeX-AMS-MML_SVG\"></script><script type=\"text/javascript\">if (window.MathJax) {MathJax.Hub.Config({SVG: {font: \"STIX-Web\"}});}</script>                <script type=\"text/javascript\">window.PlotlyConfig = {MathJaxConfig: 'local'};</script>\n",
              "        <script src=\"https://cdn.plot.ly/plotly-2.8.3.min.js\"></script>                <div id=\"58ee3114-6c54-4af1-a7ae-936a31c542cf\" class=\"plotly-graph-div\" style=\"height:525px; width:100%;\"></div>            <script type=\"text/javascript\">                                    window.PLOTLYENV=window.PLOTLYENV || {};                                    if (document.getElementById(\"58ee3114-6c54-4af1-a7ae-936a31c542cf\")) {                    Plotly.newPlot(                        \"58ee3114-6c54-4af1-a7ae-936a31c542cf\",                        [{\"alignmentgroup\":\"True\",\"bingroup\":\"x\",\"hovertemplate\":\"x=%{x}<br>count=%{y}<extra></extra>\",\"legendgroup\":\"\",\"marker\":{\"color\":\"#636efa\",\"pattern\":{\"shape\":\"\"}},\"name\":\"\",\"offsetgroup\":\"\",\"orientation\":\"v\",\"showlegend\":false,\"x\":[\"2023-02-05T23:50:07+00:00\",\"2023-02-05T23:25:37+00:00\",\"2023-02-05T23:24:48+00:00\",\"2023-02-05T23:24:06+00:00\",\"2023-02-05T23:16:42+00:00\",\"2023-02-05T23:02:29+00:00\",\"2023-02-05T22:39:01+00:00\",\"2023-02-05T22:29:04+00:00\",\"2023-02-05T22:19:30+00:00\",\"2023-02-05T21:16:49+00:00\",\"2023-02-05T21:13:51+00:00\",\"2023-02-05T21:11:14+00:00\",\"2023-02-05T21:05:55+00:00\",\"2023-02-05T21:04:14+00:00\",\"2023-02-05T21:00:17+00:00\",\"2023-02-05T20:53:36+00:00\",\"2023-02-05T20:52:10+00:00\",\"2023-02-05T20:51:51+00:00\",\"2023-02-05T20:51:43+00:00\",\"2023-02-05T20:51:42+00:00\",\"2023-02-05T20:51:33+00:00\",\"2023-02-05T20:51:12+00:00\",\"2023-02-05T20:50:51+00:00\",\"2023-02-05T20:48:57+00:00\",\"2023-02-05T20:48:08+00:00\",\"2023-02-05T20:47:22+00:00\",\"2023-02-05T20:47:01+00:00\",\"2023-02-05T20:46:55+00:00\",\"2023-02-05T20:46:34+00:00\",\"2023-02-05T20:46:29+00:00\",\"2023-02-05T20:46:05+00:00\",\"2023-02-05T20:45:59+00:00\",\"2023-02-05T20:45:55+00:00\",\"2023-02-05T20:45:34+00:00\",\"2023-02-05T20:44:28+00:00\",\"2023-02-05T20:44:10+00:00\",\"2023-02-05T20:43:19+00:00\",\"2023-02-05T20:42:55+00:00\",\"2023-02-05T20:41:58+00:00\",\"2023-02-05T20:41:45+00:00\",\"2023-02-05T20:39:41+00:00\",\"2023-02-05T20:38:28+00:00\",\"2023-02-05T20:36:02+00:00\",\"2023-02-05T20:33:26+00:00\",\"2023-02-05T20:33:26+00:00\",\"2023-02-05T20:31:15+00:00\",\"2023-02-05T20:29:08+00:00\",\"2023-02-05T20:28:59+00:00\",\"2023-02-05T20:28:26+00:00\",\"2023-02-05T20:27:52+00:00\",\"2023-02-05T20:27:15+00:00\",\"2023-02-05T20:26:26+00:00\",\"2023-02-05T20:25:25+00:00\",\"2023-02-05T20:24:48+00:00\",\"2023-02-05T20:21:16+00:00\",\"2023-02-05T20:19:41+00:00\",\"2023-02-05T20:18:21+00:00\",\"2023-02-05T20:18:03+00:00\",\"2023-02-05T20:10:46+00:00\",\"2023-02-05T20:09:09+00:00\",\"2023-02-05T20:05:56+00:00\",\"2023-02-05T20:04:51+00:00\",\"2023-02-05T20:03:23+00:00\",\"2023-02-05T20:01:56+00:00\",\"2023-02-05T20:00:49+00:00\",\"2023-02-05T19:56:21+00:00\",\"2023-02-05T19:54:27+00:00\",\"2023-02-05T19:54:05+00:00\",\"2023-02-05T19:53:45+00:00\",\"2023-02-05T19:53:34+00:00\",\"2023-02-05T19:53:18+00:00\",\"2023-02-05T19:46:54+00:00\",\"2023-02-05T19:46:27+00:00\",\"2023-02-05T19:46:22+00:00\",\"2023-02-05T19:46:10+00:00\",\"2023-02-05T19:44:56+00:00\",\"2023-02-05T19:40:26+00:00\",\"2023-02-05T19:39:52+00:00\",\"2023-02-05T19:34:44+00:00\",\"2023-02-05T19:29:09+00:00\",\"2023-02-05T19:27:39+00:00\",\"2023-02-05T19:27:24+00:00\",\"2023-02-05T19:26:26+00:00\",\"2023-02-05T19:24:03+00:00\",\"2023-02-05T19:22:37+00:00\",\"2023-02-05T19:21:06+00:00\",\"2023-02-05T19:20:21+00:00\",\"2023-02-05T19:15:51+00:00\",\"2023-02-05T19:15:03+00:00\",\"2023-02-05T19:14:55+00:00\",\"2023-02-05T19:14:46+00:00\",\"2023-02-05T19:14:45+00:00\",\"2023-02-05T19:14:35+00:00\",\"2023-02-05T19:12:48+00:00\",\"2023-02-05T19:12:22+00:00\",\"2023-02-05T19:10:26+00:00\",\"2023-02-05T19:02:17+00:00\",\"2023-02-05T18:59:34+00:00\",\"2023-02-05T18:58:12+00:00\",\"2023-02-05T18:57:24+00:00\",\"2023-02-05T18:56:35+00:00\",\"2023-02-05T18:56:18+00:00\",\"2023-02-05T18:56:05+00:00\",\"2023-02-05T18:52:50+00:00\",\"2023-02-05T18:52:36+00:00\",\"2023-02-05T18:52:13+00:00\",\"2023-02-05T18:51:04+00:00\",\"2023-02-05T18:50:29+00:00\",\"2023-02-05T18:49:50+00:00\",\"2023-02-05T18:49:49+00:00\",\"2023-02-05T18:48:22+00:00\",\"2023-02-05T18:48:21+00:00\",\"2023-02-05T18:48:06+00:00\",\"2023-02-05T18:48:06+00:00\",\"2023-02-05T18:44:06+00:00\",\"2023-02-05T18:42:08+00:00\",\"2023-02-05T18:41:50+00:00\",\"2023-02-05T18:41:41+00:00\",\"2023-02-05T18:40:40+00:00\",\"2023-02-05T18:38:51+00:00\",\"2023-02-05T18:36:58+00:00\",\"2023-02-05T18:31:59+00:00\",\"2023-02-05T18:31:54+00:00\",\"2023-02-05T18:31:48+00:00\",\"2023-02-05T18:27:25+00:00\",\"2023-02-05T18:26:04+00:00\",\"2023-02-05T18:25:27+00:00\",\"2023-02-05T18:24:33+00:00\",\"2023-02-05T18:23:03+00:00\",\"2023-02-05T18:19:57+00:00\",\"2023-02-05T18:19:50+00:00\",\"2023-02-05T18:19:44+00:00\",\"2023-02-05T18:19:14+00:00\",\"2023-02-05T18:18:56+00:00\",\"2023-02-05T18:18:35+00:00\",\"2023-02-05T18:18:21+00:00\",\"2023-02-05T18:18:13+00:00\",\"2023-02-05T18:18:02+00:00\",\"2023-02-05T18:17:52+00:00\",\"2023-02-05T18:07:31+00:00\",\"2023-02-05T18:00:50+00:00\",\"2023-02-05T17:59:29+00:00\",\"2023-02-05T17:52:40+00:00\",\"2023-02-05T17:50:19+00:00\",\"2023-02-05T17:49:47+00:00\",\"2023-02-05T17:40:16+00:00\",\"2023-02-05T17:38:31+00:00\",\"2023-02-05T17:36:51+00:00\",\"2023-02-05T17:36:38+00:00\",\"2023-02-05T17:36:32+00:00\",\"2023-02-05T17:36:06+00:00\",\"2023-02-05T17:34:24+00:00\",\"2023-02-05T17:33:48+00:00\",\"2023-02-05T17:32:50+00:00\",\"2023-02-05T17:32:11+00:00\",\"2023-02-05T17:24:09+00:00\",\"2023-02-05T17:21:25+00:00\",\"2023-02-05T17:18:45+00:00\",\"2023-02-05T17:18:03+00:00\",\"2023-02-05T17:04:51+00:00\",\"2023-02-05T17:00:15+00:00\",\"2023-02-05T16:57:57+00:00\",\"2023-02-05T16:57:02+00:00\",\"2023-02-05T16:56:45+00:00\",\"2023-02-05T16:55:46+00:00\",\"2023-02-05T16:55:36+00:00\",\"2023-02-05T16:55:32+00:00\",\"2023-02-05T16:53:54+00:00\",\"2023-02-05T16:53:24+00:00\",\"2023-02-05T16:52:31+00:00\",\"2023-02-05T16:51:48+00:00\",\"2023-02-05T16:51:20+00:00\",\"2023-02-05T16:51:05+00:00\",\"2023-02-05T16:51:02+00:00\",\"2023-02-05T16:51:01+00:00\",\"2023-02-05T16:50:49+00:00\",\"2023-02-05T16:50:40+00:00\",\"2023-02-05T16:50:19+00:00\",\"2023-02-05T16:50:00+00:00\",\"2023-02-05T16:49:52+00:00\",\"2023-02-05T16:49:44+00:00\",\"2023-02-05T16:49:00+00:00\",\"2023-02-05T16:48:55+00:00\",\"2023-02-05T16:48:32+00:00\",\"2023-02-05T16:42:09+00:00\",\"2023-02-05T16:38:23+00:00\",\"2023-02-05T16:27:18+00:00\",\"2023-02-05T16:26:14+00:00\",\"2023-02-05T16:25:37+00:00\",\"2023-02-05T16:25:12+00:00\",\"2023-02-05T16:24:39+00:00\",\"2023-02-05T16:16:53+00:00\",\"2023-02-05T16:14:57+00:00\",\"2023-02-05T16:13:01+00:00\",\"2023-02-05T16:05:28+00:00\",\"2023-02-05T16:01:43+00:00\",\"2023-02-05T16:00:55+00:00\",\"2023-02-05T15:58:15+00:00\",\"2023-02-05T15:56:50+00:00\",\"2023-02-05T15:54:54+00:00\",\"2023-02-05T15:54:32+00:00\",\"2023-02-05T15:51:58+00:00\",\"2023-02-05T15:51:30+00:00\",\"2023-02-05T15:51:09+00:00\",\"2023-02-05T15:48:56+00:00\",\"2023-02-05T15:48:52+00:00\",\"2023-02-05T15:45:42+00:00\",\"2023-02-05T15:44:55+00:00\",\"2023-02-05T15:44:41+00:00\",\"2023-02-05T15:44:39+00:00\",\"2023-02-05T15:44:21+00:00\",\"2023-02-05T15:44:13+00:00\",\"2023-02-05T15:43:26+00:00\",\"2023-02-05T15:41:34+00:00\",\"2023-02-05T15:28:55+00:00\",\"2023-02-05T15:28:17+00:00\",\"2023-02-05T15:27:23+00:00\",\"2023-02-05T15:24:30+00:00\",\"2023-02-05T15:24:19+00:00\",\"2023-02-05T15:24:09+00:00\",\"2023-02-05T15:23:47+00:00\",\"2023-02-05T15:23:35+00:00\",\"2023-02-05T15:23:34+00:00\",\"2023-02-05T15:23:12+00:00\",\"2023-02-05T15:22:58+00:00\",\"2023-02-05T15:22:53+00:00\",\"2023-02-05T15:22:40+00:00\",\"2023-02-05T15:22:35+00:00\",\"2023-02-05T15:20:08+00:00\",\"2023-02-05T15:18:18+00:00\",\"2023-02-05T15:12:18+00:00\",\"2023-02-05T15:08:33+00:00\",\"2023-02-05T15:08:28+00:00\",\"2023-02-05T15:06:46+00:00\",\"2023-02-05T15:01:15+00:00\",\"2023-02-05T15:00:19+00:00\",\"2023-02-05T14:59:43+00:00\",\"2023-02-05T14:39:47+00:00\",\"2023-02-05T14:35:40+00:00\",\"2023-02-05T14:34:13+00:00\",\"2023-02-05T14:33:55+00:00\",\"2023-02-05T14:33:04+00:00\",\"2023-02-05T12:08:56+00:00\",\"2023-02-05T11:12:27+00:00\",\"2023-02-05T11:06:01+00:00\",\"2023-02-05T10:35:19+00:00\"],\"xaxis\":\"x\",\"yaxis\":\"y\",\"type\":\"histogram\"}],                        {\"template\":{\"data\":{\"bar\":[{\"error_x\":{\"color\":\"#2a3f5f\"},\"error_y\":{\"color\":\"#2a3f5f\"},\"marker\":{\"line\":{\"color\":\"#E5ECF6\",\"width\":0.5},\"pattern\":{\"fillmode\":\"overlay\",\"size\":10,\"solidity\":0.2}},\"type\":\"bar\"}],\"barpolar\":[{\"marker\":{\"line\":{\"color\":\"#E5ECF6\",\"width\":0.5},\"pattern\":{\"fillmode\":\"overlay\",\"size\":10,\"solidity\":0.2}},\"type\":\"barpolar\"}],\"carpet\":[{\"aaxis\":{\"endlinecolor\":\"#2a3f5f\",\"gridcolor\":\"white\",\"linecolor\":\"white\",\"minorgridcolor\":\"white\",\"startlinecolor\":\"#2a3f5f\"},\"baxis\":{\"endlinecolor\":\"#2a3f5f\",\"gridcolor\":\"white\",\"linecolor\":\"white\",\"minorgridcolor\":\"white\",\"startlinecolor\":\"#2a3f5f\"},\"type\":\"carpet\"}],\"choropleth\":[{\"colorbar\":{\"outlinewidth\":0,\"ticks\":\"\"},\"type\":\"choropleth\"}],\"contour\":[{\"colorbar\":{\"outlinewidth\":0,\"ticks\":\"\"},\"colorscale\":[[0.0,\"#0d0887\"],[0.1111111111111111,\"#46039f\"],[0.2222222222222222,\"#7201a8\"],[0.3333333333333333,\"#9c179e\"],[0.4444444444444444,\"#bd3786\"],[0.5555555555555556,\"#d8576b\"],[0.6666666666666666,\"#ed7953\"],[0.7777777777777778,\"#fb9f3a\"],[0.8888888888888888,\"#fdca26\"],[1.0,\"#f0f921\"]],\"type\":\"contour\"}],\"contourcarpet\":[{\"colorbar\":{\"outlinewidth\":0,\"ticks\":\"\"},\"type\":\"contourcarpet\"}],\"heatmap\":[{\"colorbar\":{\"outlinewidth\":0,\"ticks\":\"\"},\"colorscale\":[[0.0,\"#0d0887\"],[0.1111111111111111,\"#46039f\"],[0.2222222222222222,\"#7201a8\"],[0.3333333333333333,\"#9c179e\"],[0.4444444444444444,\"#bd3786\"],[0.5555555555555556,\"#d8576b\"],[0.6666666666666666,\"#ed7953\"],[0.7777777777777778,\"#fb9f3a\"],[0.8888888888888888,\"#fdca26\"],[1.0,\"#f0f921\"]],\"type\":\"heatmap\"}],\"heatmapgl\":[{\"colorbar\":{\"outlinewidth\":0,\"ticks\":\"\"},\"colorscale\":[[0.0,\"#0d0887\"],[0.1111111111111111,\"#46039f\"],[0.2222222222222222,\"#7201a8\"],[0.3333333333333333,\"#9c179e\"],[0.4444444444444444,\"#bd3786\"],[0.5555555555555556,\"#d8576b\"],[0.6666666666666666,\"#ed7953\"],[0.7777777777777778,\"#fb9f3a\"],[0.8888888888888888,\"#fdca26\"],[1.0,\"#f0f921\"]],\"type\":\"heatmapgl\"}],\"histogram\":[{\"marker\":{\"pattern\":{\"fillmode\":\"overlay\",\"size\":10,\"solidity\":0.2}},\"type\":\"histogram\"}],\"histogram2d\":[{\"colorbar\":{\"outlinewidth\":0,\"ticks\":\"\"},\"colorscale\":[[0.0,\"#0d0887\"],[0.1111111111111111,\"#46039f\"],[0.2222222222222222,\"#7201a8\"],[0.3333333333333333,\"#9c179e\"],[0.4444444444444444,\"#bd3786\"],[0.5555555555555556,\"#d8576b\"],[0.6666666666666666,\"#ed7953\"],[0.7777777777777778,\"#fb9f3a\"],[0.8888888888888888,\"#fdca26\"],[1.0,\"#f0f921\"]],\"type\":\"histogram2d\"}],\"histogram2dcontour\":[{\"colorbar\":{\"outlinewidth\":0,\"ticks\":\"\"},\"colorscale\":[[0.0,\"#0d0887\"],[0.1111111111111111,\"#46039f\"],[0.2222222222222222,\"#7201a8\"],[0.3333333333333333,\"#9c179e\"],[0.4444444444444444,\"#bd3786\"],[0.5555555555555556,\"#d8576b\"],[0.6666666666666666,\"#ed7953\"],[0.7777777777777778,\"#fb9f3a\"],[0.8888888888888888,\"#fdca26\"],[1.0,\"#f0f921\"]],\"type\":\"histogram2dcontour\"}],\"mesh3d\":[{\"colorbar\":{\"outlinewidth\":0,\"ticks\":\"\"},\"type\":\"mesh3d\"}],\"parcoords\":[{\"line\":{\"colorbar\":{\"outlinewidth\":0,\"ticks\":\"\"}},\"type\":\"parcoords\"}],\"pie\":[{\"automargin\":true,\"type\":\"pie\"}],\"scatter\":[{\"marker\":{\"colorbar\":{\"outlinewidth\":0,\"ticks\":\"\"}},\"type\":\"scatter\"}],\"scatter3d\":[{\"line\":{\"colorbar\":{\"outlinewidth\":0,\"ticks\":\"\"}},\"marker\":{\"colorbar\":{\"outlinewidth\":0,\"ticks\":\"\"}},\"type\":\"scatter3d\"}],\"scattercarpet\":[{\"marker\":{\"colorbar\":{\"outlinewidth\":0,\"ticks\":\"\"}},\"type\":\"scattercarpet\"}],\"scattergeo\":[{\"marker\":{\"colorbar\":{\"outlinewidth\":0,\"ticks\":\"\"}},\"type\":\"scattergeo\"}],\"scattergl\":[{\"marker\":{\"colorbar\":{\"outlinewidth\":0,\"ticks\":\"\"}},\"type\":\"scattergl\"}],\"scattermapbox\":[{\"marker\":{\"colorbar\":{\"outlinewidth\":0,\"ticks\":\"\"}},\"type\":\"scattermapbox\"}],\"scatterpolar\":[{\"marker\":{\"colorbar\":{\"outlinewidth\":0,\"ticks\":\"\"}},\"type\":\"scatterpolar\"}],\"scatterpolargl\":[{\"marker\":{\"colorbar\":{\"outlinewidth\":0,\"ticks\":\"\"}},\"type\":\"scatterpolargl\"}],\"scatterternary\":[{\"marker\":{\"colorbar\":{\"outlinewidth\":0,\"ticks\":\"\"}},\"type\":\"scatterternary\"}],\"surface\":[{\"colorbar\":{\"outlinewidth\":0,\"ticks\":\"\"},\"colorscale\":[[0.0,\"#0d0887\"],[0.1111111111111111,\"#46039f\"],[0.2222222222222222,\"#7201a8\"],[0.3333333333333333,\"#9c179e\"],[0.4444444444444444,\"#bd3786\"],[0.5555555555555556,\"#d8576b\"],[0.6666666666666666,\"#ed7953\"],[0.7777777777777778,\"#fb9f3a\"],[0.8888888888888888,\"#fdca26\"],[1.0,\"#f0f921\"]],\"type\":\"surface\"}],\"table\":[{\"cells\":{\"fill\":{\"color\":\"#EBF0F8\"},\"line\":{\"color\":\"white\"}},\"header\":{\"fill\":{\"color\":\"#C8D4E3\"},\"line\":{\"color\":\"white\"}},\"type\":\"table\"}]},\"layout\":{\"annotationdefaults\":{\"arrowcolor\":\"#2a3f5f\",\"arrowhead\":0,\"arrowwidth\":1},\"autotypenumbers\":\"strict\",\"coloraxis\":{\"colorbar\":{\"outlinewidth\":0,\"ticks\":\"\"}},\"colorscale\":{\"diverging\":[[0,\"#8e0152\"],[0.1,\"#c51b7d\"],[0.2,\"#de77ae\"],[0.3,\"#f1b6da\"],[0.4,\"#fde0ef\"],[0.5,\"#f7f7f7\"],[0.6,\"#e6f5d0\"],[0.7,\"#b8e186\"],[0.8,\"#7fbc41\"],[0.9,\"#4d9221\"],[1,\"#276419\"]],\"sequential\":[[0.0,\"#0d0887\"],[0.1111111111111111,\"#46039f\"],[0.2222222222222222,\"#7201a8\"],[0.3333333333333333,\"#9c179e\"],[0.4444444444444444,\"#bd3786\"],[0.5555555555555556,\"#d8576b\"],[0.6666666666666666,\"#ed7953\"],[0.7777777777777778,\"#fb9f3a\"],[0.8888888888888888,\"#fdca26\"],[1.0,\"#f0f921\"]],\"sequentialminus\":[[0.0,\"#0d0887\"],[0.1111111111111111,\"#46039f\"],[0.2222222222222222,\"#7201a8\"],[0.3333333333333333,\"#9c179e\"],[0.4444444444444444,\"#bd3786\"],[0.5555555555555556,\"#d8576b\"],[0.6666666666666666,\"#ed7953\"],[0.7777777777777778,\"#fb9f3a\"],[0.8888888888888888,\"#fdca26\"],[1.0,\"#f0f921\"]]},\"colorway\":[\"#636efa\",\"#EF553B\",\"#00cc96\",\"#ab63fa\",\"#FFA15A\",\"#19d3f3\",\"#FF6692\",\"#B6E880\",\"#FF97FF\",\"#FECB52\"],\"font\":{\"color\":\"#2a3f5f\"},\"geo\":{\"bgcolor\":\"white\",\"lakecolor\":\"white\",\"landcolor\":\"#E5ECF6\",\"showlakes\":true,\"showland\":true,\"subunitcolor\":\"white\"},\"hoverlabel\":{\"align\":\"left\"},\"hovermode\":\"closest\",\"mapbox\":{\"style\":\"light\"},\"paper_bgcolor\":\"white\",\"plot_bgcolor\":\"#E5ECF6\",\"polar\":{\"angularaxis\":{\"gridcolor\":\"white\",\"linecolor\":\"white\",\"ticks\":\"\"},\"bgcolor\":\"#E5ECF6\",\"radialaxis\":{\"gridcolor\":\"white\",\"linecolor\":\"white\",\"ticks\":\"\"}},\"scene\":{\"xaxis\":{\"backgroundcolor\":\"#E5ECF6\",\"gridcolor\":\"white\",\"gridwidth\":2,\"linecolor\":\"white\",\"showbackground\":true,\"ticks\":\"\",\"zerolinecolor\":\"white\"},\"yaxis\":{\"backgroundcolor\":\"#E5ECF6\",\"gridcolor\":\"white\",\"gridwidth\":2,\"linecolor\":\"white\",\"showbackground\":true,\"ticks\":\"\",\"zerolinecolor\":\"white\"},\"zaxis\":{\"backgroundcolor\":\"#E5ECF6\",\"gridcolor\":\"white\",\"gridwidth\":2,\"linecolor\":\"white\",\"showbackground\":true,\"ticks\":\"\",\"zerolinecolor\":\"white\"}},\"shapedefaults\":{\"line\":{\"color\":\"#2a3f5f\"}},\"ternary\":{\"aaxis\":{\"gridcolor\":\"white\",\"linecolor\":\"white\",\"ticks\":\"\"},\"baxis\":{\"gridcolor\":\"white\",\"linecolor\":\"white\",\"ticks\":\"\"},\"bgcolor\":\"#E5ECF6\",\"caxis\":{\"gridcolor\":\"white\",\"linecolor\":\"white\",\"ticks\":\"\"}},\"title\":{\"x\":0.05},\"xaxis\":{\"automargin\":true,\"gridcolor\":\"white\",\"linecolor\":\"white\",\"ticks\":\"\",\"title\":{\"standoff\":15},\"zerolinecolor\":\"white\",\"zerolinewidth\":2},\"yaxis\":{\"automargin\":true,\"gridcolor\":\"white\",\"linecolor\":\"white\",\"ticks\":\"\",\"title\":{\"standoff\":15},\"zerolinecolor\":\"white\",\"zerolinewidth\":2}}},\"xaxis\":{\"anchor\":\"y\",\"domain\":[0.0,1.0],\"title\":{\"text\":\"x\"}},\"yaxis\":{\"anchor\":\"x\",\"domain\":[0.0,1.0],\"title\":{\"text\":\"count\"}},\"legend\":{\"tracegroupgap\":0},\"title\":{\"text\":\"Tweets positivos durante el tiempo\"},\"barmode\":\"relative\",\"bargap\":0.2},                        {\"responsive\": true}                    ).then(function(){\n",
              "                            \n",
              "var gd = document.getElementById('58ee3114-6c54-4af1-a7ae-936a31c542cf');\n",
              "var x = new MutationObserver(function (mutations, observer) {{\n",
              "        var display = window.getComputedStyle(gd).display;\n",
              "        if (!display || display === 'none') {{\n",
              "            console.log([gd, 'removed!']);\n",
              "            Plotly.purge(gd);\n",
              "            observer.disconnect();\n",
              "        }}\n",
              "}});\n",
              "\n",
              "// Listen for the removal of the full notebook cells\n",
              "var notebookContainer = gd.closest('#notebook-container');\n",
              "if (notebookContainer) {{\n",
              "    x.observe(notebookContainer, {childList: true});\n",
              "}}\n",
              "\n",
              "// Listen for the clearing of the current output cell\n",
              "var outputEl = gd.closest('.output');\n",
              "if (outputEl) {{\n",
              "    x.observe(outputEl, {childList: true});\n",
              "}}\n",
              "\n",
              "                        })                };                            </script>        </div>\n",
              "</body>\n",
              "</html>"
            ]
          },
          "metadata": {}
        }
      ]
    },
    {
      "cell_type": "markdown",
      "source": [
        "#Pico de tweets positivos\n",
        "\n",
        "\n",
        "\n",
        "*   El pico mas al es a las 9 con 50 tweets\n",
        "*   El segundo pico mas alto es a las 6 con 44 tweets\n",
        "\n"
      ],
      "metadata": {
        "id": "pMoyZ2uJMGJ8"
      }
    },
    {
      "cell_type": "code",
      "source": [
        "fig = px.histogram(df, x=negative_tweet[\"Date\"], title=\"Tweets negativos durante el tiempo\")\n",
        "fig.update_layout(bargap=0.2)\n",
        "fig.show()"
      ],
      "metadata": {
        "colab": {
          "base_uri": "https://localhost:8080/",
          "height": 542
        },
        "id": "XChcWo7NyQDs",
        "outputId": "b1ca7dec-1c16-486a-9342-339f7e80a295"
      },
      "execution_count": null,
      "outputs": [
        {
          "output_type": "display_data",
          "data": {
            "text/html": [
              "<html>\n",
              "<head><meta charset=\"utf-8\" /></head>\n",
              "<body>\n",
              "    <div>            <script src=\"https://cdnjs.cloudflare.com/ajax/libs/mathjax/2.7.5/MathJax.js?config=TeX-AMS-MML_SVG\"></script><script type=\"text/javascript\">if (window.MathJax) {MathJax.Hub.Config({SVG: {font: \"STIX-Web\"}});}</script>                <script type=\"text/javascript\">window.PlotlyConfig = {MathJaxConfig: 'local'};</script>\n",
              "        <script src=\"https://cdn.plot.ly/plotly-2.8.3.min.js\"></script>                <div id=\"7a875844-68ce-43b5-bac4-369ba40fac11\" class=\"plotly-graph-div\" style=\"height:525px; width:100%;\"></div>            <script type=\"text/javascript\">                                    window.PLOTLYENV=window.PLOTLYENV || {};                                    if (document.getElementById(\"7a875844-68ce-43b5-bac4-369ba40fac11\")) {                    Plotly.newPlot(                        \"7a875844-68ce-43b5-bac4-369ba40fac11\",                        [{\"alignmentgroup\":\"True\",\"bingroup\":\"x\",\"hovertemplate\":\"x=%{x}<br>count=%{y}<extra></extra>\",\"legendgroup\":\"\",\"marker\":{\"color\":\"#636efa\",\"pattern\":{\"shape\":\"\"}},\"name\":\"\",\"offsetgroup\":\"\",\"orientation\":\"v\",\"showlegend\":false,\"x\":[\"2023-02-05T23:09:31+00:00\",\"2023-02-05T22:42:02+00:00\",\"2023-02-05T22:16:15+00:00\",\"2023-02-05T22:15:11+00:00\",\"2023-02-05T22:13:35+00:00\",\"2023-02-05T22:13:12+00:00\",\"2023-02-05T22:06:31+00:00\",\"2023-02-05T22:04:02+00:00\",\"2023-02-05T21:52:05+00:00\",\"2023-02-05T21:31:12+00:00\",\"2023-02-05T21:27:41+00:00\",\"2023-02-05T21:26:09+00:00\",\"2023-02-05T21:26:04+00:00\",\"2023-02-05T21:21:18+00:00\",\"2023-02-05T21:09:47+00:00\",\"2023-02-05T21:05:32+00:00\",\"2023-02-05T21:03:18+00:00\",\"2023-02-05T20:58:30+00:00\",\"2023-02-05T20:58:23+00:00\",\"2023-02-05T20:56:21+00:00\",\"2023-02-05T20:56:15+00:00\",\"2023-02-05T20:55:44+00:00\",\"2023-02-05T20:55:36+00:00\",\"2023-02-05T20:55:04+00:00\",\"2023-02-05T20:54:56+00:00\",\"2023-02-05T20:53:48+00:00\",\"2023-02-05T20:53:47+00:00\",\"2023-02-05T20:52:59+00:00\",\"2023-02-05T20:52:23+00:00\",\"2023-02-05T20:51:36+00:00\",\"2023-02-05T20:51:31+00:00\",\"2023-02-05T20:51:28+00:00\",\"2023-02-05T20:51:14+00:00\",\"2023-02-05T20:50:56+00:00\",\"2023-02-05T20:50:28+00:00\",\"2023-02-05T20:49:44+00:00\",\"2023-02-05T20:49:15+00:00\",\"2023-02-05T20:48:16+00:00\",\"2023-02-05T20:47:42+00:00\",\"2023-02-05T20:47:10+00:00\",\"2023-02-05T20:47:02+00:00\",\"2023-02-05T20:46:58+00:00\",\"2023-02-05T20:46:24+00:00\",\"2023-02-05T20:46:21+00:00\",\"2023-02-05T20:46:04+00:00\",\"2023-02-05T20:45:23+00:00\",\"2023-02-05T20:44:49+00:00\",\"2023-02-05T20:44:48+00:00\",\"2023-02-05T20:44:44+00:00\",\"2023-02-05T20:44:39+00:00\",\"2023-02-05T20:44:35+00:00\",\"2023-02-05T20:44:33+00:00\",\"2023-02-05T20:44:33+00:00\",\"2023-02-05T20:44:11+00:00\",\"2023-02-05T20:44:08+00:00\",\"2023-02-05T20:43:57+00:00\",\"2023-02-05T20:43:34+00:00\",\"2023-02-05T20:43:27+00:00\",\"2023-02-05T20:43:23+00:00\",\"2023-02-05T20:43:19+00:00\",\"2023-02-05T20:43:16+00:00\",\"2023-02-05T20:43:13+00:00\",\"2023-02-05T20:43:10+00:00\",\"2023-02-05T20:42:44+00:00\",\"2023-02-05T20:42:00+00:00\",\"2023-02-05T20:41:34+00:00\",\"2023-02-05T20:40:07+00:00\",\"2023-02-05T20:38:07+00:00\",\"2023-02-05T20:37:41+00:00\",\"2023-02-05T20:36:31+00:00\",\"2023-02-05T20:34:24+00:00\",\"2023-02-05T20:33:03+00:00\",\"2023-02-05T20:31:02+00:00\",\"2023-02-05T20:30:29+00:00\",\"2023-02-05T20:28:55+00:00\",\"2023-02-05T20:27:50+00:00\",\"2023-02-05T20:27:49+00:00\",\"2023-02-05T20:26:57+00:00\",\"2023-02-05T20:26:42+00:00\",\"2023-02-05T20:26:31+00:00\",\"2023-02-05T20:26:10+00:00\",\"2023-02-05T20:26:00+00:00\",\"2023-02-05T20:24:03+00:00\",\"2023-02-05T20:23:48+00:00\",\"2023-02-05T20:23:38+00:00\",\"2023-02-05T20:22:44+00:00\",\"2023-02-05T20:21:28+00:00\",\"2023-02-05T20:21:04+00:00\",\"2023-02-05T20:20:53+00:00\",\"2023-02-05T20:20:53+00:00\",\"2023-02-05T20:19:04+00:00\",\"2023-02-05T20:17:10+00:00\",\"2023-02-05T20:16:59+00:00\",\"2023-02-05T20:16:23+00:00\",\"2023-02-05T20:16:22+00:00\",\"2023-02-05T20:15:45+00:00\",\"2023-02-05T20:15:40+00:00\",\"2023-02-05T20:15:25+00:00\",\"2023-02-05T20:14:57+00:00\",\"2023-02-05T20:14:50+00:00\",\"2023-02-05T20:14:39+00:00\",\"2023-02-05T20:09:15+00:00\",\"2023-02-05T20:08:50+00:00\",\"2023-02-05T20:08:07+00:00\",\"2023-02-05T20:07:35+00:00\",\"2023-02-05T20:07:08+00:00\",\"2023-02-05T20:06:43+00:00\",\"2023-02-05T20:05:37+00:00\",\"2023-02-05T20:05:32+00:00\",\"2023-02-05T20:05:07+00:00\",\"2023-02-05T20:04:41+00:00\",\"2023-02-05T20:04:19+00:00\",\"2023-02-05T20:03:20+00:00\",\"2023-02-05T20:01:26+00:00\",\"2023-02-05T20:00:51+00:00\",\"2023-02-05T20:00:25+00:00\",\"2023-02-05T19:59:55+00:00\",\"2023-02-05T19:58:46+00:00\",\"2023-02-05T19:58:23+00:00\",\"2023-02-05T19:58:17+00:00\",\"2023-02-05T19:57:18+00:00\",\"2023-02-05T19:57:06+00:00\",\"2023-02-05T19:56:28+00:00\",\"2023-02-05T19:56:26+00:00\",\"2023-02-05T19:56:23+00:00\",\"2023-02-05T19:56:19+00:00\",\"2023-02-05T19:55:46+00:00\",\"2023-02-05T19:55:44+00:00\",\"2023-02-05T19:54:49+00:00\",\"2023-02-05T19:54:46+00:00\",\"2023-02-05T19:54:22+00:00\",\"2023-02-05T19:54:19+00:00\",\"2023-02-05T19:54:15+00:00\",\"2023-02-05T19:53:58+00:00\",\"2023-02-05T19:53:53+00:00\",\"2023-02-05T19:53:49+00:00\",\"2023-02-05T19:53:44+00:00\",\"2023-02-05T19:53:32+00:00\",\"2023-02-05T19:52:56+00:00\",\"2023-02-05T19:52:38+00:00\",\"2023-02-05T19:49:43+00:00\",\"2023-02-05T19:48:13+00:00\",\"2023-02-05T19:48:02+00:00\",\"2023-02-05T19:47:48+00:00\",\"2023-02-05T19:47:03+00:00\",\"2023-02-05T19:46:48+00:00\",\"2023-02-05T19:46:29+00:00\",\"2023-02-05T19:45:45+00:00\",\"2023-02-05T19:43:59+00:00\",\"2023-02-05T19:43:20+00:00\",\"2023-02-05T19:42:47+00:00\",\"2023-02-05T19:42:44+00:00\",\"2023-02-05T19:42:18+00:00\",\"2023-02-05T19:42:10+00:00\",\"2023-02-05T19:41:29+00:00\",\"2023-02-05T19:41:26+00:00\",\"2023-02-05T19:41:12+00:00\",\"2023-02-05T19:40:23+00:00\",\"2023-02-05T19:39:43+00:00\",\"2023-02-05T19:38:53+00:00\",\"2023-02-05T19:38:25+00:00\",\"2023-02-05T19:38:19+00:00\",\"2023-02-05T19:38:13+00:00\",\"2023-02-05T19:38:03+00:00\",\"2023-02-05T19:37:46+00:00\",\"2023-02-05T19:36:59+00:00\",\"2023-02-05T19:36:52+00:00\",\"2023-02-05T19:36:47+00:00\",\"2023-02-05T19:35:48+00:00\",\"2023-02-05T19:35:35+00:00\",\"2023-02-05T19:35:04+00:00\",\"2023-02-05T19:35:03+00:00\",\"2023-02-05T19:34:38+00:00\",\"2023-02-05T19:34:31+00:00\",\"2023-02-05T19:34:14+00:00\",\"2023-02-05T19:33:20+00:00\",\"2023-02-05T19:31:04+00:00\",\"2023-02-05T19:30:52+00:00\",\"2023-02-05T19:29:08+00:00\",\"2023-02-05T19:29:06+00:00\",\"2023-02-05T19:29:05+00:00\",\"2023-02-05T19:28:51+00:00\",\"2023-02-05T19:28:31+00:00\",\"2023-02-05T19:28:07+00:00\",\"2023-02-05T19:28:07+00:00\",\"2023-02-05T19:27:35+00:00\",\"2023-02-05T19:27:22+00:00\",\"2023-02-05T19:27:02+00:00\",\"2023-02-05T19:26:53+00:00\",\"2023-02-05T19:26:50+00:00\",\"2023-02-05T19:26:45+00:00\",\"2023-02-05T19:26:45+00:00\",\"2023-02-05T19:26:24+00:00\",\"2023-02-05T19:26:17+00:00\",\"2023-02-05T19:24:24+00:00\",\"2023-02-05T19:23:52+00:00\",\"2023-02-05T19:20:29+00:00\",\"2023-02-05T19:20:22+00:00\",\"2023-02-05T19:18:34+00:00\",\"2023-02-05T19:18:08+00:00\",\"2023-02-05T19:16:29+00:00\",\"2023-02-05T19:15:18+00:00\",\"2023-02-05T19:15:12+00:00\",\"2023-02-05T19:14:31+00:00\",\"2023-02-05T19:14:10+00:00\",\"2023-02-05T19:13:56+00:00\",\"2023-02-05T19:13:22+00:00\",\"2023-02-05T19:08:30+00:00\",\"2023-02-05T19:05:53+00:00\",\"2023-02-05T19:04:17+00:00\",\"2023-02-05T19:02:40+00:00\",\"2023-02-05T19:00:19+00:00\",\"2023-02-05T19:00:00+00:00\",\"2023-02-05T18:58:58+00:00\",\"2023-02-05T18:57:02+00:00\",\"2023-02-05T18:54:39+00:00\",\"2023-02-05T18:54:20+00:00\",\"2023-02-05T18:54:09+00:00\",\"2023-02-05T18:54:04+00:00\",\"2023-02-05T18:53:54+00:00\",\"2023-02-05T18:52:57+00:00\",\"2023-02-05T18:52:47+00:00\",\"2023-02-05T18:52:47+00:00\",\"2023-02-05T18:52:30+00:00\",\"2023-02-05T18:52:29+00:00\",\"2023-02-05T18:52:19+00:00\",\"2023-02-05T18:51:47+00:00\",\"2023-02-05T18:51:40+00:00\",\"2023-02-05T18:51:38+00:00\",\"2023-02-05T18:51:15+00:00\",\"2023-02-05T18:51:11+00:00\",\"2023-02-05T18:51:06+00:00\",\"2023-02-05T18:51:02+00:00\",\"2023-02-05T18:51:00+00:00\",\"2023-02-05T18:50:54+00:00\",\"2023-02-05T18:50:37+00:00\",\"2023-02-05T18:50:30+00:00\",\"2023-02-05T18:50:19+00:00\",\"2023-02-05T18:49:54+00:00\",\"2023-02-05T18:49:52+00:00\",\"2023-02-05T18:48:39+00:00\",\"2023-02-05T18:48:05+00:00\",\"2023-02-05T18:47:58+00:00\",\"2023-02-05T18:45:14+00:00\",\"2023-02-05T18:44:24+00:00\",\"2023-02-05T18:42:38+00:00\",\"2023-02-05T18:42:28+00:00\",\"2023-02-05T18:42:18+00:00\",\"2023-02-05T18:41:24+00:00\",\"2023-02-05T18:41:06+00:00\",\"2023-02-05T18:40:52+00:00\",\"2023-02-05T18:40:48+00:00\",\"2023-02-05T18:40:36+00:00\",\"2023-02-05T18:40:26+00:00\",\"2023-02-05T18:40:17+00:00\",\"2023-02-05T18:39:40+00:00\",\"2023-02-05T18:39:36+00:00\",\"2023-02-05T18:35:01+00:00\",\"2023-02-05T18:34:42+00:00\",\"2023-02-05T18:28:51+00:00\",\"2023-02-05T18:28:41+00:00\",\"2023-02-05T18:27:44+00:00\",\"2023-02-05T18:26:02+00:00\",\"2023-02-05T18:25:46+00:00\",\"2023-02-05T18:23:45+00:00\",\"2023-02-05T18:22:53+00:00\",\"2023-02-05T18:21:38+00:00\",\"2023-02-05T18:21:32+00:00\",\"2023-02-05T18:21:19+00:00\",\"2023-02-05T18:21:04+00:00\",\"2023-02-05T18:20:35+00:00\",\"2023-02-05T18:20:21+00:00\",\"2023-02-05T18:19:53+00:00\",\"2023-02-05T18:19:46+00:00\",\"2023-02-05T18:19:39+00:00\",\"2023-02-05T18:19:29+00:00\",\"2023-02-05T18:18:49+00:00\",\"2023-02-05T18:18:23+00:00\",\"2023-02-05T18:18:22+00:00\",\"2023-02-05T18:18:12+00:00\",\"2023-02-05T18:18:02+00:00\",\"2023-02-05T18:17:31+00:00\",\"2023-02-05T18:15:19+00:00\",\"2023-02-05T18:11:10+00:00\",\"2023-02-05T18:10:07+00:00\",\"2023-02-05T18:02:28+00:00\",\"2023-02-05T17:59:38+00:00\",\"2023-02-05T17:58:01+00:00\",\"2023-02-05T17:48:58+00:00\",\"2023-02-05T17:46:48+00:00\",\"2023-02-05T17:46:32+00:00\",\"2023-02-05T17:38:04+00:00\",\"2023-02-05T17:37:10+00:00\",\"2023-02-05T17:30:55+00:00\",\"2023-02-05T17:29:13+00:00\",\"2023-02-05T17:29:13+00:00\",\"2023-02-05T17:27:43+00:00\",\"2023-02-05T17:21:35+00:00\",\"2023-02-05T17:21:23+00:00\",\"2023-02-05T17:18:53+00:00\",\"2023-02-05T17:17:05+00:00\",\"2023-02-05T17:13:20+00:00\",\"2023-02-05T17:12:55+00:00\",\"2023-02-05T17:01:02+00:00\",\"2023-02-05T17:00:04+00:00\",\"2023-02-05T16:57:49+00:00\",\"2023-02-05T16:57:46+00:00\",\"2023-02-05T16:56:03+00:00\",\"2023-02-05T16:55:11+00:00\",\"2023-02-05T16:54:42+00:00\",\"2023-02-05T16:53:33+00:00\",\"2023-02-05T16:53:33+00:00\",\"2023-02-05T16:53:00+00:00\",\"2023-02-05T16:52:43+00:00\",\"2023-02-05T16:52:25+00:00\",\"2023-02-05T16:51:55+00:00\",\"2023-02-05T16:51:51+00:00\",\"2023-02-05T16:50:49+00:00\",\"2023-02-05T16:50:41+00:00\",\"2023-02-05T16:50:13+00:00\",\"2023-02-05T16:50:12+00:00\",\"2023-02-05T16:50:10+00:00\",\"2023-02-05T16:50:03+00:00\",\"2023-02-05T16:49:51+00:00\",\"2023-02-05T16:49:50+00:00\",\"2023-02-05T16:49:28+00:00\",\"2023-02-05T16:49:20+00:00\",\"2023-02-05T16:49:16+00:00\",\"2023-02-05T16:43:06+00:00\",\"2023-02-05T16:41:27+00:00\",\"2023-02-05T16:40:16+00:00\",\"2023-02-05T16:40:11+00:00\",\"2023-02-05T16:38:40+00:00\",\"2023-02-05T16:38:32+00:00\",\"2023-02-05T16:38:31+00:00\",\"2023-02-05T16:36:03+00:00\",\"2023-02-05T16:33:49+00:00\",\"2023-02-05T16:26:48+00:00\",\"2023-02-05T16:23:32+00:00\",\"2023-02-05T16:18:15+00:00\",\"2023-02-05T16:18:02+00:00\",\"2023-02-05T16:13:06+00:00\",\"2023-02-05T16:08:47+00:00\",\"2023-02-05T16:06:14+00:00\",\"2023-02-05T16:01:49+00:00\",\"2023-02-05T15:57:04+00:00\",\"2023-02-05T15:53:15+00:00\",\"2023-02-05T15:52:02+00:00\",\"2023-02-05T15:49:06+00:00\",\"2023-02-05T15:49:05+00:00\",\"2023-02-05T15:48:49+00:00\",\"2023-02-05T15:48:40+00:00\",\"2023-02-05T15:48:40+00:00\",\"2023-02-05T15:48:22+00:00\",\"2023-02-05T15:48:09+00:00\",\"2023-02-05T15:44:32+00:00\",\"2023-02-05T15:43:30+00:00\",\"2023-02-05T15:42:06+00:00\",\"2023-02-05T15:41:22+00:00\",\"2023-02-05T15:39:42+00:00\",\"2023-02-05T15:34:17+00:00\",\"2023-02-05T15:33:16+00:00\",\"2023-02-05T15:33:09+00:00\",\"2023-02-05T15:31:35+00:00\",\"2023-02-05T15:29:19+00:00\",\"2023-02-05T15:26:03+00:00\",\"2023-02-05T15:21:29+00:00\",\"2023-02-05T15:20:42+00:00\",\"2023-02-05T15:18:56+00:00\",\"2023-02-05T15:18:42+00:00\",\"2023-02-05T15:11:40+00:00\",\"2023-02-05T15:11:21+00:00\",\"2023-02-05T15:11:03+00:00\",\"2023-02-05T15:10:07+00:00\",\"2023-02-05T15:08:55+00:00\",\"2023-02-05T15:08:29+00:00\",\"2023-02-05T15:07:54+00:00\",\"2023-02-05T15:07:43+00:00\",\"2023-02-05T14:49:10+00:00\",\"2023-02-05T14:46:35+00:00\",\"2023-02-05T14:45:27+00:00\",\"2023-02-05T14:10:07+00:00\",\"2023-02-05T13:40:25+00:00\",\"2023-02-05T11:21:01+00:00\",\"2023-02-05T09:43:14+00:00\"],\"xaxis\":\"x\",\"yaxis\":\"y\",\"type\":\"histogram\"}],                        {\"template\":{\"data\":{\"bar\":[{\"error_x\":{\"color\":\"#2a3f5f\"},\"error_y\":{\"color\":\"#2a3f5f\"},\"marker\":{\"line\":{\"color\":\"#E5ECF6\",\"width\":0.5},\"pattern\":{\"fillmode\":\"overlay\",\"size\":10,\"solidity\":0.2}},\"type\":\"bar\"}],\"barpolar\":[{\"marker\":{\"line\":{\"color\":\"#E5ECF6\",\"width\":0.5},\"pattern\":{\"fillmode\":\"overlay\",\"size\":10,\"solidity\":0.2}},\"type\":\"barpolar\"}],\"carpet\":[{\"aaxis\":{\"endlinecolor\":\"#2a3f5f\",\"gridcolor\":\"white\",\"linecolor\":\"white\",\"minorgridcolor\":\"white\",\"startlinecolor\":\"#2a3f5f\"},\"baxis\":{\"endlinecolor\":\"#2a3f5f\",\"gridcolor\":\"white\",\"linecolor\":\"white\",\"minorgridcolor\":\"white\",\"startlinecolor\":\"#2a3f5f\"},\"type\":\"carpet\"}],\"choropleth\":[{\"colorbar\":{\"outlinewidth\":0,\"ticks\":\"\"},\"type\":\"choropleth\"}],\"contour\":[{\"colorbar\":{\"outlinewidth\":0,\"ticks\":\"\"},\"colorscale\":[[0.0,\"#0d0887\"],[0.1111111111111111,\"#46039f\"],[0.2222222222222222,\"#7201a8\"],[0.3333333333333333,\"#9c179e\"],[0.4444444444444444,\"#bd3786\"],[0.5555555555555556,\"#d8576b\"],[0.6666666666666666,\"#ed7953\"],[0.7777777777777778,\"#fb9f3a\"],[0.8888888888888888,\"#fdca26\"],[1.0,\"#f0f921\"]],\"type\":\"contour\"}],\"contourcarpet\":[{\"colorbar\":{\"outlinewidth\":0,\"ticks\":\"\"},\"type\":\"contourcarpet\"}],\"heatmap\":[{\"colorbar\":{\"outlinewidth\":0,\"ticks\":\"\"},\"colorscale\":[[0.0,\"#0d0887\"],[0.1111111111111111,\"#46039f\"],[0.2222222222222222,\"#7201a8\"],[0.3333333333333333,\"#9c179e\"],[0.4444444444444444,\"#bd3786\"],[0.5555555555555556,\"#d8576b\"],[0.6666666666666666,\"#ed7953\"],[0.7777777777777778,\"#fb9f3a\"],[0.8888888888888888,\"#fdca26\"],[1.0,\"#f0f921\"]],\"type\":\"heatmap\"}],\"heatmapgl\":[{\"colorbar\":{\"outlinewidth\":0,\"ticks\":\"\"},\"colorscale\":[[0.0,\"#0d0887\"],[0.1111111111111111,\"#46039f\"],[0.2222222222222222,\"#7201a8\"],[0.3333333333333333,\"#9c179e\"],[0.4444444444444444,\"#bd3786\"],[0.5555555555555556,\"#d8576b\"],[0.6666666666666666,\"#ed7953\"],[0.7777777777777778,\"#fb9f3a\"],[0.8888888888888888,\"#fdca26\"],[1.0,\"#f0f921\"]],\"type\":\"heatmapgl\"}],\"histogram\":[{\"marker\":{\"pattern\":{\"fillmode\":\"overlay\",\"size\":10,\"solidity\":0.2}},\"type\":\"histogram\"}],\"histogram2d\":[{\"colorbar\":{\"outlinewidth\":0,\"ticks\":\"\"},\"colorscale\":[[0.0,\"#0d0887\"],[0.1111111111111111,\"#46039f\"],[0.2222222222222222,\"#7201a8\"],[0.3333333333333333,\"#9c179e\"],[0.4444444444444444,\"#bd3786\"],[0.5555555555555556,\"#d8576b\"],[0.6666666666666666,\"#ed7953\"],[0.7777777777777778,\"#fb9f3a\"],[0.8888888888888888,\"#fdca26\"],[1.0,\"#f0f921\"]],\"type\":\"histogram2d\"}],\"histogram2dcontour\":[{\"colorbar\":{\"outlinewidth\":0,\"ticks\":\"\"},\"colorscale\":[[0.0,\"#0d0887\"],[0.1111111111111111,\"#46039f\"],[0.2222222222222222,\"#7201a8\"],[0.3333333333333333,\"#9c179e\"],[0.4444444444444444,\"#bd3786\"],[0.5555555555555556,\"#d8576b\"],[0.6666666666666666,\"#ed7953\"],[0.7777777777777778,\"#fb9f3a\"],[0.8888888888888888,\"#fdca26\"],[1.0,\"#f0f921\"]],\"type\":\"histogram2dcontour\"}],\"mesh3d\":[{\"colorbar\":{\"outlinewidth\":0,\"ticks\":\"\"},\"type\":\"mesh3d\"}],\"parcoords\":[{\"line\":{\"colorbar\":{\"outlinewidth\":0,\"ticks\":\"\"}},\"type\":\"parcoords\"}],\"pie\":[{\"automargin\":true,\"type\":\"pie\"}],\"scatter\":[{\"marker\":{\"colorbar\":{\"outlinewidth\":0,\"ticks\":\"\"}},\"type\":\"scatter\"}],\"scatter3d\":[{\"line\":{\"colorbar\":{\"outlinewidth\":0,\"ticks\":\"\"}},\"marker\":{\"colorbar\":{\"outlinewidth\":0,\"ticks\":\"\"}},\"type\":\"scatter3d\"}],\"scattercarpet\":[{\"marker\":{\"colorbar\":{\"outlinewidth\":0,\"ticks\":\"\"}},\"type\":\"scattercarpet\"}],\"scattergeo\":[{\"marker\":{\"colorbar\":{\"outlinewidth\":0,\"ticks\":\"\"}},\"type\":\"scattergeo\"}],\"scattergl\":[{\"marker\":{\"colorbar\":{\"outlinewidth\":0,\"ticks\":\"\"}},\"type\":\"scattergl\"}],\"scattermapbox\":[{\"marker\":{\"colorbar\":{\"outlinewidth\":0,\"ticks\":\"\"}},\"type\":\"scattermapbox\"}],\"scatterpolar\":[{\"marker\":{\"colorbar\":{\"outlinewidth\":0,\"ticks\":\"\"}},\"type\":\"scatterpolar\"}],\"scatterpolargl\":[{\"marker\":{\"colorbar\":{\"outlinewidth\":0,\"ticks\":\"\"}},\"type\":\"scatterpolargl\"}],\"scatterternary\":[{\"marker\":{\"colorbar\":{\"outlinewidth\":0,\"ticks\":\"\"}},\"type\":\"scatterternary\"}],\"surface\":[{\"colorbar\":{\"outlinewidth\":0,\"ticks\":\"\"},\"colorscale\":[[0.0,\"#0d0887\"],[0.1111111111111111,\"#46039f\"],[0.2222222222222222,\"#7201a8\"],[0.3333333333333333,\"#9c179e\"],[0.4444444444444444,\"#bd3786\"],[0.5555555555555556,\"#d8576b\"],[0.6666666666666666,\"#ed7953\"],[0.7777777777777778,\"#fb9f3a\"],[0.8888888888888888,\"#fdca26\"],[1.0,\"#f0f921\"]],\"type\":\"surface\"}],\"table\":[{\"cells\":{\"fill\":{\"color\":\"#EBF0F8\"},\"line\":{\"color\":\"white\"}},\"header\":{\"fill\":{\"color\":\"#C8D4E3\"},\"line\":{\"color\":\"white\"}},\"type\":\"table\"}]},\"layout\":{\"annotationdefaults\":{\"arrowcolor\":\"#2a3f5f\",\"arrowhead\":0,\"arrowwidth\":1},\"autotypenumbers\":\"strict\",\"coloraxis\":{\"colorbar\":{\"outlinewidth\":0,\"ticks\":\"\"}},\"colorscale\":{\"diverging\":[[0,\"#8e0152\"],[0.1,\"#c51b7d\"],[0.2,\"#de77ae\"],[0.3,\"#f1b6da\"],[0.4,\"#fde0ef\"],[0.5,\"#f7f7f7\"],[0.6,\"#e6f5d0\"],[0.7,\"#b8e186\"],[0.8,\"#7fbc41\"],[0.9,\"#4d9221\"],[1,\"#276419\"]],\"sequential\":[[0.0,\"#0d0887\"],[0.1111111111111111,\"#46039f\"],[0.2222222222222222,\"#7201a8\"],[0.3333333333333333,\"#9c179e\"],[0.4444444444444444,\"#bd3786\"],[0.5555555555555556,\"#d8576b\"],[0.6666666666666666,\"#ed7953\"],[0.7777777777777778,\"#fb9f3a\"],[0.8888888888888888,\"#fdca26\"],[1.0,\"#f0f921\"]],\"sequentialminus\":[[0.0,\"#0d0887\"],[0.1111111111111111,\"#46039f\"],[0.2222222222222222,\"#7201a8\"],[0.3333333333333333,\"#9c179e\"],[0.4444444444444444,\"#bd3786\"],[0.5555555555555556,\"#d8576b\"],[0.6666666666666666,\"#ed7953\"],[0.7777777777777778,\"#fb9f3a\"],[0.8888888888888888,\"#fdca26\"],[1.0,\"#f0f921\"]]},\"colorway\":[\"#636efa\",\"#EF553B\",\"#00cc96\",\"#ab63fa\",\"#FFA15A\",\"#19d3f3\",\"#FF6692\",\"#B6E880\",\"#FF97FF\",\"#FECB52\"],\"font\":{\"color\":\"#2a3f5f\"},\"geo\":{\"bgcolor\":\"white\",\"lakecolor\":\"white\",\"landcolor\":\"#E5ECF6\",\"showlakes\":true,\"showland\":true,\"subunitcolor\":\"white\"},\"hoverlabel\":{\"align\":\"left\"},\"hovermode\":\"closest\",\"mapbox\":{\"style\":\"light\"},\"paper_bgcolor\":\"white\",\"plot_bgcolor\":\"#E5ECF6\",\"polar\":{\"angularaxis\":{\"gridcolor\":\"white\",\"linecolor\":\"white\",\"ticks\":\"\"},\"bgcolor\":\"#E5ECF6\",\"radialaxis\":{\"gridcolor\":\"white\",\"linecolor\":\"white\",\"ticks\":\"\"}},\"scene\":{\"xaxis\":{\"backgroundcolor\":\"#E5ECF6\",\"gridcolor\":\"white\",\"gridwidth\":2,\"linecolor\":\"white\",\"showbackground\":true,\"ticks\":\"\",\"zerolinecolor\":\"white\"},\"yaxis\":{\"backgroundcolor\":\"#E5ECF6\",\"gridcolor\":\"white\",\"gridwidth\":2,\"linecolor\":\"white\",\"showbackground\":true,\"ticks\":\"\",\"zerolinecolor\":\"white\"},\"zaxis\":{\"backgroundcolor\":\"#E5ECF6\",\"gridcolor\":\"white\",\"gridwidth\":2,\"linecolor\":\"white\",\"showbackground\":true,\"ticks\":\"\",\"zerolinecolor\":\"white\"}},\"shapedefaults\":{\"line\":{\"color\":\"#2a3f5f\"}},\"ternary\":{\"aaxis\":{\"gridcolor\":\"white\",\"linecolor\":\"white\",\"ticks\":\"\"},\"baxis\":{\"gridcolor\":\"white\",\"linecolor\":\"white\",\"ticks\":\"\"},\"bgcolor\":\"#E5ECF6\",\"caxis\":{\"gridcolor\":\"white\",\"linecolor\":\"white\",\"ticks\":\"\"}},\"title\":{\"x\":0.05},\"xaxis\":{\"automargin\":true,\"gridcolor\":\"white\",\"linecolor\":\"white\",\"ticks\":\"\",\"title\":{\"standoff\":15},\"zerolinecolor\":\"white\",\"zerolinewidth\":2},\"yaxis\":{\"automargin\":true,\"gridcolor\":\"white\",\"linecolor\":\"white\",\"ticks\":\"\",\"title\":{\"standoff\":15},\"zerolinecolor\":\"white\",\"zerolinewidth\":2}}},\"xaxis\":{\"anchor\":\"y\",\"domain\":[0.0,1.0],\"title\":{\"text\":\"x\"}},\"yaxis\":{\"anchor\":\"x\",\"domain\":[0.0,1.0],\"title\":{\"text\":\"count\"}},\"legend\":{\"tracegroupgap\":0},\"title\":{\"text\":\"Tweets negativos durante el tiempo\"},\"barmode\":\"relative\",\"bargap\":0.2},                        {\"responsive\": true}                    ).then(function(){\n",
              "                            \n",
              "var gd = document.getElementById('7a875844-68ce-43b5-bac4-369ba40fac11');\n",
              "var x = new MutationObserver(function (mutations, observer) {{\n",
              "        var display = window.getComputedStyle(gd).display;\n",
              "        if (!display || display === 'none') {{\n",
              "            console.log([gd, 'removed!']);\n",
              "            Plotly.purge(gd);\n",
              "            observer.disconnect();\n",
              "        }}\n",
              "}});\n",
              "\n",
              "// Listen for the removal of the full notebook cells\n",
              "var notebookContainer = gd.closest('#notebook-container');\n",
              "if (notebookContainer) {{\n",
              "    x.observe(notebookContainer, {childList: true});\n",
              "}}\n",
              "\n",
              "// Listen for the clearing of the current output cell\n",
              "var outputEl = gd.closest('.output');\n",
              "if (outputEl) {{\n",
              "    x.observe(outputEl, {childList: true});\n",
              "}}\n",
              "\n",
              "                        })                };                            </script>        </div>\n",
              "</body>\n",
              "</html>"
            ]
          },
          "metadata": {}
        }
      ]
    },
    {
      "cell_type": "markdown",
      "source": [
        "#Pico de tweets positivos\n",
        "\n",
        "\n",
        "\n",
        "*   El pico mas al es a las 7:30 con 62 tweets\n",
        "*   El segundo pico mas alto es a las 8:30 con 57 tweets"
      ],
      "metadata": {
        "id": "zq8pVVknMjEB"
      }
    }
  ]
}