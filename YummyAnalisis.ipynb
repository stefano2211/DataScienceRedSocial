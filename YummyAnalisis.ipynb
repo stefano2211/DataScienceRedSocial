{
  "nbformat": 4,
  "nbformat_minor": 0,
  "metadata": {
    "colab": {
      "provenance": [],
      "authorship_tag": "ABX9TyPAw1QaYp8HHDXAxJ8ksxD+",
      "include_colab_link": true
    },
    "kernelspec": {
      "name": "python3",
      "display_name": "Python 3"
    },
    "language_info": {
      "name": "python"
    }
  },
  "cells": [
    {
      "cell_type": "markdown",
      "metadata": {
        "id": "view-in-github",
        "colab_type": "text"
      },
      "source": [
        "<a href=\"https://colab.research.google.com/github/stefano2211/DataScienceRedSocial/blob/main/YummyAnalisis.ipynb\" target=\"_parent\"><img src=\"https://colab.research.google.com/assets/colab-badge.svg\" alt=\"Open In Colab\"/></a>"
      ]
    },
    {
      "cell_type": "code",
      "source": [
        "#Importamos las librerias\n",
        "from pysentimiento import create_analyzer\n",
        "from pysentimiento.preprocessing import preprocess_tweet\n",
        "from textblob import TextBlob\n",
        "import snscrape.modules.twitter as sntwitter\n",
        "import plotly.express as px\n",
        "import neattext as nt\n",
        "import pandas as pd\n",
        "import numpy as np\n",
        "import re\n",
        "import nltk\n",
        "from nltk.corpus import stopwords\n",
        "from nltk.tokenize import word_tokenize\n",
        "from wordcloud import WordCloud\n",
        "from collections import Counter\n",
        "import matplotlib.pyplot as plt\n",
        "import seaborn as sns"
      ],
      "metadata": {
        "id": "GDjkChOcW6XI"
      },
      "execution_count": 6,
      "outputs": []
    },
    {
      "cell_type": "code",
      "source": [
        "#Cargamos las stopwords de nltk\n",
        "nltk.download('stopwords')"
      ],
      "metadata": {
        "colab": {
          "base_uri": "https://localhost:8080/"
        },
        "id": "6KjjuhsOYIhY",
        "outputId": "cf5571e0-261d-4c13-9dd0-4db4061c1114"
      },
      "execution_count": 7,
      "outputs": [
        {
          "output_type": "stream",
          "name": "stderr",
          "text": [
            "[nltk_data] Downloading package stopwords to /root/nltk_data...\n",
            "[nltk_data]   Unzipping corpora/stopwords.zip.\n"
          ]
        },
        {
          "output_type": "execute_result",
          "data": {
            "text/plain": [
              "True"
            ]
          },
          "metadata": {},
          "execution_count": 7
        }
      ]
    },
    {
      "cell_type": "code",
      "source": [
        "#Importamos los datos de twitter\n",
        "query = \"yummy venezuela\"\n",
        "tweets = []\n",
        "limit = 2000\n",
        "\n",
        "for tweet in sntwitter.TwitterSearchScraper(query).get_items():\n",
        "    \n",
        "    # print(vars(tweet))\n",
        "    # break\n",
        "    if len(tweets) == limit:\n",
        "        break\n",
        "    else:\n",
        "        tweets.append([tweet.date, tweet.content, tweet.hashtags, tweet.username])"
      ],
      "metadata": {
        "colab": {
          "base_uri": "https://localhost:8080/"
        },
        "id": "5wOFRMRYYNGm",
        "outputId": "0519f09f-de7b-43fd-a03b-030b16ece22c"
      },
      "execution_count": 8,
      "outputs": [
        {
          "output_type": "stream",
          "name": "stderr",
          "text": [
            "<ipython-input-8-6e09f988df88>:13: FutureWarning: content is deprecated, use rawContent instead\n",
            "  tweets.append([tweet.date, tweet.content, tweet.hashtags, tweet.username])\n",
            "<ipython-input-8-6e09f988df88>:13: FutureWarning: username is deprecated, use user.username instead\n",
            "  tweets.append([tweet.date, tweet.content, tweet.hashtags, tweet.username])\n"
          ]
        }
      ]
    },
    {
      "cell_type": "code",
      "source": [
        "#Colocamos los datos en un dataframe\n",
        "dt = pd.DataFrame(tweets, columns=['Date', 'Tweet', 'Hashtag', 'Username'])\n",
        "dt.head(100)"
      ],
      "metadata": {
        "colab": {
          "base_uri": "https://localhost:8080/",
          "height": 424
        },
        "id": "p5TwRjyTYWNN",
        "outputId": "2f90b99f-795d-42e8-b09d-8e41be81834d"
      },
      "execution_count": 9,
      "outputs": [
        {
          "output_type": "execute_result",
          "data": {
            "text/plain": [
              "                        Date  \\\n",
              "0  2023-02-12 14:43:07+00:00   \n",
              "1  2023-02-12 14:43:05+00:00   \n",
              "2  2023-02-12 05:04:54+00:00   \n",
              "3  2023-02-12 00:38:17+00:00   \n",
              "4  2023-02-11 21:26:00+00:00   \n",
              "..                       ...   \n",
              "95 2022-12-28 22:45:30+00:00   \n",
              "96 2022-12-28 21:10:00+00:00   \n",
              "97 2022-12-28 12:40:30+00:00   \n",
              "98 2022-12-28 00:15:30+00:00   \n",
              "99 2022-12-27 23:29:56+00:00   \n",
              "\n",
              "                                                Tweet  \\\n",
              "0   Este no es el primer acercamiento de Yummy con...   \n",
              "1   Yummy lanza colección de NFT para financiar st...   \n",
              "2   @MilAbdianaM @yummy_superapp Cuando estaba en ...   \n",
              "3                       Yummy Venezuela es una mierda   \n",
              "4   @tusambil Sambil Candelaria es territorio INK\\...   \n",
              "..                                                ...   \n",
              "95  Bloomberg: Yummy incrementará la inversión en ...   \n",
              "96  Yummy incrementará la inversión en Venezuela e...   \n",
              "97  Yummy incrementará la inversión en Venezuela e...   \n",
              "98  Bloomberg: Yummy incrementará la inversión en ...   \n",
              "99  Yummy incrementará la inversión en Venezuela e...   \n",
              "\n",
              "                                       Hashtag         Username  \n",
              "0                              [Criptolugares]    criptolugares  \n",
              "1                              [Criptolugares]    criptolugares  \n",
              "2                                         None    nany_mavare94  \n",
              "3                                         None  mariamartiochoa  \n",
              "4   [TATUAJES, VENEZUELA, INK, CARACAS, YUMMY]     guacamayaink  \n",
              "..                                         ...              ...  \n",
              "95                                        None    descifradocom  \n",
              "96                                  [Economía]       ElAragueno  \n",
              "97                                  [Economía]       ElAragueno  \n",
              "98                                        None    descifradocom  \n",
              "99                                        None       agenciaNDS  \n",
              "\n",
              "[100 rows x 4 columns]"
            ],
            "text/html": [
              "\n",
              "  <div id=\"df-a06fcec2-4ed6-4ca0-94e7-6438dd05bae5\">\n",
              "    <div class=\"colab-df-container\">\n",
              "      <div>\n",
              "<style scoped>\n",
              "    .dataframe tbody tr th:only-of-type {\n",
              "        vertical-align: middle;\n",
              "    }\n",
              "\n",
              "    .dataframe tbody tr th {\n",
              "        vertical-align: top;\n",
              "    }\n",
              "\n",
              "    .dataframe thead th {\n",
              "        text-align: right;\n",
              "    }\n",
              "</style>\n",
              "<table border=\"1\" class=\"dataframe\">\n",
              "  <thead>\n",
              "    <tr style=\"text-align: right;\">\n",
              "      <th></th>\n",
              "      <th>Date</th>\n",
              "      <th>Tweet</th>\n",
              "      <th>Hashtag</th>\n",
              "      <th>Username</th>\n",
              "    </tr>\n",
              "  </thead>\n",
              "  <tbody>\n",
              "    <tr>\n",
              "      <th>0</th>\n",
              "      <td>2023-02-12 14:43:07+00:00</td>\n",
              "      <td>Este no es el primer acercamiento de Yummy con...</td>\n",
              "      <td>[Criptolugares]</td>\n",
              "      <td>criptolugares</td>\n",
              "    </tr>\n",
              "    <tr>\n",
              "      <th>1</th>\n",
              "      <td>2023-02-12 14:43:05+00:00</td>\n",
              "      <td>Yummy lanza colección de NFT para financiar st...</td>\n",
              "      <td>[Criptolugares]</td>\n",
              "      <td>criptolugares</td>\n",
              "    </tr>\n",
              "    <tr>\n",
              "      <th>2</th>\n",
              "      <td>2023-02-12 05:04:54+00:00</td>\n",
              "      <td>@MilAbdianaM @yummy_superapp Cuando estaba en ...</td>\n",
              "      <td>None</td>\n",
              "      <td>nany_mavare94</td>\n",
              "    </tr>\n",
              "    <tr>\n",
              "      <th>3</th>\n",
              "      <td>2023-02-12 00:38:17+00:00</td>\n",
              "      <td>Yummy Venezuela es una mierda</td>\n",
              "      <td>None</td>\n",
              "      <td>mariamartiochoa</td>\n",
              "    </tr>\n",
              "    <tr>\n",
              "      <th>4</th>\n",
              "      <td>2023-02-11 21:26:00+00:00</td>\n",
              "      <td>@tusambil Sambil Candelaria es territorio INK\\...</td>\n",
              "      <td>[TATUAJES, VENEZUELA, INK, CARACAS, YUMMY]</td>\n",
              "      <td>guacamayaink</td>\n",
              "    </tr>\n",
              "    <tr>\n",
              "      <th>...</th>\n",
              "      <td>...</td>\n",
              "      <td>...</td>\n",
              "      <td>...</td>\n",
              "      <td>...</td>\n",
              "    </tr>\n",
              "    <tr>\n",
              "      <th>95</th>\n",
              "      <td>2022-12-28 22:45:30+00:00</td>\n",
              "      <td>Bloomberg: Yummy incrementará la inversión en ...</td>\n",
              "      <td>None</td>\n",
              "      <td>descifradocom</td>\n",
              "    </tr>\n",
              "    <tr>\n",
              "      <th>96</th>\n",
              "      <td>2022-12-28 21:10:00+00:00</td>\n",
              "      <td>Yummy incrementará la inversión en Venezuela e...</td>\n",
              "      <td>[Economía]</td>\n",
              "      <td>ElAragueno</td>\n",
              "    </tr>\n",
              "    <tr>\n",
              "      <th>97</th>\n",
              "      <td>2022-12-28 12:40:30+00:00</td>\n",
              "      <td>Yummy incrementará la inversión en Venezuela e...</td>\n",
              "      <td>[Economía]</td>\n",
              "      <td>ElAragueno</td>\n",
              "    </tr>\n",
              "    <tr>\n",
              "      <th>98</th>\n",
              "      <td>2022-12-28 00:15:30+00:00</td>\n",
              "      <td>Bloomberg: Yummy incrementará la inversión en ...</td>\n",
              "      <td>None</td>\n",
              "      <td>descifradocom</td>\n",
              "    </tr>\n",
              "    <tr>\n",
              "      <th>99</th>\n",
              "      <td>2022-12-27 23:29:56+00:00</td>\n",
              "      <td>Yummy incrementará la inversión en Venezuela e...</td>\n",
              "      <td>None</td>\n",
              "      <td>agenciaNDS</td>\n",
              "    </tr>\n",
              "  </tbody>\n",
              "</table>\n",
              "<p>100 rows × 4 columns</p>\n",
              "</div>\n",
              "      <button class=\"colab-df-convert\" onclick=\"convertToInteractive('df-a06fcec2-4ed6-4ca0-94e7-6438dd05bae5')\"\n",
              "              title=\"Convert this dataframe to an interactive table.\"\n",
              "              style=\"display:none;\">\n",
              "        \n",
              "  <svg xmlns=\"http://www.w3.org/2000/svg\" height=\"24px\"viewBox=\"0 0 24 24\"\n",
              "       width=\"24px\">\n",
              "    <path d=\"M0 0h24v24H0V0z\" fill=\"none\"/>\n",
              "    <path d=\"M18.56 5.44l.94 2.06.94-2.06 2.06-.94-2.06-.94-.94-2.06-.94 2.06-2.06.94zm-11 1L8.5 8.5l.94-2.06 2.06-.94-2.06-.94L8.5 2.5l-.94 2.06-2.06.94zm10 10l.94 2.06.94-2.06 2.06-.94-2.06-.94-.94-2.06-.94 2.06-2.06.94z\"/><path d=\"M17.41 7.96l-1.37-1.37c-.4-.4-.92-.59-1.43-.59-.52 0-1.04.2-1.43.59L10.3 9.45l-7.72 7.72c-.78.78-.78 2.05 0 2.83L4 21.41c.39.39.9.59 1.41.59.51 0 1.02-.2 1.41-.59l7.78-7.78 2.81-2.81c.8-.78.8-2.07 0-2.86zM5.41 20L4 18.59l7.72-7.72 1.47 1.35L5.41 20z\"/>\n",
              "  </svg>\n",
              "      </button>\n",
              "      \n",
              "  <style>\n",
              "    .colab-df-container {\n",
              "      display:flex;\n",
              "      flex-wrap:wrap;\n",
              "      gap: 12px;\n",
              "    }\n",
              "\n",
              "    .colab-df-convert {\n",
              "      background-color: #E8F0FE;\n",
              "      border: none;\n",
              "      border-radius: 50%;\n",
              "      cursor: pointer;\n",
              "      display: none;\n",
              "      fill: #1967D2;\n",
              "      height: 32px;\n",
              "      padding: 0 0 0 0;\n",
              "      width: 32px;\n",
              "    }\n",
              "\n",
              "    .colab-df-convert:hover {\n",
              "      background-color: #E2EBFA;\n",
              "      box-shadow: 0px 1px 2px rgba(60, 64, 67, 0.3), 0px 1px 3px 1px rgba(60, 64, 67, 0.15);\n",
              "      fill: #174EA6;\n",
              "    }\n",
              "\n",
              "    [theme=dark] .colab-df-convert {\n",
              "      background-color: #3B4455;\n",
              "      fill: #D2E3FC;\n",
              "    }\n",
              "\n",
              "    [theme=dark] .colab-df-convert:hover {\n",
              "      background-color: #434B5C;\n",
              "      box-shadow: 0px 1px 3px 1px rgba(0, 0, 0, 0.15);\n",
              "      filter: drop-shadow(0px 1px 2px rgba(0, 0, 0, 0.3));\n",
              "      fill: #FFFFFF;\n",
              "    }\n",
              "  </style>\n",
              "\n",
              "      <script>\n",
              "        const buttonEl =\n",
              "          document.querySelector('#df-a06fcec2-4ed6-4ca0-94e7-6438dd05bae5 button.colab-df-convert');\n",
              "        buttonEl.style.display =\n",
              "          google.colab.kernel.accessAllowed ? 'block' : 'none';\n",
              "\n",
              "        async function convertToInteractive(key) {\n",
              "          const element = document.querySelector('#df-a06fcec2-4ed6-4ca0-94e7-6438dd05bae5');\n",
              "          const dataTable =\n",
              "            await google.colab.kernel.invokeFunction('convertToInteractive',\n",
              "                                                     [key], {});\n",
              "          if (!dataTable) return;\n",
              "\n",
              "          const docLinkHtml = 'Like what you see? Visit the ' +\n",
              "            '<a target=\"_blank\" href=https://colab.research.google.com/notebooks/data_table.ipynb>data table notebook</a>'\n",
              "            + ' to learn more about interactive tables.';\n",
              "          element.innerHTML = '';\n",
              "          dataTable['output_type'] = 'display_data';\n",
              "          await google.colab.output.renderOutput(dataTable, element);\n",
              "          const docLink = document.createElement('div');\n",
              "          docLink.innerHTML = docLinkHtml;\n",
              "          element.appendChild(docLink);\n",
              "        }\n",
              "      </script>\n",
              "    </div>\n",
              "  </div>\n",
              "  "
            ]
          },
          "metadata": {},
          "execution_count": 9
        }
      ]
    },
    {
      "cell_type": "code",
      "source": [
        "#Convertimos la columna Date a formato tiempo\n",
        "dt['Date'] = pd.to_datetime(dt['Date'], format='%Y%m%d')"
      ],
      "metadata": {
        "id": "kCUXKocmahO2"
      },
      "execution_count": 10,
      "outputs": []
    },
    {
      "cell_type": "code",
      "source": [
        "#Convertimos el None en Nan y luego remplazamos el Nan por un 1\n",
        "dt['Hashtag'].replace('None', np.nan, inplace=True)\n",
        "dt['Hashtag'] = dt['Hashtag'].fillna('1')"
      ],
      "metadata": {
        "id": "9rLRmo21fmXU"
      },
      "execution_count": 11,
      "outputs": []
    },
    {
      "cell_type": "code",
      "source": [
        "dt.head()"
      ],
      "metadata": {
        "colab": {
          "base_uri": "https://localhost:8080/",
          "height": 206
        },
        "id": "ZOdJ7oMPf0LU",
        "outputId": "a05884e0-2073-4681-8b0e-c8556916954c"
      },
      "execution_count": 12,
      "outputs": [
        {
          "output_type": "execute_result",
          "data": {
            "text/plain": [
              "                       Date  \\\n",
              "0 2023-02-12 14:43:07+00:00   \n",
              "1 2023-02-12 14:43:05+00:00   \n",
              "2 2023-02-12 05:04:54+00:00   \n",
              "3 2023-02-12 00:38:17+00:00   \n",
              "4 2023-02-11 21:26:00+00:00   \n",
              "\n",
              "                                               Tweet  \\\n",
              "0  Este no es el primer acercamiento de Yummy con...   \n",
              "1  Yummy lanza colección de NFT para financiar st...   \n",
              "2  @MilAbdianaM @yummy_superapp Cuando estaba en ...   \n",
              "3                      Yummy Venezuela es una mierda   \n",
              "4  @tusambil Sambil Candelaria es territorio INK\\...   \n",
              "\n",
              "                                      Hashtag         Username  \n",
              "0                             [Criptolugares]    criptolugares  \n",
              "1                             [Criptolugares]    criptolugares  \n",
              "2                                           1    nany_mavare94  \n",
              "3                                           1  mariamartiochoa  \n",
              "4  [TATUAJES, VENEZUELA, INK, CARACAS, YUMMY]     guacamayaink  "
            ],
            "text/html": [
              "\n",
              "  <div id=\"df-3f044151-aa79-4629-aa4f-14cc0103d89c\">\n",
              "    <div class=\"colab-df-container\">\n",
              "      <div>\n",
              "<style scoped>\n",
              "    .dataframe tbody tr th:only-of-type {\n",
              "        vertical-align: middle;\n",
              "    }\n",
              "\n",
              "    .dataframe tbody tr th {\n",
              "        vertical-align: top;\n",
              "    }\n",
              "\n",
              "    .dataframe thead th {\n",
              "        text-align: right;\n",
              "    }\n",
              "</style>\n",
              "<table border=\"1\" class=\"dataframe\">\n",
              "  <thead>\n",
              "    <tr style=\"text-align: right;\">\n",
              "      <th></th>\n",
              "      <th>Date</th>\n",
              "      <th>Tweet</th>\n",
              "      <th>Hashtag</th>\n",
              "      <th>Username</th>\n",
              "    </tr>\n",
              "  </thead>\n",
              "  <tbody>\n",
              "    <tr>\n",
              "      <th>0</th>\n",
              "      <td>2023-02-12 14:43:07+00:00</td>\n",
              "      <td>Este no es el primer acercamiento de Yummy con...</td>\n",
              "      <td>[Criptolugares]</td>\n",
              "      <td>criptolugares</td>\n",
              "    </tr>\n",
              "    <tr>\n",
              "      <th>1</th>\n",
              "      <td>2023-02-12 14:43:05+00:00</td>\n",
              "      <td>Yummy lanza colección de NFT para financiar st...</td>\n",
              "      <td>[Criptolugares]</td>\n",
              "      <td>criptolugares</td>\n",
              "    </tr>\n",
              "    <tr>\n",
              "      <th>2</th>\n",
              "      <td>2023-02-12 05:04:54+00:00</td>\n",
              "      <td>@MilAbdianaM @yummy_superapp Cuando estaba en ...</td>\n",
              "      <td>1</td>\n",
              "      <td>nany_mavare94</td>\n",
              "    </tr>\n",
              "    <tr>\n",
              "      <th>3</th>\n",
              "      <td>2023-02-12 00:38:17+00:00</td>\n",
              "      <td>Yummy Venezuela es una mierda</td>\n",
              "      <td>1</td>\n",
              "      <td>mariamartiochoa</td>\n",
              "    </tr>\n",
              "    <tr>\n",
              "      <th>4</th>\n",
              "      <td>2023-02-11 21:26:00+00:00</td>\n",
              "      <td>@tusambil Sambil Candelaria es territorio INK\\...</td>\n",
              "      <td>[TATUAJES, VENEZUELA, INK, CARACAS, YUMMY]</td>\n",
              "      <td>guacamayaink</td>\n",
              "    </tr>\n",
              "  </tbody>\n",
              "</table>\n",
              "</div>\n",
              "      <button class=\"colab-df-convert\" onclick=\"convertToInteractive('df-3f044151-aa79-4629-aa4f-14cc0103d89c')\"\n",
              "              title=\"Convert this dataframe to an interactive table.\"\n",
              "              style=\"display:none;\">\n",
              "        \n",
              "  <svg xmlns=\"http://www.w3.org/2000/svg\" height=\"24px\"viewBox=\"0 0 24 24\"\n",
              "       width=\"24px\">\n",
              "    <path d=\"M0 0h24v24H0V0z\" fill=\"none\"/>\n",
              "    <path d=\"M18.56 5.44l.94 2.06.94-2.06 2.06-.94-2.06-.94-.94-2.06-.94 2.06-2.06.94zm-11 1L8.5 8.5l.94-2.06 2.06-.94-2.06-.94L8.5 2.5l-.94 2.06-2.06.94zm10 10l.94 2.06.94-2.06 2.06-.94-2.06-.94-.94-2.06-.94 2.06-2.06.94z\"/><path d=\"M17.41 7.96l-1.37-1.37c-.4-.4-.92-.59-1.43-.59-.52 0-1.04.2-1.43.59L10.3 9.45l-7.72 7.72c-.78.78-.78 2.05 0 2.83L4 21.41c.39.39.9.59 1.41.59.51 0 1.02-.2 1.41-.59l7.78-7.78 2.81-2.81c.8-.78.8-2.07 0-2.86zM5.41 20L4 18.59l7.72-7.72 1.47 1.35L5.41 20z\"/>\n",
              "  </svg>\n",
              "      </button>\n",
              "      \n",
              "  <style>\n",
              "    .colab-df-container {\n",
              "      display:flex;\n",
              "      flex-wrap:wrap;\n",
              "      gap: 12px;\n",
              "    }\n",
              "\n",
              "    .colab-df-convert {\n",
              "      background-color: #E8F0FE;\n",
              "      border: none;\n",
              "      border-radius: 50%;\n",
              "      cursor: pointer;\n",
              "      display: none;\n",
              "      fill: #1967D2;\n",
              "      height: 32px;\n",
              "      padding: 0 0 0 0;\n",
              "      width: 32px;\n",
              "    }\n",
              "\n",
              "    .colab-df-convert:hover {\n",
              "      background-color: #E2EBFA;\n",
              "      box-shadow: 0px 1px 2px rgba(60, 64, 67, 0.3), 0px 1px 3px 1px rgba(60, 64, 67, 0.15);\n",
              "      fill: #174EA6;\n",
              "    }\n",
              "\n",
              "    [theme=dark] .colab-df-convert {\n",
              "      background-color: #3B4455;\n",
              "      fill: #D2E3FC;\n",
              "    }\n",
              "\n",
              "    [theme=dark] .colab-df-convert:hover {\n",
              "      background-color: #434B5C;\n",
              "      box-shadow: 0px 1px 3px 1px rgba(0, 0, 0, 0.15);\n",
              "      filter: drop-shadow(0px 1px 2px rgba(0, 0, 0, 0.3));\n",
              "      fill: #FFFFFF;\n",
              "    }\n",
              "  </style>\n",
              "\n",
              "      <script>\n",
              "        const buttonEl =\n",
              "          document.querySelector('#df-3f044151-aa79-4629-aa4f-14cc0103d89c button.colab-df-convert');\n",
              "        buttonEl.style.display =\n",
              "          google.colab.kernel.accessAllowed ? 'block' : 'none';\n",
              "\n",
              "        async function convertToInteractive(key) {\n",
              "          const element = document.querySelector('#df-3f044151-aa79-4629-aa4f-14cc0103d89c');\n",
              "          const dataTable =\n",
              "            await google.colab.kernel.invokeFunction('convertToInteractive',\n",
              "                                                     [key], {});\n",
              "          if (!dataTable) return;\n",
              "\n",
              "          const docLinkHtml = 'Like what you see? Visit the ' +\n",
              "            '<a target=\"_blank\" href=https://colab.research.google.com/notebooks/data_table.ipynb>data table notebook</a>'\n",
              "            + ' to learn more about interactive tables.';\n",
              "          element.innerHTML = '';\n",
              "          dataTable['output_type'] = 'display_data';\n",
              "          await google.colab.output.renderOutput(dataTable, element);\n",
              "          const docLink = document.createElement('div');\n",
              "          docLink.innerHTML = docLinkHtml;\n",
              "          element.appendChild(docLink);\n",
              "        }\n",
              "      </script>\n",
              "    </div>\n",
              "  </div>\n",
              "  "
            ]
          },
          "metadata": {},
          "execution_count": 12
        }
      ]
    },
    {
      "cell_type": "code",
      "source": [
        "#Extraemos los hashtags para convertirlos en strings\n",
        "def textl(text):\n",
        "  leters= \" \".join([str(_) for _ in text])\n",
        "  return leters\n"
      ],
      "metadata": {
        "id": "5RG5LTZda3aG"
      },
      "execution_count": 13,
      "outputs": []
    },
    {
      "cell_type": "code",
      "source": [
        "dt['Token'] = dt['Hashtag'].apply(textl)\n",
        "dt.head()"
      ],
      "metadata": {
        "colab": {
          "base_uri": "https://localhost:8080/",
          "height": 337
        },
        "id": "e_0kiGvkbBRu",
        "outputId": "f07295eb-ee4d-4b5b-c599-f52ccceaa7ed"
      },
      "execution_count": 14,
      "outputs": [
        {
          "output_type": "execute_result",
          "data": {
            "text/plain": [
              "                       Date  \\\n",
              "0 2023-02-12 14:43:07+00:00   \n",
              "1 2023-02-12 14:43:05+00:00   \n",
              "2 2023-02-12 05:04:54+00:00   \n",
              "3 2023-02-12 00:38:17+00:00   \n",
              "4 2023-02-11 21:26:00+00:00   \n",
              "\n",
              "                                               Tweet  \\\n",
              "0  Este no es el primer acercamiento de Yummy con...   \n",
              "1  Yummy lanza colección de NFT para financiar st...   \n",
              "2  @MilAbdianaM @yummy_superapp Cuando estaba en ...   \n",
              "3                      Yummy Venezuela es una mierda   \n",
              "4  @tusambil Sambil Candelaria es territorio INK\\...   \n",
              "\n",
              "                                      Hashtag         Username  \\\n",
              "0                             [Criptolugares]    criptolugares   \n",
              "1                             [Criptolugares]    criptolugares   \n",
              "2                                           1    nany_mavare94   \n",
              "3                                           1  mariamartiochoa   \n",
              "4  [TATUAJES, VENEZUELA, INK, CARACAS, YUMMY]     guacamayaink   \n",
              "\n",
              "                                  Token  \n",
              "0                         Criptolugares  \n",
              "1                         Criptolugares  \n",
              "2                                     1  \n",
              "3                                     1  \n",
              "4  TATUAJES VENEZUELA INK CARACAS YUMMY  "
            ],
            "text/html": [
              "\n",
              "  <div id=\"df-1f496651-b80f-4003-b2a8-c94e05e08e87\">\n",
              "    <div class=\"colab-df-container\">\n",
              "      <div>\n",
              "<style scoped>\n",
              "    .dataframe tbody tr th:only-of-type {\n",
              "        vertical-align: middle;\n",
              "    }\n",
              "\n",
              "    .dataframe tbody tr th {\n",
              "        vertical-align: top;\n",
              "    }\n",
              "\n",
              "    .dataframe thead th {\n",
              "        text-align: right;\n",
              "    }\n",
              "</style>\n",
              "<table border=\"1\" class=\"dataframe\">\n",
              "  <thead>\n",
              "    <tr style=\"text-align: right;\">\n",
              "      <th></th>\n",
              "      <th>Date</th>\n",
              "      <th>Tweet</th>\n",
              "      <th>Hashtag</th>\n",
              "      <th>Username</th>\n",
              "      <th>Token</th>\n",
              "    </tr>\n",
              "  </thead>\n",
              "  <tbody>\n",
              "    <tr>\n",
              "      <th>0</th>\n",
              "      <td>2023-02-12 14:43:07+00:00</td>\n",
              "      <td>Este no es el primer acercamiento de Yummy con...</td>\n",
              "      <td>[Criptolugares]</td>\n",
              "      <td>criptolugares</td>\n",
              "      <td>Criptolugares</td>\n",
              "    </tr>\n",
              "    <tr>\n",
              "      <th>1</th>\n",
              "      <td>2023-02-12 14:43:05+00:00</td>\n",
              "      <td>Yummy lanza colección de NFT para financiar st...</td>\n",
              "      <td>[Criptolugares]</td>\n",
              "      <td>criptolugares</td>\n",
              "      <td>Criptolugares</td>\n",
              "    </tr>\n",
              "    <tr>\n",
              "      <th>2</th>\n",
              "      <td>2023-02-12 05:04:54+00:00</td>\n",
              "      <td>@MilAbdianaM @yummy_superapp Cuando estaba en ...</td>\n",
              "      <td>1</td>\n",
              "      <td>nany_mavare94</td>\n",
              "      <td>1</td>\n",
              "    </tr>\n",
              "    <tr>\n",
              "      <th>3</th>\n",
              "      <td>2023-02-12 00:38:17+00:00</td>\n",
              "      <td>Yummy Venezuela es una mierda</td>\n",
              "      <td>1</td>\n",
              "      <td>mariamartiochoa</td>\n",
              "      <td>1</td>\n",
              "    </tr>\n",
              "    <tr>\n",
              "      <th>4</th>\n",
              "      <td>2023-02-11 21:26:00+00:00</td>\n",
              "      <td>@tusambil Sambil Candelaria es territorio INK\\...</td>\n",
              "      <td>[TATUAJES, VENEZUELA, INK, CARACAS, YUMMY]</td>\n",
              "      <td>guacamayaink</td>\n",
              "      <td>TATUAJES VENEZUELA INK CARACAS YUMMY</td>\n",
              "    </tr>\n",
              "  </tbody>\n",
              "</table>\n",
              "</div>\n",
              "      <button class=\"colab-df-convert\" onclick=\"convertToInteractive('df-1f496651-b80f-4003-b2a8-c94e05e08e87')\"\n",
              "              title=\"Convert this dataframe to an interactive table.\"\n",
              "              style=\"display:none;\">\n",
              "        \n",
              "  <svg xmlns=\"http://www.w3.org/2000/svg\" height=\"24px\"viewBox=\"0 0 24 24\"\n",
              "       width=\"24px\">\n",
              "    <path d=\"M0 0h24v24H0V0z\" fill=\"none\"/>\n",
              "    <path d=\"M18.56 5.44l.94 2.06.94-2.06 2.06-.94-2.06-.94-.94-2.06-.94 2.06-2.06.94zm-11 1L8.5 8.5l.94-2.06 2.06-.94-2.06-.94L8.5 2.5l-.94 2.06-2.06.94zm10 10l.94 2.06.94-2.06 2.06-.94-2.06-.94-.94-2.06-.94 2.06-2.06.94z\"/><path d=\"M17.41 7.96l-1.37-1.37c-.4-.4-.92-.59-1.43-.59-.52 0-1.04.2-1.43.59L10.3 9.45l-7.72 7.72c-.78.78-.78 2.05 0 2.83L4 21.41c.39.39.9.59 1.41.59.51 0 1.02-.2 1.41-.59l7.78-7.78 2.81-2.81c.8-.78.8-2.07 0-2.86zM5.41 20L4 18.59l7.72-7.72 1.47 1.35L5.41 20z\"/>\n",
              "  </svg>\n",
              "      </button>\n",
              "      \n",
              "  <style>\n",
              "    .colab-df-container {\n",
              "      display:flex;\n",
              "      flex-wrap:wrap;\n",
              "      gap: 12px;\n",
              "    }\n",
              "\n",
              "    .colab-df-convert {\n",
              "      background-color: #E8F0FE;\n",
              "      border: none;\n",
              "      border-radius: 50%;\n",
              "      cursor: pointer;\n",
              "      display: none;\n",
              "      fill: #1967D2;\n",
              "      height: 32px;\n",
              "      padding: 0 0 0 0;\n",
              "      width: 32px;\n",
              "    }\n",
              "\n",
              "    .colab-df-convert:hover {\n",
              "      background-color: #E2EBFA;\n",
              "      box-shadow: 0px 1px 2px rgba(60, 64, 67, 0.3), 0px 1px 3px 1px rgba(60, 64, 67, 0.15);\n",
              "      fill: #174EA6;\n",
              "    }\n",
              "\n",
              "    [theme=dark] .colab-df-convert {\n",
              "      background-color: #3B4455;\n",
              "      fill: #D2E3FC;\n",
              "    }\n",
              "\n",
              "    [theme=dark] .colab-df-convert:hover {\n",
              "      background-color: #434B5C;\n",
              "      box-shadow: 0px 1px 3px 1px rgba(0, 0, 0, 0.15);\n",
              "      filter: drop-shadow(0px 1px 2px rgba(0, 0, 0, 0.3));\n",
              "      fill: #FFFFFF;\n",
              "    }\n",
              "  </style>\n",
              "\n",
              "      <script>\n",
              "        const buttonEl =\n",
              "          document.querySelector('#df-1f496651-b80f-4003-b2a8-c94e05e08e87 button.colab-df-convert');\n",
              "        buttonEl.style.display =\n",
              "          google.colab.kernel.accessAllowed ? 'block' : 'none';\n",
              "\n",
              "        async function convertToInteractive(key) {\n",
              "          const element = document.querySelector('#df-1f496651-b80f-4003-b2a8-c94e05e08e87');\n",
              "          const dataTable =\n",
              "            await google.colab.kernel.invokeFunction('convertToInteractive',\n",
              "                                                     [key], {});\n",
              "          if (!dataTable) return;\n",
              "\n",
              "          const docLinkHtml = 'Like what you see? Visit the ' +\n",
              "            '<a target=\"_blank\" href=https://colab.research.google.com/notebooks/data_table.ipynb>data table notebook</a>'\n",
              "            + ' to learn more about interactive tables.';\n",
              "          element.innerHTML = '';\n",
              "          dataTable['output_type'] = 'display_data';\n",
              "          await google.colab.output.renderOutput(dataTable, element);\n",
              "          const docLink = document.createElement('div');\n",
              "          docLink.innerHTML = docLinkHtml;\n",
              "          element.appendChild(docLink);\n",
              "        }\n",
              "      </script>\n",
              "    </div>\n",
              "  </div>\n",
              "  "
            ]
          },
          "metadata": {},
          "execution_count": 14
        }
      ]
    },
    {
      "cell_type": "code",
      "source": [
        "tokenHashtag = dt['Token']\n",
        "tokenHashtag"
      ],
      "metadata": {
        "colab": {
          "base_uri": "https://localhost:8080/"
        },
        "id": "RjOHwFYYnEnb",
        "outputId": "8e83f568-2074-4ff8-cd52-d94e55f2b458"
      },
      "execution_count": 15,
      "outputs": [
        {
          "output_type": "execute_result",
          "data": {
            "text/plain": [
              "0                              Criptolugares\n",
              "1                              Criptolugares\n",
              "2                                          1\n",
              "3                                          1\n",
              "4       TATUAJES VENEZUELA INK CARACAS YUMMY\n",
              "                        ...                 \n",
              "1995                                       1\n",
              "1996                                       1\n",
              "1997                                       1\n",
              "1998                                       1\n",
              "1999                                       1\n",
              "Name: Token, Length: 2000, dtype: object"
            ]
          },
          "metadata": {},
          "execution_count": 15
        }
      ]
    },
    {
      "cell_type": "code",
      "source": [
        "tokens = [token for line in tokenHashtag  for token in line.split()]"
      ],
      "metadata": {
        "id": "3r4naeZsnXvD"
      },
      "execution_count": 16,
      "outputs": []
    },
    {
      "cell_type": "code",
      "source": [
        "#Creamos una funcion que cuente los datos ya toquenizados \n",
        "def get_tokens(docx,num=40):\n",
        "    word_tokens = Counter(docx)\n",
        "    most_common = word_tokens.most_common(num)\n",
        "    result = dict(most_common)\n",
        "    return result"
      ],
      "metadata": {
        "id": "LLTearKWnbNK"
      },
      "execution_count": 17,
      "outputs": []
    },
    {
      "cell_type": "code",
      "source": [
        "tokensTotal = get_tokens(tokens)"
      ],
      "metadata": {
        "id": "EGXATuGgneL6"
      },
      "execution_count": 18,
      "outputs": []
    },
    {
      "cell_type": "code",
      "source": [
        "#Insertamos los datos en un dataframe\n",
        "data = pd.DataFrame(tokensTotal.items(),columns=['Hashtags','scores'])\n",
        "data"
      ],
      "metadata": {
        "colab": {
          "base_uri": "https://localhost:8080/",
          "height": 1000
        },
        "id": "BXUREFWYng_8",
        "outputId": "278a74c5-9a50-4236-9b25-63d436c658e3"
      },
      "execution_count": 19,
      "outputs": [
        {
          "output_type": "execute_result",
          "data": {
            "text/plain": [
              "                  Hashtags  scores\n",
              "0                        1    1432\n",
              "1                Venezuela     206\n",
              "2                    yummy      76\n",
              "3      NegociosHispanoPost      70\n",
              "4                venezuela      55\n",
              "5                    Yummy      50\n",
              "6                  Caracas      27\n",
              "7                 delivery      19\n",
              "8                  caracas      19\n",
              "9                    Viral      18\n",
              "10                    food      14\n",
              "11               Servicios      14\n",
              "12                 Sudeban      13\n",
              "13                Delivery      12\n",
              "14           criptomonedas      11\n",
              "15                 Binance      11\n",
              "16                   30Jul      11\n",
              "17               delicious      10\n",
              "18                startups       8\n",
              "19                Economía       8\n",
              "20                Deportes       8\n",
              "21                 TalCual       7\n",
              "22            ClaroyRaspao       7\n",
              "23  InversionesEnVenezuela       7\n",
              "24                  crypto       7\n",
              "25               instafood       6\n",
              "26                  foodie       6\n",
              "27                   pizza       6\n",
              "28                  comida       6\n",
              "29               foodlover       6\n",
              "30          yummyvenezuela       6\n",
              "31                   23Dic       6\n",
              "32                   22Dic       6\n",
              "33                   ALICN       6\n",
              "34                tequeños       6\n",
              "35                  dulces       6\n",
              "36                     yum       6\n",
              "37                    love       5\n",
              "38                     NFT       5\n",
              "39                 foodies       5"
            ],
            "text/html": [
              "\n",
              "  <div id=\"df-c5eafa12-19f0-4b47-bb99-1102765bb6c7\">\n",
              "    <div class=\"colab-df-container\">\n",
              "      <div>\n",
              "<style scoped>\n",
              "    .dataframe tbody tr th:only-of-type {\n",
              "        vertical-align: middle;\n",
              "    }\n",
              "\n",
              "    .dataframe tbody tr th {\n",
              "        vertical-align: top;\n",
              "    }\n",
              "\n",
              "    .dataframe thead th {\n",
              "        text-align: right;\n",
              "    }\n",
              "</style>\n",
              "<table border=\"1\" class=\"dataframe\">\n",
              "  <thead>\n",
              "    <tr style=\"text-align: right;\">\n",
              "      <th></th>\n",
              "      <th>Hashtags</th>\n",
              "      <th>scores</th>\n",
              "    </tr>\n",
              "  </thead>\n",
              "  <tbody>\n",
              "    <tr>\n",
              "      <th>0</th>\n",
              "      <td>1</td>\n",
              "      <td>1432</td>\n",
              "    </tr>\n",
              "    <tr>\n",
              "      <th>1</th>\n",
              "      <td>Venezuela</td>\n",
              "      <td>206</td>\n",
              "    </tr>\n",
              "    <tr>\n",
              "      <th>2</th>\n",
              "      <td>yummy</td>\n",
              "      <td>76</td>\n",
              "    </tr>\n",
              "    <tr>\n",
              "      <th>3</th>\n",
              "      <td>NegociosHispanoPost</td>\n",
              "      <td>70</td>\n",
              "    </tr>\n",
              "    <tr>\n",
              "      <th>4</th>\n",
              "      <td>venezuela</td>\n",
              "      <td>55</td>\n",
              "    </tr>\n",
              "    <tr>\n",
              "      <th>5</th>\n",
              "      <td>Yummy</td>\n",
              "      <td>50</td>\n",
              "    </tr>\n",
              "    <tr>\n",
              "      <th>6</th>\n",
              "      <td>Caracas</td>\n",
              "      <td>27</td>\n",
              "    </tr>\n",
              "    <tr>\n",
              "      <th>7</th>\n",
              "      <td>delivery</td>\n",
              "      <td>19</td>\n",
              "    </tr>\n",
              "    <tr>\n",
              "      <th>8</th>\n",
              "      <td>caracas</td>\n",
              "      <td>19</td>\n",
              "    </tr>\n",
              "    <tr>\n",
              "      <th>9</th>\n",
              "      <td>Viral</td>\n",
              "      <td>18</td>\n",
              "    </tr>\n",
              "    <tr>\n",
              "      <th>10</th>\n",
              "      <td>food</td>\n",
              "      <td>14</td>\n",
              "    </tr>\n",
              "    <tr>\n",
              "      <th>11</th>\n",
              "      <td>Servicios</td>\n",
              "      <td>14</td>\n",
              "    </tr>\n",
              "    <tr>\n",
              "      <th>12</th>\n",
              "      <td>Sudeban</td>\n",
              "      <td>13</td>\n",
              "    </tr>\n",
              "    <tr>\n",
              "      <th>13</th>\n",
              "      <td>Delivery</td>\n",
              "      <td>12</td>\n",
              "    </tr>\n",
              "    <tr>\n",
              "      <th>14</th>\n",
              "      <td>criptomonedas</td>\n",
              "      <td>11</td>\n",
              "    </tr>\n",
              "    <tr>\n",
              "      <th>15</th>\n",
              "      <td>Binance</td>\n",
              "      <td>11</td>\n",
              "    </tr>\n",
              "    <tr>\n",
              "      <th>16</th>\n",
              "      <td>30Jul</td>\n",
              "      <td>11</td>\n",
              "    </tr>\n",
              "    <tr>\n",
              "      <th>17</th>\n",
              "      <td>delicious</td>\n",
              "      <td>10</td>\n",
              "    </tr>\n",
              "    <tr>\n",
              "      <th>18</th>\n",
              "      <td>startups</td>\n",
              "      <td>8</td>\n",
              "    </tr>\n",
              "    <tr>\n",
              "      <th>19</th>\n",
              "      <td>Economía</td>\n",
              "      <td>8</td>\n",
              "    </tr>\n",
              "    <tr>\n",
              "      <th>20</th>\n",
              "      <td>Deportes</td>\n",
              "      <td>8</td>\n",
              "    </tr>\n",
              "    <tr>\n",
              "      <th>21</th>\n",
              "      <td>TalCual</td>\n",
              "      <td>7</td>\n",
              "    </tr>\n",
              "    <tr>\n",
              "      <th>22</th>\n",
              "      <td>ClaroyRaspao</td>\n",
              "      <td>7</td>\n",
              "    </tr>\n",
              "    <tr>\n",
              "      <th>23</th>\n",
              "      <td>InversionesEnVenezuela</td>\n",
              "      <td>7</td>\n",
              "    </tr>\n",
              "    <tr>\n",
              "      <th>24</th>\n",
              "      <td>crypto</td>\n",
              "      <td>7</td>\n",
              "    </tr>\n",
              "    <tr>\n",
              "      <th>25</th>\n",
              "      <td>instafood</td>\n",
              "      <td>6</td>\n",
              "    </tr>\n",
              "    <tr>\n",
              "      <th>26</th>\n",
              "      <td>foodie</td>\n",
              "      <td>6</td>\n",
              "    </tr>\n",
              "    <tr>\n",
              "      <th>27</th>\n",
              "      <td>pizza</td>\n",
              "      <td>6</td>\n",
              "    </tr>\n",
              "    <tr>\n",
              "      <th>28</th>\n",
              "      <td>comida</td>\n",
              "      <td>6</td>\n",
              "    </tr>\n",
              "    <tr>\n",
              "      <th>29</th>\n",
              "      <td>foodlover</td>\n",
              "      <td>6</td>\n",
              "    </tr>\n",
              "    <tr>\n",
              "      <th>30</th>\n",
              "      <td>yummyvenezuela</td>\n",
              "      <td>6</td>\n",
              "    </tr>\n",
              "    <tr>\n",
              "      <th>31</th>\n",
              "      <td>23Dic</td>\n",
              "      <td>6</td>\n",
              "    </tr>\n",
              "    <tr>\n",
              "      <th>32</th>\n",
              "      <td>22Dic</td>\n",
              "      <td>6</td>\n",
              "    </tr>\n",
              "    <tr>\n",
              "      <th>33</th>\n",
              "      <td>ALICN</td>\n",
              "      <td>6</td>\n",
              "    </tr>\n",
              "    <tr>\n",
              "      <th>34</th>\n",
              "      <td>tequeños</td>\n",
              "      <td>6</td>\n",
              "    </tr>\n",
              "    <tr>\n",
              "      <th>35</th>\n",
              "      <td>dulces</td>\n",
              "      <td>6</td>\n",
              "    </tr>\n",
              "    <tr>\n",
              "      <th>36</th>\n",
              "      <td>yum</td>\n",
              "      <td>6</td>\n",
              "    </tr>\n",
              "    <tr>\n",
              "      <th>37</th>\n",
              "      <td>love</td>\n",
              "      <td>5</td>\n",
              "    </tr>\n",
              "    <tr>\n",
              "      <th>38</th>\n",
              "      <td>NFT</td>\n",
              "      <td>5</td>\n",
              "    </tr>\n",
              "    <tr>\n",
              "      <th>39</th>\n",
              "      <td>foodies</td>\n",
              "      <td>5</td>\n",
              "    </tr>\n",
              "  </tbody>\n",
              "</table>\n",
              "</div>\n",
              "      <button class=\"colab-df-convert\" onclick=\"convertToInteractive('df-c5eafa12-19f0-4b47-bb99-1102765bb6c7')\"\n",
              "              title=\"Convert this dataframe to an interactive table.\"\n",
              "              style=\"display:none;\">\n",
              "        \n",
              "  <svg xmlns=\"http://www.w3.org/2000/svg\" height=\"24px\"viewBox=\"0 0 24 24\"\n",
              "       width=\"24px\">\n",
              "    <path d=\"M0 0h24v24H0V0z\" fill=\"none\"/>\n",
              "    <path d=\"M18.56 5.44l.94 2.06.94-2.06 2.06-.94-2.06-.94-.94-2.06-.94 2.06-2.06.94zm-11 1L8.5 8.5l.94-2.06 2.06-.94-2.06-.94L8.5 2.5l-.94 2.06-2.06.94zm10 10l.94 2.06.94-2.06 2.06-.94-2.06-.94-.94-2.06-.94 2.06-2.06.94z\"/><path d=\"M17.41 7.96l-1.37-1.37c-.4-.4-.92-.59-1.43-.59-.52 0-1.04.2-1.43.59L10.3 9.45l-7.72 7.72c-.78.78-.78 2.05 0 2.83L4 21.41c.39.39.9.59 1.41.59.51 0 1.02-.2 1.41-.59l7.78-7.78 2.81-2.81c.8-.78.8-2.07 0-2.86zM5.41 20L4 18.59l7.72-7.72 1.47 1.35L5.41 20z\"/>\n",
              "  </svg>\n",
              "      </button>\n",
              "      \n",
              "  <style>\n",
              "    .colab-df-container {\n",
              "      display:flex;\n",
              "      flex-wrap:wrap;\n",
              "      gap: 12px;\n",
              "    }\n",
              "\n",
              "    .colab-df-convert {\n",
              "      background-color: #E8F0FE;\n",
              "      border: none;\n",
              "      border-radius: 50%;\n",
              "      cursor: pointer;\n",
              "      display: none;\n",
              "      fill: #1967D2;\n",
              "      height: 32px;\n",
              "      padding: 0 0 0 0;\n",
              "      width: 32px;\n",
              "    }\n",
              "\n",
              "    .colab-df-convert:hover {\n",
              "      background-color: #E2EBFA;\n",
              "      box-shadow: 0px 1px 2px rgba(60, 64, 67, 0.3), 0px 1px 3px 1px rgba(60, 64, 67, 0.15);\n",
              "      fill: #174EA6;\n",
              "    }\n",
              "\n",
              "    [theme=dark] .colab-df-convert {\n",
              "      background-color: #3B4455;\n",
              "      fill: #D2E3FC;\n",
              "    }\n",
              "\n",
              "    [theme=dark] .colab-df-convert:hover {\n",
              "      background-color: #434B5C;\n",
              "      box-shadow: 0px 1px 3px 1px rgba(0, 0, 0, 0.15);\n",
              "      filter: drop-shadow(0px 1px 2px rgba(0, 0, 0, 0.3));\n",
              "      fill: #FFFFFF;\n",
              "    }\n",
              "  </style>\n",
              "\n",
              "      <script>\n",
              "        const buttonEl =\n",
              "          document.querySelector('#df-c5eafa12-19f0-4b47-bb99-1102765bb6c7 button.colab-df-convert');\n",
              "        buttonEl.style.display =\n",
              "          google.colab.kernel.accessAllowed ? 'block' : 'none';\n",
              "\n",
              "        async function convertToInteractive(key) {\n",
              "          const element = document.querySelector('#df-c5eafa12-19f0-4b47-bb99-1102765bb6c7');\n",
              "          const dataTable =\n",
              "            await google.colab.kernel.invokeFunction('convertToInteractive',\n",
              "                                                     [key], {});\n",
              "          if (!dataTable) return;\n",
              "\n",
              "          const docLinkHtml = 'Like what you see? Visit the ' +\n",
              "            '<a target=\"_blank\" href=https://colab.research.google.com/notebooks/data_table.ipynb>data table notebook</a>'\n",
              "            + ' to learn more about interactive tables.';\n",
              "          element.innerHTML = '';\n",
              "          dataTable['output_type'] = 'display_data';\n",
              "          await google.colab.output.renderOutput(dataTable, element);\n",
              "          const docLink = document.createElement('div');\n",
              "          docLink.innerHTML = docLinkHtml;\n",
              "          element.appendChild(docLink);\n",
              "        }\n",
              "      </script>\n",
              "    </div>\n",
              "  </div>\n",
              "  "
            ]
          },
          "metadata": {},
          "execution_count": 19
        }
      ]
    },
    {
      "cell_type": "code",
      "source": [
        "#Ploteamos los datos\n",
        "fig = px.bar(data, title=\"Hashtags mas usados en Yummy Venezuela\",x=data['Hashtags'], y=data['scores'])\n",
        "fig.show()"
      ],
      "metadata": {
        "colab": {
          "base_uri": "https://localhost:8080/",
          "height": 542
        },
        "id": "fDEWjXfrnk_9",
        "outputId": "c9a6c737-bed2-42f4-8a24-6e3aaab07310"
      },
      "execution_count": 20,
      "outputs": [
        {
          "output_type": "display_data",
          "data": {
            "text/html": [
              "<html>\n",
              "<head><meta charset=\"utf-8\" /></head>\n",
              "<body>\n",
              "    <div>            <script src=\"https://cdnjs.cloudflare.com/ajax/libs/mathjax/2.7.5/MathJax.js?config=TeX-AMS-MML_SVG\"></script><script type=\"text/javascript\">if (window.MathJax) {MathJax.Hub.Config({SVG: {font: \"STIX-Web\"}});}</script>                <script type=\"text/javascript\">window.PlotlyConfig = {MathJaxConfig: 'local'};</script>\n",
              "        <script src=\"https://cdn.plot.ly/plotly-2.8.3.min.js\"></script>                <div id=\"c1120f6d-edd2-448f-9d5f-529fffbfdacc\" class=\"plotly-graph-div\" style=\"height:525px; width:100%;\"></div>            <script type=\"text/javascript\">                                    window.PLOTLYENV=window.PLOTLYENV || {};                                    if (document.getElementById(\"c1120f6d-edd2-448f-9d5f-529fffbfdacc\")) {                    Plotly.newPlot(                        \"c1120f6d-edd2-448f-9d5f-529fffbfdacc\",                        [{\"alignmentgroup\":\"True\",\"hovertemplate\":\"Hashtags=%{x}<br>scores=%{y}<extra></extra>\",\"legendgroup\":\"\",\"marker\":{\"color\":\"#636efa\",\"pattern\":{\"shape\":\"\"}},\"name\":\"\",\"offsetgroup\":\"\",\"orientation\":\"v\",\"showlegend\":false,\"textposition\":\"auto\",\"x\":[\"1\",\"Venezuela\",\"yummy\",\"NegociosHispanoPost\",\"venezuela\",\"Yummy\",\"Caracas\",\"delivery\",\"caracas\",\"Viral\",\"food\",\"Servicios\",\"Sudeban\",\"Delivery\",\"criptomonedas\",\"Binance\",\"30Jul\",\"delicious\",\"startups\",\"Econom\\u00eda\",\"Deportes\",\"TalCual\",\"ClaroyRaspao\",\"InversionesEnVenezuela\",\"crypto\",\"instafood\",\"foodie\",\"pizza\",\"comida\",\"foodlover\",\"yummyvenezuela\",\"23Dic\",\"22Dic\",\"ALICN\",\"teque\\u00f1os\",\"dulces\",\"yum\",\"love\",\"NFT\",\"foodies\"],\"xaxis\":\"x\",\"y\":[1432,206,76,70,55,50,27,19,19,18,14,14,13,12,11,11,11,10,8,8,8,7,7,7,7,6,6,6,6,6,6,6,6,6,6,6,6,5,5,5],\"yaxis\":\"y\",\"type\":\"bar\"}],                        {\"template\":{\"data\":{\"bar\":[{\"error_x\":{\"color\":\"#2a3f5f\"},\"error_y\":{\"color\":\"#2a3f5f\"},\"marker\":{\"line\":{\"color\":\"#E5ECF6\",\"width\":0.5},\"pattern\":{\"fillmode\":\"overlay\",\"size\":10,\"solidity\":0.2}},\"type\":\"bar\"}],\"barpolar\":[{\"marker\":{\"line\":{\"color\":\"#E5ECF6\",\"width\":0.5},\"pattern\":{\"fillmode\":\"overlay\",\"size\":10,\"solidity\":0.2}},\"type\":\"barpolar\"}],\"carpet\":[{\"aaxis\":{\"endlinecolor\":\"#2a3f5f\",\"gridcolor\":\"white\",\"linecolor\":\"white\",\"minorgridcolor\":\"white\",\"startlinecolor\":\"#2a3f5f\"},\"baxis\":{\"endlinecolor\":\"#2a3f5f\",\"gridcolor\":\"white\",\"linecolor\":\"white\",\"minorgridcolor\":\"white\",\"startlinecolor\":\"#2a3f5f\"},\"type\":\"carpet\"}],\"choropleth\":[{\"colorbar\":{\"outlinewidth\":0,\"ticks\":\"\"},\"type\":\"choropleth\"}],\"contour\":[{\"colorbar\":{\"outlinewidth\":0,\"ticks\":\"\"},\"colorscale\":[[0.0,\"#0d0887\"],[0.1111111111111111,\"#46039f\"],[0.2222222222222222,\"#7201a8\"],[0.3333333333333333,\"#9c179e\"],[0.4444444444444444,\"#bd3786\"],[0.5555555555555556,\"#d8576b\"],[0.6666666666666666,\"#ed7953\"],[0.7777777777777778,\"#fb9f3a\"],[0.8888888888888888,\"#fdca26\"],[1.0,\"#f0f921\"]],\"type\":\"contour\"}],\"contourcarpet\":[{\"colorbar\":{\"outlinewidth\":0,\"ticks\":\"\"},\"type\":\"contourcarpet\"}],\"heatmap\":[{\"colorbar\":{\"outlinewidth\":0,\"ticks\":\"\"},\"colorscale\":[[0.0,\"#0d0887\"],[0.1111111111111111,\"#46039f\"],[0.2222222222222222,\"#7201a8\"],[0.3333333333333333,\"#9c179e\"],[0.4444444444444444,\"#bd3786\"],[0.5555555555555556,\"#d8576b\"],[0.6666666666666666,\"#ed7953\"],[0.7777777777777778,\"#fb9f3a\"],[0.8888888888888888,\"#fdca26\"],[1.0,\"#f0f921\"]],\"type\":\"heatmap\"}],\"heatmapgl\":[{\"colorbar\":{\"outlinewidth\":0,\"ticks\":\"\"},\"colorscale\":[[0.0,\"#0d0887\"],[0.1111111111111111,\"#46039f\"],[0.2222222222222222,\"#7201a8\"],[0.3333333333333333,\"#9c179e\"],[0.4444444444444444,\"#bd3786\"],[0.5555555555555556,\"#d8576b\"],[0.6666666666666666,\"#ed7953\"],[0.7777777777777778,\"#fb9f3a\"],[0.8888888888888888,\"#fdca26\"],[1.0,\"#f0f921\"]],\"type\":\"heatmapgl\"}],\"histogram\":[{\"marker\":{\"pattern\":{\"fillmode\":\"overlay\",\"size\":10,\"solidity\":0.2}},\"type\":\"histogram\"}],\"histogram2d\":[{\"colorbar\":{\"outlinewidth\":0,\"ticks\":\"\"},\"colorscale\":[[0.0,\"#0d0887\"],[0.1111111111111111,\"#46039f\"],[0.2222222222222222,\"#7201a8\"],[0.3333333333333333,\"#9c179e\"],[0.4444444444444444,\"#bd3786\"],[0.5555555555555556,\"#d8576b\"],[0.6666666666666666,\"#ed7953\"],[0.7777777777777778,\"#fb9f3a\"],[0.8888888888888888,\"#fdca26\"],[1.0,\"#f0f921\"]],\"type\":\"histogram2d\"}],\"histogram2dcontour\":[{\"colorbar\":{\"outlinewidth\":0,\"ticks\":\"\"},\"colorscale\":[[0.0,\"#0d0887\"],[0.1111111111111111,\"#46039f\"],[0.2222222222222222,\"#7201a8\"],[0.3333333333333333,\"#9c179e\"],[0.4444444444444444,\"#bd3786\"],[0.5555555555555556,\"#d8576b\"],[0.6666666666666666,\"#ed7953\"],[0.7777777777777778,\"#fb9f3a\"],[0.8888888888888888,\"#fdca26\"],[1.0,\"#f0f921\"]],\"type\":\"histogram2dcontour\"}],\"mesh3d\":[{\"colorbar\":{\"outlinewidth\":0,\"ticks\":\"\"},\"type\":\"mesh3d\"}],\"parcoords\":[{\"line\":{\"colorbar\":{\"outlinewidth\":0,\"ticks\":\"\"}},\"type\":\"parcoords\"}],\"pie\":[{\"automargin\":true,\"type\":\"pie\"}],\"scatter\":[{\"marker\":{\"colorbar\":{\"outlinewidth\":0,\"ticks\":\"\"}},\"type\":\"scatter\"}],\"scatter3d\":[{\"line\":{\"colorbar\":{\"outlinewidth\":0,\"ticks\":\"\"}},\"marker\":{\"colorbar\":{\"outlinewidth\":0,\"ticks\":\"\"}},\"type\":\"scatter3d\"}],\"scattercarpet\":[{\"marker\":{\"colorbar\":{\"outlinewidth\":0,\"ticks\":\"\"}},\"type\":\"scattercarpet\"}],\"scattergeo\":[{\"marker\":{\"colorbar\":{\"outlinewidth\":0,\"ticks\":\"\"}},\"type\":\"scattergeo\"}],\"scattergl\":[{\"marker\":{\"colorbar\":{\"outlinewidth\":0,\"ticks\":\"\"}},\"type\":\"scattergl\"}],\"scattermapbox\":[{\"marker\":{\"colorbar\":{\"outlinewidth\":0,\"ticks\":\"\"}},\"type\":\"scattermapbox\"}],\"scatterpolar\":[{\"marker\":{\"colorbar\":{\"outlinewidth\":0,\"ticks\":\"\"}},\"type\":\"scatterpolar\"}],\"scatterpolargl\":[{\"marker\":{\"colorbar\":{\"outlinewidth\":0,\"ticks\":\"\"}},\"type\":\"scatterpolargl\"}],\"scatterternary\":[{\"marker\":{\"colorbar\":{\"outlinewidth\":0,\"ticks\":\"\"}},\"type\":\"scatterternary\"}],\"surface\":[{\"colorbar\":{\"outlinewidth\":0,\"ticks\":\"\"},\"colorscale\":[[0.0,\"#0d0887\"],[0.1111111111111111,\"#46039f\"],[0.2222222222222222,\"#7201a8\"],[0.3333333333333333,\"#9c179e\"],[0.4444444444444444,\"#bd3786\"],[0.5555555555555556,\"#d8576b\"],[0.6666666666666666,\"#ed7953\"],[0.7777777777777778,\"#fb9f3a\"],[0.8888888888888888,\"#fdca26\"],[1.0,\"#f0f921\"]],\"type\":\"surface\"}],\"table\":[{\"cells\":{\"fill\":{\"color\":\"#EBF0F8\"},\"line\":{\"color\":\"white\"}},\"header\":{\"fill\":{\"color\":\"#C8D4E3\"},\"line\":{\"color\":\"white\"}},\"type\":\"table\"}]},\"layout\":{\"annotationdefaults\":{\"arrowcolor\":\"#2a3f5f\",\"arrowhead\":0,\"arrowwidth\":1},\"autotypenumbers\":\"strict\",\"coloraxis\":{\"colorbar\":{\"outlinewidth\":0,\"ticks\":\"\"}},\"colorscale\":{\"diverging\":[[0,\"#8e0152\"],[0.1,\"#c51b7d\"],[0.2,\"#de77ae\"],[0.3,\"#f1b6da\"],[0.4,\"#fde0ef\"],[0.5,\"#f7f7f7\"],[0.6,\"#e6f5d0\"],[0.7,\"#b8e186\"],[0.8,\"#7fbc41\"],[0.9,\"#4d9221\"],[1,\"#276419\"]],\"sequential\":[[0.0,\"#0d0887\"],[0.1111111111111111,\"#46039f\"],[0.2222222222222222,\"#7201a8\"],[0.3333333333333333,\"#9c179e\"],[0.4444444444444444,\"#bd3786\"],[0.5555555555555556,\"#d8576b\"],[0.6666666666666666,\"#ed7953\"],[0.7777777777777778,\"#fb9f3a\"],[0.8888888888888888,\"#fdca26\"],[1.0,\"#f0f921\"]],\"sequentialminus\":[[0.0,\"#0d0887\"],[0.1111111111111111,\"#46039f\"],[0.2222222222222222,\"#7201a8\"],[0.3333333333333333,\"#9c179e\"],[0.4444444444444444,\"#bd3786\"],[0.5555555555555556,\"#d8576b\"],[0.6666666666666666,\"#ed7953\"],[0.7777777777777778,\"#fb9f3a\"],[0.8888888888888888,\"#fdca26\"],[1.0,\"#f0f921\"]]},\"colorway\":[\"#636efa\",\"#EF553B\",\"#00cc96\",\"#ab63fa\",\"#FFA15A\",\"#19d3f3\",\"#FF6692\",\"#B6E880\",\"#FF97FF\",\"#FECB52\"],\"font\":{\"color\":\"#2a3f5f\"},\"geo\":{\"bgcolor\":\"white\",\"lakecolor\":\"white\",\"landcolor\":\"#E5ECF6\",\"showlakes\":true,\"showland\":true,\"subunitcolor\":\"white\"},\"hoverlabel\":{\"align\":\"left\"},\"hovermode\":\"closest\",\"mapbox\":{\"style\":\"light\"},\"paper_bgcolor\":\"white\",\"plot_bgcolor\":\"#E5ECF6\",\"polar\":{\"angularaxis\":{\"gridcolor\":\"white\",\"linecolor\":\"white\",\"ticks\":\"\"},\"bgcolor\":\"#E5ECF6\",\"radialaxis\":{\"gridcolor\":\"white\",\"linecolor\":\"white\",\"ticks\":\"\"}},\"scene\":{\"xaxis\":{\"backgroundcolor\":\"#E5ECF6\",\"gridcolor\":\"white\",\"gridwidth\":2,\"linecolor\":\"white\",\"showbackground\":true,\"ticks\":\"\",\"zerolinecolor\":\"white\"},\"yaxis\":{\"backgroundcolor\":\"#E5ECF6\",\"gridcolor\":\"white\",\"gridwidth\":2,\"linecolor\":\"white\",\"showbackground\":true,\"ticks\":\"\",\"zerolinecolor\":\"white\"},\"zaxis\":{\"backgroundcolor\":\"#E5ECF6\",\"gridcolor\":\"white\",\"gridwidth\":2,\"linecolor\":\"white\",\"showbackground\":true,\"ticks\":\"\",\"zerolinecolor\":\"white\"}},\"shapedefaults\":{\"line\":{\"color\":\"#2a3f5f\"}},\"ternary\":{\"aaxis\":{\"gridcolor\":\"white\",\"linecolor\":\"white\",\"ticks\":\"\"},\"baxis\":{\"gridcolor\":\"white\",\"linecolor\":\"white\",\"ticks\":\"\"},\"bgcolor\":\"#E5ECF6\",\"caxis\":{\"gridcolor\":\"white\",\"linecolor\":\"white\",\"ticks\":\"\"}},\"title\":{\"x\":0.05},\"xaxis\":{\"automargin\":true,\"gridcolor\":\"white\",\"linecolor\":\"white\",\"ticks\":\"\",\"title\":{\"standoff\":15},\"zerolinecolor\":\"white\",\"zerolinewidth\":2},\"yaxis\":{\"automargin\":true,\"gridcolor\":\"white\",\"linecolor\":\"white\",\"ticks\":\"\",\"title\":{\"standoff\":15},\"zerolinecolor\":\"white\",\"zerolinewidth\":2}}},\"xaxis\":{\"anchor\":\"y\",\"domain\":[0.0,1.0],\"title\":{\"text\":\"Hashtags\"}},\"yaxis\":{\"anchor\":\"x\",\"domain\":[0.0,1.0],\"title\":{\"text\":\"scores\"}},\"legend\":{\"tracegroupgap\":0},\"title\":{\"text\":\"Hashtags mas usados en Yummy Venezuela\"},\"barmode\":\"relative\"},                        {\"responsive\": true}                    ).then(function(){\n",
              "                            \n",
              "var gd = document.getElementById('c1120f6d-edd2-448f-9d5f-529fffbfdacc');\n",
              "var x = new MutationObserver(function (mutations, observer) {{\n",
              "        var display = window.getComputedStyle(gd).display;\n",
              "        if (!display || display === 'none') {{\n",
              "            console.log([gd, 'removed!']);\n",
              "            Plotly.purge(gd);\n",
              "            observer.disconnect();\n",
              "        }}\n",
              "}});\n",
              "\n",
              "// Listen for the removal of the full notebook cells\n",
              "var notebookContainer = gd.closest('#notebook-container');\n",
              "if (notebookContainer) {{\n",
              "    x.observe(notebookContainer, {childList: true});\n",
              "}}\n",
              "\n",
              "// Listen for the clearing of the current output cell\n",
              "var outputEl = gd.closest('.output');\n",
              "if (outputEl) {{\n",
              "    x.observe(outputEl, {childList: true});\n",
              "}}\n",
              "\n",
              "                        })                };                            </script>        </div>\n",
              "</body>\n",
              "</html>"
            ]
          },
          "metadata": {}
        }
      ]
    },
    {
      "cell_type": "markdown",
      "source": [
        "#Conclusiones de los hashtags\n",
        "\n",
        "Los hashtags mas utilizados de Yummy Venezuela\n",
        "\n",
        "\n",
        "*   Yummy\n",
        "*   NegociosHispanosPost\n",
        "*   Venezuela\n",
        "*   Caracas\n",
        "*   Delivery\n",
        "\n"
      ],
      "metadata": {
        "id": "8i8RCssyGrhh"
      }
    },
    {
      "cell_type": "code",
      "source": [
        "#Removemos caracteres que puedan afectar la prediccion del modelo\n",
        "dt['Tweet'] = dt['Tweet'].apply(nt.remove_hashtags)\n",
        "dt['Tweet'] = dt['Tweet'].apply(nt.remove_emojis)\n",
        "dt['Tweet'] = dt['Tweet'].apply(nt.remove_numbers)\n",
        "dt['Tweet'] = dt['Tweet'].apply(nt.remove_special_characters)\n",
        "dt['Tweet'] = dt['Tweet'].apply(nt.remove_urls)\n",
        "dt['Tweet'] = dt['Tweet'].apply(nt.remove_currency_symbols)\n",
        "dt['Tweet'] = dt['Tweet'].apply(nt.remove_userhandles)"
      ],
      "metadata": {
        "id": "drjNKnYftLHG"
      },
      "execution_count": 21,
      "outputs": []
    },
    {
      "cell_type": "code",
      "source": [
        "#Creamos una funcion para borrar caracteres especiales\n",
        "def clean_text(text):\n",
        "  text = re.sub(r'@[A-Za-z09]+', '', text)\n",
        "  text = re.sub(r'#', '', text)\n",
        "  text = re.sub(r'RT[\\s]+', '', text)\n",
        "  text = re.sub(r'https?:\\/\\/?', '', text)\n",
        "\n",
        "\n",
        "  return text\n",
        "\n",
        "dt['Tweet'] = dt['Tweet'].apply(clean_text)"
      ],
      "metadata": {
        "id": "MDta_Pf_taR7"
      },
      "execution_count": 22,
      "outputs": []
    },
    {
      "cell_type": "code",
      "source": [
        "#Creamos dos fuciones una para clacular el sentimiento y el otro para calcular la subjetividad\n",
        "def get_subjectivity(text):\n",
        "  return TextBlob(text).translate(from_lang=\"es\", to=\"en\").sentiment.subjectivity\n",
        "\n",
        "def get_polarity(text):\n",
        "  return TextBlob(text).translate(from_lang=\"es\", to=\"en\").sentiment.polarity"
      ],
      "metadata": {
        "id": "tvT5Np9Hvzex"
      },
      "execution_count": 23,
      "outputs": []
    },
    {
      "cell_type": "code",
      "source": [
        "dt['Subjectivity'] = dt['Tweet'].apply(get_subjectivity)"
      ],
      "metadata": {
        "id": "IOqbcu7exSsC"
      },
      "execution_count": 24,
      "outputs": []
    },
    {
      "cell_type": "code",
      "source": [
        "dt['Polarity'] = dt['Tweet'].apply(get_polarity)"
      ],
      "metadata": {
        "id": "cWWH4GXe4iE-"
      },
      "execution_count": 25,
      "outputs": []
    },
    {
      "cell_type": "code",
      "source": [
        "#Creamos una funcion que tome la polaridad y la procese como Positivo, Neutro o negativo\n",
        "def analysis(score):\n",
        "  if score < 0:\n",
        "    return 'Negative'\n",
        "  elif score == 0:\n",
        "     return 'Neutral'\n",
        "  elif score > 0:\n",
        "    return 'Positive'\n",
        "\n",
        "dt['Analysis'] = dt['Polarity'].apply(analysis)\n",
        "\n",
        "dt.head(800)"
      ],
      "metadata": {
        "colab": {
          "base_uri": "https://localhost:8080/",
          "height": 641
        },
        "id": "k2iqsaSZ8f8a",
        "outputId": "c2ee25a9-f3a0-480f-8d1d-c93cf73d6095"
      },
      "execution_count": 26,
      "outputs": [
        {
          "output_type": "execute_result",
          "data": {
            "text/plain": [
              "                         Date  \\\n",
              "0   2023-02-12 14:43:07+00:00   \n",
              "1   2023-02-12 14:43:05+00:00   \n",
              "2   2023-02-12 05:04:54+00:00   \n",
              "3   2023-02-12 00:38:17+00:00   \n",
              "4   2023-02-11 21:26:00+00:00   \n",
              "..                        ...   \n",
              "795 2022-04-14 22:51:51+00:00   \n",
              "796 2022-04-14 22:41:09+00:00   \n",
              "797 2022-04-14 22:38:33+00:00   \n",
              "798 2022-04-14 22:36:52+00:00   \n",
              "799 2022-04-14 22:33:03+00:00   \n",
              "\n",
              "                                                 Tweet  \\\n",
              "0    Este no es el primer acercamiento de Yummy con...   \n",
              "1    Yummy lanza coleccin de NFT para financiar sta...   \n",
              "2    MilAbdianaM yummysuperapp Cuando estaba en Ven...   \n",
              "3                        Yummy Venezuela es una mierda   \n",
              "4    tusambil Sambil Candelaria es territorio INK  ...   \n",
              "..                                                 ...   \n",
              "795  Desde este  de abril la aplicacin de entregas ...   \n",
              "796  Servicio de taxis Yummy integra pagos con Bina...   \n",
              "797  Le service de taxi Yummy intgre les paiements ...   \n",
              "798  Servicio de taxis Yummy integra pagos con Bina...   \n",
              "799   httpstcohfABsOmH   Servicio de taxis Yummy in...   \n",
              "\n",
              "                                        Hashtag         Username  \\\n",
              "0                               [Criptolugares]    criptolugares   \n",
              "1                               [Criptolugares]    criptolugares   \n",
              "2                                             1    nany_mavare94   \n",
              "3                                             1  mariamartiochoa   \n",
              "4    [TATUAJES, VENEZUELA, INK, CARACAS, YUMMY]     guacamayaink   \n",
              "..                                          ...              ...   \n",
              "795                                           1    glendagrisell   \n",
              "796                                  [Adopción]   CriptoNoticias   \n",
              "797                                           1  LaCryptoMonnai1   \n",
              "798                                           1     gentecosmotv   \n",
              "799                         [Adopción, Binance]         mundobtc   \n",
              "\n",
              "                                    Token  Subjectivity  Polarity  Analysis  \n",
              "0                           Criptolugares      0.333333      0.25  Positive  \n",
              "1                           Criptolugares      0.300000     -0.20  Negative  \n",
              "2                                       1      0.783333     -0.65  Negative  \n",
              "3                                       1      0.800000     -0.20  Negative  \n",
              "4    TATUAJES VENEZUELA INK CARACAS YUMMY      0.000000      0.00   Neutral  \n",
              "..                                    ...           ...       ...       ...  \n",
              "795                                     1      0.000000      0.00   Neutral  \n",
              "796                              Adopción      0.000000      0.00   Neutral  \n",
              "797                                     1      0.000000      0.00   Neutral  \n",
              "798                                     1      0.000000      0.00   Neutral  \n",
              "799                      Adopción Binance      0.000000      0.00   Neutral  \n",
              "\n",
              "[800 rows x 8 columns]"
            ],
            "text/html": [
              "\n",
              "  <div id=\"df-778f0de6-fc4a-4b73-8720-45d55126a5a9\">\n",
              "    <div class=\"colab-df-container\">\n",
              "      <div>\n",
              "<style scoped>\n",
              "    .dataframe tbody tr th:only-of-type {\n",
              "        vertical-align: middle;\n",
              "    }\n",
              "\n",
              "    .dataframe tbody tr th {\n",
              "        vertical-align: top;\n",
              "    }\n",
              "\n",
              "    .dataframe thead th {\n",
              "        text-align: right;\n",
              "    }\n",
              "</style>\n",
              "<table border=\"1\" class=\"dataframe\">\n",
              "  <thead>\n",
              "    <tr style=\"text-align: right;\">\n",
              "      <th></th>\n",
              "      <th>Date</th>\n",
              "      <th>Tweet</th>\n",
              "      <th>Hashtag</th>\n",
              "      <th>Username</th>\n",
              "      <th>Token</th>\n",
              "      <th>Subjectivity</th>\n",
              "      <th>Polarity</th>\n",
              "      <th>Analysis</th>\n",
              "    </tr>\n",
              "  </thead>\n",
              "  <tbody>\n",
              "    <tr>\n",
              "      <th>0</th>\n",
              "      <td>2023-02-12 14:43:07+00:00</td>\n",
              "      <td>Este no es el primer acercamiento de Yummy con...</td>\n",
              "      <td>[Criptolugares]</td>\n",
              "      <td>criptolugares</td>\n",
              "      <td>Criptolugares</td>\n",
              "      <td>0.333333</td>\n",
              "      <td>0.25</td>\n",
              "      <td>Positive</td>\n",
              "    </tr>\n",
              "    <tr>\n",
              "      <th>1</th>\n",
              "      <td>2023-02-12 14:43:05+00:00</td>\n",
              "      <td>Yummy lanza coleccin de NFT para financiar sta...</td>\n",
              "      <td>[Criptolugares]</td>\n",
              "      <td>criptolugares</td>\n",
              "      <td>Criptolugares</td>\n",
              "      <td>0.300000</td>\n",
              "      <td>-0.20</td>\n",
              "      <td>Negative</td>\n",
              "    </tr>\n",
              "    <tr>\n",
              "      <th>2</th>\n",
              "      <td>2023-02-12 05:04:54+00:00</td>\n",
              "      <td>MilAbdianaM yummysuperapp Cuando estaba en Ven...</td>\n",
              "      <td>1</td>\n",
              "      <td>nany_mavare94</td>\n",
              "      <td>1</td>\n",
              "      <td>0.783333</td>\n",
              "      <td>-0.65</td>\n",
              "      <td>Negative</td>\n",
              "    </tr>\n",
              "    <tr>\n",
              "      <th>3</th>\n",
              "      <td>2023-02-12 00:38:17+00:00</td>\n",
              "      <td>Yummy Venezuela es una mierda</td>\n",
              "      <td>1</td>\n",
              "      <td>mariamartiochoa</td>\n",
              "      <td>1</td>\n",
              "      <td>0.800000</td>\n",
              "      <td>-0.20</td>\n",
              "      <td>Negative</td>\n",
              "    </tr>\n",
              "    <tr>\n",
              "      <th>4</th>\n",
              "      <td>2023-02-11 21:26:00+00:00</td>\n",
              "      <td>tusambil Sambil Candelaria es territorio INK  ...</td>\n",
              "      <td>[TATUAJES, VENEZUELA, INK, CARACAS, YUMMY]</td>\n",
              "      <td>guacamayaink</td>\n",
              "      <td>TATUAJES VENEZUELA INK CARACAS YUMMY</td>\n",
              "      <td>0.000000</td>\n",
              "      <td>0.00</td>\n",
              "      <td>Neutral</td>\n",
              "    </tr>\n",
              "    <tr>\n",
              "      <th>...</th>\n",
              "      <td>...</td>\n",
              "      <td>...</td>\n",
              "      <td>...</td>\n",
              "      <td>...</td>\n",
              "      <td>...</td>\n",
              "      <td>...</td>\n",
              "      <td>...</td>\n",
              "      <td>...</td>\n",
              "    </tr>\n",
              "    <tr>\n",
              "      <th>795</th>\n",
              "      <td>2022-04-14 22:51:51+00:00</td>\n",
              "      <td>Desde este  de abril la aplicacin de entregas ...</td>\n",
              "      <td>1</td>\n",
              "      <td>glendagrisell</td>\n",
              "      <td>1</td>\n",
              "      <td>0.000000</td>\n",
              "      <td>0.00</td>\n",
              "      <td>Neutral</td>\n",
              "    </tr>\n",
              "    <tr>\n",
              "      <th>796</th>\n",
              "      <td>2022-04-14 22:41:09+00:00</td>\n",
              "      <td>Servicio de taxis Yummy integra pagos con Bina...</td>\n",
              "      <td>[Adopción]</td>\n",
              "      <td>CriptoNoticias</td>\n",
              "      <td>Adopción</td>\n",
              "      <td>0.000000</td>\n",
              "      <td>0.00</td>\n",
              "      <td>Neutral</td>\n",
              "    </tr>\n",
              "    <tr>\n",
              "      <th>797</th>\n",
              "      <td>2022-04-14 22:38:33+00:00</td>\n",
              "      <td>Le service de taxi Yummy intgre les paiements ...</td>\n",
              "      <td>1</td>\n",
              "      <td>LaCryptoMonnai1</td>\n",
              "      <td>1</td>\n",
              "      <td>0.000000</td>\n",
              "      <td>0.00</td>\n",
              "      <td>Neutral</td>\n",
              "    </tr>\n",
              "    <tr>\n",
              "      <th>798</th>\n",
              "      <td>2022-04-14 22:36:52+00:00</td>\n",
              "      <td>Servicio de taxis Yummy integra pagos con Bina...</td>\n",
              "      <td>1</td>\n",
              "      <td>gentecosmotv</td>\n",
              "      <td>1</td>\n",
              "      <td>0.000000</td>\n",
              "      <td>0.00</td>\n",
              "      <td>Neutral</td>\n",
              "    </tr>\n",
              "    <tr>\n",
              "      <th>799</th>\n",
              "      <td>2022-04-14 22:33:03+00:00</td>\n",
              "      <td>httpstcohfABsOmH   Servicio de taxis Yummy in...</td>\n",
              "      <td>[Adopción, Binance]</td>\n",
              "      <td>mundobtc</td>\n",
              "      <td>Adopción Binance</td>\n",
              "      <td>0.000000</td>\n",
              "      <td>0.00</td>\n",
              "      <td>Neutral</td>\n",
              "    </tr>\n",
              "  </tbody>\n",
              "</table>\n",
              "<p>800 rows × 8 columns</p>\n",
              "</div>\n",
              "      <button class=\"colab-df-convert\" onclick=\"convertToInteractive('df-778f0de6-fc4a-4b73-8720-45d55126a5a9')\"\n",
              "              title=\"Convert this dataframe to an interactive table.\"\n",
              "              style=\"display:none;\">\n",
              "        \n",
              "  <svg xmlns=\"http://www.w3.org/2000/svg\" height=\"24px\"viewBox=\"0 0 24 24\"\n",
              "       width=\"24px\">\n",
              "    <path d=\"M0 0h24v24H0V0z\" fill=\"none\"/>\n",
              "    <path d=\"M18.56 5.44l.94 2.06.94-2.06 2.06-.94-2.06-.94-.94-2.06-.94 2.06-2.06.94zm-11 1L8.5 8.5l.94-2.06 2.06-.94-2.06-.94L8.5 2.5l-.94 2.06-2.06.94zm10 10l.94 2.06.94-2.06 2.06-.94-2.06-.94-.94-2.06-.94 2.06-2.06.94z\"/><path d=\"M17.41 7.96l-1.37-1.37c-.4-.4-.92-.59-1.43-.59-.52 0-1.04.2-1.43.59L10.3 9.45l-7.72 7.72c-.78.78-.78 2.05 0 2.83L4 21.41c.39.39.9.59 1.41.59.51 0 1.02-.2 1.41-.59l7.78-7.78 2.81-2.81c.8-.78.8-2.07 0-2.86zM5.41 20L4 18.59l7.72-7.72 1.47 1.35L5.41 20z\"/>\n",
              "  </svg>\n",
              "      </button>\n",
              "      \n",
              "  <style>\n",
              "    .colab-df-container {\n",
              "      display:flex;\n",
              "      flex-wrap:wrap;\n",
              "      gap: 12px;\n",
              "    }\n",
              "\n",
              "    .colab-df-convert {\n",
              "      background-color: #E8F0FE;\n",
              "      border: none;\n",
              "      border-radius: 50%;\n",
              "      cursor: pointer;\n",
              "      display: none;\n",
              "      fill: #1967D2;\n",
              "      height: 32px;\n",
              "      padding: 0 0 0 0;\n",
              "      width: 32px;\n",
              "    }\n",
              "\n",
              "    .colab-df-convert:hover {\n",
              "      background-color: #E2EBFA;\n",
              "      box-shadow: 0px 1px 2px rgba(60, 64, 67, 0.3), 0px 1px 3px 1px rgba(60, 64, 67, 0.15);\n",
              "      fill: #174EA6;\n",
              "    }\n",
              "\n",
              "    [theme=dark] .colab-df-convert {\n",
              "      background-color: #3B4455;\n",
              "      fill: #D2E3FC;\n",
              "    }\n",
              "\n",
              "    [theme=dark] .colab-df-convert:hover {\n",
              "      background-color: #434B5C;\n",
              "      box-shadow: 0px 1px 3px 1px rgba(0, 0, 0, 0.15);\n",
              "      filter: drop-shadow(0px 1px 2px rgba(0, 0, 0, 0.3));\n",
              "      fill: #FFFFFF;\n",
              "    }\n",
              "  </style>\n",
              "\n",
              "      <script>\n",
              "        const buttonEl =\n",
              "          document.querySelector('#df-778f0de6-fc4a-4b73-8720-45d55126a5a9 button.colab-df-convert');\n",
              "        buttonEl.style.display =\n",
              "          google.colab.kernel.accessAllowed ? 'block' : 'none';\n",
              "\n",
              "        async function convertToInteractive(key) {\n",
              "          const element = document.querySelector('#df-778f0de6-fc4a-4b73-8720-45d55126a5a9');\n",
              "          const dataTable =\n",
              "            await google.colab.kernel.invokeFunction('convertToInteractive',\n",
              "                                                     [key], {});\n",
              "          if (!dataTable) return;\n",
              "\n",
              "          const docLinkHtml = 'Like what you see? Visit the ' +\n",
              "            '<a target=\"_blank\" href=https://colab.research.google.com/notebooks/data_table.ipynb>data table notebook</a>'\n",
              "            + ' to learn more about interactive tables.';\n",
              "          element.innerHTML = '';\n",
              "          dataTable['output_type'] = 'display_data';\n",
              "          await google.colab.output.renderOutput(dataTable, element);\n",
              "          const docLink = document.createElement('div');\n",
              "          docLink.innerHTML = docLinkHtml;\n",
              "          element.appendChild(docLink);\n",
              "        }\n",
              "      </script>\n",
              "    </div>\n",
              "  </div>\n",
              "  "
            ]
          },
          "metadata": {},
          "execution_count": 26
        }
      ]
    },
    {
      "cell_type": "code",
      "source": [
        "count = dt['Analysis'].value_counts()\n",
        "count"
      ],
      "metadata": {
        "colab": {
          "base_uri": "https://localhost:8080/"
        },
        "id": "whuJ0pP6Cx8A",
        "outputId": "f37263fb-77e8-482e-9c91-ec5f6f39db96"
      },
      "execution_count": 27,
      "outputs": [
        {
          "output_type": "execute_result",
          "data": {
            "text/plain": [
              "Neutral     1039\n",
              "Positive     725\n",
              "Negative     236\n",
              "Name: Analysis, dtype: int64"
            ]
          },
          "metadata": {},
          "execution_count": 27
        }
      ]
    },
    {
      "cell_type": "code",
      "source": [
        "#Graficamos la polaridad\n",
        "fig = px.scatter(dt, y=dt['Polarity'])\n",
        "fig.show()"
      ],
      "metadata": {
        "colab": {
          "base_uri": "https://localhost:8080/",
          "height": 542
        },
        "id": "g7Vy-c8iBEEx",
        "outputId": "0dc3f954-ab76-4fbd-d3bf-8fa5910a517f"
      },
      "execution_count": 28,
      "outputs": [
        {
          "output_type": "display_data",
          "data": {
            "text/html": [
              "<html>\n",
              "<head><meta charset=\"utf-8\" /></head>\n",
              "<body>\n",
              "    <div>            <script src=\"https://cdnjs.cloudflare.com/ajax/libs/mathjax/2.7.5/MathJax.js?config=TeX-AMS-MML_SVG\"></script><script type=\"text/javascript\">if (window.MathJax) {MathJax.Hub.Config({SVG: {font: \"STIX-Web\"}});}</script>                <script type=\"text/javascript\">window.PlotlyConfig = {MathJaxConfig: 'local'};</script>\n",
              "        <script src=\"https://cdn.plot.ly/plotly-2.8.3.min.js\"></script>                <div id=\"210efe6e-b540-49d8-b0c3-4d033429d769\" class=\"plotly-graph-div\" style=\"height:525px; width:100%;\"></div>            <script type=\"text/javascript\">                                    window.PLOTLYENV=window.PLOTLYENV || {};                                    if (document.getElementById(\"210efe6e-b540-49d8-b0c3-4d033429d769\")) {                    Plotly.newPlot(                        \"210efe6e-b540-49d8-b0c3-4d033429d769\",                        [{\"hovertemplate\":\"index=%{x}<br>Polarity=%{y}<extra></extra>\",\"legendgroup\":\"\",\"marker\":{\"color\":\"#636efa\",\"symbol\":\"circle\"},\"mode\":\"markers\",\"name\":\"\",\"showlegend\":false,\"x\":[0,1,2,3,4,5,6,7,8,9,10,11,12,13,14,15,16,17,18,19,20,21,22,23,24,25,26,27,28,29,30,31,32,33,34,35,36,37,38,39,40,41,42,43,44,45,46,47,48,49,50,51,52,53,54,55,56,57,58,59,60,61,62,63,64,65,66,67,68,69,70,71,72,73,74,75,76,77,78,79,80,81,82,83,84,85,86,87,88,89,90,91,92,93,94,95,96,97,98,99,100,101,102,103,104,105,106,107,108,109,110,111,112,113,114,115,116,117,118,119,120,121,122,123,124,125,126,127,128,129,130,131,132,133,134,135,136,137,138,139,140,141,142,143,144,145,146,147,148,149,150,151,152,153,154,155,156,157,158,159,160,161,162,163,164,165,166,167,168,169,170,171,172,173,174,175,176,177,178,179,180,181,182,183,184,185,186,187,188,189,190,191,192,193,194,195,196,197,198,199,200,201,202,203,204,205,206,207,208,209,210,211,212,213,214,215,216,217,218,219,220,221,222,223,224,225,226,227,228,229,230,231,232,233,234,235,236,237,238,239,240,241,242,243,244,245,246,247,248,249,250,251,252,253,254,255,256,257,258,259,260,261,262,263,264,265,266,267,268,269,270,271,272,273,274,275,276,277,278,279,280,281,282,283,284,285,286,287,288,289,290,291,292,293,294,295,296,297,298,299,300,301,302,303,304,305,306,307,308,309,310,311,312,313,314,315,316,317,318,319,320,321,322,323,324,325,326,327,328,329,330,331,332,333,334,335,336,337,338,339,340,341,342,343,344,345,346,347,348,349,350,351,352,353,354,355,356,357,358,359,360,361,362,363,364,365,366,367,368,369,370,371,372,373,374,375,376,377,378,379,380,381,382,383,384,385,386,387,388,389,390,391,392,393,394,395,396,397,398,399,400,401,402,403,404,405,406,407,408,409,410,411,412,413,414,415,416,417,418,419,420,421,422,423,424,425,426,427,428,429,430,431,432,433,434,435,436,437,438,439,440,441,442,443,444,445,446,447,448,449,450,451,452,453,454,455,456,457,458,459,460,461,462,463,464,465,466,467,468,469,470,471,472,473,474,475,476,477,478,479,480,481,482,483,484,485,486,487,488,489,490,491,492,493,494,495,496,497,498,499,500,501,502,503,504,505,506,507,508,509,510,511,512,513,514,515,516,517,518,519,520,521,522,523,524,525,526,527,528,529,530,531,532,533,534,535,536,537,538,539,540,541,542,543,544,545,546,547,548,549,550,551,552,553,554,555,556,557,558,559,560,561,562,563,564,565,566,567,568,569,570,571,572,573,574,575,576,577,578,579,580,581,582,583,584,585,586,587,588,589,590,591,592,593,594,595,596,597,598,599,600,601,602,603,604,605,606,607,608,609,610,611,612,613,614,615,616,617,618,619,620,621,622,623,624,625,626,627,628,629,630,631,632,633,634,635,636,637,638,639,640,641,642,643,644,645,646,647,648,649,650,651,652,653,654,655,656,657,658,659,660,661,662,663,664,665,666,667,668,669,670,671,672,673,674,675,676,677,678,679,680,681,682,683,684,685,686,687,688,689,690,691,692,693,694,695,696,697,698,699,700,701,702,703,704,705,706,707,708,709,710,711,712,713,714,715,716,717,718,719,720,721,722,723,724,725,726,727,728,729,730,731,732,733,734,735,736,737,738,739,740,741,742,743,744,745,746,747,748,749,750,751,752,753,754,755,756,757,758,759,760,761,762,763,764,765,766,767,768,769,770,771,772,773,774,775,776,777,778,779,780,781,782,783,784,785,786,787,788,789,790,791,792,793,794,795,796,797,798,799,800,801,802,803,804,805,806,807,808,809,810,811,812,813,814,815,816,817,818,819,820,821,822,823,824,825,826,827,828,829,830,831,832,833,834,835,836,837,838,839,840,841,842,843,844,845,846,847,848,849,850,851,852,853,854,855,856,857,858,859,860,861,862,863,864,865,866,867,868,869,870,871,872,873,874,875,876,877,878,879,880,881,882,883,884,885,886,887,888,889,890,891,892,893,894,895,896,897,898,899,900,901,902,903,904,905,906,907,908,909,910,911,912,913,914,915,916,917,918,919,920,921,922,923,924,925,926,927,928,929,930,931,932,933,934,935,936,937,938,939,940,941,942,943,944,945,946,947,948,949,950,951,952,953,954,955,956,957,958,959,960,961,962,963,964,965,966,967,968,969,970,971,972,973,974,975,976,977,978,979,980,981,982,983,984,985,986,987,988,989,990,991,992,993,994,995,996,997,998,999,1000,1001,1002,1003,1004,1005,1006,1007,1008,1009,1010,1011,1012,1013,1014,1015,1016,1017,1018,1019,1020,1021,1022,1023,1024,1025,1026,1027,1028,1029,1030,1031,1032,1033,1034,1035,1036,1037,1038,1039,1040,1041,1042,1043,1044,1045,1046,1047,1048,1049,1050,1051,1052,1053,1054,1055,1056,1057,1058,1059,1060,1061,1062,1063,1064,1065,1066,1067,1068,1069,1070,1071,1072,1073,1074,1075,1076,1077,1078,1079,1080,1081,1082,1083,1084,1085,1086,1087,1088,1089,1090,1091,1092,1093,1094,1095,1096,1097,1098,1099,1100,1101,1102,1103,1104,1105,1106,1107,1108,1109,1110,1111,1112,1113,1114,1115,1116,1117,1118,1119,1120,1121,1122,1123,1124,1125,1126,1127,1128,1129,1130,1131,1132,1133,1134,1135,1136,1137,1138,1139,1140,1141,1142,1143,1144,1145,1146,1147,1148,1149,1150,1151,1152,1153,1154,1155,1156,1157,1158,1159,1160,1161,1162,1163,1164,1165,1166,1167,1168,1169,1170,1171,1172,1173,1174,1175,1176,1177,1178,1179,1180,1181,1182,1183,1184,1185,1186,1187,1188,1189,1190,1191,1192,1193,1194,1195,1196,1197,1198,1199,1200,1201,1202,1203,1204,1205,1206,1207,1208,1209,1210,1211,1212,1213,1214,1215,1216,1217,1218,1219,1220,1221,1222,1223,1224,1225,1226,1227,1228,1229,1230,1231,1232,1233,1234,1235,1236,1237,1238,1239,1240,1241,1242,1243,1244,1245,1246,1247,1248,1249,1250,1251,1252,1253,1254,1255,1256,1257,1258,1259,1260,1261,1262,1263,1264,1265,1266,1267,1268,1269,1270,1271,1272,1273,1274,1275,1276,1277,1278,1279,1280,1281,1282,1283,1284,1285,1286,1287,1288,1289,1290,1291,1292,1293,1294,1295,1296,1297,1298,1299,1300,1301,1302,1303,1304,1305,1306,1307,1308,1309,1310,1311,1312,1313,1314,1315,1316,1317,1318,1319,1320,1321,1322,1323,1324,1325,1326,1327,1328,1329,1330,1331,1332,1333,1334,1335,1336,1337,1338,1339,1340,1341,1342,1343,1344,1345,1346,1347,1348,1349,1350,1351,1352,1353,1354,1355,1356,1357,1358,1359,1360,1361,1362,1363,1364,1365,1366,1367,1368,1369,1370,1371,1372,1373,1374,1375,1376,1377,1378,1379,1380,1381,1382,1383,1384,1385,1386,1387,1388,1389,1390,1391,1392,1393,1394,1395,1396,1397,1398,1399,1400,1401,1402,1403,1404,1405,1406,1407,1408,1409,1410,1411,1412,1413,1414,1415,1416,1417,1418,1419,1420,1421,1422,1423,1424,1425,1426,1427,1428,1429,1430,1431,1432,1433,1434,1435,1436,1437,1438,1439,1440,1441,1442,1443,1444,1445,1446,1447,1448,1449,1450,1451,1452,1453,1454,1455,1456,1457,1458,1459,1460,1461,1462,1463,1464,1465,1466,1467,1468,1469,1470,1471,1472,1473,1474,1475,1476,1477,1478,1479,1480,1481,1482,1483,1484,1485,1486,1487,1488,1489,1490,1491,1492,1493,1494,1495,1496,1497,1498,1499,1500,1501,1502,1503,1504,1505,1506,1507,1508,1509,1510,1511,1512,1513,1514,1515,1516,1517,1518,1519,1520,1521,1522,1523,1524,1525,1526,1527,1528,1529,1530,1531,1532,1533,1534,1535,1536,1537,1538,1539,1540,1541,1542,1543,1544,1545,1546,1547,1548,1549,1550,1551,1552,1553,1554,1555,1556,1557,1558,1559,1560,1561,1562,1563,1564,1565,1566,1567,1568,1569,1570,1571,1572,1573,1574,1575,1576,1577,1578,1579,1580,1581,1582,1583,1584,1585,1586,1587,1588,1589,1590,1591,1592,1593,1594,1595,1596,1597,1598,1599,1600,1601,1602,1603,1604,1605,1606,1607,1608,1609,1610,1611,1612,1613,1614,1615,1616,1617,1618,1619,1620,1621,1622,1623,1624,1625,1626,1627,1628,1629,1630,1631,1632,1633,1634,1635,1636,1637,1638,1639,1640,1641,1642,1643,1644,1645,1646,1647,1648,1649,1650,1651,1652,1653,1654,1655,1656,1657,1658,1659,1660,1661,1662,1663,1664,1665,1666,1667,1668,1669,1670,1671,1672,1673,1674,1675,1676,1677,1678,1679,1680,1681,1682,1683,1684,1685,1686,1687,1688,1689,1690,1691,1692,1693,1694,1695,1696,1697,1698,1699,1700,1701,1702,1703,1704,1705,1706,1707,1708,1709,1710,1711,1712,1713,1714,1715,1716,1717,1718,1719,1720,1721,1722,1723,1724,1725,1726,1727,1728,1729,1730,1731,1732,1733,1734,1735,1736,1737,1738,1739,1740,1741,1742,1743,1744,1745,1746,1747,1748,1749,1750,1751,1752,1753,1754,1755,1756,1757,1758,1759,1760,1761,1762,1763,1764,1765,1766,1767,1768,1769,1770,1771,1772,1773,1774,1775,1776,1777,1778,1779,1780,1781,1782,1783,1784,1785,1786,1787,1788,1789,1790,1791,1792,1793,1794,1795,1796,1797,1798,1799,1800,1801,1802,1803,1804,1805,1806,1807,1808,1809,1810,1811,1812,1813,1814,1815,1816,1817,1818,1819,1820,1821,1822,1823,1824,1825,1826,1827,1828,1829,1830,1831,1832,1833,1834,1835,1836,1837,1838,1839,1840,1841,1842,1843,1844,1845,1846,1847,1848,1849,1850,1851,1852,1853,1854,1855,1856,1857,1858,1859,1860,1861,1862,1863,1864,1865,1866,1867,1868,1869,1870,1871,1872,1873,1874,1875,1876,1877,1878,1879,1880,1881,1882,1883,1884,1885,1886,1887,1888,1889,1890,1891,1892,1893,1894,1895,1896,1897,1898,1899,1900,1901,1902,1903,1904,1905,1906,1907,1908,1909,1910,1911,1912,1913,1914,1915,1916,1917,1918,1919,1920,1921,1922,1923,1924,1925,1926,1927,1928,1929,1930,1931,1932,1933,1934,1935,1936,1937,1938,1939,1940,1941,1942,1943,1944,1945,1946,1947,1948,1949,1950,1951,1952,1953,1954,1955,1956,1957,1958,1959,1960,1961,1962,1963,1964,1965,1966,1967,1968,1969,1970,1971,1972,1973,1974,1975,1976,1977,1978,1979,1980,1981,1982,1983,1984,1985,1986,1987,1988,1989,1990,1991,1992,1993,1994,1995,1996,1997,1998,1999],\"xaxis\":\"x\",\"y\":[0.25,-0.2,-0.6499999999999999,-0.2,0.0,0.0,0.0,0.13636363636363635,0.0,0.0,0.0,0.0,0.13636363636363635,0.13636363636363635,0.13636363636363635,0.0,0.0,-0.08333333333333333,0.0,0.13636363636363635,0.0,0.2681818181818182,-0.10454545454545455,0.3666666666666667,0.0,-0.05,0.0,-0.08333333333333331,-0.1,0.04545454545454545,0.0,0.0,0.25,0.0,0.8,0.0,0.0,0.0,0.25,0.2,-0.09999999999999999,0.3,0.0,-0.04999999999999999,0.0,0.5026785714285714,0.0,0.0,0.0,0.25,0.4166666666666667,0.375,0.03333333333333335,-0.1,0.0,0.25,0.16666666666666666,0.2,0.7,0.6,0.4666666666666666,0.0,0.2,0.6,0.0,0.0,0.13636363636363635,0.5,0.0,0.2833333333333333,0.0,0.3,0.3,0.2,0.0,0.0,0.0,-0.012499999999999997,0.1,0.0,0.0,-0.275,0.2125,-0.75,0.4,0.0,0.16666666666666666,0.0,0.0,0.0,0.0,-0.55,0.16666666666666666,1.0,0.0,0.0,0.0,0.0,0.0,0.0,0.0,0.0,0.0,0.0,0.0,1.0,0.0,0.0,0.0,0.0,0.0,0.0,0.0,0.0,0.0,0.0,0.0,0.0,0.0,0.0,0.0,0.0,0.0,0.0,0.0,0.0,0.0,0.0,0.0,0.625,0.0,0.0,0.0,0.0,0.0,0.0,0.0,0.0,0.0,0.0,0.0,0.0,0.75,0.0,0.0,0.0,0.2,0.5,0.0,0.0,0.0,0.5,0.25,0.5,0.0,0.0,0.0,0.0,0.75,0.5,0.0,0.0,0.25,0.0,1.0,0.6136363636363636,0.5,0.25,0.0,0.0,0.45,0.0,0.5,-0.12499999999999997,0.0,-0.6,0.2916666666666667,-0.13333333333333333,0.0,0.0,0.0,-0.25,0.0,0.0,0.07878787878787878,-0.26666666666666666,0.4611111111111111,0.6333333333333333,0.5,0.5,0.0,0.2,0.0,0.1,0.0,0.41111111111111104,-0.06874999999999999,0.5,0.13636363636363635,0.4,0.0,0.0,0.5,0.22499999999999998,-1.0,-1.0,-0.3083333333333333,0.11111111111111112,0.0,0.18055555555555558,-0.32499999999999996,0.125,0.07333333333333336,-0.1875,-0.016666666666666653,0.0,0.2333333333333333,0.375,-0.06666666666666665,0.13636363636363635,0.13809523809523808,0.75,0.5,0.11111111111111112,0.0,0.16666666666666666,-1.0,0.0,0.25,0.0,0.0,0.05,0.7,0.4,0.0,0.0,0.45,0.0,0.0,0.09999999999999999,-0.165,0.1,-0.02499999999999996,0.0,0.037500000000000006,0.35909090909090907,1.0,0.45499999999999996,-0.4,0.0,0.4,0.0,0.26666666666666666,0.17833333333333334,0.0,0.16666666666666666,0.0,0.0,0.1787878787878788,-0.04999999999999999,0.0,-0.25,0.0,-0.1,0.2,0.0,0.0,0.0,0.2,0.5,0.0,0.35,0.35,0.25,0.2,0.0,-0.3,0.2,0.2,0.0,0.2,-0.5,0.2,-0.15,0.10363636363636364,0.0,0.0,0.0,0.0,0.30000000000000004,0.0,-0.6999999999999998,0.2,0.02,1.0,0.0,0.5,0.5,0.0,0.0,0.0,0.016666666666666666,0.016666666666666666,0.0,0.0,-0.5,0.0,0.0,0.0,0.0,0.3,0.2,0.0,-0.5,-0.5,0.0,0.0,0.016666666666666666,-1.0,0.0,0.2,0.016666666666666666,0.0,0.0,0.0,0.0,0.2,-1.0,-0.6,0.0,0.0,0.7,0.0,0.0,0.0,0.2,0.016666666666666666,0.0,0.0,0.0,0.0,0.0,-0.21666666666666667,0.0,-0.125,0.5,0.0,0.0,0.0,0.0,0.0,0.0,0.0,0.0,1.0,0.0,0.0,0.16666666666666666,0.0,0.05909090909090909,0.2,0.0,0.0,0.0,0.0,0.0,0.0,0.0,0.0,0.0,0.0,-0.18333333333333332,-0.36666666666666664,0.0,-0.008333333333333331,0.19166666666666665,0.0,0.13636363636363635,-0.2,0.0,0.0,0.0,0.5875,0.0,0.23750000000000002,0.0,0.2,0.08333333333333337,0.025,0.2787878787878788,0.11666666666666665,0.0,-0.016666666666666666,0.0,0.0,0.06666666666666667,0.18055555555555558,-0.125,0.08,-0.019999999999999997,0.05416666666666667,0.0,0.0,0.25,-0.0796875,0.0,-0.125,0.0,0.2875,-0.15,0.13333333333333333,0.0,0.1,-0.6999999999999998,0.0,0.5,0.1,0.0,0.5,-0.16666666666666666,0.13636363636363635,0.5,0.5,0.1,1.0,0.5,0.0,0.75,-0.16666666666666666,0.3333333333333333,1.0,0.21875,0.1388888888888889,-0.125,-0.16666666666666666,1.0,0.22499999999999998,0.1032828282828283,0.2333333333333333,0.31533333333333335,0.1,0.0,1.0,0.13636363636363635,0.1925595238095238,0.0,0.0,0.3088888888888889,0.03727272727272728,0.0,0.55,-0.4000000000000001,0.04999999999999996,0.0,0.25,0.0,0.39999999999999997,-0.05,0.0,0.30000000000000004,0.8,0.0,0.1,0.0,0.19999999999999998,0.0,0.2,-0.033333333333333326,0.5,0.0,0.3333333333333333,0.0,0.0,0.6,0.2,-1.0,-0.25,0.6,0.1,-0.5,0.0,0.3333333333333333,0.0,0.13636363636363635,-0.13333333333333333,0.0,0.12250000000000001,0.0,0.0,0.0,0.0,0.2,0.0,-0.31666666666666665,-0.16666666666666666,0.0,-0.16666666666666666,-0.15833333333333335,-0.5,0.0,0.0,0.5,0.0,-0.1,0.0,0.0,0.0,0.0,-0.0125,0.15000000000000002,0.0,0.0,0.0,0.0,0.15625,0.0,0.0,0.25,0.0,-1.0,-0.05,0.0,0.0,0.0,0.3111111111111111,0.5,-0.03333333333333335,0.5,0.5,0.5,0.5,0.0,0.3111111111111111,0.07777777777777779,-0.6999999999999998,0.0,0.6,0.0,0.3666666666666667,0.13749999999999998,0.6,0.3111111111111111,-0.15,0.0,0.0,0.0,0.45,-0.04999999999999993,0.24708333333333335,-0.18749999999999997,-0.05,0.025000000000000005,0.0,-0.25,0.0,-0.19999999999999996,-0.24000000000000005,-1.0,0.0,-0.19999999999999998,-0.10625,-0.19999999999999998,-0.3,0.0,0.0,0.0,0.0,-0.6999999999999998,0.11666666666666665,0.24500000000000002,0.0,0.0,0.0,0.0,0.0,0.0,-0.07777777777777775,0.3111111111111111,0.013333333333333319,0.0,0.0,-0.09999999999999999,0.0,0.0,-0.15000000000000002,0.16666666666666666,0.0,0.0,0.0,0.0,0.0,0.0,0.1,0.7,0.2,-0.5,0.03333333333333333,0.0,0.0,0.6,-0.06666666666666665,0.2,-0.15,0.0,0.0,0.0,-0.0625,0.4,0.25,-0.05,0.25,0.05000000000000002,0.25,0.0,-0.15000000000000002,0.0,0.0,0.0,-0.016666666666666663,0.07878787878787878,0.3111111111111111,0.3068181818181818,0.3,0.0,0.0,0.0,-0.10833333333333334,0.2,0.0,0.2,0.0,0.5,0.0,0.15,0.5,0.3111111111111111,0.125,0.3111111111111111,-0.15000000000000002,0.0,0.1,0.375,0.3111111111111111,0.0,0.25,0.13636363636363635,0.1,0.0,0.0,0.11666666666666665,0.0,-0.1,0.022222222222222223,0.0,0.0,0.0,0.19999999999999998,0.11111111111111112,0.0,0.0,0.11111111111111112,-0.4,0.08333333333333333,0.0,-0.4,-0.0625,0.0,-0.016666666666666666,-0.4,0.08333333333333333,0.23928571428571424,0.7,0.0,0.01527777777777777,0.2833333333333334,0.275,-0.08333333333333333,0.1,0.0,0.0,0.0,0.3333333333333333,0.0,0.0,0.0,0.15,0.0,-0.3499999999999999,0.15357142857142858,0.26666666666666666,0.06818181818181818,-0.025,0.2,0.3333333333333333,0.55,0.0,0.16666666666666666,0.16666666666666666,0.30000000000000004,0.0,0.0,0.42625,-0.20909090909090908,0.375,0.0,0.0,0.024242424242424232,0.0,1.0,0.0,0.125,0.0,0.20666666666666664,0.35,0.25,0.0,0.0,0.0,0.0,0.0,0.0,0.0,0.0,0.0,-0.225,0.4,0.8,0.15,0.5,0.4,-0.6666666666666666,-0.0625,0.125,0.4,0.0,0.0,0.0,0.55,-0.4,0.0,0.39642857142857146,0.5,0.5,0.25333333333333335,-0.25,1.0,0.0,0.0,0.05,0.0,0.0,0.0,0.0,-0.012499999999999997,0.0,0.0,0.0,0.0,0.0,0.16666666666666666,0.0,-0.6,0.0,0.09166666666666667,0.13636363636363635,0.012121212121212116,0.0,0.25,0.0,0.2,0.0,0.0,0.0,0.0,0.0,0.5,0.0,0.0,0.0,0.0,0.30000000000000004,0.0,0.0,0.0,0.0,0.0,0.0,0.0,0.0,0.0,0.0,0.0,0.0,0.0,0.0,0.0,0.0,0.0,0.0,0.0,0.0,0.0,0.0,0.0,0.0,0.375,0.0,0.0,0.0,0.35,0.25,0.6,0.6,0.0,0.0,0.0,0.0,0.0,0.0,0.0,0.8,0.0,0.1,0.0,0.0,0.0,0.0,0.0,-0.2,0.0,0.06818181818181818,0.0,0.0,0.09999999999999999,0.0,0.0,-0.05000000000000001,0.6666666666666666,0.05555555555555556,0.07692307692307693,0.0037878787878787845,0.0,0.0,0.35,0.0,0.0,0.25,0.0,0.25,0.0,0.19999999999999998,0.0,0.0,-0.42499999999999993,0.0,-0.3416666666666666,0.0,0.0,0.0,0.0,0.5,0.2,0.0,0.0,0.0,-0.8000000000000002,0.06818181818181818,0.06818181818181818,0.06818181818181818,0.06818181818181818,0.06818181818181818,-0.4,0.1,0.05,0.0,0.016666666666666673,-0.4,0.1875,0.0,0.1875,0.0,0.07500000000000001,0.0,-0.35,0.13636363636363635,0.16428571428571428,0.0,0.0,-0.16666666666666666,0.16666666666666666,-0.13333333333333333,-0.15999999999999995,0.0,0.3333333333333333,0.0,0.0,0.22727272727272727,0.13333333333333333,0.0,-0.06818181818181818,0.0,0.0,0.09583333333333333,0.25,0.25,0.225,0.0,0.0,0.0,0.35,-0.18125,0.0,-0.75,0.3011904761904762,0.7,0.0,0.0,0.0,0.175,0.5,0.35,0.0,-0.25,0.0,0.0,0.0,-0.5,0.0,-1.3877787807814457e-17,0.25,1.0,0.0,0.0,1.0,1.0,0.0,-0.20833333333333334,0.15,-1.0,0.0,0.0,0.25,0.25,0.0,0.25,-0.03333333333333327,0.0,0.1,0.25,0.1,0.6,0.25,0.0,0.0,0.25,-0.16666666666666666,0.25,-0.16666666666666666,0.25,-0.2,0.0,0.0,0.0,0.0,0.0,0.25,0.16666666666666666,0.3333333333333333,0.3333333333333333,0.0,0.0,0.3333333333333333,0.3333333333333333,0.25,1.0,0.09999999999999999,0.0,0.1,0.0,0.0,0.05,0.0,0.0,0.0,0.0,0.0,0.0,0.0,0.0,0.125,0.0,0.0,0.15714285714285714,0.5533333333333333,0.2875,0.0,0.0,0.2,0.25,0.35555555555555557,-0.2,0.0,0.0,0.0,0.0,0.0,0.033333333333333354,0.0,0.0,0.0,0.6,0.25,0.5,0.11111111111111112,0.0,0.0,-0.08124999999999996,0.09999999999999998,-0.12000000000000002,0.10357142857142856,0.25,0.3333333333333333,0.3,0.16666666666666666,0.0,0.5,-0.039999999999999966,-1.0,-0.2,0.0,0.0,0.1,0.0,-0.5,0.1,-0.5,0.5,-0.5,0.0,0.10999999999999999,-0.6999999999999998,0.25,0.5,-0.1,0.26666666666666666,0.0,0.24583333333333335,0.1375,-0.10625,0.15606060606060604,0.0,-0.55,-0.04769230769230766,0.0,0.0,0.0,0.024999999999999994,0.20357142857142857,0.1416666666666667,0.0,1.0,0.0,0.0,0.0,0.0,0.17424242424242423,0.1875,0.5,0.25,0.0,0.1,0.0,0.0,1.0,1.0,0.0,0.6000000000000001,0.0,0.0,-0.13333333333333333,1.0,0.0,0.125,0.0,0.0,0.0,0.0,-1.0,0.5,0.0,-0.2575757575757576,-0.25,0.3,0.15656565656565655,0.85,-0.35,-0.6,0.0,0.37878787878787873,0.2,0.08333333333333333,0.08333333333333333,0.0,0.0,0.0,0.0,-0.06666666666666667,-0.1,0.31666666666666665,0.1111111111111111,0.3333333333333333,-0.06666666666666667,-0.1,0.44999999999999996,-0.016666666666666673,0.29166666666666663,0.0,-0.12222222222222222,0.05,0.4,0.0,0.0,0.0,0.05,0.0,0.2866666666666667,0.25,0.4,0.0,0.0,0.2,-0.4212121212121212,0.5,0.0,0.0,0.0,0.0023809523809523773,0.0,0.0,0.0,0.2,0.30952380952380953,5.551115123125783e-17,-0.03125,0.2111111111111111,0.24444444444444446,-0.06666666666666667,-0.1,0.0,-0.4,0.0,0.0,0.0,0.0,0.0,0.5,-0.03125,0.0,0.25,0.5,0.13636363636363635,0.7,0.2,0.0,0.0,0.5,0.0,0.0,0.0,-0.6,0.08333333333333334,0.13636363636363635,0.0,-0.041666666666666664,-0.03181818181818183,0.0,0.0,0.0,0.5,0.0,0.25,-0.03181818181818183,-0.125,-0.125,0.2,-0.055555555555555546,-0.14,0.13636363636363635,0.30625,0.1782828282828283,0.0,0.0,0.0,0.4777777777777778,0.8,0.1,-0.6999999999999998,0.25,1.0,-1.0,0.0,0.4,0.0,0.27777777777777773,0.20649350649350648,0.0,0.0,1.0,0.0,0.25,0.5,0.0,0.0,0.14166666666666666,0.7,0.0,0.25,0.26666666666666666,0.0,0.0,0.0,-0.5,0.0,-0.09999999999999992,0.0,0.0,0.0,0.5,0.16818181818181818,0.23333333333333336,0.16818181818181818,0.16818181818181818,0.0,0.16818181818181818,0.16818181818181818,0.0,0.16818181818181818,0.16818181818181818,-0.8,0.16818181818181818,-0.025000000000000022,0.16818181818181818,-0.07466666666666666,0.16818181818181818,0.16818181818181818,-0.2,0.16818181818181818,0.16818181818181818,0.125,-0.018518518518518528,0.16818181818181818,0.16818181818181818,0.16818181818181818,0.16818181818181818,0.16818181818181818,0.16818181818181818,0.16818181818181818,0.16818181818181818,0.16818181818181818,0.16818181818181818,-1.0,0.175,0.16818181818181818,0.5,0.16818181818181818,0.0,-0.09999999999999992,0.16818181818181818,0.16818181818181818,0.16818181818181818,0.16818181818181818,0.16818181818181818,-0.1,0.16818181818181818,0.16818181818181818,0.16818181818181818,0.16818181818181818,0.25,0.16818181818181818,0.16818181818181818,0.16818181818181818,0.0,0.0,0.0,0.16818181818181818,0.16818181818181818,0.16818181818181818,0.16818181818181818,0.16818181818181818,-0.2,0.55,0.16818181818181818,0.16818181818181818,0.16818181818181818,0.0,0.0,0.22999999999999998,0.16818181818181818,0.0,0.16818181818181818,0.0,0.16818181818181818,0.16818181818181818,0.1,0.0,0.16818181818181818,0.16818181818181818,-0.8499999999999999,0.16818181818181818,0.16818181818181818,0.16818181818181818,0.16818181818181818,0.16818181818181818,0.16818181818181818,0.0,0.16818181818181818,0.5,0.16818181818181818,0.16818181818181818,0.16818181818181818,0.0,0.16818181818181818,0.16818181818181818,0.16818181818181818,0.16818181818181818,0.16818181818181818,0.16818181818181818,0.16818181818181818,0.16818181818181818,0.0,0.16818181818181818,0.16818181818181818,1.0,0.5,0.3,0.08124999999999999,0.0,-0.2,-0.023333333333333338,-0.06666666666666665,0.05000000000000001,-0.1499999999999999,0.0,-0.1,0.13636363636363635,-0.6999999999999998,0.2555555555555556,0.0,0.3,0.0,0.0,-0.4,0.0,0.0,0.0,0.0,0.0,0.0,0.0,0.5583333333333333,0.0,0.0,-0.6,-0.4,0.19166666666666665,0.0,-0.065,0.0,0.0,0.0,-0.13333333333333333,-0.6,-0.6,0.0,0.0,0.5,0.0,0.0,0.0,0.0,0.5,0.0,0.0,-0.2777777777777778,0.0,0.4,0.0,0.0,0.0,0.0,0.0,0.0,0.5,0.0,-0.05000000000000002,0.5833333333333334,0.0,0.0,-0.05,0.0,-0.6,0.06666666666666665,0.9,0.0,0.0,0.06666666666666665,0.0,0.5,0.0,0.06666666666666665,0.3333333333333333,0.0,0.0,0.06666666666666665,0.06666666666666665,0.0,-0.04999999999999996,0.0,0.06666666666666665,0.06666666666666665,0.0,0.2380952380952381,0.0,0.06666666666666665,0.0,0.06666666666666665,0.0,0.0625,0.0,0.6,-0.03333333333333333,0.35,0.6,0.6,0.037500000000000006,0.06666666666666665,-0.2,0.3333333333333333,0.0,0.0,0.0,0.0,0.4,0.0,0.0,0.06666666666666665,0.0,-0.10000000000000002,0.0,0.5,0.0,0.0,0.25,0.0,0.0,0.0,0.0,0.0,0.13636363636363635,0.0,0.13636363636363635,0.13636363636363635,0.0,0.13636363636363635,0.13636363636363635,0.13636363636363635,0.13636363636363635,0.13636363636363635,0.13636363636363635,0.0,0.13636363636363635,0.0,0.13636363636363635,0.0,0.13636363636363635,0.13636363636363635,0.0,0.0,0.0,0.28409090909090906,0.0,0.0,0.0,0.0,0.0,0.8,0.0,0.3333333333333333,0.0,0.0,0.4444444444444445,0.0,0.0,0.0,0.0,-0.6,-0.11111111111111112,0.24999999999999997,0.0,0.0,0.0,0.0,-0.21999999999999997,-0.1107142857142857,0.0,0.0,-0.2318181818181818,0.0,0.0,0.0,0.5,0.16666666666666666,0.0,0.0,0.0,0.16666666666666666,0.3333333333333333,0.16666666666666666,0.0,0.0,0.0,0.3333333333333333,0.3333333333333333,0.3333333333333333,0.3333333333333333,0.3333333333333333,0.0,0.3333333333333333,0.3333333333333333,0.16666666666666666,0.3939393939393939,0.0,-0.15000000000000002,0.3333333333333333,0.3333333333333333,0.3333333333333333,0.3333333333333333,0.3333333333333333,0.3333333333333333,0.0,0.3333333333333333,0.3333333333333333,0.3333333333333333,0.3333333333333333,0.0,0.3333333333333333,0.3333333333333333,0.3333333333333333,0.3333333333333333,0.2,0.3333333333333333,0.0,0.2,0.0,0.3333333333333333,0.028124999999999997,0.3333333333333333,0.0,0.3333333333333333,0.0,0.3333333333333333,0.0,0.09166666666666666,0.3333333333333333,0.3333333333333333,0.3333333333333333,0.3333333333333333,0.3333333333333333,0.3333333333333333,0.3333333333333333,0.3333333333333333,0.3333333333333333,0.3333333333333333,0.3333333333333333,0.3333333333333333,0.3333333333333333,0.3333333333333333,0.3333333333333333,0.3333333333333333,0.0,0.3333333333333333,0.3333333333333333,0.3333333333333333,0.0,0.3333333333333333,0.3333333333333333,0.3333333333333333,0.1722222222222222,0.3333333333333333,0.3333333333333333,0.3333333333333333,0.3333333333333333,0.3333333333333333,0.3333333333333333,0.3333333333333333,0.3333333333333333,0.3333333333333333,0.3333333333333333,0.3333333333333333,0.09166666666666666,0.3333333333333333,0.3333333333333333,0.09166666666666666,0.3333333333333333,0.09166666666666666,0.3333333333333333,0.3333333333333333,0.3333333333333333,0.3333333333333333,0.3333333333333333,0.3333333333333333,0.3333333333333333,0.3333333333333333,0.3333333333333333,0.09166666666666666,0.3333333333333333,0.3333333333333333,0.3333333333333333,0.0,0.0,0.0,0.0,-0.056249999999999994,0.0,0.0,0.0,-0.20833333333333331,0.0,0.0,0.0,0.0,0.0,0.0,0.0,0.0,0.0,0.0,0.2,0.0,0.0,0.0,0.0,0.0,0.0,0.0,0.0,0.0,0.0,0.0,0.0,0.0,0.0,0.0,0.0,0.0,0.0,0.0,0.0,0.0,0.0,0.0,0.0,0.0,0.0,0.0,0.0,0.0,0.0,0.0,0.0,0.0,0.0,0.0,0.0,0.0,0.0,0.0,0.0,0.0,0.0,0.0,-0.2,0.0,0.0,0.0,-0.43333333333333335,0.0,-0.2,0.0,0.0,0.0,0.0,0.0,0.0,0.0,0.0,0.0,0.0,0.0,0.0,0.0,0.0,0.0638888888888889,0.40625,0.5,0.0,0.0,0.0,0.0,0.0,0.0,0.0,0.0,0.0,0.0,0.0,0.0,0.4,0.0,0.7,0.0,0.0,0.0,0.0,0.0,0.0,0.0,0.0,0.0,0.0,0.0,0.25625,0.175,0.0,0.0,0.0,0.0,0.0,0.0,0.0,0.0,0.0,0.0,0.0,0.0,0.0,0.0,0.0,0.0,0.0,0.0,0.39999999999999997,0.0,0.0,0.0,0.0,0.0,0.0,0.25,0.0,0.0,0.0,1.0,0.0,0.0,0.0,0.0,0.0,0.0,0.0,0.0,0.0,-0.3333333333333333,0.0,0.5,0.0,0.0,0.0,0.0,0.0,0.13,0.0,0.25,0.0,0.16666666666666666,0.0,0.0,0.0,0.0,0.0,0.0,0.0,0.0,1.0,0.0,0.0,0.0,0.0,0.0,0.0,0.0,0.0,0.0,0.0,0.0,0.0,0.0,0.0,0.0,0.0,0.0,0.0,0.0,0.0,0.0,0.0,0.0,0.0,0.0,0.0,0.0,0.0,0.0,0.0,0.0,0.0,0.0,0.4666666666666666,0.0,0.0,0.0,0.0,0.0,0.0,0.0,0.0,0.0,0.0,0.0,-0.2,0.0,0.3,0.0,0.0,0.1361111111111111,-0.325,0.0,0.0,0.0,0.0,0.0,0.0,0.0,0.0,0.0,0.0,0.0,0.0,0.0,0.0,0.0,0.0,0.0,0.0,0.0,0.0,0.0,0.0,0.0,0.0,0.0,0.0,0.0,0.0,0.0,0.0,0.0,0.0,0.0,0.0,0.0,0.0,-1.0,0.0,0.0,0.0,0.0,0.0,0.0,0.26666666666666666,0.0,0.0,0.0,0.0,0.0,0.0,0.0,0.0,0.0,0.0,0.0,0.0,0.0,0.0,0.0,0.0,0.0,-0.184375,0.0,0.0,0.0,0.0,0.0,0.0,0.0,0.0,0.0,0.0,0.0,0.0,0.0,0.0,0.0,0.0,0.0,0.0,0.0,0.0,0.0,0.0,0.0,0.0,0.0,0.0,0.0,0.0,0.0,0.0,0.0,0.0,0.0,0.0,0.0,0.0,0.0,0.0,0.0,0.0,0.0,0.0,0.0,0.0,0.0,0.0,0.0,0.0,0.0,0.0,0.0,0.0,0.0,0.0,0.0,0.0,0.0,1.0,0.0,0.0,0.0,0.0,0.0,1.0,0.0,0.0,0.0,0.0,0.0,0.0,0.0,0.0,0.0,0.0,0.0,0.0,0.0,0.0,0.0,0.0,0.0,0.0,0.0,0.0,0.0,0.0,0.0,0.0,0.0,0.0,0.0,0.0],\"yaxis\":\"y\",\"type\":\"scattergl\"}],                        {\"template\":{\"data\":{\"bar\":[{\"error_x\":{\"color\":\"#2a3f5f\"},\"error_y\":{\"color\":\"#2a3f5f\"},\"marker\":{\"line\":{\"color\":\"#E5ECF6\",\"width\":0.5},\"pattern\":{\"fillmode\":\"overlay\",\"size\":10,\"solidity\":0.2}},\"type\":\"bar\"}],\"barpolar\":[{\"marker\":{\"line\":{\"color\":\"#E5ECF6\",\"width\":0.5},\"pattern\":{\"fillmode\":\"overlay\",\"size\":10,\"solidity\":0.2}},\"type\":\"barpolar\"}],\"carpet\":[{\"aaxis\":{\"endlinecolor\":\"#2a3f5f\",\"gridcolor\":\"white\",\"linecolor\":\"white\",\"minorgridcolor\":\"white\",\"startlinecolor\":\"#2a3f5f\"},\"baxis\":{\"endlinecolor\":\"#2a3f5f\",\"gridcolor\":\"white\",\"linecolor\":\"white\",\"minorgridcolor\":\"white\",\"startlinecolor\":\"#2a3f5f\"},\"type\":\"carpet\"}],\"choropleth\":[{\"colorbar\":{\"outlinewidth\":0,\"ticks\":\"\"},\"type\":\"choropleth\"}],\"contour\":[{\"colorbar\":{\"outlinewidth\":0,\"ticks\":\"\"},\"colorscale\":[[0.0,\"#0d0887\"],[0.1111111111111111,\"#46039f\"],[0.2222222222222222,\"#7201a8\"],[0.3333333333333333,\"#9c179e\"],[0.4444444444444444,\"#bd3786\"],[0.5555555555555556,\"#d8576b\"],[0.6666666666666666,\"#ed7953\"],[0.7777777777777778,\"#fb9f3a\"],[0.8888888888888888,\"#fdca26\"],[1.0,\"#f0f921\"]],\"type\":\"contour\"}],\"contourcarpet\":[{\"colorbar\":{\"outlinewidth\":0,\"ticks\":\"\"},\"type\":\"contourcarpet\"}],\"heatmap\":[{\"colorbar\":{\"outlinewidth\":0,\"ticks\":\"\"},\"colorscale\":[[0.0,\"#0d0887\"],[0.1111111111111111,\"#46039f\"],[0.2222222222222222,\"#7201a8\"],[0.3333333333333333,\"#9c179e\"],[0.4444444444444444,\"#bd3786\"],[0.5555555555555556,\"#d8576b\"],[0.6666666666666666,\"#ed7953\"],[0.7777777777777778,\"#fb9f3a\"],[0.8888888888888888,\"#fdca26\"],[1.0,\"#f0f921\"]],\"type\":\"heatmap\"}],\"heatmapgl\":[{\"colorbar\":{\"outlinewidth\":0,\"ticks\":\"\"},\"colorscale\":[[0.0,\"#0d0887\"],[0.1111111111111111,\"#46039f\"],[0.2222222222222222,\"#7201a8\"],[0.3333333333333333,\"#9c179e\"],[0.4444444444444444,\"#bd3786\"],[0.5555555555555556,\"#d8576b\"],[0.6666666666666666,\"#ed7953\"],[0.7777777777777778,\"#fb9f3a\"],[0.8888888888888888,\"#fdca26\"],[1.0,\"#f0f921\"]],\"type\":\"heatmapgl\"}],\"histogram\":[{\"marker\":{\"pattern\":{\"fillmode\":\"overlay\",\"size\":10,\"solidity\":0.2}},\"type\":\"histogram\"}],\"histogram2d\":[{\"colorbar\":{\"outlinewidth\":0,\"ticks\":\"\"},\"colorscale\":[[0.0,\"#0d0887\"],[0.1111111111111111,\"#46039f\"],[0.2222222222222222,\"#7201a8\"],[0.3333333333333333,\"#9c179e\"],[0.4444444444444444,\"#bd3786\"],[0.5555555555555556,\"#d8576b\"],[0.6666666666666666,\"#ed7953\"],[0.7777777777777778,\"#fb9f3a\"],[0.8888888888888888,\"#fdca26\"],[1.0,\"#f0f921\"]],\"type\":\"histogram2d\"}],\"histogram2dcontour\":[{\"colorbar\":{\"outlinewidth\":0,\"ticks\":\"\"},\"colorscale\":[[0.0,\"#0d0887\"],[0.1111111111111111,\"#46039f\"],[0.2222222222222222,\"#7201a8\"],[0.3333333333333333,\"#9c179e\"],[0.4444444444444444,\"#bd3786\"],[0.5555555555555556,\"#d8576b\"],[0.6666666666666666,\"#ed7953\"],[0.7777777777777778,\"#fb9f3a\"],[0.8888888888888888,\"#fdca26\"],[1.0,\"#f0f921\"]],\"type\":\"histogram2dcontour\"}],\"mesh3d\":[{\"colorbar\":{\"outlinewidth\":0,\"ticks\":\"\"},\"type\":\"mesh3d\"}],\"parcoords\":[{\"line\":{\"colorbar\":{\"outlinewidth\":0,\"ticks\":\"\"}},\"type\":\"parcoords\"}],\"pie\":[{\"automargin\":true,\"type\":\"pie\"}],\"scatter\":[{\"marker\":{\"colorbar\":{\"outlinewidth\":0,\"ticks\":\"\"}},\"type\":\"scatter\"}],\"scatter3d\":[{\"line\":{\"colorbar\":{\"outlinewidth\":0,\"ticks\":\"\"}},\"marker\":{\"colorbar\":{\"outlinewidth\":0,\"ticks\":\"\"}},\"type\":\"scatter3d\"}],\"scattercarpet\":[{\"marker\":{\"colorbar\":{\"outlinewidth\":0,\"ticks\":\"\"}},\"type\":\"scattercarpet\"}],\"scattergeo\":[{\"marker\":{\"colorbar\":{\"outlinewidth\":0,\"ticks\":\"\"}},\"type\":\"scattergeo\"}],\"scattergl\":[{\"marker\":{\"colorbar\":{\"outlinewidth\":0,\"ticks\":\"\"}},\"type\":\"scattergl\"}],\"scattermapbox\":[{\"marker\":{\"colorbar\":{\"outlinewidth\":0,\"ticks\":\"\"}},\"type\":\"scattermapbox\"}],\"scatterpolar\":[{\"marker\":{\"colorbar\":{\"outlinewidth\":0,\"ticks\":\"\"}},\"type\":\"scatterpolar\"}],\"scatterpolargl\":[{\"marker\":{\"colorbar\":{\"outlinewidth\":0,\"ticks\":\"\"}},\"type\":\"scatterpolargl\"}],\"scatterternary\":[{\"marker\":{\"colorbar\":{\"outlinewidth\":0,\"ticks\":\"\"}},\"type\":\"scatterternary\"}],\"surface\":[{\"colorbar\":{\"outlinewidth\":0,\"ticks\":\"\"},\"colorscale\":[[0.0,\"#0d0887\"],[0.1111111111111111,\"#46039f\"],[0.2222222222222222,\"#7201a8\"],[0.3333333333333333,\"#9c179e\"],[0.4444444444444444,\"#bd3786\"],[0.5555555555555556,\"#d8576b\"],[0.6666666666666666,\"#ed7953\"],[0.7777777777777778,\"#fb9f3a\"],[0.8888888888888888,\"#fdca26\"],[1.0,\"#f0f921\"]],\"type\":\"surface\"}],\"table\":[{\"cells\":{\"fill\":{\"color\":\"#EBF0F8\"},\"line\":{\"color\":\"white\"}},\"header\":{\"fill\":{\"color\":\"#C8D4E3\"},\"line\":{\"color\":\"white\"}},\"type\":\"table\"}]},\"layout\":{\"annotationdefaults\":{\"arrowcolor\":\"#2a3f5f\",\"arrowhead\":0,\"arrowwidth\":1},\"autotypenumbers\":\"strict\",\"coloraxis\":{\"colorbar\":{\"outlinewidth\":0,\"ticks\":\"\"}},\"colorscale\":{\"diverging\":[[0,\"#8e0152\"],[0.1,\"#c51b7d\"],[0.2,\"#de77ae\"],[0.3,\"#f1b6da\"],[0.4,\"#fde0ef\"],[0.5,\"#f7f7f7\"],[0.6,\"#e6f5d0\"],[0.7,\"#b8e186\"],[0.8,\"#7fbc41\"],[0.9,\"#4d9221\"],[1,\"#276419\"]],\"sequential\":[[0.0,\"#0d0887\"],[0.1111111111111111,\"#46039f\"],[0.2222222222222222,\"#7201a8\"],[0.3333333333333333,\"#9c179e\"],[0.4444444444444444,\"#bd3786\"],[0.5555555555555556,\"#d8576b\"],[0.6666666666666666,\"#ed7953\"],[0.7777777777777778,\"#fb9f3a\"],[0.8888888888888888,\"#fdca26\"],[1.0,\"#f0f921\"]],\"sequentialminus\":[[0.0,\"#0d0887\"],[0.1111111111111111,\"#46039f\"],[0.2222222222222222,\"#7201a8\"],[0.3333333333333333,\"#9c179e\"],[0.4444444444444444,\"#bd3786\"],[0.5555555555555556,\"#d8576b\"],[0.6666666666666666,\"#ed7953\"],[0.7777777777777778,\"#fb9f3a\"],[0.8888888888888888,\"#fdca26\"],[1.0,\"#f0f921\"]]},\"colorway\":[\"#636efa\",\"#EF553B\",\"#00cc96\",\"#ab63fa\",\"#FFA15A\",\"#19d3f3\",\"#FF6692\",\"#B6E880\",\"#FF97FF\",\"#FECB52\"],\"font\":{\"color\":\"#2a3f5f\"},\"geo\":{\"bgcolor\":\"white\",\"lakecolor\":\"white\",\"landcolor\":\"#E5ECF6\",\"showlakes\":true,\"showland\":true,\"subunitcolor\":\"white\"},\"hoverlabel\":{\"align\":\"left\"},\"hovermode\":\"closest\",\"mapbox\":{\"style\":\"light\"},\"paper_bgcolor\":\"white\",\"plot_bgcolor\":\"#E5ECF6\",\"polar\":{\"angularaxis\":{\"gridcolor\":\"white\",\"linecolor\":\"white\",\"ticks\":\"\"},\"bgcolor\":\"#E5ECF6\",\"radialaxis\":{\"gridcolor\":\"white\",\"linecolor\":\"white\",\"ticks\":\"\"}},\"scene\":{\"xaxis\":{\"backgroundcolor\":\"#E5ECF6\",\"gridcolor\":\"white\",\"gridwidth\":2,\"linecolor\":\"white\",\"showbackground\":true,\"ticks\":\"\",\"zerolinecolor\":\"white\"},\"yaxis\":{\"backgroundcolor\":\"#E5ECF6\",\"gridcolor\":\"white\",\"gridwidth\":2,\"linecolor\":\"white\",\"showbackground\":true,\"ticks\":\"\",\"zerolinecolor\":\"white\"},\"zaxis\":{\"backgroundcolor\":\"#E5ECF6\",\"gridcolor\":\"white\",\"gridwidth\":2,\"linecolor\":\"white\",\"showbackground\":true,\"ticks\":\"\",\"zerolinecolor\":\"white\"}},\"shapedefaults\":{\"line\":{\"color\":\"#2a3f5f\"}},\"ternary\":{\"aaxis\":{\"gridcolor\":\"white\",\"linecolor\":\"white\",\"ticks\":\"\"},\"baxis\":{\"gridcolor\":\"white\",\"linecolor\":\"white\",\"ticks\":\"\"},\"bgcolor\":\"#E5ECF6\",\"caxis\":{\"gridcolor\":\"white\",\"linecolor\":\"white\",\"ticks\":\"\"}},\"title\":{\"x\":0.05},\"xaxis\":{\"automargin\":true,\"gridcolor\":\"white\",\"linecolor\":\"white\",\"ticks\":\"\",\"title\":{\"standoff\":15},\"zerolinecolor\":\"white\",\"zerolinewidth\":2},\"yaxis\":{\"automargin\":true,\"gridcolor\":\"white\",\"linecolor\":\"white\",\"ticks\":\"\",\"title\":{\"standoff\":15},\"zerolinecolor\":\"white\",\"zerolinewidth\":2}}},\"xaxis\":{\"anchor\":\"y\",\"domain\":[0.0,1.0],\"title\":{\"text\":\"index\"}},\"yaxis\":{\"anchor\":\"x\",\"domain\":[0.0,1.0],\"title\":{\"text\":\"Polarity\"}},\"legend\":{\"tracegroupgap\":0},\"margin\":{\"t\":60}},                        {\"responsive\": true}                    ).then(function(){\n",
              "                            \n",
              "var gd = document.getElementById('210efe6e-b540-49d8-b0c3-4d033429d769');\n",
              "var x = new MutationObserver(function (mutations, observer) {{\n",
              "        var display = window.getComputedStyle(gd).display;\n",
              "        if (!display || display === 'none') {{\n",
              "            console.log([gd, 'removed!']);\n",
              "            Plotly.purge(gd);\n",
              "            observer.disconnect();\n",
              "        }}\n",
              "}});\n",
              "\n",
              "// Listen for the removal of the full notebook cells\n",
              "var notebookContainer = gd.closest('#notebook-container');\n",
              "if (notebookContainer) {{\n",
              "    x.observe(notebookContainer, {childList: true});\n",
              "}}\n",
              "\n",
              "// Listen for the clearing of the current output cell\n",
              "var outputEl = gd.closest('.output');\n",
              "if (outputEl) {{\n",
              "    x.observe(outputEl, {childList: true});\n",
              "}}\n",
              "\n",
              "                        })                };                            </script>        </div>\n",
              "</body>\n",
              "</html>"
            ]
          },
          "metadata": {}
        }
      ]
    },
    {
      "cell_type": "code",
      "source": [
        "fig = px.bar(count, title=\"Sentimientos de los tweets de Yummy Venezuela\", color=['red','blue','green'])\n",
        "fig.show()"
      ],
      "metadata": {
        "colab": {
          "base_uri": "https://localhost:8080/",
          "height": 542
        },
        "id": "AwAXj_66CnK5",
        "outputId": "9ce9cfaa-6ca0-409a-fc03-734bbbd4b0b8"
      },
      "execution_count": 29,
      "outputs": [
        {
          "output_type": "display_data",
          "data": {
            "text/html": [
              "<html>\n",
              "<head><meta charset=\"utf-8\" /></head>\n",
              "<body>\n",
              "    <div>            <script src=\"https://cdnjs.cloudflare.com/ajax/libs/mathjax/2.7.5/MathJax.js?config=TeX-AMS-MML_SVG\"></script><script type=\"text/javascript\">if (window.MathJax) {MathJax.Hub.Config({SVG: {font: \"STIX-Web\"}});}</script>                <script type=\"text/javascript\">window.PlotlyConfig = {MathJaxConfig: 'local'};</script>\n",
              "        <script src=\"https://cdn.plot.ly/plotly-2.8.3.min.js\"></script>                <div id=\"e9914f29-b8c5-4543-8ffe-32ee4d722f79\" class=\"plotly-graph-div\" style=\"height:525px; width:100%;\"></div>            <script type=\"text/javascript\">                                    window.PLOTLYENV=window.PLOTLYENV || {};                                    if (document.getElementById(\"e9914f29-b8c5-4543-8ffe-32ee4d722f79\")) {                    Plotly.newPlot(                        \"e9914f29-b8c5-4543-8ffe-32ee4d722f79\",                        [{\"alignmentgroup\":\"True\",\"hovertemplate\":\"color=red<br>index=%{x}<br>value=%{y}<extra></extra>\",\"legendgroup\":\"red\",\"marker\":{\"color\":\"#636efa\",\"pattern\":{\"shape\":\"\"}},\"name\":\"red\",\"offsetgroup\":\"red\",\"orientation\":\"v\",\"showlegend\":true,\"textposition\":\"auto\",\"x\":[\"Neutral\"],\"xaxis\":\"x\",\"y\":[1039],\"yaxis\":\"y\",\"type\":\"bar\"},{\"alignmentgroup\":\"True\",\"hovertemplate\":\"color=blue<br>index=%{x}<br>value=%{y}<extra></extra>\",\"legendgroup\":\"blue\",\"marker\":{\"color\":\"#EF553B\",\"pattern\":{\"shape\":\"\"}},\"name\":\"blue\",\"offsetgroup\":\"blue\",\"orientation\":\"v\",\"showlegend\":true,\"textposition\":\"auto\",\"x\":[\"Positive\"],\"xaxis\":\"x\",\"y\":[725],\"yaxis\":\"y\",\"type\":\"bar\"},{\"alignmentgroup\":\"True\",\"hovertemplate\":\"color=green<br>index=%{x}<br>value=%{y}<extra></extra>\",\"legendgroup\":\"green\",\"marker\":{\"color\":\"#00cc96\",\"pattern\":{\"shape\":\"\"}},\"name\":\"green\",\"offsetgroup\":\"green\",\"orientation\":\"v\",\"showlegend\":true,\"textposition\":\"auto\",\"x\":[\"Negative\"],\"xaxis\":\"x\",\"y\":[236],\"yaxis\":\"y\",\"type\":\"bar\"}],                        {\"template\":{\"data\":{\"bar\":[{\"error_x\":{\"color\":\"#2a3f5f\"},\"error_y\":{\"color\":\"#2a3f5f\"},\"marker\":{\"line\":{\"color\":\"#E5ECF6\",\"width\":0.5},\"pattern\":{\"fillmode\":\"overlay\",\"size\":10,\"solidity\":0.2}},\"type\":\"bar\"}],\"barpolar\":[{\"marker\":{\"line\":{\"color\":\"#E5ECF6\",\"width\":0.5},\"pattern\":{\"fillmode\":\"overlay\",\"size\":10,\"solidity\":0.2}},\"type\":\"barpolar\"}],\"carpet\":[{\"aaxis\":{\"endlinecolor\":\"#2a3f5f\",\"gridcolor\":\"white\",\"linecolor\":\"white\",\"minorgridcolor\":\"white\",\"startlinecolor\":\"#2a3f5f\"},\"baxis\":{\"endlinecolor\":\"#2a3f5f\",\"gridcolor\":\"white\",\"linecolor\":\"white\",\"minorgridcolor\":\"white\",\"startlinecolor\":\"#2a3f5f\"},\"type\":\"carpet\"}],\"choropleth\":[{\"colorbar\":{\"outlinewidth\":0,\"ticks\":\"\"},\"type\":\"choropleth\"}],\"contour\":[{\"colorbar\":{\"outlinewidth\":0,\"ticks\":\"\"},\"colorscale\":[[0.0,\"#0d0887\"],[0.1111111111111111,\"#46039f\"],[0.2222222222222222,\"#7201a8\"],[0.3333333333333333,\"#9c179e\"],[0.4444444444444444,\"#bd3786\"],[0.5555555555555556,\"#d8576b\"],[0.6666666666666666,\"#ed7953\"],[0.7777777777777778,\"#fb9f3a\"],[0.8888888888888888,\"#fdca26\"],[1.0,\"#f0f921\"]],\"type\":\"contour\"}],\"contourcarpet\":[{\"colorbar\":{\"outlinewidth\":0,\"ticks\":\"\"},\"type\":\"contourcarpet\"}],\"heatmap\":[{\"colorbar\":{\"outlinewidth\":0,\"ticks\":\"\"},\"colorscale\":[[0.0,\"#0d0887\"],[0.1111111111111111,\"#46039f\"],[0.2222222222222222,\"#7201a8\"],[0.3333333333333333,\"#9c179e\"],[0.4444444444444444,\"#bd3786\"],[0.5555555555555556,\"#d8576b\"],[0.6666666666666666,\"#ed7953\"],[0.7777777777777778,\"#fb9f3a\"],[0.8888888888888888,\"#fdca26\"],[1.0,\"#f0f921\"]],\"type\":\"heatmap\"}],\"heatmapgl\":[{\"colorbar\":{\"outlinewidth\":0,\"ticks\":\"\"},\"colorscale\":[[0.0,\"#0d0887\"],[0.1111111111111111,\"#46039f\"],[0.2222222222222222,\"#7201a8\"],[0.3333333333333333,\"#9c179e\"],[0.4444444444444444,\"#bd3786\"],[0.5555555555555556,\"#d8576b\"],[0.6666666666666666,\"#ed7953\"],[0.7777777777777778,\"#fb9f3a\"],[0.8888888888888888,\"#fdca26\"],[1.0,\"#f0f921\"]],\"type\":\"heatmapgl\"}],\"histogram\":[{\"marker\":{\"pattern\":{\"fillmode\":\"overlay\",\"size\":10,\"solidity\":0.2}},\"type\":\"histogram\"}],\"histogram2d\":[{\"colorbar\":{\"outlinewidth\":0,\"ticks\":\"\"},\"colorscale\":[[0.0,\"#0d0887\"],[0.1111111111111111,\"#46039f\"],[0.2222222222222222,\"#7201a8\"],[0.3333333333333333,\"#9c179e\"],[0.4444444444444444,\"#bd3786\"],[0.5555555555555556,\"#d8576b\"],[0.6666666666666666,\"#ed7953\"],[0.7777777777777778,\"#fb9f3a\"],[0.8888888888888888,\"#fdca26\"],[1.0,\"#f0f921\"]],\"type\":\"histogram2d\"}],\"histogram2dcontour\":[{\"colorbar\":{\"outlinewidth\":0,\"ticks\":\"\"},\"colorscale\":[[0.0,\"#0d0887\"],[0.1111111111111111,\"#46039f\"],[0.2222222222222222,\"#7201a8\"],[0.3333333333333333,\"#9c179e\"],[0.4444444444444444,\"#bd3786\"],[0.5555555555555556,\"#d8576b\"],[0.6666666666666666,\"#ed7953\"],[0.7777777777777778,\"#fb9f3a\"],[0.8888888888888888,\"#fdca26\"],[1.0,\"#f0f921\"]],\"type\":\"histogram2dcontour\"}],\"mesh3d\":[{\"colorbar\":{\"outlinewidth\":0,\"ticks\":\"\"},\"type\":\"mesh3d\"}],\"parcoords\":[{\"line\":{\"colorbar\":{\"outlinewidth\":0,\"ticks\":\"\"}},\"type\":\"parcoords\"}],\"pie\":[{\"automargin\":true,\"type\":\"pie\"}],\"scatter\":[{\"marker\":{\"colorbar\":{\"outlinewidth\":0,\"ticks\":\"\"}},\"type\":\"scatter\"}],\"scatter3d\":[{\"line\":{\"colorbar\":{\"outlinewidth\":0,\"ticks\":\"\"}},\"marker\":{\"colorbar\":{\"outlinewidth\":0,\"ticks\":\"\"}},\"type\":\"scatter3d\"}],\"scattercarpet\":[{\"marker\":{\"colorbar\":{\"outlinewidth\":0,\"ticks\":\"\"}},\"type\":\"scattercarpet\"}],\"scattergeo\":[{\"marker\":{\"colorbar\":{\"outlinewidth\":0,\"ticks\":\"\"}},\"type\":\"scattergeo\"}],\"scattergl\":[{\"marker\":{\"colorbar\":{\"outlinewidth\":0,\"ticks\":\"\"}},\"type\":\"scattergl\"}],\"scattermapbox\":[{\"marker\":{\"colorbar\":{\"outlinewidth\":0,\"ticks\":\"\"}},\"type\":\"scattermapbox\"}],\"scatterpolar\":[{\"marker\":{\"colorbar\":{\"outlinewidth\":0,\"ticks\":\"\"}},\"type\":\"scatterpolar\"}],\"scatterpolargl\":[{\"marker\":{\"colorbar\":{\"outlinewidth\":0,\"ticks\":\"\"}},\"type\":\"scatterpolargl\"}],\"scatterternary\":[{\"marker\":{\"colorbar\":{\"outlinewidth\":0,\"ticks\":\"\"}},\"type\":\"scatterternary\"}],\"surface\":[{\"colorbar\":{\"outlinewidth\":0,\"ticks\":\"\"},\"colorscale\":[[0.0,\"#0d0887\"],[0.1111111111111111,\"#46039f\"],[0.2222222222222222,\"#7201a8\"],[0.3333333333333333,\"#9c179e\"],[0.4444444444444444,\"#bd3786\"],[0.5555555555555556,\"#d8576b\"],[0.6666666666666666,\"#ed7953\"],[0.7777777777777778,\"#fb9f3a\"],[0.8888888888888888,\"#fdca26\"],[1.0,\"#f0f921\"]],\"type\":\"surface\"}],\"table\":[{\"cells\":{\"fill\":{\"color\":\"#EBF0F8\"},\"line\":{\"color\":\"white\"}},\"header\":{\"fill\":{\"color\":\"#C8D4E3\"},\"line\":{\"color\":\"white\"}},\"type\":\"table\"}]},\"layout\":{\"annotationdefaults\":{\"arrowcolor\":\"#2a3f5f\",\"arrowhead\":0,\"arrowwidth\":1},\"autotypenumbers\":\"strict\",\"coloraxis\":{\"colorbar\":{\"outlinewidth\":0,\"ticks\":\"\"}},\"colorscale\":{\"diverging\":[[0,\"#8e0152\"],[0.1,\"#c51b7d\"],[0.2,\"#de77ae\"],[0.3,\"#f1b6da\"],[0.4,\"#fde0ef\"],[0.5,\"#f7f7f7\"],[0.6,\"#e6f5d0\"],[0.7,\"#b8e186\"],[0.8,\"#7fbc41\"],[0.9,\"#4d9221\"],[1,\"#276419\"]],\"sequential\":[[0.0,\"#0d0887\"],[0.1111111111111111,\"#46039f\"],[0.2222222222222222,\"#7201a8\"],[0.3333333333333333,\"#9c179e\"],[0.4444444444444444,\"#bd3786\"],[0.5555555555555556,\"#d8576b\"],[0.6666666666666666,\"#ed7953\"],[0.7777777777777778,\"#fb9f3a\"],[0.8888888888888888,\"#fdca26\"],[1.0,\"#f0f921\"]],\"sequentialminus\":[[0.0,\"#0d0887\"],[0.1111111111111111,\"#46039f\"],[0.2222222222222222,\"#7201a8\"],[0.3333333333333333,\"#9c179e\"],[0.4444444444444444,\"#bd3786\"],[0.5555555555555556,\"#d8576b\"],[0.6666666666666666,\"#ed7953\"],[0.7777777777777778,\"#fb9f3a\"],[0.8888888888888888,\"#fdca26\"],[1.0,\"#f0f921\"]]},\"colorway\":[\"#636efa\",\"#EF553B\",\"#00cc96\",\"#ab63fa\",\"#FFA15A\",\"#19d3f3\",\"#FF6692\",\"#B6E880\",\"#FF97FF\",\"#FECB52\"],\"font\":{\"color\":\"#2a3f5f\"},\"geo\":{\"bgcolor\":\"white\",\"lakecolor\":\"white\",\"landcolor\":\"#E5ECF6\",\"showlakes\":true,\"showland\":true,\"subunitcolor\":\"white\"},\"hoverlabel\":{\"align\":\"left\"},\"hovermode\":\"closest\",\"mapbox\":{\"style\":\"light\"},\"paper_bgcolor\":\"white\",\"plot_bgcolor\":\"#E5ECF6\",\"polar\":{\"angularaxis\":{\"gridcolor\":\"white\",\"linecolor\":\"white\",\"ticks\":\"\"},\"bgcolor\":\"#E5ECF6\",\"radialaxis\":{\"gridcolor\":\"white\",\"linecolor\":\"white\",\"ticks\":\"\"}},\"scene\":{\"xaxis\":{\"backgroundcolor\":\"#E5ECF6\",\"gridcolor\":\"white\",\"gridwidth\":2,\"linecolor\":\"white\",\"showbackground\":true,\"ticks\":\"\",\"zerolinecolor\":\"white\"},\"yaxis\":{\"backgroundcolor\":\"#E5ECF6\",\"gridcolor\":\"white\",\"gridwidth\":2,\"linecolor\":\"white\",\"showbackground\":true,\"ticks\":\"\",\"zerolinecolor\":\"white\"},\"zaxis\":{\"backgroundcolor\":\"#E5ECF6\",\"gridcolor\":\"white\",\"gridwidth\":2,\"linecolor\":\"white\",\"showbackground\":true,\"ticks\":\"\",\"zerolinecolor\":\"white\"}},\"shapedefaults\":{\"line\":{\"color\":\"#2a3f5f\"}},\"ternary\":{\"aaxis\":{\"gridcolor\":\"white\",\"linecolor\":\"white\",\"ticks\":\"\"},\"baxis\":{\"gridcolor\":\"white\",\"linecolor\":\"white\",\"ticks\":\"\"},\"bgcolor\":\"#E5ECF6\",\"caxis\":{\"gridcolor\":\"white\",\"linecolor\":\"white\",\"ticks\":\"\"}},\"title\":{\"x\":0.05},\"xaxis\":{\"automargin\":true,\"gridcolor\":\"white\",\"linecolor\":\"white\",\"ticks\":\"\",\"title\":{\"standoff\":15},\"zerolinecolor\":\"white\",\"zerolinewidth\":2},\"yaxis\":{\"automargin\":true,\"gridcolor\":\"white\",\"linecolor\":\"white\",\"ticks\":\"\",\"title\":{\"standoff\":15},\"zerolinecolor\":\"white\",\"zerolinewidth\":2}}},\"xaxis\":{\"anchor\":\"y\",\"domain\":[0.0,1.0],\"title\":{\"text\":\"index\"}},\"yaxis\":{\"anchor\":\"x\",\"domain\":[0.0,1.0],\"title\":{\"text\":\"value\"}},\"legend\":{\"title\":{\"text\":\"color\"},\"tracegroupgap\":0},\"title\":{\"text\":\"Sentimientos de los tweets de Yummy Venezuela\"},\"barmode\":\"relative\"},                        {\"responsive\": true}                    ).then(function(){\n",
              "                            \n",
              "var gd = document.getElementById('e9914f29-b8c5-4543-8ffe-32ee4d722f79');\n",
              "var x = new MutationObserver(function (mutations, observer) {{\n",
              "        var display = window.getComputedStyle(gd).display;\n",
              "        if (!display || display === 'none') {{\n",
              "            console.log([gd, 'removed!']);\n",
              "            Plotly.purge(gd);\n",
              "            observer.disconnect();\n",
              "        }}\n",
              "}});\n",
              "\n",
              "// Listen for the removal of the full notebook cells\n",
              "var notebookContainer = gd.closest('#notebook-container');\n",
              "if (notebookContainer) {{\n",
              "    x.observe(notebookContainer, {childList: true});\n",
              "}}\n",
              "\n",
              "// Listen for the clearing of the current output cell\n",
              "var outputEl = gd.closest('.output');\n",
              "if (outputEl) {{\n",
              "    x.observe(outputEl, {childList: true});\n",
              "}}\n",
              "\n",
              "                        })                };                            </script>        </div>\n",
              "</body>\n",
              "</html>"
            ]
          },
          "metadata": {}
        }
      ]
    },
    {
      "cell_type": "markdown",
      "source": [
        "#Conclusiones de el analisis de emociones\n",
        "\n",
        "Podemos concluir que hay mas comentarios negativos que positivos pero lo que mas se resalta es los comentarios neutros con una alta diferencia.\n",
        "\n",
        "\n",
        "\n",
        "1.   Neutros: 1039\n",
        "2.   Negativos: 236\n",
        "3.   Positivos: 725\n"
      ],
      "metadata": {
        "id": "bOR-adLIHjCD"
      }
    },
    {
      "cell_type": "code",
      "source": [
        "# Creamos tres sets de datos con los diferentes tipos de comentarios\n",
        "positive_tweet = dt[dt['Analysis'] == 'Positive']\n",
        "neutral_tweet = dt[dt['Analysis'] == 'Neutral']\n",
        "negative_tweet = dt[dt['Analysis'] == 'Negative']"
      ],
      "metadata": {
        "id": "Ieoq4aT-Dpb8"
      },
      "execution_count": 33,
      "outputs": []
    },
    {
      "cell_type": "code",
      "source": [
        "print(stopwords.words('spanish'))"
      ],
      "metadata": {
        "colab": {
          "base_uri": "https://localhost:8080/"
        },
        "id": "sz3HakrS7s13",
        "outputId": "7e55f099-766e-490c-f1f7-9575d106de8d"
      },
      "execution_count": 34,
      "outputs": [
        {
          "output_type": "stream",
          "name": "stdout",
          "text": [
            "['de', 'la', 'que', 'el', 'en', 'y', 'a', 'los', 'del', 'se', 'las', 'por', 'un', 'para', 'con', 'no', 'una', 'su', 'al', 'lo', 'como', 'más', 'pero', 'sus', 'le', 'ya', 'o', 'este', 'sí', 'porque', 'esta', 'entre', 'cuando', 'muy', 'sin', 'sobre', 'también', 'me', 'hasta', 'hay', 'donde', 'quien', 'desde', 'todo', 'nos', 'durante', 'todos', 'uno', 'les', 'ni', 'contra', 'otros', 'ese', 'eso', 'ante', 'ellos', 'e', 'esto', 'mí', 'antes', 'algunos', 'qué', 'unos', 'yo', 'otro', 'otras', 'otra', 'él', 'tanto', 'esa', 'estos', 'mucho', 'quienes', 'nada', 'muchos', 'cual', 'poco', 'ella', 'estar', 'estas', 'algunas', 'algo', 'nosotros', 'mi', 'mis', 'tú', 'te', 'ti', 'tu', 'tus', 'ellas', 'nosotras', 'vosotros', 'vosotras', 'os', 'mío', 'mía', 'míos', 'mías', 'tuyo', 'tuya', 'tuyos', 'tuyas', 'suyo', 'suya', 'suyos', 'suyas', 'nuestro', 'nuestra', 'nuestros', 'nuestras', 'vuestro', 'vuestra', 'vuestros', 'vuestras', 'esos', 'esas', 'estoy', 'estás', 'está', 'estamos', 'estáis', 'están', 'esté', 'estés', 'estemos', 'estéis', 'estén', 'estaré', 'estarás', 'estará', 'estaremos', 'estaréis', 'estarán', 'estaría', 'estarías', 'estaríamos', 'estaríais', 'estarían', 'estaba', 'estabas', 'estábamos', 'estabais', 'estaban', 'estuve', 'estuviste', 'estuvo', 'estuvimos', 'estuvisteis', 'estuvieron', 'estuviera', 'estuvieras', 'estuviéramos', 'estuvierais', 'estuvieran', 'estuviese', 'estuvieses', 'estuviésemos', 'estuvieseis', 'estuviesen', 'estando', 'estado', 'estada', 'estados', 'estadas', 'estad', 'he', 'has', 'ha', 'hemos', 'habéis', 'han', 'haya', 'hayas', 'hayamos', 'hayáis', 'hayan', 'habré', 'habrás', 'habrá', 'habremos', 'habréis', 'habrán', 'habría', 'habrías', 'habríamos', 'habríais', 'habrían', 'había', 'habías', 'habíamos', 'habíais', 'habían', 'hube', 'hubiste', 'hubo', 'hubimos', 'hubisteis', 'hubieron', 'hubiera', 'hubieras', 'hubiéramos', 'hubierais', 'hubieran', 'hubiese', 'hubieses', 'hubiésemos', 'hubieseis', 'hubiesen', 'habiendo', 'habido', 'habida', 'habidos', 'habidas', 'soy', 'eres', 'es', 'somos', 'sois', 'son', 'sea', 'seas', 'seamos', 'seáis', 'sean', 'seré', 'serás', 'será', 'seremos', 'seréis', 'serán', 'sería', 'serías', 'seríamos', 'seríais', 'serían', 'era', 'eras', 'éramos', 'erais', 'eran', 'fui', 'fuiste', 'fue', 'fuimos', 'fuisteis', 'fueron', 'fuera', 'fueras', 'fuéramos', 'fuerais', 'fueran', 'fuese', 'fueses', 'fuésemos', 'fueseis', 'fuesen', 'sintiendo', 'sentido', 'sentida', 'sentidos', 'sentidas', 'siente', 'sentid', 'tengo', 'tienes', 'tiene', 'tenemos', 'tenéis', 'tienen', 'tenga', 'tengas', 'tengamos', 'tengáis', 'tengan', 'tendré', 'tendrás', 'tendrá', 'tendremos', 'tendréis', 'tendrán', 'tendría', 'tendrías', 'tendríamos', 'tendríais', 'tendrían', 'tenía', 'tenías', 'teníamos', 'teníais', 'tenían', 'tuve', 'tuviste', 'tuvo', 'tuvimos', 'tuvisteis', 'tuvieron', 'tuviera', 'tuvieras', 'tuviéramos', 'tuvierais', 'tuvieran', 'tuviese', 'tuvieses', 'tuviésemos', 'tuvieseis', 'tuviesen', 'teniendo', 'tenido', 'tenida', 'tenidos', 'tenidas', 'tened']\n"
          ]
        }
      ]
    },
    {
      "cell_type": "code",
      "source": [
        "#Eliminamos las preposiciones, adverbios y adjetivos\n",
        "def textdrop(text):\n",
        "\n",
        "  sw = stopwords.words('spanish')\n",
        "\n",
        "  text = [word.lower() for word in text.split() if word.lower() not in sw]\n",
        "\n",
        "  return \" \".join(text)"
      ],
      "metadata": {
        "id": "WZj84QNy7v_A"
      },
      "execution_count": 36,
      "outputs": []
    },
    {
      "cell_type": "code",
      "source": [
        "positive_tweet['Tweet'] = positive_tweet['Tweet'].apply(textdrop)\n",
        "neutral_tweet['Tweet'] = neutral_tweet['Tweet'].apply(textdrop)\n",
        "negative_tweet['Tweet'] = negative_tweet['Tweet'].apply(textdrop)"
      ],
      "metadata": {
        "id": "T4SixBD17zFP"
      },
      "execution_count": null,
      "outputs": []
    },
    {
      "cell_type": "code",
      "source": [
        "tokenPositive = positive_tweet['Tweet']\n",
        "tokenNeutral = neutral_tweet['Tweet']\n",
        "tokenNegative = negative_tweet['Tweet']"
      ],
      "metadata": {
        "id": "TeDeNcms76t_"
      },
      "execution_count": 38,
      "outputs": []
    },
    {
      "cell_type": "code",
      "source": [
        "#Tokenizamos los tweets\n",
        "pos_tokens = [token for line in tokenPositive  for token in line.split()]\n",
        "neg_tokens = [token for line in tokenNeutral  for token in line.split()]\n",
        "neut_tokens = [token for line in tokenNegative  for token in line.split()]"
      ],
      "metadata": {
        "id": "IVYN9w3I79u3"
      },
      "execution_count": 39,
      "outputs": []
    },
    {
      "cell_type": "code",
      "source": [
        "word_pos = get_tokens(pos_tokens)\n",
        "word_neu = get_tokens(neut_tokens)\n",
        "word_neg = get_tokens(neg_tokens)"
      ],
      "metadata": {
        "id": "Y6TlueZK8Buj"
      },
      "execution_count": 40,
      "outputs": []
    },
    {
      "cell_type": "code",
      "source": [
        "#Creamos 3 sets de datos con las palabras y el contador \n",
        "pos_df = pd.DataFrame(word_pos.items(),columns=['words','scores'])\n",
        "neut_df = pd.DataFrame(word_neu.items(),columns=['words','scores'])\n",
        "neg_df = pd.DataFrame(word_neg.items(),columns=['words','scores'])"
      ],
      "metadata": {
        "id": "Yikm6Zy68F9_"
      },
      "execution_count": 41,
      "outputs": []
    },
    {
      "cell_type": "code",
      "source": [
        "fig = px.bar(data, title=\"Palabras mas usadas en los tweets positivos de Yummy Venezuela\",x=pos_df['words'], y=pos_df['scores'])\n",
        "fig.show()"
      ],
      "metadata": {
        "colab": {
          "base_uri": "https://localhost:8080/",
          "height": 542
        },
        "id": "bx8Tv9mR8JXn",
        "outputId": "c9790729-a284-4977-d39a-566885607cdf"
      },
      "execution_count": 42,
      "outputs": [
        {
          "output_type": "display_data",
          "data": {
            "text/html": [
              "<html>\n",
              "<head><meta charset=\"utf-8\" /></head>\n",
              "<body>\n",
              "    <div>            <script src=\"https://cdnjs.cloudflare.com/ajax/libs/mathjax/2.7.5/MathJax.js?config=TeX-AMS-MML_SVG\"></script><script type=\"text/javascript\">if (window.MathJax) {MathJax.Hub.Config({SVG: {font: \"STIX-Web\"}});}</script>                <script type=\"text/javascript\">window.PlotlyConfig = {MathJaxConfig: 'local'};</script>\n",
              "        <script src=\"https://cdn.plot.ly/plotly-2.8.3.min.js\"></script>                <div id=\"7cd3a2a7-b97a-4d93-9334-fd196cbb0545\" class=\"plotly-graph-div\" style=\"height:525px; width:100%;\"></div>            <script type=\"text/javascript\">                                    window.PLOTLYENV=window.PLOTLYENV || {};                                    if (document.getElementById(\"7cd3a2a7-b97a-4d93-9334-fd196cbb0545\")) {                    Plotly.newPlot(                        \"7cd3a2a7-b97a-4d93-9334-fd196cbb0545\",                        [{\"alignmentgroup\":\"True\",\"hovertemplate\":\"x=%{x}<br>y=%{y}<extra></extra>\",\"legendgroup\":\"\",\"marker\":{\"color\":\"#636efa\",\"pattern\":{\"shape\":\"\"}},\"name\":\"\",\"offsetgroup\":\"\",\"orientation\":\"v\",\"showlegend\":false,\"textposition\":\"auto\",\"x\":[\"yummy\",\"venezuela\",\"app\",\"rides\",\"to\",\"ms\",\"super\",\"of\",\"be\",\"nueva\",\"m\",\"raises\",\"aims\",\"delivery\",\"quiere\",\"manera\",\"convertirse\",\"moverse\",\"yummysuperapp\",\"ibrahimlopezp\",\"servicio\",\"the\",\"si\",\"mejor\",\"in\",\"empresa\",\"pideyummy\",\"httpstcoltxywotckj\",\"and\",\"pas\",\"ridery\",\"pago\",\"empresas\",\"httpstcoltxywpanbr\",\"ahora\",\"qu\",\"is\",\"solo\",\"hacer\",\"caracas\"],\"xaxis\":\"x\",\"y\":[594,570,168,135,132,105,99,94,90,88,82,80,79,75,75,75,73,72,70,70,59,59,53,48,47,42,40,39,38,37,36,31,31,31,30,30,28,27,27,26],\"yaxis\":\"y\",\"type\":\"bar\"}],                        {\"template\":{\"data\":{\"bar\":[{\"error_x\":{\"color\":\"#2a3f5f\"},\"error_y\":{\"color\":\"#2a3f5f\"},\"marker\":{\"line\":{\"color\":\"#E5ECF6\",\"width\":0.5},\"pattern\":{\"fillmode\":\"overlay\",\"size\":10,\"solidity\":0.2}},\"type\":\"bar\"}],\"barpolar\":[{\"marker\":{\"line\":{\"color\":\"#E5ECF6\",\"width\":0.5},\"pattern\":{\"fillmode\":\"overlay\",\"size\":10,\"solidity\":0.2}},\"type\":\"barpolar\"}],\"carpet\":[{\"aaxis\":{\"endlinecolor\":\"#2a3f5f\",\"gridcolor\":\"white\",\"linecolor\":\"white\",\"minorgridcolor\":\"white\",\"startlinecolor\":\"#2a3f5f\"},\"baxis\":{\"endlinecolor\":\"#2a3f5f\",\"gridcolor\":\"white\",\"linecolor\":\"white\",\"minorgridcolor\":\"white\",\"startlinecolor\":\"#2a3f5f\"},\"type\":\"carpet\"}],\"choropleth\":[{\"colorbar\":{\"outlinewidth\":0,\"ticks\":\"\"},\"type\":\"choropleth\"}],\"contour\":[{\"colorbar\":{\"outlinewidth\":0,\"ticks\":\"\"},\"colorscale\":[[0.0,\"#0d0887\"],[0.1111111111111111,\"#46039f\"],[0.2222222222222222,\"#7201a8\"],[0.3333333333333333,\"#9c179e\"],[0.4444444444444444,\"#bd3786\"],[0.5555555555555556,\"#d8576b\"],[0.6666666666666666,\"#ed7953\"],[0.7777777777777778,\"#fb9f3a\"],[0.8888888888888888,\"#fdca26\"],[1.0,\"#f0f921\"]],\"type\":\"contour\"}],\"contourcarpet\":[{\"colorbar\":{\"outlinewidth\":0,\"ticks\":\"\"},\"type\":\"contourcarpet\"}],\"heatmap\":[{\"colorbar\":{\"outlinewidth\":0,\"ticks\":\"\"},\"colorscale\":[[0.0,\"#0d0887\"],[0.1111111111111111,\"#46039f\"],[0.2222222222222222,\"#7201a8\"],[0.3333333333333333,\"#9c179e\"],[0.4444444444444444,\"#bd3786\"],[0.5555555555555556,\"#d8576b\"],[0.6666666666666666,\"#ed7953\"],[0.7777777777777778,\"#fb9f3a\"],[0.8888888888888888,\"#fdca26\"],[1.0,\"#f0f921\"]],\"type\":\"heatmap\"}],\"heatmapgl\":[{\"colorbar\":{\"outlinewidth\":0,\"ticks\":\"\"},\"colorscale\":[[0.0,\"#0d0887\"],[0.1111111111111111,\"#46039f\"],[0.2222222222222222,\"#7201a8\"],[0.3333333333333333,\"#9c179e\"],[0.4444444444444444,\"#bd3786\"],[0.5555555555555556,\"#d8576b\"],[0.6666666666666666,\"#ed7953\"],[0.7777777777777778,\"#fb9f3a\"],[0.8888888888888888,\"#fdca26\"],[1.0,\"#f0f921\"]],\"type\":\"heatmapgl\"}],\"histogram\":[{\"marker\":{\"pattern\":{\"fillmode\":\"overlay\",\"size\":10,\"solidity\":0.2}},\"type\":\"histogram\"}],\"histogram2d\":[{\"colorbar\":{\"outlinewidth\":0,\"ticks\":\"\"},\"colorscale\":[[0.0,\"#0d0887\"],[0.1111111111111111,\"#46039f\"],[0.2222222222222222,\"#7201a8\"],[0.3333333333333333,\"#9c179e\"],[0.4444444444444444,\"#bd3786\"],[0.5555555555555556,\"#d8576b\"],[0.6666666666666666,\"#ed7953\"],[0.7777777777777778,\"#fb9f3a\"],[0.8888888888888888,\"#fdca26\"],[1.0,\"#f0f921\"]],\"type\":\"histogram2d\"}],\"histogram2dcontour\":[{\"colorbar\":{\"outlinewidth\":0,\"ticks\":\"\"},\"colorscale\":[[0.0,\"#0d0887\"],[0.1111111111111111,\"#46039f\"],[0.2222222222222222,\"#7201a8\"],[0.3333333333333333,\"#9c179e\"],[0.4444444444444444,\"#bd3786\"],[0.5555555555555556,\"#d8576b\"],[0.6666666666666666,\"#ed7953\"],[0.7777777777777778,\"#fb9f3a\"],[0.8888888888888888,\"#fdca26\"],[1.0,\"#f0f921\"]],\"type\":\"histogram2dcontour\"}],\"mesh3d\":[{\"colorbar\":{\"outlinewidth\":0,\"ticks\":\"\"},\"type\":\"mesh3d\"}],\"parcoords\":[{\"line\":{\"colorbar\":{\"outlinewidth\":0,\"ticks\":\"\"}},\"type\":\"parcoords\"}],\"pie\":[{\"automargin\":true,\"type\":\"pie\"}],\"scatter\":[{\"marker\":{\"colorbar\":{\"outlinewidth\":0,\"ticks\":\"\"}},\"type\":\"scatter\"}],\"scatter3d\":[{\"line\":{\"colorbar\":{\"outlinewidth\":0,\"ticks\":\"\"}},\"marker\":{\"colorbar\":{\"outlinewidth\":0,\"ticks\":\"\"}},\"type\":\"scatter3d\"}],\"scattercarpet\":[{\"marker\":{\"colorbar\":{\"outlinewidth\":0,\"ticks\":\"\"}},\"type\":\"scattercarpet\"}],\"scattergeo\":[{\"marker\":{\"colorbar\":{\"outlinewidth\":0,\"ticks\":\"\"}},\"type\":\"scattergeo\"}],\"scattergl\":[{\"marker\":{\"colorbar\":{\"outlinewidth\":0,\"ticks\":\"\"}},\"type\":\"scattergl\"}],\"scattermapbox\":[{\"marker\":{\"colorbar\":{\"outlinewidth\":0,\"ticks\":\"\"}},\"type\":\"scattermapbox\"}],\"scatterpolar\":[{\"marker\":{\"colorbar\":{\"outlinewidth\":0,\"ticks\":\"\"}},\"type\":\"scatterpolar\"}],\"scatterpolargl\":[{\"marker\":{\"colorbar\":{\"outlinewidth\":0,\"ticks\":\"\"}},\"type\":\"scatterpolargl\"}],\"scatterternary\":[{\"marker\":{\"colorbar\":{\"outlinewidth\":0,\"ticks\":\"\"}},\"type\":\"scatterternary\"}],\"surface\":[{\"colorbar\":{\"outlinewidth\":0,\"ticks\":\"\"},\"colorscale\":[[0.0,\"#0d0887\"],[0.1111111111111111,\"#46039f\"],[0.2222222222222222,\"#7201a8\"],[0.3333333333333333,\"#9c179e\"],[0.4444444444444444,\"#bd3786\"],[0.5555555555555556,\"#d8576b\"],[0.6666666666666666,\"#ed7953\"],[0.7777777777777778,\"#fb9f3a\"],[0.8888888888888888,\"#fdca26\"],[1.0,\"#f0f921\"]],\"type\":\"surface\"}],\"table\":[{\"cells\":{\"fill\":{\"color\":\"#EBF0F8\"},\"line\":{\"color\":\"white\"}},\"header\":{\"fill\":{\"color\":\"#C8D4E3\"},\"line\":{\"color\":\"white\"}},\"type\":\"table\"}]},\"layout\":{\"annotationdefaults\":{\"arrowcolor\":\"#2a3f5f\",\"arrowhead\":0,\"arrowwidth\":1},\"autotypenumbers\":\"strict\",\"coloraxis\":{\"colorbar\":{\"outlinewidth\":0,\"ticks\":\"\"}},\"colorscale\":{\"diverging\":[[0,\"#8e0152\"],[0.1,\"#c51b7d\"],[0.2,\"#de77ae\"],[0.3,\"#f1b6da\"],[0.4,\"#fde0ef\"],[0.5,\"#f7f7f7\"],[0.6,\"#e6f5d0\"],[0.7,\"#b8e186\"],[0.8,\"#7fbc41\"],[0.9,\"#4d9221\"],[1,\"#276419\"]],\"sequential\":[[0.0,\"#0d0887\"],[0.1111111111111111,\"#46039f\"],[0.2222222222222222,\"#7201a8\"],[0.3333333333333333,\"#9c179e\"],[0.4444444444444444,\"#bd3786\"],[0.5555555555555556,\"#d8576b\"],[0.6666666666666666,\"#ed7953\"],[0.7777777777777778,\"#fb9f3a\"],[0.8888888888888888,\"#fdca26\"],[1.0,\"#f0f921\"]],\"sequentialminus\":[[0.0,\"#0d0887\"],[0.1111111111111111,\"#46039f\"],[0.2222222222222222,\"#7201a8\"],[0.3333333333333333,\"#9c179e\"],[0.4444444444444444,\"#bd3786\"],[0.5555555555555556,\"#d8576b\"],[0.6666666666666666,\"#ed7953\"],[0.7777777777777778,\"#fb9f3a\"],[0.8888888888888888,\"#fdca26\"],[1.0,\"#f0f921\"]]},\"colorway\":[\"#636efa\",\"#EF553B\",\"#00cc96\",\"#ab63fa\",\"#FFA15A\",\"#19d3f3\",\"#FF6692\",\"#B6E880\",\"#FF97FF\",\"#FECB52\"],\"font\":{\"color\":\"#2a3f5f\"},\"geo\":{\"bgcolor\":\"white\",\"lakecolor\":\"white\",\"landcolor\":\"#E5ECF6\",\"showlakes\":true,\"showland\":true,\"subunitcolor\":\"white\"},\"hoverlabel\":{\"align\":\"left\"},\"hovermode\":\"closest\",\"mapbox\":{\"style\":\"light\"},\"paper_bgcolor\":\"white\",\"plot_bgcolor\":\"#E5ECF6\",\"polar\":{\"angularaxis\":{\"gridcolor\":\"white\",\"linecolor\":\"white\",\"ticks\":\"\"},\"bgcolor\":\"#E5ECF6\",\"radialaxis\":{\"gridcolor\":\"white\",\"linecolor\":\"white\",\"ticks\":\"\"}},\"scene\":{\"xaxis\":{\"backgroundcolor\":\"#E5ECF6\",\"gridcolor\":\"white\",\"gridwidth\":2,\"linecolor\":\"white\",\"showbackground\":true,\"ticks\":\"\",\"zerolinecolor\":\"white\"},\"yaxis\":{\"backgroundcolor\":\"#E5ECF6\",\"gridcolor\":\"white\",\"gridwidth\":2,\"linecolor\":\"white\",\"showbackground\":true,\"ticks\":\"\",\"zerolinecolor\":\"white\"},\"zaxis\":{\"backgroundcolor\":\"#E5ECF6\",\"gridcolor\":\"white\",\"gridwidth\":2,\"linecolor\":\"white\",\"showbackground\":true,\"ticks\":\"\",\"zerolinecolor\":\"white\"}},\"shapedefaults\":{\"line\":{\"color\":\"#2a3f5f\"}},\"ternary\":{\"aaxis\":{\"gridcolor\":\"white\",\"linecolor\":\"white\",\"ticks\":\"\"},\"baxis\":{\"gridcolor\":\"white\",\"linecolor\":\"white\",\"ticks\":\"\"},\"bgcolor\":\"#E5ECF6\",\"caxis\":{\"gridcolor\":\"white\",\"linecolor\":\"white\",\"ticks\":\"\"}},\"title\":{\"x\":0.05},\"xaxis\":{\"automargin\":true,\"gridcolor\":\"white\",\"linecolor\":\"white\",\"ticks\":\"\",\"title\":{\"standoff\":15},\"zerolinecolor\":\"white\",\"zerolinewidth\":2},\"yaxis\":{\"automargin\":true,\"gridcolor\":\"white\",\"linecolor\":\"white\",\"ticks\":\"\",\"title\":{\"standoff\":15},\"zerolinecolor\":\"white\",\"zerolinewidth\":2}}},\"xaxis\":{\"anchor\":\"y\",\"domain\":[0.0,1.0],\"title\":{\"text\":\"x\"}},\"yaxis\":{\"anchor\":\"x\",\"domain\":[0.0,1.0],\"title\":{\"text\":\"y\"}},\"legend\":{\"tracegroupgap\":0},\"title\":{\"text\":\"Palabras mas usadas en los tweets positivos de Yummy Venezuela\"},\"barmode\":\"relative\"},                        {\"responsive\": true}                    ).then(function(){\n",
              "                            \n",
              "var gd = document.getElementById('7cd3a2a7-b97a-4d93-9334-fd196cbb0545');\n",
              "var x = new MutationObserver(function (mutations, observer) {{\n",
              "        var display = window.getComputedStyle(gd).display;\n",
              "        if (!display || display === 'none') {{\n",
              "            console.log([gd, 'removed!']);\n",
              "            Plotly.purge(gd);\n",
              "            observer.disconnect();\n",
              "        }}\n",
              "}});\n",
              "\n",
              "// Listen for the removal of the full notebook cells\n",
              "var notebookContainer = gd.closest('#notebook-container');\n",
              "if (notebookContainer) {{\n",
              "    x.observe(notebookContainer, {childList: true});\n",
              "}}\n",
              "\n",
              "// Listen for the clearing of the current output cell\n",
              "var outputEl = gd.closest('.output');\n",
              "if (outputEl) {{\n",
              "    x.observe(outputEl, {childList: true});\n",
              "}}\n",
              "\n",
              "                        })                };                            </script>        </div>\n",
              "</body>\n",
              "</html>"
            ]
          },
          "metadata": {}
        }
      ]
    },
    {
      "cell_type": "code",
      "source": [
        "fig = px.bar(data, title=\"Palabras mas usadas en los tweets negativos de Yummy Venezuela\",x=neg_df['words'], y=neg_df['scores'])\n",
        "fig.show()"
      ],
      "metadata": {
        "colab": {
          "base_uri": "https://localhost:8080/",
          "height": 542
        },
        "id": "wOYTAA2o8ZJe",
        "outputId": "4cc28d37-0683-4a20-f460-84f8624ff9eb"
      },
      "execution_count": 44,
      "outputs": [
        {
          "output_type": "display_data",
          "data": {
            "text/html": [
              "<html>\n",
              "<head><meta charset=\"utf-8\" /></head>\n",
              "<body>\n",
              "    <div>            <script src=\"https://cdnjs.cloudflare.com/ajax/libs/mathjax/2.7.5/MathJax.js?config=TeX-AMS-MML_SVG\"></script><script type=\"text/javascript\">if (window.MathJax) {MathJax.Hub.Config({SVG: {font: \"STIX-Web\"}});}</script>                <script type=\"text/javascript\">window.PlotlyConfig = {MathJaxConfig: 'local'};</script>\n",
              "        <script src=\"https://cdn.plot.ly/plotly-2.8.3.min.js\"></script>                <div id=\"54086dfe-083e-4bc8-ba2f-3435199e3414\" class=\"plotly-graph-div\" style=\"height:525px; width:100%;\"></div>            <script type=\"text/javascript\">                                    window.PLOTLYENV=window.PLOTLYENV || {};                                    if (document.getElementById(\"54086dfe-083e-4bc8-ba2f-3435199e3414\")) {                    Plotly.newPlot(                        \"54086dfe-083e-4bc8-ba2f-3435199e3414\",                        [{\"alignmentgroup\":\"True\",\"hovertemplate\":\"x=%{x}<br>y=%{y}<extra></extra>\",\"legendgroup\":\"\",\"marker\":{\"color\":\"#636efa\",\"pattern\":{\"shape\":\"\"}},\"name\":\"\",\"offsetgroup\":\"\",\"orientation\":\"v\",\"showlegend\":false,\"textposition\":\"auto\",\"x\":[\"yummy\",\"venezuela\",\"delivery\",\"poder\",\"visionario\",\"detrs\",\"httpstcoftuvvxils\",\"yummysuperapp\",\"inversin\",\"pay\",\"incrementar\",\"si\",\"binance\",\"app\",\"httpstcoftuvvetdq\",\"pagos\",\"est\",\"caracas\",\"rides\",\"servicio\",\"pideyummy\",\"pago\",\"sudeban\",\"metavarce\",\"in\",\"qu\",\"to\",\"pedidosya\",\"the\",\"pedido\",\"taxi\",\"empresa\",\"cuentas\",\"integra\",\"tsjvenezuela\",\"taxis\",\"sunddeve\",\"solo\",\"bancarias\",\"entradas\"],\"xaxis\":\"x\",\"y\":[934,854,448,390,390,390,330,72,63,50,48,45,41,40,40,37,36,36,35,33,33,31,31,30,29,29,28,27,26,26,25,24,24,24,23,23,21,21,21,21],\"yaxis\":\"y\",\"type\":\"bar\"}],                        {\"template\":{\"data\":{\"bar\":[{\"error_x\":{\"color\":\"#2a3f5f\"},\"error_y\":{\"color\":\"#2a3f5f\"},\"marker\":{\"line\":{\"color\":\"#E5ECF6\",\"width\":0.5},\"pattern\":{\"fillmode\":\"overlay\",\"size\":10,\"solidity\":0.2}},\"type\":\"bar\"}],\"barpolar\":[{\"marker\":{\"line\":{\"color\":\"#E5ECF6\",\"width\":0.5},\"pattern\":{\"fillmode\":\"overlay\",\"size\":10,\"solidity\":0.2}},\"type\":\"barpolar\"}],\"carpet\":[{\"aaxis\":{\"endlinecolor\":\"#2a3f5f\",\"gridcolor\":\"white\",\"linecolor\":\"white\",\"minorgridcolor\":\"white\",\"startlinecolor\":\"#2a3f5f\"},\"baxis\":{\"endlinecolor\":\"#2a3f5f\",\"gridcolor\":\"white\",\"linecolor\":\"white\",\"minorgridcolor\":\"white\",\"startlinecolor\":\"#2a3f5f\"},\"type\":\"carpet\"}],\"choropleth\":[{\"colorbar\":{\"outlinewidth\":0,\"ticks\":\"\"},\"type\":\"choropleth\"}],\"contour\":[{\"colorbar\":{\"outlinewidth\":0,\"ticks\":\"\"},\"colorscale\":[[0.0,\"#0d0887\"],[0.1111111111111111,\"#46039f\"],[0.2222222222222222,\"#7201a8\"],[0.3333333333333333,\"#9c179e\"],[0.4444444444444444,\"#bd3786\"],[0.5555555555555556,\"#d8576b\"],[0.6666666666666666,\"#ed7953\"],[0.7777777777777778,\"#fb9f3a\"],[0.8888888888888888,\"#fdca26\"],[1.0,\"#f0f921\"]],\"type\":\"contour\"}],\"contourcarpet\":[{\"colorbar\":{\"outlinewidth\":0,\"ticks\":\"\"},\"type\":\"contourcarpet\"}],\"heatmap\":[{\"colorbar\":{\"outlinewidth\":0,\"ticks\":\"\"},\"colorscale\":[[0.0,\"#0d0887\"],[0.1111111111111111,\"#46039f\"],[0.2222222222222222,\"#7201a8\"],[0.3333333333333333,\"#9c179e\"],[0.4444444444444444,\"#bd3786\"],[0.5555555555555556,\"#d8576b\"],[0.6666666666666666,\"#ed7953\"],[0.7777777777777778,\"#fb9f3a\"],[0.8888888888888888,\"#fdca26\"],[1.0,\"#f0f921\"]],\"type\":\"heatmap\"}],\"heatmapgl\":[{\"colorbar\":{\"outlinewidth\":0,\"ticks\":\"\"},\"colorscale\":[[0.0,\"#0d0887\"],[0.1111111111111111,\"#46039f\"],[0.2222222222222222,\"#7201a8\"],[0.3333333333333333,\"#9c179e\"],[0.4444444444444444,\"#bd3786\"],[0.5555555555555556,\"#d8576b\"],[0.6666666666666666,\"#ed7953\"],[0.7777777777777778,\"#fb9f3a\"],[0.8888888888888888,\"#fdca26\"],[1.0,\"#f0f921\"]],\"type\":\"heatmapgl\"}],\"histogram\":[{\"marker\":{\"pattern\":{\"fillmode\":\"overlay\",\"size\":10,\"solidity\":0.2}},\"type\":\"histogram\"}],\"histogram2d\":[{\"colorbar\":{\"outlinewidth\":0,\"ticks\":\"\"},\"colorscale\":[[0.0,\"#0d0887\"],[0.1111111111111111,\"#46039f\"],[0.2222222222222222,\"#7201a8\"],[0.3333333333333333,\"#9c179e\"],[0.4444444444444444,\"#bd3786\"],[0.5555555555555556,\"#d8576b\"],[0.6666666666666666,\"#ed7953\"],[0.7777777777777778,\"#fb9f3a\"],[0.8888888888888888,\"#fdca26\"],[1.0,\"#f0f921\"]],\"type\":\"histogram2d\"}],\"histogram2dcontour\":[{\"colorbar\":{\"outlinewidth\":0,\"ticks\":\"\"},\"colorscale\":[[0.0,\"#0d0887\"],[0.1111111111111111,\"#46039f\"],[0.2222222222222222,\"#7201a8\"],[0.3333333333333333,\"#9c179e\"],[0.4444444444444444,\"#bd3786\"],[0.5555555555555556,\"#d8576b\"],[0.6666666666666666,\"#ed7953\"],[0.7777777777777778,\"#fb9f3a\"],[0.8888888888888888,\"#fdca26\"],[1.0,\"#f0f921\"]],\"type\":\"histogram2dcontour\"}],\"mesh3d\":[{\"colorbar\":{\"outlinewidth\":0,\"ticks\":\"\"},\"type\":\"mesh3d\"}],\"parcoords\":[{\"line\":{\"colorbar\":{\"outlinewidth\":0,\"ticks\":\"\"}},\"type\":\"parcoords\"}],\"pie\":[{\"automargin\":true,\"type\":\"pie\"}],\"scatter\":[{\"marker\":{\"colorbar\":{\"outlinewidth\":0,\"ticks\":\"\"}},\"type\":\"scatter\"}],\"scatter3d\":[{\"line\":{\"colorbar\":{\"outlinewidth\":0,\"ticks\":\"\"}},\"marker\":{\"colorbar\":{\"outlinewidth\":0,\"ticks\":\"\"}},\"type\":\"scatter3d\"}],\"scattercarpet\":[{\"marker\":{\"colorbar\":{\"outlinewidth\":0,\"ticks\":\"\"}},\"type\":\"scattercarpet\"}],\"scattergeo\":[{\"marker\":{\"colorbar\":{\"outlinewidth\":0,\"ticks\":\"\"}},\"type\":\"scattergeo\"}],\"scattergl\":[{\"marker\":{\"colorbar\":{\"outlinewidth\":0,\"ticks\":\"\"}},\"type\":\"scattergl\"}],\"scattermapbox\":[{\"marker\":{\"colorbar\":{\"outlinewidth\":0,\"ticks\":\"\"}},\"type\":\"scattermapbox\"}],\"scatterpolar\":[{\"marker\":{\"colorbar\":{\"outlinewidth\":0,\"ticks\":\"\"}},\"type\":\"scatterpolar\"}],\"scatterpolargl\":[{\"marker\":{\"colorbar\":{\"outlinewidth\":0,\"ticks\":\"\"}},\"type\":\"scatterpolargl\"}],\"scatterternary\":[{\"marker\":{\"colorbar\":{\"outlinewidth\":0,\"ticks\":\"\"}},\"type\":\"scatterternary\"}],\"surface\":[{\"colorbar\":{\"outlinewidth\":0,\"ticks\":\"\"},\"colorscale\":[[0.0,\"#0d0887\"],[0.1111111111111111,\"#46039f\"],[0.2222222222222222,\"#7201a8\"],[0.3333333333333333,\"#9c179e\"],[0.4444444444444444,\"#bd3786\"],[0.5555555555555556,\"#d8576b\"],[0.6666666666666666,\"#ed7953\"],[0.7777777777777778,\"#fb9f3a\"],[0.8888888888888888,\"#fdca26\"],[1.0,\"#f0f921\"]],\"type\":\"surface\"}],\"table\":[{\"cells\":{\"fill\":{\"color\":\"#EBF0F8\"},\"line\":{\"color\":\"white\"}},\"header\":{\"fill\":{\"color\":\"#C8D4E3\"},\"line\":{\"color\":\"white\"}},\"type\":\"table\"}]},\"layout\":{\"annotationdefaults\":{\"arrowcolor\":\"#2a3f5f\",\"arrowhead\":0,\"arrowwidth\":1},\"autotypenumbers\":\"strict\",\"coloraxis\":{\"colorbar\":{\"outlinewidth\":0,\"ticks\":\"\"}},\"colorscale\":{\"diverging\":[[0,\"#8e0152\"],[0.1,\"#c51b7d\"],[0.2,\"#de77ae\"],[0.3,\"#f1b6da\"],[0.4,\"#fde0ef\"],[0.5,\"#f7f7f7\"],[0.6,\"#e6f5d0\"],[0.7,\"#b8e186\"],[0.8,\"#7fbc41\"],[0.9,\"#4d9221\"],[1,\"#276419\"]],\"sequential\":[[0.0,\"#0d0887\"],[0.1111111111111111,\"#46039f\"],[0.2222222222222222,\"#7201a8\"],[0.3333333333333333,\"#9c179e\"],[0.4444444444444444,\"#bd3786\"],[0.5555555555555556,\"#d8576b\"],[0.6666666666666666,\"#ed7953\"],[0.7777777777777778,\"#fb9f3a\"],[0.8888888888888888,\"#fdca26\"],[1.0,\"#f0f921\"]],\"sequentialminus\":[[0.0,\"#0d0887\"],[0.1111111111111111,\"#46039f\"],[0.2222222222222222,\"#7201a8\"],[0.3333333333333333,\"#9c179e\"],[0.4444444444444444,\"#bd3786\"],[0.5555555555555556,\"#d8576b\"],[0.6666666666666666,\"#ed7953\"],[0.7777777777777778,\"#fb9f3a\"],[0.8888888888888888,\"#fdca26\"],[1.0,\"#f0f921\"]]},\"colorway\":[\"#636efa\",\"#EF553B\",\"#00cc96\",\"#ab63fa\",\"#FFA15A\",\"#19d3f3\",\"#FF6692\",\"#B6E880\",\"#FF97FF\",\"#FECB52\"],\"font\":{\"color\":\"#2a3f5f\"},\"geo\":{\"bgcolor\":\"white\",\"lakecolor\":\"white\",\"landcolor\":\"#E5ECF6\",\"showlakes\":true,\"showland\":true,\"subunitcolor\":\"white\"},\"hoverlabel\":{\"align\":\"left\"},\"hovermode\":\"closest\",\"mapbox\":{\"style\":\"light\"},\"paper_bgcolor\":\"white\",\"plot_bgcolor\":\"#E5ECF6\",\"polar\":{\"angularaxis\":{\"gridcolor\":\"white\",\"linecolor\":\"white\",\"ticks\":\"\"},\"bgcolor\":\"#E5ECF6\",\"radialaxis\":{\"gridcolor\":\"white\",\"linecolor\":\"white\",\"ticks\":\"\"}},\"scene\":{\"xaxis\":{\"backgroundcolor\":\"#E5ECF6\",\"gridcolor\":\"white\",\"gridwidth\":2,\"linecolor\":\"white\",\"showbackground\":true,\"ticks\":\"\",\"zerolinecolor\":\"white\"},\"yaxis\":{\"backgroundcolor\":\"#E5ECF6\",\"gridcolor\":\"white\",\"gridwidth\":2,\"linecolor\":\"white\",\"showbackground\":true,\"ticks\":\"\",\"zerolinecolor\":\"white\"},\"zaxis\":{\"backgroundcolor\":\"#E5ECF6\",\"gridcolor\":\"white\",\"gridwidth\":2,\"linecolor\":\"white\",\"showbackground\":true,\"ticks\":\"\",\"zerolinecolor\":\"white\"}},\"shapedefaults\":{\"line\":{\"color\":\"#2a3f5f\"}},\"ternary\":{\"aaxis\":{\"gridcolor\":\"white\",\"linecolor\":\"white\",\"ticks\":\"\"},\"baxis\":{\"gridcolor\":\"white\",\"linecolor\":\"white\",\"ticks\":\"\"},\"bgcolor\":\"#E5ECF6\",\"caxis\":{\"gridcolor\":\"white\",\"linecolor\":\"white\",\"ticks\":\"\"}},\"title\":{\"x\":0.05},\"xaxis\":{\"automargin\":true,\"gridcolor\":\"white\",\"linecolor\":\"white\",\"ticks\":\"\",\"title\":{\"standoff\":15},\"zerolinecolor\":\"white\",\"zerolinewidth\":2},\"yaxis\":{\"automargin\":true,\"gridcolor\":\"white\",\"linecolor\":\"white\",\"ticks\":\"\",\"title\":{\"standoff\":15},\"zerolinecolor\":\"white\",\"zerolinewidth\":2}}},\"xaxis\":{\"anchor\":\"y\",\"domain\":[0.0,1.0],\"title\":{\"text\":\"x\"}},\"yaxis\":{\"anchor\":\"x\",\"domain\":[0.0,1.0],\"title\":{\"text\":\"y\"}},\"legend\":{\"tracegroupgap\":0},\"title\":{\"text\":\"Palabras mas usadas en los tweets negativos de Yummy Venezuela\"},\"barmode\":\"relative\"},                        {\"responsive\": true}                    ).then(function(){\n",
              "                            \n",
              "var gd = document.getElementById('54086dfe-083e-4bc8-ba2f-3435199e3414');\n",
              "var x = new MutationObserver(function (mutations, observer) {{\n",
              "        var display = window.getComputedStyle(gd).display;\n",
              "        if (!display || display === 'none') {{\n",
              "            console.log([gd, 'removed!']);\n",
              "            Plotly.purge(gd);\n",
              "            observer.disconnect();\n",
              "        }}\n",
              "}});\n",
              "\n",
              "// Listen for the removal of the full notebook cells\n",
              "var notebookContainer = gd.closest('#notebook-container');\n",
              "if (notebookContainer) {{\n",
              "    x.observe(notebookContainer, {childList: true});\n",
              "}}\n",
              "\n",
              "// Listen for the clearing of the current output cell\n",
              "var outputEl = gd.closest('.output');\n",
              "if (outputEl) {{\n",
              "    x.observe(outputEl, {childList: true});\n",
              "}}\n",
              "\n",
              "                        })                };                            </script>        </div>\n",
              "</body>\n",
              "</html>"
            ]
          },
          "metadata": {}
        }
      ]
    },
    {
      "cell_type": "markdown",
      "source": [
        "#Conclusiones de la tokenzacion\n",
        "\n",
        "Podemos observar que en los tweets positivos las palabras claves que se repiten comunmente es:\n",
        "\n",
        "*   Yummy\n",
        "*   Venezuela\n",
        "*   App\n",
        "*   Rides\n",
        "\n",
        "En los tweets negativo los mas resaltantes son:\n",
        "\n",
        "*   Yummy\n",
        "*   Venezuela\n",
        "*   Delivery\n",
        "*   Visionario"
      ],
      "metadata": {
        "id": "jDoXJ2KMH2H9"
      }
    },
    {
      "cell_type": "code",
      "source": [
        "neg = negative_tweet.loc[negative_tweet.Tweet.str.contains('delivery')]\n",
        "neg.head()"
      ],
      "metadata": {
        "id": "OI-6DS0N-4gf"
      },
      "execution_count": null,
      "outputs": []
    },
    {
      "cell_type": "code",
      "source": [
        "neg.shape"
      ],
      "metadata": {
        "colab": {
          "base_uri": "https://localhost:8080/"
        },
        "id": "S_t6CpvZCyDo",
        "outputId": "64780da6-fcaf-4d2f-d1de-0650a538e454"
      },
      "execution_count": 63,
      "outputs": [
        {
          "output_type": "execute_result",
          "data": {
            "text/plain": [
              "(27, 8)"
            ]
          },
          "metadata": {},
          "execution_count": 63
        }
      ]
    },
    {
      "cell_type": "markdown",
      "source": [
        "#Aspecto resaltante\n",
        "\n",
        "De los 236 comentarios negativos 27 son relacionados con la palabra delivery"
      ],
      "metadata": {
        "id": "pLHZ9puzIwIQ"
      }
    },
    {
      "cell_type": "code",
      "source": [
        "fig = px.histogram(dt, x=dt[\"Date\"], title=\"Tweets durante durante el tiempo\")\n",
        "fig.update_layout(bargap=0.2)\n",
        "fig.show()"
      ],
      "metadata": {
        "colab": {
          "base_uri": "https://localhost:8080/",
          "height": 542
        },
        "id": "Ql-e5H3fC8Tk",
        "outputId": "a48d363d-ef31-40b0-c2e5-9386971bebfe"
      },
      "execution_count": 64,
      "outputs": [
        {
          "output_type": "display_data",
          "data": {
            "text/html": [
              "<html>\n",
              "<head><meta charset=\"utf-8\" /></head>\n",
              "<body>\n",
              "    <div>            <script src=\"https://cdnjs.cloudflare.com/ajax/libs/mathjax/2.7.5/MathJax.js?config=TeX-AMS-MML_SVG\"></script><script type=\"text/javascript\">if (window.MathJax) {MathJax.Hub.Config({SVG: {font: \"STIX-Web\"}});}</script>                <script type=\"text/javascript\">window.PlotlyConfig = {MathJaxConfig: 'local'};</script>\n",
              "        <script src=\"https://cdn.plot.ly/plotly-2.8.3.min.js\"></script>                <div id=\"f6454b67-ed00-477c-acc8-c81303dee087\" class=\"plotly-graph-div\" style=\"height:525px; width:100%;\"></div>            <script type=\"text/javascript\">                                    window.PLOTLYENV=window.PLOTLYENV || {};                                    if (document.getElementById(\"f6454b67-ed00-477c-acc8-c81303dee087\")) {                    Plotly.newPlot(                        \"f6454b67-ed00-477c-acc8-c81303dee087\",                        [{\"alignmentgroup\":\"True\",\"bingroup\":\"x\",\"hovertemplate\":\"Date=%{x}<br>count=%{y}<extra></extra>\",\"legendgroup\":\"\",\"marker\":{\"color\":\"#636efa\",\"pattern\":{\"shape\":\"\"}},\"name\":\"\",\"offsetgroup\":\"\",\"orientation\":\"v\",\"showlegend\":false,\"x\":[\"2023-02-12T14:43:07+00:00\",\"2023-02-12T14:43:05+00:00\",\"2023-02-12T05:04:54+00:00\",\"2023-02-12T00:38:17+00:00\",\"2023-02-11T21:26:00+00:00\",\"2023-02-10T09:47:15+00:00\",\"2023-02-10T02:49:07+00:00\",\"2023-02-09T20:02:10+00:00\",\"2023-02-09T19:26:48+00:00\",\"2023-02-09T19:23:52+00:00\",\"2023-02-09T19:23:51+00:00\",\"2023-02-09T19:13:04+00:00\",\"2023-02-09T17:17:25+00:00\",\"2023-02-09T16:36:21+00:00\",\"2023-02-09T16:18:42+00:00\",\"2023-02-09T15:18:25+00:00\",\"2023-02-09T14:57:08+00:00\",\"2023-02-09T14:49:30+00:00\",\"2023-02-09T14:35:43+00:00\",\"2023-02-08T19:58:50+00:00\",\"2023-02-08T17:51:10+00:00\",\"2023-02-08T17:02:20+00:00\",\"2023-02-08T13:28:18+00:00\",\"2023-02-08T08:33:17+00:00\",\"2023-02-07T23:07:17+00:00\",\"2023-02-07T22:13:59+00:00\",\"2023-02-07T00:58:17+00:00\",\"2023-02-06T23:56:45+00:00\",\"2023-02-06T22:51:04+00:00\",\"2023-02-04T18:14:15+00:00\",\"2023-02-03T08:42:06+00:00\",\"2023-02-03T08:41:16+00:00\",\"2023-02-03T03:30:12+00:00\",\"2023-02-03T02:47:27+00:00\",\"2023-02-02T10:28:35+00:00\",\"2023-02-01T18:28:44+00:00\",\"2023-02-01T14:45:34+00:00\",\"2023-02-01T00:58:52+00:00\",\"2023-02-01T00:40:40+00:00\",\"2023-01-31T05:34:19+00:00\",\"2023-01-31T03:26:52+00:00\",\"2023-01-30T20:39:24+00:00\",\"2023-01-29T22:23:28+00:00\",\"2023-01-29T21:16:12+00:00\",\"2023-01-29T17:08:57+00:00\",\"2023-01-28T17:14:31+00:00\",\"2023-01-28T00:26:59+00:00\",\"2023-01-27T13:04:26+00:00\",\"2023-01-26T21:19:14+00:00\",\"2023-01-26T20:15:14+00:00\",\"2023-01-25T23:02:38+00:00\",\"2023-01-24T18:55:53+00:00\",\"2023-01-23T21:59:13+00:00\",\"2023-01-23T02:55:23+00:00\",\"2023-01-21T11:17:16+00:00\",\"2023-01-21T04:49:28+00:00\",\"2023-01-20T23:30:00+00:00\",\"2023-01-20T20:53:33+00:00\",\"2023-01-19T21:46:59+00:00\",\"2023-01-19T21:15:10+00:00\",\"2023-01-19T13:56:55+00:00\",\"2023-01-18T12:18:43+00:00\",\"2023-01-17T16:48:25+00:00\",\"2023-01-16T13:37:25+00:00\",\"2023-01-15T21:37:11+00:00\",\"2023-01-15T04:29:39+00:00\",\"2023-01-15T04:27:22+00:00\",\"2023-01-14T22:00:54+00:00\",\"2023-01-13T13:13:50+00:00\",\"2023-01-12T18:26:54+00:00\",\"2023-01-11T05:36:52+00:00\",\"2023-01-10T21:49:19+00:00\",\"2023-01-10T19:07:25+00:00\",\"2023-01-10T17:00:28+00:00\",\"2023-01-10T02:18:42+00:00\",\"2023-01-09T03:00:31+00:00\",\"2023-01-08T19:06:03+00:00\",\"2023-01-06T05:25:43+00:00\",\"2023-01-06T05:12:58+00:00\",\"2023-01-05T17:52:37+00:00\",\"2023-01-04T20:03:39+00:00\",\"2023-01-03T20:36:13+00:00\",\"2023-01-03T19:56:56+00:00\",\"2023-01-03T18:14:25+00:00\",\"2023-01-03T00:11:23+00:00\",\"2023-01-02T21:50:30+00:00\",\"2023-01-02T12:00:00+00:00\",\"2023-01-01T04:00:01+00:00\",\"2022-12-31T21:34:56+00:00\",\"2022-12-31T21:30:30+00:00\",\"2022-12-31T19:11:05+00:00\",\"2022-12-30T18:21:48+00:00\",\"2022-12-30T12:43:28+00:00\",\"2022-12-29T18:50:20+00:00\",\"2022-12-29T02:50:00+00:00\",\"2022-12-28T22:45:30+00:00\",\"2022-12-28T21:10:00+00:00\",\"2022-12-28T12:40:30+00:00\",\"2022-12-28T00:15:30+00:00\",\"2022-12-27T23:29:56+00:00\",\"2022-12-27T23:29:55+00:00\",\"2022-12-27T23:29:55+00:00\",\"2022-12-27T23:21:56+00:00\",\"2022-12-27T23:21:56+00:00\",\"2022-12-27T23:21:55+00:00\",\"2022-12-27T18:11:00+00:00\",\"2022-12-27T15:20:42+00:00\",\"2022-12-27T13:32:33+00:00\",\"2022-12-27T12:00:02+00:00\",\"2022-12-27T11:44:52+00:00\",\"2022-12-27T11:44:51+00:00\",\"2022-12-27T11:44:51+00:00\",\"2022-12-27T05:28:52+00:00\",\"2022-12-27T05:28:52+00:00\",\"2022-12-27T05:28:52+00:00\",\"2022-12-27T01:25:53+00:00\",\"2022-12-27T01:25:53+00:00\",\"2022-12-27T01:25:53+00:00\",\"2022-12-27T01:25:22+00:00\",\"2022-12-27T00:57:28+00:00\",\"2022-12-27T00:44:57+00:00\",\"2022-12-27T00:44:57+00:00\",\"2022-12-27T00:44:50+00:00\",\"2022-12-27T00:00:31+00:00\",\"2022-12-26T23:22:00+00:00\",\"2022-12-26T22:22:30+00:00\",\"2022-12-26T21:57:28+00:00\",\"2022-12-26T21:22:30+00:00\",\"2022-12-26T21:04:11+00:00\",\"2022-12-26T20:33:00+00:00\",\"2022-12-26T20:22:00+00:00\",\"2022-12-26T19:35:02+00:00\",\"2022-12-26T19:22:30+00:00\",\"2022-12-26T19:16:05+00:00\",\"2022-12-26T19:14:56+00:00\",\"2022-12-26T19:00:30+00:00\",\"2022-12-26T18:22:30+00:00\",\"2022-12-26T17:52:10+00:00\",\"2022-12-26T17:45:00+00:00\",\"2022-12-26T17:22:28+00:00\",\"2022-12-26T15:57:28+00:00\",\"2022-12-26T14:25:30+00:00\",\"2022-12-26T09:20:00+00:00\",\"2022-12-26T01:00:01+00:00\",\"2022-12-25T15:15:00+00:00\",\"2022-12-25T09:20:30+00:00\",\"2022-12-24T19:45:54+00:00\",\"2022-12-24T19:45:00+00:00\",\"2022-12-24T09:40:00+00:00\",\"2022-12-23T19:45:00+00:00\",\"2022-12-23T16:30:00+00:00\",\"2022-12-23T13:40:00+00:00\",\"2022-12-23T13:28:01+00:00\",\"2022-12-23T12:34:00+00:00\",\"2022-12-23T12:25:00+00:00\",\"2022-12-23T11:05:00+00:00\",\"2022-12-23T06:00:01+00:00\",\"2022-12-23T01:00:00+00:00\",\"2022-12-22T22:20:00+00:00\",\"2022-12-22T20:55:00+00:00\",\"2022-12-22T20:00:00+00:00\",\"2022-12-22T19:35:00+00:00\",\"2022-12-22T15:59:10+00:00\",\"2022-12-22T13:02:43+00:00\",\"2022-12-22T11:42:57+00:00\",\"2022-12-21T23:00:00+00:00\",\"2022-12-21T22:20:43+00:00\",\"2022-12-21T22:16:58+00:00\",\"2022-12-21T01:33:21+00:00\",\"2022-12-19T14:38:00+00:00\",\"2022-12-18T13:45:00+00:00\",\"2022-12-18T00:13:58+00:00\",\"2022-12-17T23:59:14+00:00\",\"2022-12-16T22:13:45+00:00\",\"2022-12-14T21:34:45+00:00\",\"2022-12-14T00:10:36+00:00\",\"2022-12-13T15:29:32+00:00\",\"2022-12-13T13:08:38+00:00\",\"2022-12-12T23:44:28+00:00\",\"2022-12-12T19:29:19+00:00\",\"2022-12-12T04:09:11+00:00\",\"2022-12-11T04:06:06+00:00\",\"2022-12-09T12:43:53+00:00\",\"2022-12-08T01:37:38+00:00\",\"2022-12-05T22:08:38+00:00\",\"2022-12-01T23:52:51+00:00\",\"2022-11-29T15:30:03+00:00\",\"2022-11-29T14:35:46+00:00\",\"2022-11-28T20:58:42+00:00\",\"2022-11-28T20:43:21+00:00\",\"2022-11-28T19:23:36+00:00\",\"2022-11-28T18:02:02+00:00\",\"2022-11-26T00:47:57+00:00\",\"2022-11-25T23:44:50+00:00\",\"2022-11-25T21:27:50+00:00\",\"2022-11-25T15:07:12+00:00\",\"2022-11-24T00:22:41+00:00\",\"2022-11-23T23:44:36+00:00\",\"2022-11-22T18:21:23+00:00\",\"2022-11-21T23:22:04+00:00\",\"2022-11-21T23:03:14+00:00\",\"2022-11-21T15:34:33+00:00\",\"2022-11-21T01:57:22+00:00\",\"2022-11-20T20:01:54+00:00\",\"2022-11-20T18:47:33+00:00\",\"2022-11-20T18:27:24+00:00\",\"2022-11-19T13:05:52+00:00\",\"2022-11-19T12:41:20+00:00\",\"2022-11-18T21:56:38+00:00\",\"2022-11-18T18:52:15+00:00\",\"2022-11-17T16:29:51+00:00\",\"2022-11-17T04:05:47+00:00\",\"2022-11-14T12:02:41+00:00\",\"2022-11-14T00:37:45+00:00\",\"2022-11-13T21:33:07+00:00\",\"2022-11-13T14:37:11+00:00\",\"2022-11-12T18:28:03+00:00\",\"2022-11-10T23:55:17+00:00\",\"2022-11-10T16:06:55+00:00\",\"2022-11-09T15:57:49+00:00\",\"2022-11-07T14:26:20+00:00\",\"2022-11-07T03:34:45+00:00\",\"2022-11-07T02:40:08+00:00\",\"2022-11-06T21:53:31+00:00\",\"2022-11-05T22:12:28+00:00\",\"2022-11-04T09:04:21+00:00\",\"2022-11-03T20:05:43+00:00\",\"2022-11-03T02:13:08+00:00\",\"2022-11-03T01:02:50+00:00\",\"2022-11-02T01:47:36+00:00\",\"2022-11-02T00:45:34+00:00\",\"2022-11-01T22:44:23+00:00\",\"2022-11-01T20:42:19+00:00\",\"2022-11-01T20:42:06+00:00\",\"2022-11-01T18:50:26+00:00\",\"2022-11-01T13:54:32+00:00\",\"2022-10-31T18:04:38+00:00\",\"2022-10-31T18:00:13+00:00\",\"2022-10-30T16:55:52+00:00\",\"2022-10-29T18:54:23+00:00\",\"2022-10-29T13:30:28+00:00\",\"2022-10-28T00:02:30+00:00\",\"2022-10-27T22:57:58+00:00\",\"2022-10-25T02:49:57+00:00\",\"2022-10-23T16:01:27+00:00\",\"2022-10-22T23:35:25+00:00\",\"2022-10-22T17:29:26+00:00\",\"2022-10-21T23:49:06+00:00\",\"2022-10-21T18:23:17+00:00\",\"2022-10-21T10:42:29+00:00\",\"2022-10-20T16:35:14+00:00\",\"2022-10-20T16:13:43+00:00\",\"2022-10-20T14:25:49+00:00\",\"2022-10-20T03:01:35+00:00\",\"2022-10-19T19:17:18+00:00\",\"2022-10-17T17:29:18+00:00\",\"2022-10-16T23:54:01+00:00\",\"2022-10-16T20:19:13+00:00\",\"2022-10-16T16:43:49+00:00\",\"2022-10-16T13:55:50+00:00\",\"2022-10-16T02:58:14+00:00\",\"2022-10-15T14:39:46+00:00\",\"2022-10-14T21:25:54+00:00\",\"2022-10-14T04:23:23+00:00\",\"2022-10-13T08:00:02+00:00\",\"2022-10-13T01:42:42+00:00\",\"2022-10-12T17:39:17+00:00\",\"2022-10-12T15:53:13+00:00\",\"2022-10-12T03:30:00+00:00\",\"2022-10-11T22:10:16+00:00\",\"2022-10-11T18:32:16+00:00\",\"2022-10-11T14:36:43+00:00\",\"2022-10-11T14:35:23+00:00\",\"2022-10-10T17:56:09+00:00\",\"2022-10-10T08:00:01+00:00\",\"2022-10-07T23:02:03+00:00\",\"2022-10-06T15:41:09+00:00\",\"2022-10-05T13:30:00+00:00\",\"2022-10-05T03:49:14+00:00\",\"2022-10-04T23:29:43+00:00\",\"2022-10-04T23:27:16+00:00\",\"2022-10-04T23:10:13+00:00\",\"2022-10-04T19:30:00+00:00\",\"2022-10-04T18:16:36+00:00\",\"2022-10-04T14:58:46+00:00\",\"2022-10-04T14:38:18+00:00\",\"2022-10-04T14:33:57+00:00\",\"2022-10-04T12:28:41+00:00\",\"2022-10-03T20:03:27+00:00\",\"2022-10-03T18:36:03+00:00\",\"2022-10-03T14:20:13+00:00\",\"2022-10-03T05:31:13+00:00\",\"2022-10-03T05:00:01+00:00\",\"2022-10-03T01:51:41+00:00\",\"2022-10-03T01:45:11+00:00\",\"2022-10-03T01:30:07+00:00\",\"2022-10-03T01:18:18+00:00\",\"2022-10-03T01:14:01+00:00\",\"2022-10-02T19:28:42+00:00\",\"2022-10-02T17:34:13+00:00\",\"2022-10-02T17:33:59+00:00\",\"2022-10-02T17:20:00+00:00\",\"2022-10-02T13:20:00+00:00\",\"2022-10-01T17:27:11+00:00\",\"2022-10-01T17:27:07+00:00\",\"2022-10-01T17:23:55+00:00\",\"2022-10-01T16:55:51+00:00\",\"2022-10-01T13:05:37+00:00\",\"2022-10-01T13:00:03+00:00\",\"2022-10-01T09:01:43+00:00\",\"2022-10-01T01:36:40+00:00\",\"2022-10-01T01:30:00+00:00\",\"2022-10-01T01:25:51+00:00\",\"2022-09-30T22:06:40+00:00\",\"2022-09-30T22:06:13+00:00\",\"2022-09-30T20:58:40+00:00\",\"2022-09-30T20:01:49+00:00\",\"2022-09-30T16:40:00+00:00\",\"2022-09-30T15:58:19+00:00\",\"2022-09-30T15:50:33+00:00\",\"2022-09-30T14:00:00+00:00\",\"2022-09-30T12:40:00+00:00\",\"2022-09-30T12:03:01+00:00\",\"2022-09-30T11:42:00+00:00\",\"2022-09-30T09:18:33+00:00\",\"2022-09-30T05:41:00+00:00\",\"2022-09-30T03:00:00+00:00\",\"2022-09-30T02:09:08+00:00\",\"2022-09-30T01:11:09+00:00\",\"2022-09-30T00:50:02+00:00\",\"2022-09-30T00:30:06+00:00\",\"2022-09-30T00:29:30+00:00\",\"2022-09-29T23:03:47+00:00\",\"2022-09-29T22:42:51+00:00\",\"2022-09-29T22:02:01+00:00\",\"2022-09-29T21:12:19+00:00\",\"2022-09-29T21:04:59+00:00\",\"2022-09-29T20:03:48+00:00\",\"2022-09-29T20:01:15+00:00\",\"2022-09-29T19:45:00+00:00\",\"2022-09-29T19:01:32+00:00\",\"2022-09-29T16:17:40+00:00\",\"2022-09-29T16:04:55+00:00\",\"2022-09-29T15:21:26+00:00\",\"2022-09-29T14:50:44+00:00\",\"2022-09-29T14:32:44+00:00\",\"2022-09-29T14:19:45+00:00\",\"2022-09-29T13:30:27+00:00\",\"2022-09-29T13:27:20+00:00\",\"2022-09-29T13:11:57+00:00\",\"2022-09-29T12:26:02+00:00\",\"2022-09-29T12:23:52+00:00\",\"2022-09-29T12:23:36+00:00\",\"2022-09-29T12:16:33+00:00\",\"2022-09-29T12:07:26+00:00\",\"2022-09-29T11:50:28+00:00\",\"2022-09-29T11:36:12+00:00\",\"2022-09-29T10:54:00+00:00\",\"2022-09-29T09:45:12+00:00\",\"2022-09-29T05:00:10+00:00\",\"2022-09-29T03:45:26+00:00\",\"2022-09-29T02:20:56+00:00\",\"2022-09-29T01:14:57+00:00\",\"2022-09-29T00:35:47+00:00\",\"2022-09-29T00:34:45+00:00\",\"2022-09-29T00:33:41+00:00\",\"2022-09-29T00:20:26+00:00\",\"2022-09-29T00:12:36+00:00\",\"2022-09-28T23:59:54+00:00\",\"2022-09-28T23:23:44+00:00\",\"2022-09-28T23:22:26+00:00\",\"2022-09-28T23:05:56+00:00\",\"2022-09-28T22:54:38+00:00\",\"2022-09-28T22:54:32+00:00\",\"2022-09-28T22:48:15+00:00\",\"2022-09-28T22:31:50+00:00\",\"2022-09-28T22:25:06+00:00\",\"2022-09-28T21:30:10+00:00\",\"2022-09-28T20:57:25+00:00\",\"2022-09-28T20:39:37+00:00\",\"2022-09-28T20:10:55+00:00\",\"2022-09-28T20:10:00+00:00\",\"2022-09-28T20:07:15+00:00\",\"2022-09-28T20:04:25+00:00\",\"2022-09-28T19:50:11+00:00\",\"2022-09-28T19:40:29+00:00\",\"2022-09-28T19:24:03+00:00\",\"2022-09-28T19:22:25+00:00\",\"2022-09-28T19:16:24+00:00\",\"2022-09-28T18:47:18+00:00\",\"2022-09-28T18:23:04+00:00\",\"2022-09-28T18:14:23+00:00\",\"2022-09-28T17:18:22+00:00\",\"2022-09-28T16:59:59+00:00\",\"2022-09-28T16:55:47+00:00\",\"2022-09-28T15:56:04+00:00\",\"2022-09-28T15:24:17+00:00\",\"2022-09-28T15:06:00+00:00\",\"2022-09-28T14:56:39+00:00\",\"2022-09-28T14:56:19+00:00\",\"2022-09-28T14:49:12+00:00\",\"2022-09-27T15:26:41+00:00\",\"2022-09-27T00:59:20+00:00\",\"2022-09-26T22:29:44+00:00\",\"2022-09-26T20:08:37+00:00\",\"2022-09-26T18:18:12+00:00\",\"2022-09-26T17:26:04+00:00\",\"2022-09-26T02:08:07+00:00\",\"2022-09-25T17:06:31+00:00\",\"2022-09-25T00:05:06+00:00\",\"2022-09-24T03:09:00+00:00\",\"2022-09-24T02:28:19+00:00\",\"2022-09-23T16:20:00+00:00\",\"2022-09-22T20:52:08+00:00\",\"2022-09-22T19:49:46+00:00\",\"2022-09-22T13:25:00+00:00\",\"2022-09-21T12:35:00+00:00\",\"2022-09-20T17:14:24+00:00\",\"2022-09-20T16:40:00+00:00\",\"2022-09-20T15:17:18+00:00\",\"2022-09-20T14:47:23+00:00\",\"2022-09-20T12:10:00+00:00\",\"2022-09-20T03:15:00+00:00\",\"2022-09-20T01:50:00+00:00\",\"2022-09-20T00:12:48+00:00\",\"2022-09-20T00:05:00+00:00\",\"2022-09-19T23:44:12+00:00\",\"2022-09-19T23:27:55+00:00\",\"2022-09-19T22:25:00+00:00\",\"2022-09-19T22:22:33+00:00\",\"2022-09-19T22:21:23+00:00\",\"2022-09-19T21:40:19+00:00\",\"2022-09-19T21:29:00+00:00\",\"2022-09-19T20:08:41+00:00\",\"2022-09-19T16:43:27+00:00\",\"2022-09-19T15:19:50+00:00\",\"2022-09-19T01:39:21+00:00\",\"2022-09-18T22:49:36+00:00\",\"2022-09-18T22:22:35+00:00\",\"2022-09-17T13:51:15+00:00\",\"2022-09-17T01:04:21+00:00\",\"2022-09-16T22:37:32+00:00\",\"2022-09-16T20:34:57+00:00\",\"2022-09-15T19:20:45+00:00\",\"2022-09-15T09:55:50+00:00\",\"2022-09-13T19:24:39+00:00\",\"2022-09-13T05:16:30+00:00\",\"2022-09-12T23:55:11+00:00\",\"2022-09-12T21:23:24+00:00\",\"2022-09-12T17:36:13+00:00\",\"2022-09-12T15:43:57+00:00\",\"2022-09-12T13:51:21+00:00\",\"2022-09-12T13:51:05+00:00\",\"2022-09-12T11:58:25+00:00\",\"2022-09-12T01:16:41+00:00\",\"2022-09-12T01:08:26+00:00\",\"2022-09-11T10:57:48+00:00\",\"2022-09-09T22:26:53+00:00\",\"2022-09-08T22:20:34+00:00\",\"2022-09-07T19:29:21+00:00\",\"2022-09-07T15:52:03+00:00\",\"2022-09-07T01:35:34+00:00\",\"2022-09-05T14:17:46+00:00\",\"2022-09-05T03:45:25+00:00\",\"2022-09-05T02:40:41+00:00\",\"2022-09-05T01:02:00+00:00\",\"2022-09-05T01:01:03+00:00\",\"2022-09-04T20:57:01+00:00\",\"2022-09-04T19:02:54+00:00\",\"2022-09-04T18:46:38+00:00\",\"2022-09-04T17:25:40+00:00\",\"2022-09-03T14:24:06+00:00\",\"2022-09-02T01:35:37+00:00\",\"2022-09-01T18:24:42+00:00\",\"2022-08-31T21:50:02+00:00\",\"2022-08-31T02:12:06+00:00\",\"2022-08-30T23:51:04+00:00\",\"2022-08-30T18:18:10+00:00\",\"2022-08-28T23:53:33+00:00\",\"2022-08-28T22:39:18+00:00\",\"2022-08-28T21:41:43+00:00\",\"2022-08-28T03:18:06+00:00\",\"2022-08-28T01:31:05+00:00\",\"2022-08-26T17:18:52+00:00\",\"2022-08-26T12:19:18+00:00\",\"2022-08-26T01:05:18+00:00\",\"2022-08-25T02:29:50+00:00\",\"2022-08-24T17:42:20+00:00\",\"2022-08-24T17:18:12+00:00\",\"2022-08-24T02:42:15+00:00\",\"2022-08-24T00:12:14+00:00\",\"2022-08-23T17:56:49+00:00\",\"2022-08-22T16:26:21+00:00\",\"2022-08-22T14:34:09+00:00\",\"2022-08-22T13:50:38+00:00\",\"2022-08-21T23:59:32+00:00\",\"2022-08-21T18:14:34+00:00\",\"2022-08-21T14:37:33+00:00\",\"2022-08-21T13:54:27+00:00\",\"2022-08-21T07:15:07+00:00\",\"2022-08-21T01:05:51+00:00\",\"2022-08-21T00:17:15+00:00\",\"2022-08-20T21:15:00+00:00\",\"2022-08-20T18:18:25+00:00\",\"2022-08-20T11:03:11+00:00\",\"2022-08-20T03:52:20+00:00\",\"2022-08-20T01:08:39+00:00\",\"2022-08-19T23:42:50+00:00\",\"2022-08-19T20:10:43+00:00\",\"2022-08-18T16:57:01+00:00\",\"2022-08-18T16:40:41+00:00\",\"2022-08-18T15:45:18+00:00\",\"2022-08-17T20:05:00+00:00\",\"2022-08-17T00:16:00+00:00\",\"2022-08-16T22:26:49+00:00\",\"2022-08-16T21:16:48+00:00\",\"2022-08-16T15:59:53+00:00\",\"2022-08-16T00:04:06+00:00\",\"2022-08-15T00:00:35+00:00\",\"2022-08-14T00:55:52+00:00\",\"2022-08-13T16:32:35+00:00\",\"2022-08-12T17:53:13+00:00\",\"2022-08-12T17:49:55+00:00\",\"2022-08-12T17:48:10+00:00\",\"2022-08-12T15:30:01+00:00\",\"2022-08-10T18:57:00+00:00\",\"2022-08-10T13:33:16+00:00\",\"2022-08-10T00:00:40+00:00\",\"2022-08-09T22:25:00+00:00\",\"2022-08-09T21:25:01+00:00\",\"2022-08-09T21:01:03+00:00\",\"2022-08-09T12:12:55+00:00\",\"2022-08-08T18:00:01+00:00\",\"2022-08-07T18:32:07+00:00\",\"2022-08-07T00:00:32+00:00\",\"2022-08-06T23:28:23+00:00\",\"2022-08-04T16:39:27+00:00\",\"2022-08-04T02:50:21+00:00\",\"2022-08-03T12:13:02+00:00\",\"2022-08-03T10:11:00+00:00\",\"2022-08-02T20:16:38+00:00\",\"2022-08-02T19:00:00+00:00\",\"2022-08-02T17:09:17+00:00\",\"2022-08-02T12:44:26+00:00\",\"2022-08-02T11:45:58+00:00\",\"2022-08-02T02:18:31+00:00\",\"2022-08-02T01:24:51+00:00\",\"2022-08-01T23:23:27+00:00\",\"2022-08-01T23:09:46+00:00\",\"2022-08-01T23:02:54+00:00\",\"2022-08-01T22:59:38+00:00\",\"2022-08-01T22:49:54+00:00\",\"2022-08-01T22:38:38+00:00\",\"2022-08-01T22:36:16+00:00\",\"2022-08-01T22:05:23+00:00\",\"2022-08-01T20:00:21+00:00\",\"2022-08-01T17:09:15+00:00\",\"2022-08-01T13:00:40+00:00\",\"2022-08-01T12:54:30+00:00\",\"2022-08-01T12:31:21+00:00\",\"2022-08-01T11:51:18+00:00\",\"2022-08-01T11:16:10+00:00\",\"2022-08-01T11:15:03+00:00\",\"2022-08-01T08:31:54+00:00\",\"2022-08-01T07:17:18+00:00\",\"2022-08-01T07:12:23+00:00\",\"2022-08-01T06:41:53+00:00\",\"2022-08-01T05:42:11+00:00\",\"2022-08-01T05:41:40+00:00\",\"2022-08-01T04:27:24+00:00\",\"2022-08-01T02:02:46+00:00\",\"2022-07-31T20:33:32+00:00\",\"2022-07-30T17:09:02+00:00\",\"2022-07-30T00:32:34+00:00\",\"2022-07-29T21:43:48+00:00\",\"2022-07-28T21:50:36+00:00\",\"2022-07-28T18:44:48+00:00\",\"2022-07-28T03:00:00+00:00\",\"2022-07-27T23:13:16+00:00\",\"2022-07-27T15:09:17+00:00\",\"2022-07-27T15:06:40+00:00\",\"2022-07-27T15:05:20+00:00\",\"2022-07-27T14:03:03+00:00\",\"2022-07-27T13:03:12+00:00\",\"2022-07-27T12:44:32+00:00\",\"2022-07-27T05:31:39+00:00\",\"2022-07-27T04:08:32+00:00\",\"2022-07-27T03:37:17+00:00\",\"2022-07-27T03:26:54+00:00\",\"2022-07-27T03:13:50+00:00\",\"2022-07-27T03:10:43+00:00\",\"2022-07-27T03:06:23+00:00\",\"2022-07-27T01:03:31+00:00\",\"2022-07-27T00:04:28+00:00\",\"2022-07-26T23:59:52+00:00\",\"2022-07-26T23:51:06+00:00\",\"2022-07-26T23:45:06+00:00\",\"2022-07-26T23:28:42+00:00\",\"2022-07-26T23:15:25+00:00\",\"2022-07-26T23:13:24+00:00\",\"2022-07-26T23:12:04+00:00\",\"2022-07-26T22:54:59+00:00\",\"2022-07-26T22:45:40+00:00\",\"2022-07-26T22:05:43+00:00\",\"2022-07-26T21:58:28+00:00\",\"2022-07-26T14:11:05+00:00\",\"2022-07-25T19:49:14+00:00\",\"2022-07-25T19:44:50+00:00\",\"2022-07-25T19:42:03+00:00\",\"2022-07-25T13:48:29+00:00\",\"2022-07-24T12:09:35+00:00\",\"2022-07-24T02:00:43+00:00\",\"2022-07-22T14:18:15+00:00\",\"2022-07-21T15:17:02+00:00\",\"2022-07-19T13:51:40+00:00\",\"2022-07-19T07:36:20+00:00\",\"2022-07-19T07:36:09+00:00\",\"2022-07-19T07:35:59+00:00\",\"2022-07-19T05:44:15+00:00\",\"2022-07-18T17:09:21+00:00\",\"2022-07-18T11:45:00+00:00\",\"2022-07-18T00:24:19+00:00\",\"2022-07-17T21:11:59+00:00\",\"2022-07-17T17:52:28+00:00\",\"2022-07-17T06:49:52+00:00\",\"2022-07-13T13:09:59+00:00\",\"2022-07-13T01:02:26+00:00\",\"2022-07-12T22:34:25+00:00\",\"2022-07-11T21:34:54+00:00\",\"2022-07-11T15:56:02+00:00\",\"2022-07-10T22:41:21+00:00\",\"2022-07-10T19:13:21+00:00\",\"2022-07-09T12:30:00+00:00\",\"2022-07-08T14:30:00+00:00\",\"2022-07-06T19:15:48+00:00\",\"2022-07-06T15:30:00+00:00\",\"2022-07-04T13:50:36+00:00\",\"2022-07-04T13:00:03+00:00\",\"2022-07-02T18:55:17+00:00\",\"2022-07-02T05:25:48+00:00\",\"2022-07-01T21:14:51+00:00\",\"2022-07-01T15:30:39+00:00\",\"2022-07-01T14:57:37+00:00\",\"2022-07-01T01:43:18+00:00\",\"2022-07-01T01:19:49+00:00\",\"2022-06-30T11:04:31+00:00\",\"2022-06-30T00:49:25+00:00\",\"2022-06-30T00:21:08+00:00\",\"2022-06-29T23:31:38+00:00\",\"2022-06-28T14:16:15+00:00\",\"2022-06-28T03:02:16+00:00\",\"2022-06-25T15:14:07+00:00\",\"2022-06-25T01:13:50+00:00\",\"2022-06-23T12:59:04+00:00\",\"2022-06-23T10:29:49+00:00\",\"2022-06-21T18:03:04+00:00\",\"2022-06-21T12:35:40+00:00\",\"2022-06-21T00:50:22+00:00\",\"2022-06-20T12:20:43+00:00\",\"2022-06-19T18:51:02+00:00\",\"2022-06-19T17:00:20+00:00\",\"2022-06-19T13:30:17+00:00\",\"2022-06-19T11:50:29+00:00\",\"2022-06-19T06:57:48+00:00\",\"2022-06-19T01:30:29+00:00\",\"2022-06-19T00:06:04+00:00\",\"2022-06-18T20:57:41+00:00\",\"2022-06-18T18:44:14+00:00\",\"2022-06-18T18:30:17+00:00\",\"2022-06-18T18:08:44+00:00\",\"2022-06-18T16:04:25+00:00\",\"2022-06-18T13:58:12+00:00\",\"2022-06-18T11:45:02+00:00\",\"2022-06-18T11:07:03+00:00\",\"2022-06-18T09:46:56+00:00\",\"2022-06-18T08:38:53+00:00\",\"2022-06-18T06:06:31+00:00\",\"2022-06-18T05:30:24+00:00\",\"2022-06-18T02:30:18+00:00\",\"2022-06-18T00:06:01+00:00\",\"2022-06-17T23:52:51+00:00\",\"2022-06-17T22:09:54+00:00\",\"2022-06-17T18:29:57+00:00\",\"2022-06-17T17:59:26+00:00\",\"2022-06-17T17:50:48+00:00\",\"2022-06-16T07:50:45+00:00\",\"2022-06-14T23:25:21+00:00\",\"2022-06-13T11:42:47+00:00\",\"2022-06-13T08:15:57+00:00\",\"2022-06-13T06:27:27+00:00\",\"2022-06-12T14:27:04+00:00\",\"2022-06-12T11:30:15+00:00\",\"2022-06-12T02:32:39+00:00\",\"2022-06-11T00:01:19+00:00\",\"2022-06-10T21:42:42+00:00\",\"2022-06-09T23:12:51+00:00\",\"2022-06-08T14:05:57+00:00\",\"2022-06-06T19:02:41+00:00\",\"2022-06-06T18:51:56+00:00\",\"2022-06-05T14:28:31+00:00\",\"2022-06-04T15:11:42+00:00\",\"2022-06-04T12:25:31+00:00\",\"2022-06-04T02:16:32+00:00\",\"2022-06-04T00:46:14+00:00\",\"2022-06-03T20:48:45+00:00\",\"2022-06-03T17:56:34+00:00\",\"2022-06-03T17:54:48+00:00\",\"2022-06-03T17:09:42+00:00\",\"2022-06-03T17:01:31+00:00\",\"2022-06-03T16:38:15+00:00\",\"2022-06-02T18:26:22+00:00\",\"2022-06-02T18:16:36+00:00\",\"2022-06-01T23:19:43+00:00\",\"2022-06-01T22:00:02+00:00\",\"2022-05-31T21:35:25+00:00\",\"2022-05-30T21:51:18+00:00\",\"2022-05-30T14:53:55+00:00\",\"2022-05-29T11:11:10+00:00\",\"2022-05-27T18:22:52+00:00\",\"2022-05-26T12:00:00+00:00\",\"2022-05-25T20:41:05+00:00\",\"2022-05-25T17:01:15+00:00\",\"2022-05-25T06:07:52+00:00\",\"2022-05-24T22:02:53+00:00\",\"2022-05-24T12:35:08+00:00\",\"2022-05-24T00:09:10+00:00\",\"2022-05-23T17:04:49+00:00\",\"2022-05-22T13:32:38+00:00\",\"2022-05-17T22:20:41+00:00\",\"2022-05-17T20:45:30+00:00\",\"2022-05-17T00:27:48+00:00\",\"2022-05-16T19:30:17+00:00\",\"2022-05-16T18:33:53+00:00\",\"2022-05-15T21:09:24+00:00\",\"2022-05-14T20:12:04+00:00\",\"2022-05-12T17:17:16+00:00\",\"2022-05-11T19:36:03+00:00\",\"2022-05-11T17:33:09+00:00\",\"2022-05-11T11:31:21+00:00\",\"2022-05-10T18:44:05+00:00\",\"2022-05-07T04:21:24+00:00\",\"2022-05-06T01:13:33+00:00\",\"2022-05-06T01:04:11+00:00\",\"2022-05-05T21:47:36+00:00\",\"2022-05-04T23:44:16+00:00\",\"2022-05-04T23:37:04+00:00\",\"2022-05-04T22:56:19+00:00\",\"2022-05-03T14:18:43+00:00\",\"2022-04-28T22:46:29+00:00\",\"2022-04-28T22:41:16+00:00\",\"2022-04-28T18:13:24+00:00\",\"2022-04-28T12:27:17+00:00\",\"2022-04-26T22:14:48+00:00\",\"2022-04-26T21:04:14+00:00\",\"2022-04-25T22:57:06+00:00\",\"2022-04-25T00:45:49+00:00\",\"2022-04-23T23:56:18+00:00\",\"2022-04-23T17:01:18+00:00\",\"2022-04-23T00:42:05+00:00\",\"2022-04-22T11:30:00+00:00\",\"2022-04-21T22:13:00+00:00\",\"2022-04-19T17:30:20+00:00\",\"2022-04-19T07:36:03+00:00\",\"2022-04-18T23:43:05+00:00\",\"2022-04-18T19:18:46+00:00\",\"2022-04-18T17:03:56+00:00\",\"2022-04-18T13:29:36+00:00\",\"2022-04-18T04:30:24+00:00\",\"2022-04-17T15:00:00+00:00\",\"2022-04-17T14:22:19+00:00\",\"2022-04-17T14:22:18+00:00\",\"2022-04-17T13:41:00+00:00\",\"2022-04-17T12:07:21+00:00\",\"2022-04-17T12:06:07+00:00\",\"2022-04-17T07:23:16+00:00\",\"2022-04-17T04:26:13+00:00\",\"2022-04-16T19:37:53+00:00\",\"2022-04-15T23:45:39+00:00\",\"2022-04-15T16:35:13+00:00\",\"2022-04-15T16:07:24+00:00\",\"2022-04-15T11:19:12+00:00\",\"2022-04-15T10:00:29+00:00\",\"2022-04-15T07:51:36+00:00\",\"2022-04-15T07:37:24+00:00\",\"2022-04-15T07:20:27+00:00\",\"2022-04-15T07:11:01+00:00\",\"2022-04-15T02:16:14+00:00\",\"2022-04-15T01:49:32+00:00\",\"2022-04-15T01:25:04+00:00\",\"2022-04-15T01:14:02+00:00\",\"2022-04-15T00:20:04+00:00\",\"2022-04-15T00:16:39+00:00\",\"2022-04-14T23:34:11+00:00\",\"2022-04-14T23:19:33+00:00\",\"2022-04-14T23:04:33+00:00\",\"2022-04-14T22:51:51+00:00\",\"2022-04-14T22:41:09+00:00\",\"2022-04-14T22:38:33+00:00\",\"2022-04-14T22:36:52+00:00\",\"2022-04-14T22:33:03+00:00\",\"2022-04-14T16:52:47+00:00\",\"2022-04-14T10:00:27+00:00\",\"2022-04-14T01:05:33+00:00\",\"2022-04-14T01:04:33+00:00\",\"2022-04-14T00:43:39+00:00\",\"2022-04-13T23:32:17+00:00\",\"2022-04-13T15:53:24+00:00\",\"2022-04-13T14:53:32+00:00\",\"2022-04-13T04:16:20+00:00\",\"2022-04-12T23:58:13+00:00\",\"2022-04-12T22:36:23+00:00\",\"2022-04-12T22:14:11+00:00\",\"2022-04-12T21:00:06+00:00\",\"2022-04-12T20:10:50+00:00\",\"2022-04-12T20:07:34+00:00\",\"2022-04-12T20:02:32+00:00\",\"2022-04-12T14:04:51+00:00\",\"2022-04-12T08:45:00+00:00\",\"2022-04-12T08:30:00+00:00\",\"2022-04-11T23:34:08+00:00\",\"2022-04-11T17:57:35+00:00\",\"2022-04-11T13:50:02+00:00\",\"2022-04-11T12:43:54+00:00\",\"2022-04-11T04:40:00+00:00\",\"2022-04-10T21:23:25+00:00\",\"2022-04-10T19:00:00+00:00\",\"2022-04-10T13:42:25+00:00\",\"2022-04-10T13:22:57+00:00\",\"2022-04-08T16:18:21+00:00\",\"2022-04-08T01:39:12+00:00\",\"2022-04-07T15:38:04+00:00\",\"2022-04-06T23:37:08+00:00\",\"2022-04-06T02:30:20+00:00\",\"2022-04-05T22:48:20+00:00\",\"2022-04-05T06:06:24+00:00\",\"2022-04-04T22:38:05+00:00\",\"2022-04-03T00:12:16+00:00\",\"2022-04-02T01:29:30+00:00\",\"2022-04-02T00:06:10+00:00\",\"2022-04-01T21:55:24+00:00\",\"2022-04-01T21:52:01+00:00\",\"2022-04-01T19:57:09+00:00\",\"2022-04-01T17:31:38+00:00\",\"2022-03-31T15:13:19+00:00\",\"2022-03-31T12:53:08+00:00\",\"2022-03-30T03:21:00+00:00\",\"2022-03-29T21:10:00+00:00\",\"2022-03-29T15:20:04+00:00\",\"2022-03-29T11:40:00+00:00\",\"2022-03-29T01:54:09+00:00\",\"2022-03-27T05:52:11+00:00\",\"2022-03-26T02:02:21+00:00\",\"2022-03-25T15:52:51+00:00\",\"2022-03-24T02:48:34+00:00\",\"2022-03-23T22:53:40+00:00\",\"2022-03-23T17:27:29+00:00\",\"2022-03-22T04:32:03+00:00\",\"2022-03-21T07:13:30+00:00\",\"2022-03-19T23:19:59+00:00\",\"2022-03-19T21:58:37+00:00\",\"2022-03-19T21:41:49+00:00\",\"2022-03-19T16:02:25+00:00\",\"2022-03-19T01:07:41+00:00\",\"2022-03-18T16:38:58+00:00\",\"2022-03-17T01:28:15+00:00\",\"2022-03-17T00:38:58+00:00\",\"2022-03-16T22:55:06+00:00\",\"2022-03-16T22:50:03+00:00\",\"2022-03-16T22:45:06+00:00\",\"2022-03-16T22:40:05+00:00\",\"2022-03-16T22:35:07+00:00\",\"2022-03-16T17:54:28+00:00\",\"2022-03-16T17:53:18+00:00\",\"2022-03-16T17:18:41+00:00\",\"2022-03-16T16:51:15+00:00\",\"2022-03-16T15:09:24+00:00\",\"2022-03-16T01:13:46+00:00\",\"2022-03-16T00:00:00+00:00\",\"2022-03-15T23:35:27+00:00\",\"2022-03-15T20:09:39+00:00\",\"2022-03-15T01:07:36+00:00\",\"2022-03-14T15:57:57+00:00\",\"2022-03-10T22:04:26+00:00\",\"2022-03-10T15:47:08+00:00\",\"2022-03-10T00:08:41+00:00\",\"2022-03-09T11:45:57+00:00\",\"2022-03-07T22:49:22+00:00\",\"2022-03-07T21:40:00+00:00\",\"2022-03-07T18:58:52+00:00\",\"2022-03-07T17:32:34+00:00\",\"2022-03-07T03:59:02+00:00\",\"2022-03-07T00:45:14+00:00\",\"2022-03-06T03:58:26+00:00\",\"2022-03-05T00:52:27+00:00\",\"2022-03-04T18:17:00+00:00\",\"2022-03-04T02:50:44+00:00\",\"2022-03-03T19:03:00+00:00\",\"2022-03-02T23:54:34+00:00\",\"2022-03-02T20:45:46+00:00\",\"2022-03-01T23:33:39+00:00\",\"2022-03-01T22:19:30+00:00\",\"2022-03-01T18:52:23+00:00\",\"2022-03-01T18:11:26+00:00\",\"2022-03-01T01:59:16+00:00\",\"2022-02-28T22:13:49+00:00\",\"2022-02-28T01:09:27+00:00\",\"2022-02-27T22:20:27+00:00\",\"2022-02-22T00:50:40+00:00\",\"2022-02-21T22:23:37+00:00\",\"2022-02-20T20:21:53+00:00\",\"2022-02-20T16:01:48+00:00\",\"2022-02-20T06:45:25+00:00\",\"2022-02-20T05:18:22+00:00\",\"2022-02-20T00:11:45+00:00\",\"2022-02-19T22:38:39+00:00\",\"2022-02-19T20:07:29+00:00\",\"2022-02-19T19:57:54+00:00\",\"2022-02-17T21:42:46+00:00\",\"2022-02-17T13:57:09+00:00\",\"2022-02-17T00:52:27+00:00\",\"2022-02-16T23:13:35+00:00\",\"2022-02-16T21:49:54+00:00\",\"2022-02-16T17:18:04+00:00\",\"2022-02-16T12:29:26+00:00\",\"2022-02-15T01:50:12+00:00\",\"2022-02-15T01:49:46+00:00\",\"2022-02-15T00:55:30+00:00\",\"2022-02-13T16:07:38+00:00\",\"2022-02-12T22:18:44+00:00\",\"2022-02-11T18:09:26+00:00\",\"2022-02-11T13:22:16+00:00\",\"2022-02-10T22:18:18+00:00\",\"2022-02-10T20:53:36+00:00\",\"2022-02-09T23:16:44+00:00\",\"2022-02-09T23:04:38+00:00\",\"2022-02-09T12:19:10+00:00\",\"2022-02-08T20:20:48+00:00\",\"2022-02-07T17:14:37+00:00\",\"2022-02-05T19:06:52+00:00\",\"2022-02-03T05:16:23+00:00\",\"2022-02-02T22:29:01+00:00\",\"2022-02-02T00:45:00+00:00\",\"2022-02-01T16:50:00+00:00\",\"2022-02-01T13:01:21+00:00\",\"2022-01-31T11:15:00+00:00\",\"2022-01-30T22:16:08+00:00\",\"2022-01-30T18:56:53+00:00\",\"2022-01-28T21:47:01+00:00\",\"2022-01-28T18:40:00+00:00\",\"2022-01-28T15:49:26+00:00\",\"2022-01-28T13:33:38+00:00\",\"2022-01-28T11:35:00+00:00\",\"2022-01-28T04:07:54+00:00\",\"2022-01-28T01:54:56+00:00\",\"2022-01-27T18:05:00+00:00\",\"2022-01-27T14:47:56+00:00\",\"2022-01-27T11:30:00+00:00\",\"2022-01-26T23:00:38+00:00\",\"2022-01-26T15:55:00+00:00\",\"2022-01-26T14:28:54+00:00\",\"2022-01-26T13:30:23+00:00\",\"2022-01-26T09:30:21+00:00\",\"2022-01-26T01:51:10+00:00\",\"2022-01-26T00:10:56+00:00\",\"2022-01-26T00:01:48+00:00\",\"2022-01-25T22:40:00+00:00\",\"2022-01-25T22:17:09+00:00\",\"2022-01-25T18:08:25+00:00\",\"2022-01-25T15:10:29+00:00\",\"2022-01-25T01:55:18+00:00\",\"2022-01-24T23:10:00+00:00\",\"2022-01-24T21:58:09+00:00\",\"2022-01-24T21:02:49+00:00\",\"2022-01-21T12:12:47+00:00\",\"2022-01-20T12:12:04+00:00\",\"2022-01-20T03:19:51+00:00\",\"2022-01-20T00:47:35+00:00\",\"2022-01-19T22:40:52+00:00\",\"2022-01-18T19:49:07+00:00\",\"2022-01-18T13:06:09+00:00\",\"2022-01-18T03:46:13+00:00\",\"2022-01-18T01:55:21+00:00\",\"2022-01-17T22:46:30+00:00\",\"2022-01-17T21:47:45+00:00\",\"2022-01-15T20:34:20+00:00\",\"2022-01-15T18:54:45+00:00\",\"2022-01-15T15:59:19+00:00\",\"2022-01-15T15:15:25+00:00\",\"2022-01-14T01:09:11+00:00\",\"2022-01-13T22:05:47+00:00\",\"2022-01-13T00:31:21+00:00\",\"2022-01-12T05:28:59+00:00\",\"2022-01-10T23:11:56+00:00\",\"2022-01-10T05:15:10+00:00\",\"2022-01-09T01:46:40+00:00\",\"2022-01-08T00:51:29+00:00\",\"2022-01-07T00:53:27+00:00\",\"2022-01-07T00:30:32+00:00\",\"2022-01-06T21:52:43+00:00\",\"2022-01-06T15:34:52+00:00\",\"2022-01-06T10:50:05+00:00\",\"2022-01-06T02:20:50+00:00\",\"2022-01-06T00:47:03+00:00\",\"2022-01-05T00:48:30+00:00\",\"2022-01-03T13:39:02+00:00\",\"2022-01-03T01:58:25+00:00\",\"2022-01-02T16:40:03+00:00\",\"2022-01-02T06:50:25+00:00\",\"2022-01-02T01:13:45+00:00\",\"2022-01-01T20:45:17+00:00\",\"2021-12-31T22:54:48+00:00\",\"2021-12-30T19:24:29+00:00\",\"2021-12-29T15:48:30+00:00\",\"2021-12-29T10:05:33+00:00\",\"2021-12-28T19:21:37+00:00\",\"2021-12-27T18:03:03+00:00\",\"2021-12-25T21:14:34+00:00\",\"2021-12-25T21:07:01+00:00\",\"2021-12-25T16:02:43+00:00\",\"2021-12-25T13:44:09+00:00\",\"2021-12-25T11:02:53+00:00\",\"2021-12-25T10:57:58+00:00\",\"2021-12-25T10:52:21+00:00\",\"2021-12-25T10:39:37+00:00\",\"2021-12-25T03:43:57+00:00\",\"2021-12-24T22:20:09+00:00\",\"2021-12-24T16:27:25+00:00\",\"2021-12-24T12:57:47+00:00\",\"2021-12-23T22:31:29+00:00\",\"2021-12-23T01:56:54+00:00\",\"2021-12-22T14:59:36+00:00\",\"2021-12-20T21:59:37+00:00\",\"2021-12-19T22:05:57+00:00\",\"2021-12-19T13:04:00+00:00\",\"2021-12-18T15:15:18+00:00\",\"2021-12-18T12:16:01+00:00\",\"2021-12-17T21:15:06+00:00\",\"2021-12-17T09:40:01+00:00\",\"2021-12-17T04:27:39+00:00\",\"2021-12-15T23:34:02+00:00\",\"2021-12-15T14:47:26+00:00\",\"2021-12-14T04:23:46+00:00\",\"2021-12-13T01:42:17+00:00\",\"2021-12-13T00:00:32+00:00\",\"2021-12-11T16:21:51+00:00\",\"2021-12-11T03:09:10+00:00\",\"2021-12-10T10:56:51+00:00\",\"2021-12-10T10:55:03+00:00\",\"2021-12-10T10:51:06+00:00\",\"2021-12-09T20:00:00+00:00\",\"2021-12-09T06:35:30+00:00\",\"2021-12-08T20:27:38+00:00\",\"2021-12-08T00:12:19+00:00\",\"2021-12-07T20:10:44+00:00\",\"2021-12-07T18:02:03+00:00\",\"2021-12-07T17:36:35+00:00\",\"2021-12-06T19:27:23+00:00\",\"2021-12-06T17:43:39+00:00\",\"2021-12-06T11:49:10+00:00\",\"2021-12-03T19:40:44+00:00\",\"2021-12-02T22:53:18+00:00\",\"2021-12-02T21:35:05+00:00\",\"2021-12-01T17:12:51+00:00\",\"2021-12-01T14:14:05+00:00\",\"2021-11-30T19:20:10+00:00\",\"2021-11-30T04:30:15+00:00\",\"2021-11-30T01:48:34+00:00\",\"2021-11-30T01:23:57+00:00\",\"2021-11-30T00:09:00+00:00\",\"2021-11-29T17:26:24+00:00\",\"2021-11-27T06:07:30+00:00\",\"2021-11-26T19:32:27+00:00\",\"2021-11-26T17:41:23+00:00\",\"2021-11-25T18:35:08+00:00\",\"2021-11-25T14:36:07+00:00\",\"2021-11-25T13:34:09+00:00\",\"2021-11-25T03:44:20+00:00\",\"2021-11-25T00:01:55+00:00\",\"2021-11-24T01:12:06+00:00\",\"2021-11-22T14:31:19+00:00\",\"2021-11-21T23:16:30+00:00\",\"2021-11-20T14:13:15+00:00\",\"2021-11-19T22:15:00+00:00\",\"2021-11-19T22:14:37+00:00\",\"2021-11-19T20:02:27+00:00\",\"2021-11-18T22:28:28+00:00\",\"2021-11-18T12:13:21+00:00\",\"2021-11-18T08:47:08+00:00\",\"2021-11-18T06:10:09+00:00\",\"2021-11-18T00:44:03+00:00\",\"2021-11-18T00:16:12+00:00\",\"2021-11-17T21:47:25+00:00\",\"2021-11-17T02:37:44+00:00\",\"2021-11-16T03:01:00+00:00\",\"2021-11-16T02:49:11+00:00\",\"2021-11-15T17:49:05+00:00\",\"2021-11-14T01:49:31+00:00\",\"2021-11-13T19:46:02+00:00\",\"2021-11-13T18:59:52+00:00\",\"2021-11-12T22:33:49+00:00\",\"2021-11-12T21:19:46+00:00\",\"2021-11-12T21:19:07+00:00\",\"2021-11-12T16:01:01+00:00\",\"2021-11-12T15:02:52+00:00\",\"2021-11-12T00:35:00+00:00\",\"2021-11-11T23:25:32+00:00\",\"2021-11-11T20:54:48+00:00\",\"2021-11-11T20:01:04+00:00\",\"2021-11-11T18:15:03+00:00\",\"2021-11-11T16:45:03+00:00\",\"2021-11-11T16:20:11+00:00\",\"2021-11-11T15:53:12+00:00\",\"2021-11-11T15:01:09+00:00\",\"2021-11-11T13:24:18+00:00\",\"2021-11-11T10:24:41+00:00\",\"2021-11-11T03:14:02+00:00\",\"2021-11-10T18:12:06+00:00\",\"2021-11-10T11:48:47+00:00\",\"2021-11-10T10:27:04+00:00\",\"2021-11-10T03:02:29+00:00\",\"2021-11-10T02:06:18+00:00\",\"2021-11-10T02:00:01+00:00\",\"2021-11-10T00:29:19+00:00\",\"2021-11-09T22:49:33+00:00\",\"2021-11-09T22:00:11+00:00\",\"2021-11-09T20:00:17+00:00\",\"2021-11-09T19:24:28+00:00\",\"2021-11-09T19:22:00+00:00\",\"2021-11-08T10:20:00+00:00\",\"2021-11-08T02:10:52+00:00\",\"2021-11-08T01:43:34+00:00\",\"2021-11-07T00:01:13+00:00\",\"2021-11-05T19:07:18+00:00\",\"2021-11-05T17:43:21+00:00\",\"2021-11-05T15:10:36+00:00\",\"2021-11-05T11:12:00+00:00\",\"2021-11-05T01:46:49+00:00\",\"2021-11-05T00:00:08+00:00\",\"2021-11-04T14:23:12+00:00\",\"2021-11-03T12:30:57+00:00\",\"2021-11-02T22:50:56+00:00\",\"2021-11-02T22:43:01+00:00\",\"2021-11-02T21:59:15+00:00\",\"2021-11-02T20:48:27+00:00\",\"2021-11-02T19:08:41+00:00\",\"2021-11-02T18:01:06+00:00\",\"2021-11-02T16:53:35+00:00\",\"2021-11-02T15:58:42+00:00\",\"2021-11-02T15:55:05+00:00\",\"2021-11-02T00:42:12+00:00\",\"2021-11-01T18:02:42+00:00\",\"2021-11-01T16:48:45+00:00\",\"2021-10-31T14:24:50+00:00\",\"2021-10-31T11:57:11+00:00\",\"2021-10-31T10:39:18+00:00\",\"2021-10-31T01:56:49+00:00\",\"2021-10-30T21:45:27+00:00\",\"2021-10-30T19:22:13+00:00\",\"2021-10-30T18:32:28+00:00\",\"2021-10-30T17:55:01+00:00\",\"2021-10-30T16:02:21+00:00\",\"2021-10-30T13:40:11+00:00\",\"2021-10-30T01:06:38+00:00\",\"2021-10-29T19:12:58+00:00\",\"2021-10-29T16:56:31+00:00\",\"2021-10-29T16:25:39+00:00\",\"2021-10-29T13:40:06+00:00\",\"2021-10-29T06:46:47+00:00\",\"2021-10-28T23:42:44+00:00\",\"2021-10-27T14:22:55+00:00\",\"2021-10-26T15:09:16+00:00\",\"2021-10-26T01:18:29+00:00\",\"2021-10-23T23:28:09+00:00\",\"2021-10-23T20:41:40+00:00\",\"2021-10-23T19:54:35+00:00\",\"2021-10-23T07:03:06+00:00\",\"2021-10-22T20:06:19+00:00\",\"2021-10-22T17:54:33+00:00\",\"2021-10-22T09:45:28+00:00\",\"2021-10-22T03:35:39+00:00\",\"2021-10-21T23:15:00+00:00\",\"2021-10-21T23:12:32+00:00\",\"2021-10-21T18:22:35+00:00\",\"2021-10-21T18:00:00+00:00\",\"2021-10-21T15:45:52+00:00\",\"2021-10-21T15:08:32+00:00\",\"2021-10-21T14:28:55+00:00\",\"2021-10-21T13:12:36+00:00\",\"2021-10-20T03:19:06+00:00\",\"2021-10-19T15:34:03+00:00\",\"2021-10-18T21:42:09+00:00\",\"2021-10-17T22:11:03+00:00\",\"2021-10-17T14:09:17+00:00\",\"2021-10-17T13:13:13+00:00\",\"2021-10-15T13:26:53+00:00\",\"2021-10-15T00:32:02+00:00\",\"2021-10-14T15:53:57+00:00\",\"2021-10-14T01:59:45+00:00\",\"2021-10-13T21:59:26+00:00\",\"2021-10-11T23:16:34+00:00\",\"2021-10-11T22:06:43+00:00\",\"2021-10-11T16:31:13+00:00\",\"2021-10-10T23:52:30+00:00\",\"2021-10-10T19:55:06+00:00\",\"2021-10-10T14:20:36+00:00\",\"2021-10-10T12:52:56+00:00\",\"2021-10-08T23:14:27+00:00\",\"2021-10-08T15:09:50+00:00\",\"2021-10-06T15:04:24+00:00\",\"2021-10-04T18:30:46+00:00\",\"2021-10-04T14:06:11+00:00\",\"2021-10-04T10:49:54+00:00\",\"2021-10-04T05:19:36+00:00\",\"2021-10-03T23:48:09+00:00\",\"2021-10-02T13:47:46+00:00\",\"2021-10-01T23:53:22+00:00\",\"2021-10-01T15:13:44+00:00\",\"2021-10-01T15:04:36+00:00\",\"2021-09-29T23:10:59+00:00\",\"2021-09-29T17:27:52+00:00\",\"2021-09-29T14:35:09+00:00\",\"2021-09-28T01:34:02+00:00\",\"2021-09-27T22:50:12+00:00\",\"2021-09-27T15:10:48+00:00\",\"2021-09-24T21:22:28+00:00\",\"2021-09-24T11:51:02+00:00\",\"2021-09-23T23:19:21+00:00\",\"2021-09-20T21:51:38+00:00\",\"2021-09-19T01:30:00+00:00\",\"2021-09-19T00:49:29+00:00\",\"2021-09-18T19:30:00+00:00\",\"2021-09-18T16:30:00+00:00\",\"2021-09-18T14:12:49+00:00\",\"2021-09-18T13:10:00+00:00\",\"2021-09-18T12:10:00+00:00\",\"2021-09-18T06:26:27+00:00\",\"2021-09-18T06:00:00+00:00\",\"2021-09-18T03:10:00+00:00\",\"2021-09-18T01:39:12+00:00\",\"2021-09-18T01:10:00+00:00\",\"2021-09-18T01:00:01+00:00\",\"2021-09-18T00:10:00+00:00\",\"2021-09-17T23:10:57+00:00\",\"2021-09-17T22:10:00+00:00\",\"2021-09-17T22:00:01+00:00\",\"2021-09-17T21:02:28+00:00\",\"2021-09-17T20:55:00+00:00\",\"2021-09-17T19:00:01+00:00\",\"2021-09-17T17:50:56+00:00\",\"2021-09-17T16:24:50+00:00\",\"2021-09-17T16:00:03+00:00\",\"2021-09-17T14:55:00+00:00\",\"2021-09-17T13:50:00+00:00\",\"2021-09-17T11:50:00+00:00\",\"2021-09-17T02:30:00+00:00\",\"2021-09-16T23:30:00+00:00\",\"2021-09-16T20:30:00+00:00\",\"2021-09-16T17:30:00+00:00\",\"2021-09-16T14:30:00+00:00\",\"2021-09-16T11:30:00+00:00\",\"2021-09-16T03:31:39+00:00\",\"2021-09-16T00:28:06+00:00\",\"2021-09-15T23:30:00+00:00\",\"2021-09-15T22:29:41+00:00\",\"2021-09-15T20:30:00+00:00\",\"2021-09-15T20:28:08+00:00\",\"2021-09-15T19:29:43+00:00\",\"2021-09-15T17:30:30+00:00\",\"2021-09-15T14:30:01+00:00\",\"2021-09-15T13:15:00+00:00\",\"2021-09-15T12:15:00+00:00\",\"2021-09-15T11:15:00+00:00\",\"2021-09-14T00:54:07+00:00\",\"2021-09-13T22:00:01+00:00\",\"2021-09-13T19:00:00+00:00\",\"2021-09-13T17:00:00+00:00\",\"2021-09-13T16:00:01+00:00\",\"2021-09-13T14:55:38+00:00\",\"2021-09-13T13:50:00+00:00\",\"2021-09-13T12:50:00+00:00\",\"2021-09-13T11:50:00+00:00\",\"2021-09-12T19:09:00+00:00\",\"2021-09-12T18:31:30+00:00\",\"2021-09-12T16:00:11+00:00\",\"2021-09-12T15:30:00+00:00\",\"2021-09-12T14:00:00+00:00\",\"2021-09-12T13:36:30+00:00\",\"2021-09-12T13:00:01+00:00\",\"2021-09-12T01:26:30+00:00\",\"2021-09-12T00:25:22+00:00\",\"2021-09-11T01:00:08+00:00\",\"2021-09-10T23:45:00+00:00\",\"2021-09-10T20:45:00+00:00\",\"2021-09-10T17:45:00+00:00\",\"2021-09-10T16:57:18+00:00\",\"2021-09-10T14:50:38+00:00\",\"2021-09-10T14:45:41+00:00\",\"2021-09-10T14:45:00+00:00\",\"2021-09-10T06:28:54+00:00\",\"2021-09-10T02:30:00+00:00\",\"2021-09-10T01:29:43+00:00\",\"2021-09-09T23:30:00+00:00\",\"2021-09-09T20:30:00+00:00\",\"2021-09-09T19:24:57+00:00\",\"2021-09-09T18:07:42+00:00\",\"2021-09-09T17:30:00+00:00\",\"2021-09-09T14:30:00+00:00\",\"2021-09-09T13:44:15+00:00\",\"2021-09-09T13:35:00+00:00\",\"2021-09-09T12:35:00+00:00\",\"2021-09-09T11:35:00+00:00\",\"2021-09-09T09:00:01+00:00\",\"2021-09-08T20:30:00+00:00\",\"2021-09-08T17:30:00+00:00\",\"2021-09-08T15:34:02+00:00\",\"2021-09-08T14:30:00+00:00\",\"2021-09-08T13:54:39+00:00\",\"2021-09-08T13:45:00+00:00\",\"2021-09-08T12:45:00+00:00\",\"2021-09-08T11:45:00+00:00\",\"2021-09-08T11:05:11+00:00\",\"2021-09-08T10:45:00+00:00\",\"2021-09-07T21:00:01+00:00\",\"2021-09-07T20:00:00+00:00\",\"2021-09-07T18:00:02+00:00\",\"2021-09-07T17:00:00+00:00\",\"2021-09-07T15:00:02+00:00\",\"2021-09-07T12:55:00+00:00\",\"2021-09-07T11:55:00+00:00\",\"2021-09-07T10:42:26+00:00\",\"2021-09-07T00:35:00+00:00\",\"2021-09-06T23:56:36+00:00\",\"2021-09-04T21:48:51+00:00\",\"2021-09-04T17:52:48+00:00\",\"2021-09-04T17:03:30+00:00\",\"2021-09-03T17:28:15+00:00\",\"2021-09-03T13:00:00+00:00\",\"2021-09-03T04:59:56+00:00\",\"2021-09-03T03:48:42+00:00\",\"2021-09-03T03:18:54+00:00\",\"2021-09-02T23:36:16+00:00\",\"2021-09-02T22:53:36+00:00\",\"2021-09-02T20:23:31+00:00\",\"2021-09-02T15:29:19+00:00\",\"2021-09-02T04:19:08+00:00\",\"2021-09-02T01:17:23+00:00\",\"2021-09-02T01:09:32+00:00\",\"2021-09-01T20:00:00+00:00\",\"2021-09-01T16:51:03+00:00\",\"2021-09-01T16:15:00+00:00\",\"2021-09-01T15:33:35+00:00\",\"2021-09-01T14:11:28+00:00\",\"2021-09-01T11:50:00+00:00\",\"2021-08-31T22:10:55+00:00\",\"2021-08-31T15:51:45+00:00\",\"2021-08-31T15:49:34+00:00\",\"2021-08-31T11:12:59+00:00\",\"2021-08-31T07:02:14+00:00\",\"2021-08-31T02:37:38+00:00\",\"2021-08-29T17:12:24+00:00\",\"2021-08-29T01:08:11+00:00\",\"2021-08-28T19:22:24+00:00\",\"2021-08-28T15:05:55+00:00\",\"2021-08-27T23:35:29+00:00\",\"2021-08-27T20:04:08+00:00\",\"2021-08-27T19:50:02+00:00\",\"2021-08-27T19:12:15+00:00\",\"2021-08-27T19:04:18+00:00\",\"2021-08-27T12:29:00+00:00\",\"2021-08-27T04:10:01+00:00\",\"2021-08-27T03:52:48+00:00\",\"2021-08-26T21:58:07+00:00\",\"2021-08-26T21:57:00+00:00\",\"2021-08-26T20:40:03+00:00\",\"2021-08-26T19:47:08+00:00\",\"2021-08-26T15:02:37+00:00\",\"2021-08-26T13:50:05+00:00\",\"2021-08-26T11:36:46+00:00\",\"2021-08-26T07:50:02+00:00\",\"2021-08-26T00:10:02+00:00\",\"2021-08-25T20:35:43+00:00\",\"2021-08-25T19:01:10+00:00\",\"2021-08-25T18:15:00+00:00\",\"2021-08-25T17:05:46+00:00\",\"2021-08-25T16:49:21+00:00\",\"2021-08-25T15:57:00+00:00\",\"2021-08-25T15:48:37+00:00\",\"2021-08-25T12:54:00+00:00\",\"2021-08-25T12:45:44+00:00\",\"2021-08-25T03:25:28+00:00\",\"2021-08-25T00:27:46+00:00\",\"2021-08-25T00:25:02+00:00\",\"2021-08-25T00:22:06+00:00\",\"2021-08-25T00:14:40+00:00\",\"2021-08-24T23:46:21+00:00\",\"2021-08-24T21:02:37+00:00\",\"2021-08-24T00:40:12+00:00\",\"2021-08-22T21:30:22+00:00\",\"2021-08-20T12:12:44+00:00\",\"2021-08-19T17:17:20+00:00\",\"2021-08-19T00:44:59+00:00\",\"2021-08-18T22:40:01+00:00\",\"2021-08-18T19:50:57+00:00\",\"2021-08-18T16:57:00+00:00\",\"2021-08-18T02:29:50+00:00\",\"2021-08-17T20:28:01+00:00\",\"2021-08-17T16:54:00+00:00\",\"2021-08-17T02:46:51+00:00\",\"2021-08-16T17:00:01+00:00\",\"2021-08-16T15:04:01+00:00\",\"2021-08-16T11:14:05+00:00\",\"2021-08-15T23:27:37+00:00\",\"2021-08-15T22:51:00+00:00\",\"2021-08-15T18:18:01+00:00\",\"2021-08-14T17:32:01+00:00\",\"2021-08-14T15:57:00+00:00\",\"2021-08-14T14:33:13+00:00\",\"2021-08-13T17:00:00+00:00\",\"2021-08-13T14:16:01+00:00\",\"2021-08-13T03:56:01+00:00\",\"2021-08-12T23:00:26+00:00\",\"2021-08-12T14:50:41+00:00\",\"2021-08-12T13:35:56+00:00\",\"2021-08-12T12:12:01+00:00\",\"2021-08-12T12:00:11+00:00\",\"2021-08-12T00:48:01+00:00\",\"2021-08-11T19:34:37+00:00\",\"2021-08-11T16:47:49+00:00\",\"2021-08-11T16:18:00+00:00\",\"2021-08-11T16:16:42+00:00\",\"2021-08-11T16:02:15+00:00\",\"2021-08-11T15:51:05+00:00\",\"2021-08-11T13:59:38+00:00\",\"2021-08-11T12:52:19+00:00\",\"2021-08-11T11:47:35+00:00\",\"2021-08-11T09:04:00+00:00\",\"2021-08-11T08:00:36+00:00\",\"2021-08-11T04:14:46+00:00\",\"2021-08-11T02:15:38+00:00\",\"2021-08-11T02:15:35+00:00\",\"2021-08-11T02:10:21+00:00\",\"2021-08-11T01:55:33+00:00\",\"2021-08-11T01:38:13+00:00\",\"2021-08-11T01:23:38+00:00\",\"2021-08-11T01:21:44+00:00\",\"2021-08-11T01:18:23+00:00\",\"2021-08-11T00:51:00+00:00\",\"2021-08-11T00:20:07+00:00\",\"2021-08-11T00:12:31+00:00\",\"2021-08-10T18:40:01+00:00\",\"2021-08-10T16:57:00+00:00\",\"2021-08-09T18:10:04+00:00\",\"2021-08-09T18:01:43+00:00\",\"2021-08-09T16:11:00+00:00\",\"2021-08-07T13:34:39+00:00\",\"2021-08-05T17:00:00+00:00\",\"2021-08-04T16:57:00+00:00\",\"2021-08-03T16:12:00+00:00\",\"2021-08-02T23:41:11+00:00\",\"2021-08-02T21:11:48+00:00\",\"2021-08-02T03:30:24+00:00\",\"2021-08-01T23:01:31+00:00\",\"2021-08-01T21:52:22+00:00\",\"2021-08-01T18:30:22+00:00\",\"2021-08-01T14:01:34+00:00\",\"2021-08-01T09:30:22+00:00\",\"2021-08-01T00:01:26+00:00\",\"2021-07-31T19:30:22+00:00\",\"2021-07-31T15:01:35+00:00\",\"2021-07-31T13:05:59+00:00\",\"2021-07-31T10:30:23+00:00\",\"2021-07-31T01:42:39+00:00\",\"2021-07-31T01:01:25+00:00\",\"2021-07-30T21:03:00+00:00\",\"2021-07-30T20:42:21+00:00\",\"2021-07-30T20:30:16+00:00\",\"2021-07-30T19:23:37+00:00\",\"2021-07-30T18:55:47+00:00\",\"2021-07-30T16:57:00+00:00\",\"2021-07-30T16:23:36+00:00\",\"2021-07-29T23:02:21+00:00\",\"2021-07-29T20:29:29+00:00\",\"2021-07-29T16:18:00+00:00\",\"2021-07-29T12:20:32+00:00\",\"2021-07-28T23:43:23+00:00\",\"2021-07-28T23:40:15+00:00\",\"2021-07-28T16:57:00+00:00\",\"2021-07-28T02:52:34+00:00\",\"2021-07-27T23:53:03+00:00\",\"2021-07-27T23:47:08+00:00\",\"2021-07-27T23:37:45+00:00\",\"2021-07-27T16:57:00+00:00\",\"2021-07-27T15:06:40+00:00\",\"2021-07-26T22:21:25+00:00\",\"2021-07-26T21:16:09+00:00\",\"2021-07-26T19:46:19+00:00\",\"2021-07-26T06:05:58+00:00\",\"2021-07-25T20:46:58+00:00\",\"2021-07-25T18:48:00+00:00\",\"2021-07-25T17:00:00+00:00\",\"2021-07-25T00:57:00+00:00\",\"2021-07-25T00:13:40+00:00\",\"2021-07-24T12:27:49+00:00\",\"2021-07-23T23:00:01+00:00\",\"2021-07-23T16:48:00+00:00\",\"2021-07-23T15:43:49+00:00\",\"2021-07-23T00:09:49+00:00\",\"2021-07-22T23:15:37+00:00\",\"2021-07-22T16:57:00+00:00\",\"2021-07-22T13:43:34+00:00\",\"2021-07-22T10:37:42+00:00\",\"2021-07-22T03:59:50+00:00\",\"2021-07-21T23:28:49+00:00\",\"2021-07-21T00:17:49+00:00\",\"2021-07-20T16:57:00+00:00\",\"2021-07-20T16:31:03+00:00\",\"2021-07-20T03:06:03+00:00\",\"2021-07-19T17:04:24+00:00\",\"2021-07-19T16:51:00+00:00\",\"2021-07-19T16:00:03+00:00\",\"2021-07-19T15:13:38+00:00\",\"2021-07-19T11:47:04+00:00\",\"2021-07-19T09:56:16+00:00\",\"2021-07-19T08:52:57+00:00\",\"2021-07-19T06:40:02+00:00\",\"2021-07-19T04:53:07+00:00\",\"2021-07-18T14:04:00+00:00\",\"2021-07-18T13:04:53+00:00\",\"2021-07-18T03:06:27+00:00\",\"2021-07-17T23:14:35+00:00\",\"2021-07-17T20:28:55+00:00\",\"2021-07-17T20:04:00+00:00\",\"2021-07-17T18:24:37+00:00\",\"2021-07-17T17:26:06+00:00\",\"2021-07-17T17:26:04+00:00\",\"2021-07-17T17:15:36+00:00\",\"2021-07-17T16:56:54+00:00\",\"2021-07-17T16:15:09+00:00\",\"2021-07-17T13:04:53+00:00\",\"2021-07-17T08:54:03+00:00\",\"2021-07-17T07:34:09+00:00\",\"2021-07-17T07:31:37+00:00\",\"2021-07-17T06:50:03+00:00\",\"2021-07-17T04:19:39+00:00\",\"2021-07-17T03:39:38+00:00\",\"2021-07-17T03:21:58+00:00\",\"2021-07-17T02:59:29+00:00\",\"2021-07-17T02:45:01+00:00\",\"2021-07-17T00:10:25+00:00\",\"2021-07-16T23:44:20+00:00\",\"2021-07-16T23:31:46+00:00\",\"2021-07-16T23:04:00+00:00\",\"2021-07-16T21:19:27+00:00\",\"2021-07-16T21:04:00+00:00\",\"2021-07-16T19:43:19+00:00\",\"2021-07-16T19:12:36+00:00\",\"2021-07-16T18:55:56+00:00\",\"2021-07-16T17:24:28+00:00\",\"2021-07-16T17:09:17+00:00\",\"2021-07-16T16:45:02+00:00\",\"2021-07-16T16:43:20+00:00\",\"2021-07-16T16:11:52+00:00\",\"2021-07-16T16:00:29+00:00\",\"2021-07-16T15:53:53+00:00\",\"2021-07-16T15:45:34+00:00\",\"2021-07-16T15:33:24+00:00\",\"2021-07-16T15:32:41+00:00\",\"2021-07-16T15:32:41+00:00\",\"2021-07-16T15:31:06+00:00\",\"2021-07-16T15:30:04+00:00\",\"2021-07-16T15:24:04+00:00\",\"2021-07-16T15:21:07+00:00\",\"2021-07-16T15:21:07+00:00\",\"2021-07-16T15:21:05+00:00\",\"2021-07-16T15:21:05+00:00\",\"2021-07-16T15:10:58+00:00\",\"2021-07-16T15:02:36+00:00\",\"2021-07-16T14:57:35+00:00\",\"2021-07-16T14:56:33+00:00\",\"2021-07-16T14:55:39+00:00\",\"2021-07-16T14:54:02+00:00\",\"2021-07-16T14:45:40+00:00\",\"2021-07-16T14:44:04+00:00\",\"2021-07-16T14:10:28+00:00\",\"2021-07-16T14:09:11+00:00\",\"2021-07-16T14:02:03+00:00\",\"2021-07-16T13:56:50+00:00\",\"2021-07-16T13:56:06+00:00\",\"2021-07-16T13:55:14+00:00\",\"2021-07-16T13:37:48+00:00\",\"2021-07-16T13:37:35+00:00\",\"2021-07-16T13:27:43+00:00\",\"2021-07-16T13:26:52+00:00\",\"2021-07-16T13:20:09+00:00\",\"2021-07-16T13:20:07+00:00\",\"2021-07-16T13:20:06+00:00\",\"2021-07-16T13:18:32+00:00\",\"2021-07-16T13:18:29+00:00\",\"2021-07-16T13:18:07+00:00\",\"2021-07-16T13:16:29+00:00\",\"2021-07-16T13:16:05+00:00\",\"2021-07-16T13:15:40+00:00\",\"2021-07-16T13:15:38+00:00\",\"2021-07-16T13:15:36+00:00\",\"2021-07-16T13:12:27+00:00\",\"2021-07-16T13:10:33+00:00\",\"2021-07-16T13:10:22+00:00\",\"2021-07-16T13:09:28+00:00\",\"2021-07-16T13:09:07+00:00\",\"2021-07-16T13:08:07+00:00\",\"2021-07-16T13:07:41+00:00\",\"2021-07-16T13:07:23+00:00\",\"2021-07-16T13:06:38+00:00\",\"2021-07-16T13:05:21+00:00\",\"2021-07-16T13:05:07+00:00\",\"2021-07-16T13:02:06+00:00\",\"2021-07-16T13:02:05+00:00\",\"2021-07-16T13:00:49+00:00\",\"2021-07-15T16:48:00+00:00\",\"2021-07-14T17:00:00+00:00\",\"2021-07-13T16:45:00+00:00\",\"2021-07-12T23:04:00+00:00\",\"2021-07-12T18:56:19+00:00\",\"2021-07-12T16:48:00+00:00\",\"2021-07-12T01:00:00+00:00\",\"2021-07-11T22:48:00+00:00\",\"2021-07-11T13:22:44+00:00\",\"2021-07-10T18:36:00+00:00\",\"2021-07-10T15:36:00+00:00\",\"2021-07-09T23:35:00+00:00\",\"2021-07-09T16:42:00+00:00\",\"2021-07-09T15:36:00+00:00\",\"2021-07-09T15:21:00+00:00\",\"2021-07-09T05:03:28+00:00\",\"2021-07-08T23:04:30+00:00\",\"2021-07-08T18:21:00+00:00\",\"2021-07-08T16:54:00+00:00\",\"2021-07-08T15:08:48+00:00\",\"2021-07-08T13:43:00+00:00\",\"2021-07-07T16:59:03+00:00\",\"2021-07-06T20:38:37+00:00\",\"2021-07-05T18:15:28+00:00\",\"2021-07-05T16:37:26+00:00\",\"2021-07-05T13:30:50+00:00\",\"2021-07-05T13:15:33+00:00\",\"2021-07-04T22:54:03+00:00\",\"2021-07-04T21:30:08+00:00\",\"2021-07-04T20:25:55+00:00\",\"2021-07-04T19:05:04+00:00\",\"2021-07-03T22:40:15+00:00\",\"2021-07-03T20:40:01+00:00\",\"2021-07-03T14:31:28+00:00\",\"2021-07-03T13:24:40+00:00\",\"2021-07-03T01:48:23+00:00\",\"2021-07-03T00:14:08+00:00\",\"2021-07-02T23:48:22+00:00\",\"2021-07-02T21:41:42+00:00\",\"2021-07-02T20:27:37+00:00\",\"2021-07-02T20:00:46+00:00\",\"2021-07-02T18:00:38+00:00\",\"2021-07-01T16:58:46+00:00\",\"2021-07-01T15:32:00+00:00\",\"2021-07-01T13:00:05+00:00\",\"2021-07-01T05:00:01+00:00\",\"2021-07-01T01:59:00+00:00\",\"2021-06-30T21:07:00+00:00\",\"2021-06-30T19:49:21+00:00\",\"2021-06-30T12:56:01+00:00\",\"2021-06-30T01:30:09+00:00\",\"2021-06-29T23:45:25+00:00\",\"2021-06-29T10:06:01+00:00\",\"2021-06-28T23:48:01+00:00\",\"2021-06-28T08:08:01+00:00\",\"2021-06-28T01:10:01+00:00\",\"2021-06-27T16:14:06+00:00\",\"2021-06-27T15:16:26+00:00\",\"2021-06-27T14:54:37+00:00\",\"2021-06-27T14:39:13+00:00\",\"2021-06-27T09:20:01+00:00\",\"2021-06-26T15:03:51+00:00\",\"2021-06-26T14:58:16+00:00\",\"2021-06-26T14:54:27+00:00\",\"2021-06-26T14:15:14+00:00\",\"2021-06-25T23:49:18+00:00\",\"2021-06-25T19:39:02+00:00\",\"2021-06-25T14:29:45+00:00\",\"2021-06-25T12:56:12+00:00\",\"2021-06-25T12:17:46+00:00\",\"2021-06-25T03:18:39+00:00\",\"2021-06-24T15:10:24+00:00\",\"2021-06-24T15:04:28+00:00\",\"2021-06-23T23:40:14+00:00\",\"2021-06-22T23:44:39+00:00\",\"2021-06-21T23:42:36+00:00\",\"2021-06-17T23:56:56+00:00\",\"2021-06-16T23:42:58+00:00\",\"2021-06-16T01:55:11+00:00\",\"2021-06-15T23:54:31+00:00\",\"2021-06-15T20:29:30+00:00\",\"2021-06-15T20:22:00+00:00\",\"2021-06-15T15:13:10+00:00\",\"2021-06-14T23:43:59+00:00\",\"2021-06-14T21:01:58+00:00\",\"2021-06-14T19:24:03+00:00\",\"2021-06-14T15:16:45+00:00\",\"2021-06-14T00:56:28+00:00\",\"2021-06-13T20:53:17+00:00\",\"2021-06-13T20:00:40+00:00\",\"2021-06-12T16:47:01+00:00\",\"2021-06-10T23:46:05+00:00\",\"2021-06-10T23:44:05+00:00\",\"2021-06-10T18:15:20+00:00\",\"2021-06-10T17:15:19+00:00\",\"2021-06-10T15:44:45+00:00\",\"2021-06-10T15:06:40+00:00\",\"2021-06-10T14:17:20+00:00\",\"2021-06-10T13:43:26+00:00\",\"2021-06-10T12:46:39+00:00\",\"2021-06-10T12:40:31+00:00\",\"2021-06-10T12:30:09+00:00\",\"2021-06-10T12:05:32+00:00\",\"2021-06-10T11:20:12+00:00\",\"2021-06-09T23:41:59+00:00\",\"2021-06-09T18:18:34+00:00\",\"2021-06-09T17:08:09+00:00\",\"2021-06-09T16:20:21+00:00\",\"2021-06-09T15:16:45+00:00\",\"2021-06-09T13:05:09+00:00\",\"2021-06-09T11:18:29+00:00\",\"2021-06-08T23:45:51+00:00\",\"2021-06-07T23:36:08+00:00\",\"2021-06-07T17:44:39+00:00\",\"2021-06-07T14:47:33+00:00\",\"2021-06-07T00:18:55+00:00\",\"2021-06-06T21:34:58+00:00\",\"2021-06-06T19:31:50+00:00\",\"2021-06-05T15:05:41+00:00\",\"2021-06-05T15:00:11+00:00\",\"2021-06-05T13:23:31+00:00\",\"2021-06-05T01:50:35+00:00\",\"2021-06-04T22:42:39+00:00\",\"2021-06-04T19:37:48+00:00\",\"2021-06-04T17:27:54+00:00\",\"2021-06-04T11:24:07+00:00\",\"2021-06-03T18:26:49+00:00\",\"2021-06-03T17:15:22+00:00\",\"2021-06-03T15:22:34+00:00\",\"2021-06-03T14:58:58+00:00\",\"2021-06-03T12:01:44+00:00\",\"2021-06-02T23:36:19+00:00\",\"2021-06-02T18:10:58+00:00\",\"2021-06-02T15:30:09+00:00\",\"2021-06-02T14:01:36+00:00\",\"2021-06-02T12:57:56+00:00\",\"2021-06-02T11:58:57+00:00\",\"2021-06-01T23:44:57+00:00\",\"2021-06-01T13:20:15+00:00\",\"2021-06-01T11:34:35+00:00\",\"2021-06-01T03:19:27+00:00\",\"2021-05-31T23:35:43+00:00\",\"2021-05-31T19:12:05+00:00\",\"2021-05-31T18:10:20+00:00\",\"2021-05-31T16:32:05+00:00\",\"2021-05-31T13:31:15+00:00\",\"2021-05-31T11:58:44+00:00\",\"2021-05-30T23:51:57+00:00\",\"2021-05-30T18:44:57+00:00\",\"2021-05-30T00:26:34+00:00\",\"2021-05-29T22:25:06+00:00\",\"2021-05-29T21:26:19+00:00\",\"2021-05-29T19:26:53+00:00\",\"2021-05-29T14:55:40+00:00\",\"2021-05-29T10:27:39+00:00\",\"2021-05-28T23:51:29+00:00\",\"2021-05-28T03:28:36+00:00\",\"2021-05-27T23:41:16+00:00\",\"2021-05-27T17:18:46+00:00\",\"2021-05-27T15:12:42+00:00\",\"2021-05-27T12:41:48+00:00\",\"2021-05-27T11:26:06+00:00\",\"2021-05-27T01:54:00+00:00\",\"2021-05-26T23:52:31+00:00\",\"2021-05-26T23:14:37+00:00\",\"2021-05-26T16:08:35+00:00\",\"2021-05-25T22:51:46+00:00\",\"2021-05-24T23:50:29+00:00\",\"2021-05-24T17:25:49+00:00\",\"2021-05-24T15:13:01+00:00\",\"2021-05-24T13:56:07+00:00\",\"2021-05-24T12:37:16+00:00\",\"2021-05-24T11:16:33+00:00\",\"2021-05-23T18:58:21+00:00\",\"2021-05-23T18:16:38+00:00\",\"2021-05-23T17:02:00+00:00\",\"2021-05-23T16:34:24+00:00\",\"2021-05-23T13:17:40+00:00\",\"2021-05-23T10:07:09+00:00\",\"2021-05-23T00:19:54+00:00\",\"2021-05-22T21:06:09+00:00\",\"2021-05-22T19:41:44+00:00\",\"2021-05-21T23:51:51+00:00\",\"2021-05-21T18:54:01+00:00\",\"2021-05-21T17:22:54+00:00\",\"2021-05-21T14:55:06+00:00\",\"2021-05-21T14:12:35+00:00\",\"2021-05-21T13:24:37+00:00\",\"2021-05-21T12:27:37+00:00\",\"2021-05-21T11:33:02+00:00\",\"2021-05-20T23:45:49+00:00\",\"2021-05-20T18:14:02+00:00\",\"2021-05-20T17:18:52+00:00\",\"2021-05-20T16:13:02+00:00\",\"2021-05-20T15:38:26+00:00\",\"2021-05-20T15:36:32+00:00\",\"2021-05-20T13:41:02+00:00\",\"2021-05-20T12:57:12+00:00\",\"2021-05-20T12:18:32+00:00\",\"2021-05-20T11:40:08+00:00\",\"2021-05-19T18:16:10+00:00\",\"2021-05-19T17:10:38+00:00\",\"2021-05-19T15:14:28+00:00\",\"2021-05-19T14:23:56+00:00\",\"2021-05-19T12:26:46+00:00\",\"2021-05-19T11:17:26+00:00\",\"2021-05-18T15:59:20+00:00\",\"2021-05-18T15:33:01+00:00\",\"2021-05-18T15:20:05+00:00\",\"2021-05-18T14:54:56+00:00\",\"2021-05-18T12:53:15+00:00\",\"2021-05-18T12:02:17+00:00\",\"2021-05-18T11:28:21+00:00\",\"2021-05-18T05:20:00+00:00\",\"2021-05-17T23:52:21+00:00\",\"2021-05-17T23:37:15+00:00\",\"2021-05-17T18:08:31+00:00\",\"2021-05-17T17:30:22+00:00\",\"2021-05-17T14:46:56+00:00\",\"2021-05-17T13:41:42+00:00\",\"2021-05-17T12:00:13+00:00\",\"2021-05-16T22:14:34+00:00\",\"2021-05-16T21:42:00+00:00\",\"2021-05-16T17:43:33+00:00\",\"2021-05-15T17:51:04+00:00\",\"2021-05-15T16:51:32+00:00\",\"2021-05-15T13:25:15+00:00\",\"2021-05-15T03:48:47+00:00\",\"2021-05-14T23:25:53+00:00\",\"2021-05-14T16:44:12+00:00\",\"2021-05-14T16:12:42+00:00\",\"2021-05-14T13:59:19+00:00\",\"2021-05-14T13:08:29+00:00\",\"2021-05-14T11:34:25+00:00\",\"2021-05-14T11:19:25+00:00\",\"2021-05-14T01:02:13+00:00\",\"2021-05-14T00:15:01+00:00\",\"2021-05-13T23:26:26+00:00\",\"2021-05-13T14:59:26+00:00\",\"2021-05-13T12:28:37+00:00\",\"2021-05-13T12:14:01+00:00\",\"2021-05-11T18:30:49+00:00\",\"2021-05-11T17:57:03+00:00\",\"2021-05-11T17:54:25+00:00\",\"2021-05-11T17:34:05+00:00\",\"2021-05-11T17:14:41+00:00\",\"2021-05-10T23:54:02+00:00\",\"2021-05-10T11:24:16+00:00\",\"2021-05-10T00:31:06+00:00\",\"2021-05-10T00:12:42+00:00\",\"2021-05-09T21:25:03+00:00\",\"2021-05-09T19:11:19+00:00\",\"2021-05-08T14:59:23+00:00\",\"2021-05-08T13:43:54+00:00\",\"2021-05-08T13:11:18+00:00\",\"2021-05-07T21:32:14+00:00\",\"2021-05-07T20:45:01+00:00\",\"2021-05-07T19:48:46+00:00\",\"2021-05-07T17:14:24+00:00\",\"2021-05-07T15:23:42+00:00\",\"2021-05-07T13:54:31+00:00\",\"2021-05-07T13:12:58+00:00\",\"2021-05-07T12:09:27+00:00\",\"2021-05-07T11:43:21+00:00\",\"2021-05-06T21:52:53+00:00\",\"2021-05-06T18:52:00+00:00\",\"2021-05-06T18:28:47+00:00\",\"2021-05-06T18:21:41+00:00\",\"2021-05-06T17:51:13+00:00\",\"2021-05-06T17:42:06+00:00\",\"2021-05-06T17:14:08+00:00\",\"2021-05-06T16:54:58+00:00\",\"2021-05-06T15:33:14+00:00\",\"2021-05-06T14:50:48+00:00\",\"2021-05-06T13:58:56+00:00\",\"2021-05-06T13:19:43+00:00\",\"2021-05-06T12:33:41+00:00\",\"2021-05-06T11:50:33+00:00\",\"2021-05-06T00:31:04+00:00\",\"2021-05-05T23:46:39+00:00\",\"2021-05-05T17:23:49+00:00\",\"2021-05-05T15:20:06+00:00\",\"2021-05-05T14:39:54+00:00\",\"2021-05-05T14:14:09+00:00\",\"2021-05-05T13:19:25+00:00\",\"2021-05-05T12:30:15+00:00\",\"2021-05-05T11:49:44+00:00\",\"2021-05-05T11:16:42+00:00\",\"2021-05-05T10:30:00+00:00\",\"2021-05-05T02:56:48+00:00\",\"2021-05-05T00:25:45+00:00\",\"2021-05-04T23:40:17+00:00\",\"2021-05-04T18:46:00+00:00\",\"2021-05-04T18:12:32+00:00\",\"2021-05-04T17:59:45+00:00\",\"2021-05-04T17:28:18+00:00\",\"2021-05-04T15:58:19+00:00\",\"2021-05-04T15:03:38+00:00\",\"2021-05-04T13:28:31+00:00\",\"2021-05-04T11:21:08+00:00\",\"2021-05-04T00:42:31+00:00\",\"2021-05-04T00:34:20+00:00\",\"2021-05-03T17:27:37+00:00\",\"2021-05-03T11:16:18+00:00\",\"2021-05-02T19:58:44+00:00\",\"2021-05-02T19:46:44+00:00\",\"2021-05-02T16:49:45+00:00\",\"2021-05-02T15:55:37+00:00\",\"2021-05-02T13:59:52+00:00\",\"2021-05-02T00:29:24+00:00\",\"2021-05-01T22:22:24+00:00\",\"2021-05-01T19:37:38+00:00\",\"2021-05-01T14:53:39+00:00\",\"2021-05-01T00:47:19+00:00\",\"2021-05-01T00:04:00+00:00\",\"2021-04-30T23:14:54+00:00\",\"2021-04-30T00:17:37+00:00\",\"2021-04-29T18:16:31+00:00\",\"2021-04-29T15:57:00+00:00\",\"2021-04-29T14:27:01+00:00\",\"2021-04-29T14:01:43+00:00\",\"2021-04-29T13:16:59+00:00\",\"2021-04-29T13:16:53+00:00\",\"2021-04-29T12:21:42+00:00\",\"2021-04-29T11:25:17+00:00\",\"2021-04-28T22:13:07+00:00\",\"2021-04-28T18:00:50+00:00\",\"2021-04-28T15:52:18+00:00\",\"2021-04-28T15:00:46+00:00\",\"2021-04-28T14:10:05+00:00\",\"2021-04-28T12:33:19+00:00\",\"2021-04-28T11:22:32+00:00\",\"2021-04-28T05:50:00+00:00\",\"2021-04-27T20:45:47+00:00\",\"2021-04-27T18:06:26+00:00\",\"2021-04-27T17:13:51+00:00\",\"2021-04-27T15:54:13+00:00\",\"2021-04-27T14:54:38+00:00\",\"2021-04-27T13:35:56+00:00\",\"2021-04-27T12:55:59+00:00\",\"2021-04-27T12:29:30+00:00\",\"2021-04-27T12:01:08+00:00\",\"2021-04-27T11:12:35+00:00\",\"2021-04-27T00:15:57+00:00\",\"2021-04-26T23:36:11+00:00\",\"2021-04-26T23:17:44+00:00\",\"2021-04-26T19:02:25+00:00\",\"2021-04-26T15:49:56+00:00\",\"2021-04-26T15:02:38+00:00\",\"2021-04-26T15:00:24+00:00\",\"2021-04-26T13:50:28+00:00\",\"2021-04-26T13:17:16+00:00\",\"2021-04-26T11:17:08+00:00\",\"2021-04-25T23:49:44+00:00\",\"2021-04-25T18:31:57+00:00\",\"2021-04-25T16:20:40+00:00\",\"2021-04-25T15:05:51+00:00\",\"2021-04-25T14:25:53+00:00\",\"2021-04-25T14:02:23+00:00\",\"2021-04-25T13:14:11+00:00\",\"2021-04-24T21:56:13+00:00\",\"2021-04-24T20:51:17+00:00\",\"2021-04-24T20:27:22+00:00\",\"2021-04-24T20:10:11+00:00\",\"2021-04-23T19:45:20+00:00\",\"2021-04-23T19:31:55+00:00\",\"2021-04-23T18:09:03+00:00\",\"2021-04-23T17:36:40+00:00\",\"2021-04-23T14:56:22+00:00\",\"2021-04-23T14:15:32+00:00\",\"2021-04-23T13:43:23+00:00\",\"2021-04-23T12:59:45+00:00\",\"2021-04-23T11:51:38+00:00\",\"2021-04-23T11:15:04+00:00\",\"2021-04-23T00:22:20+00:00\",\"2021-04-22T23:44:31+00:00\",\"2021-04-22T23:22:56+00:00\",\"2021-04-22T18:07:32+00:00\",\"2021-04-22T17:10:36+00:00\",\"2021-04-22T15:37:49+00:00\",\"2021-04-22T15:23:30+00:00\",\"2021-04-22T14:32:54+00:00\"],\"xaxis\":\"x\",\"yaxis\":\"y\",\"type\":\"histogram\"}],                        {\"template\":{\"data\":{\"bar\":[{\"error_x\":{\"color\":\"#2a3f5f\"},\"error_y\":{\"color\":\"#2a3f5f\"},\"marker\":{\"line\":{\"color\":\"#E5ECF6\",\"width\":0.5},\"pattern\":{\"fillmode\":\"overlay\",\"size\":10,\"solidity\":0.2}},\"type\":\"bar\"}],\"barpolar\":[{\"marker\":{\"line\":{\"color\":\"#E5ECF6\",\"width\":0.5},\"pattern\":{\"fillmode\":\"overlay\",\"size\":10,\"solidity\":0.2}},\"type\":\"barpolar\"}],\"carpet\":[{\"aaxis\":{\"endlinecolor\":\"#2a3f5f\",\"gridcolor\":\"white\",\"linecolor\":\"white\",\"minorgridcolor\":\"white\",\"startlinecolor\":\"#2a3f5f\"},\"baxis\":{\"endlinecolor\":\"#2a3f5f\",\"gridcolor\":\"white\",\"linecolor\":\"white\",\"minorgridcolor\":\"white\",\"startlinecolor\":\"#2a3f5f\"},\"type\":\"carpet\"}],\"choropleth\":[{\"colorbar\":{\"outlinewidth\":0,\"ticks\":\"\"},\"type\":\"choropleth\"}],\"contour\":[{\"colorbar\":{\"outlinewidth\":0,\"ticks\":\"\"},\"colorscale\":[[0.0,\"#0d0887\"],[0.1111111111111111,\"#46039f\"],[0.2222222222222222,\"#7201a8\"],[0.3333333333333333,\"#9c179e\"],[0.4444444444444444,\"#bd3786\"],[0.5555555555555556,\"#d8576b\"],[0.6666666666666666,\"#ed7953\"],[0.7777777777777778,\"#fb9f3a\"],[0.8888888888888888,\"#fdca26\"],[1.0,\"#f0f921\"]],\"type\":\"contour\"}],\"contourcarpet\":[{\"colorbar\":{\"outlinewidth\":0,\"ticks\":\"\"},\"type\":\"contourcarpet\"}],\"heatmap\":[{\"colorbar\":{\"outlinewidth\":0,\"ticks\":\"\"},\"colorscale\":[[0.0,\"#0d0887\"],[0.1111111111111111,\"#46039f\"],[0.2222222222222222,\"#7201a8\"],[0.3333333333333333,\"#9c179e\"],[0.4444444444444444,\"#bd3786\"],[0.5555555555555556,\"#d8576b\"],[0.6666666666666666,\"#ed7953\"],[0.7777777777777778,\"#fb9f3a\"],[0.8888888888888888,\"#fdca26\"],[1.0,\"#f0f921\"]],\"type\":\"heatmap\"}],\"heatmapgl\":[{\"colorbar\":{\"outlinewidth\":0,\"ticks\":\"\"},\"colorscale\":[[0.0,\"#0d0887\"],[0.1111111111111111,\"#46039f\"],[0.2222222222222222,\"#7201a8\"],[0.3333333333333333,\"#9c179e\"],[0.4444444444444444,\"#bd3786\"],[0.5555555555555556,\"#d8576b\"],[0.6666666666666666,\"#ed7953\"],[0.7777777777777778,\"#fb9f3a\"],[0.8888888888888888,\"#fdca26\"],[1.0,\"#f0f921\"]],\"type\":\"heatmapgl\"}],\"histogram\":[{\"marker\":{\"pattern\":{\"fillmode\":\"overlay\",\"size\":10,\"solidity\":0.2}},\"type\":\"histogram\"}],\"histogram2d\":[{\"colorbar\":{\"outlinewidth\":0,\"ticks\":\"\"},\"colorscale\":[[0.0,\"#0d0887\"],[0.1111111111111111,\"#46039f\"],[0.2222222222222222,\"#7201a8\"],[0.3333333333333333,\"#9c179e\"],[0.4444444444444444,\"#bd3786\"],[0.5555555555555556,\"#d8576b\"],[0.6666666666666666,\"#ed7953\"],[0.7777777777777778,\"#fb9f3a\"],[0.8888888888888888,\"#fdca26\"],[1.0,\"#f0f921\"]],\"type\":\"histogram2d\"}],\"histogram2dcontour\":[{\"colorbar\":{\"outlinewidth\":0,\"ticks\":\"\"},\"colorscale\":[[0.0,\"#0d0887\"],[0.1111111111111111,\"#46039f\"],[0.2222222222222222,\"#7201a8\"],[0.3333333333333333,\"#9c179e\"],[0.4444444444444444,\"#bd3786\"],[0.5555555555555556,\"#d8576b\"],[0.6666666666666666,\"#ed7953\"],[0.7777777777777778,\"#fb9f3a\"],[0.8888888888888888,\"#fdca26\"],[1.0,\"#f0f921\"]],\"type\":\"histogram2dcontour\"}],\"mesh3d\":[{\"colorbar\":{\"outlinewidth\":0,\"ticks\":\"\"},\"type\":\"mesh3d\"}],\"parcoords\":[{\"line\":{\"colorbar\":{\"outlinewidth\":0,\"ticks\":\"\"}},\"type\":\"parcoords\"}],\"pie\":[{\"automargin\":true,\"type\":\"pie\"}],\"scatter\":[{\"marker\":{\"colorbar\":{\"outlinewidth\":0,\"ticks\":\"\"}},\"type\":\"scatter\"}],\"scatter3d\":[{\"line\":{\"colorbar\":{\"outlinewidth\":0,\"ticks\":\"\"}},\"marker\":{\"colorbar\":{\"outlinewidth\":0,\"ticks\":\"\"}},\"type\":\"scatter3d\"}],\"scattercarpet\":[{\"marker\":{\"colorbar\":{\"outlinewidth\":0,\"ticks\":\"\"}},\"type\":\"scattercarpet\"}],\"scattergeo\":[{\"marker\":{\"colorbar\":{\"outlinewidth\":0,\"ticks\":\"\"}},\"type\":\"scattergeo\"}],\"scattergl\":[{\"marker\":{\"colorbar\":{\"outlinewidth\":0,\"ticks\":\"\"}},\"type\":\"scattergl\"}],\"scattermapbox\":[{\"marker\":{\"colorbar\":{\"outlinewidth\":0,\"ticks\":\"\"}},\"type\":\"scattermapbox\"}],\"scatterpolar\":[{\"marker\":{\"colorbar\":{\"outlinewidth\":0,\"ticks\":\"\"}},\"type\":\"scatterpolar\"}],\"scatterpolargl\":[{\"marker\":{\"colorbar\":{\"outlinewidth\":0,\"ticks\":\"\"}},\"type\":\"scatterpolargl\"}],\"scatterternary\":[{\"marker\":{\"colorbar\":{\"outlinewidth\":0,\"ticks\":\"\"}},\"type\":\"scatterternary\"}],\"surface\":[{\"colorbar\":{\"outlinewidth\":0,\"ticks\":\"\"},\"colorscale\":[[0.0,\"#0d0887\"],[0.1111111111111111,\"#46039f\"],[0.2222222222222222,\"#7201a8\"],[0.3333333333333333,\"#9c179e\"],[0.4444444444444444,\"#bd3786\"],[0.5555555555555556,\"#d8576b\"],[0.6666666666666666,\"#ed7953\"],[0.7777777777777778,\"#fb9f3a\"],[0.8888888888888888,\"#fdca26\"],[1.0,\"#f0f921\"]],\"type\":\"surface\"}],\"table\":[{\"cells\":{\"fill\":{\"color\":\"#EBF0F8\"},\"line\":{\"color\":\"white\"}},\"header\":{\"fill\":{\"color\":\"#C8D4E3\"},\"line\":{\"color\":\"white\"}},\"type\":\"table\"}]},\"layout\":{\"annotationdefaults\":{\"arrowcolor\":\"#2a3f5f\",\"arrowhead\":0,\"arrowwidth\":1},\"autotypenumbers\":\"strict\",\"coloraxis\":{\"colorbar\":{\"outlinewidth\":0,\"ticks\":\"\"}},\"colorscale\":{\"diverging\":[[0,\"#8e0152\"],[0.1,\"#c51b7d\"],[0.2,\"#de77ae\"],[0.3,\"#f1b6da\"],[0.4,\"#fde0ef\"],[0.5,\"#f7f7f7\"],[0.6,\"#e6f5d0\"],[0.7,\"#b8e186\"],[0.8,\"#7fbc41\"],[0.9,\"#4d9221\"],[1,\"#276419\"]],\"sequential\":[[0.0,\"#0d0887\"],[0.1111111111111111,\"#46039f\"],[0.2222222222222222,\"#7201a8\"],[0.3333333333333333,\"#9c179e\"],[0.4444444444444444,\"#bd3786\"],[0.5555555555555556,\"#d8576b\"],[0.6666666666666666,\"#ed7953\"],[0.7777777777777778,\"#fb9f3a\"],[0.8888888888888888,\"#fdca26\"],[1.0,\"#f0f921\"]],\"sequentialminus\":[[0.0,\"#0d0887\"],[0.1111111111111111,\"#46039f\"],[0.2222222222222222,\"#7201a8\"],[0.3333333333333333,\"#9c179e\"],[0.4444444444444444,\"#bd3786\"],[0.5555555555555556,\"#d8576b\"],[0.6666666666666666,\"#ed7953\"],[0.7777777777777778,\"#fb9f3a\"],[0.8888888888888888,\"#fdca26\"],[1.0,\"#f0f921\"]]},\"colorway\":[\"#636efa\",\"#EF553B\",\"#00cc96\",\"#ab63fa\",\"#FFA15A\",\"#19d3f3\",\"#FF6692\",\"#B6E880\",\"#FF97FF\",\"#FECB52\"],\"font\":{\"color\":\"#2a3f5f\"},\"geo\":{\"bgcolor\":\"white\",\"lakecolor\":\"white\",\"landcolor\":\"#E5ECF6\",\"showlakes\":true,\"showland\":true,\"subunitcolor\":\"white\"},\"hoverlabel\":{\"align\":\"left\"},\"hovermode\":\"closest\",\"mapbox\":{\"style\":\"light\"},\"paper_bgcolor\":\"white\",\"plot_bgcolor\":\"#E5ECF6\",\"polar\":{\"angularaxis\":{\"gridcolor\":\"white\",\"linecolor\":\"white\",\"ticks\":\"\"},\"bgcolor\":\"#E5ECF6\",\"radialaxis\":{\"gridcolor\":\"white\",\"linecolor\":\"white\",\"ticks\":\"\"}},\"scene\":{\"xaxis\":{\"backgroundcolor\":\"#E5ECF6\",\"gridcolor\":\"white\",\"gridwidth\":2,\"linecolor\":\"white\",\"showbackground\":true,\"ticks\":\"\",\"zerolinecolor\":\"white\"},\"yaxis\":{\"backgroundcolor\":\"#E5ECF6\",\"gridcolor\":\"white\",\"gridwidth\":2,\"linecolor\":\"white\",\"showbackground\":true,\"ticks\":\"\",\"zerolinecolor\":\"white\"},\"zaxis\":{\"backgroundcolor\":\"#E5ECF6\",\"gridcolor\":\"white\",\"gridwidth\":2,\"linecolor\":\"white\",\"showbackground\":true,\"ticks\":\"\",\"zerolinecolor\":\"white\"}},\"shapedefaults\":{\"line\":{\"color\":\"#2a3f5f\"}},\"ternary\":{\"aaxis\":{\"gridcolor\":\"white\",\"linecolor\":\"white\",\"ticks\":\"\"},\"baxis\":{\"gridcolor\":\"white\",\"linecolor\":\"white\",\"ticks\":\"\"},\"bgcolor\":\"#E5ECF6\",\"caxis\":{\"gridcolor\":\"white\",\"linecolor\":\"white\",\"ticks\":\"\"}},\"title\":{\"x\":0.05},\"xaxis\":{\"automargin\":true,\"gridcolor\":\"white\",\"linecolor\":\"white\",\"ticks\":\"\",\"title\":{\"standoff\":15},\"zerolinecolor\":\"white\",\"zerolinewidth\":2},\"yaxis\":{\"automargin\":true,\"gridcolor\":\"white\",\"linecolor\":\"white\",\"ticks\":\"\",\"title\":{\"standoff\":15},\"zerolinecolor\":\"white\",\"zerolinewidth\":2}}},\"xaxis\":{\"anchor\":\"y\",\"domain\":[0.0,1.0],\"title\":{\"text\":\"Date\"}},\"yaxis\":{\"anchor\":\"x\",\"domain\":[0.0,1.0],\"title\":{\"text\":\"count\"}},\"legend\":{\"tracegroupgap\":0},\"title\":{\"text\":\"Tweets durante durante el tiempo\"},\"barmode\":\"relative\",\"bargap\":0.2},                        {\"responsive\": true}                    ).then(function(){\n",
              "                            \n",
              "var gd = document.getElementById('f6454b67-ed00-477c-acc8-c81303dee087');\n",
              "var x = new MutationObserver(function (mutations, observer) {{\n",
              "        var display = window.getComputedStyle(gd).display;\n",
              "        if (!display || display === 'none') {{\n",
              "            console.log([gd, 'removed!']);\n",
              "            Plotly.purge(gd);\n",
              "            observer.disconnect();\n",
              "        }}\n",
              "}});\n",
              "\n",
              "// Listen for the removal of the full notebook cells\n",
              "var notebookContainer = gd.closest('#notebook-container');\n",
              "if (notebookContainer) {{\n",
              "    x.observe(notebookContainer, {childList: true});\n",
              "}}\n",
              "\n",
              "// Listen for the clearing of the current output cell\n",
              "var outputEl = gd.closest('.output');\n",
              "if (outputEl) {{\n",
              "    x.observe(outputEl, {childList: true});\n",
              "}}\n",
              "\n",
              "                        })                };                            </script>        </div>\n",
              "</body>\n",
              "</html>"
            ]
          },
          "metadata": {}
        }
      ]
    },
    {
      "cell_type": "markdown",
      "source": [
        "#Tweets durante el Tiempo\n",
        "\n",
        "Podemos ver que hay tres picos de comentarios que abarcan desde el 1 de abril de 2021 hasta 1 de febrero de 2023\n",
        "\n",
        "\n",
        "\n",
        "1.   De Julio 1 a Agosto 1 de 2021\n",
        "2.   De Mayo 1 a Junio 1 de 2021\n",
        "3.   De Septiembre 1 a Octubre 1 de 2022\n",
        "\n"
      ],
      "metadata": {
        "id": "mBb66QLrJV70"
      }
    },
    {
      "cell_type": "code",
      "source": [
        "fig = px.histogram(dt, x=positive_tweet[\"Date\"], title=\"Tweets positivos durante el tiempo\")\n",
        "fig.update_layout(bargap=0.2)\n",
        "fig.show()"
      ],
      "metadata": {
        "colab": {
          "base_uri": "https://localhost:8080/",
          "height": 542
        },
        "id": "dbmsxiwiDOTU",
        "outputId": "9d35073f-2ace-4f62-f6a4-1a5dfd924e29"
      },
      "execution_count": 65,
      "outputs": [
        {
          "output_type": "display_data",
          "data": {
            "text/html": [
              "<html>\n",
              "<head><meta charset=\"utf-8\" /></head>\n",
              "<body>\n",
              "    <div>            <script src=\"https://cdnjs.cloudflare.com/ajax/libs/mathjax/2.7.5/MathJax.js?config=TeX-AMS-MML_SVG\"></script><script type=\"text/javascript\">if (window.MathJax) {MathJax.Hub.Config({SVG: {font: \"STIX-Web\"}});}</script>                <script type=\"text/javascript\">window.PlotlyConfig = {MathJaxConfig: 'local'};</script>\n",
              "        <script src=\"https://cdn.plot.ly/plotly-2.8.3.min.js\"></script>                <div id=\"7817f48a-5631-41f2-b3c2-2c72a73321ef\" class=\"plotly-graph-div\" style=\"height:525px; width:100%;\"></div>            <script type=\"text/javascript\">                                    window.PLOTLYENV=window.PLOTLYENV || {};                                    if (document.getElementById(\"7817f48a-5631-41f2-b3c2-2c72a73321ef\")) {                    Plotly.newPlot(                        \"7817f48a-5631-41f2-b3c2-2c72a73321ef\",                        [{\"alignmentgroup\":\"True\",\"bingroup\":\"x\",\"hovertemplate\":\"x=%{x}<br>count=%{y}<extra></extra>\",\"legendgroup\":\"\",\"marker\":{\"color\":\"#636efa\",\"pattern\":{\"shape\":\"\"}},\"name\":\"\",\"offsetgroup\":\"\",\"orientation\":\"v\",\"showlegend\":false,\"x\":[\"2023-02-12T14:43:07+00:00\",\"2023-02-09T20:02:10+00:00\",\"2023-02-09T17:17:25+00:00\",\"2023-02-09T16:36:21+00:00\",\"2023-02-09T16:18:42+00:00\",\"2023-02-08T19:58:50+00:00\",\"2023-02-08T17:02:20+00:00\",\"2023-02-08T08:33:17+00:00\",\"2023-02-04T18:14:15+00:00\",\"2023-02-03T03:30:12+00:00\",\"2023-02-02T10:28:35+00:00\",\"2023-02-01T00:40:40+00:00\",\"2023-01-31T05:34:19+00:00\",\"2023-01-30T20:39:24+00:00\",\"2023-01-28T17:14:31+00:00\",\"2023-01-26T20:15:14+00:00\",\"2023-01-25T23:02:38+00:00\",\"2023-01-24T18:55:53+00:00\",\"2023-01-23T21:59:13+00:00\",\"2023-01-21T04:49:28+00:00\",\"2023-01-20T23:30:00+00:00\",\"2023-01-20T20:53:33+00:00\",\"2023-01-19T21:46:59+00:00\",\"2023-01-19T21:15:10+00:00\",\"2023-01-19T13:56:55+00:00\",\"2023-01-17T16:48:25+00:00\",\"2023-01-16T13:37:25+00:00\",\"2023-01-15T04:27:22+00:00\",\"2023-01-14T22:00:54+00:00\",\"2023-01-12T18:26:54+00:00\",\"2023-01-10T21:49:19+00:00\",\"2023-01-10T19:07:25+00:00\",\"2023-01-10T17:00:28+00:00\",\"2023-01-06T05:12:58+00:00\",\"2023-01-03T19:56:56+00:00\",\"2023-01-03T00:11:23+00:00\",\"2023-01-02T12:00:00+00:00\",\"2022-12-30T12:43:28+00:00\",\"2022-12-29T18:50:20+00:00\",\"2022-12-27T18:11:00+00:00\",\"2022-12-26T20:33:00+00:00\",\"2022-12-26T09:20:00+00:00\",\"2022-12-24T19:45:54+00:00\",\"2022-12-24T19:45:00+00:00\",\"2022-12-23T13:40:00+00:00\",\"2022-12-23T13:28:01+00:00\",\"2022-12-23T12:34:00+00:00\",\"2022-12-22T22:20:00+00:00\",\"2022-12-22T20:55:00+00:00\",\"2022-12-22T15:59:10+00:00\",\"2022-12-22T11:42:57+00:00\",\"2022-12-21T23:00:00+00:00\",\"2022-12-21T22:20:43+00:00\",\"2022-12-21T22:16:58+00:00\",\"2022-12-18T13:45:00+00:00\",\"2022-12-17T23:59:14+00:00\",\"2022-12-13T15:29:32+00:00\",\"2022-12-05T22:08:38+00:00\",\"2022-11-29T15:30:03+00:00\",\"2022-11-29T14:35:46+00:00\",\"2022-11-28T20:58:42+00:00\",\"2022-11-28T20:43:21+00:00\",\"2022-11-28T18:02:02+00:00\",\"2022-11-25T23:44:50+00:00\",\"2022-11-25T15:07:12+00:00\",\"2022-11-23T23:44:36+00:00\",\"2022-11-22T18:21:23+00:00\",\"2022-11-21T23:22:04+00:00\",\"2022-11-21T01:57:22+00:00\",\"2022-11-20T20:01:54+00:00\",\"2022-11-19T12:41:20+00:00\",\"2022-11-18T18:52:15+00:00\",\"2022-11-17T04:05:47+00:00\",\"2022-11-14T12:02:41+00:00\",\"2022-11-12T18:28:03+00:00\",\"2022-11-10T23:55:17+00:00\",\"2022-11-09T15:57:49+00:00\",\"2022-11-07T14:26:20+00:00\",\"2022-11-07T03:34:45+00:00\",\"2022-11-07T02:40:08+00:00\",\"2022-11-06T21:53:31+00:00\",\"2022-11-04T09:04:21+00:00\",\"2022-11-03T01:02:50+00:00\",\"2022-11-01T22:44:23+00:00\",\"2022-11-01T20:42:19+00:00\",\"2022-11-01T20:42:06+00:00\",\"2022-10-31T18:04:38+00:00\",\"2022-10-29T18:54:23+00:00\",\"2022-10-28T00:02:30+00:00\",\"2022-10-23T16:01:27+00:00\",\"2022-10-22T23:35:25+00:00\",\"2022-10-22T17:29:26+00:00\",\"2022-10-21T23:49:06+00:00\",\"2022-10-20T16:35:14+00:00\",\"2022-10-20T14:25:49+00:00\",\"2022-10-20T03:01:35+00:00\",\"2022-10-17T17:29:18+00:00\",\"2022-10-16T16:43:49+00:00\",\"2022-10-13T08:00:02+00:00\",\"2022-10-12T03:30:00+00:00\",\"2022-10-11T22:10:16+00:00\",\"2022-10-11T14:36:43+00:00\",\"2022-10-11T14:35:23+00:00\",\"2022-10-10T17:56:09+00:00\",\"2022-10-10T08:00:01+00:00\",\"2022-10-05T13:30:00+00:00\",\"2022-10-05T03:49:14+00:00\",\"2022-10-04T23:27:16+00:00\",\"2022-10-04T19:30:00+00:00\",\"2022-10-04T14:58:46+00:00\",\"2022-10-03T18:36:03+00:00\",\"2022-10-03T05:00:01+00:00\",\"2022-10-03T01:51:41+00:00\",\"2022-10-03T01:45:11+00:00\",\"2022-10-03T01:18:18+00:00\",\"2022-10-03T01:14:01+00:00\",\"2022-10-02T17:20:00+00:00\",\"2022-10-02T13:20:00+00:00\",\"2022-10-01T01:36:40+00:00\",\"2022-10-01T01:30:00+00:00\",\"2022-09-30T16:40:00+00:00\",\"2022-09-30T14:00:00+00:00\",\"2022-09-30T12:40:00+00:00\",\"2022-09-30T03:00:00+00:00\",\"2022-09-30T00:29:30+00:00\",\"2022-09-29T21:12:19+00:00\",\"2022-09-29T21:04:59+00:00\",\"2022-09-29T14:32:44+00:00\",\"2022-09-29T12:07:26+00:00\",\"2022-09-29T10:54:00+00:00\",\"2022-09-29T05:00:10+00:00\",\"2022-09-29T03:45:26+00:00\",\"2022-09-28T22:31:50+00:00\",\"2022-09-28T21:30:10+00:00\",\"2022-09-28T20:07:15+00:00\",\"2022-09-28T19:50:11+00:00\",\"2022-09-28T19:24:03+00:00\",\"2022-09-28T19:22:25+00:00\",\"2022-09-28T19:16:24+00:00\",\"2022-09-28T18:47:18+00:00\",\"2022-09-28T18:23:04+00:00\",\"2022-09-28T15:56:04+00:00\",\"2022-09-28T15:24:17+00:00\",\"2022-09-28T14:56:39+00:00\",\"2022-09-28T14:49:12+00:00\",\"2022-09-26T22:29:44+00:00\",\"2022-09-25T17:06:31+00:00\",\"2022-09-24T03:09:00+00:00\",\"2022-09-23T16:20:00+00:00\",\"2022-09-22T13:25:00+00:00\",\"2022-09-21T12:35:00+00:00\",\"2022-09-20T16:40:00+00:00\",\"2022-09-20T14:47:23+00:00\",\"2022-09-20T12:10:00+00:00\",\"2022-09-20T03:15:00+00:00\",\"2022-09-20T01:50:00+00:00\",\"2022-09-20T00:12:48+00:00\",\"2022-09-20T00:05:00+00:00\",\"2022-09-19T23:27:55+00:00\",\"2022-09-19T22:22:33+00:00\",\"2022-09-19T22:21:23+00:00\",\"2022-09-19T21:40:19+00:00\",\"2022-09-19T21:29:00+00:00\",\"2022-09-19T15:19:50+00:00\",\"2022-09-19T01:39:21+00:00\",\"2022-09-18T22:49:36+00:00\",\"2022-09-18T22:22:35+00:00\",\"2022-09-17T13:51:15+00:00\",\"2022-09-17T01:04:21+00:00\",\"2022-09-16T20:34:57+00:00\",\"2022-09-15T19:20:45+00:00\",\"2022-09-15T09:55:50+00:00\",\"2022-09-12T23:55:11+00:00\",\"2022-09-12T21:23:24+00:00\",\"2022-09-12T15:43:57+00:00\",\"2022-09-12T13:51:05+00:00\",\"2022-09-12T01:16:41+00:00\",\"2022-09-11T10:57:48+00:00\",\"2022-09-07T19:29:21+00:00\",\"2022-09-07T15:52:03+00:00\",\"2022-09-05T14:17:46+00:00\",\"2022-09-05T02:40:41+00:00\",\"2022-09-05T01:01:03+00:00\",\"2022-09-04T19:02:54+00:00\",\"2022-09-04T17:25:40+00:00\",\"2022-09-01T18:24:42+00:00\",\"2022-08-31T21:50:02+00:00\",\"2022-08-30T18:18:10+00:00\",\"2022-08-28T23:53:33+00:00\",\"2022-08-28T03:18:06+00:00\",\"2022-08-26T17:18:52+00:00\",\"2022-08-25T02:29:50+00:00\",\"2022-08-23T17:56:49+00:00\",\"2022-08-21T00:17:15+00:00\",\"2022-08-18T16:57:01+00:00\",\"2022-08-16T22:26:49+00:00\",\"2022-08-16T00:04:06+00:00\",\"2022-08-12T15:30:01+00:00\",\"2022-08-10T18:57:00+00:00\",\"2022-08-10T00:00:40+00:00\",\"2022-08-09T22:25:00+00:00\",\"2022-08-09T21:25:01+00:00\",\"2022-08-09T21:01:03+00:00\",\"2022-08-08T18:00:01+00:00\",\"2022-08-07T18:32:07+00:00\",\"2022-08-04T16:39:27+00:00\",\"2022-08-03T12:13:02+00:00\",\"2022-08-03T10:11:00+00:00\",\"2022-08-02T20:16:38+00:00\",\"2022-08-02T19:00:00+00:00\",\"2022-08-02T01:24:51+00:00\",\"2022-08-01T23:09:46+00:00\",\"2022-08-01T22:49:54+00:00\",\"2022-08-01T05:41:40+00:00\",\"2022-08-01T04:27:24+00:00\",\"2022-07-28T03:00:00+00:00\",\"2022-07-27T23:13:16+00:00\",\"2022-07-27T05:31:39+00:00\",\"2022-07-27T01:03:31+00:00\",\"2022-07-27T00:04:28+00:00\",\"2022-07-26T23:59:52+00:00\",\"2022-07-26T23:45:06+00:00\",\"2022-07-26T23:13:24+00:00\",\"2022-07-26T22:54:59+00:00\",\"2022-07-25T19:44:50+00:00\",\"2022-07-25T19:42:03+00:00\",\"2022-07-24T12:09:35+00:00\",\"2022-07-24T02:00:43+00:00\",\"2022-07-22T14:18:15+00:00\",\"2022-07-18T17:09:21+00:00\",\"2022-07-18T11:45:00+00:00\",\"2022-07-18T00:24:19+00:00\",\"2022-07-17T21:11:59+00:00\",\"2022-07-12T22:34:25+00:00\",\"2022-07-11T15:56:02+00:00\",\"2022-07-10T19:13:21+00:00\",\"2022-07-08T14:30:00+00:00\",\"2022-07-06T19:15:48+00:00\",\"2022-07-06T15:30:00+00:00\",\"2022-07-04T13:50:36+00:00\",\"2022-07-04T13:00:03+00:00\",\"2022-07-01T21:14:51+00:00\",\"2022-07-01T15:30:39+00:00\",\"2022-07-01T14:57:37+00:00\",\"2022-07-01T01:19:49+00:00\",\"2022-06-30T11:04:31+00:00\",\"2022-06-30T00:49:25+00:00\",\"2022-06-28T14:16:15+00:00\",\"2022-06-25T01:13:50+00:00\",\"2022-06-21T12:35:40+00:00\",\"2022-06-21T00:50:22+00:00\",\"2022-06-19T17:00:20+00:00\",\"2022-06-19T11:50:29+00:00\",\"2022-06-18T18:08:44+00:00\",\"2022-06-18T16:04:25+00:00\",\"2022-06-18T13:58:12+00:00\",\"2022-06-18T11:07:03+00:00\",\"2022-06-18T09:46:56+00:00\",\"2022-06-18T08:38:53+00:00\",\"2022-06-18T05:30:24+00:00\",\"2022-06-17T22:09:54+00:00\",\"2022-06-16T07:50:45+00:00\",\"2022-06-13T08:15:57+00:00\",\"2022-06-13T06:27:27+00:00\",\"2022-06-12T14:27:04+00:00\",\"2022-06-12T02:32:39+00:00\",\"2022-06-11T00:01:19+00:00\",\"2022-06-10T21:42:42+00:00\",\"2022-06-08T14:05:57+00:00\",\"2022-06-06T19:02:41+00:00\",\"2022-06-06T18:51:56+00:00\",\"2022-06-04T12:25:31+00:00\",\"2022-06-04T00:46:14+00:00\",\"2022-06-03T17:54:48+00:00\",\"2022-06-03T17:01:31+00:00\",\"2022-06-02T18:26:22+00:00\",\"2022-06-01T23:19:43+00:00\",\"2022-06-01T22:00:02+00:00\",\"2022-05-31T21:35:25+00:00\",\"2022-05-24T00:09:10+00:00\",\"2022-05-23T17:04:49+00:00\",\"2022-05-22T13:32:38+00:00\",\"2022-05-17T22:20:41+00:00\",\"2022-05-17T20:45:30+00:00\",\"2022-05-16T18:33:53+00:00\",\"2022-05-15T21:09:24+00:00\",\"2022-05-11T17:33:09+00:00\",\"2022-05-07T04:21:24+00:00\",\"2022-05-06T01:13:33+00:00\",\"2022-05-06T01:04:11+00:00\",\"2022-05-05T21:47:36+00:00\",\"2022-05-04T23:37:04+00:00\",\"2022-04-28T22:46:29+00:00\",\"2022-04-22T11:30:00+00:00\",\"2022-04-18T23:43:05+00:00\",\"2022-04-18T19:18:46+00:00\",\"2022-04-18T17:03:56+00:00\",\"2022-04-18T04:30:24+00:00\",\"2022-04-17T14:22:19+00:00\",\"2022-04-17T04:26:13+00:00\",\"2022-04-15T11:19:12+00:00\",\"2022-04-13T23:32:17+00:00\",\"2022-04-12T23:58:13+00:00\",\"2022-04-12T22:36:23+00:00\",\"2022-04-12T22:14:11+00:00\",\"2022-04-12T21:00:06+00:00\",\"2022-04-11T17:57:35+00:00\",\"2022-04-11T12:43:54+00:00\",\"2022-04-07T15:38:04+00:00\",\"2022-04-05T22:48:20+00:00\",\"2022-04-02T01:29:30+00:00\",\"2022-04-02T00:06:10+00:00\",\"2022-04-01T21:55:24+00:00\",\"2022-04-01T21:52:01+00:00\",\"2022-03-31T15:13:19+00:00\",\"2022-03-29T21:10:00+00:00\",\"2022-03-29T11:40:00+00:00\",\"2022-03-27T05:52:11+00:00\",\"2022-03-19T21:41:49+00:00\",\"2022-03-19T16:02:25+00:00\",\"2022-03-16T22:55:06+00:00\",\"2022-03-16T22:50:03+00:00\",\"2022-03-16T22:45:06+00:00\",\"2022-03-16T22:40:05+00:00\",\"2022-03-16T22:35:07+00:00\",\"2022-03-16T17:53:18+00:00\",\"2022-03-16T17:18:41+00:00\",\"2022-03-16T15:09:24+00:00\",\"2022-03-16T00:00:00+00:00\",\"2022-03-15T20:09:39+00:00\",\"2022-03-14T15:57:57+00:00\",\"2022-03-10T00:08:41+00:00\",\"2022-03-09T11:45:57+00:00\",\"2022-03-07T17:32:34+00:00\",\"2022-03-05T00:52:27+00:00\",\"2022-03-03T19:03:00+00:00\",\"2022-03-02T23:54:34+00:00\",\"2022-03-01T18:11:26+00:00\",\"2022-03-01T01:59:16+00:00\",\"2022-02-28T22:13:49+00:00\",\"2022-02-28T01:09:27+00:00\",\"2022-02-20T20:21:53+00:00\",\"2022-02-20T00:11:45+00:00\",\"2022-02-19T22:38:39+00:00\",\"2022-02-17T13:57:09+00:00\",\"2022-02-17T00:52:27+00:00\",\"2022-02-16T23:13:35+00:00\",\"2022-02-11T18:09:26+00:00\",\"2022-02-11T13:22:16+00:00\",\"2022-02-09T23:16:44+00:00\",\"2022-02-09T23:04:38+00:00\",\"2022-02-07T17:14:37+00:00\",\"2022-02-02T00:45:00+00:00\",\"2022-02-01T16:50:00+00:00\",\"2022-01-31T11:15:00+00:00\",\"2022-01-28T21:47:01+00:00\",\"2022-01-28T18:40:00+00:00\",\"2022-01-28T15:49:26+00:00\",\"2022-01-28T13:33:38+00:00\",\"2022-01-28T11:35:00+00:00\",\"2022-01-27T18:05:00+00:00\",\"2022-01-27T11:30:00+00:00\",\"2022-01-26T15:55:00+00:00\",\"2022-01-25T22:40:00+00:00\",\"2022-01-25T22:17:09+00:00\",\"2022-01-25T18:08:25+00:00\",\"2022-01-25T15:10:29+00:00\",\"2022-01-24T21:58:09+00:00\",\"2022-01-24T21:02:49+00:00\",\"2022-01-21T12:12:47+00:00\",\"2022-01-20T12:12:04+00:00\",\"2022-01-20T03:19:51+00:00\",\"2022-01-19T22:40:52+00:00\",\"2022-01-18T03:46:13+00:00\",\"2022-01-13T22:05:47+00:00\",\"2022-01-10T23:11:56+00:00\",\"2022-01-10T05:15:10+00:00\",\"2022-01-09T01:46:40+00:00\",\"2022-01-07T00:30:32+00:00\",\"2022-01-06T21:52:43+00:00\",\"2022-01-06T15:34:52+00:00\",\"2022-01-02T16:40:03+00:00\",\"2021-12-31T22:54:48+00:00\",\"2021-12-30T19:24:29+00:00\",\"2021-12-29T15:48:30+00:00\",\"2021-12-29T10:05:33+00:00\",\"2021-12-25T21:07:01+00:00\",\"2021-12-25T13:44:09+00:00\",\"2021-12-25T11:02:53+00:00\",\"2021-12-25T10:57:58+00:00\",\"2021-12-25T10:52:21+00:00\",\"2021-12-25T10:39:37+00:00\",\"2021-12-24T22:20:09+00:00\",\"2021-12-20T21:59:37+00:00\",\"2021-12-18T15:15:18+00:00\",\"2021-12-17T21:15:06+00:00\",\"2021-12-15T23:34:02+00:00\",\"2021-12-14T04:23:46+00:00\",\"2021-12-13T01:42:17+00:00\",\"2021-12-11T16:21:51+00:00\",\"2021-12-10T10:56:51+00:00\",\"2021-12-10T10:55:03+00:00\",\"2021-12-09T20:00:00+00:00\",\"2021-12-06T19:27:23+00:00\",\"2021-12-06T17:43:39+00:00\",\"2021-12-06T11:49:10+00:00\",\"2021-12-02T22:53:18+00:00\",\"2021-11-30T04:30:15+00:00\",\"2021-11-30T01:48:34+00:00\",\"2021-11-30T01:23:57+00:00\",\"2021-11-30T00:09:00+00:00\",\"2021-11-27T06:07:30+00:00\",\"2021-11-25T18:35:08+00:00\",\"2021-11-25T14:36:07+00:00\",\"2021-11-25T03:44:20+00:00\",\"2021-11-21T23:16:30+00:00\",\"2021-11-19T22:15:00+00:00\",\"2021-11-18T06:10:09+00:00\",\"2021-11-17T02:37:44+00:00\",\"2021-11-16T03:01:00+00:00\",\"2021-11-16T02:49:11+00:00\",\"2021-11-13T18:59:52+00:00\",\"2021-11-12T22:33:49+00:00\",\"2021-11-12T21:19:46+00:00\",\"2021-11-12T21:19:07+00:00\",\"2021-11-11T18:15:03+00:00\",\"2021-11-11T16:45:03+00:00\",\"2021-11-11T16:20:11+00:00\",\"2021-11-11T13:24:18+00:00\",\"2021-11-11T03:14:02+00:00\",\"2021-11-10T10:27:04+00:00\",\"2021-11-10T03:02:29+00:00\",\"2021-11-09T22:49:33+00:00\",\"2021-11-09T20:00:17+00:00\",\"2021-11-09T19:24:28+00:00\",\"2021-11-09T19:22:00+00:00\",\"2021-11-08T01:43:34+00:00\",\"2021-11-05T19:07:18+00:00\",\"2021-11-05T01:46:49+00:00\",\"2021-11-02T22:50:56+00:00\",\"2021-11-02T22:43:01+00:00\",\"2021-11-02T21:59:15+00:00\",\"2021-11-02T19:08:41+00:00\",\"2021-11-02T18:01:06+00:00\",\"2021-10-31T01:56:49+00:00\",\"2021-10-30T18:32:28+00:00\",\"2021-10-30T17:55:01+00:00\",\"2021-10-30T16:02:21+00:00\",\"2021-10-30T13:40:11+00:00\",\"2021-10-30T01:06:38+00:00\",\"2021-10-29T16:25:39+00:00\",\"2021-10-26T15:09:16+00:00\",\"2021-10-26T01:18:29+00:00\",\"2021-10-22T09:45:28+00:00\",\"2021-10-21T23:15:00+00:00\",\"2021-10-21T15:45:52+00:00\",\"2021-10-21T13:12:36+00:00\",\"2021-10-20T03:19:06+00:00\",\"2021-10-19T15:34:03+00:00\",\"2021-10-17T13:13:13+00:00\",\"2021-10-15T13:26:53+00:00\",\"2021-10-15T00:32:02+00:00\",\"2021-10-14T01:59:45+00:00\",\"2021-10-13T21:59:26+00:00\",\"2021-10-11T16:31:13+00:00\",\"2021-10-10T19:55:06+00:00\",\"2021-10-10T14:20:36+00:00\",\"2021-10-08T15:09:50+00:00\",\"2021-10-04T18:30:46+00:00\",\"2021-10-04T14:06:11+00:00\",\"2021-10-03T23:48:09+00:00\",\"2021-10-02T13:47:46+00:00\",\"2021-10-01T15:13:44+00:00\",\"2021-10-01T15:04:36+00:00\",\"2021-09-20T21:51:38+00:00\",\"2021-09-19T01:30:00+00:00\",\"2021-09-19T00:49:29+00:00\",\"2021-09-18T19:30:00+00:00\",\"2021-09-18T16:30:00+00:00\",\"2021-09-18T13:10:00+00:00\",\"2021-09-18T12:10:00+00:00\",\"2021-09-18T06:00:00+00:00\",\"2021-09-18T03:10:00+00:00\",\"2021-09-18T01:10:00+00:00\",\"2021-09-18T00:10:00+00:00\",\"2021-09-17T22:10:00+00:00\",\"2021-09-17T22:00:01+00:00\",\"2021-09-17T20:55:00+00:00\",\"2021-09-17T19:00:01+00:00\",\"2021-09-17T17:50:56+00:00\",\"2021-09-17T16:00:03+00:00\",\"2021-09-17T14:55:00+00:00\",\"2021-09-17T13:50:00+00:00\",\"2021-09-17T11:50:00+00:00\",\"2021-09-17T02:30:00+00:00\",\"2021-09-16T23:30:00+00:00\",\"2021-09-16T20:30:00+00:00\",\"2021-09-16T17:30:00+00:00\",\"2021-09-16T14:30:00+00:00\",\"2021-09-16T11:30:00+00:00\",\"2021-09-16T00:28:06+00:00\",\"2021-09-15T23:30:00+00:00\",\"2021-09-15T22:29:41+00:00\",\"2021-09-15T20:30:00+00:00\",\"2021-09-15T17:30:30+00:00\",\"2021-09-15T14:30:01+00:00\",\"2021-09-15T13:15:00+00:00\",\"2021-09-15T12:15:00+00:00\",\"2021-09-15T11:15:00+00:00\",\"2021-09-13T22:00:01+00:00\",\"2021-09-13T19:00:00+00:00\",\"2021-09-13T17:00:00+00:00\",\"2021-09-13T16:00:01+00:00\",\"2021-09-13T14:55:38+00:00\",\"2021-09-13T13:50:00+00:00\",\"2021-09-13T12:50:00+00:00\",\"2021-09-13T11:50:00+00:00\",\"2021-09-12T15:30:00+00:00\",\"2021-09-12T14:00:00+00:00\",\"2021-09-12T13:36:30+00:00\",\"2021-09-12T13:00:01+00:00\",\"2021-09-12T01:26:30+00:00\",\"2021-09-11T01:00:08+00:00\",\"2021-09-10T23:45:00+00:00\",\"2021-09-10T20:45:00+00:00\",\"2021-09-10T17:45:00+00:00\",\"2021-09-10T14:45:41+00:00\",\"2021-09-10T14:45:00+00:00\",\"2021-09-10T02:30:00+00:00\",\"2021-09-09T23:30:00+00:00\",\"2021-09-09T20:30:00+00:00\",\"2021-09-09T19:24:57+00:00\",\"2021-09-09T17:30:00+00:00\",\"2021-09-09T14:30:00+00:00\",\"2021-09-09T13:35:00+00:00\",\"2021-09-09T12:35:00+00:00\",\"2021-09-09T11:35:00+00:00\",\"2021-09-09T09:00:01+00:00\",\"2021-09-08T20:30:00+00:00\",\"2021-09-08T17:30:00+00:00\",\"2021-09-08T14:30:00+00:00\",\"2021-09-08T13:54:39+00:00\",\"2021-09-08T13:45:00+00:00\",\"2021-09-08T12:45:00+00:00\",\"2021-09-08T11:45:00+00:00\",\"2021-09-08T10:45:00+00:00\",\"2021-09-07T21:00:01+00:00\",\"2021-09-07T20:00:00+00:00\",\"2021-09-07T18:00:02+00:00\",\"2021-09-07T17:00:00+00:00\",\"2021-09-07T15:00:02+00:00\",\"2021-09-07T12:55:00+00:00\",\"2021-09-07T11:55:00+00:00\",\"2021-09-07T00:35:00+00:00\",\"2021-09-06T23:56:36+00:00\",\"2021-09-04T21:48:51+00:00\",\"2021-09-04T17:52:48+00:00\",\"2021-09-04T17:03:30+00:00\",\"2021-09-03T17:28:15+00:00\",\"2021-09-02T23:36:16+00:00\",\"2021-09-02T04:19:08+00:00\",\"2021-09-02T01:09:32+00:00\",\"2021-09-01T16:51:03+00:00\",\"2021-08-29T17:12:24+00:00\",\"2021-08-27T20:04:08+00:00\",\"2021-08-26T15:02:37+00:00\",\"2021-08-25T20:35:43+00:00\",\"2021-08-25T15:57:00+00:00\",\"2021-08-25T00:22:06+00:00\",\"2021-08-24T21:02:37+00:00\",\"2021-08-18T22:40:01+00:00\",\"2021-08-18T19:50:57+00:00\",\"2021-08-17T20:28:01+00:00\",\"2021-08-17T02:46:51+00:00\",\"2021-08-16T15:04:01+00:00\",\"2021-08-16T11:14:05+00:00\",\"2021-08-15T18:18:01+00:00\",\"2021-08-14T17:32:01+00:00\",\"2021-08-13T14:16:01+00:00\",\"2021-08-13T03:56:01+00:00\",\"2021-08-12T14:50:41+00:00\",\"2021-08-12T12:12:01+00:00\",\"2021-08-12T00:48:01+00:00\",\"2021-08-11T16:47:49+00:00\",\"2021-08-11T16:16:42+00:00\",\"2021-08-11T15:51:05+00:00\",\"2021-08-11T13:59:38+00:00\",\"2021-08-11T12:52:19+00:00\",\"2021-08-11T11:47:35+00:00\",\"2021-08-11T09:04:00+00:00\",\"2021-08-11T04:14:46+00:00\",\"2021-08-11T01:38:13+00:00\",\"2021-08-11T01:18:23+00:00\",\"2021-08-10T18:40:01+00:00\",\"2021-08-09T18:01:43+00:00\",\"2021-08-02T23:41:11+00:00\",\"2021-08-02T03:30:24+00:00\",\"2021-08-01T23:01:31+00:00\",\"2021-08-01T18:30:22+00:00\",\"2021-08-01T14:01:34+00:00\",\"2021-08-01T09:30:22+00:00\",\"2021-08-01T00:01:26+00:00\",\"2021-07-31T19:30:22+00:00\",\"2021-07-31T15:01:35+00:00\",\"2021-07-31T10:30:23+00:00\",\"2021-07-31T01:01:25+00:00\",\"2021-07-30T20:42:21+00:00\",\"2021-07-30T20:30:16+00:00\",\"2021-07-30T16:23:36+00:00\",\"2021-07-28T23:40:15+00:00\",\"2021-07-28T02:52:34+00:00\",\"2021-07-27T23:37:45+00:00\",\"2021-07-25T20:46:58+00:00\",\"2021-07-22T10:37:42+00:00\",\"2021-07-22T03:59:50+00:00\",\"2021-07-20T16:31:03+00:00\",\"2021-07-20T03:06:03+00:00\",\"2021-07-19T17:04:24+00:00\",\"2021-07-19T11:47:04+00:00\",\"2021-07-19T09:56:16+00:00\",\"2021-07-19T08:52:57+00:00\",\"2021-07-19T06:40:02+00:00\",\"2021-07-19T04:53:07+00:00\",\"2021-07-18T13:04:53+00:00\",\"2021-07-18T03:06:27+00:00\",\"2021-07-17T23:14:35+00:00\",\"2021-07-17T20:28:55+00:00\",\"2021-07-17T17:26:06+00:00\",\"2021-07-17T17:26:04+00:00\",\"2021-07-17T17:15:36+00:00\",\"2021-07-17T16:56:54+00:00\",\"2021-07-17T16:15:09+00:00\",\"2021-07-17T13:04:53+00:00\",\"2021-07-17T07:34:09+00:00\",\"2021-07-17T07:31:37+00:00\",\"2021-07-17T06:50:03+00:00\",\"2021-07-17T04:19:39+00:00\",\"2021-07-17T03:21:58+00:00\",\"2021-07-17T02:59:29+00:00\",\"2021-07-17T02:45:01+00:00\",\"2021-07-17T00:10:25+00:00\",\"2021-07-16T23:44:20+00:00\",\"2021-07-16T23:31:46+00:00\",\"2021-07-16T21:19:27+00:00\",\"2021-07-16T19:43:19+00:00\",\"2021-07-16T19:12:36+00:00\",\"2021-07-16T18:55:56+00:00\",\"2021-07-16T17:09:17+00:00\",\"2021-07-16T16:43:20+00:00\",\"2021-07-16T16:00:29+00:00\",\"2021-07-16T15:53:53+00:00\",\"2021-07-16T15:45:34+00:00\",\"2021-07-16T15:33:24+00:00\",\"2021-07-16T15:32:41+00:00\",\"2021-07-16T15:32:41+00:00\",\"2021-07-16T15:31:06+00:00\",\"2021-07-16T15:30:04+00:00\",\"2021-07-16T15:24:04+00:00\",\"2021-07-16T15:21:07+00:00\",\"2021-07-16T15:21:07+00:00\",\"2021-07-16T15:21:05+00:00\",\"2021-07-16T15:21:05+00:00\",\"2021-07-16T15:10:58+00:00\",\"2021-07-16T15:02:36+00:00\",\"2021-07-16T14:57:35+00:00\",\"2021-07-16T14:56:33+00:00\",\"2021-07-16T14:54:02+00:00\",\"2021-07-16T14:45:40+00:00\",\"2021-07-16T14:44:04+00:00\",\"2021-07-16T14:09:11+00:00\",\"2021-07-16T14:02:03+00:00\",\"2021-07-16T13:56:50+00:00\",\"2021-07-16T13:56:06+00:00\",\"2021-07-16T13:55:14+00:00\",\"2021-07-16T13:37:48+00:00\",\"2021-07-16T13:37:35+00:00\",\"2021-07-16T13:27:43+00:00\",\"2021-07-16T13:26:52+00:00\",\"2021-07-16T13:20:09+00:00\",\"2021-07-16T13:20:07+00:00\",\"2021-07-16T13:20:06+00:00\",\"2021-07-16T13:18:32+00:00\",\"2021-07-16T13:18:29+00:00\",\"2021-07-16T13:18:07+00:00\",\"2021-07-16T13:16:29+00:00\",\"2021-07-16T13:16:05+00:00\",\"2021-07-16T13:15:40+00:00\",\"2021-07-16T13:15:38+00:00\",\"2021-07-16T13:15:36+00:00\",\"2021-07-16T13:12:27+00:00\",\"2021-07-16T13:10:33+00:00\",\"2021-07-16T13:10:22+00:00\",\"2021-07-16T13:09:28+00:00\",\"2021-07-16T13:09:07+00:00\",\"2021-07-16T13:08:07+00:00\",\"2021-07-16T13:07:41+00:00\",\"2021-07-16T13:07:23+00:00\",\"2021-07-16T13:06:38+00:00\",\"2021-07-16T13:05:21+00:00\",\"2021-07-16T13:05:07+00:00\",\"2021-07-16T13:02:06+00:00\",\"2021-07-16T13:02:05+00:00\",\"2021-07-16T13:00:49+00:00\",\"2021-07-08T15:08:48+00:00\",\"2021-06-14T21:01:58+00:00\",\"2021-06-14T19:24:03+00:00\",\"2021-06-14T15:16:45+00:00\",\"2021-06-10T12:46:39+00:00\",\"2021-06-10T12:30:09+00:00\",\"2021-06-07T17:44:39+00:00\",\"2021-06-07T14:47:33+00:00\",\"2021-06-02T15:30:09+00:00\",\"2021-06-01T03:19:27+00:00\",\"2021-05-31T16:32:05+00:00\",\"2021-05-28T03:28:36+00:00\",\"2021-05-27T01:54:00+00:00\",\"2021-05-26T23:14:37+00:00\",\"2021-05-25T22:51:46+00:00\",\"2021-05-23T17:02:00+00:00\",\"2021-05-18T14:54:56+00:00\",\"2021-05-16T17:43:33+00:00\",\"2021-05-15T13:25:15+00:00\",\"2021-05-06T16:54:58+00:00\",\"2021-04-26T15:49:56+00:00\",\"2021-04-25T23:49:44+00:00\"],\"xaxis\":\"x\",\"yaxis\":\"y\",\"type\":\"histogram\"}],                        {\"template\":{\"data\":{\"bar\":[{\"error_x\":{\"color\":\"#2a3f5f\"},\"error_y\":{\"color\":\"#2a3f5f\"},\"marker\":{\"line\":{\"color\":\"#E5ECF6\",\"width\":0.5},\"pattern\":{\"fillmode\":\"overlay\",\"size\":10,\"solidity\":0.2}},\"type\":\"bar\"}],\"barpolar\":[{\"marker\":{\"line\":{\"color\":\"#E5ECF6\",\"width\":0.5},\"pattern\":{\"fillmode\":\"overlay\",\"size\":10,\"solidity\":0.2}},\"type\":\"barpolar\"}],\"carpet\":[{\"aaxis\":{\"endlinecolor\":\"#2a3f5f\",\"gridcolor\":\"white\",\"linecolor\":\"white\",\"minorgridcolor\":\"white\",\"startlinecolor\":\"#2a3f5f\"},\"baxis\":{\"endlinecolor\":\"#2a3f5f\",\"gridcolor\":\"white\",\"linecolor\":\"white\",\"minorgridcolor\":\"white\",\"startlinecolor\":\"#2a3f5f\"},\"type\":\"carpet\"}],\"choropleth\":[{\"colorbar\":{\"outlinewidth\":0,\"ticks\":\"\"},\"type\":\"choropleth\"}],\"contour\":[{\"colorbar\":{\"outlinewidth\":0,\"ticks\":\"\"},\"colorscale\":[[0.0,\"#0d0887\"],[0.1111111111111111,\"#46039f\"],[0.2222222222222222,\"#7201a8\"],[0.3333333333333333,\"#9c179e\"],[0.4444444444444444,\"#bd3786\"],[0.5555555555555556,\"#d8576b\"],[0.6666666666666666,\"#ed7953\"],[0.7777777777777778,\"#fb9f3a\"],[0.8888888888888888,\"#fdca26\"],[1.0,\"#f0f921\"]],\"type\":\"contour\"}],\"contourcarpet\":[{\"colorbar\":{\"outlinewidth\":0,\"ticks\":\"\"},\"type\":\"contourcarpet\"}],\"heatmap\":[{\"colorbar\":{\"outlinewidth\":0,\"ticks\":\"\"},\"colorscale\":[[0.0,\"#0d0887\"],[0.1111111111111111,\"#46039f\"],[0.2222222222222222,\"#7201a8\"],[0.3333333333333333,\"#9c179e\"],[0.4444444444444444,\"#bd3786\"],[0.5555555555555556,\"#d8576b\"],[0.6666666666666666,\"#ed7953\"],[0.7777777777777778,\"#fb9f3a\"],[0.8888888888888888,\"#fdca26\"],[1.0,\"#f0f921\"]],\"type\":\"heatmap\"}],\"heatmapgl\":[{\"colorbar\":{\"outlinewidth\":0,\"ticks\":\"\"},\"colorscale\":[[0.0,\"#0d0887\"],[0.1111111111111111,\"#46039f\"],[0.2222222222222222,\"#7201a8\"],[0.3333333333333333,\"#9c179e\"],[0.4444444444444444,\"#bd3786\"],[0.5555555555555556,\"#d8576b\"],[0.6666666666666666,\"#ed7953\"],[0.7777777777777778,\"#fb9f3a\"],[0.8888888888888888,\"#fdca26\"],[1.0,\"#f0f921\"]],\"type\":\"heatmapgl\"}],\"histogram\":[{\"marker\":{\"pattern\":{\"fillmode\":\"overlay\",\"size\":10,\"solidity\":0.2}},\"type\":\"histogram\"}],\"histogram2d\":[{\"colorbar\":{\"outlinewidth\":0,\"ticks\":\"\"},\"colorscale\":[[0.0,\"#0d0887\"],[0.1111111111111111,\"#46039f\"],[0.2222222222222222,\"#7201a8\"],[0.3333333333333333,\"#9c179e\"],[0.4444444444444444,\"#bd3786\"],[0.5555555555555556,\"#d8576b\"],[0.6666666666666666,\"#ed7953\"],[0.7777777777777778,\"#fb9f3a\"],[0.8888888888888888,\"#fdca26\"],[1.0,\"#f0f921\"]],\"type\":\"histogram2d\"}],\"histogram2dcontour\":[{\"colorbar\":{\"outlinewidth\":0,\"ticks\":\"\"},\"colorscale\":[[0.0,\"#0d0887\"],[0.1111111111111111,\"#46039f\"],[0.2222222222222222,\"#7201a8\"],[0.3333333333333333,\"#9c179e\"],[0.4444444444444444,\"#bd3786\"],[0.5555555555555556,\"#d8576b\"],[0.6666666666666666,\"#ed7953\"],[0.7777777777777778,\"#fb9f3a\"],[0.8888888888888888,\"#fdca26\"],[1.0,\"#f0f921\"]],\"type\":\"histogram2dcontour\"}],\"mesh3d\":[{\"colorbar\":{\"outlinewidth\":0,\"ticks\":\"\"},\"type\":\"mesh3d\"}],\"parcoords\":[{\"line\":{\"colorbar\":{\"outlinewidth\":0,\"ticks\":\"\"}},\"type\":\"parcoords\"}],\"pie\":[{\"automargin\":true,\"type\":\"pie\"}],\"scatter\":[{\"marker\":{\"colorbar\":{\"outlinewidth\":0,\"ticks\":\"\"}},\"type\":\"scatter\"}],\"scatter3d\":[{\"line\":{\"colorbar\":{\"outlinewidth\":0,\"ticks\":\"\"}},\"marker\":{\"colorbar\":{\"outlinewidth\":0,\"ticks\":\"\"}},\"type\":\"scatter3d\"}],\"scattercarpet\":[{\"marker\":{\"colorbar\":{\"outlinewidth\":0,\"ticks\":\"\"}},\"type\":\"scattercarpet\"}],\"scattergeo\":[{\"marker\":{\"colorbar\":{\"outlinewidth\":0,\"ticks\":\"\"}},\"type\":\"scattergeo\"}],\"scattergl\":[{\"marker\":{\"colorbar\":{\"outlinewidth\":0,\"ticks\":\"\"}},\"type\":\"scattergl\"}],\"scattermapbox\":[{\"marker\":{\"colorbar\":{\"outlinewidth\":0,\"ticks\":\"\"}},\"type\":\"scattermapbox\"}],\"scatterpolar\":[{\"marker\":{\"colorbar\":{\"outlinewidth\":0,\"ticks\":\"\"}},\"type\":\"scatterpolar\"}],\"scatterpolargl\":[{\"marker\":{\"colorbar\":{\"outlinewidth\":0,\"ticks\":\"\"}},\"type\":\"scatterpolargl\"}],\"scatterternary\":[{\"marker\":{\"colorbar\":{\"outlinewidth\":0,\"ticks\":\"\"}},\"type\":\"scatterternary\"}],\"surface\":[{\"colorbar\":{\"outlinewidth\":0,\"ticks\":\"\"},\"colorscale\":[[0.0,\"#0d0887\"],[0.1111111111111111,\"#46039f\"],[0.2222222222222222,\"#7201a8\"],[0.3333333333333333,\"#9c179e\"],[0.4444444444444444,\"#bd3786\"],[0.5555555555555556,\"#d8576b\"],[0.6666666666666666,\"#ed7953\"],[0.7777777777777778,\"#fb9f3a\"],[0.8888888888888888,\"#fdca26\"],[1.0,\"#f0f921\"]],\"type\":\"surface\"}],\"table\":[{\"cells\":{\"fill\":{\"color\":\"#EBF0F8\"},\"line\":{\"color\":\"white\"}},\"header\":{\"fill\":{\"color\":\"#C8D4E3\"},\"line\":{\"color\":\"white\"}},\"type\":\"table\"}]},\"layout\":{\"annotationdefaults\":{\"arrowcolor\":\"#2a3f5f\",\"arrowhead\":0,\"arrowwidth\":1},\"autotypenumbers\":\"strict\",\"coloraxis\":{\"colorbar\":{\"outlinewidth\":0,\"ticks\":\"\"}},\"colorscale\":{\"diverging\":[[0,\"#8e0152\"],[0.1,\"#c51b7d\"],[0.2,\"#de77ae\"],[0.3,\"#f1b6da\"],[0.4,\"#fde0ef\"],[0.5,\"#f7f7f7\"],[0.6,\"#e6f5d0\"],[0.7,\"#b8e186\"],[0.8,\"#7fbc41\"],[0.9,\"#4d9221\"],[1,\"#276419\"]],\"sequential\":[[0.0,\"#0d0887\"],[0.1111111111111111,\"#46039f\"],[0.2222222222222222,\"#7201a8\"],[0.3333333333333333,\"#9c179e\"],[0.4444444444444444,\"#bd3786\"],[0.5555555555555556,\"#d8576b\"],[0.6666666666666666,\"#ed7953\"],[0.7777777777777778,\"#fb9f3a\"],[0.8888888888888888,\"#fdca26\"],[1.0,\"#f0f921\"]],\"sequentialminus\":[[0.0,\"#0d0887\"],[0.1111111111111111,\"#46039f\"],[0.2222222222222222,\"#7201a8\"],[0.3333333333333333,\"#9c179e\"],[0.4444444444444444,\"#bd3786\"],[0.5555555555555556,\"#d8576b\"],[0.6666666666666666,\"#ed7953\"],[0.7777777777777778,\"#fb9f3a\"],[0.8888888888888888,\"#fdca26\"],[1.0,\"#f0f921\"]]},\"colorway\":[\"#636efa\",\"#EF553B\",\"#00cc96\",\"#ab63fa\",\"#FFA15A\",\"#19d3f3\",\"#FF6692\",\"#B6E880\",\"#FF97FF\",\"#FECB52\"],\"font\":{\"color\":\"#2a3f5f\"},\"geo\":{\"bgcolor\":\"white\",\"lakecolor\":\"white\",\"landcolor\":\"#E5ECF6\",\"showlakes\":true,\"showland\":true,\"subunitcolor\":\"white\"},\"hoverlabel\":{\"align\":\"left\"},\"hovermode\":\"closest\",\"mapbox\":{\"style\":\"light\"},\"paper_bgcolor\":\"white\",\"plot_bgcolor\":\"#E5ECF6\",\"polar\":{\"angularaxis\":{\"gridcolor\":\"white\",\"linecolor\":\"white\",\"ticks\":\"\"},\"bgcolor\":\"#E5ECF6\",\"radialaxis\":{\"gridcolor\":\"white\",\"linecolor\":\"white\",\"ticks\":\"\"}},\"scene\":{\"xaxis\":{\"backgroundcolor\":\"#E5ECF6\",\"gridcolor\":\"white\",\"gridwidth\":2,\"linecolor\":\"white\",\"showbackground\":true,\"ticks\":\"\",\"zerolinecolor\":\"white\"},\"yaxis\":{\"backgroundcolor\":\"#E5ECF6\",\"gridcolor\":\"white\",\"gridwidth\":2,\"linecolor\":\"white\",\"showbackground\":true,\"ticks\":\"\",\"zerolinecolor\":\"white\"},\"zaxis\":{\"backgroundcolor\":\"#E5ECF6\",\"gridcolor\":\"white\",\"gridwidth\":2,\"linecolor\":\"white\",\"showbackground\":true,\"ticks\":\"\",\"zerolinecolor\":\"white\"}},\"shapedefaults\":{\"line\":{\"color\":\"#2a3f5f\"}},\"ternary\":{\"aaxis\":{\"gridcolor\":\"white\",\"linecolor\":\"white\",\"ticks\":\"\"},\"baxis\":{\"gridcolor\":\"white\",\"linecolor\":\"white\",\"ticks\":\"\"},\"bgcolor\":\"#E5ECF6\",\"caxis\":{\"gridcolor\":\"white\",\"linecolor\":\"white\",\"ticks\":\"\"}},\"title\":{\"x\":0.05},\"xaxis\":{\"automargin\":true,\"gridcolor\":\"white\",\"linecolor\":\"white\",\"ticks\":\"\",\"title\":{\"standoff\":15},\"zerolinecolor\":\"white\",\"zerolinewidth\":2},\"yaxis\":{\"automargin\":true,\"gridcolor\":\"white\",\"linecolor\":\"white\",\"ticks\":\"\",\"title\":{\"standoff\":15},\"zerolinecolor\":\"white\",\"zerolinewidth\":2}}},\"xaxis\":{\"anchor\":\"y\",\"domain\":[0.0,1.0],\"title\":{\"text\":\"x\"}},\"yaxis\":{\"anchor\":\"x\",\"domain\":[0.0,1.0],\"title\":{\"text\":\"count\"}},\"legend\":{\"tracegroupgap\":0},\"title\":{\"text\":\"Tweets positivos durante el tiempo\"},\"barmode\":\"relative\",\"bargap\":0.2},                        {\"responsive\": true}                    ).then(function(){\n",
              "                            \n",
              "var gd = document.getElementById('7817f48a-5631-41f2-b3c2-2c72a73321ef');\n",
              "var x = new MutationObserver(function (mutations, observer) {{\n",
              "        var display = window.getComputedStyle(gd).display;\n",
              "        if (!display || display === 'none') {{\n",
              "            console.log([gd, 'removed!']);\n",
              "            Plotly.purge(gd);\n",
              "            observer.disconnect();\n",
              "        }}\n",
              "}});\n",
              "\n",
              "// Listen for the removal of the full notebook cells\n",
              "var notebookContainer = gd.closest('#notebook-container');\n",
              "if (notebookContainer) {{\n",
              "    x.observe(notebookContainer, {childList: true});\n",
              "}}\n",
              "\n",
              "// Listen for the clearing of the current output cell\n",
              "var outputEl = gd.closest('.output');\n",
              "if (outputEl) {{\n",
              "    x.observe(outputEl, {childList: true});\n",
              "}}\n",
              "\n",
              "                        })                };                            </script>        </div>\n",
              "</body>\n",
              "</html>"
            ]
          },
          "metadata": {}
        }
      ]
    },
    {
      "cell_type": "markdown",
      "source": [
        "#Tweets Positivos durante el tiempo\n",
        "\n",
        "Podemos observar dos puntos principales \n",
        "\n",
        "1.   En el mes de Julio de 2021\n",
        "2.   En el mes de Septiembre de 2021\n",
        "\n"
      ],
      "metadata": {
        "id": "1z_3BRfOLBl7"
      }
    },
    {
      "cell_type": "code",
      "source": [
        "fig = px.histogram(dt, x=negative_tweet[\"Date\"], title=\"Tweets negativos durante el tiempo\")\n",
        "fig.update_layout(bargap=0.2)\n",
        "fig.show()"
      ],
      "metadata": {
        "colab": {
          "base_uri": "https://localhost:8080/",
          "height": 542
        },
        "id": "XydzcYFnDwCT",
        "outputId": "17b8e783-0d3c-4598-95bf-17a9de7228cb"
      },
      "execution_count": 66,
      "outputs": [
        {
          "output_type": "display_data",
          "data": {
            "text/html": [
              "<html>\n",
              "<head><meta charset=\"utf-8\" /></head>\n",
              "<body>\n",
              "    <div>            <script src=\"https://cdnjs.cloudflare.com/ajax/libs/mathjax/2.7.5/MathJax.js?config=TeX-AMS-MML_SVG\"></script><script type=\"text/javascript\">if (window.MathJax) {MathJax.Hub.Config({SVG: {font: \"STIX-Web\"}});}</script>                <script type=\"text/javascript\">window.PlotlyConfig = {MathJaxConfig: 'local'};</script>\n",
              "        <script src=\"https://cdn.plot.ly/plotly-2.8.3.min.js\"></script>                <div id=\"8de3cc0d-0180-4412-b720-259c422ca0ed\" class=\"plotly-graph-div\" style=\"height:525px; width:100%;\"></div>            <script type=\"text/javascript\">                                    window.PLOTLYENV=window.PLOTLYENV || {};                                    if (document.getElementById(\"8de3cc0d-0180-4412-b720-259c422ca0ed\")) {                    Plotly.newPlot(                        \"8de3cc0d-0180-4412-b720-259c422ca0ed\",                        [{\"alignmentgroup\":\"True\",\"bingroup\":\"x\",\"hovertemplate\":\"x=%{x}<br>count=%{y}<extra></extra>\",\"legendgroup\":\"\",\"marker\":{\"color\":\"#636efa\",\"pattern\":{\"shape\":\"\"}},\"name\":\"\",\"offsetgroup\":\"\",\"orientation\":\"v\",\"showlegend\":false,\"x\":[\"2023-02-12T14:43:05+00:00\",\"2023-02-12T05:04:54+00:00\",\"2023-02-12T00:38:17+00:00\",\"2023-02-09T14:49:30+00:00\",\"2023-02-08T13:28:18+00:00\",\"2023-02-07T22:13:59+00:00\",\"2023-02-06T23:56:45+00:00\",\"2023-02-06T22:51:04+00:00\",\"2023-01-31T03:26:52+00:00\",\"2023-01-29T21:16:12+00:00\",\"2023-01-23T02:55:23+00:00\",\"2023-01-06T05:25:43+00:00\",\"2023-01-03T20:36:13+00:00\",\"2023-01-03T18:14:25+00:00\",\"2022-12-30T18:21:48+00:00\",\"2022-12-16T22:13:45+00:00\",\"2022-12-14T00:10:36+00:00\",\"2022-12-13T13:08:38+00:00\",\"2022-12-11T04:06:06+00:00\",\"2022-12-01T23:52:51+00:00\",\"2022-11-24T00:22:41+00:00\",\"2022-11-20T18:47:33+00:00\",\"2022-11-20T18:27:24+00:00\",\"2022-11-19T13:05:52+00:00\",\"2022-11-17T16:29:51+00:00\",\"2022-11-14T00:37:45+00:00\",\"2022-11-13T21:33:07+00:00\",\"2022-11-10T16:06:55+00:00\",\"2022-11-03T20:05:43+00:00\",\"2022-10-29T13:30:28+00:00\",\"2022-10-27T22:57:58+00:00\",\"2022-10-21T18:23:17+00:00\",\"2022-10-16T13:55:50+00:00\",\"2022-10-15T14:39:46+00:00\",\"2022-10-14T04:23:23+00:00\",\"2022-10-06T15:41:09+00:00\",\"2022-10-04T23:10:13+00:00\",\"2022-10-04T18:16:36+00:00\",\"2022-10-03T05:31:13+00:00\",\"2022-10-01T17:23:55+00:00\",\"2022-09-30T22:06:40+00:00\",\"2022-09-30T22:06:13+00:00\",\"2022-09-30T15:58:19+00:00\",\"2022-09-30T02:09:08+00:00\",\"2022-09-30T01:11:09+00:00\",\"2022-09-29T16:04:55+00:00\",\"2022-09-29T14:50:44+00:00\",\"2022-09-28T23:05:56+00:00\",\"2022-09-28T22:54:38+00:00\",\"2022-09-28T22:48:15+00:00\",\"2022-09-28T20:57:25+00:00\",\"2022-09-28T17:18:22+00:00\",\"2022-09-28T15:06:00+00:00\",\"2022-09-28T14:56:19+00:00\",\"2022-09-26T20:08:37+00:00\",\"2022-09-26T17:26:04+00:00\",\"2022-09-25T00:05:06+00:00\",\"2022-09-22T20:52:08+00:00\",\"2022-09-20T15:17:18+00:00\",\"2022-09-19T22:25:00+00:00\",\"2022-09-19T20:08:41+00:00\",\"2022-09-19T16:43:27+00:00\",\"2022-09-12T13:51:21+00:00\",\"2022-09-09T22:26:53+00:00\",\"2022-09-04T20:57:01+00:00\",\"2022-08-31T02:12:06+00:00\",\"2022-08-30T23:51:04+00:00\",\"2022-08-28T22:39:18+00:00\",\"2022-08-26T12:19:18+00:00\",\"2022-08-22T14:34:09+00:00\",\"2022-08-22T13:50:38+00:00\",\"2022-08-21T18:14:34+00:00\",\"2022-08-21T14:37:33+00:00\",\"2022-08-21T13:54:27+00:00\",\"2022-08-20T18:18:25+00:00\",\"2022-08-19T20:10:43+00:00\",\"2022-08-14T00:55:52+00:00\",\"2022-08-13T16:32:35+00:00\",\"2022-08-10T13:33:16+00:00\",\"2022-08-07T00:00:32+00:00\",\"2022-08-02T17:09:17+00:00\",\"2022-08-01T23:23:27+00:00\",\"2022-08-01T23:02:54+00:00\",\"2022-08-01T22:59:38+00:00\",\"2022-08-01T22:36:16+00:00\",\"2022-08-01T20:00:21+00:00\",\"2022-08-01T17:09:15+00:00\",\"2022-08-01T13:00:40+00:00\",\"2022-08-01T12:31:21+00:00\",\"2022-08-01T11:51:18+00:00\",\"2022-08-01T11:16:10+00:00\",\"2022-08-01T11:15:03+00:00\",\"2022-08-01T05:42:11+00:00\",\"2022-07-28T18:44:48+00:00\",\"2022-07-27T15:05:20+00:00\",\"2022-07-27T12:44:32+00:00\",\"2022-07-26T23:51:06+00:00\",\"2022-07-26T23:12:04+00:00\",\"2022-07-26T22:45:40+00:00\",\"2022-07-25T19:49:14+00:00\",\"2022-07-25T13:48:29+00:00\",\"2022-07-19T13:51:40+00:00\",\"2022-07-19T05:44:15+00:00\",\"2022-07-13T01:02:26+00:00\",\"2022-07-02T18:55:17+00:00\",\"2022-06-25T15:14:07+00:00\",\"2022-06-19T13:30:17+00:00\",\"2022-06-19T01:30:29+00:00\",\"2022-06-19T00:06:04+00:00\",\"2022-06-18T18:44:14+00:00\",\"2022-06-18T18:30:17+00:00\",\"2022-06-18T06:06:31+00:00\",\"2022-06-13T11:42:47+00:00\",\"2022-06-12T11:30:15+00:00\",\"2022-06-04T02:16:32+00:00\",\"2022-05-24T12:35:08+00:00\",\"2022-05-17T00:27:48+00:00\",\"2022-05-16T19:30:17+00:00\",\"2022-05-11T11:31:21+00:00\",\"2022-05-04T23:44:16+00:00\",\"2022-04-26T21:04:14+00:00\",\"2022-04-19T17:30:20+00:00\",\"2022-04-08T16:18:21+00:00\",\"2022-04-03T00:12:16+00:00\",\"2022-03-24T02:48:34+00:00\",\"2022-03-23T17:27:29+00:00\",\"2022-03-17T00:38:58+00:00\",\"2022-03-16T17:54:28+00:00\",\"2022-03-16T01:13:46+00:00\",\"2022-03-10T15:47:08+00:00\",\"2022-03-07T18:58:52+00:00\",\"2022-03-07T03:59:02+00:00\",\"2022-03-07T00:45:14+00:00\",\"2022-03-01T23:33:39+00:00\",\"2022-02-20T16:01:48+00:00\",\"2022-02-20T05:18:22+00:00\",\"2022-02-16T17:18:04+00:00\",\"2022-02-15T00:55:30+00:00\",\"2022-02-12T22:18:44+00:00\",\"2022-02-08T20:20:48+00:00\",\"2022-02-05T19:06:52+00:00\",\"2022-01-30T22:16:08+00:00\",\"2022-01-27T14:47:56+00:00\",\"2022-01-26T23:00:38+00:00\",\"2022-01-26T14:28:54+00:00\",\"2022-01-06T10:50:05+00:00\",\"2021-12-25T21:14:34+00:00\",\"2021-12-25T16:02:43+00:00\",\"2021-12-24T16:27:25+00:00\",\"2021-12-24T12:57:47+00:00\",\"2021-12-23T22:31:29+00:00\",\"2021-12-19T13:04:00+00:00\",\"2021-12-18T12:16:01+00:00\",\"2021-12-17T09:40:01+00:00\",\"2021-12-15T14:47:26+00:00\",\"2021-12-13T00:00:32+00:00\",\"2021-12-10T10:51:06+00:00\",\"2021-12-08T20:27:38+00:00\",\"2021-12-08T00:12:19+00:00\",\"2021-11-22T14:31:19+00:00\",\"2021-11-18T08:47:08+00:00\",\"2021-11-18T00:16:12+00:00\",\"2021-11-17T21:47:25+00:00\",\"2021-11-15T17:49:05+00:00\",\"2021-11-14T01:49:31+00:00\",\"2021-11-11T20:54:48+00:00\",\"2021-11-11T20:01:04+00:00\",\"2021-11-11T15:53:12+00:00\",\"2021-11-11T15:01:09+00:00\",\"2021-11-11T10:24:41+00:00\",\"2021-11-10T11:48:47+00:00\",\"2021-11-07T00:01:13+00:00\",\"2021-11-02T20:48:27+00:00\",\"2021-11-02T16:53:35+00:00\",\"2021-11-02T15:58:42+00:00\",\"2021-11-02T00:42:12+00:00\",\"2021-10-30T21:45:27+00:00\",\"2021-10-27T14:22:55+00:00\",\"2021-10-23T20:41:40+00:00\",\"2021-10-23T19:54:35+00:00\",\"2021-10-21T23:12:32+00:00\",\"2021-10-21T18:22:35+00:00\",\"2021-10-21T18:00:00+00:00\",\"2021-10-21T15:08:32+00:00\",\"2021-10-21T14:28:55+00:00\",\"2021-10-14T15:53:57+00:00\",\"2021-10-11T23:16:34+00:00\",\"2021-09-28T01:34:02+00:00\",\"2021-09-27T15:10:48+00:00\",\"2021-09-18T01:39:12+00:00\",\"2021-09-18T01:00:01+00:00\",\"2021-09-17T23:10:57+00:00\",\"2021-09-17T21:02:28+00:00\",\"2021-09-17T16:24:50+00:00\",\"2021-09-16T03:31:39+00:00\",\"2021-09-15T19:29:43+00:00\",\"2021-09-14T00:54:07+00:00\",\"2021-09-12T00:25:22+00:00\",\"2021-09-09T13:44:15+00:00\",\"2021-09-03T04:59:56+00:00\",\"2021-09-03T03:48:42+00:00\",\"2021-09-03T03:18:54+00:00\",\"2021-09-02T22:53:36+00:00\",\"2021-09-02T15:29:19+00:00\",\"2021-09-02T01:17:23+00:00\",\"2021-09-01T14:11:28+00:00\",\"2021-08-28T15:05:55+00:00\",\"2021-08-27T23:35:29+00:00\",\"2021-08-27T19:12:15+00:00\",\"2021-08-27T03:52:48+00:00\",\"2021-08-26T21:58:07+00:00\",\"2021-08-26T21:57:00+00:00\",\"2021-08-25T17:05:46+00:00\",\"2021-08-24T23:46:21+00:00\",\"2021-08-20T12:12:44+00:00\",\"2021-08-19T00:44:59+00:00\",\"2021-08-14T14:33:13+00:00\",\"2021-08-11T16:02:15+00:00\",\"2021-08-11T08:00:36+00:00\",\"2021-08-11T00:20:07+00:00\",\"2021-07-26T19:46:19+00:00\",\"2021-07-26T06:05:58+00:00\",\"2021-07-24T12:27:49+00:00\",\"2021-07-23T23:00:01+00:00\",\"2021-07-23T00:09:49+00:00\",\"2021-07-17T18:24:37+00:00\",\"2021-07-12T18:56:19+00:00\",\"2021-07-11T13:22:44+00:00\",\"2021-06-26T14:54:27+00:00\",\"2021-06-25T14:29:45+00:00\",\"2021-06-25T12:17:46+00:00\",\"2021-05-29T10:27:39+00:00\",\"2021-05-16T22:14:34+00:00\",\"2021-05-15T03:48:47+00:00\",\"2021-05-06T21:52:53+00:00\",\"2021-05-05T02:56:48+00:00\"],\"xaxis\":\"x\",\"yaxis\":\"y\",\"type\":\"histogram\"}],                        {\"template\":{\"data\":{\"bar\":[{\"error_x\":{\"color\":\"#2a3f5f\"},\"error_y\":{\"color\":\"#2a3f5f\"},\"marker\":{\"line\":{\"color\":\"#E5ECF6\",\"width\":0.5},\"pattern\":{\"fillmode\":\"overlay\",\"size\":10,\"solidity\":0.2}},\"type\":\"bar\"}],\"barpolar\":[{\"marker\":{\"line\":{\"color\":\"#E5ECF6\",\"width\":0.5},\"pattern\":{\"fillmode\":\"overlay\",\"size\":10,\"solidity\":0.2}},\"type\":\"barpolar\"}],\"carpet\":[{\"aaxis\":{\"endlinecolor\":\"#2a3f5f\",\"gridcolor\":\"white\",\"linecolor\":\"white\",\"minorgridcolor\":\"white\",\"startlinecolor\":\"#2a3f5f\"},\"baxis\":{\"endlinecolor\":\"#2a3f5f\",\"gridcolor\":\"white\",\"linecolor\":\"white\",\"minorgridcolor\":\"white\",\"startlinecolor\":\"#2a3f5f\"},\"type\":\"carpet\"}],\"choropleth\":[{\"colorbar\":{\"outlinewidth\":0,\"ticks\":\"\"},\"type\":\"choropleth\"}],\"contour\":[{\"colorbar\":{\"outlinewidth\":0,\"ticks\":\"\"},\"colorscale\":[[0.0,\"#0d0887\"],[0.1111111111111111,\"#46039f\"],[0.2222222222222222,\"#7201a8\"],[0.3333333333333333,\"#9c179e\"],[0.4444444444444444,\"#bd3786\"],[0.5555555555555556,\"#d8576b\"],[0.6666666666666666,\"#ed7953\"],[0.7777777777777778,\"#fb9f3a\"],[0.8888888888888888,\"#fdca26\"],[1.0,\"#f0f921\"]],\"type\":\"contour\"}],\"contourcarpet\":[{\"colorbar\":{\"outlinewidth\":0,\"ticks\":\"\"},\"type\":\"contourcarpet\"}],\"heatmap\":[{\"colorbar\":{\"outlinewidth\":0,\"ticks\":\"\"},\"colorscale\":[[0.0,\"#0d0887\"],[0.1111111111111111,\"#46039f\"],[0.2222222222222222,\"#7201a8\"],[0.3333333333333333,\"#9c179e\"],[0.4444444444444444,\"#bd3786\"],[0.5555555555555556,\"#d8576b\"],[0.6666666666666666,\"#ed7953\"],[0.7777777777777778,\"#fb9f3a\"],[0.8888888888888888,\"#fdca26\"],[1.0,\"#f0f921\"]],\"type\":\"heatmap\"}],\"heatmapgl\":[{\"colorbar\":{\"outlinewidth\":0,\"ticks\":\"\"},\"colorscale\":[[0.0,\"#0d0887\"],[0.1111111111111111,\"#46039f\"],[0.2222222222222222,\"#7201a8\"],[0.3333333333333333,\"#9c179e\"],[0.4444444444444444,\"#bd3786\"],[0.5555555555555556,\"#d8576b\"],[0.6666666666666666,\"#ed7953\"],[0.7777777777777778,\"#fb9f3a\"],[0.8888888888888888,\"#fdca26\"],[1.0,\"#f0f921\"]],\"type\":\"heatmapgl\"}],\"histogram\":[{\"marker\":{\"pattern\":{\"fillmode\":\"overlay\",\"size\":10,\"solidity\":0.2}},\"type\":\"histogram\"}],\"histogram2d\":[{\"colorbar\":{\"outlinewidth\":0,\"ticks\":\"\"},\"colorscale\":[[0.0,\"#0d0887\"],[0.1111111111111111,\"#46039f\"],[0.2222222222222222,\"#7201a8\"],[0.3333333333333333,\"#9c179e\"],[0.4444444444444444,\"#bd3786\"],[0.5555555555555556,\"#d8576b\"],[0.6666666666666666,\"#ed7953\"],[0.7777777777777778,\"#fb9f3a\"],[0.8888888888888888,\"#fdca26\"],[1.0,\"#f0f921\"]],\"type\":\"histogram2d\"}],\"histogram2dcontour\":[{\"colorbar\":{\"outlinewidth\":0,\"ticks\":\"\"},\"colorscale\":[[0.0,\"#0d0887\"],[0.1111111111111111,\"#46039f\"],[0.2222222222222222,\"#7201a8\"],[0.3333333333333333,\"#9c179e\"],[0.4444444444444444,\"#bd3786\"],[0.5555555555555556,\"#d8576b\"],[0.6666666666666666,\"#ed7953\"],[0.7777777777777778,\"#fb9f3a\"],[0.8888888888888888,\"#fdca26\"],[1.0,\"#f0f921\"]],\"type\":\"histogram2dcontour\"}],\"mesh3d\":[{\"colorbar\":{\"outlinewidth\":0,\"ticks\":\"\"},\"type\":\"mesh3d\"}],\"parcoords\":[{\"line\":{\"colorbar\":{\"outlinewidth\":0,\"ticks\":\"\"}},\"type\":\"parcoords\"}],\"pie\":[{\"automargin\":true,\"type\":\"pie\"}],\"scatter\":[{\"marker\":{\"colorbar\":{\"outlinewidth\":0,\"ticks\":\"\"}},\"type\":\"scatter\"}],\"scatter3d\":[{\"line\":{\"colorbar\":{\"outlinewidth\":0,\"ticks\":\"\"}},\"marker\":{\"colorbar\":{\"outlinewidth\":0,\"ticks\":\"\"}},\"type\":\"scatter3d\"}],\"scattercarpet\":[{\"marker\":{\"colorbar\":{\"outlinewidth\":0,\"ticks\":\"\"}},\"type\":\"scattercarpet\"}],\"scattergeo\":[{\"marker\":{\"colorbar\":{\"outlinewidth\":0,\"ticks\":\"\"}},\"type\":\"scattergeo\"}],\"scattergl\":[{\"marker\":{\"colorbar\":{\"outlinewidth\":0,\"ticks\":\"\"}},\"type\":\"scattergl\"}],\"scattermapbox\":[{\"marker\":{\"colorbar\":{\"outlinewidth\":0,\"ticks\":\"\"}},\"type\":\"scattermapbox\"}],\"scatterpolar\":[{\"marker\":{\"colorbar\":{\"outlinewidth\":0,\"ticks\":\"\"}},\"type\":\"scatterpolar\"}],\"scatterpolargl\":[{\"marker\":{\"colorbar\":{\"outlinewidth\":0,\"ticks\":\"\"}},\"type\":\"scatterpolargl\"}],\"scatterternary\":[{\"marker\":{\"colorbar\":{\"outlinewidth\":0,\"ticks\":\"\"}},\"type\":\"scatterternary\"}],\"surface\":[{\"colorbar\":{\"outlinewidth\":0,\"ticks\":\"\"},\"colorscale\":[[0.0,\"#0d0887\"],[0.1111111111111111,\"#46039f\"],[0.2222222222222222,\"#7201a8\"],[0.3333333333333333,\"#9c179e\"],[0.4444444444444444,\"#bd3786\"],[0.5555555555555556,\"#d8576b\"],[0.6666666666666666,\"#ed7953\"],[0.7777777777777778,\"#fb9f3a\"],[0.8888888888888888,\"#fdca26\"],[1.0,\"#f0f921\"]],\"type\":\"surface\"}],\"table\":[{\"cells\":{\"fill\":{\"color\":\"#EBF0F8\"},\"line\":{\"color\":\"white\"}},\"header\":{\"fill\":{\"color\":\"#C8D4E3\"},\"line\":{\"color\":\"white\"}},\"type\":\"table\"}]},\"layout\":{\"annotationdefaults\":{\"arrowcolor\":\"#2a3f5f\",\"arrowhead\":0,\"arrowwidth\":1},\"autotypenumbers\":\"strict\",\"coloraxis\":{\"colorbar\":{\"outlinewidth\":0,\"ticks\":\"\"}},\"colorscale\":{\"diverging\":[[0,\"#8e0152\"],[0.1,\"#c51b7d\"],[0.2,\"#de77ae\"],[0.3,\"#f1b6da\"],[0.4,\"#fde0ef\"],[0.5,\"#f7f7f7\"],[0.6,\"#e6f5d0\"],[0.7,\"#b8e186\"],[0.8,\"#7fbc41\"],[0.9,\"#4d9221\"],[1,\"#276419\"]],\"sequential\":[[0.0,\"#0d0887\"],[0.1111111111111111,\"#46039f\"],[0.2222222222222222,\"#7201a8\"],[0.3333333333333333,\"#9c179e\"],[0.4444444444444444,\"#bd3786\"],[0.5555555555555556,\"#d8576b\"],[0.6666666666666666,\"#ed7953\"],[0.7777777777777778,\"#fb9f3a\"],[0.8888888888888888,\"#fdca26\"],[1.0,\"#f0f921\"]],\"sequentialminus\":[[0.0,\"#0d0887\"],[0.1111111111111111,\"#46039f\"],[0.2222222222222222,\"#7201a8\"],[0.3333333333333333,\"#9c179e\"],[0.4444444444444444,\"#bd3786\"],[0.5555555555555556,\"#d8576b\"],[0.6666666666666666,\"#ed7953\"],[0.7777777777777778,\"#fb9f3a\"],[0.8888888888888888,\"#fdca26\"],[1.0,\"#f0f921\"]]},\"colorway\":[\"#636efa\",\"#EF553B\",\"#00cc96\",\"#ab63fa\",\"#FFA15A\",\"#19d3f3\",\"#FF6692\",\"#B6E880\",\"#FF97FF\",\"#FECB52\"],\"font\":{\"color\":\"#2a3f5f\"},\"geo\":{\"bgcolor\":\"white\",\"lakecolor\":\"white\",\"landcolor\":\"#E5ECF6\",\"showlakes\":true,\"showland\":true,\"subunitcolor\":\"white\"},\"hoverlabel\":{\"align\":\"left\"},\"hovermode\":\"closest\",\"mapbox\":{\"style\":\"light\"},\"paper_bgcolor\":\"white\",\"plot_bgcolor\":\"#E5ECF6\",\"polar\":{\"angularaxis\":{\"gridcolor\":\"white\",\"linecolor\":\"white\",\"ticks\":\"\"},\"bgcolor\":\"#E5ECF6\",\"radialaxis\":{\"gridcolor\":\"white\",\"linecolor\":\"white\",\"ticks\":\"\"}},\"scene\":{\"xaxis\":{\"backgroundcolor\":\"#E5ECF6\",\"gridcolor\":\"white\",\"gridwidth\":2,\"linecolor\":\"white\",\"showbackground\":true,\"ticks\":\"\",\"zerolinecolor\":\"white\"},\"yaxis\":{\"backgroundcolor\":\"#E5ECF6\",\"gridcolor\":\"white\",\"gridwidth\":2,\"linecolor\":\"white\",\"showbackground\":true,\"ticks\":\"\",\"zerolinecolor\":\"white\"},\"zaxis\":{\"backgroundcolor\":\"#E5ECF6\",\"gridcolor\":\"white\",\"gridwidth\":2,\"linecolor\":\"white\",\"showbackground\":true,\"ticks\":\"\",\"zerolinecolor\":\"white\"}},\"shapedefaults\":{\"line\":{\"color\":\"#2a3f5f\"}},\"ternary\":{\"aaxis\":{\"gridcolor\":\"white\",\"linecolor\":\"white\",\"ticks\":\"\"},\"baxis\":{\"gridcolor\":\"white\",\"linecolor\":\"white\",\"ticks\":\"\"},\"bgcolor\":\"#E5ECF6\",\"caxis\":{\"gridcolor\":\"white\",\"linecolor\":\"white\",\"ticks\":\"\"}},\"title\":{\"x\":0.05},\"xaxis\":{\"automargin\":true,\"gridcolor\":\"white\",\"linecolor\":\"white\",\"ticks\":\"\",\"title\":{\"standoff\":15},\"zerolinecolor\":\"white\",\"zerolinewidth\":2},\"yaxis\":{\"automargin\":true,\"gridcolor\":\"white\",\"linecolor\":\"white\",\"ticks\":\"\",\"title\":{\"standoff\":15},\"zerolinecolor\":\"white\",\"zerolinewidth\":2}}},\"xaxis\":{\"anchor\":\"y\",\"domain\":[0.0,1.0],\"title\":{\"text\":\"x\"}},\"yaxis\":{\"anchor\":\"x\",\"domain\":[0.0,1.0],\"title\":{\"text\":\"count\"}},\"legend\":{\"tracegroupgap\":0},\"title\":{\"text\":\"Tweets negativos durante el tiempo\"},\"barmode\":\"relative\",\"bargap\":0.2},                        {\"responsive\": true}                    ).then(function(){\n",
              "                            \n",
              "var gd = document.getElementById('8de3cc0d-0180-4412-b720-259c422ca0ed');\n",
              "var x = new MutationObserver(function (mutations, observer) {{\n",
              "        var display = window.getComputedStyle(gd).display;\n",
              "        if (!display || display === 'none') {{\n",
              "            console.log([gd, 'removed!']);\n",
              "            Plotly.purge(gd);\n",
              "            observer.disconnect();\n",
              "        }}\n",
              "}});\n",
              "\n",
              "// Listen for the removal of the full notebook cells\n",
              "var notebookContainer = gd.closest('#notebook-container');\n",
              "if (notebookContainer) {{\n",
              "    x.observe(notebookContainer, {childList: true});\n",
              "}}\n",
              "\n",
              "// Listen for the clearing of the current output cell\n",
              "var outputEl = gd.closest('.output');\n",
              "if (outputEl) {{\n",
              "    x.observe(outputEl, {childList: true});\n",
              "}}\n",
              "\n",
              "                        })                };                            </script>        </div>\n",
              "</body>\n",
              "</html>"
            ]
          },
          "metadata": {}
        }
      ]
    },
    {
      "cell_type": "markdown",
      "source": [
        "#Tweets Negativos durante el tiempo\n",
        "\n",
        "Podemos observar dos puntos principales \n",
        "\n",
        "1.   En el mes de Julio de 2022\n",
        "2.   En el mes de Septiembre de 2022"
      ],
      "metadata": {
        "id": "rJ5RS_cbMwPo"
      }
    }
  ]
}